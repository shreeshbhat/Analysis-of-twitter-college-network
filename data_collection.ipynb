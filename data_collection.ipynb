{
 "cells": [
  {
   "cell_type": "code",
   "execution_count": 1,
   "metadata": {
    "collapsed": false
   },
   "outputs": [],
   "source": [
    "# Imports needed for this ipython file\n",
    "\n",
    "from collections import Counter\n",
    "import ConfigParser\n",
    "import matplotlib.pyplot as plt\n",
    "import networkx as nx\n",
    "import sys\n",
    "import time\n",
    "import pickle\n",
    "from TwitterAPI import TwitterAPI\n",
    "\n",
    "%matplotlib inline"
   ]
  },
  {
   "cell_type": "code",
   "execution_count": 2,
   "metadata": {
    "collapsed": false
   },
   "outputs": [
    {
     "name": "stdout",
     "output_type": "stream",
     "text": [
      "Established Twitter connection.\n"
     ]
    }
   ],
   "source": [
    "def get_twitter(config_file):\n",
    "    \"\"\" \n",
    "    Args:\n",
    "      config_file ... A config file in ConfigParser format with Twitter credentials\n",
    "    Returns:\n",
    "      An instance of TwitterAPI.\n",
    "    \"\"\"\n",
    "    config = ConfigParser.ConfigParser()\n",
    "    config.read(config_file)\n",
    "    twitter = TwitterAPI(\n",
    "                   config.get('twitter', 'consumer_key'),\n",
    "                   config.get('twitter', 'consumer_secret'),\n",
    "                   config.get('twitter', 'access_token'),\n",
    "                   config.get('twitter', 'access_token_secret'))\n",
    "    return twitter\n",
    "\n",
    "twitter = get_twitter('twitter.cfg')\n",
    "print('Established Twitter connection.')"
   ]
  },
  {
   "cell_type": "code",
   "execution_count": 3,
   "metadata": {
    "collapsed": true
   },
   "outputs": [],
   "source": [
    "def robust_request(twitter, resource, params, max_tries=2):\n",
    "    \"\"\" If a Twitter request fails, sleep for 15 minutes.\n",
    "    Do this at most max_tries times before quitting.\n",
    "    Args:\n",
    "      twitter .... A TwitterAPI object.\n",
    "      resource ... A resource string to request.\n",
    "      params ..... A parameter dictionary for the request.\n",
    "      max_tries .. The maximum number of tries to attempt.\n",
    "    Returns:\n",
    "      A TwitterResponse object, or None if failed.\n",
    "    \"\"\"\n",
    "    for i in range(max_tries):\n",
    "        request = twitter.request(resource, params)\n",
    "        if request.status_code == 200:\n",
    "            return request\n",
    "        elif \"Not authorized\" in request.text:\n",
    "            return -1\n",
    "        elif \"page does not exist\" in request.text:\n",
    "            return -2\n",
    "        else:\n",
    "            print >> sys.stderr, 'Got error:', request.text, '\\nsleeping for 15 minutes.'\n",
    "            sys.stderr.flush()\n",
    "            time.sleep(61 * 15)"
   ]
  },
  {
   "cell_type": "code",
   "execution_count": 4,
   "metadata": {
    "collapsed": false
   },
   "outputs": [],
   "source": [
    "def get_followers(screen_name):\n",
    "    \"\"\" Return a dictionary of the users that follows this person on Twitter.\n",
    "    \n",
    "    Args:\n",
    "        screen_name: a string of a Twitter screen name\n",
    "    Returns:\n",
    "        A dictionary of dictionary, one per follower containing {index, user_info} pairs.\n",
    "    Note: Many users follow more than 200 accounts; we will return those accounts too.\n",
    "    \"\"\"\n",
    "    followers = {}\n",
    "    cursor = -1\n",
    "    key = 0\n",
    "    rate_limit = 1\n",
    "    while True:\n",
    "        if rate_limit == 15:\n",
    "            rate_limit = 1\n",
    "            print >> sys.stderr, 'Avoided rate_limit error: \\nsleeping for 15 minutes.'\n",
    "            time.sleep(61 * 15)\n",
    "        request = robust_request(twitter,'followers/list', \n",
    "                                 {'screen_name': screen_name, 'count':200, 'cursor': cursor})\n",
    "        json_response = request.json()\n",
    "        \n",
    "        # Get 200 followers from json_response\n",
    "        for follower in json_response['users']:\n",
    "                followers[follower['screen_name']] = follower\n",
    "                key = key + 1\n",
    "                \n",
    "        # If user has < 200 followers or to retrieve last 200 followers\n",
    "        if json_response[\"next_cursor\"] == 0:\n",
    "            break\n",
    "            \n",
    "        # Update cursor to get next 200 followers\n",
    "        cursor = json_response[\"next_cursor\"]\n",
    "        rate_limit = rate_limit + 1\n",
    "        print \"Collected %d followers\" % key\n",
    "    return followers"
   ]
  },
  {
   "cell_type": "code",
   "execution_count": 5,
   "metadata": {
    "collapsed": true
   },
   "outputs": [],
   "source": [
    "def get_followers_and_pickle_object(account_name):\n",
    "    \"\"\" Calls get_followers() to collect all followers of a Twitter account\n",
    "        and then saves it by pickling for future processing purposes.\n",
    "    \n",
    "    Args: A string representing the screen_name of a Twitter account,\n",
    "          whose followers we need.\n",
    "    Returns : A dictionary of { screen_name : user_info } pairs of followers,\n",
    "              where user_info is a dictionary object containing user information\n",
    "    \"\"\"\n",
    "    followers = get_followers(account_name)\n",
    "    fileObject = open(\"raw_data/\" + account_name,'wb')\n",
    "    pickle.dump(followers,fileObject)\n",
    "    fileObject.close()\n",
    "    return followers"
   ]
  },
  {
   "cell_type": "code",
   "execution_count": 6,
   "metadata": {
    "collapsed": true
   },
   "outputs": [],
   "source": [
    "def get_followers_from_pickle(account_name):\n",
    "    \"\"\" Returns all followers of a Twitter account by retrieving saved data,\n",
    "        using pickle method.\n",
    "    \n",
    "    Args: A string representing the screen_name of a Twitter account,\n",
    "          whose followers we need.\n",
    "    Returns : A dictionary of { screen_name : user_info } pairs of followers,\n",
    "              where user_info is a dictionary object containing user information\n",
    "    \"\"\"\n",
    "    fileObject = open(\"raw_data/\" + account_name,'r')\n",
    "    followers = pickle.load(fileObject)\n",
    "    fileObject.close()\n",
    "    return followers"
   ]
  },
  {
   "cell_type": "code",
   "execution_count": 61,
   "metadata": {
    "collapsed": false
   },
   "outputs": [],
   "source": [
    "# Getting iit alumni association followers and pickling them\n",
    "iit_alumni_followers = get_followers_and_pickle_object('iitalumniassn')"
   ]
  },
  {
   "cell_type": "code",
   "execution_count": 7,
   "metadata": {
    "collapsed": false
   },
   "outputs": [
    {
     "name": "stdout",
     "output_type": "stream",
     "text": [
      "Found 1861 followers for iitalumniassn\n"
     ]
    }
   ],
   "source": [
    "iit_alumni_followers = get_followers_from_pickle('iitalumniassn')\n",
    "print \"Found %d followers for iitalumniassn\" %len(iit_alumni_followers.keys())"
   ]
  },
  {
   "cell_type": "code",
   "execution_count": 6,
   "metadata": {
    "collapsed": false
   },
   "outputs": [],
   "source": [
    "# Getting iit career services followers and pickling them\n",
    "iit_career_followers = get_followers_and_pickle_object('IITCareers')"
   ]
  },
  {
   "cell_type": "code",
   "execution_count": 8,
   "metadata": {
    "collapsed": false
   },
   "outputs": [
    {
     "name": "stdout",
     "output_type": "stream",
     "text": [
      "Found 643 followers for IITCareers\n"
     ]
    }
   ],
   "source": [
    "iit_career_followers = get_followers_from_pickle('IITCareers')\n",
    "print \"Found %d followers for IITCareers\" %len(iit_career_followers.keys())"
   ]
  },
  {
   "cell_type": "code",
   "execution_count": null,
   "metadata": {
    "collapsed": false
   },
   "outputs": [],
   "source": [
    "# Getting iit main university followers and pickling them\n",
    "iit_univ_followers = get_followers_and_pickle_object('illinoistech')"
   ]
  },
  {
   "cell_type": "code",
   "execution_count": 9,
   "metadata": {
    "collapsed": false
   },
   "outputs": [
    {
     "name": "stdout",
     "output_type": "stream",
     "text": [
      "Found 5426 followers for IIT University\n"
     ]
    }
   ],
   "source": [
    "iit_univ_followers = get_followers_from_pickle('illinoistech')\n",
    "print \"Found %d followers for IIT University\" %len(iit_univ_followers.keys())"
   ]
  },
  {
   "cell_type": "code",
   "execution_count": null,
   "metadata": {
    "collapsed": true
   },
   "outputs": [],
   "source": [
    "# Getting uiuc main university followers and pickling them\n",
    "uiuc_univ_followers = get_followers_and_pickle_object('Illinois_Alma')"
   ]
  },
  {
   "cell_type": "code",
   "execution_count": 16,
   "metadata": {
    "collapsed": false
   },
   "outputs": [
    {
     "name": "stdout",
     "output_type": "stream",
     "text": [
      "Found 40017 followers for UIUC University\n"
     ]
    }
   ],
   "source": [
    "uiuc_univ_followers = get_followers_from_pickle('Illinois_Alma')\n",
    "print \"Found %d followers for UIUC University\" %len(uiuc_univ_followers.keys())"
   ]
  },
  {
   "cell_type": "code",
   "execution_count": null,
   "metadata": {
    "collapsed": false
   },
   "outputs": [],
   "source": [
    "# Getting uiuc alumni followers and pickling them\n",
    "uiuc_alumni_followers = get_followers_and_pickle_object('UIAA')"
   ]
  },
  {
   "cell_type": "code",
   "execution_count": 45,
   "metadata": {
    "collapsed": false
   },
   "outputs": [
    {
     "name": "stdout",
     "output_type": "stream",
     "text": [
      "Found 5960 followers for UIUC Alumni\n"
     ]
    }
   ],
   "source": [
    "uiuc_alumni_followers = get_followers_from_pickle('UIAA')\n",
    "print \"Found %d followers for UIUC Alumni\" %len(uiuc_alumni_followers.keys())"
   ]
  },
  {
   "cell_type": "code",
   "execution_count": null,
   "metadata": {
    "collapsed": true
   },
   "outputs": [],
   "source": []
  },
  {
   "cell_type": "code",
   "execution_count": 4,
   "metadata": {
    "collapsed": false
   },
   "outputs": [],
   "source": [
    "def get_all_screen_names(*args):\n",
    "    \"\"\" Returns union of all followers of a particular university\n",
    "    \n",
    "    Args: Variables containing followers from different accounts in dictionary format.\n",
    "    \n",
    "    Returns : A set of intersection of keys from the dictionaries passed as input.\n",
    "    \"\"\"\n",
    "    univ_followers = set()\n",
    "    for followers in args:\n",
    "        for user in followers.keys():\n",
    "            univ_followers.add(user)\n",
    "    return univ_followers"
   ]
  },
  {
   "cell_type": "code",
   "execution_count": 11,
   "metadata": {
    "collapsed": false
   },
   "outputs": [
    {
     "name": "stdout",
     "output_type": "stream",
     "text": [
      "Found 6565 unique accounts from 7930 accounts \n"
     ]
    }
   ],
   "source": [
    "iit_followers = get_all_screen_names(iit_alumni_followers,iit_career_followers,iit_univ_followers)\n",
    "print \"Found %d unique accounts from %d accounts \" %(len(iit_followers), \n",
    "            (len(iit_alumni_followers)+len(iit_career_followers)+len(iit_univ_followers)))"
   ]
  },
  {
   "cell_type": "code",
   "execution_count": 13,
   "metadata": {
    "collapsed": false
   },
   "outputs": [],
   "source": [
    "# Pickling iit_followers for future calculations.\n",
    "fileObject = open(\"processed_data/iit_followers\",'wb')\n",
    "pickle.dump(iit_followers,fileObject)\n",
    "fileObject.close()"
   ]
  },
  {
   "cell_type": "code",
   "execution_count": 5,
   "metadata": {
    "collapsed": true
   },
   "outputs": [],
   "source": [
    "# Loading iit_followers from pickle.\n",
    "fileObject = open(\"processed_data/iit_followers\",'r')\n",
    "iit_followers = pickle.load(fileObject)\n",
    "fileObject.close()"
   ]
  },
  {
   "cell_type": "code",
   "execution_count": 7,
   "metadata": {
    "collapsed": true
   },
   "outputs": [],
   "source": [
    "def get_friends(screen_name):\n",
    "    \"\"\" Return a dictionary of users that are friends of this person on Twitter.\n",
    "    \n",
    "    Args:\n",
    "        screen_name: a string of a Twitter screen name\n",
    "    Returns:\n",
    "        A dictionary of {screen_name : description} per friend of the given account.\n",
    "    \"\"\"\n",
    "    friends = {}\n",
    "    cursor = -1\n",
    "    key = 0\n",
    "    while True:\n",
    "        request = robust_request(twitter,'friends/list', \n",
    "                                 {'screen_name': screen_name, 'count':200, 'cursor': cursor})\n",
    "        \n",
    "        if request == None:\n",
    "            return 0\n",
    "        \n",
    "        if request == -1 :    # Authentication error : Can't access follower data\n",
    "            return -1\n",
    "        elif request == -2:\n",
    "            return -2\n",
    "        \n",
    "        json_response = request.json()\n",
    "        \n",
    "        # Get 200 friends from json_response\n",
    "        for friend in json_response['users']:\n",
    "                #friends.append(friend['screen_name']) -- to_remove\n",
    "                friends[friend['screen_name']] = friend['description']\n",
    "                key = key + 1\n",
    "                \n",
    "        # If user has < 200 friends or to retrieve last friends followers\n",
    "        if json_response[\"next_cursor\"] == 0:\n",
    "            break\n",
    "            \n",
    "        # Update cursor to get next 200 friends\n",
    "        cursor = json_response[\"next_cursor\"]\n",
    "        print \"Collected %d friends for %s\" % (key,screen_name)\n",
    "    print \"Returning --- %d friends for %s\" % (key,screen_name)\n",
    "    return friends"
   ]
  },
  {
   "cell_type": "code",
   "execution_count": null,
   "metadata": {
    "collapsed": false,
    "scrolled": false
   },
   "outputs": [],
   "source": [
    "friends_of_iit_followers = { x : get_friends(x) for x in iit_followers}"
   ]
  },
  {
   "cell_type": "code",
   "execution_count": 8,
   "metadata": {
    "collapsed": true
   },
   "outputs": [],
   "source": [
    "def get_friends_and_pickle_object(univ_followers, univ_name):\n",
    "    \"\"\" Calls get_friends() to collect all friends of a Twitter account\n",
    "        and then saves it by pickling.\n",
    "    \n",
    "    Args: A list of strings representing the screen_names of all followers of a university,\n",
    "          A string representing the university's name.\n",
    "          \n",
    "    Returns : A dictionary of { String , [List] } pairs,\n",
    "              where String is a university follower's screen_name\n",
    "              and List is a list of screen_names of their friends\n",
    "    \"\"\"\n",
    "    friends_of_univ_followers = {}\n",
    "    for follower in iit_followers:\n",
    "        friends = get_friends(follower)\n",
    "        friends_of_univ_followers[follower] = friends\n",
    "        fileObject = open(\"raw_data/friends_of_\" + univ_name + \"_followers\",'wb')\n",
    "        pickle.dump(friends_of_univ_followers,fileObject)\n",
    "        fileObject.close()\n",
    "    return friends_of_univ_followers"
   ]
  },
  {
   "cell_type": "code",
   "execution_count": 9,
   "metadata": {
    "collapsed": false
   },
   "outputs": [
    {
     "name": "stderr",
     "output_type": "stream",
     "text": [
      "Got error: {\"errors\":[{\"message\":\"Rate limit exceeded\",\"code\":88}]} \n",
      "sleeping for 15 minutes.\n"
     ]
    },
    {
     "name": "stdout",
     "output_type": "stream",
     "text": [
      "Collected 200 friends for mlacedog\n",
      "Collected 400 friends for mlacedog\n",
      "Returning --- 552 friends for mlacedog\n",
      "Returning --- 16 friends for GetIITJEE\n",
      "Collected 200 friends for izenku\n",
      "Collected 400 friends for izenku\n",
      "Collected 600 friends for izenku\n",
      "Collected 800 friends for izenku\n",
      "Collected 1000 friends for izenku\n",
      "Collected 1200 friends for izenku\n",
      "Returning --- 1267 friends for izenku\n",
      "Returning --- 68 friends for VHSRedbirdsGO\n",
      "Returning --- 48 friends for KaranPatel0008\n",
      "Collected 200 friends for katknight\n",
      "Collected 400 friends for katknight"
     ]
    },
    {
     "name": "stderr",
     "output_type": "stream",
     "text": [
      "Got error: {\"errors\":[{\"message\":\"Rate limit exceeded\",\"code\":88}]} \n",
      "sleeping for 15 minutes.\n"
     ]
    },
    {
     "name": "stdout",
     "output_type": "stream",
     "text": [
      "\n",
      "Collected 600 friends for katknight\n",
      "Collected 800 friends for katknight\n",
      "Returning --- 858 friends for katknight\n",
      "Collected 200 friends for sparklebliss\n",
      "Collected 400 friends for sparklebliss\n",
      "Collected 600 friends for sparklebliss\n",
      "Collected 800 friends for sparklebliss\n",
      "Collected 1000 friends for sparklebliss\n",
      "Collected 1200 friends for sparklebliss\n",
      "Collected 1400 friends for sparklebliss\n",
      "Collected 1600 friends for sparklebliss\n",
      "Returning --- 1724 friends for sparklebliss"
     ]
    },
    {
     "name": "stderr",
     "output_type": "stream",
     "text": [
      "Got error: {\"errors\":[{\"message\":\"Rate limit exceeded\",\"code\":88}]} \n",
      "sleeping for 15 minutes.\n"
     ]
    },
    {
     "name": "stdout",
     "output_type": "stream",
     "text": [
      "\n",
      "Returning --- 11 friends for IITDBGroup\n",
      "Collected 200 friends for StartupUChicago\n",
      "Returning --- 387 friends for StartupUChicago\n",
      "Collected 200 friends for Lucia_RS\n",
      "Collected 400 friends for Lucia_RS\n",
      "Returning --- 429 friends for Lucia_RS\n",
      "Collected 200 friends for Circle_West\n",
      "Collected 400 friends for Circle_West\n",
      "Collected 600 friends for Circle_West\n",
      "Collected 800 friends for Circle_West\n",
      "Collected 1000 friends for Circle_West\n",
      "Collected 1200 friends for Circle_West\n",
      "Collected 1400 friends for Circle_West"
     ]
    },
    {
     "name": "stderr",
     "output_type": "stream",
     "text": [
      "Got error: {\"errors\":[{\"message\":\"Rate limit exceeded\",\"code\":88}]} \n",
      "sleeping for 15 minutes.\n"
     ]
    },
    {
     "name": "stdout",
     "output_type": "stream",
     "text": [
      "\n",
      "Collected 1600 friends for Circle_West\n",
      "Returning --- 1680 friends for Circle_West\n",
      "Collected 200 friends for neerajpkamath\n",
      "Returning --- 306 friends for neerajpkamath\n",
      "Collected 200 friends for ChicagoBlueSky\n",
      "Collected 400 friends for ChicagoBlueSky\n",
      "Collected 600 friends for ChicagoBlueSky\n",
      "Collected 800 friends for ChicagoBlueSky\n",
      "Collected 1000 friends for ChicagoBlueSky\n",
      "Collected 1200 friends for ChicagoBlueSky\n",
      "Collected 1400 friends for ChicagoBlueSky\n",
      "Collected 1600 friends for ChicagoBlueSky\n",
      "Collected 1800 friends for ChicagoBlueSky\n",
      "Collected 2000 friends for ChicagoBlueSky\n",
      "Collected 2200 friends for ChicagoBlueSky"
     ]
    },
    {
     "name": "stderr",
     "output_type": "stream",
     "text": [
      "Got error: {\"errors\":[{\"message\":\"Rate limit exceeded\",\"code\":88}]} \n",
      "sleeping for 15 minutes.\n"
     ]
    },
    {
     "name": "stdout",
     "output_type": "stream",
     "text": [
      "\n",
      "Collected 2400 friends for ChicagoBlueSky\n",
      "Collected 2600 friends for ChicagoBlueSky\n",
      "Returning --- 2664 friends for ChicagoBlueSky\n",
      "Returning --- 73 friends for kamlesh7252\n",
      "Returning --- 11 friends for harsh_khadgawat\n",
      "Collected 200 friends for DigGraphSol\n",
      "Collected 400 friends for DigGraphSol\n",
      "Collected 600 friends for DigGraphSol\n",
      "Collected 800 friends for DigGraphSol\n",
      "Collected 1000 friends for DigGraphSol\n",
      "Collected 1200 friends for DigGraphSol\n",
      "Collected 1400 friends for DigGraphSol\n",
      "Returning --- 1537 friends for DigGraphSol\n",
      "Returning --- 1 friends for nandkri"
     ]
    },
    {
     "name": "stderr",
     "output_type": "stream",
     "text": [
      "Got error: {\"errors\":[{\"message\":\"Rate limit exceeded\",\"code\":88}]} \n",
      "sleeping for 15 minutes.\n"
     ]
    },
    {
     "name": "stdout",
     "output_type": "stream",
     "text": [
      "\n",
      "Collected 200 friends for azullah\n",
      "Returning --- 244 friends for azullah\n",
      "Returning --- 196 friends for sonrisassmiles\n",
      "Returning --- 110 friends for thineownthought\n",
      "Returning --- 3 friends for EdgardoValle1\n",
      "Collected 200 friends for RajatMa45718129\n",
      "Collected 400 friends for RajatMa45718129\n",
      "Collected 600 friends for RajatMa45718129\n",
      "Collected 800 friends for RajatMa45718129\n",
      "Collected 1000 friends for RajatMa45718129\n",
      "Returning --- 1149 friends for RajatMa45718129\n",
      "Collected 200 friends for EdUSACanada\n",
      "Collected 400 friends for EdUSACanada\n",
      "Collected 600 friends for EdUSACanada"
     ]
    },
    {
     "name": "stderr",
     "output_type": "stream",
     "text": [
      "Got error: {\"errors\":[{\"message\":\"Rate limit exceeded\",\"code\":88}]} \n",
      "sleeping for 15 minutes.\n"
     ]
    },
    {
     "name": "stdout",
     "output_type": "stream",
     "text": [
      "\n",
      "Collected 800 friends for EdUSACanada\n",
      "Collected 1000 friends for EdUSACanada\n",
      "Collected 1200 friends for EdUSACanada\n",
      "Collected 1400 friends for EdUSACanada\n",
      "Returning --- 1473 friends for EdUSACanada\n",
      "Collected 200 friends for jeremygentile\n",
      "Returning --- 336 friends for jeremygentile\n",
      "Collected 200 friends for sewing3\n",
      "Collected 400 friends for sewing3\n",
      "Collected 600 friends for sewing3\n",
      "Collected 800 friends for sewing3\n",
      "Collected 1000 friends for sewing3\n",
      "Collected 1200 friends for sewing3\n",
      "Collected 1400 friends for sewing3\n",
      "Collected 1600 friends for sewing3"
     ]
    },
    {
     "name": "stderr",
     "output_type": "stream",
     "text": [
      "Got error: {\"errors\":[{\"message\":\"Rate limit exceeded\",\"code\":88}]} \n",
      "sleeping for 15 minutes.\n"
     ]
    },
    {
     "name": "stdout",
     "output_type": "stream",
     "text": [
      "\n",
      "Collected 1800 friends for sewing3\n",
      "Returning --- 1866 friends for sewing3\n",
      "Returning --- 40 friends for DanielBekkouche\n",
      "Collected 200 friends for RAJUPVKS\n",
      "Returning --- 393 friends for RAJUPVKS\n",
      "Returning --- 28 friends for JordanW36886577\n",
      "Returning --- 135 friends for james_hilliard\n",
      "Collected 200 friends for BridgeportBA\n",
      "Collected 400 friends for BridgeportBA\n",
      "Collected 600 friends for BridgeportBA\n",
      "Returning --- 648 friends for BridgeportBA\n",
      "Collected 200 friends for goodmanbitbad\n",
      "Collected 400 friends for goodmanbitbad\n",
      "Collected 600 friends for goodmanbitbad\n",
      "Collected 800 friends for goodmanbitbad"
     ]
    },
    {
     "name": "stderr",
     "output_type": "stream",
     "text": [
      "Got error: {\"errors\":[{\"message\":\"Rate limit exceeded\",\"code\":88}]} \n",
      "sleeping for 15 minutes.\n"
     ]
    },
    {
     "name": "stdout",
     "output_type": "stream",
     "text": [
      "\n",
      "Collected 1000 friends for goodmanbitbad\n",
      "Collected 1200 friends for goodmanbitbad\n",
      "Collected 1400 friends for goodmanbitbad\n",
      "Collected 1600 friends for goodmanbitbad\n",
      "Collected 1800 friends for goodmanbitbad\n",
      "Returning --- 1971 friends for goodmanbitbad\n",
      "Collected 200 friends for HarshManiar2\n",
      "Returning --- 209 friends for HarshManiar2\n",
      "Collected 200 friends for Tripti_Says\n",
      "Collected 400 friends for Tripti_Says\n",
      "Returning --- 569 friends for Tripti_Says\n",
      "Returning --- 165 friends for burakpilavci\n",
      "Returning --- 44 friends for bahulkumar82\n",
      "Collected 200 friends for nrk8286\n",
      "Returning --- 319 friends for nrk8286"
     ]
    },
    {
     "name": "stderr",
     "output_type": "stream",
     "text": [
      "Got error: {\"errors\":[{\"message\":\"Rate limit exceeded\",\"code\":88}]} \n",
      "sleeping for 15 minutes.\n"
     ]
    },
    {
     "name": "stdout",
     "output_type": "stream",
     "text": [
      "\n",
      "Returning --- 103 friends for Miller_psych\n",
      "Returning --- 96 friends for samar_reis\n",
      "Returning --- 49 friends for CenterCourtLN\n",
      "Returning --- 68 friends for AmandusLion\n",
      "Returning --- 189 friends for MaryDjurovic\n",
      "Collected 200 friends for PaulaH7\n",
      "Collected 400 friends for PaulaH7\n",
      "Collected 600 friends for PaulaH7\n",
      "Returning --- 777 friends for PaulaH7\n",
      "Collected 200 friends for carleymarieh\n",
      "Returning --- 356 friends for carleymarieh\n",
      "Collected 200 friends for div2494\n",
      "Returning --- 386 friends for div2494\n",
      "Collected 200 friends for BUBLIVE\n",
      "Collected 400 friends for BUBLIVE"
     ]
    },
    {
     "name": "stderr",
     "output_type": "stream",
     "text": [
      "Got error: {\"errors\":[{\"message\":\"Rate limit exceeded\",\"code\":88}]} \n",
      "sleeping for 15 minutes.\n"
     ]
    },
    {
     "name": "stdout",
     "output_type": "stream",
     "text": [
      "\n",
      "Collected 600 friends for BUBLIVE\n",
      "Collected 800 friends for BUBLIVE\n",
      "Collected 1000 friends for BUBLIVE\n",
      "Collected 1200 friends for BUBLIVE\n",
      "Collected 1400 friends for BUBLIVE\n",
      "Collected 1600 friends for BUBLIVE\n",
      "Collected 1800 friends for BUBLIVE\n",
      "Collected 2000 friends for BUBLIVE\n",
      "Collected 2200 friends for BUBLIVE\n",
      "Collected 2400 friends for BUBLIVE\n",
      "Collected 2600 friends for BUBLIVE\n",
      "Collected 2800 friends for BUBLIVE\n",
      "Collected 3000 friends for BUBLIVE\n",
      "Collected 3200 friends for BUBLIVE\n",
      "Collected 3400 friends for BUBLIVE"
     ]
    },
    {
     "name": "stderr",
     "output_type": "stream",
     "text": [
      "Got error: {\"errors\":[{\"message\":\"Rate limit exceeded\",\"code\":88}]} \n",
      "sleeping for 15 minutes.\n"
     ]
    },
    {
     "name": "stdout",
     "output_type": "stream",
     "text": [
      "\n",
      "Collected 3600 friends for BUBLIVE\n",
      "Collected 3800 friends for BUBLIVE\n",
      "Collected 4000 friends for BUBLIVE\n",
      "Collected 4200 friends for BUBLIVE\n",
      "Collected 4400 friends for BUBLIVE\n",
      "Collected 4600 friends for BUBLIVE\n",
      "Collected 4800 friends for BUBLIVE\n",
      "Collected 5000 friends for BUBLIVE\n",
      "Collected 5200 friends for BUBLIVE\n",
      "Collected 5400 friends for BUBLIVE\n",
      "Collected 5600 friends for BUBLIVE\n",
      "Collected 5800 friends for BUBLIVE\n",
      "Collected 6000 friends for BUBLIVE\n",
      "Collected 6200 friends for BUBLIVE\n",
      "Collected 6400 friends for BUBLIVE"
     ]
    },
    {
     "name": "stderr",
     "output_type": "stream",
     "text": [
      "Got error: {\"errors\":[{\"message\":\"Rate limit exceeded\",\"code\":88}]} \n",
      "sleeping for 15 minutes.\n"
     ]
    },
    {
     "name": "stdout",
     "output_type": "stream",
     "text": [
      "\n",
      "Collected 6600 friends for BUBLIVE\n",
      "Collected 6800 friends for BUBLIVE\n",
      "Collected 7000 friends for BUBLIVE\n",
      "Collected 7200 friends for BUBLIVE\n",
      "Collected 7400 friends for BUBLIVE\n",
      "Collected 7600 friends for BUBLIVE\n",
      "Collected 7800 friends for BUBLIVE\n",
      "Collected 8000 friends for BUBLIVE\n",
      "Collected 8200 friends for BUBLIVE\n",
      "Collected 8400 friends for BUBLIVE\n",
      "Collected 8600 friends for BUBLIVE\n",
      "Collected 8800 friends for BUBLIVE\n",
      "Collected 9000 friends for BUBLIVE\n",
      "Collected 9200 friends for BUBLIVE\n",
      "Collected 9400 friends for BUBLIVE"
     ]
    },
    {
     "name": "stderr",
     "output_type": "stream",
     "text": [
      "Got error: {\"errors\":[{\"message\":\"Rate limit exceeded\",\"code\":88}]} \n",
      "sleeping for 15 minutes.\n"
     ]
    },
    {
     "name": "stdout",
     "output_type": "stream",
     "text": [
      "\n",
      "Collected 9600 friends for BUBLIVE\n",
      "Collected 9800 friends for BUBLIVE\n",
      "Collected 10000 friends for BUBLIVE\n",
      "Collected 10200 friends for BUBLIVE\n",
      "Collected 10400 friends for BUBLIVE\n",
      "Collected 10600 friends for BUBLIVE\n",
      "Collected 10800 friends for BUBLIVE\n",
      "Collected 11000 friends for BUBLIVE\n",
      "Collected 11200 friends for BUBLIVE\n",
      "Collected 11400 friends for BUBLIVE\n",
      "Collected 11600 friends for BUBLIVE\n",
      "Collected 11800 friends for BUBLIVE\n",
      "Collected 12000 friends for BUBLIVE\n",
      "Collected 12200 friends for BUBLIVE\n",
      "Collected 12400 friends for BUBLIVE"
     ]
    },
    {
     "name": "stderr",
     "output_type": "stream",
     "text": [
      "Got error: {\"errors\":[{\"message\":\"Rate limit exceeded\",\"code\":88}]} \n",
      "sleeping for 15 minutes.\n"
     ]
    },
    {
     "name": "stdout",
     "output_type": "stream",
     "text": [
      "\n",
      "Collected 12600 friends for BUBLIVE\n",
      "Collected 12800 friends for BUBLIVE\n",
      "Collected 13000 friends for BUBLIVE\n",
      "Collected 13200 friends for BUBLIVE\n",
      "Collected 13400 friends for BUBLIVE\n",
      "Collected 13600 friends for BUBLIVE\n",
      "Collected 13800 friends for BUBLIVE\n",
      "Collected 14000 friends for BUBLIVE\n",
      "Collected 14200 friends for BUBLIVE\n",
      "Collected 14400 friends for BUBLIVE\n",
      "Collected 14600 friends for BUBLIVE\n",
      "Collected 14800 friends for BUBLIVE\n",
      "Collected 15000 friends for BUBLIVE\n",
      "Collected 15200 friends for BUBLIVE\n",
      "Collected 15400 friends for BUBLIVE"
     ]
    },
    {
     "name": "stderr",
     "output_type": "stream",
     "text": [
      "Got error: {\"errors\":[{\"message\":\"Rate limit exceeded\",\"code\":88}]} \n",
      "sleeping for 15 minutes.\n"
     ]
    },
    {
     "name": "stdout",
     "output_type": "stream",
     "text": [
      "\n",
      "Collected 15600 friends for BUBLIVE\n",
      "Collected 15800 friends for BUBLIVE\n",
      "Collected 16000 friends for BUBLIVE\n",
      "Collected 16200 friends for BUBLIVE\n",
      "Collected 16400 friends for BUBLIVE\n",
      "Collected 16600 friends for BUBLIVE\n",
      "Collected 16800 friends for BUBLIVE\n",
      "Collected 17000 friends for BUBLIVE\n",
      "Collected 17200 friends for BUBLIVE\n",
      "Collected 17400 friends for BUBLIVE\n",
      "Collected 17600 friends for BUBLIVE\n",
      "Collected 17800 friends for BUBLIVE\n",
      "Collected 18000 friends for BUBLIVE\n",
      "Collected 18200 friends for BUBLIVE\n",
      "Collected 18400 friends for BUBLIVE"
     ]
    },
    {
     "name": "stderr",
     "output_type": "stream",
     "text": [
      "Got error: {\"errors\":[{\"message\":\"Rate limit exceeded\",\"code\":88}]} \n",
      "sleeping for 15 minutes.\n"
     ]
    },
    {
     "name": "stdout",
     "output_type": "stream",
     "text": [
      "\n",
      "Collected 18600 friends for BUBLIVE\n",
      "Collected 18800 friends for BUBLIVE\n",
      "Collected 19000 friends for BUBLIVE\n",
      "Collected 19200 friends for BUBLIVE\n",
      "Collected 19400 friends for BUBLIVE\n",
      "Collected 19600 friends for BUBLIVE\n",
      "Collected 19800 friends for BUBLIVE\n",
      "Collected 20000 friends for BUBLIVE\n",
      "Collected 20200 friends for BUBLIVE\n",
      "Collected 20400 friends for BUBLIVE\n",
      "Collected 20600 friends for BUBLIVE\n",
      "Collected 20800 friends for BUBLIVE\n",
      "Collected 21000 friends for BUBLIVE\n",
      "Collected 21200 friends for BUBLIVE\n",
      "Collected 21400 friends for BUBLIVE"
     ]
    },
    {
     "name": "stderr",
     "output_type": "stream",
     "text": [
      "Got error: {\"errors\":[{\"message\":\"Rate limit exceeded\",\"code\":88}]} \n",
      "sleeping for 15 minutes.\n"
     ]
    },
    {
     "name": "stdout",
     "output_type": "stream",
     "text": [
      "\n",
      "Collected 21600 friends for BUBLIVE\n",
      "Collected 21800 friends for BUBLIVE\n",
      "Collected 22000 friends for BUBLIVE\n",
      "Collected 22200 friends for BUBLIVE\n",
      "Collected 22400 friends for BUBLIVE\n",
      "Collected 22600 friends for BUBLIVE\n",
      "Collected 22800 friends for BUBLIVE\n",
      "Collected 23000 friends for BUBLIVE\n",
      "Collected 23200 friends for BUBLIVE\n",
      "Collected 23400 friends for BUBLIVE\n",
      "Collected 23600 friends for BUBLIVE\n",
      "Collected 23800 friends for BUBLIVE\n",
      "Collected 24000 friends for BUBLIVE\n",
      "Collected 24200 friends for BUBLIVE\n",
      "Collected 24400 friends for BUBLIVE"
     ]
    },
    {
     "name": "stderr",
     "output_type": "stream",
     "text": [
      "Got error: {\"errors\":[{\"message\":\"Rate limit exceeded\",\"code\":88}]} \n",
      "sleeping for 15 minutes.\n"
     ]
    },
    {
     "name": "stdout",
     "output_type": "stream",
     "text": [
      "\n",
      "Collected 24600 friends for BUBLIVE\n",
      "Collected 24800 friends for BUBLIVE\n",
      "Collected 25000 friends for BUBLIVE\n",
      "Collected 25200 friends for BUBLIVE\n",
      "Collected 25400 friends for BUBLIVE\n",
      "Collected 25600 friends for BUBLIVE\n",
      "Collected 25800 friends for BUBLIVE\n",
      "Collected 26000 friends for BUBLIVE\n",
      "Collected 26200 friends for BUBLIVE\n",
      "Collected 26400 friends for BUBLIVE\n",
      "Collected 26600 friends for BUBLIVE\n",
      "Collected 26800 friends for BUBLIVE\n",
      "Collected 27000 friends for BUBLIVE\n",
      "Collected 27200 friends for BUBLIVE\n",
      "Collected 27400 friends for BUBLIVE"
     ]
    },
    {
     "name": "stderr",
     "output_type": "stream",
     "text": [
      "Got error: {\"errors\":[{\"message\":\"Rate limit exceeded\",\"code\":88}]} \n",
      "sleeping for 15 minutes.\n"
     ]
    },
    {
     "name": "stdout",
     "output_type": "stream",
     "text": [
      "\n",
      "Collected 27600 friends for BUBLIVE\n",
      "Collected 27800 friends for BUBLIVE\n",
      "Collected 28000 friends for BUBLIVE\n",
      "Collected 28200 friends for BUBLIVE\n",
      "Collected 28400 friends for BUBLIVE\n",
      "Collected 28600 friends for BUBLIVE\n",
      "Collected 28800 friends for BUBLIVE\n",
      "Collected 29000 friends for BUBLIVE\n",
      "Collected 29200 friends for BUBLIVE\n",
      "Collected 29400 friends for BUBLIVE\n",
      "Collected 29600 friends for BUBLIVE\n",
      "Collected 29800 friends for BUBLIVE\n",
      "Collected 30000 friends for BUBLIVE\n",
      "Collected 30200 friends for BUBLIVE\n",
      "Collected 30400 friends for BUBLIVE"
     ]
    },
    {
     "name": "stderr",
     "output_type": "stream",
     "text": [
      "Got error: {\"errors\":[{\"message\":\"Rate limit exceeded\",\"code\":88}]} \n",
      "sleeping for 15 minutes.\n"
     ]
    },
    {
     "name": "stdout",
     "output_type": "stream",
     "text": [
      "\n",
      "Collected 30600 friends for BUBLIVE\n",
      "Collected 30800 friends for BUBLIVE\n",
      "Collected 31000 friends for BUBLIVE\n",
      "Collected 31200 friends for BUBLIVE\n",
      "Collected 31400 friends for BUBLIVE\n",
      "Collected 31600 friends for BUBLIVE\n",
      "Collected 31800 friends for BUBLIVE\n",
      "Collected 32000 friends for BUBLIVE\n",
      "Collected 32200 friends for BUBLIVE\n",
      "Collected 32400 friends for BUBLIVE\n",
      "Collected 32600 friends for BUBLIVE\n",
      "Collected 32800 friends for BUBLIVE\n",
      "Collected 33000 friends for BUBLIVE\n",
      "Collected 33200 friends for BUBLIVE\n",
      "Collected 33400 friends for BUBLIVE"
     ]
    },
    {
     "name": "stderr",
     "output_type": "stream",
     "text": [
      "Got error: {\"errors\":[{\"message\":\"Rate limit exceeded\",\"code\":88}]} \n",
      "sleeping for 15 minutes.\n"
     ]
    },
    {
     "name": "stdout",
     "output_type": "stream",
     "text": [
      "\n",
      "Collected 33600 friends for BUBLIVE\n",
      "Collected 33800 friends for BUBLIVE\n",
      "Collected 34000 friends for BUBLIVE\n",
      "Collected 34200 friends for BUBLIVE\n",
      "Collected 34400 friends for BUBLIVE\n",
      "Collected 34600 friends for BUBLIVE\n",
      "Collected 34800 friends for BUBLIVE\n",
      "Collected 35000 friends for BUBLIVE\n",
      "Collected 35200 friends for BUBLIVE\n",
      "Collected 35400 friends for BUBLIVE\n",
      "Collected 35600 friends for BUBLIVE\n",
      "Collected 35800 friends for BUBLIVE\n",
      "Collected 36000 friends for BUBLIVE\n",
      "Collected 36200 friends for BUBLIVE\n",
      "Collected 36400 friends for BUBLIVE"
     ]
    },
    {
     "name": "stderr",
     "output_type": "stream",
     "text": [
      "Got error: {\"errors\":[{\"message\":\"Rate limit exceeded\",\"code\":88}]} \n",
      "sleeping for 15 minutes.\n"
     ]
    },
    {
     "name": "stdout",
     "output_type": "stream",
     "text": [
      "\n",
      "Collected 36600 friends for BUBLIVE\n",
      "Collected 36800 friends for BUBLIVE\n",
      "Collected 37000 friends for BUBLIVE\n",
      "Collected 37200 friends for BUBLIVE\n",
      "Collected 37400 friends for BUBLIVE\n",
      "Collected 37600 friends for BUBLIVE\n",
      "Collected 37800 friends for BUBLIVE\n",
      "Collected 38000 friends for BUBLIVE\n",
      "Collected 38200 friends for BUBLIVE\n",
      "Collected 38400 friends for BUBLIVE\n",
      "Collected 38600 friends for BUBLIVE\n",
      "Collected 38800 friends for BUBLIVE\n",
      "Collected 39000 friends for BUBLIVE\n",
      "Collected 39200 friends for BUBLIVE\n",
      "Collected 39400 friends for BUBLIVE"
     ]
    },
    {
     "name": "stderr",
     "output_type": "stream",
     "text": [
      "Got error: {\"errors\":[{\"message\":\"Rate limit exceeded\",\"code\":88}]} \n",
      "sleeping for 15 minutes.\n"
     ]
    },
    {
     "name": "stdout",
     "output_type": "stream",
     "text": [
      "\n",
      "Collected 39600 friends for BUBLIVE\n",
      "Collected 39800 friends for BUBLIVE\n",
      "Collected 40000 friends for BUBLIVE\n",
      "Collected 40200 friends for BUBLIVE\n",
      "Collected 40400 friends for BUBLIVE\n",
      "Collected 40600 friends for BUBLIVE\n",
      "Collected 40800 friends for BUBLIVE\n",
      "Collected 41000 friends for BUBLIVE\n",
      "Collected 41200 friends for BUBLIVE\n",
      "Collected 41400 friends for BUBLIVE\n",
      "Collected 41600 friends for BUBLIVE\n",
      "Collected 41800 friends for BUBLIVE\n",
      "Collected 42000 friends for BUBLIVE\n",
      "Collected 42200 friends for BUBLIVE\n",
      "Collected 42400 friends for BUBLIVE"
     ]
    },
    {
     "name": "stderr",
     "output_type": "stream",
     "text": [
      "Got error: {\"errors\":[{\"message\":\"Rate limit exceeded\",\"code\":88}]} \n",
      "sleeping for 15 minutes.\n"
     ]
    },
    {
     "name": "stdout",
     "output_type": "stream",
     "text": [
      "\n",
      "Collected 42600 friends for BUBLIVE\n",
      "Collected 42800 friends for BUBLIVE\n",
      "Collected 43000 friends for BUBLIVE\n",
      "Collected 43200 friends for BUBLIVE\n",
      "Collected 43400 friends for BUBLIVE\n",
      "Collected 43600 friends for BUBLIVE\n",
      "Collected 43800 friends for BUBLIVE\n",
      "Collected 44000 friends for BUBLIVE\n",
      "Collected 44200 friends for BUBLIVE\n",
      "Collected 44400 friends for BUBLIVE\n",
      "Collected 44600 friends for BUBLIVE\n",
      "Collected 44800 friends for BUBLIVE\n",
      "Collected 45000 friends for BUBLIVE\n",
      "Collected 45200 friends for BUBLIVE\n",
      "Collected 45400 friends for BUBLIVE"
     ]
    },
    {
     "name": "stderr",
     "output_type": "stream",
     "text": [
      "Got error: {\"errors\":[{\"message\":\"Rate limit exceeded\",\"code\":88}]} \n",
      "sleeping for 15 minutes.\n"
     ]
    },
    {
     "name": "stdout",
     "output_type": "stream",
     "text": [
      "\n",
      "Collected 45600 friends for BUBLIVE\n",
      "Collected 45800 friends for BUBLIVE\n",
      "Collected 46000 friends for BUBLIVE\n",
      "Collected 46200 friends for BUBLIVE\n",
      "Collected 46400 friends for BUBLIVE\n",
      "Collected 46600 friends for BUBLIVE\n",
      "Collected 46800 friends for BUBLIVE\n",
      "Collected 47000 friends for BUBLIVE\n",
      "Collected 47200 friends for BUBLIVE\n",
      "Collected 47400 friends for BUBLIVE\n",
      "Collected 47600 friends for BUBLIVE\n",
      "Collected 47800 friends for BUBLIVE\n",
      "Collected 48000 friends for BUBLIVE\n",
      "Collected 48200 friends for BUBLIVE\n",
      "Collected 48400 friends for BUBLIVE"
     ]
    },
    {
     "name": "stderr",
     "output_type": "stream",
     "text": [
      "Got error: {\"errors\":[{\"message\":\"Rate limit exceeded\",\"code\":88}]} \n",
      "sleeping for 15 minutes.\n"
     ]
    },
    {
     "name": "stdout",
     "output_type": "stream",
     "text": [
      "\n",
      "Collected 48600 friends for BUBLIVE\n",
      "Collected 48800 friends for BUBLIVE\n",
      "Collected 49000 friends for BUBLIVE\n",
      "Collected 49200 friends for BUBLIVE\n",
      "Collected 49400 friends for BUBLIVE\n",
      "Collected 49600 friends for BUBLIVE\n",
      "Collected 49800 friends for BUBLIVE\n",
      "Collected 50000 friends for BUBLIVE\n",
      "Collected 50200 friends for BUBLIVE\n",
      "Collected 50400 friends for BUBLIVE\n",
      "Collected 50600 friends for BUBLIVE\n",
      "Collected 50800 friends for BUBLIVE\n",
      "Collected 51000 friends for BUBLIVE\n",
      "Collected 51200 friends for BUBLIVE\n",
      "Collected 51400 friends for BUBLIVE"
     ]
    },
    {
     "name": "stderr",
     "output_type": "stream",
     "text": [
      "Got error: {\"errors\":[{\"message\":\"Rate limit exceeded\",\"code\":88}]} \n",
      "sleeping for 15 minutes.\n"
     ]
    },
    {
     "name": "stdout",
     "output_type": "stream",
     "text": [
      "\n",
      "Collected 51600 friends for BUBLIVE\n",
      "Collected 51800 friends for BUBLIVE\n",
      "Collected 52000 friends for BUBLIVE\n",
      "Collected 52200 friends for BUBLIVE\n",
      "Collected 52400 friends for BUBLIVE\n",
      "Collected 52600 friends for BUBLIVE\n",
      "Collected 52800 friends for BUBLIVE\n",
      "Collected 53000 friends for BUBLIVE\n",
      "Collected 53200 friends for BUBLIVE\n",
      "Collected 53400 friends for BUBLIVE\n",
      "Collected 53600 friends for BUBLIVE\n",
      "Collected 53800 friends for BUBLIVE\n",
      "Collected 54000 friends for BUBLIVE\n",
      "Collected 54200 friends for BUBLIVE\n",
      "Collected 54400 friends for BUBLIVE"
     ]
    },
    {
     "name": "stderr",
     "output_type": "stream",
     "text": [
      "Got error: {\"errors\":[{\"message\":\"Rate limit exceeded\",\"code\":88}]} \n",
      "sleeping for 15 minutes.\n"
     ]
    },
    {
     "name": "stdout",
     "output_type": "stream",
     "text": [
      "\n",
      "Collected 54600 friends for BUBLIVE\n",
      "Collected 54800 friends for BUBLIVE\n",
      "Collected 55000 friends for BUBLIVE\n",
      "Collected 55200 friends for BUBLIVE\n",
      "Collected 55400 friends for BUBLIVE\n",
      "Collected 55600 friends for BUBLIVE\n",
      "Collected 55800 friends for BUBLIVE\n",
      "Collected 56000 friends for BUBLIVE\n",
      "Collected 56200 friends for BUBLIVE\n",
      "Collected 56400 friends for BUBLIVE\n",
      "Collected 56600 friends for BUBLIVE\n",
      "Collected 56800 friends for BUBLIVE\n",
      "Collected 57000 friends for BUBLIVE\n",
      "Collected 57200 friends for BUBLIVE\n",
      "Collected 57400 friends for BUBLIVE"
     ]
    },
    {
     "name": "stderr",
     "output_type": "stream",
     "text": [
      "Got error: {\"errors\":[{\"message\":\"Rate limit exceeded\",\"code\":88}]} \n",
      "sleeping for 15 minutes.\n"
     ]
    },
    {
     "name": "stdout",
     "output_type": "stream",
     "text": [
      "\n",
      "Collected 57600 friends for BUBLIVE\n",
      "Collected 57800 friends for BUBLIVE\n",
      "Collected 58000 friends for BUBLIVE\n",
      "Collected 58200 friends for BUBLIVE\n",
      "Collected 58400 friends for BUBLIVE\n",
      "Collected 58599 friends for BUBLIVE\n",
      "Collected 58799 friends for BUBLIVE\n",
      "Collected 58999 friends for BUBLIVE\n",
      "Collected 59199 friends for BUBLIVE\n",
      "Collected 59399 friends for BUBLIVE\n",
      "Collected 59599 friends for BUBLIVE\n",
      "Collected 59799 friends for BUBLIVE\n",
      "Collected 59999 friends for BUBLIVE\n",
      "Collected 60199 friends for BUBLIVE\n",
      "Collected 60399 friends for BUBLIVE"
     ]
    },
    {
     "name": "stderr",
     "output_type": "stream",
     "text": [
      "Got error: {\"errors\":[{\"message\":\"Rate limit exceeded\",\"code\":88}]} \n",
      "sleeping for 15 minutes.\n"
     ]
    },
    {
     "name": "stdout",
     "output_type": "stream",
     "text": [
      "\n",
      "Collected 60599 friends for BUBLIVE\n",
      "Collected 60799 friends for BUBLIVE\n",
      "Collected 60999 friends for BUBLIVE\n",
      "Collected 61199 friends for BUBLIVE\n",
      "Collected 61399 friends for BUBLIVE\n",
      "Collected 61599 friends for BUBLIVE\n",
      "Collected 61799 friends for BUBLIVE\n",
      "Collected 61999 friends for BUBLIVE\n",
      "Collected 62199 friends for BUBLIVE\n",
      "Collected 62399 friends for BUBLIVE\n",
      "Collected 62599 friends for BUBLIVE\n",
      "Collected 62799 friends for BUBLIVE\n",
      "Collected 62999 friends for BUBLIVE\n",
      "Collected 63199 friends for BUBLIVE\n",
      "Collected 63399 friends for BUBLIVE"
     ]
    },
    {
     "name": "stderr",
     "output_type": "stream",
     "text": [
      "Got error: {\"errors\":[{\"message\":\"Rate limit exceeded\",\"code\":88}]} \n",
      "sleeping for 15 minutes.\n"
     ]
    },
    {
     "name": "stdout",
     "output_type": "stream",
     "text": [
      "\n",
      "Collected 63599 friends for BUBLIVE\n",
      "Collected 63799 friends for BUBLIVE\n",
      "Collected 63999 friends for BUBLIVE\n",
      "Collected 64199 friends for BUBLIVE\n",
      "Collected 64399 friends for BUBLIVE\n",
      "Collected 64599 friends for BUBLIVE\n",
      "Collected 64799 friends for BUBLIVE\n",
      "Collected 64999 friends for BUBLIVE\n",
      "Collected 65199 friends for BUBLIVE\n",
      "Collected 65399 friends for BUBLIVE\n",
      "Collected 65599 friends for BUBLIVE\n",
      "Collected 65799 friends for BUBLIVE\n",
      "Collected 65999 friends for BUBLIVE\n",
      "Collected 66199 friends for BUBLIVE\n",
      "Collected 66399 friends for BUBLIVE"
     ]
    },
    {
     "name": "stderr",
     "output_type": "stream",
     "text": [
      "Got error: {\"errors\":[{\"message\":\"Rate limit exceeded\",\"code\":88}]} \n",
      "sleeping for 15 minutes.\n"
     ]
    },
    {
     "name": "stdout",
     "output_type": "stream",
     "text": [
      "\n",
      "Collected 66599 friends for BUBLIVE\n",
      "Collected 66799 friends for BUBLIVE\n",
      "Collected 66999 friends for BUBLIVE\n",
      "Collected 67199 friends for BUBLIVE\n",
      "Collected 67399 friends for BUBLIVE\n",
      "Collected 67599 friends for BUBLIVE\n",
      "Collected 67799 friends for BUBLIVE\n",
      "Collected 67999 friends for BUBLIVE\n",
      "Collected 68199 friends for BUBLIVE\n",
      "Collected 68399 friends for BUBLIVE\n",
      "Collected 68599 friends for BUBLIVE\n",
      "Collected 68799 friends for BUBLIVE\n",
      "Collected 68999 friends for BUBLIVE\n",
      "Collected 69199 friends for BUBLIVE\n",
      "Collected 69399 friends for BUBLIVE"
     ]
    },
    {
     "name": "stderr",
     "output_type": "stream",
     "text": [
      "Got error: {\"errors\":[{\"message\":\"Rate limit exceeded\",\"code\":88}]} \n",
      "sleeping for 15 minutes.\n"
     ]
    },
    {
     "name": "stdout",
     "output_type": "stream",
     "text": [
      "\n",
      "Collected 69599 friends for BUBLIVE\n",
      "Collected 69799 friends for BUBLIVE\n",
      "Collected 69999 friends for BUBLIVE\n",
      "Collected 70199 friends for BUBLIVE\n",
      "Collected 70399 friends for BUBLIVE\n",
      "Collected 70599 friends for BUBLIVE\n",
      "Collected 70799 friends for BUBLIVE\n",
      "Collected 70999 friends for BUBLIVE\n",
      "Collected 71199 friends for BUBLIVE\n",
      "Collected 71399 friends for BUBLIVE\n",
      "Collected 71599 friends for BUBLIVE\n",
      "Collected 71799 friends for BUBLIVE\n",
      "Collected 71999 friends for BUBLIVE\n",
      "Collected 72199 friends for BUBLIVE\n",
      "Collected 72399 friends for BUBLIVE"
     ]
    },
    {
     "name": "stderr",
     "output_type": "stream",
     "text": [
      "Got error: {\"errors\":[{\"message\":\"Rate limit exceeded\",\"code\":88}]} \n",
      "sleeping for 15 minutes.\n"
     ]
    },
    {
     "name": "stdout",
     "output_type": "stream",
     "text": [
      "\n",
      "Collected 72599 friends for BUBLIVE\n",
      "Collected 72799 friends for BUBLIVE\n",
      "Collected 72999 friends for BUBLIVE\n",
      "Collected 73199 friends for BUBLIVE\n",
      "Collected 73399 friends for BUBLIVE\n",
      "Collected 73599 friends for BUBLIVE\n",
      "Collected 73799 friends for BUBLIVE\n",
      "Collected 73999 friends for BUBLIVE\n",
      "Collected 74199 friends for BUBLIVE\n",
      "Collected 74399 friends for BUBLIVE\n",
      "Collected 74599 friends for BUBLIVE\n",
      "Collected 74799 friends for BUBLIVE\n",
      "Collected 74999 friends for BUBLIVE\n",
      "Returning --- 75159 friends for BUBLIVE\n",
      "Collected 200 friends for go_teego"
     ]
    },
    {
     "name": "stderr",
     "output_type": "stream",
     "text": [
      "Got error: {\"errors\":[{\"message\":\"Rate limit exceeded\",\"code\":88}]} \n",
      "sleeping for 15 minutes.\n"
     ]
    },
    {
     "name": "stdout",
     "output_type": "stream",
     "text": [
      "\n",
      "Collected 400 friends for go_teego\n",
      "Returning --- 529 friends for go_teego\n",
      "Returning --- 92 friends for ravikishore247\n",
      "Returning --- 133 friends for prash_morkonda\n",
      "Collected 200 friends for BaselTarabishi\n",
      "Returning --- 230 friends for BaselTarabishi\n",
      "Collected 200 friends for mikenow\n",
      "Collected 400 friends for mikenow\n",
      "Collected 600 friends for mikenow\n",
      "Collected 800 friends for mikenow\n",
      "Collected 1000 friends for mikenow\n",
      "Collected 1200 friends for mikenow\n",
      "Collected 1400 friends for mikenow\n",
      "Collected 1600 friends for mikenow\n",
      "Collected 1800 friends for mikenow"
     ]
    },
    {
     "name": "stderr",
     "output_type": "stream",
     "text": [
      "Got error: {\"errors\":[{\"message\":\"Rate limit exceeded\",\"code\":88}]} \n",
      "sleeping for 15 minutes.\n"
     ]
    },
    {
     "name": "stdout",
     "output_type": "stream",
     "text": [
      "\n",
      "Collected 2000 friends for mikenow\n",
      "Collected 2200 friends for mikenow\n",
      "Collected 2400 friends for mikenow\n",
      "Returning --- 2553 friends for mikenow\n",
      "Collected 200 friends for zahasdisciple\n",
      "Collected 400 friends for zahasdisciple\n",
      "Collected 600 friends for zahasdisciple\n",
      "Returning --- 653 friends for zahasdisciple\n",
      "Collected 200 friends for ITAbuzz\n",
      "Collected 400 friends for ITAbuzz\n",
      "Collected 600 friends for ITAbuzz\n",
      "Collected 800 friends for ITAbuzz\n",
      "Collected 1000 friends for ITAbuzz\n",
      "Collected 1200 friends for ITAbuzz\n",
      "Collected 1400 friends for ITAbuzz"
     ]
    },
    {
     "name": "stderr",
     "output_type": "stream",
     "text": [
      "Got error: {\"errors\":[{\"message\":\"Rate limit exceeded\",\"code\":88}]} \n",
      "sleeping for 15 minutes.\n"
     ]
    },
    {
     "name": "stdout",
     "output_type": "stream",
     "text": [
      "\n",
      "Collected 1600 friends for ITAbuzz\n",
      "Returning --- 1776 friends for ITAbuzz\n",
      "Returning --- 14 friends for beccabot11\n",
      "Collected 200 friends for GDFSUEZEnergy\n",
      "Collected 400 friends for GDFSUEZEnergy\n",
      "Collected 600 friends for GDFSUEZEnergy\n",
      "Collected 800 friends for GDFSUEZEnergy\n",
      "Collected 1000 friends for GDFSUEZEnergy\n",
      "Collected 1200 friends for GDFSUEZEnergy\n",
      "Collected 1400 friends for GDFSUEZEnergy\n",
      "Collected 1600 friends for GDFSUEZEnergy\n",
      "Collected 1800 friends for GDFSUEZEnergy\n",
      "Collected 2000 friends for GDFSUEZEnergy\n",
      "Collected 2200 friends for GDFSUEZEnergy\n",
      "Collected 2400 friends for GDFSUEZEnergy"
     ]
    },
    {
     "name": "stderr",
     "output_type": "stream",
     "text": [
      "Got error: {\"errors\":[{\"message\":\"Rate limit exceeded\",\"code\":88}]} \n",
      "sleeping for 15 minutes.\n"
     ]
    },
    {
     "name": "stdout",
     "output_type": "stream",
     "text": [
      "\n",
      "Collected 2600 friends for GDFSUEZEnergy\n",
      "Collected 2800 friends for GDFSUEZEnergy\n",
      "Collected 3000 friends for GDFSUEZEnergy\n",
      "Collected 3200 friends for GDFSUEZEnergy\n",
      "Collected 3400 friends for GDFSUEZEnergy"
     ]
    },
    {
     "name": "stderr",
     "output_type": "stream",
     "text": [
      "WARNING:root:<class 'requests.exceptions.ConnectionError'> HTTPSConnectionPool(host='api.twitter.com', port=443): Read timed out.\n"
     ]
    },
    {
     "name": "stdout",
     "output_type": "stream",
     "text": [
      "\n"
     ]
    },
    {
     "ename": "TwitterConnectionError",
     "evalue": "HTTPSConnectionPool(host='api.twitter.com', port=443): Read timed out.",
     "output_type": "error",
     "traceback": [
      "\u001b[1;31m---------------------------------------------------------------------------\u001b[0m",
      "\u001b[1;31mTwitterConnectionError\u001b[0m                    Traceback (most recent call last)",
      "\u001b[1;32m<ipython-input-9-c87292dd9c06>\u001b[0m in \u001b[0;36m<module>\u001b[1;34m()\u001b[0m\n\u001b[1;32m----> 1\u001b[1;33m \u001b[0mget_friends_and_pickle_object\u001b[0m\u001b[1;33m(\u001b[0m\u001b[0miit_followers\u001b[0m\u001b[1;33m,\u001b[0m\u001b[1;34m\"iit\"\u001b[0m\u001b[1;33m)\u001b[0m\u001b[1;33m\u001b[0m\u001b[0m\n\u001b[0m",
      "\u001b[1;32m<ipython-input-8-3f2a0a3ce614>\u001b[0m in \u001b[0;36mget_friends_and_pickle_object\u001b[1;34m(univ_followers, univ_name)\u001b[0m\n\u001b[0;32m     12\u001b[0m     \u001b[0mfriends_of_univ_followers\u001b[0m \u001b[1;33m=\u001b[0m \u001b[1;33m{\u001b[0m\u001b[1;33m}\u001b[0m\u001b[1;33m\u001b[0m\u001b[0m\n\u001b[0;32m     13\u001b[0m     \u001b[1;32mfor\u001b[0m \u001b[0mfollower\u001b[0m \u001b[1;32min\u001b[0m \u001b[0miit_followers\u001b[0m\u001b[1;33m:\u001b[0m\u001b[1;33m\u001b[0m\u001b[0m\n\u001b[1;32m---> 14\u001b[1;33m         \u001b[0mfriends\u001b[0m \u001b[1;33m=\u001b[0m \u001b[0mget_friends\u001b[0m\u001b[1;33m(\u001b[0m\u001b[0mfollower\u001b[0m\u001b[1;33m)\u001b[0m\u001b[1;33m\u001b[0m\u001b[0m\n\u001b[0m\u001b[0;32m     15\u001b[0m         \u001b[0mfriends_of_univ_followers\u001b[0m\u001b[1;33m[\u001b[0m\u001b[0mfollower\u001b[0m\u001b[1;33m]\u001b[0m \u001b[1;33m=\u001b[0m \u001b[0mfriends\u001b[0m\u001b[1;33m\u001b[0m\u001b[0m\n\u001b[0;32m     16\u001b[0m         \u001b[0mfileObject\u001b[0m \u001b[1;33m=\u001b[0m \u001b[0mopen\u001b[0m\u001b[1;33m(\u001b[0m\u001b[1;34m\"raw_data/friends_of_\"\u001b[0m \u001b[1;33m+\u001b[0m \u001b[0muniv_name\u001b[0m \u001b[1;33m+\u001b[0m \u001b[1;34m\"_followers\"\u001b[0m\u001b[1;33m,\u001b[0m\u001b[1;34m'wb'\u001b[0m\u001b[1;33m)\u001b[0m\u001b[1;33m\u001b[0m\u001b[0m\n",
      "\u001b[1;32m<ipython-input-7-c23ac8a5ac7e>\u001b[0m in \u001b[0;36mget_friends\u001b[1;34m(screen_name)\u001b[0m\n\u001b[0;32m     12\u001b[0m     \u001b[1;32mwhile\u001b[0m \u001b[0mTrue\u001b[0m\u001b[1;33m:\u001b[0m\u001b[1;33m\u001b[0m\u001b[0m\n\u001b[0;32m     13\u001b[0m         request = robust_request(twitter,'friends/list', \n\u001b[1;32m---> 14\u001b[1;33m                                  {'screen_name': screen_name, 'count':200, 'cursor': cursor})\n\u001b[0m\u001b[0;32m     15\u001b[0m \u001b[1;33m\u001b[0m\u001b[0m\n\u001b[0;32m     16\u001b[0m         \u001b[1;32mif\u001b[0m \u001b[0mrequest\u001b[0m \u001b[1;33m==\u001b[0m \u001b[0mNone\u001b[0m\u001b[1;33m:\u001b[0m\u001b[1;33m\u001b[0m\u001b[0m\n",
      "\u001b[1;32m<ipython-input-3-98f146c9dcaf>\u001b[0m in \u001b[0;36mrobust_request\u001b[1;34m(twitter, resource, params, max_tries)\u001b[0m\n\u001b[0;32m     11\u001b[0m     \"\"\"\n\u001b[0;32m     12\u001b[0m     \u001b[1;32mfor\u001b[0m \u001b[0mi\u001b[0m \u001b[1;32min\u001b[0m \u001b[0mrange\u001b[0m\u001b[1;33m(\u001b[0m\u001b[0mmax_tries\u001b[0m\u001b[1;33m)\u001b[0m\u001b[1;33m:\u001b[0m\u001b[1;33m\u001b[0m\u001b[0m\n\u001b[1;32m---> 13\u001b[1;33m         \u001b[0mrequest\u001b[0m \u001b[1;33m=\u001b[0m \u001b[0mtwitter\u001b[0m\u001b[1;33m.\u001b[0m\u001b[0mrequest\u001b[0m\u001b[1;33m(\u001b[0m\u001b[0mresource\u001b[0m\u001b[1;33m,\u001b[0m \u001b[0mparams\u001b[0m\u001b[1;33m)\u001b[0m\u001b[1;33m\u001b[0m\u001b[0m\n\u001b[0m\u001b[0;32m     14\u001b[0m         \u001b[1;32mif\u001b[0m \u001b[0mrequest\u001b[0m\u001b[1;33m.\u001b[0m\u001b[0mstatus_code\u001b[0m \u001b[1;33m==\u001b[0m \u001b[1;36m200\u001b[0m\u001b[1;33m:\u001b[0m\u001b[1;33m\u001b[0m\u001b[0m\n\u001b[0;32m     15\u001b[0m             \u001b[1;32mreturn\u001b[0m \u001b[0mrequest\u001b[0m\u001b[1;33m\u001b[0m\u001b[0m\n",
      "\u001b[1;32mC:\\Anaconda\\lib\\site-packages\\TwitterAPI\\TwitterAPI.pyc\u001b[0m in \u001b[0;36mrequest\u001b[1;34m(self, resource, params, files)\u001b[0m\n\u001b[0;32m    122\u001b[0m         except (ConnectionError, ProtocolError, ReadTimeout, ReadTimeoutError, \n\u001b[0;32m    123\u001b[0m                 SSLError, ssl.SSLError, socket.error) as e:\n\u001b[1;32m--> 124\u001b[1;33m             \u001b[1;32mraise\u001b[0m \u001b[0mTwitterConnectionError\u001b[0m\u001b[1;33m(\u001b[0m\u001b[0me\u001b[0m\u001b[1;33m)\u001b[0m\u001b[1;33m\u001b[0m\u001b[0m\n\u001b[0m\u001b[0;32m    125\u001b[0m         \u001b[1;32mreturn\u001b[0m \u001b[0mTwitterResponse\u001b[0m\u001b[1;33m(\u001b[0m\u001b[0mr\u001b[0m\u001b[1;33m,\u001b[0m \u001b[0msession\u001b[0m\u001b[1;33m.\u001b[0m\u001b[0mstream\u001b[0m\u001b[1;33m)\u001b[0m\u001b[1;33m\u001b[0m\u001b[0m\n\u001b[0;32m    126\u001b[0m \u001b[1;33m\u001b[0m\u001b[0m\n",
      "\u001b[1;31mTwitterConnectionError\u001b[0m: HTTPSConnectionPool(host='api.twitter.com', port=443): Read timed out."
     ]
    }
   ],
   "source": [
    "get_friends_and_pickle_object(iit_followers,\"iit_2\")"
   ]
  },
  {
   "cell_type": "code",
   "execution_count": 10,
   "metadata": {
    "collapsed": false
   },
   "outputs": [
    {
     "name": "stdout",
     "output_type": "stream",
     "text": [
      "59\n"
     ]
    }
   ],
   "source": [
    "for idx, follower in enumerate(iit_followers):\n",
    "    if follower == \"beccabot11\":\n",
    "        print idx"
   ]
  },
  {
   "cell_type": "code",
   "execution_count": 19,
   "metadata": {
    "collapsed": false
   },
   "outputs": [],
   "source": [
    "iit_followers_2 =  list(iit_followers)[60:]"
   ]
  },
  {
   "cell_type": "code",
   "execution_count": null,
   "metadata": {
    "collapsed": false
   },
   "outputs": [],
   "source": [
    "get_friends_and_pickle_object(iit_followers_2,\"iit_2\")"
   ]
  },
  {
   "cell_type": "code",
   "execution_count": 14,
   "metadata": {
    "collapsed": true
   },
   "outputs": [],
   "source": [
    "fileObject = open(\"raw_data/friends_of_iit_followers\",'r')\n",
    "pickled_iit_followers = pickle.load(fileObject)\n",
    "fileObject.close()"
   ]
  },
  {
   "cell_type": "code",
   "execution_count": 20,
   "metadata": {
    "collapsed": false
   },
   "outputs": [
    {
     "name": "stdout",
     "output_type": "stream",
     "text": [
      "6565\n"
     ]
    }
   ],
   "source": [
    "print len(pickled_iit_followers) + len(iit_followers_2)"
   ]
  },
  {
   "cell_type": "code",
   "execution_count": 21,
   "metadata": {
    "collapsed": false
   },
   "outputs": [
    {
     "name": "stdout",
     "output_type": "stream",
     "text": [
      "6565\n"
     ]
    }
   ],
   "source": [
    "print len(iit_followers)"
   ]
  },
  {
   "cell_type": "code",
   "execution_count": null,
   "metadata": {
    "collapsed": true
   },
   "outputs": [],
   "source": []
  }
 ],
 "metadata": {
  "kernelspec": {
   "display_name": "Python 2",
   "language": "python",
   "name": "python2"
  },
  "language_info": {
   "codemirror_mode": {
    "name": "ipython",
    "version": 2
   },
   "file_extension": ".py",
   "mimetype": "text/x-python",
   "name": "python",
   "nbconvert_exporter": "python",
   "pygments_lexer": "ipython2",
   "version": "2.7.10"
  }
 },
 "nbformat": 4,
 "nbformat_minor": 0
}
