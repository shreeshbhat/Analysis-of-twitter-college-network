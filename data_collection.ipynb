{
 "cells": [
  {
   "cell_type": "code",
   "execution_count": 1,
   "metadata": {
    "collapsed": false
   },
   "outputs": [],
   "source": [
    "# Imports needed for this ipython file\n",
    "\n",
    "from collections import Counter\n",
    "import ConfigParser\n",
    "import matplotlib.pyplot as plt\n",
    "import networkx as nx\n",
    "import sys\n",
    "import time\n",
    "import pickle\n",
    "from TwitterAPI import TwitterAPI\n",
    "\n",
    "%matplotlib inline"
   ]
  },
  {
   "cell_type": "code",
   "execution_count": 2,
   "metadata": {
    "collapsed": false
   },
   "outputs": [
    {
     "name": "stdout",
     "output_type": "stream",
     "text": [
      "Established Twitter connection.\n"
     ]
    }
   ],
   "source": [
    "def get_twitter(config_file):\n",
    "    \"\"\" \n",
    "    Args:\n",
    "      config_file ... A config file in ConfigParser format with Twitter credentials\n",
    "    Returns:\n",
    "      An instance of TwitterAPI.\n",
    "    \"\"\"\n",
    "    config = ConfigParser.ConfigParser()\n",
    "    config.read(config_file)\n",
    "    twitter = TwitterAPI(\n",
    "                   config.get('twitter', 'consumer_key'),\n",
    "                   config.get('twitter', 'consumer_secret'),\n",
    "                   config.get('twitter', 'access_token'),\n",
    "                   config.get('twitter', 'access_token_secret'))\n",
    "    return twitter\n",
    "\n",
    "twitter = get_twitter('twitter.cfg')\n",
    "print('Established Twitter connection.')"
   ]
  },
  {
   "cell_type": "code",
   "execution_count": 3,
   "metadata": {
    "collapsed": true
   },
   "outputs": [],
   "source": [
    "def robust_request(twitter, resource, params, max_tries=2):\n",
    "    \"\"\" If a Twitter request fails, sleep for 15 minutes.\n",
    "    Do this at most max_tries times before quitting.\n",
    "    Args:\n",
    "      twitter .... A TwitterAPI object.\n",
    "      resource ... A resource string to request.\n",
    "      params ..... A parameter dictionary for the request.\n",
    "      max_tries .. The maximum number of tries to attempt.\n",
    "    Returns:\n",
    "      A TwitterResponse object, or None if failed.\n",
    "    \"\"\"\n",
    "    for i in range(max_tries):\n",
    "        request = twitter.request(resource, params)\n",
    "        if request.status_code == 200:\n",
    "            return request\n",
    "        elif \"Not authorized\" in request.text:\n",
    "            return -1\n",
    "        elif \"page does not exist\" in request.text:\n",
    "            return -2\n",
    "        else:\n",
    "            print >> sys.stderr, 'Got error:', request.text, '\\nsleeping for 15 minutes.'\n",
    "            sys.stderr.flush()\n",
    "            time.sleep(61 * 15)"
   ]
  },
  {
   "cell_type": "code",
   "execution_count": 4,
   "metadata": {
    "collapsed": false
   },
   "outputs": [],
   "source": [
    "def get_followers(screen_name):\n",
    "    \"\"\" Return a dictionary of the users that follows this person on Twitter.\n",
    "    \n",
    "    Args:\n",
    "        screen_name: a string of a Twitter screen name\n",
    "    Returns:\n",
    "        A dictionary of dictionary, one per follower containing {index, user_info} pairs.\n",
    "    Note: Many users follow more than 200 accounts; we will return those accounts too.\n",
    "    \"\"\"\n",
    "    followers = {}\n",
    "    cursor = -1\n",
    "    key = 0\n",
    "    rate_limit = 1\n",
    "    while True:\n",
    "        if rate_limit == 15:\n",
    "            rate_limit = 1\n",
    "            print >> sys.stderr, 'Avoided rate_limit error: \\nsleeping for 15 minutes.'\n",
    "            time.sleep(61 * 15)\n",
    "        request = robust_request(twitter,'followers/list', \n",
    "                                 {'screen_name': screen_name, 'count':200, 'cursor': cursor})\n",
    "        json_response = request.json()\n",
    "        \n",
    "        # Get 200 followers from json_response\n",
    "        for follower in json_response['users']:\n",
    "                followers[follower['screen_name']] = follower\n",
    "                key = key + 1\n",
    "                \n",
    "        # If user has < 200 followers or to retrieve last 200 followers\n",
    "        if json_response[\"next_cursor\"] == 0:\n",
    "            break\n",
    "            \n",
    "        # Update cursor to get next 200 followers\n",
    "        cursor = json_response[\"next_cursor\"]\n",
    "        rate_limit = rate_limit + 1\n",
    "        print \"Collected %d followers\" % key\n",
    "    return followers"
   ]
  },
  {
   "cell_type": "code",
   "execution_count": 5,
   "metadata": {
    "collapsed": true
   },
   "outputs": [],
   "source": [
    "def get_followers_and_pickle_object(account_name):\n",
    "    \"\"\" Calls get_followers() to collect all followers of a Twitter account\n",
    "        and then saves it by pickling for future processing purposes.\n",
    "    \n",
    "    Args: A string representing the screen_name of a Twitter account,\n",
    "          whose followers we need.\n",
    "    Returns : A dictionary of { screen_name : user_info } pairs of followers,\n",
    "              where user_info is a dictionary object containing user information\n",
    "    \"\"\"\n",
    "    followers = get_followers(account_name)\n",
    "    fileObject = open(\"raw_data/\" + account_name,'wb')\n",
    "    pickle.dump(followers,fileObject)\n",
    "    fileObject.close()\n",
    "    return followers"
   ]
  },
  {
   "cell_type": "code",
   "execution_count": 6,
   "metadata": {
    "collapsed": true
   },
   "outputs": [],
   "source": [
    "def get_followers_from_pickle(account_name):\n",
    "    \"\"\" Returns all followers of a Twitter account by retrieving saved data,\n",
    "        using pickle method.\n",
    "    \n",
    "    Args: A string representing the screen_name of a Twitter account,\n",
    "          whose followers we need.\n",
    "    Returns : A dictionary of { screen_name : user_info } pairs of followers,\n",
    "              where user_info is a dictionary object containing user information\n",
    "    \"\"\"\n",
    "    fileObject = open(\"raw_data/\" + account_name,'r')\n",
    "    followers = pickle.load(fileObject)\n",
    "    fileObject.close()\n",
    "    return followers"
   ]
  },
  {
   "cell_type": "code",
   "execution_count": 61,
   "metadata": {
    "collapsed": false
   },
   "outputs": [],
   "source": [
    "# Getting iit alumni association followers and pickling them\n",
    "iit_alumni_followers = get_followers_and_pickle_object('iitalumniassn')"
   ]
  },
  {
   "cell_type": "code",
   "execution_count": 7,
   "metadata": {
    "collapsed": false
   },
   "outputs": [
    {
     "name": "stdout",
     "output_type": "stream",
     "text": [
      "Found 1861 followers for iitalumniassn\n"
     ]
    }
   ],
   "source": [
    "iit_alumni_followers = get_followers_from_pickle('iitalumniassn')\n",
    "print \"Found %d followers for iitalumniassn\" %len(iit_alumni_followers.keys())"
   ]
  },
  {
   "cell_type": "code",
   "execution_count": 6,
   "metadata": {
    "collapsed": false
   },
   "outputs": [],
   "source": [
    "# Getting iit career services followers and pickling them\n",
    "iit_career_followers = get_followers_and_pickle_object('IITCareers')"
   ]
  },
  {
   "cell_type": "code",
   "execution_count": 8,
   "metadata": {
    "collapsed": false
   },
   "outputs": [
    {
     "name": "stdout",
     "output_type": "stream",
     "text": [
      "Found 643 followers for IITCareers\n"
     ]
    }
   ],
   "source": [
    "iit_career_followers = get_followers_from_pickle('IITCareers')\n",
    "print \"Found %d followers for IITCareers\" %len(iit_career_followers.keys())"
   ]
  },
  {
   "cell_type": "code",
   "execution_count": null,
   "metadata": {
    "collapsed": false
   },
   "outputs": [],
   "source": [
    "# Getting iit main university followers and pickling them\n",
    "iit_univ_followers = get_followers_and_pickle_object('illinoistech')"
   ]
  },
  {
   "cell_type": "code",
   "execution_count": 9,
   "metadata": {
    "collapsed": false
   },
   "outputs": [
    {
     "name": "stdout",
     "output_type": "stream",
     "text": [
      "Found 5426 followers for IIT University\n"
     ]
    }
   ],
   "source": [
    "iit_univ_followers = get_followers_from_pickle('illinoistech')\n",
    "print \"Found %d followers for IIT University\" %len(iit_univ_followers.keys())"
   ]
  },
  {
   "cell_type": "code",
   "execution_count": null,
   "metadata": {
    "collapsed": true
   },
   "outputs": [],
   "source": [
    "# Getting uiuc main university followers and pickling them\n",
    "uiuc_univ_followers = get_followers_and_pickle_object('Illinois_Alma')"
   ]
  },
  {
   "cell_type": "code",
   "execution_count": 16,
   "metadata": {
    "collapsed": false
   },
   "outputs": [
    {
     "name": "stdout",
     "output_type": "stream",
     "text": [
      "Found 40017 followers for UIUC University\n"
     ]
    }
   ],
   "source": [
    "uiuc_univ_followers = get_followers_from_pickle('Illinois_Alma')\n",
    "print \"Found %d followers for UIUC University\" %len(uiuc_univ_followers.keys())"
   ]
  },
  {
   "cell_type": "code",
   "execution_count": null,
   "metadata": {
    "collapsed": false
   },
   "outputs": [],
   "source": [
    "# Getting uiuc alumni followers and pickling them\n",
    "uiuc_alumni_followers = get_followers_and_pickle_object('UIAA')"
   ]
  },
  {
   "cell_type": "code",
   "execution_count": 45,
   "metadata": {
    "collapsed": false
   },
   "outputs": [
    {
     "name": "stdout",
     "output_type": "stream",
     "text": [
      "Found 5960 followers for UIUC Alumni\n"
     ]
    }
   ],
   "source": [
    "uiuc_alumni_followers = get_followers_from_pickle('UIAA')\n",
    "print \"Found %d followers for UIUC Alumni\" %len(uiuc_alumni_followers.keys())"
   ]
  },
  {
   "cell_type": "code",
   "execution_count": null,
   "metadata": {
    "collapsed": true
   },
   "outputs": [],
   "source": []
  },
  {
   "cell_type": "code",
   "execution_count": 7,
   "metadata": {
    "collapsed": false
   },
   "outputs": [],
   "source": [
    "def get_all_screen_names(*args):\n",
    "    \"\"\" Returns union of all followers of a particular university\n",
    "    \n",
    "    Args: Variables containing followers from different accounts in dictionary format.\n",
    "    \n",
    "    Returns : A set of intersection of keys from the dictionaries passed as input.\n",
    "    \"\"\"\n",
    "    univ_followers = set()\n",
    "    for followers in args:\n",
    "        for user in followers.keys():\n",
    "            univ_followers.add(user)\n",
    "    return univ_followers"
   ]
  },
  {
   "cell_type": "code",
   "execution_count": 11,
   "metadata": {
    "collapsed": false
   },
   "outputs": [
    {
     "name": "stdout",
     "output_type": "stream",
     "text": [
      "Found 6565 unique accounts from 7930 accounts \n"
     ]
    }
   ],
   "source": [
    "iit_followers = get_all_screen_names(iit_alumni_followers,iit_career_followers,iit_univ_followers)\n",
    "print \"Found %d unique accounts from %d accounts \" %(len(iit_followers), \n",
    "            (len(iit_alumni_followers)+len(iit_career_followers)+len(iit_univ_followers)))"
   ]
  },
  {
   "cell_type": "code",
   "execution_count": 13,
   "metadata": {
    "collapsed": false
   },
   "outputs": [],
   "source": [
    "# Pickling iit_followers for future calculations.\n",
    "fileObject = open(\"processed_data/iit_followers\",'wb')\n",
    "pickle.dump(iit_followers,fileObject)\n",
    "fileObject.close()"
   ]
  },
  {
   "cell_type": "code",
   "execution_count": 7,
   "metadata": {
    "collapsed": true
   },
   "outputs": [],
   "source": [
    "# Loading iit_followers from pickle.\n",
    "fileObject = open(\"processed_data/iit_followers\",'r')\n",
    "iit_followers = pickle.load(fileObject)\n",
    "fileObject.close()"
   ]
  },
  {
   "cell_type": "code",
   "execution_count": 8,
   "metadata": {
    "collapsed": true
   },
   "outputs": [],
   "source": [
    "def get_friends(screen_name):\n",
    "    \"\"\" Return a dictionary of users that are friends of this person on Twitter.\n",
    "    \n",
    "    Args:\n",
    "        screen_name: a string of a Twitter screen name\n",
    "    Returns:\n",
    "        A dictionary of {screen_name : description} per friend of the given account.\n",
    "    \"\"\"\n",
    "    friends = {}\n",
    "    cursor = -1\n",
    "    key = 0\n",
    "    while True:\n",
    "        request = robust_request(twitter,'friends/list', \n",
    "                                 {'screen_name': screen_name, 'count':200, 'cursor': cursor})\n",
    "        \n",
    "        if request == None:\n",
    "            return 0\n",
    "        \n",
    "        if request == -1 :    # Authentication error : Can't access follower data\n",
    "            return -1\n",
    "        elif request == -2:\n",
    "            return -2\n",
    "        \n",
    "        json_response = request.json()\n",
    "        \n",
    "        # Get 200 friends from json_response\n",
    "        for friend in json_response['users']:\n",
    "                #friends.append(friend['screen_name']) -- to_remove\n",
    "                friends[friend['screen_name']] = friend['description']\n",
    "                key = key + 1\n",
    "                \n",
    "        # If user has < 200 friends or to retrieve last friends followers\n",
    "        if json_response[\"next_cursor\"] == 0:\n",
    "            break\n",
    "            \n",
    "        # Update cursor to get next 200 friends\n",
    "        cursor = json_response[\"next_cursor\"]\n",
    "        print \"Collected %d friends for %s\" % (key,screen_name)\n",
    "    print \"Returning --- %d friends for %s\" % (key,screen_name)\n",
    "    return friends"
   ]
  },
  {
   "cell_type": "code",
   "execution_count": null,
   "metadata": {
    "collapsed": false,
    "scrolled": false
   },
   "outputs": [],
   "source": [
    "friends_of_iit_followers = { x : get_friends(x) for x in iit_followers}"
   ]
  },
  {
   "cell_type": "code",
   "execution_count": 9,
   "metadata": {
    "collapsed": true
   },
   "outputs": [],
   "source": [
    "def get_friends_and_pickle_object(univ_followers, univ_name):\n",
    "    \"\"\" Calls get_friends() to collect all friends of a Twitter account\n",
    "        and then saves it by pickling.\n",
    "    \n",
    "    Args: A list of strings representing the screen_names of all followers of a university,\n",
    "          A string representing the university's name.\n",
    "          \n",
    "    Returns : A dictionary of { String , [List] } pairs,\n",
    "              where String is a university follower's screen_name\n",
    "              and List is a list of screen_names of their friends\n",
    "    \"\"\"\n",
    "    friends_of_univ_followers = {}\n",
    "    for follower in iit_followers:\n",
    "        friends = get_friends(follower)\n",
    "        friends_of_univ_followers[follower] = friends\n",
    "        fileObject = open(\"raw_data/friends_of_\" + univ_name + \"_followers\",'wb')\n",
    "        pickle.dump(friends_of_univ_followers,fileObject)\n",
    "        fileObject.close()\n",
    "    return friends_of_univ_followers"
   ]
  },
  {
   "cell_type": "code",
   "execution_count": 9,
   "metadata": {
    "collapsed": false
   },
   "outputs": [
    {
     "name": "stderr",
     "output_type": "stream",
     "text": [
      "Got error: {\"errors\":[{\"message\":\"Rate limit exceeded\",\"code\":88}]} \n",
      "sleeping for 15 minutes.\n"
     ]
    },
    {
     "name": "stdout",
     "output_type": "stream",
     "text": [
      "Collected 200 friends for mlacedog\n",
      "Collected 400 friends for mlacedog\n",
      "Returning --- 552 friends for mlacedog\n",
      "Returning --- 16 friends for GetIITJEE\n",
      "Collected 200 friends for izenku\n",
      "Collected 400 friends for izenku\n",
      "Collected 600 friends for izenku\n",
      "Collected 800 friends for izenku\n",
      "Collected 1000 friends for izenku\n",
      "Collected 1200 friends for izenku\n",
      "Returning --- 1267 friends for izenku\n",
      "Returning --- 68 friends for VHSRedbirdsGO\n",
      "Returning --- 48 friends for KaranPatel0008\n",
      "Collected 200 friends for katknight\n",
      "Collected 400 friends for katknight"
     ]
    },
    {
     "name": "stderr",
     "output_type": "stream",
     "text": [
      "Got error: {\"errors\":[{\"message\":\"Rate limit exceeded\",\"code\":88}]} \n",
      "sleeping for 15 minutes.\n"
     ]
    },
    {
     "name": "stdout",
     "output_type": "stream",
     "text": [
      "\n",
      "Collected 600 friends for katknight\n",
      "Collected 800 friends for katknight\n",
      "Returning --- 858 friends for katknight\n",
      "Collected 200 friends for sparklebliss\n",
      "Collected 400 friends for sparklebliss\n",
      "Collected 600 friends for sparklebliss\n",
      "Collected 800 friends for sparklebliss\n",
      "Collected 1000 friends for sparklebliss\n",
      "Collected 1200 friends for sparklebliss\n",
      "Collected 1400 friends for sparklebliss\n",
      "Collected 1600 friends for sparklebliss\n",
      "Returning --- 1724 friends for sparklebliss"
     ]
    },
    {
     "name": "stderr",
     "output_type": "stream",
     "text": [
      "Got error: {\"errors\":[{\"message\":\"Rate limit exceeded\",\"code\":88}]} \n",
      "sleeping for 15 minutes.\n"
     ]
    },
    {
     "name": "stdout",
     "output_type": "stream",
     "text": [
      "\n",
      "Returning --- 11 friends for IITDBGroup\n",
      "Collected 200 friends for StartupUChicago\n",
      "Returning --- 387 friends for StartupUChicago\n",
      "Collected 200 friends for Lucia_RS\n",
      "Collected 400 friends for Lucia_RS\n",
      "Returning --- 429 friends for Lucia_RS\n",
      "Collected 200 friends for Circle_West\n",
      "Collected 400 friends for Circle_West\n",
      "Collected 600 friends for Circle_West\n",
      "Collected 800 friends for Circle_West\n",
      "Collected 1000 friends for Circle_West\n",
      "Collected 1200 friends for Circle_West\n",
      "Collected 1400 friends for Circle_West"
     ]
    },
    {
     "name": "stderr",
     "output_type": "stream",
     "text": [
      "Got error: {\"errors\":[{\"message\":\"Rate limit exceeded\",\"code\":88}]} \n",
      "sleeping for 15 minutes.\n"
     ]
    },
    {
     "name": "stdout",
     "output_type": "stream",
     "text": [
      "\n",
      "Collected 1600 friends for Circle_West\n",
      "Returning --- 1680 friends for Circle_West\n",
      "Collected 200 friends for neerajpkamath\n",
      "Returning --- 306 friends for neerajpkamath\n",
      "Collected 200 friends for ChicagoBlueSky\n",
      "Collected 400 friends for ChicagoBlueSky\n",
      "Collected 600 friends for ChicagoBlueSky\n",
      "Collected 800 friends for ChicagoBlueSky\n",
      "Collected 1000 friends for ChicagoBlueSky\n",
      "Collected 1200 friends for ChicagoBlueSky\n",
      "Collected 1400 friends for ChicagoBlueSky\n",
      "Collected 1600 friends for ChicagoBlueSky\n",
      "Collected 1800 friends for ChicagoBlueSky\n",
      "Collected 2000 friends for ChicagoBlueSky\n",
      "Collected 2200 friends for ChicagoBlueSky"
     ]
    },
    {
     "name": "stderr",
     "output_type": "stream",
     "text": [
      "Got error: {\"errors\":[{\"message\":\"Rate limit exceeded\",\"code\":88}]} \n",
      "sleeping for 15 minutes.\n"
     ]
    },
    {
     "name": "stdout",
     "output_type": "stream",
     "text": [
      "\n",
      "Collected 2400 friends for ChicagoBlueSky\n",
      "Collected 2600 friends for ChicagoBlueSky\n",
      "Returning --- 2664 friends for ChicagoBlueSky\n",
      "Returning --- 73 friends for kamlesh7252\n",
      "Returning --- 11 friends for harsh_khadgawat\n",
      "Collected 200 friends for DigGraphSol\n",
      "Collected 400 friends for DigGraphSol\n",
      "Collected 600 friends for DigGraphSol\n",
      "Collected 800 friends for DigGraphSol\n",
      "Collected 1000 friends for DigGraphSol\n",
      "Collected 1200 friends for DigGraphSol\n",
      "Collected 1400 friends for DigGraphSol\n",
      "Returning --- 1537 friends for DigGraphSol\n",
      "Returning --- 1 friends for nandkri"
     ]
    },
    {
     "name": "stderr",
     "output_type": "stream",
     "text": [
      "Got error: {\"errors\":[{\"message\":\"Rate limit exceeded\",\"code\":88}]} \n",
      "sleeping for 15 minutes.\n"
     ]
    },
    {
     "name": "stdout",
     "output_type": "stream",
     "text": [
      "\n",
      "Collected 200 friends for azullah\n",
      "Returning --- 244 friends for azullah\n",
      "Returning --- 196 friends for sonrisassmiles\n",
      "Returning --- 110 friends for thineownthought\n",
      "Returning --- 3 friends for EdgardoValle1\n",
      "Collected 200 friends for RajatMa45718129\n",
      "Collected 400 friends for RajatMa45718129\n",
      "Collected 600 friends for RajatMa45718129\n",
      "Collected 800 friends for RajatMa45718129\n",
      "Collected 1000 friends for RajatMa45718129\n",
      "Returning --- 1149 friends for RajatMa45718129\n",
      "Collected 200 friends for EdUSACanada\n",
      "Collected 400 friends for EdUSACanada\n",
      "Collected 600 friends for EdUSACanada"
     ]
    },
    {
     "name": "stderr",
     "output_type": "stream",
     "text": [
      "Got error: {\"errors\":[{\"message\":\"Rate limit exceeded\",\"code\":88}]} \n",
      "sleeping for 15 minutes.\n"
     ]
    },
    {
     "name": "stdout",
     "output_type": "stream",
     "text": [
      "\n",
      "Collected 800 friends for EdUSACanada\n",
      "Collected 1000 friends for EdUSACanada\n",
      "Collected 1200 friends for EdUSACanada\n",
      "Collected 1400 friends for EdUSACanada\n",
      "Returning --- 1473 friends for EdUSACanada\n",
      "Collected 200 friends for jeremygentile\n",
      "Returning --- 336 friends for jeremygentile\n",
      "Collected 200 friends for sewing3\n",
      "Collected 400 friends for sewing3\n",
      "Collected 600 friends for sewing3\n",
      "Collected 800 friends for sewing3\n",
      "Collected 1000 friends for sewing3\n",
      "Collected 1200 friends for sewing3\n",
      "Collected 1400 friends for sewing3\n",
      "Collected 1600 friends for sewing3"
     ]
    },
    {
     "name": "stderr",
     "output_type": "stream",
     "text": [
      "Got error: {\"errors\":[{\"message\":\"Rate limit exceeded\",\"code\":88}]} \n",
      "sleeping for 15 minutes.\n"
     ]
    },
    {
     "name": "stdout",
     "output_type": "stream",
     "text": [
      "\n",
      "Collected 1800 friends for sewing3\n",
      "Returning --- 1866 friends for sewing3\n",
      "Returning --- 40 friends for DanielBekkouche\n",
      "Collected 200 friends for RAJUPVKS\n",
      "Returning --- 393 friends for RAJUPVKS\n",
      "Returning --- 28 friends for JordanW36886577\n",
      "Returning --- 135 friends for james_hilliard\n",
      "Collected 200 friends for BridgeportBA\n",
      "Collected 400 friends for BridgeportBA\n",
      "Collected 600 friends for BridgeportBA\n",
      "Returning --- 648 friends for BridgeportBA\n",
      "Collected 200 friends for goodmanbitbad\n",
      "Collected 400 friends for goodmanbitbad\n",
      "Collected 600 friends for goodmanbitbad\n",
      "Collected 800 friends for goodmanbitbad"
     ]
    },
    {
     "name": "stderr",
     "output_type": "stream",
     "text": [
      "Got error: {\"errors\":[{\"message\":\"Rate limit exceeded\",\"code\":88}]} \n",
      "sleeping for 15 minutes.\n"
     ]
    },
    {
     "name": "stdout",
     "output_type": "stream",
     "text": [
      "\n",
      "Collected 1000 friends for goodmanbitbad\n",
      "Collected 1200 friends for goodmanbitbad\n",
      "Collected 1400 friends for goodmanbitbad\n",
      "Collected 1600 friends for goodmanbitbad\n",
      "Collected 1800 friends for goodmanbitbad\n",
      "Returning --- 1971 friends for goodmanbitbad\n",
      "Collected 200 friends for HarshManiar2\n",
      "Returning --- 209 friends for HarshManiar2\n",
      "Collected 200 friends for Tripti_Says\n",
      "Collected 400 friends for Tripti_Says\n",
      "Returning --- 569 friends for Tripti_Says\n",
      "Returning --- 165 friends for burakpilavci\n",
      "Returning --- 44 friends for bahulkumar82\n",
      "Collected 200 friends for nrk8286\n",
      "Returning --- 319 friends for nrk8286"
     ]
    },
    {
     "name": "stderr",
     "output_type": "stream",
     "text": [
      "Got error: {\"errors\":[{\"message\":\"Rate limit exceeded\",\"code\":88}]} \n",
      "sleeping for 15 minutes.\n"
     ]
    },
    {
     "name": "stdout",
     "output_type": "stream",
     "text": [
      "\n",
      "Returning --- 103 friends for Miller_psych\n",
      "Returning --- 96 friends for samar_reis\n",
      "Returning --- 49 friends for CenterCourtLN\n",
      "Returning --- 68 friends for AmandusLion\n",
      "Returning --- 189 friends for MaryDjurovic\n",
      "Collected 200 friends for PaulaH7\n",
      "Collected 400 friends for PaulaH7\n",
      "Collected 600 friends for PaulaH7\n",
      "Returning --- 777 friends for PaulaH7\n",
      "Collected 200 friends for carleymarieh\n",
      "Returning --- 356 friends for carleymarieh\n",
      "Collected 200 friends for div2494\n",
      "Returning --- 386 friends for div2494\n",
      "Collected 200 friends for BUBLIVE\n",
      "Collected 400 friends for BUBLIVE"
     ]
    },
    {
     "name": "stderr",
     "output_type": "stream",
     "text": [
      "Got error: {\"errors\":[{\"message\":\"Rate limit exceeded\",\"code\":88}]} \n",
      "sleeping for 15 minutes.\n"
     ]
    },
    {
     "name": "stdout",
     "output_type": "stream",
     "text": [
      "\n",
      "Collected 600 friends for BUBLIVE\n",
      "Collected 800 friends for BUBLIVE\n",
      "Collected 1000 friends for BUBLIVE\n",
      "Collected 1200 friends for BUBLIVE\n",
      "Collected 1400 friends for BUBLIVE\n",
      "Collected 1600 friends for BUBLIVE\n",
      "Collected 1800 friends for BUBLIVE\n",
      "Collected 2000 friends for BUBLIVE\n",
      "Collected 2200 friends for BUBLIVE\n",
      "Collected 2400 friends for BUBLIVE\n",
      "Collected 2600 friends for BUBLIVE\n",
      "Collected 2800 friends for BUBLIVE\n",
      "Collected 3000 friends for BUBLIVE\n",
      "Collected 3200 friends for BUBLIVE\n",
      "Collected 3400 friends for BUBLIVE"
     ]
    },
    {
     "name": "stderr",
     "output_type": "stream",
     "text": [
      "Got error: {\"errors\":[{\"message\":\"Rate limit exceeded\",\"code\":88}]} \n",
      "sleeping for 15 minutes.\n"
     ]
    },
    {
     "name": "stdout",
     "output_type": "stream",
     "text": [
      "\n",
      "Collected 3600 friends for BUBLIVE\n",
      "Collected 3800 friends for BUBLIVE\n",
      "Collected 4000 friends for BUBLIVE\n",
      "Collected 4200 friends for BUBLIVE\n",
      "Collected 4400 friends for BUBLIVE\n",
      "Collected 4600 friends for BUBLIVE\n",
      "Collected 4800 friends for BUBLIVE\n",
      "Collected 5000 friends for BUBLIVE\n",
      "Collected 5200 friends for BUBLIVE\n",
      "Collected 5400 friends for BUBLIVE\n",
      "Collected 5600 friends for BUBLIVE\n",
      "Collected 5800 friends for BUBLIVE\n",
      "Collected 6000 friends for BUBLIVE\n",
      "Collected 6200 friends for BUBLIVE\n",
      "Collected 6400 friends for BUBLIVE"
     ]
    },
    {
     "name": "stderr",
     "output_type": "stream",
     "text": [
      "Got error: {\"errors\":[{\"message\":\"Rate limit exceeded\",\"code\":88}]} \n",
      "sleeping for 15 minutes.\n"
     ]
    },
    {
     "name": "stdout",
     "output_type": "stream",
     "text": [
      "\n",
      "Collected 6600 friends for BUBLIVE\n",
      "Collected 6800 friends for BUBLIVE\n",
      "Collected 7000 friends for BUBLIVE\n",
      "Collected 7200 friends for BUBLIVE\n",
      "Collected 7400 friends for BUBLIVE\n",
      "Collected 7600 friends for BUBLIVE\n",
      "Collected 7800 friends for BUBLIVE\n",
      "Collected 8000 friends for BUBLIVE\n",
      "Collected 8200 friends for BUBLIVE\n",
      "Collected 8400 friends for BUBLIVE\n",
      "Collected 8600 friends for BUBLIVE\n",
      "Collected 8800 friends for BUBLIVE\n",
      "Collected 9000 friends for BUBLIVE\n",
      "Collected 9200 friends for BUBLIVE\n",
      "Collected 9400 friends for BUBLIVE"
     ]
    },
    {
     "name": "stderr",
     "output_type": "stream",
     "text": [
      "Got error: {\"errors\":[{\"message\":\"Rate limit exceeded\",\"code\":88}]} \n",
      "sleeping for 15 minutes.\n"
     ]
    },
    {
     "name": "stdout",
     "output_type": "stream",
     "text": [
      "\n",
      "Collected 9600 friends for BUBLIVE\n",
      "Collected 9800 friends for BUBLIVE\n",
      "Collected 10000 friends for BUBLIVE\n",
      "Collected 10200 friends for BUBLIVE\n",
      "Collected 10400 friends for BUBLIVE\n",
      "Collected 10600 friends for BUBLIVE\n",
      "Collected 10800 friends for BUBLIVE\n",
      "Collected 11000 friends for BUBLIVE\n",
      "Collected 11200 friends for BUBLIVE\n",
      "Collected 11400 friends for BUBLIVE\n",
      "Collected 11600 friends for BUBLIVE\n",
      "Collected 11800 friends for BUBLIVE\n",
      "Collected 12000 friends for BUBLIVE\n",
      "Collected 12200 friends for BUBLIVE\n",
      "Collected 12400 friends for BUBLIVE"
     ]
    },
    {
     "name": "stderr",
     "output_type": "stream",
     "text": [
      "Got error: {\"errors\":[{\"message\":\"Rate limit exceeded\",\"code\":88}]} \n",
      "sleeping for 15 minutes.\n"
     ]
    },
    {
     "name": "stdout",
     "output_type": "stream",
     "text": [
      "\n",
      "Collected 12600 friends for BUBLIVE\n",
      "Collected 12800 friends for BUBLIVE\n",
      "Collected 13000 friends for BUBLIVE\n",
      "Collected 13200 friends for BUBLIVE\n",
      "Collected 13400 friends for BUBLIVE\n",
      "Collected 13600 friends for BUBLIVE\n",
      "Collected 13800 friends for BUBLIVE\n",
      "Collected 14000 friends for BUBLIVE\n",
      "Collected 14200 friends for BUBLIVE\n",
      "Collected 14400 friends for BUBLIVE\n",
      "Collected 14600 friends for BUBLIVE\n",
      "Collected 14800 friends for BUBLIVE\n",
      "Collected 15000 friends for BUBLIVE\n",
      "Collected 15200 friends for BUBLIVE\n",
      "Collected 15400 friends for BUBLIVE"
     ]
    },
    {
     "name": "stderr",
     "output_type": "stream",
     "text": [
      "Got error: {\"errors\":[{\"message\":\"Rate limit exceeded\",\"code\":88}]} \n",
      "sleeping for 15 minutes.\n"
     ]
    },
    {
     "name": "stdout",
     "output_type": "stream",
     "text": [
      "\n",
      "Collected 15600 friends for BUBLIVE\n",
      "Collected 15800 friends for BUBLIVE\n",
      "Collected 16000 friends for BUBLIVE\n",
      "Collected 16200 friends for BUBLIVE\n",
      "Collected 16400 friends for BUBLIVE\n",
      "Collected 16600 friends for BUBLIVE\n",
      "Collected 16800 friends for BUBLIVE\n",
      "Collected 17000 friends for BUBLIVE\n",
      "Collected 17200 friends for BUBLIVE\n",
      "Collected 17400 friends for BUBLIVE\n",
      "Collected 17600 friends for BUBLIVE\n",
      "Collected 17800 friends for BUBLIVE\n",
      "Collected 18000 friends for BUBLIVE\n",
      "Collected 18200 friends for BUBLIVE\n",
      "Collected 18400 friends for BUBLIVE"
     ]
    },
    {
     "name": "stderr",
     "output_type": "stream",
     "text": [
      "Got error: {\"errors\":[{\"message\":\"Rate limit exceeded\",\"code\":88}]} \n",
      "sleeping for 15 minutes.\n"
     ]
    },
    {
     "name": "stdout",
     "output_type": "stream",
     "text": [
      "\n",
      "Collected 18600 friends for BUBLIVE\n",
      "Collected 18800 friends for BUBLIVE\n",
      "Collected 19000 friends for BUBLIVE\n",
      "Collected 19200 friends for BUBLIVE\n",
      "Collected 19400 friends for BUBLIVE\n",
      "Collected 19600 friends for BUBLIVE\n",
      "Collected 19800 friends for BUBLIVE\n",
      "Collected 20000 friends for BUBLIVE\n",
      "Collected 20200 friends for BUBLIVE\n",
      "Collected 20400 friends for BUBLIVE\n",
      "Collected 20600 friends for BUBLIVE\n",
      "Collected 20800 friends for BUBLIVE\n",
      "Collected 21000 friends for BUBLIVE\n",
      "Collected 21200 friends for BUBLIVE\n",
      "Collected 21400 friends for BUBLIVE"
     ]
    },
    {
     "name": "stderr",
     "output_type": "stream",
     "text": [
      "Got error: {\"errors\":[{\"message\":\"Rate limit exceeded\",\"code\":88}]} \n",
      "sleeping for 15 minutes.\n"
     ]
    },
    {
     "name": "stdout",
     "output_type": "stream",
     "text": [
      "\n",
      "Collected 21600 friends for BUBLIVE\n",
      "Collected 21800 friends for BUBLIVE\n",
      "Collected 22000 friends for BUBLIVE\n",
      "Collected 22200 friends for BUBLIVE\n",
      "Collected 22400 friends for BUBLIVE\n",
      "Collected 22600 friends for BUBLIVE\n",
      "Collected 22800 friends for BUBLIVE\n",
      "Collected 23000 friends for BUBLIVE\n",
      "Collected 23200 friends for BUBLIVE\n",
      "Collected 23400 friends for BUBLIVE\n",
      "Collected 23600 friends for BUBLIVE\n",
      "Collected 23800 friends for BUBLIVE\n",
      "Collected 24000 friends for BUBLIVE\n",
      "Collected 24200 friends for BUBLIVE\n",
      "Collected 24400 friends for BUBLIVE"
     ]
    },
    {
     "name": "stderr",
     "output_type": "stream",
     "text": [
      "Got error: {\"errors\":[{\"message\":\"Rate limit exceeded\",\"code\":88}]} \n",
      "sleeping for 15 minutes.\n"
     ]
    },
    {
     "name": "stdout",
     "output_type": "stream",
     "text": [
      "\n",
      "Collected 24600 friends for BUBLIVE\n",
      "Collected 24800 friends for BUBLIVE\n",
      "Collected 25000 friends for BUBLIVE\n",
      "Collected 25200 friends for BUBLIVE\n",
      "Collected 25400 friends for BUBLIVE\n",
      "Collected 25600 friends for BUBLIVE\n",
      "Collected 25800 friends for BUBLIVE\n",
      "Collected 26000 friends for BUBLIVE\n",
      "Collected 26200 friends for BUBLIVE\n",
      "Collected 26400 friends for BUBLIVE\n",
      "Collected 26600 friends for BUBLIVE\n",
      "Collected 26800 friends for BUBLIVE\n",
      "Collected 27000 friends for BUBLIVE\n",
      "Collected 27200 friends for BUBLIVE\n",
      "Collected 27400 friends for BUBLIVE"
     ]
    },
    {
     "name": "stderr",
     "output_type": "stream",
     "text": [
      "Got error: {\"errors\":[{\"message\":\"Rate limit exceeded\",\"code\":88}]} \n",
      "sleeping for 15 minutes.\n"
     ]
    },
    {
     "name": "stdout",
     "output_type": "stream",
     "text": [
      "\n",
      "Collected 27600 friends for BUBLIVE\n",
      "Collected 27800 friends for BUBLIVE\n",
      "Collected 28000 friends for BUBLIVE\n",
      "Collected 28200 friends for BUBLIVE\n",
      "Collected 28400 friends for BUBLIVE\n",
      "Collected 28600 friends for BUBLIVE\n",
      "Collected 28800 friends for BUBLIVE\n",
      "Collected 29000 friends for BUBLIVE\n",
      "Collected 29200 friends for BUBLIVE\n",
      "Collected 29400 friends for BUBLIVE\n",
      "Collected 29600 friends for BUBLIVE\n",
      "Collected 29800 friends for BUBLIVE\n",
      "Collected 30000 friends for BUBLIVE\n",
      "Collected 30200 friends for BUBLIVE\n",
      "Collected 30400 friends for BUBLIVE"
     ]
    },
    {
     "name": "stderr",
     "output_type": "stream",
     "text": [
      "Got error: {\"errors\":[{\"message\":\"Rate limit exceeded\",\"code\":88}]} \n",
      "sleeping for 15 minutes.\n"
     ]
    },
    {
     "name": "stdout",
     "output_type": "stream",
     "text": [
      "\n",
      "Collected 30600 friends for BUBLIVE\n",
      "Collected 30800 friends for BUBLIVE\n",
      "Collected 31000 friends for BUBLIVE\n",
      "Collected 31200 friends for BUBLIVE\n",
      "Collected 31400 friends for BUBLIVE\n",
      "Collected 31600 friends for BUBLIVE\n",
      "Collected 31800 friends for BUBLIVE\n",
      "Collected 32000 friends for BUBLIVE\n",
      "Collected 32200 friends for BUBLIVE\n",
      "Collected 32400 friends for BUBLIVE\n",
      "Collected 32600 friends for BUBLIVE\n",
      "Collected 32800 friends for BUBLIVE\n",
      "Collected 33000 friends for BUBLIVE\n",
      "Collected 33200 friends for BUBLIVE\n",
      "Collected 33400 friends for BUBLIVE"
     ]
    },
    {
     "name": "stderr",
     "output_type": "stream",
     "text": [
      "Got error: {\"errors\":[{\"message\":\"Rate limit exceeded\",\"code\":88}]} \n",
      "sleeping for 15 minutes.\n"
     ]
    },
    {
     "name": "stdout",
     "output_type": "stream",
     "text": [
      "\n",
      "Collected 33600 friends for BUBLIVE\n",
      "Collected 33800 friends for BUBLIVE\n",
      "Collected 34000 friends for BUBLIVE\n",
      "Collected 34200 friends for BUBLIVE\n",
      "Collected 34400 friends for BUBLIVE\n",
      "Collected 34600 friends for BUBLIVE\n",
      "Collected 34800 friends for BUBLIVE\n",
      "Collected 35000 friends for BUBLIVE\n",
      "Collected 35200 friends for BUBLIVE\n",
      "Collected 35400 friends for BUBLIVE\n",
      "Collected 35600 friends for BUBLIVE\n",
      "Collected 35800 friends for BUBLIVE\n",
      "Collected 36000 friends for BUBLIVE\n",
      "Collected 36200 friends for BUBLIVE\n",
      "Collected 36400 friends for BUBLIVE"
     ]
    },
    {
     "name": "stderr",
     "output_type": "stream",
     "text": [
      "Got error: {\"errors\":[{\"message\":\"Rate limit exceeded\",\"code\":88}]} \n",
      "sleeping for 15 minutes.\n"
     ]
    },
    {
     "name": "stdout",
     "output_type": "stream",
     "text": [
      "\n",
      "Collected 36600 friends for BUBLIVE\n",
      "Collected 36800 friends for BUBLIVE\n",
      "Collected 37000 friends for BUBLIVE\n",
      "Collected 37200 friends for BUBLIVE\n",
      "Collected 37400 friends for BUBLIVE\n",
      "Collected 37600 friends for BUBLIVE\n",
      "Collected 37800 friends for BUBLIVE\n",
      "Collected 38000 friends for BUBLIVE\n",
      "Collected 38200 friends for BUBLIVE\n",
      "Collected 38400 friends for BUBLIVE\n",
      "Collected 38600 friends for BUBLIVE\n",
      "Collected 38800 friends for BUBLIVE\n",
      "Collected 39000 friends for BUBLIVE\n",
      "Collected 39200 friends for BUBLIVE\n",
      "Collected 39400 friends for BUBLIVE"
     ]
    },
    {
     "name": "stderr",
     "output_type": "stream",
     "text": [
      "Got error: {\"errors\":[{\"message\":\"Rate limit exceeded\",\"code\":88}]} \n",
      "sleeping for 15 minutes.\n"
     ]
    },
    {
     "name": "stdout",
     "output_type": "stream",
     "text": [
      "\n",
      "Collected 39600 friends for BUBLIVE\n",
      "Collected 39800 friends for BUBLIVE\n",
      "Collected 40000 friends for BUBLIVE\n",
      "Collected 40200 friends for BUBLIVE\n",
      "Collected 40400 friends for BUBLIVE\n",
      "Collected 40600 friends for BUBLIVE\n",
      "Collected 40800 friends for BUBLIVE\n",
      "Collected 41000 friends for BUBLIVE\n",
      "Collected 41200 friends for BUBLIVE\n",
      "Collected 41400 friends for BUBLIVE\n",
      "Collected 41600 friends for BUBLIVE\n",
      "Collected 41800 friends for BUBLIVE\n",
      "Collected 42000 friends for BUBLIVE\n",
      "Collected 42200 friends for BUBLIVE\n",
      "Collected 42400 friends for BUBLIVE"
     ]
    },
    {
     "name": "stderr",
     "output_type": "stream",
     "text": [
      "Got error: {\"errors\":[{\"message\":\"Rate limit exceeded\",\"code\":88}]} \n",
      "sleeping for 15 minutes.\n"
     ]
    },
    {
     "name": "stdout",
     "output_type": "stream",
     "text": [
      "\n",
      "Collected 42600 friends for BUBLIVE\n",
      "Collected 42800 friends for BUBLIVE\n",
      "Collected 43000 friends for BUBLIVE\n",
      "Collected 43200 friends for BUBLIVE\n",
      "Collected 43400 friends for BUBLIVE\n",
      "Collected 43600 friends for BUBLIVE\n",
      "Collected 43800 friends for BUBLIVE\n",
      "Collected 44000 friends for BUBLIVE\n",
      "Collected 44200 friends for BUBLIVE\n",
      "Collected 44400 friends for BUBLIVE\n",
      "Collected 44600 friends for BUBLIVE\n",
      "Collected 44800 friends for BUBLIVE\n",
      "Collected 45000 friends for BUBLIVE\n",
      "Collected 45200 friends for BUBLIVE\n",
      "Collected 45400 friends for BUBLIVE"
     ]
    },
    {
     "name": "stderr",
     "output_type": "stream",
     "text": [
      "Got error: {\"errors\":[{\"message\":\"Rate limit exceeded\",\"code\":88}]} \n",
      "sleeping for 15 minutes.\n"
     ]
    },
    {
     "name": "stdout",
     "output_type": "stream",
     "text": [
      "\n",
      "Collected 45600 friends for BUBLIVE\n",
      "Collected 45800 friends for BUBLIVE\n",
      "Collected 46000 friends for BUBLIVE\n",
      "Collected 46200 friends for BUBLIVE\n",
      "Collected 46400 friends for BUBLIVE\n",
      "Collected 46600 friends for BUBLIVE\n",
      "Collected 46800 friends for BUBLIVE\n",
      "Collected 47000 friends for BUBLIVE\n",
      "Collected 47200 friends for BUBLIVE\n",
      "Collected 47400 friends for BUBLIVE\n",
      "Collected 47600 friends for BUBLIVE\n",
      "Collected 47800 friends for BUBLIVE\n",
      "Collected 48000 friends for BUBLIVE\n",
      "Collected 48200 friends for BUBLIVE\n",
      "Collected 48400 friends for BUBLIVE"
     ]
    },
    {
     "name": "stderr",
     "output_type": "stream",
     "text": [
      "Got error: {\"errors\":[{\"message\":\"Rate limit exceeded\",\"code\":88}]} \n",
      "sleeping for 15 minutes.\n"
     ]
    },
    {
     "name": "stdout",
     "output_type": "stream",
     "text": [
      "\n",
      "Collected 48600 friends for BUBLIVE\n",
      "Collected 48800 friends for BUBLIVE\n",
      "Collected 49000 friends for BUBLIVE\n",
      "Collected 49200 friends for BUBLIVE\n",
      "Collected 49400 friends for BUBLIVE\n",
      "Collected 49600 friends for BUBLIVE\n",
      "Collected 49800 friends for BUBLIVE\n",
      "Collected 50000 friends for BUBLIVE\n",
      "Collected 50200 friends for BUBLIVE\n",
      "Collected 50400 friends for BUBLIVE\n",
      "Collected 50600 friends for BUBLIVE\n",
      "Collected 50800 friends for BUBLIVE\n",
      "Collected 51000 friends for BUBLIVE\n",
      "Collected 51200 friends for BUBLIVE\n",
      "Collected 51400 friends for BUBLIVE"
     ]
    },
    {
     "name": "stderr",
     "output_type": "stream",
     "text": [
      "Got error: {\"errors\":[{\"message\":\"Rate limit exceeded\",\"code\":88}]} \n",
      "sleeping for 15 minutes.\n"
     ]
    },
    {
     "name": "stdout",
     "output_type": "stream",
     "text": [
      "\n",
      "Collected 51600 friends for BUBLIVE\n",
      "Collected 51800 friends for BUBLIVE\n",
      "Collected 52000 friends for BUBLIVE\n",
      "Collected 52200 friends for BUBLIVE\n",
      "Collected 52400 friends for BUBLIVE\n",
      "Collected 52600 friends for BUBLIVE\n",
      "Collected 52800 friends for BUBLIVE\n",
      "Collected 53000 friends for BUBLIVE\n",
      "Collected 53200 friends for BUBLIVE\n",
      "Collected 53400 friends for BUBLIVE\n",
      "Collected 53600 friends for BUBLIVE\n",
      "Collected 53800 friends for BUBLIVE\n",
      "Collected 54000 friends for BUBLIVE\n",
      "Collected 54200 friends for BUBLIVE\n",
      "Collected 54400 friends for BUBLIVE"
     ]
    },
    {
     "name": "stderr",
     "output_type": "stream",
     "text": [
      "Got error: {\"errors\":[{\"message\":\"Rate limit exceeded\",\"code\":88}]} \n",
      "sleeping for 15 minutes.\n"
     ]
    },
    {
     "name": "stdout",
     "output_type": "stream",
     "text": [
      "\n",
      "Collected 54600 friends for BUBLIVE\n",
      "Collected 54800 friends for BUBLIVE\n",
      "Collected 55000 friends for BUBLIVE\n",
      "Collected 55200 friends for BUBLIVE\n",
      "Collected 55400 friends for BUBLIVE\n",
      "Collected 55600 friends for BUBLIVE\n",
      "Collected 55800 friends for BUBLIVE\n",
      "Collected 56000 friends for BUBLIVE\n",
      "Collected 56200 friends for BUBLIVE\n",
      "Collected 56400 friends for BUBLIVE\n",
      "Collected 56600 friends for BUBLIVE\n",
      "Collected 56800 friends for BUBLIVE\n",
      "Collected 57000 friends for BUBLIVE\n",
      "Collected 57200 friends for BUBLIVE\n",
      "Collected 57400 friends for BUBLIVE"
     ]
    },
    {
     "name": "stderr",
     "output_type": "stream",
     "text": [
      "Got error: {\"errors\":[{\"message\":\"Rate limit exceeded\",\"code\":88}]} \n",
      "sleeping for 15 minutes.\n"
     ]
    },
    {
     "name": "stdout",
     "output_type": "stream",
     "text": [
      "\n",
      "Collected 57600 friends for BUBLIVE\n",
      "Collected 57800 friends for BUBLIVE\n",
      "Collected 58000 friends for BUBLIVE\n",
      "Collected 58200 friends for BUBLIVE\n",
      "Collected 58400 friends for BUBLIVE\n",
      "Collected 58599 friends for BUBLIVE\n",
      "Collected 58799 friends for BUBLIVE\n",
      "Collected 58999 friends for BUBLIVE\n",
      "Collected 59199 friends for BUBLIVE\n",
      "Collected 59399 friends for BUBLIVE\n",
      "Collected 59599 friends for BUBLIVE\n",
      "Collected 59799 friends for BUBLIVE\n",
      "Collected 59999 friends for BUBLIVE\n",
      "Collected 60199 friends for BUBLIVE\n",
      "Collected 60399 friends for BUBLIVE"
     ]
    },
    {
     "name": "stderr",
     "output_type": "stream",
     "text": [
      "Got error: {\"errors\":[{\"message\":\"Rate limit exceeded\",\"code\":88}]} \n",
      "sleeping for 15 minutes.\n"
     ]
    },
    {
     "name": "stdout",
     "output_type": "stream",
     "text": [
      "\n",
      "Collected 60599 friends for BUBLIVE\n",
      "Collected 60799 friends for BUBLIVE\n",
      "Collected 60999 friends for BUBLIVE\n",
      "Collected 61199 friends for BUBLIVE\n",
      "Collected 61399 friends for BUBLIVE\n",
      "Collected 61599 friends for BUBLIVE\n",
      "Collected 61799 friends for BUBLIVE\n",
      "Collected 61999 friends for BUBLIVE\n",
      "Collected 62199 friends for BUBLIVE\n",
      "Collected 62399 friends for BUBLIVE\n",
      "Collected 62599 friends for BUBLIVE\n",
      "Collected 62799 friends for BUBLIVE\n",
      "Collected 62999 friends for BUBLIVE\n",
      "Collected 63199 friends for BUBLIVE\n",
      "Collected 63399 friends for BUBLIVE"
     ]
    },
    {
     "name": "stderr",
     "output_type": "stream",
     "text": [
      "Got error: {\"errors\":[{\"message\":\"Rate limit exceeded\",\"code\":88}]} \n",
      "sleeping for 15 minutes.\n"
     ]
    },
    {
     "name": "stdout",
     "output_type": "stream",
     "text": [
      "\n",
      "Collected 63599 friends for BUBLIVE\n",
      "Collected 63799 friends for BUBLIVE\n",
      "Collected 63999 friends for BUBLIVE\n",
      "Collected 64199 friends for BUBLIVE\n",
      "Collected 64399 friends for BUBLIVE\n",
      "Collected 64599 friends for BUBLIVE\n",
      "Collected 64799 friends for BUBLIVE\n",
      "Collected 64999 friends for BUBLIVE\n",
      "Collected 65199 friends for BUBLIVE\n",
      "Collected 65399 friends for BUBLIVE\n",
      "Collected 65599 friends for BUBLIVE\n",
      "Collected 65799 friends for BUBLIVE\n",
      "Collected 65999 friends for BUBLIVE\n",
      "Collected 66199 friends for BUBLIVE\n",
      "Collected 66399 friends for BUBLIVE"
     ]
    },
    {
     "name": "stderr",
     "output_type": "stream",
     "text": [
      "Got error: {\"errors\":[{\"message\":\"Rate limit exceeded\",\"code\":88}]} \n",
      "sleeping for 15 minutes.\n"
     ]
    },
    {
     "name": "stdout",
     "output_type": "stream",
     "text": [
      "\n",
      "Collected 66599 friends for BUBLIVE\n",
      "Collected 66799 friends for BUBLIVE\n",
      "Collected 66999 friends for BUBLIVE\n",
      "Collected 67199 friends for BUBLIVE\n",
      "Collected 67399 friends for BUBLIVE\n",
      "Collected 67599 friends for BUBLIVE\n",
      "Collected 67799 friends for BUBLIVE\n",
      "Collected 67999 friends for BUBLIVE\n",
      "Collected 68199 friends for BUBLIVE\n",
      "Collected 68399 friends for BUBLIVE\n",
      "Collected 68599 friends for BUBLIVE\n",
      "Collected 68799 friends for BUBLIVE\n",
      "Collected 68999 friends for BUBLIVE\n",
      "Collected 69199 friends for BUBLIVE\n",
      "Collected 69399 friends for BUBLIVE"
     ]
    },
    {
     "name": "stderr",
     "output_type": "stream",
     "text": [
      "Got error: {\"errors\":[{\"message\":\"Rate limit exceeded\",\"code\":88}]} \n",
      "sleeping for 15 minutes.\n"
     ]
    },
    {
     "name": "stdout",
     "output_type": "stream",
     "text": [
      "\n",
      "Collected 69599 friends for BUBLIVE\n",
      "Collected 69799 friends for BUBLIVE\n",
      "Collected 69999 friends for BUBLIVE\n",
      "Collected 70199 friends for BUBLIVE\n",
      "Collected 70399 friends for BUBLIVE\n",
      "Collected 70599 friends for BUBLIVE\n",
      "Collected 70799 friends for BUBLIVE\n",
      "Collected 70999 friends for BUBLIVE\n",
      "Collected 71199 friends for BUBLIVE\n",
      "Collected 71399 friends for BUBLIVE\n",
      "Collected 71599 friends for BUBLIVE\n",
      "Collected 71799 friends for BUBLIVE\n",
      "Collected 71999 friends for BUBLIVE\n",
      "Collected 72199 friends for BUBLIVE\n",
      "Collected 72399 friends for BUBLIVE"
     ]
    },
    {
     "name": "stderr",
     "output_type": "stream",
     "text": [
      "Got error: {\"errors\":[{\"message\":\"Rate limit exceeded\",\"code\":88}]} \n",
      "sleeping for 15 minutes.\n"
     ]
    },
    {
     "name": "stdout",
     "output_type": "stream",
     "text": [
      "\n",
      "Collected 72599 friends for BUBLIVE\n",
      "Collected 72799 friends for BUBLIVE\n",
      "Collected 72999 friends for BUBLIVE\n",
      "Collected 73199 friends for BUBLIVE\n",
      "Collected 73399 friends for BUBLIVE\n",
      "Collected 73599 friends for BUBLIVE\n",
      "Collected 73799 friends for BUBLIVE\n",
      "Collected 73999 friends for BUBLIVE\n",
      "Collected 74199 friends for BUBLIVE\n",
      "Collected 74399 friends for BUBLIVE\n",
      "Collected 74599 friends for BUBLIVE\n",
      "Collected 74799 friends for BUBLIVE\n",
      "Collected 74999 friends for BUBLIVE\n",
      "Returning --- 75159 friends for BUBLIVE\n",
      "Collected 200 friends for go_teego"
     ]
    },
    {
     "name": "stderr",
     "output_type": "stream",
     "text": [
      "Got error: {\"errors\":[{\"message\":\"Rate limit exceeded\",\"code\":88}]} \n",
      "sleeping for 15 minutes.\n"
     ]
    },
    {
     "name": "stdout",
     "output_type": "stream",
     "text": [
      "\n",
      "Collected 400 friends for go_teego\n",
      "Returning --- 529 friends for go_teego\n",
      "Returning --- 92 friends for ravikishore247\n",
      "Returning --- 133 friends for prash_morkonda\n",
      "Collected 200 friends for BaselTarabishi\n",
      "Returning --- 230 friends for BaselTarabishi\n",
      "Collected 200 friends for mikenow\n",
      "Collected 400 friends for mikenow\n",
      "Collected 600 friends for mikenow\n",
      "Collected 800 friends for mikenow\n",
      "Collected 1000 friends for mikenow\n",
      "Collected 1200 friends for mikenow\n",
      "Collected 1400 friends for mikenow\n",
      "Collected 1600 friends for mikenow\n",
      "Collected 1800 friends for mikenow"
     ]
    },
    {
     "name": "stderr",
     "output_type": "stream",
     "text": [
      "Got error: {\"errors\":[{\"message\":\"Rate limit exceeded\",\"code\":88}]} \n",
      "sleeping for 15 minutes.\n"
     ]
    },
    {
     "name": "stdout",
     "output_type": "stream",
     "text": [
      "\n",
      "Collected 2000 friends for mikenow\n",
      "Collected 2200 friends for mikenow\n",
      "Collected 2400 friends for mikenow\n",
      "Returning --- 2553 friends for mikenow\n",
      "Collected 200 friends for zahasdisciple\n",
      "Collected 400 friends for zahasdisciple\n",
      "Collected 600 friends for zahasdisciple\n",
      "Returning --- 653 friends for zahasdisciple\n",
      "Collected 200 friends for ITAbuzz\n",
      "Collected 400 friends for ITAbuzz\n",
      "Collected 600 friends for ITAbuzz\n",
      "Collected 800 friends for ITAbuzz\n",
      "Collected 1000 friends for ITAbuzz\n",
      "Collected 1200 friends for ITAbuzz\n",
      "Collected 1400 friends for ITAbuzz"
     ]
    },
    {
     "name": "stderr",
     "output_type": "stream",
     "text": [
      "Got error: {\"errors\":[{\"message\":\"Rate limit exceeded\",\"code\":88}]} \n",
      "sleeping for 15 minutes.\n"
     ]
    },
    {
     "name": "stdout",
     "output_type": "stream",
     "text": [
      "\n",
      "Collected 1600 friends for ITAbuzz\n",
      "Returning --- 1776 friends for ITAbuzz\n",
      "Returning --- 14 friends for beccabot11\n",
      "Collected 200 friends for GDFSUEZEnergy\n",
      "Collected 400 friends for GDFSUEZEnergy\n",
      "Collected 600 friends for GDFSUEZEnergy\n",
      "Collected 800 friends for GDFSUEZEnergy\n",
      "Collected 1000 friends for GDFSUEZEnergy\n",
      "Collected 1200 friends for GDFSUEZEnergy\n",
      "Collected 1400 friends for GDFSUEZEnergy\n",
      "Collected 1600 friends for GDFSUEZEnergy\n",
      "Collected 1800 friends for GDFSUEZEnergy\n",
      "Collected 2000 friends for GDFSUEZEnergy\n",
      "Collected 2200 friends for GDFSUEZEnergy\n",
      "Collected 2400 friends for GDFSUEZEnergy"
     ]
    },
    {
     "name": "stderr",
     "output_type": "stream",
     "text": [
      "Got error: {\"errors\":[{\"message\":\"Rate limit exceeded\",\"code\":88}]} \n",
      "sleeping for 15 minutes.\n"
     ]
    },
    {
     "name": "stdout",
     "output_type": "stream",
     "text": [
      "\n",
      "Collected 2600 friends for GDFSUEZEnergy\n",
      "Collected 2800 friends for GDFSUEZEnergy\n",
      "Collected 3000 friends for GDFSUEZEnergy\n",
      "Collected 3200 friends for GDFSUEZEnergy\n",
      "Collected 3400 friends for GDFSUEZEnergy"
     ]
    },
    {
     "name": "stderr",
     "output_type": "stream",
     "text": [
      "WARNING:root:<class 'requests.exceptions.ConnectionError'> HTTPSConnectionPool(host='api.twitter.com', port=443): Read timed out.\n"
     ]
    },
    {
     "name": "stdout",
     "output_type": "stream",
     "text": [
      "\n"
     ]
    },
    {
     "ename": "TwitterConnectionError",
     "evalue": "HTTPSConnectionPool(host='api.twitter.com', port=443): Read timed out.",
     "output_type": "error",
     "traceback": [
      "\u001b[1;31m---------------------------------------------------------------------------\u001b[0m",
      "\u001b[1;31mTwitterConnectionError\u001b[0m                    Traceback (most recent call last)",
      "\u001b[1;32m<ipython-input-9-c87292dd9c06>\u001b[0m in \u001b[0;36m<module>\u001b[1;34m()\u001b[0m\n\u001b[1;32m----> 1\u001b[1;33m \u001b[0mget_friends_and_pickle_object\u001b[0m\u001b[1;33m(\u001b[0m\u001b[0miit_followers\u001b[0m\u001b[1;33m,\u001b[0m\u001b[1;34m\"iit\"\u001b[0m\u001b[1;33m)\u001b[0m\u001b[1;33m\u001b[0m\u001b[0m\n\u001b[0m",
      "\u001b[1;32m<ipython-input-8-3f2a0a3ce614>\u001b[0m in \u001b[0;36mget_friends_and_pickle_object\u001b[1;34m(univ_followers, univ_name)\u001b[0m\n\u001b[0;32m     12\u001b[0m     \u001b[0mfriends_of_univ_followers\u001b[0m \u001b[1;33m=\u001b[0m \u001b[1;33m{\u001b[0m\u001b[1;33m}\u001b[0m\u001b[1;33m\u001b[0m\u001b[0m\n\u001b[0;32m     13\u001b[0m     \u001b[1;32mfor\u001b[0m \u001b[0mfollower\u001b[0m \u001b[1;32min\u001b[0m \u001b[0miit_followers\u001b[0m\u001b[1;33m:\u001b[0m\u001b[1;33m\u001b[0m\u001b[0m\n\u001b[1;32m---> 14\u001b[1;33m         \u001b[0mfriends\u001b[0m \u001b[1;33m=\u001b[0m \u001b[0mget_friends\u001b[0m\u001b[1;33m(\u001b[0m\u001b[0mfollower\u001b[0m\u001b[1;33m)\u001b[0m\u001b[1;33m\u001b[0m\u001b[0m\n\u001b[0m\u001b[0;32m     15\u001b[0m         \u001b[0mfriends_of_univ_followers\u001b[0m\u001b[1;33m[\u001b[0m\u001b[0mfollower\u001b[0m\u001b[1;33m]\u001b[0m \u001b[1;33m=\u001b[0m \u001b[0mfriends\u001b[0m\u001b[1;33m\u001b[0m\u001b[0m\n\u001b[0;32m     16\u001b[0m         \u001b[0mfileObject\u001b[0m \u001b[1;33m=\u001b[0m \u001b[0mopen\u001b[0m\u001b[1;33m(\u001b[0m\u001b[1;34m\"raw_data/friends_of_\"\u001b[0m \u001b[1;33m+\u001b[0m \u001b[0muniv_name\u001b[0m \u001b[1;33m+\u001b[0m \u001b[1;34m\"_followers\"\u001b[0m\u001b[1;33m,\u001b[0m\u001b[1;34m'wb'\u001b[0m\u001b[1;33m)\u001b[0m\u001b[1;33m\u001b[0m\u001b[0m\n",
      "\u001b[1;32m<ipython-input-7-c23ac8a5ac7e>\u001b[0m in \u001b[0;36mget_friends\u001b[1;34m(screen_name)\u001b[0m\n\u001b[0;32m     12\u001b[0m     \u001b[1;32mwhile\u001b[0m \u001b[0mTrue\u001b[0m\u001b[1;33m:\u001b[0m\u001b[1;33m\u001b[0m\u001b[0m\n\u001b[0;32m     13\u001b[0m         request = robust_request(twitter,'friends/list', \n\u001b[1;32m---> 14\u001b[1;33m                                  {'screen_name': screen_name, 'count':200, 'cursor': cursor})\n\u001b[0m\u001b[0;32m     15\u001b[0m \u001b[1;33m\u001b[0m\u001b[0m\n\u001b[0;32m     16\u001b[0m         \u001b[1;32mif\u001b[0m \u001b[0mrequest\u001b[0m \u001b[1;33m==\u001b[0m \u001b[0mNone\u001b[0m\u001b[1;33m:\u001b[0m\u001b[1;33m\u001b[0m\u001b[0m\n",
      "\u001b[1;32m<ipython-input-3-98f146c9dcaf>\u001b[0m in \u001b[0;36mrobust_request\u001b[1;34m(twitter, resource, params, max_tries)\u001b[0m\n\u001b[0;32m     11\u001b[0m     \"\"\"\n\u001b[0;32m     12\u001b[0m     \u001b[1;32mfor\u001b[0m \u001b[0mi\u001b[0m \u001b[1;32min\u001b[0m \u001b[0mrange\u001b[0m\u001b[1;33m(\u001b[0m\u001b[0mmax_tries\u001b[0m\u001b[1;33m)\u001b[0m\u001b[1;33m:\u001b[0m\u001b[1;33m\u001b[0m\u001b[0m\n\u001b[1;32m---> 13\u001b[1;33m         \u001b[0mrequest\u001b[0m \u001b[1;33m=\u001b[0m \u001b[0mtwitter\u001b[0m\u001b[1;33m.\u001b[0m\u001b[0mrequest\u001b[0m\u001b[1;33m(\u001b[0m\u001b[0mresource\u001b[0m\u001b[1;33m,\u001b[0m \u001b[0mparams\u001b[0m\u001b[1;33m)\u001b[0m\u001b[1;33m\u001b[0m\u001b[0m\n\u001b[0m\u001b[0;32m     14\u001b[0m         \u001b[1;32mif\u001b[0m \u001b[0mrequest\u001b[0m\u001b[1;33m.\u001b[0m\u001b[0mstatus_code\u001b[0m \u001b[1;33m==\u001b[0m \u001b[1;36m200\u001b[0m\u001b[1;33m:\u001b[0m\u001b[1;33m\u001b[0m\u001b[0m\n\u001b[0;32m     15\u001b[0m             \u001b[1;32mreturn\u001b[0m \u001b[0mrequest\u001b[0m\u001b[1;33m\u001b[0m\u001b[0m\n",
      "\u001b[1;32mC:\\Anaconda\\lib\\site-packages\\TwitterAPI\\TwitterAPI.pyc\u001b[0m in \u001b[0;36mrequest\u001b[1;34m(self, resource, params, files)\u001b[0m\n\u001b[0;32m    122\u001b[0m         except (ConnectionError, ProtocolError, ReadTimeout, ReadTimeoutError, \n\u001b[0;32m    123\u001b[0m                 SSLError, ssl.SSLError, socket.error) as e:\n\u001b[1;32m--> 124\u001b[1;33m             \u001b[1;32mraise\u001b[0m \u001b[0mTwitterConnectionError\u001b[0m\u001b[1;33m(\u001b[0m\u001b[0me\u001b[0m\u001b[1;33m)\u001b[0m\u001b[1;33m\u001b[0m\u001b[0m\n\u001b[0m\u001b[0;32m    125\u001b[0m         \u001b[1;32mreturn\u001b[0m \u001b[0mTwitterResponse\u001b[0m\u001b[1;33m(\u001b[0m\u001b[0mr\u001b[0m\u001b[1;33m,\u001b[0m \u001b[0msession\u001b[0m\u001b[1;33m.\u001b[0m\u001b[0mstream\u001b[0m\u001b[1;33m)\u001b[0m\u001b[1;33m\u001b[0m\u001b[0m\n\u001b[0;32m    126\u001b[0m \u001b[1;33m\u001b[0m\u001b[0m\n",
      "\u001b[1;31mTwitterConnectionError\u001b[0m: HTTPSConnectionPool(host='api.twitter.com', port=443): Read timed out."
     ]
    }
   ],
   "source": [
    "get_friends_and_pickle_object(iit_followers,\"iit\")"
   ]
  },
  {
   "cell_type": "code",
   "execution_count": 10,
   "metadata": {
    "collapsed": false
   },
   "outputs": [
    {
     "name": "stdout",
     "output_type": "stream",
     "text": [
      "59\n"
     ]
    }
   ],
   "source": [
    "for idx, follower in enumerate(iit_followers):\n",
    "    if follower == \"beccabot11\":\n",
    "        print idx"
   ]
  },
  {
   "cell_type": "code",
   "execution_count": 21,
   "metadata": {
    "collapsed": false
   },
   "outputs": [],
   "source": [
    "iit_followers_2 =  list(iit_followers)[60:]"
   ]
  },
  {
   "cell_type": "code",
   "execution_count": null,
   "metadata": {
    "collapsed": false
   },
   "outputs": [
    {
     "name": "stderr",
     "output_type": "stream",
     "text": [
      "Got error: {\"errors\":[{\"message\":\"Rate limit exceeded\",\"code\":88}]} \n",
      "sleeping for 15 minutes.\n"
     ]
    },
    {
     "name": "stdout",
     "output_type": "stream",
     "text": [
      "Collected 200 friends for mlacedog\n",
      "Collected 400 friends for mlacedog\n",
      "Returning --- 553 friends for mlacedog\n",
      "Returning --- 16 friends for GetIITJEE\n",
      "Collected 200 friends for izenku\n",
      "Collected 400 friends for izenku\n",
      "Collected 600 friends for izenku\n",
      "Collected 800 friends for izenku\n",
      "Collected 1000 friends for izenku\n",
      "Collected 1200 friends for izenku\n",
      "Returning --- 1267 friends for izenku\n",
      "Returning --- 68 friends for VHSRedbirdsGO\n",
      "Returning --- 48 friends for KaranPatel0008\n",
      "Collected 200 friends for katknight\n",
      "Collected 400 friends for katknight"
     ]
    },
    {
     "name": "stderr",
     "output_type": "stream",
     "text": [
      "Got error: {\"errors\":[{\"message\":\"Rate limit exceeded\",\"code\":88}]} \n",
      "sleeping for 15 minutes.\n"
     ]
    }
   ],
   "source": [
    "get_friends_and_pickle_object(iit_followers_2,\"iit_2\")"
   ]
  },
  {
   "cell_type": "code",
   "execution_count": 10,
   "metadata": {
    "collapsed": true
   },
   "outputs": [],
   "source": [
    "fileObject = open(\"raw_data/friends_of_iit_followers\",'r')\n",
    "pickled_iit_followers = pickle.load(fileObject)\n",
    "fileObject.close()"
   ]
  },
  {
   "cell_type": "code",
   "execution_count": 22,
   "metadata": {
    "collapsed": false,
    "scrolled": true
   },
   "outputs": [
    {
     "name": "stdout",
     "output_type": "stream",
     "text": [
      "[u'GDFSUEZEnergy', u'segaldesign', u'tay9_4', u'osakhniuk', u'PeterShebelski', u'LJ1996', u'SafeandAware', u'PPCResourceHub', u'ACTstudyintheUS', u'akj_stud', u'Pandenick', u'whyagog', u'Curtineer', u'osamabinharoon', u'bg_kenZ', u'PatrickOBarnes', u'BriannaBussell', u'AdamDStribling', u'Hazeliit', u'Dakota_Herman', u'Bshavel', u'isamar1027', u'seahawk111111', u'YUNinCHICAGO', u'ChiCityColleges', u'nikhilaps', u'deepak_human', u'oo304oo', u'yashwantpatida8', u'JobberPark', u'wobbles88', u'BerkeleyBrett', u'A_Bomb__', u'VanderCook', u'anilkum24146882', u'MalagaCAD', u'mmsalameh', u'TheClockNewscom', u'honeydipt911y3', u'momcboos', u'JameelaJafri', u'StuffedKulcha', u'PureEngineerLLC', u'UFarmIIT', u'Sumitkr555Sk', u'Nellysecho', u'vsingh1802', u'Shreyaa3', u'iitstudyabroad', u'geniusdilip', u'KellieAFields', u'KateGronstal', u'jeff_hallenbeck', u'ABUNASAR19', u'Realsta_Ltd', u'nrusty', u'chgltd', u'SBDinformation', u'subham_iitk', u'BGathman21', u'tarunsharma8501', u'ozziemeza1', u'Panos_Bakos', u'jlukechitwood', u'3db2311adff24c9', u'pamelamoi128', u'GOTO2040', u'saurabh81432866', u'Ujjwal_Mukherje', u'roshernetwork', u'kumar_nem', u'alvaromanero', u'imAvniAAP', u'BryantAXS', u'ahmed_gayel', u'mycollegeguide', u'yzheng47', u'TeeWaterPark', u'dan_lpd', u'SayakMandal', u'TescaTech', u'kush373', u'GTawari', u'ccacci60', u'iitiimatrimony1', u'amulindian', u'IAmWillSyvongsa', u'GWcollege', u'SundusBasheer', u'berlynow', u'Vg123789Gupta', u'goyalehari', u's_a_a_d_y_y', u'JordanAbudayyeh', u'studio_sally', u'dmanish989', u'ACNbyYM', u'walkthruwater', u'VMAT87', u'Bragadeesh153', u'TyedyeSpence', u'lorymishra', u'rsinfotech2', u'RexElectric', u'rtl_company', u'dbild', u'paladitya304', u'kiranoo78', u'foodsafety4u', u'PTeducation', u'OdebrechtAward', u'LightMetalAge', u'andrew0writer', u'ramachandra1111', u'diipiii', u'ayush_2196', u'Mrcheese24', u'GURURAJARSHI', u'unitedscrap', u'THISONESA______', u'CHIbizexpo', u'zbhoy', u'NCAC1', u'Jyothi_tummala', u'CACoalition', u'GOVINDJ13381598', u'iit_ifsh', u'ITwithSAMG', u'brett_freebird', u'MudassirAli2802', u'ZrobertRus', u'kahiggins', u'GrantKlinzman', u'mariachaure', u'EasyTurf', u'JithuJitu', u'DsTigerheart', u'EAA_Chicago', u'jagadishcheluri', u'xgong8', u'MaziarLn', u'mudit00077', u'lokhande_rohit', u'jonmjonm', u'al_othaimeen', u'CKLambdas', u'AlNunez1890', u'KaiyaOlsen', u'mdfaizuddin15', u'NBCahan', u'ShakirShumoil', u'IITTennis', u'Apiee12', u'RudyBalciunas', u'GABYDancing', u'theRealPranay', u'MortensonCareer', u'JohnMunkWYG', u'3d8768b4501c402', u'angel_ss1', u'krishnakmr906', u'dewdropdesigns', u'GovTechChicago', u'muntaser_khan', u'SthSideSarah638', u'subhash80329162', u'GKChicago', u'Shermone', u'LucianSun', u'JeffreyCCarr', u'_windrider_', u'intm_iit', u'Block37Shops', u'elango153', u'kartik17goyal', u'AldoValenciah', u'milton_bis', u'NishitrajRaj', u'fcheng2', u'Halcyon_L', u'jeneelovely', u'EMONTES0213', u'arnab06et', u'ExitTech', u'akkundkiller', u'younglionFR', u'jessefp', u'TomMedCenterLMS', u'IITGreekCouncil', u'jaikedar', u'HelixDC1', u'CalabruzzisCafe', u'zzning39', u't2_vicky', u'IITDesign', u'AGBellSchool', u'eh_eh___', u'Graceccee', u'Mom2RLL', u'ironypoisoning', u'kyshiag', u'sebek', u'Linda1449', u'AnkurGupta97', u'araremuse', u'bauerphilosophy', u'Guo907', u'YorkNan', u'saori_ooga', u'miina0207', u'PereiraGinette', u'Teefman', u'kaushal19', u'oskymoron', u'skmaurya016', u'Green_Illinois', u'lermtheworm', u'prasana1999k', u'eshafe70', u'swetamona2013', u'PamDarlingg', u'nshss', u'Carlos_Roa007', u'SAGEScholars', u'zup2u2', u'jmariehenson', u'Technavio', u'EduUSA_Sby', u'yzfen89', u'mycareeru', u'gauravgangwar75', u'CambMishra', u'jain_vibhav', u'pra18theek', u'MikvaChallenge', u'Jiachengpark', u'Gus_Pinzon', u'ClaireMerheg', u'ArleneH19', u'ANUJ44744641', u'julio1039', u'sivasankar686', u'clzhang2', u'hensleyjo', u'Nvania', u'top10enggcolleg', u'StephanieH131', u'researcharya', u'scottwurst', u'Ebeth_thomas', u'CirceLlanos', u'KankakeeCoEDC', u'smartkaushal1', u'Lakshya_being', u'AdvancedCoolTx', u'TriumphCIO', u'sburiiali', u'ISTPLifeScience', u'galliverthe1st', u'filibe77', u'nirmalpshah', u'ryan_tillman', u'Alpha_Xi_IIT', u'agnieszkasraz', u'STEMConnector', u'kenilkpanchal', u'talksupri', u'ajaysareen76', u'mppaul271', u'MONEY4317', u'IBMAnalytics', u'ChicagoBBB', u'jwyushadow', u'ChicagolandCmbr', u'ashoksurana', u'raheeshtripathi', u'kundankumar091', u'IITJEEPALAKKAD', u'FastEntCareers', u'zjaks23', u'_Swannk', u'130108021akr', u'harishbala', u'iBIOPROPEL', u'FactSetCareers', u'jakoblich', u'Z_R_A_N', u'SUBRATACHOUDH11', u'8083867533', u'shaheddin786', u'PBFeZ', u'DSTCJunagadh', u'CNSmakerfaire', u'JBValPro', u'hsattar1', u'elmarok', u'SpecialEventCo', u'FatimaMendez_C', u'SillymeCat', u'techspandan', u'Ryan_C_Miller', u'parulalokmittal', u'PrashantAttarde', u'GCMHERC', u'rishabh35276653', u'casio_willy', u'Leesetomltm', u'DonRafFoodTruck', u'EcoSolarChi', u'ankit_ajmera', u'IIT_Crabs', u'ditschfitness', u'ewhite98', u'allaboutblue20', u'TCEalumniMadras', u'StreetID', u'Shivamy39966353', u'ESMEsudria', u'GreenMyDollar', u'uversityinc', u'IITASB', u'salmavich', u'jwbespoke', u'PRASHANTH_prazi', u'RealPoxdoc', u'NYSID', u'WSC_Scholars', u'SteAmoroso', u'innoideators', u'TheFinal60', u'ramkumartce', u'WiTronix', u'IllTechROTC', u'HAWKEYE4500', u'claire_hzhang', u'cyberdenton', u'zlimp', u'nbullsa', u'CollegeBlender', u'prince_de_usa', u'Baselios94', u'DBAUniversity', u'sherali_iitr', u'AkarshDuggirala', u'nivetac', u'kirstenlamkin', u'Rj33320', u'heathaplexvsn', u'us_infotech', u'DanKosm0', u'GradSense', u'AdmissionPro', u'dmeves', u'omidubey', u'USAENews', u'rslooch1', u'KapeelDaryani', u'PayingForSchool', u'kumar_viwaan', u'TayebHyderally', u'Jinchen12138', u'susanrubinsky', u'Vinodbondapalli', u'prakhariitr', u'dashingabhi0077', u'robteaches', u'amwrkshp', u'Mohamma70730564', u'KalabichMgmt', u'Ry_Guy__', u'HertzlerD', u'CarpenteBeatriz', u'juanlaulhe', u'slynn001', u'StratoStar4U', u'ExecClubChicago', u'mpektas', u'nbismoi', u'twitophobian', u'PiyushS2408', u'HigherEdCompass', u'100tomates', u'baskeinusaetc1', u'jhui216', u'aalayach', u'pbuttswag', u'kunalomizer', u'AmyWDJobs', u'nadeemkansari', u'TCCAHS', u'abs_inc', u'collegeoptions', u'JohnACrispino', u'shopNAIT', u'mai_prata', u'yanxiang1011', u'urbancrossway', u'manjunath384', u'tscit', u'ExcellenceTax', u'RossTLudwig', u'Parth_Kalaria', u'KayDurbin', u'sahill25', u'bledeloc', u'NWgradplus', u'Connextbooks', u'Baloonr', u'paniitalumni', u'AsianAmBiz', u'AndiGrab', u'GManikrishna206', u'sandeepkm1', u'Cape_Rabbit', u'stevenmarcusmur', u'Mojtaba82', u'ygonzalez74', u'knadrian', u'AkshataKerur', u'AmUrbanCampus', u'RSACConference', u'TinaSfon', u'richdom', u'bauleer', u'NagendrenK', u'raanstermonster', u'QueenofnoisElle', u'Moonshiner17', u'CalebHallgren', u'Subwhalerville', u'SOLIDWORKSedu', u'NagendraKamathK', u'Naina_Sarika', u'mcmutim', u'TheMichaelU', u'mrkmllry', u'IllinoisBedBug', u'IIT_OneStopShop', u'arios856', u'TechFaq360', u'nvalusa', u'edsapi175', u'arriving', u'Ramzi_Riadi', u'lugillu', u'DuluxStudyTour', u'j64y', u'tushargupta1301', u'mengya1992', u'peter_mongillo', u'sofiaghouse', u'cengagegale', u'CurtAllee', u'NobleBSociety', u'raheelgauba', u'jasmine_zeng', u'talentwavehr', u'joeluciani', u'chakkisthan', u'Arcitura', u'Youelearning', u'AdityaUdayKumar', u'TamalDutt', u'umangvora1', u'StylozAshish', u'jtobiasson', u'lt13jimmy', u'MSPahwa', u'jointcra', u'K_I_S_H_O_R', u'Exelon', u'TeresaPappas', u'Chuan_Fang', u'ArifKha61132349', u'Jsaxena16', u'SLDS_IIT', u'baosong0626', u'mylife__2015', u'jovanamayol257', u'SproutSocial', u'EaglePhotonics', u'HeliosAvocats', u'KWiersbe', u'PhilipBrierley', u'rohansapkal5', u'pabitraofficial', u'prakashjayswal5', u'aruntayal1', u'StaraMatrix', u'YoungMathGenius', u'ATPractiseSkool', u'UGRADEuCA', u'shivkumar28591', u'mudittech', u'SurenderGoyal92', u'rajaavishekkuma', u'ranjandsgpt', u'Jeli_1993', u'shashwat_kunal', u'EloiBarti', u'Alex_9007', u'Cloudeeva', u'OnyungK', u'gtierrzclderon', u'PSU_History', u'BIOConvention', u'Gnoriega05', u'NACUBO', u'naik183', u'emeierpsg', u'Nagendrachauh10', u'somya_jyotishi', u'builtworlds', u'EddieSell', u'drsarahsviews', u'BCassan25', u'GreenSmart', u'shubhamgheek407', u'ajouneh', u'McAuleyMacs', u'Gauravverma1994', u'DiscountPP', u'avaob', u'Ananyakirti', u'JamesJPanek', u'Promoversity', u'Fergmnz', u'Chandanhn', u'MarcusMalesh', u'419pankaj', u'GolakiyaSandip', u'raaz_shivesh', u'Jay_Nina', u'jsb1271', u'MicrochipTechHR', u'writeforscope', u'makeyourrules', u'PriorclaveNA', u'JonSpathelf', u'Mr_JaYtanG', u'Brodalumab', u'vivekresnick', u'lisa_raney', u'inairs', u'tayemise', u'yaymini', u'BiolaEV', u'p85709794', u'educationusanz', u'Roboticslady', u'rahulkumar91227', u'SpartonNavEx', u'CreativePhysics', u'FitAndFair', u'TakeIELTS1', u'Glenn_Fellows', u'PletscherRobert', u'MartyMobile', u'PrincessNOI', u'Yash1206', u'jedimastergwen', u'ScholarAmit', u'Lukeylor', u'ProfCharlesHaas', u'Chandan51147456', u'yonghauboo', u'nishantpatel172', u'magigiya1', u'JosiahDavidson', u'Studydotcom', u'IamSaleeq', u'deloach7kw', u'kraziyanto', u'neiltv', u'SevenPointDisp', u'vikashjaiswal31', u'Domu_ReBORN', u'jeetsarbo', u'SeadogNavyPier', u'xyf1013', u'campusTexting', u'VivekBalendu', u'thomas_donna', u'ruizustc', u'scbyftbll', u'jordanbelch', u'iithmicro', u'Globalbusmag', u'2013SAGA', u'himanshukhtr', u'WEDanceVirginia', u'Seleniasis', u'PatCBlue42', u'jsseck', u'MTULode', u'NeroTBM', u'ranchhod_k', u'DKMoriarty', u'HIExChampaign', u'JenBertoglio', u'AdelmansCo', u'PrincipalStrawn', u'tanych5233', u'Mr_A_Hacker', u'moyniec', u'boutehh', u'aheadAI', u'frebrezo', u'kctsui', u'MaSumm', u'jfobilson', u'elnazem', u'TheRescueBook', u'LinaAtBerkeley', u'ujjwalsharma191', u'TalyPolishchuk', u'gbeloiu23', u'703fa5c860434ef', u'Mksingh23', u'mkcapital', u'iMukeshK', u'naveeniit', u'neildkane', u'AldermanSolis', u'khaenicke', u'learning_pt', u'UnuboldChinzo', u'DonPeloquin', u'BrotherRice', u'101grads', u'_thistlepetals', u'CKFacultyBlog', u'sneakatone', u'aditya123k', u'WhyteHe', u'Hermes000000001', u'aprabha1', u'Leen_AlZaibak', u'ATchendo', u'lavendermeng', u'boob_cube', u'Eagle1Capital', u'casanovamemo', u'PoetryAssessor', u'CientificaLtd', u'LKulla2', u'SteveBetza', u'Cloud2SME', u'Ares_Conan', u'CubehubInc', u'VITSOL', u'HaEunPang', u'tmblweed', u'JessicaWisdom1', u'MaqboolZahid', u'U_For_Life', u'birdinair', u'Rodina_22', u'ceoshea773', u'prathameshujad1', u'UChiEngagement', u'ChicagoLine', u'vivekee99', u'jsalam', u'briankibbe', u'ujjaldas132', u'reclusiveIndian', u'TEDxCMA', u'LarsonBevruth1', u'Aritra03', u'AzugaCareers', u'BPT_Recruiting', u'aboutsourav', u'CMEGroup', u'WebsEdge_Edu', u'KumarKrneelu', u'Sumitkumarshah3', u'AvinashSarohi', u'xgspci001', u'BJ_IllinoisTech', u'ramsraees', u'educationonclk', u'OptimaChiCtr', u'alantieng', u'YosisM', u'NationalEd', u'anandbalaji', u'rugada3229', u'jelledetaeye', u'jnymarch', u'Sougata1986', u'gquella', u'88adiYoga', u'jinliang1202', u'yazeze', u'AGIEducation', u'andangle89', u'abdulchsm', u'schoenig', u'UnivNEWS', u'ChumanKumar2', u'Engineers_pk', u'healthcareILN', u'MyCommunity21', u'NickZikas', u'HANSwims', u'Iam_SVC', u'somamohapatra', u'AIMBiomedical', u'UTexasPress', u'Anti_PVP', u'RoseBeauchamp', u'kelshwilson', u'Papa_Bear_ASP', u'ILBizImmigrant', u'Ankit2177', u'MarcSednaoui', u'Rose_Zamora', u'GuillermoZProus', u'hillgrp', u'Ankitya18731585', u'mcarpiod', u'skromine', u'mwargel', u'RazanDamlakhi', u'cananacar', u'satish_rules', u'nidaride', u'Jobsiit', u'ranjeet84151524', u'randhawaa', u'Arthurluo', u'Bhnaina', u'pawank58pawan', u'DuthGuru', u'ShriRamanujam', u'bvatsalya', u'ThePrincetonRev', u'APSChicago', u'GLOBEProgram', u'fisher0255', u'mod_abo_hashish', u'YoetD', u'Techkosmos13', u'Krauseko', u'Simbu07', u'ManjulePrashant', u'aykthenike', u'MobileXChi', u'vinod8dav', u'SimpleRelevance', u'AnnexCapital', u'ebudzynski', u'Nightfireuk_007', u'cyuan5', u'kyleteachman', u'Ryan_E', u'Greeley_Hansen', u'NSBE_IIT', u'Rocket__Dan', u'rogersuch', u'PhysicsFunda', u'collegecanteen', u'Koji_Bjerke', u'rotmandesign', u'Kyle___Gray', u'WilliamsAC1981', u'admford', u'WenxunMu', u'adi_mishra93', u'Thymeling', u'IITCommunity', u'EHSNYC', u'sicong_ma', u'Riteshs7789', u'BSAAIA', u'waubonsee', u'PSICareers', u'Silvrgrrl', u'doanhoangthai', u'RuyinYang', u'SaleemaFw', u'GreenCollarVet', u'IITSOAR_Asbel', u'jeaniewilson81', u'mjfleck34', u'RajVishnani', u'CollegeVira', u'mnit_shubham', u'amilladesign', u'SallotThomas', u'RestroomAlert', u'Shubham84078489', u'viveksahabadi', u'pb4good', u'UrickYu', u'MeredithAllenIL', u'Hotel_Aura', u'sunny1patel', u'HarWoog', u'IIT_Dining', u'PeaceCorps_MW', u'iitscholars', u'kgreg06', u'MrLinhartTweets', u'yuriabrito', u'sathishzx', u'epsiloner', u'OccupyIIT', u'Fpower99', u'MJK60631', u'bhammer5', u'almamaterstore', u'thomasbabu5', u'Ingenious4gate', u'vbgoz', u'pullurinaveen22', u'CenterInnovate', u'vishnukanna94', u'shekhar10c', u'jebus_m10', u'UniSmartEnergy', u'DEOonline', u'T_SCHUG', u'Tapio_Jokinen', u'USA_Education', u'thecareercloset', u'MBHB', u'Sandro_Mazzini', u'alexandreuribe', u'IIT_CRABLab', u'J4111R0', u'yub11n', u'FundacionHertel', u'AreteUChicago', u'TeeIrish', u'BlackThisWeek', u'Guri27842', u'azwilcox5', u'ECECharge', u'Howingsit', u'saktim', u'Cementley', u'bevins', u'affiniscape', u'baolovescake', u'lizzardwolt7', u'ASHISHNanobeach', u'MeowCat0907', u'yuweihui2', u'SanchitaRaina', u'AtulAtul909', u'Bes_III', u'alcoHorlicKs', u'ericlinchao', u'capellaventures', u'prashan99821426', u'hks_himanshu', u'IIT_Evan', u'YourNN', u'cccusi', u'marymac60', u'MarinaGreen', u'Leaders_of_Tomo', u'AmyLovesSC', u'EarthHourIL', u'LFCareers', u'tanmaygole', u'Kytola', u'RogerUAG', u'Chi_Humanities', u'sagarmred', u'StudyAbroadGR', u'snlpatel', u'rajan_shreeyeh', u'GATECounsellor', u'Resunate', u'rubenchu90', u'digitalseth', u'ParisofAmerica', u'fullstackkertz', u'Intercamino', u'bankolli', u'pushkarvaishna5', u'arthurperry', u'sikhu687', u'shivam10139', u'ChaseICS', u'CameronToth', u'OKCarter', u'iit_harish', u'BobMello', u'ade_rianna', u'Ujaszuk', u'Iamgangal', u'She4SG', u'rahu_1995', u'ConceptSchools', u'kyoxsy', u'SaMpmuthusamy3', u'0BrunoPereira', u'savyasachijsr', u'NickiSarah1', u'Sudosudhanshu', u'wiesbro_5', u'ktMINEglobal', u'aswinachuthan', u'jorgeoteixeira', u'endritgr', u'parayno', u'PhatakRutesh', u'ghante_com', u'jake____lane', u'_Sahil7', u'alecthornton', u'AlchemyPolymers', u'truellc', u'bikespoke', u'cs8397', u'Classhw', u'mgarcia810', u'SwapneshPatra', u'LStreetC', u'nenacole', u'sagaashaan', u'liuyi810', u'philippannenko', u'IITDiversity', u'prabhuchemics', u'woodburnpress', u'jbguberman', u'SPS_WIRE', u'BDPAChicago', u'bsans_', u'ADMakeyev', u'TheDraftery', u'Ankitdimri4', u'salmans_khan', u'encomium_15', u'bhargav_ram555', u'patcassata', u'keirobeara', u'tatramtn', u'KrishAnbhArDw17', u'zhlm2000', u'tejasytl', u'SahilMessi3', u'hjcopeland', u'itsso_right', u'GabeSalazar', u'DigIITalArchFab', u'R4Services', u'xuyn2193466', u'carolinaalme1', u'NamrataHegde', u'Atakan_Tetik', u'soubhik_maji', u'alertuhq', u'amber_deokate', u'armaan4ru', u'Sprintax_USA', u'doscareers', u'RCEELURU', u'GradTree', u'goodloeleslie', u'IITSHWC', u'msichicago', u'rahul53108441', u'cdara8', u'ChiBusiness', u'tedescogina', u'xtremeboredem', u'rajankumarrai01', u'tripathi_pari', u'mietvinisha', u'KNaglich', u'lexanilopes', u'465811466', u'zhuzhenglong', u'BradStrandquist', u'Eng_Salkini', u'NMHMChicago', u'usaBritish', u'dateIITians', u'xmslient', u'Corcentric', u'minerva_jb', u'CampusTVs', u'Pear_says', u'yachenliu', u'SBSDirectVote', u'Elvisreyes99', u'WMULUAN', u'Dominitrice', u'AnjanaRao1', u'pinkeshkumar171', u'lachaiah', u'RSysun', u'bklyn_miss', u'eduhubindia', u'DnielBrin52', u'Chennakeshav555', u'Meetasengupta', u'emgee9102', u'conmergence', u'Haotian333', u'Milind8055', u'VikyZulfikar1', u'ApnaCVdotcom', u'DemBaybaykids', u'Radillencejobs', u'SudeepKSatpathy', u'dheerajkumar009', u'Dheerajracha99', u'CTBUH', u'anky_sharma005', u'DaffronAssoc', u'salufir', u'hcfdz', u'LatinoNetworks', u'UAstudentgov', u'Fleetmatics_HR', u'fakhourihaddad', u'sonicasmith1', u'jpalmer02', u'ShengHaoKoo', u'bycaseycora', u'IITUGadmission', u'manbir_soni', u'vasantdeodhar99', u'AccessToCapital', u'JoannaJmarti50', u'btrautlein', u'smartleydunn', u'cynthiay2012', u'ParadiseLoveLDR', u'JeanWestrick', u'cshrad', u'Curry_Williams', u'biggestred1789', u'toril7', u'WLimestall', u'clifguy', u'gateeii', u'sparkyseattle', u'tuxecysuqi', u'MissouriSandT', u'DUCO89', u'DLSMeteors', u'shridharinfo', u'illinoistech', u'fdjett', u'NACME', u'Abhishek13398', u'Ryan_L1u', u'eddiewilliamsjr', u'doctorkbsingh', u'MCAPrograms', u'RiteshK74241241', u'Purvag', u'tendolife', u'MECOPower', u'jjvannorman', u'Erdas_mech_eng', u'meganheckel', u'CorkFloor', u'Cascadia', u'Souravmahapatr9', u'fracjackmac', u'ana_k_h', u'dothedoable', u'vipuldh', u'rishbme33', u'CBeluska', u'anbanmta', u'lhuang89', u'JRin3words', u'VerdaeGroupLLC', u'JakeDrozdowski', u'rhitsha', u'Science_Break', u'Jacksper13', u'ChicagoMPI', u'047_yash', u'IMGTechnologies', u'BowmanBarrett', u'dlaurit05', u'Nick_frCh', u'rluislopez', u'essencemaster23', u'kougkas', u'svalenciaaa_', u'PHLOYtweets', u'GSlinkColombia', u'IIT_guwahati', u'EricWeixuYang', u'Stepcone2K13', u'moeasfour_1', u'SivaselvanT', u'PolishedPebbles', u'ashyBalboA', u'k_nonymous', u'HuKexin', u'sahuuttam0', u'jason_gaoh', u'WalesInAmerica', u'MashBash_UofI', u'davids_fourfold', u'tabishraza0901', u'JDF', u'gjpalathingal', u'alexdivis', u'ayushjain24xd', u'lijojoy8', u'iitcandycampus', u'iambandhan', u'luna_jody', u'InternationalUL', u'info_sahil', u'Amanda_JobFairy', u'Victoria4vakv', u'SudiptaWww', u'mishravijay687', u'MasroorGilani', u'Bdsans', u'Shaun_Xi', u'ashubhargave', u'giselemack', u'next_bncnews', u'CareerOrbits', u'computational', u'JorMorsoxsrule', u'mrigank_korpal', u'rahul12kv', u'CMAA_CMIT', u'NickBensonZA', u'dchristianson2', u'kyronGlobal', u'psahluwalia1', u'akumarpal', u'EngageCivil', u'cucpokdn', u'ICO_Optometry', u'lihanzhi129', u'GetReplaced', u'mwerbo2', u'Afzalah48195490', u'kingofallbooks', u'fourtwelve412', u'harvinder0494', u'land_archt', u'vpy143', u'ShellyDutler', u'sumanasunda', u'legal_lease', u'heloisamouraphd', u'iitAIAS', u'dcobbins6', u'laurammtez', u'Inceptia', u'ddoshi4', u'BhowmikRicha', u'SpikeHilton', u'history_mrb', u'talk2pankajroy', u'beyesus', u'SHAIK_ZEELANI', u'Chandramouli_C', u'js_howard', u'janetj_IIT', u'IAarchitects', u'that_guy_412', u'Dulc3R30', u'juanitag', u'AnthonyMSE', u'akayugin', u'Exams4us', u'NandiniSwami2', u'bombaywraps', u'PromiseforHaiti', u'mmccune', u'StBenGuidance', u'SrivastavaKush', u'vivekdesigns', u'ASTMStudentFans', u'IIT_SAT', u'ShilaBorse', u'verymiriam', u'howlandster', u'MikeBoehler', u'TrevorVossberg', u'MrHylander', u'BrianPByrne', u'RickyValdez', u'amitsanapala', u'PlatStaffJobs', u'IITPublicSafety', u'darkoccult7', u'BinitaSahibabad', u'JielingLu', u'prachi_1a', u'NorthwesternMPD', u'fenixintl', u'SamahSallam', u'nkurpandey', u'EngineersGarage', u'KaplanGMATPrep', u'barcacolts12', u'carnotweets', u'tangw3138', u'Aleksey_Basov', u'jimabbott72', u'kizimiistiyorum', u'6122312', u'perkinswill_CHI', u'Deepk432', u'iandisoftware', u'singh7rishabh', u'Mac330Pro', u'MemberClicks', u'cciAlumniGh', u'Piyush_creates', u'bikstud', u'm_dubs77', u'tianyuebeiwei', u'hutcht007', u'Chuchobruzual', u'actonjm', u'yo_jane', u'MrResonance', u'mobileappex', u'HristoNenov', u'CadeCynthia', u'Hits446', u'DanKasberger', u'Sukhdev980', u'ivelini', u'designerkd', u'AnshikaGovil', u'telugueducation', u'kellymcmahon99', u'Science_Topics', u'Brett_A_Harris', u'IDPUSA', u'kellykos', u'SportingKC', u'PlugVolt', u'net2chi', u'71pinto', u'Mehul_Jakharia', u'Francis09961623', u'fundinnovations', u'sauravk26989945', u'Little_BG', u'apBadz', u'Siddharth_R', u'skyathome', u'riteshg_1987', u'ChimpsInNappies', u'SiddhantPat', u'medandrao', u'PEAKASH01', u'pathbreaktechie', u'perfectgenset', u'rajeev_upadhyay', u'ChicagoCYC', u'UniLaGuajira', u'hatchvalleyco', u'StuartGrovescom', u'Maddy_Rai', u'M_MeeKee', u'Jaisalgarh', u'Smarteys', u'Pillowman918', u'dpkdns', u'etp_rapgaroo', u'MaletiaS', u'cooper_conrad', u'hn5hn4', u'suta1', u'iwalliit', u'nagoorshareef23', u'avleenchadha', u'vundrukkd', u'JAIDEEPJoseph7', u'JonathanWu1990', u'akshaybhagwani', u'curbedchicago', u'RimaSukhadia', u'sororIITy', u'Studyous', u'GSPACHOURI', u'thinknewworks', u'vikuvikash', u'WATF_', u'abhi_khanna_30', u'mandy_work', u'nagmaparveenpk', u'Navyug_academy', u'CBAworks', u'athir1', u'miranda2590', u'MarlaElitzer', u'chakri_online', u'ParasDhawan10', u'BISHCMC_CUG', u'EmilianoReale', u'AashishU', u'marciosantanas', u'successgateway1', u'VasuAgarwal6', u'DeborahVyskocil', u'liuruiabc', u'SIUEnergy', u'iitgreen', u'lifeoutdoors2', u'erdaltatares', u'chibullsfan4evr', u'sanjit555', u'notfortourists', u'HrBeckon', u'drjamesmcmahon', u'thssvkd', u'Complete_Degree', u'CR_MEENA', u're_PHinisheD', u'ca6e0aaaaa1b4b1', u'Shuklagreat', u'insiderZedge', u'Art_in_the_City', u'AndreaHanis', u'MarcMdnd', u'3rdAndKyleLong', u'SamritiSachdeva', u'sonurao42', u'GlennArnoldFF', u'miriamjill', u'pressbailey', u'4D_arch', u'EliziarioFreire', u'earthsaver10', u'TheStudio_UI', u'polispaniard', u'ilmionetwork', u'amalinakudsi', u'UScarletandBlue', u'ArielHendrick', u'ebalderas', u'nrehan2009', u'VLSI_2012', u'nourachanful', u'CCcleanwater312', u'master_baby', u'BW_IllinoisTech', u'tierumasamunew8', u'jessginger', u'HA_Soraya', u'iitentrepreneur', u'blakejhageman', u'DonClip5', u'lovefengzhilei', u'ChicagoREpro', u'chandeshwar2', u'snopok', u'IITArchitecture', u'aveloroy', u'askberry', u'TrustyDeal', u'SurbhiChauhan', u'ChiTribLife', u'srsumi', u'AdlerPlanet', u'paulanandtweets', u'chandasmita_8', u'MalbroughR', u'jbthummar', u'Deep10026Deepak', u'abhirocksnow', u'JasonJJYh', u'lisanotter', u'internship_desk', u'ketanamin99', u'mah_assaf', u'DontSayOhWell', u'FayceTime', u'RBeeds', u'Funkychakra', u'_sauvemoi', u'jana19930918', u'kuztaf', u'vjaguidance', u'feifeiyin', u'psirk2', u'0dpmartin0', u'kantamneni_s', u'Alex_Wentz', u'goProjectTravel', u'ntaluzek', u'TheBestChicago', u'vismed3D', u'Nekrojack', u'pauljstill', u'ich317', u'ChrisShaver64', u'ChicagoArchitec', u'TechEdO', u'Ramjageer', u'pandeyalok195', u'chandrapalyadav', u'SenatorHunter', u'shaankh1997', u'Pradeepkumar754', u'carvtober', u'JeremyBecker38', u'sheikhyasirali1', u'Latitude20N', u'SahilChalke', u'indianjob', u'NatlStudentDay', u'bhuvnesh169', u'ratioformation', u'CityYearDC', u'denizrimed', u'onthesafeside', u'OKWArchitects', u'hchong2', u'omnomhoshi', u'WhateverZy', u'GanguRulz', u'edqueso', u'Germantees', u'IndieMechE', u'bhuvang9', u'IamAG_17', u'CMSA04', u'HOPprogram', u'sparmetuic', u'GBO_PMarch', u'NMajernik', u'CleanEnergyTrst', u'POAHCommunities', u'Vaid3hi', u'mazici', u'rox_myers', u'hemant426', u'rhlblwl', u'Ritiksharma4240', u'alumnijunction', u'annna_medina', u'sudipkarak', u'chauhanajeet12', u'KayAnuar', u'Kristen_Yang', u'superwurah', u'PICUonline', u'sanjivpune', u'J6060', u'TasterHan', u'exlaine44', u'namsss123', u'AltoChicago', u'Garsee620', u'avilashC_95', u'Brill_Street', u'methodfellow', u'homefieldhunter', u'ChicagoEvent', u'arvindbrfoc', u'rajveerkumat', u'aakashkumar3163', u'NabenduPorey', u'ankitgupta0910', u'GradPsychology', u'unnat_singh', u'cm_ferrari3', u'Deepakshukla005', u'suncccc', u'usabuildit', u'industrial_tour', u'RachelYanover', u'RTGHoops', u'N_K_V_K', u'lcy88920', u'surajitpal6', u'SolarWerksllc', u'kavidahanayaka', u'chiragcec', u'BibhashBarman2', u'DinkyShop', u'FundasMadeEasy', u'BellevueU', u'SUSHANTKUMARS14', u'StopVirtuaStalk', u'akp4595', u'miyfghiuwdfd', u'ishashankVERMA', u'gkdelhi8', u'onlyAbhiJ', u'lostMessage256', u'yogeshjshah', u'Twu28Wu', u'SerialParoxysm', u'Sumesh_Sethu', u'PearsonSci', u'muralim97510723', u'pxportill', u'nikki_does', u'monsterconvecti', u'yadavAshish11', u'liethyderabad', u'iitsjm', u'jrnag2', u'vas_ashwin', u'cheesybrownie', u'SCTransferCtr', u'raer77', u'meetsharmitha', u'pavansl', u'SklmTown', u'ravikalsia', u'ED24group', u'klillehaugCPVA', u'PaigeGrons', u'Naveenprasant12', u'kadambinimishra', u'jscotheathman', u'OmNarkar', u'iititm', u'nicolenetland', u'SingleHopKyle', u'CFLCruises', u'dynegy', u'IITFaculty', u'snavendar', u'SweetY9876', u'DianePNC', u'ARCHEWORKS', u'JoseHdzMX', u'zhouwenxi', u'EdwardPurcell', u'rxqflora', u'MedChalfout', u'ncrivell', u'Mtmurugan1', u'FLLWFoundation', u'pavangupta883', u'zorocareers', u'AmMassMedia', u'farrukhadnan1', u'Atuljai65707459', u'montalvojc', u'SandeepanP', u'CMODisrupt', u'jeffaigner', u'ThreeManRocket', u'adiltunca', u'tegulizard13', u'Vector_Functor', u'FPdGi', u'AlvaroDemiG', u'OLAS_HWC', u'europreneurs', u'pauleliat', u'AsiQuinn', u'ArunYvi1', u'sritik35', u'1bdec72c2fee4d5', u'mallikdivvi', u'RajePrathamesh', u'WomenInSci', u'FustratedVishal', u'ArmyRctg5A4M', u'SachinMohanpuri', u'd360jr', u'jdrix85', u'SCFJobs', u'iamchiraggoyal', u'SiskiyouCorp', u'saif80755217', u'crystalcao2013', u'lameri86', u'crabbypinchy', u'jagankjagan', u'labib_theace', u'bryanchambo', u'dev_ramawat', u'rajendradeshm15', u'AkosuaLowery', u'Hazardous06', u'ILTAXILIMO', u'ravianexpert', u'50DomainTools', u'adluru33', u'yjatin19', u'samdavidson', u'shauryagarwal77', u'LanghamChicago', u'tonylaw7', u'rahulrao96', u'AymenAbdelrahma', u'TonyaJohnson208', u'AzimuthEnergy', u'RodVargasC', u'Aakash_justrock', u'Yang3221', u'raskardhanu', u'Tina29520284', u'SravanthiSinha', u'anisoulk', u'adityat77682455', u'NelsonMRosario', u'atomfission', u'and307', u'FNGIndia', u'ASASafterschool', u'rolleez', u'lorha_priya', u'mknippen', u'SwyftApp', u'kmatariyeh', u'hildathebigH', u'AValiav', u'nikola_micic', u'shantanutter', u'UK_1964', u'kulkarnirohit', u'mbargou1', u'jwngsar2012', u'beatrizruiz09', u'pjmichaels83', u'mhminger', u'Trail2010', u'esiakavic', u'sahajmohit', u'La_UPM', u'ramreddy861', u'b17m4p', u'1b0bfb7be2514af', u'mel_hogan', u'aasfuncard', u'pcipr', u'JuliaHsia', u'mbaskool', u'chaitanyamittu', u'createITfutures', u'KARTHEEK_IITK', u'approachcheenu', u'Students2Alumni', u'WorldChicago', u'ArafatAhmed786', u'MI7Roy', u'SarahCaldicott', u'kapilchaurasia2', u'WrightCareerCen', u'ltecila', u'GrahamAJohnson', u'TheNextMoveLLC', u'ljbeltran', u'DobbsShow', u'TailorLofts', u'HESConsumer', u'Josh_T8', u'paulhubinsky', u'Global_Expert', u'DominitriceG', u'junapio', u'eringejuice', u'bhaveshjain', u'vikasme71445579', u'hussey244', u'OlgaMackiewicz', u'ItsLittleLupe', u'kumaneesh', u'shreeshbhat', u'danibocanegra_', u'sahilansari9734', u'AmandaICleary', u'TechGuyJeff', u'2bikes1trailer', u'M_Meltz73', u'CollegeInvent', u'tk_kmhr', u'Philabaum', u'Miles_149', u'iitipro', u'Tesser5185', u'SunriseSLoanSvs', u'songee0289', u'gatecoachingdel', u'LaecioNa', u'thefocusgate', u'renttext', u'a730fd85ae0241b', u'ragibzanwar', u'AdvEngineers', u'PARITOSH31YADAV', u'parul_gosain', u'robbybeckman', u'OscarTobonJr', u'cleanelectric', u'MARUTICORPSALES', u'neerajguptaIITR', u'kurmiyashwant', u'ar_indian', u'DTConsortium', u'AIASorg', u'jayashukla22', u'ITFound', u'sandiaslam', u'AdiantaDOTorg', u'sylwia_oska', u'iitheartbeat', u'LAofIL', u'USA_Internship', u'DaisyCon3', u'maria1013_', u'me_chris', u'julfikkar1010', u'dhanrajkumar06', u'prayerismyjob', u'IsaGiannella', u'krishnaarya456', u'kwiller', u'Gateway_Green', u'gmariano88', u'SWChicago', u'CMARIN0', u'loverhun4457717', u'kashyap_kk91', u'iitjeeWiziq', u'Accretive_Jobs', u'Adityak93388098', u'abcdefg0755', u'twtrubens', u'Jianhua11', u'palak', u'pmccain', u'maddimarie95', u'LAZCareers', u'Jameser42', u'riddhish_54', u'iLoftus', u'4medanish', u'ChrisMustain', u'Calamoureux', u'JohnLothian', u'MockGuru', u'satkovskiene1', u'IITOL_Elliot', u'santhos57722650', u'MattieGalgan', u'davidycf', u'kumaran_12', u'srinsesh', u'laxmansuthar_94', u'greggyb', u'emmacaroline23', u'askiitians', u'BairuRajesh3', u'543d72a9e4d6494', u'MBaudler', u'jaipakhre', u'151258D', u'RobertVanDame', u'ForeLight', u'Xueling_Li', u'Locovida2day', u'MoeAliwi', u'ameenaleah', u'Damola2703', u'myedgeportal', u'NUCLEUSClas', u'ranjanadeviiitb', u'AmandaMcD', u'AlexSmerch', u'ManjiriParalkar', u'laumarba', u'iimiitjobs', u'JuanGFayrenM', u'booksandreports', u'reebu1', u'MotionPromos', u'GavhaleDeepak', u'xiaopei_zhang', u'harshithaa_', u'AngieGomez_', u'Yadav412Sanjay', u'cmenghini', u'AftrSchoolMttrs', u'elvinmala', u'rm_xiss', u'bvsuhas', u'MikeDJohannsen', u'MauroLeos', u'rarahulchapra', u'IITsocsci', u'ipi_official', u'UXacademy_es', u'bksandbks', u'sandeepvert', u'TheAmazingSatya', u'GCChicagoSummit', u'VPRSchook', u'thinkactlead_', u'yashrajlakra', u'JustWesNow', u'St3v3Brady', u'Tranguyen95', u'ocagdas', u'NHEconomy', u'ChangingWorlds1', u'Dakshp16', u'KHANUMANTHU', u'Tianyi_PAN', u'AroundParasols', u'nishanth73', u'kayburnett', u'tejkohli_', u'GeneCrozier', u'PhysicsSkyrik', u'mas_agussalim', u'PravechChauhan', u'avid_vani', u'SongWang88', u'ProfHimes', u'jtoprani', u'XuebinFan', u'LolaMindiola', u'inkomoon', u'compasscollegec', u'OpusCareers', u'mr_aliabbas', u'memgtian29', u'ZiweiZheng', u'rohitgharde1', u'IITFacilities', u'PeterHanik', u'maomaoyulin', u'charles_chenzy', u'GSiaton', u'CorkandKerry', u'dushyanthk7', u'neeldesai1992', u'SiyonaSoftware', u'OneMoreFoodie', u'HerzDana', u'sefaz37', u'WhosKevinRoemer', u'StudentAidSolut', u'akj_techno', u'ButtiSalem', u'er_scientist', u'Panipat00723Dev', u'TJLaFave', u'MelInTheBoro', u'vignesh_sd', u'WIITMikeSteele', u'BenPfeiffer45', u'EVROXVIII', u'CCCTROOPS', u'GalvinCenter', u'PiperTrust', u'placefinders', u'UoMEngSci', u'BursonLift', u'ThePhDProject', u'Raj60135195', u'OmerFarook', u'vijayprakash15', u'ProstheticSol', u'PeriwalY', u'meiwang2028', u'myfitfund', u'iiconline', u'3108smit', u'DavidBudell', u'Hoynes_CPA_Grou', u'BottleBobJ', u'grzhang2013', u'Options_Edu', u'NMNH', u'prasu_the_one', u'satyabansal', u'Affablegiant', u'Harshitnic', u'MaureenSertich', u'The_Catalan10', u'DewanOcdewan', u'tee312', u'annecost66', u'bvpieee', u'TheOfficialACM', u'kCura', u'1111NS1111', u'JackClarke82', u'CiciRaoXi', u'appisharop22', u'taehosun', u'keiabroad', u'shijinming89', u'xuyang9', u'EDGARD_MKTB', u'68redvwbug', u'donghun221', u'AddteqJobs', u'vmlprop1', u'ARUSHI000', u'MyNamesNotMitch', u'koushal12323', u'stephniawang', u'EdUSAManizales', u'rajuvenkat1995', u'jorgeiit', u'JamesKiriazes', u'simonwang11', u'bythegraham', u'cesarchimello', u'RobertLaRue', u'IkeScience715', u'TecDoctor', u'upscscholars', u'louisbyrd3', u'patriciajcronin', u'ZaxisFactory', u'GMastarone', u'idyllic_gooner', u'iizzydrizzy', u'yjtsolutions', u'LabSourceInc', u'PunjKunaal', u'jolan94', u'pashanta', u'stIITch_IIT', u'trophy071', u'sameerchourasia', u'emperorcezar', u'Pankaj_iitan', u'_ainisa', u'neto_jaz', u'e52gar', u'a6799761db0d4f7', u'accusedengineer', u'VanderCookMECA', u'MaddenMJ', u'SSP020978', u'bhargavaiitd', u'dhruvasharma15', u'concreteplains', u'utsavroy211998', u'emilygalie', u'GodofGaming187', u'Usha_Roland', u'FishPaopao', u'__KARAN___', u'viperfish', u'SANDIPPATEL36', u'Iedap', u'andangle', u'AgentKarin', u'yateegupta', u'Katerina_Paz', u'ariegoldshlager', u'HaPIDatabase', u'c4atweets', u'JoshatNRDC', u'Bourns', u'cappex', u'beiyeqingteng', u'hemantkn333', u'StartUpsFashion', u'guoshuheng', u'IITRGL', u'Deshini94', u'LibbyRapin', u'Tasseltoppers', u'150394alok', u'UHBrazil', u'bowenlu91', u'andywangduck', u'lfeng5', u'hi_future_tech', u'cassiodias25', u'MengyaoCui', u'TechNewsIIT', u'brunogear', u'iamjaseem', u'SpAdithya', u'paullandn', u'mrossi19', u'xjianqi', u'SeminarsCheeta', u'chicagonewsnow', u'jayala2090', u'JGabinoD', u'suerabs69', u'sa360128', u'HanahFakhouriHa', u'JosemtorresM', u'PCSEDU', u'DeepBasu99', u'joydivasian', u'wzhaniit', u'singhanoop676', u'sandeeprajsurya', u'FidessaJobsNA', u'isaan_khan', u'sparshgoel11', u'caseygfranklin', u'Arunesh99', u'CCGlobalChicago', u'rajdhanijaipur', u'GraceLiu10', u'sameeur_rahman', u'rk_sastry', u'yulestoic', u'MRoman1031', u'PRAVEENKUMR1', u'PolskiJanek', u'NishankPujar', u'EdUSAIndonesia', u'lumiereY', u'siyingzh', u'chrisz1__', u'MzMel66', u'unichallenges', u'live_connor', u'ProTechSearchIL', u'easonz2011', u'Integerbikaner', u'premchandar2111', u'MeredithHilt', u'SheldonTamta', u'garytsaoo', u'paswanpoojay', u'MrFinneusFlogg', u'icalabri', u'soul_vegetarian', u'TechnologyViews', u'UniMonk', u'kyabakchodihai', u'AchieversTu', u'yashgandhi241', u'TENERRDIS', u'pod_design', u'rohitkarma', u'GKInitiative', u'ACETECHNICAL', u'iam_rajatsharma', u'NewtonsAttic', u'CoyoteLogistics', u'satyenderkumar9', u'brandonksimons', u'tropismBLOG', u'Abhi_Chandra', u'Michael_Short', u'harshitdubey61', u'BarronWetStone', u'Anorsa14', u'chandravadanp', u'saurabh22041991', u'Jorge54Guzman', u'jamusa21', u'hemathmohit', u'1_state', u'unclegerg', u'312Parks', u'happoldphysics', u'anamabro', u'atOmar95', u'gretazola', u'lorimiller89', u'anopc', u'nufelis', u'CristAlar', u'nbfrantz', u'GOKULRAJN79', u'uc_talent', u'dashingsamantha', u'poetsbeforeedit', u'Amadeus98', u'kahnaiyya', u'IITRehabPsych', u'gemi_sky', u'WhimbleBooks', u'krybaltowski', u'ElhachemiS', u'iitians_in', u'MACHAOnline', u'Im_aadee', u'AmulyaVadlamudi', u'asanabr1', u'krishnavarma183', u'CommonApp', u'ShowingCityWide', u'LHFletcher', u'ChrissyMDwyer', u'fair_uz', u'nycfirst', u'EdUSAtips', u'viveksngh665', u'DakotaBetts27', u'dnainfo_breen', u'epostfix', u'yungkim', u'TheTybert', u'rkgudboy', u'GratefulDean', u'CREO2create', u'lizamcqueney', u'SiegeAce', u'SFelemban', u'Dqe6B', u'xiaoxiwang0909', u'netrambhu', u'CJmango', u'urkime', u'Ben_Glaser', u'arijkiwen', u'DanielCSamson', u'firstfreelancer', u'TurnerChicago', u'researchlady', u'AkshaybeVerbose', u'MLMorley', u'davuski357', u'LombardEvents', u'gprakash080', u'AyushSi18086803', u'Srikar378012', u'PadmaPujitha', u'RDubbyaA', u'PerfectPower', u'AndreMKonig', u'redwood1050', u'SinghaTamal', u'CarlosTejero_', u'SA7YAM', u'anuzz_tomar', u'ILTechLawyer', u'vikas12121200', u'dipujls', u'BITM1315', u'complore', u'jigross', u'SwagChamp1', u'CAMPUSPEAK', u'cvisionaries', u'BKTooley', u'Prizefighter00', u'jamzou', u'OglesbyK', u'mpk339', u'muhammedfayyad', u'Shari_IIT', u'GvcphillyMe', u'itujjwal', u'dejielect', u'mikanassociates', u'GopalShekhawa', u'aaaea_iit', u'Abenezermesfin1', u'indianhedgefund', u'TapanMehta4', u'RavkiranN', u'PigeonPick', u'JoeStainbrook', u'array_v0', u'kellyaschaefer', u'RegenraTD', u'mumbasaviour', u'TMAInfo', u'ToastingDesign', u'cdunn1993', u'SusanFaraone', u'sooner_sean', u'LeadARC', u'flywillow', u'BenMTaylor', u'haominnn', u'8822899670', u'shankar2929', u'BradCFink', u'optimainc', u'Raychatter', u'IyanuOgbara', u'ecell_iitb', u'HydePark_CHI', u'MRDPE', u'MukeshSen272', u'TransportChgo', u'GOJFRC', u'IIT_PSM', u'1armedGeek', u'britnic1', u'iit_ccc', u'rbsangu97', u'pat_brenninski', u'JohnHebert_', u'chris80628612', u'Clouddomain1', u'IITGrads2013', u'JokeDeli', u'askar_babu', u'SandraMarijan', u'CindyWojdyla', u'savishkar', u'aDitya_adj_999', u'judeds', u'AHessLoch', u'Shraddhakant', u'dakats', u'BorgHunter', u'SavaliyaKundan', u'Omo_Ikerin_Opin', u'sukumarsatyen', u'elysehaswords', u'T2B4Risk', u'ramtekemohnish', u'Paulzhy', u'GroupStrawberry', u'1755Kamal', u'nuclear94', u'AnnDwyer_Crains', u'isandeepkhandai', u'rebeckas', u'irena_grauzinis', u'iitguide', u'MytaleStore', u'cool_mudgal', u'sivangrj2007', u'Niesche1918', u'JaneZhen07', u'mirandajunjun', u'AndreScripts', u'DocKimS', u'PortElectLab', u'acsmith13', u'bhagi_009', u'gnielson', u'kangell50', u'RoneyRathi', u'aduenas999', u'RHA_IIT', u'shobyabdi', u'kjonelis', u'Agamjain1', u'srutsam', u'ctermtec', u'chmeyers', u'LuciaLove2011', u'SonuyadavS7', u'kamal_kishor704', u'brickhouse817', u'Rahul8446213934', u'stealthresource', u'xMannyG', u'Grammarly', u'jshelby1991', u'ajay_kishan', u'thegadgetlife', u'JaysonRecruiter', u'Bradvritter', u'AlanMatthew1', u'redkaapi', u'CheekuShridhar', u'nabeel1480', u'912dheerajYadav', u'kloman92', u'facets22', u'akshith_rock', u'CSForJesus', u'ae19051', u'EightNature', u'bmanojiitg', u'DelGiorgioSolfa', u'acaides', u'KAEHope', u'pujasitaula1', u'vikas1981615', u'dawn_novak', u'dayanara550', u'NikhilHegde2', u'MamaGrows', u'JohnJSpears', u'jerhester', u'Paperead_', u'sachinb00000000', u'LuisLarco', u'nsingh005', u'TNRforparents', u'vinodbhalerao24', u'SamsonAtlantic', u'digihistorylab', u'babaBC', u'jessa10250419', u'Kris_4ever1', u'SonowalAkash', u'wei______', u'AndrePphillip', u'jkalfen', u'DOICareers', u'Ele_nada', u'dhruv944', u'Hare_Krishna108', u'0c8f4857a9ef4b6', u'plugged_in', u'vedasanthi', u'KohlerJobs', u'preptalktv', u'Aaron3221', u'MCBHARTI', u'saurav6190', u'epenzeymoog', u'8sanjeev2011', u'Devendra_dwived', u'Daniel_KOO', u'iacobus', u'thedrawhoward', u'Melanie9382', u'Flistof', u'greenshift77', u'johngroszko', u'Orunje', u'luv_n_affection', u'lcooper', u'JoshiRamVelpula', u'FRC4551', u'MindcronBnglr', u'abhisheks292', u'ChicagoInfinite', u'russcollier', u'Percipia1', u'DuSableMuseum', u'BrandeisU', u'NavnSha124', u'mashbrock', u'nadia_igle_di', u'rahul_tech007', u'YaHui_Li', u'GlocalStudy', u'Buddhaeducom', u'LabNewsNetwork', u'JodelCharles', u'theodoregao', u'ErinGMcDonald', u'SistersOnCampus', u'ianwiese', u'marinaalira', u'sravya_dasari', u'sumitms100', u'vk3681491', u'Tutelmids', u'SuvethasriN', u'thedivineevents', u'Jwoodz525', u'Jennifer9802', u'beingabhi143', u'dalia_smith00', u'BreadShed', u'BF_IllinoisTech', u'VanViet0906', u'Gui_Saussay', u'Erinwangyifei', u'SHEN_MIN', u'studio__silver', u'CFASchoolhouse', u'GxChicago', u'CassandraSlatt1', u'dustingarlitz', u'zwang617', u'austinwei2011', u'valmirismaili', u'Hybridesign', u'ssmyd', u'psiya344', u'bigyan428', u'NRajansuki', u'zorbageek', u'PhysicsConnect', u'Manasasundaram', u'IITUBC', u'chiartshs', u'j_chytown', u'sssbox', u'ESME_Alumni', u'saurabhsakhare6', u'prakash521993', u'CordochoreaD', u'QueerTechClub', u'jheinz_57', u'freshphysics', u'TajisDelivery', u'slu_gunner', u'Atelierars', u'HubGroup', u'JattPamma23', u'hridaybuyakar', u'TheBRF', u'Ilangoven93', u'agangauvinho', u'ThousandAndOnes', u'IITCrownJoules', u'SEGFUSEStudio', u'Manal1407', u'MFAUpdates', u'GirishRaghavend', u'WillyTaracena', u'althebaker43', u'dipendrakumary3', u'mchlecarr', u'MyNameIsShayna', u'GreenTieBall', u'MarQuik', u'VIR_FaithOnPZZ', u'Gopal12101689', u'dtlastudios', u'mrcravens', u'coralpais', u'youandme_dating', u'deborahnavarra', u'dholakianivid', u'uzairahamed', u'wturner2323', u'HarshilPandya30', u'BridgeportAlly', u'namochik', u'Caffiene_Svk', u'HegdeAshwath', u'VoteMeForGod', u'Damandeeepddsb', u'mjamoom', u'Priyanka19951', u'AmandaRocksLife', u'deepakoptimist', u'LxLin719', u'HectorCamposh', u'CityYearSAC', u'JoinMAVERICK', u'PritzkerClub', u'avaughan61', u'KALYANSINGH16', u'xy_Mike', u'pandabears5761', u'qinic', u'Woroud', u'IITRobotics', u'cpstudent', u'kathrynrosypal', u'Cifci', u'IIT_INTM', u'TheHopHaus', u'illinoisslate', u'nkbigbear', u'John_Hubert', u'MSUWORLD', u'joelkrauss', u'RoyalKnight_Dy', u'BhagvatMandar', u'rogerrayner', u'OussarTweeT', u'subhamscience_', u'Harshalmahaja16', u'JobGiraffe', u'UnitedEducators', u'sammit17', u'Sean_Kiley_21', u'Ramawat5', u'InnovationReady', u'everchanging_b', u'shelleystern', u'imashishgaurav', u'njcollegewise', u'abhiroopchatto', u'tylerdesignmesh', u'bilgicm', u'Camilla317', u'Konnect_meeting', u'midnitepostman', u'_purvishkumar', u'sonukum19790465', u'vaidhynk', u'sameep6', u'rohitphy', u'NirmalChouhan9', u'pudiination', u'csquare_', u'gmanoj85', u'rcoasb69', u'ImhoffTech', u'mattyabeles', u'rjlenau', u'1_open', u'Cat_Connect', u'C2Fag', u'amittbhalla', u'zealsathish', u'GADC_Chicago', u'motorboatmayhem', u'paigemass', u'seekersedu', u'redDevilmtz', u'ushalil93', u'Shaunnapjz', u'paulinacarlos', u'pzzuzzik', u'AndrewKomosa', u'2010cys7095', u'mccastelle', u'IITCareers', u'Berta_pb10', u'bsocialkid', u'oolretaw', u'PrimeraEng', u'mechineer3175', u'IPROatIIT', u'EclaroTweets', u'LL_media', u'AdmissionsHOW', u'TheFranc', u'raghavew', u'tvfashionstudio', u'SightlinesLLC', u'cass_casper', u'hemalibhagat1', u'CarissaDi', u'jmbc79', u'gupul2k', u'dpatel37', u'Yifang2012', u'Naveen_Antony_A', u'nkhaledi', u'kanirudh34', u'kstteja', u'2015_Cubbies', u'megyi2001', u'ipranav5', u'Ravikumarsekars', u'rockyrohit12', u'meHungryNow', u'GhanaStudio2014', u'ishakhurana1', u'GangaReddy_P', u'd_wilburne', u'SusanLewers', u'SumuDas', u'rwilo3D', u'h_fhaxhaj', u'MohdSharib2', u'FoodChemNews', u'harsharnav1', u'FullertonEngChi', u'Hana_99', u'PramithaKamath', u'zly1990', u'MuzacMasta', u'rorococoeugvic', u'scampjc', u'rakeshkoyiloth', u'ChSeoud', u'WDavidWork', u'AriannaJnth', u'humnoidsnevrlie', u'MMastromartino', u'MindCron_com', u'gyanec13', u'eccello', u'tdreismeier', u'Fardinchoudhur1', u'ShaikhZeef', u'joy4tech', u'iXdnan', u'Divyanshujaisw8', u'GyMa7', u'WheresPerryEles', u'WinstonBond', u'shimerians', u'ARemarkableOne', u'JamesGniadek', u'williamrobert30', u'NicolasLassaux', u'caobo_jose', u'Xay_Aan', u'brianybk', u'VelmaToma', u'SHORT_REPORT', u'iskyscraper', u'ilcollegenet', u'Cruiter', u'kmrtj', u'FollowGurukul', u'SK8RBoYSwG', u'1wordchrisjones', u'ROKAutomation', u'admahawar', u'MaitriVaghela', u'tschep2', u'StudyAbroadcoin', u'archit_007', u'EDUPLANETS', u'FLopes_patricia', u'rouse23vb', u'SurajDhanraj3', u'ILikeIllinois', u'AajayVikram7', u'BrandonIITAlum', u'danklee', u'aarav22234', u'cuttlas_', u'RojinBabayan', u'marilyn0422', u'hawkeygal', u'ekakyirem', u'doraemi36', u'LandPlanner', u'salvogan', u'theocg', u'arthurwoodlawn', u'jgroszko', u'iam_anoop_ak', u'ASBMGroup', u'glenn_ferrell', u'shani_sharph', u'llovellin', u'iitdelts', u'YetAnotherJacob', u'DrBronzevilleMD', u'DUBurnsSchool', u'purnachndu', u'prashant11211', u'ashikame', u'93910875311', u'IITandKOTA', u'Meera3007', u'giri_iitb', u'p1236andiyaraja', u'DNayak26', u'Chi_TechScene', u'heroghanesh', u'Mahendar85', u'felix_weigelt', u'Nishargpatel', u'JML134', u'PeoplePlayWhat', u'manoj951984', u'Plancess360', u'MarketsWiki', u'CISUVC', u'AnupBuddyCool', u'vetstowandrecov', u'yankdizzy', u'makers365', u'Cameron_Jones34', u'LavdiZ', u'TheGoodLab', u'EtoosIndia', u'oscartheperson', u'EIVP_Interntnl', u'DawnDe8', u'SteveEwart2', u'darpogi1013', u'eric_goldspiel', u'versan_edu', u'VirtualAdvising', u'M4dfr0G', u'nuinnovation', u'lintao88', u'RorySullivan', u'morales_jd', u'JessicaWade13', u'myfalafel', u'RJ79983656', u'sppk', u'kalingone', u'bhoslebrijesh5n', u'fozzytweetshard', u'sandeepgate', u'TheModernDem', u'SKYRAPMAG', u'laurali67', u'gopalamity', u'oncampusdeals1', u'YHPChicago', u'RichardLiu86', u'lockhak', u'IamMVR', u'ashishjhaa000', u'timewar85', u'luluff1', u'fabertho', u'Curvyjax', u'AnkithMJain', u'jasondtd', u'Jason_Minnich', u'WareIsRachel', u'vijaibaskars', u'wooddragonus', u'KneeShit', u'scorpiknox', u'TheTradingShow', u'iitarc', u'sandra_casten', u'pure_oso', u'jrwall9', u'abhishekkrajput', u'nayanrahul08', u'HaridassSns', u'Bhakthavatsala', u'sudhirksingh27', u'spicymon', u'Comillas_SRI', u'GGIPanipat', u'nikhilsakhare3', u'brooks_1', u'juanchi_hdez', u'SerkanTasci', u'MaximusMarq', u'ZipcarChicago', u'hardik_setia', u'CrainsChicago', u'impraveen28', u'ashraf5486', u'inayemm', u'BogIIT', u'tsm96tusshar', u'GreenBeautyCEO', u'billzhangsh', u'MerchMartEvents', u'summerlearning', u'RRJay_', u'SBrownLevey', u'Hace_Online', u'LearningLateral', u'whystudyhere', u'joy93_joy', u'CrowdTMeeting', u'rayballard', u'dominic0313', u'RinorKurteshi', u'DC_Comments', u'NEERAJ480', u'DheerajGajakosh', u'delValleChicago', u'aAhlyah', u'ISEIFoundation', u'ChicagoKentLaw', u'CarlH012', u'ShaunHerholz', u'IIT_Octopus', u'MainakBasunia', u'ChiCaJap', u'SmallEntIndia', u'Rockyforce', u'rk9891743422', u'fiquni', u'Arsnar', u'NautiyalA', u'roflgoo', u'nikhiljain_123', u'studyadda', u'alfredoschoch', u'Chancellor_CCC', u'AlianeBoxmydorm', u'flacostacos', u'kingotho', u'GSSMAlumni', u'Nick_Thakrar', u'rahulsi62853868', u'iamILtech', u'3827vt', u'MVCCAdvising', u'pawan_goldy', u'YDL_YiDengLi', u'Rajnagar81074', u'amlthrawn', u'HamiltonDave', u'ChicagoCI', u'TerryPCawley', u'steven630', u'drarosell129', u'vpyindia', u'MazenAtaya', u'brilliantdirect', u'MichelleBLarson', u'RAHULSI88509074', u'shantanu01verma', u'RHoppsPCS', u'clee61', u'PiyushGupta787', u'IITJEEBlue', u'Polth', u'NeelamRok', u'RogersParkMan', u'itsashu04', u'Chloconutt', u'bbbenjamin', u'SFKankanhalli', u'katielovesmath', u'31stStreetBus', u'campusdiaries', u'_missdani', u'IIT_Stuart_Jobs', u'IITJEEcoaching', u'Bankai07', u'2batmanrn', u'Cheryl_Delisle', u'IamHmnt', u'Aznvamp1214', u'Apex3Security', u'katbiedenstein', u'ramawat', u'yzeng13', u'Stamic_wg', u'astralzn', u'DNEGRILLO', u'xfelipesierra', u'Control_Design', u'A_S_K_Azad', u'MonkeyBars_Chi', u'MSMD1992', u'Juncheng_Lu', u'CarlllaDeee', u'mayankmani91', u'arpansahoo_96', u'MrsBaronHill', u'montanoyeo89', u'DudeProducts', u'nksharma1979', u'superwangbo', u'Recruit_Travel', u'QinxinChen1', u'mserdarakyel', u'b_jayachandra', u'teemo321', u'marx_michael', u'ExplorerProgram', u'LaurenBGraphics', u'ananyatripathi7', u'ESW_IIT', u'tanuj_nagal', u'LakeviewSabi', u'Bhagraj_Purohit', u'universityicons', u'hs1308', u'goinginawkward', u'Sonali8', u'H2_AC', u'JoshuaDLaborde', u'lobofish64', u'info85543760', u'PublicGains', u'ashwinjk90', u'LUMEDZI', u'basanthfest', u'raviran80165174', u'snapclass', u'amrishyash', u'sergiogm_', u'JeffreyMcQ', u'BrianThompsonMD', u'LSumer', u'pace4edu', u'DanielleGuslerP', u'Kaysha2810', u'Resource1_R1', u'HozefaJ', u'arjunjalan', u'MVG_VJ', u'ILLspin', u'ZhengyuWu', u'IITBursar', u'fjunior2', u'cpxcpxcpx', u'abyjalota', u'vacuumflux', u'SommetInterCoop', u'mydanceprint', u'alkimo101', u'pavani37', u'tagsportsgear', u'EthanWhyMe', u'3DStudentDesign', u'jd_romano', u'rickard_joseph', u'moygao', u'natalie_polacek', u'AlumniCard', u'juliebartocci', u'edgar_becerril', u'GregoryEnriquez', u'gandhis301', u'sujalshah2612', u'fmulisa', u'thebeardfish', u'lazaro92_', u'rohansoumyajita', u'gaganblr', u'abaniku', u'96gupta', u'benmuth', u'enova', u'matewing', u'ApasnoreRonPete', u'ponteaia', u'sanjib_skrm', u'katiedupree88', u'PrincipalLeMone', u'oilondono', u'argohs217', u'Hlsaniee', u'jitendrapawar91', u'ajithrajb', u'MarketsReform', u'toddjhill', u'jide_oke', u'affirmedsystems', u'chuchu90869', u'ArpitJai5', u'leesa681', u'farihawajid', u'dsanchez91', u'Michaelwu9088', u'VishvajeetPatel', u'pruthvi_nsrsr', u'leaf722', u'sofaexpo', u'LionsheadSocial', u'RenascentRabbit', u'eswCUgogreen', u'RoyalDieStamp', u'eyadaf', u'abhishekroy909', u'avantikaajoshi', u'giberetta', u'NanotechAMU', u'rsnorg', u'SamanthaSharky', u'ESUMMITIITD', u'VandanaGaonkar', u'rob10c', u'BoardShare', u'Examhook1', u'Parmanu_Yatra', u'vihan_roy', u'QuakersNextStep', u'DDLRScholarship', u'Bhushanchaudh12', u'saicharansundar', u'MichSmit16', u'jeanconner', u'HOTSlNCE92', u'dailyfreecode', u'FutureofVision', u'betanbauer', u'InsideVISANOW', u'phungpit', u'kellyknight', u'wnbachicagosky', u'Kaushal_iitg', u'VDArq', u'RISH4087', u'sainathrp', u'AlexanderPasso', u'dgromero', u'Tikam', u'WIITChicago', u'ChicagoCCTV', u'JeffreyHartmann', u'girls4science', u'Tareqer', u'marcelle_Hana94', u'kakkar_abhi', u'ibzibzibzibzibz', u'iKrystalSays', u'saisredharreddy', u'notebinder', u'suksoonhoho', u'TeRRoR_kinG001', u'edelsonpc', u'PathosPoetes08', u'stefortiz_', u'prakaru', u'ChiBike2Campus', u'santhanamsatish', u'jwlebak', u'ankitkumar24dec', u'chilledtitan', u'blackspectacles', u'vinaypm4u', u'swapnilgautam', u'khammes', u'VadgamaChandni', u'cupomobile', u'careyportis', u'epicbeardcarlos', u'MRIatIIT', u'pleasing1', u'GustavoMaria2', u'TekKnowBots', u'Shaarif1', u'SOFT_W_', u'VizualAffectz', u'SmartenIt', u'iitarqui', u'timesjobsdotcom', u'OU_Dan', u'happyfood20', u'yunkaosu', u'IllinoisTechGLP', u'ILABE_BIO', u'R_KS1212', u'2609Mahi', u'BartAndrea', u'Asif_newton', u'deeneshrk', u'RajatJain1432', u'HeatherFBennett', u'WhatsAPNews', u'ayodam91', u'nadraRVRE', u'MrPeter321', u'IITOL_Amy', u'kpwcosgrove', u'NayimSayeda', u'_meegan_', u'HZNPplc', u'ennomotive', u'TeachinginDubai', u'SPERANZA2010', u'ZJohnShen', u'IowaStateCBE', u'pjrussell39', u'IncredibllAnish', u'YuboDiao', u'Tjagadeesh1729', u'yazeze11', u'surajpatel710', u'kdagger', u'Jason_Entler', u'AgileTroop', u'gbreezie37', u'jkosar13', u'mmiks', u'jyotiswaroopr', u'ruthierachelle', u'ImproveIndia', u'patriziadimonte', u'marcemccarthy', u'saracollegewise', u'LTD_IIT', u'j4m13stick', u'doleshreyas', u'ShineTanya18', u'e_aakash', u'OlgaAlter', u'Andrea_Andy11', u'windval1990', u'nithinankam', u'Vinca_Thirteen', u'LatinoTopix', u'Fundoodatajobs', u'MTCCLateNiite', u'Abstreca', u'DucSaid', u'SoumyajitNag1', u'azarie_', u'MBrownCY', u'HjyNand', u'Imbhuvanack', u'jjssfoundation', u'nityaagr24', u'neilgupta', u'ZYButane', u'ChinaHigherEd', u'LoweLife', u'brettmonroe', u'bdrunchicago', u'srinaathindian', u'MonikaRydz', u'postcrit', u'AarnabNag', u'AllanCoates4', u'sanlaelaecho', u'DipsIndia', u'xinyunluo', u'CSPortis', u'vhaberkorn', u'jbmam', u'descotoinc', u'MeiliZhao', u'pbbravo', u'sravanIITM', u'rgann05', u'Ramkumar141999', u'srilathaaramana', u'T_HUMPRHEY_IIT', u'tazierffe', u'maitehar', u'1997_marmar', u'olivier_dutfoy', u'WLanphier', u'NewsViewTV', u'HashAmara', u'ketankatrina786', u'jcocaramos', u'ravishankar007R', u'PiercedGrant', u'McCafferyInt', u'BubbaBrewster', u'BobHenkins', u'hebaali41594465', u'Afrazmoqueem82', u'lcreising', u'L1PowerPostEVSE', u'rparham5050', u'ExploreChi', u'ward_hsu', u'Rakesh_RCR', u'critfutures', u'jayjoshi_12', u'IIT_Science', u'drjpiitjee', u'LovKumar8', u'Stamats', u'booksinthecity', u'surajpa90474989', u'kaseyi99', u'HaplessGuy678', u'sutheeshkvk', u'ZelongJia', u'BWD2012', u'BarbBurgess', u'lightindiap', u'MKIITM', u'admissionschen', u'miriam_schmid', u'NordArquitectos', u'ChicagoBMRC', u'seshireddys', u'DAjagekar', u'GJKoch', u'gauravs38648240', u'vijayujn8', u'dguddad', u'ivyli1112', u'GlobalStudentME', u'kellycherwin', u'mayankmohit2108', u'ituaijagbone', u'Z5FocusEd', u'sunnyfixer3941', u'carlosperezalv4', u'priti1005', u'ShantyMinister', u'sriki_s', u'jamesfish', u'melissajemerson', u'archor_wright', u'Nileshy63817601', u'luisabravodsgn', u'T0mmyGee4', u'LayaleeElzahdan', u'Luporion', u'aagheda', u'blue0628y1', u'frauhartung', u'KatMartinez189', u'MikeSavad', u'Adam_Rayman', u'PurushothamKP', u'J0BSHQ', u'STEMetc', u'Kevin5Maher', u'stoneboo', u'AAUWJaneAddams', u'LaSalleNetwork', u'CaroGiuse', u'wzhan99', u'CRTweet', u'Charantej001Tej', u'Jessica_jp1993', u'meracampus', u'BASFCorporation', u'SujeetSahani007', u'ctpsybil', u'abhaykumar12383', u'StradosApp', u'info_lotus', u'alexdelapole', u'Kidsmartcity', u'connectback2me', u'breezydayz', u'OhhThatsMesha', u'CaroApps', u'paragtak18', u'TangeNguyen', u'jecgroupofclgs', u'JimmyTon', u'JTHS_Science', u'CheapScholar', u'NathanHinch', u'bgjokevski', u'apanwar2', u'raj_nnrs', u'shaktawat_jd', u'nemanjastuff', u'RanojoySaha', u'gazalaastha', u'_chicagoan', u'Sddipiet', u'DominosKankakee', u'praveendass35', u'duchossoisleads', u'teenyroni', u'shalzmisra', u'TejasJaishankar', u'JoannaKlimczak1', u'yuvalmerhav', u'joekansas01', u'coolmuthukumar', u'Raising_US', u'jkchilds', u'paulineatty', u'learnrendezvous', u'Shikhasharma735', u'patbartman', u'sagar99600244', u'vyasnamita', u'reddys6669', u'unitedJasdeep', u'ProfessionalEdg', u'Eleaven', u'chiuna', u'jfklimek', u'jeeva_aveeva', u'AC_Counselling', u'RashmiSinghal90', u'd508b5ca06f74ff', u'KLKring', u'simplifyingexam', u'TCLorg', u'GEChicago', u'BHACaPS', u'IllinoisScience', u'EulynnGargano', u'MBAEntrep', u'm_0rli', u'SarahJindra', u'wrigleygirl82', u'NingKang1', u'sangereby', u'OMG_Smarties', u'ParkerDeweyLLC', u'lucaschung0728', u'DePaulUCWbL', u'JustinIsAMaker', u'CbeSanthosh4', u'KapinosELHS', u'Kainth_Varun', u'dschmieder', u'BenAbejas', u'suraekim', u'mor_tarun', u'icpatweets', u'Luis_Humbert', u'Ray_Hongyc', u'manoharkat', u'snehashis_lenka', u'SoneshUikey', u'DigiLinkIT', u'iitml', u'SouthLoopHS', u'orirawlings', u'HolabirdRoot', u'manassarmabudam', u'ClimateRider', u'chirchaudhary97', u'sisperdesign', u'ranren_IIT', u'Is_WeiDuan', u'prakash14129863', u'DrCJSobers', u'Jinelle1', u'RajarshiChatter', u'drewberu', u'CollegeBoundNet', u'genshidhapatil1', u'joe_joedaddy', u'ILTreasurer', u'Yefseis', u'UnusualTrouble', u'stephenchristie', u'RAWDesignBuild', u'markacarroll', u'niying7', u'AmyBasic', u'JossimarJ', u'kevinBedwell', u'YanZhan617', u'ThreePointSq', u'IITsasdi', u'vineshgkannan', u'TribalVentureVC', u'pzeng_usa', u'Evilwizrd', u'MaryRiceNH', u'spkumar439', u'prakhar2507', u'sshchicago', u'albertmistu', u'ecoresume', u'CKLEngineersLLC', u'bkrautwurst', u'ce09s008', u'NAGAPorg', u'Power_Construct', u'poojan_shah20', u'RasHman467', u'awadam0l', u'CKNicoleV', u'ankitch91314329', u'Kaz2118', u'SarahHarrod2', u'BLUE1647', u'Davidislegit', u'WITIChicago', u'ologie', u'chicagoideas', u'IITPsychology', u'erichanley', u'anu_m_ahuja', u'LAExpo1', u'EyeCeteraPhotos', u'iitalumniassn', u'TheShawnMurphy', u'nestle_kelly', u'iitunionboard', u'eddy_oyola1', u'Scouting2060', u'furykkow', u'Archiable', u'9soumen', u'HergeBris', u'wenjust', u'AndrewWSharp', u'anthonyalfred0', u'SteveWang1007', u'focusedconnect', u'Wise_Campus', u'LATENT_DESIGN', u'WigdanGuneid', u'HongMa_iit', u'koteshforfun', u'A_P_K_', u'bcrawfordpurcel', u'LSMCE2013', u'PrimorisNick', u'JimRarick', u'KyleCHenderson', u'BornRAD', u'rhon_123', u'BobEitel', u'funpiper', u'LivinLife1nSD', u'marketaccess', u'archiyaa', u'lnwolfe', u'Alphonso_Peluso', u'rajivreddyp', u'PC529Plan', u'RAJEEVRAJ9905', u'sgcool20', u'45rules', u'imedicileather', u'coffeeandcogs', u'marcferrerf', u'louismchugh', u'EVJC', u'PulkitDahuja', u'JohnBuschVI', u'BasavarajGD1', u'VijayavelHytech', u'MikeGosz', u'marfa182', u'ck2choi', u'DARPA', u'Kvng_ManMan3', u'surajparida6', u'SSpeakman', u'tina_lebleu', u'MichaelYonghuiF', u'EuridiceO', u'NIIIT4u', u'_MMorris_', u'EateryArchitect', u'rokopn', u'EngineeringEDF', u'achihar', u'simoncarlo4', u'bb7jobs', u'ssusina', u'kkeerr88', u'SteveNargang', u'ChgoMatt', u'AKSHAYM60196231', u'shriya46', u'ashthak', u'febriansyah54', u'Pleora', u'deenakannan', u'pbshirazi', u'IITcampusTVs', u'cecigmt', u'SharylSingVNIR', u'paulitesbelgaum', u'Saurabh009133', u'danielawhite12', u'SuzanneAkhras', u'imRV7', u'pammoy', u'OHCassessment', u'dujiachenlee', u'rajat28021997', u'dandamudi26', u'erabhishek1990', u'rouftantray', u'Rajaniitm', u'LaoMango', u'cpolitis7', u'sulabhjain', u'judykratochvil', u'MengdiLiu', u'ravi219', u'ScottPfeiffer54', u'saadyacop', u'11thWardChicago', u'KentLawSBA', u'Yellowdotlizard', u'DarioIlio', u'RealChocolate23', u'virutherock', u'chhabra98harry', u'IrisRecruiting', u'ZiweiHan', u'jobsearchboard', u'arvindverma231', u'cmccomb', u'DNHS', u'SKKCHRDC', u'Positivelyposit', u'MSIFoundation', u'Bhailalm', u'shesterrible', u'Coespro', u'nickflees', u'windycscholars', u'weslynneashton', u'kishor_narayan', u'SaumyaJoshi7', u'woodmastersmurf', u'mkenndy2', u'GreenHamNsam', u'VeltechEngg', u'rachel4yesun', u'CollegeFish_4yr', u'IITCIndia', u'AshishS28544535', u'excellencenoir', u'PSGSrishti', u'Hlfinfrock', u'deepiauxi', u'University_Dir', u'IEEEI2MTC', u'GradResources', u'gupta_rish5804', u'hussain0803', u'RuihanStefan', u'UNCG', u'rabiya_mustafa', u'singhaditya14', u'Pradeep28178945', u'mayaescobar', u'ForestThibault', u'OmarHajIbrahim', u'JMLankford', u'palmer182', u'bcrobb', u'Iyka_Enterprise', u'fannydaniella', u'LeRifai', u'Shivam11298', u'roohpar', u'YogeshMec11', u'AchillesAlex11', u'manik_siddharth', u'bsnlvipin', u'Starchup', u'Web20Newsi', u'DonorFuse', u'drkathuria', u'ILBroadcasting', u'AthirMahmud', u'highlyfavorable', u'mahendrakumarhu', u'haribol10', u'BMediaNetworks', u'weldlady13', u'foxinaboxCHI', u'Engiitex', u'aruns89', u'Edumass2011', u'TonPetitAmi', u'kayy__stew', u'JohnDillard11', u'Andrew_IIT', u'SylviaYan2010', u'GirlScoutsGCNWI', u'SYEDHAmzaHASAN', u'IIT_ITM', u'JEEMathStudy', u'anilforbiz', u'MichaelErie', u'SamWill_18', u'Muxian_Shen', u'ICUMT2015', u'dgartner', u'agrawal_pk', u'_LisaRich', u'kvikash668', u'ChrisCRhee1', u'kavya_k_n', u'abhifootballer', u'Hardikvagadia2', u'Atargroup', u'AVBIT', u'Ozinga', u'CCE_Illinois', u'IIT_RTC_Lab', u'jobstrial', u'hackuc', u'Spot_Solutions', u'Ebonmage', u'amusementlogic', u'bittergrapes', u'princessjchase', u'nikdunham', u'Milyli', u'shannky16', u'pinnapearl', u'senthamizhgk', u'zswgzx', u'anishirahatti', u'FS_Gilberts', u'andreyisaac', u'ReshamMakhija', u'cherop_quille', u'oeyfish', u'ttflyingbird', u'GoodeSTEM', u'ReginaLamonica', u'dosmyhero', u'SparkeyG', u'Pushpen20041619', u'philscitech', u'ShashwatYadav10', u'smitjn056', u'APGPromotions', u'MohantyAnang', u'bafordnajela', u'financeseer', u'SUBNETsolutions', u'rekhabala', u'pankajiitjee', u'EsparzaJ', u'josheewashee', u'ZZZZQ22', u'BryanScheulin', u'JaimeHerrero4', u'mdoukmas', u'Hosseintkh', u'JanetMcNicholas', u'DimasTaracena', u'rahulvw_19', u'iitswim', u'IITSOAR_Elvin', u'benexist', u'sanjaym707', u'Warrior_Princss', u'PeaceOvrViolnce', u'navneetvineet', u'ygao1980', u'SAKSHAMA_GT', u'editor_edu', u'MsFadeAway', u'anuragoswami22', u'AMOL__', u'Shamayel13', u'MercySuzanneD', u'huytle95', u'juliusyuan', u'nishwashere', u'RecruiterintheD', u'vinay0202', u'b1tgh0st', u'kfairthementor', u'captaincool_msd', u'Alex_Saucedo', u'InfoEduvision', u'jaya_sagar', u'AC_PFP', u'KennethMirajkar', u'puneet82', u'thejusticeconf', u'saurabhmisra', u'Munishwar1', u'DanSFlorescu', u'lumitynpo', u'razgoblue', u'praveennawal123', u'MeninaAmericana', u'wiviaoctarena', u'dip_ak', u'mediacovenant', u'SatvikaSarat', u'forumonenergy', u'collegeget', u'IEEERebootComp', u'iKimmieD', u'RetroNeonNeko', u'CrowdtLA', u'pranava_teja', u'sivaadhithya1', u'Sam_ChateredAcc', u'zx199538', u'Steven_VdB80', u'jonbarger', u'yatharthchoubi1', u'C2ST', u'lovingvinodnita', u'MTumarkin', u'guy3318', u'Peekskumar', u'DevOpsOnWindows', u'RyanZCummings', u'BarcelonaTech', u'SCSTATE1896', u'pradeepsarabar', u'jasonfinch13', u'clint_bhola', u'AslinurTaskin', u'nerkerr', u'sbtyagi', u'NareshChadokar', u'JP_Vielma', u'PatrickCermak', u'TheBogIIT', u'Benahmin', u'iServe_iLead', u'megmyname', u'cjstellaliu', u'MobiKwik', u'FH8503', u'SYC_HS_Guidance', u'Gop3rd', u'vishal_vijender', u'chem24ankur', u'GiveToCollege', u'das3700', u'Pradip751', u'MountTalent', u'Dorm_In_A_Box', u'AlwaysKTF5', u'rishirajshkl02', u'liza_xc', u'AsifAsifali54', u'CuiPeach', u'DrShukla_17', u'MidCoInc', u'OTSProjectMg', u'mmibanezherrero', u'CraticPR', u'jazz_hans', u'adrumms', u'rhynes57', u'MattDeGeeter', u'akrish2405', u'ANU_EE1', u'cambridgespan', u'amitagarwal27', u'lucky_me424', u'law58', u'ElianaMarroquin', u'AkshadaParsewar', u'sr_maheshmeena', u'jagbandhu007', u'86rishabh', u'alekbabel', u'CIMChicago', u'dearmeganne', u'VictorSanchez', u'VonSteubenMSC', u'ShreyaSatsangi', u'peterYoxi', u'cm13900', u'qianscsu', u'achyuth6654', u'115f8aa204c5430', u'chiwomenarch', u'WMAengineers', u'bhootmechanical', u'young_shaneo', u'Neri_Suki', u'DebatriPutatund', u'TheChikuEzine', u'WorldHolidays', u'risshc', u'williamsvicky15', u'SwarnimKa', u'ZeldaloverF', u'hamzesukkar', u'sara_munaam', u'darraul', u'AUSLWPAHS', u'TheyHateOurJoy', u'manideep_varma', u'Adityas54547518', u'tadn', u'felipeMparages', u'bavincen', u'ZanSyed23', u'jkpowell', u'CCoBronzeville', u'LogicPad', u'Kat3anne', u'317500', u'Alexandrio_', u'fiatlux2015', u'gina96k', u'MarkViramontes', u'EACNovosibirsk', u'smiling_zoe', u'SharenthShare', u'CompTIA', u'BD_PM', u'SamCholke', u'ValleyPrepLA', u'husain_das', u'alzIllinois', u'9eb1ec4a5aba43b', u'bdofexaminers', u'fugexlac', u'rosellegrant', u'SDrNH2', u'Sicueft', u'A_GomezChicago', u'skeggy', u'XiangyuSheng', u'andreasanchos', u'chunwangyuen_7', u'HaleysBirthMoth', u'AjayNirankari', u'andelam1', u'Abhijeetcooland', u'flores2689', u'eciand', u'pateltirthm', u'GanesqConsult', u'Remembus', u'HK_PPR', u'Sh_Bahramirad', u'SE_Careers', u'Arc_anil', u'QueenMoshushu', u'ArgonneNE', u'ccusack92', u'dylaneasley', u'pizzatwopieces', u'Stacey_Cpercent', u'EnanaAssaf', u'bcanalda', u'bevenke', u'SeanHahn4', u'priyanka160193', u'Livestream', u'rhendricks3', u'modelixrobotics', u'ArtyrSharf', u'mehrajwani1', u'Masdar_ChemEng', u'bgneu', u'ituint1773', u'ueusdcs', u'CollegeBuzzz', u'AnirudhMadedhi', u'deshraj_charan', u'randomusingsnip', u'NIUCEET', u'hmehta19', u'smothix', u'ICERTSD', u'OmarInCongress', u'corruptiitn', u'jenmcbiggs', u'KbKbach12', u'craghuve', u'seshanbabu', u'koryna_felt', u'Gateway_abroad', u'A_Margovia', u'nandhakumarkvs', u'PJM_Iam', u'anidash001', u'gamit_robin', u'lolo_dante', u'OffTheHookPromo', u'momboos', u'raishubham664', u'leezyray', u'Ignus_IITJ', u'YangNan1013', u'akshay1350', u'rahulverma006', u'sylvester_sunny', u'Wilson_Janine_', u'maruwilla', u'mokona2008', u'IDOT_Illinois', u'matthuntr', u'jacobraj', u'8ultraman8', u'pgannon48', u'RAJHANSHGUPTA', u'WeizhenDong1', u'collegeboxes', u'ced160', u'warzuegel', u'Khichadi_Fry', u'mattisalbright', u'silentevents', u'SongaSaver', u'sapra', u'andreaa1227', u'MichaelWoo24', u'linlivalex', u'reddyvpr', u'PeyAv', u'MCadvising', u'illinoislaunch', u'FlowControl_Ind', u'gokanishk', u'abhishe23422521', u'RavindraGowtham', u'vnrama', u'simocusi', u'aditya_jackob', u'eXeperience', u'iit_kim', u'ToneSachin', u'ifeanyi_', u'BCBSIL', u'sandru_ru', u'AndreaPoet', u'jun900928', u'PreservationTV', u'Commons_IIT', u'deg511', u'LittleCoMary', u'RaffaellaRS', u'UICnews', u'999anik999', u'sundarramachand', u'cmctechjobs', u'patrickrvokaty', u'mswingler12', u'rrsreddyece', u'zenidiot99', u'NCSSSMST', u'manoharvarma222', u'ly86518', u'uncle_sports', u'Yamm_manish', u'rockiitd2014', u'VikasNimare', u'sbled119', u'muelle104', u'RaS_Crane', u'hsp3156', u'Inteliclass', u'NGP_energy', u'CoachZeifert', u'manmeetsays', u'JuliaNesheva', u'PartsFill', u'a_gastelum', u'hiren123ify', u'alexfreelander1', u'realvj', u'Honeywell_Jobs', u'AgatiFurniture', u'tarunkumar17398', u'kushal_shah12', u'WenzhiZhao', u'LinaGrigaitis', u'udaydhakar01', u'dyingbreed323', u'chandi2025', u'levilut15', u'Im_not_angry', u'iit_bhu', u'BKcleanslate', u'vmclotuseducat2', u'avyas916', u'OmarShaik10', u'Grad_Programs', u'RobertK1996', u'nunekrishna476', u'saileshpoudyal9', u'steve_tak', u'UpbeatMusicChi', u'CorineBoelk', u'Esodha', u'venu01005056', u'Javier_Parrondo', u'HMeese_IMechE', u'iitwhiteboard', u'somanylittles', u'Kaaush', u'ShivamIya', u'fiitjee_eastD', u'stadtgeist', u'Scientel_HR', u'SivakumarSvkrs', u'achieverspoint', u'HQ_Chicago', u'rcb_vinayak', u'frotamari', u'Lloyd889', u'NCWIT', u'a_common_man', u'felizulhendri', u'aerosumeet', u'JamesHehehe', u'itsubraamani', u'jsarthak8', u'ExamPAD', u'naresh_bng', u'EbullientErin', u'NapervilleCafe', u'Joaoafq', u'maheshwar2509', u'MEIGANDAAN', u'MicheleZavatti', u'GCModelUN', u'Heer_143', u'ShikshaDotCom', u'computermasti', u'triahousegirl', u'IITCampusLife', u'MLabatVAP', u'Jewel_Shadow', u'ichikhic', u'naemesh', u'mohdtabish225', u'CareerExpress1', u'HydeParkHerald', u'okvisaus', u'Ronaldo97000000', u'swathip1992', u'yashwanth2094', u'vs094900', u'WotNowApp', u'talon_challenge', u'happybincas', u'Catherine_WZH', u'PratikSah3', u'TakuSugimotoCIT', u'cirsemruiz', u'kimnykaihan', u'keycodez', u'cgreenlight', u'AswaniVi', u'AgarwalBhawana', u'Abhishant2', u'SankaramDas', u'iamKSam', u'sanargoli', u'WendysCity', u'abigailHkim', u'The_Primate', u'Damiobash', u'eepeshnema1', u'sharmapreetam', u'ShreySingh3', u'chi_chaudhary', u'CamiloACortesG', u'SwetaRaheja', u'EcoGasFields', u'SvBhosikar', u'LivingDonorLove', u'jonkavanaugh', u'Shringsumit', u'FtwFollowers', u'JojoJomana94', u'AmrMohsen95', u'orau', u'rblairrobert', u'CalarcoNacie', u'CollegeJosh', u'clandestinChem', u'vickyiitmadras', u'B2WD2009', u'gauravphatak', u'zhusharenla', u'ROHITBINAYMAHAL', u'MohitMs35', u'Vickie_Austin', u'AAUWCampus', u'Hugo_de_la_O', u'23f487edfaa244d', u'shubhamwankha10', u'ypu_iiti', u'elexclub', u'IITGoddess', u'Ashrafaamir_007', u'EdUSAUNIFOR', u'raj001992', u'rahulzam2003', u'Clutch427R', u'cintron248', u'chemistram', u'arihant15', u'8Katalyst8', u'revaa', u'intellectiamkt', u'bill_cardoso', u'laoma86', u'KapilLamba', u'shoaibspreadlov', u'rkundu26', u'silverspringnet', u'sylvianancheng', u'SamTHBob', u'lokanem', u'cowboy_kehoe', u'MassUpdater', u'rajpatel3189', u'mayuhanhp', u'DGonsch', u'rashijain124', u'ChrisMichele', u'susheelpraneeth', u'UIStateRelation', u'PhreDsThoughts', u'ddiwasaki', u'rthy_a', u'StartUpMagNY', u'vingorat', u'RaphaelleLoyer', u'_Malik_MB', u'rockystunner', u'zakimoh113', u'msrapp', u'KMartinez_Esq', u'onkarkulkarnirr', u'chelstartupchi', u'frafrii', u'Peter_Liujc', u'ramkumarkvp', u'faizanz14620', u'irenelohx', u'AIAAIIT', u'IDSforward', u'chris__ulrich', u'nessaraptor14', u'ravitejavaitla', u'kathyeaustin', u'_travel_info', u'iitcsdept', u'MeaganSarratt', u'Nature_IL', u'hashmisaamir', u'PalomaNoir', u'hemuraghu22', u'Vikrant_gaut', u'stevenson_ricky', u'nehamiracle794', u'MEESHENT', u'nuclearsciweek', u'Robert_Abrant', u'VINEETCRICKET', u'yaswanth1912', u'libgirl16', u'RealWorld101', u'BrooksInstrmnt', u'juangui535', u'shawshank_38', u'SanjayGpm', u'karnaalive15', u'SANJEEVRAO004', u'AshOrkuch', u'ITCC_Chicago', u'pradeepmona', u'Pau_GGd', u'THEDIEGOAVILA', u'Unknown10Uw', u'RUBANRAJ_J', u'LyleEngineering', u'madhavisingh188', u'SUPRIYASAURAV', u'HEITMAN_Chicago', u'Loopintegration', u'h9r1kjk', u'SamanthaAtIIT', u'binkthecubfan', u'kirty_raj', u'barinder30', u'LogicalisUS', u'NITINSINGHALAGR', u'SovaJaime', u'SShalini14', u'RoYaLRules', u'itsh_me', u'Aug3r', u'VivienGong', u'engineeringcol1', u'ChicagoParks', u'SayedBabu4', u'vinnable', u'TrevorMauro', u'vaibhaviitb10d', u'KylerQueen', u'nairrittym', u'AronKarthik', u'St_harpuia', u'iitExposure', u'SpirituaLifeIIT', u'RobinRobinson', u'MasonResearch', u'padblmin', u'mahak_patil', u'mcgmolly', u'saljahen', u'NealSchaffer', u'sterlingeng', u'jainh875', u'GreenFence_', u'LexiaIntl', u'AlyaAWoods', u'KiritKhant', u'Hussain27540950', u'cnun999', u'insomiagoku', u'Prashantkumarty', u'drumcorpsnut', u'UCDavisCoE', u'jason_point5', u'EdUSARussia', u'djkvarma91', u'Lynne_M_Meyer', u'print', u'youngxnick', u'OriginalSidd', u'rethinkingadmis', u'JDKFLY', u'SketchingBlog', u'Belding', u'MyCoedConnect', u'vickyysiu', u'varungn', u'FarazHussain', u'dhruvesh_raj', u'nikodunham', u'kphsfan', u'VictoriaKMeyer', u'pozhil144', u'ViolentPython', u'urbangreenloop', u'jeenal_lalan', u'krishboopathi', u'TLC_USA', u'DebjaniBiswas', u'vaatlagi', u'IllinoisTechIM', u'jabiz_sh', u'ChiKentFedSoc', u'AGSEAlumniAssoc', u'Vincent_Aditama', u'RosieChhetri', u'sarahhammer5', u'mdnasir4u', u'984uiroxna', u'tushi31', u'ejmoses1', u'leibowitzdesign', u'hansungip', u'FractumAngelus', u'MysticNavyPier', u'shahzalak', u'ZackRamirez1', u'Folta', u'EdUSABucaramang', u'gunnota', u'YogeshSharma290', u'MohammadFasahat', u'TeamPrecision', u'hanyu85', u'jhartig1', u'FReichert7', u'keellakrishna', u'WoodvilleGuest', u'SHRIYANSHSRIVAS', u'ASbhardwaj', u'shrivivekhr', u'DrRamBajaj', u'k1vara', u'Catalina718', u'ScribblePost', u'Bedloft', u'campuswall', u'YL61', u'MangoCommander', u'BrandonPearlman', u'Rammoorhty', u'InterIndustryUS', u'healthysaurus', u'ChicagoKentIPLS', u'vamsi_chittem', u'rakesh2419', u'jawale157', u'vijay_239', u'ritanshyabh1017', u'TeeGreek', u'ykc07081', u'VisitDecaturIL', u'zeasteducation', u'BlazingUzma', u'jamesshi93', u'poljoco', u'dsogani', u'RayTrygstad', u'Stamped_Chicago', u'HARI1008', u'Mingchatleiba1', u'Shivamkumarjai8', u'AikramMaradny', u'xq8x2012', u'zhangnansdu', u'architects1', u'jaijochalissery', u'DeniseDOlson', u'ChiChefLee', u'miitsa', u'weishoujun', u'gabrifneves', u'KymAbramsDesign', u'PopsikleShop', u'IITSOAR_Zofie', u'Tko1979', u'PegKeiner', u'Iam_Soum', u'pranayraj09', u'icsCaroline', u'howdouragu', u'IIT_HUM', u'orblivion', u'CampaignFor100', u'southmetroed', u'JobsAtSteelcase', u'IITSOARZhenhuan', u'punit19nov932', u'hamzaobaid', u'KashyapAsutosh', u'Jain799Sk', u'UniversalApp', u'tmaverickcs', u'tomsonlee0213', u'harimangalp', u'SukkiHong', u'eCellfellas', u'sachiReddy', u'Bee_Rifai', u'niravpmalsattar', u'AltamanuInc', u'hemant1456', u'stefaniasini', u'whatnonsense2', u'Praneshj', u'engiinerd', u'hoffman4IL', u'KateBaran84', u'agodika', u'jonnyd68', u'ELMANO2121', u'nhshams', u'madhukar_desale', u'Bruce_Wieland', u'dirk2823', u'tullman', u'gauravcreative', u'apdarshi', u'josh_t_beck', u'RicMutum', u'Brandon_Linder', u'StayVndrTheTide', u'rmbloom10', u'cschnie', u'EnergyIL', u'ernagevondyan', u'sgogulam', u'Naumaaaaan', u'ArmyChicagoXO', u'KiranNanjaiah', u'MagnanimouSatan', u'MenglinC', u'farazmalik2009', u'ccrealty2', u'GangplankGame', u'AACTE', u'ShaanAshfak', u'NVHSAlumni', u'Saleh_Yousef', u'sarathsona', u'S____S________', u'ChicagoImages', u'asaramnaveen', u'iitdtd', u'ktpapa', u'19febRituraj', u'SwapnilDehradun', u'Romit9', u'NRGCONNECTION', u'chicagochica', u'mohitkumardohar', u'UICscience', u'nithinaliastin2', u'crackiitjee', u'karthikeya1998', u'cline0813', u'IllinoisTechRSF', u'TEDxWindyCity', u'garypark20', u'TheClockNewsBIZ', u'parinita575', u'shanki2k8', u'kmarie2013', u'michaelslore', u'StretchPatzelt', u'blossomkota', u'juliomd', u'HajjFlemings', u'LeeyaJL', u'HopThePond', u'alavivi', u'UNAMChicago', u'DobbenMaria', u'joanders2015', u'mathscience235', u'rodtorres', u'RichardMcGuire', u'RUBaseball2', u'rupamdas1992', u'CrimeAlertApp', u'vallikishore', u'neetip', u'tforlini', u'sharathmurthy5', u'ramuias001', u'AirDiffusion', u'foresightdesign', u'chaitany554', u'ANIL1964MYSORE', u'Tom_QuestCC', u'iitian_p', u'PilarbrunoR', u'soldatovat', u'compiledwrong', u'JusoorSY', u'C_Ness_', u'indian_kul', u'LoyolaChicago', u'cloudiit', u'theonly_libra10', u'animesh3920', u'TechnoSUM', u'VikramAajay', u'rickfazio', u'dl_magazine', u'PARCCPlace', u'banoonoo', u'Steverino888', u'SustainableTall', u'FFaaAn', u'pavelkukula', u'rajeevyadav892', u'NrGizeSmoothies', u'LegitApps', u'lidosh8', u'xrvbcn', u'howstheliving', u'abbyraskin', u'MathWeekly', u'yangcheng922', u'Justdecide', u'SLROnlineDegree', u'NiloOoB', u'javenzing', u'SWHPN', u'ayush287', u'AbhayJhouta', u'Traci_Flowers', u'NFA_Careers', u'VanessaAntar', u'Kush_Herur', u'StartupAcctngAd', u'avgeek789', u'chetank456', u'coolsiddarth93', u'ILCharters', u'sanni_02', u'douglascork1', u'DupeI', u'JeanneWhalen', u'souviksvkpal', u'Chi_Innovation', u'erpscholar', u'toreip', u'8himanshu8', u'AyalaNaphtali', u'Tj_Dr', u'TahaKhademi', u'LuciusFEver', u'fanzexiang224', u'shahidashraf74', u'EjessieE', u'monterrey2232', u'GeorgiouPaul', u'ish_trendsetter', u'sahicorn', u'Floeyss', u'ecomagination', u'General_Ed', u'auslctr', u'SanfordWolgel', u'Erik_Schuessler', u'BryanJField', u'IADTschools', u'Haykey_Chicago', u'cyriltrosset', u'AumShrivastava', u'eKnowID', u'FondazioneTLS', u'patilyogesh17', u'gehuofficial', u'ErSachinTiwari1', u'I_am_piyush7', u'ICOlibrary', u'WhitlockArch', u'IssacDaimari', u'peestuck', u'dorian_escplan', u'gtechstaffing', u'DengTingchang', u'JennyGooz', u'kulsumsiddiqi', u'c_loeza', u'akshaymeshram1', u'fancherart', u'vrupesh1', u'mariai9898', u'udharani31', u'alpharomio96', u'OldJewsOnStage', u'braddatz37', u'ltinysheep', u'IITMLA', u'inveneo', u'kwaterlooart', u'DesignPlaceNews', u'NeelDShah', u'iit', u'dincbasar', u'shailshah007', u'ClemsonCoEngSci', u'gsmithlive', u'niktarbiz', u'JeffInHat', u'Jorgibnz', u'MCHUEXZ', u'billslater', u'hautesausage', u'ZCollegeLife', u'INTLNETTERS', u'ClarksonUniv', u'GoodlePlex', u'KULABHAY', u'CityYear', u'jasskiratsidhu', u'hotchiliesevent', u'glasshalfFULTON', u'heounsuk', u'SRStibal', u'bohua913', u'GalvinLibrary', u'HDPartners', u'kstango', u'tabishanand', u'kwrightPhD', u'Thorntonsinc', u'bharathelango1', u'saranyarecruite', u'WESAdvisor', u'followkurt', u'INXPO', u'b_garber72', u'JJsList', u'pkaynunoo', u'nekkanti_teja', u'Munish_honey', u'DylanAMinard', u'daniyakamran', u'SerenaMYL', u'ChitvanSingh', u'CharlieJia', u'SioLupine', u'ScienceChicago', u'ZishanAhmad', u'mohamaddehnee', u'alan139126', u'ArianaCydney', u'mingtaol', u'chunhui_iit', u'Truth_privails', u'Wonmin3', u'kapilDwaghmare', u'IPBlawg', u'hudmol', u'bthurman4', u'gokulraj113432', u'ConcordG', u'rasbel11', u'EyoelAsfaw', u'itbyjacc', u'GetGarveys', u'NewEraAcademy1', u'krajit1995', u'IITSocSciences', u'hishowintlltd', u'vikashk13837146', u'Turnitinadm', u'OptionsCity', u'DeepenK', u'LabBharadwaj', u'HughesIIT', u'ROKcareers', u'cool_arin96', u'careerprepare', u'trebcocompsyst', u'qiaokan', u'mytoptentutor', u'Neuendanker', u'IITStuart', u'sumitjh52350701', u'OriginalRodo', u'gpdoyle', u'jeniatwell', u'GoisJesse', u'ShadabFrnds', u'sekhar_1234', u'TimothyLalowski', u'K_uda001', u'GenesisClasses', u'geomborgiapace4', u'yk9_kr', u'Aviharsh186', u'onelost99', u'Matt34Bears', u'Altair0319', u'saulpardo', u'MTwiko', u'jakewhitlatch', u'huwit_lynn', u'daniellefilipko', u'Vaibhav_Chou', u'OrigamiCapital', u'yvedpathak', u'dannyy1291', u'oOerooo', u'mkkunnal', u'PGaddewar', u'partysnow', u'TechEase2012', u'shobhit_96', u'RexGyu', u'inspiredata7', u'raghuvemuri', u'chicagocodecamp', u'Tushi_2010', u'ChaitanyaCampus', u'IIT_DS', u'Alex_lilloco', u'marketEnomics', u'BarnRaiseID', u'HarshKeepers', u'Doctorzeng', u'lisagandy_ai', u'ExecAssist1029', u'SPSCC_ISS', u'Nipun_Insa', u'caffenee101', u'NumberNile12', u'brcusa', u'shimerhomepage', u'W2College', u'ISTCoalition', u'GuillerArroyo', u'VishwanathViraj', u'proton243', u'akgtweetzz', u'venky_efarm', u'shopswindows', u'viteduin', u'SuzanneRRees', u'BiafranActivist', u'cindrella4u31', u'davidbakerchi', u'collegemoney', u'AmeliaMarple', u'JMahabaleshwar', u'RedEandD', u'Bruiser4Eq', u'gitaganesh7', u'KangmiaoSu', u'Gabriellerz125', u'_sparkliness_', u'karpilo', u'Hidelocktake', u'KempHo2', u'jefferson_west', u'tsantitanosoy', u'UChicagoLocal', u'edukista', u'Jim_Hensel', u'bernardmoon', u'Retail_Careers', u'JakeBruns1', u'jasduke_', u'byumilove', u'HarrysFrozenD', u'DBEducation', u'bhaggu', u'aaron1025xq', u'onkar_11', u'LKidera', u'CPExpo', u'CRZZRS', u'pridkett', u'santhooravi', u'SeanZhang2012', u'nancyzhang2', u'074819755221326', u'cybercrimemanua', u'GetFooScienJobs', u'harsha30031994', u'007d9ad8eb5c437', u'malchapure', u'Jolenaswl', u'UniLimIndia', u'shubhanshusharm', u'nourissa___', u'claireystew', u'GregMakowski', u'lgg4027', u'saxena_chicago', u'RichardMorrow', u'paigemass_', u'ranjan_srk', u'Ankur_Maheriya', u'jesushdz_', u'melinadeoli', u'shovonvoips', u'ShIITy_Shirts', u'pranay_dce', u'satnams15356402', u'sagadudu', u'KelloggIDEA', u'MunirMuddasar', u'BU_Tweets', u'SUNILKUMARSIRJI', u'CHEdgeMakers', u'VSGlobalVision', u'StudyZone4U', u'IlchyshynVolo', u'RepBobbyRush', u'theCHAtweets', u'martamartinso', u'bjain96', u'BCOtweets', u'cp60188', u'PitIntelligence', u'samsmarty111', u'ddrotts', u'Marlabs_Campus', u'zobaer1989', u'LatinaConf', u'grosas05', u'lloybra', u'anuvaresource', u'sadderly', u'dmaulikr', u'IL_MED_DISTRICT', u'rahuljaiswalbth', u'SnehaVilayur', u'since1882', u'eleise0409', u'deMorsier', u'kunlewingo', u'zhengpengusapp', u'methespeedy', u'IIT_Melanie', u'TexasTech', u'RepHultgren', u'HouWenyuan', u'chirag12513874', u'peppergroup', u'arakausk', u'raghavkashyap4', u'WW_Lopez72', u'ry_louis_bo', u'gestual_ity', u'JGonsch', u'zenginrocks', u'bjbarreto', u'mehmetaliozdem1', u'yayo_85', u'vinayakmehrotr1', u'College_Talent', u'GradImages', u'iSeryapin', u'gauravkumarin', u'VOADesign', u'TweeTucker', u'ReginaMamou', u'Anderson2198', u'ISOG_Genius', u'StudyUSAcom', u'empxtrack', u'PriyaKumari8', u'kidsmentalhlth', u'RamiroH06585750', u'dhitterman', u'ThiruUSK', u'kadambinia1', u'onlineresult', u'NHAalumni', u'jmkratochvil', u'sriram_s5', u'raflobsta', u'malirah', u'keshavpandya', u'punto_critico_', u'kejia_liu', u'SATISHSHARMA999', u'Chanki_ind', u'anilagupta8', u'ChloeVAP', u'smthng_systm', u'StudentLifeKC', u'ColumnIT', u'Balganesh_Rztar', u'deepakreddy9999', u'Wjjjaman', u'BethHanneken', u'JohnRDallasJr', u'divyansh0206', u'OceanLilyrose', u'ANSARI1006321', u'themattachine', u'IdrisBis', u'Parijat_basu', u'MoePoison', u'ja_anaya', u'KStevenson14', u'GreatLakes_MBA', u'Jerome301', u'kellyafletcher', u'omarelbannajr', u'EhsanMemmedli91', u'MiracleMcJibbs', u'AmySegami', u'om_jitendra', u'a_khan465', u'Sumit120890', u'hosion', u'aboutebihar', u'SVPTNT', u'iamfablis', u'adityakj1', u'vinothvimal50', u'advanceillinois', u'BigJoe13', u'ColorCord', u'ArcMail', u'munimservices', u'BeLalitSutrakar', u'Gulzar78692', u'evyish', u'ShaktiJuniorCol', u'gulammd317', u'djvara95', u'harvdog92', u'apis_black', u'150NRiverside', u'chiragmakwana33', u'angelbob_', u'VidyamandirClas', u'ssnlubu', u'vyasvyas93', u'CorneliusByther', u'careers360', u'SunnyVekhande', u'GuyMasterD', u'nighthawk_669', u'eivp_paris', u'rohitshorya1', u'tonivallsbio', u'EdUSAupdates', u'JMattocks_SPHR', u'3024e5acd13e4b8', u'iustkmr', u'IITaCappella', u'ptyagi13', u'thesecondrider', u'MRINVAMP', u'prasannabisen02', u'PHATenergy1', u'celam315', u'StrangeKelly', u'DawnKYoung', u'muhammedalkabir', u'MyLifeIsSweet', u'updentity', u'leojat', u'lshelbee', u'aic_tech', u'JEE_Portal', u'TFTG_101', u'adil_vahora', u'lilman1014641', u'Broekere', u'jonthearchitect', u'plantvillepete', u'02_ankit', u'adarshdesai999', u'LoveStefSun', u'InternIllinois', u'Barrettaleslie', u'manmar92', u'qiming0509', u'YungBKim', u'MOH_HAMED8888', u'JasleenKalsQS', u'tedxnaperville', u'sarahwaha', u'LordPretzel', u'prateek_paras', u'A_thru_Zim', u'BetheChangeCS', u'akhil_ajmal', u'sreechie', u'archpaper', u'fahadkh60964861', u'cloudbakers', u'777VJ', u'situ_gupta10', u'MrsHenk_HHS', u'KWhEfficiency', u'windycitywindow', u'Tim6ixx', u'PeterHadlaw', u'AhmadDoidoibob', u'TugayOzlcglyn', u'DRAJKUMARce', u'College101RJR', u'iambushradaud', u'luchoalejocali7', u'cspd', u'XiaoxuanLi', u'ajaffurs', u'CaranPrecision', u'skoda1999tw', u'EnergyFoundry', u'juliakanouse', u'anjalicg2001', u'Gr8LakesHerald', u'ISHIR', u'VIJAY106860', u'MODEC1', u'vishalsachdev', u'MessinaGroupInc', u'LindseyKirleis', u'alumnidating', u'ptnott', u'aribchaudhary', u'viral_vicky54', u'javedakhtar17', u'RoyTitiksha', u'VinayBolla344', u'ohhmycassie', u'HootCommunity', u'ABPInTheCity', u'JoeMarr4', u'ccfreestyle', u'ILTechRobotics', u'sanjusuntech', u'csufmcnair', u'TejasWalawalker', u'FWBarch', u'dannycuevas92', u'sourabh12380', u'el_chinito22', u'DrQuebara', u'mdfirdosh0', u'PI_Physik_Inst', u'chiarchitecture', u'ibikechicagoapp', u'WomenInWireless', u'ypchicago', u'dk44770', u'iammonosij', u'Communiversity', u'nverma945', u'RLDC_Region6', u'KentKJF', u'pascualcarlota', u'rkofman', u'DavidTuckerLtd', u'RobertJPeters', u'ID8Big', u'knixbytes', u'_SamDay_', u'nothingdivideus', u'tonyz114', u'j_korah', u'shashi39796007', u'banjara_king', u'tjhRCDD', u'FixYourOrg', u'CraigVodnik', u'CaerusIP', u'eddygk', u'sands425', u'VFleischfresser', u'house0113', u'GDIGrows', u'yadiraornelas', u'MiesSociety', u'3b83eeab796c486', u'WBEZafternoon', u'geluxp', u'harsh59v', u'givingyoung', u'chhetri_naman', u'daliazygas', u'krishnakayaking', u'bijugk', u'KarenENelson', u'NIKHILMISHRA22', u'rubal733', u'NickP07', u'jayanthisss', u'PiaTamminen', u'lichenyu8586', u'MIGUELMMATOS', u'AndreaEsteve', u'eandicoop', u'Santhosh4Cbe', u'Infotsav_IIITM', u'vencyley', u'rajresilient', u'bensiver', u'RoryJMcBride', u'Kids_In_America', u'ITATechTalent', u'IITWomensLAX', u'MuskieProgram', u'JasonMeiner', u'PaperPlaneCA', u'khubidamania', u'ITTJ', u'MehtaKhelan', u'GretchenBolanos', u'uw_alumni', u'FeoMayo', u'S_R_Behlim', u'Apurva1157', u'zertono', u'mlaneisthename', u'yesgunasekar', u'aamersaeedzafar', u'hkdave', u'essentialemily', u'sarah_bikes_usa', u'Examhook', u'SIAMJobBoard', u'CollegeKhabar', u'EdUSASyria', u'TLuvaLuva', u'sterlingvbailey', u'araj428', u'HarshBaghel2', u'sonu415_09', u'rk_theSunRay', u'VinayPrabhakar2', u'errajeshkumar', u'parhamazimi_87', u'Haoran_IIT', u'EdwardKeegan', u'AllstateCareers', u'FashionPETRAcom', u'IITCEO', u'hern_jenn', u'wbradsmith', u'TheEducatorJobs', u'PLTWMidwest', u'Aditya_veer_', u'laura44433', u'eBlissFit', u'macrbr', u'Rokibul56278100', u'AndrewPacosta', u'1cE29147', u'CEOCoachIndia', u'vickypandit2509', u'Jerrystanek', u'KunduUttam', u'merakerr', u'ITMO_IIT', u'10_west', u'gpierce1swede', u'hoopsmckay', u'shashika7', u'laprosky', u'doejo', u'tomrck_nr', u'RoederLu', u'vishwasgosain', u'gsayuri_', u'ShanjuChiang', u'IITSOARCongying', u'kanemackay', u'TusharPamul', u'MandaRoseDecker', u'tipuazhar', u'nickrathert', u'AshishDoke', u'charleszyz', u'Kris_HuaxiaWang', u'Krushit2012', u'ccachor2', u'TrinadhaRaju', u'brenda_gamboa', u'FarhanArain', u'khan_ishan7495', u'vspadhikari', u'RaviRan73874173', u'telegramophone', u'gyanendradhakar', u'rsamer', u'iitrbangalore', u'JimOlso43884487', u'ingg_conticelli', u'ankityadav15', u'DrywallCANADA1', u'TheUXDaily', u'bcpio1996', u'dgaauw', u'GoodDollyShow', u'Shaanraj3', u'mariselavalos', u'ramakrishnaneng', u'MtMeraj', u'ModuleXploited', u'allianzmoney', u'pannalasujith', u'Science_feature', u'YingxianLin', u'lfuqua17', u'StartupAmerica', u'Aarnikko', u'bnddmn', u'shrikanth91', u'v1nc1c0', u'hemantsoni241', u'AndrewDMoyer', u'adriancabreraio', u'123srik', u'chell0722', u'Wandaknifechic', u'romelfederer', u'AnkitKumarDube8', u'bishopiam13', u'Motioniitjee', u'gauravt05285828', u'CarlissaJackson', u'bhiAbhis', u'collegefeedTW', u'iitsga', u'CADgarage', u'CrossRealms', u'lrose1225', u'wriss123triss', u'histoftech', u'stevewolfe06', u'ashishanand718', u'bclaird', u'RG1095', u'sarahmlowry', u'George_Fang', u'teerthishere', u'RavalJash', u'drtcmohan', u'Omegasrus', u'TEDxIIT', u'ZanyLemur', u'sizzorhappy1', u'buttonedlip', u'elemenous', u'Gallery400', u'vinitmp1', u'BFinnRiverNorth', u'studentwatch', u'caseencase', u'zephanjohnson', u'GabrielConners', u'EnzodellaRocca', u'Sanya_Appy', u'Y22Yan', u'aannuar91', u'4TheRustedNail', u'karanmistry41', u'_AllyCouture', u'chermalaninku', u'Jessica_IIT', u'David_Finol', u'CampusMall', u'lrounce', u'IITConduct', u'RIMServices', u'BioGoldTonics', u'Pabloadt', u'ScientiaEducare', u'ArvindRannore', u'Dahls1', u'BradenSenst', u'Cherchiang', u'sivabala25', u'IITSOAR_Jacob', u'ybkilincarslan', u'ChiCollections', u'Yizzer_', u'pvclaldehyde', u'Superior_Alumni', u'MiesGlassHouse', u'anuttaralearn', u'bbmykal', u'PatSnap', u'EIU_BGS', u'Irshadsaleji', u'Mirageonboard', u'obgynbbq', u'RSANTHIYA3', u'deltacollegian', u'InStat99', u'EDCTechnology', u'JaniceBakerRD', u'SHPERLDC6', u'artSTEM', u'GrahamTamia', u'abhishekg_cool', u'raosunita68', u'YSPWkndAcademy', u'IITSOAR_Leo', u'gmazzulladream', u'jongmass', u'thatanchor1906', u'guyshirjitsingh', u'Allalasrichandr', u'pandeymayankpa1', u'AnthonyGuidara', u'Vaibhav153', u'wliad', u'super926', u'RUBENSPROMOTION', u'magadhuni', u'raisahab354', u'cgupta2', u'VeredusCareers', u'abuelpeior', u'Sharvesh9', u'VijaymecrockB', u'dbane1', u'yadavabhishek95', u'gerenciatodos', u'adam_bain', u'BiolaTorch', u'skrieder', u'siti_newyr2015', u'gorillakid435', u'MohitFragy', u'husssye3', u'MrHirman', u'rbnsingh234', u'enk0deme', u'ParmarNavrattan', u'SonamM123', u'PublicRelateQ8', u'vipinchandra122', u'AnnaWohlfeil', u'mr_washers', u'IESinternships', u'adamstrohm', u'Monster', u'galaxyjind', u'azocaro', u'djcworkshop', u'bhat_pavan', u'hn5hn42', u'rishikummar01', u'AMacNtheChi', u'ESchwartzUL', u'RodriguezEng', u'Bakenraef', u'ShlomoArgamon', u'sasawq21', u'aminrasooli', u'RCCDecaturIL', u'armaanlohra', u'GTowersCPVA', u'AmyDaniels6', u'mocha12214', u'IITHumanScience', u'STEM_Launch', u'seanhopp', u'GrantBBunker', u'NUCATSInstitute', u'fooltoo', u'andyj1324', u'motivater_vijju', u'attyboyd_odom', u'Formech', u'vish204218169', u'growthofbihar', u'RoyXu90', u'Opt4STEM', u'AlyssaMiner31', u'riju_bailung', u'IITProjectLEAD', u'Yoo_Pearl', u'JenMama1', u'lawrence_lorho', u'keyurgohel8', u'krvachhani56', u'awelch_iit', u'sokojac88', u'RoyChillin_', u'JaysunVeronesi', u'tweetmoku', u'AlumniCapital', u'zhouzhen24', u'18thPilot', u'Winny_Pratiwi', u'Erikeithz', u'OTSSupportDesk', u'ton3012', u'lkempire', u'arts_and_smarts', u'Johnson_Kevin2', u'janellecaminker', u'rocklikechin', u'UGMONGO', u'nav_rattan', u'nihanhamdi', u'IIT_Today', u'KristenCorpo', u'IITLeadershipAc', u'Formula_Hybrid', u'abduljalal9684', u'TheClockNewsNet', u'SmartGridMotion', u'MacCormac_Col', u'gerenciavidal', u'ucsantabarbara', u'misszanette', u'Magazine_Mall', u'AshmalMVA', u'Rvndrsain', u'master8work', u'IITSOAR_Rahul', u'maxtm', u'adam_petry', u'EcoCAR3', u'ConnexioMedia', u'ravidabbiroo', u'CCCTROOP', u'yoghashree1', u'ForestPresFund', u'assignmentcrack', u'MidwestMotown', u'dr_stephanieN', u'AnandBarman', u'Tomizback', u'99KishorKumar', u'GlobalHigherEd', u'TradingAd', u'Yi_Qin_', u'pierides', u'BenJerrysTour', u'ChetK', u'anna_corey', u'IITvolleyball', u'Composit_2013', u'dream314', u'BWGrantPark', u'kayhan_tweets', u'LukeMPA', u'BenjaminBathke', u'MunchMonarch', u'reginamktgchick', u'Plodhi111Pk', u'CCC10KSB', u'DPeckVAC', u'careersherpa', u'hzbob92', u'unifysystems', u'Karyllh', u'AyeshaBanerjee6', u'jharna11jain', u'StudentMoney101', u'SmartGridNetwrk', u'JodiHoulihan', u'ericbru', u'ktclear', u'ComCapInv', u'ErlynOnline', u'OldGirlOwen', u'mahendr50297312', u'rubiny666', u'thomasplanchetb', u'shadibeidas', u'Letsanify', u'987Syrian', u'vinay9650833806', u'ChicagoACHE', u'NathanMcMahon6', u'katiemsjohnson', u'Udayanraje2892', u'himanipawar3', u'FC_mba', u'GiGisBakeShop', u'SeksariaKeshav', u'yesvishalmishra', u'JTremmel', u'pthom', u'nycturing', u'Rajputm569Manoj', u'kjstetz', u'rahulpv007', u'manirajan', u'jewelersmachin2', u'widianto1980', u'teck528', u'IITGradRecruit', u'thinkaloudux', u'prahlad67', u'VirginiaLByrne', u'Lew_E_Brown', u'AndreaFarnan', u'rohit4100', u'baugheyes', u'Arpithasmiles', u'BSU_IIT', u'niucareers', u'twtedesso', u'CanyonDG', u'GoMoveHa', u'KateHamilton01', u'mophistolee', u'raynor08', u'MJasonHouck', u'Internshippk', u'starryning', u'Nishant14121', u'zkfing', u'coolmovado', u'determomed', u'ACTSNET', u'Iampiyush94', u'shivashikhalove', u'nobelsaravanan', u'njan34s', u'_itslesleyy', u'KraigVW', u'otrevizo', u'codesproutplus', u'harikiranraju', u'amangupta8948', u'Philonious09', u'IITJonKavanaugh', u'pattyacton', u'MySchoolApp', u'suramacosta', u'katsjoh', u'physicsgrip', u'SpiritNavyPier', u'ashitaprasad', u'vyaskartik328', u'EduUSAKuwait', u'ladybug3699', u'chinna_muthu', u'manishkohar44', u'sundeepdabas', u'abhittchamp', u'shridhar_9192', u'mlines8', u'Yongbo1', u'hetap91', u'vivekashoka', u'erpramodsharma', u'A7mos2002', u'erich_chicago', u'Pradeepansv', u'penelopepiotrow', u'einesellesenie', u'Pana_Rizos', u'Pandiyansiva', u'hrithik_das', u'440CHO', u'TSPconf', u'darshangreat', u'FoodMatters_', u'IITCAC', u'miaokatwang', u'shivamkeshri167', u'ChicagoKentAlum', u'dandz1991', u'IITOL_Jorge', u'thegueramexican', u'alnemangi', u'ashrules24', u'GSRarch', u'thatwhitecolour', u'nickirosie', u'aakliney2013', u'News_Chicago_IL', u'jcscho22', u'puneet_bal160', u'IIITianDotCom', u'OchoaDochoa3', u'BobBell', u'chrisroyal1', u'SyriaDeeply', u'shubhamagar1993', u'FromBmoore', u'lissabauer', u'BABU72975839', u'SJPiit', u'edrbiz', u'updlochan1', u'Segami2', u'TizianoCattaneo', u'xuchang970621', u'dwitimishra', u'apps4chicago', u'PearsonPTE', u'zer0energy', u'LouisPotempa', u'SameCupDrink3', u'shubhamojha67', u'Neverhoodie', u'DominosHighwood', u'pintojoey', u'JitendraDayma', u'habitatcompany', u'taydre', u'Wong_di', u'sanjayrajarya', u'aju25', u'withlovedessert', u'DARISAROHITH', u'IITSOAR_Ola', u'Innogage', u'constancewu1', u'datascifellows', u'bford1018', u'PRAVEENCHANDRA9', u'kzannat2', u'hemanshugupta07', u'FE_Solution', u'anshuma3110', u'sergiosanguino', u'UtsavPGandhi', u'LuHites', u'Imtisalshaikh', u'sandrakum', u'RDeletre', u'MuduoS', u'palashnaha2014', u'DHiranwal', u'TaliaEvedCEO', u'CeciliaCopeland', u'16786Raju', u'ssparq_kwatt', u'sivadpani', u'dnpabari', u'loganjaffe', u'dineshchandmee', u'eharpstead', u'CoderDojoIA', u'aa1234bbc', u'zhanqicq', u'erudiz', u'caseyforeal', u'Monaachichi', u'gabriel_sasha', u'aaloksinghvi', u'rodgersusa', u'BobbyLRushMC', u'TheCircleBiola', u'amitjazzypeter', u'michael_siem', u'alexismarmoldr', u'vmallikarjuna23', u'gurpreet_talwar', u'meramirezl', u'noelreeves', u'id22', u'tianchengjj', u'markakaminski', u'PattersonLaw', u'shaggysawa', u'ericpnt', u'Dany3R9', u'DominickCaponi', u'1920samarth82', u'ASilvagonzalez', u'wortiz00', u'TMadzarevic', u'm_anitha_rao', u'FearlessInChi', u'Lab_Design_PM', u'aravind30p', u'BermudaLamb', u'Aliafadel2015', u'cvparrot', u'PrinceSiddhart5', u'MRAJARAJEN', u'Academbot', u'TechWriterNealy', u'anisha_3987', u'SouvikDeb7', u'Alt_copter', u'mrinal1997', u'yinyanlong', u'PurinaCareers', u'hoomanghasemi1', u'ltuarchdesign', u'bualumni', u'CASEnergy', u'JEELaunchPad', u'WDavid_IllTech', u'CCSpeedDan', u'ArqtaEnfurecida', u'cliffordlull', u'RealEsperanza1', u'WorldBizChicago', u'Srinusu62Cnu', u'ssuryavijit', u'mhchavarria', u'karenmderksen', u'RachelBayles', u'AngelTranscript', u'nagendra0116', u'passhr3833', u'jaffarlone11', u'joy_357', u'abhishek1o', u'WernerSobek', u'geo_game', u'fariddin', u'ahmedi1034', u'Anjalyjohn91', u'TonyKalai', u'lahwahleh', u'sunilmishrandri', u'st_pd', u'manoj_mahanta', u'aap_ravi', u'rockstarpaula', u'JDACUSTOM', u'psael', u'bipulveera', u'danielflopez1', u'pggagan', u'Iam_GaneshGore', u'ShavaraCom', u'thisismydejavu', u'johncummings06', u'PepEdi_Alvarado', u'_Nita17x', u'AKSHAY3021', u'gangadharnaik12', u'MolexYPGLisle', u'swideasweek', u'CDKJobs', u'SamiChavezGil', u'lvalicenti', u'deepzhardcore', u'sciencetechidea', u'desire_path_mkt', u'EllingtonErinm', u'ElamDauw', u'manivannan10594', u'chehako', u'chandeshwareee', u'uchidaatsuto1', u'thakurchandan07', u'mohit_sharama', u'obinem', u'AdityaSabadra', u'healthpolicygrp', u'ekeleh', u'Jarallah_Ali', u'PepperConstruct', u'souravkhandelw5', u'sukcess_project', u'Naumaannn', u'JAHNArch', u'growtuityinc', u'peaktechnical', u'testabhyas', u'JimmyDamal', u'temiz33', u'97a6d254604e466', u'ChgoBedBugFindr', u'HalakeKumar', u'ShreyasChaturv1', u'turquoiseuc', u'solversa', u'iesvenki', u'ruchisinglars', u'shubhamgamey', u'jijinsoman', u'ManiBadvela', u'ScholarshipPost', u'ChicagoScholars', u'andresvn89', u'ehsjournal', u'michaelee', u'DANI1648', u'SMCollegeClinic', u'Aswinrajeevan', u'venkyrecruiter', u'WeD0ntHate', u'NehalSinghal', u'meaman1212', u'bsasank89', u'muppani', u'andrewshloke', u'mzshareef1', u'campuspride', u'arpitsh98894985', u'OldFranMurph', u'osmanzahid3', u'wordfam5', u'yuzailiang', u'okanderson', u'scientiaghy', u'Nirali14', u'ELPCenter', u'Tma10_', u'CSEPLibrary', u'FABLOSPHOTO', u'WheatonChamber', u'PoojaMankani919', u'Ricardodvj', u'ZiyaoJiang', u'EZStudentLife', u'MathewWeber', u'shankararyal12', u'Nextemployer', u'SBCETODISHA', u'iitbc', u'MelissaLeeIIT', u'SohelRangrez', u'shuklashrikant', u'kylekoning', u'vinayduttav', u'JOELADDARWIN', u'elocatelli', u'DerekDiesner', u'XorbixTech', u'structuralgroup', u'CStudentsRock', u'shahnawaz_shan', u'djrauch7', u'JessieHuang1', u'seemaku1705', u'tianrui60', u'Jack_CYA', u'andresfsaav', u'keithjbowman', u'prabarider007', u'jiten_gahlot', u'mycollegetoday', u'JMessingerVAC', u'jchristiaan', u'ZeroChampaign', u'TechweekCHI', u'bogyb', u'DrManlove', u'manishiistech', u'akhilsingh1989', u'sigaracay', u'balciuTX', u'kundan8095', u'jwelin', u'bhanupriysingh', u'sadhna333', u'agefugitive', u'avsheth11', u'srilak_r', u'RJGreenfield1', u'mtracy90', u'mizyaya73', u'MiguelPalillero', u'mcmguerrero', u'tukuaman', u'mahikc9172', u'CybuRichli', u'SRMTeamHumanoid', u'AbroadView', u'Boidus', u'carriebrkich', u'Tonijriley', u'JonahLupton', u'ChiTribNation', u'MarinaArnaldosO', u'ICV_AVSolutions', u'endernalcacigil', u'pccnamanda', u'IllinoisShade', u'susutinwin', u'connollyp14', u'dineshdini60', u'Kannan3011', u'linchao_qi', u'khizarshad', u'ecellpioneer', u'KartikSharma88', u'mBeck6765', u'mohdimran55', u'amecccet', u'Auredetur', u'warrken', u'JonMDaniels', u'Jeff_Echols', u'sjha222', u'basar2008', u'samsleva', u'amreshsharma', u'tarunsa37078658', u'RoyalShubham_', u'DanielAPTanque', u'_Florita_', u'venkykasireddy', u'killtjc47', u'IAMBBD2', u'Linsong800', u'usacolumbus69', u'VidgeoApp', u'SpendScience', u'mjobregon', u'youthawaker', u'karlstolley', u'zizipinkzi', u'sach2412', u'MoPed_MoProblem', u'AtkinsGraduates', u'IIT_Tech_Park', u'GagePark4Reform', u'global_grounds', u'davidhoffmanca', u'davide_zanardo', u'RittickDatta', u'3dcampustours', u'gopeppers', u'Runanyan9', u'touslesdeces', u'EEChrisB', u'GovCareerPaths', u'aki_419', u'WisdomLe', u'events_exhibit', u'ZhouCd', u'GREATUNIVERSITY', u'INSIGHTPHYSICS', u'cosettesaurus', u'KefeiHuang', u'lipakshi5', u'YolaChicago', u'IITEngineering', u'ISPPChicago', u'maheshask', u'AnaMRossetti', u'rajrajurajeshth', u'Jezebel1115', u'strawberrybev', u'einna314', u'jeniferjaneyoun', u'snarayananstaff', u'karinigirish', u'Ji_Zhang_CN', u'nandibaba', u'CFA_Chicago', u'KoppaRajesh', u'bikash3600000', u'sameerkumaranan', u'leahbeah1234', u'Ashutosh_5', u'pmerrion', u'loica0802', u'Sika', u'karishma_kumar', u'studyatctu', u'Akhil_Soni1', u'EzeSoft_Careers', u'AmyMartin021', u'xuyikyo', u'Thechopraschd', u'EdUSAEcuador', u'sgr_thakkar', u'TamerWMarshma', u'JiveDavis', u'mpdStudios', u'_GavinHu', u'PRATHAPUBDT', u'dawveedscully', u'chris_manoj', u'spatterson66', u'manoj_k_jaiswal', u'Samartheduakola', u'LiMa34364209', u'built_envi', u'saadhq20', u'iitmsa', u'yakindu', u'2ndPresChicago', u'Linuxworldindia', u'AirRunMobile', u'HavenKAllen', u'jayantprakash7', u'aantony02', u'webguidetv', u'cecr_live', u'keb11104', u'64thAirRefuelSq', u'Anil2807', u'TPantone', u'akaashpuri', u'LRSrecycles', u'lakshyaberi', u'Scholarships_T', u'teslacoiled', u'AnkitShikhar1', u'Dan_TechTrade', u'ahmasa0818', u'TheNoblePirate', u'wilsj342', u'e51fe0008a3b485', u'maruthishkv', u'fanaha', u'apeman_sapien', u'Roswell128Peter', u'astavcm', u'issidhu4', u'humo_rales', u'a3ce6fa7c494445', u'judsonalthoff', u'zainabturabali', u'orangemagazine', u'CodeVita2013', u'xoxojudith_13', u'IITSOFA', u'EndlessUrbia', u'RohitMordia', u'Wenjun_Xue', u'FentonHS', u'ShowPlaceICON', u'US2020_Chicago', u'ThomsoIITR', u'heattreatjay', u'AmanKas57257280', u'amar_ganji', u'arturoveiga', u'architectsdb', u'wolffpack71', u'ecorson', u'Skills4ChcgoLnd', u'NovitaTraining', u'iitmpsalab', u'janeeerwin', u'pruthvee20', u'easydataIN', u'nitkinfo', u'DhavalKadia', u'PivotalChicago', u'CharlesHanna', u'ChicagoCIE', u'Vizard_dhawan', u'core_ce', u'dharavath97', u'manuvora', u'A20281780', u'lyric7012', u'yzhan125', u'sahilansari1184', u'mpearson83', u'teamloletaroca', u'JohnCesarone', u'PBDWorldwide', u'shubhampoddar47', u'Chicago_Cupcake', u'LifelineEnergy', u'xavii', u'IIT_RTC_Conf', u'AIAChicago', u'Gauravraj89Raj', u'college2job', u'sinarquitectura', u'cmshood', u'sonalshikari', u'ShivamS35159794', u'MoneebRahhal', u'emiliosasof', u'mishra_pradip', u'qli31', u'jjiandersson', u'SMACdat109', u'KevBASSy', u'RitamPodder', u'itsoluation', u'a_vahlis', u'evil_slacker', u'huangdongfang', u'AnnieS_IIT', u'GusAlvarez7', u'YUExecutiveMBA', u'GrahamFound', u'Gustheman', u'f7733', u'wallockpatellaw', u'loretang1', u'jain_sankalp65', u'mostafaalman', u'The_CIT', u'nquir', u'DpDeepti', u'Mattioda5', u'jimchen511', u'snehalshahr', u'jjaffke', u'925inMotion', u'PoweredAlumni', u'sheena_enriquez', u'RHHSJBJones', u'HR8920', u'Aditya_jha007', u'ashley_cahoony', u'AndyWolanski', u'IanSeq', u'nerdgrad', u'krgauravraj32', u'Arunkrns', u'LynnCHEN723', u'prakhart4', u'SWAPNIIILL', u'ILASCD', u'tweejibu', u'chicagobotanic', u'thisnaturalista', u'LMH1583', u'water_DOM', u'missdjfarce', u'EricTrinet', u'InfiniteTng', u'LaoluAdeola', u'WarrenBent', u'Avinasharma1994', u'Dolldendio', u'Bob_Bookman', u'abhinav_nicky', u'LMabry4', u'PsiChi_IIT', u'minkyusong82', u'ericokamau', u'LuGraceWang', u'pkalia7', u'gannonam', u'barkjef', u'JobRadillo', u'RASOOLSALEEMU', u'CBcollegewise', u'DiscoverDuPage', u'bhargav10', u'RTSGroup', u'ShaneMEagan', u'rawkxtar18', u'poizenisxkandee', u'AlexAGCarlson', u'ProjExplore', u'ekleezy', u'Zero2Five_', u'ghada1627', u'AIAIllinois', u'hemalrocks81190', u'Talk_A_Phone', u'van_alen', u'mrosenfeld11', u'FlywireCo', u'SkolSystem', u'SammanHani', u'imAdi54', u'sun_yukun', u'NinzaSumit', u'gaurav1737', u'AgileTonya', u'MarisaHaire', u'manar0508', u'kcirtaphcir', u'kakapradeep100', u'Graceguin', u'FADS_ILregion', u'contact2sneh', u'wtmcgee', u'octchitect', u'LIVE3R', u'Scholarship_US', u'rainedal', u'om_vnit', u'Aliahamed23', u'StudyBuddyAsia', u'stitch_mine', u'LiqThoughts', u'debgpi', u'OutsideCal', u'IvoryOnyx', u'Get5Degrees', u'AdageTech', u'guhAMIT', u'MatheusAFSilva', u'prashanthbr', u'Shubham2512s', u'hollyce_chitech', u'DeepikaraniP', u'DAMAS91', u'NAE_DC', u'384663', u'abhivor', u'danbockenfeld', u'rajkmsaini', u'er1p', u'ashish_kr_umrao', u'ggrisot', u'hardiksp28', u'balaji2603', u'chand_goutham', u'gravitonspin', u'laylasteddy', u'areemtea', u'IAT_TUGraz', u'siddhantrana28', u'artbugg', u'DougCirqueira', u'United_In_Mcr', u'ArmandoLimon', u'morgan23peters', u'NameTagWizard', u'Mocha_Laveau', u'SASFNY_STEM', u'ChrisCwilli15', u'KassieGao', u'Campuseek', u'munishgupta8', u'IITSOAR_Dakota', u'amitchandravans', u'RSalastekar', u'dantejcp', u'DC_EXPERTS', u'ASO_IIT', u'biubiuwhisper', u'Copyeditor', u'dharoalo', u'peacesoutheast', u'Chicago_Reader', u'iitk_ee', u'augten95', u'broadcoalition', u'AUSLChicago', u'tiagomccs', u'sxh1991', u'PiyushsharmaIT', u'LINKUnlimited', u'martinezluis', u'Chicago_now', u'anyimeng', u'Sankalpa_Kumar', u'DLGreenfield', u'nicetchman', u'bybarty', u'Guanglei_XU', u'windycitizen', u'JGMA_architects', u'GLSC2016', u'blackmoonibl', u'GTRTCDUMKA', u'niczito', u'ouraliah', u'mbp4games', u'BRATBOY_DEEPAK', u'denaanddena', u'Aki_lles', u'Stevvie', u'NahmodLaw', u'arunkant4pro', u'Biobulletin', u'JaimeSBanuelos', u'idpryan', u'IitPs', u'ChandraHome2013', u'laurendrandorff', u'BestWesternReal', u'NewFurama', u'arrearstudent', u'RollKraft', u'harjee_s', u'bridget_vaughn', u'IrishAntagonist', u'KwadwoAnane1', u'gchirag2', u'ghrdc', u'iacsjobfair', u'SpicyQube', u'Eurekatory', u'BobMihelich50', u'AshishBamnia', u'wightco', u'EventsReno', u'OuttaTheBlu', u'manojdattu', u'CliftonMuhammad', u'Nandini74993456', u'IEMC_Industrial', u'Kshitij_Edu_Ind', u'sakshipandey02', u'sunnyrkg', u'SheenaVEnriquez', u'oneindiastudy', u'milinpaul', u'srodrig5', u'Manoj_Varma_P', u'rkpsir', u'chubbrock29', u'ajohnson11onu', u'anranzejing', u'TheClockNews', u'IgnacioPRico', u'quitee11', u'KendraSveum', u'tracy_karpinski', u'UHouston', u'everyblock', u'Saswata1995', u'RAHULMITAWA', u'ammav508', u'Maecheri', u'isamorales0', u'kunalkumar00000', u'noe_paijo', u'dhaval228', u'fira_ziza', u'GusBus3799', u'Niranjanpande9', u'OdysseyChicago', u'JagiJXJ182', u'LiliaChacon', u'bharatedu', u'PALSatWork', u'JOKEPAL', u'dey96981101', u'Iemsumit', u'sumitsharma388', u'sakthivengadesh', u'Lotonoro', u'100100058Monica', u'Khushsingh96', u'ashutoshkumart6', u'agavesouth', u'ravivekanand', u'ibrahim_ermenek', u'matthewheston', u'iit_apa', u'cementhard', u'bmrubin', u'_timlee', u'sagargaikwadjnv', u'vinothini_cse', u'kartikshah283', u'panache014', u'tieokajima', u'zerotranquility', u'ikcm22', u'rdinagar', u'crynot_', u'CollegePreneurs', u'NCSEonline', u'MSFTChicago', u'civillengineeri', u'vincico', u'jaylent4', u'EWBUSAIIT', u'hairstonfail', u'GAURAVCH2', u'KZamoyski', u'prettybabe2015', u'Snehatiwari21', u'IFMyBossOnlyKnw', u'Valagamba', u'iAkashRathod', u'PrasantKarn1', u'yzhou1990', u'Litonlaskar', u'Sanjeev__Shukla', u'abhishukla4630', u'SheaThePineCone', u'CreativeElctron', u'xkzeroJulie', u'shimercollege', u'rdjayanthi', u'di_hu', u'vishwajith1', u'niuzihan', u'jialin0701', u'Spar_10', u'Narayaniites', u'SLCE_UW', u'jaga_prasad', u'DanTheMan8555', u'Architekt2', u'BOMAChicago', u'sanrimisafiri', u'MuchSoAmaze', u'KellyKonk', u'JainAnji', u'SWAROOPNC100', u'AparnaSingh92', u'haneen_sweis', u'JordanMartz', u'AgirlIitian', u'imustdog2', u'BrevoBricks', u'ramirez_458', u'formmagazine', u'2COMS_Career', u'HongleiL', u'EricMHetzel', u'mari_fer0193', u'angel2abe', u'Lambda_Hacker', u'ubiquity75', u'ashish_ksharma', u'yuykevin', u'RuiJasonCui', u'sanjay11896', u'jangir_ash', u'rnadira', u'greatgaurav1', u'ScholarsAtRisk', u'dlsANL', u'rinijannati', u'aryasaurav25', u'amitkumargulat1', u'arce007', u'WMPUtilities', u'indigointeract', u'2011kumar786', u'supernirmesh', u'SaryHallack', u'ChicagoEDT', u'akramabouzied', u'specialKevin', u'mel_daily', u'BuddhistBob', u'NidhiSubs', u'k_beckk', u'aecAmritaSingh', u'mblack47', u'lwoods531', u'Axion_RMS', u'atlista1', u'amiesrikanth', u'thetg', u'iiTBusch', u'Kueso45', u'Aesellers11', u'sachinrajwal', u'javier_ci', u'IITSOAR_Egle', u'claytondaher16', u'Comp_Inst', u'Florenmichmach', u'RamonJorgeT', u'aakidatta', u'jdgershbein', u'siddharthjais14', u'kalelshubham', u'PollittMitchell', u'NenadTadic4', u'johnson_teena', u'TechnoInBites', u'amg9986', u'ConteChicago', u'NicolaSumerano', u'rshra', u'nic_msu_2001', u'TISS_Forum', u'pmazidi', u'IITRockstar', u'AlinSukey', u'ZhefuCc', u'pappol', u'stephenfgrove', u'akchinta', u'CaptainMaxCat', u'Tpatni', u'JOYTHISH', u'soffeeyang', u'ChiChamberCEO', u'tfetimes', u'MADCADcom', u'ravikumar88332', u'Invasionist007', u'evasemark', u'DangeroOptimist', u'ETIGlobal', u'savetheramova', u'edithuddle', u'pacoleon11', u'FotoQmola', u'kitaabmarket', u'ssudheer698', u'RobertGroves', u'brobandillinois', u'lancerp', u'KentThemis', u'americanscitech', u'fardmuhammad', u'JCrispinoSIG', u'WoodrowWilsonTF', u'senolkoc', u'rockparth12', u'boran192', u'MahsA_Eng', u'TheBindaasBaba', u'PanIIT1', u'vonagreko', u'dollbedmaker', u'jack_busby', u'lsweers', u'KristiDula', u'Nithin_S_Das', u'Herisland', u'lilotalk', u'ryanjhayman', u'ChiTownTamale', u'readyforce', u'barelakash', u'kaivalyac', u'IItian_Miraj', u'AamirShaw', u'PoonamBabruwad', u'Cody_mer', u'erodrig7', u'iitubf', u'marshalllawe', u'srini_dk', u'WILLATKINSON3rd', u'kumarsujeet899', u'shortyawards', u'GANDHIVIVEK4', u'GlobalHHA', u'Ladypdj', u'Agrigum', u'GlobalUGRADWL', u'tonglaoshi', u'CEA_Fest_IITM', u'EdUSABrasilia', u'career_thoughts', u'mandyxu2010', u'fdagnew', u'luigip720', u'Wkauffiit', u'Chicago_Places', u'jitinkapila', u'KD__10', u'MunozMatthew', u'adi12962070', u'sathbhai', u'EktaDogra', u'rentabikegoa', u'USA_Logistics', u'Kim_EnergyJobs', u'rashijain124a', u'CoachSchweer', u'sridhartwins', u'MelkorEru', u'jayvyas13', u'kristinbarrett', u'radillence', u'PieceOfShib', u'loomlearning', u'SarahLKentner', u'ALittleBitOHome', u'AnoopJ1996', u'navspavs', u'Uni_Search', u'americanacad', u'sachindixit99', u'KashifUddin1', u'HeatherFlux', u'SandbergDD', u'MdRashidHussa10', u'Dorisnavarro_22', u'KevZheng', u'A2JAuthor', u'safelyfiled', u'CSTmirage', u'sundharamsakthi', u'phredearth', u'resonanceabad', u'winningticket', u'arq_wilfredo', u'PeterDuffin', u'sandersbrand', u'kaka3stan', u'ambartuce', u'pilipalahongtai', u'AjvinderSaini', u'cmbuzard', u'nishants', u'MGarg2305', u'btjahjono_t', u'BrettOmmen', u'GregStaskowski', u'PrathamNawal', u'IITHackathon', u'atelierdrome', u'Brubeck_Inst', u'sedrabnivag', u'faxmachine1270', u'AapRaga', u'auro200', u'optimadchglobal', u'MagdyMohamed93', u'econ_progress', u'PbNnojace', u'rushinalive', u'SirGeeOoh', u'cpgr80', u'sai_378', u'mohitchittora98', u'anupraaj', u'Manashjyotidek6', u'CHANGEIL', u'sanishaikh5', u'HaleyDhara', u'SIMsmartUSA', u'ShoeBarNo', u'theenergytimes', u'hongyiyu34', u'alumniattitudes', u'BeALonghorn', u'LaurenMilano', u'IITSOAR_Vanlim', u'ColonialLifeCHI', u'qamed1', u'ESkid1121', u'GLAMIIT', u'StudentAdvisor', u'tobydick1', u'hardhathub', u'rahulrathee2', u'edUSAguayaquil', u'archanausa0', u'asinha', u'athangeolas', u'himanshukumarg8']\n"
     ]
    }
   ],
   "source": [
    "#print len(pickled_iit_followers) + len(iit_followers_2)\n",
    "print iit_followers_2\n",
    "#if \"GDFSUEZEnergy\" in iit_followers_2:\n",
    "#    print True\n",
    "#else:\n",
    "#    print False"
   ]
  },
  {
   "cell_type": "code",
   "execution_count": 14,
   "metadata": {
    "collapsed": false
   },
   "outputs": [
    {
     "name": "stdout",
     "output_type": "stream",
     "text": [
      "6565\n"
     ]
    }
   ],
   "source": [
    "print len(iit_followers)"
   ]
  },
  {
   "cell_type": "code",
   "execution_count": null,
   "metadata": {
    "collapsed": true
   },
   "outputs": [],
   "source": []
  }
 ],
 "metadata": {
  "kernelspec": {
   "display_name": "Python 2",
   "language": "python",
   "name": "python2"
  },
  "language_info": {
   "codemirror_mode": {
    "name": "ipython",
    "version": 2
   },
   "file_extension": ".py",
   "mimetype": "text/x-python",
   "name": "python",
   "nbconvert_exporter": "python",
   "pygments_lexer": "ipython2",
   "version": "2.7.10"
  }
 },
 "nbformat": 4,
 "nbformat_minor": 0
}
