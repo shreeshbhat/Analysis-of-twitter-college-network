{
 "cells": [
  {
   "cell_type": "code",
   "execution_count": 1,
   "metadata": {
    "collapsed": false
   },
   "outputs": [],
   "source": [
    "# Imports needed for this ipython file\n",
    "\n",
    "from collections import Counter\n",
    "import ConfigParser\n",
    "import matplotlib.pyplot as plt\n",
    "import networkx as nx\n",
    "import sys\n",
    "import time\n",
    "import pickle\n",
    "from TwitterAPI import TwitterAPI\n",
    "\n",
    "%matplotlib inline"
   ]
  },
  {
   "cell_type": "code",
   "execution_count": 2,
   "metadata": {
    "collapsed": false
   },
   "outputs": [
    {
     "name": "stdout",
     "output_type": "stream",
     "text": [
      "Established Twitter connection.\n"
     ]
    }
   ],
   "source": [
    "def get_twitter(config_file):\n",
    "    \"\"\" \n",
    "    Args:\n",
    "      config_file ... A config file in ConfigParser format with Twitter credentials\n",
    "    Returns:\n",
    "      An instance of TwitterAPI.\n",
    "    \"\"\"\n",
    "    config = ConfigParser.ConfigParser()\n",
    "    config.read(config_file)\n",
    "    twitter = TwitterAPI(\n",
    "                   config.get('twitter', 'consumer_key'),\n",
    "                   config.get('twitter', 'consumer_secret'),\n",
    "                   config.get('twitter', 'access_token'),\n",
    "                   config.get('twitter', 'access_token_secret'))\n",
    "    return twitter\n",
    "\n",
    "twitter = get_twitter('twitter.cfg')\n",
    "print('Established Twitter connection.')"
   ]
  },
  {
   "cell_type": "code",
   "execution_count": 3,
   "metadata": {
    "collapsed": true
   },
   "outputs": [],
   "source": [
    "def robust_request(twitter, resource, params, max_tries=2):\n",
    "    \"\"\" If a Twitter request fails, sleep for 15 minutes.\n",
    "    Do this at most max_tries times before quitting.\n",
    "    Args:\n",
    "      twitter .... A TwitterAPI object.\n",
    "      resource ... A resource string to request.\n",
    "      params ..... A parameter dictionary for the request.\n",
    "      max_tries .. The maximum number of tries to attempt.\n",
    "    Returns:\n",
    "      A TwitterResponse object, or None if failed.\n",
    "    \"\"\"\n",
    "    for i in range(max_tries):\n",
    "        request = twitter.request(resource, params)    \n",
    "        if request.status_code == 200:\n",
    "            return request\n",
    "        elif \"Not authorized\" in request.text:\n",
    "            return -1\n",
    "        elif \"page does not exist\" in request.text:\n",
    "            return -2\n",
    "        else:\n",
    "            print >> sys.stderr, 'Got error:', request.text, '\\nsleeping for 15 minutes.'\n",
    "            sys.stderr.flush()\n",
    "            time.sleep(61 * 15)"
   ]
  },
  {
   "cell_type": "code",
   "execution_count": 4,
   "metadata": {
    "collapsed": false
   },
   "outputs": [],
   "source": [
    "def get_followers(screen_name):\n",
    "    \"\"\" Return a dictionary of the users that follows this person on Twitter.\n",
    "    \n",
    "    Args:\n",
    "        screen_name: a string of a Twitter screen name\n",
    "    Returns:\n",
    "        A dictionary of dictionary, one per follower containing {index, user_info} pairs.\n",
    "    Note: Many users follow more than 200 accounts; we will return those accounts too.\n",
    "    \"\"\"\n",
    "    followers = {}\n",
    "    cursor = -1\n",
    "    key = 0\n",
    "    rate_limit = 1\n",
    "    while True:\n",
    "        if rate_limit == 15:\n",
    "            rate_limit = 1\n",
    "            print >> sys.stderr, 'Avoided rate_limit error: \\nsleeping for 15 minutes.'\n",
    "            time.sleep(61 * 15)\n",
    "        request = robust_request(twitter,'followers/list', \n",
    "                                 {'screen_name': screen_name, 'count':200, 'cursor': cursor})\n",
    "        json_response = request.json()\n",
    "        \n",
    "        # Get 200 followers from json_response\n",
    "        for follower in json_response['users']:\n",
    "                followers[follower['screen_name']] = follower\n",
    "                key = key + 1\n",
    "                \n",
    "        # If user has < 200 followers or to retrieve last 200 followers\n",
    "        if json_response[\"next_cursor\"] == 0:\n",
    "            break\n",
    "            \n",
    "        # Update cursor to get next 200 followers\n",
    "        cursor = json_response[\"next_cursor\"]\n",
    "        rate_limit = rate_limit + 1\n",
    "        print \"Collected %d followers\" % key\n",
    "    return followers"
   ]
  },
  {
   "cell_type": "code",
   "execution_count": 5,
   "metadata": {
    "collapsed": true
   },
   "outputs": [],
   "source": [
    "def get_followers_and_pickle_object(account_name):\n",
    "    \"\"\" Calls get_followers() to collect all followers of a Twitter account\n",
    "        and then saves it by pickling for future processing purposes.\n",
    "    \n",
    "    Args: A string representing the screen_name of a Twitter account,\n",
    "          whose followers we need.\n",
    "    Returns : A dictionary of { screen_name : user_info } pairs of followers,\n",
    "              where user_info is a dictionary object containing user information\n",
    "    \"\"\"\n",
    "    followers = get_followers(account_name)\n",
    "    fileObject = open(\"raw_data/\" + account_name,'wb')\n",
    "    pickle.dump(followers,fileObject)\n",
    "    fileObject.close()\n",
    "    return followers"
   ]
  },
  {
   "cell_type": "code",
   "execution_count": 6,
   "metadata": {
    "collapsed": true
   },
   "outputs": [],
   "source": [
    "def get_followers_from_pickle(account_name):\n",
    "    \"\"\" Returns all followers of a Twitter account by retrieving saved data,\n",
    "        using pickle method.\n",
    "    \n",
    "    Args: A string representing the screen_name of a Twitter account,\n",
    "          whose followers we need.\n",
    "    Returns : A dictionary of { screen_name : user_info } pairs of followers,\n",
    "              where user_info is a dictionary object containing user information\n",
    "    \"\"\"\n",
    "    fileObject = open(\"raw_data/\" + account_name,'r')\n",
    "    followers = pickle.load(fileObject)\n",
    "    fileObject.close()\n",
    "    return followers"
   ]
  },
  {
   "cell_type": "code",
   "execution_count": 61,
   "metadata": {
    "collapsed": false
   },
   "outputs": [],
   "source": [
    "# Getting iit alumni association followers and pickling them\n",
    "iit_alumni_followers = get_followers_and_pickle_object('iitalumniassn')"
   ]
  },
  {
   "cell_type": "code",
   "execution_count": 7,
   "metadata": {
    "collapsed": false
   },
   "outputs": [
    {
     "name": "stdout",
     "output_type": "stream",
     "text": [
      "Found 1861 followers for iitalumniassn\n"
     ]
    }
   ],
   "source": [
    "iit_alumni_followers = get_followers_from_pickle('iitalumniassn')\n",
    "print \"Found %d followers for iitalumniassn\" %len(iit_alumni_followers.keys())"
   ]
  },
  {
   "cell_type": "code",
   "execution_count": 6,
   "metadata": {
    "collapsed": false
   },
   "outputs": [],
   "source": [
    "# Getting iit career services followers and pickling them\n",
    "iit_career_followers = get_followers_and_pickle_object('IITCareers')"
   ]
  },
  {
   "cell_type": "code",
   "execution_count": 8,
   "metadata": {
    "collapsed": false
   },
   "outputs": [
    {
     "name": "stdout",
     "output_type": "stream",
     "text": [
      "Found 643 followers for IITCareers\n"
     ]
    }
   ],
   "source": [
    "iit_career_followers = get_followers_from_pickle('IITCareers')\n",
    "print \"Found %d followers for IITCareers\" %len(iit_career_followers.keys())"
   ]
  },
  {
   "cell_type": "code",
   "execution_count": null,
   "metadata": {
    "collapsed": false
   },
   "outputs": [],
   "source": [
    "# Getting iit main university followers and pickling them\n",
    "iit_univ_followers = get_followers_and_pickle_object('illinoistech')"
   ]
  },
  {
   "cell_type": "code",
   "execution_count": 9,
   "metadata": {
    "collapsed": false
   },
   "outputs": [
    {
     "name": "stdout",
     "output_type": "stream",
     "text": [
      "Found 5426 followers for IIT University\n"
     ]
    }
   ],
   "source": [
    "iit_univ_followers = get_followers_from_pickle('illinoistech')\n",
    "print \"Found %d followers for IIT University\" %len(iit_univ_followers.keys())"
   ]
  },
  {
   "cell_type": "code",
   "execution_count": null,
   "metadata": {
    "collapsed": true
   },
   "outputs": [],
   "source": [
    "# Getting uiuc main university followers and pickling them\n",
    "uiuc_univ_followers = get_followers_and_pickle_object('Illinois_Alma')"
   ]
  },
  {
   "cell_type": "code",
   "execution_count": 16,
   "metadata": {
    "collapsed": false
   },
   "outputs": [
    {
     "name": "stdout",
     "output_type": "stream",
     "text": [
      "Found 40017 followers for UIUC University\n"
     ]
    }
   ],
   "source": [
    "uiuc_univ_followers = get_followers_from_pickle('Illinois_Alma')\n",
    "print \"Found %d followers for UIUC University\" %len(uiuc_univ_followers.keys())"
   ]
  },
  {
   "cell_type": "code",
   "execution_count": null,
   "metadata": {
    "collapsed": false
   },
   "outputs": [],
   "source": [
    "# Getting uiuc alumni followers and pickling them\n",
    "uiuc_alumni_followers = get_followers_and_pickle_object('UIAA')"
   ]
  },
  {
   "cell_type": "code",
   "execution_count": 45,
   "metadata": {
    "collapsed": false
   },
   "outputs": [
    {
     "name": "stdout",
     "output_type": "stream",
     "text": [
      "Found 5960 followers for UIUC Alumni\n"
     ]
    }
   ],
   "source": [
    "uiuc_alumni_followers = get_followers_from_pickle('UIAA')\n",
    "print \"Found %d followers for UIUC Alumni\" %len(uiuc_alumni_followers.keys())"
   ]
  },
  {
   "cell_type": "code",
   "execution_count": null,
   "metadata": {
    "collapsed": true
   },
   "outputs": [],
   "source": []
  },
  {
   "cell_type": "code",
   "execution_count": 8,
   "metadata": {
    "collapsed": false
   },
   "outputs": [],
   "source": [
    "def get_all_screen_names(*args):\n",
    "    \"\"\" Returns union of all followers of a particular university\n",
    "    \n",
    "    Args: Variables containing followers from different accounts in dictionary format.\n",
    "    \n",
    "    Returns : A set of intersection of keys from the dictionaries passed as input.\n",
    "    \"\"\"\n",
    "    univ_followers = set()\n",
    "    for followers in args:\n",
    "        for user in followers.keys():\n",
    "            univ_followers.add(user)\n",
    "    return univ_followers"
   ]
  },
  {
   "cell_type": "code",
   "execution_count": 11,
   "metadata": {
    "collapsed": false
   },
   "outputs": [
    {
     "name": "stdout",
     "output_type": "stream",
     "text": [
      "Found 6565 unique accounts from 7930 accounts \n"
     ]
    }
   ],
   "source": [
    "iit_followers = get_all_screen_names(iit_alumni_followers,iit_career_followers,iit_univ_followers)\n",
    "print \"Found %d unique accounts from %d accounts \" %(len(iit_followers), \n",
    "            (len(iit_alumni_followers)+len(iit_career_followers)+len(iit_univ_followers)))"
   ]
  },
  {
   "cell_type": "code",
   "execution_count": 13,
   "metadata": {
    "collapsed": false
   },
   "outputs": [],
   "source": [
    "# Pickling iit_followers for future calculations.\n",
    "fileObject = open(\"processed_data/iit_followers\",'wb')\n",
    "pickle.dump(iit_followers,fileObject)\n",
    "fileObject.close()"
   ]
  },
  {
   "cell_type": "code",
   "execution_count": 7,
   "metadata": {
    "collapsed": true
   },
   "outputs": [],
   "source": [
    "# Loading iit_followers from pickle.\n",
    "fileObject = open(\"processed_data/iit_followers\",'r')\n",
    "iit_followers = pickle.load(fileObject)\n",
    "fileObject.close()"
   ]
  },
  {
   "cell_type": "code",
   "execution_count": 10,
   "metadata": {
    "collapsed": true
   },
   "outputs": [],
   "source": [
    "def get_friends(screen_name):\n",
    "    \"\"\" Return a dictionary of users that are friends of this person on Twitter.\n",
    "    \n",
    "    Args:\n",
    "        screen_name: a string of a Twitter screen name\n",
    "    Returns:\n",
    "        A dictionary of {screen_name : description} per friend of the given account.\n",
    "    \"\"\"\n",
    "    friends = {}\n",
    "    cursor = -1\n",
    "    key = 0\n",
    "    while True:\n",
    "        request = robust_request(twitter,'friends/list', \n",
    "                                 {'screen_name': screen_name, 'count':200, 'cursor': cursor})\n",
    "        \n",
    "        if request == None:\n",
    "            return 0\n",
    "        \n",
    "        if request == -1 :    # Authentication error : Can't access follower data\n",
    "            return -1\n",
    "        elif request == -2:\n",
    "            return -2\n",
    "        \n",
    "        json_response = request.json()\n",
    "        \n",
    "        # Get 200 friends from json_response\n",
    "        for friend in json_response['users']:\n",
    "                #friends.append(friend['screen_name']) -- to_remove\n",
    "                friends[friend['screen_name']] = friend['description']\n",
    "                key = key + 1\n",
    "                \n",
    "        # If user has < 200 friends or to retrieve last friends followers\n",
    "        if json_response[\"next_cursor\"] == 0:\n",
    "            break\n",
    "            \n",
    "        # Update cursor to get next 200 friends\n",
    "        cursor = json_response[\"next_cursor\"]\n",
    "        print \"Collected %d friends for %s\" % (key,screen_name)\n",
    "    print \"Returning --- %d friends for %s\" % (key,screen_name)\n",
    "    return friends"
   ]
  },
  {
   "cell_type": "code",
   "execution_count": null,
   "metadata": {
    "collapsed": false,
    "scrolled": false
   },
   "outputs": [],
   "source": [
    "friends_of_iit_followers = { x : get_friends(x) for x in iit_followers}"
   ]
  },
  {
   "cell_type": "code",
   "execution_count": 11,
   "metadata": {
    "collapsed": true
   },
   "outputs": [],
   "source": [
    "def get_friends_and_pickle_object(univ_followers, univ_name):\n",
    "    \"\"\" Calls get_friends() to collect all friends of a Twitter account\n",
    "        and then saves it by pickling.\n",
    "    \n",
    "    Args: A list of strings representing the screen_names of all followers of a university,\n",
    "          A string representing the university's name.\n",
    "          \n",
    "    Returns : A dictionary of { String , [List] } pairs,\n",
    "              where String is a university follower's screen_name\n",
    "              and List is a list of screen_names of their friends\n",
    "    \"\"\"\n",
    "    friends_of_univ_followers = {}\n",
    "    for follower in univ_followers:\n",
    "        friends = get_friends(follower)\n",
    "        friends_of_univ_followers[follower] = friends\n",
    "        fileObject = open(\"raw_data/friends_of_\" + univ_name + \"_followers\",'wb')\n",
    "        pickle.dump(friends_of_univ_followers,fileObject)\n",
    "        fileObject.close()\n",
    "    return friends_of_univ_followers"
   ]
  },
  {
   "cell_type": "code",
   "execution_count": null,
   "metadata": {
    "collapsed": false
   },
   "outputs": [],
   "source": [
    "get_friends_and_pickle_object(iit_followers,\"iit\")"
   ]
  },
  {
   "cell_type": "code",
   "execution_count": 9,
   "metadata": {
    "collapsed": false
   },
   "outputs": [
    {
     "name": "stdout",
     "output_type": "stream",
     "text": [
      "2777\n"
     ]
    }
   ],
   "source": [
    "for idx,follower in enumerate(iit_followers):\n",
    "    if \"hardik_setia\" in follower:\n",
    "        print idx"
   ]
  },
  {
   "cell_type": "code",
   "execution_count": 21,
   "metadata": {
    "collapsed": false
   },
   "outputs": [],
   "source": [
    "iit_followers_2 =  list(iit_followers)[1548:]"
   ]
  },
  {
   "cell_type": "code",
   "execution_count": 14,
   "metadata": {
    "collapsed": false
   },
   "outputs": [],
   "source": [
    "def get_friend_ids(screen_name):\n",
    "    \"\"\" Return a dictionary of users that are friends of this person on Twitter.\n",
    "    \n",
    "    Args:\n",
    "        screen_name: a string of a Twitter screen name\n",
    "    Returns:\n",
    "        A list of ids per friend of the given account.\n",
    "    \"\"\"\n",
    "    friends = []\n",
    "    cursor = -1\n",
    "    key = 0\n",
    "    while True:\n",
    "        request = robust_request(twitter,'friends/ids', \n",
    "                                 {'screen_name': screen_name, 'count':5000, 'cursor': cursor})\n",
    "        \n",
    "        if request == None:\n",
    "            return 0\n",
    "        elif request == -1 :    # Authentication error : Can't access follower data\n",
    "            return -1\n",
    "        elif request == -2:   # Page does not exist error\n",
    "            return -2\n",
    "        \n",
    "        json_response = request.json()\n",
    "        \n",
    "        # Get 5000 friends from json_response\n",
    "        friends = json_response['ids']\n",
    "        key = len(friends)\n",
    "                \n",
    "        # If user has < 200 friends or to retrieve last friends followers\n",
    "        if json_response[\"next_cursor\"] == 0:\n",
    "            break\n",
    "            \n",
    "        # Update cursor to get next 200 friends\n",
    "        cursor = json_response[\"next_cursor\"]\n",
    "        print \"Collected %d friends for %s\" % (key,screen_name)\n",
    "    print \"Returning --- %d friends for %s\" % (key,screen_name)\n",
    "    return friends"
   ]
  },
  {
   "cell_type": "code",
   "execution_count": 13,
   "metadata": {
    "collapsed": true
   },
   "outputs": [],
   "source": [
    "def get_friend_ids_and_pickle_object(univ_followers, univ_name):\n",
    "    \"\"\" Calls get_friends() to collect all friends of a Twitter account\n",
    "        and then saves it by pickling.\n",
    "    \n",
    "    Args: A list of strings representing the screen_names of all followers of a university,\n",
    "          A string representing the university's name.\n",
    "          \n",
    "    Returns : A dictionary of { String , [List] } pairs,\n",
    "              where String is a university follower's screen_name\n",
    "              and List is a list of screen_names of their friends\n",
    "    \"\"\"\n",
    "    friends_of_univ_followers = {}\n",
    "    for follower in univ_followers:\n",
    "        friends = get_friend_ids(follower)\n",
    "        friends_of_univ_followers[follower] = friends\n",
    "        fileObject = open(\"raw_data/friend_ids_of_\" + univ_name + \"_followers\",'wb')\n",
    "        pickle.dump(friends_of_univ_followers,fileObject)\n",
    "        fileObject.close()\n",
    "    return friends_of_univ_followers"
   ]
  },
  {
   "cell_type": "code",
   "execution_count": null,
   "metadata": {
    "collapsed": false
   },
   "outputs": [
    {
     "name": "stdout",
     "output_type": "stream",
     "text": [
      "Returning --- 2511 friends for DinkyShop\n",
      "Returning --- 1985 friends for FundasMadeEasy\n",
      "Returning --- 1788 friends for BellevueU\n",
      "Returning --- 28 friends for SUSHANTKUMARS14\n",
      "Returning --- 1994 friends for StopVirtuaStalk\n",
      "Returning --- 277 friends for akp4595\n",
      "Returning --- 138 friends for miyfghiuwdfd\n",
      "Returning --- 283 friends for gkdelhi8\n",
      "Returning --- 34 friends for onlyAbhiJ\n",
      "Returning --- 20 friends for yogeshjshah\n",
      "Returning --- 51 friends for Twu28Wu\n",
      "Returning --- 361 friends for SerialParoxysm\n",
      "Returning --- 13 friends for Sumesh_Sethu"
     ]
    },
    {
     "name": "stderr",
     "output_type": "stream",
     "text": [
      "Got error: {\"errors\":[{\"message\":\"Rate limit exceeded\",\"code\":88}]} \n",
      "sleeping for 15 minutes.\n"
     ]
    },
    {
     "name": "stdout",
     "output_type": "stream",
     "text": [
      "\n",
      "Returning --- 2894 friends for PearsonSci\n",
      "Returning --- 20 friends for muralim97510723\n",
      "Returning --- 4 friends for pxportill\n",
      "Returning --- 141 friends for nikki_does\n",
      "Returning --- 53 friends for yadavAshish11\n",
      "Returning --- 1962 friends for liethyderabad\n",
      "Returning --- 30 friends for iitsjm\n",
      "Returning --- 430 friends for jrnag2\n",
      "Returning --- 155 friends for vas_ashwin\n",
      "Returning --- 237 friends for cheesybrownie\n",
      "Returning --- 787 friends for SCTransferCtr\n",
      "Returning --- 8 friends for raer77\n",
      "Returning --- 47 friends for meetsharmitha\n",
      "Returning --- 11 friends for pavansl"
     ]
    },
    {
     "name": "stderr",
     "output_type": "stream",
     "text": [
      "Got error: {\"errors\":[{\"message\":\"Rate limit exceeded\",\"code\":88}]} \n",
      "sleeping for 15 minutes.\n"
     ]
    },
    {
     "name": "stdout",
     "output_type": "stream",
     "text": [
      "\n",
      "Returning --- 33 friends for SklmTown\n",
      "Returning --- 139 friends for ravikalsia\n",
      "Returning --- 839 friends for ED24group\n",
      "Returning --- 232 friends for klillehaugCPVA\n",
      "Returning --- 105 friends for PaigeGrons\n",
      "Returning --- 398 friends for Naveenprasant12\n",
      "Returning --- 1562 friends for jscotheathman\n",
      "Returning --- 70 friends for OmNarkar\n",
      "Returning --- 34 friends for iititm\n",
      "Returning --- 672 friends for nicolenetland\n",
      "Returning --- 30 friends for SingleHopKyle\n",
      "Returning --- 930 friends for CFLCruises\n",
      "Returning --- 1529 friends for dynegy\n",
      "Returning --- 159 friends for IITFaculty"
     ]
    },
    {
     "name": "stderr",
     "output_type": "stream",
     "text": [
      "Got error: {\"errors\":[{\"message\":\"Rate limit exceeded\",\"code\":88}]} \n",
      "sleeping for 15 minutes.\n"
     ]
    },
    {
     "name": "stdout",
     "output_type": "stream",
     "text": [
      "\n",
      "Returning --- 30 friends for snavendar\n",
      "Returning --- 39 friends for SweetY9876\n",
      "Returning --- 456 friends for ARCHEWORKS\n",
      "Returning --- 797 friends for JoseHdzMX\n",
      "Returning --- 15 friends for zhouwenxi\n",
      "Returning --- 544 friends for EdwardPurcell\n",
      "Returning --- 292 friends for rxqflora\n",
      "Returning --- 75 friends for MedChalfout\n",
      "Returning --- 11 friends for ncrivell\n",
      "Returning --- 311 friends for FLLWFoundation\n",
      "Returning --- 1183 friends for zorocareers\n",
      "Returning --- 1142 friends for AmMassMedia"
     ]
    },
    {
     "name": "stderr",
     "output_type": "stream",
     "text": [
      "Got error: {\"errors\":[{\"message\":\"Rate limit exceeded\",\"code\":88}]} \n",
      "sleeping for 15 minutes.\n"
     ]
    },
    {
     "name": "stdout",
     "output_type": "stream",
     "text": [
      "\n",
      "Returning --- 1599 friends for farrukhadnan1\n",
      "Returning --- 507 friends for Atuljai65707459\n",
      "Returning --- 211 friends for SandeepanP\n",
      "Returning --- 449 friends for CMODisrupt\n",
      "Returning --- 35 friends for jeffaigner\n",
      "Returning --- 1960 friends for ThreeManRocket\n",
      "Returning --- 295 friends for adiltunca\n",
      "Returning --- 114 friends for tegulizard13\n",
      "Returning --- 216 friends for Vector_Functor\n",
      "Collected 5000 friends for FPdGi\n",
      "Returning --- 1904 friends for FPdGi\n",
      "Returning --- 205 friends for AlvaroDemiG\n",
      "Returning --- 367 friends for OLAS_HWC\n",
      "Returning --- 1905 friends for europreneurs"
     ]
    },
    {
     "name": "stderr",
     "output_type": "stream",
     "text": [
      "Got error: {\"errors\":[{\"message\":\"Rate limit exceeded\",\"code\":88}]} \n",
      "sleeping for 15 minutes.\n"
     ]
    },
    {
     "name": "stdout",
     "output_type": "stream",
     "text": [
      "\n",
      "Returning --- 2 friends for pauleliat\n",
      "Returning --- 421 friends for AsiQuinn\n",
      "Returning --- 1259 friends for ArunYvi1\n",
      "Returning --- 6 friends for sritik35\n",
      "Returning --- 561 friends for 1bdec72c2fee4d5\n",
      "Returning --- 120 friends for mallikdivvi\n",
      "Returning --- 59 friends for RajePrathamesh\n",
      "Returning --- 1022 friends for WomenInSci\n",
      "Returning --- 1837 friends for FustratedVishal\n",
      "Returning --- 615 friends for ArmyRctg5A4M\n",
      "Returning --- 66 friends for SachinMohanpuri\n",
      "Returning --- 111 friends for d360jr\n",
      "Returning --- 107 friends for jdrix85\n",
      "Returning --- 871 friends for SCFJobs\n",
      "Returning --- 392 friends for iamchiraggoyal"
     ]
    },
    {
     "name": "stderr",
     "output_type": "stream",
     "text": [
      "Got error: {\"errors\":[{\"message\":\"Rate limit exceeded\",\"code\":88}]} \n",
      "sleeping for 15 minutes.\n"
     ]
    },
    {
     "name": "stdout",
     "output_type": "stream",
     "text": [
      "\n",
      "Returning --- 801 friends for SiskiyouCorp\n",
      "Returning --- 73 friends for saif80755217\n",
      "Returning --- 26 friends for crystalcao2013\n",
      "Returning --- 1707 friends for lameri86\n",
      "Returning --- 418 friends for crabbypinchy\n",
      "Returning --- 99 friends for labib_theace\n",
      "Returning --- 552 friends for bryanchambo\n",
      "Returning --- 41 friends for rajendradeshm15\n",
      "Returning --- 1196 friends for AkosuaLowery\n",
      "Returning --- 133 friends for Hazardous06\n",
      "Returning --- 955 friends for ILTAXILIMO\n",
      "Returning --- 527 friends for ravianexpert\n",
      "Returning --- 1468 friends for 50DomainTools"
     ]
    },
    {
     "name": "stderr",
     "output_type": "stream",
     "text": [
      "Got error: {\"errors\":[{\"message\":\"Rate limit exceeded\",\"code\":88}]} \n",
      "sleeping for 15 minutes.\n"
     ]
    },
    {
     "name": "stdout",
     "output_type": "stream",
     "text": [
      "\n",
      "Returning --- 865 friends for adluru33\n",
      "Returning --- 204 friends for yjatin19\n",
      "Collected 5000 friends for samdavidson\n",
      "Returning --- 2398 friends for samdavidson\n",
      "Returning --- 426 friends for shauryagarwal77\n",
      "Collected 5000 friends for LanghamChicago\n",
      "Returning --- 3342 friends for LanghamChicago\n",
      "Returning --- 635 friends for tonylaw7\n",
      "Returning --- 95 friends for AymenAbdelrahma\n",
      "Returning --- 112 friends for AzimuthEnergy\n",
      "Returning --- 708 friends for RodVargasC\n",
      "Returning --- 103 friends for Aakash_justrock\n",
      "Returning --- 7 friends for Yang3221"
     ]
    },
    {
     "name": "stderr",
     "output_type": "stream",
     "text": [
      "Got error: {\"errors\":[{\"message\":\"Rate limit exceeded\",\"code\":88}]} \n",
      "sleeping for 15 minutes.\n"
     ]
    },
    {
     "name": "stdout",
     "output_type": "stream",
     "text": [
      "\n",
      "Returning --- 31 friends for Tina29520284\n",
      "Returning --- 402 friends for SravanthiSinha\n",
      "Returning --- 5 friends for adityat77682455\n",
      "Returning --- 827 friends for NelsonMRosario\n",
      "Returning --- 34 friends for atomfission\n",
      "Returning --- 1590 friends for and307\n",
      "Returning --- 3190 friends for ASASafterschool\n",
      "Returning --- 164 friends for rolleez\n",
      "Returning --- 346 friends for lorha_priya\n",
      "Returning --- 867 friends for mknippen\n",
      "Collected 5000 friends for SwyftApp\n",
      "Returning --- 933 friends for SwyftApp"
     ]
    },
    {
     "name": "stderr",
     "output_type": "stream",
     "text": [
      "Got error: {\"errors\":[{\"message\":\"Rate limit exceeded\",\"code\":88}]} \n",
      "sleeping for 15 minutes.\n"
     ]
    },
    {
     "name": "stdout",
     "output_type": "stream",
     "text": [
      "\n",
      "Returning --- 296 friends for hildathebigH\n",
      "Returning --- 134 friends for AValiav\n",
      "Returning --- 207 friends for shantanutter\n",
      "Returning --- 1968 friends for UK_1964\n",
      "Returning --- 34 friends for mbargou1\n",
      "Returning --- 45 friends for beatrizruiz09\n",
      "Returning --- 526 friends for pjmichaels83\n",
      "Returning --- 420 friends for mhminger\n",
      "Returning --- 301 friends for Trail2010\n",
      "Returning --- 145 friends for sahajmohit"
     ]
    },
    {
     "name": "stderr",
     "output_type": "stream",
     "text": [
      "Got error: {\"errors\":[{\"message\":\"Rate limit exceeded\",\"code\":88}]} \n",
      "sleeping for 15 minutes.\n"
     ]
    },
    {
     "name": "stdout",
     "output_type": "stream",
     "text": [
      "\n",
      "Returning --- 108 friends for La_UPM\n",
      "Returning --- 15 friends for ramreddy861\n",
      "Returning --- 166 friends for b17m4p\n",
      "Returning --- 255 friends for 1b0bfb7be2514af\n",
      "Returning --- 1529 friends for mel_hogan\n",
      "Returning --- 596 friends for aasfuncard\n",
      "Returning --- 308 friends for pcipr\n",
      "Returning --- 1789 friends for JuliaHsia\n",
      "Returning --- 341 friends for mbaskool\n",
      "Returning --- 1122 friends for chaitanyamittu\n",
      "Returning --- 877 friends for createITfutures\n",
      "Returning --- 105 friends for KARTHEEK_IITK\n",
      "Returning --- 43 friends for approachcheenu\n",
      "Returning --- 457 friends for Students2Alumni\n",
      "Returning --- 919 friends for WorldChicago"
     ]
    },
    {
     "name": "stderr",
     "output_type": "stream",
     "text": [
      "Got error: {\"errors\":[{\"message\":\"Rate limit exceeded\",\"code\":88}]} \n",
      "sleeping for 15 minutes.\n"
     ]
    },
    {
     "name": "stdout",
     "output_type": "stream",
     "text": [
      "\n",
      "Returning --- 602 friends for ArafatAhmed786\n",
      "Returning --- 23 friends for MI7Roy\n",
      "Returning --- 3274 friends for SarahCaldicott\n",
      "Returning --- 28 friends for kapilchaurasia2\n",
      "Returning --- 1985 friends for WrightCareerCen\n",
      "Returning --- 26 friends for ltecila\n",
      "Returning --- 239 friends for GrahamAJohnson\n",
      "Returning --- 397 friends for TheNextMoveLLC\n",
      "Returning --- 43 friends for ljbeltran\n",
      "Returning --- 1169 friends for DobbsShow\n",
      "Returning --- 1891 friends for TailorLofts\n",
      "Collected 5000 friends for HESConsumer\n",
      "Collected 5000 friends for HESConsumer\n",
      "Collected 5000 friends for HESConsumer\n",
      "Collected 5000 friends for HESConsumer"
     ]
    },
    {
     "name": "stderr",
     "output_type": "stream",
     "text": [
      "Got error: {\"errors\":[{\"message\":\"Rate limit exceeded\",\"code\":88}]} \n",
      "sleeping for 15 minutes.\n"
     ]
    },
    {
     "name": "stdout",
     "output_type": "stream",
     "text": [
      "\n",
      "Collected 5000 friends for HESConsumer\n",
      "Collected 5000 friends for HESConsumer\n",
      "Returning --- 3593 friends for HESConsumer\n",
      "Returning --- 8 friends for Josh_T8\n",
      "Returning --- 1634 friends for paulhubinsky\n",
      "Returning --- 552 friends for Global_Expert\n",
      "Returning --- 21 friends for DominitriceG\n",
      "Returning --- 35 friends for junapio\n",
      "Returning --- 2083 friends for eringejuice\n",
      "Returning --- 2011 friends for bhaveshjain\n",
      "Returning --- 35 friends for vikasme71445579\n",
      "Returning --- 455 friends for hussey244\n",
      "Returning --- 899 friends for OlgaMackiewicz\n",
      "Returning --- 298 friends for ItsLittleLupe"
     ]
    },
    {
     "name": "stderr",
     "output_type": "stream",
     "text": [
      "Got error: {\"errors\":[{\"message\":\"Rate limit exceeded\",\"code\":88}]} \n",
      "sleeping for 15 minutes.\n"
     ]
    },
    {
     "name": "stdout",
     "output_type": "stream",
     "text": [
      "\n",
      "Returning --- 52 friends for shreeshbhat\n",
      "Returning --- 451 friends for danibocanegra_\n",
      "Returning --- 63 friends for sahilansari9734\n",
      "Returning --- 977 friends for AmandaICleary\n",
      "Returning --- 647 friends for TechGuyJeff\n",
      "Returning --- 68 friends for 2bikes1trailer\n",
      "Returning --- 224 friends for M_Meltz73\n",
      "Returning --- 1743 friends for CollegeInvent\n",
      "Returning --- 45 friends for tk_kmhr\n",
      "Returning --- 450 friends for Philabaum\n",
      "Returning --- 606 friends for Miles_149\n",
      "Returning --- 13 friends for iitipro\n",
      "Returning --- 109 friends for SunriseSLoanSvs"
     ]
    },
    {
     "name": "stderr",
     "output_type": "stream",
     "text": [
      "Got error: {\"errors\":[{\"message\":\"Rate limit exceeded\",\"code\":88}]} \n",
      "sleeping for 15 minutes.\n"
     ]
    },
    {
     "name": "stdout",
     "output_type": "stream",
     "text": [
      "\n",
      "Returning --- 498 friends for gatecoachingdel\n",
      "Returning --- 1551 friends for LaecioNa\n",
      "Returning --- 20 friends for thefocusgate\n",
      "Returning --- 1959 friends for renttext\n",
      "Returning --- 941 friends for a730fd85ae0241b\n",
      "Returning --- 40 friends for ragibzanwar\n",
      "Returning --- 492 friends for AdvEngineers\n",
      "Returning --- 147 friends for PARITOSH31YADAV\n",
      "Returning --- 99 friends for parul_gosain\n",
      "Returning --- 800 friends for robbybeckman\n",
      "Returning --- 10 friends for OscarTobonJr\n",
      "Returning --- 1935 friends for cleanelectric\n",
      "Returning --- 1720 friends for MARUTICORPSALES\n",
      "Returning --- 1318 friends for neerajguptaIITR\n",
      "Returning --- 1855 friends for kurmiyashwant"
     ]
    },
    {
     "name": "stderr",
     "output_type": "stream",
     "text": [
      "Got error: {\"errors\":[{\"message\":\"Rate limit exceeded\",\"code\":88}]} \n",
      "sleeping for 15 minutes.\n"
     ]
    },
    {
     "name": "stdout",
     "output_type": "stream",
     "text": [
      "\n",
      "Returning --- 398 friends for ar_indian\n",
      "Returning --- 34 friends for DTConsortium\n",
      "Returning --- 1913 friends for AIASorg\n",
      "Returning --- 20 friends for jayashukla22\n",
      "Returning --- 866 friends for ITFound\n",
      "Returning --- 54 friends for sandiaslam\n",
      "Returning --- 627 friends for AdiantaDOTorg\n",
      "Returning --- 80 friends for sylwia_oska\n",
      "Returning --- 95 friends for iitheartbeat\n",
      "Returning --- 565 friends for LAofIL\n",
      "Returning --- 1916 friends for USA_Internship\n",
      "Returning --- 85 friends for DaisyCon3\n",
      "Returning --- 179 friends for maria1013_\n",
      "Returning --- 187 friends for me_chris\n",
      "Returning --- 1230 friends for julfikkar1010"
     ]
    },
    {
     "name": "stderr",
     "output_type": "stream",
     "text": [
      "Got error: {\"errors\":[{\"message\":\"Rate limit exceeded\",\"code\":88}]} \n",
      "sleeping for 15 minutes.\n"
     ]
    },
    {
     "name": "stdout",
     "output_type": "stream",
     "text": [
      "\n",
      "Returning --- 1649 friends for dhanrajkumar06\n",
      "Returning --- 292 friends for krishnaarya456\n",
      "Returning --- 1879 friends for kwiller\n",
      "Returning --- 862 friends for Gateway_Green\n",
      "Returning --- 25 friends for gmariano88\n",
      "Returning --- 810 friends for SWChicago\n",
      "Returning --- 266 friends for CMARIN0\n",
      "Returning --- 152 friends for loverhun4457717\n",
      "Returning --- 418 friends for kashyap_kk91\n",
      "Returning --- 199 friends for iitjeeWiziq\n",
      "Returning --- 220 friends for Accretive_Jobs\n",
      "Returning --- 95 friends for Adityak93388098\n",
      "Returning --- 1715 friends for abcdefg0755"
     ]
    },
    {
     "name": "stderr",
     "output_type": "stream",
     "text": [
      "Got error: {\"errors\":[{\"message\":\"Rate limit exceeded\",\"code\":88}]} \n",
      "sleeping for 15 minutes.\n"
     ]
    },
    {
     "name": "stdout",
     "output_type": "stream",
     "text": [
      "\n",
      "Returning --- 128 friends for twtrubens\n",
      "Returning --- 43 friends for Jianhua11\n",
      "Returning --- 721 friends for palak\n",
      "Returning --- 96 friends for pmccain\n",
      "Returning --- 303 friends for maddimarie95\n",
      "Returning --- 238 friends for LAZCareers\n",
      "Returning --- 162 friends for Jameser42\n",
      "Returning --- 155 friends for riddhish_54\n",
      "Returning --- 883 friends for iLoftus\n",
      "Returning --- 164 friends for 4medanish\n",
      "Returning --- 1999 friends for ChrisMustain\n",
      "Returning --- 80 friends for Calamoureux\n",
      "Returning --- 1720 friends for JohnLothian\n",
      "Returning --- 41 friends for satkovskiene1"
     ]
    },
    {
     "name": "stderr",
     "output_type": "stream",
     "text": [
      "Got error: {\"errors\":[{\"message\":\"Rate limit exceeded\",\"code\":88}]} \n",
      "sleeping for 15 minutes.\n"
     ]
    },
    {
     "name": "stdout",
     "output_type": "stream",
     "text": [
      "\n",
      "Returning --- 14 friends for IITOL_Elliot\n",
      "Returning --- 18 friends for santhos57722650\n",
      "Returning --- 25 friends for MattieGalgan\n",
      "Returning --- 91 friends for davidycf\n",
      "Returning --- 28 friends for kumaran_12\n",
      "Returning --- 1973 friends for srinsesh\n",
      "Returning --- 228 friends for laxmansuthar_94\n",
      "Returning --- 674 friends for greggyb\n",
      "Returning --- 95 friends for askiitians\n",
      "Returning --- 4304 friends for BairuRajesh3\n",
      "Returning --- 189 friends for 543d72a9e4d6494\n",
      "Returning --- 66 friends for MBaudler\n",
      "Returning --- 700 friends for jaipakhre\n",
      "Returning --- 2000 friends for 151258D"
     ]
    },
    {
     "name": "stderr",
     "output_type": "stream",
     "text": [
      "Got error: {\"errors\":[{\"message\":\"Rate limit exceeded\",\"code\":88}]} \n",
      "sleeping for 15 minutes.\n"
     ]
    },
    {
     "name": "stdout",
     "output_type": "stream",
     "text": [
      "\n",
      "Returning --- 84 friends for RobertVanDame\n",
      "Returning --- 329 friends for ForeLight\n",
      "Returning --- 81 friends for Xueling_Li\n",
      "Returning --- 217 friends for Locovida2day\n",
      "Returning --- 111 friends for MoeAliwi\n",
      "Returning --- 839 friends for ameenaleah\n",
      "Returning --- 27 friends for Damola2703\n",
      "Returning --- 1484 friends for myedgeportal\n",
      "Returning --- 19 friends for NUCLEUSClas\n",
      "Returning --- 7 friends for ranjanadeviiitb\n",
      "Returning --- 283 friends for AmandaMcD\n",
      "Returning --- 173 friends for ManjiriParalkar\n",
      "Returning --- 92 friends for laumarba\n",
      "Returning --- 1955 friends for iimiitjobs"
     ]
    },
    {
     "name": "stderr",
     "output_type": "stream",
     "text": [
      "Got error: {\"errors\":[{\"message\":\"Rate limit exceeded\",\"code\":88}]} \n",
      "sleeping for 15 minutes.\n"
     ]
    },
    {
     "name": "stdout",
     "output_type": "stream",
     "text": [
      "\n",
      "Returning --- 289 friends for JuanGFayrenM\n",
      "Returning --- 64 friends for booksandreports\n",
      "Collected 5000 friends for MotionPromos\n",
      "Collected 5000 friends for MotionPromos\n",
      "Collected 5000 friends for MotionPromos\n",
      "Collected 5000 friends for MotionPromos\n",
      "Collected 5000 friends for MotionPromos\n",
      "Collected 5000 friends for MotionPromos\n",
      "Returning --- 2947 friends for MotionPromos\n",
      "Returning --- 243 friends for GavhaleDeepak\n",
      "Returning --- 24 friends for xiaopei_zhang\n",
      "Returning --- 103 friends for Yadav412Sanjay"
     ]
    },
    {
     "name": "stderr",
     "output_type": "stream",
     "text": [
      "Got error: {\"errors\":[{\"message\":\"Rate limit exceeded\",\"code\":88}]} \n",
      "sleeping for 15 minutes.\n"
     ]
    },
    {
     "name": "stdout",
     "output_type": "stream",
     "text": [
      "\n",
      "Returning --- 606 friends for cmenghini\n",
      "Returning --- 1620 friends for AftrSchoolMttrs\n",
      "Returning --- 81 friends for elvinmala\n",
      "Returning --- 118 friends for rm_xiss\n",
      "Returning --- 11 friends for bvsuhas\n",
      "Returning --- 136 friends for MikeDJohannsen\n",
      "Returning --- 181 friends for MauroLeos\n",
      "Returning --- 12 friends for rarahulchapra\n",
      "Returning --- 164 friends for IITsocsci\n",
      "Returning --- 448 friends for ipi_official\n",
      "Returning --- 1422 friends for UXacademy_es\n",
      "Returning --- 622 friends for bksandbks\n",
      "Returning --- 845 friends for sandeepvert\n",
      "Returning --- 511 friends for TheAmazingSatya\n",
      "Returning --- 196 friends for GCChicagoSummit"
     ]
    },
    {
     "name": "stderr",
     "output_type": "stream",
     "text": [
      "Got error: {\"errors\":[{\"message\":\"Rate limit exceeded\",\"code\":88}]} \n",
      "sleeping for 15 minutes.\n"
     ]
    },
    {
     "name": "stdout",
     "output_type": "stream",
     "text": [
      "\n",
      "Returning --- 743 friends for VPRSchook\n",
      "Returning --- 1205 friends for thinkactlead_\n",
      "Returning --- 44 friends for yashrajlakra\n",
      "Returning --- 124 friends for JustWesNow\n",
      "Returning --- 424 friends for Tranguyen95\n",
      "Collected 5000 friends for NHEconomy\n",
      "Returning --- 2276 friends for NHEconomy\n",
      "Returning --- 835 friends for ChangingWorlds1\n",
      "Returning --- 188 friends for KHANUMANTHU\n",
      "Returning --- 10 friends for Tianyi_PAN\n",
      "Returning --- 253 friends for AroundParasols\n",
      "Returning --- 1038 friends for nishanth73"
     ]
    },
    {
     "name": "stderr",
     "output_type": "stream",
     "text": [
      "Got error: {\"errors\":[{\"message\":\"Rate limit exceeded\",\"code\":88}]} \n",
      "sleeping for 15 minutes.\n"
     ]
    },
    {
     "name": "stdout",
     "output_type": "stream",
     "text": [
      "\n",
      "Returning --- 659 friends for kayburnett\n",
      "Returning --- 7 friends for tejkohli_\n",
      "Returning --- 22 friends for PhysicsSkyrik\n",
      "Returning --- 231 friends for mas_agussalim\n",
      "Returning --- 105 friends for PravechChauhan\n",
      "Returning --- 1996 friends for avid_vani\n",
      "Returning --- 23 friends for SongWang88\n",
      "Returning --- 27 friends for ProfHimes\n",
      "Returning --- 22 friends for XuebinFan\n",
      "Returning --- 233 friends for LolaMindiola\n",
      "Returning --- 28 friends for inkomoon\n",
      "Returning --- 1222 friends for compasscollegec\n",
      "Returning --- 820 friends for OpusCareers"
     ]
    },
    {
     "name": "stderr",
     "output_type": "stream",
     "text": [
      "Got error: {\"errors\":[{\"message\":\"Rate limit exceeded\",\"code\":88}]} \n",
      "sleeping for 15 minutes.\n"
     ]
    },
    {
     "name": "stdout",
     "output_type": "stream",
     "text": [
      "\n",
      "Returning --- 806 friends for mr_aliabbas\n",
      "Returning --- 34 friends for memgtian29\n",
      "Returning --- 23 friends for ZiweiZheng\n",
      "Returning --- 34 friends for rohitgharde1\n",
      "Returning --- 134 friends for IITFacilities\n",
      "Returning --- 144 friends for PeterHanik\n",
      "Returning --- 37 friends for maomaoyulin\n",
      "Returning --- 58 friends for charles_chenzy\n",
      "Returning --- 1998 friends for GSiaton\n",
      "Returning --- 388 friends for CorkandKerry\n",
      "Returning --- 239 friends for dushyanthk7\n",
      "Returning --- 149 friends for neeldesai1992\n",
      "Returning --- 16 friends for SiyonaSoftware\n",
      "Returning --- 78 friends for OneMoreFoodie\n",
      "Returning --- 31 friends for HerzDana"
     ]
    },
    {
     "name": "stderr",
     "output_type": "stream",
     "text": [
      "Got error: {\"errors\":[{\"message\":\"Rate limit exceeded\",\"code\":88}]} \n",
      "sleeping for 15 minutes.\n"
     ]
    },
    {
     "name": "stdout",
     "output_type": "stream",
     "text": [
      "\n",
      "Returning --- 1883 friends for sefaz37\n",
      "Returning --- 661 friends for WhosKevinRoemer\n",
      "Returning --- 165 friends for StudentAidSolut\n",
      "Returning --- 578 friends for akj_techno\n",
      "Returning --- 178 friends for er_scientist\n",
      "Returning --- 585 friends for Panipat00723Dev\n",
      "Returning --- 918 friends for TJLaFave\n",
      "Returning --- 14 friends for MelInTheBoro\n",
      "Returning --- 35 friends for vignesh_sd\n",
      "Returning --- 64 friends for WIITMikeSteele\n",
      "Returning --- 143 friends for BenPfeiffer45\n",
      "Returning --- 513 friends for CCCTROOPS\n",
      "Returning --- 240 friends for GalvinCenter"
     ]
    },
    {
     "name": "stderr",
     "output_type": "stream",
     "text": [
      "Got error: {\"errors\":[{\"message\":\"Rate limit exceeded\",\"code\":88}]} \n",
      "sleeping for 15 minutes.\n"
     ]
    },
    {
     "name": "stdout",
     "output_type": "stream",
     "text": [
      "\n",
      "Returning --- 472 friends for PiperTrust\n",
      "Returning --- 868 friends for placefinders\n",
      "Returning --- 1241 friends for UoMEngSci\n",
      "Returning --- 336 friends for BursonLift\n",
      "Returning --- 1128 friends for ThePhDProject\n",
      "Returning --- 12 friends for Raj60135195\n",
      "Returning --- 146 friends for OmerFarook\n",
      "Returning --- 1998 friends for vijayprakash15\n",
      "Returning --- 14 friends for ProstheticSol\n",
      "Returning --- 471 friends for PeriwalY\n",
      "Returning --- 643 friends for meiwang2028\n",
      "Returning --- 2002 friends for myfitfund\n",
      "Returning --- 2326 friends for iiconline\n",
      "Returning --- 118 friends for 3108smit\n",
      "Returning --- 73 friends for DavidBudell"
     ]
    },
    {
     "name": "stderr",
     "output_type": "stream",
     "text": [
      "Got error: {\"errors\":[{\"message\":\"Rate limit exceeded\",\"code\":88}]} \n",
      "sleeping for 15 minutes.\n"
     ]
    },
    {
     "name": "stdout",
     "output_type": "stream",
     "text": [
      "\n",
      "Returning --- 136 friends for Hoynes_CPA_Grou\n",
      "Returning --- 1956 friends for BottleBobJ\n",
      "Returning --- 125 friends for grzhang2013\n",
      "Returning --- 824 friends for Options_Edu\n",
      "Returning --- 2149 friends for NMNH\n",
      "Returning --- 983 friends for prasu_the_one\n",
      "Returning --- 241 friends for satyabansal\n",
      "Returning --- 1426 friends for Affablegiant\n",
      "Returning --- 229 friends for Harshitnic\n",
      "Returning --- 1110 friends for MaureenSertich\n",
      "Returning --- 130 friends for The_Catalan10\n",
      "Returning --- 148 friends for DewanOcdewan\n",
      "Returning --- 456 friends for annecost66\n",
      "Returning --- 327 friends for bvpieee"
     ]
    },
    {
     "name": "stderr",
     "output_type": "stream",
     "text": [
      "Got error: {\"errors\":[{\"message\":\"Rate limit exceeded\",\"code\":88}]} \n",
      "sleeping for 15 minutes.\n"
     ]
    },
    {
     "name": "stdout",
     "output_type": "stream",
     "text": [
      "\n",
      "Returning --- 219 friends for TheOfficialACM\n",
      "Returning --- 1008 friends for kCura\n",
      "Returning --- 19 friends for 1111NS1111\n",
      "Returning --- 36 friends for JackClarke82\n",
      "Returning --- 133 friends for CiciRaoXi\n",
      "Returning --- 31 friends for appisharop22\n",
      "Returning --- 241 friends for taehosun\n",
      "Returning --- 241 friends for keiabroad\n",
      "Returning --- 13 friends for shijinming89\n",
      "Returning --- 134 friends for xuyang9\n",
      "Returning --- 1721 friends for EDGARD_MKTB\n",
      "Returning --- 203 friends for 68redvwbug\n",
      "Returning --- 46 friends for donghun221\n",
      "Returning --- 295 friends for AddteqJobs\n",
      "Returning --- 1265 friends for vmlprop1"
     ]
    },
    {
     "name": "stderr",
     "output_type": "stream",
     "text": [
      "Got error: {\"errors\":[{\"message\":\"Rate limit exceeded\",\"code\":88}]} \n",
      "sleeping for 15 minutes.\n"
     ]
    },
    {
     "name": "stdout",
     "output_type": "stream",
     "text": [
      "\n",
      "Returning --- 431 friends for ARUSHI000\n",
      "Returning --- 688 friends for MyNamesNotMitch\n",
      "Returning --- 29 friends for koushal12323\n",
      "Returning --- 10 friends for stephniawang\n",
      "Returning --- 450 friends for EdUSAManizales\n",
      "Returning --- 400 friends for rajuvenkat1995\n",
      "Returning --- 9 friends for jorgeiit\n",
      "Returning --- 176 friends for JamesKiriazes\n",
      "Returning --- 19 friends for simonwang11\n",
      "Returning --- 164 friends for bythegraham\n",
      "Returning --- 130 friends for cesarchimello\n",
      "Returning --- 71 friends for IkeScience715\n",
      "Returning --- 179 friends for TecDoctor\n",
      "Returning --- 9 friends for upscscholars"
     ]
    },
    {
     "name": "stderr",
     "output_type": "stream",
     "text": [
      "Got error: {\"errors\":[{\"message\":\"Rate limit exceeded\",\"code\":88}]} \n",
      "sleeping for 15 minutes.\n"
     ]
    },
    {
     "name": "stdout",
     "output_type": "stream",
     "text": [
      "\n",
      "Returning --- 1252 friends for louisbyrd3\n",
      "Returning --- 29 friends for patriciajcronin\n",
      "Returning --- 512 friends for ZaxisFactory\n",
      "Returning --- 58 friends for GMastarone\n",
      "Returning --- 305 friends for idyllic_gooner\n",
      "Returning --- 83 friends for iizzydrizzy\n",
      "Returning --- 1967 friends for yjtsolutions\n",
      "Returning --- 101 friends for LabSourceInc\n",
      "Returning --- 15 friends for PunjKunaal\n",
      "Returning --- 428 friends for jolan94\n",
      "Returning --- 246 friends for pashanta\n",
      "Returning --- 59 friends for stIITch_IIT\n",
      "Returning --- 356 friends for sameerchourasia\n",
      "Returning --- 858 friends for emperorcezar"
     ]
    },
    {
     "name": "stderr",
     "output_type": "stream",
     "text": [
      "Got error: {\"errors\":[{\"message\":\"Rate limit exceeded\",\"code\":88}]} \n",
      "sleeping for 15 minutes.\n"
     ]
    },
    {
     "name": "stdout",
     "output_type": "stream",
     "text": [
      "\n",
      "Returning --- 253 friends for Pankaj_iitan\n",
      "Returning --- 410 friends for _ainisa\n",
      "Returning --- 220 friends for neto_jaz\n",
      "Returning --- 219 friends for e52gar\n",
      "Returning --- 269 friends for a6799761db0d4f7\n",
      "Returning --- 1265 friends for accusedengineer\n",
      "Returning --- 1024 friends for VanderCookMECA\n",
      "Returning --- 1299 friends for MaddenMJ\n",
      "Returning --- 76 friends for SSP020978\n",
      "Returning --- 9 friends for bhargavaiitd\n",
      "Returning --- 17 friends for dhruvasharma15\n",
      "Returning --- 198 friends for concreteplains\n",
      "Returning --- 8 friends for utsavroy211998\n",
      "Returning --- 125 friends for emilygalie\n",
      "Returning --- 695 friends for GodofGaming187"
     ]
    },
    {
     "name": "stderr",
     "output_type": "stream",
     "text": [
      "Got error: {\"errors\":[{\"message\":\"Rate limit exceeded\",\"code\":88}]} \n",
      "sleeping for 15 minutes.\n"
     ]
    },
    {
     "name": "stdout",
     "output_type": "stream",
     "text": [
      "\n",
      "Returning --- 71 friends for Usha_Roland\n",
      "Returning --- 47 friends for FishPaopao\n",
      "Returning --- 18 friends for __KARAN___\n",
      "Returning --- 1034 friends for viperfish\n",
      "Returning --- 1995 friends for SANDIPPATEL36\n",
      "Returning --- 159 friends for Iedap\n",
      "Returning --- 11 friends for andangle\n",
      "Returning --- 2009 friends for AgentKarin\n",
      "Returning --- 121 friends for yateegupta\n",
      "Returning --- 587 friends for Katerina_Paz\n",
      "Collected 5000 friends for ariegoldshlager\n",
      "Collected 5000 friends for ariegoldshlager\n",
      "Returning --- 2159 friends for ariegoldshlager\n",
      "Returning --- 495 friends for HaPIDatabase\n",
      "Returning --- 1992 friends for c4atweets"
     ]
    },
    {
     "name": "stderr",
     "output_type": "stream",
     "text": [
      "Got error: {\"errors\":[{\"message\":\"Rate limit exceeded\",\"code\":88}]} \n",
      "sleeping for 15 minutes.\n"
     ]
    },
    {
     "name": "stdout",
     "output_type": "stream",
     "text": [
      "\n",
      "Returning --- 2473 friends for JoshatNRDC\n",
      "Collected 5000 friends for Bourns\n",
      "Returning --- 942 friends for Bourns\n",
      "Returning --- 2570 friends for cappex\n",
      "Returning --- 14 friends for beiyeqingteng\n",
      "Returning --- 7 friends for hemantkn333\n",
      "Collected 5000 friends for StartUpsFashion\n",
      "Collected 5000 friends for StartUpsFashion\n",
      "Collected 5000 friends for StartUpsFashion\n",
      "Collected 5000 friends for StartUpsFashion\n",
      "Collected 5000 friends for StartUpsFashion\n",
      "Collected 5000 friends for StartUpsFashion\n",
      "Collected 5000 friends for StartUpsFashion\n",
      "Returning --- 1961 friends for StartUpsFashion\n",
      "Returning --- 35 friends for guoshuheng"
     ]
    },
    {
     "name": "stderr",
     "output_type": "stream",
     "text": [
      "Got error: {\"errors\":[{\"message\":\"Rate limit exceeded\",\"code\":88}]} \n",
      "sleeping for 15 minutes.\n"
     ]
    },
    {
     "name": "stdout",
     "output_type": "stream",
     "text": [
      "\n",
      "Returning --- 132 friends for IITRGL\n",
      "Returning --- 18 friends for Deshini94\n",
      "Returning --- 714 friends for LibbyRapin\n",
      "Returning --- 1819 friends for Tasseltoppers\n",
      "Returning --- 251 friends for 150394alok\n",
      "Returning --- 2001 friends for UHBrazil\n",
      "Returning --- 6 friends for bowenlu91\n",
      "Returning --- 165 friends for andywangduck\n",
      "Returning --- 1932 friends for hi_future_tech\n",
      "Returning --- 750 friends for cassiodias25\n",
      "Returning --- 26 friends for MengyaoCui\n",
      "Returning --- 96 friends for TechNewsIIT\n",
      "Returning --- 343 friends for brunogear\n",
      "Returning --- 1875 friends for iamjaseem"
     ]
    },
    {
     "name": "stderr",
     "output_type": "stream",
     "text": [
      "Got error: {\"errors\":[{\"message\":\"Rate limit exceeded\",\"code\":88}]} \n",
      "sleeping for 15 minutes.\n"
     ]
    },
    {
     "name": "stdout",
     "output_type": "stream",
     "text": [
      "\n",
      "Returning --- 15 friends for SpAdithya\n",
      "Returning --- 101 friends for mrossi19\n",
      "Returning --- 191 friends for xjianqi\n",
      "Returning --- 336 friends for SeminarsCheeta\n",
      "Returning --- 330 friends for chicagonewsnow\n",
      "Returning --- 16 friends for jayala2090\n",
      "Returning --- 333 friends for JGabinoD\n",
      "Returning --- 74 friends for suerabs69\n",
      "Returning --- 42 friends for sa360128\n",
      "Returning --- 6 friends for HanahFakhouriHa\n",
      "Returning --- 571 friends for JosemtorresM\n",
      "Returning --- 215 friends for PCSEDU"
     ]
    },
    {
     "name": "stderr",
     "output_type": "stream",
     "text": [
      "Got error: {\"errors\":[{\"message\":\"Rate limit exceeded\",\"code\":88}]} \n",
      "sleeping for 15 minutes.\n"
     ]
    },
    {
     "name": "stdout",
     "output_type": "stream",
     "text": [
      "\n",
      "Returning --- 106 friends for wzhaniit\n",
      "Returning --- 54 friends for singhanoop676\n",
      "Returning --- 77 friends for sandeeprajsurya\n",
      "Returning --- 29 friends for FidessaJobsNA\n",
      "Returning --- 454 friends for isaan_khan\n",
      "Returning --- 130 friends for sparshgoel11\n",
      "Returning --- 412 friends for caseygfranklin\n",
      "Returning --- 893 friends for Arunesh99\n",
      "Returning --- 157 friends for CCGlobalChicago\n",
      "Returning --- 146 friends for rajdhanijaipur\n",
      "Returning --- 21 friends for GraceLiu10\n",
      "Returning --- 463 friends for rk_sastry\n",
      "Returning --- 61 friends for yulestoic\n",
      "Returning --- 31 friends for MRoman1031"
     ]
    },
    {
     "name": "stderr",
     "output_type": "stream",
     "text": [
      "Got error: {\"errors\":[{\"message\":\"Rate limit exceeded\",\"code\":88}]} \n",
      "sleeping for 15 minutes.\n"
     ]
    },
    {
     "name": "stdout",
     "output_type": "stream",
     "text": [
      "\n",
      "Returning --- 14 friends for PRAVEENKUMR1\n",
      "Returning --- 315 friends for PolskiJanek\n",
      "Returning --- 85 friends for NishankPujar\n",
      "Returning --- 446 friends for EdUSAIndonesia\n",
      "Returning --- 27 friends for siyingzh\n",
      "Returning --- 136 friends for chrisz1__\n",
      "Returning --- 2044 friends for MzMel66\n",
      "Returning --- 86 friends for unichallenges\n",
      "Returning --- 1442 friends for live_connor\n",
      "Returning --- 515 friends for ProTechSearchIL\n",
      "Returning --- 64 friends for easonz2011\n",
      "Returning --- 10 friends for Integerbikaner\n",
      "Returning --- 183 friends for premchandar2111\n",
      "Returning --- 535 friends for MeredithHilt"
     ]
    },
    {
     "name": "stderr",
     "output_type": "stream",
     "text": [
      "Got error: {\"errors\":[{\"message\":\"Rate limit exceeded\",\"code\":88}]} \n",
      "sleeping for 15 minutes.\n"
     ]
    },
    {
     "name": "stdout",
     "output_type": "stream",
     "text": [
      "\n",
      "Returning --- 32 friends for SheldonTamta\n",
      "Returning --- 16 friends for garytsaoo\n",
      "Returning --- 19 friends for paswanpoojay\n",
      "Returning --- 15 friends for MrFinneusFlogg\n",
      "Returning --- 26 friends for icalabri\n",
      "Returning --- 17 friends for soul_vegetarian\n",
      "Returning --- 1825 friends for TechnologyViews\n",
      "Returning --- 153 friends for UniMonk\n",
      "Returning --- 59 friends for kyabakchodihai\n",
      "Returning --- 5 friends for AchieversTu\n",
      "Returning --- 88 friends for yashgandhi241\n",
      "Returning --- 547 friends for TENERRDIS\n",
      "Returning --- 802 friends for pod_design\n",
      "Returning --- 16 friends for rohitkarma\n",
      "Returning --- 1006 friends for GKInitiative"
     ]
    },
    {
     "name": "stderr",
     "output_type": "stream",
     "text": [
      "Got error: {\"errors\":[{\"message\":\"Rate limit exceeded\",\"code\":88}]} \n",
      "sleeping for 15 minutes.\n"
     ]
    },
    {
     "name": "stdout",
     "output_type": "stream",
     "text": [
      "\n",
      "Returning --- 325 friends for ACETECHNICAL\n",
      "Returning --- 214 friends for iam_rajatsharma\n",
      "Returning --- 421 friends for NewtonsAttic\n",
      "Returning --- 1844 friends for CoyoteLogistics\n",
      "Returning --- 6 friends for satyenderkumar9\n",
      "Returning --- 8 friends for brandonksimons\n",
      "Returning --- 585 friends for tropismBLOG\n",
      "Returning --- 246 friends for Abhi_Chandra\n",
      "Collected 5000 friends for Michael_Short\n",
      "Collected 5000 friends for Michael_Short\n",
      "Collected 5000 friends for Michael_Short\n",
      "Collected 5000 friends for Michael_Short\n",
      "Returning --- 3269 friends for Michael_Short\n",
      "Returning --- 60 friends for harshitdubey61\n",
      "Returning --- 87 friends for BarronWetStone"
     ]
    },
    {
     "name": "stderr",
     "output_type": "stream",
     "text": [
      "Got error: {\"errors\":[{\"message\":\"Rate limit exceeded\",\"code\":88}]} \n",
      "sleeping for 15 minutes.\n"
     ]
    },
    {
     "name": "stdout",
     "output_type": "stream",
     "text": [
      "\n",
      "Returning --- 97 friends for chandravadanp\n",
      "Returning --- 85 friends for saurabh22041991\n",
      "Returning --- 51 friends for jamusa21\n",
      "Returning --- 820 friends for hemathmohit\n",
      "Returning --- 832 friends for 1_state\n",
      "Returning --- 1241 friends for unclegerg\n",
      "Returning --- 135 friends for happoldphysics\n",
      "Returning --- 126 friends for anamabro\n",
      "Returning --- 347 friends for atOmar95\n",
      "Returning --- 211 friends for gretazola\n",
      "Returning --- 1641 friends for lorimiller89\n",
      "Returning --- 269 friends for anopc"
     ]
    },
    {
     "name": "stderr",
     "output_type": "stream",
     "text": [
      "Got error: {\"errors\":[{\"message\":\"Rate limit exceeded\",\"code\":88}]} \n",
      "sleeping for 15 minutes.\n"
     ]
    },
    {
     "name": "stdout",
     "output_type": "stream",
     "text": [
      "\n",
      "Returning --- 1998 friends for nufelis\n",
      "Returning --- 321 friends for CristAlar\n",
      "Returning --- 28 friends for nbfrantz\n",
      "Returning --- 19 friends for GOKULRAJN79\n",
      "Returning --- 961 friends for uc_talent\n",
      "Returning --- 209 friends for dashingsamantha\n",
      "Returning --- 311 friends for poetsbeforeedit\n",
      "Returning --- 142 friends for Amadeus98\n",
      "Returning --- 2 friends for kahnaiyya\n",
      "Returning --- 25 friends for IITRehabPsych\n",
      "Returning --- 62 friends for gemi_sky\n",
      "Returning --- 127 friends for WhimbleBooks\n",
      "Returning --- 236 friends for krybaltowski\n",
      "Returning --- 1977 friends for ElhachemiS\n",
      "Returning --- 1027 friends for iitians_in"
     ]
    },
    {
     "name": "stderr",
     "output_type": "stream",
     "text": [
      "Got error: {\"errors\":[{\"message\":\"Rate limit exceeded\",\"code\":88}]} \n",
      "sleeping for 15 minutes.\n"
     ]
    },
    {
     "name": "stdout",
     "output_type": "stream",
     "text": [
      "\n",
      "Returning --- 225 friends for MACHAOnline\n",
      "Returning --- 139 friends for Im_aadee\n",
      "Returning --- 4 friends for AmulyaVadlamudi\n",
      "Returning --- 13 friends for asanabr1\n",
      "Returning --- 493 friends for krishnavarma183\n",
      "Returning --- 1470 friends for CommonApp\n",
      "Returning --- 84 friends for ShowingCityWide\n",
      "Returning --- 1819 friends for LHFletcher\n",
      "Returning --- 634 friends for ChrissyMDwyer\n",
      "Returning --- 677 friends for fair_uz\n",
      "Returning --- 2302 friends for nycfirst\n",
      "Returning --- 1194 friends for EdUSAtips\n",
      "Returning --- 77 friends for viveksngh665\n",
      "Returning --- 97 friends for DakotaBetts27\n",
      "Returning --- 4192 friends for dnainfo_breen"
     ]
    },
    {
     "name": "stderr",
     "output_type": "stream",
     "text": [
      "Got error: {\"errors\":[{\"message\":\"Rate limit exceeded\",\"code\":88}]} \n",
      "sleeping for 15 minutes.\n"
     ]
    },
    {
     "name": "stdout",
     "output_type": "stream",
     "text": [
      "\n",
      "Returning --- 58 friends for epostfix\n",
      "Returning --- 2004 friends for yungkim\n",
      "Returning --- 167 friends for TheTybert\n",
      "Returning --- 757 friends for rkgudboy\n",
      "Returning --- 1384 friends for GratefulDean\n",
      "Returning --- 10 friends for CREO2create\n",
      "Returning --- 107 friends for lizamcqueney\n",
      "Returning --- 917 friends for SiegeAce\n",
      "Returning --- 844 friends for SFelemban\n",
      "Returning --- 13 friends for Dqe6B\n",
      "Returning --- 14 friends for xiaoxiwang0909\n",
      "Returning --- 32 friends for netrambhu\n",
      "Returning --- 202 friends for CJmango\n",
      "Returning --- 217 friends for urkime\n",
      "Returning --- 316 friends for Ben_Glaser"
     ]
    },
    {
     "name": "stderr",
     "output_type": "stream",
     "text": [
      "Got error: {\"errors\":[{\"message\":\"Rate limit exceeded\",\"code\":88}]} \n",
      "sleeping for 15 minutes.\n"
     ]
    },
    {
     "name": "stdout",
     "output_type": "stream",
     "text": [
      "\n",
      "Returning --- 258 friends for arijkiwen\n",
      "Returning --- 378 friends for DanielCSamson\n",
      "Returning --- 129 friends for firstfreelancer\n",
      "Returning --- 333 friends for TurnerChicago\n",
      "Returning --- 192 friends for researchlady\n",
      "Returning --- 77 friends for AkshaybeVerbose\n",
      "Returning --- 137 friends for MLMorley\n",
      "Returning --- 98 friends for davuski357\n",
      "Returning --- 1061 friends for LombardEvents\n",
      "Returning --- 255 friends for gprakash080\n",
      "Returning --- 8 friends for AyushSi18086803\n",
      "Returning --- 139 friends for Srikar378012\n",
      "Returning --- 1978 friends for RDubbyaA\n",
      "Returning --- 1142 friends for PerfectPower"
     ]
    },
    {
     "name": "stderr",
     "output_type": "stream",
     "text": [
      "Got error: {\"errors\":[{\"message\":\"Rate limit exceeded\",\"code\":88}]} \n",
      "sleeping for 15 minutes.\n"
     ]
    },
    {
     "name": "stdout",
     "output_type": "stream",
     "text": [
      "\n",
      "Returning --- 1575 friends for AndreMKonig\n",
      "Returning --- 37 friends for redwood1050\n",
      "Returning --- 299 friends for CarlosTejero_\n",
      "Returning --- 76 friends for SA7YAM\n",
      "Returning --- 1123 friends for ILTechLawyer\n",
      "Returning --- 30 friends for vikas12121200\n",
      "Returning --- 66 friends for dipujls\n",
      "Returning --- 865 friends for BITM1315\n",
      "Returning --- 637 friends for complore\n",
      "Returning --- 235 friends for jigross\n",
      "Returning --- 2243 friends for CAMPUSPEAK\n",
      "Returning --- 52 friends for cvisionaries"
     ]
    },
    {
     "name": "stderr",
     "output_type": "stream",
     "text": [
      "Got error: {\"errors\":[{\"message\":\"Rate limit exceeded\",\"code\":88}]} \n",
      "sleeping for 15 minutes.\n"
     ]
    },
    {
     "name": "stdout",
     "output_type": "stream",
     "text": [
      "\n",
      "Returning --- 740 friends for BKTooley\n",
      "Returning --- 306 friends for Prizefighter00\n",
      "Returning --- 2004 friends for OglesbyK\n",
      "Returning --- 500 friends for mpk339\n",
      "Returning --- 161 friends for muhammedfayyad\n",
      "Returning --- 57 friends for Shari_IIT\n",
      "Returning --- 106 friends for GvcphillyMe\n",
      "Returning --- 8 friends for itujjwal\n",
      "Returning --- 247 friends for dejielect\n",
      "Returning --- 339 friends for mikanassociates\n",
      "Returning --- 7 friends for GopalShekhawa\n",
      "Returning --- 51 friends for aaaea_iit\n",
      "Returning --- 263 friends for Abenezermesfin1\n",
      "Returning --- 316 friends for indianhedgefund"
     ]
    },
    {
     "name": "stderr",
     "output_type": "stream",
     "text": [
      "Got error: {\"errors\":[{\"message\":\"Rate limit exceeded\",\"code\":88}]} \n",
      "sleeping for 15 minutes.\n"
     ]
    },
    {
     "name": "stdout",
     "output_type": "stream",
     "text": [
      "\n",
      "Returning --- 29 friends for TapanMehta4\n",
      "Returning --- 577 friends for RavkiranN\n",
      "Returning --- 14 friends for PigeonPick\n",
      "Returning --- 773 friends for JoeStainbrook\n",
      "Returning --- 220 friends for array_v0\n",
      "Returning --- 802 friends for kellyaschaefer\n",
      "Returning --- 409 friends for RegenraTD\n",
      "Returning --- 78 friends for mumbasaviour\n",
      "Returning --- 963 friends for TMAInfo\n",
      "Returning --- 19 friends for ToastingDesign\n",
      "Returning --- 583 friends for cdunn1993\n",
      "Returning --- 29 friends for SusanFaraone\n",
      "Returning --- 121 friends for LeadARC\n",
      "Returning --- 3 friends for flywillow"
     ]
    },
    {
     "name": "stderr",
     "output_type": "stream",
     "text": [
      "Got error: {\"errors\":[{\"message\":\"Rate limit exceeded\",\"code\":88}]} \n",
      "sleeping for 15 minutes.\n"
     ]
    },
    {
     "name": "stdout",
     "output_type": "stream",
     "text": [
      "\n",
      "Returning --- 2000 friends for BenMTaylor\n",
      "Returning --- 93 friends for haominnn\n",
      "Returning --- 16 friends for 8822899670\n",
      "Returning --- 830 friends for shankar2929\n",
      "Returning --- 238 friends for BradCFink\n",
      "Returning --- 61 friends for optimainc\n",
      "Returning --- 437 friends for Raychatter\n",
      "Returning --- 37 friends for IyanuOgbara\n",
      "Returning --- 234 friends for ecell_iitb\n",
      "Returning --- 434 friends for HydePark_CHI\n",
      "Returning --- 586 friends for MRDPE\n",
      "Returning --- 1207 friends for MukeshSen272\n",
      "Returning --- 1998 friends for TransportChgo\n",
      "Returning --- 889 friends for GOJFRC\n",
      "Returning --- 108 friends for IIT_PSM"
     ]
    },
    {
     "name": "stderr",
     "output_type": "stream",
     "text": [
      "Got error: {\"errors\":[{\"message\":\"Rate limit exceeded\",\"code\":88}]} \n",
      "sleeping for 15 minutes.\n"
     ]
    },
    {
     "name": "stdout",
     "output_type": "stream",
     "text": [
      "\n",
      "Returning --- 1245 friends for 1armedGeek\n",
      "Returning --- 96 friends for britnic1\n",
      "Returning --- 23 friends for iit_ccc\n",
      "Returning --- 56 friends for rbsangu97\n",
      "Returning --- 6 friends for pat_brenninski\n",
      "Returning --- 219 friends for JohnHebert_\n",
      "Returning --- 44 friends for Clouddomain1\n",
      "Returning --- 28 friends for IITGrads2013\n",
      "Returning --- 557 friends for JokeDeli\n",
      "Returning --- 123 friends for askar_babu\n",
      "Returning --- 188 friends for SandraMarijan\n",
      "Returning --- 130 friends for CindyWojdyla\n",
      "Returning --- 76 friends for savishkar\n",
      "Returning --- 1806 friends for aDitya_adj_999"
     ]
    },
    {
     "name": "stderr",
     "output_type": "stream",
     "text": [
      "Got error: {\"errors\":[{\"message\":\"Rate limit exceeded\",\"code\":88}]} \n",
      "sleeping for 15 minutes.\n"
     ]
    },
    {
     "name": "stdout",
     "output_type": "stream",
     "text": [
      "\n",
      "Returning --- 113 friends for judeds\n",
      "Returning --- 65 friends for AHessLoch\n",
      "Returning --- 392 friends for Shraddhakant\n",
      "Returning --- 24 friends for dakats\n",
      "Returning --- 36 friends for BorgHunter\n",
      "Returning --- 458 friends for SavaliyaKundan\n",
      "Returning --- 113 friends for Omo_Ikerin_Opin\n",
      "Returning --- 198 friends for elysehaswords\n",
      "Returning --- 678 friends for T2B4Risk\n",
      "Returning --- 37 friends for Paulzhy\n",
      "Returning --- 55 friends for GroupStrawberry\n",
      "Returning --- 21 friends for 1755Kamal\n",
      "Returning --- 420 friends for nuclear94"
     ]
    },
    {
     "name": "stderr",
     "output_type": "stream",
     "text": [
      "Got error: {\"errors\":[{\"message\":\"Rate limit exceeded\",\"code\":88}]} \n",
      "sleeping for 15 minutes.\n"
     ]
    },
    {
     "name": "stdout",
     "output_type": "stream",
     "text": [
      "\n",
      "Collected 5000 friends for AnnDwyer_Crains\n",
      "Returning --- 230 friends for AnnDwyer_Crains\n",
      "Returning --- 237 friends for isandeepkhandai\n",
      "Returning --- 868 friends for rebeckas\n",
      "Returning --- 175 friends for irena_grauzinis\n",
      "Returning --- 58 friends for iitguide\n",
      "Returning --- 1754 friends for MytaleStore\n",
      "Returning --- 185 friends for cool_mudgal\n",
      "Returning --- 334 friends for sivangrj2007\n",
      "Returning --- 220 friends for Niesche1918\n",
      "Returning --- 50 friends for JaneZhen07\n",
      "Returning --- 63 friends for mirandajunjun\n",
      "Returning --- 276 friends for DocKimS\n",
      "Returning --- 1922 friends for PortElectLab"
     ]
    },
    {
     "name": "stderr",
     "output_type": "stream",
     "text": [
      "Got error: {\"errors\":[{\"message\":\"Rate limit exceeded\",\"code\":88}]} \n",
      "sleeping for 15 minutes.\n"
     ]
    },
    {
     "name": "stdout",
     "output_type": "stream",
     "text": [
      "\n",
      "Returning --- 186 friends for acsmith13\n",
      "Returning --- 60 friends for bhagi_009\n",
      "Returning --- 53 friends for gnielson\n",
      "Returning --- 213 friends for kangell50\n",
      "Returning --- 102 friends for RoneyRathi\n",
      "Returning --- 27 friends for aduenas999\n",
      "Returning --- 22 friends for RHA_IIT\n",
      "Returning --- 898 friends for shobyabdi\n",
      "Returning --- 65 friends for ctermtec\n",
      "Returning --- 11 friends for chmeyers\n",
      "Returning --- 103 friends for SonuyadavS7"
     ]
    },
    {
     "name": "stderr",
     "output_type": "stream",
     "text": [
      "Got error: {\"errors\":[{\"message\":\"Rate limit exceeded\",\"code\":88}]} \n",
      "sleeping for 15 minutes.\n"
     ]
    },
    {
     "name": "stdout",
     "output_type": "stream",
     "text": [
      "\n",
      "Returning --- 292 friends for brickhouse817\n",
      "Returning --- 35 friends for Rahul8446213934\n",
      "Returning --- 335 friends for stealthresource\n",
      "Returning --- 426 friends for xMannyG\n",
      "Returning --- 641 friends for Grammarly\n",
      "Returning --- 14 friends for jshelby1991\n",
      "Returning --- 421 friends for ajay_kishan\n",
      "Returning --- 30 friends for thegadgetlife\n",
      "Returning --- 394 friends for JaysonRecruiter\n",
      "Returning --- 1215 friends for Bradvritter\n",
      "Returning --- 473 friends for AlanMatthew1\n",
      "Returning --- 774 friends for redkaapi\n",
      "Returning --- 41 friends for CheekuShridhar\n",
      "Returning --- 433 friends for nabeel1480"
     ]
    },
    {
     "name": "stderr",
     "output_type": "stream",
     "text": [
      "Got error: {\"errors\":[{\"message\":\"Rate limit exceeded\",\"code\":88}]} \n",
      "sleeping for 15 minutes.\n"
     ]
    },
    {
     "name": "stdout",
     "output_type": "stream",
     "text": [
      "\n",
      "Returning --- 207 friends for 912dheerajYadav\n",
      "Returning --- 79 friends for kloman92\n",
      "Returning --- 66 friends for facets22\n",
      "Returning --- 122 friends for akshith_rock\n",
      "Returning --- 1979 friends for CSForJesus\n",
      "Returning --- 580 friends for ae19051\n",
      "Returning --- 1950 friends for EightNature\n",
      "Returning --- 63 friends for bmanojiitg\n",
      "Returning --- 2027 friends for DelGiorgioSolfa\n",
      "Returning --- 645 friends for acaides\n",
      "Returning --- 1 friends for KAEHope\n",
      "Returning --- 88 friends for pujasitaula1\n",
      "Returning --- 75 friends for vikas1981615\n",
      "Returning --- 17 friends for dawn_novak\n",
      "Returning --- 54 friends for dayanara550"
     ]
    },
    {
     "name": "stderr",
     "output_type": "stream",
     "text": [
      "Got error: {\"errors\":[{\"message\":\"Rate limit exceeded\",\"code\":88}]} \n",
      "sleeping for 15 minutes.\n"
     ]
    },
    {
     "name": "stdout",
     "output_type": "stream",
     "text": [
      "\n",
      "Returning --- 10 friends for NikhilHegde2\n",
      "Returning --- 1824 friends for MamaGrows\n",
      "Returning --- 928 friends for JohnJSpears\n",
      "Returning --- 467 friends for jerhester\n",
      "Returning --- 1671 friends for Paperead_\n",
      "Returning --- 120 friends for LuisLarco\n",
      "Returning --- 34 friends for nsingh005\n",
      "Returning --- 601 friends for TNRforparents\n",
      "Returning --- 79 friends for vinodbhalerao24\n",
      "Returning --- 1268 friends for SamsonAtlantic\n",
      "Returning --- 119 friends for digihistorylab\n",
      "Returning --- 791 friends for babaBC\n",
      "Returning --- 122 friends for jessa10250419\n",
      "Returning --- 18 friends for Kris_4ever1"
     ]
    },
    {
     "name": "stderr",
     "output_type": "stream",
     "text": [
      "Got error: {\"errors\":[{\"message\":\"Rate limit exceeded\",\"code\":88}]} \n",
      "sleeping for 15 minutes.\n"
     ]
    },
    {
     "name": "stdout",
     "output_type": "stream",
     "text": [
      "\n",
      "Returning --- 9 friends for SonowalAkash\n",
      "Returning --- 186 friends for wei______\n",
      "Returning --- 387 friends for AndrePphillip\n",
      "Returning --- 2695 friends for DOICareers\n",
      "Returning --- 62 friends for dhruv944\n",
      "Returning --- 6 friends for Hare_Krishna108\n",
      "Returning --- 293 friends for 0c8f4857a9ef4b6\n",
      "Returning --- 1250 friends for plugged_in\n",
      "Returning --- 54 friends for vedasanthi\n",
      "Returning --- 1774 friends for KohlerJobs\n",
      "Returning --- 1984 friends for preptalktv\n",
      "Returning --- 298 friends for Aaron3221"
     ]
    },
    {
     "name": "stderr",
     "output_type": "stream",
     "text": [
      "Got error: {\"errors\":[{\"message\":\"Rate limit exceeded\",\"code\":88}]} \n",
      "sleeping for 15 minutes.\n"
     ]
    },
    {
     "name": "stdout",
     "output_type": "stream",
     "text": [
      "\n",
      "Returning --- 75 friends for saurav6190\n",
      "Returning --- 159 friends for epenzeymoog\n",
      "Returning --- 638 friends for 8sanjeev2011\n",
      "Returning --- 76 friends for Devendra_dwived\n",
      "Returning --- 19 friends for Daniel_KOO\n",
      "Returning --- 228 friends for iacobus\n",
      "Returning --- 21 friends for thedrawhoward\n",
      "Returning --- 344 friends for Melanie9382\n",
      "Returning --- 32 friends for Flistof\n",
      "Returning --- 625 friends for greenshift77\n",
      "Returning --- 19 friends for johngroszko\n",
      "Returning --- 1771 friends for Orunje\n",
      "Returning --- 138 friends for lcooper\n",
      "Returning --- 121 friends for JoshiRamVelpula"
     ]
    },
    {
     "name": "stderr",
     "output_type": "stream",
     "text": [
      "Got error: {\"errors\":[{\"message\":\"Rate limit exceeded\",\"code\":88}]} \n",
      "sleeping for 15 minutes.\n"
     ]
    },
    {
     "name": "stdout",
     "output_type": "stream",
     "text": [
      "\n",
      "Returning --- 19 friends for FRC4551\n",
      "Returning --- 1980 friends for MindcronBnglr\n",
      "Returning --- 53 friends for abhisheks292\n",
      "Returning --- 122 friends for ChicagoInfinite\n",
      "Returning --- 109 friends for russcollier\n",
      "Returning --- 1082 friends for Percipia1\n",
      "Returning --- 1446 friends for DuSableMuseum\n",
      "Collected 5000 friends for BrandeisU\n",
      "Returning --- 103 friends for BrandeisU\n",
      "Returning --- 32 friends for NavnSha124\n",
      "Returning --- 580 friends for mashbrock\n",
      "Returning --- 336 friends for nadia_igle_di\n",
      "Returning --- 30 friends for rahul_tech007\n",
      "Returning --- 466 friends for GlocalStudy"
     ]
    },
    {
     "name": "stderr",
     "output_type": "stream",
     "text": [
      "Got error: {\"errors\":[{\"message\":\"Rate limit exceeded\",\"code\":88}]} \n",
      "sleeping for 15 minutes.\n"
     ]
    },
    {
     "name": "stdout",
     "output_type": "stream",
     "text": [
      "\n",
      "Returning --- 295 friends for LabNewsNetwork\n",
      "Returning --- 294 friends for JodelCharles\n",
      "Returning --- 50 friends for theodoregao\n",
      "Returning --- 160 friends for ErinGMcDonald\n",
      "Returning --- 88 friends for SistersOnCampus\n",
      "Returning --- 10 friends for ianwiese\n",
      "Returning --- 138 friends for marinaalira\n",
      "Returning --- 11 friends for sravya_dasari\n",
      "Returning --- 371 friends for sumitms100\n",
      "Returning --- 78 friends for Tutelmids\n",
      "Returning --- 22 friends for thedivineevents\n",
      "Returning --- 85 friends for Jwoodz525"
     ]
    },
    {
     "name": "stderr",
     "output_type": "stream",
     "text": [
      "Got error: {\"errors\":[{\"message\":\"Rate limit exceeded\",\"code\":88}]} \n",
      "sleeping for 15 minutes.\n"
     ]
    },
    {
     "name": "stdout",
     "output_type": "stream",
     "text": [
      "\n",
      "Returning --- 1962 friends for Jennifer9802\n",
      "Returning --- 1979 friends for BreadShed\n",
      "Returning --- 95 friends for BF_IllinoisTech\n",
      "Returning --- 231 friends for Gui_Saussay\n",
      "Returning --- 69 friends for Erinwangyifei\n",
      "Returning --- 269 friends for SHEN_MIN\n",
      "Returning --- 280 friends for studio__silver\n",
      "Returning --- 133 friends for CFASchoolhouse\n",
      "Collected 5000 friends for GxChicago\n",
      "Returning --- 1481 friends for GxChicago\n",
      "Returning --- 97 friends for CassandraSlatt1\n",
      "Returning --- 1997 friends for dustingarlitz"
     ]
    },
    {
     "name": "stderr",
     "output_type": "stream",
     "text": [
      "Got error: {\"errors\":[{\"message\":\"Rate limit exceeded\",\"code\":88}]} \n",
      "sleeping for 15 minutes.\n"
     ]
    },
    {
     "name": "stdout",
     "output_type": "stream",
     "text": [
      "\n",
      "Returning --- 25 friends for zwang617\n",
      "Returning --- 5 friends for austinwei2011\n",
      "Returning --- 228 friends for valmirismaili\n",
      "Returning --- 1297 friends for Hybridesign\n",
      "Returning --- 144 friends for ssmyd\n",
      "Returning --- 53 friends for psiya344\n",
      "Returning --- 24 friends for bigyan428\n",
      "Returning --- 11 friends for NRajansuki\n",
      "Returning --- 1536 friends for PhysicsConnect\n",
      "Returning --- 70 friends for Manasasundaram\n",
      "Returning --- 86 friends for IITUBC\n",
      "Returning --- 479 friends for chiartshs\n",
      "Returning --- 666 friends for j_chytown"
     ]
    },
    {
     "name": "stderr",
     "output_type": "stream",
     "text": [
      "Got error: {\"errors\":[{\"message\":\"Rate limit exceeded\",\"code\":88}]} \n",
      "sleeping for 15 minutes.\n"
     ]
    },
    {
     "name": "stdout",
     "output_type": "stream",
     "text": [
      "\n",
      "Returning --- 227 friends for ESME_Alumni\n",
      "Returning --- 9 friends for saurabhsakhare6\n",
      "Returning --- 25 friends for prakash521993\n",
      "Returning --- 1950 friends for CordochoreaD\n",
      "Returning --- 311 friends for QueerTechClub\n",
      "Returning --- 169 friends for jheinz_57\n",
      "Returning --- 125 friends for freshphysics\n",
      "Returning --- 860 friends for TajisDelivery\n",
      "Returning --- 580 friends for slu_gunner\n",
      "Returning --- 896 friends for Atelierars\n",
      "Returning --- 1075 friends for HubGroup\n",
      "Returning --- 73 friends for hridaybuyakar\n",
      "Returning --- 184 friends for TheBRF\n",
      "Returning --- 16 friends for Ilangoven93"
     ]
    },
    {
     "name": "stderr",
     "output_type": "stream",
     "text": [
      "Got error: {\"errors\":[{\"message\":\"Rate limit exceeded\",\"code\":88}]} \n",
      "sleeping for 15 minutes.\n"
     ]
    },
    {
     "name": "stdout",
     "output_type": "stream",
     "text": [
      "\n",
      "Returning --- 15 friends for agangauvinho\n",
      "Returning --- 82 friends for IITCrownJoules\n",
      "Returning --- 118 friends for SEGFUSEStudio\n",
      "Returning --- 203 friends for Manal1407\n",
      "Returning --- 2315 friends for MFAUpdates\n",
      "Returning --- 93 friends for WillyTaracena\n",
      "Returning --- 150 friends for althebaker43\n",
      "Returning --- 22 friends for dipendrakumary3\n",
      "Returning --- 939 friends for mchlecarr\n",
      "Returning --- 338 friends for MyNameIsShayna\n",
      "Returning --- 425 friends for GreenTieBall\n",
      "Returning --- 8 friends for MarQuik\n",
      "Returning --- 1961 friends for VIR_FaithOnPZZ"
     ]
    },
    {
     "name": "stderr",
     "output_type": "stream",
     "text": [
      "Got error: {\"errors\":[{\"message\":\"Rate limit exceeded\",\"code\":88}]} \n",
      "sleeping for 15 minutes.\n"
     ]
    },
    {
     "name": "stdout",
     "output_type": "stream",
     "text": [
      "\n",
      "Returning --- 7 friends for Gopal12101689\n",
      "Collected 5000 friends for dtlastudios\n",
      "Returning --- 4089 friends for dtlastudios\n",
      "Returning --- 2004 friends for mrcravens\n",
      "Returning --- 47 friends for coralpais\n",
      "Returning --- 1753 friends for youandme_dating\n",
      "Returning --- 441 friends for deborahnavarra\n",
      "Returning --- 104 friends for dholakianivid\n",
      "Returning --- 29 friends for uzairahamed\n",
      "Returning --- 1001 friends for wturner2323\n",
      "Returning --- 1990 friends for HarshilPandya30\n",
      "Returning --- 675 friends for BridgeportAlly\n",
      "Returning --- 82 friends for namochik\n",
      "Returning --- 1009 friends for Caffiene_Svk"
     ]
    },
    {
     "name": "stderr",
     "output_type": "stream",
     "text": [
      "Got error: {\"errors\":[{\"message\":\"Rate limit exceeded\",\"code\":88}]} \n",
      "sleeping for 15 minutes.\n"
     ]
    },
    {
     "name": "stdout",
     "output_type": "stream",
     "text": [
      "\n",
      "Returning --- 211 friends for VoteMeForGod\n",
      "Returning --- 8 friends for Damandeeepddsb\n",
      "Returning --- 332 friends for mjamoom\n",
      "Returning --- 163 friends for Priyanka19951\n",
      "Returning --- 458 friends for AmandaRocksLife\n",
      "Returning --- 91 friends for deepakoptimist\n",
      "Returning --- 24 friends for LxLin719\n",
      "Returning --- 1993 friends for HectorCamposh\n",
      "Returning --- 827 friends for CityYearSAC\n",
      "Returning --- 352 friends for JoinMAVERICK\n",
      "Returning --- 59 friends for PritzkerClub\n",
      "Returning --- 277 friends for avaughan61\n",
      "Returning --- 30 friends for KALYANSINGH16\n",
      "Returning --- 17 friends for xy_Mike\n",
      "Returning --- 43 friends for pandabears5761"
     ]
    },
    {
     "name": "stderr",
     "output_type": "stream",
     "text": [
      "Got error: {\"errors\":[{\"message\":\"Rate limit exceeded\",\"code\":88}]} \n",
      "sleeping for 15 minutes.\n"
     ]
    },
    {
     "name": "stdout",
     "output_type": "stream",
     "text": [
      "\n",
      "Returning --- 361 friends for qinic\n",
      "Returning --- 1998 friends for Woroud\n",
      "Returning --- 1809 friends for cpstudent\n",
      "Returning --- 1864 friends for kathrynrosypal\n",
      "Returning --- 9 friends for Cifci\n",
      "Returning --- 14 friends for IIT_INTM\n",
      "Returning --- 654 friends for TheHopHaus\n",
      "Returning --- 160 friends for illinoisslate\n",
      "Returning --- 10 friends for nkbigbear\n",
      "Returning --- 1224 friends for John_Hubert\n",
      "Returning --- 1998 friends for MSUWORLD\n",
      "Returning --- 22 friends for RoyalKnight_Dy\n",
      "Returning --- 568 friends for BhagvatMandar"
     ]
    },
    {
     "name": "stderr",
     "output_type": "stream",
     "text": [
      "Got error: {\"errors\":[{\"message\":\"Rate limit exceeded\",\"code\":88}]} \n",
      "sleeping for 15 minutes.\n"
     ]
    },
    {
     "name": "stdout",
     "output_type": "stream",
     "text": [
      "\n",
      "Returning --- 364 friends for rogerrayner\n",
      "Returning --- 169 friends for OussarTweeT\n",
      "Returning --- 149 friends for subhamscience_\n",
      "Returning --- 1956 friends for Harshalmahaja16\n",
      "Returning --- 2610 friends for JobGiraffe\n",
      "Returning --- 1422 friends for UnitedEducators\n",
      "Returning --- 168 friends for sammit17\n",
      "Returning --- 183 friends for Sean_Kiley_21\n",
      "Returning --- 431 friends for Ramawat5\n",
      "Returning --- 92 friends for InnovationReady\n",
      "Returning --- 223 friends for everchanging_b\n",
      "Returning --- 1681 friends for shelleystern\n",
      "Returning --- 1769 friends for imashishgaurav\n",
      "Returning --- 742 friends for njcollegewise\n",
      "Returning --- 10 friends for abhiroopchatto"
     ]
    },
    {
     "name": "stderr",
     "output_type": "stream",
     "text": [
      "Got error: {\"errors\":[{\"message\":\"Rate limit exceeded\",\"code\":88}]} \n",
      "sleeping for 15 minutes.\n"
     ]
    },
    {
     "name": "stdout",
     "output_type": "stream",
     "text": [
      "\n",
      "Returning --- 889 friends for tylerdesignmesh\n",
      "Returning --- 107 friends for bilgicm\n",
      "Returning --- 267 friends for Camilla317\n",
      "Returning --- 1066 friends for Konnect_meeting\n",
      "Returning --- 235 friends for midnitepostman\n",
      "Returning --- 246 friends for _purvishkumar\n",
      "Returning --- 46 friends for sonukum19790465\n",
      "Returning --- 320 friends for sameep6\n",
      "Returning --- 381 friends for rohitphy\n",
      "Returning --- 10 friends for NirmalChouhan9\n",
      "Returning --- 437 friends for pudiination\n",
      "Returning --- 71 friends for csquare_\n",
      "Returning --- 172 friends for gmanoj85\n",
      "Returning --- 119 friends for rcoasb69"
     ]
    },
    {
     "name": "stderr",
     "output_type": "stream",
     "text": [
      "Got error: {\"errors\":[{\"message\":\"Rate limit exceeded\",\"code\":88}]} \n",
      "sleeping for 15 minutes.\n"
     ]
    },
    {
     "name": "stdout",
     "output_type": "stream",
     "text": [
      "\n",
      "Returning --- 101 friends for ImhoffTech\n",
      "Returning --- 176 friends for mattyabeles\n",
      "Returning --- 121 friends for rjlenau\n",
      "Returning --- 1806 friends for 1_open\n",
      "Returning --- 151 friends for Cat_Connect\n",
      "Returning --- 319 friends for C2Fag\n",
      "Returning --- 28 friends for amittbhalla\n",
      "Returning --- 1313 friends for zealsathish\n",
      "Returning --- 374 friends for GADC_Chicago\n",
      "Returning --- 216 friends for motorboatmayhem\n",
      "Returning --- 50 friends for paigemass\n",
      "Returning --- 6 friends for ushalil93\n",
      "Returning --- 1998 friends for Shaunnapjz"
     ]
    },
    {
     "name": "stderr",
     "output_type": "stream",
     "text": [
      "Got error: {\"errors\":[{\"message\":\"Rate limit exceeded\",\"code\":88}]} \n",
      "sleeping for 15 minutes.\n"
     ]
    },
    {
     "name": "stdout",
     "output_type": "stream",
     "text": [
      "\n",
      "Returning --- 97 friends for paulinacarlos\n",
      "Returning --- 26 friends for pzzuzzik\n",
      "Returning --- 585 friends for AndrewKomosa\n",
      "Returning --- 215 friends for 2010cys7095\n",
      "Returning --- 997 friends for mccastelle\n",
      "Returning --- 154 friends for IITCareers\n",
      "Returning --- 1943 friends for bsocialkid\n",
      "Returning --- 273 friends for oolretaw\n",
      "Returning --- 426 friends for PrimeraEng\n",
      "Returning --- 126 friends for mechineer3175\n",
      "Returning --- 18 friends for IPROatIIT\n",
      "Returning --- 309 friends for EclaroTweets\n",
      "Returning --- 212 friends for LL_media\n",
      "Returning --- 236 friends for AdmissionsHOW"
     ]
    },
    {
     "name": "stderr",
     "output_type": "stream",
     "text": [
      "Got error: {\"errors\":[{\"message\":\"Rate limit exceeded\",\"code\":88}]} \n",
      "sleeping for 15 minutes.\n"
     ]
    },
    {
     "name": "stdout",
     "output_type": "stream",
     "text": [
      "\n",
      "Returning --- 2615 friends for TheFranc\n",
      "Returning --- 1097 friends for raghavew\n",
      "Returning --- 9 friends for tvfashionstudio\n",
      "Returning --- 230 friends for SightlinesLLC\n",
      "Returning --- 59 friends for hemalibhagat1\n",
      "Returning --- 1172 friends for CarissaDi\n",
      "Returning --- 67 friends for jmbc79\n",
      "Returning --- 826 friends for gupul2k\n",
      "Returning --- 1 friends for dpatel37\n",
      "Returning --- 1168 friends for nkhaledi\n",
      "Returning --- 101 friends for kanirudh34\n",
      "Returning --- 226 friends for kstteja"
     ]
    },
    {
     "name": "stderr",
     "output_type": "stream",
     "text": [
      "Got error: {\"errors\":[{\"message\":\"Rate limit exceeded\",\"code\":88}]} \n",
      "sleeping for 15 minutes.\n"
     ]
    },
    {
     "name": "stdout",
     "output_type": "stream",
     "text": [
      "\n",
      "Returning --- 55 friends for 2015_Cubbies\n",
      "Returning --- 56 friends for megyi2001\n",
      "Returning --- 418 friends for ipranav5\n",
      "Returning --- 6 friends for Ravikumarsekars\n",
      "Returning --- 43 friends for rockyrohit12\n",
      "Returning --- 79 friends for meHungryNow\n",
      "Returning --- 69 friends for GhanaStudio2014\n",
      "Returning --- 16 friends for ishakhurana1\n",
      "Returning --- 38 friends for GangaReddy_P\n",
      "Returning --- 95 friends for d_wilburne\n",
      "Returning --- 231 friends for SusanLewers\n",
      "Returning --- 1766 friends for rwilo3D\n",
      "Returning --- 470 friends for h_fhaxhaj\n",
      "Returning --- 84 friends for MohdSharib2"
     ]
    },
    {
     "name": "stderr",
     "output_type": "stream",
     "text": [
      "Got error: {\"errors\":[{\"message\":\"Rate limit exceeded\",\"code\":88}]} \n",
      "sleeping for 15 minutes.\n"
     ]
    },
    {
     "name": "stdout",
     "output_type": "stream",
     "text": [
      "\n",
      "Returning --- 283 friends for FoodChemNews\n",
      "Returning --- 604 friends for harsharnav1\n",
      "Returning --- 320 friends for FullertonEngChi\n",
      "Returning --- 44 friends for Hana_99\n",
      "Returning --- 28 friends for zly1990\n",
      "Returning --- 47 friends for MuzacMasta\n",
      "Returning --- 480 friends for scampjc\n",
      "Returning --- 262 friends for rakeshkoyiloth\n",
      "Returning --- 40 friends for ChSeoud\n",
      "Returning --- 252 friends for WDavidWork\n",
      "Returning --- 561 friends for AriannaJnth\n",
      "Returning --- 884 friends for humnoidsnevrlie\n",
      "Returning --- 273 friends for MMastromartino"
     ]
    },
    {
     "name": "stderr",
     "output_type": "stream",
     "text": [
      "Got error: {\"errors\":[{\"message\":\"Rate limit exceeded\",\"code\":88}]} \n",
      "sleeping for 15 minutes.\n"
     ]
    },
    {
     "name": "stdout",
     "output_type": "stream",
     "text": [
      "\n",
      "Returning --- 838 friends for MindCron_com\n",
      "Returning --- 11 friends for gyanec13\n",
      "Returning --- 662 friends for eccello\n",
      "Returning --- 160 friends for tdreismeier\n",
      "Returning --- 46 friends for Fardinchoudhur1\n",
      "Returning --- 869 friends for ShaikhZeef\n",
      "Returning --- 34 friends for joy4tech\n",
      "Returning --- 218 friends for iXdnan\n",
      "Returning --- 128 friends for Divyanshujaisw8\n",
      "Returning --- 29 friends for GyMa7\n",
      "Returning --- 157 friends for WheresPerryEles\n",
      "Returning --- 28 friends for WinstonBond\n",
      "Returning --- 420 friends for shimerians\n",
      "Returning --- 26 friends for JamesGniadek"
     ]
    },
    {
     "name": "stderr",
     "output_type": "stream",
     "text": [
      "Got error: {\"errors\":[{\"message\":\"Rate limit exceeded\",\"code\":88}]} \n",
      "sleeping for 15 minutes.\n"
     ]
    },
    {
     "name": "stdout",
     "output_type": "stream",
     "text": [
      "\n",
      "Returning --- 1907 friends for williamrobert30\n",
      "Returning --- 75 friends for NicolasLassaux\n",
      "Returning --- 288 friends for caobo_jose\n",
      "Returning --- 5 friends for brianybk\n",
      "Returning --- 1986 friends for VelmaToma\n",
      "Collected 5000 friends for SHORT_REPORT\n",
      "Collected 5000 friends for SHORT_REPORT\n",
      "Collected 5000 friends for SHORT_REPORT\n",
      "Collected 5000 friends for SHORT_REPORT\n",
      "Collected 5000 friends for SHORT_REPORT\n",
      "Collected 5000 friends for SHORT_REPORT\n",
      "Collected 5000 friends for SHORT_REPORT\n",
      "Returning --- 635 friends for SHORT_REPORT\n",
      "Returning --- 326 friends for iskyscraper"
     ]
    },
    {
     "name": "stderr",
     "output_type": "stream",
     "text": [
      "Got error: {\"errors\":[{\"message\":\"Rate limit exceeded\",\"code\":88}]} \n",
      "sleeping for 15 minutes.\n"
     ]
    },
    {
     "name": "stdout",
     "output_type": "stream",
     "text": [
      "\n",
      "Returning --- 1996 friends for ilcollegenet\n",
      "Collected 5000 friends for Cruiter\n",
      "Returning --- 998 friends for Cruiter\n",
      "Returning --- 72 friends for FollowGurukul\n",
      "Returning --- 360 friends for SK8RBoYSwG\n",
      "Returning --- 2335 friends for 1wordchrisjones\n",
      "Returning --- 1563 friends for ROKAutomation\n",
      "Returning --- 43 friends for admahawar\n",
      "Returning --- 227 friends for MaitriVaghela\n",
      "Returning --- 146 friends for tschep2\n",
      "Returning --- 714 friends for StudyAbroadcoin\n",
      "Returning --- 38 friends for archit_007\n",
      "Returning --- 413 friends for EDUPLANETS\n",
      "Returning --- 399 friends for FLopes_patricia"
     ]
    },
    {
     "name": "stderr",
     "output_type": "stream",
     "text": [
      "Got error: {\"errors\":[{\"message\":\"Rate limit exceeded\",\"code\":88}]} \n",
      "sleeping for 15 minutes.\n"
     ]
    },
    {
     "name": "stdout",
     "output_type": "stream",
     "text": [
      "\n",
      "Returning --- 975 friends for ILikeIllinois\n",
      "Returning --- 52 friends for BrandonIITAlum\n",
      "Returning --- 102 friends for danklee\n",
      "Returning --- 185 friends for cuttlas_\n",
      "Returning --- 22 friends for RojinBabayan\n",
      "Returning --- 114 friends for marilyn0422\n",
      "Returning --- 648 friends for hawkeygal\n",
      "Returning --- 125 friends for ekakyirem\n",
      "Returning --- 219 friends for doraemi36\n",
      "Returning --- 99 friends for LandPlanner"
     ]
    },
    {
     "name": "stderr",
     "output_type": "stream",
     "text": [
      "Got error: {\"errors\":[{\"message\":\"Rate limit exceeded\",\"code\":88}]} \n",
      "sleeping for 15 minutes.\n"
     ]
    },
    {
     "name": "stdout",
     "output_type": "stream",
     "text": [
      "\n",
      "Returning --- 1867 friends for theocg\n",
      "Returning --- 325 friends for arthurwoodlawn\n",
      "Returning --- 218 friends for jgroszko\n",
      "Returning --- 80 friends for iam_anoop_ak\n",
      "Returning --- 3031 friends for glenn_ferrell\n",
      "Returning --- 20 friends for shani_sharph\n",
      "Returning --- 111 friends for iitdelts\n",
      "Returning --- 52 friends for YetAnotherJacob\n",
      "Returning --- 83 friends for DrBronzevilleMD\n",
      "Returning --- 1989 friends for DUBurnsSchool\n",
      "Returning --- 180 friends for purnachndu\n",
      "Returning --- 6 friends for prashant11211"
     ]
    },
    {
     "name": "stderr",
     "output_type": "stream",
     "text": [
      "Got error: {\"errors\":[{\"message\":\"Rate limit exceeded\",\"code\":88}]} \n",
      "sleeping for 15 minutes.\n"
     ]
    },
    {
     "name": "stdout",
     "output_type": "stream",
     "text": [
      "\n",
      "Returning --- 74 friends for 93910875311\n",
      "Returning --- 59 friends for IITandKOTA\n",
      "Returning --- 29 friends for Meera3007\n",
      "Returning --- 307 friends for giri_iitb\n",
      "Returning --- 22 friends for p1236andiyaraja\n",
      "Returning --- 81 friends for DNayak26\n",
      "Returning --- 1931 friends for Chi_TechScene\n",
      "Returning --- 34 friends for heroghanesh\n",
      "Returning --- 47 friends for Mahendar85\n",
      "Returning --- 18 friends for felix_weigelt\n",
      "Returning --- 76 friends for Nishargpatel\n",
      "Returning --- 517 friends for JML134\n",
      "Returning --- 315 friends for PeoplePlayWhat\n",
      "Returning --- 8 friends for manoj951984\n",
      "Returning --- 153 friends for Plancess360"
     ]
    },
    {
     "name": "stderr",
     "output_type": "stream",
     "text": [
      "Got error: {\"errors\":[{\"message\":\"Rate limit exceeded\",\"code\":88}]} \n",
      "sleeping for 15 minutes.\n"
     ]
    },
    {
     "name": "stdout",
     "output_type": "stream",
     "text": [
      "\n",
      "Returning --- 2354 friends for MarketsWiki\n",
      "Returning --- 534 friends for CISUVC\n",
      "Returning --- 453 friends for AnupBuddyCool\n",
      "Returning --- 552 friends for vetstowandrecov\n",
      "Returning --- 6 friends for yankdizzy\n",
      "Returning --- 1036 friends for makers365\n",
      "Returning --- 1972 friends for Cameron_Jones34\n",
      "Returning --- 147 friends for LavdiZ\n",
      "Returning --- 126 friends for TheGoodLab\n",
      "Returning --- 51 friends for EtoosIndia\n",
      "Returning --- 115 friends for oscartheperson\n",
      "Returning --- 186 friends for EIVP_Interntnl\n",
      "Returning --- 77 friends for DawnDe8\n",
      "Returning --- 166 friends for SteveEwart2\n",
      "Returning --- 88 friends for darpogi1013"
     ]
    },
    {
     "name": "stderr",
     "output_type": "stream",
     "text": [
      "Got error: {\"errors\":[{\"message\":\"Rate limit exceeded\",\"code\":88}]} \n",
      "sleeping for 15 minutes.\n"
     ]
    },
    {
     "name": "stdout",
     "output_type": "stream",
     "text": [
      "\n",
      "Returning --- 65 friends for eric_goldspiel\n",
      "Returning --- 422 friends for versan_edu\n",
      "Returning --- 246 friends for VirtualAdvising\n",
      "Returning --- 25 friends for M4dfr0G\n",
      "Returning --- 872 friends for nuinnovation\n",
      "Returning --- 26 friends for lintao88\n",
      "Returning --- 1032 friends for RorySullivan\n",
      "Returning --- 190 friends for morales_jd\n",
      "Returning --- 785 friends for myfalafel\n",
      "Returning --- 28 friends for RJ79983656\n",
      "Returning --- 401 friends for sppk\n",
      "Returning --- 546 friends for kalingone\n",
      "Returning --- 192 friends for fozzytweetshard"
     ]
    },
    {
     "name": "stderr",
     "output_type": "stream",
     "text": [
      "Got error: {\"errors\":[{\"message\":\"Rate limit exceeded\",\"code\":88}]} \n",
      "sleeping for 15 minutes.\n"
     ]
    },
    {
     "name": "stdout",
     "output_type": "stream",
     "text": [
      "\n",
      "Returning --- 115 friends for sandeepgate\n",
      "Returning --- 1122 friends for TheModernDem\n",
      "Returning --- 3777 friends for SKYRAPMAG\n",
      "Returning --- 21 friends for laurali67\n",
      "Returning --- 130 friends for gopalamity\n",
      "Returning --- 8 friends for oncampusdeals1\n",
      "Returning --- 86 friends for YHPChicago\n",
      "Returning --- 85 friends for RichardLiu86\n",
      "Returning --- 62 friends for lockhak\n",
      "Returning --- 751 friends for IamMVR\n",
      "Returning --- 38 friends for ashishjhaa000\n",
      "Returning --- 209 friends for timewar85\n",
      "Returning --- 166 friends for fabertho\n",
      "Returning --- 817 friends for Curvyjax"
     ]
    },
    {
     "name": "stderr",
     "output_type": "stream",
     "text": [
      "Got error: {\"errors\":[{\"message\":\"Rate limit exceeded\",\"code\":88}]} \n",
      "sleeping for 15 minutes.\n"
     ]
    },
    {
     "name": "stdout",
     "output_type": "stream",
     "text": [
      "\n",
      "Returning --- 54 friends for AnkithMJain\n",
      "Returning --- 43 friends for jasondtd\n",
      "Returning --- 221 friends for Jason_Minnich\n",
      "Returning --- 155 friends for WareIsRachel\n",
      "Returning --- 165 friends for wooddragonus\n",
      "Returning --- 1971 friends for KneeShit\n",
      "Returning --- 113 friends for scorpiknox\n",
      "Returning --- 527 friends for TheTradingShow\n",
      "Returning --- 99 friends for iitarc\n",
      "Returning --- 109 friends for sandra_casten\n",
      "Returning --- 651 friends for pure_oso\n",
      "Returning --- 142 friends for jrwall9\n",
      "Returning --- 1284 friends for nayanrahul08"
     ]
    },
    {
     "name": "stderr",
     "output_type": "stream",
     "text": [
      "Got error: {\"errors\":[{\"message\":\"Rate limit exceeded\",\"code\":88}]} \n",
      "sleeping for 15 minutes.\n"
     ]
    },
    {
     "name": "stdout",
     "output_type": "stream",
     "text": [
      "\n",
      "Returning --- 392 friends for HaridassSns\n",
      "Returning --- 209 friends for Bhakthavatsala\n",
      "Returning --- 58 friends for sudhirksingh27\n",
      "Returning --- 815 friends for spicymon\n",
      "Returning --- 161 friends for Comillas_SRI\n",
      "Returning --- 1677 friends for GGIPanipat\n",
      "Returning --- 19 friends for nikhilsakhare3\n",
      "Returning --- 157 friends for brooks_1\n",
      "Returning --- 297 friends for juanchi_hdez\n",
      "Returning --- 39 friends for SerkanTasci\n",
      "Returning --- 1222 friends for MaximusMarq\n",
      "Returning --- 2703 friends for ZipcarChicago\n",
      "Returning --- 85 friends for hardik_setia\n",
      "Collected 5000 friends for CrainsChicago\n",
      "Collected 5000 friends for CrainsChicago"
     ]
    },
    {
     "name": "stderr",
     "output_type": "stream",
     "text": [
      "Got error: {\"errors\":[{\"message\":\"Rate limit exceeded\",\"code\":88}]} \n",
      "sleeping for 15 minutes.\n"
     ]
    }
   ],
   "source": [
    "get_friend_ids_and_pickle_object(iit_followers_2,\"iit2\")"
   ]
  },
  {
   "cell_type": "code",
   "execution_count": 11,
   "metadata": {
    "collapsed": false
   },
   "outputs": [
    {
     "name": "stdout",
     "output_type": "stream",
     "text": [
      "3788\n"
     ]
    }
   ],
   "source": [
    "iit_followers_3 =  list(iit_followers)[2777:]\n",
    "print len(iit_followers_3)"
   ]
  },
  {
   "cell_type": "code",
   "execution_count": 15,
   "metadata": {
    "collapsed": false
   },
   "outputs": [
    {
     "name": "stdout",
     "output_type": "stream",
     "text": [
      "Returning --- 85 friends for hardik_setia\n",
      "Collected 5000 friends for CrainsChicago\n",
      "Collected 5000 friends for CrainsChicago\n",
      "Collected 5000 friends for CrainsChicago\n",
      "Collected 5000 friends for CrainsChicago\n",
      "Collected 5000 friends for CrainsChicago\n",
      "Collected 5000 friends for CrainsChicago\n",
      "Collected 5000 friends for CrainsChicago\n",
      "Returning --- 3195 friends for CrainsChicago\n",
      "Returning --- 160 friends for ashraf5486\n",
      "Returning --- 97 friends for inayemm\n",
      "Returning --- 92 friends for BogIIT\n",
      "Returning --- 73 friends for tsm96tusshar\n",
      "Returning --- 377 friends for GreenBeautyCEO"
     ]
    },
    {
     "name": "stderr",
     "output_type": "stream",
     "text": [
      "Got error: {\"errors\":[{\"message\":\"Rate limit exceeded\",\"code\":88}]} \n",
      "sleeping for 15 minutes.\n"
     ]
    },
    {
     "name": "stdout",
     "output_type": "stream",
     "text": [
      "\n",
      "Returning --- 209 friends for billzhangsh\n",
      "Returning --- 128 friends for MerchMartEvents\n",
      "Collected 5000 friends for summerlearning\n",
      "Returning --- 345 friends for summerlearning\n",
      "Returning --- 502 friends for RRJay_\n",
      "Returning --- 1960 friends for Hace_Online\n",
      "Returning --- 806 friends for LearningLateral\n",
      "Returning --- 505 friends for whystudyhere\n",
      "Returning --- 15 friends for joy93_joy\n",
      "Collected 5000 friends for CrowdTMeeting\n",
      "Collected 5000 friends for CrowdTMeeting\n",
      "Collected 5000 friends for CrowdTMeeting\n",
      "Collected 5000 friends for CrowdTMeeting\n",
      "Collected 5000 friends for CrowdTMeeting"
     ]
    },
    {
     "name": "stderr",
     "output_type": "stream",
     "text": [
      "Got error: {\"errors\":[{\"message\":\"Rate limit exceeded\",\"code\":88}]} \n",
      "sleeping for 15 minutes.\n"
     ]
    },
    {
     "name": "stdout",
     "output_type": "stream",
     "text": [
      "\n",
      "Collected 5000 friends for CrowdTMeeting\n",
      "Collected 5000 friends for CrowdTMeeting\n",
      "Collected 5000 friends for CrowdTMeeting\n",
      "Collected 5000 friends for CrowdTMeeting\n",
      "Collected 5000 friends for CrowdTMeeting\n",
      "Collected 5000 friends for CrowdTMeeting\n",
      "Collected 5000 friends for CrowdTMeeting\n",
      "Collected 5000 friends for CrowdTMeeting\n",
      "Collected 5000 friends for CrowdTMeeting\n",
      "Collected 5000 friends for CrowdTMeeting\n",
      "Collected 5000 friends for CrowdTMeeting\n",
      "Collected 5000 friends for CrowdTMeeting\n",
      "Returning --- 716 friends for CrowdTMeeting"
     ]
    },
    {
     "name": "stderr",
     "output_type": "stream",
     "text": [
      "Got error: {\"errors\":[{\"message\":\"Rate limit exceeded\",\"code\":88}]} \n",
      "sleeping for 15 minutes.\n"
     ]
    },
    {
     "name": "stdout",
     "output_type": "stream",
     "text": [
      "\n",
      "Returning --- 104 friends for RinorKurteshi\n",
      "Returning --- 123 friends for DC_Comments\n",
      "Returning --- 30 friends for NEERAJ480\n",
      "Returning --- 13 friends for DheerajGajakosh\n",
      "Returning --- 1779 friends for delValleChicago\n",
      "Returning --- 1170 friends for ISEIFoundation\n",
      "Returning --- 2407 friends for ChicagoKentLaw\n",
      "Returning --- 156 friends for CarlH012\n",
      "Returning --- 155 friends for ShaunHerholz\n",
      "Returning --- 14 friends for IIT_Octopus\n",
      "Returning --- 37 friends for MainakBasunia\n",
      "Returning --- 42 friends for ChiCaJap\n",
      "Returning --- 1984 friends for SmallEntIndia\n",
      "Returning --- 55 friends for Rockyforce"
     ]
    },
    {
     "name": "stderr",
     "output_type": "stream",
     "text": [
      "Got error: {\"errors\":[{\"message\":\"Rate limit exceeded\",\"code\":88}]} \n",
      "sleeping for 15 minutes.\n"
     ]
    },
    {
     "name": "stdout",
     "output_type": "stream",
     "text": [
      "\n",
      "Returning --- 31 friends for rk9891743422\n",
      "Returning --- 26 friends for fiquni\n",
      "Returning --- 9 friends for Arsnar\n",
      "Returning --- 220 friends for NautiyalA\n",
      "Collected 5000 friends for roflgoo\n",
      "Returning --- 212 friends for roflgoo\n",
      "Returning --- 63 friends for nikhiljain_123\n",
      "Returning --- 505 friends for studyadda\n",
      "Returning --- 216 friends for alfredoschoch\n",
      "Returning --- 649 friends for Chancellor_CCC\n",
      "Returning --- 397 friends for AlianeBoxmydorm\n",
      "Returning --- 2036 friends for flacostacos\n",
      "Returning --- 811 friends for kingotho\n",
      "Returning --- 349 friends for GSSMAlumni"
     ]
    },
    {
     "name": "stderr",
     "output_type": "stream",
     "text": [
      "Got error: {\"errors\":[{\"message\":\"Rate limit exceeded\",\"code\":88}]} \n",
      "sleeping for 15 minutes.\n"
     ]
    },
    {
     "name": "stdout",
     "output_type": "stream",
     "text": [
      "\n",
      "Returning --- 15 friends for rahulsi62853868\n",
      "Returning --- 1463 friends for iamILtech\n",
      "Returning --- 10 friends for 3827vt\n",
      "Returning --- 53 friends for MVCCAdvising\n",
      "Returning --- 68 friends for YDL_YiDengLi\n",
      "Returning --- 139 friends for Rajnagar81074\n",
      "Returning --- 178 friends for amlthrawn\n",
      "Returning --- 1696 friends for HamiltonDave\n",
      "Returning --- 285 friends for ChicagoCI\n",
      "Returning --- 2029 friends for TerryPCawley\n",
      "Returning --- 895 friends for steven630\n",
      "Returning --- 1354 friends for drarosell129\n",
      "Returning --- 354 friends for vpyindia\n",
      "Returning --- 111 friends for MazenAtaya"
     ]
    },
    {
     "name": "stderr",
     "output_type": "stream",
     "text": [
      "Got error: {\"errors\":[{\"message\":\"Rate limit exceeded\",\"code\":88}]} \n",
      "sleeping for 15 minutes.\n"
     ]
    },
    {
     "name": "stdout",
     "output_type": "stream",
     "text": [
      "\n",
      "Collected 5000 friends for brilliantdirect\n",
      "Collected 5000 friends for brilliantdirect\n",
      "Collected 5000 friends for brilliantdirect\n",
      "Collected 5000 friends for brilliantdirect\n",
      "Collected 5000 friends for brilliantdirect\n",
      "Collected 5000 friends for brilliantdirect\n",
      "Returning --- 1166 friends for brilliantdirect\n",
      "Returning --- 173 friends for MichelleBLarson\n",
      "Returning --- 142 friends for RAHULSI88509074\n",
      "Returning --- 60 friends for shantanu01verma\n",
      "Returning --- 62 friends for RHoppsPCS\n",
      "Returning --- 300 friends for clee61\n",
      "Returning --- 779 friends for PiyushGupta787\n",
      "Returning --- 6 friends for IITJEEBlue\n",
      "Returning --- 84 friends for Polth"
     ]
    },
    {
     "name": "stderr",
     "output_type": "stream",
     "text": [
      "Got error: {\"errors\":[{\"message\":\"Rate limit exceeded\",\"code\":88}]} \n",
      "sleeping for 15 minutes.\n"
     ]
    },
    {
     "name": "stdout",
     "output_type": "stream",
     "text": [
      "\n",
      "Returning --- 184 friends for NeelamRok\n",
      "Returning --- 318 friends for RogersParkMan\n",
      "Returning --- 155 friends for itsashu04\n",
      "Returning --- 539 friends for Chloconutt\n",
      "Returning --- 1647 friends for bbbenjamin\n",
      "Returning --- 156 friends for katielovesmath\n",
      "Returning --- 92 friends for 31stStreetBus\n",
      "Returning --- 513 friends for campusdiaries\n",
      "Returning --- 170 friends for _missdani\n",
      "Returning --- 169 friends for IIT_Stuart_Jobs\n",
      "Returning --- 158 friends for IITJEEcoaching\n",
      "Returning --- 34 friends for Bankai07\n",
      "Returning --- 59 friends for 2batmanrn\n",
      "Returning --- 438 friends for Cheryl_Delisle"
     ]
    },
    {
     "name": "stderr",
     "output_type": "stream",
     "text": [
      "Got error: {\"errors\":[{\"message\":\"Rate limit exceeded\",\"code\":88}]} \n",
      "sleeping for 15 minutes.\n"
     ]
    },
    {
     "name": "stdout",
     "output_type": "stream",
     "text": [
      "\n",
      "Returning --- 38 friends for IamHmnt\n",
      "Returning --- 85 friends for Apex3Security\n",
      "Returning --- 189 friends for katbiedenstein\n",
      "Returning --- 584 friends for ramawat\n",
      "Returning --- 27 friends for yzeng13\n",
      "Returning --- 33 friends for Stamic_wg\n",
      "Returning --- 29 friends for astralzn\n",
      "Returning --- 289 friends for DNEGRILLO\n",
      "Returning --- 1328 friends for Control_Design\n",
      "Returning --- 736 friends for A_S_K_Azad\n",
      "Returning --- 477 friends for MonkeyBars_Chi\n",
      "Returning --- 404 friends for MSMD1992\n",
      "Returning --- 30 friends for Juncheng_Lu"
     ]
    },
    {
     "name": "stderr",
     "output_type": "stream",
     "text": [
      "Got error: {\"errors\":[{\"message\":\"Rate limit exceeded\",\"code\":88}]} \n",
      "sleeping for 15 minutes.\n"
     ]
    },
    {
     "name": "stdout",
     "output_type": "stream",
     "text": [
      "\n",
      "Returning --- 191 friends for mayankmani91\n",
      "Returning --- 364 friends for arpansahoo_96\n",
      "Returning --- 169 friends for MrsBaronHill\n",
      "Returning --- 219 friends for montanoyeo89\n",
      "Returning --- 753 friends for DudeProducts\n",
      "Returning --- 17 friends for nksharma1979\n",
      "Returning --- 50 friends for superwangbo\n",
      "Returning --- 839 friends for Recruit_Travel\n",
      "Returning --- 12 friends for QinxinChen1\n",
      "Returning --- 701 friends for mserdarakyel\n",
      "Returning --- 268 friends for b_jayachandra\n",
      "Returning --- 8 friends for teemo321\n",
      "Returning --- 62 friends for marx_michael\n",
      "Returning --- 411 friends for ExplorerProgram"
     ]
    },
    {
     "name": "stderr",
     "output_type": "stream",
     "text": [
      "Got error: {\"errors\":[{\"message\":\"Rate limit exceeded\",\"code\":88}]} \n",
      "sleeping for 15 minutes.\n"
     ]
    },
    {
     "name": "stdout",
     "output_type": "stream",
     "text": [
      "\n",
      "Returning --- 1984 friends for LaurenBGraphics\n",
      "Returning --- 41 friends for ananyatripathi7\n",
      "Returning --- 16 friends for ESW_IIT\n",
      "Returning --- 296 friends for tanuj_nagal\n",
      "Returning --- 944 friends for LakeviewSabi\n",
      "Returning --- 1390 friends for universityicons\n",
      "Returning --- 182 friends for hs1308\n",
      "Returning --- 250 friends for H2_AC\n",
      "Returning --- 18 friends for JoshuaDLaborde\n",
      "Returning --- 73 friends for lobofish64\n",
      "Returning --- 799 friends for info85543760\n",
      "Returning --- 1800 friends for PublicGains"
     ]
    },
    {
     "name": "stderr",
     "output_type": "stream",
     "text": [
      "Got error: {\"errors\":[{\"message\":\"Rate limit exceeded\",\"code\":88}]} \n",
      "sleeping for 15 minutes.\n"
     ]
    },
    {
     "name": "stdout",
     "output_type": "stream",
     "text": [
      "\n",
      "Returning --- 479 friends for ashwinjk90\n",
      "Returning --- 981 friends for basanthfest\n",
      "Returning --- 204 friends for raviran80165174\n",
      "Returning --- 1711 friends for snapclass\n",
      "Returning --- 2030 friends for amrishyash\n",
      "Returning --- 777 friends for sergiogm_\n",
      "Returning --- 38 friends for JeffreyMcQ\n",
      "Returning --- 277 friends for BrianThompsonMD\n",
      "Returning --- 411 friends for pace4edu\n",
      "Returning --- 427 friends for DanielleGuslerP\n",
      "Returning --- 469 friends for Resource1_R1\n",
      "Returning --- 197 friends for HozefaJ"
     ]
    },
    {
     "name": "stderr",
     "output_type": "stream",
     "text": [
      "Got error: {\"errors\":[{\"message\":\"Rate limit exceeded\",\"code\":88}]} \n",
      "sleeping for 15 minutes.\n"
     ]
    },
    {
     "name": "stdout",
     "output_type": "stream",
     "text": [
      "\n",
      "Returning --- 22 friends for arjunjalan\n",
      "Returning --- 57 friends for MVG_VJ\n",
      "Returning --- 1988 friends for ILLspin\n",
      "Returning --- 19 friends for ZhengyuWu\n",
      "Returning --- 39 friends for IITBursar\n",
      "Returning --- 328 friends for fjunior2\n",
      "Returning --- 130 friends for cpxcpxcpx\n",
      "Returning --- 1983 friends for abyjalota\n",
      "Returning --- 24 friends for vacuumflux\n",
      "Returning --- 2006 friends for SommetInterCoop\n",
      "Returning --- 570 friends for mydanceprint\n",
      "Returning --- 44 friends for alkimo101\n",
      "Returning --- 8 friends for pavani37\n",
      "Returning --- 1198 friends for tagsportsgear\n",
      "Returning --- 613 friends for EthanWhyMe"
     ]
    },
    {
     "name": "stderr",
     "output_type": "stream",
     "text": [
      "Got error: {\"errors\":[{\"message\":\"Rate limit exceeded\",\"code\":88}]} \n",
      "sleeping for 15 minutes.\n"
     ]
    },
    {
     "name": "stdout",
     "output_type": "stream",
     "text": [
      "\n",
      "Returning --- 54 friends for 3DStudentDesign\n",
      "Returning --- 215 friends for jd_romano\n",
      "Returning --- 64 friends for rickard_joseph\n",
      "Returning --- 17 friends for moygao\n",
      "Returning --- 57 friends for natalie_polacek\n",
      "Returning --- 224 friends for AlumniCard\n",
      "Returning --- 1883 friends for juliebartocci\n",
      "Returning --- 1939 friends for fmulisa\n",
      "Returning --- 840 friends for thebeardfish\n",
      "Returning --- 120 friends for lazaro92_\n",
      "Returning --- 769 friends for rohansoumyajita"
     ]
    },
    {
     "name": "stderr",
     "output_type": "stream",
     "text": [
      "Got error: {\"errors\":[{\"message\":\"Rate limit exceeded\",\"code\":88}]} \n",
      "sleeping for 15 minutes.\n"
     ]
    },
    {
     "name": "stdout",
     "output_type": "stream",
     "text": [
      "\n",
      "Returning --- 248 friends for gaganblr\n",
      "Returning --- 1200 friends for abaniku\n",
      "Returning --- 15 friends for 96gupta\n",
      "Returning --- 14 friends for benmuth\n",
      "Returning --- 241 friends for enova\n",
      "Returning --- 597 friends for matewing\n",
      "Returning --- 94 friends for ApasnoreRonPete\n",
      "Returning --- 1028 friends for ponteaia\n",
      "Returning --- 1996 friends for sanjib_skrm\n",
      "Returning --- 502 friends for katiedupree88\n",
      "Returning --- 213 friends for PrincipalLeMone\n",
      "Returning --- 456 friends for oilondono\n",
      "Returning --- 191 friends for argohs217\n",
      "Returning --- 66 friends for Hlsaniee\n",
      "Returning --- 61 friends for jitendrapawar91"
     ]
    },
    {
     "name": "stderr",
     "output_type": "stream",
     "text": [
      "Got error: {\"errors\":[{\"message\":\"Rate limit exceeded\",\"code\":88}]} \n",
      "sleeping for 15 minutes.\n"
     ]
    },
    {
     "name": "stdout",
     "output_type": "stream",
     "text": [
      "\n",
      "Returning --- 18 friends for ajithrajb\n",
      "Returning --- 1069 friends for MarketsReform\n",
      "Returning --- 498 friends for toddjhill\n",
      "Returning --- 108 friends for jide_oke\n",
      "Collected 5000 friends for affirmedsystems\n",
      "Collected 5000 friends for affirmedsystems\n",
      "Collected 5000 friends for affirmedsystems\n",
      "Collected 5000 friends for affirmedsystems\n",
      "Collected 5000 friends for affirmedsystems\n",
      "Collected 5000 friends for affirmedsystems\n",
      "Collected 5000 friends for affirmedsystems\n",
      "Collected 5000 friends for affirmedsystems\n",
      "Collected 5000 friends for affirmedsystems\n",
      "Collected 5000 friends for affirmedsystems\n",
      "Collected 5000 friends for affirmedsystems"
     ]
    },
    {
     "name": "stderr",
     "output_type": "stream",
     "text": [
      "Got error: {\"errors\":[{\"message\":\"Rate limit exceeded\",\"code\":88}]} \n",
      "sleeping for 15 minutes.\n"
     ]
    },
    {
     "name": "stdout",
     "output_type": "stream",
     "text": [
      "\n",
      "Collected 5000 friends for affirmedsystems\n",
      "Collected 5000 friends for affirmedsystems\n",
      "Collected 5000 friends for affirmedsystems\n",
      "Collected 5000 friends for affirmedsystems\n",
      "Collected 5000 friends for affirmedsystems\n",
      "Collected 5000 friends for affirmedsystems\n",
      "Collected 5000 friends for affirmedsystems\n",
      "Returning --- 1488 friends for affirmedsystems\n",
      "Returning --- 14 friends for chuchu90869\n",
      "Returning --- 114 friends for ArpitJai5\n",
      "Returning --- 38 friends for leesa681\n",
      "Returning --- 702 friends for farihawajid\n",
      "Returning --- 605 friends for dsanchez91\n",
      "Returning --- 64 friends for Michaelwu9088\n",
      "Returning --- 24 friends for VishvajeetPatel"
     ]
    },
    {
     "name": "stderr",
     "output_type": "stream",
     "text": [
      "Got error: {\"errors\":[{\"message\":\"Rate limit exceeded\",\"code\":88}]} \n",
      "sleeping for 15 minutes.\n"
     ]
    },
    {
     "name": "stdout",
     "output_type": "stream",
     "text": [
      "\n",
      "Returning --- 207 friends for pruthvi_nsrsr\n",
      "Returning --- 397 friends for leaf722\n",
      "Returning --- 755 friends for sofaexpo\n",
      "Collected 5000 friends for LionsheadSocial\n",
      "Collected 5000 friends for LionsheadSocial\n",
      "Collected 5000 friends for LionsheadSocial\n",
      "Collected 5000 friends for LionsheadSocial\n",
      "Collected 5000 friends for LionsheadSocial\n",
      "Collected 5000 friends for LionsheadSocial\n",
      "Returning --- 2399 friends for LionsheadSocial\n",
      "Returning --- 1785 friends for RenascentRabbit\n",
      "Returning --- 43 friends for eswCUgogreen\n",
      "Returning --- 111 friends for RoyalDieStamp\n",
      "Returning --- 287 friends for eyadaf\n",
      "Returning --- 1354 friends for abhishekroy909"
     ]
    },
    {
     "name": "stderr",
     "output_type": "stream",
     "text": [
      "Got error: {\"errors\":[{\"message\":\"Rate limit exceeded\",\"code\":88}]} \n",
      "sleeping for 15 minutes.\n"
     ]
    },
    {
     "name": "stdout",
     "output_type": "stream",
     "text": [
      "\n",
      "Returning --- 24 friends for avantikaajoshi\n",
      "Returning --- 180 friends for giberetta\n",
      "Returning --- 35 friends for NanotechAMU\n",
      "Returning --- 145 friends for SamanthaSharky\n",
      "Returning --- 582 friends for ESUMMITIITD\n",
      "Returning --- 812 friends for VandanaGaonkar\n",
      "Returning --- 143 friends for rob10c\n",
      "Returning --- 976 friends for BoardShare\n",
      "Returning --- 317 friends for Examhook1\n",
      "Returning --- 198 friends for Parmanu_Yatra\n",
      "Returning --- 146 friends for QuakersNextStep\n",
      "Returning --- 104 friends for DDLRScholarship\n",
      "Returning --- 319 friends for Bhushanchaudh12"
     ]
    },
    {
     "name": "stderr",
     "output_type": "stream",
     "text": [
      "Got error: {\"errors\":[{\"message\":\"Rate limit exceeded\",\"code\":88}]} \n",
      "sleeping for 15 minutes.\n"
     ]
    },
    {
     "name": "stdout",
     "output_type": "stream",
     "text": [
      "\n",
      "Returning --- 486 friends for saicharansundar\n",
      "Returning --- 2010 friends for jeanconner\n",
      "Returning --- 723 friends for HOTSlNCE92\n",
      "Returning --- 628 friends for dailyfreecode\n",
      "Returning --- 22 friends for FutureofVision\n",
      "Returning --- 1991 friends for betanbauer\n",
      "Returning --- 667 friends for InsideVISANOW\n",
      "Returning --- 1629 friends for phungpit\n",
      "Returning --- 976 friends for kellyknight\n",
      "Returning --- 4194 friends for wnbachicagosky\n",
      "Returning --- 19 friends for Kaushal_iitg\n",
      "Returning --- 2001 friends for VDArq\n",
      "Returning --- 1202 friends for RISH4087\n",
      "Returning --- 184 friends for sainathrp"
     ]
    },
    {
     "name": "stderr",
     "output_type": "stream",
     "text": [
      "Got error: {\"errors\":[{\"message\":\"Rate limit exceeded\",\"code\":88}]} \n",
      "sleeping for 15 minutes.\n"
     ]
    },
    {
     "name": "stdout",
     "output_type": "stream",
     "text": [
      "\n",
      "Returning --- 1068 friends for AlexanderPasso\n",
      "Returning --- 383 friends for dgromero\n",
      "Returning --- 227 friends for Tikam\n",
      "Returning --- 57 friends for WIITChicago\n",
      "Returning --- 808 friends for ChicagoCCTV\n",
      "Returning --- 1999 friends for JeffreyHartmann\n",
      "Returning --- 87 friends for girls4science\n",
      "Returning --- 30 friends for Tareqer\n",
      "Returning --- 16 friends for marcelle_Hana94\n",
      "Returning --- 364 friends for ibzibzibzibzibz\n",
      "Returning --- 208 friends for iKrystalSays\n",
      "Returning --- 33 friends for saisredharreddy\n",
      "Returning --- 927 friends for notebinder\n",
      "Returning --- 57 friends for suksoonhoho"
     ]
    },
    {
     "name": "stderr",
     "output_type": "stream",
     "text": [
      "Got error: {\"errors\":[{\"message\":\"Rate limit exceeded\",\"code\":88}]} \n",
      "sleeping for 15 minutes.\n"
     ]
    },
    {
     "name": "stdout",
     "output_type": "stream",
     "text": [
      "\n",
      "Returning --- 201 friends for edelsonpc\n",
      "Returning --- 811 friends for PathosPoetes08\n",
      "Returning --- 218 friends for stefortiz_\n",
      "Returning --- 47 friends for prakaru\n",
      "Returning --- 27 friends for ChiBike2Campus\n",
      "Returning --- 808 friends for santhanamsatish\n",
      "Returning --- 338 friends for ankitkumar24dec\n",
      "Returning --- 344 friends for chilledtitan\n",
      "Returning --- 1341 friends for blackspectacles\n",
      "Returning --- 790 friends for swapnilgautam\n",
      "Returning --- 23 friends for khammes\n",
      "Returning --- 83 friends for VadgamaChandni"
     ]
    },
    {
     "name": "stderr",
     "output_type": "stream",
     "text": [
      "Got error: {\"errors\":[{\"message\":\"Rate limit exceeded\",\"code\":88}]} \n",
      "sleeping for 15 minutes.\n"
     ]
    },
    {
     "name": "stdout",
     "output_type": "stream",
     "text": [
      "\n",
      "Returning --- 1857 friends for cupomobile\n",
      "Returning --- 155 friends for careyportis\n",
      "Returning --- 367 friends for epicbeardcarlos\n",
      "Returning --- 214 friends for MRIatIIT\n",
      "Returning --- 640 friends for GustavoMaria2\n",
      "Returning --- 42 friends for TekKnowBots\n",
      "Returning --- 44 friends for Shaarif1\n",
      "Returning --- 72 friends for SOFT_W_\n",
      "Returning --- 51 friends for VizualAffectz\n",
      "Returning --- 687 friends for SmartenIt\n",
      "Returning --- 51 friends for iitarqui\n",
      "Returning --- 1561 friends for timesjobsdotcom\n",
      "Returning --- 131 friends for OU_Dan\n",
      "Returning --- 1248 friends for happyfood20"
     ]
    },
    {
     "name": "stderr",
     "output_type": "stream",
     "text": [
      "Got error: {\"errors\":[{\"message\":\"Rate limit exceeded\",\"code\":88}]} \n",
      "sleeping for 15 minutes.\n"
     ]
    },
    {
     "name": "stdout",
     "output_type": "stream",
     "text": [
      "\n",
      "Returning --- 3 friends for yunkaosu\n",
      "Returning --- 254 friends for IllinoisTechGLP\n",
      "Returning --- 182 friends for ILABE_BIO\n",
      "Returning --- 1918 friends for R_KS1212\n",
      "Returning --- 82 friends for 2609Mahi\n",
      "Returning --- 83 friends for BartAndrea\n",
      "Returning --- 97 friends for Asif_newton\n",
      "Returning --- 615 friends for deeneshrk\n",
      "Returning --- 591 friends for RajatJain1432\n",
      "Returning --- 636 friends for WhatsAPNews\n",
      "Returning --- 73 friends for ayodam91\n",
      "Returning --- 477 friends for nadraRVRE\n",
      "Returning --- 11 friends for IITOL_Amy"
     ]
    },
    {
     "name": "stderr",
     "output_type": "stream",
     "text": [
      "Got error: {\"errors\":[{\"message\":\"Rate limit exceeded\",\"code\":88}]} \n",
      "sleeping for 15 minutes.\n"
     ]
    },
    {
     "name": "stdout",
     "output_type": "stream",
     "text": [
      "\n",
      "Returning --- 518 friends for kpwcosgrove\n",
      "Returning --- 91 friends for NayimSayeda\n",
      "Returning --- 1874 friends for HZNPplc\n",
      "Returning --- 574 friends for ennomotive\n",
      "Returning --- 1999 friends for TeachinginDubai\n",
      "Returning --- 18 friends for SPERANZA2010\n",
      "Returning --- 6 friends for ZJohnShen\n",
      "Returning --- 74 friends for IowaStateCBE\n",
      "Returning --- 145 friends for pjrussell39\n",
      "Returning --- 20 friends for IncredibllAnish\n",
      "Returning --- 9 friends for YuboDiao\n",
      "Returning --- 403 friends for Tjagadeesh1729\n",
      "Returning --- 18 friends for yazeze11\n",
      "Returning --- 21 friends for surajpatel710"
     ]
    },
    {
     "name": "stderr",
     "output_type": "stream",
     "text": [
      "Got error: {\"errors\":[{\"message\":\"Rate limit exceeded\",\"code\":88}]} \n",
      "sleeping for 15 minutes.\n"
     ]
    },
    {
     "name": "stdout",
     "output_type": "stream",
     "text": [
      "\n",
      "Returning --- 67 friends for kdagger\n",
      "Returning --- 284 friends for Jason_Entler\n",
      "Returning --- 169 friends for AgileTroop\n",
      "Returning --- 30 friends for mmiks\n",
      "Returning --- 1581 friends for jyotiswaroopr\n",
      "Returning --- 26 friends for ruthierachelle\n",
      "Returning --- 93 friends for ImproveIndia\n",
      "Returning --- 595 friends for patriziadimonte\n",
      "Returning --- 262 friends for marcemccarthy\n",
      "Returning --- 636 friends for saracollegewise\n",
      "Returning --- 10 friends for LTD_IIT\n",
      "Returning --- 268 friends for j4m13stick\n",
      "Returning --- 121 friends for doleshreyas"
     ]
    },
    {
     "name": "stderr",
     "output_type": "stream",
     "text": [
      "Got error: {\"errors\":[{\"message\":\"Rate limit exceeded\",\"code\":88}]} \n",
      "sleeping for 15 minutes.\n"
     ]
    },
    {
     "name": "stdout",
     "output_type": "stream",
     "text": [
      "\n",
      "Returning --- 167 friends for ShineTanya18\n",
      "Returning --- 12 friends for e_aakash\n",
      "Returning --- 28 friends for OlgaAlter\n",
      "Returning --- 1473 friends for Andrea_Andy11\n",
      "Returning --- 9 friends for windval1990\n",
      "Returning --- 546 friends for nithinankam\n",
      "Returning --- 340 friends for Vinca_Thirteen\n",
      "Returning --- 1974 friends for LatinoTopix\n",
      "Returning --- 791 friends for Fundoodatajobs\n",
      "Returning --- 107 friends for MTCCLateNiite\n",
      "Returning --- 15 friends for Abstreca\n",
      "Returning --- 199 friends for DucSaid\n",
      "Returning --- 314 friends for SoumyajitNag1\n",
      "Returning --- 693 friends for azarie_\n",
      "Returning --- 1129 friends for MBrownCY"
     ]
    },
    {
     "name": "stderr",
     "output_type": "stream",
     "text": [
      "Got error: {\"errors\":[{\"message\":\"Rate limit exceeded\",\"code\":88}]} \n",
      "sleeping for 15 minutes.\n"
     ]
    },
    {
     "name": "stdout",
     "output_type": "stream",
     "text": [
      "\n",
      "Returning --- 1059 friends for HjyNand\n",
      "Returning --- 143 friends for Imbhuvanack\n",
      "Returning --- 10 friends for jjssfoundation\n",
      "Returning --- 153 friends for nityaagr24\n",
      "Returning --- 119 friends for neilgupta\n",
      "Returning --- 283 friends for ZYButane\n",
      "Returning --- 806 friends for ChinaHigherEd\n",
      "Returning --- 577 friends for LoweLife\n",
      "Returning --- 135 friends for bdrunchicago\n",
      "Returning --- 141 friends for srinaathindian\n",
      "Collected 5000 friends for MonikaRydz\n",
      "Returning --- 4936 friends for MonikaRydz\n",
      "Returning --- 7 friends for postcrit\n",
      "Returning --- 80 friends for AarnabNag"
     ]
    },
    {
     "name": "stderr",
     "output_type": "stream",
     "text": [
      "Got error: {\"errors\":[{\"message\":\"Rate limit exceeded\",\"code\":88}]} \n",
      "sleeping for 15 minutes.\n"
     ]
    },
    {
     "name": "stdout",
     "output_type": "stream",
     "text": [
      "\n",
      "Returning --- 188 friends for AllanCoates4\n",
      "Returning --- 83 friends for sanlaelaecho\n",
      "Returning --- 1613 friends for DipsIndia\n",
      "Returning --- 83 friends for xinyunluo\n",
      "Returning --- 595 friends for CSPortis\n",
      "Returning --- 339 friends for vhaberkorn\n",
      "Returning --- 302 friends for jbmam\n",
      "Returning --- 112 friends for descotoinc\n",
      "Returning --- 15 friends for MeiliZhao\n",
      "Returning --- 78 friends for sravanIITM\n",
      "Returning --- 317 friends for rgann05\n",
      "Returning --- 18 friends for Ramkumar141999\n",
      "Returning --- 65 friends for srilathaaramana"
     ]
    },
    {
     "name": "stderr",
     "output_type": "stream",
     "text": [
      "Got error: {\"errors\":[{\"message\":\"Rate limit exceeded\",\"code\":88}]} \n",
      "sleeping for 15 minutes.\n"
     ]
    },
    {
     "name": "stdout",
     "output_type": "stream",
     "text": [
      "\n",
      "Returning --- 39 friends for tazierffe\n",
      "Returning --- 59 friends for maitehar\n",
      "Returning --- 315 friends for 1997_marmar\n",
      "Returning --- 39 friends for olivier_dutfoy\n",
      "Returning --- 1190 friends for WLanphier\n",
      "Returning --- 2001 friends for NewsViewTV\n",
      "Returning --- 233 friends for HashAmara\n",
      "Returning --- 747 friends for jcocaramos\n",
      "Returning --- 343 friends for ravishankar007R\n",
      "Returning --- 82 friends for McCafferyInt\n",
      "Returning --- 979 friends for BubbaBrewster\n",
      "Returning --- 106 friends for BobHenkins\n",
      "Returning --- 38 friends for hebaali41594465"
     ]
    },
    {
     "name": "stderr",
     "output_type": "stream",
     "text": [
      "Got error: {\"errors\":[{\"message\":\"Rate limit exceeded\",\"code\":88}]} \n",
      "sleeping for 15 minutes.\n"
     ]
    },
    {
     "name": "stdout",
     "output_type": "stream",
     "text": [
      "\n",
      "Returning --- 69 friends for Afrazmoqueem82\n",
      "Returning --- 108 friends for lcreising\n",
      "Returning --- 595 friends for L1PowerPostEVSE\n",
      "Returning --- 383 friends for rparham5050\n",
      "Returning --- 1945 friends for ExploreChi\n",
      "Returning --- 153 friends for ward_hsu\n",
      "Returning --- 28 friends for Rakesh_RCR\n",
      "Returning --- 297 friends for critfutures\n",
      "Returning --- 158 friends for jayjoshi_12\n",
      "Returning --- 1381 friends for IIT_Science\n",
      "Returning --- 29 friends for drjpiitjee\n",
      "Returning --- 6 friends for LovKumar8\n",
      "Returning --- 3727 friends for Stamats\n",
      "Returning --- 89 friends for booksinthecity\n",
      "Returning --- 61 friends for surajpa90474989"
     ]
    },
    {
     "name": "stderr",
     "output_type": "stream",
     "text": [
      "Got error: {\"errors\":[{\"message\":\"Rate limit exceeded\",\"code\":88}]} \n",
      "sleeping for 15 minutes.\n"
     ]
    },
    {
     "name": "stdout",
     "output_type": "stream",
     "text": [
      "\n",
      "Returning --- 432 friends for kaseyi99\n",
      "Returning --- 173 friends for HaplessGuy678\n",
      "Returning --- 659 friends for sutheeshkvk\n",
      "Returning --- 22 friends for ZelongJia\n",
      "Returning --- 1025 friends for BWD2012\n",
      "Returning --- 289 friends for BarbBurgess\n",
      "Returning --- 151 friends for lightindiap\n",
      "Returning --- 8 friends for MKIITM\n",
      "Returning --- 173 friends for admissionschen\n",
      "Returning --- 157 friends for miriam_schmid\n",
      "Returning --- 163 friends for NordArquitectos\n",
      "Returning --- 294 friends for ChicagoBMRC\n",
      "Returning --- 69 friends for seshireddys\n",
      "Returning --- 42 friends for DAjagekar\n",
      "Returning --- 98 friends for GJKoch"
     ]
    },
    {
     "name": "stderr",
     "output_type": "stream",
     "text": [
      "Got error: {\"errors\":[{\"message\":\"Rate limit exceeded\",\"code\":88}]} \n",
      "sleeping for 15 minutes.\n"
     ]
    },
    {
     "name": "stdout",
     "output_type": "stream",
     "text": [
      "\n",
      "Returning --- 9 friends for gauravs38648240\n",
      "Returning --- 1354 friends for vijayujn8\n",
      "Returning --- 152 friends for dguddad\n",
      "Returning --- 84 friends for ivyli1112\n",
      "Returning --- 76 friends for GlobalStudentME\n",
      "Returning --- 64 friends for kellycherwin\n",
      "Returning --- 908 friends for mayankmohit2108\n",
      "Returning --- 148 friends for ituaijagbone\n",
      "Returning --- 384 friends for Z5FocusEd\n",
      "Returning --- 24 friends for sunnyfixer3941\n",
      "Returning --- 1377 friends for carlosperezalv4\n",
      "Returning --- 485 friends for priti1005\n",
      "Returning --- 2225 friends for ShantyMinister\n",
      "Returning --- 126 friends for sriki_s\n",
      "Returning --- 31 friends for jamesfish"
     ]
    },
    {
     "name": "stderr",
     "output_type": "stream",
     "text": [
      "Got error: {\"errors\":[{\"message\":\"Rate limit exceeded\",\"code\":88}]} \n",
      "sleeping for 15 minutes.\n"
     ]
    },
    {
     "name": "stdout",
     "output_type": "stream",
     "text": [
      "\n",
      "Returning --- 175 friends for melissajemerson\n",
      "Returning --- 1993 friends for archor_wright\n",
      "Returning --- 12 friends for Nileshy63817601\n",
      "Returning --- 975 friends for luisabravodsgn\n",
      "Returning --- 570 friends for T0mmyGee4\n",
      "Returning --- 60 friends for LayaleeElzahdan\n",
      "Returning --- 173 friends for Luporion\n",
      "Returning --- 129 friends for aagheda\n",
      "Returning --- 276 friends for blue0628y1\n",
      "Returning --- 337 friends for frauhartung\n",
      "Returning --- 1059 friends for KatMartinez189\n",
      "Collected 5000 friends for MikeSavad\n",
      "Returning --- 2707 friends for MikeSavad\n",
      "Returning --- 470 friends for Adam_Rayman\n",
      "Returning --- 23 friends for PurushothamKP"
     ]
    },
    {
     "name": "stderr",
     "output_type": "stream",
     "text": [
      "Got error: {\"errors\":[{\"message\":\"Rate limit exceeded\",\"code\":88}]} \n",
      "sleeping for 15 minutes.\n"
     ]
    },
    {
     "name": "stdout",
     "output_type": "stream",
     "text": [
      "\n",
      "Returning --- 3021 friends for J0BSHQ\n",
      "Returning --- 260 friends for STEMetc\n",
      "Returning --- 63 friends for Kevin5Maher\n",
      "Returning --- 32 friends for stoneboo\n",
      "Returning --- 746 friends for AAUWJaneAddams\n",
      "Returning --- 903 friends for LaSalleNetwork\n",
      "Returning --- 796 friends for CaroGiuse\n",
      "Returning --- 39 friends for wzhan99\n",
      "Returning --- 913 friends for CRTweet\n",
      "Returning --- 58 friends for Charantej001Tej\n",
      "Returning --- 2000 friends for Jessica_jp1993\n",
      "Returning --- 149 friends for meracampus\n",
      "Returning --- 1249 friends for BASFCorporation\n",
      "Returning --- 44 friends for SujeetSahani007\n",
      "Returning --- 72 friends for ctpsybil"
     ]
    },
    {
     "name": "stderr",
     "output_type": "stream",
     "text": [
      "Got error: {\"errors\":[{\"message\":\"Rate limit exceeded\",\"code\":88}]} \n",
      "sleeping for 15 minutes.\n"
     ]
    },
    {
     "name": "stdout",
     "output_type": "stream",
     "text": [
      "\n",
      "Returning --- 315 friends for abhaykumar12383\n",
      "Returning --- 104 friends for StradosApp\n",
      "Returning --- 1963 friends for info_lotus\n",
      "Returning --- 300 friends for alexdelapole\n",
      "Returning --- 1045 friends for Kidsmartcity\n",
      "Returning --- 748 friends for connectback2me\n",
      "Returning --- 1434 friends for breezydayz\n",
      "Returning --- 2149 friends for OhhThatsMesha\n",
      "Returning --- 20 friends for paragtak18\n",
      "Returning --- 27 friends for TangeNguyen\n",
      "Returning --- 52 friends for jecgroupofclgs\n",
      "Returning --- 859 friends for JTHS_Science\n",
      "Returning --- 995 friends for CheapScholar"
     ]
    },
    {
     "name": "stderr",
     "output_type": "stream",
     "text": [
      "Got error: {\"errors\":[{\"message\":\"Rate limit exceeded\",\"code\":88}]} \n",
      "sleeping for 15 minutes.\n"
     ]
    },
    {
     "name": "stdout",
     "output_type": "stream",
     "text": [
      "\n",
      "Returning --- 1465 friends for NathanHinch\n",
      "Returning --- 1545 friends for bgjokevski\n",
      "Returning --- 14 friends for shaktawat_jd\n",
      "Returning --- 284 friends for nemanjastuff\n",
      "Returning --- 587 friends for RanojoySaha\n",
      "Returning --- 32 friends for gazalaastha\n",
      "Returning --- 61 friends for _chicagoan\n",
      "Returning --- 274 friends for Sddipiet\n",
      "Returning --- 857 friends for DominosKankakee\n",
      "Returning --- 194 friends for praveendass35\n",
      "Returning --- 4 friends for duchossoisleads"
     ]
    },
    {
     "name": "stderr",
     "output_type": "stream",
     "text": [
      "Got error: {\"errors\":[{\"message\":\"Rate limit exceeded\",\"code\":88}]} \n",
      "sleeping for 15 minutes.\n"
     ]
    },
    {
     "name": "stdout",
     "output_type": "stream",
     "text": [
      "\n",
      "Returning --- 47 friends for TejasJaishankar\n",
      "Returning --- 146 friends for JoannaKlimczak1\n",
      "Returning --- 104 friends for yuvalmerhav\n",
      "Returning --- 15 friends for joekansas01\n",
      "Returning --- 512 friends for coolmuthukumar\n",
      "Returning --- 528 friends for Raising_US\n",
      "Returning --- 540 friends for jkchilds\n",
      "Returning --- 917 friends for paulineatty\n",
      "Returning --- 252 friends for learnrendezvous\n",
      "Returning --- 81 friends for sagar99600244\n",
      "Returning --- 137 friends for vyasnamita\n",
      "Returning --- 177 friends for reddys6669\n",
      "Returning --- 156 friends for unitedJasdeep"
     ]
    },
    {
     "name": "stderr",
     "output_type": "stream",
     "text": [
      "Got error: {\"errors\":[{\"message\":\"Rate limit exceeded\",\"code\":88}]} \n",
      "sleeping for 15 minutes.\n"
     ]
    },
    {
     "name": "stdout",
     "output_type": "stream",
     "text": [
      "\n",
      "Returning --- 108 friends for ProfessionalEdg\n",
      "Returning --- 1997 friends for Eleaven\n",
      "Returning --- 150 friends for jfklimek\n",
      "Returning --- 250 friends for AC_Counselling\n",
      "Returning --- 18 friends for RashmiSinghal90\n",
      "Returning --- 25 friends for d508b5ca06f74ff\n",
      "Returning --- 1991 friends for KLKring\n",
      "Returning --- 19 friends for simplifyingexam\n",
      "Returning --- 117 friends for TCLorg\n",
      "Returning --- 704 friends for GEChicago\n",
      "Returning --- 7 friends for BHACaPS\n",
      "Returning --- 1019 friends for IllinoisScience\n",
      "Returning --- 1122 friends for EulynnGargano"
     ]
    },
    {
     "name": "stderr",
     "output_type": "stream",
     "text": [
      "Got error: {\"errors\":[{\"message\":\"Rate limit exceeded\",\"code\":88}]} \n",
      "sleeping for 15 minutes.\n"
     ]
    },
    {
     "name": "stdout",
     "output_type": "stream",
     "text": [
      "\n",
      "Returning --- 103 friends for MBAEntrep\n",
      "Returning --- 298 friends for m_0rli\n",
      "Returning --- 890 friends for SarahJindra\n",
      "Returning --- 92 friends for NingKang1\n",
      "Returning --- 1777 friends for sangereby\n",
      "Returning --- 82 friends for ParkerDeweyLLC\n",
      "Returning --- 39 friends for lucaschung0728\n",
      "Returning --- 787 friends for DePaulUCWbL\n",
      "Returning --- 1792 friends for JustinIsAMaker\n",
      "Returning --- 1991 friends for CbeSanthosh4\n",
      "Returning --- 161 friends for KapinosELHS\n",
      "Returning --- 192 friends for Kainth_Varun\n",
      "Returning --- 383 friends for dschmieder"
     ]
    },
    {
     "name": "stderr",
     "output_type": "stream",
     "text": [
      "Got error: {\"errors\":[{\"message\":\"Rate limit exceeded\",\"code\":88}]} \n",
      "sleeping for 15 minutes.\n"
     ]
    },
    {
     "name": "stdout",
     "output_type": "stream",
     "text": [
      "\n",
      "Returning --- 88 friends for BenAbejas\n",
      "Returning --- 435 friends for suraekim\n",
      "Returning --- 41 friends for mor_tarun\n",
      "Returning --- 416 friends for icpatweets\n",
      "Returning --- 9 friends for Ray_Hongyc\n",
      "Returning --- 1262 friends for manoharkat\n",
      "Returning --- 146 friends for snehashis_lenka\n",
      "Returning --- 16 friends for SoneshUikey\n",
      "Returning --- 24 friends for DigiLinkIT\n",
      "Returning --- 7 friends for iitml\n",
      "Returning --- 903 friends for SouthLoopHS\n",
      "Returning --- 123 friends for orirawlings\n",
      "Returning --- 447 friends for HolabirdRoot\n",
      "Returning --- 78 friends for manassarmabudam"
     ]
    },
    {
     "name": "stderr",
     "output_type": "stream",
     "text": [
      "Got error: {\"errors\":[{\"message\":\"Rate limit exceeded\",\"code\":88}]} \n",
      "sleeping for 15 minutes.\n"
     ]
    },
    {
     "name": "stdout",
     "output_type": "stream",
     "text": [
      "\n",
      "Returning --- 1348 friends for ClimateRider\n",
      "Returning --- 641 friends for chirchaudhary97\n",
      "Returning --- 545 friends for sisperdesign\n",
      "Returning --- 11 friends for ranren_IIT\n",
      "Returning --- 21 friends for Is_WeiDuan\n",
      "Returning --- 214 friends for prakash14129863\n",
      "Returning --- 174 friends for DrCJSobers\n",
      "Returning --- 33 friends for Jinelle1\n",
      "Returning --- 332 friends for RajarshiChatter\n",
      "Returning --- 314 friends for drewberu\n",
      "Collected 5000 friends for CollegeBoundNet\n",
      "Returning --- 30 friends for CollegeBoundNet\n",
      "Returning --- 156 friends for genshidhapatil1\n",
      "Returning --- 47 friends for joe_joedaddy\n",
      "Returning --- 2005 friends for ILTreasurer"
     ]
    },
    {
     "name": "stderr",
     "output_type": "stream",
     "text": [
      "Got error: {\"errors\":[{\"message\":\"Rate limit exceeded\",\"code\":88}]} \n",
      "sleeping for 15 minutes.\n"
     ]
    },
    {
     "name": "stdout",
     "output_type": "stream",
     "text": [
      "\n",
      "Returning --- 180 friends for Yefseis\n",
      "Returning --- 686 friends for UnusualTrouble\n",
      "Returning --- 1973 friends for stephenchristie\n",
      "Returning --- 219 friends for RAWDesignBuild\n",
      "Returning --- 629 friends for markacarroll\n",
      "Returning --- 74 friends for niying7\n",
      "Returning --- 227 friends for AmyBasic\n",
      "Returning --- 667 friends for JossimarJ\n",
      "Returning --- 710 friends for kevinBedwell\n",
      "Returning --- 75 friends for YanZhan617\n",
      "Returning --- 134 friends for IITsasdi\n",
      "Returning --- 209 friends for vineshgkannan\n",
      "Returning --- 142 friends for TribalVentureVC\n",
      "Returning --- 109 friends for pzeng_usa"
     ]
    },
    {
     "name": "stderr",
     "output_type": "stream",
     "text": [
      "Got error: {\"errors\":[{\"message\":\"Rate limit exceeded\",\"code\":88}]} \n",
      "sleeping for 15 minutes.\n"
     ]
    },
    {
     "name": "stdout",
     "output_type": "stream",
     "text": [
      "\n",
      "Returning --- 33 friends for Evilwizrd\n",
      "Returning --- 124 friends for MaryRiceNH\n",
      "Returning --- 406 friends for prakhar2507\n",
      "Returning --- 195 friends for sshchicago\n",
      "Returning --- 45 friends for albertmistu\n",
      "Returning --- 1684 friends for ecoresume\n",
      "Returning --- 192 friends for CKLEngineersLLC\n",
      "Returning --- 634 friends for bkrautwurst\n",
      "Returning --- 2 friends for ce09s008\n",
      "Returning --- 1180 friends for NAGAPorg\n",
      "Returning --- 116 friends for Power_Construct\n",
      "Returning --- 174 friends for poojan_shah20\n",
      "Returning --- 510 friends for RasHman467"
     ]
    },
    {
     "name": "stderr",
     "output_type": "stream",
     "text": [
      "Got error: {\"errors\":[{\"message\":\"Rate limit exceeded\",\"code\":88}]} \n",
      "sleeping for 15 minutes.\n"
     ]
    },
    {
     "name": "stdout",
     "output_type": "stream",
     "text": [
      "\n",
      "Returning --- 187 friends for CKNicoleV\n",
      "Returning --- 33 friends for ankitch91314329\n",
      "Returning --- 2 friends for Kaz2118\n",
      "Returning --- 744 friends for SarahHarrod2\n",
      "Returning --- 2772 friends for BLUE1647\n",
      "Returning --- 175 friends for Davidislegit\n",
      "Returning --- 42 friends for WITIChicago\n",
      "Returning --- 789 friends for ologie\n",
      "Returning --- 2802 friends for chicagoideas\n",
      "Returning --- 94 friends for IITPsychology\n",
      "Returning --- 201 friends for erichanley\n",
      "Returning --- 35 friends for anu_m_ahuja\n",
      "Returning --- 429 friends for LAExpo1\n",
      "Returning --- 624 friends for EyeCeteraPhotos\n",
      "Returning --- 606 friends for iitalumniassn"
     ]
    },
    {
     "name": "stderr",
     "output_type": "stream",
     "text": [
      "Got error: {\"errors\":[{\"message\":\"Rate limit exceeded\",\"code\":88}]} \n",
      "sleeping for 15 minutes.\n"
     ]
    },
    {
     "name": "stdout",
     "output_type": "stream",
     "text": [
      "\n",
      "Collected 5000 friends for TheShawnMurphy\n",
      "Collected 5000 friends for TheShawnMurphy\n",
      "Collected 5000 friends for TheShawnMurphy\n",
      "Returning --- 4115 friends for TheShawnMurphy\n",
      "Returning --- 337 friends for nestle_kelly\n",
      "Returning --- 459 friends for iitunionboard\n",
      "Returning --- 1103 friends for Scouting2060\n",
      "Returning --- 496 friends for furykkow\n",
      "Returning --- 1131 friends for Archiable\n",
      "Returning --- 19 friends for 9soumen\n",
      "Returning --- 89 friends for HergeBris\n",
      "Returning --- 19 friends for wenjust\n",
      "Returning --- 821 friends for AndrewWSharp\n",
      "Returning --- 304 friends for anthonyalfred0"
     ]
    },
    {
     "name": "stderr",
     "output_type": "stream",
     "text": [
      "Got error: {\"errors\":[{\"message\":\"Rate limit exceeded\",\"code\":88}]} \n",
      "sleeping for 15 minutes.\n"
     ]
    },
    {
     "name": "stdout",
     "output_type": "stream",
     "text": [
      "\n",
      "Returning --- 46 friends for SteveWang1007\n",
      "Returning --- 457 friends for focusedconnect\n",
      "Returning --- 1848 friends for Wise_Campus\n",
      "Returning --- 2160 friends for LATENT_DESIGN\n",
      "Returning --- 472 friends for WigdanGuneid\n",
      "Returning --- 48 friends for HongMa_iit\n",
      "Returning --- 657 friends for koteshforfun\n",
      "Returning --- 43 friends for A_P_K_\n",
      "Returning --- 53 friends for bcrawfordpurcel\n",
      "Returning --- 469 friends for LSMCE2013\n",
      "Returning --- 6 friends for PrimorisNick\n",
      "Returning --- 171 friends for JimRarick\n",
      "Returning --- 396 friends for KyleCHenderson\n",
      "Returning --- 344 friends for BornRAD\n",
      "Returning --- 39 friends for rhon_123"
     ]
    },
    {
     "name": "stderr",
     "output_type": "stream",
     "text": [
      "Got error: {\"errors\":[{\"message\":\"Rate limit exceeded\",\"code\":88}]} \n",
      "sleeping for 15 minutes.\n"
     ]
    },
    {
     "name": "stdout",
     "output_type": "stream",
     "text": [
      "\n",
      "Returning --- 1970 friends for BobEitel\n",
      "Returning --- 953 friends for funpiper\n",
      "Returning --- 1248 friends for LivinLife1nSD\n",
      "Returning --- 250 friends for marketaccess\n",
      "Returning --- 56 friends for archiyaa\n",
      "Returning --- 25 friends for lnwolfe\n",
      "Returning --- 241 friends for Alphonso_Peluso\n",
      "Returning --- 2008 friends for rajivreddyp\n",
      "Returning --- 1999 friends for PC529Plan\n",
      "Returning --- 902 friends for RAJEEVRAJ9905\n",
      "Returning --- 94 friends for sgcool20\n",
      "Returning --- 39 friends for 45rules\n",
      "Returning --- 980 friends for imedicileather\n",
      "Returning --- 503 friends for coffeeandcogs\n",
      "Returning --- 170 friends for marcferrerf"
     ]
    },
    {
     "name": "stderr",
     "output_type": "stream",
     "text": [
      "Got error: {\"errors\":[{\"message\":\"Rate limit exceeded\",\"code\":88}]} \n",
      "sleeping for 15 minutes.\n"
     ]
    },
    {
     "name": "stdout",
     "output_type": "stream",
     "text": [
      "\n",
      "Returning --- 344 friends for louismchugh\n",
      "Returning --- 302 friends for EVJC\n",
      "Returning --- 55 friends for PulkitDahuja\n",
      "Returning --- 143 friends for JohnBuschVI\n",
      "Returning --- 208 friends for BasavarajGD1\n",
      "Returning --- 810 friends for VijayavelHytech\n",
      "Returning --- 34 friends for MikeGosz\n",
      "Returning --- 234 friends for marfa182\n",
      "Returning --- 191 friends for ck2choi\n",
      "Returning --- 2932 friends for DARPA\n",
      "Returning --- 129 friends for Kvng_ManMan3\n",
      "Returning --- 34 friends for surajparida6\n",
      "Returning --- 1138 friends for SSpeakman\n",
      "Returning --- 10 friends for tina_lebleu\n",
      "Returning --- 18 friends for MichaelYonghuiF"
     ]
    },
    {
     "name": "stderr",
     "output_type": "stream",
     "text": [
      "Got error: {\"errors\":[{\"message\":\"Rate limit exceeded\",\"code\":88}]} \n",
      "sleeping for 15 minutes.\n"
     ]
    },
    {
     "name": "stdout",
     "output_type": "stream",
     "text": [
      "\n",
      "Returning --- 57 friends for NIIIT4u\n",
      "Returning --- 771 friends for _MMorris_\n",
      "Returning --- 1944 friends for EateryArchitect\n",
      "Returning --- 251 friends for rokopn\n",
      "Returning --- 16 friends for EngineeringEDF\n",
      "Returning --- 10 friends for achihar\n",
      "Returning --- 46 friends for simoncarlo4\n",
      "Returning --- 1306 friends for bb7jobs\n",
      "Collected 5000 friends for ssusina\n",
      "Returning --- 1217 friends for ssusina\n",
      "Returning --- 94 friends for kkeerr88\n",
      "Returning --- 1078 friends for SteveNargang\n",
      "Returning --- 261 friends for ChgoMatt\n",
      "Returning --- 1276 friends for AKSHAYM60196231"
     ]
    },
    {
     "name": "stderr",
     "output_type": "stream",
     "text": [
      "Got error: {\"errors\":[{\"message\":\"Rate limit exceeded\",\"code\":88}]} \n",
      "sleeping for 15 minutes.\n"
     ]
    },
    {
     "name": "stdout",
     "output_type": "stream",
     "text": [
      "\n",
      "Returning --- 19 friends for shriya46\n",
      "Returning --- 25 friends for febriansyah54\n",
      "Returning --- 1652 friends for Pleora\n",
      "Returning --- 314 friends for deenakannan\n",
      "Returning --- 316 friends for pbshirazi\n",
      "Returning --- 32 friends for IITcampusTVs\n",
      "Returning --- 287 friends for cecigmt\n",
      "Returning --- 1817 friends for SharylSingVNIR\n",
      "Returning --- 531 friends for paulitesbelgaum\n",
      "Returning --- 270 friends for Saurabh009133\n",
      "Returning --- 92 friends for danielawhite12\n",
      "Returning --- 585 friends for SuzanneAkhras"
     ]
    },
    {
     "name": "stderr",
     "output_type": "stream",
     "text": [
      "Got error: {\"errors\":[{\"message\":\"Rate limit exceeded\",\"code\":88}]} \n",
      "sleeping for 15 minutes.\n"
     ]
    },
    {
     "name": "stdout",
     "output_type": "stream",
     "text": [
      "\n",
      "Returning --- 252 friends for OHCassessment\n",
      "Returning --- 38 friends for dujiachenlee\n",
      "Returning --- 80 friends for rajat28021997\n",
      "Returning --- 10 friends for dandamudi26\n",
      "Returning --- 973 friends for erabhishek1990\n",
      "Returning --- 31 friends for rouftantray\n",
      "Returning --- 1580 friends for Rajaniitm\n",
      "Returning --- 53 friends for LaoMango\n",
      "Returning --- 476 friends for sulabhjain\n",
      "Returning --- 1891 friends for judykratochvil\n",
      "Returning --- 56 friends for MengdiLiu\n",
      "Returning --- 42 friends for ScottPfeiffer54\n",
      "Returning --- 484 friends for saadyacop"
     ]
    },
    {
     "name": "stderr",
     "output_type": "stream",
     "text": [
      "Got error: {\"errors\":[{\"message\":\"Rate limit exceeded\",\"code\":88}]} \n",
      "sleeping for 15 minutes.\n"
     ]
    },
    {
     "name": "stdout",
     "output_type": "stream",
     "text": [
      "\n",
      "Returning --- 387 friends for KentLawSBA\n",
      "Returning --- 48 friends for Yellowdotlizard\n",
      "Returning --- 1367 friends for DarioIlio\n",
      "Returning --- 122 friends for RealChocolate23\n",
      "Returning --- 522 friends for virutherock\n",
      "Returning --- 51 friends for chhabra98harry\n",
      "Returning --- 53 friends for IrisRecruiting\n",
      "Returning --- 10 friends for ZiweiHan\n",
      "Returning --- 1988 friends for jobsearchboard\n",
      "Returning --- 55 friends for arvindverma231\n",
      "Returning --- 1054 friends for cmccomb\n",
      "Returning --- 21 friends for DNHS\n",
      "Returning --- 945 friends for Positivelyposit"
     ]
    },
    {
     "name": "stderr",
     "output_type": "stream",
     "text": [
      "Got error: {\"errors\":[{\"message\":\"Rate limit exceeded\",\"code\":88}]} \n",
      "sleeping for 15 minutes.\n"
     ]
    },
    {
     "name": "stdout",
     "output_type": "stream",
     "text": [
      "\n",
      "Returning --- 296 friends for MSIFoundation\n",
      "Returning --- 2006 friends for Bhailalm\n",
      "Returning --- 36 friends for shesterrible\n",
      "Returning --- 145 friends for Coespro\n",
      "Returning --- 993 friends for nickflees\n",
      "Returning --- 33 friends for windycscholars\n",
      "Returning --- 187 friends for weslynneashton\n",
      "Returning --- 1542 friends for kishor_narayan\n",
      "Returning --- 11 friends for SaumyaJoshi7\n",
      "Returning --- 7 friends for woodmastersmurf\n",
      "Returning --- 58 friends for mkenndy2\n",
      "Returning --- 505 friends for GreenHamNsam\n",
      "Returning --- 1138 friends for VeltechEngg\n",
      "Returning --- 215 friends for CollegeFish_4yr"
     ]
    },
    {
     "name": "stderr",
     "output_type": "stream",
     "text": [
      "Got error: {\"errors\":[{\"message\":\"Rate limit exceeded\",\"code\":88}]} \n",
      "sleeping for 15 minutes.\n"
     ]
    },
    {
     "name": "stdout",
     "output_type": "stream",
     "text": [
      "\n",
      "Returning --- 7 friends for IITCIndia\n",
      "Returning --- 63 friends for AshishS28544535\n",
      "Returning --- 1688 friends for excellencenoir\n",
      "Returning --- 16 friends for PSGSrishti\n",
      "Returning --- 74 friends for Hlfinfrock\n",
      "Returning --- 772 friends for University_Dir\n",
      "Returning --- 1482 friends for IEEEI2MTC\n",
      "Returning --- 1012 friends for GradResources\n",
      "Returning --- 93 friends for gupta_rish5804\n",
      "Returning --- 256 friends for hussain0803\n",
      "Returning --- 38 friends for RuihanStefan\n",
      "Returning --- 1408 friends for UNCG"
     ]
    },
    {
     "name": "stderr",
     "output_type": "stream",
     "text": [
      "Got error: {\"errors\":[{\"message\":\"Rate limit exceeded\",\"code\":88}]} \n",
      "sleeping for 15 minutes.\n"
     ]
    },
    {
     "name": "stdout",
     "output_type": "stream",
     "text": [
      "\n",
      "Returning --- 37 friends for Pradeep28178945\n",
      "Returning --- 1079 friends for mayaescobar\n",
      "Returning --- 39 friends for ForestThibault\n",
      "Returning --- 140 friends for JMLankford\n",
      "Returning --- 387 friends for palmer182\n",
      "Returning --- 96 friends for bcrobb\n",
      "Returning --- 1014 friends for Iyka_Enterprise\n",
      "Returning --- 595 friends for fannydaniella\n",
      "Returning --- 650 friends for LeRifai\n",
      "Returning --- 36 friends for Shivam11298\n",
      "Returning --- 198 friends for roohpar\n",
      "Returning --- 104 friends for YogeshMec11\n",
      "Returning --- 339 friends for AchillesAlex11\n",
      "Returning --- 1920 friends for manik_siddharth"
     ]
    },
    {
     "name": "stderr",
     "output_type": "stream",
     "text": [
      "Got error: {\"errors\":[{\"message\":\"Rate limit exceeded\",\"code\":88}]} \n",
      "sleeping for 15 minutes.\n"
     ]
    },
    {
     "name": "stdout",
     "output_type": "stream",
     "text": [
      "\n",
      "Returning --- 774 friends for bsnlvipin\n",
      "Returning --- 429 friends for Starchup\n",
      "Returning --- 2983 friends for Web20Newsi\n",
      "Returning --- 1988 friends for DonorFuse\n",
      "Returning --- 181 friends for drkathuria\n",
      "Returning --- 1140 friends for ILBroadcasting\n",
      "Returning --- 912 friends for AthirMahmud\n",
      "Returning --- 1413 friends for highlyfavorable\n",
      "Returning --- 59 friends for mahendrakumarhu\n",
      "Returning --- 8 friends for haribol10\n",
      "Returning --- 28 friends for BMediaNetworks\n",
      "Returning --- 180 friends for weldlady13\n",
      "Returning --- 307 friends for foxinaboxCHI\n",
      "Returning --- 29 friends for Engiitex\n",
      "Returning --- 2001 friends for aruns89"
     ]
    },
    {
     "name": "stderr",
     "output_type": "stream",
     "text": [
      "Got error: {\"errors\":[{\"message\":\"Rate limit exceeded\",\"code\":88}]} \n",
      "sleeping for 15 minutes.\n"
     ]
    },
    {
     "name": "stdout",
     "output_type": "stream",
     "text": [
      "\n",
      "Returning --- 795 friends for Edumass2011\n",
      "Returning --- 291 friends for kayy__stew\n",
      "Returning --- 1940 friends for JohnDillard11\n",
      "Returning --- 56 friends for Andrew_IIT\n",
      "Returning --- 185 friends for SylviaYan2010\n",
      "Returning --- 1367 friends for GirlScoutsGCNWI\n",
      "Returning --- 2029 friends for SYEDHAmzaHASAN\n",
      "Returning --- 263 friends for IIT_ITM\n",
      "Returning --- 56 friends for JEEMathStudy\n",
      "Returning --- 1623 friends for anilforbiz\n",
      "Returning --- 33 friends for MichaelErie\n",
      "Returning --- 315 friends for SamWill_18\n",
      "Returning --- 92 friends for Muxian_Shen\n",
      "Returning --- 485 friends for ICUMT2015"
     ]
    },
    {
     "name": "stderr",
     "output_type": "stream",
     "text": [
      "Got error: {\"errors\":[{\"message\":\"Rate limit exceeded\",\"code\":88}]} \n",
      "sleeping for 15 minutes.\n"
     ]
    },
    {
     "name": "stdout",
     "output_type": "stream",
     "text": [
      "\n",
      "Returning --- 937 friends for dgartner\n",
      "Returning --- 1955 friends for agrawal_pk\n",
      "Returning --- 1590 friends for _LisaRich\n",
      "Returning --- 10 friends for ChrisCRhee1\n",
      "Returning --- 201 friends for abhifootballer\n",
      "Returning --- 13 friends for Hardikvagadia2\n",
      "Returning --- 2071 friends for Atargroup\n",
      "Returning --- 467 friends for AVBIT\n",
      "Returning --- 2216 friends for Ozinga\n",
      "Returning --- 1877 friends for CCE_Illinois\n",
      "Returning --- 466 friends for IIT_RTC_Lab\n",
      "Returning --- 6 friends for jobstrial\n",
      "Returning --- 23 friends for hackuc"
     ]
    },
    {
     "name": "stderr",
     "output_type": "stream",
     "text": [
      "Got error: {\"errors\":[{\"message\":\"Rate limit exceeded\",\"code\":88}]} \n",
      "sleeping for 15 minutes.\n"
     ]
    },
    {
     "name": "stdout",
     "output_type": "stream",
     "text": [
      "\n",
      "Returning --- 712 friends for Spot_Solutions\n",
      "Returning --- 344 friends for Ebonmage\n",
      "Returning --- 4471 friends for amusementlogic\n",
      "Returning --- 1810 friends for bittergrapes\n",
      "Returning --- 24 friends for princessjchase\n",
      "Returning --- 772 friends for nikdunham\n",
      "Returning --- 1986 friends for Milyli\n",
      "Returning --- 239 friends for shannky16\n",
      "Returning --- 86 friends for pinnapearl\n",
      "Returning --- 5 friends for zswgzx\n",
      "Returning --- 111 friends for anishirahatti\n",
      "Returning --- 91 friends for FS_Gilberts\n",
      "Returning --- 290 friends for andreyisaac\n",
      "Returning --- 130 friends for ReshamMakhija"
     ]
    },
    {
     "name": "stderr",
     "output_type": "stream",
     "text": [
      "Got error: {\"errors\":[{\"message\":\"Rate limit exceeded\",\"code\":88}]} \n",
      "sleeping for 15 minutes.\n"
     ]
    },
    {
     "name": "stdout",
     "output_type": "stream",
     "text": [
      "\n",
      "Returning --- 1399 friends for cherop_quille\n",
      "Returning --- 673 friends for oeyfish\n",
      "Returning --- 22 friends for ttflyingbird\n",
      "Returning --- 125 friends for GoodeSTEM\n",
      "Returning --- 127 friends for dosmyhero\n",
      "Returning --- 425 friends for SparkeyG\n",
      "Returning --- 1998 friends for philscitech\n",
      "Returning --- 126 friends for smitjn056\n",
      "Returning --- 871 friends for APGPromotions\n",
      "Returning --- 41 friends for MohantyAnang\n",
      "Returning --- 179 friends for bafordnajela\n",
      "Returning --- 401 friends for financeseer"
     ]
    },
    {
     "name": "stderr",
     "output_type": "stream",
     "text": [
      "Got error: {\"errors\":[{\"message\":\"Rate limit exceeded\",\"code\":88}]} \n",
      "sleeping for 15 minutes.\n"
     ]
    },
    {
     "name": "stdout",
     "output_type": "stream",
     "text": [
      "\n",
      "Returning --- 1425 friends for SUBNETsolutions\n",
      "Returning --- 267 friends for pankajiitjee\n",
      "Returning --- 350 friends for EsparzaJ\n",
      "Returning --- 43 friends for josheewashee\n",
      "Returning --- 62 friends for ZZZZQ22\n",
      "Returning --- 21 friends for JaimeHerrero4\n",
      "Returning --- 1127 friends for mdoukmas\n",
      "Returning --- 228 friends for JanetMcNicholas\n",
      "Returning --- 143 friends for DimasTaracena\n",
      "Returning --- 330 friends for rahulvw_19\n",
      "Returning --- 37 friends for iitswim\n",
      "Returning --- 21 friends for IITSOAR_Elvin"
     ]
    },
    {
     "name": "stderr",
     "output_type": "stream",
     "text": [
      "Got error: {\"errors\":[{\"message\":\"Rate limit exceeded\",\"code\":88}]} \n",
      "sleeping for 15 minutes.\n"
     ]
    },
    {
     "name": "stdout",
     "output_type": "stream",
     "text": [
      "\n",
      "Returning --- 1202 friends for benexist\n",
      "Returning --- 54 friends for sanjaym707\n",
      "Returning --- 980 friends for PeaceOvrViolnce\n",
      "Returning --- 2 friends for ygao1980\n",
      "Returning --- 25 friends for SAKSHAMA_GT\n",
      "Returning --- 340 friends for editor_edu\n",
      "Returning --- 566 friends for MsFadeAway\n",
      "Returning --- 162 friends for anuragoswami22\n",
      "Returning --- 207 friends for AMOL__\n",
      "Returning --- 82 friends for Shamayel13\n",
      "Returning --- 39 friends for huytle95\n",
      "Returning --- 200 friends for juliusyuan"
     ]
    },
    {
     "name": "stderr",
     "output_type": "stream",
     "text": [
      "Got error: {\"errors\":[{\"message\":\"Rate limit exceeded\",\"code\":88}]} \n",
      "sleeping for 15 minutes.\n"
     ]
    },
    {
     "name": "stdout",
     "output_type": "stream",
     "text": [
      "\n",
      "Returning --- 575 friends for nishwashere\n",
      "Returning --- 1305 friends for RecruiterintheD\n",
      "Returning --- 1357 friends for kfairthementor\n",
      "Returning --- 1918 friends for captaincool_msd\n",
      "Returning --- 51 friends for Alex_Saucedo\n",
      "Returning --- 168 friends for InfoEduvision\n",
      "Returning --- 446 friends for jaya_sagar\n",
      "Returning --- 325 friends for AC_PFP\n",
      "Collected 5000 friends for thejusticeconf\n",
      "Returning --- 3523 friends for thejusticeconf\n",
      "Returning --- 1727 friends for saurabhmisra"
     ]
    },
    {
     "name": "stderr",
     "output_type": "stream",
     "text": [
      "Got error: {\"errors\":[{\"message\":\"Rate limit exceeded\",\"code\":88}]} \n",
      "sleeping for 15 minutes.\n"
     ]
    },
    {
     "name": "stdout",
     "output_type": "stream",
     "text": [
      "\n",
      "Returning --- 1997 friends for Munishwar1\n",
      "Returning --- 158 friends for DanSFlorescu\n",
      "Returning --- 1476 friends for lumitynpo\n",
      "Returning --- 45 friends for razgoblue\n",
      "Returning --- 19 friends for praveennawal123\n",
      "Returning --- 115 friends for MeninaAmericana\n",
      "Returning --- 379 friends for dip_ak\n",
      "Returning --- 24 friends for mediacovenant\n",
      "Returning --- 36 friends for SatvikaSarat\n",
      "Returning --- 1554 friends for forumonenergy\n",
      "Returning --- 241 friends for collegeget\n",
      "Returning --- 657 friends for IEEERebootComp\n",
      "Returning --- 2000 friends for RetroNeonNeko"
     ]
    },
    {
     "name": "stderr",
     "output_type": "stream",
     "text": [
      "Got error: {\"errors\":[{\"message\":\"Rate limit exceeded\",\"code\":88}]} \n",
      "sleeping for 15 minutes.\n"
     ]
    },
    {
     "name": "stdout",
     "output_type": "stream",
     "text": [
      "\n",
      "Collected 5000 friends for CrowdtLA\n",
      "Collected 5000 friends for CrowdtLA\n",
      "Collected 5000 friends for CrowdtLA\n",
      "Collected 5000 friends for CrowdtLA\n",
      "Collected 5000 friends for CrowdtLA\n",
      "Collected 5000 friends for CrowdtLA\n",
      "Collected 5000 friends for CrowdtLA\n",
      "Collected 5000 friends for CrowdtLA\n",
      "Collected 5000 friends for CrowdtLA\n",
      "Collected 5000 friends for CrowdtLA\n",
      "Collected 5000 friends for CrowdtLA\n",
      "Collected 5000 friends for CrowdtLA\n",
      "Collected 5000 friends for CrowdtLA\n",
      "Collected 5000 friends for CrowdtLA\n",
      "Collected 5000 friends for CrowdtLA"
     ]
    },
    {
     "name": "stderr",
     "output_type": "stream",
     "text": [
      "Got error: {\"errors\":[{\"message\":\"Rate limit exceeded\",\"code\":88}]} \n",
      "sleeping for 15 minutes.\n"
     ]
    },
    {
     "name": "stdout",
     "output_type": "stream",
     "text": [
      "\n",
      "Returning --- 4610 friends for CrowdtLA\n",
      "Returning --- 164 friends for pranava_teja\n",
      "Returning --- 620 friends for sivaadhithya1\n",
      "Returning --- 617 friends for Sam_ChateredAcc\n",
      "Returning --- 15 friends for zx199538\n",
      "Returning --- 786 friends for Steven_VdB80\n",
      "Returning --- 67 friends for jonbarger\n",
      "Returning --- 27 friends for yatharthchoubi1\n",
      "Returning --- 1745 friends for C2ST\n",
      "Returning --- 92 friends for lovingvinodnita\n",
      "Returning --- 28 friends for MTumarkin\n",
      "Returning --- 762 friends for guy3318\n",
      "Returning --- 200 friends for DevOpsOnWindows\n",
      "Returning --- 189 friends for RyanZCummings"
     ]
    },
    {
     "name": "stderr",
     "output_type": "stream",
     "text": [
      "Got error: {\"errors\":[{\"message\":\"Rate limit exceeded\",\"code\":88}]} \n",
      "sleeping for 15 minutes.\n"
     ]
    },
    {
     "name": "stdout",
     "output_type": "stream",
     "text": [
      "\n",
      "Returning --- 1998 friends for BarcelonaTech\n",
      "Returning --- 4860 friends for SCSTATE1896\n",
      "Returning --- 42 friends for pradeepsarabar\n",
      "Returning --- 1979 friends for jasonfinch13\n",
      "Returning --- 19 friends for clint_bhola\n",
      "Returning --- 60 friends for nerkerr\n",
      "Returning --- 510 friends for sbtyagi\n",
      "Returning --- 95 friends for NareshChadokar\n",
      "Returning --- 356 friends for JP_Vielma\n",
      "Returning --- 26 friends for PatrickCermak\n",
      "Returning --- 25 friends for TheBogIIT\n",
      "Returning --- 891 friends for Benahmin\n",
      "Returning --- 915 friends for iServe_iLead\n",
      "Returning --- 1125 friends for megmyname"
     ]
    },
    {
     "name": "stderr",
     "output_type": "stream",
     "text": [
      "Got error: {\"errors\":[{\"message\":\"Rate limit exceeded\",\"code\":88}]} \n",
      "sleeping for 15 minutes.\n"
     ]
    },
    {
     "name": "stdout",
     "output_type": "stream",
     "text": [
      "\n",
      "Returning --- 48 friends for cjstellaliu\n",
      "Returning --- 2019 friends for MobiKwik\n",
      "Returning --- 1336 friends for FH8503\n",
      "Returning --- 97 friends for SYC_HS_Guidance\n",
      "Returning --- 1644 friends for Gop3rd\n",
      "Returning --- 2001 friends for vishal_vijender\n",
      "Returning --- 31 friends for chem24ankur\n",
      "Returning --- 1147 friends for GiveToCollege\n",
      "Returning --- 1223 friends for das3700\n",
      "Returning --- 56 friends for MountTalent\n",
      "Returning --- 1015 friends for Dorm_In_A_Box\n",
      "Returning --- 385 friends for AlwaysKTF5\n",
      "Returning --- 37 friends for rishirajshkl02\n",
      "Returning --- 275 friends for liza_xc"
     ]
    },
    {
     "name": "stderr",
     "output_type": "stream",
     "text": [
      "Got error: {\"errors\":[{\"message\":\"Rate limit exceeded\",\"code\":88}]} \n",
      "sleeping for 15 minutes.\n"
     ]
    },
    {
     "name": "stdout",
     "output_type": "stream",
     "text": [
      "\n",
      "Returning --- 122 friends for AsifAsifali54\n",
      "Returning --- 66 friends for CuiPeach\n",
      "Returning --- 293 friends for DrShukla_17\n",
      "Returning --- 2014 friends for MidCoInc\n",
      "Returning --- 99 friends for OTSProjectMg\n",
      "Returning --- 153 friends for mmibanezherrero\n",
      "Returning --- 2037 friends for CraticPR\n",
      "Returning --- 83 friends for adrumms\n",
      "Returning --- 34 friends for rhynes57\n",
      "Returning --- 1090 friends for MattDeGeeter\n",
      "Returning --- 35 friends for akrish2405\n",
      "Returning --- 156 friends for ANU_EE1\n",
      "Returning --- 332 friends for cambridgespan\n",
      "Returning --- 66 friends for amitagarwal27"
     ]
    },
    {
     "name": "stderr",
     "output_type": "stream",
     "text": [
      "Got error: {\"errors\":[{\"message\":\"Rate limit exceeded\",\"code\":88}]} \n",
      "sleeping for 15 minutes.\n"
     ]
    },
    {
     "name": "stdout",
     "output_type": "stream",
     "text": [
      "\n",
      "Returning --- 10 friends for lucky_me424\n",
      "Returning --- 664 friends for law58\n",
      "Returning --- 296 friends for ElianaMarroquin\n",
      "Returning --- 89 friends for AkshadaParsewar\n",
      "Returning --- 71 friends for sr_maheshmeena\n",
      "Returning --- 1994 friends for jagbandhu007\n",
      "Returning --- 415 friends for 86rishabh\n",
      "Returning --- 592 friends for alekbabel\n",
      "Returning --- 1997 friends for CIMChicago\n",
      "Returning --- 324 friends for dearmeganne\n",
      "Returning --- 970 friends for VictorSanchez\n",
      "Returning --- 360 friends for VonSteubenMSC\n",
      "Returning --- 13 friends for ShreyaSatsangi\n",
      "Returning --- 3 friends for peterYoxi\n",
      "Returning --- 222 friends for cm13900"
     ]
    },
    {
     "name": "stderr",
     "output_type": "stream",
     "text": [
      "Got error: {\"errors\":[{\"message\":\"Rate limit exceeded\",\"code\":88}]} \n",
      "sleeping for 15 minutes.\n"
     ]
    },
    {
     "name": "stdout",
     "output_type": "stream",
     "text": [
      "\n",
      "Returning --- 30 friends for qianscsu\n",
      "Returning --- 30 friends for achyuth6654\n",
      "Returning --- 29 friends for 115f8aa204c5430\n",
      "Returning --- 1425 friends for chiwomenarch\n",
      "Returning --- 64 friends for WMAengineers\n",
      "Returning --- 479 friends for bhootmechanical\n",
      "Returning --- 36 friends for young_shaneo\n",
      "Returning --- 18 friends for Neri_Suki\n",
      "Returning --- 132 friends for DebatriPutatund\n",
      "Returning --- 43 friends for TheChikuEzine\n",
      "Returning --- 740 friends for WorldHolidays\n",
      "Returning --- 2006 friends for risshc\n",
      "Returning --- 582 friends for williamsvicky15\n",
      "Returning --- 15 friends for SwarnimKa\n",
      "Returning --- 127 friends for ZeldaloverF"
     ]
    },
    {
     "name": "stderr",
     "output_type": "stream",
     "text": [
      "Got error: {\"errors\":[{\"message\":\"Rate limit exceeded\",\"code\":88}]} \n",
      "sleeping for 15 minutes.\n"
     ]
    },
    {
     "name": "stdout",
     "output_type": "stream",
     "text": [
      "\n",
      "Returning --- 430 friends for sara_munaam\n",
      "Returning --- 563 friends for darraul\n",
      "Returning --- 242 friends for AUSLWPAHS\n",
      "Returning --- 313 friends for TheyHateOurJoy\n",
      "Returning --- 32 friends for manideep_varma\n",
      "Returning --- 33 friends for Adityas54547518\n",
      "Returning --- 12 friends for tadn\n",
      "Returning --- 359 friends for ZanSyed23\n",
      "Returning --- 248 friends for jkpowell\n",
      "Returning --- 155 friends for CCoBronzeville\n",
      "Returning --- 1977 friends for LogicPad\n",
      "Returning --- 425 friends for Kat3anne"
     ]
    },
    {
     "name": "stderr",
     "output_type": "stream",
     "text": [
      "Got error: {\"errors\":[{\"message\":\"Rate limit exceeded\",\"code\":88}]} \n",
      "sleeping for 15 minutes.\n"
     ]
    },
    {
     "name": "stdout",
     "output_type": "stream",
     "text": [
      "\n",
      "Returning --- 22 friends for 317500\n",
      "Returning --- 15 friends for Alexandrio_\n",
      "Returning --- 1058 friends for fiatlux2015\n",
      "Returning --- 38 friends for gina96k\n",
      "Returning --- 912 friends for MarkViramontes\n",
      "Returning --- 161 friends for EACNovosibirsk\n",
      "Returning --- 91 friends for smiling_zoe\n",
      "Returning --- 2083 friends for SharenthShare\n",
      "Returning --- 1937 friends for CompTIA\n",
      "Returning --- 327 friends for BD_PM\n",
      "Returning --- 393 friends for SamCholke\n",
      "Returning --- 1973 friends for ValleyPrepLA\n",
      "Returning --- 48 friends for husain_das\n",
      "Returning --- 753 friends for alzIllinois\n",
      "Returning --- 221 friends for 9eb1ec4a5aba43b"
     ]
    },
    {
     "name": "stderr",
     "output_type": "stream",
     "text": [
      "Got error: {\"errors\":[{\"message\":\"Rate limit exceeded\",\"code\":88}]} \n",
      "sleeping for 15 minutes.\n"
     ]
    },
    {
     "name": "stdout",
     "output_type": "stream",
     "text": [
      "\n",
      "Returning --- 1653 friends for bdofexaminers\n",
      "Returning --- 390 friends for fugexlac\n",
      "Returning --- 90 friends for rosellegrant\n",
      "Returning --- 85 friends for SDrNH2\n",
      "Returning --- 7 friends for Sicueft\n",
      "Returning --- 514 friends for A_GomezChicago\n",
      "Returning --- 1694 friends for skeggy\n",
      "Returning --- 10 friends for XiangyuSheng\n",
      "Returning --- 211 friends for andreasanchos\n",
      "Returning --- 52 friends for chunwangyuen_7\n",
      "Returning --- 28 friends for HaleysBirthMoth\n",
      "Returning --- 190 friends for AjayNirankari\n",
      "Returning --- 1286 friends for andelam1\n",
      "Returning --- 138 friends for Abhijeetcooland\n",
      "Returning --- 43 friends for flores2689"
     ]
    },
    {
     "name": "stderr",
     "output_type": "stream",
     "text": [
      "Got error: {\"errors\":[{\"message\":\"Rate limit exceeded\",\"code\":88}]} \n",
      "sleeping for 15 minutes.\n"
     ]
    },
    {
     "name": "stdout",
     "output_type": "stream",
     "text": [
      "\n",
      "Returning --- 5 friends for eciand\n",
      "Returning --- 59 friends for pateltirthm\n",
      "Returning --- 1901 friends for GanesqConsult\n",
      "Returning --- 1267 friends for Remembus\n",
      "Returning --- 499 friends for HK_PPR\n",
      "Returning --- 203 friends for Sh_Bahramirad\n",
      "Returning --- 1194 friends for SE_Careers\n",
      "Returning --- 59 friends for Arc_anil\n",
      "Returning --- 246 friends for QueenMoshushu\n",
      "Returning --- 211 friends for ArgonneNE\n",
      "Returning --- 256 friends for ccusack92\n",
      "Returning --- 471 friends for dylaneasley\n",
      "Returning --- 265 friends for pizzatwopieces\n",
      "Returning --- 28 friends for Stacey_Cpercent\n",
      "Returning --- 462 friends for EnanaAssaf"
     ]
    },
    {
     "name": "stderr",
     "output_type": "stream",
     "text": [
      "Got error: {\"errors\":[{\"message\":\"Rate limit exceeded\",\"code\":88}]} \n",
      "sleeping for 15 minutes.\n"
     ]
    },
    {
     "name": "stdout",
     "output_type": "stream",
     "text": [
      "\n",
      "Returning --- 351 friends for bevenke\n",
      "Returning --- 58 friends for SeanHahn4\n",
      "Returning --- 42 friends for priyanka160193\n",
      "Returning --- 1522 friends for Livestream\n",
      "Returning --- 72 friends for rhendricks3\n",
      "Returning --- 1545 friends for modelixrobotics\n",
      "Returning --- 1079 friends for ArtyrSharf\n",
      "Returning --- 62 friends for mehrajwani1\n",
      "Returning --- 233 friends for Masdar_ChemEng\n",
      "Returning --- 245 friends for bgneu\n",
      "Returning --- 247 friends for ituint1773\n",
      "Returning --- 370 friends for ueusdcs\n",
      "Returning --- 1535 friends for CollegeBuzzz\n",
      "Returning --- 1570 friends for AnirudhMadedhi"
     ]
    },
    {
     "name": "stderr",
     "output_type": "stream",
     "text": [
      "Got error: {\"errors\":[{\"message\":\"Rate limit exceeded\",\"code\":88}]} \n",
      "sleeping for 15 minutes.\n"
     ]
    },
    {
     "name": "stdout",
     "output_type": "stream",
     "text": [
      "\n",
      "Returning --- 226 friends for deshraj_charan\n",
      "Returning --- 76 friends for randomusingsnip\n",
      "Returning --- 672 friends for NIUCEET\n",
      "Returning --- 34 friends for hmehta19\n",
      "Returning --- 89 friends for smothix\n",
      "Returning --- 10 friends for ICERTSD\n",
      "Returning --- 87 friends for OmarInCongress\n",
      "Returning --- 1070 friends for jenmcbiggs\n",
      "Returning --- 38 friends for KbKbach12\n",
      "Returning --- 16 friends for craghuve\n",
      "Returning --- 66 friends for seshanbabu\n",
      "Returning --- 1085 friends for koryna_felt\n",
      "Returning --- 210 friends for Gateway_abroad\n",
      "Returning --- 525 friends for A_Margovia"
     ]
    },
    {
     "name": "stderr",
     "output_type": "stream",
     "text": [
      "Got error: {\"errors\":[{\"message\":\"Rate limit exceeded\",\"code\":88}]} \n",
      "sleeping for 15 minutes.\n"
     ]
    },
    {
     "name": "stdout",
     "output_type": "stream",
     "text": [
      "\n",
      "Returning --- 226 friends for nandhakumarkvs\n",
      "Returning --- 344 friends for PJM_Iam\n",
      "Returning --- 64 friends for anidash001\n",
      "Returning --- 502 friends for lolo_dante\n",
      "Returning --- 1278 friends for OffTheHookPromo\n",
      "Returning --- 70 friends for momboos\n",
      "Returning --- 25 friends for raishubham664\n",
      "Returning --- 290 friends for leezyray\n",
      "Returning --- 165 friends for Ignus_IITJ\n",
      "Returning --- 58 friends for YangNan1013\n",
      "Returning --- 328 friends for rahulverma006\n",
      "Returning --- 17 friends for sylvester_sunny\n",
      "Returning --- 51 friends for Wilson_Janine_"
     ]
    },
    {
     "name": "stderr",
     "output_type": "stream",
     "text": [
      "Got error: {\"errors\":[{\"message\":\"Rate limit exceeded\",\"code\":88}]} \n",
      "sleeping for 15 minutes.\n"
     ]
    },
    {
     "name": "stdout",
     "output_type": "stream",
     "text": [
      "\n",
      "Returning --- 57 friends for mokona2008\n",
      "Collected 5000 friends for IDOT_Illinois\n",
      "Returning --- 1000 friends for IDOT_Illinois\n",
      "Returning --- 59 friends for jacobraj\n",
      "Returning --- 1290 friends for 8ultraman8\n",
      "Returning --- 358 friends for pgannon48\n",
      "Returning --- 44 friends for RAJHANSHGUPTA\n",
      "Returning --- 63 friends for WeizhenDong1\n",
      "Returning --- 1226 friends for collegeboxes\n",
      "Returning --- 105 friends for warzuegel\n",
      "Returning --- 51 friends for Khichadi_Fry\n",
      "Returning --- 92 friends for mattisalbright"
     ]
    },
    {
     "name": "stderr",
     "output_type": "stream",
     "text": [
      "Got error: {\"errors\":[{\"message\":\"Rate limit exceeded\",\"code\":88}]} \n",
      "sleeping for 15 minutes.\n"
     ]
    },
    {
     "name": "stdout",
     "output_type": "stream",
     "text": [
      "\n",
      "Returning --- 943 friends for silentevents\n",
      "Returning --- 383 friends for SongaSaver\n",
      "Returning --- 15 friends for andreaa1227\n",
      "Returning --- 13 friends for MichaelWoo24\n",
      "Returning --- 265 friends for linlivalex\n",
      "Returning --- 1994 friends for reddyvpr\n",
      "Returning --- 332 friends for PeyAv\n",
      "Returning --- 1250 friends for MCadvising\n",
      "Returning --- 718 friends for illinoislaunch\n",
      "Returning --- 649 friends for FlowControl_Ind\n",
      "Returning --- 15 friends for gokanishk\n",
      "Returning --- 101 friends for abhishe23422521\n",
      "Returning --- 62 friends for RavindraGowtham\n",
      "Returning --- 5 friends for vnrama"
     ]
    },
    {
     "name": "stderr",
     "output_type": "stream",
     "text": [
      "Got error: {\"errors\":[{\"message\":\"Rate limit exceeded\",\"code\":88}]} \n",
      "sleeping for 15 minutes.\n"
     ]
    },
    {
     "name": "stdout",
     "output_type": "stream",
     "text": [
      "\n",
      "Returning --- 193 friends for aditya_jackob\n",
      "Returning --- 32 friends for iit_kim\n",
      "Returning --- 33 friends for ToneSachin\n",
      "Returning --- 236 friends for ifeanyi_\n",
      "Returning --- 2400 friends for BCBSIL\n",
      "Returning --- 340 friends for sandru_ru\n",
      "Returning --- 13 friends for jun900928\n",
      "Returning --- 2947 friends for PreservationTV\n",
      "Returning --- 120 friends for Commons_IIT\n",
      "Collected 5000 friends for deg511\n",
      "Collected 5000 friends for deg511\n",
      "Collected 5000 friends for deg511"
     ]
    },
    {
     "name": "stderr",
     "output_type": "stream",
     "text": [
      "Got error: {\"errors\":[{\"message\":\"Rate limit exceeded\",\"code\":88}]} \n",
      "sleeping for 15 minutes.\n"
     ]
    },
    {
     "name": "stdout",
     "output_type": "stream",
     "text": [
      "\n",
      "Returning --- 2854 friends for deg511\n",
      "Returning --- 704 friends for LittleCoMary\n",
      "Returning --- 662 friends for RaffaellaRS\n",
      "Returning --- 220 friends for UICnews\n",
      "Returning --- 112 friends for 999anik999\n",
      "Returning --- 341 friends for sundarramachand\n",
      "Returning --- 56 friends for cmctechjobs\n",
      "Returning --- 167 friends for patrickrvokaty\n",
      "Returning --- 33 friends for mswingler12\n",
      "Returning --- 53 friends for rrsreddyece\n",
      "Returning --- 184 friends for zenidiot99\n",
      "Returning --- 995 friends for NCSSSMST\n",
      "Returning --- 65 friends for ly86518\n",
      "Returning --- 239 friends for uncle_sports"
     ]
    },
    {
     "name": "stderr",
     "output_type": "stream",
     "text": [
      "Got error: {\"errors\":[{\"message\":\"Rate limit exceeded\",\"code\":88}]} \n",
      "sleeping for 15 minutes.\n"
     ]
    },
    {
     "name": "stdout",
     "output_type": "stream",
     "text": [
      "\n",
      "Returning --- 70 friends for Yamm_manish\n",
      "Returning --- 374 friends for VikasNimare\n",
      "Returning --- 342 friends for sbled119\n",
      "Returning --- 105 friends for muelle104\n",
      "Returning --- 630 friends for RaS_Crane\n",
      "Returning --- 51 friends for hsp3156\n",
      "Returning --- 137 friends for Inteliclass\n",
      "Returning --- 233 friends for NGP_energy\n",
      "Returning --- 232 friends for CoachZeifert\n",
      "Returning --- 74 friends for manmeetsays\n",
      "Returning --- 1605 friends for JuliaNesheva\n",
      "Returning --- 559 friends for PartsFill\n",
      "Returning --- 66 friends for a_gastelum\n",
      "Returning --- 10 friends for hiren123ify"
     ]
    },
    {
     "name": "stderr",
     "output_type": "stream",
     "text": [
      "Got error: {\"errors\":[{\"message\":\"Rate limit exceeded\",\"code\":88}]} \n",
      "sleeping for 15 minutes.\n"
     ]
    },
    {
     "name": "stdout",
     "output_type": "stream",
     "text": [
      "\n",
      "Returning --- 29 friends for alexfreelander1\n",
      "Returning --- 257 friends for realvj\n",
      "Returning --- 335 friends for Honeywell_Jobs\n",
      "Returning --- 585 friends for AgatiFurniture\n",
      "Returning --- 126 friends for tarunkumar17398\n",
      "Returning --- 115 friends for kushal_shah12\n",
      "Returning --- 165 friends for WenzhiZhao\n",
      "Collected 5000 friends for LinaGrigaitis\n",
      "Collected 5000 friends for LinaGrigaitis\n",
      "Returning --- 914 friends for LinaGrigaitis\n",
      "Returning --- 92 friends for udaydhakar01\n",
      "Returning --- 13 friends for chandi2025\n",
      "Returning --- 121 friends for levilut15\n",
      "Returning --- 305 friends for Im_not_angry"
     ]
    },
    {
     "name": "stderr",
     "output_type": "stream",
     "text": [
      "Got error: {\"errors\":[{\"message\":\"Rate limit exceeded\",\"code\":88}]} \n",
      "sleeping for 15 minutes.\n"
     ]
    },
    {
     "name": "stdout",
     "output_type": "stream",
     "text": [
      "\n",
      "Returning --- 131 friends for iit_bhu\n",
      "Returning --- 591 friends for BKcleanslate\n",
      "Returning --- 14 friends for vmclotuseducat2\n",
      "Collected 5000 friends for OmarShaik10\n",
      "Returning --- 125 friends for OmarShaik10\n",
      "Returning --- 655 friends for Grad_Programs\n",
      "Returning --- 33 friends for nunekrishna476\n",
      "Returning --- 4 friends for saileshpoudyal9\n",
      "Returning --- 322 friends for steve_tak\n",
      "Returning --- 29 friends for UpbeatMusicChi\n",
      "Returning --- 113 friends for CorineBoelk\n",
      "Returning --- 1182 friends for Esodha\n",
      "Returning --- 508 friends for venu01005056"
     ]
    },
    {
     "name": "stderr",
     "output_type": "stream",
     "text": [
      "Got error: {\"errors\":[{\"message\":\"Rate limit exceeded\",\"code\":88}]} \n",
      "sleeping for 15 minutes.\n"
     ]
    },
    {
     "name": "stdout",
     "output_type": "stream",
     "text": [
      "\n",
      "Returning --- 41 friends for Javier_Parrondo\n",
      "Returning --- 580 friends for HMeese_IMechE\n",
      "Returning --- 85 friends for iitwhiteboard\n",
      "Returning --- 185 friends for somanylittles\n",
      "Returning --- 173 friends for Kaaush\n",
      "Returning --- 22 friends for ShivamIya\n",
      "Returning --- 12 friends for fiitjee_eastD\n",
      "Returning --- 506 friends for stadtgeist\n",
      "Returning --- 21 friends for Scientel_HR\n",
      "Returning --- 127 friends for SivakumarSvkrs\n",
      "Returning --- 2717 friends for achieverspoint\n",
      "Collected 5000 friends for HQ_Chicago\n",
      "Returning --- 951 friends for HQ_Chicago\n",
      "Returning --- 408 friends for rcb_vinayak\n",
      "Returning --- 69 friends for frotamari"
     ]
    },
    {
     "name": "stderr",
     "output_type": "stream",
     "text": [
      "Got error: {\"errors\":[{\"message\":\"Rate limit exceeded\",\"code\":88}]} \n",
      "sleeping for 15 minutes.\n"
     ]
    },
    {
     "name": "stdout",
     "output_type": "stream",
     "text": [
      "\n",
      "Returning --- 15 friends for Lloyd889\n",
      "Returning --- 3304 friends for NCWIT\n",
      "Returning --- 680 friends for a_common_man\n",
      "Returning --- 46 friends for felizulhendri\n",
      "Returning --- 7 friends for aerosumeet\n",
      "Returning --- 14 friends for JamesHehehe\n",
      "Returning --- 49 friends for itsubraamani\n",
      "Returning --- 72 friends for jsarthak8\n",
      "Returning --- 653 friends for ExamPAD\n",
      "Returning --- 254 friends for EbullientErin\n",
      "Returning --- 4 friends for NapervilleCafe\n",
      "Returning --- 227 friends for Joaoafq\n",
      "Returning --- 72 friends for maheshwar2509\n",
      "Returning --- 342 friends for MEIGANDAAN"
     ]
    },
    {
     "name": "stderr",
     "output_type": "stream",
     "text": [
      "Got error: {\"errors\":[{\"message\":\"Rate limit exceeded\",\"code\":88}]} \n",
      "sleeping for 15 minutes.\n"
     ]
    },
    {
     "name": "stdout",
     "output_type": "stream",
     "text": [
      "\n",
      "Returning --- 1068 friends for MicheleZavatti\n",
      "Returning --- 256 friends for GCModelUN\n",
      "Returning --- 1824 friends for Heer_143\n",
      "Returning --- 82 friends for ShikshaDotCom\n",
      "Returning --- 384 friends for computermasti\n",
      "Returning --- 1005 friends for IITCampusLife\n",
      "Returning --- 274 friends for MLabatVAP\n",
      "Returning --- 76 friends for ichikhic\n",
      "Returning --- 47 friends for naemesh\n",
      "Returning --- 74 friends for mohdtabish225\n",
      "Returning --- 11 friends for CareerExpress1\n",
      "Returning --- 149 friends for HydeParkHerald\n",
      "Returning --- 249 friends for okvisaus"
     ]
    },
    {
     "name": "stderr",
     "output_type": "stream",
     "text": [
      "Got error: {\"errors\":[{\"message\":\"Rate limit exceeded\",\"code\":88}]} \n",
      "sleeping for 15 minutes.\n"
     ]
    },
    {
     "name": "stdout",
     "output_type": "stream",
     "text": [
      "\n",
      "Returning --- 144 friends for Ronaldo97000000\n",
      "Returning --- 302 friends for swathip1992\n",
      "Returning --- 59 friends for yashwanth2094\n",
      "Returning --- 554 friends for vs094900\n",
      "Returning --- 217 friends for WotNowApp\n",
      "Returning --- 39 friends for talon_challenge\n",
      "Returning --- 39 friends for Catherine_WZH\n",
      "Returning --- 15 friends for PratikSah3\n",
      "Returning --- 439 friends for TakuSugimotoCIT\n",
      "Returning --- 218 friends for cirsemruiz\n",
      "Returning --- 114 friends for kimnykaihan\n",
      "Returning --- 169 friends for keycodez\n",
      "Returning --- 2179 friends for cgreenlight\n",
      "Returning --- 42 friends for AswaniVi"
     ]
    },
    {
     "name": "stderr",
     "output_type": "stream",
     "text": [
      "Got error: {\"errors\":[{\"message\":\"Rate limit exceeded\",\"code\":88}]} \n",
      "sleeping for 15 minutes.\n"
     ]
    },
    {
     "name": "stdout",
     "output_type": "stream",
     "text": [
      "\n",
      "Returning --- 31 friends for Abhishant2\n",
      "Returning --- 974 friends for SankaramDas\n",
      "Returning --- 240 friends for iamKSam\n",
      "Returning --- 296 friends for sanargoli\n",
      "Returning --- 2227 friends for WendysCity\n",
      "Returning --- 27 friends for abigailHkim\n",
      "Returning --- 2005 friends for The_Primate\n",
      "Returning --- 446 friends for Damiobash\n",
      "Returning --- 237 friends for sharmapreetam\n",
      "Returning --- 222 friends for ShreySingh3\n",
      "Returning --- 582 friends for chi_chaudhary\n",
      "Returning --- 93 friends for CamiloACortesG\n",
      "Returning --- 21 friends for SwetaRaheja"
     ]
    },
    {
     "name": "stderr",
     "output_type": "stream",
     "text": [
      "Got error: {\"errors\":[{\"message\":\"Rate limit exceeded\",\"code\":88}]} \n",
      "sleeping for 15 minutes.\n"
     ]
    },
    {
     "name": "stdout",
     "output_type": "stream",
     "text": [
      "\n",
      "Returning --- 758 friends for EcoGasFields\n",
      "Returning --- 92 friends for SvBhosikar\n",
      "Returning --- 80 friends for LivingDonorLove\n",
      "Returning --- 336 friends for jonkavanaugh\n",
      "Returning --- 21 friends for Shringsumit\n",
      "Returning --- 699 friends for FtwFollowers\n",
      "Returning --- 537 friends for AmrMohsen95\n",
      "Returning --- 273 friends for orau\n",
      "Returning --- 2001 friends for rblairrobert\n",
      "Returning --- 78 friends for CalarcoNacie\n",
      "Returning --- 360 friends for CollegeJosh\n",
      "Returning --- 20 friends for clandestinChem\n",
      "Returning --- 32 friends for vickyiitmadras\n",
      "Returning --- 218 friends for B2WD2009"
     ]
    },
    {
     "name": "stderr",
     "output_type": "stream",
     "text": [
      "Got error: {\"errors\":[{\"message\":\"Rate limit exceeded\",\"code\":88}]} \n",
      "sleeping for 15 minutes.\n"
     ]
    },
    {
     "name": "stdout",
     "output_type": "stream",
     "text": [
      "\n",
      "Returning --- 155 friends for gauravphatak\n",
      "Returning --- 30 friends for zhusharenla\n",
      "Returning --- 495 friends for ROHITBINAYMAHAL\n",
      "Returning --- 349 friends for MohitMs35\n",
      "Returning --- 924 friends for Vickie_Austin\n",
      "Returning --- 3273 friends for AAUWCampus\n",
      "Returning --- 1672 friends for Hugo_de_la_O\n",
      "Returning --- 266 friends for 23f487edfaa244d\n",
      "Returning --- 991 friends for shubhamwankha10\n",
      "Returning --- 49 friends for ypu_iiti\n",
      "Returning --- 52 friends for elexclub\n",
      "Returning --- 45 friends for IITGoddess\n",
      "Returning --- 1324 friends for Ashrafaamir_007\n",
      "Returning --- 346 friends for EdUSAUNIFOR\n",
      "Returning --- 19 friends for raj001992"
     ]
    },
    {
     "name": "stderr",
     "output_type": "stream",
     "text": [
      "Got error: {\"errors\":[{\"message\":\"Rate limit exceeded\",\"code\":88}]} \n",
      "sleeping for 15 minutes.\n"
     ]
    },
    {
     "name": "stdout",
     "output_type": "stream",
     "text": [
      "\n",
      "Returning --- 81 friends for rahulzam2003\n",
      "Returning --- 31 friends for Clutch427R\n",
      "Returning --- 27 friends for cintron248\n",
      "Returning --- 107 friends for chemistram\n",
      "Returning --- 166 friends for arihant15\n",
      "Returning --- 112 friends for 8Katalyst8\n",
      "Returning --- 313 friends for revaa\n",
      "Returning --- 2 friends for intellectiamkt\n",
      "Returning --- 231 friends for bill_cardoso\n",
      "Returning --- 7 friends for laoma86\n",
      "Returning --- 345 friends for KapilLamba\n",
      "Returning --- 98 friends for rkundu26\n",
      "Returning --- 1743 friends for silverspringnet\n",
      "Returning --- 798 friends for sylvianancheng"
     ]
    },
    {
     "name": "stderr",
     "output_type": "stream",
     "text": [
      "Got error: {\"errors\":[{\"message\":\"Rate limit exceeded\",\"code\":88}]} \n",
      "sleeping for 15 minutes.\n"
     ]
    },
    {
     "name": "stdout",
     "output_type": "stream",
     "text": [
      "\n",
      "Returning --- 487 friends for SamTHBob\n",
      "Returning --- 167 friends for lokanem\n",
      "Returning --- 332 friends for cowboy_kehoe\n",
      "Returning --- 2000 friends for MassUpdater\n",
      "Returning --- 1956 friends for rajpatel3189\n",
      "Returning --- 75 friends for mayuhanhp\n",
      "Returning --- 376 friends for DGonsch\n",
      "Returning --- 1001 friends for rashijain124\n",
      "Returning --- 250 friends for ChrisMichele\n",
      "Returning --- 294 friends for susheelpraneeth\n",
      "Returning --- 698 friends for UIStateRelation\n",
      "Returning --- 48 friends for ddiwasaki\n",
      "Returning --- 1444 friends for StartUpMagNY"
     ]
    },
    {
     "name": "stderr",
     "output_type": "stream",
     "text": [
      "Got error: {\"errors\":[{\"message\":\"Rate limit exceeded\",\"code\":88}]} \n",
      "sleeping for 15 minutes.\n"
     ]
    },
    {
     "name": "stdout",
     "output_type": "stream",
     "text": [
      "\n",
      "Returning --- 67 friends for vingorat\n",
      "Returning --- 143 friends for RaphaelleLoyer\n",
      "Returning --- 183 friends for _Malik_MB\n",
      "Returning --- 61 friends for rockystunner\n",
      "Returning --- 347 friends for zakimoh113\n",
      "Returning --- 1109 friends for msrapp\n",
      "Returning --- 853 friends for KMartinez_Esq\n",
      "Returning --- 1737 friends for onkarkulkarnirr\n",
      "Returning --- 38 friends for chelstartupchi\n",
      "Returning --- 1440 friends for frafrii\n",
      "Returning --- 78 friends for Peter_Liujc\n",
      "Returning --- 78 friends for ramkumarkvp\n",
      "Returning --- 62 friends for faizanz14620\n",
      "Returning --- 900 friends for irenelohx\n",
      "Returning --- 21 friends for AIAAIIT"
     ]
    },
    {
     "name": "stderr",
     "output_type": "stream",
     "text": [
      "Got error: {\"errors\":[{\"message\":\"Rate limit exceeded\",\"code\":88}]} \n",
      "sleeping for 15 minutes.\n"
     ]
    },
    {
     "name": "stdout",
     "output_type": "stream",
     "text": [
      "\n",
      "Returning --- 561 friends for IDSforward\n",
      "Returning --- 7 friends for chris__ulrich\n",
      "Returning --- 55 friends for nessaraptor14\n",
      "Returning --- 16 friends for ravitejavaitla\n",
      "Returning --- 300 friends for kathyeaustin\n",
      "Returning --- 365 friends for _travel_info\n",
      "Returning --- 99 friends for iitcsdept\n",
      "Returning --- 172 friends for MeaganSarratt\n",
      "Returning --- 1869 friends for Nature_IL\n",
      "Returning --- 50 friends for hashmisaamir\n",
      "Returning --- 368 friends for PalomaNoir\n",
      "Returning --- 39 friends for Vikrant_gaut"
     ]
    },
    {
     "name": "stderr",
     "output_type": "stream",
     "text": [
      "Got error: {\"errors\":[{\"message\":\"Rate limit exceeded\",\"code\":88}]} \n",
      "sleeping for 15 minutes.\n"
     ]
    },
    {
     "name": "stdout",
     "output_type": "stream",
     "text": [
      "\n",
      "Returning --- 392 friends for nuclearsciweek\n",
      "Returning --- 24 friends for Robert_Abrant\n",
      "Returning --- 157 friends for yaswanth1912\n",
      "Returning --- 1848 friends for RealWorld101\n",
      "Returning --- 519 friends for BrooksInstrmnt\n",
      "Returning --- 1501 friends for juangui535\n",
      "Returning --- 539 friends for shawshank_38\n",
      "Returning --- 1990 friends for SanjayGpm\n",
      "Returning --- 343 friends for karnaalive15\n",
      "Returning --- 49 friends for AshOrkuch\n",
      "Returning --- 5 friends for ITCC_Chicago"
     ]
    },
    {
     "name": "stderr",
     "output_type": "stream",
     "text": [
      "Got error: {\"errors\":[{\"message\":\"Rate limit exceeded\",\"code\":88}]} \n",
      "sleeping for 15 minutes.\n"
     ]
    },
    {
     "name": "stdout",
     "output_type": "stream",
     "text": [
      "\n",
      "Returning --- 375 friends for pradeepmona\n",
      "Returning --- 416 friends for Pau_GGd\n",
      "Returning --- 666 friends for THEDIEGOAVILA\n",
      "Returning --- 2027 friends for Unknown10Uw\n",
      "Returning --- 119 friends for RUBANRAJ_J\n",
      "Returning --- 542 friends for LyleEngineering\n",
      "Returning --- 2000 friends for madhavisingh188\n",
      "Returning --- 77 friends for SUPRIYASAURAV\n",
      "Returning --- 1798 friends for HEITMAN_Chicago\n",
      "Returning --- 1165 friends for Loopintegration\n",
      "Returning --- 171 friends for SamanthaAtIIT\n",
      "Returning --- 1187 friends for binkthecubfan\n",
      "Returning --- 36 friends for barinder30"
     ]
    },
    {
     "name": "stderr",
     "output_type": "stream",
     "text": [
      "Got error: {\"errors\":[{\"message\":\"Rate limit exceeded\",\"code\":88}]} \n",
      "sleeping for 15 minutes.\n"
     ]
    },
    {
     "name": "stdout",
     "output_type": "stream",
     "text": [
      "\n",
      "Returning --- 3086 friends for LogicalisUS\n",
      "Returning --- 311 friends for NITINSINGHALAGR\n",
      "Returning --- 56 friends for SShalini14\n",
      "Returning --- 218 friends for RoYaLRules\n",
      "Returning --- 875 friends for itsh_me\n",
      "Returning --- 231 friends for Aug3r\n",
      "Returning --- 223 friends for VivienGong\n",
      "Returning --- 13 friends for engineeringcol1\n",
      "Returning --- 1588 friends for ChicagoParks\n",
      "Returning --- 562 friends for SayedBabu4\n",
      "Returning --- 1170 friends for vinnable\n",
      "Returning --- 99 friends for TrevorMauro\n",
      "Returning --- 46 friends for vaibhaviitb10d\n",
      "Returning --- 382 friends for KylerQueen"
     ]
    },
    {
     "name": "stderr",
     "output_type": "stream",
     "text": [
      "Got error: {\"errors\":[{\"message\":\"Rate limit exceeded\",\"code\":88}]} \n",
      "sleeping for 15 minutes.\n"
     ]
    },
    {
     "name": "stdout",
     "output_type": "stream",
     "text": [
      "\n",
      "Returning --- 144 friends for nairrittym\n",
      "Returning --- 4 friends for St_harpuia\n",
      "Returning --- 66 friends for iitExposure\n",
      "Returning --- 353 friends for SpirituaLifeIIT\n",
      "Returning --- 558 friends for RobinRobinson\n",
      "Returning --- 494 friends for MasonResearch\n",
      "Returning --- 81 friends for mahak_patil\n",
      "Returning --- 98 friends for mcgmolly\n",
      "Returning --- 128 friends for saljahen\n",
      "Collected 5000 friends for NealSchaffer\n",
      "Collected 5000 friends for NealSchaffer\n",
      "Collected 5000 friends for NealSchaffer\n",
      "Collected 5000 friends for NealSchaffer"
     ]
    },
    {
     "name": "stderr",
     "output_type": "stream",
     "text": [
      "Got error: {\"errors\":[{\"message\":\"Rate limit exceeded\",\"code\":88}]} \n",
      "sleeping for 15 minutes.\n"
     ]
    },
    {
     "name": "stdout",
     "output_type": "stream",
     "text": [
      "\n",
      "Collected 5000 friends for NealSchaffer\n",
      "Collected 5000 friends for NealSchaffer\n",
      "Collected 5000 friends for NealSchaffer\n",
      "Collected 5000 friends for NealSchaffer\n",
      "Collected 5000 friends for NealSchaffer\n",
      "Collected 5000 friends for NealSchaffer\n",
      "Collected 5000 friends for NealSchaffer\n",
      "Returning --- 2724 friends for NealSchaffer\n",
      "Returning --- 474 friends for sterlingeng\n",
      "Returning --- 33 friends for jainh875\n",
      "Returning --- 242 friends for GreenFence_\n",
      "Returning --- 415 friends for LexiaIntl\n",
      "Returning --- 293 friends for AlyaAWoods\n",
      "Returning --- 693 friends for KiritKhant\n",
      "Returning --- 38 friends for Hussain27540950"
     ]
    },
    {
     "name": "stderr",
     "output_type": "stream",
     "text": [
      "Got error: {\"errors\":[{\"message\":\"Rate limit exceeded\",\"code\":88}]} \n",
      "sleeping for 15 minutes.\n"
     ]
    },
    {
     "name": "stdout",
     "output_type": "stream",
     "text": [
      "\n",
      "Returning --- 24 friends for cnun999\n",
      "Returning --- 101 friends for insomiagoku\n",
      "Returning --- 71 friends for drumcorpsnut\n",
      "Returning --- 2380 friends for UCDavisCoE\n",
      "Returning --- 28 friends for jason_point5\n",
      "Returning --- 766 friends for EdUSARussia\n",
      "Returning --- 251 friends for djkvarma91\n",
      "Returning --- 1062 friends for Lynne_M_Meyer\n",
      "Returning --- 565 friends for print\n",
      "Returning --- 548 friends for youngxnick\n",
      "Returning --- 157 friends for OriginalSidd\n",
      "Returning --- 519 friends for rethinkingadmis\n",
      "Returning --- 52 friends for JDKFLY\n",
      "Returning --- 974 friends for SketchingBlog"
     ]
    },
    {
     "name": "stderr",
     "output_type": "stream",
     "text": [
      "Got error: {\"errors\":[{\"message\":\"Rate limit exceeded\",\"code\":88}]} \n",
      "sleeping for 15 minutes.\n"
     ]
    },
    {
     "name": "stdout",
     "output_type": "stream",
     "text": [
      "\n",
      "Returning --- 168 friends for Belding\n",
      "Returning --- 456 friends for MyCoedConnect\n",
      "Returning --- 79 friends for vickyysiu\n",
      "Returning --- 1777 friends for FarazHussain\n",
      "Returning --- 476 friends for dhruvesh_raj\n",
      "Returning --- 775 friends for nikodunham\n",
      "Returning --- 32 friends for kphsfan\n",
      "Returning --- 166 friends for VictoriaKMeyer\n",
      "Returning --- 42 friends for pozhil144\n",
      "Returning --- 733 friends for ViolentPython\n",
      "Returning --- 6 friends for urbangreenloop\n",
      "Returning --- 92 friends for jeenal_lalan\n",
      "Returning --- 86 friends for krishboopathi\n",
      "Returning --- 245 friends for TLC_USA"
     ]
    },
    {
     "name": "stderr",
     "output_type": "stream",
     "text": [
      "Got error: {\"errors\":[{\"message\":\"Rate limit exceeded\",\"code\":88}]} \n",
      "sleeping for 15 minutes.\n"
     ]
    },
    {
     "name": "stdout",
     "output_type": "stream",
     "text": [
      "\n",
      "Returning --- 2002 friends for DebjaniBiswas\n",
      "Returning --- 73 friends for vaatlagi\n",
      "Returning --- 49 friends for IllinoisTechIM\n",
      "Returning --- 773 friends for jabiz_sh\n",
      "Returning --- 75 friends for ChiKentFedSoc\n",
      "Returning --- 1056 friends for AGSEAlumniAssoc\n",
      "Returning --- 1990 friends for Vincent_Aditama\n",
      "Returning --- 471 friends for RosieChhetri\n",
      "Returning --- 165 friends for sarahhammer5\n",
      "Returning --- 95 friends for mdnasir4u\n",
      "Returning --- 941 friends for 984uiroxna\n",
      "Returning --- 181 friends for tushi31\n",
      "Returning --- 1373 friends for ejmoses1\n",
      "Returning --- 1380 friends for leibowitzdesign\n",
      "Returning --- 1098 friends for hansungip"
     ]
    },
    {
     "name": "stderr",
     "output_type": "stream",
     "text": [
      "Got error: {\"errors\":[{\"message\":\"Rate limit exceeded\",\"code\":88}]} \n",
      "sleeping for 15 minutes.\n"
     ]
    },
    {
     "name": "stdout",
     "output_type": "stream",
     "text": [
      "\n",
      "Returning --- 1 friends for FractumAngelus\n",
      "Returning --- 1154 friends for MysticNavyPier\n",
      "Returning --- 65 friends for shahzalak\n",
      "Returning --- 27 friends for ZackRamirez1\n",
      "Returning --- 125 friends for Folta\n",
      "Returning --- 312 friends for EdUSABucaramang\n",
      "Returning --- 1998 friends for gunnota\n",
      "Returning --- 41 friends for YogeshSharma290\n",
      "Returning --- 170 friends for MohammadFasahat\n",
      "Returning --- 855 friends for TeamPrecision\n",
      "Returning --- 26 friends for hanyu85\n",
      "Returning --- 128 friends for FReichert7\n",
      "Returning --- 467 friends for keellakrishna\n",
      "Returning --- 1842 friends for WoodvilleGuest"
     ]
    },
    {
     "name": "stderr",
     "output_type": "stream",
     "text": [
      "Got error: {\"errors\":[{\"message\":\"Rate limit exceeded\",\"code\":88}]} \n",
      "sleeping for 15 minutes.\n"
     ]
    },
    {
     "name": "stdout",
     "output_type": "stream",
     "text": [
      "\n",
      "Returning --- 48 friends for SHRIYANSHSRIVAS\n",
      "Returning --- 2078 friends for shrivivekhr\n",
      "Returning --- 1913 friends for DrRamBajaj\n",
      "Returning --- 1918 friends for ScribblePost\n",
      "Returning --- 69 friends for Bedloft\n",
      "Returning --- 787 friends for campuswall\n",
      "Returning --- 47 friends for YL61\n",
      "Returning --- 45 friends for MangoCommander\n",
      "Returning --- 39 friends for Rammoorhty\n",
      "Returning --- 333 friends for InterIndustryUS\n",
      "Returning --- 714 friends for healthysaurus"
     ]
    },
    {
     "name": "stderr",
     "output_type": "stream",
     "text": [
      "Got error: {\"errors\":[{\"message\":\"Rate limit exceeded\",\"code\":88}]} \n",
      "sleeping for 15 minutes.\n"
     ]
    },
    {
     "name": "stdout",
     "output_type": "stream",
     "text": [
      "\n",
      "Returning --- 289 friends for ChicagoKentIPLS\n",
      "Returning --- 162 friends for vamsi_chittem\n",
      "Returning --- 286 friends for rakesh2419\n",
      "Returning --- 24 friends for ritanshyabh1017\n",
      "Collected 5000 friends for TeeGreek\n",
      "Collected 5000 friends for TeeGreek\n",
      "Collected 5000 friends for TeeGreek\n",
      "Collected 5000 friends for TeeGreek\n",
      "Collected 5000 friends for TeeGreek\n",
      "Collected 5000 friends for TeeGreek\n",
      "Collected 5000 friends for TeeGreek\n",
      "Collected 5000 friends for TeeGreek\n",
      "Collected 5000 friends for TeeGreek"
     ]
    },
    {
     "name": "stderr",
     "output_type": "stream",
     "text": [
      "Got error: {\"errors\":[{\"message\":\"Rate limit exceeded\",\"code\":88}]} \n",
      "sleeping for 15 minutes.\n"
     ]
    },
    {
     "name": "stdout",
     "output_type": "stream",
     "text": [
      "\n",
      "Collected 5000 friends for TeeGreek\n",
      "Collected 5000 friends for TeeGreek\n",
      "Collected 5000 friends for TeeGreek\n",
      "Collected 5000 friends for TeeGreek\n",
      "Collected 5000 friends for TeeGreek\n",
      "Collected 5000 friends for TeeGreek\n",
      "Collected 5000 friends for TeeGreek\n",
      "Collected 5000 friends for TeeGreek\n",
      "Collected 5000 friends for TeeGreek\n",
      "Collected 5000 friends for TeeGreek\n",
      "Collected 5000 friends for TeeGreek\n",
      "Collected 5000 friends for TeeGreek\n",
      "Collected 5000 friends for TeeGreek\n",
      "Returning --- 109 friends for TeeGreek\n",
      "Returning --- 96 friends for ykc07081"
     ]
    },
    {
     "name": "stderr",
     "output_type": "stream",
     "text": [
      "Got error: {\"errors\":[{\"message\":\"Rate limit exceeded\",\"code\":88}]} \n",
      "sleeping for 15 minutes.\n"
     ]
    },
    {
     "name": "stdout",
     "output_type": "stream",
     "text": [
      "\n",
      "Returning --- 396 friends for VisitDecaturIL\n",
      "Returning --- 34 friends for zeasteducation\n",
      "Returning --- 209 friends for BlazingUzma\n",
      "Returning --- 15 friends for jamesshi93\n",
      "Returning --- 133 friends for poljoco\n",
      "Returning --- 32 friends for dsogani\n",
      "Returning --- 29 friends for RayTrygstad\n",
      "Returning --- 946 friends for Stamped_Chicago\n",
      "Returning --- 1 friends for HARI1008\n",
      "Returning --- 68 friends for Mingchatleiba1\n",
      "Returning --- 23 friends for Shivamkumarjai8\n",
      "Returning --- 31 friends for AikramMaradny\n",
      "Returning --- 1308 friends for xq8x2012\n",
      "Returning --- 24 friends for zhangnansdu\n",
      "Returning --- 458 friends for architects1"
     ]
    },
    {
     "name": "stderr",
     "output_type": "stream",
     "text": [
      "Got error: {\"errors\":[{\"message\":\"Rate limit exceeded\",\"code\":88}]} \n",
      "sleeping for 15 minutes.\n"
     ]
    },
    {
     "name": "stdout",
     "output_type": "stream",
     "text": [
      "\n",
      "Returning --- 60 friends for jaijochalissery\n",
      "Returning --- 567 friends for DeniseDOlson\n",
      "Returning --- 872 friends for ChiChefLee\n",
      "Returning --- 16 friends for miitsa\n",
      "Returning --- 12 friends for weishoujun\n",
      "Returning --- 176 friends for gabrifneves\n",
      "Returning --- 539 friends for KymAbramsDesign\n",
      "Returning --- 1603 friends for PopsikleShop\n",
      "Returning --- 34 friends for IITSOAR_Zofie\n",
      "Returning --- 179 friends for Tko1979\n",
      "Returning --- 2011 friends for PegKeiner\n",
      "Returning --- 144 friends for pranayraj09\n",
      "Returning --- 206 friends for icsCaroline"
     ]
    },
    {
     "name": "stderr",
     "output_type": "stream",
     "text": [
      "Got error: {\"errors\":[{\"message\":\"Rate limit exceeded\",\"code\":88}]} \n",
      "sleeping for 15 minutes.\n"
     ]
    },
    {
     "name": "stdout",
     "output_type": "stream",
     "text": [
      "\n",
      "Returning --- 89 friends for IIT_HUM\n",
      "Returning --- 990 friends for orblivion\n",
      "Returning --- 41 friends for CampaignFor100\n",
      "Returning --- 8 friends for southmetroed\n",
      "Returning --- 1861 friends for JobsAtSteelcase\n",
      "Returning --- 48 friends for IITSOARZhenhuan\n",
      "Returning --- 1181 friends for punit19nov932\n",
      "Returning --- 395 friends for KashyapAsutosh\n",
      "Returning --- 9 friends for Jain799Sk\n",
      "Returning --- 311 friends for UniversalApp\n",
      "Returning --- 87 friends for tmaverickcs\n",
      "Returning --- 36 friends for tomsonlee0213\n",
      "Returning --- 100 friends for harimangalp\n",
      "Returning --- 1742 friends for SukkiHong"
     ]
    },
    {
     "name": "stderr",
     "output_type": "stream",
     "text": [
      "Got error: {\"errors\":[{\"message\":\"Rate limit exceeded\",\"code\":88}]} \n",
      "sleeping for 15 minutes.\n"
     ]
    },
    {
     "name": "stdout",
     "output_type": "stream",
     "text": [
      "\n",
      "Returning --- 631 friends for eCellfellas\n",
      "Returning --- 171 friends for sachiReddy\n",
      "Returning --- 144 friends for Bee_Rifai\n",
      "Returning --- 309 friends for niravpmalsattar\n",
      "Returning --- 445 friends for AltamanuInc\n",
      "Returning --- 1330 friends for hemant1456\n",
      "Returning --- 238 friends for stefaniasini\n",
      "Returning --- 55 friends for whatnonsense2\n",
      "Returning --- 37 friends for Praneshj\n",
      "Returning --- 85 friends for engiinerd\n",
      "Returning --- 490 friends for hoffman4IL\n",
      "Returning --- 1191 friends for KateBaran84\n",
      "Returning --- 193 friends for agodika\n",
      "Returning --- 1861 friends for jonnyd68\n",
      "Returning --- 1993 friends for ELMANO2121"
     ]
    },
    {
     "name": "stderr",
     "output_type": "stream",
     "text": [
      "Got error: {\"errors\":[{\"message\":\"Rate limit exceeded\",\"code\":88}]} \n",
      "sleeping for 15 minutes.\n"
     ]
    },
    {
     "name": "stdout",
     "output_type": "stream",
     "text": [
      "\n",
      "Returning --- 17 friends for Bruce_Wieland\n",
      "Returning --- 42 friends for dirk2823\n",
      "Returning --- 2464 friends for tullman\n",
      "Returning --- 1281 friends for gauravcreative\n",
      "Returning --- 405 friends for apdarshi\n",
      "Returning --- 435 friends for josh_t_beck\n",
      "Returning --- 29 friends for RicMutum\n",
      "Returning --- 390 friends for Brandon_Linder\n",
      "Returning --- 652 friends for StayVndrTheTide\n",
      "Returning --- 37 friends for rmbloom10\n",
      "Returning --- 149 friends for cschnie\n",
      "Returning --- 95 friends for EnergyIL\n",
      "Returning --- 161 friends for ernagevondyan"
     ]
    },
    {
     "name": "stderr",
     "output_type": "stream",
     "text": [
      "Got error: {\"errors\":[{\"message\":\"Rate limit exceeded\",\"code\":88}]} \n",
      "sleeping for 15 minutes.\n"
     ]
    },
    {
     "name": "stdout",
     "output_type": "stream",
     "text": [
      "\n",
      "Returning --- 22 friends for sgogulam\n",
      "Returning --- 201 friends for Naumaaaaan\n",
      "Returning --- 719 friends for ArmyChicagoXO\n",
      "Returning --- 9 friends for KiranNanjaiah\n",
      "Returning --- 111 friends for MagnanimouSatan\n",
      "Returning --- 21 friends for MenglinC\n",
      "Returning --- 161 friends for farazmalik2009\n",
      "Collected 5000 friends for ccrealty2\n",
      "Collected 5000 friends for ccrealty2\n",
      "Collected 5000 friends for ccrealty2\n",
      "Collected 5000 friends for ccrealty2\n",
      "Collected 5000 friends for ccrealty2\n",
      "Collected 5000 friends for ccrealty2\n",
      "Collected 5000 friends for ccrealty2\n",
      "Collected 5000 friends for ccrealty2"
     ]
    },
    {
     "name": "stderr",
     "output_type": "stream",
     "text": [
      "Got error: {\"errors\":[{\"message\":\"Rate limit exceeded\",\"code\":88}]} \n",
      "sleeping for 15 minutes.\n"
     ]
    },
    {
     "name": "stdout",
     "output_type": "stream",
     "text": [
      "\n",
      "Collected 5000 friends for ccrealty2\n",
      "Collected 5000 friends for ccrealty2\n",
      "Collected 5000 friends for ccrealty2\n",
      "Collected 5000 friends for ccrealty2\n",
      "Collected 5000 friends for ccrealty2\n",
      "Collected 5000 friends for ccrealty2\n",
      "Collected 5000 friends for ccrealty2\n",
      "Collected 5000 friends for ccrealty2\n",
      "Collected 5000 friends for ccrealty2\n",
      "Collected 5000 friends for ccrealty2\n",
      "Collected 5000 friends for ccrealty2\n",
      "Collected 5000 friends for ccrealty2\n",
      "Collected 5000 friends for ccrealty2\n",
      "Collected 5000 friends for ccrealty2\n",
      "Collected 5000 friends for ccrealty2"
     ]
    },
    {
     "name": "stderr",
     "output_type": "stream",
     "text": [
      "Got error: {\"errors\":[{\"message\":\"Rate limit exceeded\",\"code\":88}]} \n",
      "sleeping for 15 minutes.\n"
     ]
    },
    {
     "name": "stdout",
     "output_type": "stream",
     "text": [
      "\n",
      "Collected 5000 friends for ccrealty2\n",
      "Collected 5000 friends for ccrealty2\n",
      "Collected 5000 friends for ccrealty2\n",
      "Returning --- 1319 friends for ccrealty2\n",
      "Returning --- 12 friends for GangplankGame\n",
      "Returning --- 1789 friends for AACTE\n",
      "Returning --- 139 friends for ShaanAshfak\n",
      "Returning --- 116 friends for NVHSAlumni\n",
      "Returning --- 257 friends for Saleh_Yousef\n",
      "Returning --- 1097 friends for sarathsona\n",
      "Returning --- 164 friends for S____S________\n",
      "Returning --- 706 friends for ChicagoImages\n",
      "Returning --- 481 friends for asaramnaveen\n",
      "Returning --- 13 friends for iitdtd\n",
      "Returning --- 1028 friends for ktpapa"
     ]
    },
    {
     "name": "stderr",
     "output_type": "stream",
     "text": [
      "Got error: {\"errors\":[{\"message\":\"Rate limit exceeded\",\"code\":88}]} \n",
      "sleeping for 15 minutes.\n"
     ]
    },
    {
     "name": "stdout",
     "output_type": "stream",
     "text": [
      "\n",
      "Returning --- 439 friends for 19febRituraj\n",
      "Returning --- 477 friends for Romit9\n",
      "Returning --- 815 friends for NRGCONNECTION\n",
      "Returning --- 146 friends for chicagochica\n",
      "Returning --- 29 friends for mohitkumardohar\n",
      "Returning --- 355 friends for UICscience\n",
      "Returning --- 256 friends for nithinaliastin2\n",
      "Returning --- 44 friends for crackiitjee\n",
      "Returning --- 16 friends for karthikeya1998\n",
      "Returning --- 127 friends for IllinoisTechRSF\n",
      "Collected 5000 friends for TEDxWindyCity\n",
      "Returning --- 994 friends for TEDxWindyCity\n",
      "Returning --- 16 friends for garypark20"
     ]
    },
    {
     "name": "stderr",
     "output_type": "stream",
     "text": [
      "Got error: {\"errors\":[{\"message\":\"Rate limit exceeded\",\"code\":88}]} \n",
      "sleeping for 15 minutes.\n"
     ]
    },
    {
     "name": "stdout",
     "output_type": "stream",
     "text": [
      "\n",
      "Returning --- 894 friends for TheClockNewsBIZ\n",
      "Returning --- 72 friends for parinita575\n",
      "Returning --- 86 friends for shanki2k8\n",
      "Returning --- 27 friends for kmarie2013\n",
      "Returning --- 281 friends for michaelslore\n",
      "Returning --- 109 friends for StretchPatzelt\n",
      "Returning --- 70 friends for blossomkota\n",
      "Collected 5000 friends for HajjFlemings\n",
      "Collected 5000 friends for HajjFlemings\n",
      "Returning --- 2122 friends for HajjFlemings\n",
      "Returning --- 907 friends for LeeyaJL\n",
      "Returning --- 1820 friends for HopThePond\n",
      "Returning --- 81 friends for alavivi\n",
      "Returning --- 151 friends for UNAMChicago"
     ]
    },
    {
     "name": "stderr",
     "output_type": "stream",
     "text": [
      "Got error: {\"errors\":[{\"message\":\"Rate limit exceeded\",\"code\":88}]} \n",
      "sleeping for 15 minutes.\n"
     ]
    },
    {
     "name": "stdout",
     "output_type": "stream",
     "text": [
      "\n",
      "Returning --- 25 friends for mathscience235\n",
      "Returning --- 129 friends for RichardMcGuire\n",
      "Returning --- 373 friends for RUBaseball2\n",
      "Returning --- 1886 friends for rupamdas1992\n",
      "Returning --- 1814 friends for CrimeAlertApp\n",
      "Returning --- 119 friends for vallikishore\n",
      "Returning --- 392 friends for neetip\n",
      "Returning --- 47 friends for tforlini\n",
      "Returning --- 449 friends for ramuias001\n",
      "Returning --- 202 friends for AirDiffusion\n",
      "Returning --- 1518 friends for foresightdesign"
     ]
    },
    {
     "name": "stderr",
     "output_type": "stream",
     "text": [
      "Got error: {\"errors\":[{\"message\":\"Rate limit exceeded\",\"code\":88}]} \n",
      "sleeping for 15 minutes.\n"
     ]
    },
    {
     "name": "stdout",
     "output_type": "stream",
     "text": [
      "\n",
      "Returning --- 106 friends for chaitany554\n",
      "Returning --- 801 friends for Tom_QuestCC\n",
      "Returning --- 63 friends for iitian_p\n",
      "Returning --- 112 friends for PilarbrunoR\n",
      "Returning --- 1131 friends for soldatovat\n",
      "Returning --- 1889 friends for compiledwrong\n",
      "Returning --- 153 friends for JusoorSY\n",
      "Returning --- 2147 friends for C_Ness_\n",
      "Returning --- 301 friends for indian_kul\n",
      "Returning --- 871 friends for LoyolaChicago\n",
      "Returning --- 91 friends for cloudiit\n",
      "Returning --- 666 friends for theonly_libra10\n",
      "Returning --- 132 friends for TechnoSUM"
     ]
    },
    {
     "name": "stderr",
     "output_type": "stream",
     "text": [
      "Got error: {\"errors\":[{\"message\":\"Rate limit exceeded\",\"code\":88}]} \n",
      "sleeping for 15 minutes.\n"
     ]
    },
    {
     "name": "stdout",
     "output_type": "stream",
     "text": [
      "\n",
      "Returning --- 1978 friends for rickfazio\n",
      "Returning --- 823 friends for dl_magazine\n",
      "Returning --- 855 friends for PARCCPlace\n",
      "Returning --- 965 friends for banoonoo\n",
      "Returning --- 1470 friends for SustainableTall\n",
      "Returning --- 103 friends for FFaaAn\n",
      "Returning --- 572 friends for pavelkukula\n",
      "Returning --- 615 friends for rajeevyadav892\n",
      "Returning --- 654 friends for NrGizeSmoothies\n",
      "Returning --- 1968 friends for LegitApps\n",
      "Returning --- 591 friends for lidosh8\n",
      "Returning --- 134 friends for xrvbcn\n",
      "Returning --- 857 friends for howstheliving"
     ]
    },
    {
     "name": "stderr",
     "output_type": "stream",
     "text": [
      "Got error: {\"errors\":[{\"message\":\"Rate limit exceeded\",\"code\":88}]} \n",
      "sleeping for 15 minutes.\n"
     ]
    },
    {
     "name": "stdout",
     "output_type": "stream",
     "text": [
      "\n",
      "Returning --- 1780 friends for abbyraskin\n",
      "Returning --- 103 friends for MathWeekly\n",
      "Returning --- 1557 friends for Justdecide\n",
      "Returning --- 57 friends for SLROnlineDegree\n",
      "Returning --- 51 friends for NiloOoB\n",
      "Returning --- 111 friends for javenzing\n",
      "Returning --- 273 friends for SWHPN\n",
      "Returning --- 33 friends for AbhayJhouta\n",
      "Returning --- 700 friends for Traci_Flowers\n",
      "Returning --- 42 friends for NFA_Careers\n",
      "Returning --- 292 friends for VanessaAntar\n",
      "Returning --- 69 friends for Kush_Herur\n",
      "Collected 5000 friends for StartupAcctngAd"
     ]
    },
    {
     "name": "stderr",
     "output_type": "stream",
     "text": [
      "Got error: {\"errors\":[{\"message\":\"Rate limit exceeded\",\"code\":88}]} \n",
      "sleeping for 15 minutes.\n"
     ]
    },
    {
     "name": "stdout",
     "output_type": "stream",
     "text": [
      "\n",
      "Returning --- 3392 friends for StartupAcctngAd\n",
      "Returning --- 102 friends for avgeek789\n",
      "Returning --- 63 friends for chetank456\n",
      "Returning --- 20 friends for coolsiddarth93\n",
      "Returning --- 517 friends for ILCharters\n",
      "Returning --- 73 friends for sanni_02\n",
      "Returning --- 348 friends for DupeI\n",
      "Returning --- 2483 friends for JeanneWhalen\n",
      "Returning --- 96 friends for souviksvkpal\n",
      "Returning --- 1587 friends for Chi_Innovation\n",
      "Returning --- 121 friends for erpscholar\n",
      "Returning --- 18 friends for toreip\n",
      "Returning --- 1541 friends for 8himanshu8\n",
      "Returning --- 1819 friends for AyalaNaphtali"
     ]
    },
    {
     "name": "stderr",
     "output_type": "stream",
     "text": [
      "Got error: {\"errors\":[{\"message\":\"Rate limit exceeded\",\"code\":88}]} \n",
      "sleeping for 15 minutes.\n"
     ]
    },
    {
     "name": "stdout",
     "output_type": "stream",
     "text": [
      "\n",
      "Returning --- 100 friends for Tj_Dr\n",
      "Returning --- 20 friends for TahaKhademi\n",
      "Returning --- 51 friends for LuciusFEver\n",
      "Returning --- 69 friends for fanzexiang224\n",
      "Returning --- 80 friends for shahidashraf74\n",
      "Returning --- 10 friends for EjessieE\n",
      "Returning --- 115 friends for monterrey2232\n",
      "Returning --- 526 friends for GeorgiouPaul\n",
      "Returning --- 305 friends for ish_trendsetter\n",
      "Returning --- 1359 friends for sahicorn\n",
      "Collected 5000 friends for ecomagination\n",
      "Collected 5000 friends for ecomagination\n",
      "Collected 5000 friends for ecomagination\n",
      "Collected 5000 friends for ecomagination"
     ]
    },
    {
     "name": "stderr",
     "output_type": "stream",
     "text": [
      "Got error: {\"errors\":[{\"message\":\"Rate limit exceeded\",\"code\":88}]} \n",
      "sleeping for 15 minutes.\n"
     ]
    },
    {
     "name": "stdout",
     "output_type": "stream",
     "text": [
      "\n",
      "Collected 5000 friends for ecomagination\n",
      "Collected 5000 friends for ecomagination\n",
      "Collected 5000 friends for ecomagination\n",
      "Returning --- 2437 friends for ecomagination\n",
      "Returning --- 554 friends for General_Ed\n",
      "Returning --- 273 friends for auslctr\n",
      "Returning --- 24 friends for SanfordWolgel\n",
      "Returning --- 340 friends for Erik_Schuessler\n",
      "Returning --- 1568 friends for BryanJField\n",
      "Returning --- 319 friends for IADTschools\n",
      "Returning --- 33 friends for Haykey_Chicago\n",
      "Returning --- 800 friends for cyriltrosset\n",
      "Returning --- 9 friends for AumShrivastava\n",
      "Returning --- 1739 friends for eKnowID\n",
      "Returning --- 389 friends for FondazioneTLS"
     ]
    },
    {
     "name": "stderr",
     "output_type": "stream",
     "text": [
      "Got error: {\"errors\":[{\"message\":\"Rate limit exceeded\",\"code\":88}]} \n",
      "sleeping for 15 minutes.\n"
     ]
    },
    {
     "name": "stdout",
     "output_type": "stream",
     "text": [
      "\n",
      "Returning --- 54 friends for patilyogesh17\n",
      "Returning --- 1393 friends for gehuofficial\n",
      "Returning --- 143 friends for ErSachinTiwari1\n",
      "Returning --- 446 friends for I_am_piyush7\n",
      "Returning --- 321 friends for ICOlibrary\n",
      "Returning --- 1061 friends for WhitlockArch\n",
      "Returning --- 77 friends for IssacDaimari\n",
      "Returning --- 1937 friends for peestuck\n",
      "Returning --- 635 friends for dorian_escplan\n",
      "Returning --- 73 friends for gtechstaffing\n",
      "Returning --- 7 friends for DengTingchang\n",
      "Returning --- 1940 friends for JennyGooz\n",
      "Returning --- 1661 friends for kulsumsiddiqi\n",
      "Returning --- 21 friends for akshaymeshram1"
     ]
    },
    {
     "name": "stderr",
     "output_type": "stream",
     "text": [
      "Got error: {\"errors\":[{\"message\":\"Rate limit exceeded\",\"code\":88}]} \n",
      "sleeping for 15 minutes.\n"
     ]
    },
    {
     "name": "stdout",
     "output_type": "stream",
     "text": [
      "\n",
      "Returning --- 22 friends for fancherart\n",
      "Returning --- 113 friends for vrupesh1\n",
      "Returning --- 136 friends for mariai9898\n",
      "Returning --- 358 friends for udharani31\n",
      "Returning --- 198 friends for alpharomio96\n",
      "Returning --- 650 friends for OldJewsOnStage\n",
      "Returning --- 168 friends for braddatz37\n",
      "Returning --- 18 friends for ltinysheep\n",
      "Returning --- 21 friends for IITMLA\n",
      "Returning --- 196 friends for inveneo\n",
      "Returning --- 290 friends for kwaterlooart\n",
      "Returning --- 106 friends for DesignPlaceNews\n",
      "Returning --- 299 friends for NeelDShah\n",
      "Returning --- 3 friends for iit"
     ]
    },
    {
     "name": "stderr",
     "output_type": "stream",
     "text": [
      "Got error: {\"errors\":[{\"message\":\"Rate limit exceeded\",\"code\":88}]} \n",
      "sleeping for 15 minutes.\n"
     ]
    },
    {
     "name": "stdout",
     "output_type": "stream",
     "text": [
      "\n",
      "Returning --- 1056 friends for shailshah007\n",
      "Returning --- 1623 friends for ClemsonCoEngSci\n",
      "Returning --- 227 friends for gsmithlive\n",
      "Returning --- 1476 friends for niktarbiz\n",
      "Returning --- 144 friends for JeffInHat\n",
      "Returning --- 657 friends for Jorgibnz\n",
      "Returning --- 15 friends for MCHUEXZ\n",
      "Returning --- 2004 friends for billslater\n",
      "Returning --- 3218 friends for hautesausage\n",
      "Returning --- 1171 friends for ZCollegeLife\n",
      "Returning --- 3479 friends for ClarksonUniv\n",
      "Returning --- 2005 friends for GoodlePlex\n",
      "Returning --- 159 friends for KULABHAY\n",
      "Returning --- 3681 friends for CityYear"
     ]
    },
    {
     "name": "stderr",
     "output_type": "stream",
     "text": [
      "Got error: {\"errors\":[{\"message\":\"Rate limit exceeded\",\"code\":88}]} \n",
      "sleeping for 15 minutes.\n"
     ]
    },
    {
     "name": "stdout",
     "output_type": "stream",
     "text": [
      "\n",
      "Returning --- 67 friends for jasskiratsidhu\n",
      "Returning --- 416 friends for hotchiliesevent\n",
      "Returning --- 948 friends for glasshalfFULTON\n",
      "Returning --- 119 friends for heounsuk\n",
      "Returning --- 1522 friends for bohua913\n",
      "Returning --- 328 friends for GalvinLibrary\n",
      "Returning --- 253 friends for HDPartners\n",
      "Returning --- 19 friends for tabishanand\n",
      "Returning --- 14 friends for kwrightPhD\n",
      "Returning --- 1987 friends for Thorntonsinc\n",
      "Returning --- 49 friends for bharathelango1\n",
      "Returning --- 1331 friends for WESAdvisor"
     ]
    },
    {
     "name": "stderr",
     "output_type": "stream",
     "text": [
      "Got error: {\"errors\":[{\"message\":\"Rate limit exceeded\",\"code\":88}]} \n",
      "sleeping for 15 minutes.\n"
     ]
    },
    {
     "name": "stdout",
     "output_type": "stream",
     "text": [
      "\n",
      "Returning --- 3013 friends for followkurt\n",
      "Returning --- 2116 friends for INXPO\n",
      "Returning --- 132 friends for b_garber72\n",
      "Returning --- 1886 friends for JJsList\n",
      "Returning --- 71 friends for pkaynunoo\n",
      "Returning --- 168 friends for nekkanti_teja\n",
      "Returning --- 30 friends for Munish_honey\n",
      "Returning --- 2009 friends for DylanAMinard\n",
      "Returning --- 387 friends for daniyakamran\n",
      "Returning --- 62 friends for SerenaMYL\n",
      "Returning --- 18 friends for CharlieJia\n",
      "Returning --- 89 friends for SioLupine\n",
      "Returning --- 1558 friends for ScienceChicago\n",
      "Returning --- 1644 friends for ZishanAhmad"
     ]
    },
    {
     "name": "stderr",
     "output_type": "stream",
     "text": [
      "Got error: {\"errors\":[{\"message\":\"Rate limit exceeded\",\"code\":88}]} \n",
      "sleeping for 15 minutes.\n"
     ]
    },
    {
     "name": "stdout",
     "output_type": "stream",
     "text": [
      "\n",
      "Returning --- 29 friends for mohamaddehnee\n",
      "Returning --- 18 friends for alan139126\n",
      "Returning --- 240 friends for ArianaCydney\n",
      "Returning --- 901 friends for mingtaol\n",
      "Returning --- 27 friends for chunhui_iit\n",
      "Returning --- 238 friends for Truth_privails\n",
      "Returning --- 74 friends for Wonmin3\n",
      "Returning --- 53 friends for kapilDwaghmare\n",
      "Returning --- 1248 friends for IPBlawg\n",
      "Returning --- 339 friends for hudmol\n",
      "Returning --- 1125 friends for bthurman4\n",
      "Returning --- 1336 friends for gokulraj113432\n",
      "Returning --- 454 friends for ConcordG\n",
      "Returning --- 129 friends for rasbel11\n",
      "Returning --- 85 friends for EyoelAsfaw"
     ]
    },
    {
     "name": "stderr",
     "output_type": "stream",
     "text": [
      "Got error: {\"errors\":[{\"message\":\"Rate limit exceeded\",\"code\":88}]} \n",
      "sleeping for 15 minutes.\n"
     ]
    },
    {
     "name": "stdout",
     "output_type": "stream",
     "text": [
      "\n",
      "Returning --- 274 friends for itbyjacc\n",
      "Returning --- 1899 friends for GetGarveys\n",
      "Returning --- 215 friends for NewEraAcademy1\n",
      "Returning --- 126 friends for IITSocSciences\n",
      "Returning --- 1609 friends for hishowintlltd\n",
      "Returning --- 1993 friends for vikashk13837146\n",
      "Returning --- 1910 friends for Turnitinadm\n",
      "Returning --- 1448 friends for OptionsCity\n",
      "Returning --- 699 friends for LabBharadwaj\n",
      "Returning --- 65 friends for HughesIIT\n",
      "Returning --- 238 friends for ROKcareers\n",
      "Returning --- 53 friends for cool_arin96\n",
      "Returning --- 396 friends for careerprepare"
     ]
    },
    {
     "name": "stderr",
     "output_type": "stream",
     "text": [
      "Got error: {\"errors\":[{\"message\":\"Rate limit exceeded\",\"code\":88}]} \n",
      "sleeping for 15 minutes.\n"
     ]
    },
    {
     "name": "stdout",
     "output_type": "stream",
     "text": [
      "\n",
      "Returning --- 173 friends for qiaokan\n",
      "Returning --- 64 friends for mytoptentutor\n",
      "Returning --- 428 friends for Neuendanker\n",
      "Returning --- 651 friends for IITStuart\n",
      "Returning --- 33 friends for sumitjh52350701\n",
      "Returning --- 66 friends for gpdoyle\n",
      "Returning --- 930 friends for jeniatwell\n",
      "Returning --- 53 friends for GoisJesse\n",
      "Returning --- 36 friends for ShadabFrnds\n",
      "Returning --- 636 friends for sekhar_1234\n",
      "Returning --- 69 friends for TimothyLalowski\n",
      "Returning --- 13 friends for K_uda001\n",
      "Returning --- 6 friends for GenesisClasses"
     ]
    },
    {
     "name": "stderr",
     "output_type": "stream",
     "text": [
      "Got error: {\"errors\":[{\"message\":\"Rate limit exceeded\",\"code\":88}]} \n",
      "sleeping for 15 minutes.\n"
     ]
    },
    {
     "name": "stdout",
     "output_type": "stream",
     "text": [
      "\n",
      "Returning --- 140 friends for geomborgiapace4\n",
      "Returning --- 77 friends for yk9_kr\n",
      "Returning --- 37 friends for Aviharsh186\n",
      "Returning --- 557 friends for Matt34Bears\n",
      "Returning --- 17 friends for Altair0319\n",
      "Returning --- 118 friends for saulpardo\n",
      "Returning --- 266 friends for MTwiko\n",
      "Returning --- 302 friends for jakewhitlatch\n",
      "Returning --- 25 friends for huwit_lynn\n",
      "Returning --- 40 friends for Vaibhav_Chou\n",
      "Returning --- 1059 friends for OrigamiCapital\n",
      "Returning --- 41 friends for yvedpathak\n",
      "Returning --- 19 friends for dannyy1291"
     ]
    },
    {
     "name": "stderr",
     "output_type": "stream",
     "text": [
      "Got error: {\"errors\":[{\"message\":\"Rate limit exceeded\",\"code\":88}]} \n",
      "sleeping for 15 minutes.\n"
     ]
    },
    {
     "name": "stdout",
     "output_type": "stream",
     "text": [
      "\n",
      "Returning --- 127 friends for oOerooo\n",
      "Returning --- 74 friends for PGaddewar\n",
      "Returning --- 9 friends for partysnow\n",
      "Returning --- 160 friends for TechEase2012\n",
      "Returning --- 562 friends for shobhit_96\n",
      "Returning --- 65 friends for RexGyu\n",
      "Returning --- 123 friends for raghuvemuri\n",
      "Returning --- 91 friends for chicagocodecamp\n",
      "Returning --- 25 friends for ChaitanyaCampus\n",
      "Returning --- 132 friends for IIT_DS\n",
      "Returning --- 27 friends for Alex_lilloco\n",
      "Returning --- 531 friends for marketEnomics"
     ]
    },
    {
     "name": "stderr",
     "output_type": "stream",
     "text": [
      "Got error: {\"errors\":[{\"message\":\"Rate limit exceeded\",\"code\":88}]} \n",
      "sleeping for 15 minutes.\n"
     ]
    },
    {
     "name": "stdout",
     "output_type": "stream",
     "text": [
      "\n",
      "Returning --- 1919 friends for BarnRaiseID\n",
      "Returning --- 221 friends for HarshKeepers\n",
      "Returning --- 37 friends for Doctorzeng\n",
      "Returning --- 333 friends for lisagandy_ai\n",
      "Returning --- 69 friends for ExecAssist1029\n",
      "Returning --- 381 friends for SPSCC_ISS\n",
      "Returning --- 1928 friends for Nipun_Insa\n",
      "Returning --- 182 friends for NumberNile12\n",
      "Returning --- 987 friends for brcusa\n",
      "Returning --- 10 friends for shimerhomepage\n",
      "Returning --- 867 friends for W2College\n",
      "Returning --- 2058 friends for ISTCoalition\n",
      "Returning --- 931 friends for GuillerArroyo\n",
      "Returning --- 288 friends for VishwanathViraj"
     ]
    },
    {
     "name": "stderr",
     "output_type": "stream",
     "text": [
      "Got error: {\"errors\":[{\"message\":\"Rate limit exceeded\",\"code\":88}]} \n",
      "sleeping for 15 minutes.\n"
     ]
    },
    {
     "name": "stdout",
     "output_type": "stream",
     "text": [
      "\n",
      "Returning --- 2020 friends for proton243\n",
      "Returning --- 119 friends for akgtweetzz\n",
      "Returning --- 157 friends for venky_efarm\n",
      "Collected 5000 friends for shopswindows\n",
      "Collected 5000 friends for shopswindows\n",
      "Collected 5000 friends for shopswindows\n",
      "Collected 5000 friends for shopswindows\n",
      "Returning --- 2535 friends for shopswindows\n",
      "Returning --- 689 friends for viteduin\n",
      "Returning --- 84 friends for SuzanneRRees\n",
      "Returning --- 4719 friends for BiafranActivist\n",
      "Returning --- 1 friends for cindrella4u31\n",
      "Returning --- 164 friends for davidbakerchi\n",
      "Returning --- 643 friends for collegemoney\n",
      "Returning --- 173 friends for AmeliaMarple"
     ]
    },
    {
     "name": "stderr",
     "output_type": "stream",
     "text": [
      "Got error: {\"errors\":[{\"message\":\"Rate limit exceeded\",\"code\":88}]} \n",
      "sleeping for 15 minutes.\n"
     ]
    },
    {
     "name": "stdout",
     "output_type": "stream",
     "text": [
      "\n",
      "Returning --- 14 friends for JMahabaleshwar\n",
      "Returning --- 1144 friends for RedEandD\n",
      "Returning --- 850 friends for Bruiser4Eq\n",
      "Returning --- 9 friends for KangmiaoSu\n",
      "Returning --- 93 friends for Gabriellerz125\n",
      "Returning --- 77 friends for _sparkliness_\n",
      "Returning --- 125 friends for karpilo\n",
      "Returning --- 1921 friends for Hidelocktake\n",
      "Returning --- 12 friends for KempHo2\n",
      "Returning --- 39 friends for jefferson_west\n",
      "Returning --- 136 friends for tsantitanosoy\n",
      "Returning --- 294 friends for UChicagoLocal\n",
      "Returning --- 2054 friends for edukista\n",
      "Returning --- 661 friends for Jim_Hensel"
     ]
    },
    {
     "name": "stderr",
     "output_type": "stream",
     "text": [
      "Got error: {\"errors\":[{\"message\":\"Rate limit exceeded\",\"code\":88}]} \n",
      "sleeping for 15 minutes.\n"
     ]
    },
    {
     "name": "stdout",
     "output_type": "stream",
     "text": [
      "\n",
      "Collected 5000 friends for bernardmoon\n",
      "Collected 5000 friends for bernardmoon\n",
      "Returning --- 3396 friends for bernardmoon\n",
      "Returning --- 1141 friends for Retail_Careers\n",
      "Returning --- 120 friends for jasduke_\n",
      "Returning --- 9 friends for byumilove\n",
      "Returning --- 481 friends for HarrysFrozenD\n",
      "Returning --- 110 friends for DBEducation\n",
      "Returning --- 1212 friends for bhaggu\n",
      "Returning --- 19 friends for aaron1025xq\n",
      "Returning --- 270 friends for onkar_11\n",
      "Returning --- 1984 friends for CPExpo\n",
      "Returning --- 1157 friends for CRZZRS"
     ]
    },
    {
     "name": "stderr",
     "output_type": "stream",
     "text": [
      "Got error: {\"errors\":[{\"message\":\"Rate limit exceeded\",\"code\":88}]} \n",
      "sleeping for 15 minutes.\n"
     ]
    },
    {
     "name": "stdout",
     "output_type": "stream",
     "text": [
      "\n",
      "Returning --- 696 friends for pridkett\n",
      "Returning --- 13 friends for santhooravi\n",
      "Returning --- 41 friends for SeanZhang2012\n",
      "Returning --- 94 friends for nancyzhang2\n",
      "Returning --- 1997 friends for cybercrimemanua"
     ]
    },
    {
     "name": "stderr",
     "output_type": "stream",
     "text": [
      "WARNING:root:<class 'requests.exceptions.ReadTimeout'> HTTPSConnectionPool(host='api.twitter.com', port=443): Read timed out. (read timeout=5)\n"
     ]
    },
    {
     "name": "stdout",
     "output_type": "stream",
     "text": [
      "\n"
     ]
    },
    {
     "ename": "TwitterConnectionError",
     "evalue": "HTTPSConnectionPool(host='api.twitter.com', port=443): Read timed out. (read timeout=5)",
     "output_type": "error",
     "traceback": [
      "\u001b[1;31m---------------------------------------------------------------------------\u001b[0m",
      "\u001b[1;31mTwitterConnectionError\u001b[0m                    Traceback (most recent call last)",
      "\u001b[1;32m<ipython-input-15-dafc4a986350>\u001b[0m in \u001b[0;36m<module>\u001b[1;34m()\u001b[0m\n\u001b[1;32m----> 1\u001b[1;33m \u001b[0mget_friend_ids_and_pickle_object\u001b[0m\u001b[1;33m(\u001b[0m\u001b[0miit_followers_3\u001b[0m\u001b[1;33m,\u001b[0m\u001b[1;34m\"iit3\"\u001b[0m\u001b[1;33m)\u001b[0m\u001b[1;33m\u001b[0m\u001b[0m\n\u001b[0m",
      "\u001b[1;32m<ipython-input-13-4753535cc065>\u001b[0m in \u001b[0;36mget_friend_ids_and_pickle_object\u001b[1;34m(univ_followers, univ_name)\u001b[0m\n\u001b[0;32m     12\u001b[0m     \u001b[0mfriends_of_univ_followers\u001b[0m \u001b[1;33m=\u001b[0m \u001b[1;33m{\u001b[0m\u001b[1;33m}\u001b[0m\u001b[1;33m\u001b[0m\u001b[0m\n\u001b[0;32m     13\u001b[0m     \u001b[1;32mfor\u001b[0m \u001b[0mfollower\u001b[0m \u001b[1;32min\u001b[0m \u001b[0muniv_followers\u001b[0m\u001b[1;33m:\u001b[0m\u001b[1;33m\u001b[0m\u001b[0m\n\u001b[1;32m---> 14\u001b[1;33m         \u001b[0mfriends\u001b[0m \u001b[1;33m=\u001b[0m \u001b[0mget_friend_ids\u001b[0m\u001b[1;33m(\u001b[0m\u001b[0mfollower\u001b[0m\u001b[1;33m)\u001b[0m\u001b[1;33m\u001b[0m\u001b[0m\n\u001b[0m\u001b[0;32m     15\u001b[0m         \u001b[0mfriends_of_univ_followers\u001b[0m\u001b[1;33m[\u001b[0m\u001b[0mfollower\u001b[0m\u001b[1;33m]\u001b[0m \u001b[1;33m=\u001b[0m \u001b[0mfriends\u001b[0m\u001b[1;33m\u001b[0m\u001b[0m\n\u001b[0;32m     16\u001b[0m         \u001b[0mfileObject\u001b[0m \u001b[1;33m=\u001b[0m \u001b[0mopen\u001b[0m\u001b[1;33m(\u001b[0m\u001b[1;34m\"raw_data/friend_ids_of_\"\u001b[0m \u001b[1;33m+\u001b[0m \u001b[0muniv_name\u001b[0m \u001b[1;33m+\u001b[0m \u001b[1;34m\"_followers\"\u001b[0m\u001b[1;33m,\u001b[0m\u001b[1;34m'wb'\u001b[0m\u001b[1;33m)\u001b[0m\u001b[1;33m\u001b[0m\u001b[0m\n",
      "\u001b[1;32m<ipython-input-14-970bec8afa70>\u001b[0m in \u001b[0;36mget_friend_ids\u001b[1;34m(screen_name)\u001b[0m\n\u001b[0;32m     12\u001b[0m     \u001b[1;32mwhile\u001b[0m \u001b[0mTrue\u001b[0m\u001b[1;33m:\u001b[0m\u001b[1;33m\u001b[0m\u001b[0m\n\u001b[0;32m     13\u001b[0m         request = robust_request(twitter,'friends/ids', \n\u001b[1;32m---> 14\u001b[1;33m                                  {'screen_name': screen_name, 'count':5000, 'cursor': cursor})\n\u001b[0m\u001b[0;32m     15\u001b[0m \u001b[1;33m\u001b[0m\u001b[0m\n\u001b[0;32m     16\u001b[0m         \u001b[1;32mif\u001b[0m \u001b[0mrequest\u001b[0m \u001b[1;33m==\u001b[0m \u001b[0mNone\u001b[0m\u001b[1;33m:\u001b[0m\u001b[1;33m\u001b[0m\u001b[0m\n",
      "\u001b[1;32m<ipython-input-3-45e02672d17c>\u001b[0m in \u001b[0;36mrobust_request\u001b[1;34m(twitter, resource, params, max_tries)\u001b[0m\n\u001b[0;32m     11\u001b[0m     \"\"\"\n\u001b[0;32m     12\u001b[0m     \u001b[1;32mfor\u001b[0m \u001b[0mi\u001b[0m \u001b[1;32min\u001b[0m \u001b[0mrange\u001b[0m\u001b[1;33m(\u001b[0m\u001b[0mmax_tries\u001b[0m\u001b[1;33m)\u001b[0m\u001b[1;33m:\u001b[0m\u001b[1;33m\u001b[0m\u001b[0m\n\u001b[1;32m---> 13\u001b[1;33m         \u001b[0mrequest\u001b[0m \u001b[1;33m=\u001b[0m \u001b[0mtwitter\u001b[0m\u001b[1;33m.\u001b[0m\u001b[0mrequest\u001b[0m\u001b[1;33m(\u001b[0m\u001b[0mresource\u001b[0m\u001b[1;33m,\u001b[0m \u001b[0mparams\u001b[0m\u001b[1;33m)\u001b[0m\u001b[1;33m\u001b[0m\u001b[0m\n\u001b[0m\u001b[0;32m     14\u001b[0m         \u001b[1;32mif\u001b[0m \u001b[0mrequest\u001b[0m\u001b[1;33m.\u001b[0m\u001b[0mstatus_code\u001b[0m \u001b[1;33m==\u001b[0m \u001b[1;36m200\u001b[0m\u001b[1;33m:\u001b[0m\u001b[1;33m\u001b[0m\u001b[0m\n\u001b[0;32m     15\u001b[0m             \u001b[1;32mreturn\u001b[0m \u001b[0mrequest\u001b[0m\u001b[1;33m\u001b[0m\u001b[0m\n",
      "\u001b[1;32mC:\\Anaconda\\lib\\site-packages\\TwitterAPI\\TwitterAPI.pyc\u001b[0m in \u001b[0;36mrequest\u001b[1;34m(self, resource, params, files)\u001b[0m\n\u001b[0;32m    122\u001b[0m         except (ConnectionError, ProtocolError, ReadTimeout, ReadTimeoutError, \n\u001b[0;32m    123\u001b[0m                 SSLError, ssl.SSLError, socket.error) as e:\n\u001b[1;32m--> 124\u001b[1;33m             \u001b[1;32mraise\u001b[0m \u001b[0mTwitterConnectionError\u001b[0m\u001b[1;33m(\u001b[0m\u001b[0me\u001b[0m\u001b[1;33m)\u001b[0m\u001b[1;33m\u001b[0m\u001b[0m\n\u001b[0m\u001b[0;32m    125\u001b[0m         \u001b[1;32mreturn\u001b[0m \u001b[0mTwitterResponse\u001b[0m\u001b[1;33m(\u001b[0m\u001b[0mr\u001b[0m\u001b[1;33m,\u001b[0m \u001b[0msession\u001b[0m\u001b[1;33m.\u001b[0m\u001b[0mstream\u001b[0m\u001b[1;33m)\u001b[0m\u001b[1;33m\u001b[0m\u001b[0m\n\u001b[0;32m    126\u001b[0m \u001b[1;33m\u001b[0m\u001b[0m\n",
      "\u001b[1;31mTwitterConnectionError\u001b[0m: HTTPSConnectionPool(host='api.twitter.com', port=443): Read timed out. (read timeout=5)"
     ]
    }
   ],
   "source": [
    "get_friend_ids_and_pickle_object(iit_followers_3,\"iit3\")"
   ]
  },
  {
   "cell_type": "code",
   "execution_count": null,
   "metadata": {
    "collapsed": true
   },
   "outputs": [],
   "source": []
  }
 ],
 "metadata": {
  "kernelspec": {
   "display_name": "Python 2",
   "language": "python",
   "name": "python2"
  },
  "language_info": {
   "codemirror_mode": {
    "name": "ipython",
    "version": 2
   },
   "file_extension": ".py",
   "mimetype": "text/x-python",
   "name": "python",
   "nbconvert_exporter": "python",
   "pygments_lexer": "ipython2",
   "version": "2.7.10"
  }
 },
 "nbformat": 4,
 "nbformat_minor": 0
}
