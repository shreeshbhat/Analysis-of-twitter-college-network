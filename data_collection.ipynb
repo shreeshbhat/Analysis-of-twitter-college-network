{
 "cells": [
  {
   "cell_type": "code",
   "execution_count": 11,
   "metadata": {
    "collapsed": false
   },
   "outputs": [],
   "source": [
    "# Imports needed for this ipython file\n",
    "\n",
    "from collections import Counter\n",
    "import ConfigParser\n",
    "import matplotlib.pyplot as plt\n",
    "import networkx as nx\n",
    "import sys\n",
    "import time\n",
    "import pickle\n",
    "import os\n",
    "from TwitterAPI import TwitterAPI\n",
    "\n",
    "%matplotlib inline"
   ]
  },
  {
   "cell_type": "code",
   "execution_count": 2,
   "metadata": {
    "collapsed": false
   },
   "outputs": [
    {
     "name": "stdout",
     "output_type": "stream",
     "text": [
      "Established Twitter connection.\n"
     ]
    }
   ],
   "source": [
    "def get_twitter(config_file):\n",
    "    \"\"\" \n",
    "    Args:\n",
    "      config_file ... A config file in ConfigParser format with Twitter credentials\n",
    "    Returns:\n",
    "      An instance of TwitterAPI.\n",
    "    \"\"\"\n",
    "    config = ConfigParser.ConfigParser()\n",
    "    config.read(config_file)\n",
    "    twitter = TwitterAPI(\n",
    "                   config.get('twitter', 'consumer_key'),\n",
    "                   config.get('twitter', 'consumer_secret'),\n",
    "                   config.get('twitter', 'access_token'),\n",
    "                   config.get('twitter', 'access_token_secret'))\n",
    "    return twitter\n",
    "\n",
    "twitter = get_twitter('twitter.cfg')\n",
    "print('Established Twitter connection.')"
   ]
  },
  {
   "cell_type": "code",
   "execution_count": 3,
   "metadata": {
    "collapsed": true
   },
   "outputs": [],
   "source": [
    "def robust_request(twitter, resource, params, max_tries=2):\n",
    "    \"\"\" If a Twitter request fails, sleep for 15 minutes.\n",
    "    Do this at most max_tries times before quitting.\n",
    "    Args:\n",
    "      twitter .... A TwitterAPI object.\n",
    "      resource ... A resource string to request.\n",
    "      params ..... A parameter dictionary for the request.\n",
    "      max_tries .. The maximum number of tries to attempt.\n",
    "    Returns:\n",
    "      A TwitterResponse object, or None if failed.\n",
    "    \"\"\"\n",
    "    for i in range(max_tries):\n",
    "        try:\n",
    "            request = twitter.request(resource, params)\n",
    "        except:\n",
    "            twitter = get_twitter('twitter.cfg')\n",
    "            request = twitter.request(resource, params)\n",
    "        if request.status_code == 200:\n",
    "            return request\n",
    "        elif \"Not authorized\" in request.text:\n",
    "            return -1\n",
    "        elif \"page does not exist\" in request.text:\n",
    "            return -2\n",
    "        else:\n",
    "            print >> sys.stderr, 'Got error:', request.text, '\\nsleeping for 15 minutes.'\n",
    "            sys.stderr.flush()\n",
    "            time.sleep(61 * 15)"
   ]
  },
  {
   "cell_type": "code",
   "execution_count": 4,
   "metadata": {
    "collapsed": false
   },
   "outputs": [],
   "source": [
    "def get_followers(screen_name):\n",
    "    \"\"\" Return a dictionary of the users that follows this person on Twitter.\n",
    "    \n",
    "    Args:\n",
    "        screen_name: a string of a Twitter screen name\n",
    "    Returns:\n",
    "        A dictionary of dictionary, one per follower containing {index, user_info} pairs.\n",
    "    Note: Many users follow more than 200 accounts; we will return those accounts too.\n",
    "    \"\"\"\n",
    "    followers = {}\n",
    "    cursor = -1\n",
    "    key = 0\n",
    "    rate_limit = 1\n",
    "    while True:\n",
    "        if rate_limit == 15:\n",
    "            rate_limit = 1\n",
    "            print >> sys.stderr, 'Avoided rate_limit error: \\nsleeping for 15 minutes.'\n",
    "            time.sleep(61 * 15)\n",
    "        request = robust_request(twitter,'followers/list', \n",
    "                                 {'screen_name': screen_name, 'count':200, 'cursor': cursor})\n",
    "        json_response = request.json()\n",
    "        \n",
    "        # Get 200 followers from json_response\n",
    "        for follower in json_response['users']:\n",
    "                followers[follower['screen_name']] = follower\n",
    "                key = key + 1\n",
    "                \n",
    "        # If user has < 200 followers or to retrieve last 200 followers\n",
    "        if json_response[\"next_cursor\"] == 0:\n",
    "            break\n",
    "            \n",
    "        # Update cursor to get next 200 followers\n",
    "        cursor = json_response[\"next_cursor\"]\n",
    "        rate_limit = rate_limit + 1\n",
    "        print \"Collected %d followers\" % key\n",
    "    return followers"
   ]
  },
  {
   "cell_type": "code",
   "execution_count": 5,
   "metadata": {
    "collapsed": true
   },
   "outputs": [],
   "source": [
    "def get_followers_and_pickle_object(account_name):\n",
    "    \"\"\" Calls get_followers() to collect all followers of a Twitter account\n",
    "        and then saves it by pickling for future processing purposes.\n",
    "    \n",
    "    Args: A string representing the screen_name of a Twitter account,\n",
    "          whose followers we need.\n",
    "    Returns : A dictionary of { screen_name : user_info } pairs of followers,\n",
    "              where user_info is a dictionary object containing user information\n",
    "    \"\"\"\n",
    "    followers = get_followers(account_name)\n",
    "    fileObject = open(\"raw_data/\" + account_name,'wb')\n",
    "    pickle.dump(followers,fileObject)\n",
    "    fileObject.close()\n",
    "    return followers"
   ]
  },
  {
   "cell_type": "code",
   "execution_count": 25,
   "metadata": {
    "collapsed": true
   },
   "outputs": [],
   "source": [
    "def get_followers_from_pickle(account_name):\n",
    "    \"\"\" Returns all followers of a Twitter account by retrieving saved data,\n",
    "        using pickle method.\n",
    "    \n",
    "    Args: A string representing the screen_name of a Twitter account,\n",
    "          whose followers we need.\n",
    "    Returns : A dictionary of { screen_name : user_info } pairs of followers,\n",
    "              where user_info is a dictionary object containing user information\n",
    "    \"\"\"\n",
    "    fileObject = open(\"raw_data/\" + account_name,'r')\n",
    "    followers = pickle.load(fileObject)\n",
    "    fileObject.close()\n",
    "    return followers"
   ]
  },
  {
   "cell_type": "code",
   "execution_count": 61,
   "metadata": {
    "collapsed": false
   },
   "outputs": [],
   "source": [
    "# Getting iit alumni association followers and pickling them\n",
    "iit_alumni_followers = get_followers_and_pickle_object('iitalumniassn')"
   ]
  },
  {
   "cell_type": "code",
   "execution_count": 6,
   "metadata": {
    "collapsed": false
   },
   "outputs": [
    {
     "name": "stdout",
     "output_type": "stream",
     "text": [
      "Found 1861 followers for iitalumniassn\n"
     ]
    }
   ],
   "source": [
    "iit_alumni_followers = get_followers_from_pickle('iitalumniassn')\n",
    "print \"Found %d followers for iitalumniassn\" %len(iit_alumni_followers.keys())"
   ]
  },
  {
   "cell_type": "code",
   "execution_count": 6,
   "metadata": {
    "collapsed": false
   },
   "outputs": [],
   "source": [
    "# Getting iit career services followers and pickling them\n",
    "iit_career_followers = get_followers_and_pickle_object('IITCareers')"
   ]
  },
  {
   "cell_type": "code",
   "execution_count": 8,
   "metadata": {
    "collapsed": false
   },
   "outputs": [
    {
     "name": "stdout",
     "output_type": "stream",
     "text": [
      "Found 643 followers for IITCareers\n"
     ]
    }
   ],
   "source": [
    "iit_career_followers = get_followers_from_pickle('IITCareers')\n",
    "print \"Found %d followers for IITCareers\" %len(iit_career_followers.keys())"
   ]
  },
  {
   "cell_type": "code",
   "execution_count": null,
   "metadata": {
    "collapsed": false
   },
   "outputs": [],
   "source": [
    "# Getting iit main university followers and pickling them\n",
    "iit_univ_followers = get_followers_and_pickle_object('illinoistech')"
   ]
  },
  {
   "cell_type": "code",
   "execution_count": 9,
   "metadata": {
    "collapsed": false
   },
   "outputs": [
    {
     "name": "stdout",
     "output_type": "stream",
     "text": [
      "Found 5426 followers for IIT University\n"
     ]
    }
   ],
   "source": [
    "iit_univ_followers = get_followers_from_pickle('illinoistech')\n",
    "print \"Found %d followers for IIT University\" %len(iit_univ_followers.keys())"
   ]
  },
  {
   "cell_type": "code",
   "execution_count": null,
   "metadata": {
    "collapsed": true
   },
   "outputs": [],
   "source": [
    "# Getting uiuc main university followers and pickling them\n",
    "uiuc_univ_followers = get_followers_and_pickle_object('Illinois_Alma')"
   ]
  },
  {
   "cell_type": "code",
   "execution_count": 16,
   "metadata": {
    "collapsed": false
   },
   "outputs": [
    {
     "name": "stdout",
     "output_type": "stream",
     "text": [
      "Found 40017 followers for UIUC University\n"
     ]
    }
   ],
   "source": [
    "uiuc_univ_followers = get_followers_from_pickle('Illinois_Alma')\n",
    "print \"Found %d followers for UIUC University\" %len(uiuc_univ_followers.keys())"
   ]
  },
  {
   "cell_type": "code",
   "execution_count": null,
   "metadata": {
    "collapsed": false
   },
   "outputs": [],
   "source": [
    "# Getting uiuc alumni followers and pickling them\n",
    "uiuc_alumni_followers = get_followers_and_pickle_object('UIAA')"
   ]
  },
  {
   "cell_type": "code",
   "execution_count": 45,
   "metadata": {
    "collapsed": false
   },
   "outputs": [
    {
     "name": "stdout",
     "output_type": "stream",
     "text": [
      "Found 5960 followers for UIUC Alumni\n"
     ]
    }
   ],
   "source": [
    "uiuc_alumni_followers = get_followers_from_pickle('UIAA')\n",
    "print \"Found %d followers for UIUC Alumni\" %len(uiuc_alumni_followers.keys())"
   ]
  },
  {
   "cell_type": "code",
   "execution_count": null,
   "metadata": {
    "collapsed": true
   },
   "outputs": [],
   "source": []
  },
  {
   "cell_type": "code",
   "execution_count": 37,
   "metadata": {
    "collapsed": false
   },
   "outputs": [],
   "source": [
    "def get_all_screen_names(*args):\n",
    "    \"\"\" Returns union of all followers of a particular university\n",
    "    \n",
    "    Args: Variables containing followers from different accounts in dictionary format.\n",
    "    \n",
    "    Returns : A set of intersection of keys from the dictionaries passed as input.\n",
    "    \"\"\"\n",
    "    univ_followers = set()\n",
    "    for followers in args:\n",
    "        for user in followers.keys():\n",
    "            univ_followers.add(user)\n",
    "    return univ_followers"
   ]
  },
  {
   "cell_type": "code",
   "execution_count": 11,
   "metadata": {
    "collapsed": false
   },
   "outputs": [
    {
     "name": "stdout",
     "output_type": "stream",
     "text": [
      "Found 6565 unique accounts from 7930 accounts \n"
     ]
    }
   ],
   "source": [
    "iit_followers = get_all_screen_names(iit_alumni_followers,iit_career_followers,iit_univ_followers)\n",
    "print \"Found %d unique accounts from %d accounts \" %(len(iit_followers), \n",
    "            (len(iit_alumni_followers)+len(iit_career_followers)+len(iit_univ_followers)))"
   ]
  },
  {
   "cell_type": "code",
   "execution_count": 13,
   "metadata": {
    "collapsed": false
   },
   "outputs": [],
   "source": [
    "# Pickling iit_followers for future calculations.\n",
    "fileObject = open(\"processed_data/iit_followers\",'wb')\n",
    "pickle.dump(iit_followers,fileObject)\n",
    "fileObject.close()"
   ]
  },
  {
   "cell_type": "code",
   "execution_count": 8,
   "metadata": {
    "collapsed": false
   },
   "outputs": [],
   "source": [
    "# Loading iit_followers from pickle.\n",
    "fileObject = open(\"processed_data/iit_followers\",'r')\n",
    "iit_followers = pickle.load(fileObject)\n",
    "fileObject.close()"
   ]
  },
  {
   "cell_type": "code",
   "execution_count": 10,
   "metadata": {
    "collapsed": true
   },
   "outputs": [],
   "source": [
    "def get_friends(screen_name):\n",
    "    \"\"\" Return a dictionary of users that are friends of this person on Twitter.\n",
    "    \n",
    "    Args:\n",
    "        screen_name: a string of a Twitter screen name\n",
    "    Returns:\n",
    "        A dictionary of {screen_name : description} per friend of the given account.\n",
    "    \"\"\"\n",
    "    friends = {}\n",
    "    cursor = -1\n",
    "    key = 0\n",
    "    while True:\n",
    "        request = robust_request(twitter,'friends/list', \n",
    "                                 {'screen_name': screen_name, 'count':200, 'cursor': cursor})\n",
    "        \n",
    "        if request == None:\n",
    "            return 0\n",
    "        \n",
    "        if request == -1 :    # Authentication error : Can't access follower data\n",
    "            return -1\n",
    "        elif request == -2:\n",
    "            return -2\n",
    "        \n",
    "        json_response = request.json()\n",
    "        \n",
    "        # Get 200 friends from json_response\n",
    "        for friend in json_response['users']:\n",
    "                #friends.append(friend['screen_name']) -- to_remove\n",
    "                friends[friend['screen_name']] = friend['description']\n",
    "                key = key + 1\n",
    "                \n",
    "        # If user has < 200 friends or to retrieve last friends followers\n",
    "        if json_response[\"next_cursor\"] == 0:\n",
    "            break\n",
    "            \n",
    "        # Update cursor to get next 200 friends\n",
    "        cursor = json_response[\"next_cursor\"]\n",
    "        print \"Collected %d friends for %s\" % (key,screen_name)\n",
    "    print \"Returning --- %d friends for %s\" % (key,screen_name)\n",
    "    return friends"
   ]
  },
  {
   "cell_type": "code",
   "execution_count": null,
   "metadata": {
    "collapsed": false,
    "scrolled": false
   },
   "outputs": [],
   "source": [
    "friends_of_iit_followers = { x : get_friends(x) for x in iit_followers}"
   ]
  },
  {
   "cell_type": "code",
   "execution_count": 11,
   "metadata": {
    "collapsed": true
   },
   "outputs": [],
   "source": [
    "def get_friends_and_pickle_object(univ_followers, univ_name):\n",
    "    \"\"\" Calls get_friends() to collect all friends of a Twitter account\n",
    "        and then saves it by pickling.\n",
    "    \n",
    "    Args: A list of strings representing the screen_names of all followers of a university,\n",
    "          A string representing the university's name.\n",
    "          \n",
    "    Returns : A dictionary of { String , [List] } pairs,\n",
    "              where String is a university follower's screen_name\n",
    "              and List is a list of screen_names of their friends\n",
    "    \"\"\"\n",
    "    friends_of_univ_followers = {}\n",
    "    for follower in univ_followers:\n",
    "        friends = get_friends(follower)\n",
    "        friends_of_univ_followers[follower] = friends\n",
    "        fileObject = open(\"raw_data/friends_of_\" + univ_name + \"_followers\",'wb')\n",
    "        pickle.dump(friends_of_univ_followers,fileObject)\n",
    "        fileObject.close()\n",
    "    return friends_of_univ_followers"
   ]
  },
  {
   "cell_type": "code",
   "execution_count": null,
   "metadata": {
    "collapsed": false
   },
   "outputs": [],
   "source": [
    "get_friends_and_pickle_object(iit_followers,\"iit\")"
   ]
  },
  {
   "cell_type": "code",
   "execution_count": 16,
   "metadata": {
    "collapsed": false,
    "scrolled": true
   },
   "outputs": [
    {
     "name": "stdout",
     "output_type": "stream",
     "text": [
      "4717\n"
     ]
    }
   ],
   "source": [
    "for idx,follower in enumerate(iit_followers):\n",
    "    if \"nancyzhang2\" in follower:\n",
    "        print idx"
   ]
  },
  {
   "cell_type": "code",
   "execution_count": 21,
   "metadata": {
    "collapsed": false
   },
   "outputs": [],
   "source": [
    "iit_followers_2 =  list(iit_followers)[1548:]"
   ]
  },
  {
   "cell_type": "code",
   "execution_count": 71,
   "metadata": {
    "collapsed": false
   },
   "outputs": [],
   "source": [
    "#Need to be executed for second half split_pickle\n",
    "def get_friend_ids(screen_name):\n",
    "    \"\"\" Return a dictionary of users that are friends of this person on Twitter.\n",
    "    \n",
    "    Args:\n",
    "        screen_name: a string of a Twitter screen name\n",
    "    Returns:\n",
    "        A list of ids per friend of the given account.\n",
    "    \"\"\"\n",
    "    friends = []\n",
    "    cursor = -1\n",
    "    key = 0\n",
    "    while True:\n",
    "        request = robust_request(twitter,'friends/ids', \n",
    "                                 {'screen_name': screen_name, 'count':5000, 'cursor': cursor})\n",
    "        \n",
    "        if request == None:\n",
    "            return 0\n",
    "        elif request == -1 :    # Authentication error : Can't access follower data\n",
    "            return -1\n",
    "        elif request == -2:   # Page does not exist error\n",
    "            return -2\n",
    "        \n",
    "        json_response = request.json()\n",
    "        \n",
    "        # Get 5000 friends from json_response\n",
    "        friends = json_response['ids']\n",
    "        key = len(friends)\n",
    "                \n",
    "        # If user has < 200 friends or to retrieve last friends followers\n",
    "        if json_response[\"next_cursor\"] == 0:\n",
    "            break\n",
    "            \n",
    "        # Update cursor to get next 200 friends\n",
    "        cursor = json_response[\"next_cursor\"]\n",
    "        print \"Collected %d friends for %s\" % (key,screen_name)\n",
    "    print \"Returning --- %d friends for %s\" % (key,screen_name)\n",
    "    return friends"
   ]
  },
  {
   "cell_type": "code",
   "execution_count": 72,
   "metadata": {
    "collapsed": true
   },
   "outputs": [],
   "source": [
    "#Need to be executed for second half split_pickle\n",
    "def get_friend_ids_and_pickle_object(univ_followers, univ_name, split_pickle = False):\n",
    "    \"\"\" Calls get_friends() to collect all friends of a Twitter account\n",
    "        and then saves it by pickling.\n",
    "    \n",
    "    Args: A list of strings representing the screen_names of all followers of a university,\n",
    "          A string representing the university's name.\n",
    "          A boolean indicating whether to split the pickling method for each follower.\n",
    "          \n",
    "    Returns : A dictionary of { String , [List] } pairs,\n",
    "              where String is a university follower's screen_name\n",
    "              and List is a list of screen_names of their friends\n",
    "    \"\"\"\n",
    "    friends_of_univ_followers = {}\n",
    "    for follower in univ_followers:\n",
    "        friends = get_friend_ids(follower)\n",
    "        friends_of_univ_followers[follower] = friends\n",
    "        \n",
    "        if split_pickle == True:\n",
    "            fileObject = open(\"raw_data/friend_ids_of_\" + univ_name + \"_\" + follower\n",
    "                              + \"_followers\",'wb')\n",
    "        else:\n",
    "            fileObject = open(\"raw_data/friend_ids_of_\" + univ_name + \"_followers\",'wb')\n",
    "        pickle.dump(friends_of_univ_followers,fileObject)\n",
    "        fileObject.close()\n",
    "        \n",
    "        if split_pickle == True:\n",
    "            friends_of_univ_followers.clear()\n",
    "        \n",
    "    return friends_of_univ_followers"
   ]
  },
  {
   "cell_type": "code",
   "execution_count": null,
   "metadata": {
    "collapsed": false
   },
   "outputs": [],
   "source": [
    "get_friend_ids_and_pickle_object(iit_followers_2,\"iit2\")"
   ]
  },
  {
   "cell_type": "code",
   "execution_count": 11,
   "metadata": {
    "collapsed": false
   },
   "outputs": [
    {
     "name": "stdout",
     "output_type": "stream",
     "text": [
      "3788\n"
     ]
    }
   ],
   "source": [
    "iit_followers_3 =  list(iit_followers)[2777:]\n",
    "print len(iit_followers_3)"
   ]
  },
  {
   "cell_type": "code",
   "execution_count": null,
   "metadata": {
    "collapsed": false
   },
   "outputs": [],
   "source": [
    "get_friend_ids_and_pickle_object(iit_followers_3,\"iit3\")"
   ]
  },
  {
   "cell_type": "code",
   "execution_count": 17,
   "metadata": {
    "collapsed": true
   },
   "outputs": [],
   "source": [
    "iit_followers_4 =  list(iit_followers)[4717:]"
   ]
  },
  {
   "cell_type": "code",
   "execution_count": null,
   "metadata": {
    "collapsed": false
   },
   "outputs": [],
   "source": [
    "get_friend_ids_and_pickle_object(iit_followers_4,\"iit4\")"
   ]
  },
  {
   "cell_type": "markdown",
   "metadata": {
    "collapsed": true
   },
   "source": [
    "#Collecting data for North Western University"
   ]
  },
  {
   "cell_type": "code",
   "execution_count": 10,
   "metadata": {
    "collapsed": true
   },
   "outputs": [],
   "source": [
    "def get_followers_and_robust_pickle(screen_name):\n",
    "    \"\"\" \n",
    "    Retrieves and pickles a dictionary of dictionary, \n",
    "        one per follower containing { follower_screen_name: {follower_object} } pairs.\n",
    "        Pickles by splitting to a different file every 1000 followers\n",
    "        \n",
    "    Args:\n",
    "        screen_name: a string of a Twitter screen name\n",
    "           \n",
    "    Note: Many users follow more than 200 accounts; we will return those accounts too.\n",
    "    \"\"\"\n",
    "    followers = {}\n",
    "    cursor = -1\n",
    "    key = 0\n",
    "    rate_limit = 1\n",
    "    while True:\n",
    "        if rate_limit == 15:\n",
    "            rate_limit = 1\n",
    "            print >> sys.stderr, 'Avoided rate_limit error: \\nsleeping for 15 minutes.'\n",
    "            time.sleep(61 * 15)\n",
    "        request = robust_request(twitter,'followers/list', \n",
    "                                 {'screen_name': screen_name, 'count':200, 'cursor': cursor})\n",
    "        json_response = request.json()\n",
    "        \n",
    "        # Get 200 followers from json_response\n",
    "        for follower in json_response['users']:\n",
    "                followers[follower['screen_name']] = follower\n",
    "                key = key + 1\n",
    "                \n",
    "        # If user has < 200 followers or to retrieve last 200 followers\n",
    "        if json_response[\"next_cursor\"] == 0:\n",
    "            break\n",
    "            \n",
    "        # Update cursor to get next 200 followers\n",
    "        cursor = json_response[\"next_cursor\"]\n",
    "        rate_limit = rate_limit + 1\n",
    "        \n",
    "        # Pickling followers after 1000 followers and clearing followers\n",
    "        if key % 1000 == 0:\n",
    "            fileObject = open(\"raw_data/\" + screen_name + str(key),'wb')\n",
    "            pickle.dump(followers,fileObject)\n",
    "            fileObject.close()\n",
    "            followers = {}\n",
    "            print \"Pickling %d followers and clearing followers object\" % key\n",
    "        \n",
    "        print \"Collected %d followers\" % key\n",
    "    \n",
    "    # Checking if followers is not empty\n",
    "    if bool(followers) != False:\n",
    "        fileObject = open(\"raw_data/\" + screen_name + str(key+1),'wb')\n",
    "        pickle.dump(followers,fileObject)\n",
    "        fileObject.close()\n",
    "        followers = {}\n",
    "        print \"Pickling %d followers and clearing followers object\" % key"
   ]
  },
  {
   "cell_type": "code",
   "execution_count": null,
   "metadata": {
    "collapsed": false
   },
   "outputs": [],
   "source": [
    "# Getting North Western University Career services followers and pickling them\n",
    "NUCareerAdvance_followers = get_followers_and_robust_pickle('NUCareerAdvance')"
   ]
  },
  {
   "cell_type": "code",
   "execution_count": null,
   "metadata": {
    "collapsed": false
   },
   "outputs": [],
   "source": [
    "# Getting North Western University Alumni followers and pickling them\n",
    "nualumni_followers = get_followers_and_robust_pickle('nualumni')"
   ]
  },
  {
   "cell_type": "code",
   "execution_count": null,
   "metadata": {
    "collapsed": false
   },
   "outputs": [],
   "source": [
    "# Getting North Western University followers and pickling them\n",
    "NorthwesternU_followers = get_followers_and_robust_pickle('NorthwesternU')"
   ]
  },
  {
   "cell_type": "code",
   "execution_count": 28,
   "metadata": {
    "collapsed": false
   },
   "outputs": [
    {
     "name": "stdout",
     "output_type": "stream",
     "text": [
      "['NorthwesternU1000', 'NorthwesternU10000', 'NorthwesternU11000', 'NorthwesternU12000', 'NorthwesternU13000', 'NorthwesternU14000', 'NorthwesternU15000', 'NorthwesternU16000', 'NorthwesternU17000', 'NorthwesternU18000', 'NorthwesternU19000', 'NorthwesternU2000', 'NorthwesternU20000', 'NorthwesternU21000', 'NorthwesternU22000', 'NorthwesternU23000', 'NorthwesternU24000', 'NorthwesternU25000', 'NorthwesternU26000', 'NorthwesternU27000', 'NorthwesternU28000', 'NorthwesternU29000', 'NorthwesternU3000', 'NorthwesternU30000', 'NorthwesternU31000', 'NorthwesternU32000', 'NorthwesternU4000', 'NorthwesternU5000', 'NorthwesternU6000', 'NorthwesternU7000', 'NorthwesternU8000', 'NorthwesternU9000']\n"
     ]
    }
   ],
   "source": [
    "def get_filenames(account_name, path = 'raw_data'):\n",
    "    \"\"\" Calls get_friends() to collect all friends of a Twitter account\n",
    "        and then saves it by pickling.\n",
    "    \n",
    "    Args: Path; which represents the sub directory to search for.\n",
    "          Account_name; which represents the file names to be searched for against an account' screen_name.\n",
    "          \n",
    "    Returns : A list of filenames associated with an account\n",
    "    \"\"\"\n",
    "    files = os.listdir(path)\n",
    "    file_names = []\n",
    "    for file_name in files:\n",
    "        if account_name in file_name:\n",
    "            file_names.append(file_name)\n",
    "    return file_names\n",
    "\n",
    "print get_filenames('NorthwesternU')"
   ]
  },
  {
   "cell_type": "code",
   "execution_count": 29,
   "metadata": {
    "collapsed": true
   },
   "outputs": [],
   "source": [
    "def aggregate_data(account_name):\n",
    "    \"\"\"\n",
    "    Collect data from different pickled objects related to an account\n",
    "    and aggregate them to another pickle\n",
    "    \n",
    "    Args: account_name; a string representing the screen_name of the account which we want to aggregate.\n",
    "    \"\"\"\n",
    "    aggregated_followers = {}\n",
    "    files = get_filenames(account_name)\n",
    "    for file_name in files:\n",
    "        old_followers = get_followers_from_pickle(file_name)\n",
    "        aggregated_followers.update(old_followers)\n",
    "        \n",
    "    fileObject = open(\"raw_data/\" + account_name,'wb')\n",
    "    pickle.dump(aggregated_followers,fileObject)\n",
    "    fileObject.close()"
   ]
  },
  {
   "cell_type": "code",
   "execution_count": 30,
   "metadata": {
    "collapsed": false
   },
   "outputs": [],
   "source": [
    "aggregate_data('NorthwesternU')"
   ]
  },
  {
   "cell_type": "code",
   "execution_count": 31,
   "metadata": {
    "collapsed": true
   },
   "outputs": [],
   "source": [
    "aggregate_data('nualumni')"
   ]
  },
  {
   "cell_type": "code",
   "execution_count": 32,
   "metadata": {
    "collapsed": true
   },
   "outputs": [],
   "source": [
    "aggregate_data('NUCareerAdvance')"
   ]
  },
  {
   "cell_type": "code",
   "execution_count": 33,
   "metadata": {
    "collapsed": false
   },
   "outputs": [
    {
     "name": "stdout",
     "output_type": "stream",
     "text": [
      "Found 31999 followers for Northwestern University\n"
     ]
    }
   ],
   "source": [
    "nu_univ_followers = get_followers_from_pickle('NorthwesternU')\n",
    "print \"Found %d followers for Northwestern University\" %len(nu_univ_followers.keys())"
   ]
  },
  {
   "cell_type": "code",
   "execution_count": 34,
   "metadata": {
    "collapsed": false
   },
   "outputs": [
    {
     "name": "stdout",
     "output_type": "stream",
     "text": [
      "Found 7816 followers for Northwestern University\n"
     ]
    }
   ],
   "source": [
    "nu_alumni_followers = get_followers_from_pickle('nualumni')\n",
    "print \"Found %d followers for Northwestern University\" %len(nu_alumni_followers.keys())"
   ]
  },
  {
   "cell_type": "code",
   "execution_count": 35,
   "metadata": {
    "collapsed": false
   },
   "outputs": [
    {
     "name": "stdout",
     "output_type": "stream",
     "text": [
      "Found 3738 followers for Northwestern University\n"
     ]
    }
   ],
   "source": [
    "nu_career_followers = get_followers_from_pickle('NUCareerAdvance')\n",
    "print \"Found %d followers for Northwestern University\" %len(nu_career_followers.keys())"
   ]
  },
  {
   "cell_type": "code",
   "execution_count": 49,
   "metadata": {
    "collapsed": false
   },
   "outputs": [
    {
     "name": "stdout",
     "output_type": "stream",
     "text": [
      "Found 35984 unique accounts from 43553 accounts \n"
     ]
    }
   ],
   "source": [
    "nu_followers = sorted(get_all_screen_names(nu_univ_followers,nu_alumni_followers,nu_career_followers))\n",
    "print \"Found %d unique accounts from %d accounts \" %(len(nu_followers), \n",
    "            (len(nu_univ_followers)+len(nu_alumni_followers)+len(nu_career_followers)))"
   ]
  },
  {
   "cell_type": "code",
   "execution_count": 52,
   "metadata": {
    "collapsed": true
   },
   "outputs": [],
   "source": [
    "# Pickling nu_followers as a SORTED LIST for future calculations.\n",
    "fileObject = open(\"processed_data/nu_followers\",'wb')\n",
    "pickle.dump(nu_followers,fileObject)\n",
    "fileObject.close()"
   ]
  },
  {
   "cell_type": "code",
   "execution_count": 53,
   "metadata": {
    "collapsed": true
   },
   "outputs": [],
   "source": [
    "# Loading nu_followers from pickle.\n",
    "fileObject = open(\"processed_data/nu_followers\",'r')\n",
    "nu_followers = pickle.load(fileObject)\n",
    "fileObject.close()"
   ]
  },
  {
   "cell_type": "markdown",
   "metadata": {},
   "source": [
    "### Splitting university followers into two lists. To reduce time in collecting future data ( their friend ids )."
   ]
  },
  {
   "cell_type": "code",
   "execution_count": 58,
   "metadata": {
    "collapsed": false
   },
   "outputs": [],
   "source": [
    "# Pickling first half of nu_followers for collecting their friend ids.\n",
    "fileObject = open(\"processed_data/nu_followers_first_half\",'wb')\n",
    "pickle.dump(nu_followers[:len(nu_followers)/2],fileObject)\n",
    "fileObject.close()"
   ]
  },
  {
   "cell_type": "code",
   "execution_count": 59,
   "metadata": {
    "collapsed": true
   },
   "outputs": [],
   "source": [
    "# Pickling second half of nu_followers for collecting their friend ids.\n",
    "fileObject = open(\"processed_data/nu_followers_second_half\",'wb')\n",
    "pickle.dump(nu_followers[len(nu_followers)/2:],fileObject)\n",
    "fileObject.close()"
   ]
  },
  {
   "cell_type": "code",
   "execution_count": 60,
   "metadata": {
    "collapsed": true
   },
   "outputs": [],
   "source": [
    "# Loading first half of nu_followers from pickle.\n",
    "fileObject = open(\"processed_data/nu_followers_first_half\",'r')\n",
    "nu_followers_1 = pickle.load(fileObject)\n",
    "fileObject.close()"
   ]
  },
  {
   "cell_type": "code",
   "execution_count": 61,
   "metadata": {
    "collapsed": true
   },
   "outputs": [],
   "source": [
    "# Loading second half of nu_followers from pickle.\n",
    "fileObject = open(\"processed_data/nu_followers_second_half\",'r')\n",
    "nu_followers_2 = pickle.load(fileObject)\n",
    "fileObject.close()"
   ]
  },
  {
   "cell_type": "code",
   "execution_count": null,
   "metadata": {
    "collapsed": false
   },
   "outputs": [
    {
     "name": "stdout",
     "output_type": "stream",
     "text": [
      "Returning --- 1292 friends for 005ia\n",
      "Returning --- 349 friends for 007MAV\n",
      "Returning --- 882 friends for 007kengom\n",
      "Returning --- 1965 friends for 0118mag3\n",
      "Returning --- 20 friends for 0179849769\n",
      "Returning --- 358 friends for 027_rmm"
     ]
    }
   ],
   "source": [
    "# Collecting first half of nu_followers's friends' ids and pickling them separately\n",
    "get_friend_ids_and_pickle_object(nu_followers_1, 'nu', split_pickle = True)"
   ]
  },
  {
   "cell_type": "code",
   "execution_count": null,
   "metadata": {
    "collapsed": true
   },
   "outputs": [],
   "source": [
    "# Collecting second half of nu_followers's friends' ids and pickling them separately\n",
    "get_friend_ids_and_pickle_object(nu_followers_2, 'nu', split_pickle = True)"
   ]
  }
 ],
 "metadata": {
  "kernelspec": {
   "display_name": "Python 2",
   "language": "python",
   "name": "python2"
  },
  "language_info": {
   "codemirror_mode": {
    "name": "ipython",
    "version": 2
   },
   "file_extension": ".py",
   "mimetype": "text/x-python",
   "name": "python",
   "nbconvert_exporter": "python",
   "pygments_lexer": "ipython2",
   "version": "2.7.10"
  }
 },
 "nbformat": 4,
 "nbformat_minor": 0
}
