{
 "cells": [
  {
   "cell_type": "code",
   "execution_count": 1,
   "metadata": {
    "collapsed": false
   },
   "outputs": [],
   "source": [
    "# Imports needed for this ipython file\n",
    "\n",
    "from collections import Counter\n",
    "import ConfigParser\n",
    "import matplotlib.pyplot as plt\n",
    "import networkx as nx\n",
    "import sys\n",
    "import time\n",
    "import pickle\n",
    "from TwitterAPI import TwitterAPI\n",
    "\n",
    "%matplotlib inline"
   ]
  },
  {
   "cell_type": "code",
   "execution_count": 2,
   "metadata": {
    "collapsed": false
   },
   "outputs": [
    {
     "name": "stdout",
     "output_type": "stream",
     "text": [
      "Established Twitter connection.\n"
     ]
    }
   ],
   "source": [
    "def get_twitter(config_file):\n",
    "    \"\"\" \n",
    "    Args:\n",
    "      config_file ... A config file in ConfigParser format with Twitter credentials\n",
    "    Returns:\n",
    "      An instance of TwitterAPI.\n",
    "    \"\"\"\n",
    "    config = ConfigParser.ConfigParser()\n",
    "    config.read(config_file)\n",
    "    twitter = TwitterAPI(\n",
    "                   config.get('twitter', 'consumer_key'),\n",
    "                   config.get('twitter', 'consumer_secret'),\n",
    "                   config.get('twitter', 'access_token'),\n",
    "                   config.get('twitter', 'access_token_secret'))\n",
    "    return twitter\n",
    "\n",
    "twitter = get_twitter('twitter.cfg')\n",
    "print('Established Twitter connection.')"
   ]
  },
  {
   "cell_type": "code",
   "execution_count": 3,
   "metadata": {
    "collapsed": true
   },
   "outputs": [],
   "source": [
    "def robust_request(twitter, resource, params, max_tries=5):\n",
    "    \"\"\" If a Twitter request fails, sleep for 15 minutes.\n",
    "    Do this at most max_tries times before quitting.\n",
    "    Args:\n",
    "      twitter .... A TwitterAPI object.\n",
    "      resource ... A resource string to request.\n",
    "      params ..... A parameter dictionary for the request.\n",
    "      max_tries .. The maximum number of tries to attempt.\n",
    "    Returns:\n",
    "      A TwitterResponse object, or None if failed.\n",
    "    \"\"\"\n",
    "    for i in range(max_tries):\n",
    "        request = twitter.request(resource, params)\n",
    "        if request.status_code == 200:\n",
    "            return request\n",
    "        else:\n",
    "            print >> sys.stderr, 'Got error:', request.text, '\\nsleeping for 15 minutes.'\n",
    "            sys.stderr.flush()\n",
    "            time.sleep(61 * 15)"
   ]
  },
  {
   "cell_type": "code",
   "execution_count": 4,
   "metadata": {
    "collapsed": false
   },
   "outputs": [],
   "source": [
    "def get_followers(screen_name):\n",
    "    \"\"\" Return a dictionary of the users that follows this person on Twitter.\n",
    "    \n",
    "    Args:\n",
    "        screen_name: a string of a Twitter screen name\n",
    "    Returns:\n",
    "        A dictionary of dictionary, one per follower containing {index, user_info} pairs.\n",
    "    Note: Many users follow more than 200 accounts; we will return those accounts too.\n",
    "    \"\"\"\n",
    "    followers = {}\n",
    "    cursor = -1\n",
    "    key = 0\n",
    "    while True:\n",
    "        request = robust_request(twitter,'followers/list', \n",
    "                                 {'screen_name': screen_name, 'count':200, 'cursor': cursor})\n",
    "        json_response = request.json()\n",
    "        \n",
    "        # Get 200 followers from json_response\n",
    "        for follower in json_response['users']:\n",
    "                followers[key] = follower\n",
    "                key = key + 1\n",
    "                \n",
    "        # If user has < 200 followers or to retrieve last 200 followers\n",
    "        if json_response[\"next_cursor\"] == 0:\n",
    "            break\n",
    "            \n",
    "        # Update cursor to get next 200 followers\n",
    "        cursor = json_response[\"next_cursor\"]\n",
    "    return followers"
   ]
  },
  {
   "cell_type": "code",
   "execution_count": 61,
   "metadata": {
    "collapsed": false
   },
   "outputs": [],
   "source": [
    "# Getting iit alumni association followers and pickling them\n",
    "iit_alumni_followers = get_followers('iitalumniassn')\n",
    "iitalumniassn_fileObject = open(\"pickle/iitalumniassn\",'wb')\n",
    "pickle.dump(iit_alumni_followers,iitalumniassn_fileObject)\n",
    "iitalumniassn_fileObject.close()"
   ]
  },
  {
   "cell_type": "code",
   "execution_count": 68,
   "metadata": {
    "collapsed": false
   },
   "outputs": [
    {
     "name": "stdout",
     "output_type": "stream",
     "text": [
      "Found 1861 followers for iitalumniassn\n"
     ]
    }
   ],
   "source": [
    "fileObject = open(\"pickle/iitalumniassn\",'r')\n",
    "iit_alumni_followers = pickle.load(fileObject)\n",
    "fileObject.close()\n",
    "print \"Found %d followers for iitalumniassn\" %len(iit_alumni_followers.keys())"
   ]
  },
  {
   "cell_type": "code",
   "execution_count": 6,
   "metadata": {
    "collapsed": false
   },
   "outputs": [],
   "source": [
    "# Getting iit career services followers and pickling them\n",
    "iit_career_followers = get_followers('IITCareers')\n",
    "iitcareerservices_fileObject = open(\"pickle/iitcareerservices\",'wb')\n",
    "pickle.dump(iit_career_followers,iitcareerservices_fileObject)\n",
    "iitcareerservices_fileObject.close()"
   ]
  },
  {
   "cell_type": "code",
   "execution_count": 9,
   "metadata": {
    "collapsed": false
   },
   "outputs": [
    {
     "name": "stdout",
     "output_type": "stream",
     "text": [
      "Found 642 followers for IITCareers\n"
     ]
    }
   ],
   "source": [
    "fileObject = open(\"pickle/iitcareerservices\",'r')\n",
    "iit_career_followers = pickle.load(fileObject)\n",
    "fileObject.close()\n",
    "print \"Found %d followers for IITCareers\" %len(iit_career_followers.keys())"
   ]
  },
  {
   "cell_type": "code",
   "execution_count": null,
   "metadata": {
    "collapsed": false
   },
   "outputs": [],
   "source": [
    "# Getting iit main university followers and pickling them\n",
    "iit_univ_followers = get_followers('illinoistech')\n",
    "iituniv_fileObject = open(\"pickle/iituniv\",'wb')\n",
    "pickle.dump(iit_univ_followers,iituniv_fileObject)\n",
    "iituniv_fileObject.close()"
   ]
  },
  {
   "cell_type": "code",
   "execution_count": 10,
   "metadata": {
    "collapsed": false
   },
   "outputs": [
    {
     "name": "stdout",
     "output_type": "stream",
     "text": [
      "Found 5426 followers for IIT University\n"
     ]
    }
   ],
   "source": [
    "fileObject = open(\"pickle/iituniv\",'r')\n",
    "iit_univ_followers = pickle.load(fileObject)\n",
    "fileObject.close()\n",
    "print \"Found %d followers for IIT University\" %len(iit_univ_followers.keys())"
   ]
  },
  {
   "cell_type": "code",
   "execution_count": null,
   "metadata": {
    "collapsed": true
   },
   "outputs": [],
   "source": []
  }
 ],
 "metadata": {
  "kernelspec": {
   "display_name": "Python 2",
   "language": "python",
   "name": "python2"
  },
  "language_info": {
   "codemirror_mode": {
    "name": "ipython",
    "version": 2
   },
   "file_extension": ".py",
   "mimetype": "text/x-python",
   "name": "python",
   "nbconvert_exporter": "python",
   "pygments_lexer": "ipython2",
   "version": "2.7.10"
  }
 },
 "nbformat": 4,
 "nbformat_minor": 0
}
