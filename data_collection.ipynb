{
 "cells": [
  {
   "cell_type": "code",
   "execution_count": 1,
   "metadata": {
    "collapsed": false
   },
   "outputs": [],
   "source": [
    "# Imports needed for this ipython file\n",
    "\n",
    "from collections import Counter\n",
    "import ConfigParser\n",
    "import matplotlib.pyplot as plt\n",
    "import networkx as nx\n",
    "import sys\n",
    "import time\n",
    "import pickle\n",
    "from TwitterAPI import TwitterAPI\n",
    "\n",
    "%matplotlib inline"
   ]
  },
  {
   "cell_type": "code",
   "execution_count": 3,
   "metadata": {
    "collapsed": false
   },
   "outputs": [
    {
     "name": "stdout",
     "output_type": "stream",
     "text": [
      "Established Twitter connection.\n"
     ]
    }
   ],
   "source": [
    "def get_twitter(config_file):\n",
    "    \"\"\" \n",
    "    Args:\n",
    "      config_file ... A config file in ConfigParser format with Twitter credentials\n",
    "    Returns:\n",
    "      An instance of TwitterAPI.\n",
    "    \"\"\"\n",
    "    config = ConfigParser.ConfigParser()\n",
    "    config.read(config_file)\n",
    "    twitter = TwitterAPI(\n",
    "                   config.get('twitter', 'consumer_key'),\n",
    "                   config.get('twitter', 'consumer_secret'),\n",
    "                   config.get('twitter', 'access_token'),\n",
    "                   config.get('twitter', 'access_token_secret'))\n",
    "    return twitter\n",
    "\n",
    "twitter = get_twitter('twitter.cfg')\n",
    "print('Established Twitter connection.')"
   ]
  },
  {
   "cell_type": "code",
   "execution_count": 4,
   "metadata": {
    "collapsed": true
   },
   "outputs": [],
   "source": [
    "def robust_request(twitter, resource, params, max_tries=2):\n",
    "    \"\"\" If a Twitter request fails, sleep for 15 minutes.\n",
    "    Do this at most max_tries times before quitting.\n",
    "    Args:\n",
    "      twitter .... A TwitterAPI object.\n",
    "      resource ... A resource string to request.\n",
    "      params ..... A parameter dictionary for the request.\n",
    "      max_tries .. The maximum number of tries to attempt.\n",
    "    Returns:\n",
    "      A TwitterResponse object, or None if failed.\n",
    "    \"\"\"\n",
    "    for i in range(max_tries):\n",
    "        request = twitter.request(resource, params)    \n",
    "        if request.status_code == 200:\n",
    "            return request\n",
    "        elif \"Not authorized\" in request.text:\n",
    "            return -1\n",
    "        elif \"page does not exist\" in request.text:\n",
    "            return -2\n",
    "        else:\n",
    "            print >> sys.stderr, 'Got error:', request.text, '\\nsleeping for 15 minutes.'\n",
    "            sys.stderr.flush()\n",
    "            time.sleep(61 * 15)"
   ]
  },
  {
   "cell_type": "code",
   "execution_count": 5,
   "metadata": {
    "collapsed": false
   },
   "outputs": [],
   "source": [
    "def get_followers(screen_name):\n",
    "    \"\"\" Return a dictionary of the users that follows this person on Twitter.\n",
    "    \n",
    "    Args:\n",
    "        screen_name: a string of a Twitter screen name\n",
    "    Returns:\n",
    "        A dictionary of dictionary, one per follower containing {index, user_info} pairs.\n",
    "    Note: Many users follow more than 200 accounts; we will return those accounts too.\n",
    "    \"\"\"\n",
    "    followers = {}\n",
    "    cursor = -1\n",
    "    key = 0\n",
    "    rate_limit = 1\n",
    "    while True:\n",
    "        if rate_limit == 15:\n",
    "            rate_limit = 1\n",
    "            print >> sys.stderr, 'Avoided rate_limit error: \\nsleeping for 15 minutes.'\n",
    "            time.sleep(61 * 15)\n",
    "        request = robust_request(twitter,'followers/list', \n",
    "                                 {'screen_name': screen_name, 'count':200, 'cursor': cursor})\n",
    "        json_response = request.json()\n",
    "        \n",
    "        # Get 200 followers from json_response\n",
    "        for follower in json_response['users']:\n",
    "                followers[follower['screen_name']] = follower\n",
    "                key = key + 1\n",
    "                \n",
    "        # If user has < 200 followers or to retrieve last 200 followers\n",
    "        if json_response[\"next_cursor\"] == 0:\n",
    "            break\n",
    "            \n",
    "        # Update cursor to get next 200 followers\n",
    "        cursor = json_response[\"next_cursor\"]\n",
    "        rate_limit = rate_limit + 1\n",
    "        print \"Collected %d followers\" % key\n",
    "    return followers"
   ]
  },
  {
   "cell_type": "code",
   "execution_count": 6,
   "metadata": {
    "collapsed": true
   },
   "outputs": [],
   "source": [
    "def get_followers_and_pickle_object(account_name):\n",
    "    \"\"\" Calls get_followers() to collect all followers of a Twitter account\n",
    "        and then saves it by pickling for future processing purposes.\n",
    "    \n",
    "    Args: A string representing the screen_name of a Twitter account,\n",
    "          whose followers we need.\n",
    "    Returns : A dictionary of { screen_name : user_info } pairs of followers,\n",
    "              where user_info is a dictionary object containing user information\n",
    "    \"\"\"\n",
    "    followers = get_followers(account_name)\n",
    "    fileObject = open(\"raw_data/\" + account_name,'wb')\n",
    "    pickle.dump(followers,fileObject)\n",
    "    fileObject.close()\n",
    "    return followers"
   ]
  },
  {
   "cell_type": "code",
   "execution_count": 7,
   "metadata": {
    "collapsed": true
   },
   "outputs": [],
   "source": [
    "def get_followers_from_pickle(account_name):\n",
    "    \"\"\" Returns all followers of a Twitter account by retrieving saved data,\n",
    "        using pickle method.\n",
    "    \n",
    "    Args: A string representing the screen_name of a Twitter account,\n",
    "          whose followers we need.\n",
    "    Returns : A dictionary of { screen_name : user_info } pairs of followers,\n",
    "              where user_info is a dictionary object containing user information\n",
    "    \"\"\"\n",
    "    fileObject = open(\"raw_data/\" + account_name,'r')\n",
    "    followers = pickle.load(fileObject)\n",
    "    fileObject.close()\n",
    "    return followers"
   ]
  },
  {
   "cell_type": "code",
   "execution_count": 61,
   "metadata": {
    "collapsed": false
   },
   "outputs": [],
   "source": [
    "# Getting iit alumni association followers and pickling them\n",
    "iit_alumni_followers = get_followers_and_pickle_object('iitalumniassn')"
   ]
  },
  {
   "cell_type": "code",
   "execution_count": 7,
   "metadata": {
    "collapsed": false
   },
   "outputs": [
    {
     "name": "stdout",
     "output_type": "stream",
     "text": [
      "Found 1861 followers for iitalumniassn\n"
     ]
    }
   ],
   "source": [
    "iit_alumni_followers = get_followers_from_pickle('iitalumniassn')\n",
    "print \"Found %d followers for iitalumniassn\" %len(iit_alumni_followers.keys())"
   ]
  },
  {
   "cell_type": "code",
   "execution_count": 6,
   "metadata": {
    "collapsed": false
   },
   "outputs": [],
   "source": [
    "# Getting iit career services followers and pickling them\n",
    "iit_career_followers = get_followers_and_pickle_object('IITCareers')"
   ]
  },
  {
   "cell_type": "code",
   "execution_count": 8,
   "metadata": {
    "collapsed": false
   },
   "outputs": [
    {
     "name": "stdout",
     "output_type": "stream",
     "text": [
      "Found 643 followers for IITCareers\n"
     ]
    }
   ],
   "source": [
    "iit_career_followers = get_followers_from_pickle('IITCareers')\n",
    "print \"Found %d followers for IITCareers\" %len(iit_career_followers.keys())"
   ]
  },
  {
   "cell_type": "code",
   "execution_count": null,
   "metadata": {
    "collapsed": false
   },
   "outputs": [],
   "source": [
    "# Getting iit main university followers and pickling them\n",
    "iit_univ_followers = get_followers_and_pickle_object('illinoistech')"
   ]
  },
  {
   "cell_type": "code",
   "execution_count": 9,
   "metadata": {
    "collapsed": false
   },
   "outputs": [
    {
     "name": "stdout",
     "output_type": "stream",
     "text": [
      "Found 5426 followers for IIT University\n"
     ]
    }
   ],
   "source": [
    "iit_univ_followers = get_followers_from_pickle('illinoistech')\n",
    "print \"Found %d followers for IIT University\" %len(iit_univ_followers.keys())"
   ]
  },
  {
   "cell_type": "code",
   "execution_count": null,
   "metadata": {
    "collapsed": true
   },
   "outputs": [],
   "source": [
    "# Getting uiuc main university followers and pickling them\n",
    "uiuc_univ_followers = get_followers_and_pickle_object('Illinois_Alma')"
   ]
  },
  {
   "cell_type": "code",
   "execution_count": 16,
   "metadata": {
    "collapsed": false
   },
   "outputs": [
    {
     "name": "stdout",
     "output_type": "stream",
     "text": [
      "Found 40017 followers for UIUC University\n"
     ]
    }
   ],
   "source": [
    "uiuc_univ_followers = get_followers_from_pickle('Illinois_Alma')\n",
    "print \"Found %d followers for UIUC University\" %len(uiuc_univ_followers.keys())"
   ]
  },
  {
   "cell_type": "code",
   "execution_count": null,
   "metadata": {
    "collapsed": false
   },
   "outputs": [],
   "source": [
    "# Getting uiuc alumni followers and pickling them\n",
    "uiuc_alumni_followers = get_followers_and_pickle_object('UIAA')"
   ]
  },
  {
   "cell_type": "code",
   "execution_count": 45,
   "metadata": {
    "collapsed": false
   },
   "outputs": [
    {
     "name": "stdout",
     "output_type": "stream",
     "text": [
      "Found 5960 followers for UIUC Alumni\n"
     ]
    }
   ],
   "source": [
    "uiuc_alumni_followers = get_followers_from_pickle('UIAA')\n",
    "print \"Found %d followers for UIUC Alumni\" %len(uiuc_alumni_followers.keys())"
   ]
  },
  {
   "cell_type": "code",
   "execution_count": null,
   "metadata": {
    "collapsed": true
   },
   "outputs": [],
   "source": []
  },
  {
   "cell_type": "code",
   "execution_count": 8,
   "metadata": {
    "collapsed": false
   },
   "outputs": [],
   "source": [
    "def get_all_screen_names(*args):\n",
    "    \"\"\" Returns union of all followers of a particular university\n",
    "    \n",
    "    Args: Variables containing followers from different accounts in dictionary format.\n",
    "    \n",
    "    Returns : A set of intersection of keys from the dictionaries passed as input.\n",
    "    \"\"\"\n",
    "    univ_followers = set()\n",
    "    for followers in args:\n",
    "        for user in followers.keys():\n",
    "            univ_followers.add(user)\n",
    "    return univ_followers"
   ]
  },
  {
   "cell_type": "code",
   "execution_count": 11,
   "metadata": {
    "collapsed": false
   },
   "outputs": [
    {
     "name": "stdout",
     "output_type": "stream",
     "text": [
      "Found 6565 unique accounts from 7930 accounts \n"
     ]
    }
   ],
   "source": [
    "iit_followers = get_all_screen_names(iit_alumni_followers,iit_career_followers,iit_univ_followers)\n",
    "print \"Found %d unique accounts from %d accounts \" %(len(iit_followers), \n",
    "            (len(iit_alumni_followers)+len(iit_career_followers)+len(iit_univ_followers)))"
   ]
  },
  {
   "cell_type": "code",
   "execution_count": 13,
   "metadata": {
    "collapsed": false
   },
   "outputs": [],
   "source": [
    "# Pickling iit_followers for future calculations.\n",
    "fileObject = open(\"processed_data/iit_followers\",'wb')\n",
    "pickle.dump(iit_followers,fileObject)\n",
    "fileObject.close()"
   ]
  },
  {
   "cell_type": "code",
   "execution_count": 9,
   "metadata": {
    "collapsed": true
   },
   "outputs": [],
   "source": [
    "# Loading iit_followers from pickle.\n",
    "fileObject = open(\"processed_data/iit_followers\",'r')\n",
    "iit_followers = pickle.load(fileObject)\n",
    "fileObject.close()"
   ]
  },
  {
   "cell_type": "code",
   "execution_count": 10,
   "metadata": {
    "collapsed": true
   },
   "outputs": [],
   "source": [
    "def get_friends(screen_name):\n",
    "    \"\"\" Return a dictionary of users that are friends of this person on Twitter.\n",
    "    \n",
    "    Args:\n",
    "        screen_name: a string of a Twitter screen name\n",
    "    Returns:\n",
    "        A dictionary of {screen_name : description} per friend of the given account.\n",
    "    \"\"\"\n",
    "    friends = {}\n",
    "    cursor = -1\n",
    "    key = 0\n",
    "    while True:\n",
    "        request = robust_request(twitter,'friends/list', \n",
    "                                 {'screen_name': screen_name, 'count':200, 'cursor': cursor})\n",
    "        \n",
    "        if request == None:\n",
    "            return 0\n",
    "        \n",
    "        if request == -1 :    # Authentication error : Can't access follower data\n",
    "            return -1\n",
    "        elif request == -2:\n",
    "            return -2\n",
    "        \n",
    "        json_response = request.json()\n",
    "        \n",
    "        # Get 200 friends from json_response\n",
    "        for friend in json_response['users']:\n",
    "                #friends.append(friend['screen_name']) -- to_remove\n",
    "                friends[friend['screen_name']] = friend['description']\n",
    "                key = key + 1\n",
    "                \n",
    "        # If user has < 200 friends or to retrieve last friends followers\n",
    "        if json_response[\"next_cursor\"] == 0:\n",
    "            break\n",
    "            \n",
    "        # Update cursor to get next 200 friends\n",
    "        cursor = json_response[\"next_cursor\"]\n",
    "        print \"Collected %d friends for %s\" % (key,screen_name)\n",
    "    print \"Returning --- %d friends for %s\" % (key,screen_name)\n",
    "    return friends"
   ]
  },
  {
   "cell_type": "code",
   "execution_count": null,
   "metadata": {
    "collapsed": false,
    "scrolled": false
   },
   "outputs": [],
   "source": [
    "friends_of_iit_followers = { x : get_friends(x) for x in iit_followers}"
   ]
  },
  {
   "cell_type": "code",
   "execution_count": 11,
   "metadata": {
    "collapsed": true
   },
   "outputs": [],
   "source": [
    "def get_friends_and_pickle_object(univ_followers, univ_name):\n",
    "    \"\"\" Calls get_friends() to collect all friends of a Twitter account\n",
    "        and then saves it by pickling.\n",
    "    \n",
    "    Args: A list of strings representing the screen_names of all followers of a university,\n",
    "          A string representing the university's name.\n",
    "          \n",
    "    Returns : A dictionary of { String , [List] } pairs,\n",
    "              where String is a university follower's screen_name\n",
    "              and List is a list of screen_names of their friends\n",
    "    \"\"\"\n",
    "    friends_of_univ_followers = {}\n",
    "    for follower in univ_followers:\n",
    "        friends = get_friends(follower)\n",
    "        friends_of_univ_followers[follower] = friends\n",
    "        fileObject = open(\"raw_data/friends_of_\" + univ_name + \"_followers\",'wb')\n",
    "        pickle.dump(friends_of_univ_followers,fileObject)\n",
    "        fileObject.close()\n",
    "    return friends_of_univ_followers"
   ]
  },
  {
   "cell_type": "code",
   "execution_count": null,
   "metadata": {
    "collapsed": false
   },
   "outputs": [],
   "source": [
    "get_friends_and_pickle_object(iit_followers,\"iit\")"
   ]
  },
  {
   "cell_type": "code",
   "execution_count": 22,
   "metadata": {
    "collapsed": false
   },
   "outputs": [
    {
     "name": "stdout",
     "output_type": "stream",
     "text": [
      "1548\n",
      "5017\n"
     ]
    }
   ],
   "source": [
    "for idx,follower in enumerate(iit_followers):\n",
    "    if \"DinkyShop\" in follower:\n",
    "        print idx\n",
    "print len(iit_followers_2)"
   ]
  },
  {
   "cell_type": "code",
   "execution_count": 21,
   "metadata": {
    "collapsed": false
   },
   "outputs": [],
   "source": [
    "iit_followers_2 =  list(iit_followers)[1548:]"
   ]
  },
  {
   "cell_type": "code",
   "execution_count": 15,
   "metadata": {
    "collapsed": false
   },
   "outputs": [],
   "source": [
    "def get_friend_ids(screen_name):\n",
    "    \"\"\" Return a dictionary of users that are friends of this person on Twitter.\n",
    "    \n",
    "    Args:\n",
    "        screen_name: a string of a Twitter screen name\n",
    "    Returns:\n",
    "        A list of ids per friend of the given account.\n",
    "    \"\"\"\n",
    "    friends = []\n",
    "    cursor = -1\n",
    "    key = 0\n",
    "    while True:\n",
    "        request = robust_request(twitter,'friends/ids', \n",
    "                                 {'screen_name': screen_name, 'count':5000, 'cursor': cursor})\n",
    "        \n",
    "        if request == None:\n",
    "            return 0\n",
    "        elif request == -1 :    # Authentication error : Can't access follower data\n",
    "            return -1\n",
    "        elif request == -2:   # Page does not exist error\n",
    "            return -2\n",
    "        \n",
    "        json_response = request.json()\n",
    "        \n",
    "        # Get 5000 friends from json_response\n",
    "        friends = json_response['ids']\n",
    "        key = len(friends)\n",
    "                \n",
    "        # If user has < 200 friends or to retrieve last friends followers\n",
    "        if json_response[\"next_cursor\"] == 0:\n",
    "            break\n",
    "            \n",
    "        # Update cursor to get next 200 friends\n",
    "        cursor = json_response[\"next_cursor\"]\n",
    "        print \"Collected %d friends for %s\" % (key,screen_name)\n",
    "    print \"Returning --- %d friends for %s\" % (key,screen_name)\n",
    "    return friends"
   ]
  },
  {
   "cell_type": "code",
   "execution_count": 14,
   "metadata": {
    "collapsed": true
   },
   "outputs": [],
   "source": [
    "def get_friend_ids_and_pickle_object(univ_followers, univ_name):\n",
    "    \"\"\" Calls get_friends() to collect all friends of a Twitter account\n",
    "        and then saves it by pickling.\n",
    "    \n",
    "    Args: A list of strings representing the screen_names of all followers of a university,\n",
    "          A string representing the university's name.\n",
    "          \n",
    "    Returns : A dictionary of { String , [List] } pairs,\n",
    "              where String is a university follower's screen_name\n",
    "              and List is a list of screen_names of their friends\n",
    "    \"\"\"\n",
    "    friends_of_univ_followers = {}\n",
    "    for follower in univ_followers:\n",
    "        friends = get_friend_ids(follower)\n",
    "        friends_of_univ_followers[follower] = friends\n",
    "        fileObject = open(\"raw_data/friend_ids_of_\" + univ_name + \"_followers\",'wb')\n",
    "        pickle.dump(friends_of_univ_followers,fileObject)\n",
    "        fileObject.close()\n",
    "    return friends_of_univ_followers"
   ]
  },
  {
   "cell_type": "code",
   "execution_count": 16,
   "metadata": {
    "collapsed": false
   },
   "outputs": [
    {
     "name": "stdout",
     "output_type": "stream",
     "text": [
      "Returning --- 552 friends for mlacedog\n",
      "Returning --- 16 friends for GetIITJEE\n",
      "Returning --- 1268 friends for izenku\n",
      "Returning --- 68 friends for VHSRedbirdsGO\n",
      "Returning --- 48 friends for KaranPatel0008\n",
      "Returning --- 858 friends for katknight\n",
      "Returning --- 1724 friends for sparklebliss\n",
      "Returning --- 11 friends for IITDBGroup\n",
      "Returning --- 386 friends for StartupUChicago\n",
      "Returning --- 430 friends for Lucia_RS"
     ]
    },
    {
     "name": "stderr",
     "output_type": "stream",
     "text": [
      "Got error: {\"errors\":[{\"message\":\"Rate limit exceeded\",\"code\":88}]} \n",
      "sleeping for 15 minutes.\n"
     ]
    },
    {
     "name": "stdout",
     "output_type": "stream",
     "text": [
      "\n",
      "Returning --- 1681 friends for Circle_West\n",
      "Returning --- 307 friends for neerajpkamath\n",
      "Returning --- 2679 friends for ChicagoBlueSky\n",
      "Returning --- 73 friends for kamlesh7252\n",
      "Returning --- 11 friends for harsh_khadgawat\n",
      "Returning --- 1536 friends for DigGraphSol\n",
      "Returning --- 1 friends for nandkri\n",
      "Returning --- 244 friends for azullah\n",
      "Returning --- 196 friends for sonrisassmiles\n",
      "Returning --- 110 friends for thineownthought\n",
      "Returning --- 3 friends for EdgardoValle1\n",
      "Returning --- 1149 friends for RajatMa45718129\n",
      "Returning --- 1475 friends for EdUSACanada"
     ]
    },
    {
     "name": "stderr",
     "output_type": "stream",
     "text": [
      "Got error: {\"errors\":[{\"message\":\"Rate limit exceeded\",\"code\":88}]} \n",
      "sleeping for 15 minutes.\n"
     ]
    },
    {
     "name": "stdout",
     "output_type": "stream",
     "text": [
      "\n",
      "Returning --- 336 friends for jeremygentile\n",
      "Returning --- 1866 friends for sewing3\n",
      "Returning --- 40 friends for DanielBekkouche\n",
      "Returning --- 393 friends for RAJUPVKS\n",
      "Returning --- 28 friends for JordanW36886577\n",
      "Returning --- 135 friends for james_hilliard\n",
      "Returning --- 648 friends for BridgeportBA\n",
      "Returning --- 1971 friends for goodmanbitbad\n",
      "Returning --- 209 friends for HarshManiar2\n",
      "Returning --- 569 friends for Tripti_Says\n",
      "Returning --- 165 friends for burakpilavci\n",
      "Returning --- 44 friends for bahulkumar82\n",
      "Returning --- 319 friends for nrk8286\n",
      "Returning --- 103 friends for Miller_psych\n",
      "Returning --- 96 friends for samar_reis"
     ]
    },
    {
     "name": "stderr",
     "output_type": "stream",
     "text": [
      "Got error: {\"errors\":[{\"message\":\"Rate limit exceeded\",\"code\":88}]} \n",
      "sleeping for 15 minutes.\n"
     ]
    },
    {
     "name": "stdout",
     "output_type": "stream",
     "text": [
      "\n",
      "Returning --- 49 friends for CenterCourtLN\n",
      "Returning --- 68 friends for AmandusLion\n",
      "Returning --- 189 friends for MaryDjurovic\n",
      "Returning --- 777 friends for PaulaH7\n",
      "Returning --- 356 friends for carleymarieh\n",
      "Returning --- 386 friends for div2494\n",
      "Collected 5000 friends for BUBLIVE\n",
      "Collected 5000 friends for BUBLIVE\n",
      "Collected 5000 friends for BUBLIVE\n",
      "Collected 5000 friends for BUBLIVE\n",
      "Collected 5000 friends for BUBLIVE\n",
      "Collected 5000 friends for BUBLIVE\n",
      "Collected 5000 friends for BUBLIVE\n",
      "Collected 5000 friends for BUBLIVE\n",
      "Collected 5000 friends for BUBLIVE"
     ]
    },
    {
     "name": "stderr",
     "output_type": "stream",
     "text": [
      "Got error: {\"errors\":[{\"message\":\"Rate limit exceeded\",\"code\":88}]} \n",
      "sleeping for 15 minutes.\n"
     ]
    },
    {
     "name": "stdout",
     "output_type": "stream",
     "text": [
      "\n",
      "Collected 5000 friends for BUBLIVE\n",
      "Collected 5000 friends for BUBLIVE\n",
      "Collected 5000 friends for BUBLIVE\n",
      "Collected 5000 friends for BUBLIVE\n",
      "Collected 5000 friends for BUBLIVE\n",
      "Collected 5000 friends for BUBLIVE\n",
      "Returning --- 142 friends for BUBLIVE\n",
      "Returning --- 532 friends for go_teego\n",
      "Returning --- 92 friends for ravikishore247\n",
      "Returning --- 133 friends for prash_morkonda\n",
      "Returning --- 230 friends for BaselTarabishi\n",
      "Returning --- 2553 friends for mikenow\n",
      "Returning --- 653 friends for zahasdisciple\n",
      "Returning --- 1776 friends for ITAbuzz\n",
      "Returning --- 14 friends for beccabot11"
     ]
    },
    {
     "name": "stderr",
     "output_type": "stream",
     "text": [
      "Got error: {\"errors\":[{\"message\":\"Rate limit exceeded\",\"code\":88}]} \n",
      "sleeping for 15 minutes.\n"
     ]
    },
    {
     "name": "stdout",
     "output_type": "stream",
     "text": [
      "\n",
      "Collected 5000 friends for GDFSUEZEnergy\n",
      "Returning --- 2679 friends for GDFSUEZEnergy\n",
      "Returning --- 606 friends for segaldesign\n",
      "Returning --- 333 friends for tay9_4\n",
      "Returning --- 4 friends for osakhniuk\n",
      "Returning --- 19 friends for PeterShebelski\n",
      "Returning --- 1217 friends for LJ1996\n",
      "Returning --- 102 friends for SafeandAware\n",
      "Returning --- 2008 friends for PPCResourceHub\n",
      "Returning --- 528 friends for ACTstudyintheUS\n",
      "Returning --- 103 friends for akj_stud\n",
      "Returning --- 35 friends for whyagog\n",
      "Returning --- 124 friends for Curtineer\n",
      "Returning --- 1421 friends for osamabinharoon"
     ]
    },
    {
     "name": "stderr",
     "output_type": "stream",
     "text": [
      "Got error: {\"errors\":[{\"message\":\"Rate limit exceeded\",\"code\":88}]} \n",
      "sleeping for 15 minutes.\n"
     ]
    },
    {
     "name": "stdout",
     "output_type": "stream",
     "text": [
      "\n",
      "Returning --- 111 friends for bg_kenZ\n",
      "Returning --- 1951 friends for PatrickOBarnes\n",
      "Returning --- 128 friends for BriannaBussell\n",
      "Returning --- 50 friends for AdamDStribling\n",
      "Returning --- 15 friends for Hazeliit\n",
      "Returning --- 687 friends for Dakota_Herman\n",
      "Returning --- 215 friends for Bshavel\n",
      "Returning --- 323 friends for isamar1027\n",
      "Returning --- 1956 friends for seahawk111111\n",
      "Returning --- 1663 friends for YUNinCHICAGO\n",
      "Returning --- 1943 friends for ChiCityColleges\n",
      "Returning --- 150 friends for nikhilaps\n",
      "Returning --- 268 friends for deepak_human\n",
      "Returning --- 205 friends for oo304oo\n",
      "Returning --- 42 friends for yashwantpatida8"
     ]
    },
    {
     "name": "stderr",
     "output_type": "stream",
     "text": [
      "Got error: {\"errors\":[{\"message\":\"Rate limit exceeded\",\"code\":88}]} \n",
      "sleeping for 15 minutes.\n"
     ]
    },
    {
     "name": "stdout",
     "output_type": "stream",
     "text": [
      "\n",
      "Returning --- 387 friends for JobberPark\n",
      "Returning --- 542 friends for wobbles88\n",
      "Collected 5000 friends for BerkeleyBrett\n",
      "Collected 5000 friends for BerkeleyBrett\n",
      "Collected 5000 friends for BerkeleyBrett\n",
      "Collected 5000 friends for BerkeleyBrett\n",
      "Collected 5000 friends for BerkeleyBrett\n",
      "Returning --- 511 friends for BerkeleyBrett\n",
      "Returning --- 45 friends for A_Bomb__\n",
      "Returning --- 390 friends for VanderCook\n",
      "Returning --- 37 friends for anilkum24146882\n",
      "Returning --- 1918 friends for MalagaCAD\n",
      "Returning --- 65 friends for mmsalameh\n",
      "Returning --- 1647 friends for TheClockNewscom\n",
      "Returning --- 131 friends for honeydipt911y3"
     ]
    },
    {
     "name": "stderr",
     "output_type": "stream",
     "text": [
      "Got error: {\"errors\":[{\"message\":\"Rate limit exceeded\",\"code\":88}]} \n",
      "sleeping for 15 minutes.\n"
     ]
    },
    {
     "name": "stdout",
     "output_type": "stream",
     "text": [
      "\n",
      "Returning --- 33 friends for momcboos\n",
      "Returning --- 546 friends for JameelaJafri\n",
      "Returning --- 79 friends for StuffedKulcha\n",
      "Collected 5000 friends for PureEngineerLLC\n",
      "Collected 5000 friends for PureEngineerLLC\n",
      "Returning --- 1847 friends for PureEngineerLLC\n",
      "Returning --- 9 friends for UFarmIIT\n",
      "Returning --- 512 friends for Sumitkr555Sk\n",
      "Returning --- 1637 friends for Nellysecho\n",
      "Returning --- 73 friends for vsingh1802\n",
      "Returning --- 901 friends for Shreyaa3\n",
      "Returning --- 85 friends for iitstudyabroad\n",
      "Returning --- 206 friends for geniusdilip\n",
      "Returning --- 24 friends for KellieAFields"
     ]
    },
    {
     "name": "stderr",
     "output_type": "stream",
     "text": [
      "Got error: {\"errors\":[{\"message\":\"Rate limit exceeded\",\"code\":88}]} \n",
      "sleeping for 15 minutes.\n"
     ]
    },
    {
     "name": "stdout",
     "output_type": "stream",
     "text": [
      "\n",
      "Returning --- 189 friends for jeff_hallenbeck\n",
      "Returning --- 5 friends for ABUNASAR19\n",
      "Returning --- 1993 friends for Realsta_Ltd\n",
      "Returning --- 85 friends for nrusty\n",
      "Returning --- 21 friends for chgltd\n",
      "Returning --- 1611 friends for SBDinformation\n",
      "Returning --- 434 friends for subham_iitk\n",
      "Returning --- 14 friends for tarunsharma8501\n",
      "Returning --- 314 friends for ozziemeza1\n",
      "Returning --- 442 friends for jlukechitwood\n",
      "Returning --- 29 friends for 3db2311adff24c9\n",
      "Returning --- 37 friends for pamelamoi128\n",
      "Returning --- 1476 friends for GOTO2040"
     ]
    },
    {
     "name": "stderr",
     "output_type": "stream",
     "text": [
      "Got error: {\"errors\":[{\"message\":\"Rate limit exceeded\",\"code\":88}]} \n",
      "sleeping for 15 minutes.\n"
     ]
    },
    {
     "name": "stdout",
     "output_type": "stream",
     "text": [
      "\n",
      "Returning --- 18 friends for saurabh81432866\n",
      "Returning --- 355 friends for Ujjwal_Mukherje\n",
      "Returning --- 1071 friends for roshernetwork\n",
      "Returning --- 52 friends for kumar_nem\n",
      "Returning --- 466 friends for imAvniAAP\n",
      "Returning --- 262 friends for BryantAXS\n",
      "Returning --- 101 friends for ahmed_gayel\n",
      "Returning --- 1945 friends for mycollegeguide\n",
      "Returning --- 20 friends for yzheng47\n",
      "Collected 5000 friends for TeeWaterPark\n",
      "Collected 5000 friends for TeeWaterPark\n",
      "Collected 5000 friends for TeeWaterPark\n",
      "Collected 5000 friends for TeeWaterPark\n",
      "Collected 5000 friends for TeeWaterPark"
     ]
    },
    {
     "name": "stderr",
     "output_type": "stream",
     "text": [
      "Got error: {\"errors\":[{\"message\":\"Rate limit exceeded\",\"code\":88}]} \n",
      "sleeping for 15 minutes.\n"
     ]
    },
    {
     "name": "stdout",
     "output_type": "stream",
     "text": [
      "\n",
      "Collected 5000 friends for TeeWaterPark\n",
      "Collected 5000 friends for TeeWaterPark\n",
      "Collected 5000 friends for TeeWaterPark\n",
      "Collected 5000 friends for TeeWaterPark\n",
      "Collected 5000 friends for TeeWaterPark\n",
      "Collected 5000 friends for TeeWaterPark\n",
      "Collected 5000 friends for TeeWaterPark\n",
      "Collected 5000 friends for TeeWaterPark\n",
      "Collected 5000 friends for TeeWaterPark\n",
      "Collected 5000 friends for TeeWaterPark\n",
      "Collected 5000 friends for TeeWaterPark\n",
      "Collected 5000 friends for TeeWaterPark\n",
      "Collected 5000 friends for TeeWaterPark\n",
      "Collected 5000 friends for TeeWaterPark\n",
      "Returning --- 2906 friends for TeeWaterPark"
     ]
    },
    {
     "name": "stderr",
     "output_type": "stream",
     "text": [
      "Got error: {\"errors\":[{\"message\":\"Rate limit exceeded\",\"code\":88}]} \n",
      "sleeping for 15 minutes.\n"
     ]
    },
    {
     "name": "stdout",
     "output_type": "stream",
     "text": [
      "\n",
      "Returning --- 2 friends for dan_lpd\n",
      "Returning --- 252 friends for TescaTech\n",
      "Returning --- 50 friends for kush373\n",
      "Returning --- 111 friends for GTawari\n",
      "Returning --- 299 friends for ccacci60\n",
      "Returning --- 25 friends for iitiimatrimony1\n",
      "Returning --- 180 friends for amulindian\n",
      "Returning --- 251 friends for IAmWillSyvongsa\n",
      "Returning --- 217 friends for GWcollege\n",
      "Returning --- 98 friends for Vg123789Gupta"
     ]
    },
    {
     "name": "stderr",
     "output_type": "stream",
     "text": [
      "Got error: {\"errors\":[{\"message\":\"Rate limit exceeded\",\"code\":88}]} \n",
      "sleeping for 15 minutes.\n"
     ]
    },
    {
     "name": "stdout",
     "output_type": "stream",
     "text": [
      "\n",
      "Returning --- 1739 friends for JordanAbudayyeh\n",
      "Returning --- 84 friends for studio_sally\n",
      "Returning --- 7 friends for dmanish989\n",
      "Returning --- 1834 friends for ACNbyYM\n",
      "Returning --- 121 friends for walkthruwater\n",
      "Returning --- 499 friends for VMAT87\n",
      "Returning --- 60 friends for Bragadeesh153\n",
      "Returning --- 74 friends for TyedyeSpence\n",
      "Returning --- 687 friends for lorymishra\n",
      "Returning --- 237 friends for rsinfotech2\n",
      "Returning --- 518 friends for RexElectric\n",
      "Returning --- 744 friends for rtl_company\n",
      "Returning --- 535 friends for dbild\n",
      "Returning --- 77 friends for kiranoo78"
     ]
    },
    {
     "name": "stderr",
     "output_type": "stream",
     "text": [
      "Got error: {\"errors\":[{\"message\":\"Rate limit exceeded\",\"code\":88}]} \n",
      "sleeping for 15 minutes.\n"
     ]
    },
    {
     "name": "stdout",
     "output_type": "stream",
     "text": [
      "\n",
      "Returning --- 2006 friends for foodsafety4u\n",
      "Returning --- 104 friends for PTeducation\n",
      "Returning --- 501 friends for OdebrechtAward\n",
      "Returning --- 438 friends for LightMetalAge\n",
      "Returning --- 239 friends for andrew0writer\n",
      "Returning --- 25 friends for ramachandra1111\n",
      "Returning --- 311 friends for diipiii\n",
      "Returning --- 221 friends for Mrcheese24\n",
      "Returning --- 295 friends for GURURAJARSHI\n",
      "Returning --- 424 friends for unitedscrap\n",
      "Returning --- 47 friends for THISONESA______\n",
      "Returning --- 814 friends for CHIbizexpo\n",
      "Returning --- 319 friends for zbhoy\n",
      "Returning --- 1488 friends for NCAC1"
     ]
    },
    {
     "name": "stderr",
     "output_type": "stream",
     "text": [
      "Got error: {\"errors\":[{\"message\":\"Rate limit exceeded\",\"code\":88}]} \n",
      "sleeping for 15 minutes.\n"
     ]
    },
    {
     "name": "stdout",
     "output_type": "stream",
     "text": [
      "\n",
      "Returning --- 126 friends for Jyothi_tummala\n",
      "Returning --- 706 friends for CACoalition\n",
      "Returning --- 16 friends for GOVINDJ13381598\n",
      "Returning --- 222 friends for iit_ifsh\n",
      "Returning --- 49 friends for ITwithSAMG\n",
      "Returning --- 144 friends for ZrobertRus\n",
      "Returning --- 1232 friends for kahiggins\n",
      "Returning --- 795 friends for GrantKlinzman\n",
      "Returning --- 210 friends for mariachaure\n",
      "Returning --- 1243 friends for EasyTurf\n",
      "Returning --- 20 friends for JithuJitu\n",
      "Returning --- 1459 friends for DsTigerheart\n",
      "Returning --- 471 friends for EAA_Chicago"
     ]
    },
    {
     "name": "stderr",
     "output_type": "stream",
     "text": [
      "Got error: {\"errors\":[{\"message\":\"Rate limit exceeded\",\"code\":88}]} \n",
      "sleeping for 15 minutes.\n"
     ]
    },
    {
     "name": "stdout",
     "output_type": "stream",
     "text": [
      "\n",
      "Returning --- 33 friends for jagadishcheluri\n",
      "Returning --- 62 friends for xgong8\n",
      "Returning --- 9 friends for MaziarLn\n",
      "Returning --- 48 friends for mudit00077\n",
      "Returning --- 35 friends for lokhande_rohit\n",
      "Returning --- 110 friends for al_othaimeen\n",
      "Returning --- 17 friends for CKLambdas\n",
      "Returning --- 59 friends for AlNunez1890\n",
      "Returning --- 542 friends for KaiyaOlsen\n",
      "Returning --- 193 friends for mdfaizuddin15\n",
      "Returning --- 223 friends for NBCahan\n",
      "Returning --- 38 friends for IITTennis\n",
      "Returning --- 331 friends for Apiee12"
     ]
    },
    {
     "name": "stderr",
     "output_type": "stream",
     "text": [
      "Got error: {\"errors\":[{\"message\":\"Rate limit exceeded\",\"code\":88}]} \n",
      "sleeping for 15 minutes.\n"
     ]
    },
    {
     "name": "stdout",
     "output_type": "stream",
     "text": [
      "\n",
      "Returning --- 210 friends for RudyBalciunas\n",
      "Returning --- 960 friends for GABYDancing\n",
      "Returning --- 70 friends for theRealPranay\n",
      "Returning --- 197 friends for MortensonCareer\n",
      "Returning --- 2003 friends for JohnMunkWYG\n",
      "Returning --- 34 friends for 3d8768b4501c402\n",
      "Returning --- 56 friends for angel_ss1\n",
      "Returning --- 69 friends for krishnakmr906\n",
      "Returning --- 30 friends for dewdropdesigns\n",
      "Returning --- 1525 friends for GovTechChicago\n",
      "Returning --- 85 friends for muntaser_khan\n",
      "Returning --- 54 friends for SthSideSarah638\n",
      "Returning --- 16 friends for subhash80329162\n",
      "Returning --- 2681 friends for GKChicago\n",
      "Returning --- 159 friends for Shermone"
     ]
    },
    {
     "name": "stderr",
     "output_type": "stream",
     "text": [
      "Got error: {\"errors\":[{\"message\":\"Rate limit exceeded\",\"code\":88}]} \n",
      "sleeping for 15 minutes.\n"
     ]
    },
    {
     "name": "stdout",
     "output_type": "stream",
     "text": [
      "\n",
      "Returning --- 63 friends for LucianSun\n",
      "Returning --- 241 friends for JeffreyCCarr\n",
      "Returning --- 144 friends for _windrider_\n",
      "Returning --- 10 friends for intm_iit\n",
      "Returning --- 888 friends for Block37Shops\n",
      "Returning --- 114 friends for elango153\n",
      "Returning --- 48 friends for AldoValenciah\n",
      "Returning --- 171 friends for NishitrajRaj\n",
      "Returning --- 9 friends for fcheng2\n",
      "Returning --- 72 friends for Halcyon_L\n",
      "Returning --- 35 friends for arnab06et"
     ]
    },
    {
     "name": "stderr",
     "output_type": "stream",
     "text": [
      "Got error: {\"errors\":[{\"message\":\"Rate limit exceeded\",\"code\":88}]} \n",
      "sleeping for 15 minutes.\n"
     ]
    },
    {
     "name": "stdout",
     "output_type": "stream",
     "text": [
      "\n",
      "Returning --- 302 friends for ExitTech\n",
      "Returning --- 43 friends for akkundkiller\n",
      "Returning --- 185 friends for younglionFR\n",
      "Returning --- 337 friends for jessefp\n",
      "Returning --- 328 friends for TomMedCenterLMS\n",
      "Returning --- 166 friends for IITGreekCouncil\n",
      "Returning --- 189 friends for jaikedar\n",
      "Returning --- 16 friends for HelixDC1\n",
      "Returning --- 1894 friends for CalabruzzisCafe\n",
      "Returning --- 114 friends for zzning39\n",
      "Returning --- 34 friends for t2_vicky\n",
      "Returning --- 990 friends for IITDesign\n",
      "Returning --- 281 friends for AGBellSchool\n",
      "Returning --- 24 friends for Graceccee"
     ]
    },
    {
     "name": "stderr",
     "output_type": "stream",
     "text": [
      "Got error: {\"errors\":[{\"message\":\"Rate limit exceeded\",\"code\":88}]} \n",
      "sleeping for 15 minutes.\n"
     ]
    },
    {
     "name": "stdout",
     "output_type": "stream",
     "text": [
      "\n",
      "Returning --- 759 friends for Mom2RLL\n",
      "Returning --- 99 friends for ironypoisoning\n",
      "Returning --- 600 friends for kyshiag\n",
      "Returning --- 438 friends for sebek\n",
      "Returning --- 1971 friends for Linda1449\n",
      "Returning --- 60 friends for AnkurGupta97\n",
      "Returning --- 811 friends for bauerphilosophy\n",
      "Returning --- 33 friends for Guo907\n",
      "Returning --- 29 friends for YorkNan\n",
      "Returning --- 129 friends for miina0207\n",
      "Returning --- 146 friends for Teefman\n",
      "Returning --- 128 friends for kaushal19"
     ]
    },
    {
     "name": "stderr",
     "output_type": "stream",
     "text": [
      "Got error: {\"errors\":[{\"message\":\"Rate limit exceeded\",\"code\":88}]} \n",
      "sleeping for 15 minutes.\n"
     ]
    },
    {
     "name": "stdout",
     "output_type": "stream",
     "text": [
      "\n",
      "Returning --- 80 friends for oskymoron\n",
      "Returning --- 1442 friends for Green_Illinois\n",
      "Returning --- 192 friends for lermtheworm\n",
      "Returning --- 12 friends for prasana1999k\n",
      "Returning --- 168 friends for eshafe70\n",
      "Returning --- 13 friends for swetamona2013\n",
      "Returning --- 38 friends for PamDarlingg\n",
      "Returning --- 343 friends for nshss\n",
      "Returning --- 471 friends for Carlos_Roa007\n",
      "Returning --- 314 friends for SAGEScholars\n",
      "Returning --- 218 friends for jmariehenson\n",
      "Returning --- 658 friends for Technavio\n",
      "Returning --- 417 friends for EduUSA_Sby"
     ]
    },
    {
     "name": "stderr",
     "output_type": "stream",
     "text": [
      "Got error: {\"errors\":[{\"message\":\"Rate limit exceeded\",\"code\":88}]} \n",
      "sleeping for 15 minutes.\n"
     ]
    },
    {
     "name": "stdout",
     "output_type": "stream",
     "text": [
      "\n",
      "Returning --- 108 friends for yzfen89\n",
      "Returning --- 166 friends for mycareeru\n",
      "Returning --- 183 friends for gauravgangwar75\n",
      "Returning --- 6 friends for CambMishra\n",
      "Returning --- 1011 friends for jain_vibhav\n",
      "Returning --- 1855 friends for pra18theek\n",
      "Returning --- 1544 friends for MikvaChallenge\n",
      "Returning --- 22 friends for Jiachengpark\n",
      "Returning --- 483 friends for Gus_Pinzon\n",
      "Returning --- 147 friends for ArleneH19\n",
      "Returning --- 1162 friends for ANUJ44744641\n",
      "Returning --- 352 friends for julio1039\n",
      "Returning --- 7 friends for sivasankar686\n",
      "Returning --- 3 friends for clzhang2"
     ]
    },
    {
     "name": "stderr",
     "output_type": "stream",
     "text": [
      "Got error: {\"errors\":[{\"message\":\"Rate limit exceeded\",\"code\":88}]} \n",
      "sleeping for 15 minutes.\n"
     ]
    },
    {
     "name": "stdout",
     "output_type": "stream",
     "text": [
      "\n",
      "Returning --- 87 friends for hensleyjo\n",
      "Returning --- 1179 friends for Nvania\n",
      "Returning --- 75 friends for top10enggcolleg\n",
      "Returning --- 283 friends for StephanieH131\n",
      "Returning --- 863 friends for researcharya\n",
      "Returning --- 271 friends for scottwurst\n",
      "Returning --- 465 friends for Ebeth_thomas\n",
      "Returning --- 13 friends for CirceLlanos\n",
      "Returning --- 2030 friends for KankakeeCoEDC\n",
      "Returning --- 11 friends for Lakshya_being\n",
      "Returning --- 1109 friends for AdvancedCoolTx\n",
      "Returning --- 4062 friends for TriumphCIO\n",
      "Returning --- 22 friends for sburiiali\n",
      "Returning --- 829 friends for ISTPLifeScience"
     ]
    },
    {
     "name": "stderr",
     "output_type": "stream",
     "text": [
      "Got error: {\"errors\":[{\"message\":\"Rate limit exceeded\",\"code\":88}]} \n",
      "sleeping for 15 minutes.\n"
     ]
    },
    {
     "name": "stdout",
     "output_type": "stream",
     "text": [
      "\n",
      "Returning --- 75 friends for filibe77\n",
      "Returning --- 32 friends for nirmalpshah\n",
      "Returning --- 30 friends for ryan_tillman\n",
      "Returning --- 1 friends for Alpha_Xi_IIT\n",
      "Returning --- 945 friends for agnieszkasraz\n",
      "Collected 5000 friends for STEMConnector\n",
      "Returning --- 1718 friends for STEMConnector\n",
      "Returning --- 650 friends for kenilkpanchal\n",
      "Returning --- 64 friends for talksupri\n",
      "Returning --- 173 friends for ajaysareen76\n",
      "Returning --- 49 friends for MONEY4317\n",
      "Returning --- 953 friends for IBMAnalytics\n",
      "Returning --- 1149 friends for ChicagoBBB"
     ]
    },
    {
     "name": "stderr",
     "output_type": "stream",
     "text": [
      "Got error: {\"errors\":[{\"message\":\"Rate limit exceeded\",\"code\":88}]} \n",
      "sleeping for 15 minutes.\n"
     ]
    },
    {
     "name": "stdout",
     "output_type": "stream",
     "text": [
      "\n",
      "Returning --- 57 friends for jwyushadow\n",
      "Collected 5000 friends for ChicagolandCmbr\n",
      "Returning --- 3684 friends for ChicagolandCmbr\n",
      "Returning --- 1756 friends for ashoksurana\n",
      "Returning --- 430 friends for raheeshtripathi\n",
      "Returning --- 29 friends for kundankumar091\n",
      "Returning --- 13 friends for IITJEEPALAKKAD\n",
      "Returning --- 1228 friends for FastEntCareers\n",
      "Returning --- 101 friends for _Swannk\n",
      "Returning --- 42 friends for 130108021akr\n",
      "Returning --- 351 friends for iBIOPROPEL\n",
      "Returning --- 443 friends for FactSetCareers\n",
      "Returning --- 514 friends for jakoblich"
     ]
    },
    {
     "name": "stderr",
     "output_type": "stream",
     "text": [
      "Got error: {\"errors\":[{\"message\":\"Rate limit exceeded\",\"code\":88}]} \n",
      "sleeping for 15 minutes.\n"
     ]
    },
    {
     "name": "stdout",
     "output_type": "stream",
     "text": [
      "\n",
      "Returning --- 27 friends for Z_R_A_N\n",
      "Returning --- 107 friends for SUBRATACHOUDH11\n",
      "Returning --- 124 friends for shaheddin786\n",
      "Returning --- 85 friends for PBFeZ\n",
      "Returning --- 9 friends for DSTCJunagadh\n",
      "Returning --- 310 friends for CNSmakerfaire\n",
      "Returning --- 88 friends for JBValPro\n",
      "Returning --- 99 friends for elmarok\n",
      "Returning --- 757 friends for SpecialEventCo\n",
      "Returning --- 306 friends for FatimaMendez_C\n",
      "Returning --- 16 friends for techspandan\n",
      "Returning --- 1936 friends for Ryan_C_Miller"
     ]
    },
    {
     "name": "stderr",
     "output_type": "stream",
     "text": [
      "Got error: {\"errors\":[{\"message\":\"Rate limit exceeded\",\"code\":88}]} \n",
      "sleeping for 15 minutes.\n"
     ]
    },
    {
     "name": "stdout",
     "output_type": "stream",
     "text": [
      "\n",
      "Returning --- 118 friends for parulalokmittal\n",
      "Returning --- 749 friends for GCMHERC\n",
      "Returning --- 21 friends for rishabh35276653\n",
      "Returning --- 136 friends for casio_willy\n",
      "Returning --- 144 friends for Leesetomltm\n",
      "Returning --- 874 friends for DonRafFoodTruck\n",
      "Returning --- 17 friends for EcoSolarChi\n",
      "Returning --- 72 friends for ankit_ajmera\n",
      "Returning --- 10 friends for IIT_Crabs\n",
      "Returning --- 1128 friends for ditschfitness\n",
      "Returning --- 65 friends for ewhite98\n",
      "Returning --- 347 friends for allaboutblue20\n",
      "Returning --- 238 friends for StreetID"
     ]
    },
    {
     "name": "stderr",
     "output_type": "stream",
     "text": [
      "Got error: {\"errors\":[{\"message\":\"Rate limit exceeded\",\"code\":88}]} \n",
      "sleeping for 15 minutes.\n"
     ]
    },
    {
     "name": "stdout",
     "output_type": "stream",
     "text": [
      "\n",
      "Returning --- 208 friends for Shivamy39966353\n",
      "Returning --- 231 friends for ESMEsudria\n",
      "Returning --- 12 friends for GreenMyDollar\n",
      "Returning --- 1303 friends for uversityinc\n",
      "Returning --- 52 friends for IITASB\n",
      "Returning --- 153 friends for salmavich\n",
      "Returning --- 92 friends for jwbespoke\n",
      "Returning --- 178 friends for RealPoxdoc\n",
      "Returning --- 3524 friends for NYSID\n",
      "Returning --- 312 friends for WSC_Scholars\n",
      "Returning --- 2005 friends for SteAmoroso\n",
      "Returning --- 52 friends for innoideators\n",
      "Returning --- 26 friends for TheFinal60\n",
      "Returning --- 6 friends for ramkumartce"
     ]
    },
    {
     "name": "stderr",
     "output_type": "stream",
     "text": [
      "Got error: {\"errors\":[{\"message\":\"Rate limit exceeded\",\"code\":88}]} \n",
      "sleeping for 15 minutes.\n"
     ]
    },
    {
     "name": "stdout",
     "output_type": "stream",
     "text": [
      "\n",
      "Returning --- 141 friends for WiTronix\n",
      "Returning --- 12 friends for IllTechROTC\n",
      "Returning --- 19 friends for claire_hzhang\n",
      "Returning --- 1141 friends for cyberdenton\n",
      "Returning --- 1413 friends for zlimp\n",
      "Returning --- 461 friends for nbullsa\n",
      "Collected 5000 friends for CollegeBlender\n",
      "Returning --- 391 friends for CollegeBlender\n",
      "Returning --- 34 friends for prince_de_usa\n",
      "Returning --- 203 friends for Baselios94\n",
      "Returning --- 71 friends for DBAUniversity\n",
      "Returning --- 268 friends for sherali_iitr\n",
      "Returning --- 121 friends for AkarshDuggirala\n",
      "Returning --- 185 friends for nivetac"
     ]
    },
    {
     "name": "stderr",
     "output_type": "stream",
     "text": [
      "Got error: {\"errors\":[{\"message\":\"Rate limit exceeded\",\"code\":88}]} \n",
      "sleeping for 15 minutes.\n"
     ]
    },
    {
     "name": "stdout",
     "output_type": "stream",
     "text": [
      "\n",
      "Returning --- 58 friends for kirstenlamkin\n",
      "Returning --- 320 friends for Rj33320\n",
      "Returning --- 1686 friends for heathaplexvsn\n",
      "Returning --- 106 friends for us_infotech\n",
      "Returning --- 225 friends for DanKosm0\n",
      "Returning --- 661 friends for GradSense\n",
      "Returning --- 104 friends for AdmissionPro\n",
      "Returning --- 1950 friends for omidubey\n",
      "Returning --- 2159 friends for USAENews\n",
      "Returning --- 52 friends for rslooch1\n",
      "Returning --- 331 friends for KapeelDaryani\n",
      "Returning --- 2198 friends for PayingForSchool\n",
      "Returning --- 86 friends for kumar_viwaan\n",
      "Returning --- 1724 friends for TayebHyderally"
     ]
    },
    {
     "name": "stderr",
     "output_type": "stream",
     "text": [
      "Got error: {\"errors\":[{\"message\":\"Rate limit exceeded\",\"code\":88}]} \n",
      "sleeping for 15 minutes.\n"
     ]
    },
    {
     "name": "stdout",
     "output_type": "stream",
     "text": [
      "\n",
      "Returning --- 59 friends for Jinchen12138\n",
      "Returning --- 1172 friends for susanrubinsky\n",
      "Returning --- 56 friends for Vinodbondapalli\n",
      "Returning --- 70 friends for prakhariitr\n",
      "Returning --- 2 friends for robteaches\n",
      "Returning --- 676 friends for amwrkshp\n",
      "Returning --- 17 friends for Mohamma70730564\n",
      "Returning --- 583 friends for KalabichMgmt\n",
      "Returning --- 2083 friends for Ry_Guy__\n",
      "Returning --- 2939 friends for HertzlerD\n",
      "Returning --- 2115 friends for CarpenteBeatriz\n",
      "Returning --- 6 friends for juanlaulhe\n",
      "Returning --- 196 friends for slynn001\n",
      "Returning --- 1333 friends for StratoStar4U"
     ]
    },
    {
     "name": "stderr",
     "output_type": "stream",
     "text": [
      "Got error: {\"errors\":[{\"message\":\"Rate limit exceeded\",\"code\":88}]} \n",
      "sleeping for 15 minutes.\n"
     ]
    },
    {
     "name": "stdout",
     "output_type": "stream",
     "text": [
      "\n",
      "Returning --- 891 friends for ExecClubChicago\n",
      "Returning --- 35 friends for mpektas\n",
      "Returning --- 24 friends for nbismoi\n",
      "Returning --- 127 friends for twitophobian\n",
      "Returning --- 154 friends for PiyushS2408\n",
      "Returning --- 1157 friends for HigherEdCompass\n",
      "Returning --- 210 friends for 100tomates\n",
      "Returning --- 265 friends for jhui216\n",
      "Returning --- 96 friends for aalayach\n",
      "Returning --- 126 friends for pbuttswag\n",
      "Returning --- 394 friends for kunalomizer\n",
      "Returning --- 32 friends for AmyWDJobs\n",
      "Returning --- 43 friends for nadeemkansari\n",
      "Returning --- 140 friends for TCCAHS"
     ]
    },
    {
     "name": "stderr",
     "output_type": "stream",
     "text": [
      "Got error: {\"errors\":[{\"message\":\"Rate limit exceeded\",\"code\":88}]} \n",
      "sleeping for 15 minutes.\n"
     ]
    },
    {
     "name": "stdout",
     "output_type": "stream",
     "text": [
      "\n",
      "Returning --- 58 friends for abs_inc\n",
      "Returning --- 612 friends for collegeoptions\n",
      "Returning --- 528 friends for JohnACrispino\n",
      "Returning --- 204 friends for shopNAIT\n",
      "Returning --- 14 friends for mai_prata\n",
      "Returning --- 91 friends for yanxiang1011\n",
      "Returning --- 378 friends for urbancrossway\n",
      "Returning --- 828 friends for ExcellenceTax\n",
      "Returning --- 223 friends for RossTLudwig\n",
      "Returning --- 43 friends for Parth_Kalaria\n",
      "Returning --- 1493 friends for sahill25\n",
      "Returning --- 23 friends for bledeloc"
     ]
    },
    {
     "name": "stderr",
     "output_type": "stream",
     "text": [
      "Got error: {\"errors\":[{\"message\":\"Rate limit exceeded\",\"code\":88}]} \n",
      "sleeping for 15 minutes.\n"
     ]
    },
    {
     "name": "stdout",
     "output_type": "stream",
     "text": [
      "\n",
      "Returning --- 1046 friends for NWgradplus\n",
      "Returning --- 1342 friends for Connextbooks\n",
      "Returning --- 749 friends for Baloonr\n",
      "Returning --- 253 friends for paniitalumni\n",
      "Returning --- 635 friends for AsianAmBiz\n",
      "Returning --- 648 friends for AndiGrab\n",
      "Returning --- 572 friends for GManikrishna206\n",
      "Returning --- 304 friends for sandeepkm1\n",
      "Returning --- 198 friends for Cape_Rabbit\n",
      "Returning --- 2064 friends for stevenmarcusmur\n",
      "Returning --- 5 friends for Mojtaba82\n",
      "Returning --- 354 friends for ygonzalez74\n",
      "Returning --- 96 friends for knadrian\n",
      "Returning --- 91 friends for AkshataKerur\n",
      "Returning --- 56 friends for AmUrbanCampus"
     ]
    },
    {
     "name": "stderr",
     "output_type": "stream",
     "text": [
      "Got error: {\"errors\":[{\"message\":\"Rate limit exceeded\",\"code\":88}]} \n",
      "sleeping for 15 minutes.\n"
     ]
    },
    {
     "name": "stdout",
     "output_type": "stream",
     "text": [
      "\n",
      "Returning --- 101 friends for RSACConference\n",
      "Returning --- 2259 friends for TinaSfon\n",
      "Returning --- 582 friends for richdom\n",
      "Returning --- 246 friends for bauleer\n",
      "Returning --- 309 friends for NagendrenK\n",
      "Returning --- 335 friends for raanstermonster\n",
      "Returning --- 162 friends for QueenofnoisElle\n",
      "Returning --- 940 friends for Moonshiner17\n",
      "Returning --- 40 friends for CalebHallgren\n",
      "Returning --- 284 friends for Subwhalerville\n",
      "Returning --- 1712 friends for SOLIDWORKSedu\n",
      "Returning --- 34 friends for NagendraKamathK\n",
      "Returning --- 340 friends for mcmutim\n",
      "Returning --- 623 friends for TheMichaelU"
     ]
    },
    {
     "name": "stderr",
     "output_type": "stream",
     "text": [
      "Got error: {\"errors\":[{\"message\":\"Rate limit exceeded\",\"code\":88}]} \n",
      "sleeping for 15 minutes.\n"
     ]
    },
    {
     "name": "stdout",
     "output_type": "stream",
     "text": [
      "\n",
      "Returning --- 592 friends for IllinoisBedBug\n",
      "Returning --- 118 friends for IIT_OneStopShop\n",
      "Returning --- 585 friends for arios856\n",
      "Returning --- 1950 friends for TechFaq360\n",
      "Returning --- 75 friends for edsapi175\n",
      "Returning --- 12 friends for Ramzi_Riadi\n",
      "Returning --- 10 friends for lugillu\n",
      "Returning --- 1523 friends for DuluxStudyTour\n",
      "Returning --- 135 friends for j64y\n",
      "Returning --- 170 friends for tushargupta1301\n",
      "Returning --- 50 friends for mengya1992\n",
      "Returning --- 101 friends for peter_mongillo"
     ]
    },
    {
     "name": "stderr",
     "output_type": "stream",
     "text": [
      "Got error: {\"errors\":[{\"message\":\"Rate limit exceeded\",\"code\":88}]} \n",
      "sleeping for 15 minutes.\n"
     ]
    },
    {
     "name": "stdout",
     "output_type": "stream",
     "text": [
      "\n",
      "Returning --- 438 friends for sofiaghouse\n",
      "Returning --- 1659 friends for cengagegale\n",
      "Returning --- 87 friends for CurtAllee\n",
      "Collected 5000 friends for NobleBSociety\n",
      "Collected 5000 friends for NobleBSociety\n",
      "Collected 5000 friends for NobleBSociety\n",
      "Collected 5000 friends for NobleBSociety\n",
      "Returning --- 3768 friends for NobleBSociety\n",
      "Returning --- 1734 friends for raheelgauba\n",
      "Returning --- 32 friends for jasmine_zeng\n",
      "Returning --- 775 friends for talentwavehr\n",
      "Returning --- 45 friends for joeluciani\n",
      "Returning --- 241 friends for chakkisthan\n",
      "Returning --- 325 friends for Arcitura\n",
      "Returning --- 474 friends for Youelearning"
     ]
    },
    {
     "name": "stderr",
     "output_type": "stream",
     "text": [
      "Got error: {\"errors\":[{\"message\":\"Rate limit exceeded\",\"code\":88}]} \n",
      "sleeping for 15 minutes.\n"
     ]
    },
    {
     "name": "stdout",
     "output_type": "stream",
     "text": [
      "\n",
      "Returning --- 40 friends for TamalDutt\n",
      "Returning --- 947 friends for umangvora1\n",
      "Returning --- 653 friends for StylozAshish\n",
      "Returning --- 15 friends for jtobiasson\n",
      "Returning --- 1984 friends for jointcra\n",
      "Returning --- 1452 friends for K_I_S_H_O_R\n",
      "Returning --- 1154 friends for Exelon\n",
      "Returning --- 164 friends for TeresaPappas\n",
      "Returning --- 86 friends for Chuan_Fang\n",
      "Returning --- 16 friends for ArifKha61132349\n",
      "Returning --- 14 friends for Jsaxena16\n",
      "Returning --- 89 friends for SLDS_IIT"
     ]
    },
    {
     "name": "stderr",
     "output_type": "stream",
     "text": [
      "Got error: {\"errors\":[{\"message\":\"Rate limit exceeded\",\"code\":88}]} \n",
      "sleeping for 15 minutes.\n"
     ]
    },
    {
     "name": "stdout",
     "output_type": "stream",
     "text": [
      "\n",
      "Returning --- 9 friends for baosong0626\n",
      "Returning --- 1074 friends for jovanamayol257\n",
      "Collected 5000 friends for SproutSocial\n",
      "Collected 5000 friends for SproutSocial\n",
      "Collected 5000 friends for SproutSocial\n",
      "Collected 5000 friends for SproutSocial\n",
      "Collected 5000 friends for SproutSocial\n",
      "Returning --- 1498 friends for SproutSocial\n",
      "Returning --- 612 friends for EaglePhotonics\n",
      "Returning --- 1036 friends for HeliosAvocats\n",
      "Returning --- 34 friends for KWiersbe\n",
      "Returning --- 1830 friends for rohansapkal5\n",
      "Returning --- 1953 friends for pabitraofficial"
     ]
    },
    {
     "name": "stderr",
     "output_type": "stream",
     "text": [
      "Got error: {\"errors\":[{\"message\":\"Rate limit exceeded\",\"code\":88}]} \n",
      "sleeping for 15 minutes.\n"
     ]
    },
    {
     "name": "stdout",
     "output_type": "stream",
     "text": [
      "\n",
      "Returning --- 333 friends for aruntayal1\n",
      "Returning --- 1999 friends for StaraMatrix\n",
      "Returning --- 756 friends for YoungMathGenius\n",
      "Returning --- 63 friends for ATPractiseSkool\n",
      "Returning --- 540 friends for UGRADEuCA\n",
      "Returning --- 74 friends for shivkumar28591\n",
      "Returning --- 9 friends for mudittech\n",
      "Returning --- 175 friends for SurenderGoyal92\n",
      "Returning --- 19 friends for rajaavishekkuma\n",
      "Returning --- 204 friends for Jeli_1993\n",
      "Returning --- 14 friends for shashwat_kunal\n",
      "Returning --- 112 friends for EloiBarti"
     ]
    },
    {
     "name": "stderr",
     "output_type": "stream",
     "text": [
      "Got error: {\"errors\":[{\"message\":\"Rate limit exceeded\",\"code\":88}]} \n",
      "sleeping for 15 minutes.\n"
     ]
    },
    {
     "name": "stdout",
     "output_type": "stream",
     "text": [
      "\n",
      "Returning --- 126 friends for Cloudeeva\n",
      "Returning --- 131 friends for OnyungK\n",
      "Returning --- 1238 friends for gtierrzclderon\n",
      "Returning --- 195 friends for PSU_History\n",
      "Returning --- 3340 friends for BIOConvention\n",
      "Returning --- 1279 friends for NACUBO\n",
      "Returning --- 179 friends for naik183\n",
      "Returning --- 112 friends for emeierpsg\n",
      "Returning --- 174 friends for Nagendrachauh10\n",
      "Returning --- 46 friends for somya_jyotishi\n",
      "Returning --- 360 friends for builtworlds\n",
      "Returning --- 714 friends for EddieSell\n",
      "Returning --- 4576 friends for drsarahsviews\n",
      "Returning --- 73 friends for BCassan25"
     ]
    },
    {
     "name": "stderr",
     "output_type": "stream",
     "text": [
      "Got error: {\"errors\":[{\"message\":\"Rate limit exceeded\",\"code\":88}]} \n",
      "sleeping for 15 minutes.\n"
     ]
    },
    {
     "name": "stdout",
     "output_type": "stream",
     "text": [
      "\n",
      "Returning --- 1678 friends for GreenSmart\n",
      "Returning --- 8 friends for shubhamgheek407\n",
      "Returning --- 347 friends for McAuleyMacs\n",
      "Returning --- 463 friends for DiscountPP\n",
      "Returning --- 209 friends for avaob\n",
      "Returning --- 34 friends for Ananyakirti\n",
      "Returning --- 87 friends for JamesJPanek\n",
      "Returning --- 1412 friends for Promoversity\n",
      "Returning --- 508 friends for Fergmnz\n",
      "Returning --- 6 friends for Chandanhn\n",
      "Returning --- 87 friends for 419pankaj"
     ]
    },
    {
     "name": "stderr",
     "output_type": "stream",
     "text": [
      "Got error: {\"errors\":[{\"message\":\"Rate limit exceeded\",\"code\":88}]} \n",
      "sleeping for 15 minutes.\n"
     ]
    },
    {
     "name": "stdout",
     "output_type": "stream",
     "text": [
      "\n",
      "Returning --- 100 friends for raaz_shivesh\n",
      "Returning --- 22 friends for jsb1271\n",
      "Returning --- 1029 friends for MicrochipTechHR\n",
      "Returning --- 56 friends for writeforscope\n",
      "Returning --- 84 friends for makeyourrules\n",
      "Returning --- 2103 friends for PriorclaveNA\n",
      "Returning --- 1414 friends for JonSpathelf\n",
      "Returning --- 64 friends for Mr_JaYtanG\n",
      "Collected 5000 friends for Brodalumab\n",
      "Collected 5000 friends for Brodalumab\n",
      "Collected 5000 friends for Brodalumab\n",
      "Collected 5000 friends for Brodalumab\n",
      "Collected 5000 friends for Brodalumab\n",
      "Collected 5000 friends for Brodalumab"
     ]
    },
    {
     "name": "stderr",
     "output_type": "stream",
     "text": [
      "Got error: {\"errors\":[{\"message\":\"Rate limit exceeded\",\"code\":88}]} \n",
      "sleeping for 15 minutes.\n"
     ]
    },
    {
     "name": "stdout",
     "output_type": "stream",
     "text": [
      "\n",
      "Collected 5000 friends for Brodalumab\n",
      "Collected 5000 friends for Brodalumab\n",
      "Collected 5000 friends for Brodalumab\n",
      "Collected 5000 friends for Brodalumab\n",
      "Collected 5000 friends for Brodalumab\n",
      "Collected 5000 friends for Brodalumab\n",
      "Collected 5000 friends for Brodalumab\n",
      "Collected 5000 friends for Brodalumab\n",
      "Collected 5000 friends for Brodalumab\n",
      "Collected 5000 friends for Brodalumab\n",
      "Collected 5000 friends for Brodalumab\n",
      "Collected 5000 friends for Brodalumab\n",
      "Collected 5000 friends for Brodalumab\n",
      "Collected 5000 friends for Brodalumab\n",
      "Collected 5000 friends for Brodalumab"
     ]
    },
    {
     "name": "stderr",
     "output_type": "stream",
     "text": [
      "Got error: {\"errors\":[{\"message\":\"Rate limit exceeded\",\"code\":88}]} \n",
      "sleeping for 15 minutes.\n"
     ]
    },
    {
     "name": "stdout",
     "output_type": "stream",
     "text": [
      "\n",
      "Collected 5000 friends for Brodalumab\n",
      "Collected 5000 friends for Brodalumab\n",
      "Collected 5000 friends for Brodalumab\n",
      "Collected 5000 friends for Brodalumab\n",
      "Collected 5000 friends for Brodalumab\n",
      "Collected 5000 friends for Brodalumab\n",
      "Collected 5000 friends for Brodalumab\n",
      "Collected 5000 friends for Brodalumab\n",
      "Collected 5000 friends for Brodalumab\n",
      "Collected 5000 friends for Brodalumab\n",
      "Collected 5000 friends for Brodalumab\n",
      "Collected 5000 friends for Brodalumab\n",
      "Collected 5000 friends for Brodalumab\n",
      "Collected 5000 friends for Brodalumab\n",
      "Collected 5000 friends for Brodalumab"
     ]
    },
    {
     "name": "stderr",
     "output_type": "stream",
     "text": [
      "Got error: {\"errors\":[{\"message\":\"Rate limit exceeded\",\"code\":88}]} \n",
      "sleeping for 15 minutes.\n"
     ]
    },
    {
     "name": "stdout",
     "output_type": "stream",
     "text": [
      "\n",
      "Collected 5000 friends for Brodalumab\n",
      "Collected 5000 friends for Brodalumab\n",
      "Collected 5000 friends for Brodalumab\n",
      "Collected 5000 friends for Brodalumab\n",
      "Collected 5000 friends for Brodalumab\n",
      "Collected 5000 friends for Brodalumab\n",
      "Collected 5000 friends for Brodalumab\n",
      "Collected 5000 friends for Brodalumab\n",
      "Collected 5000 friends for Brodalumab\n",
      "Collected 5000 friends for Brodalumab\n",
      "Collected 5000 friends for Brodalumab\n",
      "Collected 5000 friends for Brodalumab\n",
      "Collected 5000 friends for Brodalumab\n",
      "Collected 5000 friends for Brodalumab\n",
      "Collected 5000 friends for Brodalumab"
     ]
    },
    {
     "name": "stderr",
     "output_type": "stream",
     "text": [
      "Got error: {\"errors\":[{\"message\":\"Rate limit exceeded\",\"code\":88}]} \n",
      "sleeping for 15 minutes.\n"
     ]
    },
    {
     "name": "stdout",
     "output_type": "stream",
     "text": [
      "\n",
      "Collected 5000 friends for Brodalumab\n",
      "Collected 5000 friends for Brodalumab\n",
      "Collected 5000 friends for Brodalumab\n",
      "Collected 5000 friends for Brodalumab\n",
      "Collected 5000 friends for Brodalumab\n",
      "Collected 5000 friends for Brodalumab\n",
      "Collected 5000 friends for Brodalumab\n",
      "Collected 5000 friends for Brodalumab\n",
      "Collected 5000 friends for Brodalumab\n",
      "Collected 5000 friends for Brodalumab\n",
      "Collected 5000 friends for Brodalumab\n",
      "Collected 5000 friends for Brodalumab\n",
      "Collected 5000 friends for Brodalumab\n",
      "Collected 5000 friends for Brodalumab\n",
      "Collected 5000 friends for Brodalumab"
     ]
    },
    {
     "name": "stderr",
     "output_type": "stream",
     "text": [
      "Got error: {\"errors\":[{\"message\":\"Rate limit exceeded\",\"code\":88}]} \n",
      "sleeping for 15 minutes.\n"
     ]
    },
    {
     "name": "stdout",
     "output_type": "stream",
     "text": [
      "\n",
      "Collected 5000 friends for Brodalumab\n",
      "Collected 5000 friends for Brodalumab\n",
      "Collected 5000 friends for Brodalumab\n",
      "Collected 5000 friends for Brodalumab\n",
      "Collected 5000 friends for Brodalumab\n",
      "Collected 5000 friends for Brodalumab\n",
      "Collected 5000 friends for Brodalumab\n",
      "Collected 5000 friends for Brodalumab\n",
      "Collected 5000 friends for Brodalumab\n",
      "Collected 5000 friends for Brodalumab\n",
      "Collected 5000 friends for Brodalumab\n",
      "Collected 5000 friends for Brodalumab\n",
      "Collected 5000 friends for Brodalumab\n",
      "Collected 5000 friends for Brodalumab\n",
      "Collected 5000 friends for Brodalumab"
     ]
    },
    {
     "name": "stderr",
     "output_type": "stream",
     "text": [
      "Got error: {\"errors\":[{\"message\":\"Rate limit exceeded\",\"code\":88}]} \n",
      "sleeping for 15 minutes.\n"
     ]
    },
    {
     "name": "stdout",
     "output_type": "stream",
     "text": [
      "\n",
      "Collected 5000 friends for Brodalumab\n",
      "Collected 5000 friends for Brodalumab\n",
      "Collected 5000 friends for Brodalumab\n",
      "Collected 5000 friends for Brodalumab\n",
      "Collected 5000 friends for Brodalumab\n",
      "Collected 5000 friends for Brodalumab\n",
      "Collected 5000 friends for Brodalumab\n",
      "Collected 5000 friends for Brodalumab\n",
      "Collected 5000 friends for Brodalumab\n",
      "Collected 5000 friends for Brodalumab\n",
      "Collected 5000 friends for Brodalumab\n",
      "Collected 5000 friends for Brodalumab\n",
      "Collected 5000 friends for Brodalumab\n",
      "Collected 5000 friends for Brodalumab\n",
      "Collected 5000 friends for Brodalumab"
     ]
    },
    {
     "name": "stderr",
     "output_type": "stream",
     "text": [
      "Got error: {\"errors\":[{\"message\":\"Rate limit exceeded\",\"code\":88}]} \n",
      "sleeping for 15 minutes.\n"
     ]
    },
    {
     "name": "stdout",
     "output_type": "stream",
     "text": [
      "\n",
      "Collected 5000 friends for Brodalumab\n",
      "Returning --- 2268 friends for Brodalumab\n",
      "Returning --- 794 friends for lisa_raney\n",
      "Returning --- 2019 friends for inairs\n",
      "Returning --- 188 friends for tayemise\n",
      "Returning --- 231 friends for yaymini\n",
      "Returning --- 1839 friends for BiolaEV\n",
      "Returning --- 310 friends for p85709794\n",
      "Returning --- 381 friends for educationusanz\n",
      "Returning --- 245 friends for Roboticslady\n",
      "Returning --- 99 friends for rahulkumar91227\n",
      "Returning --- 454 friends for SpartonNavEx\n",
      "Collected 5000 friends for CreativePhysics\n",
      "Collected 5000 friends for CreativePhysics"
     ]
    },
    {
     "name": "stderr",
     "output_type": "stream",
     "text": [
      "Got error: {\"errors\":[{\"message\":\"Rate limit exceeded\",\"code\":88}]} \n",
      "sleeping for 15 minutes.\n"
     ]
    },
    {
     "name": "stdout",
     "output_type": "stream",
     "text": [
      "\n",
      "Collected 5000 friends for CreativePhysics\n",
      "Returning --- 3261 friends for CreativePhysics\n",
      "Returning --- 1361 friends for FitAndFair\n",
      "Returning --- 1997 friends for TakeIELTS1\n",
      "Returning --- 2015 friends for PletscherRobert\n",
      "Returning --- 360 friends for MartyMobile\n",
      "Returning --- 278 friends for PrincessNOI\n",
      "Returning --- 147 friends for Yash1206\n",
      "Returning --- 94 friends for jedimastergwen\n",
      "Returning --- 218 friends for ScholarAmit\n",
      "Returning --- 480 friends for Lukeylor\n",
      "Returning --- 407 friends for ProfCharlesHaas\n",
      "Returning --- 144 friends for Chandan51147456"
     ]
    },
    {
     "name": "stderr",
     "output_type": "stream",
     "text": [
      "Got error: {\"errors\":[{\"message\":\"Rate limit exceeded\",\"code\":88}]} \n",
      "sleeping for 15 minutes.\n"
     ]
    },
    {
     "name": "stdout",
     "output_type": "stream",
     "text": [
      "\n",
      "Returning --- 84 friends for magigiya1\n",
      "Returning --- 221 friends for JosiahDavidson\n",
      "Returning --- 2751 friends for Studydotcom\n",
      "Returning --- 1327 friends for IamSaleeq\n",
      "Returning --- 437 friends for deloach7kw\n",
      "Returning --- 454 friends for kraziyanto\n",
      "Returning --- 224 friends for neiltv\n",
      "Returning --- 607 friends for SevenPointDisp\n",
      "Returning --- 156 friends for vikashjaiswal31\n",
      "Returning --- 518 friends for Domu_ReBORN\n",
      "Returning --- 1971 friends for jeetsarbo\n",
      "Returning --- 1447 friends for SeadogNavyPier\n",
      "Returning --- 58 friends for xyf1013\n",
      "Returning --- 2859 friends for campusTexting"
     ]
    },
    {
     "name": "stderr",
     "output_type": "stream",
     "text": [
      "Got error: {\"errors\":[{\"message\":\"Rate limit exceeded\",\"code\":88}]} \n",
      "sleeping for 15 minutes.\n"
     ]
    },
    {
     "name": "stdout",
     "output_type": "stream",
     "text": [
      "\n",
      "Returning --- 22 friends for ruizustc\n",
      "Returning --- 209 friends for iithmicro\n",
      "Returning --- 505 friends for Globalbusmag\n",
      "Returning --- 845 friends for 2013SAGA\n",
      "Returning --- 814 friends for himanshukhtr\n",
      "Returning --- 4673 friends for WEDanceVirginia\n",
      "Returning --- 13 friends for Seleniasis\n",
      "Returning --- 279 friends for PatCBlue42\n",
      "Returning --- 6 friends for jsseck\n",
      "Returning --- 50 friends for MTULode\n",
      "Returning --- 961 friends for NeroTBM"
     ]
    },
    {
     "name": "stderr",
     "output_type": "stream",
     "text": [
      "Got error: {\"errors\":[{\"message\":\"Rate limit exceeded\",\"code\":88}]} \n",
      "sleeping for 15 minutes.\n"
     ]
    },
    {
     "name": "stdout",
     "output_type": "stream",
     "text": [
      "\n",
      "Returning --- 571 friends for HIExChampaign\n",
      "Returning --- 694 friends for JenBertoglio\n",
      "Collected 5000 friends for AdelmansCo\n",
      "Collected 5000 friends for AdelmansCo\n",
      "Returning --- 248 friends for AdelmansCo\n",
      "Returning --- 882 friends for PrincipalStrawn\n",
      "Returning --- 71 friends for tanych5233\n",
      "Returning --- 69 friends for moyniec\n",
      "Returning --- 103 friends for boutehh\n",
      "Returning --- 1761 friends for aheadAI\n",
      "Returning --- 16 friends for frebrezo\n",
      "Returning --- 164 friends for kctsui"
     ]
    },
    {
     "name": "stderr",
     "output_type": "stream",
     "text": [
      "Got error: {\"errors\":[{\"message\":\"Rate limit exceeded\",\"code\":88}]} \n",
      "sleeping for 15 minutes.\n"
     ]
    },
    {
     "name": "stdout",
     "output_type": "stream",
     "text": [
      "\n",
      "Returning --- 404 friends for MaSumm\n",
      "Returning --- 9 friends for jfobilson\n",
      "Returning --- 422 friends for elnazem\n",
      "Returning --- 577 friends for TheRescueBook\n",
      "Returning --- 436 friends for LinaAtBerkeley\n",
      "Returning --- 963 friends for TalyPolishchuk\n",
      "Returning --- 274 friends for gbeloiu23\n",
      "Returning --- 516 friends for 703fa5c860434ef\n",
      "Returning --- 420 friends for Mksingh23\n",
      "Returning --- 1758 friends for mkcapital\n",
      "Returning --- 909 friends for iMukeshK\n",
      "Returning --- 23 friends for naveeniit\n",
      "Returning --- 1986 friends for neildkane\n",
      "Returning --- 2677 friends for AldermanSolis"
     ]
    },
    {
     "name": "stderr",
     "output_type": "stream",
     "text": [
      "Got error: {\"errors\":[{\"message\":\"Rate limit exceeded\",\"code\":88}]} \n",
      "sleeping for 15 minutes.\n"
     ]
    },
    {
     "name": "stdout",
     "output_type": "stream",
     "text": [
      "\n",
      "Returning --- 8 friends for khaenicke\n",
      "Returning --- 628 friends for learning_pt\n",
      "Returning --- 183 friends for UnuboldChinzo\n",
      "Returning --- 86 friends for DonPeloquin\n",
      "Returning --- 426 friends for BrotherRice\n",
      "Returning --- 1913 friends for 101grads\n",
      "Returning --- 30 friends for _thistlepetals\n",
      "Returning --- 575 friends for CKFacultyBlog\n",
      "Returning --- 769 friends for sneakatone\n",
      "Returning --- 39 friends for aditya123k\n",
      "Returning --- 136 friends for WhyteHe\n",
      "Returning --- 365 friends for Hermes000000001\n",
      "Returning --- 34 friends for aprabha1\n",
      "Returning --- 1840 friends for Leen_AlZaibak\n",
      "Returning --- 149 friends for ATchendo"
     ]
    },
    {
     "name": "stderr",
     "output_type": "stream",
     "text": [
      "Got error: {\"errors\":[{\"message\":\"Rate limit exceeded\",\"code\":88}]} \n",
      "sleeping for 15 minutes.\n"
     ]
    },
    {
     "name": "stdout",
     "output_type": "stream",
     "text": [
      "\n",
      "Returning --- 130 friends for lavendermeng\n",
      "Returning --- 109 friends for boob_cube\n",
      "Returning --- 3265 friends for Eagle1Capital\n",
      "Returning --- 6 friends for casanovamemo\n",
      "Returning --- 1994 friends for PoetryAssessor\n",
      "Returning --- 4361 friends for CientificaLtd\n",
      "Returning --- 246 friends for LKulla2\n",
      "Returning --- 337 friends for SteveBetza\n",
      "Returning --- 1935 friends for Cloud2SME\n",
      "Returning --- 52 friends for Ares_Conan\n",
      "Returning --- 60 friends for CubehubInc\n",
      "Returning --- 1975 friends for VITSOL\n",
      "Returning --- 24 friends for HaEunPang\n",
      "Returning --- 451 friends for tmblweed\n",
      "Returning --- 1246 friends for JessicaWisdom1"
     ]
    },
    {
     "name": "stderr",
     "output_type": "stream",
     "text": [
      "Got error: {\"errors\":[{\"message\":\"Rate limit exceeded\",\"code\":88}]} \n",
      "sleeping for 15 minutes.\n"
     ]
    },
    {
     "name": "stdout",
     "output_type": "stream",
     "text": [
      "\n",
      "Returning --- 10 friends for MaqboolZahid\n",
      "Returning --- 1302 friends for U_For_Life\n",
      "Returning --- 44 friends for birdinair\n",
      "Returning --- 129 friends for Rodina_22\n",
      "Returning --- 230 friends for ceoshea773\n",
      "Returning --- 2050 friends for prathameshujad1\n",
      "Returning --- 1404 friends for UChiEngagement\n",
      "Returning --- 994 friends for ChicagoLine\n",
      "Returning --- 685 friends for vivekee99\n",
      "Returning --- 542 friends for briankibbe\n",
      "Returning --- 165 friends for ujjaldas132\n",
      "Returning --- 92 friends for reclusiveIndian\n",
      "Returning --- 83 friends for TEDxCMA"
     ]
    },
    {
     "name": "stderr",
     "output_type": "stream",
     "text": [
      "Got error: {\"errors\":[{\"message\":\"Rate limit exceeded\",\"code\":88}]} \n",
      "sleeping for 15 minutes.\n"
     ]
    },
    {
     "name": "stdout",
     "output_type": "stream",
     "text": [
      "\n",
      "Returning --- 24 friends for Aritra03\n",
      "Returning --- 84 friends for AzugaCareers\n",
      "Returning --- 130 friends for BPT_Recruiting\n",
      "Returning --- 19 friends for aboutsourav\n",
      "Collected 5000 friends for CMEGroup\n",
      "Returning --- 3456 friends for CMEGroup\n",
      "Returning --- 301 friends for WebsEdge_Edu\n",
      "Returning --- 95 friends for KumarKrneelu\n",
      "Returning --- 20 friends for Sumitkumarshah3\n",
      "Returning --- 60 friends for AvinashSarohi\n",
      "Returning --- 1 friends for xgspci001\n",
      "Returning --- 85 friends for BJ_IllinoisTech\n",
      "Returning --- 2044 friends for educationonclk\n",
      "Returning --- 133 friends for OptimaChiCtr"
     ]
    },
    {
     "name": "stderr",
     "output_type": "stream",
     "text": [
      "Got error: {\"errors\":[{\"message\":\"Rate limit exceeded\",\"code\":88}]} \n",
      "sleeping for 15 minutes.\n"
     ]
    },
    {
     "name": "stdout",
     "output_type": "stream",
     "text": [
      "\n",
      "Returning --- 53 friends for YosisM\n",
      "Returning --- 220 friends for NationalEd\n",
      "Returning --- 102 friends for anandbalaji\n",
      "Returning --- 129 friends for rugada3229\n",
      "Returning --- 366 friends for jelledetaeye\n",
      "Returning --- 214 friends for Sougata1986\n",
      "Returning --- 1379 friends for gquella\n",
      "Returning --- 12 friends for jinliang1202\n",
      "Returning --- 61 friends for yazeze\n",
      "Returning --- 1966 friends for AGIEducation\n",
      "Returning --- 6 friends for andangle89\n",
      "Returning --- 228 friends for abdulchsm"
     ]
    },
    {
     "name": "stderr",
     "output_type": "stream",
     "text": [
      "Got error: {\"errors\":[{\"message\":\"Rate limit exceeded\",\"code\":88}]} \n",
      "sleeping for 15 minutes.\n"
     ]
    },
    {
     "name": "stdout",
     "output_type": "stream",
     "text": [
      "\n",
      "Returning --- 470 friends for schoenig\n",
      "Returning --- 1979 friends for UnivNEWS\n",
      "Returning --- 288 friends for ChumanKumar2\n",
      "Returning --- 1131 friends for Engineers_pk\n",
      "Returning --- 703 friends for healthcareILN\n",
      "Returning --- 290 friends for MyCommunity21\n",
      "Returning --- 21 friends for NickZikas\n",
      "Returning --- 73 friends for somamohapatra\n",
      "Returning --- 535 friends for AIMBiomedical\n",
      "Returning --- 2991 friends for UTexasPress\n",
      "Returning --- 375 friends for Anti_PVP\n",
      "Returning --- 158 friends for RoseBeauchamp\n",
      "Returning --- 717 friends for kelshwilson"
     ]
    },
    {
     "name": "stderr",
     "output_type": "stream",
     "text": [
      "Got error: {\"errors\":[{\"message\":\"Rate limit exceeded\",\"code\":88}]} \n",
      "sleeping for 15 minutes.\n"
     ]
    },
    {
     "name": "stdout",
     "output_type": "stream",
     "text": [
      "\n",
      "Returning --- 39 friends for Papa_Bear_ASP\n",
      "Returning --- 773 friends for ILBizImmigrant\n",
      "Returning --- 109 friends for Ankit2177\n",
      "Returning --- 212 friends for MarcSednaoui\n",
      "Returning --- 344 friends for Rose_Zamora\n",
      "Returning --- 44 friends for GuillermoZProus\n",
      "Returning --- 222 friends for hillgrp\n",
      "Returning --- 51 friends for Ankitya18731585\n",
      "Returning --- 864 friends for mcarpiod\n",
      "Returning --- 159 friends for mwargel\n",
      "Returning --- 329 friends for cananacar\n",
      "Returning --- 894 friends for satish_rules\n",
      "Returning --- 280 friends for nidaride"
     ]
    },
    {
     "name": "stderr",
     "output_type": "stream",
     "text": [
      "Got error: {\"errors\":[{\"message\":\"Rate limit exceeded\",\"code\":88}]} \n",
      "sleeping for 15 minutes.\n"
     ]
    },
    {
     "name": "stdout",
     "output_type": "stream",
     "text": [
      "\n",
      "Returning --- 68 friends for Jobsiit\n",
      "Returning --- 885 friends for randhawaa\n",
      "Returning --- 52 friends for Arthurluo\n",
      "Returning --- 138 friends for Bhnaina\n",
      "Returning --- 461 friends for DuthGuru\n",
      "Returning --- 213 friends for ShriRamanujam\n",
      "Returning --- 1522 friends for ThePrincetonRev\n",
      "Returning --- 599 friends for APSChicago\n",
      "Returning --- 1165 friends for GLOBEProgram\n",
      "Returning --- 118 friends for fisher0255\n",
      "Returning --- 474 friends for mod_abo_hashish\n",
      "Returning --- 164 friends for YoetD"
     ]
    },
    {
     "name": "stderr",
     "output_type": "stream",
     "text": [
      "Got error: {\"errors\":[{\"message\":\"Rate limit exceeded\",\"code\":88}]} \n",
      "sleeping for 15 minutes.\n"
     ]
    },
    {
     "name": "stdout",
     "output_type": "stream",
     "text": [
      "\n",
      "Returning --- 199 friends for Techkosmos13\n",
      "Returning --- 1940 friends for Krauseko\n",
      "Returning --- 10 friends for ManjulePrashant\n",
      "Returning --- 204 friends for aykthenike\n",
      "Returning --- 232 friends for MobileXChi\n",
      "Returning --- 20 friends for vinod8dav\n",
      "Returning --- 2059 friends for SimpleRelevance\n",
      "Returning --- 1270 friends for AnnexCapital\n",
      "Returning --- 202 friends for ebudzynski\n",
      "Returning --- 90 friends for Nightfireuk_007\n",
      "Returning --- 27 friends for cyuan5\n",
      "Returning --- 142 friends for kyleteachman\n",
      "Returning --- 64 friends for Ryan_E\n",
      "Returning --- 1158 friends for Greeley_Hansen"
     ]
    },
    {
     "name": "stderr",
     "output_type": "stream",
     "text": [
      "Got error: {\"errors\":[{\"message\":\"Rate limit exceeded\",\"code\":88}]} \n",
      "sleeping for 15 minutes.\n"
     ]
    },
    {
     "name": "stdout",
     "output_type": "stream",
     "text": [
      "\n",
      "Returning --- 309 friends for NSBE_IIT\n",
      "Returning --- 94 friends for Rocket__Dan\n",
      "Returning --- 561 friends for rogersuch\n",
      "Returning --- 725 friends for PhysicsFunda\n",
      "Returning --- 508 friends for collegecanteen\n",
      "Returning --- 31 friends for Koji_Bjerke\n",
      "Returning --- 157 friends for rotmandesign\n",
      "Returning --- 31 friends for Kyle___Gray\n",
      "Returning --- 411 friends for admford\n",
      "Returning --- 12 friends for WenxunMu\n",
      "Returning --- 113 friends for Thymeling\n",
      "Returning --- 425 friends for IITCommunity\n",
      "Returning --- 1104 friends for EHSNYC"
     ]
    },
    {
     "name": "stderr",
     "output_type": "stream",
     "text": [
      "Got error: {\"errors\":[{\"message\":\"Rate limit exceeded\",\"code\":88}]} \n",
      "sleeping for 15 minutes.\n"
     ]
    },
    {
     "name": "stdout",
     "output_type": "stream",
     "text": [
      "\n",
      "Returning --- 11 friends for sicong_ma\n",
      "Returning --- 100 friends for Riteshs7789\n",
      "Returning --- 1129 friends for BSAAIA\n",
      "Returning --- 850 friends for waubonsee\n",
      "Returning --- 92 friends for PSICareers\n",
      "Returning --- 76 friends for Silvrgrrl\n",
      "Returning --- 19 friends for doanhoangthai\n",
      "Returning --- 121 friends for SaleemaFw\n",
      "Collected 5000 friends for GreenCollarVet\n",
      "Collected 5000 friends for GreenCollarVet\n",
      "Collected 5000 friends for GreenCollarVet\n",
      "Collected 5000 friends for GreenCollarVet\n",
      "Returning --- 3678 friends for GreenCollarVet\n",
      "Returning --- 24 friends for IITSOAR_Asbel"
     ]
    },
    {
     "name": "stderr",
     "output_type": "stream",
     "text": [
      "Got error: {\"errors\":[{\"message\":\"Rate limit exceeded\",\"code\":88}]} \n",
      "sleeping for 15 minutes.\n"
     ]
    },
    {
     "name": "stdout",
     "output_type": "stream",
     "text": [
      "\n",
      "Returning --- 1027 friends for jeaniewilson81\n",
      "Returning --- 93 friends for mjfleck34\n",
      "Returning --- 57 friends for RajVishnani\n",
      "Returning --- 46 friends for CollegeVira\n",
      "Returning --- 1972 friends for amilladesign\n",
      "Returning --- 1980 friends for RestroomAlert\n",
      "Returning --- 206 friends for Shubham84078489\n",
      "Returning --- 97 friends for viveksahabadi\n",
      "Returning --- 15 friends for UrickYu\n",
      "Returning --- 1935 friends for Hotel_Aura\n",
      "Returning --- 51 friends for sunny1patel"
     ]
    },
    {
     "name": "stderr",
     "output_type": "stream",
     "text": [
      "Got error: {\"errors\":[{\"message\":\"Rate limit exceeded\",\"code\":88}]} \n",
      "sleeping for 15 minutes.\n"
     ]
    },
    {
     "name": "stdout",
     "output_type": "stream",
     "text": [
      "\n",
      "Returning --- 223 friends for HarWoog\n",
      "Returning --- 797 friends for IIT_Dining\n",
      "Returning --- 660 friends for PeaceCorps_MW\n",
      "Returning --- 77 friends for iitscholars\n",
      "Returning --- 427 friends for kgreg06\n",
      "Returning --- 535 friends for MrLinhartTweets\n",
      "Returning --- 210 friends for yuriabrito\n",
      "Returning --- 38 friends for sathishzx\n",
      "Returning --- 63 friends for epsiloner\n",
      "Returning --- 545 friends for OccupyIIT\n",
      "Returning --- 1995 friends for Fpower99\n",
      "Returning --- 1921 friends for bhammer5\n",
      "Returning --- 277 friends for almamaterstore\n",
      "Returning --- 158 friends for thomasbabu5"
     ]
    },
    {
     "name": "stderr",
     "output_type": "stream",
     "text": [
      "Got error: {\"errors\":[{\"message\":\"Rate limit exceeded\",\"code\":88}]} \n",
      "sleeping for 15 minutes.\n"
     ]
    },
    {
     "name": "stdout",
     "output_type": "stream",
     "text": [
      "\n",
      "Returning --- 6 friends for Ingenious4gate\n",
      "Returning --- 1603 friends for vbgoz\n",
      "Returning --- 17 friends for pullurinaveen22\n",
      "Returning --- 159 friends for CenterInnovate\n",
      "Returning --- 108 friends for vishnukanna94\n",
      "Returning --- 36 friends for shekhar10c\n",
      "Returning --- 112 friends for jebus_m10\n",
      "Returning --- 95 friends for UniSmartEnergy\n",
      "Returning --- 1644 friends for DEOonline\n",
      "Returning --- 71 friends for Tapio_Jokinen\n",
      "Returning --- 1274 friends for USA_Education\n",
      "Returning --- 1227 friends for thecareercloset\n",
      "Returning --- 503 friends for MBHB\n",
      "Returning --- 91 friends for Sandro_Mazzini"
     ]
    },
    {
     "name": "stderr",
     "output_type": "stream",
     "text": [
      "Got error: {\"errors\":[{\"message\":\"Rate limit exceeded\",\"code\":88}]} \n",
      "sleeping for 15 minutes.\n"
     ]
    },
    {
     "name": "stdout",
     "output_type": "stream",
     "text": [
      "\n",
      "Returning --- 732 friends for alexandreuribe\n",
      "Returning --- 13 friends for IIT_CRABLab\n",
      "Returning --- 1617 friends for J4111R0\n",
      "Returning --- 6 friends for yub11n\n",
      "Returning --- 1853 friends for FundacionHertel\n",
      "Returning --- 292 friends for AreteUChicago\n",
      "Collected 5000 friends for TeeIrish\n",
      "Collected 5000 friends for TeeIrish\n",
      "Collected 5000 friends for TeeIrish\n",
      "Collected 5000 friends for TeeIrish\n",
      "Collected 5000 friends for TeeIrish\n",
      "Collected 5000 friends for TeeIrish\n",
      "Collected 5000 friends for TeeIrish\n",
      "Collected 5000 friends for TeeIrish\n",
      "Collected 5000 friends for TeeIrish"
     ]
    },
    {
     "name": "stderr",
     "output_type": "stream",
     "text": [
      "Got error: {\"errors\":[{\"message\":\"Rate limit exceeded\",\"code\":88}]} \n",
      "sleeping for 15 minutes.\n"
     ]
    },
    {
     "name": "stdout",
     "output_type": "stream",
     "text": [
      "\n",
      "Collected 5000 friends for TeeIrish\n",
      "Collected 5000 friends for TeeIrish\n",
      "Collected 5000 friends for TeeIrish\n",
      "Collected 5000 friends for TeeIrish\n",
      "Collected 5000 friends for TeeIrish\n",
      "Collected 5000 friends for TeeIrish\n",
      "Collected 5000 friends for TeeIrish\n",
      "Collected 5000 friends for TeeIrish\n",
      "Collected 5000 friends for TeeIrish\n",
      "Collected 5000 friends for TeeIrish\n",
      "Collected 5000 friends for TeeIrish\n",
      "Collected 5000 friends for TeeIrish\n",
      "Collected 5000 friends for TeeIrish\n",
      "Returning --- 2816 friends for TeeIrish\n",
      "Returning --- 1346 friends for BlackThisWeek"
     ]
    },
    {
     "name": "stderr",
     "output_type": "stream",
     "text": [
      "Got error: {\"errors\":[{\"message\":\"Rate limit exceeded\",\"code\":88}]} \n",
      "sleeping for 15 minutes.\n"
     ]
    },
    {
     "name": "stdout",
     "output_type": "stream",
     "text": [
      "\n",
      "Returning --- 13 friends for azwilcox5\n",
      "Returning --- 275 friends for ECECharge\n",
      "Returning --- 952 friends for Howingsit\n",
      "Returning --- 54 friends for saktim\n",
      "Returning --- 2117 friends for Cementley\n",
      "Returning --- 22 friends for bevins\n",
      "Returning --- 1524 friends for affiniscape\n",
      "Returning --- 262 friends for baolovescake\n",
      "Returning --- 162 friends for lizzardwolt7\n",
      "Returning --- 79 friends for ASHISHNanobeach\n",
      "Returning --- 63 friends for MeowCat0907\n",
      "Returning --- 7 friends for yuweihui2\n",
      "Returning --- 30 friends for SanchitaRaina\n",
      "Returning --- 15 friends for AtulAtul909"
     ]
    },
    {
     "name": "stderr",
     "output_type": "stream",
     "text": [
      "Got error: {\"errors\":[{\"message\":\"Rate limit exceeded\",\"code\":88}]} \n",
      "sleeping for 15 minutes.\n"
     ]
    },
    {
     "name": "stdout",
     "output_type": "stream",
     "text": [
      "\n",
      "Returning --- 807 friends for alcoHorlicKs\n",
      "Returning --- 62 friends for ericlinchao\n",
      "Returning --- 89 friends for capellaventures\n",
      "Returning --- 405 friends for prashan99821426\n",
      "Returning --- 71 friends for IIT_Evan\n",
      "Returning --- 1906 friends for YourNN\n",
      "Returning --- 10 friends for cccusi\n",
      "Returning --- 207 friends for marymac60\n",
      "Returning --- 314 friends for MarinaGreen\n",
      "Returning --- 155 friends for Leaders_of_Tomo\n",
      "Returning --- 1787 friends for AmyLovesSC\n",
      "Returning --- 2486 friends for EarthHourIL\n",
      "Returning --- 617 friends for LFCareers"
     ]
    },
    {
     "name": "stderr",
     "output_type": "stream",
     "text": [
      "Got error: {\"errors\":[{\"message\":\"Rate limit exceeded\",\"code\":88}]} \n",
      "sleeping for 15 minutes.\n"
     ]
    },
    {
     "name": "stdout",
     "output_type": "stream",
     "text": [
      "\n",
      "Returning --- 43 friends for tanmaygole\n",
      "Returning --- 1998 friends for Kytola\n",
      "Returning --- 16 friends for RogerUAG\n",
      "Returning --- 4262 friends for Chi_Humanities\n",
      "Returning --- 1470 friends for sagarmred\n",
      "Returning --- 479 friends for StudyAbroadGR\n",
      "Returning --- 504 friends for snlpatel\n",
      "Returning --- 74 friends for rajan_shreeyeh\n",
      "Returning --- 18 friends for GATECounsellor\n",
      "Returning --- 724 friends for Resunate\n",
      "Returning --- 496 friends for rubenchu90\n",
      "Returning --- 142 friends for digitalseth\n",
      "Returning --- 172 friends for ParisofAmerica\n",
      "Returning --- 321 friends for fullstackkertz"
     ]
    },
    {
     "name": "stderr",
     "output_type": "stream",
     "text": [
      "Got error: {\"errors\":[{\"message\":\"Rate limit exceeded\",\"code\":88}]} \n",
      "sleeping for 15 minutes.\n"
     ]
    },
    {
     "name": "stdout",
     "output_type": "stream",
     "text": [
      "\n",
      "Returning --- 40 friends for bankolli\n",
      "Returning --- 43 friends for pushkarvaishna5\n",
      "Returning --- 139 friends for arthurperry\n",
      "Returning --- 299 friends for sikhu687\n",
      "Returning --- 32 friends for shivam10139\n",
      "Returning --- 672 friends for ChaseICS\n",
      "Returning --- 3184 friends for CameronToth\n",
      "Returning --- 11 friends for OKCarter\n",
      "Returning --- 48 friends for iit_harish\n",
      "Returning --- 1912 friends for BobMello\n",
      "Returning --- 10 friends for Ujaszuk\n",
      "Returning --- 196 friends for Iamgangal\n",
      "Returning --- 310 friends for She4SG\n",
      "Returning --- 707 friends for rahu_1995"
     ]
    },
    {
     "name": "stderr",
     "output_type": "stream",
     "text": [
      "Got error: {\"errors\":[{\"message\":\"Rate limit exceeded\",\"code\":88}]} \n",
      "sleeping for 15 minutes.\n"
     ]
    },
    {
     "name": "stdout",
     "output_type": "stream",
     "text": [
      "\n",
      "Returning --- 1431 friends for ConceptSchools\n",
      "Returning --- 30 friends for kyoxsy\n",
      "Returning --- 477 friends for SaMpmuthusamy3\n",
      "Returning --- 15 friends for 0BrunoPereira\n",
      "Returning --- 17 friends for savyasachijsr\n",
      "Returning --- 788 friends for Sudosudhanshu\n",
      "Returning --- 920 friends for wiesbro_5\n",
      "Returning --- 1923 friends for ktMINEglobal\n",
      "Returning --- 140 friends for aswinachuthan\n",
      "Returning --- 459 friends for endritgr\n",
      "Returning --- 132 friends for parayno\n",
      "Returning --- 33 friends for PhatakRutesh\n",
      "Returning --- 231 friends for ghante_com"
     ]
    },
    {
     "name": "stderr",
     "output_type": "stream",
     "text": [
      "Got error: {\"errors\":[{\"message\":\"Rate limit exceeded\",\"code\":88}]} \n",
      "sleeping for 15 minutes.\n"
     ]
    },
    {
     "name": "stdout",
     "output_type": "stream",
     "text": [
      "\n",
      "Returning --- 455 friends for jake____lane\n",
      "Returning --- 37 friends for _Sahil7\n",
      "Returning --- 1250 friends for AlchemyPolymers\n",
      "Returning --- 463 friends for truellc\n",
      "Returning --- 3627 friends for bikespoke\n",
      "Returning --- 52 friends for Classhw\n",
      "Returning --- 133 friends for mgarcia810\n",
      "Returning --- 1258 friends for LStreetC\n",
      "Returning --- 782 friends for nenacole\n",
      "Returning --- 40 friends for sagaashaan\n",
      "Returning --- 52 friends for liuyi810"
     ]
    },
    {
     "name": "stderr",
     "output_type": "stream",
     "text": [
      "Got error: {\"errors\":[{\"message\":\"Rate limit exceeded\",\"code\":88}]} \n",
      "sleeping for 15 minutes.\n"
     ]
    },
    {
     "name": "stdout",
     "output_type": "stream",
     "text": [
      "\n",
      "Returning --- 51 friends for IITDiversity\n",
      "Returning --- 127 friends for prabhuchemics\n",
      "Returning --- 1995 friends for woodburnpress\n",
      "Returning --- 143 friends for jbguberman\n",
      "Returning --- 93 friends for SPS_WIRE\n",
      "Returning --- 313 friends for BDPAChicago\n",
      "Returning --- 18 friends for ADMakeyev\n",
      "Returning --- 501 friends for TheDraftery\n",
      "Returning --- 309 friends for Ankitdimri4\n",
      "Returning --- 59 friends for salmans_khan\n",
      "Returning --- 81 friends for encomium_15\n",
      "Returning --- 437 friends for bhargav_ram555\n",
      "Returning --- 83 friends for patcassata\n",
      "Returning --- 12 friends for keirobeara"
     ]
    },
    {
     "name": "stderr",
     "output_type": "stream",
     "text": [
      "Got error: {\"errors\":[{\"message\":\"Rate limit exceeded\",\"code\":88}]} \n",
      "sleeping for 15 minutes.\n"
     ]
    },
    {
     "name": "stdout",
     "output_type": "stream",
     "text": [
      "\n",
      "Returning --- 34 friends for tatramtn\n",
      "Returning --- 7 friends for KrishAnbhArDw17\n",
      "Returning --- 76 friends for tejasytl\n",
      "Returning --- 195 friends for hjcopeland\n",
      "Returning --- 91 friends for itsso_right\n",
      "Collected 5000 friends for GabeSalazar\n",
      "Returning --- 1381 friends for GabeSalazar\n",
      "Returning --- 518 friends for DigIITalArchFab\n",
      "Returning --- 669 friends for R4Services\n",
      "Returning --- 14 friends for xuyn2193466\n",
      "Returning --- 56 friends for carolinaalme1\n",
      "Returning --- 62 friends for NamrataHegde"
     ]
    },
    {
     "name": "stderr",
     "output_type": "stream",
     "text": [
      "Got error: {\"errors\":[{\"message\":\"Rate limit exceeded\",\"code\":88}]} \n",
      "sleeping for 15 minutes.\n"
     ]
    },
    {
     "name": "stdout",
     "output_type": "stream",
     "text": [
      "\n",
      "Returning --- 1487 friends for soubhik_maji\n",
      "Returning --- 301 friends for alertuhq\n",
      "Returning --- 132 friends for amber_deokate\n",
      "Returning --- 104 friends for armaan4ru\n",
      "Returning --- 734 friends for Sprintax_USA\n",
      "Returning --- 4286 friends for doscareers\n",
      "Returning --- 47 friends for RCEELURU\n",
      "Returning --- 106 friends for GradTree\n",
      "Returning --- 7 friends for goodloeleslie\n",
      "Returning --- 41 friends for IITSHWC\n",
      "Returning --- 259 friends for msichicago\n",
      "Returning --- 232 friends for rahul53108441\n",
      "Returning --- 146 friends for cdara8\n",
      "Returning --- 1849 friends for ChiBusiness\n",
      "Returning --- 171 friends for tedescogina"
     ]
    },
    {
     "name": "stderr",
     "output_type": "stream",
     "text": [
      "Got error: {\"errors\":[{\"message\":\"Rate limit exceeded\",\"code\":88}]} \n",
      "sleeping for 15 minutes.\n"
     ]
    },
    {
     "name": "stdout",
     "output_type": "stream",
     "text": [
      "\n",
      "Returning --- 9 friends for xtremeboredem\n",
      "Returning --- 94 friends for KNaglich\n",
      "Returning --- 180 friends for lexanilopes\n",
      "Returning --- 15 friends for 465811466\n",
      "Returning --- 149 friends for zhuzhenglong\n",
      "Returning --- 582 friends for Eng_Salkini\n",
      "Returning --- 324 friends for NMHMChicago\n",
      "Returning --- 846 friends for usaBritish\n",
      "Returning --- 567 friends for dateIITians\n",
      "Returning --- 141 friends for xmslient\n",
      "Returning --- 758 friends for Corcentric"
     ]
    },
    {
     "name": "stderr",
     "output_type": "stream",
     "text": [
      "Got error: {\"errors\":[{\"message\":\"Rate limit exceeded\",\"code\":88}]} \n",
      "sleeping for 15 minutes.\n"
     ]
    },
    {
     "name": "stdout",
     "output_type": "stream",
     "text": [
      "\n",
      "Returning --- 278 friends for minerva_jb\n",
      "Returning --- 319 friends for CampusTVs\n",
      "Returning --- 1595 friends for Pear_says\n",
      "Returning --- 20 friends for yachenliu\n",
      "Returning --- 2000 friends for SBSDirectVote\n",
      "Returning --- 240 friends for Elvisreyes99\n",
      "Returning --- 9 friends for WMULUAN\n",
      "Returning --- 10 friends for AnjanaRao1\n",
      "Returning --- 582 friends for pinkeshkumar171\n",
      "Returning --- 41 friends for lachaiah\n",
      "Returning --- 30 friends for RSysun\n",
      "Returning --- 46 friends for eduhubindia\n",
      "Returning --- 1766 friends for DnielBrin52"
     ]
    },
    {
     "name": "stderr",
     "output_type": "stream",
     "text": [
      "Got error: {\"errors\":[{\"message\":\"Rate limit exceeded\",\"code\":88}]} \n",
      "sleeping for 15 minutes.\n"
     ]
    },
    {
     "name": "stdout",
     "output_type": "stream",
     "text": [
      "\n",
      "Returning --- 121 friends for Chennakeshav555\n",
      "Returning --- 3290 friends for Meetasengupta\n",
      "Returning --- 281 friends for emgee9102\n",
      "Returning --- 1996 friends for conmergence\n",
      "Returning --- 11 friends for Haotian333\n",
      "Returning --- 23 friends for Milind8055\n",
      "Returning --- 374 friends for VikyZulfikar1\n",
      "Returning --- 269 friends for ApnaCVdotcom\n",
      "Returning --- 30 friends for DemBaybaykids\n",
      "Returning --- 183 friends for Radillencejobs\n",
      "Returning --- 116 friends for SudeepKSatpathy\n",
      "Returning --- 88 friends for Dheerajracha99\n",
      "Returning --- 1067 friends for CTBUH\n",
      "Returning --- 398 friends for anky_sharma005"
     ]
    },
    {
     "name": "stderr",
     "output_type": "stream",
     "text": [
      "Got error: {\"errors\":[{\"message\":\"Rate limit exceeded\",\"code\":88}]} \n",
      "sleeping for 15 minutes.\n"
     ]
    },
    {
     "name": "stdout",
     "output_type": "stream",
     "text": [
      "\n",
      "Returning --- 754 friends for DaffronAssoc\n",
      "Returning --- 29 friends for salufir\n",
      "Returning --- 39 friends for hcfdz\n",
      "Collected 5000 friends for LatinoNetworks\n",
      "Returning --- 2158 friends for LatinoNetworks\n",
      "Returning --- 694 friends for UAstudentgov\n",
      "Returning --- 550 friends for Fleetmatics_HR\n",
      "Returning --- 35 friends for fakhourihaddad\n",
      "Returning --- 156 friends for jpalmer02\n",
      "Returning --- 1763 friends for bycaseycora\n",
      "Returning --- 350 friends for IITUGadmission\n",
      "Returning --- 31 friends for manbir_soni\n",
      "Returning --- 1987 friends for vasantdeodhar99"
     ]
    },
    {
     "name": "stderr",
     "output_type": "stream",
     "text": [
      "Got error: {\"errors\":[{\"message\":\"Rate limit exceeded\",\"code\":88}]} \n",
      "sleeping for 15 minutes.\n"
     ]
    },
    {
     "name": "stdout",
     "output_type": "stream",
     "text": [
      "\n",
      "Returning --- 1773 friends for AccessToCapital\n",
      "Returning --- 59 friends for JoannaJmarti50\n",
      "Returning --- 797 friends for btrautlein\n",
      "Returning --- 1201 friends for smartleydunn\n",
      "Returning --- 24 friends for cynthiay2012\n",
      "Returning --- 1028 friends for ParadiseLoveLDR\n",
      "Returning --- 478 friends for JeanWestrick\n",
      "Returning --- 131 friends for cshrad\n",
      "Returning --- 16 friends for Curry_Williams\n",
      "Returning --- 142 friends for biggestred1789\n",
      "Returning --- 5 friends for toril7\n",
      "Returning --- 266 friends for WLimestall\n",
      "Returning --- 1952 friends for clifguy\n",
      "Returning --- 18 friends for gateeii\n",
      "Returning --- 159 friends for sparkyseattle"
     ]
    },
    {
     "name": "stderr",
     "output_type": "stream",
     "text": [
      "Got error: {\"errors\":[{\"message\":\"Rate limit exceeded\",\"code\":88}]} \n",
      "sleeping for 15 minutes.\n"
     ]
    },
    {
     "name": "stdout",
     "output_type": "stream",
     "text": [
      "\n",
      "Returning --- 140 friends for tuxecysuqi\n",
      "Returning --- 1708 friends for MissouriSandT\n",
      "Returning --- 139 friends for DUCO89\n",
      "Returning --- 1045 friends for DLSMeteors\n",
      "Returning --- 434 friends for illinoistech\n",
      "Returning --- 1687 friends for NACME\n",
      "Returning --- 98 friends for Abhishek13398\n",
      "Returning --- 48 friends for Ryan_L1u\n",
      "Returning --- 905 friends for eddiewilliamsjr\n",
      "Returning --- 1986 friends for doctorkbsingh\n",
      "Returning --- 429 friends for MCAPrograms\n",
      "Returning --- 5 friends for RiteshK74241241\n",
      "Returning --- 30 friends for Purvag"
     ]
    },
    {
     "name": "stderr",
     "output_type": "stream",
     "text": [
      "Got error: {\"errors\":[{\"message\":\"Rate limit exceeded\",\"code\":88}]} \n",
      "sleeping for 15 minutes.\n"
     ]
    },
    {
     "name": "stdout",
     "output_type": "stream",
     "text": [
      "\n",
      "Returning --- 1899 friends for tendolife\n",
      "Returning --- 1995 friends for MECOPower\n",
      "Returning --- 69 friends for jjvannorman\n",
      "Returning --- 891 friends for Erdas_mech_eng\n",
      "Returning --- 1883 friends for meganheckel\n",
      "Returning --- 2492 friends for CorkFloor\n",
      "Collected 5000 friends for Cascadia\n",
      "Collected 5000 friends for Cascadia\n",
      "Returning --- 385 friends for Cascadia\n",
      "Returning --- 54 friends for Souravmahapatr9\n",
      "Returning --- 485 friends for fracjackmac\n",
      "Returning --- 81 friends for ana_k_h\n",
      "Returning --- 1828 friends for dothedoable\n",
      "Returning --- 222 friends for vipuldh"
     ]
    },
    {
     "name": "stderr",
     "output_type": "stream",
     "text": [
      "Got error: {\"errors\":[{\"message\":\"Rate limit exceeded\",\"code\":88}]} \n",
      "sleeping for 15 minutes.\n"
     ]
    },
    {
     "name": "stdout",
     "output_type": "stream",
     "text": [
      "\n",
      "Returning --- 11 friends for CBeluska\n",
      "Returning --- 170 friends for anbanmta\n",
      "Returning --- 85 friends for lhuang89\n",
      "Returning --- 698 friends for JRin3words\n",
      "Returning --- 741 friends for VerdaeGroupLLC\n",
      "Returning --- 108 friends for rhitsha\n",
      "Returning --- 676 friends for Science_Break\n",
      "Returning --- 52 friends for Jacksper13\n",
      "Returning --- 2247 friends for ChicagoMPI\n",
      "Returning --- 47 friends for 047_yash\n",
      "Returning --- 1296 friends for IMGTechnologies\n",
      "Returning --- 96 friends for BowmanBarrett\n",
      "Returning --- 21 friends for dlaurit05\n",
      "Returning --- 40 friends for Nick_frCh"
     ]
    },
    {
     "name": "stderr",
     "output_type": "stream",
     "text": [
      "Got error: {\"errors\":[{\"message\":\"Rate limit exceeded\",\"code\":88}]} \n",
      "sleeping for 15 minutes.\n"
     ]
    },
    {
     "name": "stdout",
     "output_type": "stream",
     "text": [
      "\n",
      "Returning --- 2002 friends for rluislopez\n",
      "Returning --- 114 friends for kougkas\n",
      "Returning --- 195 friends for svalenciaaa_\n",
      "Returning --- 1973 friends for PHLOYtweets\n",
      "Returning --- 13 friends for IIT_guwahati\n",
      "Returning --- 38 friends for EricWeixuYang\n",
      "Returning --- 21 friends for Stepcone2K13\n",
      "Returning --- 1051 friends for moeasfour_1\n",
      "Returning --- 28 friends for SivaselvanT\n",
      "Returning --- 604 friends for PolishedPebbles\n",
      "Returning --- 23 friends for ashyBalboA\n",
      "Returning --- 7 friends for HuKexin"
     ]
    },
    {
     "name": "stderr",
     "output_type": "stream",
     "text": [
      "Got error: {\"errors\":[{\"message\":\"Rate limit exceeded\",\"code\":88}]} \n",
      "sleeping for 15 minutes.\n"
     ]
    },
    {
     "name": "stdout",
     "output_type": "stream",
     "text": [
      "\n",
      "Returning --- 43 friends for sahuuttam0\n",
      "Returning --- 50 friends for jason_gaoh\n",
      "Returning --- 556 friends for WalesInAmerica\n",
      "Returning --- 836 friends for MashBash_UofI\n",
      "Returning --- 1146 friends for davids_fourfold\n",
      "Returning --- 417 friends for tabishraza0901\n",
      "Returning --- 683 friends for JDF\n",
      "Returning --- 316 friends for gjpalathingal\n",
      "Returning --- 324 friends for alexdivis\n",
      "Returning --- 38 friends for ayushjain24xd\n",
      "Returning --- 246 friends for lijojoy8\n",
      "Returning --- 317 friends for iitcandycampus\n",
      "Returning --- 1336 friends for InternationalUL"
     ]
    },
    {
     "name": "stderr",
     "output_type": "stream",
     "text": [
      "Got error: {\"errors\":[{\"message\":\"Rate limit exceeded\",\"code\":88}]} \n",
      "sleeping for 15 minutes.\n"
     ]
    },
    {
     "name": "stdout",
     "output_type": "stream",
     "text": [
      "\n",
      "Returning --- 35 friends for info_sahil\n",
      "Returning --- 211 friends for Amanda_JobFairy\n",
      "Returning --- 351 friends for Victoria4vakv\n",
      "Returning --- 1156 friends for SudiptaWww\n",
      "Returning --- 10 friends for mishravijay687\n",
      "Returning --- 1418 friends for MasroorGilani\n",
      "Returning --- 44 friends for Shaun_Xi\n",
      "Returning --- 102 friends for ashubhargave\n",
      "Returning --- 36 friends for giselemack\n",
      "Returning --- 513 friends for next_bncnews\n",
      "Returning --- 67 friends for CareerOrbits\n",
      "Returning --- 4067 friends for computational\n",
      "Returning --- 100 friends for mrigank_korpal"
     ]
    },
    {
     "name": "stderr",
     "output_type": "stream",
     "text": [
      "Got error: {\"errors\":[{\"message\":\"Rate limit exceeded\",\"code\":88}]} \n",
      "sleeping for 15 minutes.\n"
     ]
    },
    {
     "name": "stdout",
     "output_type": "stream",
     "text": [
      "\n",
      "Returning --- 193 friends for rahul12kv\n",
      "Returning --- 410 friends for CMAA_CMIT\n",
      "Returning --- 645 friends for NickBensonZA\n",
      "Returning --- 149 friends for dchristianson2\n",
      "Returning --- 1998 friends for kyronGlobal\n",
      "Returning --- 485 friends for psahluwalia1\n",
      "Returning --- 82 friends for EngageCivil\n",
      "Returning --- 322 friends for cucpokdn\n",
      "Returning --- 397 friends for ICO_Optometry\n",
      "Returning --- 13 friends for lihanzhi129\n",
      "Returning --- 368 friends for GetReplaced\n",
      "Returning --- 332 friends for mwerbo2\n",
      "Returning --- 49 friends for Afzalah48195490\n",
      "Returning --- 1996 friends for kingofallbooks"
     ]
    },
    {
     "name": "stderr",
     "output_type": "stream",
     "text": [
      "Got error: {\"errors\":[{\"message\":\"Rate limit exceeded\",\"code\":88}]} \n",
      "sleeping for 15 minutes.\n"
     ]
    },
    {
     "name": "stdout",
     "output_type": "stream",
     "text": [
      "\n",
      "Returning --- 55 friends for fourtwelve412\n",
      "Returning --- 242 friends for harvinder0494\n",
      "Returning --- 1330 friends for land_archt\n",
      "Returning --- 991 friends for vpy143\n",
      "Returning --- 164 friends for ShellyDutler\n",
      "Returning --- 169 friends for sumanasunda\n",
      "Returning --- 199 friends for legal_lease\n",
      "Returning --- 116 friends for heloisamouraphd\n",
      "Returning --- 179 friends for iitAIAS\n",
      "Returning --- 43 friends for dcobbins6\n",
      "Returning --- 1137 friends for Inceptia\n",
      "Returning --- 24 friends for ddoshi4\n",
      "Returning --- 919 friends for SpikeHilton"
     ]
    },
    {
     "name": "stderr",
     "output_type": "stream",
     "text": [
      "Got error: {\"errors\":[{\"message\":\"Rate limit exceeded\",\"code\":88}]} \n",
      "sleeping for 15 minutes.\n"
     ]
    },
    {
     "name": "stdout",
     "output_type": "stream",
     "text": [
      "\n",
      "Returning --- 684 friends for history_mrb\n",
      "Returning --- 696 friends for talk2pankajroy\n",
      "Returning --- 137 friends for beyesus\n",
      "Returning --- 144 friends for Chandramouli_C\n",
      "Returning --- 524 friends for js_howard\n",
      "Returning --- 93 friends for janetj_IIT\n",
      "Returning --- 1229 friends for IAarchitects\n",
      "Returning --- 365 friends for that_guy_412\n",
      "Returning --- 575 friends for Dulc3R30\n",
      "Returning --- 1997 friends for juanitag\n",
      "Returning --- 13 friends for AnthonyMSE\n",
      "Returning --- 49 friends for akayugin\n",
      "Returning --- 88 friends for Exams4us\n",
      "Returning --- 38 friends for NandiniSwami2"
     ]
    },
    {
     "name": "stderr",
     "output_type": "stream",
     "text": [
      "Got error: {\"errors\":[{\"message\":\"Rate limit exceeded\",\"code\":88}]} \n",
      "sleeping for 15 minutes.\n"
     ]
    },
    {
     "name": "stdout",
     "output_type": "stream",
     "text": [
      "\n",
      "Collected 5000 friends for bombaywraps\n",
      "Collected 5000 friends for bombaywraps\n",
      "Collected 5000 friends for bombaywraps\n",
      "Returning --- 2738 friends for bombaywraps\n",
      "Returning --- 1405 friends for PromiseforHaiti\n",
      "Returning --- 995 friends for mmccune\n",
      "Returning --- 92 friends for StBenGuidance\n",
      "Returning --- 2267 friends for SrivastavaKush\n",
      "Returning --- 61 friends for vivekdesigns\n",
      "Returning --- 1447 friends for ASTMStudentFans\n",
      "Returning --- 211 friends for IIT_SAT\n",
      "Returning --- 967 friends for ShilaBorse\n",
      "Returning --- 36 friends for verymiriam\n",
      "Returning --- 335 friends for howlandster\n",
      "Collected 5000 friends for MikeBoehler"
     ]
    },
    {
     "name": "stderr",
     "output_type": "stream",
     "text": [
      "Got error: {\"errors\":[{\"message\":\"Rate limit exceeded\",\"code\":88}]} \n",
      "sleeping for 15 minutes.\n"
     ]
    },
    {
     "name": "stdout",
     "output_type": "stream",
     "text": [
      "\n",
      "Collected 5000 friends for MikeBoehler\n",
      "Collected 5000 friends for MikeBoehler\n",
      "Collected 5000 friends for MikeBoehler\n",
      "Returning --- 2235 friends for MikeBoehler\n",
      "Returning --- 83 friends for TrevorVossberg\n",
      "Returning --- 311 friends for MrHylander\n",
      "Returning --- 706 friends for BrianPByrne\n",
      "Returning --- 1160 friends for amitsanapala\n",
      "Returning --- 244 friends for PlatStaffJobs\n",
      "Returning --- 165 friends for IITPublicSafety\n",
      "Returning --- 14 friends for darkoccult7\n",
      "Returning --- 566 friends for BinitaSahibabad\n",
      "Returning --- 6 friends for JielingLu\n",
      "Returning --- 31 friends for prachi_1a"
     ]
    },
    {
     "name": "stderr",
     "output_type": "stream",
     "text": [
      "Got error: {\"errors\":[{\"message\":\"Rate limit exceeded\",\"code\":88}]} \n",
      "sleeping for 15 minutes.\n"
     ]
    },
    {
     "name": "stdout",
     "output_type": "stream",
     "text": [
      "\n",
      "Returning --- 1346 friends for NorthwesternMPD\n",
      "Returning --- 804 friends for fenixintl\n",
      "Returning --- 321 friends for SamahSallam\n",
      "Returning --- 97 friends for nkurpandey\n",
      "Returning --- 616 friends for EngineersGarage\n",
      "Returning --- 1714 friends for KaplanGMATPrep\n",
      "Returning --- 1848 friends for barcacolts12\n",
      "Returning --- 1835 friends for carnotweets\n",
      "Returning --- 1005 friends for Aleksey_Basov\n",
      "Returning --- 2012 friends for jimabbott72\n",
      "Returning --- 1989 friends for kizimiistiyorum\n",
      "Returning --- 313 friends for 6122312\n",
      "Returning --- 719 friends for perkinswill_CHI\n",
      "Returning --- 1098 friends for Deepk432"
     ]
    },
    {
     "name": "stderr",
     "output_type": "stream",
     "text": [
      "Got error: {\"errors\":[{\"message\":\"Rate limit exceeded\",\"code\":88}]} \n",
      "sleeping for 15 minutes.\n"
     ]
    },
    {
     "name": "stdout",
     "output_type": "stream",
     "text": [
      "\n",
      "Returning --- 20 friends for iandisoftware\n",
      "Returning --- 1012 friends for singh7rishabh\n",
      "Returning --- 504 friends for Mac330Pro\n",
      "Returning --- 1972 friends for MemberClicks\n",
      "Returning --- 1325 friends for cciAlumniGh\n",
      "Returning --- 181 friends for Piyush_creates\n",
      "Returning --- 82 friends for bikstud\n",
      "Returning --- 88 friends for m_dubs77\n",
      "Returning --- 32 friends for tianyuebeiwei\n",
      "Returning --- 132 friends for hutcht007\n",
      "Returning --- 1249 friends for Chuchobruzual\n",
      "Returning --- 5 friends for actonjm\n",
      "Returning --- 164 friends for yo_jane\n",
      "Returning --- 4 friends for MrResonance\n",
      "Returning --- 1017 friends for mobileappex"
     ]
    },
    {
     "name": "stderr",
     "output_type": "stream",
     "text": [
      "Got error: {\"errors\":[{\"message\":\"Rate limit exceeded\",\"code\":88}]} \n",
      "sleeping for 15 minutes.\n"
     ]
    },
    {
     "name": "stdout",
     "output_type": "stream",
     "text": [
      "\n",
      "Returning --- 35 friends for HristoNenov\n",
      "Returning --- 40 friends for CadeCynthia\n",
      "Returning --- 213 friends for Hits446\n",
      "Returning --- 128 friends for DanKasberger\n",
      "Returning --- 590 friends for ivelini\n",
      "Returning --- 877 friends for designerkd\n",
      "Returning --- 25 friends for AnshikaGovil\n",
      "Returning --- 123 friends for telugueducation\n",
      "Returning --- 124 friends for kellymcmahon99\n",
      "Returning --- 374 friends for Science_Topics\n",
      "Returning --- 105 friends for Brett_A_Harris\n",
      "Returning --- 405 friends for IDPUSA\n",
      "Collected 5000 friends for SportingKC"
     ]
    },
    {
     "name": "stderr",
     "output_type": "stream",
     "text": [
      "Got error: {\"errors\":[{\"message\":\"Rate limit exceeded\",\"code\":88}]} \n",
      "sleeping for 15 minutes.\n"
     ]
    },
    {
     "name": "stdout",
     "output_type": "stream",
     "text": [
      "\n",
      "Returning --- 482 friends for SportingKC\n",
      "Returning --- 562 friends for PlugVolt\n",
      "Returning --- 340 friends for net2chi\n",
      "Returning --- 69 friends for 71pinto\n",
      "Returning --- 47 friends for Mehul_Jakharia\n",
      "Returning --- 1812 friends for Francis09961623\n",
      "Returning --- 100 friends for fundinnovations\n",
      "Returning --- 10 friends for sauravk26989945\n",
      "Returning --- 91 friends for Little_BG\n",
      "Returning --- 120 friends for apBadz\n",
      "Returning --- 90 friends for Siddharth_R\n",
      "Returning --- 257 friends for ChimpsInNappies"
     ]
    },
    {
     "name": "stderr",
     "output_type": "stream",
     "text": [
      "Got error: {\"errors\":[{\"message\":\"Rate limit exceeded\",\"code\":88}]} \n",
      "sleeping for 15 minutes.\n"
     ]
    },
    {
     "name": "stdout",
     "output_type": "stream",
     "text": [
      "\n",
      "Returning --- 732 friends for pathbreaktechie\n",
      "Returning --- 1668 friends for perfectgenset\n",
      "Returning --- 7 friends for rajeev_upadhyay\n",
      "Returning --- 773 friends for ChicagoCYC\n",
      "Returning --- 1118 friends for UniLaGuajira\n",
      "Returning --- 502 friends for hatchvalleyco\n",
      "Returning --- 495 friends for StuartGrovescom\n",
      "Returning --- 123 friends for Maddy_Rai\n",
      "Returning --- 1212 friends for Jaisalgarh\n",
      "Returning --- 1601 friends for Smarteys\n",
      "Returning --- 25 friends for Pillowman918\n",
      "Returning --- 372 friends for dpkdns"
     ]
    },
    {
     "name": "stderr",
     "output_type": "stream",
     "text": [
      "Got error: {\"errors\":[{\"message\":\"Rate limit exceeded\",\"code\":88}]} \n",
      "sleeping for 15 minutes.\n"
     ]
    },
    {
     "name": "stdout",
     "output_type": "stream",
     "text": [
      "\n",
      "Returning --- 95 friends for etp_rapgaroo\n",
      "Returning --- 7 friends for MaletiaS\n",
      "Returning --- 189 friends for cooper_conrad\n",
      "Returning --- 186 friends for suta1\n",
      "Returning --- 44 friends for iwalliit\n",
      "Returning --- 62 friends for nagoorshareef23\n",
      "Returning --- 36 friends for avleenchadha\n",
      "Returning --- 1967 friends for vundrukkd\n",
      "Returning --- 44 friends for JAIDEEPJoseph7\n",
      "Returning --- 195 friends for JonathanWu1990\n",
      "Returning --- 13 friends for akshaybhagwani\n",
      "Returning --- 1155 friends for curbedchicago\n",
      "Returning --- 167 friends for RimaSukhadia\n",
      "Returning --- 108 friends for sororIITy"
     ]
    },
    {
     "name": "stderr",
     "output_type": "stream",
     "text": [
      "Got error: {\"errors\":[{\"message\":\"Rate limit exceeded\",\"code\":88}]} \n",
      "sleeping for 15 minutes.\n"
     ]
    },
    {
     "name": "stdout",
     "output_type": "stream",
     "text": [
      "\n",
      "Returning --- 1884 friends for Studyous\n",
      "Returning --- 685 friends for GSPACHOURI\n",
      "Returning --- 641 friends for thinknewworks\n",
      "Collected 5000 friends for WATF_\n",
      "Collected 5000 friends for WATF_\n",
      "Returning --- 681 friends for WATF_\n",
      "Returning --- 1511 friends for abhi_khanna_30\n",
      "Returning --- 296 friends for mandy_work\n",
      "Returning --- 81 friends for nagmaparveenpk\n",
      "Returning --- 48 friends for Navyug_academy\n",
      "Returning --- 514 friends for CBAworks\n",
      "Returning --- 32 friends for miranda2590\n",
      "Returning --- 273 friends for MarlaElitzer"
     ]
    },
    {
     "name": "stderr",
     "output_type": "stream",
     "text": [
      "Got error: {\"errors\":[{\"message\":\"Rate limit exceeded\",\"code\":88}]} \n",
      "sleeping for 15 minutes.\n"
     ]
    },
    {
     "name": "stdout",
     "output_type": "stream",
     "text": [
      "\n",
      "Returning --- 91 friends for chakri_online\n",
      "Returning --- 12 friends for ParasDhawan10\n",
      "Returning --- 338 friends for BISHCMC_CUG\n",
      "Returning --- 1986 friends for EmilianoReale\n",
      "Returning --- 82 friends for AashishU\n",
      "Returning --- 331 friends for marciosantanas\n",
      "Returning --- 14 friends for successgateway1\n",
      "Returning --- 259 friends for VasuAgarwal6\n",
      "Returning --- 224 friends for DeborahVyskocil\n",
      "Returning --- 90 friends for liuruiabc\n",
      "Returning --- 129 friends for SIUEnergy\n",
      "Returning --- 88 friends for iitgreen\n",
      "Returning --- 126 friends for lifeoutdoors2\n",
      "Returning --- 132 friends for erdaltatares\n",
      "Returning --- 517 friends for chibullsfan4evr"
     ]
    },
    {
     "name": "stderr",
     "output_type": "stream",
     "text": [
      "Got error: {\"errors\":[{\"message\":\"Rate limit exceeded\",\"code\":88}]} \n",
      "sleeping for 15 minutes.\n"
     ]
    },
    {
     "name": "stdout",
     "output_type": "stream",
     "text": [
      "\n",
      "Returning --- 774 friends for sanjit555\n",
      "Returning --- 2837 friends for notfortourists\n",
      "Returning --- 412 friends for HrBeckon\n",
      "Returning --- 5 friends for drjamesmcmahon\n",
      "Returning --- 163 friends for thssvkd\n",
      "Returning --- 54 friends for Complete_Degree\n",
      "Returning --- 436 friends for CR_MEENA\n",
      "Returning --- 287 friends for ca6e0aaaaa1b4b1\n",
      "Returning --- 62 friends for Shuklagreat\n",
      "Returning --- 10 friends for insiderZedge\n",
      "Returning --- 98 friends for Art_in_the_City\n",
      "Returning --- 2738 friends for AndreaHanis\n",
      "Returning --- 262 friends for MarcMdnd\n",
      "Returning --- 101 friends for 3rdAndKyleLong"
     ]
    },
    {
     "name": "stderr",
     "output_type": "stream",
     "text": [
      "Got error: {\"errors\":[{\"message\":\"Rate limit exceeded\",\"code\":88}]} \n",
      "sleeping for 15 minutes.\n"
     ]
    },
    {
     "name": "stdout",
     "output_type": "stream",
     "text": [
      "\n",
      "Returning --- 93 friends for SamritiSachdeva\n",
      "Returning --- 37 friends for sonurao42\n",
      "Returning --- 40 friends for GlennArnoldFF\n",
      "Returning --- 105 friends for pressbailey\n",
      "Returning --- 271 friends for 4D_arch\n",
      "Returning --- 1410 friends for EliziarioFreire\n",
      "Returning --- 181 friends for earthsaver10\n",
      "Returning --- 1999 friends for TheStudio_UI\n",
      "Returning --- 187 friends for polispaniard\n",
      "Returning --- 2125 friends for ilmionetwork\n",
      "Returning --- 37 friends for amalinakudsi\n",
      "Returning --- 933 friends for UScarletandBlue\n",
      "Returning --- 274 friends for ebalderas"
     ]
    },
    {
     "name": "stderr",
     "output_type": "stream",
     "text": [
      "Got error: {\"errors\":[{\"message\":\"Rate limit exceeded\",\"code\":88}]} \n",
      "sleeping for 15 minutes.\n"
     ]
    },
    {
     "name": "stdout",
     "output_type": "stream",
     "text": [
      "\n",
      "Returning --- 97 friends for nrehan2009\n",
      "Returning --- 271 friends for VLSI_2012\n",
      "Returning --- 514 friends for nourachanful\n",
      "Returning --- 268 friends for CCcleanwater312\n",
      "Returning --- 13 friends for master_baby\n",
      "Returning --- 41 friends for BW_IllinoisTech\n",
      "Returning --- 1057 friends for tierumasamunew8\n",
      "Returning --- 1259 friends for jessginger\n",
      "Returning --- 1177 friends for HA_Soraya\n",
      "Returning --- 280 friends for iitentrepreneur\n",
      "Returning --- 157 friends for blakejhageman\n",
      "Returning --- 1999 friends for DonClip5\n",
      "Returning --- 89 friends for lovefengzhilei\n",
      "Returning --- 1804 friends for ChicagoREpro\n",
      "Returning --- 18 friends for chandeshwar2"
     ]
    },
    {
     "name": "stderr",
     "output_type": "stream",
     "text": [
      "Got error: {\"errors\":[{\"message\":\"Rate limit exceeded\",\"code\":88}]} \n",
      "sleeping for 15 minutes.\n"
     ]
    },
    {
     "name": "stdout",
     "output_type": "stream",
     "text": [
      "\n",
      "Returning --- 34 friends for snopok\n",
      "Returning --- 93 friends for IITArchitecture\n",
      "Returning --- 441 friends for aveloroy\n",
      "Returning --- 1995 friends for askberry\n",
      "Returning --- 1980 friends for TrustyDeal\n",
      "Returning --- 1005 friends for SurbhiChauhan\n",
      "Returning --- 1997 friends for ChiTribLife\n",
      "Returning --- 1979 friends for AdlerPlanet\n",
      "Returning --- 691 friends for paulanandtweets\n",
      "Returning --- 458 friends for chandasmita_8\n",
      "Returning --- 1997 friends for MalbroughR\n",
      "Returning --- 143 friends for jbthummar\n",
      "Returning --- 43 friends for Deep10026Deepak\n",
      "Returning --- 169 friends for abhirocksnow"
     ]
    },
    {
     "name": "stderr",
     "output_type": "stream",
     "text": [
      "Got error: {\"errors\":[{\"message\":\"Rate limit exceeded\",\"code\":88}]} \n",
      "sleeping for 15 minutes.\n"
     ]
    },
    {
     "name": "stdout",
     "output_type": "stream",
     "text": [
      "\n",
      "Returning --- 82 friends for JasonJJYh\n",
      "Returning --- 380 friends for lisanotter\n",
      "Returning --- 96 friends for internship_desk\n",
      "Returning --- 38 friends for ketanamin99\n",
      "Returning --- 55 friends for mah_assaf\n",
      "Returning --- 149 friends for DontSayOhWell\n",
      "Returning --- 316 friends for FayceTime\n",
      "Returning --- 10 friends for RBeeds\n",
      "Returning --- 424 friends for Funkychakra\n",
      "Returning --- 192 friends for _sauvemoi\n",
      "Returning --- 9 friends for jana19930918\n",
      "Returning --- 221 friends for kuztaf\n",
      "Returning --- 395 friends for vjaguidance\n",
      "Returning --- 13 friends for feifeiyin\n",
      "Returning --- 42 friends for psirk2"
     ]
    },
    {
     "name": "stderr",
     "output_type": "stream",
     "text": [
      "Got error: {\"errors\":[{\"message\":\"Rate limit exceeded\",\"code\":88}]} \n",
      "sleeping for 15 minutes.\n"
     ]
    },
    {
     "name": "stdout",
     "output_type": "stream",
     "text": [
      "\n",
      "Returning --- 494 friends for Alex_Wentz\n",
      "Returning --- 1509 friends for goProjectTravel\n",
      "Returning --- 128 friends for ntaluzek\n",
      "Returning --- 1920 friends for TheBestChicago\n",
      "Returning --- 2458 friends for vismed3D\n",
      "Returning --- 701 friends for Nekrojack\n",
      "Collected 5000 friends for pauljstill\n",
      "Collected 5000 friends for pauljstill\n",
      "Returning --- 1096 friends for pauljstill\n",
      "Returning --- 36 friends for ich317\n",
      "Returning --- 287 friends for ChrisShaver64\n",
      "Returning --- 137 friends for ChicagoArchitec\n",
      "Returning --- 1765 friends for TechEdO"
     ]
    },
    {
     "name": "stderr",
     "output_type": "stream",
     "text": [
      "Got error: {\"errors\":[{\"message\":\"Rate limit exceeded\",\"code\":88}]} \n",
      "sleeping for 15 minutes.\n"
     ]
    },
    {
     "name": "stdout",
     "output_type": "stream",
     "text": [
      "\n",
      "Returning --- 294 friends for Ramjageer\n",
      "Returning --- 198 friends for pandeyalok195\n",
      "Returning --- 525 friends for SenatorHunter\n",
      "Returning --- 2000 friends for shaankh1997\n",
      "Returning --- 433 friends for Pradeepkumar754\n",
      "Returning --- 1629 friends for carvtober\n",
      "Returning --- 298 friends for JeremyBecker38\n",
      "Returning --- 4 friends for sheikhyasirali1\n",
      "Returning --- 135 friends for Latitude20N\n",
      "Returning --- 211 friends for SahilChalke\n",
      "Returning --- 21 friends for indianjob\n",
      "Returning --- 1195 friends for NatlStudentDay\n",
      "Returning --- 1851 friends for bhuvnesh169\n",
      "Returning --- 594 friends for ratioformation"
     ]
    },
    {
     "name": "stderr",
     "output_type": "stream",
     "text": [
      "Got error: {\"errors\":[{\"message\":\"Rate limit exceeded\",\"code\":88}]} \n",
      "sleeping for 15 minutes.\n"
     ]
    },
    {
     "name": "stdout",
     "output_type": "stream",
     "text": [
      "\n",
      "Returning --- 2570 friends for CityYearDC\n",
      "Returning --- 1876 friends for onthesafeside\n",
      "Returning --- 731 friends for OKWArchitects\n",
      "Returning --- 81 friends for hchong2\n",
      "Returning --- 444 friends for omnomhoshi\n",
      "Returning --- 20 friends for WhateverZy\n",
      "Returning --- 10 friends for GanguRulz\n",
      "Returning --- 201 friends for edqueso\n",
      "Collected 5000 friends for Germantees\n",
      "Collected 5000 friends for Germantees\n",
      "Collected 5000 friends for Germantees\n",
      "Collected 5000 friends for Germantees\n",
      "Collected 5000 friends for Germantees\n",
      "Collected 5000 friends for Germantees"
     ]
    },
    {
     "name": "stderr",
     "output_type": "stream",
     "text": [
      "Got error: {\"errors\":[{\"message\":\"Rate limit exceeded\",\"code\":88}]} \n",
      "sleeping for 15 minutes.\n"
     ]
    },
    {
     "name": "stdout",
     "output_type": "stream",
     "text": [
      "\n",
      "Collected 5000 friends for Germantees\n",
      "Collected 5000 friends for Germantees\n",
      "Collected 5000 friends for Germantees\n",
      "Collected 5000 friends for Germantees\n",
      "Collected 5000 friends for Germantees\n",
      "Collected 5000 friends for Germantees\n",
      "Collected 5000 friends for Germantees\n",
      "Collected 5000 friends for Germantees\n",
      "Collected 5000 friends for Germantees\n",
      "Collected 5000 friends for Germantees\n",
      "Returning --- 308 friends for Germantees\n",
      "Returning --- 68 friends for IndieMechE\n",
      "Returning --- 532 friends for bhuvang9\n",
      "Returning --- 986 friends for IamAG_17\n",
      "Returning --- 571 friends for CMSA04"
     ]
    },
    {
     "name": "stderr",
     "output_type": "stream",
     "text": [
      "Got error: {\"errors\":[{\"message\":\"Rate limit exceeded\",\"code\":88}]} \n",
      "sleeping for 15 minutes.\n"
     ]
    },
    {
     "name": "stdout",
     "output_type": "stream",
     "text": [
      "\n",
      "Returning --- 741 friends for HOPprogram\n",
      "Returning --- 1163 friends for sparmetuic\n",
      "Returning --- 60 friends for NMajernik\n",
      "Returning --- 948 friends for CleanEnergyTrst\n",
      "Returning --- 612 friends for POAHCommunities\n",
      "Returning --- 194 friends for Vaid3hi\n",
      "Returning --- 220 friends for rox_myers\n",
      "Returning --- 650 friends for hemant426\n",
      "Returning --- 100 friends for rhlblwl\n",
      "Returning --- 19 friends for Ritiksharma4240\n",
      "Returning --- 1774 friends for alumnijunction\n",
      "Returning --- 148 friends for annna_medina\n",
      "Returning --- 581 friends for sudipkarak"
     ]
    },
    {
     "name": "stderr",
     "output_type": "stream",
     "text": [
      "Got error: {\"errors\":[{\"message\":\"Rate limit exceeded\",\"code\":88}]} \n",
      "sleeping for 15 minutes.\n"
     ]
    },
    {
     "name": "stdout",
     "output_type": "stream",
     "text": [
      "\n",
      "Returning --- 28 friends for chauhanajeet12\n",
      "Returning --- 746 friends for superwurah\n",
      "Returning --- 104 friends for PICUonline\n",
      "Returning --- 1436 friends for sanjivpune\n",
      "Returning --- 1043 friends for J6060\n",
      "Returning --- 38 friends for TasterHan\n",
      "Returning --- 25 friends for exlaine44\n",
      "Returning --- 123 friends for namsss123\n",
      "Returning --- 1511 friends for AltoChicago\n",
      "Returning --- 485 friends for avilashC_95\n",
      "Returning --- 706 friends for Brill_Street\n",
      "Returning --- 260 friends for methodfellow"
     ]
    },
    {
     "name": "stderr",
     "output_type": "stream",
     "text": [
      "Got error: {\"errors\":[{\"message\":\"Rate limit exceeded\",\"code\":88}]} \n",
      "sleeping for 15 minutes.\n"
     ]
    },
    {
     "name": "stdout",
     "output_type": "stream",
     "text": [
      "\n",
      "Returning --- 662 friends for homefieldhunter\n",
      "Returning --- 200 friends for ChicagoEvent\n",
      "Returning --- 200 friends for arvindbrfoc\n",
      "Returning --- 1 friends for rajveerkumat\n",
      "Returning --- 359 friends for aakashkumar3163\n",
      "Returning --- 26 friends for NabenduPorey\n",
      "Returning --- 272 friends for ankitgupta0910\n",
      "Returning --- 1251 friends for GradPsychology\n",
      "Returning --- 16 friends for unnat_singh\n",
      "Returning --- 2000 friends for cm_ferrari3\n",
      "Returning --- 24 friends for Deepakshukla005\n",
      "Returning --- 93 friends for suncccc\n",
      "Returning --- 128 friends for usabuildit\n",
      "Returning --- 470 friends for industrial_tour\n",
      "Returning --- 71 friends for RachelYanover"
     ]
    },
    {
     "name": "stderr",
     "output_type": "stream",
     "text": [
      "Got error: {\"errors\":[{\"message\":\"Rate limit exceeded\",\"code\":88}]} \n",
      "sleeping for 15 minutes.\n"
     ]
    },
    {
     "name": "stdout",
     "output_type": "stream",
     "text": [
      "\n",
      "Returning --- 270 friends for RTGHoops\n",
      "Returning --- 53 friends for N_K_V_K\n",
      "Returning --- 23 friends for lcy88920\n",
      "Returning --- 24 friends for surajitpal6\n",
      "Returning --- 107 friends for SolarWerksllc\n",
      "Returning --- 52 friends for kavidahanayaka\n",
      "Returning --- 26 friends for chiragcec\n",
      "Returning --- 102 friends for BibhashBarman2\n",
      "Returning --- 2511 friends for DinkyShop\n",
      "Returning --- 1985 friends for FundasMadeEasy"
     ]
    },
    {
     "name": "stderr",
     "output_type": "stream",
     "text": [
      "WARNING:root:<class 'requests.exceptions.ReadTimeout'> HTTPSConnectionPool(host='api.twitter.com', port=443): Read timed out. (read timeout=5)\n"
     ]
    },
    {
     "name": "stdout",
     "output_type": "stream",
     "text": [
      "\n"
     ]
    },
    {
     "ename": "TwitterConnectionError",
     "evalue": "HTTPSConnectionPool(host='api.twitter.com', port=443): Read timed out. (read timeout=5)",
     "output_type": "error",
     "traceback": [
      "\u001b[1;31m---------------------------------------------------------------------------\u001b[0m",
      "\u001b[1;31mTwitterConnectionError\u001b[0m                    Traceback (most recent call last)",
      "\u001b[1;32m<ipython-input-16-796ba5bbba87>\u001b[0m in \u001b[0;36m<module>\u001b[1;34m()\u001b[0m\n\u001b[1;32m----> 1\u001b[1;33m \u001b[0mget_friend_ids_and_pickle_object\u001b[0m\u001b[1;33m(\u001b[0m\u001b[0miit_followers\u001b[0m\u001b[1;33m,\u001b[0m\u001b[1;34m\"iit\"\u001b[0m\u001b[1;33m)\u001b[0m\u001b[1;33m\u001b[0m\u001b[0m\n\u001b[0m",
      "\u001b[1;32m<ipython-input-14-4753535cc065>\u001b[0m in \u001b[0;36mget_friend_ids_and_pickle_object\u001b[1;34m(univ_followers, univ_name)\u001b[0m\n\u001b[0;32m     12\u001b[0m     \u001b[0mfriends_of_univ_followers\u001b[0m \u001b[1;33m=\u001b[0m \u001b[1;33m{\u001b[0m\u001b[1;33m}\u001b[0m\u001b[1;33m\u001b[0m\u001b[0m\n\u001b[0;32m     13\u001b[0m     \u001b[1;32mfor\u001b[0m \u001b[0mfollower\u001b[0m \u001b[1;32min\u001b[0m \u001b[0muniv_followers\u001b[0m\u001b[1;33m:\u001b[0m\u001b[1;33m\u001b[0m\u001b[0m\n\u001b[1;32m---> 14\u001b[1;33m         \u001b[0mfriends\u001b[0m \u001b[1;33m=\u001b[0m \u001b[0mget_friend_ids\u001b[0m\u001b[1;33m(\u001b[0m\u001b[0mfollower\u001b[0m\u001b[1;33m)\u001b[0m\u001b[1;33m\u001b[0m\u001b[0m\n\u001b[0m\u001b[0;32m     15\u001b[0m         \u001b[0mfriends_of_univ_followers\u001b[0m\u001b[1;33m[\u001b[0m\u001b[0mfollower\u001b[0m\u001b[1;33m]\u001b[0m \u001b[1;33m=\u001b[0m \u001b[0mfriends\u001b[0m\u001b[1;33m\u001b[0m\u001b[0m\n\u001b[0;32m     16\u001b[0m         \u001b[0mfileObject\u001b[0m \u001b[1;33m=\u001b[0m \u001b[0mopen\u001b[0m\u001b[1;33m(\u001b[0m\u001b[1;34m\"raw_data/friend_ids_of_\"\u001b[0m \u001b[1;33m+\u001b[0m \u001b[0muniv_name\u001b[0m \u001b[1;33m+\u001b[0m \u001b[1;34m\"_followers\"\u001b[0m\u001b[1;33m,\u001b[0m\u001b[1;34m'wb'\u001b[0m\u001b[1;33m)\u001b[0m\u001b[1;33m\u001b[0m\u001b[0m\n",
      "\u001b[1;32m<ipython-input-15-970bec8afa70>\u001b[0m in \u001b[0;36mget_friend_ids\u001b[1;34m(screen_name)\u001b[0m\n\u001b[0;32m     12\u001b[0m     \u001b[1;32mwhile\u001b[0m \u001b[0mTrue\u001b[0m\u001b[1;33m:\u001b[0m\u001b[1;33m\u001b[0m\u001b[0m\n\u001b[0;32m     13\u001b[0m         request = robust_request(twitter,'friends/ids', \n\u001b[1;32m---> 14\u001b[1;33m                                  {'screen_name': screen_name, 'count':5000, 'cursor': cursor})\n\u001b[0m\u001b[0;32m     15\u001b[0m \u001b[1;33m\u001b[0m\u001b[0m\n\u001b[0;32m     16\u001b[0m         \u001b[1;32mif\u001b[0m \u001b[0mrequest\u001b[0m \u001b[1;33m==\u001b[0m \u001b[0mNone\u001b[0m\u001b[1;33m:\u001b[0m\u001b[1;33m\u001b[0m\u001b[0m\n",
      "\u001b[1;32m<ipython-input-4-45e02672d17c>\u001b[0m in \u001b[0;36mrobust_request\u001b[1;34m(twitter, resource, params, max_tries)\u001b[0m\n\u001b[0;32m     11\u001b[0m     \"\"\"\n\u001b[0;32m     12\u001b[0m     \u001b[1;32mfor\u001b[0m \u001b[0mi\u001b[0m \u001b[1;32min\u001b[0m \u001b[0mrange\u001b[0m\u001b[1;33m(\u001b[0m\u001b[0mmax_tries\u001b[0m\u001b[1;33m)\u001b[0m\u001b[1;33m:\u001b[0m\u001b[1;33m\u001b[0m\u001b[0m\n\u001b[1;32m---> 13\u001b[1;33m         \u001b[0mrequest\u001b[0m \u001b[1;33m=\u001b[0m \u001b[0mtwitter\u001b[0m\u001b[1;33m.\u001b[0m\u001b[0mrequest\u001b[0m\u001b[1;33m(\u001b[0m\u001b[0mresource\u001b[0m\u001b[1;33m,\u001b[0m \u001b[0mparams\u001b[0m\u001b[1;33m)\u001b[0m\u001b[1;33m\u001b[0m\u001b[0m\n\u001b[0m\u001b[0;32m     14\u001b[0m         \u001b[1;32mif\u001b[0m \u001b[0mrequest\u001b[0m\u001b[1;33m.\u001b[0m\u001b[0mstatus_code\u001b[0m \u001b[1;33m==\u001b[0m \u001b[1;36m200\u001b[0m\u001b[1;33m:\u001b[0m\u001b[1;33m\u001b[0m\u001b[0m\n\u001b[0;32m     15\u001b[0m             \u001b[1;32mreturn\u001b[0m \u001b[0mrequest\u001b[0m\u001b[1;33m\u001b[0m\u001b[0m\n",
      "\u001b[1;32mC:\\Anaconda\\lib\\site-packages\\TwitterAPI\\TwitterAPI.pyc\u001b[0m in \u001b[0;36mrequest\u001b[1;34m(self, resource, params, files)\u001b[0m\n\u001b[0;32m    122\u001b[0m         except (ConnectionError, ProtocolError, ReadTimeout, ReadTimeoutError, \n\u001b[0;32m    123\u001b[0m                 SSLError, ssl.SSLError, socket.error) as e:\n\u001b[1;32m--> 124\u001b[1;33m             \u001b[1;32mraise\u001b[0m \u001b[0mTwitterConnectionError\u001b[0m\u001b[1;33m(\u001b[0m\u001b[0me\u001b[0m\u001b[1;33m)\u001b[0m\u001b[1;33m\u001b[0m\u001b[0m\n\u001b[0m\u001b[0;32m    125\u001b[0m         \u001b[1;32mreturn\u001b[0m \u001b[0mTwitterResponse\u001b[0m\u001b[1;33m(\u001b[0m\u001b[0mr\u001b[0m\u001b[1;33m,\u001b[0m \u001b[0msession\u001b[0m\u001b[1;33m.\u001b[0m\u001b[0mstream\u001b[0m\u001b[1;33m)\u001b[0m\u001b[1;33m\u001b[0m\u001b[0m\n\u001b[0;32m    126\u001b[0m \u001b[1;33m\u001b[0m\u001b[0m\n",
      "\u001b[1;31mTwitterConnectionError\u001b[0m: HTTPSConnectionPool(host='api.twitter.com', port=443): Read timed out. (read timeout=5)"
     ]
    }
   ],
   "source": [
    "get_friend_ids_and_pickle_object(iit_followers,\"iit\")"
   ]
  },
  {
   "cell_type": "code",
   "execution_count": null,
   "metadata": {
    "collapsed": true
   },
   "outputs": [],
   "source": []
  }
 ],
 "metadata": {
  "kernelspec": {
   "display_name": "Python 2",
   "language": "python",
   "name": "python2"
  },
  "language_info": {
   "codemirror_mode": {
    "name": "ipython",
    "version": 2
   },
   "file_extension": ".py",
   "mimetype": "text/x-python",
   "name": "python",
   "nbconvert_exporter": "python",
   "pygments_lexer": "ipython2",
   "version": "2.7.10"
  }
 },
 "nbformat": 4,
 "nbformat_minor": 0
}
