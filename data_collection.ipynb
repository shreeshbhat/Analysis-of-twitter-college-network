{
 "cells": [
  {
   "cell_type": "code",
   "execution_count": 1,
   "metadata": {
    "collapsed": false
   },
   "outputs": [],
   "source": [
    "# Imports needed for this ipython file\n",
    "\n",
    "from collections import Counter\n",
    "import ConfigParser\n",
    "import matplotlib.pyplot as plt\n",
    "import networkx as nx\n",
    "import sys\n",
    "import time\n",
    "import pickle\n",
    "from TwitterAPI import TwitterAPI\n",
    "\n",
    "%matplotlib inline"
   ]
  },
  {
   "cell_type": "code",
   "execution_count": 2,
   "metadata": {
    "collapsed": false
   },
   "outputs": [
    {
     "name": "stdout",
     "output_type": "stream",
     "text": [
      "Established Twitter connection.\n"
     ]
    }
   ],
   "source": [
    "def get_twitter(config_file):\n",
    "    \"\"\" \n",
    "    Args:\n",
    "      config_file ... A config file in ConfigParser format with Twitter credentials\n",
    "    Returns:\n",
    "      An instance of TwitterAPI.\n",
    "    \"\"\"\n",
    "    config = ConfigParser.ConfigParser()\n",
    "    config.read(config_file)\n",
    "    twitter = TwitterAPI(\n",
    "                   config.get('twitter', 'consumer_key'),\n",
    "                   config.get('twitter', 'consumer_secret'),\n",
    "                   config.get('twitter', 'access_token'),\n",
    "                   config.get('twitter', 'access_token_secret'))\n",
    "    return twitter\n",
    "\n",
    "twitter = get_twitter('twitter.cfg')\n",
    "print('Established Twitter connection.')"
   ]
  },
  {
   "cell_type": "code",
   "execution_count": 3,
   "metadata": {
    "collapsed": true
   },
   "outputs": [],
   "source": [
    "def robust_request(twitter, resource, params, max_tries=2):\n",
    "    \"\"\" If a Twitter request fails, sleep for 15 minutes.\n",
    "    Do this at most max_tries times before quitting.\n",
    "    Args:\n",
    "      twitter .... A TwitterAPI object.\n",
    "      resource ... A resource string to request.\n",
    "      params ..... A parameter dictionary for the request.\n",
    "      max_tries .. The maximum number of tries to attempt.\n",
    "    Returns:\n",
    "      A TwitterResponse object, or None if failed.\n",
    "    \"\"\"\n",
    "    for i in range(max_tries):\n",
    "        request = twitter.request(resource, params)    \n",
    "        if request.status_code == 200:\n",
    "            return request\n",
    "        elif \"Not authorized\" in request.text:\n",
    "            return -1\n",
    "        elif \"page does not exist\" in request.text:\n",
    "            return -2\n",
    "        else:\n",
    "            print >> sys.stderr, 'Got error:', request.text, '\\nsleeping for 15 minutes.'\n",
    "            sys.stderr.flush()\n",
    "            time.sleep(61 * 15)"
   ]
  },
  {
   "cell_type": "code",
   "execution_count": 4,
   "metadata": {
    "collapsed": false
   },
   "outputs": [],
   "source": [
    "def get_followers(screen_name):\n",
    "    \"\"\" Return a dictionary of the users that follows this person on Twitter.\n",
    "    \n",
    "    Args:\n",
    "        screen_name: a string of a Twitter screen name\n",
    "    Returns:\n",
    "        A dictionary of dictionary, one per follower containing {index, user_info} pairs.\n",
    "    Note: Many users follow more than 200 accounts; we will return those accounts too.\n",
    "    \"\"\"\n",
    "    followers = {}\n",
    "    cursor = -1\n",
    "    key = 0\n",
    "    rate_limit = 1\n",
    "    while True:\n",
    "        if rate_limit == 15:\n",
    "            rate_limit = 1\n",
    "            print >> sys.stderr, 'Avoided rate_limit error: \\nsleeping for 15 minutes.'\n",
    "            time.sleep(61 * 15)\n",
    "        request = robust_request(twitter,'followers/list', \n",
    "                                 {'screen_name': screen_name, 'count':200, 'cursor': cursor})\n",
    "        json_response = request.json()\n",
    "        \n",
    "        # Get 200 followers from json_response\n",
    "        for follower in json_response['users']:\n",
    "                followers[follower['screen_name']] = follower\n",
    "                key = key + 1\n",
    "                \n",
    "        # If user has < 200 followers or to retrieve last 200 followers\n",
    "        if json_response[\"next_cursor\"] == 0:\n",
    "            break\n",
    "            \n",
    "        # Update cursor to get next 200 followers\n",
    "        cursor = json_response[\"next_cursor\"]\n",
    "        rate_limit = rate_limit + 1\n",
    "        print \"Collected %d followers\" % key\n",
    "    return followers"
   ]
  },
  {
   "cell_type": "code",
   "execution_count": 5,
   "metadata": {
    "collapsed": true
   },
   "outputs": [],
   "source": [
    "def get_followers_and_pickle_object(account_name):\n",
    "    \"\"\" Calls get_followers() to collect all followers of a Twitter account\n",
    "        and then saves it by pickling for future processing purposes.\n",
    "    \n",
    "    Args: A string representing the screen_name of a Twitter account,\n",
    "          whose followers we need.\n",
    "    Returns : A dictionary of { screen_name : user_info } pairs of followers,\n",
    "              where user_info is a dictionary object containing user information\n",
    "    \"\"\"\n",
    "    followers = get_followers(account_name)\n",
    "    fileObject = open(\"raw_data/\" + account_name,'wb')\n",
    "    pickle.dump(followers,fileObject)\n",
    "    fileObject.close()\n",
    "    return followers"
   ]
  },
  {
   "cell_type": "code",
   "execution_count": 6,
   "metadata": {
    "collapsed": true
   },
   "outputs": [],
   "source": [
    "def get_followers_from_pickle(account_name):\n",
    "    \"\"\" Returns all followers of a Twitter account by retrieving saved data,\n",
    "        using pickle method.\n",
    "    \n",
    "    Args: A string representing the screen_name of a Twitter account,\n",
    "          whose followers we need.\n",
    "    Returns : A dictionary of { screen_name : user_info } pairs of followers,\n",
    "              where user_info is a dictionary object containing user information\n",
    "    \"\"\"\n",
    "    fileObject = open(\"raw_data/\" + account_name,'r')\n",
    "    followers = pickle.load(fileObject)\n",
    "    fileObject.close()\n",
    "    return followers"
   ]
  },
  {
   "cell_type": "code",
   "execution_count": 61,
   "metadata": {
    "collapsed": false
   },
   "outputs": [],
   "source": [
    "# Getting iit alumni association followers and pickling them\n",
    "iit_alumni_followers = get_followers_and_pickle_object('iitalumniassn')"
   ]
  },
  {
   "cell_type": "code",
   "execution_count": 7,
   "metadata": {
    "collapsed": false
   },
   "outputs": [
    {
     "name": "stdout",
     "output_type": "stream",
     "text": [
      "Found 1861 followers for iitalumniassn\n"
     ]
    }
   ],
   "source": [
    "iit_alumni_followers = get_followers_from_pickle('iitalumniassn')\n",
    "print \"Found %d followers for iitalumniassn\" %len(iit_alumni_followers.keys())"
   ]
  },
  {
   "cell_type": "code",
   "execution_count": 6,
   "metadata": {
    "collapsed": false
   },
   "outputs": [],
   "source": [
    "# Getting iit career services followers and pickling them\n",
    "iit_career_followers = get_followers_and_pickle_object('IITCareers')"
   ]
  },
  {
   "cell_type": "code",
   "execution_count": 8,
   "metadata": {
    "collapsed": false
   },
   "outputs": [
    {
     "name": "stdout",
     "output_type": "stream",
     "text": [
      "Found 643 followers for IITCareers\n"
     ]
    }
   ],
   "source": [
    "iit_career_followers = get_followers_from_pickle('IITCareers')\n",
    "print \"Found %d followers for IITCareers\" %len(iit_career_followers.keys())"
   ]
  },
  {
   "cell_type": "code",
   "execution_count": null,
   "metadata": {
    "collapsed": false
   },
   "outputs": [],
   "source": [
    "# Getting iit main university followers and pickling them\n",
    "iit_univ_followers = get_followers_and_pickle_object('illinoistech')"
   ]
  },
  {
   "cell_type": "code",
   "execution_count": 9,
   "metadata": {
    "collapsed": false
   },
   "outputs": [
    {
     "name": "stdout",
     "output_type": "stream",
     "text": [
      "Found 5426 followers for IIT University\n"
     ]
    }
   ],
   "source": [
    "iit_univ_followers = get_followers_from_pickle('illinoistech')\n",
    "print \"Found %d followers for IIT University\" %len(iit_univ_followers.keys())"
   ]
  },
  {
   "cell_type": "code",
   "execution_count": null,
   "metadata": {
    "collapsed": true
   },
   "outputs": [],
   "source": [
    "# Getting uiuc main university followers and pickling them\n",
    "uiuc_univ_followers = get_followers_and_pickle_object('Illinois_Alma')"
   ]
  },
  {
   "cell_type": "code",
   "execution_count": 16,
   "metadata": {
    "collapsed": false
   },
   "outputs": [
    {
     "name": "stdout",
     "output_type": "stream",
     "text": [
      "Found 40017 followers for UIUC University\n"
     ]
    }
   ],
   "source": [
    "uiuc_univ_followers = get_followers_from_pickle('Illinois_Alma')\n",
    "print \"Found %d followers for UIUC University\" %len(uiuc_univ_followers.keys())"
   ]
  },
  {
   "cell_type": "code",
   "execution_count": null,
   "metadata": {
    "collapsed": false
   },
   "outputs": [],
   "source": [
    "# Getting uiuc alumni followers and pickling them\n",
    "uiuc_alumni_followers = get_followers_and_pickle_object('UIAA')"
   ]
  },
  {
   "cell_type": "code",
   "execution_count": 45,
   "metadata": {
    "collapsed": false
   },
   "outputs": [
    {
     "name": "stdout",
     "output_type": "stream",
     "text": [
      "Found 5960 followers for UIUC Alumni\n"
     ]
    }
   ],
   "source": [
    "uiuc_alumni_followers = get_followers_from_pickle('UIAA')\n",
    "print \"Found %d followers for UIUC Alumni\" %len(uiuc_alumni_followers.keys())"
   ]
  },
  {
   "cell_type": "code",
   "execution_count": null,
   "metadata": {
    "collapsed": true
   },
   "outputs": [],
   "source": []
  },
  {
   "cell_type": "code",
   "execution_count": 8,
   "metadata": {
    "collapsed": false
   },
   "outputs": [],
   "source": [
    "def get_all_screen_names(*args):\n",
    "    \"\"\" Returns union of all followers of a particular university\n",
    "    \n",
    "    Args: Variables containing followers from different accounts in dictionary format.\n",
    "    \n",
    "    Returns : A set of intersection of keys from the dictionaries passed as input.\n",
    "    \"\"\"\n",
    "    univ_followers = set()\n",
    "    for followers in args:\n",
    "        for user in followers.keys():\n",
    "            univ_followers.add(user)\n",
    "    return univ_followers"
   ]
  },
  {
   "cell_type": "code",
   "execution_count": 11,
   "metadata": {
    "collapsed": false
   },
   "outputs": [
    {
     "name": "stdout",
     "output_type": "stream",
     "text": [
      "Found 6565 unique accounts from 7930 accounts \n"
     ]
    }
   ],
   "source": [
    "iit_followers = get_all_screen_names(iit_alumni_followers,iit_career_followers,iit_univ_followers)\n",
    "print \"Found %d unique accounts from %d accounts \" %(len(iit_followers), \n",
    "            (len(iit_alumni_followers)+len(iit_career_followers)+len(iit_univ_followers)))"
   ]
  },
  {
   "cell_type": "code",
   "execution_count": 13,
   "metadata": {
    "collapsed": false
   },
   "outputs": [],
   "source": [
    "# Pickling iit_followers for future calculations.\n",
    "fileObject = open(\"processed_data/iit_followers\",'wb')\n",
    "pickle.dump(iit_followers,fileObject)\n",
    "fileObject.close()"
   ]
  },
  {
   "cell_type": "code",
   "execution_count": 7,
   "metadata": {
    "collapsed": true
   },
   "outputs": [],
   "source": [
    "# Loading iit_followers from pickle.\n",
    "fileObject = open(\"processed_data/iit_followers\",'r')\n",
    "iit_followers = pickle.load(fileObject)\n",
    "fileObject.close()"
   ]
  },
  {
   "cell_type": "code",
   "execution_count": 10,
   "metadata": {
    "collapsed": true
   },
   "outputs": [],
   "source": [
    "def get_friends(screen_name):\n",
    "    \"\"\" Return a dictionary of users that are friends of this person on Twitter.\n",
    "    \n",
    "    Args:\n",
    "        screen_name: a string of a Twitter screen name\n",
    "    Returns:\n",
    "        A dictionary of {screen_name : description} per friend of the given account.\n",
    "    \"\"\"\n",
    "    friends = {}\n",
    "    cursor = -1\n",
    "    key = 0\n",
    "    while True:\n",
    "        request = robust_request(twitter,'friends/list', \n",
    "                                 {'screen_name': screen_name, 'count':200, 'cursor': cursor})\n",
    "        \n",
    "        if request == None:\n",
    "            return 0\n",
    "        \n",
    "        if request == -1 :    # Authentication error : Can't access follower data\n",
    "            return -1\n",
    "        elif request == -2:\n",
    "            return -2\n",
    "        \n",
    "        json_response = request.json()\n",
    "        \n",
    "        # Get 200 friends from json_response\n",
    "        for friend in json_response['users']:\n",
    "                #friends.append(friend['screen_name']) -- to_remove\n",
    "                friends[friend['screen_name']] = friend['description']\n",
    "                key = key + 1\n",
    "                \n",
    "        # If user has < 200 friends or to retrieve last friends followers\n",
    "        if json_response[\"next_cursor\"] == 0:\n",
    "            break\n",
    "            \n",
    "        # Update cursor to get next 200 friends\n",
    "        cursor = json_response[\"next_cursor\"]\n",
    "        print \"Collected %d friends for %s\" % (key,screen_name)\n",
    "    print \"Returning --- %d friends for %s\" % (key,screen_name)\n",
    "    return friends"
   ]
  },
  {
   "cell_type": "code",
   "execution_count": null,
   "metadata": {
    "collapsed": false,
    "scrolled": false
   },
   "outputs": [],
   "source": [
    "friends_of_iit_followers = { x : get_friends(x) for x in iit_followers}"
   ]
  },
  {
   "cell_type": "code",
   "execution_count": 11,
   "metadata": {
    "collapsed": true
   },
   "outputs": [],
   "source": [
    "def get_friends_and_pickle_object(univ_followers, univ_name):\n",
    "    \"\"\" Calls get_friends() to collect all friends of a Twitter account\n",
    "        and then saves it by pickling.\n",
    "    \n",
    "    Args: A list of strings representing the screen_names of all followers of a university,\n",
    "          A string representing the university's name.\n",
    "          \n",
    "    Returns : A dictionary of { String , [List] } pairs,\n",
    "              where String is a university follower's screen_name\n",
    "              and List is a list of screen_names of their friends\n",
    "    \"\"\"\n",
    "    friends_of_univ_followers = {}\n",
    "    for follower in univ_followers:\n",
    "        friends = get_friends(follower)\n",
    "        friends_of_univ_followers[follower] = friends\n",
    "        fileObject = open(\"raw_data/friends_of_\" + univ_name + \"_followers\",'wb')\n",
    "        pickle.dump(friends_of_univ_followers,fileObject)\n",
    "        fileObject.close()\n",
    "    return friends_of_univ_followers"
   ]
  },
  {
   "cell_type": "code",
   "execution_count": null,
   "metadata": {
    "collapsed": false
   },
   "outputs": [],
   "source": [
    "get_friends_and_pickle_object(iit_followers,\"iit\")"
   ]
  },
  {
   "cell_type": "code",
   "execution_count": 22,
   "metadata": {
    "collapsed": false
   },
   "outputs": [
    {
     "name": "stdout",
     "output_type": "stream",
     "text": [
      "1548\n",
      "5017\n"
     ]
    }
   ],
   "source": [
    "for idx,follower in enumerate(iit_followers):\n",
    "    if \"hardik_setia\" in follower:\n",
    "        print idx\n",
    "print len(iit_followers_2)"
   ]
  },
  {
   "cell_type": "code",
   "execution_count": 21,
   "metadata": {
    "collapsed": false
   },
   "outputs": [],
   "source": [
    "iit_followers_2 =  list(iit_followers)[1548:]"
   ]
  },
  {
   "cell_type": "code",
   "execution_count": 15,
   "metadata": {
    "collapsed": false
   },
   "outputs": [],
   "source": [
    "def get_friend_ids(screen_name):\n",
    "    \"\"\" Return a dictionary of users that are friends of this person on Twitter.\n",
    "    \n",
    "    Args:\n",
    "        screen_name: a string of a Twitter screen name\n",
    "    Returns:\n",
    "        A list of ids per friend of the given account.\n",
    "    \"\"\"\n",
    "    friends = []\n",
    "    cursor = -1\n",
    "    key = 0\n",
    "    while True:\n",
    "        request = robust_request(twitter,'friends/ids', \n",
    "                                 {'screen_name': screen_name, 'count':5000, 'cursor': cursor})\n",
    "        \n",
    "        if request == None:\n",
    "            return 0\n",
    "        elif request == -1 :    # Authentication error : Can't access follower data\n",
    "            return -1\n",
    "        elif request == -2:   # Page does not exist error\n",
    "            return -2\n",
    "        \n",
    "        json_response = request.json()\n",
    "        \n",
    "        # Get 5000 friends from json_response\n",
    "        friends = json_response['ids']\n",
    "        key = len(friends)\n",
    "                \n",
    "        # If user has < 200 friends or to retrieve last friends followers\n",
    "        if json_response[\"next_cursor\"] == 0:\n",
    "            break\n",
    "            \n",
    "        # Update cursor to get next 200 friends\n",
    "        cursor = json_response[\"next_cursor\"]\n",
    "        print \"Collected %d friends for %s\" % (key,screen_name)\n",
    "    print \"Returning --- %d friends for %s\" % (key,screen_name)\n",
    "    return friends"
   ]
  },
  {
   "cell_type": "code",
   "execution_count": 14,
   "metadata": {
    "collapsed": true
   },
   "outputs": [],
   "source": [
    "def get_friend_ids_and_pickle_object(univ_followers, univ_name):\n",
    "    \"\"\" Calls get_friends() to collect all friends of a Twitter account\n",
    "        and then saves it by pickling.\n",
    "    \n",
    "    Args: A list of strings representing the screen_names of all followers of a university,\n",
    "          A string representing the university's name.\n",
    "          \n",
    "    Returns : A dictionary of { String , [List] } pairs,\n",
    "              where String is a university follower's screen_name\n",
    "              and List is a list of screen_names of their friends\n",
    "    \"\"\"\n",
    "    friends_of_univ_followers = {}\n",
    "    for follower in univ_followers:\n",
    "        friends = get_friend_ids(follower)\n",
    "        friends_of_univ_followers[follower] = friends\n",
    "        fileObject = open(\"raw_data/friend_ids_of_\" + univ_name + \"_followers\",'wb')\n",
    "        pickle.dump(friends_of_univ_followers,fileObject)\n",
    "        fileObject.close()\n",
    "    return friends_of_univ_followers"
   ]
  },
  {
   "cell_type": "code",
   "execution_count": null,
   "metadata": {
    "collapsed": false
   },
   "outputs": [
    {
     "name": "stdout",
     "output_type": "stream",
     "text": [
      "Returning --- 2511 friends for DinkyShop\n",
      "Returning --- 1985 friends for FundasMadeEasy\n",
      "Returning --- 1788 friends for BellevueU\n",
      "Returning --- 28 friends for SUSHANTKUMARS14\n",
      "Returning --- 1994 friends for StopVirtuaStalk\n",
      "Returning --- 277 friends for akp4595\n",
      "Returning --- 138 friends for miyfghiuwdfd\n",
      "Returning --- 283 friends for gkdelhi8\n",
      "Returning --- 34 friends for onlyAbhiJ\n",
      "Returning --- 20 friends for yogeshjshah\n",
      "Returning --- 51 friends for Twu28Wu\n",
      "Returning --- 361 friends for SerialParoxysm\n",
      "Returning --- 13 friends for Sumesh_Sethu"
     ]
    },
    {
     "name": "stderr",
     "output_type": "stream",
     "text": [
      "Got error: {\"errors\":[{\"message\":\"Rate limit exceeded\",\"code\":88}]} \n",
      "sleeping for 15 minutes.\n"
     ]
    },
    {
     "name": "stdout",
     "output_type": "stream",
     "text": [
      "\n",
      "Returning --- 2894 friends for PearsonSci\n",
      "Returning --- 20 friends for muralim97510723\n",
      "Returning --- 4 friends for pxportill\n",
      "Returning --- 141 friends for nikki_does\n",
      "Returning --- 53 friends for yadavAshish11\n",
      "Returning --- 1962 friends for liethyderabad\n",
      "Returning --- 30 friends for iitsjm\n",
      "Returning --- 430 friends for jrnag2\n",
      "Returning --- 155 friends for vas_ashwin\n",
      "Returning --- 237 friends for cheesybrownie\n",
      "Returning --- 787 friends for SCTransferCtr\n",
      "Returning --- 8 friends for raer77\n",
      "Returning --- 47 friends for meetsharmitha\n",
      "Returning --- 11 friends for pavansl"
     ]
    },
    {
     "name": "stderr",
     "output_type": "stream",
     "text": [
      "Got error: {\"errors\":[{\"message\":\"Rate limit exceeded\",\"code\":88}]} \n",
      "sleeping for 15 minutes.\n"
     ]
    },
    {
     "name": "stdout",
     "output_type": "stream",
     "text": [
      "\n",
      "Returning --- 33 friends for SklmTown\n",
      "Returning --- 139 friends for ravikalsia\n",
      "Returning --- 839 friends for ED24group\n",
      "Returning --- 232 friends for klillehaugCPVA\n",
      "Returning --- 105 friends for PaigeGrons\n",
      "Returning --- 398 friends for Naveenprasant12\n",
      "Returning --- 1562 friends for jscotheathman\n",
      "Returning --- 70 friends for OmNarkar\n",
      "Returning --- 34 friends for iititm\n",
      "Returning --- 672 friends for nicolenetland\n",
      "Returning --- 30 friends for SingleHopKyle\n",
      "Returning --- 930 friends for CFLCruises\n",
      "Returning --- 1529 friends for dynegy\n",
      "Returning --- 159 friends for IITFaculty"
     ]
    },
    {
     "name": "stderr",
     "output_type": "stream",
     "text": [
      "Got error: {\"errors\":[{\"message\":\"Rate limit exceeded\",\"code\":88}]} \n",
      "sleeping for 15 minutes.\n"
     ]
    },
    {
     "name": "stdout",
     "output_type": "stream",
     "text": [
      "\n",
      "Returning --- 30 friends for snavendar\n",
      "Returning --- 39 friends for SweetY9876\n",
      "Returning --- 456 friends for ARCHEWORKS\n",
      "Returning --- 797 friends for JoseHdzMX\n",
      "Returning --- 15 friends for zhouwenxi\n",
      "Returning --- 544 friends for EdwardPurcell\n",
      "Returning --- 292 friends for rxqflora\n",
      "Returning --- 75 friends for MedChalfout\n",
      "Returning --- 11 friends for ncrivell\n",
      "Returning --- 311 friends for FLLWFoundation\n",
      "Returning --- 1183 friends for zorocareers\n",
      "Returning --- 1142 friends for AmMassMedia"
     ]
    },
    {
     "name": "stderr",
     "output_type": "stream",
     "text": [
      "Got error: {\"errors\":[{\"message\":\"Rate limit exceeded\",\"code\":88}]} \n",
      "sleeping for 15 minutes.\n"
     ]
    },
    {
     "name": "stdout",
     "output_type": "stream",
     "text": [
      "\n",
      "Returning --- 1599 friends for farrukhadnan1\n",
      "Returning --- 507 friends for Atuljai65707459\n",
      "Returning --- 211 friends for SandeepanP\n",
      "Returning --- 449 friends for CMODisrupt\n",
      "Returning --- 35 friends for jeffaigner\n",
      "Returning --- 1960 friends for ThreeManRocket\n",
      "Returning --- 295 friends for adiltunca\n",
      "Returning --- 114 friends for tegulizard13\n",
      "Returning --- 216 friends for Vector_Functor\n",
      "Collected 5000 friends for FPdGi\n",
      "Returning --- 1904 friends for FPdGi\n",
      "Returning --- 205 friends for AlvaroDemiG\n",
      "Returning --- 367 friends for OLAS_HWC\n",
      "Returning --- 1905 friends for europreneurs"
     ]
    },
    {
     "name": "stderr",
     "output_type": "stream",
     "text": [
      "Got error: {\"errors\":[{\"message\":\"Rate limit exceeded\",\"code\":88}]} \n",
      "sleeping for 15 minutes.\n"
     ]
    },
    {
     "name": "stdout",
     "output_type": "stream",
     "text": [
      "\n",
      "Returning --- 2 friends for pauleliat\n",
      "Returning --- 421 friends for AsiQuinn\n",
      "Returning --- 1259 friends for ArunYvi1\n",
      "Returning --- 6 friends for sritik35\n",
      "Returning --- 561 friends for 1bdec72c2fee4d5\n",
      "Returning --- 120 friends for mallikdivvi\n",
      "Returning --- 59 friends for RajePrathamesh\n",
      "Returning --- 1022 friends for WomenInSci\n",
      "Returning --- 1837 friends for FustratedVishal\n",
      "Returning --- 615 friends for ArmyRctg5A4M\n",
      "Returning --- 66 friends for SachinMohanpuri\n",
      "Returning --- 111 friends for d360jr\n",
      "Returning --- 107 friends for jdrix85\n",
      "Returning --- 871 friends for SCFJobs\n",
      "Returning --- 392 friends for iamchiraggoyal"
     ]
    },
    {
     "name": "stderr",
     "output_type": "stream",
     "text": [
      "Got error: {\"errors\":[{\"message\":\"Rate limit exceeded\",\"code\":88}]} \n",
      "sleeping for 15 minutes.\n"
     ]
    },
    {
     "name": "stdout",
     "output_type": "stream",
     "text": [
      "\n",
      "Returning --- 801 friends for SiskiyouCorp\n",
      "Returning --- 73 friends for saif80755217\n",
      "Returning --- 26 friends for crystalcao2013\n",
      "Returning --- 1707 friends for lameri86\n",
      "Returning --- 418 friends for crabbypinchy\n",
      "Returning --- 99 friends for labib_theace\n",
      "Returning --- 552 friends for bryanchambo\n",
      "Returning --- 41 friends for rajendradeshm15\n",
      "Returning --- 1196 friends for AkosuaLowery\n",
      "Returning --- 133 friends for Hazardous06\n",
      "Returning --- 955 friends for ILTAXILIMO\n",
      "Returning --- 527 friends for ravianexpert\n",
      "Returning --- 1468 friends for 50DomainTools"
     ]
    },
    {
     "name": "stderr",
     "output_type": "stream",
     "text": [
      "Got error: {\"errors\":[{\"message\":\"Rate limit exceeded\",\"code\":88}]} \n",
      "sleeping for 15 minutes.\n"
     ]
    },
    {
     "name": "stdout",
     "output_type": "stream",
     "text": [
      "\n",
      "Returning --- 865 friends for adluru33\n",
      "Returning --- 204 friends for yjatin19\n",
      "Collected 5000 friends for samdavidson\n",
      "Returning --- 2398 friends for samdavidson\n",
      "Returning --- 426 friends for shauryagarwal77\n",
      "Collected 5000 friends for LanghamChicago\n",
      "Returning --- 3342 friends for LanghamChicago\n",
      "Returning --- 635 friends for tonylaw7\n",
      "Returning --- 95 friends for AymenAbdelrahma\n",
      "Returning --- 112 friends for AzimuthEnergy\n",
      "Returning --- 708 friends for RodVargasC\n",
      "Returning --- 103 friends for Aakash_justrock\n",
      "Returning --- 7 friends for Yang3221"
     ]
    },
    {
     "name": "stderr",
     "output_type": "stream",
     "text": [
      "Got error: {\"errors\":[{\"message\":\"Rate limit exceeded\",\"code\":88}]} \n",
      "sleeping for 15 minutes.\n"
     ]
    },
    {
     "name": "stdout",
     "output_type": "stream",
     "text": [
      "\n",
      "Returning --- 31 friends for Tina29520284\n",
      "Returning --- 402 friends for SravanthiSinha\n",
      "Returning --- 5 friends for adityat77682455\n",
      "Returning --- 827 friends for NelsonMRosario\n",
      "Returning --- 34 friends for atomfission\n",
      "Returning --- 1590 friends for and307\n",
      "Returning --- 3190 friends for ASASafterschool\n",
      "Returning --- 164 friends for rolleez\n",
      "Returning --- 346 friends for lorha_priya\n",
      "Returning --- 867 friends for mknippen\n",
      "Collected 5000 friends for SwyftApp\n",
      "Returning --- 933 friends for SwyftApp"
     ]
    },
    {
     "name": "stderr",
     "output_type": "stream",
     "text": [
      "Got error: {\"errors\":[{\"message\":\"Rate limit exceeded\",\"code\":88}]} \n",
      "sleeping for 15 minutes.\n"
     ]
    },
    {
     "name": "stdout",
     "output_type": "stream",
     "text": [
      "\n",
      "Returning --- 296 friends for hildathebigH\n",
      "Returning --- 134 friends for AValiav\n",
      "Returning --- 207 friends for shantanutter\n",
      "Returning --- 1968 friends for UK_1964\n",
      "Returning --- 34 friends for mbargou1\n",
      "Returning --- 45 friends for beatrizruiz09\n",
      "Returning --- 526 friends for pjmichaels83\n",
      "Returning --- 420 friends for mhminger\n",
      "Returning --- 301 friends for Trail2010\n",
      "Returning --- 145 friends for sahajmohit"
     ]
    },
    {
     "name": "stderr",
     "output_type": "stream",
     "text": [
      "Got error: {\"errors\":[{\"message\":\"Rate limit exceeded\",\"code\":88}]} \n",
      "sleeping for 15 minutes.\n"
     ]
    },
    {
     "name": "stdout",
     "output_type": "stream",
     "text": [
      "\n",
      "Returning --- 108 friends for La_UPM\n",
      "Returning --- 15 friends for ramreddy861\n",
      "Returning --- 166 friends for b17m4p\n",
      "Returning --- 255 friends for 1b0bfb7be2514af\n",
      "Returning --- 1529 friends for mel_hogan\n",
      "Returning --- 596 friends for aasfuncard\n",
      "Returning --- 308 friends for pcipr\n",
      "Returning --- 1789 friends for JuliaHsia\n",
      "Returning --- 341 friends for mbaskool\n",
      "Returning --- 1122 friends for chaitanyamittu\n",
      "Returning --- 877 friends for createITfutures\n",
      "Returning --- 105 friends for KARTHEEK_IITK\n",
      "Returning --- 43 friends for approachcheenu\n",
      "Returning --- 457 friends for Students2Alumni\n",
      "Returning --- 919 friends for WorldChicago"
     ]
    },
    {
     "name": "stderr",
     "output_type": "stream",
     "text": [
      "Got error: {\"errors\":[{\"message\":\"Rate limit exceeded\",\"code\":88}]} \n",
      "sleeping for 15 minutes.\n"
     ]
    },
    {
     "name": "stdout",
     "output_type": "stream",
     "text": [
      "\n",
      "Returning --- 602 friends for ArafatAhmed786\n",
      "Returning --- 23 friends for MI7Roy\n",
      "Returning --- 3274 friends for SarahCaldicott\n",
      "Returning --- 28 friends for kapilchaurasia2\n",
      "Returning --- 1985 friends for WrightCareerCen\n",
      "Returning --- 26 friends for ltecila\n",
      "Returning --- 239 friends for GrahamAJohnson\n",
      "Returning --- 397 friends for TheNextMoveLLC\n",
      "Returning --- 43 friends for ljbeltran\n",
      "Returning --- 1169 friends for DobbsShow\n",
      "Returning --- 1891 friends for TailorLofts\n",
      "Collected 5000 friends for HESConsumer\n",
      "Collected 5000 friends for HESConsumer\n",
      "Collected 5000 friends for HESConsumer\n",
      "Collected 5000 friends for HESConsumer"
     ]
    },
    {
     "name": "stderr",
     "output_type": "stream",
     "text": [
      "Got error: {\"errors\":[{\"message\":\"Rate limit exceeded\",\"code\":88}]} \n",
      "sleeping for 15 minutes.\n"
     ]
    },
    {
     "name": "stdout",
     "output_type": "stream",
     "text": [
      "\n",
      "Collected 5000 friends for HESConsumer\n",
      "Collected 5000 friends for HESConsumer\n",
      "Returning --- 3593 friends for HESConsumer\n",
      "Returning --- 8 friends for Josh_T8\n",
      "Returning --- 1634 friends for paulhubinsky\n",
      "Returning --- 552 friends for Global_Expert\n",
      "Returning --- 21 friends for DominitriceG\n",
      "Returning --- 35 friends for junapio\n",
      "Returning --- 2083 friends for eringejuice\n",
      "Returning --- 2011 friends for bhaveshjain\n",
      "Returning --- 35 friends for vikasme71445579\n",
      "Returning --- 455 friends for hussey244\n",
      "Returning --- 899 friends for OlgaMackiewicz\n",
      "Returning --- 298 friends for ItsLittleLupe"
     ]
    },
    {
     "name": "stderr",
     "output_type": "stream",
     "text": [
      "Got error: {\"errors\":[{\"message\":\"Rate limit exceeded\",\"code\":88}]} \n",
      "sleeping for 15 minutes.\n"
     ]
    },
    {
     "name": "stdout",
     "output_type": "stream",
     "text": [
      "\n",
      "Returning --- 52 friends for shreeshbhat\n",
      "Returning --- 451 friends for danibocanegra_\n",
      "Returning --- 63 friends for sahilansari9734\n",
      "Returning --- 977 friends for AmandaICleary\n",
      "Returning --- 647 friends for TechGuyJeff\n",
      "Returning --- 68 friends for 2bikes1trailer\n",
      "Returning --- 224 friends for M_Meltz73\n",
      "Returning --- 1743 friends for CollegeInvent\n",
      "Returning --- 45 friends for tk_kmhr\n",
      "Returning --- 450 friends for Philabaum\n",
      "Returning --- 606 friends for Miles_149\n",
      "Returning --- 13 friends for iitipro\n",
      "Returning --- 109 friends for SunriseSLoanSvs"
     ]
    },
    {
     "name": "stderr",
     "output_type": "stream",
     "text": [
      "Got error: {\"errors\":[{\"message\":\"Rate limit exceeded\",\"code\":88}]} \n",
      "sleeping for 15 minutes.\n"
     ]
    },
    {
     "name": "stdout",
     "output_type": "stream",
     "text": [
      "\n",
      "Returning --- 498 friends for gatecoachingdel\n",
      "Returning --- 1551 friends for LaecioNa\n",
      "Returning --- 20 friends for thefocusgate\n",
      "Returning --- 1959 friends for renttext\n",
      "Returning --- 941 friends for a730fd85ae0241b\n",
      "Returning --- 40 friends for ragibzanwar\n",
      "Returning --- 492 friends for AdvEngineers\n",
      "Returning --- 147 friends for PARITOSH31YADAV\n",
      "Returning --- 99 friends for parul_gosain\n",
      "Returning --- 800 friends for robbybeckman\n",
      "Returning --- 10 friends for OscarTobonJr\n",
      "Returning --- 1935 friends for cleanelectric\n",
      "Returning --- 1720 friends for MARUTICORPSALES\n",
      "Returning --- 1318 friends for neerajguptaIITR\n",
      "Returning --- 1855 friends for kurmiyashwant"
     ]
    },
    {
     "name": "stderr",
     "output_type": "stream",
     "text": [
      "Got error: {\"errors\":[{\"message\":\"Rate limit exceeded\",\"code\":88}]} \n",
      "sleeping for 15 minutes.\n"
     ]
    },
    {
     "name": "stdout",
     "output_type": "stream",
     "text": [
      "\n",
      "Returning --- 398 friends for ar_indian\n",
      "Returning --- 34 friends for DTConsortium\n",
      "Returning --- 1913 friends for AIASorg\n",
      "Returning --- 20 friends for jayashukla22\n",
      "Returning --- 866 friends for ITFound\n",
      "Returning --- 54 friends for sandiaslam\n",
      "Returning --- 627 friends for AdiantaDOTorg\n",
      "Returning --- 80 friends for sylwia_oska\n",
      "Returning --- 95 friends for iitheartbeat\n",
      "Returning --- 565 friends for LAofIL\n",
      "Returning --- 1916 friends for USA_Internship\n",
      "Returning --- 85 friends for DaisyCon3\n",
      "Returning --- 179 friends for maria1013_\n",
      "Returning --- 187 friends for me_chris\n",
      "Returning --- 1230 friends for julfikkar1010"
     ]
    },
    {
     "name": "stderr",
     "output_type": "stream",
     "text": [
      "Got error: {\"errors\":[{\"message\":\"Rate limit exceeded\",\"code\":88}]} \n",
      "sleeping for 15 minutes.\n"
     ]
    },
    {
     "name": "stdout",
     "output_type": "stream",
     "text": [
      "\n",
      "Returning --- 1649 friends for dhanrajkumar06\n",
      "Returning --- 292 friends for krishnaarya456\n",
      "Returning --- 1879 friends for kwiller\n",
      "Returning --- 862 friends for Gateway_Green\n",
      "Returning --- 25 friends for gmariano88\n",
      "Returning --- 810 friends for SWChicago\n",
      "Returning --- 266 friends for CMARIN0\n",
      "Returning --- 152 friends for loverhun4457717\n",
      "Returning --- 418 friends for kashyap_kk91\n",
      "Returning --- 199 friends for iitjeeWiziq\n",
      "Returning --- 220 friends for Accretive_Jobs\n",
      "Returning --- 95 friends for Adityak93388098\n",
      "Returning --- 1715 friends for abcdefg0755"
     ]
    },
    {
     "name": "stderr",
     "output_type": "stream",
     "text": [
      "Got error: {\"errors\":[{\"message\":\"Rate limit exceeded\",\"code\":88}]} \n",
      "sleeping for 15 minutes.\n"
     ]
    },
    {
     "name": "stdout",
     "output_type": "stream",
     "text": [
      "\n",
      "Returning --- 128 friends for twtrubens\n",
      "Returning --- 43 friends for Jianhua11\n",
      "Returning --- 721 friends for palak\n",
      "Returning --- 96 friends for pmccain\n",
      "Returning --- 303 friends for maddimarie95\n",
      "Returning --- 238 friends for LAZCareers\n",
      "Returning --- 162 friends for Jameser42\n",
      "Returning --- 155 friends for riddhish_54\n",
      "Returning --- 883 friends for iLoftus\n",
      "Returning --- 164 friends for 4medanish\n",
      "Returning --- 1999 friends for ChrisMustain\n",
      "Returning --- 80 friends for Calamoureux\n",
      "Returning --- 1720 friends for JohnLothian\n",
      "Returning --- 41 friends for satkovskiene1"
     ]
    },
    {
     "name": "stderr",
     "output_type": "stream",
     "text": [
      "Got error: {\"errors\":[{\"message\":\"Rate limit exceeded\",\"code\":88}]} \n",
      "sleeping for 15 minutes.\n"
     ]
    },
    {
     "name": "stdout",
     "output_type": "stream",
     "text": [
      "\n",
      "Returning --- 14 friends for IITOL_Elliot\n",
      "Returning --- 18 friends for santhos57722650\n",
      "Returning --- 25 friends for MattieGalgan\n",
      "Returning --- 91 friends for davidycf\n",
      "Returning --- 28 friends for kumaran_12\n",
      "Returning --- 1973 friends for srinsesh\n",
      "Returning --- 228 friends for laxmansuthar_94\n",
      "Returning --- 674 friends for greggyb\n",
      "Returning --- 95 friends for askiitians\n",
      "Returning --- 4304 friends for BairuRajesh3\n",
      "Returning --- 189 friends for 543d72a9e4d6494\n",
      "Returning --- 66 friends for MBaudler\n",
      "Returning --- 700 friends for jaipakhre\n",
      "Returning --- 2000 friends for 151258D"
     ]
    },
    {
     "name": "stderr",
     "output_type": "stream",
     "text": [
      "Got error: {\"errors\":[{\"message\":\"Rate limit exceeded\",\"code\":88}]} \n",
      "sleeping for 15 minutes.\n"
     ]
    },
    {
     "name": "stdout",
     "output_type": "stream",
     "text": [
      "\n",
      "Returning --- 84 friends for RobertVanDame\n",
      "Returning --- 329 friends for ForeLight\n",
      "Returning --- 81 friends for Xueling_Li\n",
      "Returning --- 217 friends for Locovida2day\n",
      "Returning --- 111 friends for MoeAliwi\n",
      "Returning --- 839 friends for ameenaleah\n",
      "Returning --- 27 friends for Damola2703\n",
      "Returning --- 1484 friends for myedgeportal\n",
      "Returning --- 19 friends for NUCLEUSClas\n",
      "Returning --- 7 friends for ranjanadeviiitb\n",
      "Returning --- 283 friends for AmandaMcD\n",
      "Returning --- 173 friends for ManjiriParalkar\n",
      "Returning --- 92 friends for laumarba\n",
      "Returning --- 1955 friends for iimiitjobs"
     ]
    },
    {
     "name": "stderr",
     "output_type": "stream",
     "text": [
      "Got error: {\"errors\":[{\"message\":\"Rate limit exceeded\",\"code\":88}]} \n",
      "sleeping for 15 minutes.\n"
     ]
    },
    {
     "name": "stdout",
     "output_type": "stream",
     "text": [
      "\n",
      "Returning --- 289 friends for JuanGFayrenM\n",
      "Returning --- 64 friends for booksandreports\n",
      "Collected 5000 friends for MotionPromos\n",
      "Collected 5000 friends for MotionPromos\n",
      "Collected 5000 friends for MotionPromos\n",
      "Collected 5000 friends for MotionPromos\n",
      "Collected 5000 friends for MotionPromos\n",
      "Collected 5000 friends for MotionPromos\n",
      "Returning --- 2947 friends for MotionPromos\n",
      "Returning --- 243 friends for GavhaleDeepak\n",
      "Returning --- 24 friends for xiaopei_zhang\n",
      "Returning --- 103 friends for Yadav412Sanjay"
     ]
    },
    {
     "name": "stderr",
     "output_type": "stream",
     "text": [
      "Got error: {\"errors\":[{\"message\":\"Rate limit exceeded\",\"code\":88}]} \n",
      "sleeping for 15 minutes.\n"
     ]
    },
    {
     "name": "stdout",
     "output_type": "stream",
     "text": [
      "\n",
      "Returning --- 606 friends for cmenghini\n",
      "Returning --- 1620 friends for AftrSchoolMttrs\n",
      "Returning --- 81 friends for elvinmala\n",
      "Returning --- 118 friends for rm_xiss\n",
      "Returning --- 11 friends for bvsuhas\n",
      "Returning --- 136 friends for MikeDJohannsen\n",
      "Returning --- 181 friends for MauroLeos\n",
      "Returning --- 12 friends for rarahulchapra\n",
      "Returning --- 164 friends for IITsocsci\n",
      "Returning --- 448 friends for ipi_official\n",
      "Returning --- 1422 friends for UXacademy_es\n",
      "Returning --- 622 friends for bksandbks\n",
      "Returning --- 845 friends for sandeepvert\n",
      "Returning --- 511 friends for TheAmazingSatya\n",
      "Returning --- 196 friends for GCChicagoSummit"
     ]
    },
    {
     "name": "stderr",
     "output_type": "stream",
     "text": [
      "Got error: {\"errors\":[{\"message\":\"Rate limit exceeded\",\"code\":88}]} \n",
      "sleeping for 15 minutes.\n"
     ]
    },
    {
     "name": "stdout",
     "output_type": "stream",
     "text": [
      "\n",
      "Returning --- 743 friends for VPRSchook\n",
      "Returning --- 1205 friends for thinkactlead_\n",
      "Returning --- 44 friends for yashrajlakra\n",
      "Returning --- 124 friends for JustWesNow\n",
      "Returning --- 424 friends for Tranguyen95\n",
      "Collected 5000 friends for NHEconomy\n",
      "Returning --- 2276 friends for NHEconomy\n",
      "Returning --- 835 friends for ChangingWorlds1\n",
      "Returning --- 188 friends for KHANUMANTHU\n",
      "Returning --- 10 friends for Tianyi_PAN\n",
      "Returning --- 253 friends for AroundParasols\n",
      "Returning --- 1038 friends for nishanth73"
     ]
    },
    {
     "name": "stderr",
     "output_type": "stream",
     "text": [
      "Got error: {\"errors\":[{\"message\":\"Rate limit exceeded\",\"code\":88}]} \n",
      "sleeping for 15 minutes.\n"
     ]
    },
    {
     "name": "stdout",
     "output_type": "stream",
     "text": [
      "\n",
      "Returning --- 659 friends for kayburnett\n",
      "Returning --- 7 friends for tejkohli_\n",
      "Returning --- 22 friends for PhysicsSkyrik\n",
      "Returning --- 231 friends for mas_agussalim\n",
      "Returning --- 105 friends for PravechChauhan\n",
      "Returning --- 1996 friends for avid_vani\n",
      "Returning --- 23 friends for SongWang88\n",
      "Returning --- 27 friends for ProfHimes\n",
      "Returning --- 22 friends for XuebinFan\n",
      "Returning --- 233 friends for LolaMindiola\n",
      "Returning --- 28 friends for inkomoon\n",
      "Returning --- 1222 friends for compasscollegec\n",
      "Returning --- 820 friends for OpusCareers"
     ]
    },
    {
     "name": "stderr",
     "output_type": "stream",
     "text": [
      "Got error: {\"errors\":[{\"message\":\"Rate limit exceeded\",\"code\":88}]} \n",
      "sleeping for 15 minutes.\n"
     ]
    },
    {
     "name": "stdout",
     "output_type": "stream",
     "text": [
      "\n",
      "Returning --- 806 friends for mr_aliabbas\n",
      "Returning --- 34 friends for memgtian29\n",
      "Returning --- 23 friends for ZiweiZheng\n",
      "Returning --- 34 friends for rohitgharde1\n",
      "Returning --- 134 friends for IITFacilities\n",
      "Returning --- 144 friends for PeterHanik\n",
      "Returning --- 37 friends for maomaoyulin\n",
      "Returning --- 58 friends for charles_chenzy\n",
      "Returning --- 1998 friends for GSiaton\n",
      "Returning --- 388 friends for CorkandKerry\n",
      "Returning --- 239 friends for dushyanthk7\n",
      "Returning --- 149 friends for neeldesai1992\n",
      "Returning --- 16 friends for SiyonaSoftware\n",
      "Returning --- 78 friends for OneMoreFoodie\n",
      "Returning --- 31 friends for HerzDana"
     ]
    },
    {
     "name": "stderr",
     "output_type": "stream",
     "text": [
      "Got error: {\"errors\":[{\"message\":\"Rate limit exceeded\",\"code\":88}]} \n",
      "sleeping for 15 minutes.\n"
     ]
    },
    {
     "name": "stdout",
     "output_type": "stream",
     "text": [
      "\n",
      "Returning --- 1883 friends for sefaz37\n",
      "Returning --- 661 friends for WhosKevinRoemer\n",
      "Returning --- 165 friends for StudentAidSolut\n",
      "Returning --- 578 friends for akj_techno\n",
      "Returning --- 178 friends for er_scientist\n",
      "Returning --- 585 friends for Panipat00723Dev\n",
      "Returning --- 918 friends for TJLaFave\n",
      "Returning --- 14 friends for MelInTheBoro\n",
      "Returning --- 35 friends for vignesh_sd\n",
      "Returning --- 64 friends for WIITMikeSteele\n",
      "Returning --- 143 friends for BenPfeiffer45\n",
      "Returning --- 513 friends for CCCTROOPS\n",
      "Returning --- 240 friends for GalvinCenter"
     ]
    },
    {
     "name": "stderr",
     "output_type": "stream",
     "text": [
      "Got error: {\"errors\":[{\"message\":\"Rate limit exceeded\",\"code\":88}]} \n",
      "sleeping for 15 minutes.\n"
     ]
    },
    {
     "name": "stdout",
     "output_type": "stream",
     "text": [
      "\n",
      "Returning --- 472 friends for PiperTrust\n",
      "Returning --- 868 friends for placefinders\n",
      "Returning --- 1241 friends for UoMEngSci\n",
      "Returning --- 336 friends for BursonLift\n",
      "Returning --- 1128 friends for ThePhDProject\n",
      "Returning --- 12 friends for Raj60135195\n",
      "Returning --- 146 friends for OmerFarook\n",
      "Returning --- 1998 friends for vijayprakash15\n",
      "Returning --- 14 friends for ProstheticSol\n",
      "Returning --- 471 friends for PeriwalY\n",
      "Returning --- 643 friends for meiwang2028\n",
      "Returning --- 2002 friends for myfitfund\n",
      "Returning --- 2326 friends for iiconline\n",
      "Returning --- 118 friends for 3108smit\n",
      "Returning --- 73 friends for DavidBudell"
     ]
    },
    {
     "name": "stderr",
     "output_type": "stream",
     "text": [
      "Got error: {\"errors\":[{\"message\":\"Rate limit exceeded\",\"code\":88}]} \n",
      "sleeping for 15 minutes.\n"
     ]
    },
    {
     "name": "stdout",
     "output_type": "stream",
     "text": [
      "\n",
      "Returning --- 136 friends for Hoynes_CPA_Grou\n",
      "Returning --- 1956 friends for BottleBobJ\n",
      "Returning --- 125 friends for grzhang2013\n",
      "Returning --- 824 friends for Options_Edu\n",
      "Returning --- 2149 friends for NMNH\n",
      "Returning --- 983 friends for prasu_the_one\n",
      "Returning --- 241 friends for satyabansal\n",
      "Returning --- 1426 friends for Affablegiant\n",
      "Returning --- 229 friends for Harshitnic\n",
      "Returning --- 1110 friends for MaureenSertich\n",
      "Returning --- 130 friends for The_Catalan10\n",
      "Returning --- 148 friends for DewanOcdewan\n",
      "Returning --- 456 friends for annecost66\n",
      "Returning --- 327 friends for bvpieee"
     ]
    },
    {
     "name": "stderr",
     "output_type": "stream",
     "text": [
      "Got error: {\"errors\":[{\"message\":\"Rate limit exceeded\",\"code\":88}]} \n",
      "sleeping for 15 minutes.\n"
     ]
    },
    {
     "name": "stdout",
     "output_type": "stream",
     "text": [
      "\n",
      "Returning --- 219 friends for TheOfficialACM\n",
      "Returning --- 1008 friends for kCura\n",
      "Returning --- 19 friends for 1111NS1111\n",
      "Returning --- 36 friends for JackClarke82\n",
      "Returning --- 133 friends for CiciRaoXi\n",
      "Returning --- 31 friends for appisharop22\n",
      "Returning --- 241 friends for taehosun\n",
      "Returning --- 241 friends for keiabroad\n",
      "Returning --- 13 friends for shijinming89\n",
      "Returning --- 134 friends for xuyang9\n",
      "Returning --- 1721 friends for EDGARD_MKTB\n",
      "Returning --- 203 friends for 68redvwbug\n",
      "Returning --- 46 friends for donghun221\n",
      "Returning --- 295 friends for AddteqJobs\n",
      "Returning --- 1265 friends for vmlprop1"
     ]
    },
    {
     "name": "stderr",
     "output_type": "stream",
     "text": [
      "Got error: {\"errors\":[{\"message\":\"Rate limit exceeded\",\"code\":88}]} \n",
      "sleeping for 15 minutes.\n"
     ]
    },
    {
     "name": "stdout",
     "output_type": "stream",
     "text": [
      "\n",
      "Returning --- 431 friends for ARUSHI000\n",
      "Returning --- 688 friends for MyNamesNotMitch\n",
      "Returning --- 29 friends for koushal12323\n",
      "Returning --- 10 friends for stephniawang\n",
      "Returning --- 450 friends for EdUSAManizales\n",
      "Returning --- 400 friends for rajuvenkat1995\n",
      "Returning --- 9 friends for jorgeiit\n",
      "Returning --- 176 friends for JamesKiriazes\n",
      "Returning --- 19 friends for simonwang11\n",
      "Returning --- 164 friends for bythegraham\n",
      "Returning --- 130 friends for cesarchimello\n",
      "Returning --- 71 friends for IkeScience715\n",
      "Returning --- 179 friends for TecDoctor\n",
      "Returning --- 9 friends for upscscholars"
     ]
    },
    {
     "name": "stderr",
     "output_type": "stream",
     "text": [
      "Got error: {\"errors\":[{\"message\":\"Rate limit exceeded\",\"code\":88}]} \n",
      "sleeping for 15 minutes.\n"
     ]
    },
    {
     "name": "stdout",
     "output_type": "stream",
     "text": [
      "\n",
      "Returning --- 1252 friends for louisbyrd3\n",
      "Returning --- 29 friends for patriciajcronin\n",
      "Returning --- 512 friends for ZaxisFactory\n",
      "Returning --- 58 friends for GMastarone\n",
      "Returning --- 305 friends for idyllic_gooner\n",
      "Returning --- 83 friends for iizzydrizzy\n",
      "Returning --- 1967 friends for yjtsolutions\n",
      "Returning --- 101 friends for LabSourceInc\n",
      "Returning --- 15 friends for PunjKunaal\n",
      "Returning --- 428 friends for jolan94\n",
      "Returning --- 246 friends for pashanta\n",
      "Returning --- 59 friends for stIITch_IIT\n",
      "Returning --- 356 friends for sameerchourasia\n",
      "Returning --- 858 friends for emperorcezar"
     ]
    },
    {
     "name": "stderr",
     "output_type": "stream",
     "text": [
      "Got error: {\"errors\":[{\"message\":\"Rate limit exceeded\",\"code\":88}]} \n",
      "sleeping for 15 minutes.\n"
     ]
    },
    {
     "name": "stdout",
     "output_type": "stream",
     "text": [
      "\n",
      "Returning --- 253 friends for Pankaj_iitan\n",
      "Returning --- 410 friends for _ainisa\n",
      "Returning --- 220 friends for neto_jaz\n",
      "Returning --- 219 friends for e52gar\n",
      "Returning --- 269 friends for a6799761db0d4f7\n",
      "Returning --- 1265 friends for accusedengineer\n",
      "Returning --- 1024 friends for VanderCookMECA\n",
      "Returning --- 1299 friends for MaddenMJ\n",
      "Returning --- 76 friends for SSP020978\n",
      "Returning --- 9 friends for bhargavaiitd\n",
      "Returning --- 17 friends for dhruvasharma15\n",
      "Returning --- 198 friends for concreteplains\n",
      "Returning --- 8 friends for utsavroy211998\n",
      "Returning --- 125 friends for emilygalie\n",
      "Returning --- 695 friends for GodofGaming187"
     ]
    },
    {
     "name": "stderr",
     "output_type": "stream",
     "text": [
      "Got error: {\"errors\":[{\"message\":\"Rate limit exceeded\",\"code\":88}]} \n",
      "sleeping for 15 minutes.\n"
     ]
    },
    {
     "name": "stdout",
     "output_type": "stream",
     "text": [
      "\n",
      "Returning --- 71 friends for Usha_Roland\n",
      "Returning --- 47 friends for FishPaopao\n",
      "Returning --- 18 friends for __KARAN___\n",
      "Returning --- 1034 friends for viperfish\n",
      "Returning --- 1995 friends for SANDIPPATEL36\n",
      "Returning --- 159 friends for Iedap\n",
      "Returning --- 11 friends for andangle\n",
      "Returning --- 2009 friends for AgentKarin\n",
      "Returning --- 121 friends for yateegupta\n",
      "Returning --- 587 friends for Katerina_Paz\n",
      "Collected 5000 friends for ariegoldshlager\n",
      "Collected 5000 friends for ariegoldshlager\n",
      "Returning --- 2159 friends for ariegoldshlager\n",
      "Returning --- 495 friends for HaPIDatabase\n",
      "Returning --- 1992 friends for c4atweets"
     ]
    },
    {
     "name": "stderr",
     "output_type": "stream",
     "text": [
      "Got error: {\"errors\":[{\"message\":\"Rate limit exceeded\",\"code\":88}]} \n",
      "sleeping for 15 minutes.\n"
     ]
    },
    {
     "name": "stdout",
     "output_type": "stream",
     "text": [
      "\n",
      "Returning --- 2473 friends for JoshatNRDC\n",
      "Collected 5000 friends for Bourns\n",
      "Returning --- 942 friends for Bourns\n",
      "Returning --- 2570 friends for cappex\n",
      "Returning --- 14 friends for beiyeqingteng\n",
      "Returning --- 7 friends for hemantkn333\n",
      "Collected 5000 friends for StartUpsFashion\n",
      "Collected 5000 friends for StartUpsFashion\n",
      "Collected 5000 friends for StartUpsFashion\n",
      "Collected 5000 friends for StartUpsFashion\n",
      "Collected 5000 friends for StartUpsFashion\n",
      "Collected 5000 friends for StartUpsFashion\n",
      "Collected 5000 friends for StartUpsFashion\n",
      "Returning --- 1961 friends for StartUpsFashion\n",
      "Returning --- 35 friends for guoshuheng"
     ]
    },
    {
     "name": "stderr",
     "output_type": "stream",
     "text": [
      "Got error: {\"errors\":[{\"message\":\"Rate limit exceeded\",\"code\":88}]} \n",
      "sleeping for 15 minutes.\n"
     ]
    },
    {
     "name": "stdout",
     "output_type": "stream",
     "text": [
      "\n",
      "Returning --- 132 friends for IITRGL\n",
      "Returning --- 18 friends for Deshini94\n",
      "Returning --- 714 friends for LibbyRapin\n",
      "Returning --- 1819 friends for Tasseltoppers\n",
      "Returning --- 251 friends for 150394alok\n",
      "Returning --- 2001 friends for UHBrazil\n",
      "Returning --- 6 friends for bowenlu91\n",
      "Returning --- 165 friends for andywangduck\n",
      "Returning --- 1932 friends for hi_future_tech\n",
      "Returning --- 750 friends for cassiodias25\n",
      "Returning --- 26 friends for MengyaoCui\n",
      "Returning --- 96 friends for TechNewsIIT\n",
      "Returning --- 343 friends for brunogear\n",
      "Returning --- 1875 friends for iamjaseem"
     ]
    },
    {
     "name": "stderr",
     "output_type": "stream",
     "text": [
      "Got error: {\"errors\":[{\"message\":\"Rate limit exceeded\",\"code\":88}]} \n",
      "sleeping for 15 minutes.\n"
     ]
    },
    {
     "name": "stdout",
     "output_type": "stream",
     "text": [
      "\n",
      "Returning --- 15 friends for SpAdithya\n",
      "Returning --- 101 friends for mrossi19\n",
      "Returning --- 191 friends for xjianqi\n",
      "Returning --- 336 friends for SeminarsCheeta\n",
      "Returning --- 330 friends for chicagonewsnow\n",
      "Returning --- 16 friends for jayala2090\n",
      "Returning --- 333 friends for JGabinoD\n",
      "Returning --- 74 friends for suerabs69\n",
      "Returning --- 42 friends for sa360128\n",
      "Returning --- 6 friends for HanahFakhouriHa\n",
      "Returning --- 571 friends for JosemtorresM\n",
      "Returning --- 215 friends for PCSEDU"
     ]
    },
    {
     "name": "stderr",
     "output_type": "stream",
     "text": [
      "Got error: {\"errors\":[{\"message\":\"Rate limit exceeded\",\"code\":88}]} \n",
      "sleeping for 15 minutes.\n"
     ]
    },
    {
     "name": "stdout",
     "output_type": "stream",
     "text": [
      "\n",
      "Returning --- 106 friends for wzhaniit\n",
      "Returning --- 54 friends for singhanoop676\n",
      "Returning --- 77 friends for sandeeprajsurya\n",
      "Returning --- 29 friends for FidessaJobsNA\n",
      "Returning --- 454 friends for isaan_khan\n",
      "Returning --- 130 friends for sparshgoel11\n",
      "Returning --- 412 friends for caseygfranklin\n",
      "Returning --- 893 friends for Arunesh99\n",
      "Returning --- 157 friends for CCGlobalChicago\n",
      "Returning --- 146 friends for rajdhanijaipur\n",
      "Returning --- 21 friends for GraceLiu10\n",
      "Returning --- 463 friends for rk_sastry\n",
      "Returning --- 61 friends for yulestoic\n",
      "Returning --- 31 friends for MRoman1031"
     ]
    },
    {
     "name": "stderr",
     "output_type": "stream",
     "text": [
      "Got error: {\"errors\":[{\"message\":\"Rate limit exceeded\",\"code\":88}]} \n",
      "sleeping for 15 minutes.\n"
     ]
    },
    {
     "name": "stdout",
     "output_type": "stream",
     "text": [
      "\n",
      "Returning --- 14 friends for PRAVEENKUMR1\n",
      "Returning --- 315 friends for PolskiJanek\n",
      "Returning --- 85 friends for NishankPujar\n",
      "Returning --- 446 friends for EdUSAIndonesia\n",
      "Returning --- 27 friends for siyingzh\n",
      "Returning --- 136 friends for chrisz1__\n",
      "Returning --- 2044 friends for MzMel66\n",
      "Returning --- 86 friends for unichallenges\n",
      "Returning --- 1442 friends for live_connor\n",
      "Returning --- 515 friends for ProTechSearchIL\n",
      "Returning --- 64 friends for easonz2011\n",
      "Returning --- 10 friends for Integerbikaner\n",
      "Returning --- 183 friends for premchandar2111\n",
      "Returning --- 535 friends for MeredithHilt"
     ]
    },
    {
     "name": "stderr",
     "output_type": "stream",
     "text": [
      "Got error: {\"errors\":[{\"message\":\"Rate limit exceeded\",\"code\":88}]} \n",
      "sleeping for 15 minutes.\n"
     ]
    },
    {
     "name": "stdout",
     "output_type": "stream",
     "text": [
      "\n",
      "Returning --- 32 friends for SheldonTamta\n",
      "Returning --- 16 friends for garytsaoo\n",
      "Returning --- 19 friends for paswanpoojay\n",
      "Returning --- 15 friends for MrFinneusFlogg\n",
      "Returning --- 26 friends for icalabri\n",
      "Returning --- 17 friends for soul_vegetarian\n",
      "Returning --- 1825 friends for TechnologyViews\n",
      "Returning --- 153 friends for UniMonk\n",
      "Returning --- 59 friends for kyabakchodihai\n",
      "Returning --- 5 friends for AchieversTu\n",
      "Returning --- 88 friends for yashgandhi241\n",
      "Returning --- 547 friends for TENERRDIS\n",
      "Returning --- 802 friends for pod_design\n",
      "Returning --- 16 friends for rohitkarma\n",
      "Returning --- 1006 friends for GKInitiative"
     ]
    },
    {
     "name": "stderr",
     "output_type": "stream",
     "text": [
      "Got error: {\"errors\":[{\"message\":\"Rate limit exceeded\",\"code\":88}]} \n",
      "sleeping for 15 minutes.\n"
     ]
    },
    {
     "name": "stdout",
     "output_type": "stream",
     "text": [
      "\n",
      "Returning --- 325 friends for ACETECHNICAL\n",
      "Returning --- 214 friends for iam_rajatsharma\n",
      "Returning --- 421 friends for NewtonsAttic\n",
      "Returning --- 1844 friends for CoyoteLogistics\n",
      "Returning --- 6 friends for satyenderkumar9\n",
      "Returning --- 8 friends for brandonksimons\n",
      "Returning --- 585 friends for tropismBLOG\n",
      "Returning --- 246 friends for Abhi_Chandra\n",
      "Collected 5000 friends for Michael_Short\n",
      "Collected 5000 friends for Michael_Short\n",
      "Collected 5000 friends for Michael_Short\n",
      "Collected 5000 friends for Michael_Short\n",
      "Returning --- 3269 friends for Michael_Short\n",
      "Returning --- 60 friends for harshitdubey61\n",
      "Returning --- 87 friends for BarronWetStone"
     ]
    },
    {
     "name": "stderr",
     "output_type": "stream",
     "text": [
      "Got error: {\"errors\":[{\"message\":\"Rate limit exceeded\",\"code\":88}]} \n",
      "sleeping for 15 minutes.\n"
     ]
    },
    {
     "name": "stdout",
     "output_type": "stream",
     "text": [
      "\n",
      "Returning --- 97 friends for chandravadanp\n",
      "Returning --- 85 friends for saurabh22041991\n",
      "Returning --- 51 friends for jamusa21\n",
      "Returning --- 820 friends for hemathmohit\n",
      "Returning --- 832 friends for 1_state\n",
      "Returning --- 1241 friends for unclegerg\n",
      "Returning --- 135 friends for happoldphysics\n",
      "Returning --- 126 friends for anamabro\n",
      "Returning --- 347 friends for atOmar95\n",
      "Returning --- 211 friends for gretazola\n",
      "Returning --- 1641 friends for lorimiller89\n",
      "Returning --- 269 friends for anopc"
     ]
    },
    {
     "name": "stderr",
     "output_type": "stream",
     "text": [
      "Got error: {\"errors\":[{\"message\":\"Rate limit exceeded\",\"code\":88}]} \n",
      "sleeping for 15 minutes.\n"
     ]
    },
    {
     "name": "stdout",
     "output_type": "stream",
     "text": [
      "\n",
      "Returning --- 1998 friends for nufelis\n",
      "Returning --- 321 friends for CristAlar\n",
      "Returning --- 28 friends for nbfrantz\n",
      "Returning --- 19 friends for GOKULRAJN79\n",
      "Returning --- 961 friends for uc_talent\n",
      "Returning --- 209 friends for dashingsamantha\n",
      "Returning --- 311 friends for poetsbeforeedit\n",
      "Returning --- 142 friends for Amadeus98\n",
      "Returning --- 2 friends for kahnaiyya\n",
      "Returning --- 25 friends for IITRehabPsych\n",
      "Returning --- 62 friends for gemi_sky\n",
      "Returning --- 127 friends for WhimbleBooks\n",
      "Returning --- 236 friends for krybaltowski\n",
      "Returning --- 1977 friends for ElhachemiS\n",
      "Returning --- 1027 friends for iitians_in"
     ]
    },
    {
     "name": "stderr",
     "output_type": "stream",
     "text": [
      "Got error: {\"errors\":[{\"message\":\"Rate limit exceeded\",\"code\":88}]} \n",
      "sleeping for 15 minutes.\n"
     ]
    },
    {
     "name": "stdout",
     "output_type": "stream",
     "text": [
      "\n",
      "Returning --- 225 friends for MACHAOnline\n",
      "Returning --- 139 friends for Im_aadee\n",
      "Returning --- 4 friends for AmulyaVadlamudi\n",
      "Returning --- 13 friends for asanabr1\n",
      "Returning --- 493 friends for krishnavarma183\n",
      "Returning --- 1470 friends for CommonApp\n",
      "Returning --- 84 friends for ShowingCityWide\n",
      "Returning --- 1819 friends for LHFletcher\n",
      "Returning --- 634 friends for ChrissyMDwyer\n",
      "Returning --- 677 friends for fair_uz\n",
      "Returning --- 2302 friends for nycfirst\n",
      "Returning --- 1194 friends for EdUSAtips\n",
      "Returning --- 77 friends for viveksngh665\n",
      "Returning --- 97 friends for DakotaBetts27\n",
      "Returning --- 4192 friends for dnainfo_breen"
     ]
    },
    {
     "name": "stderr",
     "output_type": "stream",
     "text": [
      "Got error: {\"errors\":[{\"message\":\"Rate limit exceeded\",\"code\":88}]} \n",
      "sleeping for 15 minutes.\n"
     ]
    },
    {
     "name": "stdout",
     "output_type": "stream",
     "text": [
      "\n",
      "Returning --- 58 friends for epostfix\n",
      "Returning --- 2004 friends for yungkim\n",
      "Returning --- 167 friends for TheTybert\n",
      "Returning --- 757 friends for rkgudboy\n",
      "Returning --- 1384 friends for GratefulDean\n",
      "Returning --- 10 friends for CREO2create\n",
      "Returning --- 107 friends for lizamcqueney\n",
      "Returning --- 917 friends for SiegeAce\n",
      "Returning --- 844 friends for SFelemban\n",
      "Returning --- 13 friends for Dqe6B\n",
      "Returning --- 14 friends for xiaoxiwang0909\n",
      "Returning --- 32 friends for netrambhu\n",
      "Returning --- 202 friends for CJmango\n",
      "Returning --- 217 friends for urkime\n",
      "Returning --- 316 friends for Ben_Glaser"
     ]
    },
    {
     "name": "stderr",
     "output_type": "stream",
     "text": [
      "Got error: {\"errors\":[{\"message\":\"Rate limit exceeded\",\"code\":88}]} \n",
      "sleeping for 15 minutes.\n"
     ]
    },
    {
     "name": "stdout",
     "output_type": "stream",
     "text": [
      "\n",
      "Returning --- 258 friends for arijkiwen\n",
      "Returning --- 378 friends for DanielCSamson\n",
      "Returning --- 129 friends for firstfreelancer\n",
      "Returning --- 333 friends for TurnerChicago\n",
      "Returning --- 192 friends for researchlady\n",
      "Returning --- 77 friends for AkshaybeVerbose\n",
      "Returning --- 137 friends for MLMorley\n",
      "Returning --- 98 friends for davuski357\n",
      "Returning --- 1061 friends for LombardEvents\n",
      "Returning --- 255 friends for gprakash080\n",
      "Returning --- 8 friends for AyushSi18086803\n",
      "Returning --- 139 friends for Srikar378012\n",
      "Returning --- 1978 friends for RDubbyaA\n",
      "Returning --- 1142 friends for PerfectPower"
     ]
    },
    {
     "name": "stderr",
     "output_type": "stream",
     "text": [
      "Got error: {\"errors\":[{\"message\":\"Rate limit exceeded\",\"code\":88}]} \n",
      "sleeping for 15 minutes.\n"
     ]
    },
    {
     "name": "stdout",
     "output_type": "stream",
     "text": [
      "\n",
      "Returning --- 1575 friends for AndreMKonig\n",
      "Returning --- 37 friends for redwood1050\n",
      "Returning --- 299 friends for CarlosTejero_\n",
      "Returning --- 76 friends for SA7YAM\n",
      "Returning --- 1123 friends for ILTechLawyer\n",
      "Returning --- 30 friends for vikas12121200\n",
      "Returning --- 66 friends for dipujls\n",
      "Returning --- 865 friends for BITM1315\n",
      "Returning --- 637 friends for complore\n",
      "Returning --- 235 friends for jigross\n",
      "Returning --- 2243 friends for CAMPUSPEAK\n",
      "Returning --- 52 friends for cvisionaries"
     ]
    },
    {
     "name": "stderr",
     "output_type": "stream",
     "text": [
      "Got error: {\"errors\":[{\"message\":\"Rate limit exceeded\",\"code\":88}]} \n",
      "sleeping for 15 minutes.\n"
     ]
    },
    {
     "name": "stdout",
     "output_type": "stream",
     "text": [
      "\n",
      "Returning --- 740 friends for BKTooley\n",
      "Returning --- 306 friends for Prizefighter00\n",
      "Returning --- 2004 friends for OglesbyK\n",
      "Returning --- 500 friends for mpk339\n",
      "Returning --- 161 friends for muhammedfayyad\n",
      "Returning --- 57 friends for Shari_IIT\n",
      "Returning --- 106 friends for GvcphillyMe\n",
      "Returning --- 8 friends for itujjwal\n",
      "Returning --- 247 friends for dejielect\n",
      "Returning --- 339 friends for mikanassociates\n",
      "Returning --- 7 friends for GopalShekhawa\n",
      "Returning --- 51 friends for aaaea_iit\n",
      "Returning --- 263 friends for Abenezermesfin1\n",
      "Returning --- 316 friends for indianhedgefund"
     ]
    },
    {
     "name": "stderr",
     "output_type": "stream",
     "text": [
      "Got error: {\"errors\":[{\"message\":\"Rate limit exceeded\",\"code\":88}]} \n",
      "sleeping for 15 minutes.\n"
     ]
    },
    {
     "name": "stdout",
     "output_type": "stream",
     "text": [
      "\n",
      "Returning --- 29 friends for TapanMehta4\n",
      "Returning --- 577 friends for RavkiranN\n",
      "Returning --- 14 friends for PigeonPick\n",
      "Returning --- 773 friends for JoeStainbrook\n",
      "Returning --- 220 friends for array_v0\n",
      "Returning --- 802 friends for kellyaschaefer\n",
      "Returning --- 409 friends for RegenraTD\n",
      "Returning --- 78 friends for mumbasaviour\n",
      "Returning --- 963 friends for TMAInfo\n",
      "Returning --- 19 friends for ToastingDesign\n",
      "Returning --- 583 friends for cdunn1993\n",
      "Returning --- 29 friends for SusanFaraone\n",
      "Returning --- 121 friends for LeadARC\n",
      "Returning --- 3 friends for flywillow"
     ]
    },
    {
     "name": "stderr",
     "output_type": "stream",
     "text": [
      "Got error: {\"errors\":[{\"message\":\"Rate limit exceeded\",\"code\":88}]} \n",
      "sleeping for 15 minutes.\n"
     ]
    },
    {
     "name": "stdout",
     "output_type": "stream",
     "text": [
      "\n",
      "Returning --- 2000 friends for BenMTaylor\n",
      "Returning --- 93 friends for haominnn\n",
      "Returning --- 16 friends for 8822899670\n",
      "Returning --- 830 friends for shankar2929\n",
      "Returning --- 238 friends for BradCFink\n",
      "Returning --- 61 friends for optimainc\n",
      "Returning --- 437 friends for Raychatter\n",
      "Returning --- 37 friends for IyanuOgbara\n",
      "Returning --- 234 friends for ecell_iitb\n",
      "Returning --- 434 friends for HydePark_CHI\n",
      "Returning --- 586 friends for MRDPE\n",
      "Returning --- 1207 friends for MukeshSen272\n",
      "Returning --- 1998 friends for TransportChgo\n",
      "Returning --- 889 friends for GOJFRC\n",
      "Returning --- 108 friends for IIT_PSM"
     ]
    },
    {
     "name": "stderr",
     "output_type": "stream",
     "text": [
      "Got error: {\"errors\":[{\"message\":\"Rate limit exceeded\",\"code\":88}]} \n",
      "sleeping for 15 minutes.\n"
     ]
    },
    {
     "name": "stdout",
     "output_type": "stream",
     "text": [
      "\n",
      "Returning --- 1245 friends for 1armedGeek\n",
      "Returning --- 96 friends for britnic1\n",
      "Returning --- 23 friends for iit_ccc\n",
      "Returning --- 56 friends for rbsangu97\n",
      "Returning --- 6 friends for pat_brenninski\n",
      "Returning --- 219 friends for JohnHebert_\n",
      "Returning --- 44 friends for Clouddomain1\n",
      "Returning --- 28 friends for IITGrads2013\n",
      "Returning --- 557 friends for JokeDeli\n",
      "Returning --- 123 friends for askar_babu\n",
      "Returning --- 188 friends for SandraMarijan\n",
      "Returning --- 130 friends for CindyWojdyla\n",
      "Returning --- 76 friends for savishkar\n",
      "Returning --- 1806 friends for aDitya_adj_999"
     ]
    },
    {
     "name": "stderr",
     "output_type": "stream",
     "text": [
      "Got error: {\"errors\":[{\"message\":\"Rate limit exceeded\",\"code\":88}]} \n",
      "sleeping for 15 minutes.\n"
     ]
    },
    {
     "name": "stdout",
     "output_type": "stream",
     "text": [
      "\n",
      "Returning --- 113 friends for judeds\n",
      "Returning --- 65 friends for AHessLoch\n",
      "Returning --- 392 friends for Shraddhakant\n",
      "Returning --- 24 friends for dakats\n",
      "Returning --- 36 friends for BorgHunter\n",
      "Returning --- 458 friends for SavaliyaKundan\n",
      "Returning --- 113 friends for Omo_Ikerin_Opin\n",
      "Returning --- 198 friends for elysehaswords\n",
      "Returning --- 678 friends for T2B4Risk\n",
      "Returning --- 37 friends for Paulzhy\n",
      "Returning --- 55 friends for GroupStrawberry\n",
      "Returning --- 21 friends for 1755Kamal\n",
      "Returning --- 420 friends for nuclear94"
     ]
    },
    {
     "name": "stderr",
     "output_type": "stream",
     "text": [
      "Got error: {\"errors\":[{\"message\":\"Rate limit exceeded\",\"code\":88}]} \n",
      "sleeping for 15 minutes.\n"
     ]
    },
    {
     "name": "stdout",
     "output_type": "stream",
     "text": [
      "\n",
      "Collected 5000 friends for AnnDwyer_Crains\n",
      "Returning --- 230 friends for AnnDwyer_Crains\n",
      "Returning --- 237 friends for isandeepkhandai\n",
      "Returning --- 868 friends for rebeckas\n",
      "Returning --- 175 friends for irena_grauzinis\n",
      "Returning --- 58 friends for iitguide\n",
      "Returning --- 1754 friends for MytaleStore\n",
      "Returning --- 185 friends for cool_mudgal\n",
      "Returning --- 334 friends for sivangrj2007\n",
      "Returning --- 220 friends for Niesche1918\n",
      "Returning --- 50 friends for JaneZhen07\n",
      "Returning --- 63 friends for mirandajunjun\n",
      "Returning --- 276 friends for DocKimS\n",
      "Returning --- 1922 friends for PortElectLab"
     ]
    },
    {
     "name": "stderr",
     "output_type": "stream",
     "text": [
      "Got error: {\"errors\":[{\"message\":\"Rate limit exceeded\",\"code\":88}]} \n",
      "sleeping for 15 minutes.\n"
     ]
    },
    {
     "name": "stdout",
     "output_type": "stream",
     "text": [
      "\n",
      "Returning --- 186 friends for acsmith13\n",
      "Returning --- 60 friends for bhagi_009\n",
      "Returning --- 53 friends for gnielson\n",
      "Returning --- 213 friends for kangell50\n",
      "Returning --- 102 friends for RoneyRathi\n",
      "Returning --- 27 friends for aduenas999\n",
      "Returning --- 22 friends for RHA_IIT\n",
      "Returning --- 898 friends for shobyabdi\n",
      "Returning --- 65 friends for ctermtec\n",
      "Returning --- 11 friends for chmeyers\n",
      "Returning --- 103 friends for SonuyadavS7"
     ]
    },
    {
     "name": "stderr",
     "output_type": "stream",
     "text": [
      "Got error: {\"errors\":[{\"message\":\"Rate limit exceeded\",\"code\":88}]} \n",
      "sleeping for 15 minutes.\n"
     ]
    },
    {
     "name": "stdout",
     "output_type": "stream",
     "text": [
      "\n",
      "Returning --- 292 friends for brickhouse817\n",
      "Returning --- 35 friends for Rahul8446213934\n",
      "Returning --- 335 friends for stealthresource\n",
      "Returning --- 426 friends for xMannyG\n",
      "Returning --- 641 friends for Grammarly\n",
      "Returning --- 14 friends for jshelby1991\n",
      "Returning --- 421 friends for ajay_kishan\n",
      "Returning --- 30 friends for thegadgetlife\n",
      "Returning --- 394 friends for JaysonRecruiter\n",
      "Returning --- 1215 friends for Bradvritter\n",
      "Returning --- 473 friends for AlanMatthew1\n",
      "Returning --- 774 friends for redkaapi\n",
      "Returning --- 41 friends for CheekuShridhar\n",
      "Returning --- 433 friends for nabeel1480"
     ]
    },
    {
     "name": "stderr",
     "output_type": "stream",
     "text": [
      "Got error: {\"errors\":[{\"message\":\"Rate limit exceeded\",\"code\":88}]} \n",
      "sleeping for 15 minutes.\n"
     ]
    },
    {
     "name": "stdout",
     "output_type": "stream",
     "text": [
      "\n",
      "Returning --- 207 friends for 912dheerajYadav\n",
      "Returning --- 79 friends for kloman92\n",
      "Returning --- 66 friends for facets22\n",
      "Returning --- 122 friends for akshith_rock\n",
      "Returning --- 1979 friends for CSForJesus\n",
      "Returning --- 580 friends for ae19051\n",
      "Returning --- 1950 friends for EightNature\n",
      "Returning --- 63 friends for bmanojiitg\n",
      "Returning --- 2027 friends for DelGiorgioSolfa\n",
      "Returning --- 645 friends for acaides\n",
      "Returning --- 1 friends for KAEHope\n",
      "Returning --- 88 friends for pujasitaula1\n",
      "Returning --- 75 friends for vikas1981615\n",
      "Returning --- 17 friends for dawn_novak\n",
      "Returning --- 54 friends for dayanara550"
     ]
    },
    {
     "name": "stderr",
     "output_type": "stream",
     "text": [
      "Got error: {\"errors\":[{\"message\":\"Rate limit exceeded\",\"code\":88}]} \n",
      "sleeping for 15 minutes.\n"
     ]
    },
    {
     "name": "stdout",
     "output_type": "stream",
     "text": [
      "\n",
      "Returning --- 10 friends for NikhilHegde2\n",
      "Returning --- 1824 friends for MamaGrows\n",
      "Returning --- 928 friends for JohnJSpears\n",
      "Returning --- 467 friends for jerhester\n",
      "Returning --- 1671 friends for Paperead_\n",
      "Returning --- 120 friends for LuisLarco\n",
      "Returning --- 34 friends for nsingh005\n",
      "Returning --- 601 friends for TNRforparents\n",
      "Returning --- 79 friends for vinodbhalerao24\n",
      "Returning --- 1268 friends for SamsonAtlantic\n",
      "Returning --- 119 friends for digihistorylab\n",
      "Returning --- 791 friends for babaBC\n",
      "Returning --- 122 friends for jessa10250419\n",
      "Returning --- 18 friends for Kris_4ever1"
     ]
    },
    {
     "name": "stderr",
     "output_type": "stream",
     "text": [
      "Got error: {\"errors\":[{\"message\":\"Rate limit exceeded\",\"code\":88}]} \n",
      "sleeping for 15 minutes.\n"
     ]
    },
    {
     "name": "stdout",
     "output_type": "stream",
     "text": [
      "\n",
      "Returning --- 9 friends for SonowalAkash\n",
      "Returning --- 186 friends for wei______\n",
      "Returning --- 387 friends for AndrePphillip\n",
      "Returning --- 2695 friends for DOICareers\n",
      "Returning --- 62 friends for dhruv944\n",
      "Returning --- 6 friends for Hare_Krishna108\n",
      "Returning --- 293 friends for 0c8f4857a9ef4b6\n",
      "Returning --- 1250 friends for plugged_in\n",
      "Returning --- 54 friends for vedasanthi\n",
      "Returning --- 1774 friends for KohlerJobs\n",
      "Returning --- 1984 friends for preptalktv\n",
      "Returning --- 298 friends for Aaron3221"
     ]
    },
    {
     "name": "stderr",
     "output_type": "stream",
     "text": [
      "Got error: {\"errors\":[{\"message\":\"Rate limit exceeded\",\"code\":88}]} \n",
      "sleeping for 15 minutes.\n"
     ]
    },
    {
     "name": "stdout",
     "output_type": "stream",
     "text": [
      "\n",
      "Returning --- 75 friends for saurav6190\n",
      "Returning --- 159 friends for epenzeymoog\n",
      "Returning --- 638 friends for 8sanjeev2011\n",
      "Returning --- 76 friends for Devendra_dwived\n",
      "Returning --- 19 friends for Daniel_KOO\n",
      "Returning --- 228 friends for iacobus\n",
      "Returning --- 21 friends for thedrawhoward\n",
      "Returning --- 344 friends for Melanie9382\n",
      "Returning --- 32 friends for Flistof\n",
      "Returning --- 625 friends for greenshift77\n",
      "Returning --- 19 friends for johngroszko\n",
      "Returning --- 1771 friends for Orunje\n",
      "Returning --- 138 friends for lcooper\n",
      "Returning --- 121 friends for JoshiRamVelpula"
     ]
    },
    {
     "name": "stderr",
     "output_type": "stream",
     "text": [
      "Got error: {\"errors\":[{\"message\":\"Rate limit exceeded\",\"code\":88}]} \n",
      "sleeping for 15 minutes.\n"
     ]
    },
    {
     "name": "stdout",
     "output_type": "stream",
     "text": [
      "\n",
      "Returning --- 19 friends for FRC4551\n",
      "Returning --- 1980 friends for MindcronBnglr\n",
      "Returning --- 53 friends for abhisheks292\n",
      "Returning --- 122 friends for ChicagoInfinite\n",
      "Returning --- 109 friends for russcollier\n",
      "Returning --- 1082 friends for Percipia1\n",
      "Returning --- 1446 friends for DuSableMuseum\n",
      "Collected 5000 friends for BrandeisU\n",
      "Returning --- 103 friends for BrandeisU\n",
      "Returning --- 32 friends for NavnSha124\n",
      "Returning --- 580 friends for mashbrock\n",
      "Returning --- 336 friends for nadia_igle_di\n",
      "Returning --- 30 friends for rahul_tech007\n",
      "Returning --- 466 friends for GlocalStudy"
     ]
    },
    {
     "name": "stderr",
     "output_type": "stream",
     "text": [
      "Got error: {\"errors\":[{\"message\":\"Rate limit exceeded\",\"code\":88}]} \n",
      "sleeping for 15 minutes.\n"
     ]
    },
    {
     "name": "stdout",
     "output_type": "stream",
     "text": [
      "\n",
      "Returning --- 295 friends for LabNewsNetwork\n",
      "Returning --- 294 friends for JodelCharles\n",
      "Returning --- 50 friends for theodoregao\n",
      "Returning --- 160 friends for ErinGMcDonald\n",
      "Returning --- 88 friends for SistersOnCampus\n",
      "Returning --- 10 friends for ianwiese\n",
      "Returning --- 138 friends for marinaalira\n",
      "Returning --- 11 friends for sravya_dasari\n",
      "Returning --- 371 friends for sumitms100\n",
      "Returning --- 78 friends for Tutelmids\n",
      "Returning --- 22 friends for thedivineevents\n",
      "Returning --- 85 friends for Jwoodz525"
     ]
    },
    {
     "name": "stderr",
     "output_type": "stream",
     "text": [
      "Got error: {\"errors\":[{\"message\":\"Rate limit exceeded\",\"code\":88}]} \n",
      "sleeping for 15 minutes.\n"
     ]
    },
    {
     "name": "stdout",
     "output_type": "stream",
     "text": [
      "\n",
      "Returning --- 1962 friends for Jennifer9802\n",
      "Returning --- 1979 friends for BreadShed\n",
      "Returning --- 95 friends for BF_IllinoisTech\n",
      "Returning --- 231 friends for Gui_Saussay\n",
      "Returning --- 69 friends for Erinwangyifei\n",
      "Returning --- 269 friends for SHEN_MIN\n",
      "Returning --- 280 friends for studio__silver\n",
      "Returning --- 133 friends for CFASchoolhouse\n",
      "Collected 5000 friends for GxChicago\n",
      "Returning --- 1481 friends for GxChicago\n",
      "Returning --- 97 friends for CassandraSlatt1\n",
      "Returning --- 1997 friends for dustingarlitz"
     ]
    },
    {
     "name": "stderr",
     "output_type": "stream",
     "text": [
      "Got error: {\"errors\":[{\"message\":\"Rate limit exceeded\",\"code\":88}]} \n",
      "sleeping for 15 minutes.\n"
     ]
    },
    {
     "name": "stdout",
     "output_type": "stream",
     "text": [
      "\n",
      "Returning --- 25 friends for zwang617\n",
      "Returning --- 5 friends for austinwei2011\n",
      "Returning --- 228 friends for valmirismaili\n",
      "Returning --- 1297 friends for Hybridesign\n",
      "Returning --- 144 friends for ssmyd\n",
      "Returning --- 53 friends for psiya344\n",
      "Returning --- 24 friends for bigyan428\n",
      "Returning --- 11 friends for NRajansuki\n",
      "Returning --- 1536 friends for PhysicsConnect\n",
      "Returning --- 70 friends for Manasasundaram\n",
      "Returning --- 86 friends for IITUBC\n",
      "Returning --- 479 friends for chiartshs\n",
      "Returning --- 666 friends for j_chytown"
     ]
    },
    {
     "name": "stderr",
     "output_type": "stream",
     "text": [
      "Got error: {\"errors\":[{\"message\":\"Rate limit exceeded\",\"code\":88}]} \n",
      "sleeping for 15 minutes.\n"
     ]
    },
    {
     "name": "stdout",
     "output_type": "stream",
     "text": [
      "\n",
      "Returning --- 227 friends for ESME_Alumni\n",
      "Returning --- 9 friends for saurabhsakhare6\n",
      "Returning --- 25 friends for prakash521993\n",
      "Returning --- 1950 friends for CordochoreaD\n",
      "Returning --- 311 friends for QueerTechClub\n",
      "Returning --- 169 friends for jheinz_57\n",
      "Returning --- 125 friends for freshphysics\n",
      "Returning --- 860 friends for TajisDelivery\n",
      "Returning --- 580 friends for slu_gunner\n",
      "Returning --- 896 friends for Atelierars\n",
      "Returning --- 1075 friends for HubGroup\n",
      "Returning --- 73 friends for hridaybuyakar\n",
      "Returning --- 184 friends for TheBRF\n",
      "Returning --- 16 friends for Ilangoven93"
     ]
    },
    {
     "name": "stderr",
     "output_type": "stream",
     "text": [
      "Got error: {\"errors\":[{\"message\":\"Rate limit exceeded\",\"code\":88}]} \n",
      "sleeping for 15 minutes.\n"
     ]
    },
    {
     "name": "stdout",
     "output_type": "stream",
     "text": [
      "\n",
      "Returning --- 15 friends for agangauvinho\n",
      "Returning --- 82 friends for IITCrownJoules\n",
      "Returning --- 118 friends for SEGFUSEStudio\n",
      "Returning --- 203 friends for Manal1407\n",
      "Returning --- 2315 friends for MFAUpdates\n",
      "Returning --- 93 friends for WillyTaracena\n",
      "Returning --- 150 friends for althebaker43\n",
      "Returning --- 22 friends for dipendrakumary3\n",
      "Returning --- 939 friends for mchlecarr\n",
      "Returning --- 338 friends for MyNameIsShayna\n",
      "Returning --- 425 friends for GreenTieBall\n",
      "Returning --- 8 friends for MarQuik\n",
      "Returning --- 1961 friends for VIR_FaithOnPZZ"
     ]
    },
    {
     "name": "stderr",
     "output_type": "stream",
     "text": [
      "Got error: {\"errors\":[{\"message\":\"Rate limit exceeded\",\"code\":88}]} \n",
      "sleeping for 15 minutes.\n"
     ]
    },
    {
     "name": "stdout",
     "output_type": "stream",
     "text": [
      "\n",
      "Returning --- 7 friends for Gopal12101689\n",
      "Collected 5000 friends for dtlastudios\n",
      "Returning --- 4089 friends for dtlastudios\n",
      "Returning --- 2004 friends for mrcravens\n",
      "Returning --- 47 friends for coralpais\n",
      "Returning --- 1753 friends for youandme_dating\n",
      "Returning --- 441 friends for deborahnavarra\n",
      "Returning --- 104 friends for dholakianivid\n",
      "Returning --- 29 friends for uzairahamed\n",
      "Returning --- 1001 friends for wturner2323\n",
      "Returning --- 1990 friends for HarshilPandya30\n",
      "Returning --- 675 friends for BridgeportAlly\n",
      "Returning --- 82 friends for namochik\n",
      "Returning --- 1009 friends for Caffiene_Svk"
     ]
    },
    {
     "name": "stderr",
     "output_type": "stream",
     "text": [
      "Got error: {\"errors\":[{\"message\":\"Rate limit exceeded\",\"code\":88}]} \n",
      "sleeping for 15 minutes.\n"
     ]
    },
    {
     "name": "stdout",
     "output_type": "stream",
     "text": [
      "\n",
      "Returning --- 211 friends for VoteMeForGod\n",
      "Returning --- 8 friends for Damandeeepddsb\n",
      "Returning --- 332 friends for mjamoom\n",
      "Returning --- 163 friends for Priyanka19951\n",
      "Returning --- 458 friends for AmandaRocksLife\n",
      "Returning --- 91 friends for deepakoptimist\n",
      "Returning --- 24 friends for LxLin719\n",
      "Returning --- 1993 friends for HectorCamposh\n",
      "Returning --- 827 friends for CityYearSAC\n",
      "Returning --- 352 friends for JoinMAVERICK\n",
      "Returning --- 59 friends for PritzkerClub\n",
      "Returning --- 277 friends for avaughan61\n",
      "Returning --- 30 friends for KALYANSINGH16\n",
      "Returning --- 17 friends for xy_Mike\n",
      "Returning --- 43 friends for pandabears5761"
     ]
    },
    {
     "name": "stderr",
     "output_type": "stream",
     "text": [
      "Got error: {\"errors\":[{\"message\":\"Rate limit exceeded\",\"code\":88}]} \n",
      "sleeping for 15 minutes.\n"
     ]
    },
    {
     "name": "stdout",
     "output_type": "stream",
     "text": [
      "\n",
      "Returning --- 361 friends for qinic\n",
      "Returning --- 1998 friends for Woroud\n",
      "Returning --- 1809 friends for cpstudent\n",
      "Returning --- 1864 friends for kathrynrosypal\n",
      "Returning --- 9 friends for Cifci\n",
      "Returning --- 14 friends for IIT_INTM\n",
      "Returning --- 654 friends for TheHopHaus\n",
      "Returning --- 160 friends for illinoisslate\n",
      "Returning --- 10 friends for nkbigbear\n",
      "Returning --- 1224 friends for John_Hubert\n",
      "Returning --- 1998 friends for MSUWORLD\n",
      "Returning --- 22 friends for RoyalKnight_Dy\n",
      "Returning --- 568 friends for BhagvatMandar"
     ]
    },
    {
     "name": "stderr",
     "output_type": "stream",
     "text": [
      "Got error: {\"errors\":[{\"message\":\"Rate limit exceeded\",\"code\":88}]} \n",
      "sleeping for 15 minutes.\n"
     ]
    },
    {
     "name": "stdout",
     "output_type": "stream",
     "text": [
      "\n",
      "Returning --- 364 friends for rogerrayner\n",
      "Returning --- 169 friends for OussarTweeT\n",
      "Returning --- 149 friends for subhamscience_\n",
      "Returning --- 1956 friends for Harshalmahaja16\n",
      "Returning --- 2610 friends for JobGiraffe\n",
      "Returning --- 1422 friends for UnitedEducators\n",
      "Returning --- 168 friends for sammit17\n",
      "Returning --- 183 friends for Sean_Kiley_21\n",
      "Returning --- 431 friends for Ramawat5\n",
      "Returning --- 92 friends for InnovationReady\n",
      "Returning --- 223 friends for everchanging_b\n",
      "Returning --- 1681 friends for shelleystern\n",
      "Returning --- 1769 friends for imashishgaurav\n",
      "Returning --- 742 friends for njcollegewise\n",
      "Returning --- 10 friends for abhiroopchatto"
     ]
    },
    {
     "name": "stderr",
     "output_type": "stream",
     "text": [
      "Got error: {\"errors\":[{\"message\":\"Rate limit exceeded\",\"code\":88}]} \n",
      "sleeping for 15 minutes.\n"
     ]
    },
    {
     "name": "stdout",
     "output_type": "stream",
     "text": [
      "\n",
      "Returning --- 889 friends for tylerdesignmesh\n",
      "Returning --- 107 friends for bilgicm\n",
      "Returning --- 267 friends for Camilla317\n",
      "Returning --- 1066 friends for Konnect_meeting\n",
      "Returning --- 235 friends for midnitepostman\n",
      "Returning --- 246 friends for _purvishkumar\n",
      "Returning --- 46 friends for sonukum19790465\n",
      "Returning --- 320 friends for sameep6\n",
      "Returning --- 381 friends for rohitphy\n",
      "Returning --- 10 friends for NirmalChouhan9\n",
      "Returning --- 437 friends for pudiination\n",
      "Returning --- 71 friends for csquare_\n",
      "Returning --- 172 friends for gmanoj85\n",
      "Returning --- 119 friends for rcoasb69"
     ]
    },
    {
     "name": "stderr",
     "output_type": "stream",
     "text": [
      "Got error: {\"errors\":[{\"message\":\"Rate limit exceeded\",\"code\":88}]} \n",
      "sleeping for 15 minutes.\n"
     ]
    },
    {
     "name": "stdout",
     "output_type": "stream",
     "text": [
      "\n",
      "Returning --- 101 friends for ImhoffTech\n",
      "Returning --- 176 friends for mattyabeles\n",
      "Returning --- 121 friends for rjlenau\n",
      "Returning --- 1806 friends for 1_open\n",
      "Returning --- 151 friends for Cat_Connect\n",
      "Returning --- 319 friends for C2Fag\n",
      "Returning --- 28 friends for amittbhalla\n",
      "Returning --- 1313 friends for zealsathish\n",
      "Returning --- 374 friends for GADC_Chicago\n",
      "Returning --- 216 friends for motorboatmayhem\n",
      "Returning --- 50 friends for paigemass\n",
      "Returning --- 6 friends for ushalil93\n",
      "Returning --- 1998 friends for Shaunnapjz"
     ]
    },
    {
     "name": "stderr",
     "output_type": "stream",
     "text": [
      "Got error: {\"errors\":[{\"message\":\"Rate limit exceeded\",\"code\":88}]} \n",
      "sleeping for 15 minutes.\n"
     ]
    },
    {
     "name": "stdout",
     "output_type": "stream",
     "text": [
      "\n",
      "Returning --- 97 friends for paulinacarlos\n",
      "Returning --- 26 friends for pzzuzzik\n",
      "Returning --- 585 friends for AndrewKomosa\n",
      "Returning --- 215 friends for 2010cys7095\n",
      "Returning --- 997 friends for mccastelle\n",
      "Returning --- 154 friends for IITCareers\n",
      "Returning --- 1943 friends for bsocialkid\n",
      "Returning --- 273 friends for oolretaw\n",
      "Returning --- 426 friends for PrimeraEng\n",
      "Returning --- 126 friends for mechineer3175\n",
      "Returning --- 18 friends for IPROatIIT\n",
      "Returning --- 309 friends for EclaroTweets\n",
      "Returning --- 212 friends for LL_media\n",
      "Returning --- 236 friends for AdmissionsHOW"
     ]
    },
    {
     "name": "stderr",
     "output_type": "stream",
     "text": [
      "Got error: {\"errors\":[{\"message\":\"Rate limit exceeded\",\"code\":88}]} \n",
      "sleeping for 15 minutes.\n"
     ]
    },
    {
     "name": "stdout",
     "output_type": "stream",
     "text": [
      "\n",
      "Returning --- 2615 friends for TheFranc\n",
      "Returning --- 1097 friends for raghavew\n",
      "Returning --- 9 friends for tvfashionstudio\n",
      "Returning --- 230 friends for SightlinesLLC\n",
      "Returning --- 59 friends for hemalibhagat1\n",
      "Returning --- 1172 friends for CarissaDi\n",
      "Returning --- 67 friends for jmbc79\n",
      "Returning --- 826 friends for gupul2k\n",
      "Returning --- 1 friends for dpatel37\n",
      "Returning --- 1168 friends for nkhaledi\n",
      "Returning --- 101 friends for kanirudh34\n",
      "Returning --- 226 friends for kstteja"
     ]
    },
    {
     "name": "stderr",
     "output_type": "stream",
     "text": [
      "Got error: {\"errors\":[{\"message\":\"Rate limit exceeded\",\"code\":88}]} \n",
      "sleeping for 15 minutes.\n"
     ]
    },
    {
     "name": "stdout",
     "output_type": "stream",
     "text": [
      "\n",
      "Returning --- 55 friends for 2015_Cubbies\n",
      "Returning --- 56 friends for megyi2001\n",
      "Returning --- 418 friends for ipranav5\n",
      "Returning --- 6 friends for Ravikumarsekars\n",
      "Returning --- 43 friends for rockyrohit12\n",
      "Returning --- 79 friends for meHungryNow\n",
      "Returning --- 69 friends for GhanaStudio2014\n",
      "Returning --- 16 friends for ishakhurana1\n",
      "Returning --- 38 friends for GangaReddy_P\n",
      "Returning --- 95 friends for d_wilburne\n",
      "Returning --- 231 friends for SusanLewers\n",
      "Returning --- 1766 friends for rwilo3D\n",
      "Returning --- 470 friends for h_fhaxhaj\n",
      "Returning --- 84 friends for MohdSharib2"
     ]
    },
    {
     "name": "stderr",
     "output_type": "stream",
     "text": [
      "Got error: {\"errors\":[{\"message\":\"Rate limit exceeded\",\"code\":88}]} \n",
      "sleeping for 15 minutes.\n"
     ]
    },
    {
     "name": "stdout",
     "output_type": "stream",
     "text": [
      "\n",
      "Returning --- 283 friends for FoodChemNews\n",
      "Returning --- 604 friends for harsharnav1\n",
      "Returning --- 320 friends for FullertonEngChi\n",
      "Returning --- 44 friends for Hana_99\n",
      "Returning --- 28 friends for zly1990\n",
      "Returning --- 47 friends for MuzacMasta\n",
      "Returning --- 480 friends for scampjc\n",
      "Returning --- 262 friends for rakeshkoyiloth\n",
      "Returning --- 40 friends for ChSeoud\n",
      "Returning --- 252 friends for WDavidWork\n",
      "Returning --- 561 friends for AriannaJnth\n",
      "Returning --- 884 friends for humnoidsnevrlie\n",
      "Returning --- 273 friends for MMastromartino"
     ]
    },
    {
     "name": "stderr",
     "output_type": "stream",
     "text": [
      "Got error: {\"errors\":[{\"message\":\"Rate limit exceeded\",\"code\":88}]} \n",
      "sleeping for 15 minutes.\n"
     ]
    },
    {
     "name": "stdout",
     "output_type": "stream",
     "text": [
      "\n",
      "Returning --- 838 friends for MindCron_com\n",
      "Returning --- 11 friends for gyanec13\n",
      "Returning --- 662 friends for eccello\n",
      "Returning --- 160 friends for tdreismeier\n",
      "Returning --- 46 friends for Fardinchoudhur1\n",
      "Returning --- 869 friends for ShaikhZeef\n",
      "Returning --- 34 friends for joy4tech\n",
      "Returning --- 218 friends for iXdnan\n",
      "Returning --- 128 friends for Divyanshujaisw8\n",
      "Returning --- 29 friends for GyMa7\n",
      "Returning --- 157 friends for WheresPerryEles\n",
      "Returning --- 28 friends for WinstonBond\n",
      "Returning --- 420 friends for shimerians\n",
      "Returning --- 26 friends for JamesGniadek"
     ]
    },
    {
     "name": "stderr",
     "output_type": "stream",
     "text": [
      "Got error: {\"errors\":[{\"message\":\"Rate limit exceeded\",\"code\":88}]} \n",
      "sleeping for 15 minutes.\n"
     ]
    },
    {
     "name": "stdout",
     "output_type": "stream",
     "text": [
      "\n",
      "Returning --- 1907 friends for williamrobert30\n",
      "Returning --- 75 friends for NicolasLassaux\n",
      "Returning --- 288 friends for caobo_jose\n",
      "Returning --- 5 friends for brianybk\n",
      "Returning --- 1986 friends for VelmaToma\n",
      "Collected 5000 friends for SHORT_REPORT\n",
      "Collected 5000 friends for SHORT_REPORT\n",
      "Collected 5000 friends for SHORT_REPORT\n",
      "Collected 5000 friends for SHORT_REPORT\n",
      "Collected 5000 friends for SHORT_REPORT\n",
      "Collected 5000 friends for SHORT_REPORT\n",
      "Collected 5000 friends for SHORT_REPORT\n",
      "Returning --- 635 friends for SHORT_REPORT\n",
      "Returning --- 326 friends for iskyscraper"
     ]
    },
    {
     "name": "stderr",
     "output_type": "stream",
     "text": [
      "Got error: {\"errors\":[{\"message\":\"Rate limit exceeded\",\"code\":88}]} \n",
      "sleeping for 15 minutes.\n"
     ]
    },
    {
     "name": "stdout",
     "output_type": "stream",
     "text": [
      "\n",
      "Returning --- 1996 friends for ilcollegenet\n",
      "Collected 5000 friends for Cruiter\n",
      "Returning --- 998 friends for Cruiter\n",
      "Returning --- 72 friends for FollowGurukul\n",
      "Returning --- 360 friends for SK8RBoYSwG\n",
      "Returning --- 2335 friends for 1wordchrisjones\n",
      "Returning --- 1563 friends for ROKAutomation\n",
      "Returning --- 43 friends for admahawar\n",
      "Returning --- 227 friends for MaitriVaghela\n",
      "Returning --- 146 friends for tschep2\n",
      "Returning --- 714 friends for StudyAbroadcoin\n",
      "Returning --- 38 friends for archit_007\n",
      "Returning --- 413 friends for EDUPLANETS\n",
      "Returning --- 399 friends for FLopes_patricia"
     ]
    },
    {
     "name": "stderr",
     "output_type": "stream",
     "text": [
      "Got error: {\"errors\":[{\"message\":\"Rate limit exceeded\",\"code\":88}]} \n",
      "sleeping for 15 minutes.\n"
     ]
    },
    {
     "name": "stdout",
     "output_type": "stream",
     "text": [
      "\n",
      "Returning --- 975 friends for ILikeIllinois\n",
      "Returning --- 52 friends for BrandonIITAlum\n",
      "Returning --- 102 friends for danklee\n",
      "Returning --- 185 friends for cuttlas_\n",
      "Returning --- 22 friends for RojinBabayan\n",
      "Returning --- 114 friends for marilyn0422\n",
      "Returning --- 648 friends for hawkeygal\n",
      "Returning --- 125 friends for ekakyirem\n",
      "Returning --- 219 friends for doraemi36\n",
      "Returning --- 99 friends for LandPlanner"
     ]
    },
    {
     "name": "stderr",
     "output_type": "stream",
     "text": [
      "Got error: {\"errors\":[{\"message\":\"Rate limit exceeded\",\"code\":88}]} \n",
      "sleeping for 15 minutes.\n"
     ]
    },
    {
     "name": "stdout",
     "output_type": "stream",
     "text": [
      "\n",
      "Returning --- 1867 friends for theocg\n",
      "Returning --- 325 friends for arthurwoodlawn\n",
      "Returning --- 218 friends for jgroszko\n",
      "Returning --- 80 friends for iam_anoop_ak\n",
      "Returning --- 3031 friends for glenn_ferrell\n",
      "Returning --- 20 friends for shani_sharph\n",
      "Returning --- 111 friends for iitdelts\n",
      "Returning --- 52 friends for YetAnotherJacob\n",
      "Returning --- 83 friends for DrBronzevilleMD\n",
      "Returning --- 1989 friends for DUBurnsSchool\n",
      "Returning --- 180 friends for purnachndu\n",
      "Returning --- 6 friends for prashant11211"
     ]
    },
    {
     "name": "stderr",
     "output_type": "stream",
     "text": [
      "Got error: {\"errors\":[{\"message\":\"Rate limit exceeded\",\"code\":88}]} \n",
      "sleeping for 15 minutes.\n"
     ]
    },
    {
     "name": "stdout",
     "output_type": "stream",
     "text": [
      "\n",
      "Returning --- 74 friends for 93910875311\n",
      "Returning --- 59 friends for IITandKOTA\n",
      "Returning --- 29 friends for Meera3007\n",
      "Returning --- 307 friends for giri_iitb\n",
      "Returning --- 22 friends for p1236andiyaraja\n",
      "Returning --- 81 friends for DNayak26\n",
      "Returning --- 1931 friends for Chi_TechScene\n",
      "Returning --- 34 friends for heroghanesh\n",
      "Returning --- 47 friends for Mahendar85\n",
      "Returning --- 18 friends for felix_weigelt\n",
      "Returning --- 76 friends for Nishargpatel\n",
      "Returning --- 517 friends for JML134\n",
      "Returning --- 315 friends for PeoplePlayWhat\n",
      "Returning --- 8 friends for manoj951984\n",
      "Returning --- 153 friends for Plancess360"
     ]
    },
    {
     "name": "stderr",
     "output_type": "stream",
     "text": [
      "Got error: {\"errors\":[{\"message\":\"Rate limit exceeded\",\"code\":88}]} \n",
      "sleeping for 15 minutes.\n"
     ]
    },
    {
     "name": "stdout",
     "output_type": "stream",
     "text": [
      "\n",
      "Returning --- 2354 friends for MarketsWiki\n",
      "Returning --- 534 friends for CISUVC\n",
      "Returning --- 453 friends for AnupBuddyCool\n",
      "Returning --- 552 friends for vetstowandrecov\n",
      "Returning --- 6 friends for yankdizzy\n",
      "Returning --- 1036 friends for makers365\n",
      "Returning --- 1972 friends for Cameron_Jones34\n",
      "Returning --- 147 friends for LavdiZ\n",
      "Returning --- 126 friends for TheGoodLab\n",
      "Returning --- 51 friends for EtoosIndia\n",
      "Returning --- 115 friends for oscartheperson\n",
      "Returning --- 186 friends for EIVP_Interntnl\n",
      "Returning --- 77 friends for DawnDe8\n",
      "Returning --- 166 friends for SteveEwart2\n",
      "Returning --- 88 friends for darpogi1013"
     ]
    },
    {
     "name": "stderr",
     "output_type": "stream",
     "text": [
      "Got error: {\"errors\":[{\"message\":\"Rate limit exceeded\",\"code\":88}]} \n",
      "sleeping for 15 minutes.\n"
     ]
    },
    {
     "name": "stdout",
     "output_type": "stream",
     "text": [
      "\n",
      "Returning --- 65 friends for eric_goldspiel\n",
      "Returning --- 422 friends for versan_edu\n",
      "Returning --- 246 friends for VirtualAdvising\n",
      "Returning --- 25 friends for M4dfr0G\n",
      "Returning --- 872 friends for nuinnovation\n",
      "Returning --- 26 friends for lintao88\n",
      "Returning --- 1032 friends for RorySullivan\n",
      "Returning --- 190 friends for morales_jd\n",
      "Returning --- 785 friends for myfalafel\n",
      "Returning --- 28 friends for RJ79983656\n",
      "Returning --- 401 friends for sppk\n",
      "Returning --- 546 friends for kalingone\n",
      "Returning --- 192 friends for fozzytweetshard"
     ]
    },
    {
     "name": "stderr",
     "output_type": "stream",
     "text": [
      "Got error: {\"errors\":[{\"message\":\"Rate limit exceeded\",\"code\":88}]} \n",
      "sleeping for 15 minutes.\n"
     ]
    },
    {
     "name": "stdout",
     "output_type": "stream",
     "text": [
      "\n",
      "Returning --- 115 friends for sandeepgate\n",
      "Returning --- 1122 friends for TheModernDem\n",
      "Returning --- 3777 friends for SKYRAPMAG\n",
      "Returning --- 21 friends for laurali67\n",
      "Returning --- 130 friends for gopalamity\n",
      "Returning --- 8 friends for oncampusdeals1\n",
      "Returning --- 86 friends for YHPChicago\n",
      "Returning --- 85 friends for RichardLiu86\n",
      "Returning --- 62 friends for lockhak\n",
      "Returning --- 751 friends for IamMVR\n",
      "Returning --- 38 friends for ashishjhaa000\n",
      "Returning --- 209 friends for timewar85\n",
      "Returning --- 166 friends for fabertho\n",
      "Returning --- 817 friends for Curvyjax"
     ]
    },
    {
     "name": "stderr",
     "output_type": "stream",
     "text": [
      "Got error: {\"errors\":[{\"message\":\"Rate limit exceeded\",\"code\":88}]} \n",
      "sleeping for 15 minutes.\n"
     ]
    },
    {
     "name": "stdout",
     "output_type": "stream",
     "text": [
      "\n",
      "Returning --- 54 friends for AnkithMJain\n",
      "Returning --- 43 friends for jasondtd\n",
      "Returning --- 221 friends for Jason_Minnich\n",
      "Returning --- 155 friends for WareIsRachel\n",
      "Returning --- 165 friends for wooddragonus\n",
      "Returning --- 1971 friends for KneeShit\n",
      "Returning --- 113 friends for scorpiknox\n",
      "Returning --- 527 friends for TheTradingShow\n",
      "Returning --- 99 friends for iitarc\n",
      "Returning --- 109 friends for sandra_casten\n",
      "Returning --- 651 friends for pure_oso\n",
      "Returning --- 142 friends for jrwall9\n",
      "Returning --- 1284 friends for nayanrahul08"
     ]
    },
    {
     "name": "stderr",
     "output_type": "stream",
     "text": [
      "Got error: {\"errors\":[{\"message\":\"Rate limit exceeded\",\"code\":88}]} \n",
      "sleeping for 15 minutes.\n"
     ]
    },
    {
     "name": "stdout",
     "output_type": "stream",
     "text": [
      "\n",
      "Returning --- 392 friends for HaridassSns\n",
      "Returning --- 209 friends for Bhakthavatsala\n",
      "Returning --- 58 friends for sudhirksingh27\n",
      "Returning --- 815 friends for spicymon\n",
      "Returning --- 161 friends for Comillas_SRI\n",
      "Returning --- 1677 friends for GGIPanipat\n",
      "Returning --- 19 friends for nikhilsakhare3\n",
      "Returning --- 157 friends for brooks_1\n",
      "Returning --- 297 friends for juanchi_hdez\n",
      "Returning --- 39 friends for SerkanTasci\n",
      "Returning --- 1222 friends for MaximusMarq\n",
      "Returning --- 2703 friends for ZipcarChicago\n",
      "Returning --- 85 friends for hardik_setia\n",
      "Collected 5000 friends for CrainsChicago\n",
      "Collected 5000 friends for CrainsChicago"
     ]
    },
    {
     "name": "stderr",
     "output_type": "stream",
     "text": [
      "Got error: {\"errors\":[{\"message\":\"Rate limit exceeded\",\"code\":88}]} \n",
      "sleeping for 15 minutes.\n"
     ]
    }
   ],
   "source": [
    "get_friend_ids_and_pickle_object(iit_followers_2,\"iit2\")"
   ]
  },
  {
   "cell_type": "code",
   "execution_count": null,
   "metadata": {
    "collapsed": true
   },
   "outputs": [],
   "source": []
  }
 ],
 "metadata": {
  "kernelspec": {
   "display_name": "Python 2",
   "language": "python",
   "name": "python2"
  },
  "language_info": {
   "codemirror_mode": {
    "name": "ipython",
    "version": 2
   },
   "file_extension": ".py",
   "mimetype": "text/x-python",
   "name": "python",
   "nbconvert_exporter": "python",
   "pygments_lexer": "ipython2",
   "version": "2.7.10"
  }
 },
 "nbformat": 4,
 "nbformat_minor": 0
}
