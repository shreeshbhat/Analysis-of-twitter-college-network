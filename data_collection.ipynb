{
 "cells": [
  {
   "cell_type": "code",
   "execution_count": 16,
   "metadata": {
    "collapsed": false,
    "scrolled": false
   },
   "outputs": [],
   "source": [
    "# Imports needed for this ipython file\n",
    "\n",
    "from collections import Counter\n",
    "import ConfigParser\n",
    "import matplotlib.pyplot as plt\n",
    "import networkx as nx\n",
    "import sys\n",
    "import time\n",
    "import pickle\n",
    "import os\n",
    "from TwitterAPI import TwitterAPI\n",
    "\n",
    "%matplotlib inline"
   ]
  },
  {
   "cell_type": "code",
   "execution_count": 17,
   "metadata": {
    "collapsed": false,
    "scrolled": false
   },
   "outputs": [
    {
     "name": "stdout",
     "output_type": "stream",
     "text": [
      "Established Twitter connection.\n"
     ]
    }
   ],
   "source": [
    "def get_twitter(config_file):\n",
    "    \"\"\" \n",
    "    Args:\n",
    "      config_file ... A config file in ConfigParser format with Twitter credentials\n",
    "    Returns:\n",
    "      An instance of TwitterAPI.\n",
    "    \"\"\"\n",
    "    config = ConfigParser.ConfigParser()\n",
    "    config.read(config_file)\n",
    "    twitter = TwitterAPI(\n",
    "                   config.get('twitter', 'consumer_key'),\n",
    "                   config.get('twitter', 'consumer_secret'),\n",
    "                   config.get('twitter', 'access_token'),\n",
    "                   config.get('twitter', 'access_token_secret'))\n",
    "    return twitter\n",
    "\n",
    "twitter = get_twitter('twitter.cfg')\n",
    "print('Established Twitter connection.')"
   ]
  },
  {
   "cell_type": "code",
   "execution_count": 18,
   "metadata": {
    "collapsed": true,
    "scrolled": false
   },
   "outputs": [],
   "source": [
    "def robust_request(twitter, resource, params, max_tries=5):\n",
    "    \"\"\" If a Twitter request fails, sleep for 15 minutes.\n",
    "    Do this at most max_tries times before quitting.\n",
    "    Args:\n",
    "      twitter .... A TwitterAPI object.\n",
    "      resource ... A resource string to request.\n",
    "      params ..... A parameter dictionary for the request.\n",
    "      max_tries .. The maximum number of tries to attempt.\n",
    "    Returns:\n",
    "      A TwitterResponse object, or None if failed.\n",
    "    \"\"\"\n",
    "    for i in range(max_tries):\n",
    "        try:\n",
    "            request = twitter.request(resource, params)\n",
    "        except:\n",
    "            print >> sys.stderr, 'Got Connection error: sleeping for 15 minutes.'\n",
    "            sys.stderr.flush()\n",
    "            time.sleep(61 * 15)\n",
    "            twitter = get_twitter('twitter.cfg')\n",
    "            request = twitter.request(resource, params)\n",
    "        if request.status_code == 200:\n",
    "            return request\n",
    "        elif \"Not authorized\" in request.text:\n",
    "            return -1\n",
    "        elif \"page does not exist\" in request.text:\n",
    "            return -2\n",
    "        else:\n",
    "            print >> sys.stderr, 'Got error:', request.text, '\\nsleeping for 15 minutes.'\n",
    "            sys.stderr.flush()\n",
    "            time.sleep(61 * 15)"
   ]
  },
  {
   "cell_type": "code",
   "execution_count": 19,
   "metadata": {
    "collapsed": false,
    "scrolled": false
   },
   "outputs": [],
   "source": [
    "def get_followers(screen_name):\n",
    "    \"\"\" Return a dictionary of the users that follows this person on Twitter.\n",
    "    \n",
    "    Args:\n",
    "        screen_name: a string of a Twitter screen name\n",
    "    Returns:\n",
    "        A dictionary of dictionary, one per follower containing {index, user_info} pairs.\n",
    "    Note: Many users follow more than 200 accounts; we will return those accounts too.\n",
    "    \"\"\"\n",
    "    followers = {}\n",
    "    cursor = -1\n",
    "    key = 0\n",
    "    rate_limit = 1\n",
    "    while True:\n",
    "        if rate_limit == 15:\n",
    "            rate_limit = 1\n",
    "            print >> sys.stderr, 'Avoided rate_limit error: \\nsleeping for 15 minutes.'\n",
    "            time.sleep(61 * 15)\n",
    "        request = robust_request(twitter,'followers/list', \n",
    "                                 {'screen_name': screen_name, 'count':200, 'cursor': cursor})\n",
    "        json_response = request.json()\n",
    "        \n",
    "        # Get 200 followers from json_response\n",
    "        for follower in json_response['users']:\n",
    "                followers[follower['screen_name']] = follower\n",
    "                key = key + 1\n",
    "                \n",
    "        # If user has < 200 followers or to retrieve last 200 followers\n",
    "        if json_response[\"next_cursor\"] == 0:\n",
    "            break\n",
    "            \n",
    "        # Update cursor to get next 200 followers\n",
    "        cursor = json_response[\"next_cursor\"]\n",
    "        rate_limit = rate_limit + 1\n",
    "        print \"Collected %d followers\" % key\n",
    "    return followers"
   ]
  },
  {
   "cell_type": "code",
   "execution_count": 20,
   "metadata": {
    "collapsed": true,
    "scrolled": false
   },
   "outputs": [],
   "source": [
    "def get_followers_and_pickle_object(account_name):\n",
    "    \"\"\" Calls get_followers() to collect all followers of a Twitter account\n",
    "        and then saves it by pickling for future processing purposes.\n",
    "    \n",
    "    Args: A string representing the screen_name of a Twitter account,\n",
    "          whose followers we need.\n",
    "    Returns : A dictionary of { screen_name : user_info } pairs of followers,\n",
    "              where user_info is a dictionary object containing user information\n",
    "    \"\"\"\n",
    "    followers = get_followers(account_name)\n",
    "    fileObject = open(\"raw_data/\" + account_name,'wb')\n",
    "    pickle.dump(followers,fileObject)\n",
    "    fileObject.close()\n",
    "    return followers"
   ]
  },
  {
   "cell_type": "code",
   "execution_count": 34,
   "metadata": {
    "collapsed": true,
    "scrolled": false
   },
   "outputs": [],
   "source": [
    "def get_followers_from_pickle(account_name, path=\"raw_data/\"):\n",
    "    \"\"\" Returns all followers of a Twitter account by retrieving saved data,\n",
    "        using pickle method.\n",
    "    \n",
    "    Args: A string representing the screen_name of a Twitter account,\n",
    "          whose followers we need.\n",
    "          path is a string representing the path of the pickled files\n",
    "    Returns : A dictionary of { screen_name : user_info } pairs of followers,\n",
    "              where user_info is a dictionary object containing user information\n",
    "    \"\"\"\n",
    "    fileObject = open(path + account_name,'r')\n",
    "    followers = pickle.load(fileObject)\n",
    "    fileObject.close()\n",
    "    return followers"
   ]
  },
  {
   "cell_type": "code",
   "execution_count": null,
   "metadata": {
    "collapsed": false,
    "scrolled": false
   },
   "outputs": [],
   "source": [
    "# Getting iit alumni association followers and pickling them\n",
    "iit_alumni_followers = get_followers_and_pickle_object('iitalumniassn')"
   ]
  },
  {
   "cell_type": "code",
   "execution_count": 8,
   "metadata": {
    "collapsed": false,
    "scrolled": false
   },
   "outputs": [
    {
     "name": "stdout",
     "output_type": "stream",
     "text": [
      "Found 1861 followers for iitalumniassn\n"
     ]
    }
   ],
   "source": [
    "iit_alumni_followers = get_followers_from_pickle('iitalumniassn')\n",
    "print \"Found %d followers for iitalumniassn\" %len(iit_alumni_followers.keys())"
   ]
  },
  {
   "cell_type": "code",
   "execution_count": 6,
   "metadata": {
    "collapsed": false,
    "scrolled": false
   },
   "outputs": [],
   "source": [
    "# Getting iit career services followers and pickling them\n",
    "iit_career_followers = get_followers_and_pickle_object('IITCareers')"
   ]
  },
  {
   "cell_type": "code",
   "execution_count": 9,
   "metadata": {
    "collapsed": false,
    "scrolled": false
   },
   "outputs": [
    {
     "name": "stdout",
     "output_type": "stream",
     "text": [
      "Found 643 followers for IITCareers\n"
     ]
    }
   ],
   "source": [
    "iit_career_followers = get_followers_from_pickle('IITCareers')\n",
    "print \"Found %d followers for IITCareers\" %len(iit_career_followers.keys())"
   ]
  },
  {
   "cell_type": "code",
   "execution_count": null,
   "metadata": {
    "collapsed": false,
    "scrolled": false
   },
   "outputs": [],
   "source": [
    "# Getting iit main university followers and pickling them\n",
    "iit_univ_followers = get_followers_and_pickle_object('illinoistech')"
   ]
  },
  {
   "cell_type": "code",
   "execution_count": 10,
   "metadata": {
    "collapsed": false,
    "scrolled": false
   },
   "outputs": [
    {
     "name": "stdout",
     "output_type": "stream",
     "text": [
      "Found 5426 followers for IIT University\n"
     ]
    }
   ],
   "source": [
    "iit_univ_followers = get_followers_from_pickle('illinoistech')\n",
    "print \"Found %d followers for IIT University\" %len(iit_univ_followers.keys())"
   ]
  },
  {
   "cell_type": "code",
   "execution_count": null,
   "metadata": {
    "collapsed": true,
    "scrolled": false
   },
   "outputs": [],
   "source": []
  },
  {
   "cell_type": "code",
   "execution_count": 22,
   "metadata": {
    "collapsed": false,
    "scrolled": false
   },
   "outputs": [],
   "source": [
    "def get_all_screen_names(*args):\n",
    "    \"\"\" Returns union of all followers of a particular university\n",
    "    \n",
    "    Args: Variables containing followers from different accounts in dictionary format.\n",
    "    \n",
    "    Returns : A set of intersection of keys from the dictionaries passed as input.\n",
    "    \"\"\"\n",
    "    univ_followers = set()\n",
    "    for followers in args:\n",
    "        for user in followers.keys():\n",
    "            univ_followers.add(user)\n",
    "    return univ_followers"
   ]
  },
  {
   "cell_type": "code",
   "execution_count": 12,
   "metadata": {
    "collapsed": false,
    "scrolled": false
   },
   "outputs": [
    {
     "name": "stdout",
     "output_type": "stream",
     "text": [
      "Found 6565 unique accounts from 7930 accounts \n"
     ]
    }
   ],
   "source": [
    "iit_followers = get_all_screen_names(iit_alumni_followers,iit_career_followers,iit_univ_followers)\n",
    "print \"Found %d unique accounts from %d accounts \" %(len(iit_followers), \n",
    "            (len(iit_alumni_followers)+len(iit_career_followers)+len(iit_univ_followers)))"
   ]
  },
  {
   "cell_type": "code",
   "execution_count": 13,
   "metadata": {
    "collapsed": false,
    "scrolled": false
   },
   "outputs": [],
   "source": [
    "# Pickling iit_followers for future calculations.\n",
    "fileObject = open(\"processed_data/iit_followers\",'wb')\n",
    "pickle.dump(iit_followers,fileObject)\n",
    "fileObject.close()"
   ]
  },
  {
   "cell_type": "code",
   "execution_count": 8,
   "metadata": {
    "collapsed": false,
    "scrolled": false
   },
   "outputs": [],
   "source": [
    "# Loading iit_followers from pickle.\n",
    "fileObject = open(\"processed_data/iit_followers\",'r')\n",
    "iit_followers = pickle.load(fileObject)\n",
    "fileObject.close()"
   ]
  },
  {
   "cell_type": "code",
   "execution_count": 23,
   "metadata": {
    "collapsed": true,
    "scrolled": false
   },
   "outputs": [],
   "source": [
    "def get_friends(screen_name):\n",
    "    \"\"\" Return a dictionary of users that are friends of this person on Twitter.\n",
    "    \n",
    "    Args:\n",
    "        screen_name: a string of a Twitter screen name\n",
    "    Returns:\n",
    "        A dictionary of {screen_name : description} per friend of the given account.\n",
    "    \"\"\"\n",
    "    friends = {}\n",
    "    cursor = -1\n",
    "    key = 0\n",
    "    while True:\n",
    "        request = robust_request(twitter,'friends/list', \n",
    "                                 {'screen_name': screen_name, 'count':200, 'cursor': cursor})\n",
    "        \n",
    "        if request == None:\n",
    "            return 0\n",
    "        \n",
    "        if request == -1 :    # Authentication error : Can't access follower data\n",
    "            return -1\n",
    "        elif request == -2:   # page does not exist error\n",
    "            return -2\n",
    "        \n",
    "        json_response = request.json()\n",
    "        \n",
    "        # Get 200 friends from json_response\n",
    "        for friend in json_response['users']:\n",
    "                #friends.append(friend['screen_name']) -- to_remove\n",
    "                friends[friend['screen_name']] = friend['description']\n",
    "                key = key + 1\n",
    "                \n",
    "        # If user has < 200 friends or to retrieve last friends followers\n",
    "        if json_response[\"next_cursor\"] == 0:\n",
    "            break\n",
    "        \n",
    "        # Update cursor to get next 200 friends\n",
    "        cursor = json_response[\"next_cursor\"]\n",
    "        print \"Collected %d friends for %s\" % (key,screen_name)\n",
    "    print \"Returning --- %d friends for %s\" % (key,screen_name)\n",
    "    return friends"
   ]
  },
  {
   "cell_type": "code",
   "execution_count": null,
   "metadata": {
    "collapsed": false,
    "scrolled": false
   },
   "outputs": [],
   "source": [
    "friends_of_iit_followers = { x : get_friends(x) for x in iit_followers}"
   ]
  },
  {
   "cell_type": "code",
   "execution_count": 24,
   "metadata": {
    "collapsed": true,
    "scrolled": false
   },
   "outputs": [],
   "source": [
    "def get_friends_and_pickle_object(univ_followers, univ_name):\n",
    "    \"\"\" Calls get_friends() to collect all friends of a Twitter account\n",
    "        and then saves it by pickling.\n",
    "    \n",
    "    Args: A list of strings representing the screen_names of all followers of a university,\n",
    "          A string representing the university's name.\n",
    "          \n",
    "    Returns : A dictionary of { String , [List] } pairs,\n",
    "              where String is a university follower's screen_name\n",
    "              and List is a list of screen_names of their friends\n",
    "    \"\"\"\n",
    "    friends_of_univ_followers = {}\n",
    "    for follower in univ_followers:\n",
    "        friends = get_friends(follower)\n",
    "        friends_of_univ_followers[follower] = friends\n",
    "        fileObject = open(\"raw_data/friends_of_\" + univ_name + \"_followers\",'wb')\n",
    "        pickle.dump(friends_of_univ_followers,fileObject)\n",
    "        fileObject.close()\n",
    "    return friends_of_univ_followers"
   ]
  },
  {
   "cell_type": "code",
   "execution_count": null,
   "metadata": {
    "collapsed": false,
    "scrolled": false
   },
   "outputs": [],
   "source": [
    "get_friends_and_pickle_object(iit_followers,\"iit\")"
   ]
  },
  {
   "cell_type": "code",
   "execution_count": 16,
   "metadata": {
    "collapsed": false,
    "scrolled": true
   },
   "outputs": [
    {
     "name": "stdout",
     "output_type": "stream",
     "text": [
      "4717\n"
     ]
    }
   ],
   "source": [
    "for idx,follower in enumerate(iit_followers):\n",
    "    if \"nancyzhang2\" in follower:\n",
    "        print idx"
   ]
  },
  {
   "cell_type": "code",
   "execution_count": 21,
   "metadata": {
    "collapsed": false,
    "scrolled": false
   },
   "outputs": [],
   "source": [
    "iit_followers_2 =  list(iit_followers)[1548:]"
   ]
  },
  {
   "cell_type": "code",
   "execution_count": 25,
   "metadata": {
    "collapsed": false,
    "scrolled": false
   },
   "outputs": [],
   "source": [
    "#Need to be executed for second half split_pickle\n",
    "def get_friend_ids(screen_name):\n",
    "    \"\"\" Return a dictionary of users that are friends of this person on Twitter.\n",
    "    \n",
    "    Args:\n",
    "        screen_name: a string of a Twitter screen name\n",
    "    Returns:\n",
    "        A list of ids per friend of the given account.\n",
    "    \"\"\"\n",
    "    friends = []\n",
    "    cursor = -1\n",
    "    key = 0\n",
    "    while True:\n",
    "        request = robust_request(twitter,'friends/ids', \n",
    "                                 {'screen_name': screen_name, 'count':5000, 'cursor': cursor})\n",
    "        \n",
    "        if request == None:\n",
    "            return 0\n",
    "        elif request == -1 :    # Authentication error : Can't access follower data\n",
    "            return -1\n",
    "        elif request == -2:   # Page does not exist error\n",
    "            return -2\n",
    "        \n",
    "        json_response = request.json()\n",
    "        \n",
    "        # Get 5000 friends from json_response\n",
    "        for friend_id in json_response['ids']:\n",
    "            friends.append(friend_id)\n",
    "        key = key + len(friends)\n",
    "        \n",
    "        # If user has < 200 friends or to retrieve last friends followers\n",
    "        if json_response[\"next_cursor\"] == 0:\n",
    "            break\n",
    "        \n",
    "        # if user has > 50,000 friends, returning error code : -3\n",
    "        if key > 50000 - 1:\n",
    "            print \"Found more than 50,000 friends. Returning error code = -3\"\n",
    "            return -3\n",
    "            \n",
    "        # Update cursor to get next 200 friends\n",
    "        cursor = json_response[\"next_cursor\"]\n",
    "        print \"Collected %d friends for %s\" % (key,screen_name)\n",
    "    print \"Returning --- %d friends for %s\" % (key,screen_name)\n",
    "    return friends"
   ]
  },
  {
   "cell_type": "code",
   "execution_count": 11,
   "metadata": {
    "collapsed": true,
    "scrolled": false
   },
   "outputs": [],
   "source": [
    "#Need to be executed for second half split_pickle\n",
    "def get_friend_ids_and_pickle_object(univ_followers, univ_name, split_pickle = False):\n",
    "    \"\"\" Calls get_friends() to collect all friends of a Twitter account\n",
    "        and then saves it by pickling.\n",
    "    \n",
    "    Args: A list of strings representing the screen_names of all followers of a university,\n",
    "          A string representing the university's name.\n",
    "          A boolean indicating whether to split the pickling method for each follower.\n",
    "          \n",
    "    Returns : A dictionary of { String , [List] } pairs,\n",
    "              where String is a university follower's screen_name\n",
    "              and List is a list of screen_names of their friends\n",
    "    \"\"\"\n",
    "    friends_of_univ_followers = {}\n",
    "    for follower in univ_followers:\n",
    "        friends = get_friend_ids(follower)\n",
    "        friends_of_univ_followers[follower] = friends\n",
    "        \n",
    "        if split_pickle == True:\n",
    "            fileObject = open(\"raw_data/friend_ids_of_\" + univ_name + \"_\" + follower\n",
    "                              + \"_followers\",'wb')\n",
    "        else:\n",
    "            fileObject = open(\"raw_data/friend_ids_of_\" + univ_name + \"_followers\",'wb')\n",
    "        pickle.dump(friends_of_univ_followers,fileObject)\n",
    "        fileObject.close()\n",
    "        \n",
    "        if split_pickle == True:\n",
    "            friends_of_univ_followers.clear()\n",
    "        \n",
    "    return friends_of_univ_followers"
   ]
  },
  {
   "cell_type": "code",
   "execution_count": null,
   "metadata": {
    "collapsed": false,
    "scrolled": false
   },
   "outputs": [],
   "source": [
    "get_friend_ids_and_pickle_object(iit_followers_2,\"iit2\")"
   ]
  },
  {
   "cell_type": "code",
   "execution_count": 11,
   "metadata": {
    "collapsed": false,
    "scrolled": false
   },
   "outputs": [
    {
     "name": "stdout",
     "output_type": "stream",
     "text": [
      "3788\n"
     ]
    }
   ],
   "source": [
    "iit_followers_3 =  list(iit_followers)[2777:]\n",
    "print len(iit_followers_3)"
   ]
  },
  {
   "cell_type": "code",
   "execution_count": null,
   "metadata": {
    "collapsed": false,
    "scrolled": false
   },
   "outputs": [],
   "source": [
    "get_friend_ids_and_pickle_object(iit_followers_3,\"iit3\")"
   ]
  },
  {
   "cell_type": "code",
   "execution_count": 17,
   "metadata": {
    "collapsed": true,
    "scrolled": false
   },
   "outputs": [],
   "source": [
    "iit_followers_4 =  list(iit_followers)[4717:]"
   ]
  },
  {
   "cell_type": "code",
   "execution_count": null,
   "metadata": {
    "collapsed": false,
    "scrolled": false
   },
   "outputs": [],
   "source": [
    "get_friend_ids_and_pickle_object(iit_followers_4,\"iit4\")"
   ]
  },
  {
   "cell_type": "markdown",
   "metadata": {
    "collapsed": true
   },
   "source": [
    "#Collecting data for North Western University"
   ]
  },
  {
   "cell_type": "code",
   "execution_count": 26,
   "metadata": {
    "collapsed": true,
    "scrolled": false
   },
   "outputs": [],
   "source": [
    "def get_followers_and_robust_pickle(screen_name):\n",
    "    \"\"\" \n",
    "    Retrieves and pickles a dictionary of dictionary, \n",
    "        one per follower containing { follower_screen_name: {follower_object} } pairs.\n",
    "        Pickles by splitting to a different file every 1000 followers\n",
    "        \n",
    "    Args:\n",
    "        screen_name: a string of a Twitter screen name\n",
    "           \n",
    "    Note: Many users follow more than 200 accounts; we will return those accounts too.\n",
    "    \"\"\"\n",
    "    followers = {}\n",
    "    cursor = -1\n",
    "    key = 0\n",
    "    while True:\n",
    "        request = robust_request(twitter,'followers/list', \n",
    "                                 {'screen_name': screen_name, 'count':200, 'cursor': cursor})\n",
    "        json_response = request.json()\n",
    "        \n",
    "        # Get 200 followers from json_response\n",
    "        for follower in json_response['users']:\n",
    "                followers[follower['screen_name']] = follower\n",
    "                key = key + 1\n",
    "                \n",
    "        # If user has < 200 followers or to retrieve last 200 followers\n",
    "        if json_response[\"next_cursor\"] == 0:\n",
    "            break\n",
    "            \n",
    "        # Update cursor to get next 200 followers\n",
    "        cursor = json_response[\"next_cursor\"]\n",
    "        \n",
    "        # Pickling followers after 1000 followers and clearing followers\n",
    "        if key % 1000 == 0:\n",
    "            fileObject = open(\"raw_data/\" + screen_name + str(key),'wb')\n",
    "            pickle.dump(followers,fileObject)\n",
    "            fileObject.close()\n",
    "            followers = {}\n",
    "            print \"Pickling %d followers and clearing followers object\" % key\n",
    "        \n",
    "        print \"Collected %d followers\" % key\n",
    "    \n",
    "    # Checking if followers is not empty\n",
    "    if bool(followers) != False:\n",
    "        fileObject = open(\"raw_data/\" + screen_name + str(key+1),'wb')\n",
    "        pickle.dump(followers,fileObject)\n",
    "        fileObject.close()\n",
    "        followers = {}\n",
    "        print \"Pickling %d followers and clearing followers object\" % key"
   ]
  },
  {
   "cell_type": "code",
   "execution_count": null,
   "metadata": {
    "collapsed": false,
    "scrolled": false
   },
   "outputs": [],
   "source": [
    "# Getting North Western University Career services followers and pickling them\n",
    "NUCareerAdvance_followers = get_followers_and_robust_pickle('NUCareerAdvance')"
   ]
  },
  {
   "cell_type": "code",
   "execution_count": null,
   "metadata": {
    "collapsed": false,
    "scrolled": false
   },
   "outputs": [],
   "source": [
    "# Getting North Western University Alumni followers and pickling them\n",
    "nualumni_followers = get_followers_and_robust_pickle('nualumni')"
   ]
  },
  {
   "cell_type": "code",
   "execution_count": null,
   "metadata": {
    "collapsed": false,
    "scrolled": false
   },
   "outputs": [],
   "source": [
    "# Getting North Western University followers and pickling them\n",
    "NorthwesternU_followers = get_followers_and_robust_pickle('NorthwesternU')"
   ]
  },
  {
   "cell_type": "code",
   "execution_count": null,
   "metadata": {
    "collapsed": false,
    "scrolled": false
   },
   "outputs": [],
   "source": [
    "def get_filenames(account_name, path = 'raw_data'):\n",
    "    \"\"\" Calls get_friends() to collect all friends of a Twitter account\n",
    "        and then saves it by pickling.\n",
    "    \n",
    "    Args: Path; which represents the sub directory to search for.\n",
    "          Account_name; which represents the file names to be searched for against an account' screen_name.\n",
    "          \n",
    "    Returns : A list of filenames associated with an account\n",
    "    \"\"\"\n",
    "    files = os.listdir(path)\n",
    "    file_names = []\n",
    "    for file_name in files:\n",
    "        if account_name in file_name:\n",
    "            file_names.append(file_name)\n",
    "    return file_names\n",
    "\n",
    "print get_filenames('friend_ids_of_nu',path=\"raw_data/nu_data/\")"
   ]
  },
  {
   "cell_type": "code",
   "execution_count": 44,
   "metadata": {
    "collapsed": true,
    "scrolled": false
   },
   "outputs": [],
   "source": [
    "def aggregate_data(account_name,path = \"raw_data/\"):\n",
    "    \"\"\"\n",
    "    Collect data from different pickled objects related to an account\n",
    "    and aggregate them to another pickle\n",
    "    \n",
    "    Args: account_name; a string representing the screen_name of the account which we want to aggregate.\n",
    "    \"\"\"\n",
    "    aggregated_followers = {}\n",
    "    files = get_filenames(account_name,path)\n",
    "    for file_name in files:\n",
    "        old_followers = get_followers_from_pickle(file_name,path)\n",
    "        aggregated_followers.update(old_followers)\n",
    "    \n",
    "    fileObject = open(path + account_name,'wb')\n",
    "    pickle.dump(aggregated_followers,fileObject)\n",
    "    fileObject.close()"
   ]
  },
  {
   "cell_type": "code",
   "execution_count": 30,
   "metadata": {
    "collapsed": false,
    "scrolled": false
   },
   "outputs": [],
   "source": [
    "aggregate_data('NorthwesternU')"
   ]
  },
  {
   "cell_type": "code",
   "execution_count": 22,
   "metadata": {
    "collapsed": true,
    "scrolled": false
   },
   "outputs": [],
   "source": [
    "aggregate_data('friend_ids_of_iit')"
   ]
  },
  {
   "cell_type": "code",
   "execution_count": null,
   "metadata": {
    "collapsed": false,
    "scrolled": false
   },
   "outputs": [],
   "source": [
    "aggregate_data('friend_ids_of_nu',path=\"raw_data/nu_data/\")"
   ]
  },
  {
   "cell_type": "code",
   "execution_count": 31,
   "metadata": {
    "collapsed": true,
    "scrolled": false
   },
   "outputs": [],
   "source": [
    "aggregate_data('nualumni')"
   ]
  },
  {
   "cell_type": "code",
   "execution_count": 32,
   "metadata": {
    "collapsed": true,
    "scrolled": false
   },
   "outputs": [],
   "source": [
    "aggregate_data('NUCareerAdvance')"
   ]
  },
  {
   "cell_type": "code",
   "execution_count": 33,
   "metadata": {
    "collapsed": false,
    "scrolled": false
   },
   "outputs": [
    {
     "name": "stdout",
     "output_type": "stream",
     "text": [
      "Found 31999 followers for Northwestern University\n"
     ]
    }
   ],
   "source": [
    "nu_univ_followers = get_followers_from_pickle('NorthwesternU')\n",
    "print \"Found %d followers for Northwestern University\" %len(nu_univ_followers.keys())"
   ]
  },
  {
   "cell_type": "code",
   "execution_count": 34,
   "metadata": {
    "collapsed": false,
    "scrolled": false
   },
   "outputs": [
    {
     "name": "stdout",
     "output_type": "stream",
     "text": [
      "Found 7816 followers for Northwestern University\n"
     ]
    }
   ],
   "source": [
    "nu_alumni_followers = get_followers_from_pickle('nualumni')\n",
    "print \"Found %d followers for Northwestern University\" %len(nu_alumni_followers.keys())"
   ]
  },
  {
   "cell_type": "code",
   "execution_count": 35,
   "metadata": {
    "collapsed": false,
    "scrolled": false
   },
   "outputs": [
    {
     "name": "stdout",
     "output_type": "stream",
     "text": [
      "Found 3738 followers for Northwestern University\n"
     ]
    }
   ],
   "source": [
    "nu_career_followers = get_followers_from_pickle('NUCareerAdvance')\n",
    "print \"Found %d followers for Northwestern University\" %len(nu_career_followers.keys())"
   ]
  },
  {
   "cell_type": "code",
   "execution_count": 49,
   "metadata": {
    "collapsed": false,
    "scrolled": false
   },
   "outputs": [
    {
     "name": "stdout",
     "output_type": "stream",
     "text": [
      "Found 35984 unique accounts from 43553 accounts \n"
     ]
    }
   ],
   "source": [
    "nu_followers = sorted(get_all_screen_names(nu_univ_followers,nu_alumni_followers,nu_career_followers))\n",
    "print \"Found %d unique accounts from %d accounts \" %(len(nu_followers), \n",
    "            (len(nu_univ_followers)+len(nu_alumni_followers)+len(nu_career_followers)))"
   ]
  },
  {
   "cell_type": "code",
   "execution_count": 52,
   "metadata": {
    "collapsed": true,
    "scrolled": false
   },
   "outputs": [],
   "source": [
    "# Pickling nu_followers as a SORTED LIST for future calculations.\n",
    "fileObject = open(\"processed_data/nu_followers\",'wb')\n",
    "pickle.dump(nu_followers,fileObject)\n",
    "fileObject.close()"
   ]
  },
  {
   "cell_type": "code",
   "execution_count": 14,
   "metadata": {
    "collapsed": true,
    "scrolled": false
   },
   "outputs": [],
   "source": [
    "# Loading nu_followers from pickle.\n",
    "fileObject = open(\"processed_data/nu_followers\",'r')\n",
    "nu_followers = pickle.load(fileObject)\n",
    "fileObject.close()"
   ]
  },
  {
   "cell_type": "markdown",
   "metadata": {},
   "source": [
    "### Splitting university followers into two lists. To reduce time in collecting future data ( their friend ids )."
   ]
  },
  {
   "cell_type": "code",
   "execution_count": 15,
   "metadata": {
    "collapsed": false,
    "scrolled": false
   },
   "outputs": [],
   "source": [
    "# Pickling first half of nu_followers for collecting their friend ids.\n",
    "fileObject = open(\"processed_data/nu_followers_first_half\",'wb')\n",
    "pickle.dump(nu_followers[:len(nu_followers)/2],fileObject)\n",
    "fileObject.close()"
   ]
  },
  {
   "cell_type": "code",
   "execution_count": 16,
   "metadata": {
    "collapsed": true,
    "scrolled": false
   },
   "outputs": [],
   "source": [
    "# Pickling second half of nu_followers for collecting their friend ids.\n",
    "fileObject = open(\"processed_data/nu_followers_second_half\",'wb')\n",
    "pickle.dump(nu_followers[len(nu_followers)/2:],fileObject)\n",
    "fileObject.close()"
   ]
  },
  {
   "cell_type": "code",
   "execution_count": 17,
   "metadata": {
    "collapsed": true,
    "scrolled": false
   },
   "outputs": [],
   "source": [
    "# Loading first half of nu_followers from pickle.\n",
    "fileObject = open(\"processed_data/nu_followers_first_half\",'r')\n",
    "nu_followers_1 = pickle.load(fileObject)\n",
    "fileObject.close()"
   ]
  },
  {
   "cell_type": "code",
   "execution_count": 18,
   "metadata": {
    "collapsed": true,
    "scrolled": false
   },
   "outputs": [],
   "source": [
    "# Loading second half of nu_followers from pickle.\n",
    "fileObject = open(\"processed_data/nu_followers_second_half\",'r')\n",
    "nu_followers_2 = pickle.load(fileObject)\n",
    "fileObject.close()"
   ]
  },
  {
   "cell_type": "code",
   "execution_count": null,
   "metadata": {
    "collapsed": false,
    "scrolled": false
   },
   "outputs": [],
   "source": [
    "# Collecting first half of nu_followers's friends' ids and pickling them separately\n",
    "get_friend_ids_and_pickle_object(nu_followers_1, 'nu', split_pickle = True)"
   ]
  },
  {
   "cell_type": "code",
   "execution_count": null,
   "metadata": {
    "collapsed": true,
    "scrolled": false
   },
   "outputs": [],
   "source": [
    "# Collecting second half of nu_followers's friends' ids and pickling them separately\n",
    "get_friend_ids_and_pickle_object(nu_followers_2, 'nu', split_pickle = True)"
   ]
  },
  {
   "cell_type": "code",
   "execution_count": 17,
   "metadata": {
    "collapsed": false,
    "scrolled": true
   },
   "outputs": [
    {
     "name": "stderr",
     "output_type": "stream",
     "text": [
      "Got error: {\"errors\":[{\"message\":\"Rate limit exceeded\",\"code\":88}]} \n",
      "sleeping for 15 minutes.\n"
     ]
    },
    {
     "name": "stdout",
     "output_type": "stream",
     "text": [
      "Returning --- 1295 friends for 005ia\n",
      "Returning --- 349 friends for 007MAV\n",
      "Returning --- 882 friends for 007kengom\n",
      "Returning --- 1964 friends for 0118mag3\n",
      "Returning --- 20 friends for 0179849769\n",
      "Returning --- 358 friends for 027_rmm\n",
      "Returning --- 13 friends for 0356614b71b34e8\n",
      "Returning --- 58 friends for 0599ab6909434a6\n",
      "Returning --- 470 friends for 06122234\n",
      "Returning --- 45 friends for 07_lauras\n",
      "Returning --- 549 friends for 0838621955\n",
      "Returning --- 599 friends for 08Warsono"
     ]
    },
    {
     "name": "stderr",
     "output_type": "stream",
     "text": [
      "Got error: {\"errors\":[{\"message\":\"Rate limit exceeded\",\"code\":88}]} \n",
      "sleeping for 15 minutes.\n"
     ]
    },
    {
     "name": "stdout",
     "output_type": "stream",
     "text": [
      "\n",
      "Returning --- 158 friends for 0g_shemma\n",
      "Returning --- 2007 friends for 1000Khalid\n",
      "Returning --- 2098 friends for 1000WattAlexa\n",
      "Returning --- 49 friends for 100101010100100\n",
      "Returning --- 2004 friends for 1001chicago\n",
      "Returning --- 151 friends for 100PERCENTHUTCH\n",
      "Returning --- 946 friends for 100acreCo\n",
      "Returning --- 832 friends for 100indecisions\n",
      "Returning --- 39 friends for 100noob1\n",
      "Returning --- 1913 friends for 101grads\n",
      "Returning --- 10 friends for 1090779968"
     ]
    },
    {
     "name": "stderr",
     "output_type": "stream",
     "text": [
      "Got error: {\"errors\":[{\"message\":\"Rate limit exceeded\",\"code\":88}]} \n",
      "sleeping for 15 minutes.\n"
     ]
    },
    {
     "name": "stdout",
     "output_type": "stream",
     "text": [
      "\n",
      "Returning --- 2797 friends for 10kcoffees\n",
      "Returning --- 570 friends for 10milehouse\n",
      "Returning --- 769 friends for 10swood\n",
      "Returning --- 49 friends for 111111111111ggg\n",
      "Returning --- 11 friends for 1158714021\n",
      "Returning --- 14 friends for 116276sophie\n",
      "Returning --- 829 friends for 11Betties\n",
      "Returning --- 108 friends for 11CoffeeShops\n",
      "Returning --- 532 friends for 11tenGroup\n",
      "Returning --- 167 friends for 1203sarahmiller\n",
      "Returning --- 46 friends for 1209tiara\n",
      "Returning --- 594 friends for 120tickets\n",
      "Returning --- 1943 friends for 12121887"
     ]
    },
    {
     "name": "stderr",
     "output_type": "stream",
     "text": [
      "Got error: {\"errors\":[{\"message\":\"Rate limit exceeded\",\"code\":88}]} \n",
      "sleeping for 15 minutes.\n"
     ]
    },
    {
     "name": "stdout",
     "output_type": "stream",
     "text": [
      "\n",
      "Returning --- 1975 friends for 1225OldTown\n",
      "Returning --- 67 friends for 1234abc567defg\n",
      "Returning --- 60 friends for 123breakLucas\n",
      "Returning --- 1987 friends for 123headshot\n",
      "Returning --- 1039 friends for 127_Cris\n",
      "Returning --- 362 friends for 12cahill\n",
      "Returning --- 60 friends for 12global\n",
      "Returning --- 42 friends for 12hfiohvrb\n",
      "Returning --- 1914 friends for 130UnionStreet\n",
      "Returning --- 240 friends for 1313Shayne\n",
      "Returning --- 15 friends for 134Baby1456\n",
      "Returning --- 238 friends for 13Eliasdcc\n",
      "Returning --- 860 friends for 13EliseDBrown"
     ]
    },
    {
     "name": "stderr",
     "output_type": "stream",
     "text": [
      "Got error: {\"errors\":[{\"message\":\"Rate limit exceeded\",\"code\":88}]} \n",
      "sleeping for 15 minutes.\n"
     ]
    },
    {
     "name": "stdout",
     "output_type": "stream",
     "text": [
      "\n",
      "Returning --- 301 friends for 13Jess97\n",
      "Collected 5000 friends for 13LaSalleBlanks\n",
      "Collected 15000 friends for 13LaSalleBlanks\n",
      "Returning --- 26208 friends for 13LaSalleBlanks\n",
      "Returning --- 1212 friends for 13LauraGeller\n",
      "Returning --- 607 friends for 13Missm\n",
      "Returning --- 46 friends for 13_nakarigreen\n",
      "Returning --- 72 friends for 140notenough\n",
      "Returning --- 41 friends for 1432fifthharmo1\n",
      "Returning --- 224 friends for 14ConnorD\n",
      "Returning --- 581 friends for 14krueva\n",
      "Returning --- 77 friends for 14shamar16\n",
      "Returning --- 80 friends for 1501GateM"
     ]
    },
    {
     "name": "stderr",
     "output_type": "stream",
     "text": [
      "Got error: {\"errors\":[{\"message\":\"Rate limit exceeded\",\"code\":88}]} \n",
      "sleeping for 15 minutes.\n"
     ]
    },
    {
     "name": "stdout",
     "output_type": "stream",
     "text": [
      "\n",
      "Returning --- 129 friends for 151ZachariasL\n",
      "Returning --- 14 friends for 1538958925\n",
      "Returning --- 938 friends for 15441247\n",
      "Returning --- 1470 friends for 15CHICITYBOI15\n",
      "Returning --- 19 friends for 1616Viola\n",
      "Returning --- 40 friends for 165pachecoc1\n",
      "Returning --- 11 friends for 16ehanna\n",
      "Returning --- 192 friends for 18023930877Eric\n",
      "Returning --- 96 friends for 1812Party\n",
      "Returning --- 1092 friends for 1835Hinman\n",
      "Returning --- 40 friends for 1847544d\n",
      "Returning --- 131 friends for 185red\n",
      "Returning --- 42 friends for 186383_GBS\n",
      "Returning --- 23 friends for 186684MG"
     ]
    },
    {
     "name": "stderr",
     "output_type": "stream",
     "text": [
      "Got error: {\"errors\":[{\"message\":\"Rate limit exceeded\",\"code\":88}]} \n",
      "sleeping for 15 minutes.\n"
     ]
    },
    {
     "name": "stdout",
     "output_type": "stream",
     "text": [
      "\n",
      "Returning --- 40 friends for 186695Margaret\n",
      "Returning --- 17 friends for 196880N\n",
      "Returning --- 40 friends for 1981_jenjen\n",
      "Returning --- 851 friends for 19BLACKMAN81\n",
      "Returning --- 198 friends for 19cheeky_one97\n",
      "Returning --- 61 friends for 19shatan\n",
      "Returning --- 170 friends for 19thailon\n",
      "Returning --- 779 friends for 1CollegeAdvice\n",
      "Returning --- 51 friends for 1DegreeChicago\n",
      "Returning --- 2023 friends for 1ExecutiveCoach\n",
      "Returning --- 971 friends for 1GoalBlackhawks"
     ]
    },
    {
     "name": "stderr",
     "output_type": "stream",
     "text": [
      "Got error: {\"errors\":[{\"message\":\"Rate limit exceeded\",\"code\":88}]} \n",
      "sleeping for 15 minutes.\n"
     ]
    },
    {
     "name": "stdout",
     "output_type": "stream",
     "text": [
      "\n",
      "Returning --- 502 friends for 1Mariamshaba\n",
      "Returning --- 237 friends for 1MatthewStock\n",
      "Returning --- 1060 friends for 1MundoFascinant\n",
      "Returning --- 555 friends for 1NicFer\n",
      "Returning --- 14 friends for 1POLANDKIM\n",
      "Returning --- 559 friends for 1Priest16\n",
      "Returning --- 18 friends for 1Rankster\n",
      "Returning --- 1535 friends for 1RepublicTruth\n",
      "Returning --- 344 friends for 1SocPren\n",
      "Returning --- 99 friends for 1_ADEN\n",
      "Returning --- 125 friends for 1_Rydecom\n",
      "Returning --- 680 friends for 1andonlyMelissa\n",
      "Returning --- 798 friends for 1archbishop\n",
      "Returning --- 1216 friends for 1book1chicago\n",
      "Returning --- 44 friends for 1dbelieber4evr"
     ]
    },
    {
     "name": "stderr",
     "output_type": "stream",
     "text": [
      "Got error: {\"errors\":[{\"message\":\"Rate limit exceeded\",\"code\":88}]} \n",
      "sleeping for 15 minutes.\n"
     ]
    },
    {
     "name": "stdout",
     "output_type": "stream",
     "text": [
      "\n",
      "Returning --- 41 friends for 1degreerealty\n",
      "Returning --- 1316 friends for 1energyPortal\n",
      "Returning --- 450 friends for 1footdown2\n",
      "Returning --- 137 friends for 1funizzy\n",
      "Returning --- 1491 friends for 1g_ntlewomanp\n",
      "Returning --- 2645 friends for 1hopeunited\n",
      "Returning --- 881 friends for 1hopeunitedkate\n",
      "Returning --- 30 friends for 1iz1ee\n",
      "Returning --- 1031 friends for 1jamoreoconsult\n",
      "Returning --- 50 friends for 1longfamily\n",
      "Returning --- 583 friends for 1lrussell\n",
      "Returning --- 738 friends for 1mhmd\n",
      "Returning --- 15 friends for 1mudshark\n",
      "Returning --- 1147 friends for 1museumjobaday\n",
      "Returning --- 39 friends for 1purplesparkle"
     ]
    },
    {
     "name": "stderr",
     "output_type": "stream",
     "text": [
      "Got error: {\"errors\":[{\"message\":\"Rate limit exceeded\",\"code\":88}]} \n",
      "sleeping for 15 minutes.\n"
     ]
    },
    {
     "name": "stdout",
     "output_type": "stream",
     "text": [
      "\n",
      "Returning --- 96 friends for 1roshniii\n",
      "Returning --- 45 friends for 1salbo\n",
      "Returning --- 78 friends for 1sexycrafter\n",
      "Returning --- 267 friends for 1shortbody8\n",
      "Returning --- 315 friends for 1stChurchEvanst\n",
      "Returning --- 22 friends for 1stPresEvanston\n",
      "Returning --- 1997 friends for 1stYRSuccess\n",
      "Returning --- 17 friends for 1stofficerolive\n",
      "Returning --- 314 friends for 1tsBabs\n",
      "Returning --- 76 friends for 1vaa_teyah\n",
      "Returning --- 6 friends for 2007McCarthy\n",
      "Returning --- 63 friends for 2013ChicagoFest\n",
      "Returning --- 49 friends for 2013NU\n",
      "Returning --- 1792 friends for 2014TechGirl"
     ]
    },
    {
     "name": "stderr",
     "output_type": "stream",
     "text": [
      "Got error: {\"errors\":[{\"message\":\"Rate limit exceeded\",\"code\":88}]} \n",
      "sleeping for 15 minutes.\n"
     ]
    },
    {
     "name": "stdout",
     "output_type": "stream",
     "text": [
      "\n",
      "Returning --- 61 friends for 20150285C\n",
      "Returning --- 40 friends for 20150386Carol\n",
      "Returning --- 15 friends for 2016sidney\n",
      "Returning --- 1233 friends for 2020_EHR\n",
      "Returning --- 2775 friends for 2020_News\n",
      "Returning --- 19 friends for 20211842632\n",
      "Returning --- 38 friends for 20harvey0154\n",
      "Returning --- 327 friends for 20somethingtalk\n",
      "Returning --- 268 friends for 20yyaa15\n",
      "Returning --- 530 friends for 212agmayank\n",
      "Returning --- 1627 friends for 21FrankS"
     ]
    },
    {
     "name": "stderr",
     "output_type": "stream",
     "text": [
      "Got error: {\"errors\":[{\"message\":\"Rate limit exceeded\",\"code\":88}]} \n",
      "sleeping for 15 minutes.\n"
     ]
    },
    {
     "name": "stdout",
     "output_type": "stream",
     "text": [
      "\n",
      "Returning --- 97 friends for 21MaricelaV\n",
      "Returning --- 93 friends for 21NYXXX\n",
      "Returning --- 113 friends for 21gabriel\n",
      "Returning --- 153 friends for 2286ce1816a74cb\n",
      "Returning --- 104 friends for 22Albrecht\n",
      "Returning --- 156 friends for 2321a7476a89497\n",
      "Returning --- 31 friends for 2324parkwest\n",
      "Returning --- 52 friends for 23BballMom\n",
      "Returning --- 308 friends for 23_JESSICA_23\n",
      "Returning --- 603 friends for 24hoursplusW\n",
      "Returning --- 14 friends for 253TH\n",
      "Returning --- 672 friends for 253_Christie"
     ]
    },
    {
     "name": "stderr",
     "output_type": "stream",
     "text": [
      "Got error: {\"errors\":[{\"message\":\"Rate limit exceeded\",\"code\":88}]} \n",
      "sleeping for 15 minutes.\n"
     ]
    },
    {
     "name": "stdout",
     "output_type": "stream",
     "text": [
      "\n",
      "Returning --- 100 friends for 27Latitude\n",
      "Returning --- 269 friends for 27LiveEvanston\n",
      "Returning --- 109 friends for 2854music\n",
      "Returning --- 808 friends for 29senators\n",
      "Returning --- 250 friends for 2Mcsheap\n",
      "Returning --- 39 friends for 2N3zFB7XzTIvVZD\n",
      "Returning --- 919 friends for 2Uinc\n",
      "Returning --- 40 friends for 2awesome4uLlama\n",
      "Returning --- 126 friends for 2coldg\n",
      "Returning --- 210 friends for 2ens2ars\n",
      "Returning --- 498 friends for 2guysfootball\n",
      "Returning --- 203 friends for 2inspireus\n",
      "Returning --- 1978 friends for 2ndMileMkt\n",
      "Returning --- 181 friends for 2ndPresChicago"
     ]
    },
    {
     "name": "stderr",
     "output_type": "stream",
     "text": [
      "Got error: {\"errors\":[{\"message\":\"Rate limit exceeded\",\"code\":88}]} \n",
      "sleeping for 15 minutes.\n"
     ]
    },
    {
     "name": "stdout",
     "output_type": "stream",
     "text": [
      "\n",
      "Returning --- 22 friends for 2ndfloorallison\n",
      "Returning --- 130 friends for 2riseAboveitAll\n",
      "Returning --- 190 friends for 2studentbodies\n",
      "Returning --- 638 friends for 2treemundelein\n",
      "Returning --- 761 friends for 2young2poor\n",
      "Returning --- 25 friends for 3012154\n",
      "Returning --- 210 friends for 30before30\n",
      "Returning --- 38 friends for 312Living\n",
      "Returning --- 756 friends for 313arch\n",
      "Returning --- 76 friends for 321kzheng\n",
      "Returning --- 531 friends for 330ThunderRoad\n",
      "Returning --- 7 friends for 345rt"
     ]
    },
    {
     "name": "stderr",
     "output_type": "stream",
     "text": [
      "Got error: {\"errors\":[{\"message\":\"Rate limit exceeded\",\"code\":88}]} \n",
      "sleeping for 15 minutes.\n"
     ]
    },
    {
     "name": "stdout",
     "output_type": "stream",
     "text": [
      "\n",
      "Returning --- 174 friends for 34melmel\n",
      "Returning --- 103 friends for 36f9297b7d9d40a\n",
      "Returning --- 173 friends for 3Alz3abi\n",
      "Returning --- 70 friends for 3Ceuribe\n",
      "Returning --- 302 friends for 3Cipeople\n",
      "Returning --- 889 friends for 3ColtonW\n",
      "Returning --- 1986 friends for 3DPolymers\n",
      "Returning --- 28 friends for 3Orange_Whips\n",
      "Returning --- 219 friends for 3RedTrading\n",
      "Returning --- 970 friends for 3SheepsBrewing\n",
      "Returning --- 1531 friends for 3_camm\n",
      "Returning --- 99 friends for 3ab2fa09d47b415\n",
      "Returning --- 996 friends for 3dcampustours"
     ]
    },
    {
     "name": "stderr",
     "output_type": "stream",
     "text": [
      "Got error: {\"errors\":[{\"message\":\"Rate limit exceeded\",\"code\":88}]} \n",
      "sleeping for 15 minutes.\n"
     ]
    },
    {
     "name": "stdout",
     "output_type": "stream",
     "text": [
      "\n",
      "Collected 5000 friends for 3dprgirl\n",
      "Collected 15000 friends for 3dprgirl\n",
      "Collected 30000 friends for 3dprgirl\n",
      "Found more than 50,000 friends. Returning error code = -3\n",
      "Returning --- 571 friends for 3loyaGamal\n",
      "Returning --- 794 friends for 3vanfr0st\n",
      "Returning --- 1246 friends for 40RC\n",
      "Returning --- 200 friends for 415PremierApt\n",
      "Returning --- 1820 friends for 43Stories\n",
      "Returning --- 204 friends for 4406Magnolia"
     ]
    },
    {
     "name": "stderr",
     "output_type": "stream",
     "text": [
      "Got error: {\"errors\":[{\"message\":\"Rate limit exceeded\",\"code\":88}]} \n",
      "sleeping for 15 minutes.\n"
     ]
    },
    {
     "name": "stdout",
     "output_type": "stream",
     "text": [
      "\n",
      "Returning --- 25 friends for 453358559\n",
      "Returning --- 14 friends for 482_010\n",
      "Returning --- 174 friends for 4AsChicago\n",
      "Returning --- 12 friends for 4everemilyoung\n",
      "Returning --- 460 friends for 4lexBrooks\n",
      "Returning --- 125 friends for 4merbanker\n",
      "Returning --- 1952 friends for 4nutritiondata\n",
      "Returning --- 1804 friends for 4rejuvenation\n",
      "Returning --- 2005 friends for 4ritahernandez\n",
      "Returning --- 332 friends for 4sqOnCampus\n",
      "Returning --- 15 friends for 4thFloorTroll\n",
      "Returning --- 456 friends for 4vever29inDC\n",
      "Returning --- 72 friends for 4yuser\n",
      "Returning --- 568 friends for 500LakeShore\n",
      "Returning --- 136 friends for 50Shades0fGreen"
     ]
    },
    {
     "name": "stderr",
     "output_type": "stream",
     "text": [
      "Got error: {\"errors\":[{\"message\":\"Rate limit exceeded\",\"code\":88}]} \n",
      "sleeping for 15 minutes.\n"
     ]
    },
    {
     "name": "stdout",
     "output_type": "stream",
     "text": [
      "\n",
      "Returning --- 138 friends for 50ShadesOfLab\n",
      "Returning --- 509 friends for 50shadesoftayv\n",
      "Returning --- 245 friends for 51UStudy\n",
      "Returning --- 267 friends for 5280_Clover\n",
      "Returning --- 194 friends for 5504dcb342f9469\n",
      "Returning --- 546 friends for 55OnTheTackle\n",
      "Returning --- 41 friends for 57Bean\n",
      "Returning --- 1230 friends for 5KSuitRun\n",
      "Returning --- 170 friends for 5NicoleSmile\n",
      "Returning --- 46 friends for 5Q2014\n",
      "Returning --- 41 friends for 5SOShawnMendes\n",
      "Returning --- 1728 friends for 5_STAR_MOVERS\n",
      "Returning --- 35 friends for 5c3\n",
      "Returning --- 720 friends for 5d9c857ee9d4407\n",
      "Returning --- 431 friends for 5daysaweek"
     ]
    },
    {
     "name": "stderr",
     "output_type": "stream",
     "text": [
      "Got error: {\"errors\":[{\"message\":\"Rate limit exceeded\",\"code\":88}]} \n",
      "sleeping for 15 minutes.\n"
     ]
    },
    {
     "name": "stdout",
     "output_type": "stream",
     "text": [
      "\n",
      "Returning --- 74 friends for 5dorans\n",
      "Returning --- 41 friends for 5h1432fifth\n",
      "Returning --- 1925 friends for 5hrini\n",
      "Returning --- 195 friends for 5secondsoflili\n",
      "Returning --- 40 friends for 5sosvotingdana\n",
      "Returning --- 40 friends for 5sosvotingdana2\n",
      "Returning --- 1929 friends for 5thcircleNferno\n",
      "Returning --- 1232 friends for 600DavisSt\n",
      "Returning --- 31 friends for 60137c2d7a7d48a\n",
      "Returning --- 8 friends for 60440College201\n",
      "Returning --- 42 friends for 61658ey\n",
      "Returning --- 64 friends for 63Silks\n",
      "Returning --- 413 friends for 63rdLegend\n",
      "Collected 5000 friends for 6BillionPeople\n",
      "Collected 15000 friends for 6BillionPeople"
     ]
    },
    {
     "name": "stderr",
     "output_type": "stream",
     "text": [
      "Got error: {\"errors\":[{\"message\":\"Rate limit exceeded\",\"code\":88}]} \n",
      "sleeping for 15 minutes.\n"
     ]
    },
    {
     "name": "stdout",
     "output_type": "stream",
     "text": [
      "\n",
      "Collected 30000 friends for 6BillionPeople\n",
      "Found more than 50,000 friends. Returning error code = -3\n",
      "Returning --- 139 friends for 6a6a8ba985de40e\n",
      "Returning --- 1194 friends for 6e3studio\n",
      "Returning --- 458 friends for 6footarnold\n",
      "Returning --- 3554 friends for 6parmak0kan\n",
      "Returning --- 24 friends for 71dickensWard\n",
      "Returning --- 22 friends for 72_cabrera\n",
      "Returning --- 92 friends for 730NoyesK3\n",
      "Returning --- 89 friends for 775951545\n",
      "Returning --- 65 friends for 79bucs\n",
      "Returning --- 171 friends for 7ElevenChicago"
     ]
    },
    {
     "name": "stderr",
     "output_type": "stream",
     "text": [
      "Got error: {\"errors\":[{\"message\":\"Rate limit exceeded\",\"code\":88}]} \n",
      "sleeping for 15 minutes.\n"
     ]
    },
    {
     "name": "stdout",
     "output_type": "stream",
     "text": [
      "\n",
      "Returning --- 719 friends for 7Foot32ACT\n",
      "Returning --- 330 friends for 7HillsCollege\n",
      "Returning --- 44 friends for 7Pm3c5Q6s1R4O2z\n",
      "Returning --- 40 friends for 7V7news\n",
      "Returning --- 239 friends for 7billJOBS\n",
      "Returning --- 821 friends for 7steps1job\n",
      "Returning --- 1973 friends for 80e21a7f6103488\n",
      "Returning --- 45 friends for 821767929Sun\n",
      "Returning --- 39 friends for 847Jeans\n",
      "Returning --- 200 friends for 847_293\n",
      "Returning --- 698 friends for 870c5162921f471\n",
      "Returning --- 765 friends for 872LawObama\n",
      "Returning --- 2279 friends for 89Robotics"
     ]
    },
    {
     "name": "stderr",
     "output_type": "stream",
     "text": [
      "Got error: {\"errors\":[{\"message\":\"Rate limit exceeded\",\"code\":88}]} \n",
      "sleeping for 15 minutes.\n"
     ]
    },
    {
     "name": "stdout",
     "output_type": "stream",
     "text": [
      "\n",
      "Returning --- 1572 friends for 89ecarrasco\n",
      "Returning --- 80 friends for 8poppies\n",
      "Returning --- 1276 friends for 904happyhour\n",
      "Returning --- 953 friends for 906UP\n",
      "Returning --- 24 friends for 907442974b7b41c\n",
      "Returning --- 1997 friends for 90sBABY4LIFE94\n",
      "Returning --- 1221 friends for 911Cellular\n",
      "Returning --- 1220 friends for 94OLD_SOUL94\n",
      "Returning --- 39 friends for 94u52093589\n",
      "Returning --- 1885 friends for 96Aahmmaadd\n",
      "Returning --- 138 friends for 99d92425410b4fd\n",
      "Returning --- 862 friends for 9RoundEvanston\n",
      "Returning --- 50 friends for A1863W"
     ]
    },
    {
     "name": "stderr",
     "output_type": "stream",
     "text": [
      "Got error: {\"errors\":[{\"message\":\"Rate limit exceeded\",\"code\":88}]} \n",
      "sleeping for 15 minutes.\n"
     ]
    },
    {
     "name": "stdout",
     "output_type": "stream",
     "text": [
      "\n",
      "Returning --- 139 friends for A1Kopa\n",
      "Returning --- 785 friends for A4B4R8\n",
      "Returning --- 4435 friends for A4GL\n",
      "Returning --- 1682 friends for A4iti\n",
      "Returning --- 398 friends for AAACouncil\n",
      "Returning --- 846 friends for AAASFellowships\n",
      "Returning --- 554 friends for AAAURJC\n",
      "Returning --- 255 friends for AAA_Insurance\n",
      "Returning --- 607 friends for AAFrontiers\n",
      "Returning --- 51 friends for AAICRU\n",
      "Returning --- 371 friends for AALibnNU\n",
      "Returning --- 151 friends for AAMCFIRST\n",
      "Returning --- 645 friends for AAM_Brand\n",
      "Returning --- 125 friends for AAOSNow"
     ]
    },
    {
     "name": "stderr",
     "output_type": "stream",
     "text": [
      "Got error: {\"errors\":[{\"message\":\"Rate limit exceeded\",\"code\":88}]} \n",
      "sleeping for 15 minutes.\n"
     ]
    },
    {
     "name": "stdout",
     "output_type": "stream",
     "text": [
      "\n",
      "Returning --- 468 friends for AARPFoundPrize\n",
      "Returning --- 31 friends for AASJMedill\n",
      "Returning --- 335 friends for AATENow\n",
      "Returning --- 728 friends for AATinajero\n",
      "Returning --- 3352 friends for AAUWCampus\n",
      "Returning --- 1182 friends for AAUWFellowships\n",
      "Returning --- 746 friends for AAUWJaneAddams\n",
      "Returning --- 813 friends for AAUniversities\n",
      "Collected 5000 friends for AAWPro\n",
      "Collected 15000 friends for AAWPro\n",
      "Collected 30000 friends for AAWPro\n",
      "Returning --- 47806 friends for AAWPro\n",
      "Returning --- 40 friends for AAbvjfgjaeg\n",
      "Returning --- 24 friends for AAccex\n",
      "Returning --- 1964 friends for AAlllalll"
     ]
    },
    {
     "name": "stderr",
     "output_type": "stream",
     "text": [
      "Got error: {\"errors\":[{\"message\":\"Rate limit exceeded\",\"code\":88}]} \n",
      "sleeping for 15 minutes.\n"
     ]
    },
    {
     "name": "stdout",
     "output_type": "stream",
     "text": [
      "\n",
      "Returning --- 137 friends for AAlwan09\n",
      "Returning --- 59 friends for AAyalhassan\n",
      "Returning --- 8 friends for AB71859447\n",
      "Returning --- 582 friends for ABCi_English\n",
      "Returning --- 329 friends for ABCsofSexEd\n",
      "Returning --- 487 friends for ABFResearch\n",
      "Returning --- 992 friends for ABGCHZBrett\n",
      "Returning --- 451 friends for ABJ605\n",
      "Returning --- 525 friends for ABMendelson\n",
      "Returning --- 905 friends for ABPeastwest\n",
      "Returning --- 313 friends for ABQ_NU\n",
      "Returning --- 4164 friends for ABRAHAMLABRADA\n",
      "Collected 5000 friends for ABSALLBZ\n",
      "Collected 15000 friends for ABSALLBZ\n",
      "Collected 30000 friends for ABSALLBZ"
     ]
    },
    {
     "name": "stderr",
     "output_type": "stream",
     "text": [
      "Got error: {\"errors\":[{\"message\":\"Rate limit exceeded\",\"code\":88}]} \n",
      "sleeping for 15 minutes.\n"
     ]
    },
    {
     "name": "stdout",
     "output_type": "stream",
     "text": [
      "\n",
      "Found more than 50,000 friends. Returning error code = -3\n",
      "Returning --- 96 friends for ABSNorthWestern\n",
      "Returning --- 78 friends for ABStudyAbroad\n",
      "Returning --- 317 friends for ABWNews\n",
      "Returning --- 456 friends for AB_CFB1\n",
      "Returning --- 912 friends for AB_Dating\n",
      "Returning --- 34 friends for ABakshani\n",
      "Returning --- 40 friends for ABanijamei\n",
      "Returning --- 106 friends for ABarnetche\n",
      "Returning --- 261 friends for ABaum49\n",
      "Returning --- 32 friends for ABender530\n",
      "Returning --- 32 friends for ABrooks413\n",
      "Returning --- 113 friends for ACCareerCenter\n",
      "Returning --- 1468 friends for ACEFellowsPro"
     ]
    },
    {
     "name": "stderr",
     "output_type": "stream",
     "text": [
      "Got error: {\"errors\":[{\"message\":\"Rate limit exceeded\",\"code\":88}]} \n",
      "sleeping for 15 minutes.\n"
     ]
    },
    {
     "name": "stdout",
     "output_type": "stream",
     "text": [
      "\n",
      "Returning --- 3327 friends for ACEducation\n",
      "Returning --- 1201 friends for ACG_CEO\n",
      "Returning --- 677 friends for ACHurst\n",
      "Returning --- 588 friends for ACIprep\n",
      "Returning --- 225 friends for ACL_Tweets\n",
      "Returning --- 1609 friends for ACMBitola\n",
      "Returning --- 237 friends for ACMedu\n",
      "Returning --- 1058 friends for ACOnlineUS\n",
      "Returning --- 137 friends for ACPooley\n",
      "Returning --- 82 friends for ACRacette\n",
      "Returning --- 660 friends for ACSPhotonics\n",
      "Returning --- 161 friends for ACS_Illinois\n",
      "Returning --- 43 friends for ACS_NLaw\n",
      "Returning --- 7 friends for ACS_NULAW"
     ]
    },
    {
     "name": "stderr",
     "output_type": "stream",
     "text": [
      "Got error: {\"errors\":[{\"message\":\"Rate limit exceeded\",\"code\":88}]} \n",
      "sleeping for 15 minutes.\n"
     ]
    },
    {
     "name": "stdout",
     "output_type": "stream",
     "text": [
      "\n",
      "Returning --- 243 friends for ACSadvantage\n",
      "Returning --- 548 friends for ACTforNIH\n",
      "Returning --- 528 friends for ACTstudyintheUS\n",
      "Returning --- 250 friends for AC_Counselling\n",
      "Returning --- 156 friends for AChawla8706\n",
      "Returning --- 319 friends for AChez\n",
      "Returning --- 520 friends for ACollegeSpot\n",
      "Returning --- 1881 friends for AConnJob\n",
      "Returning --- 341 friends for ADAM_Education\n",
      "Returning --- 1202 friends for ADAirlines\n",
      "Returning --- 78 friends for ADFox27\n",
      "Returning --- 225 friends for ADHD_Time\n",
      "Returning --- 1159 friends for ADInnocenzio\n",
      "Returning --- 133 friends for ADM_DavidW\n",
      "Returning --- 1753 friends for ADSDpodcast"
     ]
    },
    {
     "name": "stderr",
     "output_type": "stream",
     "text": [
      "Got error: {\"errors\":[{\"message\":\"Rate limit exceeded\",\"code\":88}]} \n",
      "sleeping for 15 minutes.\n"
     ]
    },
    {
     "name": "stdout",
     "output_type": "stream",
     "text": [
      "\n",
      "Returning --- 996 friends for AECBitola\n",
      "Returning --- 1171 friends for AECFNews\n",
      "Returning --- 1446 friends for AEITweets\n",
      "Returning --- 571 friends for AEIonCampus\n",
      "Returning --- 374 friends for AEPiNU\n",
      "Collected 5000 friends for AERA_EdResearch\n",
      "Returning --- 12756 friends for AERA_EdResearch\n",
      "Returning --- 698 friends for AFAAP_eV\n",
      "Returning --- 1370 friends for AFNLogistics\n",
      "Returning --- 2821 friends for AFOSR\n",
      "Returning --- 246 friends for AFRICOBRAChi\n",
      "Returning --- 3243 friends for AFSPChicago\n",
      "Returning --- 48 friends for AFreeman1010\n",
      "Returning --- 420 friends for AGMichiganave"
     ]
    },
    {
     "name": "stderr",
     "output_type": "stream",
     "text": [
      "Got error: {\"errors\":[{\"message\":\"Rate limit exceeded\",\"code\":88}]} \n",
      "sleeping for 15 minutes.\n"
     ]
    },
    {
     "name": "stdout",
     "output_type": "stream",
     "text": [
      "\n",
      "Returning --- 163 friends for AGSimpson60\n",
      "Returning --- 65 friends for AGXTZ\n",
      "Returning --- 704 friends for AG_Myers\n",
      "Returning --- 542 friends for AGaryFlagler\n",
      "Returning --- 31 friends for AGrahamCurtis\n",
      "Returning --- 1498 friends for AHA_SEMI\n",
      "Returning --- 106 friends for AHEdelson\n",
      "Returning --- 452 friends for AHGunn1\n",
      "Returning --- 1601 friends for AHPediatrics\n",
      "Returning --- 2068 friends for AHSolomon\n",
      "Returning --- 823 friends for AHWtweets\n",
      "Returning --- 277 friends for AHaropulos\n",
      "Returning --- 297 friends for AHughesK"
     ]
    },
    {
     "name": "stderr",
     "output_type": "stream",
     "text": [
      "Got error: {\"errors\":[{\"message\":\"Rate limit exceeded\",\"code\":88}]} \n",
      "sleeping for 15 minutes.\n"
     ]
    },
    {
     "name": "stdout",
     "output_type": "stream",
     "text": [
      "\n",
      "Returning --- 158 friends for AI1341\n",
      "Returning --- 262 friends for AIAIB2\n",
      "Returning --- 270 friends for AIC_EDUCATION\n",
      "Returning --- 187 friends for AIDermatology\n",
      "Returning --- 85 friends for AIESECNU\n",
      "Returning --- 535 friends for AIMBiomedical\n",
      "Returning --- 2064 friends for AIM_Companies\n",
      "Returning --- 602 friends for AIPCareers\n",
      "Returning --- 189 friends for AIUAtlantaCS\n",
      "Returning --- 2427 friends for AI_TCS\n",
      "Returning --- 4327 friends for AIdailyNews\n",
      "Returning --- 1456 friends for AJAlgmin\n",
      "Returning --- 698 friends for AJGACareers"
     ]
    },
    {
     "name": "stderr",
     "output_type": "stream",
     "text": [
      "Got error: {\"errors\":[{\"message\":\"Rate limit exceeded\",\"code\":88}]} \n",
      "sleeping for 15 minutes.\n"
     ]
    },
    {
     "name": "stdout",
     "output_type": "stream",
     "text": [
      "\n",
      "Returning --- 1113 friends for AJHartnett\n",
      "Returning --- 48 friends for AJHawaii\n",
      "Returning --- 116 friends for AJLee2015\n",
      "Returning --- 1993 friends for AJM08\n",
      "Returning --- 29 friends for AJReid77\n",
      "Returning --- 184 friends for AJSheth\n",
      "Returning --- 76 friends for AJStaples\n",
      "Returning --- 745 friends for AJenius06\n",
      "Returning --- 290 friends for AKA_FlyGammaChi\n",
      "Returning --- 246 friends for AKA_GammaChi\n",
      "Returning --- 455 friends for AKAannakate\n",
      "Returning --- 87 friends for AKAkorson\n",
      "Returning --- 374 friends for AKAtexas\n",
      "Returning --- 1829 friends for AKKerani"
     ]
    },
    {
     "name": "stderr",
     "output_type": "stream",
     "text": [
      "Got error: {\"errors\":[{\"message\":\"Rate limit exceeded\",\"code\":88}]} \n",
      "sleeping for 15 minutes.\n"
     ]
    },
    {
     "name": "stdout",
     "output_type": "stream",
     "text": [
      "\n",
      "Returning --- 150 friends for AKM_EdTechInnov\n",
      "Returning --- 1801 friends for AKRudansky\n",
      "Returning --- 425 friends for AKatzNY\n",
      "Returning --- 429 friends for AKofalltrades\n",
      "Returning --- 285 friends for ALBAcareer\n",
      "Returning --- 46 friends for ALBERTPIANIN\n",
      "Returning --- 250 friends for ALCOSales\n",
      "Returning --- 4955 friends for ALDIAEvents\n",
      "Returning --- 2002 friends for ALONIS314\n",
      "Returning --- 1519 friends for ALSChicago\n",
      "Returning --- 873 friends for ALThomas54\n",
      "Returning --- 16 friends for ALawWhite\n",
      "Returning --- 896 friends for ALittleBitOHome"
     ]
    },
    {
     "name": "stderr",
     "output_type": "stream",
     "text": [
      "Got error: {\"errors\":[{\"message\":\"Rate limit exceeded\",\"code\":88}]} \n",
      "sleeping for 15 minutes.\n"
     ]
    },
    {
     "name": "stdout",
     "output_type": "stream",
     "text": [
      "\n",
      "Returning --- 161 friends for ALongSwim1\n",
      "Returning --- 348 friends for ALynch38\n",
      "Returning --- 353 friends for AMJEvents\n",
      "Returning --- 1388 friends for AMPED_Abroad\n",
      "Returning --- 22 friends for AMPnu\n",
      "Returning --- 292 friends for AMTPatNU\n",
      "Returning --- 239 friends for AM_Comer\n",
      "Returning --- 2011 friends for AManInRecovery\n",
      "Returning --- 729 friends for AManning2907\n",
      "Returning --- 85 friends for AMasurat\n",
      "Returning --- 2945 friends for AMintheAM\n",
      "Returning --- 597 friends for ANDAREALHERO\n",
      "Returning --- 51 friends for ANFCollege"
     ]
    },
    {
     "name": "stderr",
     "output_type": "stream",
     "text": [
      "Got error: {\"errors\":[{\"message\":\"Rate limit exceeded\",\"code\":88}]} \n",
      "sleeping for 15 minutes.\n"
     ]
    },
    {
     "name": "stdout",
     "output_type": "stream",
     "text": [
      "\n",
      "Returning --- 112 friends for ANF_Electric\n",
      "Returning --- 195 friends for ANGELO_W\n",
      "Returning --- 1952 friends for ANNIELEEDICUS1\n",
      "Returning --- 946 friends for ANNLOFTCareers\n",
      "Returning --- 402 friends for ANULAS1\n",
      "Returning --- 1548 friends for ANattamittra2\n",
      "Returning --- 583 friends for AOsolkowski\n",
      "Returning --- 1122 friends for APB_InnIn\n",
      "Returning --- 275 friends for APDScollege\n",
      "Returning --- 486 friends for APGStaffingUSA\n",
      "Returning --- 599 friends for APSChicago\n",
      "Returning --- 451 friends for APTRupdate\n",
      "Returning --- 1424 friends for AP_RadioExec"
     ]
    },
    {
     "name": "stderr",
     "output_type": "stream",
     "text": [
      "Got error: {\"errors\":[{\"message\":\"Rate limit exceeded\",\"code\":88}]} \n",
      "sleeping for 15 minutes.\n"
     ]
    },
    {
     "name": "stdout",
     "output_type": "stream",
     "text": [
      "\n",
      "Returning --- 93 friends for APadejski\n",
      "Returning --- 794 friends for APalleschi\n",
      "Returning --- 828 friends for APfam\n",
      "Returning --- 55 friends for APolentini\n",
      "Returning --- 114 friends for APowell2014\n",
      "Returning --- 601 friends for AQubain\n",
      "Returning --- 11 friends for ARDRealEstate\n",
      "Returning --- 1477 friends for ARISathome\n",
      "Returning --- 1012 friends for ARJUNVAAS\n",
      "Returning --- 20 friends for ARMackie\n",
      "Returning --- 1099 friends for ARS_Press\n",
      "Returning --- 561 friends for ARTWORKSProject\n",
      "Returning --- 128 friends for ARTicaStudios"
     ]
    },
    {
     "name": "stderr",
     "output_type": "stream",
     "text": [
      "Got error: {\"errors\":[{\"message\":\"Rate limit exceeded\",\"code\":88}]} \n",
      "sleeping for 15 minutes.\n"
     ]
    },
    {
     "name": "stdout",
     "output_type": "stream",
     "text": [
      "\n",
      "Returning --- 1876 friends for ARUDN\n",
      "Returning --- 22 friends for ARaiola201_2\n",
      "Returning --- 771 friends for AS2YPChicago\n",
      "Returning --- 2009 friends for AS400pgmr2003\n",
      "Returning --- 107 friends for ASANorthwestern\n",
      "Returning --- 19 friends for ASAbabylove\n",
      "Returning --- 225 friends for ASB_NU\n",
      "Returning --- 287 friends for ASCOscholarship\n",
      "Returning --- 137 friends for ASCP_Chicago\n",
      "Returning --- 46 friends for ASEAN_NUMUNXI\n",
      "Returning --- 617 friends for ASG_GC\n",
      "Returning --- 9 friends for ASGelections\n",
      "Returning --- 292 friends for ASICampLaundry\n",
      "Collected 5000 friends for ASISBOAT"
     ]
    },
    {
     "name": "stderr",
     "output_type": "stream",
     "text": [
      "Got error: {\"errors\":[{\"message\":\"Rate limit exceeded\",\"code\":88}]} \n",
      "sleeping for 15 minutes.\n"
     ]
    },
    {
     "name": "stdout",
     "output_type": "stream",
     "text": [
      "\n",
      "Collected 15000 friends for ASISBOAT\n",
      "Collected 30000 friends for ASISBOAT\n",
      "Found more than 50,000 friends. Returning error code = -3\n",
      "Returning --- 660 friends for ASISystem\n",
      "Returning --- 1258 friends for ASKALIKI\n",
      "Returning --- 211 friends for ASMGi_CLE\n",
      "Returning --- 1030 friends for ASPDallas\n",
      "Returning --- 381 friends for ASP_Boston\n",
      "Returning --- 3315 friends for ASTRO_org\n",
      "Returning --- 2005 friends for ASayakkara\n",
      "Returning --- 657 friends for AScoggin\n",
      "Returning --- 901 friends for AShellman\n",
      "Returning --- 54 friends for ASimmonsAPI"
     ]
    },
    {
     "name": "stderr",
     "output_type": "stream",
     "text": [
      "Got error: {\"errors\":[{\"message\":\"Rate limit exceeded\",\"code\":88}]} \n",
      "sleeping for 15 minutes.\n"
     ]
    },
    {
     "name": "stdout",
     "output_type": "stream",
     "text": [
      "\n",
      "Returning --- 1965 friends for ASteele2\n",
      "Returning --- 483 friends for ATCMeeting\n",
      "Returning --- 49 friends for ATC_Tutoring\n",
      "Returning --- 370 friends for ATDI\n",
      "Returning --- 886 friends for ATOGuy\n",
      "Returning --- 176 friends for ATS_LosAngeles\n",
      "Returning --- 359 friends for ATScholarship\n",
      "Returning --- 232 friends for ATTheatre\n",
      "Returning --- 908 friends for ATastyTweet\n",
      "Returning --- 748 friends for ATernusBellamy\n",
      "Returning --- 334 friends for AUDMCC\n",
      "Returning --- 585 friends for AURGradSchool\n",
      "Returning --- 456 friends for AUSLChicago\n",
      "Returning --- 242 friends for AUSLWPAHS"
     ]
    },
    {
     "name": "stderr",
     "output_type": "stream",
     "text": [
      "Got error: {\"errors\":[{\"message\":\"Rate limit exceeded\",\"code\":88}]} \n",
      "sleeping for 15 minutes.\n"
     ]
    },
    {
     "name": "stdout",
     "output_type": "stream",
     "text": [
      "\n",
      "Returning --- 88 friends for AV0025\n",
      "Returning --- 142 friends for AVN37\n",
      "Returning --- 29 friends for AVYuChang\n",
      "Returning --- 542 friends for AValentino3\n",
      "Returning --- 212 friends for AWCNoCo\n",
      "Returning --- 1081 friends for AWHosmon\n",
      "Returning --- 541 friends for AWIAsKitchen\n",
      "Returning --- 351 friends for AWRick47\n",
      "Returning --- 26 friends for AWSM_NU\n",
      "Returning --- 80 friends for AWSensors\n",
      "Returning --- 2568 friends for AWSstartups\n",
      "Returning --- 1137 friends for AWeheliye\n",
      "Returning --- 116 friends for AWernick254\n",
      "Returning --- 1288 friends for AXAResearchFund"
     ]
    },
    {
     "name": "stderr",
     "output_type": "stream",
     "text": [
      "Got error: {\"errors\":[{\"message\":\"Rate limit exceeded\",\"code\":88}]} \n",
      "sleeping for 15 minutes.\n"
     ]
    },
    {
     "name": "stdout",
     "output_type": "stream",
     "text": [
      "\n",
      "Returning --- 3437 friends for AXA_AdvisorsLLC\n",
      "Returning --- 179 friends for AYates_NUMedill\n",
      "Returning --- 612 friends for AZ_PRJunkie\n",
      "Returning --- 210 friends for A_Karagiannis\n",
      "Returning --- 2028 friends for A_Marcinov\n",
      "Returning --- 64 friends for A_R0Z\n",
      "Returning --- 601 friends for A_Rom_\n",
      "Returning --- 494 friends for A_Safe_Haven\n",
      "Returning --- 135 friends for A_sherri\n",
      "Returning --- 35 friends for Aaaaladin\n",
      "Returning --- 40 friends for AallenfallingS2\n",
      "Returning --- 592 friends for AaronBeswick\n",
      "Returning --- 38 friends for AaronBuchler"
     ]
    },
    {
     "name": "stderr",
     "output_type": "stream",
     "text": [
      "Got error: {\"errors\":[{\"message\":\"Rate limit exceeded\",\"code\":88}]} \n",
      "sleeping for 15 minutes.\n"
     ]
    },
    {
     "name": "stdout",
     "output_type": "stream",
     "text": [
      "\n",
      "Returning --- 122 friends for AaronHenry2013\n",
      "Returning --- 1045 friends for AaronNeinstein\n",
      "Returning --- 49 friends for AaronSHPi\n",
      "Returning --- 12 friends for AaronSamuels86\n",
      "Returning --- 113 friends for AaronSchecter\n",
      "Returning --- 39 friends for AaronShimmer\n",
      "Returning --- 1110 friends for AaronShurtz\n",
      "Returning --- 625 friends for AaronSubich\n",
      "Returning --- 158 friends for AarthiPrakashh\n",
      "Returning --- 117 friends for AartiUppal\n",
      "Returning --- 459 friends for Aashtheone"
     ]
    },
    {
     "name": "stderr",
     "output_type": "stream",
     "text": [
      "Got error: {\"errors\":[{\"message\":\"Rate limit exceeded\",\"code\":88}]} \n",
      "sleeping for 15 minutes.\n"
     ]
    },
    {
     "name": "stdout",
     "output_type": "stream",
     "text": [
      "\n",
      "Returning --- 128 friends for AatifBokhari\n",
      "Returning --- 1761 friends for AaudrayM\n",
      "Returning --- 1944 friends for AbacheMelissa\n",
      "Returning --- 109 friends for AbacusLammicus\n",
      "Returning --- 1481 friends for Abalow\n",
      "Returning --- 1597 friends for Abang_Budiman\n",
      "Returning --- 52 friends for AbbeHarris1\n",
      "Returning --- 2394 friends for AbbeyChicago\n",
      "Returning --- 317 friends for AbbyLashmett\n",
      "Returning --- 95 friends for AbbyRae1622\n",
      "Returning --- 535 friends for Abdul952"
     ]
    },
    {
     "name": "stderr",
     "output_type": "stream",
     "text": [
      "Got error: {\"errors\":[{\"message\":\"Rate limit exceeded\",\"code\":88}]} \n",
      "sleeping for 15 minutes.\n"
     ]
    },
    {
     "name": "stdout",
     "output_type": "stream",
     "text": [
      "\n",
      "Returning --- 36 friends for Abe1Shaw\n",
      "Returning --- 1935 friends for AbeSocialMedia\n",
      "Returning --- 1281 friends for AbhilashaTech\n",
      "Returning --- 574 friends for AbiNichole\n",
      "Returning --- 368 friends for AbigailEHodgson\n",
      "Returning --- 38 friends for AbilioNunes\n",
      "Returning --- 240 friends for AbizerOfficial\n",
      "Returning --- 986 friends for AboutBudgetTrav\n",
      "Returning --- 1073 friends for AboutJobSearch\n",
      "Returning --- 290 friends for AboutJoeK"
     ]
    },
    {
     "name": "stderr",
     "output_type": "stream",
     "text": [
      "Got error: {\"errors\":[{\"message\":\"Rate limit exceeded\",\"code\":88}]} \n",
      "sleeping for 15 minutes.\n"
     ]
    },
    {
     "name": "stdout",
     "output_type": "stream",
     "text": [
      "\n",
      "Returning --- 136 friends for AboutTheDream\n",
      "Returning --- 1986 friends for AboutTimeGuy\n",
      "Returning --- 666 friends for AboveStars_UCMe\n",
      "Returning --- 14 friends for Abqrunninggirl\n",
      "Returning --- 29 friends for Abracapocus1\n",
      "Returning --- 1993 friends for AbrahaMateoFan\n",
      "Returning --- 52 friends for AbramsMz\n",
      "Returning --- 684 friends for AbrilHunny\n",
      "Returning --- 1909 friends for AbroadView\n",
      "Returning --- 956 friends for AbsoluteInterns\n",
      "Collected 5000 friends for Absolutely_Abby\n",
      "Collected 15000 friends for Absolutely_Abby\n",
      "Returning --- 29118 friends for Absolutely_Abby\n",
      "Returning --- 361 friends for AbuGLyfe\n",
      "Returning --- 11 friends for AbuJassimE"
     ]
    },
    {
     "name": "stderr",
     "output_type": "stream",
     "text": [
      "Got error: {\"errors\":[{\"message\":\"Rate limit exceeded\",\"code\":88}]} \n",
      "sleeping for 15 minutes.\n"
     ]
    },
    {
     "name": "stdout",
     "output_type": "stream",
     "text": [
      "\n",
      "Returning --- 1683 friends for Abuduk\n",
      "Returning --- 278 friends for AbyzHS\n",
      "Returning --- 2001 friends for Abyzayd\n",
      "Returning --- 2006 friends for AcCollegeMents\n",
      "Returning --- 210 friends for AcWojcik\n",
      "Returning --- 734 friends for Academatch\n",
      "Returning --- 1710 friends for Academbot\n",
      "Returning --- 1992 friends for AcademicEntrep\n",
      "Returning --- 966 friends for AcademicJobsPre\n",
      "Returning --- 877 friends for AcademicMinute\n",
      "Returning --- 384 friends for AcademicOasis\n",
      "Collected 5000 friends for AcademicTrnsfr\n",
      "Returning --- 10624 friends for AcademicTrnsfr\n",
      "Collected 5000 friends for Academie_Paris\n",
      "Returning --- 10778 friends for Academie_Paris"
     ]
    },
    {
     "name": "stderr",
     "output_type": "stream",
     "text": [
      "Got error: {\"errors\":[{\"message\":\"Rate limit exceeded\",\"code\":88}]} \n",
      "sleeping for 15 minutes.\n"
     ]
    },
    {
     "name": "stdout",
     "output_type": "stream",
     "text": [
      "\n",
      "Returning --- 702 friends for AcademyFV\n",
      "Returning --- 1961 friends for AcadiaRealty\n",
      "Returning --- 444 friends for AcadofInventors\n",
      "Returning --- 1286 friends for AccGrowthAdv\n",
      "Returning --- 403 friends for Accenture_Jobs\n",
      "Returning --- 230 friends for Accepted2School\n",
      "Returning --- 564 friends for AccessEFM\n",
      "Returning --- 82 friends for AccessGothamChi\n",
      "Returning --- 1773 friends for AccessToCapital\n",
      "Returning --- 16 friends for AccessibleNU\n",
      "Returning --- 1991 friends for AccionChicago\n",
      "Returning --- 305 friends for AccordingtoDazz\n",
      "Returning --- 1539 friends for AccountingJumps\n",
      "Returning --- 220 friends for Accretive_Jobs\n",
      "Returning --- 203 friends for AccuityTweets"
     ]
    },
    {
     "name": "stderr",
     "output_type": "stream",
     "text": [
      "Got error: {\"errors\":[{\"message\":\"Rate limit exceeded\",\"code\":88}]} \n",
      "sleeping for 15 minutes.\n"
     ]
    },
    {
     "name": "stdout",
     "output_type": "stream",
     "text": [
      "\n",
      "Returning --- 847 friends for AceofTracee\n",
      "Returning --- 57 friends for AchtungBVox\n",
      "Returning --- 70 friends for AciLeapfrog\n",
      "Returning --- 1979 friends for Aclipse\n",
      "Returning --- 1034 friends for Acquirent\n",
      "Returning --- 624 friends for Acquisitionist\n",
      "Returning --- 419 friends for ActivateAlumni\n",
      "Returning --- 27 friends for Active_Scholar\n",
      "Collected 5000 friends for ActorDickLebeau\n",
      "Returning --- 10002 friends for ActorDickLebeau\n",
      "Returning --- 466 friends for ActuallyLPH\n",
      "Returning --- 1530 friends for AcumenPerfGroup"
     ]
    },
    {
     "name": "stderr",
     "output_type": "stream",
     "text": [
      "Got error: {\"errors\":[{\"message\":\"Rate limit exceeded\",\"code\":88}]} \n",
      "sleeping for 15 minutes.\n"
     ]
    },
    {
     "name": "stdout",
     "output_type": "stream",
     "text": [
      "\n",
      "Returning --- 70 friends for AcupunctureTime\n",
      "Returning --- 7 friends for Acw2089\n",
      "Returning --- 32 friends for AdManClarke\n",
      "Returning --- 1634 friends for Ad_Stash_Center\n",
      "Returning --- 1010 friends for AdaOffonryUK\n",
      "Returning --- 72 friends for Ada_Yuting_Jing\n",
      "Returning --- 1008 friends for AdageTech\n",
      "Returning --- 944 friends for AdagioMainland\n",
      "Returning --- 533 friends for AdamAmaroPDX\n",
      "Returning --- 99 friends for AdamChanes\n",
      "Returning --- 330 friends for AdamGins27\n",
      "Returning --- 218 friends for AdamGoodreau\n",
      "Returning --- 133 friends for AdamHageSays"
     ]
    },
    {
     "name": "stderr",
     "output_type": "stream",
     "text": [
      "Got error: {\"errors\":[{\"message\":\"Rate limit exceeded\",\"code\":88}]} \n",
      "sleeping for 15 minutes.\n"
     ]
    },
    {
     "name": "stdout",
     "output_type": "stream",
     "text": [
      "\n",
      "Returning --- 395 friends for AdamJewell76\n",
      "Returning --- 490 friends for AdamNorrisUNO\n",
      "Returning --- 184 friends for AdamPegram\n",
      "Returning --- 89 friends for AdamRJacobson\n",
      "Returning --- 199 friends for AdamRiffing\n",
      "Returning --- 305 friends for AdamRoonerPost\n",
      "Returning --- 1727 friends for AdamRoylance\n",
      "Returning --- 159 friends for AdamSLaursen\n",
      "Collected 5000 friends for AdamSarwar\n",
      "Collected 15000 friends for AdamSarwar\n",
      "Returning --- 29424 friends for AdamSarwar\n",
      "Returning --- 1057 friends for AdamSege\n",
      "Returning --- 59 friends for AdamSiepker"
     ]
    },
    {
     "name": "stderr",
     "output_type": "stream",
     "text": [
      "Got error: {\"errors\":[{\"message\":\"Rate limit exceeded\",\"code\":88}]} \n",
      "sleeping for 15 minutes.\n"
     ]
    },
    {
     "name": "stdout",
     "output_type": "stream",
     "text": [
      "\n",
      "Returning --- 363 friends for AdamSwayne\n",
      "Returning --- 68 friends for AdamTaranto1\n",
      "Returning --- 333 friends for Adamfox1979\n",
      "Returning --- 457 friends for Adampreslar\n",
      "Returning --- 59 friends for AdamsMaxa9303\n",
      "Returning --- 158 friends for AdamsToddC\n",
      "Returning --- 12 friends for Adamula1\n",
      "Returning --- 519 friends for AdapsterSATprep\n",
      "Returning --- 56 friends for AddM_S\n",
      "Returning --- 210 friends for AddieStrong\n",
      "Returning --- 752 friends for AddyBrock\n",
      "Returning --- 1307 friends for AdelGhaffar\n",
      "Returning --- 416 friends for AdelitaAdely\n",
      "Returning --- 107 friends for Adelpasdee"
     ]
    },
    {
     "name": "stderr",
     "output_type": "stream",
     "text": [
      "Got error: {\"errors\":[{\"message\":\"Rate limit exceeded\",\"code\":88}]} \n",
      "sleeping for 15 minutes.\n"
     ]
    },
    {
     "name": "stdout",
     "output_type": "stream",
     "text": [
      "\n",
      "Returning --- 2045 friends for Adeptus\n",
      "Returning --- 381 friends for Adillon7990\n",
      "Returning --- 288 friends for AditDamodaran\n",
      "Returning --- 616 friends for AditiHBhandari\n",
      "Returning --- 63 friends for AditzaUSA\n",
      "Returning --- 40 friends for AdkinsAnsel\n",
      "Returning --- 1151 friends for AdlerUniversity\n",
      "Returning --- 234 friends for AdmiralZachBarr\n",
      "Returning --- 525 friends for Admission101\n",
      "Returning --- 607 friends for AdmissionAccept\n",
      "Returning --- 1007 friends for AdmissionTools\n",
      "Returning --- 1396 friends for Admissionado\n",
      "Returning --- 28 friends for Admissions101\n",
      "Returning --- 40 friends for AdmissionsTeam7\n",
      "Returning --- 721 friends for Admissions_Dean"
     ]
    },
    {
     "name": "stderr",
     "output_type": "stream",
     "text": [
      "Got error: {\"errors\":[{\"message\":\"Rate limit exceeded\",\"code\":88}]} \n",
      "sleeping for 15 minutes.\n"
     ]
    },
    {
     "name": "stdout",
     "output_type": "stream",
     "text": [
      "\n",
      "Returning --- 17 friends for AdmitBrain\n",
      "Returning --- 177 friends for AdmitEmpower\n",
      "Returning --- 61 friends for AdmitHero\n",
      "Returning --- 220 friends for Adna128ma\n",
      "Returning --- 128 friends for AdonMarcus\n",
      "Returning --- 547 friends for AdrianaGEstrada\n",
      "Returning --- 89 friends for AdrianaVelBer\n",
      "Returning --- 17 friends for Adriano_hsiao\n",
      "Returning --- 1905 friends for AdrienneWrites\n",
      "Returning --- 138 friends for AdudeCalledRenz\n",
      "Returning --- 108 friends for Aduhbs"
     ]
    },
    {
     "name": "stderr",
     "output_type": "stream",
     "text": [
      "Got error: {\"errors\":[{\"message\":\"Rate limit exceeded\",\"code\":88}]} \n",
      "sleeping for 15 minutes.\n"
     ]
    },
    {
     "name": "stdout",
     "output_type": "stream",
     "text": [
      "\n",
      "Returning --- 3810 friends for AdvaMedConf\n",
      "Returning --- 91 friends for Advance1K\n",
      "Returning --- 527 friends for Adventure_Stage\n",
      "Returning --- 414 friends for AdvmtResources\n",
      "Returning --- 393 friends for AdvncCollege\n",
      "Returning --- 46 friends for AdyutKhazanchi\n",
      "Returning --- 522 friends for Aegina201\n",
      "Returning --- 214 friends for Aegisoverseas\n",
      "Returning --- 1021 friends for AerialChicago\n",
      "Returning --- 471 friends for AeroCorpCareers\n",
      "Returning --- 52 friends for AeroEvan949\n",
      "Returning --- 43 friends for AfCbourdon\n",
      "Returning --- 245 friends for AfMendiola\n",
      "Returning --- 778 friends for AffairsPress\n",
      "Returning --- 252 friends for Affinity_Works"
     ]
    },
    {
     "name": "stderr",
     "output_type": "stream",
     "text": [
      "Got error: {\"errors\":[{\"message\":\"Rate limit exceeded\",\"code\":88}]} \n",
      "sleeping for 15 minutes.\n"
     ]
    },
    {
     "name": "stdout",
     "output_type": "stream",
     "text": [
      "\n",
      "Returning --- 52 friends for AffordablePort\n",
      "Returning --- 112 friends for AfraCui\n",
      "Returning --- 26 friends for AfraidToTweet\n",
      "Returning --- 608 friends for AfricanFreeMind\n",
      "Returning --- 1847 friends for Africaoutlook\n",
      "Returning --- 405 friends for AfsaraZ\n",
      "Returning --- 282 friends for AfterTheBest\n",
      "Returning --- 324 friends for AfuaDuncan\n",
      "Returning --- 470 friends for Against_Logic\n",
      "Returning --- 520 friends for AgapeTickets\n",
      "Returning --- 101 friends for AgataTurowski\n",
      "Returning --- 976 friends for AgileBob\n",
      "Returning --- 920 friends for AgnesRadomski"
     ]
    },
    {
     "name": "stderr",
     "output_type": "stream",
     "text": [
      "Got error: {\"errors\":[{\"message\":\"Rate limit exceeded\",\"code\":88}]} \n",
      "sleeping for 15 minutes.\n"
     ]
    },
    {
     "name": "stdout",
     "output_type": "stream",
     "text": [
      "\n",
      "Returning --- 94 friends for AgnesXiaojunBao\n",
      "Returning --- 67 friends for Agnes_Wasilewsk\n",
      "Returning --- 110 friends for AgusJupran\n",
      "Returning --- 39 friends for AgustinChacin\n",
      "Returning --- 1761 friends for AheadOnlineNow\n",
      "Collected 5000 friends for AhmadAAAG\n",
      "Collected 15000 friends for AhmadAAAG\n",
      "Collected 30000 friends for AhmadAAAG\n",
      "Found more than 50,000 friends. Returning error code = -3\n",
      "Returning --- 9 friends for AhmadHadavi\n",
      "Returning --- 300 friends for AhmedAKarrar\n",
      "Returning --- 1990 friends for AhmedAlgabsi1\n",
      "Returning --- 102 friends for AhmedFlipdoodle\n",
      "Returning --- 398 friends for AhmetiKreshnik\n",
      "Returning --- 403 friends for AhoudAlThani"
     ]
    },
    {
     "name": "stderr",
     "output_type": "stream",
     "text": [
      "Got error: {\"errors\":[{\"message\":\"Rate limit exceeded\",\"code\":88}]} \n",
      "sleeping for 15 minutes.\n"
     ]
    },
    {
     "name": "stdout",
     "output_type": "stream",
     "text": [
      "\n",
      "Returning --- 452 friends for Ahsan487\n",
      "Returning --- 86 friends for AhsinAzim\n",
      "Returning --- 992 friends for AidenCDawgs\n",
      "Returning --- 126 friends for AimChristagz\n",
      "Returning --- 1058 friends for AimeeAgresti\n",
      "Returning --- 715 friends for AimeeJCrawford\n",
      "Returning --- 221 friends for AimeeYuyiChen\n",
      "Returning --- 683 friends for Aimers34\n",
      "Returning --- 2158 friends for AimhoffF\n",
      "Returning --- 337 friends for AirAssault1983\n",
      "Returning --- 2023 friends for AirRunMobile\n",
      "Returning --- 178 friends for AirportExpress\n",
      "Returning --- 105 friends for AiryComputing"
     ]
    },
    {
     "name": "stderr",
     "output_type": "stream",
     "text": [
      "Got error: {\"errors\":[{\"message\":\"Rate limit exceeded\",\"code\":88}]} \n",
      "sleeping for 15 minutes.\n"
     ]
    },
    {
     "name": "stdout",
     "output_type": "stream",
     "text": [
      "\n",
      "Returning --- 468 friends for AisforAllieeee\n",
      "Returning --- 1215 friends for AishaIman\n",
      "Returning --- 112 friends for Aishacoleman08\n",
      "Returning --- 253 friends for Aislinkeely\n",
      "Returning --- 252 friends for Aj654321Allan\n",
      "Returning --- 400 friends for Aj_asma\n",
      "Returning --- 225 friends for Aja_Lillian\n",
      "Returning --- 19 friends for AjakkakaTati\n",
      "Returning --- 370 friends for AjoseRover\n",
      "Returning --- 507 friends for AkademiaSA\n",
      "Returning --- 248 friends for Akaye99\n",
      "Returning --- 786 friends for AkhilGulati\n",
      "Returning --- 66 friends for AkhilGuliani\n",
      "Returning --- 1478 friends for AkhmedKella101"
     ]
    },
    {
     "name": "stderr",
     "output_type": "stream",
     "text": [
      "Got error: {\"errors\":[{\"message\":\"Rate limit exceeded\",\"code\":88}]} \n",
      "sleeping for 15 minutes.\n"
     ]
    },
    {
     "name": "stdout",
     "output_type": "stream",
     "text": [
      "\n",
      "Returning --- 1197 friends for AkosuaLowery\n",
      "Returning --- 5 friends for AkrutiWebsite\n",
      "Returning --- 262 friends for Akshata2010\n",
      "Returning --- 92 friends for AkunaCapital\n",
      "Returning --- 444 friends for Al5ansa\n",
      "Returning --- 208 friends for AlBayanNU\n",
      "Returning --- 744 friends for AlNetter\n",
      "Returning --- 144 friends for AlabamaHASS\n",
      "Returning --- 11 friends for AlanFu3\n",
      "Returning --- 109 friends for AlanLom\n",
      "Returning --- 97 friends for AlanMao1\n",
      "Returning --- 41 friends for AlanRitchie_\n",
      "Returning --- 20 friends for AlanTrammel"
     ]
    },
    {
     "name": "stderr",
     "output_type": "stream",
     "text": [
      "Got error: {\"errors\":[{\"message\":\"Rate limit exceeded\",\"code\":88}]} \n",
      "sleeping for 15 minutes.\n"
     ]
    },
    {
     "name": "stdout",
     "output_type": "stream",
     "text": [
      "\n",
      "Returning --- 298 friends for AlanaLeeGlaser\n",
      "Returning --- 1018 friends for AlanaMarieRose\n",
      "Returning --- 286 friends for AlaniVargas2018\n",
      "Returning --- 313 friends for AlassioTown\n",
      "Returning --- 120 friends for AlastairRami\n",
      "Returning --- 438 friends for AlaynahBoyd\n",
      "Returning --- 2137 friends for AlbaRms\n",
      "Returning --- 1975 friends for AlbertMiracle\n",
      "Returning --- 890 friends for AlbertTLunde\n",
      "Returning --- 72 friends for AlbertoAcosta21\n",
      "Returning --- 285 friends for AlbertoHuarote\n",
      "Returning --- 1023 friends for AlbinoMystique\n",
      "Returning --- 872 friends for AlbuquerqueXing"
     ]
    },
    {
     "name": "stderr",
     "output_type": "stream",
     "text": [
      "Got error: {\"errors\":[{\"message\":\"Rate limit exceeded\",\"code\":88}]} \n",
      "sleeping for 15 minutes.\n"
     ]
    },
    {
     "name": "stdout",
     "output_type": "stream",
     "text": [
      "\n",
      "Returning --- 17 friends for Alcalwang\n",
      "Returning --- 192 friends for AlcottPrep\n",
      "Returning --- 974 friends for AldTomTunney\n",
      "Returning --- 2677 friends for AldermanSolis\n",
      "Returning --- 3383 friends for Alderman_Pawar\n",
      "Returning --- 45 friends for AleColinaValeri\n",
      "Returning --- 101 friends for AleVazMe5\n",
      "Returning --- 29 friends for AleahM_R\n",
      "Returning --- 58 friends for AleahMeta\n",
      "Returning --- 12 friends for AlecDAlelio\n",
      "Returning --- 59 friends for AlecUsc\n",
      "Returning --- 11 friends for AleciaWartowski\n",
      "Returning --- 25 friends for AlejandroPall\n",
      "Returning --- 1808 friends for AlejoDelgadilho"
     ]
    },
    {
     "name": "stderr",
     "output_type": "stream",
     "text": [
      "Got error: {\"errors\":[{\"message\":\"Rate limit exceeded\",\"code\":88}]} \n",
      "sleeping for 15 minutes.\n"
     ]
    },
    {
     "name": "stdout",
     "output_type": "stream",
     "text": [
      "\n",
      "Returning --- 104 friends for AlekRinholm\n",
      "Returning --- 992 friends for Alekre7134Alex\n",
      "Collected 5000 friends for Aleph1978\n",
      "Returning --- 10001 friends for Aleph1978\n",
      "Returning --- 14 friends for Alessio23927828\n",
      "Returning --- 98 friends for Alex3190n\n",
      "Returning --- 30 friends for AlexBickle\n",
      "Returning --- 273 friends for AlexBourdeau\n",
      "Returning --- 40 friends for AlexBuckley19\n",
      "Returning --- 193 friends for AlexDeitchman\n",
      "Returning --- 424 friends for AlexGerage\n",
      "Returning --- 1059 friends for AlexGodoyF_\n",
      "Returning --- 27 friends for AlexJamis1\n",
      "Returning --- 46 friends for AlexJosephHunt\n",
      "Returning --- 479 friends for AlexKachou"
     ]
    },
    {
     "name": "stderr",
     "output_type": "stream",
     "text": [
      "Got error: {\"errors\":[{\"message\":\"Rate limit exceeded\",\"code\":88}]} \n",
      "sleeping for 15 minutes.\n"
     ]
    },
    {
     "name": "stdout",
     "output_type": "stream",
     "text": [
      "\n",
      "Returning --- 486 friends for AlexMaegdlin\n",
      "Returning --- 547 friends for AlexMaragosNBC\n",
      "Returning --- 537 friends for AlexMarco3llio4\n",
      "Returning --- 300 friends for AlexMiller_18\n",
      "Returning --- 430 friends for AlexNitkin\n",
      "Returning --- 743 friends for AlexNoelleCov\n",
      "Returning --- 31 friends for AlexOnsager\n",
      "Returning --- 327 friends for AlexPancoeMS\n",
      "Returning --- 7 friends for AlexRod9419\n",
      "Returning --- 125 friends for AlexSchneidman7\n",
      "Returning --- 225 friends for AlexSolivais\n",
      "Returning --- 102 friends for AlexSquaredZ\n",
      "Returning --- 24 friends for AlexTGNupe\n",
      "Returning --- 987 friends for AlexThomas\n",
      "Returning --- 46 friends for AlexVDongen"
     ]
    },
    {
     "name": "stderr",
     "output_type": "stream",
     "text": [
      "Got error: {\"errors\":[{\"message\":\"Rate limit exceeded\",\"code\":88}]} \n",
      "sleeping for 15 minutes.\n"
     ]
    },
    {
     "name": "stdout",
     "output_type": "stream",
     "text": [
      "\n",
      "Returning --- 22 friends for AlexWeckiewicz\n",
      "Returning --- 507 friends for AlexWendland\n",
      "Returning --- 254 friends for AlexWilcox10\n",
      "Returning --- 110 friends for Alex_D_Rot\n",
      "Returning --- 625 friends for Alex_Gold\n",
      "Returning --- 569 friends for Alex_Green_27\n",
      "Returning --- 76 friends for Alex_Kwak\n",
      "Returning --- 8 friends for Alex_Luwenhui\n",
      "Returning --- 213 friends for Alex_Schwiebert\n",
      "Returning --- 494 friends for Alex_Wentz\n",
      "Returning --- 115 friends for Alex_haskell\n",
      "Returning --- 774 friends for AlexaCorse"
     ]
    },
    {
     "name": "stderr",
     "output_type": "stream",
     "text": [
      "Got error: {\"errors\":[{\"message\":\"Rate limit exceeded\",\"code\":88}]} \n",
      "sleeping for 15 minutes.\n"
     ]
    },
    {
     "name": "stdout",
     "output_type": "stream",
     "text": [
      "\n",
      "Returning --- 439 friends for AlexaKamm\n",
      "Returning --- 1831 friends for Alexander1322\n",
      "Returning --- 337 friends for AlexanderOberk1\n",
      "Returning --- 216 friends for AlexanderPancoe\n",
      "Returning --- 57 friends for Alexander_Qiao\n",
      "Returning --- 1052 friends for AlexandraDsings\n",
      "Returning --- 125 friends for Alexandra_J_G\n",
      "Returning --- 1077 friends for Alexandra_Rice\n",
      "Returning --- 74 friends for AlexandreGodey\n",
      "Returning --- 939 friends for Alexapollinaire\n",
      "Returning --- 842 friends for Alexcslz\n",
      "Returning --- 1224 friends for Alexdelaporte1"
     ]
    },
    {
     "name": "stderr",
     "output_type": "stream",
     "text": [
      "Got error: {\"errors\":[{\"message\":\"Rate limit exceeded\",\"code\":88}]} \n",
      "sleeping for 15 minutes.\n"
     ]
    },
    {
     "name": "stdout",
     "output_type": "stream",
     "text": [
      "\n",
      "Returning --- 155 friends for AlexiaMSeverson\n",
      "Returning --- 1177 friends for Alexiperkins74\n",
      "Returning --- 438 friends for AlexisLaBroi\n",
      "Returning --- 130 friends for AlexisMcCurdy14\n",
      "Returning --- 37 friends for AlexisVocatura\n",
      "Returning --- 217 friends for Alexis_Dionne08\n",
      "Returning --- 81 friends for Alexis_Jori\n",
      "Returning --- 418 friends for Alexis_Kitty20\n",
      "Returning --- 346 friends for Alexpotatohead\n",
      "Returning --- 167 friends for AlexusSnowden\n",
      "Returning --- 29 friends for Alexyee35\n",
      "Returning --- 26 friends for Aleyna22575008\n",
      "Returning --- 12 friends for AlfaritaC\n",
      "Returning --- 66 friends for AlfariziGaul\n",
      "Returning --- 381 friends for AlfredTatum"
     ]
    },
    {
     "name": "stderr",
     "output_type": "stream",
     "text": [
      "Got error: {\"errors\":[{\"message\":\"Rate limit exceeded\",\"code\":88}]} \n",
      "sleeping for 15 minutes.\n"
     ]
    },
    {
     "name": "stdout",
     "output_type": "stream",
     "text": [
      "\n",
      "Returning --- 2757 friends for Alhajlah\n",
      "Returning --- 984 friends for AlhassanNageh\n",
      "Returning --- 38 friends for AliAshekari\n",
      "Returning --- 580 friends for AliCanerYildiri\n",
      "Returning --- 294 friends for AliHecimovich\n",
      "Returning --- 711 friends for AliHudspeth\n",
      "Returning --- 460 friends for AliIglesia\n",
      "Returning --- 124 friends for AliInnara\n",
      "Returning --- 132 friends for AliPelczar\n",
      "Returning --- 225 friends for AliPisano\n",
      "Returning --- 527 friends for AliWhite2012"
     ]
    },
    {
     "name": "stderr",
     "output_type": "stream",
     "text": [
      "Got error: {\"errors\":[{\"message\":\"Rate limit exceeded\",\"code\":88}]} \n",
      "sleeping for 15 minutes.\n"
     ]
    },
    {
     "name": "stdout",
     "output_type": "stream",
     "text": [
      "\n",
      "Returning --- 39 friends for Alice6qv\n",
      "Returning --- 896 friends for AliceBarrKHOU\n",
      "Returning --- 11 friends for AliceG13592657\n",
      "Returning --- 582 friends for AliceLekach\n",
      "Returning --- 703 friends for AliceMWalton\n",
      "Returning --- 865 friends for AlicePWI\n",
      "Returning --- 17 friends for AliceYQiu\n",
      "Returning --- 616 friends for AliciaHoffman3\n",
      "Returning --- 979 friends for AliciaW20686158\n",
      "Returning --- 66 friends for Alienist00\n",
      "Returning --- 1825 friends for AlignMeSarni\n",
      "Returning --- 297 friends for AlinaKathleen\n",
      "Returning --- 1938 friends for AlisaValentin"
     ]
    },
    {
     "name": "stderr",
     "output_type": "stream",
     "text": [
      "Got error: {\"errors\":[{\"message\":\"Rate limit exceeded\",\"code\":88}]} \n",
      "sleeping for 15 minutes.\n"
     ]
    },
    {
     "name": "stdout",
     "output_type": "stream",
     "text": [
      "\n",
      "Returning --- 40 friends for AlishaAlishag\n",
      "Returning --- 444 friends for AlisonDoerfler\n",
      "Collected 5000 friends for AlisonDoyle\n",
      "Collected 15000 friends for AlisonDoyle\n",
      "Returning --- 28652 friends for AlisonDoyle\n",
      "Returning --- 49 friends for AlisonLMayPhD\n",
      "Returning --- 332 friends for AlisonNewton16\n",
      "Returning --- 652 friends for Alison_W_Smith\n",
      "Returning --- 1389 friends for AlissaDosSantos\n",
      "Returning --- 124 friends for AlissaSchapiro\n",
      "Returning --- 390 friends for AlissaZhu\n",
      "Returning --- 502 friends for AliveintheFire\n",
      "Returning --- 3 friends for AlixKramerMedil\n",
      "Returning --- 235 friends for AlkhaniBaraa\n",
      "Returning --- 348 friends for AllIWantFilm"
     ]
    },
    {
     "name": "stderr",
     "output_type": "stream",
     "text": [
      "Got error: {\"errors\":[{\"message\":\"Rate limit exceeded\",\"code\":88}]} \n",
      "sleeping for 15 minutes.\n"
     ]
    },
    {
     "name": "stdout",
     "output_type": "stream",
     "text": [
      "\n",
      "Returning --- 249 friends for AllLawSchools\n",
      "Returning --- 22 friends for AllThrillGill\n",
      "Returning --- 59 friends for AllanPeck1\n",
      "Returning --- 626 friends for AllanPlatt\n",
      "Collected 5000 friends for AllegisGlobal\n",
      "Returning --- 11257 friends for AllegisGlobal\n",
      "Returning --- 372 friends for AlliGoetz\n",
      "Returning --- 9 friends for AlliJobin\n",
      "Returning --- 423 friends for AlliManus\n",
      "Returning --- 1277 friends for AllianceChicago\n",
      "Returning --- 77 friends for AllieGatorSmith\n",
      "Returning --- 222 friends for AllieJennaaa\n",
      "Returning --- 633 friends for AllieRasmus"
     ]
    },
    {
     "name": "stderr",
     "output_type": "stream",
     "text": [
      "Got error: {\"errors\":[{\"message\":\"Rate limit exceeded\",\"code\":88}]} \n",
      "sleeping for 15 minutes.\n",
      "WARNING:root:<class 'requests.exceptions.ConnectionError'> ('Connection aborted.', gaierror(11004, 'getaddrinfo failed'))\n",
      "WARNING:root:<class 'requests.exceptions.ConnectionError'> ('Connection aborted.', gaierror(11004, 'getaddrinfo failed'))\n"
     ]
    },
    {
     "name": "stdout",
     "output_type": "stream",
     "text": [
      "\n"
     ]
    },
    {
     "ename": "TwitterConnectionError",
     "evalue": "('Connection aborted.', gaierror(11004, 'getaddrinfo failed'))",
     "output_type": "error",
     "traceback": [
      "\u001b[1;31m---------------------------------------------------------------------------\u001b[0m",
      "\u001b[1;31mTwitterConnectionError\u001b[0m                    Traceback (most recent call last)",
      "\u001b[1;32m<ipython-input-17-a29620a24910>\u001b[0m in \u001b[0;36m<module>\u001b[1;34m()\u001b[0m\n\u001b[0;32m      1\u001b[0m \u001b[1;31m# Collecting all nu_followers's friends' ids and pickling them separately\u001b[0m\u001b[1;33m\u001b[0m\u001b[1;33m\u001b[0m\u001b[0m\n\u001b[1;32m----> 2\u001b[1;33m \u001b[0mget_friend_ids_and_pickle_object\u001b[0m\u001b[1;33m(\u001b[0m\u001b[0mnu_followers\u001b[0m\u001b[1;33m,\u001b[0m \u001b[1;34m'nu'\u001b[0m\u001b[1;33m,\u001b[0m \u001b[0msplit_pickle\u001b[0m \u001b[1;33m=\u001b[0m \u001b[0mTrue\u001b[0m\u001b[1;33m)\u001b[0m\u001b[1;33m\u001b[0m\u001b[0m\n\u001b[0m",
      "\u001b[1;32m<ipython-input-16-3caec85d7952>\u001b[0m in \u001b[0;36mget_friend_ids_and_pickle_object\u001b[1;34m(univ_followers, univ_name, split_pickle)\u001b[0m\n\u001b[0;32m     14\u001b[0m     \u001b[0mfriends_of_univ_followers\u001b[0m \u001b[1;33m=\u001b[0m \u001b[1;33m{\u001b[0m\u001b[1;33m}\u001b[0m\u001b[1;33m\u001b[0m\u001b[0m\n\u001b[0;32m     15\u001b[0m     \u001b[1;32mfor\u001b[0m \u001b[0mfollower\u001b[0m \u001b[1;32min\u001b[0m \u001b[0muniv_followers\u001b[0m\u001b[1;33m:\u001b[0m\u001b[1;33m\u001b[0m\u001b[0m\n\u001b[1;32m---> 16\u001b[1;33m         \u001b[0mfriends\u001b[0m \u001b[1;33m=\u001b[0m \u001b[0mget_friend_ids\u001b[0m\u001b[1;33m(\u001b[0m\u001b[0mfollower\u001b[0m\u001b[1;33m)\u001b[0m\u001b[1;33m\u001b[0m\u001b[0m\n\u001b[0m\u001b[0;32m     17\u001b[0m         \u001b[0mfriends_of_univ_followers\u001b[0m\u001b[1;33m[\u001b[0m\u001b[0mfollower\u001b[0m\u001b[1;33m]\u001b[0m \u001b[1;33m=\u001b[0m \u001b[0mfriends\u001b[0m\u001b[1;33m\u001b[0m\u001b[0m\n\u001b[0;32m     18\u001b[0m \u001b[1;33m\u001b[0m\u001b[0m\n",
      "\u001b[1;32m<ipython-input-15-fe1ca934abfe>\u001b[0m in \u001b[0;36mget_friend_ids\u001b[1;34m(screen_name)\u001b[0m\n\u001b[0;32m     13\u001b[0m     \u001b[1;32mwhile\u001b[0m \u001b[0mTrue\u001b[0m\u001b[1;33m:\u001b[0m\u001b[1;33m\u001b[0m\u001b[0m\n\u001b[0;32m     14\u001b[0m         request = robust_request(twitter,'friends/ids', \n\u001b[1;32m---> 15\u001b[1;33m                                  {'screen_name': screen_name, 'count':5000, 'cursor': cursor})\n\u001b[0m\u001b[0;32m     16\u001b[0m \u001b[1;33m\u001b[0m\u001b[0m\n\u001b[0;32m     17\u001b[0m         \u001b[1;32mif\u001b[0m \u001b[0mrequest\u001b[0m \u001b[1;33m==\u001b[0m \u001b[0mNone\u001b[0m\u001b[1;33m:\u001b[0m\u001b[1;33m\u001b[0m\u001b[0m\n",
      "\u001b[1;32m<ipython-input-3-8f5a57570805>\u001b[0m in \u001b[0;36mrobust_request\u001b[1;34m(twitter, resource, params, max_tries)\u001b[0m\n\u001b[0;32m     15\u001b[0m         \u001b[1;32mexcept\u001b[0m\u001b[1;33m:\u001b[0m\u001b[1;33m\u001b[0m\u001b[0m\n\u001b[0;32m     16\u001b[0m             \u001b[0mtwitter\u001b[0m \u001b[1;33m=\u001b[0m \u001b[0mget_twitter\u001b[0m\u001b[1;33m(\u001b[0m\u001b[1;34m'twitter.cfg'\u001b[0m\u001b[1;33m)\u001b[0m\u001b[1;33m\u001b[0m\u001b[0m\n\u001b[1;32m---> 17\u001b[1;33m             \u001b[0mrequest\u001b[0m \u001b[1;33m=\u001b[0m \u001b[0mtwitter\u001b[0m\u001b[1;33m.\u001b[0m\u001b[0mrequest\u001b[0m\u001b[1;33m(\u001b[0m\u001b[0mresource\u001b[0m\u001b[1;33m,\u001b[0m \u001b[0mparams\u001b[0m\u001b[1;33m)\u001b[0m\u001b[1;33m\u001b[0m\u001b[0m\n\u001b[0m\u001b[0;32m     18\u001b[0m         \u001b[1;32mif\u001b[0m \u001b[0mrequest\u001b[0m\u001b[1;33m.\u001b[0m\u001b[0mstatus_code\u001b[0m \u001b[1;33m==\u001b[0m \u001b[1;36m200\u001b[0m\u001b[1;33m:\u001b[0m\u001b[1;33m\u001b[0m\u001b[0m\n\u001b[0;32m     19\u001b[0m             \u001b[1;32mreturn\u001b[0m \u001b[0mrequest\u001b[0m\u001b[1;33m\u001b[0m\u001b[0m\n",
      "\u001b[1;32mC:\\Anaconda\\lib\\site-packages\\TwitterAPI\\TwitterAPI.pyc\u001b[0m in \u001b[0;36mrequest\u001b[1;34m(self, resource, params, files)\u001b[0m\n\u001b[0;32m    122\u001b[0m         except (ConnectionError, ProtocolError, ReadTimeout, ReadTimeoutError, \n\u001b[0;32m    123\u001b[0m                 SSLError, ssl.SSLError, socket.error) as e:\n\u001b[1;32m--> 124\u001b[1;33m             \u001b[1;32mraise\u001b[0m \u001b[0mTwitterConnectionError\u001b[0m\u001b[1;33m(\u001b[0m\u001b[0me\u001b[0m\u001b[1;33m)\u001b[0m\u001b[1;33m\u001b[0m\u001b[0m\n\u001b[0m\u001b[0;32m    125\u001b[0m         \u001b[1;32mreturn\u001b[0m \u001b[0mTwitterResponse\u001b[0m\u001b[1;33m(\u001b[0m\u001b[0mr\u001b[0m\u001b[1;33m,\u001b[0m \u001b[0msession\u001b[0m\u001b[1;33m.\u001b[0m\u001b[0mstream\u001b[0m\u001b[1;33m)\u001b[0m\u001b[1;33m\u001b[0m\u001b[0m\n\u001b[0;32m    126\u001b[0m \u001b[1;33m\u001b[0m\u001b[0m\n",
      "\u001b[1;31mTwitterConnectionError\u001b[0m: ('Connection aborted.', gaierror(11004, 'getaddrinfo failed'))"
     ]
    }
   ],
   "source": [
    "# Collecting all nu_followers's friends' ids and pickling them separately\n",
    "get_friend_ids_and_pickle_object(nu_followers, 'nu', split_pickle = True)"
   ]
  },
  {
   "cell_type": "code",
   "execution_count": 19,
   "metadata": {
    "collapsed": false,
    "scrolled": false
   },
   "outputs": [
    {
     "name": "stdout",
     "output_type": "stream",
     "text": [
      "1017\n"
     ]
    }
   ],
   "source": [
    "for idx,follower in enumerate(nu_followers):\n",
    "    if \"AllieRasmus\" in follower:\n",
    "        print idx"
   ]
  },
  {
   "cell_type": "code",
   "execution_count": 30,
   "metadata": {
    "collapsed": true,
    "scrolled": false
   },
   "outputs": [],
   "source": [
    "nu_followers.sort()\n",
    "nu_followers_2 =  nu_followers[1017:]"
   ]
  },
  {
   "cell_type": "code",
   "execution_count": null,
   "metadata": {
    "collapsed": false,
    "scrolled": true
   },
   "outputs": [
    {
     "name": "stdout",
     "output_type": "stream",
     "text": [
      "Returning --- 633 friends for AllieRasmus\n",
      "Returning --- 161 friends for AllieRubentweet\n",
      "Returning --- 399 friends for AlliedSLS\n",
      "Returning --- 7 friends for AllisonBCanade\n",
      "Returning --- 38 friends for AllisonBMueller\n",
      "Returning --- 26 friends for AllisonChen0925\n",
      "Returning --- 61 friends for AllisonDavisUR\n",
      "Returning --- 783 friends for AllisonETurner\n",
      "Returning --- 1966 friends for AllisonLWong\n",
      "Returning --- 11 friends for AllisonNaval\n",
      "Returning --- 126 friends for Allison_Ledwon\n",
      "Returning --- 300 friends for AllofE_HE"
     ]
    },
    {
     "name": "stderr",
     "output_type": "stream",
     "text": [
      " Got error: {\"errors\":[{\"message\":\"Rate limit exceeded\",\"code\":88}]} \n",
      "sleeping for 15 minutes.\n"
     ]
    },
    {
     "name": "stdout",
     "output_type": "stream",
     "text": [
      "\n",
      "Returning --- 668 friends for AllstateCareers\n",
      "Returning --- 27 friends for AlluringBeauty4\n",
      "Returning --- 726 friends for AllyD2030\n",
      "Returning --- 706 friends for Allys_Law\n",
      "Returning --- 36 friends for AllysonWestling\n",
      "Returning --- 1622 friends for AlmandoCoutinho\n",
      "Returning --- 286 friends for AlohaPrintGroup\n",
      "Returning --- 43 friends for AlonRozenshein\n",
      "Returning --- 413 friends for AlonsoGdelCampo\n",
      "Returning --- 128 friends for Alouettes1234\n",
      "Returning --- 149 friends for AltCurr\n",
      "Returning --- 40 friends for AltKatieDell\n",
      "Returning --- 830 friends for Altair_US"
     ]
    },
    {
     "name": "stderr",
     "output_type": "stream",
     "text": [
      "Got error: {\"errors\":[{\"message\":\"Rate limit exceeded\",\"code\":88}]} \n",
      "sleeping for 15 minutes.\n"
     ]
    },
    {
     "name": "stdout",
     "output_type": "stream",
     "text": [
      "\n",
      "Returning --- 41 friends for AlterBrewing\n",
      "Returning --- 1752 friends for AltheaMcIntyre\n",
      "Returning --- 1593 friends for AltoChicago\n",
      "Returning --- 47 friends for Alto_Love49\n",
      "Returning --- 1926 friends for AlumSPC\n",
      "Returning --- 702 friends for AlumTalks\n",
      "Returning --- 1985 friends for AlumVest\n",
      "Returning --- 74 friends for AlumbunguFelix\n",
      "Returning --- 1709 friends for AlumnForce\n",
      "Returning --- 1025 friends for Alumni333\n",
      "Returning --- 203 friends for AlumniApp\n",
      "Returning --- 848 friends for AlumniBattle\n",
      "Returning --- 349 friends for AlumniBridge\n",
      "Returning --- 192 friends for AlumniChallenge"
     ]
    },
    {
     "name": "stderr",
     "output_type": "stream",
     "text": [
      "Got error: {\"errors\":[{\"message\":\"Rate limit exceeded\",\"code\":88}]} \n",
      "sleeping for 15 minutes.\n"
     ]
    },
    {
     "name": "stdout",
     "output_type": "stream",
     "text": [
      "\n",
      "Returning --- 89 friends for AlumniCharger\n",
      "Returning --- 1467 friends for AlumniFactor\n",
      "Returning --- 209 friends for AlumniFinder\n",
      "Returning --- 96 friends for AlumniForce\n",
      "Returning --- 50 friends for AlumniMedia\n",
      "Returning --- 60 friends for AlumniSocMedia\n",
      "Returning --- 137 friends for AlumniSolutionz\n",
      "Returning --- 211 friends for AlumniThoughts\n",
      "Returning --- 2009 friends for AlumniTrending\n",
      "Returning --- 51 friends for AlumniUDEP\n",
      "Returning --- 264 friends for AlumniVox\n",
      "Returning --- 616 friends for Alumni_Fund\n",
      "Returning --- 863 friends for Alumni_LATAM\n",
      "Returning --- 2001 friends for Alumni_Reviews\n",
      "Returning --- 854 friends for AlvaroCaso"
     ]
    },
    {
     "name": "stderr",
     "output_type": "stream",
     "text": [
      "Got error: {\"errors\":[{\"message\":\"Rate limit exceeded\",\"code\":88}]} \n",
      "sleeping for 15 minutes.\n"
     ]
    },
    {
     "name": "stdout",
     "output_type": "stream",
     "text": [
      "\n",
      "Returning --- 1834 friends for AlvaroGHZ84\n",
      "Returning --- 325 friends for AlvaroParra_\n",
      "Returning --- 1067 friends for AlvinBTilleryJr\n",
      "Returning --- 228 friends for AlwysDwn4CTown\n",
      "Returning --- 46 friends for Aly8181\n",
      "Returning --- 294 friends for AlyaAWoods\n",
      "Returning --- 1187 friends for AlyahAlAswad\n",
      "Returning --- 393 friends for AlysaCortes\n",
      "Returning --- 329 friends for AlysonFronda\n",
      "Returning --- 279 friends for AlysonRayne"
     ]
    },
    {
     "name": "stderr",
     "output_type": "stream",
     "text": [
      "Got error: {\"errors\":[{\"message\":\"Rate limit exceeded\",\"code\":88}]} \n",
      "sleeping for 15 minutes.\n"
     ]
    },
    {
     "name": "stdout",
     "output_type": "stream",
     "text": [
      "\n",
      "Returning --- 1446 friends for AlyssaKent12\n",
      "Returning --- 1985 friends for AlyssaRMonroe\n",
      "Returning --- 116 friends for Alyssa_Raiola"
     ]
    },
    {
     "name": "stderr",
     "output_type": "stream",
     "text": [
      "WARNING:root:<class 'requests.exceptions.ConnectTimeout'> HTTPSConnectionPool(host='api.twitter.com', port=443): Max retries exceeded with url: /1.1/friends/ids.json?count=5000&cursor=-1&screen_name=Alyssa__Kincaid (Caused by ConnectTimeoutError(<requests.packages.urllib3.connection.VerifiedHTTPSConnection object at 0x00000000146D2FD0>, 'Connection to api.twitter.com timed out. (connect timeout=5)'))\n",
      "Got Connection error: sleeping for 15 minutes.\n"
     ]
    },
    {
     "name": "stdout",
     "output_type": "stream",
     "text": [
      "\n",
      "Returning --- 616 friends for Alyssa__Kincaid\n",
      "Returning --- 1946 friends for AlyxPattison\n",
      "Returning --- 262 friends for Alzdoc\n",
      "Returning --- 56 friends for AmUrbanCampus\n",
      "Returning --- 36 friends for Amala_Garg\n",
      "Returning --- 1846 friends for AmandaAchtman\n",
      "Returning --- 5 friends for AmandaEECS\n",
      "Returning --- 598 friends for AmandaFitz8\n",
      "Returning --- 869 friends for AmandaGFlora\n",
      "Returning --- 857 friends for AmandaKayRiv\n",
      "Returning --- 265 friends for AmandaMather\n",
      "Returning --- 3178 friends for AmandaMichelle\n",
      "Returning --- 149 friends for AmandaNenzen"
     ]
    },
    {
     "name": "stderr",
     "output_type": "stream",
     "text": [
      "Got error: {\"errors\":[{\"message\":\"Rate limit exceeded\",\"code\":88}]} \n",
      "sleeping for 15 minutes.\n"
     ]
    },
    {
     "name": "stdout",
     "output_type": "stream",
     "text": [
      "\n",
      "Returning --- 282 friends for AmandaRhynerCDW\n",
      "Returning --- 1971 friends for AmandaSvejda\n",
      "Collected 5000 friends for AmandaVinicky\n",
      "Returning --- 12958 friends for AmandaVinicky\n",
      "Returning --- 36 friends for AmandaWolfson\n",
      "Returning --- 1154 friends for Amanda_Jeanette\n",
      "Returning --- 271 friends for Amanda_K912\n",
      "Returning --- 1274 friends for Amanda_Stoel\n",
      "Returning --- 551 friends for Amanda_Weidner\n",
      "Returning --- 167 friends for AmanoelAlan\n",
      "Returning --- 984 friends for AmaraCNN\n",
      "Returning --- 43 friends for AmaralLab\n",
      "Returning --- 1407 friends for Amazinggreaten"
     ]
    },
    {
     "name": "stderr",
     "output_type": "stream",
     "text": [
      "Got error: {\"errors\":[{\"message\":\"Rate limit exceeded\",\"code\":88}]} \n",
      "sleeping for 15 minutes.\n"
     ]
    },
    {
     "name": "stdout",
     "output_type": "stream",
     "text": [
      "\n",
      "Returning --- 190 friends for Amber32347844\n",
      "Returning --- 653 friends for AmberBemis\n",
      "Returning --- 114 friends for AmberTravisNews\n",
      "Returning --- 58 friends for Amberglaz\n",
      "Returning --- 1645 friends for AmbersIntuition\n",
      "Returning --- 127 friends for AmbystomaM\n",
      "Returning --- 100 friends for AmeliaChenZhao\n",
      "Returning --- 26 friends for AmeliaMikel\n",
      "Returning --- 498 friends for AmeliaTonkin1\n",
      "Returning --- 682 friends for AmelieEnRose"
     ]
    },
    {
     "name": "stderr",
     "output_type": "stream",
     "text": [
      "Got error: {\"errors\":[{\"message\":\"Rate limit exceeded\",\"code\":88}]} \n",
      "sleeping for 15 minutes.\n"
     ]
    },
    {
     "name": "stdout",
     "output_type": "stream",
     "text": [
      "\n",
      "Collected 5000 friends for AmeriCorpsAlums\n",
      "Collected 15000 friends for AmeriCorpsAlums\n",
      "Returning --- 29711 friends for AmeriCorpsAlums\n",
      "Returning --- 719 friends for AmericanChoices\n",
      "Returning --- 442 friends for AmericanHonors\n",
      "Returning --- 783 friends for AmericanIslami1\n",
      "Returning --- 1734 friends for AmericanPetBout\n",
      "Returning --- 82 friends for AmericansLife\n",
      "Returning --- 95 friends for Americas_Hat\n",
      "Returning --- 2089 friends for AmeshiaCross\n",
      "Returning --- 2253 friends for AmeyaPawar47\n",
      "Returning --- 142 friends for Amina_F_Babiii\n",
      "Returning --- 500 friends for AminahAhmed1\n",
      "Returning --- 251 friends for AmineBenMhenni\n",
      "Returning --- 62 friends for AmirVahabikashi"
     ]
    },
    {
     "name": "stderr",
     "output_type": "stream",
     "text": [
      "Got error: {\"errors\":[{\"message\":\"Rate limit exceeded\",\"code\":88}]} \n",
      "sleeping for 15 minutes.\n"
     ]
    },
    {
     "name": "stdout",
     "output_type": "stream",
     "text": [
      "\n",
      "Returning --- 9 friends for AmjedShafique\n",
      "Returning --- 221 friends for AmoralBrothers"
     ]
    },
    {
     "name": "stderr",
     "output_type": "stream",
     "text": [
      "WARNING:root:<class 'requests.exceptions.ConnectTimeout'> HTTPSConnectionPool(host='api.twitter.com', port=443): Max retries exceeded with url: /1.1/friends/ids.json?count=5000&cursor=-1&screen_name=AmpliVox (Caused by ConnectTimeoutError(<requests.packages.urllib3.connection.VerifiedHTTPSConnection object at 0x00000000146D2DD8>, 'Connection to api.twitter.com timed out. (connect timeout=5)'))\n",
      "Got Connection error: sleeping for 15 minutes.\n"
     ]
    },
    {
     "name": "stdout",
     "output_type": "stream",
     "text": [
      "\n",
      "Returning --- 4970 friends for AmpliVox\n",
      "Returning --- 122 friends for AmritaBhanja\n",
      "Returning --- 506 friends for AmtrakStudents\n",
      "Returning --- 125 friends for AmwayAT\n",
      "Returning --- 22 friends for AmyBadgerAsarav\n",
      "Returning --- 4612 friends for AmyChenWrites\n",
      "Returning --- 19 friends for AmyDDNYC\n",
      "Returning --- 7 friends for AmyJersild\n",
      "Returning --- 78 friends for AmyLi89\n",
      "Returning --- 547 friends for AmyMeaks104"
     ]
    },
    {
     "name": "stderr",
     "output_type": "stream",
     "text": [
      "Got error: {\"errors\":[{\"message\":\"Rate limit exceeded\",\"code\":88}]} \n",
      "sleeping for 15 minutes.\n"
     ]
    },
    {
     "name": "stdout",
     "output_type": "stream",
     "text": [
      "\n",
      "Returning --- 27 friends for AmyNiederberger\n",
      "Returning --- 412 friends for AmyPSAmyPS\n",
      "Returning --- 3081 friends for AmyPayneCS\n",
      "Returning --- 282 friends for AmyPechacek\n",
      "Returning --- 1985 friends for AmyPopeB\n",
      "Returning --- 85 friends for AmyProger\n",
      "Returning --- 2007 friends for AmySMillstone\n",
      "Returning --- 539 friends for AmyTroppmann\n",
      "Returning --- 4328 friends for AmyVernon\n",
      "Returning --- 627 friends for AmyWBuckman\n",
      "Returning --- 32 friends for AmyWDJobs\n",
      "Returning --- 45 friends for Amy__Zhou\n",
      "Returning --- 40 friends for Ana808Anna"
     ]
    },
    {
     "name": "stderr",
     "output_type": "stream",
     "text": [
      "Got error: {\"errors\":[{\"message\":\"Rate limit exceeded\",\"code\":88}]} \n",
      "sleeping for 15 minutes.\n"
     ]
    },
    {
     "name": "stdout",
     "output_type": "stream",
     "text": [
      "\n",
      "Returning --- 55 friends for AnaFrieri\n",
      "Returning --- 998 friends for AnaMRossetti\n",
      "Returning --- 58 friends for AnaStabel\n",
      "Returning --- 505 friends for AnakinMorris\n",
      "Returning --- 307 friends for Anand_88_Patel\n",
      "Returning --- 179 friends for AnasGhazi7\n",
      "Returning --- 108 friends for AnasMaid\n",
      "Returning --- 116 friends for AnastasiaMav\n",
      "Returning --- 235 friends for Anayalader\n",
      "Returning --- 226 friends for Anaydave20\n",
      "Returning --- 13 friends for AnchaleePra\n",
      "Returning --- 178 friends for Ancilla_Dei\n",
      "Returning --- 41 friends for And1Tm"
     ]
    },
    {
     "name": "stderr",
     "output_type": "stream",
     "text": [
      "Got error: {\"errors\":[{\"message\":\"Rate limit exceeded\",\"code\":88}]} \n",
      "sleeping for 15 minutes.\n"
     ]
    },
    {
     "name": "stdout",
     "output_type": "stream",
     "text": [
      "\n",
      "Returning --- 280 friends for Andee741\n",
      "Returning --- 14 friends for AndersenStark\n",
      "Returning --- 124 friends for AndersnAthletic\n",
      "Returning --- 2210 friends for AndersonAlumni\n",
      "Returning --- 655 friends for AndersonLock\n",
      "Returning --- 140 friends for Anderthal3\n",
      "Returning --- 475 friends for AndhiKurniawan\n",
      "Returning --- 379 friends for Andi_Konrath\n",
      "Returning --- 885 friends for AndraMunteanu\n",
      "Returning --- 219 friends for Andraf88\n",
      "Returning --- 126 friends for AndreJacksonAJC\n",
      "Returning --- 286 friends for AndreaAcomb\n",
      "Returning --- 256 friends for AndreaBackman05\n",
      "Returning --- 245 friends for AndreaCastanoR\n",
      "Returning --- 1031 friends for AndreaFarnan"
     ]
    },
    {
     "name": "stderr",
     "output_type": "stream",
     "text": [
      "Got error: {\"errors\":[{\"message\":\"Rate limit exceeded\",\"code\":88}]} \n",
      "sleeping for 15 minutes.\n"
     ]
    },
    {
     "name": "stdout",
     "output_type": "stream",
     "text": [
      "\n",
      "Returning --- 64 friends for AndreaFord3\n",
      "Returning --- 42 friends for AndreaHe1\n",
      "Returning --- 56 friends for AndreaHupman\n",
      "Returning --- 267 friends for AndreaKang1\n",
      "Returning --- 418 friends for AndreaLaValley\n",
      "Returning --- 488 friends for AndreaLolailo\n",
      "Returning --- 1316 friends for AndreaNordgren\n",
      "Returning --- 31 friends for AndreaOnPoint\n",
      "Returning --- 2440 friends for AndreaPLustig\n",
      "Returning --- 209 friends for AndreaPatete\n",
      "Returning --- 962 friends for AndreaT79537921\n",
      "Returning --- 1995 friends for AndreaTarjani\n",
      "Returning --- 1473 friends for Andrea_Andy11\n",
      "Returning --- 120 friends for Andrea_Flores16"
     ]
    },
    {
     "name": "stderr",
     "output_type": "stream",
     "text": [
      "Got error: {\"errors\":[{\"message\":\"Rate limit exceeded\",\"code\":88}]} \n",
      "sleeping for 15 minutes.\n"
     ]
    },
    {
     "name": "stdout",
     "output_type": "stream",
     "text": [
      "\n",
      "Returning --- 111 friends for Andreabminor\n",
      "Returning --- 121 friends for AndreasGizaw\n",
      "Returning --- 206 friends for AndreasMohring\n",
      "Returning --- 37 friends for AndreiHalavaty\n",
      "Returning --- 641 friends for AndresJGomez\n",
      "Returning --- 1217 friends for AndresSuay\n",
      "Returning --- 113 friends for Andrew04102\n",
      "Returning --- 2636 friends for AndrewAsiaCoach\n",
      "Returning --- 48 friends for AndrewBahn\n",
      "Returning --- 285 friends for AndrewDragunas\n",
      "Returning --- 295 friends for AndrewGaffey\n",
      "Returning --- 358 friends for AndrewGothelf\n",
      "Returning --- 1907 friends for AndrewJBelanger\n",
      "Returning --- 103 friends for AndrewJSauer"
     ]
    },
    {
     "name": "stderr",
     "output_type": "stream",
     "text": [
      "Got error: {\"errors\":[{\"message\":\"Rate limit exceeded\",\"code\":88}]} \n",
      "sleeping for 15 minutes.\n"
     ]
    },
    {
     "name": "stdout",
     "output_type": "stream",
     "text": [
      "\n",
      "Returning --- 264 friends for AndrewJShin\n",
      "Returning --- 210 friends for AndrewJTrenkle\n",
      "Returning --- 507 friends for AndrewJacksonNU\n",
      "Returning --- 37 friends for AndrewLap\n",
      "Returning --- 10 friends for AndrewMMaxwell1\n",
      "Returning --- 1946 friends for AndrewNawrocki\n",
      "Returning --- 2001 friends for AndrewOHazard\n",
      "Returning --- 196 friends for AndrewRKaiser\n",
      "Returning --- 191 friends for AndrewSze\n",
      "Returning --- 1970 friends for AndrewThompsonC\n",
      "Returning --- 508 friends for AndrewWNissen\n",
      "Returning --- 52 friends for AndrewYWShin\n",
      "Returning --- 40 friends for Andrew_Giniat\n",
      "Returning --- 70 friends for Andrew_He95\n",
      "Returning --- 294 friends for Andrew_P_Walker"
     ]
    },
    {
     "name": "stderr",
     "output_type": "stream",
     "text": [
      "Got error: {\"errors\":[{\"message\":\"Rate limit exceeded\",\"code\":88}]} \n",
      "sleeping for 15 minutes.\n"
     ]
    },
    {
     "name": "stdout",
     "output_type": "stream",
     "text": [
      "\n",
      "Returning --- 42 friends for AndrewslgPa\n",
      "Returning --- 1541 friends for AndroidIN1\n",
      "Returning --- 1462 friends for Andry_0\n",
      "Returning --- 1045 friends for AndyA3\n",
      "Returning --- 909 friends for AndyBrown1314\n",
      "Returning --- 727 friends for AndyFeldmen\n",
      "Returning --- 3 friends for AndyMadorsky\n",
      "Returning --- 452 friends for AndyOng\n",
      "Returning --- 600 friends for AndyRodheim\n",
      "Returning --- 962 friends for AndyShain\n",
      "Returning --- 318 friends for AndyShess\n",
      "Returning --- 603 friends for AndyWolanski"
     ]
    },
    {
     "name": "stderr",
     "output_type": "stream",
     "text": [
      "Got error: {\"errors\":[{\"message\":\"Rate limit exceeded\",\"code\":88}]} \n",
      "sleeping for 15 minutes.\n"
     ]
    },
    {
     "name": "stdout",
     "output_type": "stream",
     "text": [
      "\n",
      "Returning --- 161 friends for Andy_Sabin\n",
      "Returning --- 129 friends for Andy_the_Giant\n",
      "Returning --- 1362 friends for AnesthesiaNet\n",
      "Returning --- 330 friends for AnetaElizabeth\n",
      "Returning --- 62 friends for AneukNok\n",
      "Returning --- 186 friends for AngeSeve\n",
      "Returning --- 61 friends for Angel_A_Suarez\n",
      "Returning --- 49 friends for Angela06Yang\n",
      "Returning --- 21 friends for AngelaGranfield\n",
      "Returning --- 335 friends for AngelaJCain\n",
      "Returning --- 1960 friends for AngelaKWalker\n",
      "Returning --- 198 friends for AngelaMHosbein\n",
      "Returning --- 367 friends for Angelaa_Lee"
     ]
    },
    {
     "name": "stderr",
     "output_type": "stream",
     "text": [
      "Got error: {\"errors\":[{\"message\":\"Rate limit exceeded\",\"code\":88}]} \n",
      "sleeping for 15 minutes.\n"
     ]
    },
    {
     "name": "stdout",
     "output_type": "stream",
     "text": [
      "\n",
      "Returning --- 864 friends for Angelamurf\n",
      "Returning --- 988 friends for Angeldorm\n",
      "Returning --- 1659 friends for AngeldormU\n",
      "Returning --- 162 friends for Angelic56966476\n",
      "Returning --- 30 friends for Angelo_O_Vozza\n",
      "Returning --- 16 friends for AngelshellXie\n",
      "Returning --- 239 friends for AngieLeeV\n",
      "Returning --- 1238 friends for AngieMcMonigal\n",
      "Returning --- 1961 friends for Angiolieri\n",
      "Returning --- 1990 friends for AnglimWinery\n",
      "Returning --- 11 friends for AngryMe023\n",
      "Returning --- 5 friends for Angst_ROM\n",
      "Returning --- 687 friends for AniVartevan\n",
      "Returning --- 49 friends for AniitaaCF"
     ]
    },
    {
     "name": "stderr",
     "output_type": "stream",
     "text": [
      "Got error: {\"errors\":[{\"message\":\"Rate limit exceeded\",\"code\":88}]} \n",
      "sleeping for 15 minutes.\n"
     ]
    },
    {
     "name": "stdout",
     "output_type": "stream",
     "text": [
      "\n",
      "Returning --- 313 friends for AnikaHopeee\n",
      "Returning --- 2003 friends for AnilNauriya\n",
      "Returning --- 3782 friends for AnimalAmendment\n",
      "Returning --- 334 friends for Animohs\n",
      "Returning --- 129 friends for AnissaSpradlin\n",
      "Returning --- 25 friends for AnitaCisternasF\n",
      "Returning --- 133 friends for AnitaKcy\n",
      "Returning --- 321 friends for AnjliJain\n",
      "Returning --- 64 friends for AnjuHolay\n",
      "Returning --- 342 friends for Anjulei\n",
      "Returning --- 2001 friends for AnkicaMarCom\n",
      "Returning --- 160 friends for AnkurAsthana\n",
      "Returning --- 2745 friends for AnnArborArtFair\n",
      "Returning --- 51 friends for AnnAtkinson42\n",
      "Returning --- 159 friends for AnnBehaArch"
     ]
    },
    {
     "name": "stderr",
     "output_type": "stream",
     "text": [
      "Got error: {\"errors\":[{\"message\":\"Rate limit exceeded\",\"code\":88}]} \n",
      "sleeping for 15 minutes.\n"
     ]
    },
    {
     "name": "stdout",
     "output_type": "stream",
     "text": [
      "\n",
      "Returning --- 2221 friends for AnnCOleson\n",
      "Returning --- 256 friends for AnnGralenMorris\n",
      "Returning --- 29 friends for AnnHerring\n",
      "Returning --- 521 friends for AnnMakir\n",
      "Returning --- 44 friends for AnnMarieWW\n",
      "Returning --- 70 friends for AnnPollack1\n",
      "Returning --- 188 friends for AnnSomers\n",
      "Returning --- 1213 friends for Ann_Davis1\n",
      "Returning --- 216 friends for AnnaBelli513\n",
      "Returning --- 694 friends for AnnaBurkhart\n",
      "Returning --- 754 friends for AnnaCSiri\n",
      "Returning --- 19 friends for AnnaDanqing\n",
      "Returning --- 74 friends for AnnaGawedzka"
     ]
    },
    {
     "name": "stderr",
     "output_type": "stream",
     "text": [
      "Got error: {\"errors\":[{\"message\":\"Rate limit exceeded\",\"code\":88}]} \n",
      "sleeping for 15 minutes.\n"
     ]
    },
    {
     "name": "stdout",
     "output_type": "stream",
     "text": [
      "\n",
      "Returning --- 149 friends for AnnaHornbacher\n",
      "Returning --- 194 friends for AnnaKreynin\n",
      "Returning --- 263 friends for AnnaSirianni\n",
      "Returning --- 1154 friends for AnnaT\n",
      "Returning --- 896 friends for AnnaYum\n",
      "Returning --- 191 friends for AnnabelGEdwards\n",
      "Returning --- 313 friends for Annabelle_Ju\n",
      "Returning --- 359 friends for Annakro5\n",
      "Returning --- 72 friends for Annamessier\n",
      "Returning --- 127 friends for AnnasR\n",
      "Returning --- 89 friends for AnneBarrett97\n",
      "Returning --- 40 friends for AnneC3384219\n",
      "Returning --- 2059 friends for AnneLipton"
     ]
    },
    {
     "name": "stderr",
     "output_type": "stream",
     "text": [
      "Got error: {\"errors\":[{\"message\":\"Rate limit exceeded\",\"code\":88}]} \n",
      "sleeping for 15 minutes.\n"
     ]
    },
    {
     "name": "stdout",
     "output_type": "stream",
     "text": [
      "\n",
      "Returning --- 1502 friends for AnneMarieWTHR\n",
      "Returning --- 428 friends for AnneMarieWolff\n",
      "Returning --- 893 friends for AnneMcMullin\n",
      "Returning --- 321 friends for AnneSmith839\n",
      "Returning --- 558 friends for Anne_Krysiak\n",
      "Returning --- 199 friends for Anne_Rock17\n",
      "Returning --- 194 friends for Annemarieakin\n",
      "Returning --- 51 friends for Annettelise\n",
      "Returning --- 280 friends for AnnieAckley1\n",
      "Returning --- 111 friends for AnnieDorToussai\n",
      "Returning --- 45 friends for AnnieFan3\n",
      "Returning --- 441 friends for AnnieJakes\n",
      "Returning --- 282 friends for AnnieLBieber\n",
      "Returning --- 425 friends for AnnieNewsOn6"
     ]
    },
    {
     "name": "stderr",
     "output_type": "stream",
     "text": [
      "Got error: {\"errors\":[{\"message\":\"Rate limit exceeded\",\"code\":88}]} \n",
      "sleeping for 15 minutes.\n"
     ]
    },
    {
     "name": "stdout",
     "output_type": "stream",
     "text": [
      "\n",
      "Returning --- 352 friends for AnnieReznik\n",
      "Returning --- 622 friends for Annie_Brennen\n",
      "Returning --- 287 friends for Annie_Hodges\n",
      "Returning --- 90 friends for AnomalousS\n",
      "Returning --- 556 friends for Anonoomoose\n",
      "Returning --- 94 friends for AnonymousJ09\n",
      "Returning --- 18 friends for AnonymousPrime9\n",
      "Returning --- 81 friends for AnshuliPatil\n",
      "Returning --- 164 friends for AnshumanVaidya\n",
      "Returning --- 46 friends for AnsorDIY\n",
      "Returning --- 1283 friends for AntDebra\n",
      "Returning --- 236 friends for AntheaWeng\n",
      "Returning --- 551 friends for AnthemOnCampus"
     ]
    },
    {
     "name": "stderr",
     "output_type": "stream",
     "text": [
      "Got error: {\"errors\":[{\"message\":\"Rate limit exceeded\",\"code\":88}]} \n",
      "sleeping for 15 minutes.\n"
     ]
    },
    {
     "name": "stdout",
     "output_type": "stream",
     "text": [
      "\n",
      "Returning --- 60 friends for AnthonyAngueira\n",
      "Returning --- 261 friends for AnthonyERoberts\n",
      "Returning --- 96 friends for AnthonyG_Q\n",
      "Returning --- 1375 friends for AnthonyHebron\n",
      "Returning --- 16 friends for AnthonyHornet10\n",
      "Returning --- 378 friends for AnthonyRGibbs\n",
      "Returning --- 353 friends for AnthonyRSwain\n",
      "Returning --- 291 friends for AnthonyRuelloux\n",
      "Returning --- 1018 friends for AnthonyTravel\n",
      "Collected 5000 friends for Anthony_Becht\n",
      "Collected 15000 friends for Anthony_Becht\n",
      "Collected 30000 friends for Anthony_Becht\n",
      "Found more than 50,000 friends. Returning error code = -3"
     ]
    },
    {
     "name": "stderr",
     "output_type": "stream",
     "text": [
      "Got error: {\"errors\":[{\"message\":\"Rate limit exceeded\",\"code\":88}]} \n",
      "sleeping for 15 minutes.\n"
     ]
    },
    {
     "name": "stdout",
     "output_type": "stream",
     "text": [
      "\n",
      "Returning --- 489 friends for AntiCandy\n",
      "Returning --- 3613 friends for AntiCruelty\n",
      "Returning --- 2014 friends for AntiGlib\n",
      "Returning --- 358 friends for AntoinetteIsama\n",
      "Returning --- 242 friends for AntoniaVrana\n",
      "Returning --- 395 friends for AntonioMccray15\n",
      "Returning --- 1993 friends for AntonioReus\n",
      "Returning --- 1591 friends for AntoniodAlbero\n",
      "Returning --- 185 friends for Antonymous24\n",
      "Returning --- 202 friends for AnyNutmeg\n",
      "Returning --- 2008 friends for AnyaBeaupre\n",
      "Returning --- 1927 friends for AnythingPrints\n",
      "Returning --- 362 friends for AnytimeMailbox\n",
      "Returning --- 73 friends for AonCampus\n",
      "Returning --- 750 friends for ApexElite_ED"
     ]
    },
    {
     "name": "stderr",
     "output_type": "stream",
     "text": [
      "Got error: {\"errors\":[{\"message\":\"Rate limit exceeded\",\"code\":88}]} \n",
      "sleeping for 15 minutes.\n"
     ]
    },
    {
     "name": "stdout",
     "output_type": "stream",
     "text": [
      "\n",
      "Collected 5000 friends for ApogeeCorp\n",
      "Collected 15000 friends for ApogeeCorp\n",
      "Returning --- 29879 friends for ApogeeCorp\n",
      "Returning --- 117 friends for Apollo_Tutors\n",
      "Returning --- 588 friends for AposangiPosangi\n",
      "Returning --- 782 friends for ApostropheFdn\n",
      "Returning --- 377 friends for AppDrivenToys\n",
      "Returning --- 1527 friends for AppSuiteLLC\n",
      "Returning --- 179 friends for AppTreeRob\n",
      "Returning --- 10 friends for Applause4aCause\n",
      "Returning --- 1532 friends for ApplauseNU\n",
      "Returning --- 3399 friends for AppleseedLane\n",
      "Returning --- 68 friends for AppletreeU\n",
      "Returning --- 321 friends for ApplicationsUsa\n",
      "Returning --- 805 friends for Applied_Rad"
     ]
    },
    {
     "name": "stderr",
     "output_type": "stream",
     "text": [
      "Got error: {\"errors\":[{\"message\":\"Rate limit exceeded\",\"code\":88}]} \n",
      "sleeping for 15 minutes.\n"
     ]
    },
    {
     "name": "stdout",
     "output_type": "stream",
     "text": [
      "\n",
      "Returning --- 125 friends for ApplyMaryland\n",
      "Returning --- 86 friends for ApplyTogether\n",
      "Returning --- 427 friends for ApplytoCollege\n",
      "Returning --- 32 friends for Apprendum\n",
      "Returning --- 335 friends for AptPeople\n",
      "Returning --- 1968 friends for Aquaclimb_LG\n",
      "Returning --- 876 friends for Aquaskies83\n",
      "Returning --- 71 friends for Aquee03\n",
      "Returning --- 60 friends for Aquee07\n",
      "Returning --- 654 friends for Ar0724Rowen\n",
      "Returning --- 332 friends for Ara_Crescencio\n",
      "Returning --- 106 friends for Arachnology\n",
      "Returning --- 186 friends for Aramark_Mike\n",
      "Returning --- 313 friends for Araujo43Araujo"
     ]
    },
    {
     "name": "stderr",
     "output_type": "stream",
     "text": [
      "Got error: {\"errors\":[{\"message\":\"Rate limit exceeded\",\"code\":88}]} \n",
      "sleeping for 15 minutes.\n"
     ]
    },
    {
     "name": "stdout",
     "output_type": "stream",
     "text": [
      "\n",
      "Returning --- 732 friends for ArcadiaEngland\n",
      "Returning --- 130 friends for ArcadiaScotland\n",
      "Returning --- 647 friends for ArchakMittal\n",
      "Returning --- 101 friends for ArchanaThakkar1\n",
      "Returning --- 355 friends for ArchangeAntoine\n",
      "Returning --- 1130 friends for ArchieFrink\n",
      "Returning --- 325 friends for Arcitura\n",
      "Returning --- 100 friends for ArdenSchuman\n",
      "Returning --- 2001 friends for Arden_Manning\n",
      "Returning --- 243 friends for ArdentAustenite\n",
      "Returning --- 416 friends for ArdyKassakhian\n",
      "Collected 5000 friends for Area224\n",
      "Collected 15000 friends for Area224\n",
      "Returning --- 28118 friends for Area224\n",
      "Returning --- 80 friends for Areaona14"
     ]
    },
    {
     "name": "stderr",
     "output_type": "stream",
     "text": [
      "Got error: {\"errors\":[{\"message\":\"Rate limit exceeded\",\"code\":88}]} \n",
      "sleeping for 15 minutes.\n"
     ]
    },
    {
     "name": "stdout",
     "output_type": "stream",
     "text": [
      "\n",
      "Returning --- 176 friends for ArgoFinancial\n",
      "Returning --- 62 friends for ArgoTeaEvanston\n",
      "Returning --- 407 friends for AriDitkofsky\n",
      "Returning --- 1706 friends for AriGliketoo\n",
      "Returning --- 255 friends for AriMeltzer12\n",
      "Returning --- 1093 friends for AriRossen\n",
      "Returning --- 4 friends for AriadneWest\n",
      "Returning --- 228 friends for ArianaBrock23\n",
      "Returning --- 67 friends for Ariani_GR\n",
      "Returning --- 175 friends for AriannaBee\n",
      "Returning --- 97 friends for AricStock\n",
      "Returning --- 246 friends for ArielCBJ\n",
      "Returning --- 18 friends for ArielCooninNU\n",
      "Returning --- 41 friends for ArielStein11"
     ]
    },
    {
     "name": "stderr",
     "output_type": "stream",
     "text": [
      "Got error: {\"errors\":[{\"message\":\"Rate limit exceeded\",\"code\":88}]} \n",
      "sleeping for 15 minutes.\n"
     ]
    },
    {
     "name": "stdout",
     "output_type": "stream",
     "text": [
      "\n",
      "Returning --- 23 friends for ArielYak\n",
      "Returning --- 552 friends for Ariel_Plasencia\n",
      "Returning --- 21 friends for Arielleelan\n",
      "Returning --- 28 friends for ArighnoDas\n",
      "Returning --- 2540 friends for Arkivum\n",
      "Returning --- 118 friends for ArleneTong\n",
      "Returning --- 73 friends for ArlensChicken\n",
      "Returning --- 1258 friends for Arlington_Park\n",
      "Returning --- 266 friends for Arlyn_Reed\n",
      "Returning --- 733 friends for ArmandoDeCas\n",
      "Returning --- 7 friends for ArmedWatchDog\n",
      "Returning --- 1802 friends for ArmenChangelian"
     ]
    },
    {
     "name": "stderr",
     "output_type": "stream",
     "text": [
      "Got error: {\"errors\":[{\"message\":\"Rate limit exceeded\",\"code\":88}]} \n",
      "sleeping for 15 minutes.\n"
     ]
    },
    {
     "name": "stdout",
     "output_type": "stream",
     "text": [
      "\n",
      "Returning --- 30 friends for ArminderELMA\n",
      "Returning --- 1032 friends for Armond_Dorsey\n",
      "Returning --- 844 friends for ArmyChicagoCdr\n",
      "Returning --- 718 friends for ArmyChicagoXO\n",
      "Returning --- 100 friends for ArmyPAGuy\n",
      "Returning --- 247 friends for ArmyRctg5A4E\n",
      "Returning --- 911 friends for ArmyRctgChicago\n",
      "Returning --- 2224 friends for ArnauGavalda\n",
      "Returning --- 54 friends for ArnoldDiazPIX11\n",
      "Returning --- 3 friends for ArnoldFabrikant\n",
      "Returning --- 47 friends for ArnoldSniknej\n",
      "Returning --- 2498 friends for ArochaAlejandro\n",
      "Returning --- 267 friends for ArpitaAneja"
     ]
    },
    {
     "name": "stderr",
     "output_type": "stream",
     "text": [
      "Got error: {\"errors\":[{\"message\":\"Rate limit exceeded\",\"code\":88}]} \n",
      "sleeping for 15 minutes.\n"
     ]
    },
    {
     "name": "stdout",
     "output_type": "stream",
     "text": [
      "\n",
      "Returning --- 1218 friends for Arroweye\n",
      "Returning --- 740 friends for ArshiNarang\n",
      "Returning --- 1451 friends for ArtFuturaRIC\n",
      "Returning --- 1581 friends for ArtInstituteEA\n",
      "Returning --- 347 friends for ArtandIvy\n",
      "Returning --- 230 friends for ArthurEMeyerIV\n",
      "Returning --- 1334 friends for ArtistoftheWall\n",
      "Returning --- 61 friends for ArtsAtNU\n",
      "Returning --- 774 friends for ArtsAucklandUni\n",
      "Returning --- 1026 friends for ArtsLettersND\n",
      "Returning --- 250 friends for ArturSepp\n",
      "Returning --- 191 friends for Artyogababe"
     ]
    },
    {
     "name": "stderr",
     "output_type": "stream",
     "text": [
      "Got error: {\"errors\":[{\"message\":\"Rate limit exceeded\",\"code\":88}]} \n",
      "sleeping for 15 minutes.\n"
     ]
    },
    {
     "name": "stdout",
     "output_type": "stream",
     "text": [
      "\n",
      "Returning --- 246 friends for ArtytheAlien\n",
      "Returning --- 997 friends for ArzuIrk\n",
      "Returning --- 259 friends for AsASarahPeters\n",
      "Returning --- 143 friends for AsafAshirov\n",
      "Returning --- 115 friends for Aschec\n",
      "Returning --- 29 friends for AsfooraTheFilm\n",
      "Returning --- 280 friends for AshBAltus\n",
      "Returning --- 333 friends for AshBrando419\n",
      "Returning --- 453 friends for AshaEvanston\n",
      "Returning --- 146 friends for AshintyaSingh\n",
      "Returning --- 736 friends for Ashland_Univ\n",
      "Returning --- 292 friends for Ashlee860"
     ]
    },
    {
     "name": "stderr",
     "output_type": "stream",
     "text": [
      "Got error: {\"errors\":[{\"message\":\"Rate limit exceeded\",\"code\":88}]} \n",
      "sleeping for 15 minutes.\n"
     ]
    },
    {
     "name": "stdout",
     "output_type": "stream",
     "text": [
      "\n",
      "Returning --- 287 friends for Ashlei__C\n",
      "Returning --- 283 friends for AshleighCote\n",
      "Returning --- 14 friends for AshleighMercado\n",
      "Returning --- 387 friends for Ashley22Sanders\n",
      "Returning --- 1223 friends for AshleyCullins\n",
      "Returning --- 1278 friends for AshleyFetters\n",
      "Returning --- 276 friends for AshleyGork\n",
      "Returning --- 256 friends for AshleyGraves\n",
      "Returning --- 229 friends for AshleyJFields\n",
      "Returning --- 253 friends for AshleyLloyd1234\n",
      "Returning --- 1407 friends for AshleySears6\n",
      "Returning --- 1775 friends for AshleyTV23\n",
      "Returning --- 716 friends for AshleyYore"
     ]
    },
    {
     "name": "stderr",
     "output_type": "stream",
     "text": [
      "Got error: {\"errors\":[{\"message\":\"Rate limit exceeded\",\"code\":88}]} \n",
      "sleeping for 15 minutes.\n"
     ]
    },
    {
     "name": "stdout",
     "output_type": "stream",
     "text": [
      "\n",
      "Returning --- 1953 friends for Ashley_Beste\n",
      "Returning --- 107 friends for Ashley_Swoond\n",
      "Returning --- 293 friends for Ashmacleannn\n",
      "Returning --- 197 friends for AshmerAslam\n",
      "Returning --- 125 friends for AshtonPachucki\n",
      "Returning --- 63 friends for AshworthReviews\n",
      "Returning --- 635 friends for AsianAmBiz\n",
      "Returning --- 451 friends for AsmaaAljuhani\n",
      "Returning --- 126 friends for Asmussen_Eric\n",
      "Returning --- 59 friends for AsooGanem\n",
      "Returning --- 60 friends for Aspartame_Xu\n",
      "Returning --- 1121 friends for AspenAscend\n",
      "Returning --- 892 friends for AspenBizSociety"
     ]
    },
    {
     "name": "stderr",
     "output_type": "stream",
     "text": [
      "Got error: {\"errors\":[{\"message\":\"Rate limit exceeded\",\"code\":88}]} \n",
      "sleeping for 15 minutes.\n"
     ]
    },
    {
     "name": "stdout",
     "output_type": "stream",
     "text": [
      "\n",
      "Returning --- 1053 friends for AspiringExecs\n",
      "Returning --- 218 friends for Aspottella\n",
      "Returning --- 118 friends for AssemCathProChi\n",
      "Returning --- 1300 friends for AssessmentWiz\n",
      "Returning --- 815 friends for AssetCampus\n",
      "Returning --- 4311 friends for AssurantCareers\n",
      "Returning --- 565 friends for Astarelxx\n",
      "Returning --- 1347 friends for AstasiaWillTV\n",
      "Returning --- 2007 friends for AsteroidLab\n",
      "Returning --- 1871 friends for Astersheen\n",
      "Returning --- 208 friends for AstroALee\n",
      "Returning --- 193 friends for Asyacsure\n",
      "Returning --- 14 friends for AtSpelledOut\n",
      "Returning --- 135 friends for AteMyOwnThug"
     ]
    },
    {
     "name": "stderr",
     "output_type": "stream",
     "text": [
      "Got error: {\"errors\":[{\"message\":\"Rate limit exceeded\",\"code\":88}]} \n",
      "sleeping for 15 minutes.\n"
     ]
    },
    {
     "name": "stdout",
     "output_type": "stream",
     "text": [
      "\n",
      "Returning --- 321 friends for AtelierTen\n",
      "Returning --- 246 friends for AterEques\n",
      "Returning --- 1771 friends for AthenaAbroad\n",
      "Returning --- 96 friends for Athena_Dalton\n",
      "Returning --- 1937 friends for AthinarayananS\n",
      "Returning --- 924 friends for AthirMahmud\n",
      "Returning --- 1031 friends for Athleta_Nbrkct\n",
      "Returning --- 3017 friends for AthleteNet\n",
      "Returning --- 785 friends for AtiKimmel\n",
      "Returning --- 49 friends for AtlasCareers\n",
      "Returning --- 491 friends for AtlasPrep\n",
      "Returning --- 412 friends for Atteflomid\n",
      "Returning --- 991 friends for Atthechamp\n",
      "Returning --- 183 friends for AtwaterChicago\n",
      "Returning --- 2817 friends for AtwaterWCVB"
     ]
    },
    {
     "name": "stderr",
     "output_type": "stream",
     "text": [
      "Got error: {\"errors\":[{\"message\":\"Rate limit exceeded\",\"code\":88}]} \n",
      "sleeping for 15 minutes.\n"
     ]
    },
    {
     "name": "stdout",
     "output_type": "stream",
     "text": [
      "\n",
      "Returning --- 40 friends for Aubree12790\n",
      "Returning --- 348 friends for AubreyReports\n",
      "Returning --- 808 friends for AuckUniBusiness\n",
      "Returning --- 1599 friends for AuctionCareer\n",
      "Returning --- 195 friends for Audaviv\n",
      "Returning --- 241 friends for AudeGrinner\n",
      "Returning --- 219 friends for Audentes\n",
      "Returning --- 2045 friends for AudioSparx\n",
      "Returning --- 282 friends for Audiovert\n",
      "Returning --- 44 friends for AuftoBus\n",
      "Returning --- 829 friends for AugieAlumni\n",
      "Returning --- 291 friends for Aunna777\n",
      "Returning --- 648 friends for AunnaMarzen\n",
      "Returning --- 88 friends for AuntShar1\n",
      "Returning --- 1929 friends for AuntieEvanSays"
     ]
    },
    {
     "name": "stderr",
     "output_type": "stream",
     "text": [
      "Got error: {\"errors\":[{\"message\":\"Rate limit exceeded\",\"code\":88}]} \n",
      "sleeping for 15 minutes.\n"
     ]
    },
    {
     "name": "stdout",
     "output_type": "stream",
     "text": [
      "\n",
      "Returning --- 20 friends for Aurene99\n",
      "Returning --- 937 friends for AuroraIL_Buzz\n",
      "Returning --- 95 friends for Auroraflores16\n",
      "Returning --- 635 friends for AustinAlfredson\n",
      "Returning --- 55 friends for AustinBLawrence\n",
      "Returning --- 311 friends for AustinDuus\n",
      "Returning --- 80 friends for AustinKassner\n",
      "Returning --- 67 friends for AustinManross\n",
      "Returning --- 40 friends for AustinShriner\n",
      "Returning --- 249 friends for AustinSiegel23\n",
      "Returning --- 20 friends for AustinTmusic\n",
      "Returning --- 192 friends for AustraliaCampus\n",
      "Returning --- 708 friends for AuthenticLender\n",
      "Returning --- 1444 friends for AuthorLinda2"
     ]
    },
    {
     "name": "stderr",
     "output_type": "stream",
     "text": [
      "Got error: {\"errors\":[{\"message\":\"Rate limit exceeded\",\"code\":88}]} \n",
      "sleeping for 15 minutes.\n"
     ]
    },
    {
     "name": "stdout",
     "output_type": "stream",
     "text": [
      "\n",
      "Returning --- 290 friends for AutismPluggedIn\n",
      "Returning --- 70 friends for AutismSpeaksUBU\n",
      "Returning --- 1438 friends for AutoDataSystems\n",
      "Returning --- 402 friends for AutreyK\n",
      "Returning --- 163 friends for AutumNel21\n",
      "Returning --- 642 friends for AvaRWallace\n",
      "Returning --- 246 friends for Ava_Vilhauer\n",
      "Returning --- 15 friends for AvanaiVanai\n",
      "Returning --- 157 friends for AvayaCareers\n",
      "Returning --- 980 friends for AventureStaff\n",
      "Returning --- 75 friends for AverageGreatnes\n",
      "Returning --- 226 friends for AveryAlchek"
     ]
    },
    {
     "name": "stderr",
     "output_type": "stream",
     "text": [
      "Got error: {\"errors\":[{\"message\":\"Rate limit exceeded\",\"code\":88}]} \n",
      "sleeping for 15 minutes.\n"
     ]
    },
    {
     "name": "stdout",
     "output_type": "stream",
     "text": [
      "\n",
      "Returning --- 40 friends for AveryShriner\n",
      "Returning --- 162 friends for AviGoldman\n",
      "Returning --- 509 friends for AvidAsstEditor\n",
      "Collected 5000 friends for AvidCareerist\n",
      "Collected 15000 friends for AvidCareerist\n",
      "Returning --- 29127 friends for AvidCareerist\n",
      "Returning --- 1121 friends for AvisWeathersbee\n",
      "Returning --- 13 friends for AvoAdmissions\n",
      "Returning --- 1255 friends for Avon_MissKim\n",
      "Returning --- 91 friends for AvowSystems\n",
      "Returning --- 721 friends for AvrilReigns\n",
      "Returning --- 1652 friends for Aw269Cornell\n",
      "Returning --- 57 friends for AwJungsta\n",
      "Returning --- 509 friends for Awad_Barsham\n",
      "Returning --- 74 friends for AwesomeMeedow"
     ]
    },
    {
     "name": "stderr",
     "output_type": "stream",
     "text": [
      "Got error: {\"errors\":[{\"message\":\"Rate limit exceeded\",\"code\":88}]} \n",
      "sleeping for 15 minutes.\n"
     ]
    },
    {
     "name": "stdout",
     "output_type": "stream",
     "text": [
      "\n",
      "Returning --- 1516 friends for AwesomeNiks\n",
      "Returning --- 348 friends for AwinitaB\n",
      "Returning --- 258 friends for AwkwardInKC\n",
      "Returning --- 91 friends for Awooda007\n",
      "Returning --- 743 friends for Awsnapitsmel\n",
      "Returning --- 29 friends for AxcessCapon\n",
      "Returning --- 1006 friends for AxeTech_RU\n",
      "Returning --- 179 friends for AyBe\n",
      "Returning --- 35 friends for AyaAssi\n",
      "Returning --- 1083 friends for AyaMahmoud1999\n",
      "Returning --- 885 friends for AyaTaher\n",
      "Returning --- 505 friends for Aya_AlGhazali\n",
      "Returning --- 30 friends for Ayahawartani\n",
      "Returning --- 156 friends for Ayalajuanp\n",
      "Returning --- 1396 friends for AybarSelim"
     ]
    },
    {
     "name": "stderr",
     "output_type": "stream",
     "text": [
      "Got error: {\"errors\":[{\"message\":\"Rate limit exceeded\",\"code\":88}]} \n",
      "sleeping for 15 minutes.\n"
     ]
    },
    {
     "name": "stdout",
     "output_type": "stream",
     "text": [
      "\n",
      "Returning --- 60 friends for AyersCCI\n",
      "Returning --- 42 friends for AyersCCI_NU\n",
      "Returning --- 17 friends for Ayesha121314\n",
      "Returning --- 239 friends for AygenAhmet\n",
      "Returning --- 872 friends for AylasOriginals\n",
      "Returning --- 879 friends for AymanAboulnasr\n",
      "Returning --- 79 friends for AymericPunel\n",
      "Returning --- 84 friends for AyoubKong\n",
      "Returning --- 43 friends for Ayouuuuuuuu\n",
      "Returning --- 1865 friends for AyresLeahydgs\n",
      "Returning --- 1410 friends for AyslinnM\n",
      "Returning --- 67 friends for Ayyyyha"
     ]
    },
    {
     "name": "stderr",
     "output_type": "stream",
     "text": [
      "Got error: {\"errors\":[{\"message\":\"Rate limit exceeded\",\"code\":88}]} \n",
      "sleeping for 15 minutes.\n"
     ]
    },
    {
     "name": "stdout",
     "output_type": "stream",
     "text": [
      "\n",
      "Returning --- 1724 friends for Azilliltd\n",
      "Returning --- 254 friends for AzizV\n",
      "Returning --- 667 friends for AzraCausevic\n",
      "Returning --- 620 friends for Azrimgiab\n",
      "Returning --- 175 friends for AzureMusicGroup\n",
      "Returning --- 370 friends for B06072069\n",
      "Returning --- 15 friends for B0ilerCat15\n",
      "Returning --- 25 friends for B1GEvents\n",
      "Returning --- 40 friends for B1GHOC16\n",
      "Returning --- 1875 friends for B1GHockeyAnnoyn\n",
      "Returning --- 2177 friends for B1GLLL\n",
      "Returning --- 254 friends for B1GNews\n",
      "Returning --- 15 friends for B1GTENCOMEDY"
     ]
    },
    {
     "name": "stderr",
     "output_type": "stream",
     "text": [
      "Got error: {\"errors\":[{\"message\":\"Rate limit exceeded\",\"code\":88}]} \n",
      "sleeping for 15 minutes.\n"
     ]
    },
    {
     "name": "stdout",
     "output_type": "stream",
     "text": [
      "\n",
      "Returning --- 756 friends for BAKurtenbach\n",
      "Returning --- 1440 friends for BAMBIRAPTORS\n",
      "Returning --- 437 friends for BASEDGODard\n",
      "Returning --- 208 friends for BASEvanston\n",
      "Returning --- 282 friends for BASISedCareers\n",
      "Returning --- 245 friends for BAWinebarger\n",
      "Returning --- 834 friends for BBBSChi\n",
      "Collected 5000 friends for BBCr4today\n",
      "Collected 15000 friends for BBCr4today\n",
      "Returning --- 29048 friends for BBCr4today\n",
      "Collected 5000 friends for BBGMedia\n",
      "Returning --- 10651 friends for BBGMedia\n",
      "Returning --- 636 friends for BBIPCBS\n",
      "Returning --- 547 friends for BBSinstruments\n",
      "Returning --- 64 friends for BB_Bootcamp"
     ]
    },
    {
     "name": "stderr",
     "output_type": "stream",
     "text": [
      "Got error: {\"errors\":[{\"message\":\"Rate limit exceeded\",\"code\":88}]} \n",
      "sleeping for 15 minutes.\n"
     ]
    },
    {
     "name": "stdout",
     "output_type": "stream",
     "text": [
      "\n",
      "Returning --- 492 friends for BB_Womack\n",
      "Returning --- 303 friends for BBass1213\n",
      "Returning --- 366 friends for BBerryOakmont81\n",
      "Returning --- 35 friends for BCBGenerationNU\n",
      "Returning --- 2401 friends for BCBSIL\n",
      "Returning --- 383 friends for BCBSILcareers\n",
      "Returning --- 207 friends for BCBenson9\n",
      "Returning --- 1978 friends for BCCcareertech\n",
      "Returning --- 466 friends for BCLeeDC\n",
      "Returning --- 55 friends for BCMNorthwestern\n",
      "Returning --- 2362 friends for BCVEvolve\n",
      "Returning --- 832 friends for BCgirl07\n",
      "Returning --- 368 friends for BChappatta"
     ]
    },
    {
     "name": "stderr",
     "output_type": "stream",
     "text": [
      "Got error: {\"errors\":[{\"message\":\"Rate limit exceeded\",\"code\":88}]} \n",
      "sleeping for 15 minutes.\n"
     ]
    },
    {
     "name": "stdout",
     "output_type": "stream",
     "text": [
      "\n",
      "Returning --- 460 friends for BCivl\n",
      "Returning --- 1623 friends for BCrecruiting\n",
      "Returning --- 1608 friends for BDR_Rocks\n",
      "Returning --- 1490 friends for BDancewear\n",
      "Returning --- 37 friends for BEA_D4\n",
      "Returning --- 1404 friends for BEA_News\n",
      "Returning --- 107 friends for BEHS_SDE\n",
      "Returning --- 353 friends for BEL50Chi\n",
      "Returning --- 1045 friends for BENAVENTEJULIAN\n",
      "Returning --- 501 friends for BESbuzz\n",
      "Returning --- 29 friends for BEarl42\n",
      "Returning --- 2015 friends for BF191\n",
      "Returning --- 3994 friends for BFFfestival\n",
      "Returning --- 451 friends for BF_Cfb"
     ]
    },
    {
     "name": "stderr",
     "output_type": "stream",
     "text": [
      "Got error: {\"errors\":[{\"message\":\"Rate limit exceeded\",\"code\":88}]} \n",
      "sleeping for 15 minutes.\n"
     ]
    },
    {
     "name": "stdout",
     "output_type": "stream",
     "text": [
      "\n",
      "Returning --- 40 friends for BGHSOrchestras\n",
      "Returning --- 295 friends for BGauck\n",
      "Returning --- 225 friends for BHGHillinois\n",
      "Returning --- 3348 friends for BIOConvention\n",
      "Returning --- 527 friends for BIOINFORMATICAC\n",
      "Returning --- 644 friends for BIPADAAcademy\n",
      "Returning --- 520 friends for BISCSLadmission\n",
      "Returning --- 953 friends for BISHCMC\n",
      "Returning --- 338 friends for BISHCMC_CUG\n",
      "Returning --- 10 friends for BJBEvanston\n",
      "Returning --- 445 friends for BJsView\n",
      "Returning --- 54 friends for BKHSGuidance\n",
      "Returning --- 15 friends for BKarpas42\n",
      "Returning --- 60 friends for BKrura"
     ]
    },
    {
     "name": "stderr",
     "output_type": "stream",
     "text": [
      "Got error: {\"errors\":[{\"message\":\"Rate limit exceeded\",\"code\":88}]} \n",
      "sleeping for 15 minutes.\n"
     ]
    },
    {
     "name": "stdout",
     "output_type": "stream",
     "text": [
      "\n",
      "Returning --- 62 friends for BLAST_TNG\n",
      "Returning --- 658 friends for BLSouthFlorida\n",
      "Returning --- 464 friends for BMARKWEAVER\n",
      "Returning --- 619 friends for BMC165\n",
      "Returning --- 467 friends for BMESociety\n",
      "Returning --- 382 friends for BMHS_AVID\n",
      "Returning --- 865 friends for BMMason\n",
      "Returning --- 56 friends for BMeshulam\n",
      "Returning --- 890 friends for BMilliron\n",
      "Returning --- 37 friends for BNSAlumni\n",
      "Returning --- 800 friends for BNcollege\n",
      "Returning --- 502 friends for BOCgrads\n",
      "Returning --- 310 friends for BONNIEONLY\n",
      "Returning --- 339 friends for BOUCUR"
     ]
    },
    {
     "name": "stderr",
     "output_type": "stream",
     "text": [
      "Got error: {\"errors\":[{\"message\":\"Rate limit exceeded\",\"code\":88}]} \n",
      "sleeping for 15 minutes.\n"
     ]
    },
    {
     "name": "stdout",
     "output_type": "stream",
     "text": [
      "\n",
      "Returning --- 183 friends for BPC2007\n",
      "Returning --- 468 friends for BPEditing\n",
      "Returning --- 364 friends for BPLevin\n",
      "Returning --- 919 friends for BRCareers\n",
      "Returning --- 570 friends for BRICKBOY150\n",
      "Returning --- 9 friends for BROOKINGS19\n",
      "Returning --- 484 friends for BRYJEWELL\n",
      "Returning --- 119 friends for BRajamannar\n",
      "Returning --- 391 friends for BRinterns\n",
      "Returning --- 481 friends for BRobbinsCHI\n",
      "Returning --- 2626 friends for BSBmag\n",
      "Returning --- 1 friends for BSGNU"
     ]
    },
    {
     "name": "stderr",
     "output_type": "stream",
     "text": [
      "Got error: {\"errors\":[{\"message\":\"Rate limit exceeded\",\"code\":88}]} \n",
      "sleeping for 15 minutes.\n"
     ]
    },
    {
     "name": "stdout",
     "output_type": "stream",
     "text": [
      "\n",
      "Returning --- 114 friends for BSLDP_Jenny\n",
      "Returning --- 14 friends for BSMCounseling\n",
      "Returning --- 97 friends for BSalcetti\n",
      "Returning --- 119 friends for BSeraydarian\n",
      "Returning --- 852 friends for BSkowronek10\n",
      "Returning --- 2387 friends for BSkrzynski\n",
      "Returning --- 173 friends for BTNClan\n",
      "Returning --- 644 friends for BTNDaveRevsine\n",
      "Returning --- 714 friends for BTNElizabeth\n",
      "Returning --- 1652 friends for BTNLiveBIG\n",
      "Returning --- 282 friends for BTN_FilmVault\n",
      "Returning --- 40 friends for BTplusNews\n",
      "Returning --- 49 friends for BUEngCDO\n",
      "Returning --- 1723 friends for BUNAC_USA\n",
      "Returning --- 712 friends for BU_CCD"
     ]
    },
    {
     "name": "stderr",
     "output_type": "stream",
     "text": [
      "Got error: {\"errors\":[{\"message\":\"Rate limit exceeded\",\"code\":88}]} \n",
      "sleeping for 15 minutes.\n"
     ]
    },
    {
     "name": "stdout",
     "output_type": "stream",
     "text": [
      "\n",
      "Returning --- 961 friends for BUabroad\n",
      "Returning --- 144 friends for BVW_Academics\n",
      "Returning --- 195 friends for BVitabile\n",
      "Returning --- 336 friends for BVogelNU\n",
      "Returning --- 1858 friends for BWCgroup1\n",
      "Returning --- 12 friends for BWEvanston\n",
      "Returning --- 1150 friends for BWGerstein\n",
      "Returning --- 293 friends for BYOBooj\n",
      "Collected 5000 friends for BYUalumni\n",
      "Returning --- 13435 friends for BYUalumni\n",
      "Returning --- 1209 friends for BZSportstalk\n",
      "Returning --- 1157 friends for B_Delos\n",
      "Returning --- 329 friends for B_Jawz\n",
      "Returning --- 1605 friends for B_Liebhaber"
     ]
    },
    {
     "name": "stderr",
     "output_type": "stream",
     "text": [
      "Got error: {\"errors\":[{\"message\":\"Rate limit exceeded\",\"code\":88}]} \n",
      "sleeping for 15 minutes.\n"
     ]
    },
    {
     "name": "stdout",
     "output_type": "stream",
     "text": [
      "\n",
      "Returning --- 567 friends for B_Manzano\n",
      "Returning --- 462 friends for B_P_McHugh\n",
      "Returning --- 25 friends for B_Schreibs\n",
      "Returning --- 1983 friends for B_WilliamsNYCE\n",
      "Returning --- 207 friends for B__Feuerstein\n",
      "Returning --- 611 friends for B_fournier\n",
      "Returning --- 303 friends for BabcockMcGraw\n",
      "Returning --- 1996 friends for BabetteSt\n",
      "Returning --- 65 friends for BabyCuda16\n",
      "Returning --- 40 friends for BabybeeG\n",
      "Returning --- 1965 friends for Babysafeservice\n",
      "Returning --- 307 friends for Back2BizSports\n",
      "Returning --- 290 friends for Back2youUSA\n",
      "Returning --- 624 friends for BackThatSassUpK"
     ]
    },
    {
     "name": "stderr",
     "output_type": "stream",
     "text": [
      "Got error: {\"errors\":[{\"message\":\"Rate limit exceeded\",\"code\":88}]} \n",
      "sleeping for 15 minutes.\n"
     ]
    },
    {
     "name": "stdout",
     "output_type": "stream",
     "text": [
      "\n",
      "Returning --- 1780 friends for BackerBar\n",
      "Returning --- 47 friends for BackerBarCHI\n",
      "Returning --- 785 friends for BackersUnite\n",
      "Returning --- 96 friends for BacktrackSchool\n",
      "Returning --- 40 friends for Baconhutt\n",
      "Returning --- 174 friends for BadBroderick\n",
      "Returning --- 238 friends for Badere\n",
      "Returning --- 1215 friends for BadgeBlooms\n",
      "Returning --- 1128 friends for BadgerCareerNet\n",
      "Returning --- 1974 friends for BagTagLLC\n",
      "Returning --- 224 friends for Bagel_Art\n",
      "Returning --- 3452 friends for BaharTak\n",
      "Returning --- 531 friends for BaharehEvans\n",
      "Returning --- 93 friends for BahcesehirPR"
     ]
    },
    {
     "name": "stderr",
     "output_type": "stream",
     "text": [
      "Got error: {\"errors\":[{\"message\":\"Rate limit exceeded\",\"code\":88}]} \n",
      "sleeping for 15 minutes.\n"
     ]
    },
    {
     "name": "stdout",
     "output_type": "stream",
     "text": [
      "\n",
      "Returning --- 30 friends for BaigNeelum\n",
      "Returning --- 510 friends for BaileyEdward\n",
      "Returning --- 802 friends for Bailey_Lynn_16\n",
      "Returning --- 239 friends for Bain_AC\n",
      "Returning --- 333 friends for BairdCareers\n",
      "Returning --- 124 friends for BakeList\n",
      "Returning --- 1068 friends for BakingWithTS\n",
      "Collected 5000 friends for BakkenCoin\n",
      "Collected 15000 friends for BakkenCoin\n",
      "Collected 30000 friends for BakkenCoin\n",
      "Found more than 50,000 friends. Returning error code = -3\n",
      "Returning --- 165 friends for Balbert1970\n",
      "Returning --- 376 friends for BaldEagleOmelet\n",
      "Returning --- 6 friends for BalkLance"
     ]
    },
    {
     "name": "stderr",
     "output_type": "stream",
     "text": [
      "Got error: {\"errors\":[{\"message\":\"Rate limit exceeded\",\"code\":88}]} \n",
      "sleeping for 15 minutes.\n"
     ]
    },
    {
     "name": "stdout",
     "output_type": "stream",
     "text": [
      "\n",
      "Returning --- 145 friends for Ballistic_Game\n",
      "Returning --- 40 friends for BallzofFluff\n",
      "Returning --- 133 friends for Balzafeen\n",
      "Returning --- 40 friends for Banana74990138\n",
      "Returning --- 2015 friends for BandGoldenWest\n",
      "Returning --- 286 friends for Banditdad2\n",
      "Returning --- 239 friends for BandmasterJJH\n",
      "Returning --- 1403 friends for BandssBabe\n",
      "Returning --- 5 friends for BarJury\n",
      "Returning --- 108 friends for BarLouieEv\n",
      "Returning --- 1302 friends for BarTomaChicago\n",
      "Returning --- 132 friends for BarbGoBlue\n",
      "Returning --- 122 friends for BarbGranner\n",
      "Returning --- 303 friends for BarbLuther"
     ]
    },
    {
     "name": "stderr",
     "output_type": "stream",
     "text": [
      "Got error: {\"errors\":[{\"message\":\"Rate limit exceeded\",\"code\":88}]} \n",
      "sleeping for 15 minutes.\n"
     ]
    },
    {
     "name": "stdout",
     "output_type": "stream",
     "text": [
      "\n",
      "Returning --- 8 friends for BarbaraCoon04\n",
      "Returning --- 46 friends for Barbara_5162\n",
      "Returning --- 547 friends for BarbraRodichok\n",
      "Returning --- 312 friends for Barcelona_Idolo\n",
      "Returning --- 1104 friends for BarefootStudent\n",
      "Returning --- 323 friends for BarillaCareers\n",
      "Returning --- 151 friends for Bark4LifeNShore\n",
      "Returning --- 12 friends for BarkakatiS\n",
      "Returning --- 40 friends for BarnettHomeChi\n",
      "Returning --- 112 friends for BarnyardBiscuit\n",
      "Returning --- 2018 friends for BarreCode_CHI\n",
      "Returning --- 1504 friends for BarrettBrunsman"
     ]
    },
    {
     "name": "stderr",
     "output_type": "stream",
     "text": [
      "Got error: {\"errors\":[{\"message\":\"Rate limit exceeded\",\"code\":88}]} \n",
      "sleeping for 15 minutes.\n"
     ]
    },
    {
     "name": "stdout",
     "output_type": "stream",
     "text": [
      "\n",
      "Returning --- 287 friends for BarrettLdr\n",
      "Returning --- 634 friends for BarrettPitner\n",
      "Returning --- 737 friends for Barriface\n",
      "Returning --- 543 friends for BarryFlanik\n",
      "Returning --- 122 friends for BarryMannMD\n",
      "Returning --- 597 friends for Barry_A_Gardner\n",
      "Returning --- 10 friends for BartlettHawks\n",
      "Returning --- 2192 friends for BartlettTreeExp\n",
      "Returning --- 233 friends for BartronicsA\n",
      "Returning --- 67 friends for Basak113\n",
      "Collected 5000 friends for BaseballwMatt\n",
      "Returning --- 11880 friends for BaseballwMatt\n",
      "Returning --- 262 friends for BasedDavester\n",
      "Returning --- 1914 friends for Bashir_919"
     ]
    },
    {
     "name": "stderr",
     "output_type": "stream",
     "text": [
      "Got error: {\"errors\":[{\"message\":\"Rate limit exceeded\",\"code\":88}]} \n",
      "sleeping for 15 minutes.\n"
     ]
    },
    {
     "name": "stdout",
     "output_type": "stream",
     "text": [
      "\n",
      "Returning --- 1137 friends for BasicKoell\n",
      "Returning --- 30 friends for BasielWilliams\n",
      "Returning --- 367 friends for BasmahBahumayd\n",
      "Returning --- 126 friends for BassJaphet\n",
      "Returning --- 1994 friends for BassSchuler\n",
      "Returning --- 278 friends for BastardsDiablos\n",
      "Returning --- 1957 friends for BastilleChicago\n",
      "Returning --- 487 friends for Bat17Evanston\n",
      "Returning --- 125 friends for BatesWhiteEcon\n",
      "Returning --- 184 friends for BatraSuruchi\n",
      "Returning --- 2556 friends for Battelle\n",
      "Returning --- 201 friends for BaubleOnBalboa\n",
      "Returning --- 220 friends for Baulf"
     ]
    },
    {
     "name": "stderr",
     "output_type": "stream",
     "text": [
      "Got error: {\"errors\":[{\"message\":\"Rate limit exceeded\",\"code\":88}]} \n",
      "sleeping for 15 minutes.\n"
     ]
    },
    {
     "name": "stdout",
     "output_type": "stream",
     "text": [
      "\n",
      "Returning --- 1984 friends for BavaUmair\n",
      "Returning --- 597 friends for BawelTiara\n",
      "Returning --- 213 friends for BayitEvanston\n",
      "Returning --- 20 friends for Baylee_Jeigh97\n",
      "Returning --- 1571 friends for BbTransact\n",
      "Returning --- 10 friends for Bbmartin\n",
      "Returning --- 60 friends for BcCherrybella\n",
      "Returning --- 1911 friends for BchicoC\n",
      "Returning --- 1151 friends for BeActiveToLive\n",
      "Returning --- 2071 friends for BeAnExample\n",
      "Returning --- 245 friends for BeAndLoveYou\n",
      "Returning --- 537 friends for BePleasant\n",
      "Returning --- 1779 friends for BeReact"
     ]
    },
    {
     "name": "stderr",
     "output_type": "stream",
     "text": [
      "Got error: {\"errors\":[{\"message\":\"Rate limit exceeded\",\"code\":88}]} \n",
      "sleeping for 15 minutes.\n"
     ]
    },
    {
     "name": "stdout",
     "output_type": "stream",
     "text": [
      "\n",
      "Returning --- 111 friends for BeTheChangeEV\n",
      "Returning --- 753 friends for BeTheGivingType\n",
      "Returning --- 17 friends for Be_Fiona616\n",
      "Returning --- 148 friends for BeachKelly32\n",
      "Returning --- 205 friends for BeachSamantha\n",
      "Returning --- 856 friends for BeaconWealth\n",
      "Returning --- 142 friends for BealLynn\n",
      "Returning --- 124 friends for BeanDollar\n",
      "Returning --- 97 friends for BearGuy2\n",
      "Returning --- 595 friends for BearTekGloves\n",
      "Returning --- 41 friends for BeardMirotic\n",
      "Returning --- 766 friends for BearsJobs\n",
      "Returning --- 473 friends for BeasleyCollege"
     ]
    },
    {
     "name": "stderr",
     "output_type": "stream",
     "text": [
      "Got error: {\"errors\":[{\"message\":\"Rate limit exceeded\",\"code\":88}]} \n",
      "sleeping for 15 minutes.\n"
     ]
    },
    {
     "name": "stdout",
     "output_type": "stream",
     "text": [
      "\n",
      "Returning --- 225 friends for BeasleyKbeasle\n",
      "Returning --- 212 friends for BeastModeHendel\n",
      "Returning --- 84 friends for BeastieNoise\n",
      "Returning --- 2002 friends for BeatrizVidalDeA\n",
      "Returning --- 1941 friends for Beauifullyblack\n",
      "Returning --- 40 friends for BeautyCult\n",
      "Returning --- 657 friends for BeautybySree\n",
      "Returning --- 1458 friends for BeaversDonuts\n",
      "Returning --- 227 friends for Becca2955\n",
      "Returning --- 81 friends for BeccaCordy\n",
      "Returning --- 174 friends for BeccaDugan\n",
      "Returning --- 686 friends for BeccaSavransky\n",
      "Returning --- 47 friends for Becca_Dora"
     ]
    },
    {
     "name": "stderr",
     "output_type": "stream",
     "text": [
      "Got error: {\"errors\":[{\"message\":\"Rate limit exceeded\",\"code\":88}]} \n",
      "sleeping for 15 minutes.\n"
     ]
    },
    {
     "name": "stdout",
     "output_type": "stream",
     "text": [
      "\n",
      "Returning --- 71 friends for Becca_Smith2\n",
      "Returning --- 175 friends for BeccasMother\n",
      "Returning --- 44 friends for BeckBBeck\n",
      "Returning --- 1431 friends for BeckerWalt\n",
      "Returning --- 139 friends for BeckettSwaglund\n",
      "Returning --- 40 friends for BeckhamSu\n",
      "Returning --- 1312 friends for BeckmanInst\n",
      "Returning --- 1301 friends for BecksBooks\n",
      "Returning --- 69 friends for BeckwithCromer\n",
      "Returning --- 165 friends for BeckyBolivar\n",
      "Returning --- 151 friends for BeckyPJacobson\n",
      "Returning --- 66 friends for Beckygys\n",
      "Returning --- 2 friends for Bedloft_NWU"
     ]
    },
    {
     "name": "stderr",
     "output_type": "stream",
     "text": [
      "Got error: {\"errors\":[{\"message\":\"Rate limit exceeded\",\"code\":88}]} \n",
      "sleeping for 15 minutes.\n"
     ]
    },
    {
     "name": "stdout",
     "output_type": "stream",
     "text": [
      "\n",
      "Returning --- 7 friends for Bee1rncEVELYN\n",
      "Collected 5000 friends for Bee_N_Tea\n",
      "Collected 15000 friends for Bee_N_Tea\n",
      "Collected 30000 friends for Bee_N_Tea\n",
      "Found more than 50,000 friends. Returning error code = -3\n",
      "Returning --- 86 friends for BeenReddy\n",
      "Returning --- 177 friends for Beery_jack\n",
      "Returning --- 497 friends for BeetStew\n",
      "Returning --- 19 friends for BegTaha21\n",
      "Returning --- 208 friends for BegToDiffer_NU\n",
      "Returning --- 959 friends for BeginCollege\n",
      "Returning --- 100 friends for BehelEli\n",
      "Returning --- 81 friends for BelatiMarbin\n",
      "Returning --- 2046 friends for BelgiansRTW\n",
      "Returning --- 426 friends for Belieber_juana"
     ]
    },
    {
     "name": "stderr",
     "output_type": "stream",
     "text": [
      "Got error: {\"errors\":[{\"message\":\"Rate limit exceeded\",\"code\":88}]} \n",
      "sleeping for 15 minutes.\n"
     ]
    },
    {
     "name": "stdout",
     "output_type": "stream",
     "text": [
      "\n",
      "Returning --- 1947 friends for BelindaHaseada\n",
      "Returning --- 75 friends for BelkysVigil\n",
      "Returning --- 643 friends for BellGossett\n",
      "Returning --- 1 friends for BellaMEI\n",
      "Returning --- 908 friends for BellaVitaProj\n",
      "Returning --- 177 friends for BelleGoinToHell\n",
      "Returning --- 59 friends for BellevueHonda\n",
      "Returning --- 560 friends for BeltCraft\n",
      "Returning --- 85 friends for BemisCareers\n",
      "Returning --- 319 friends for Ben10is\n",
      "Returning --- 444 friends for BenBBow\n",
      "Returning --- 870 friends for BenBassBeyond\n",
      "Returning --- 40 friends for BenBtax"
     ]
    },
    {
     "name": "stderr",
     "output_type": "stream",
     "text": [
      "Got error: {\"errors\":[{\"message\":\"Rate limit exceeded\",\"code\":88}]} \n",
      "sleeping for 15 minutes.\n"
     ]
    },
    {
     "name": "stdout",
     "output_type": "stream",
     "text": [
      "\n",
      "Returning --- 41 friends for BenHike1\n",
      "Returning --- 416 friends for BenJJBlock\n",
      "Returning --- 257 friends for BenJohnsonpdx\n",
      "Returning --- 63 friends for BenMogni\n",
      "Returning --- 58 friends for BenPope111\n",
      "Returning --- 136 friends for BenSandeen1\n",
      "Returning --- 801 friends for BenSethRosen\n",
      "Returning --- 1959 friends for BenSeyfarth\n",
      "Returning --- 933 friends for BenSlivka\n",
      "Returning --- 379 friends for BenSolomon\n",
      "Returning --- 286 friends for BenUAthletics\n",
      "Returning --- 4 friends for BenZhu2"
     ]
    },
    {
     "name": "stderr",
     "output_type": "stream",
     "text": [
      "Got error: {\"errors\":[{\"message\":\"Rate limit exceeded\",\"code\":88}]} \n",
      "sleeping for 15 minutes.\n"
     ]
    },
    {
     "name": "stdout",
     "output_type": "stream",
     "text": [
      "\n",
      "Returning --- 1037 friends for Ben_Kwan\n",
      "Returning --- 377 friends for Ben_Segal\n",
      "Returning --- 224 friends for Ben_Stafslien\n",
      "Returning --- 208 friends for Ben_TAF\n",
      "Returning --- 148 friends for BencaDDS\n",
      "Returning --- 293 friends for Bencardsbites\n",
      "Returning --- 95 friends for BenedicteYmb\n",
      "Returning --- 1097 friends for BenefactorClub\n",
      "Returning --- 88 friends for Bengalboy67\n",
      "Returning --- 54 friends for BengeCarpentry\n",
      "Returning --- 858 friends for BenisonDanny\n",
      "Returning --- 1171 friends for Benj_oman\n",
      "Returning --- 3755 friends for BenjaminKrause\n",
      "Returning --- 688 friends for Benjamin_Rest\n",
      "Returning --- 362 friends for Benkins"
     ]
    },
    {
     "name": "stderr",
     "output_type": "stream",
     "text": [
      "Got error: {\"errors\":[{\"message\":\"Rate limit exceeded\",\"code\":88}]} \n",
      "sleeping for 15 minutes.\n"
     ]
    },
    {
     "name": "stdout",
     "output_type": "stream",
     "text": [
      "\n",
      "Returning --- 66 friends for BennettAPMT\n",
      "Returning --- 601 friends for BennettLavin\n",
      "Returning --- 538 friends for Bennettinsanity\n",
      "Returning --- 21 friends for BennyRoover\n",
      "Returning --- 2999 friends for BenoitDLewis\n",
      "Returning --- 63 friends for BentoExpress\n",
      "Returning --- 44 friends for BenzHolly\n",
      "Returning --- 906 friends for BerchTwelve\n",
      "Returning --- 294 friends for BerentCanan\n",
      "Returning --- 158 friends for BergTiti\n",
      "Returning --- 29 friends for BerglundCo\n",
      "Returning --- 202 friends for BerianJulia\n",
      "Collected 5000 friends for BerkeleyBrett\n",
      "Collected 15000 friends for BerkeleyBrett\n",
      "Collected 30000 friends for BerkeleyBrett"
     ]
    },
    {
     "name": "stderr",
     "output_type": "stream",
     "text": [
      "Got error: {\"errors\":[{\"message\":\"Rate limit exceeded\",\"code\":88}]} \n",
      "sleeping for 15 minutes.\n"
     ]
    },
    {
     "name": "stdout",
     "output_type": "stream",
     "text": [
      "\n",
      "Found more than 50,000 friends. Returning error code = -3\n",
      "Returning --- 350 friends for BerlianSeptia\n",
      "Returning --- 72 friends for BernFoster1\n",
      "Returning --- 294 friends for BernadetteBirt\n",
      "Returning --- 34 friends for BernardWen\n",
      "Returning --- 369 friends for BerneseBoone\n",
      "Returning --- 491 friends for Bernie91Power\n",
      "Returning --- 142 friends for BernieRyk\n",
      "Returning --- 136 friends for Berrybear14000\n",
      "Returning --- 90 friends for Bert_Williams21\n",
      "Returning --- 223 friends for Besetzny42\n",
      "Returning --- 190 friends for BesoWZJ"
     ]
    },
    {
     "name": "stderr",
     "output_type": "stream",
     "text": [
      "Got error: {\"errors\":[{\"message\":\"Rate limit exceeded\",\"code\":88}]} \n",
      "sleeping for 15 minutes.\n"
     ]
    },
    {
     "name": "stdout",
     "output_type": "stream",
     "text": [
      "\n",
      "Returning --- 63 friends for BessCalhoun\n",
      "Returning --- 1024 friends for BestBookBuys\n",
      "Returning --- 519 friends for BestBuddiesIL\n",
      "Returning --- 124 friends for BethABrand\n",
      "Returning --- 43 friends for BethCassie\n",
      "Returning --- 654 friends for BethDeitchman\n",
      "Returning --- 122 friends for BethG_SLP\n",
      "Returning --- 112 friends for BethGilfillan1\n",
      "Returning --- 520 friends for BethKirkp\n",
      "Returning --- 113 friends for BethLawrenceNU\n",
      "Returning --- 12 friends for BethMcD43344206\n",
      "Returning --- 72 friends for BethReynolds1\n",
      "Returning --- 220 friends for BethYanjinMi1\n",
      "Returning --- 160 friends for BethZinsky"
     ]
    },
    {
     "name": "stderr",
     "output_type": "stream",
     "text": [
      "Got error: {\"errors\":[{\"message\":\"Rate limit exceeded\",\"code\":88}]} \n",
      "sleeping for 15 minutes.\n"
     ]
    },
    {
     "name": "stdout",
     "output_type": "stream",
     "text": [
      "\n",
      "Returning --- 224 friends for BethanyAuck\n",
      "Returning --- 248 friends for BethanyKWTX\n",
      "Returning --- 6 friends for BethanyMaynar11\n",
      "Returning --- 59 friends for BethanyStan\n",
      "Returning --- 1316 friends for Bethany_Minor\n",
      "Returning --- 663 friends for Bethnotflo\n",
      "Returning --- 67 friends for BetseySiska\n",
      "Returning --- 1995 friends for BetsyCombier\n",
      "Returning --- 734 friends for BetsyFeuerstein\n",
      "Returning --- 68 friends for BetsyScarboroug\n",
      "Returning --- 171 friends for BetsymBetsy\n",
      "Returning --- 72 friends for BetterChiHealth\n",
      "Returning --- 941 friends for BetterWeekdays\n",
      "Returning --- 428 friends for Better_Planning"
     ]
    },
    {
     "name": "stderr",
     "output_type": "stream",
     "text": [
      "Got error: {\"errors\":[{\"message\":\"Rate limit exceeded\",\"code\":88}]} \n",
      "sleeping for 15 minutes.\n"
     ]
    },
    {
     "name": "stdout",
     "output_type": "stream",
     "text": [
      "\n",
      "Returning --- 100 friends for BeverlyBauman\n",
      "Returning --- 113 friends for BeverlyFields19\n",
      "Returning --- 376 friends for BeverlyThiele\n",
      "Returning --- 704 friends for BexActionNews\n",
      "Returning --- 596 friends for BeyondApplause\n",
      "Returning --- 587 friends for Beyond_CM\n",
      "Returning --- 313 friends for BhaktiVarma\n",
      "Returning --- 110 friends for BharatiyaYankee\n",
      "Returning --- 4751 friends for BiafranActivist\n",
      "Returning --- 6 friends for BiancaAriSan\n",
      "Returning --- 188 friends for BiancaHabana\n",
      "Returning --- 167 friends for BiancaMc_Sports"
     ]
    },
    {
     "name": "stderr",
     "output_type": "stream",
     "text": [
      "Got error: {\"errors\":[{\"message\":\"Rate limit exceeded\",\"code\":88}]} \n",
      "sleeping for 15 minutes.\n"
     ]
    },
    {
     "name": "stdout",
     "output_type": "stream",
     "text": [
      "\n",
      "Returning --- 99 friends for BianchiEcon\n",
      "Returning --- 62 friends for BibEvanston\n",
      "Returning --- 148 friends for BiblioRossica\n",
      "Returning --- 504 friends for BienenSchoolNU\n",
      "Returning --- 510 friends for BifocalProd\n",
      "Returning --- 82 friends for Big10Cities\n",
      "Returning --- 336 friends for Big10NewsFinder\n",
      "Returning --- 2606 friends for BigBowlBuzz\n",
      "Returning --- 65 friends for BigBoyKaufman\n",
      "Returning --- 97 friends for BigCSilntAsasin\n",
      "Returning --- 431 friends for BigCampusParty\n",
      "Returning --- 122 friends for BigDaddyBeerman\n",
      "Returning --- 657 friends for BigESchnolls\n",
      "Returning --- 280 friends for BigFishBroadway\n",
      "Returning --- 81 friends for BigGoldMachine"
     ]
    },
    {
     "name": "stderr",
     "output_type": "stream",
     "text": [
      "Got error: {\"errors\":[{\"message\":\"Rate limit exceeded\",\"code\":88}]} \n",
      "sleeping for 15 minutes.\n"
     ]
    },
    {
     "name": "stdout",
     "output_type": "stream",
     "text": [
      "\n",
      "Returning --- 2939 friends for BigIdeaEngineer\n",
      "Returning --- 1972 friends for BigJakeJ\n",
      "Returning --- 678 friends for BigJimoRay\n",
      "Returning --- 525 friends for BigMikeFiedler\n",
      "Returning --- 1674 friends for BigOoga\n",
      "Returning --- 1968 friends for BigSkyMedia79\n",
      "Returning --- 142 friends for BigSugar14\n",
      "Returning --- 17 friends for BigSunshineNana\n",
      "Returning --- 313 friends for BigTenCRC\n",
      "Returning --- 1522 friends for BigTenFans\n",
      "Returning --- 177 friends for BigTenFootballz\n",
      "Returning --- 1339 friends for BigTenNetwork\n",
      "Returning --- 82 friends for BigTenPros\n",
      "Returning --- 206 friends for BigTenSports10"
     ]
    },
    {
     "name": "stderr",
     "output_type": "stream",
     "text": [
      "Got error: {\"errors\":[{\"message\":\"Rate limit exceeded\",\"code\":88}]} \n",
      "sleeping for 15 minutes.\n"
     ]
    },
    {
     "name": "stdout",
     "output_type": "stream",
     "text": [
      "\n",
      "Returning --- 1981 friends for BigWelcome2LA\n",
      "Returning --- 19 friends for BigZ_Henry\n",
      "Returning --- 703 friends for Big_Boss1005\n",
      "Returning --- 157 friends for Big_Dev1776\n",
      "Returning --- 13 friends for Big_Lamer\n",
      "Returning --- 633 friends for Big_River_Film\n",
      "Returning --- 1122 friends for BiggFellas\n",
      "Returning --- 529 friends for Bigkelh\n",
      "Returning --- 376 friends for BigyonbYoni\n",
      "Returning --- 80 friends for Bijan1963\n",
      "Collected 5000 friends for Bill80\n",
      "Collected 15000 friends for Bill80\n",
      "Returning --- 25516 friends for Bill80"
     ]
    },
    {
     "name": "stderr",
     "output_type": "stream",
     "text": [
      "Got error: {\"errors\":[{\"message\":\"Rate limit exceeded\",\"code\":88}]} \n",
      "sleeping for 15 minutes.\n"
     ]
    },
    {
     "name": "stdout",
     "output_type": "stream",
     "text": [
      "\n",
      "Returning --- 29 friends for BillCarmodyTie\n",
      "Returning --- 4 friends for BillChafetz1\n",
      "Collected 5000 friends for BillCrosby\n",
      "Collected 15000 friends for BillCrosby\n",
      "Collected 30000 friends for BillCrosby\n",
      "Found more than 50,000 friends. Returning error code = -3\n",
      "Returning --- 1637 friends for BillFox3\n",
      "Returning --- 1253 friends for BillHalldin\n",
      "Returning --- 15 friends for BillHubbell1\n",
      "Returning --- 317 friends for BillJohnson935\n",
      "Returning --- 40 friends for BillLdssss\n",
      "Returning --- 1985 friends for BillMerkin14\n",
      "Returning --- 1555 friends for BillMortonPromo\n",
      "Returning --- 137 friends for BillNye02452421"
     ]
    },
    {
     "name": "stderr",
     "output_type": "stream",
     "text": [
      "Got error: {\"errors\":[{\"message\":\"Rate limit exceeded\",\"code\":88}]} \n",
      "sleeping for 15 minutes.\n"
     ]
    },
    {
     "name": "stdout",
     "output_type": "stream",
     "text": [
      "\n",
      "Returning --- 46 friends for BillRonzi\n",
      "Returning --- 297 friends for Bill_Wu\n",
      "Returning --- 1809 friends for Bill_da_Trader\n",
      "Returning --- 40 friends for Billieholiday15\n",
      "Returning --- 87 friends for BillionaireWolf\n",
      "Returning --- 558 friends for BilltownBombers\n",
      "Returning --- 772 friends for BillyGorman3\n",
      "Returning --- 31 friends for BillyRayWest\n",
      "Returning --- 41 friends for Billy_Kobin\n",
      "Returning --- 30 friends for BinDecHex\n",
      "Returning --- 913 friends for BinaryBret\n",
      "Returning --- 195 friends for Bingqian_Si\n",
      "Returning --- 155 friends for BioErnst"
     ]
    },
    {
     "name": "stderr",
     "output_type": "stream",
     "text": [
      "Got error: {\"errors\":[{\"message\":\"Rate limit exceeded\",\"code\":88}]} \n",
      "sleeping for 15 minutes.\n"
     ]
    },
    {
     "name": "stdout",
     "output_type": "stream",
     "text": [
      "\n",
      "Returning --- 1805 friends for BioMedCentral\n",
      "Returning --- 32 friends for BioNerdSarah\n",
      "Returning --- 449 friends for BioOptics\n",
      "Returning --- 1998 friends for BioSuperiority\n",
      "Returning --- 15 friends for BionicPythia\n",
      "Returning --- 742 friends for BiopelleUSA\n",
      "Returning --- 585 friends for BirdFeederBCDM\n",
      "Returning --- 140 friends for BirthrightExcel\n",
      "Returning --- 160 friends for BishopGuertin\n",
      "Returning --- 83 friends for Bisperr\n",
      "Returning --- 1235 friends for BistroBordeaux\n",
      "Returning --- 162 friends for Bitchwutrthosee\n",
      "Returning --- 97 friends for BitterOlivia\n",
      "Returning --- 349 friends for BitterTweetEd"
     ]
    },
    {
     "name": "stderr",
     "output_type": "stream",
     "text": [
      "Got error: {\"errors\":[{\"message\":\"Rate limit exceeded\",\"code\":88}]} \n",
      "sleeping for 15 minutes.\n"
     ]
    },
    {
     "name": "stdout",
     "output_type": "stream",
     "text": [
      "\n",
      "Returning --- 1799 friends for BizCoachIL\n",
      "Returning --- 289 friends for BizPics\n",
      "Returning --- 335 friends for BizWrap\n",
      "Returning --- 763 friends for Bizzness101\n",
      "Returning --- 105 friends for BjacksonR\n",
      "Returning --- 6 friends for BjkKrol\n",
      "Returning --- 21 friends for Bkdarrell\n",
      "Returning --- 1496 friends for Bknox88\n",
      "Collected 5000 friends for BlaBook\n",
      "Returning --- 11611 friends for BlaBook\n",
      "Returning --- 1914 friends for Black4USSenate\n",
      "Returning --- 106 friends for BlackBoard_Mag\n",
      "Returning --- 2373 friends for BlackFinnCLT\n",
      "Returning --- 876 friends for BlackPhDNetwork"
     ]
    },
    {
     "name": "stderr",
     "output_type": "stream",
     "text": [
      "Got error: {\"errors\":[{\"message\":\"Rate limit exceeded\",\"code\":88}]} \n",
      "sleeping for 15 minutes.\n"
     ]
    },
    {
     "name": "stdout",
     "output_type": "stream",
     "text": [
      "\n",
      "Returning --- 1520 friends for BlackThisWeek\n",
      "Returning --- 548 friends for Black_Column\n",
      "Returning --- 4324 friends for Blackboard\n",
      "Returning --- 14 friends for Blackjet42\n",
      "Returning --- 4439 friends for BlackstoneHotel\n",
      "Returning --- 1959 friends for BlaineHashimoto\n",
      "Returning --- 569 friends for BlakeHeyde\n",
      "Returning --- 407 friends for BlakeKolesa\n",
      "Returning --- 220 friends for BlakeMandell\n",
      "Returning --- 1724 friends for BlakeTOliver\n",
      "Returning --- 977 friends for BlaqYogi\n",
      "Returning --- 459 friends for BlasingameKara\n",
      "Returning --- 337 friends for BlastOutapp\n",
      "Returning --- 407 friends for BlaxGenius"
     ]
    },
    {
     "name": "stderr",
     "output_type": "stream",
     "text": [
      "Got error: {\"errors\":[{\"message\":\"Rate limit exceeded\",\"code\":88}]} \n",
      "sleeping for 15 minutes.\n"
     ]
    },
    {
     "name": "stdout",
     "output_type": "stream",
     "text": [
      "\n",
      "Returning --- 2679 friends for BlessinBackpack\n",
      "Returning --- 78 friends for BlindFaithCafe\n",
      "Returning --- 1987 friends for BlitzDocument\n",
      "Returning --- 409 friends for BlkandRed\n",
      "Returning --- 575 friends for Block6Analytics\n",
      "Returning --- 163 friends for Blockless\n",
      "Returning --- 163 friends for BlondesForBlack\n",
      "Returning --- 70 friends for BlondiesNYC\n",
      "Returning --- 34 friends for BloodyGen\n",
      "Returning --- 1857 friends for BlueBayJobs\n",
      "Returning --- 13 friends for BlueCanyonOne\n",
      "Returning --- 198 friends for BlueChipCareer\n",
      "Returning --- 40 friends for BlueChipFootbal\n",
      "Returning --- 1967 friends for BlueFoots"
     ]
    },
    {
     "name": "stderr",
     "output_type": "stream",
     "text": [
      "Got error: {\"errors\":[{\"message\":\"Rate limit exceeded\",\"code\":88}]} \n",
      "sleeping for 15 minutes.\n"
     ]
    },
    {
     "name": "stdout",
     "output_type": "stream",
     "text": [
      "\n",
      "Returning --- 1571 friends for BlueFuego\n",
      "Returning --- 1735 friends for BlueIceBoSS\n",
      "Returning --- 4263 friends for BlueOceanFilm\n",
      "Returning --- 413 friends for BluePathFinance\n",
      "Returning --- 721 friends for BluePepperPR\n",
      "Returning --- 201 friends for BlueSlashVentur\n",
      "Returning --- 574 friends for BlueSteffens\n",
      "Returning --- 62 friends for BlueWaterBoyp\n",
      "Returning --- 50 friends for BluerainArturo\n",
      "Returning --- 867 friends for Blues4Haiti\n",
      "Returning --- 626 friends for Bluestone1932\n",
      "Returning --- 253 friends for BlytheLyfe\n",
      "Returning --- 500 friends for Bmal_Nosemaj\n",
      "Returning --- 1451 friends for BminusC\n",
      "Returning --- 40 friends for BnSnowplease"
     ]
    },
    {
     "name": "stderr",
     "output_type": "stream",
     "text": [
      "Got error: {\"errors\":[{\"message\":\"Rate limit exceeded\",\"code\":88}]} \n",
      "sleeping for 15 minutes.\n"
     ]
    },
    {
     "name": "stdout",
     "output_type": "stream",
     "text": [
      "\n",
      "Returning --- 209 friends for Bnickibo\n",
      "Returning --- 1086 friends for BoardPosting\n",
      "Returning --- 980 friends for BoardShare\n",
      "Returning --- 133 friends for BoardmanK\n",
      "Returning --- 2874 friends for BobAaronWCHS\n",
      "Returning --- 9 friends for BobCimarusti\n",
      "Returning --- 803 friends for BobMihelich50\n",
      "Returning --- 505 friends for BobRoberts780\n",
      "Returning --- 229 friends for BobSHRowley\n",
      "Returning --- 41 friends for BobSmithyR\n",
      "Returning --- 393 friends for BobTamulis\n",
      "Collected 5000 friends for BobWarren\n",
      "Collected 15000 friends for BobWarren\n",
      "Collected 30000 friends for BobWarren"
     ]
    },
    {
     "name": "stderr",
     "output_type": "stream",
     "text": [
      "Got error: {\"errors\":[{\"message\":\"Rate limit exceeded\",\"code\":88}]} \n",
      "sleeping for 15 minutes.\n"
     ]
    },
    {
     "name": "stdout",
     "output_type": "stream",
     "text": [
      "\n",
      "Found more than 50,000 friends. Returning error code = -3\n",
      "Collected 5000 friends for BobWidner\n",
      "Collected 15000 friends for BobWidner\n",
      "Collected 30000 friends for BobWidner\n",
      "Found more than 50,000 friends. Returning error code = -3\n",
      "Returning --- 40 friends for BobWinprizes\n",
      "Returning --- 20 friends for BobbProblems\n",
      "Returning --- 21 friends for Bobbus_Callidus\n",
      "Returning --- 210 friends for Bobby3663\n",
      "Returning --- 616 friends for BobbyDunlap\n",
      "Returning --- 656 friends for Bobby_Fuller306\n",
      "Returning --- 1637 friends for BobbysBikeHike\n",
      "Returning --- 40 friends for BobertComedyGuy\n",
      "Returning --- 363 friends for BobsInSecurity\n",
      "Returning --- 50 friends for Bobyoon5"
     ]
    },
    {
     "name": "stderr",
     "output_type": "stream",
     "text": [
      "Got error: {\"errors\":[{\"message\":\"Rate limit exceeded\",\"code\":88}]} \n",
      "sleeping for 15 minutes.\n"
     ]
    },
    {
     "name": "stdout",
     "output_type": "stream",
     "text": [
      "\n",
      "Returning --- 165 friends for Bocawildcat\n",
      "Returning --- 72 friends for Bodaren\n",
      "Returning --- 349 friends for BoeingCareers\n",
      "Returning --- 393 friends for BofAML_Careers\n",
      "Returning --- 671 friends for BofA_Careers\n",
      "Returning --- 222 friends for BoilerCrawfish\n",
      "Returning --- 73 friends for BolarTomeka\n",
      "Returning --- 2915 friends for BoldLivingNow\n",
      "Returning --- 54 friends for BombayBlissCHI\n",
      "Returning --- 138 friends for BondJames6996\n",
      "Returning --- 71 friends for BonnieNClarke1\n",
      "Returning --- 42 friends for BonnieWang1028\n",
      "Returning --- 8 friends for Bonniedsy"
     ]
    },
    {
     "name": "stderr",
     "output_type": "stream",
     "text": [
      "Got error: {\"errors\":[{\"message\":\"Rate limit exceeded\",\"code\":88}]} \n",
      "sleeping for 15 minutes.\n"
     ]
    },
    {
     "name": "stdout",
     "output_type": "stream",
     "text": [
      "\n",
      "Returning --- 184 friends for BooChata\n",
      "Collected 5000 friends for BookBuyback\n",
      "Collected 15000 friends for BookBuyback\n",
      "Returning --- 25904 friends for BookBuyback\n",
      "Returning --- 1051 friends for Book_Squad\n",
      "Returning --- 151 friends for Bookbytitlepage\n",
      "Returning --- 344 friends for BookishlyBlonde\n",
      "Returning --- 1975 friends for BookitLab\n",
      "Returning --- 283 friends for Booklean\n",
      "Returning --- 1073 friends for BookofJashar\n",
      "Returning --- 101 friends for BoomBaaby\n",
      "Returning --- 981 friends for BoomFlint\n",
      "Returning --- 249 friends for Boomshaka_NU"
     ]
    },
    {
     "name": "stderr",
     "output_type": "stream",
     "text": [
      "Got error: {\"errors\":[{\"message\":\"Rate limit exceeded\",\"code\":88}]} \n",
      "sleeping for 15 minutes.\n"
     ]
    },
    {
     "name": "stdout",
     "output_type": "stream",
     "text": [
      "\n",
      "Returning --- 1895 friends for BoostingCompany\n",
      "Returning --- 286 friends for Boran_Qiu\n",
      "Returning --- 906 friends for Bordersconsult\n",
      "Returning --- 71 friends for BorgulaBorgula\n",
      "Returning --- 1983 friends for BoringOldWhtGuy\n",
      "Returning --- 40 friends for BorisFaque\n",
      "Returning --- 1019 friends for BornToLiveWide\n",
      "Returning --- 1987 friends for BornWithSoul\n",
      "Returning --- 57 friends for Borns_Bernstine\n",
      "Returning --- 5 friends for BoruiXiao\n",
      "Returning --- 41 friends for BosaToy\n",
      "Returning --- 213 friends for BostonDOT\n",
      "Returning --- 357 friends for BottEstateLaw"
     ]
    },
    {
     "name": "stderr",
     "output_type": "stream",
     "text": [
      "Got error: {\"errors\":[{\"message\":\"Rate limit exceeded\",\"code\":88}]} \n",
      "sleeping for 15 minutes.\n"
     ]
    },
    {
     "name": "stdout",
     "output_type": "stream",
     "text": [
      "\n",
      "Returning --- 25 friends for BottiStudio\n",
      "Returning --- 343 friends for BottomSides\n",
      "Returning --- 195 friends for Bottom_Billion\n",
      "Returning --- 239 friends for BougeotteRusse\n",
      "Returning --- 800 friends for BowdoinWorks\n",
      "Returning --- 920 friends for BowerbirdComm\n",
      "Returning --- 421 friends for BowieState\n",
      "Returning --- 1193 friends for BowyerV\n",
      "Returning --- 38 friends for BoxOfficeBetchz\n",
      "Returning --- 1969 friends for BoxingCartel\n",
      "Returning --- 1120 friends for BoyaGisarnold\n",
      "Returning --- 57 friends for Boyscoutprobs\n",
      "Returning --- 2226 friends for BoystownTweets\n",
      "Returning --- 334 friends for BozBosler"
     ]
    },
    {
     "name": "stderr",
     "output_type": "stream",
     "text": [
      "Got error: {\"errors\":[{\"message\":\"Rate limit exceeded\",\"code\":88}]} \n",
      "sleeping for 15 minutes.\n"
     ]
    },
    {
     "name": "stdout",
     "output_type": "stream",
     "text": [
      "\n",
      "Returning --- 54 friends for BpschulerBschu\n",
      "Returning --- 27 friends for BradEKessler\n",
      "Returning --- 561 friends for BradHelfand\n",
      "Returning --- 435 friends for BradHise\n",
      "Returning --- 158 friends for BradMorehead\n",
      "Returning --- 1236 friends for BradPurdy\n",
      "Returning --- 121 friends for BradScornavacco\n",
      "Returning --- 419 friends for BradWalseth\n",
      "Returning --- 321 friends for Brad_Greenawalt\n",
      "Returning --- 159 friends for Brad_McCandless\n",
      "Returning --- 84 friends for Bradford__Lee\n",
      "Returning --- 208 friends for BradleyDush\n",
      "Returning --- 1256 friends for Bradvritter\n",
      "Returning --- 528 friends for BrainBattleICPC"
     ]
    },
    {
     "name": "stderr",
     "output_type": "stream",
     "text": [
      "Got error: {\"errors\":[{\"message\":\"Rate limit exceeded\",\"code\":88}]} \n",
      "sleeping for 15 minutes.\n"
     ]
    },
    {
     "name": "stdout",
     "output_type": "stream",
     "text": [
      "\n",
      "Returning --- 1642 friends for BrainInjuryAssn\n",
      "Returning --- 413 friends for BrainMindCentre\n",
      "Returning --- 590 friends for Brain__Feed\n",
      "Returning --- 254 friends for BraisetheRoof\n",
      "Returning --- 1964 friends for BrameCo\n",
      "Returning --- 12 friends for BranchLauri\n",
      "Returning --- 340 friends for BrandMEsite\n",
      "Returning --- 1019 friends for BrandMarketer\n",
      "Returning --- 663 friends for BrandShack\n",
      "Returning --- 253 friends for BrandedMarketer\n",
      "Returning --- 17 friends for BrandedPurpose\n",
      "Returning --- 215 friends for BrandeeD\n",
      "Returning --- 7 friends for BrandonLieuw\n",
      "Returning --- 185 friends for BrandonTylerMu2"
     ]
    },
    {
     "name": "stderr",
     "output_type": "stream",
     "text": [
      "Got error: {\"errors\":[{\"message\":\"Rate limit exceeded\",\"code\":88}]} \n",
      "sleeping for 15 minutes.\n"
     ]
    },
    {
     "name": "stdout",
     "output_type": "stream",
     "text": [
      "\n",
      "Returning --- 2029 friends for BrandtCompanies\n",
      "Returning --- 1085 friends for Brandtrust\n",
      "Returning --- 923 friends for BrannaAednat\n",
      "Returning --- 4 friends for BranwellFanning\n",
      "Returning --- 2085 friends for Brasil05101988\n",
      "Returning --- 779 friends for BrassyCassy\n",
      "Returning --- 441 friends for Brave_Bonnie\n",
      "Returning --- 735 friends for Bravissima118\n",
      "Returning --- 622 friends for BravoNelson24\n",
      "Returning --- 282 friends for BrawerMD\n",
      "Returning --- 454 friends for BraydonY\n",
      "Returning --- 310 friends for BrayerTeague\n",
      "Collected 5000 friends for BrazenHQ\n",
      "Collected 15000 friends for BrazenHQ"
     ]
    },
    {
     "name": "stderr",
     "output_type": "stream",
     "text": [
      "Got error: {\"errors\":[{\"message\":\"Rate limit exceeded\",\"code\":88}]} \n",
      "sleeping for 15 minutes.\n"
     ]
    },
    {
     "name": "stdout",
     "output_type": "stream",
     "text": [
      "\n",
      "Collected 30000 friends for BrazenHQ\n",
      "Returning --- 45293 friends for BrazenHQ\n",
      "Returning --- 98 friends for BreadItalion\n",
      "Returning --- 1986 friends for BreakCentral\n",
      "Returning --- 380 friends for BreatheSingLove\n",
      "Returning --- 57 friends for BremenNation\n",
      "Returning --- 238 friends for BrendaBernstein\n",
      "Returning --- 235 friends for BrendaIngram20\n",
      "Returning --- 22 friends for Brenda_Louisee\n",
      "Returning --- 110 friends for BrendanFrick\n",
      "Returning --- 229 friends for BrendanKerrigan\n",
      "Returning --- 11 friends for BrendanMcManu10\n",
      "Returning --- 677 friends for BrendanVargas\n",
      "Returning --- 362 friends for Brendan_Schmitz\n",
      "Returning --- 54 friends for BrendanpBarber"
     ]
    },
    {
     "name": "stderr",
     "output_type": "stream",
     "text": [
      "Got error: {\"errors\":[{\"message\":\"Rate limit exceeded\",\"code\":88}]} \n",
      "sleeping for 15 minutes.\n"
     ]
    },
    {
     "name": "stdout",
     "output_type": "stream",
     "text": [
      "\n",
      "Returning --- 290 friends for BrendenKling\n",
      "Returning --- 526 friends for Brendon923\n",
      "Returning --- 206 friends for BrendonCulloton\n",
      "Returning --- 397 friends for Brendon_N\n",
      "Returning --- 4 friends for BrentAJewell\n",
      "Returning --- 571 friends for BrentWaugh\n",
      "Collected 5000 friends for Brent_Huffman\n",
      "Collected 15000 friends for Brent_Huffman\n",
      "Collected 30000 friends for Brent_Huffman\n",
      "Found more than 50,000 friends. Returning error code = -3\n",
      "Returning --- 27 friends for BretGreenacre\n",
      "Returning --- 23 friends for BretPaulus\n",
      "Returning --- 327 friends for BrettOmmen\n",
      "Returning --- 189 friends for BrettPentz"
     ]
    },
    {
     "name": "stderr",
     "output_type": "stream",
     "text": [
      "Got error: {\"errors\":[{\"message\":\"Rate limit exceeded\",\"code\":88}]} \n",
      "sleeping for 15 minutes.\n"
     ]
    },
    {
     "name": "stdout",
     "output_type": "stream",
     "text": [
      "\n",
      "Returning --- 52 friends for Brett_eecs\n",
      "Returning --- 639 friends for BrewCityCoast\n",
      "Returning --- 214 friends for BrewsBooks\n",
      "Returning --- 251 friends for BriC5\n",
      "Returning --- 441 friends for BriGRed\n",
      "Returning --- 200 friends for BrianAguado\n",
      "Returning --- 123 friends for BrianArnfelt\n",
      "Returning --- 1740 friends for BrianAxtman\n",
      "Returning --- 1449 friends for BrianBurwell\n",
      "Returning --- 3702 friends for BrianColeMD\n",
      "Returning --- 18 friends for BrianDaughert10\n",
      "Returning --- 359 friends for BrianDeConinck\n",
      "Returning --- 584 friends for BrianEsserEsq\n",
      "Returning --- 284 friends for BrianIng13"
     ]
    },
    {
     "name": "stderr",
     "output_type": "stream",
     "text": [
      "Got error: {\"errors\":[{\"message\":\"Rate limit exceeded\",\"code\":88}]} \n",
      "sleeping for 15 minutes.\n"
     ]
    },
    {
     "name": "stdout",
     "output_type": "stream",
     "text": [
      "\n",
      "Returning --- 33 friends for BrianIngersoll\n",
      "Returning --- 169 friends for BrianJSnyder\n",
      "Returning --- 628 friends for BrianKWoods1\n",
      "Returning --- 1859 friends for BrianKurth7\n",
      "Returning --- 473 friends for BrianMalkerson\n",
      "Returning --- 213 friends for BrianManley3\n",
      "Returning --- 380 friends for BrianMannhof\n",
      "Returning --- 568 friends for BrianPatacca\n",
      "Returning --- 45 friends for BrianRoss2\n",
      "Returning --- 172 friends for BrianSchafer12\n",
      "Returning --- 602 friends for BrianShifman\n",
      "Returning --- 1480 friends for BrianShiro\n",
      "Returning --- 488 friends for BrianTCook"
     ]
    },
    {
     "name": "stderr",
     "output_type": "stream",
     "text": [
      "Got error: {\"errors\":[{\"message\":\"Rate limit exceeded\",\"code\":88}]} \n",
      "sleeping for 15 minutes.\n"
     ]
    },
    {
     "name": "stdout",
     "output_type": "stream",
     "text": [
      "\n",
      "Returning --- 131 friends for BrianThamm\n",
      "Returning --- 277 friends for BrianThompsonMD\n",
      "Returning --- 1909 friends for BrianWeberbrand\n",
      "Returning --- 440 friends for Brian_A_Payne\n",
      "Returning --- 871 friends for Brian_L_90\n",
      "Returning --- 344 friends for Brian_Sandiford\n",
      "Returning --- 765 friends for BriannaBendotti\n",
      "Returning --- 519 friends for BriannaWeiss14\n",
      "Returning --- 1038 friends for Bricksperu\n",
      "Returning --- 782 friends for BridgetBradley3\n",
      "Returning --- 31 friends for BridgetElizabe4\n",
      "Returning --- 2049 friends for BridgetSilja"
     ]
    },
    {
     "name": "stderr",
     "output_type": "stream",
     "text": [
      "Got error: {\"errors\":[{\"message\":\"Rate limit exceeded\",\"code\":88}]} \n",
      "sleeping for 15 minutes.\n"
     ]
    },
    {
     "name": "stdout",
     "output_type": "stream",
     "text": [
      "\n",
      "Returning --- 314 friends for BridgetThoreson\n",
      "Returning --- 273 friends for Bridget_Ronni\n",
      "Returning --- 136 friends for BridgetteRas\n",
      "Returning --- 809 friends for BridgingNations\n",
      "Returning --- 3296 friends for BrightEndeavors\n",
      "Returning --- 12 friends for Bright_at_Night\n",
      "Returning --- 706 friends for Brill_Street\n",
      "Returning --- 2054 friends for BrilliantJewely\n",
      "Returning --- 720 friends for BringMeToHollan\n",
      "Returning --- 184 friends for BrinkLUC\n",
      "Returning --- 1285 friends for BrioIceCream\n",
      "Returning --- 521 friends for BrisketBeats\n",
      "Returning --- 2992 friends for BriteTab"
     ]
    },
    {
     "name": "stderr",
     "output_type": "stream",
     "text": [
      "Got error: {\"errors\":[{\"message\":\"Rate limit exceeded\",\"code\":88}]} \n",
      "sleeping for 15 minutes.\n"
     ]
    },
    {
     "name": "stdout",
     "output_type": "stream",
     "text": [
      "\n",
      "Returning --- 1794 friends for BrittanyJLadd\n",
      "Returning --- 121 friends for BrittanyJoiP\n",
      "Returning --- 105 friends for BrittanyLin215\n",
      "Returning --- 1476 friends for BrittanySteigs\n",
      "Returning --- 214 friends for Brittlee2311\n",
      "Returning --- 427 friends for BrittxOliver\n",
      "Returning --- 767 friends for BrizzolaraB\n",
      "Returning --- 687 friends for BroScent\n",
      "Returning --- 283 friends for BroadResearch"
     ]
    },
    {
     "name": "stderr",
     "output_type": "stream",
     "text": [
      "Got error: {\"errors\":[{\"message\":\"Rate limit exceeded\",\"code\":88}]} \n",
      "sleeping for 15 minutes.\n"
     ]
    },
    {
     "name": "stdout",
     "output_type": "stream",
     "text": [
      "\n",
      "Returning --- 1702 friends for Broadifyourself\n",
      "Returning --- 361 friends for Broderick_Topil\n",
      "Returning --- 294 friends for BronwenMurray\n",
      "Returning --- 737 friends for BrookeHyman\n",
      "Returning --- 2005 friends for BrookeWiseman\n",
      "Returning --- 148 friends for BrookerBecky\n",
      "Returning --- 226 friends for Brooks11Kayla\n",
      "Returning --- 958 friends for BrooksKaiser\n",
      "Returning --- 44 friends for Brosielo\n",
      "Returning --- 1 friends for BrothelLaw\n",
      "Returning --- 431 friends for BrotherRice\n",
      "Returning --- 535 friends for BrotherRiceFB\n",
      "Returning --- 204 friends for BrownCareerLAB"
     ]
    },
    {
     "name": "stderr",
     "output_type": "stream",
     "text": [
      "Got error: {\"errors\":[{\"message\":\"Rate limit exceeded\",\"code\":88}]} \n",
      "sleeping for 15 minutes.\n"
     ]
    },
    {
     "name": "stdout",
     "output_type": "stream",
     "text": [
      "\n",
      "Returning --- 22 friends for BrownEdric\n",
      "Returning --- 256 friends for BrownSugarNU\n",
      "Returning --- 182 friends for Brown_Knight97\n",
      "Returning --- 129 friends for Brrrrruuuaaahhh\n",
      "Returning --- 228 friends for BruceHillyer\n",
      "Returning --- 40 friends for BruceKani\n",
      "Returning --- 39 friends for BruecknerK\n",
      "Returning --- 522 friends for BrunelAdmission\n",
      "Returning --- 116 friends for BrunsenMichelle\n",
      "Returning --- 115 friends for Brute_Bradford\n",
      "Returning --- 787 friends for Bryan14813\n",
      "Returning --- 630 friends for BryanDickerson1\n",
      "Returning --- 195 friends for BryanGilmer"
     ]
    },
    {
     "name": "stderr",
     "output_type": "stream",
     "text": [
      "Got error: {\"errors\":[{\"message\":\"Rate limit exceeded\",\"code\":88}]} \n",
      "sleeping for 15 minutes.\n"
     ]
    },
    {
     "name": "stdout",
     "output_type": "stream",
     "text": [
      "\n",
      "Returning --- 71 friends for BryanGrisso\n",
      "Returning --- 314 friends for BryanHoldman\n",
      "Returning --- 19 friends for BryanKWChan\n",
      "Returning --- 122 friends for BryanLittleMD\n",
      "Returning --- 826 friends for BryanPatrickLee\n",
      "Returning --- 39 friends for BryanRoyal3\n",
      "Returning --- 25 friends for BryanRuggles\n",
      "Returning --- 1916 friends for Bryan_Boehm\n",
      "Returning --- 788 friends for BryantDunbar\n",
      "Returning --- 813 friends for BryantJG\n",
      "Returning --- 170 friends for BrynDougherty\n",
      "Returning --- 1529 friends for BryonStevens801\n",
      "Returning --- 1440 friends for BsSantJulia"
     ]
    },
    {
     "name": "stderr",
     "output_type": "stream",
     "text": [
      "Got error: {\"errors\":[{\"message\":\"Rate limit exceeded\",\"code\":88}]} \n",
      "sleeping for 15 minutes.\n"
     ]
    },
    {
     "name": "stdout",
     "output_type": "stream",
     "text": [
      "\n",
      "Returning --- 297 friends for Bsamuels88\n",
      "Returning --- 1240 friends for Bstardancer\n",
      "Returning --- 1668 friends for BtoColindres\n",
      "Returning --- 979 friends for BubbaBrewster\n",
      "Returning --- 44 friends for BubbleProMan\n",
      "Returning --- 117 friends for BubblyCreekFarm\n",
      "Returning --- 691 friends for BublrBikes\n",
      "Returning --- 244 friends for Bubsy2aaleeya\n",
      "Returning --- 751 friends for Buch_in_Beltway\n",
      "Returning --- 398 friends for BuckeyesGeek\n",
      "Returning --- 309 friends for Buckeyesfan75\n",
      "Returning --- 1141 friends for BucknellCareer\n",
      "Returning --- 884 friends for BuckyCross\n",
      "Returning --- 1623 friends for BuddhasArtWorld\n",
      "Returning --- 61 friends for Buddxiaosh"
     ]
    },
    {
     "name": "stderr",
     "output_type": "stream",
     "text": [
      "Got error: {\"errors\":[{\"message\":\"Rate limit exceeded\",\"code\":88}]} \n",
      "sleeping for 15 minutes.\n"
     ]
    },
    {
     "name": "stdout",
     "output_type": "stream",
     "text": [
      "\n",
      "Returning --- 328 friends for Buddylotion\n",
      "Returning --- 226 friends for Budget_Mom\n",
      "Returning --- 1365 friends for BuffaloSeminary\n",
      "Returning --- 621 friends for BuffettInst\n",
      "Returning --- 35 friends for Building_8\n",
      "Returning --- 694 friends for Building_Vision\n",
      "Returning --- 719 friends for BukolaE\n",
      "Returning --- 454 friends for BullpenStaffing\n",
      "Returning --- 226 friends for Bullza2o\n",
      "Returning --- 29 friends for BungaTweets\n",
      "Returning --- 108 friends for BunnyLink\n",
      "Returning --- 442 friends for Burcakse\n",
      "Returning --- 381 friends for BurcuAgma\n",
      "Returning --- 343 friends for BurgenConsult"
     ]
    },
    {
     "name": "stderr",
     "output_type": "stream",
     "text": [
      "Got error: {\"errors\":[{\"message\":\"Rate limit exceeded\",\"code\":88}]} \n",
      "sleeping for 15 minutes.\n"
     ]
    },
    {
     "name": "stdout",
     "output_type": "stream",
     "text": [
      "\n",
      "Returning --- 356 friends for BurgieHoward\n",
      "Returning --- 276 friends for Burnette4ATL\n",
      "Returning --- 1985 friends for BurnsMcdCareers\n",
      "Returning --- 219 friends for Burtongarran50\n",
      "Returning --- 693 friends for BustanulHakimAs\n",
      "Returning --- 67 friends for ButlerCCJamie\n",
      "Returning --- 46 friends for Butler_ACE\n",
      "Returning --- 275 friends for ButterPecHahn\n",
      "Returning --- 260 friends for BuyUniversity\n",
      "Returning --- 177 friends for Buzz22Chicago\n",
      "Returning --- 576 friends for BuzzFile\n",
      "Returning --- 12 friends for Buzz_Zhang"
     ]
    },
    {
     "name": "stderr",
     "output_type": "stream",
     "text": [
      "Got error: {\"errors\":[{\"message\":\"Rate limit exceeded\",\"code\":88}]} \n",
      "sleeping for 15 minutes.\n"
     ]
    },
    {
     "name": "stdout",
     "output_type": "stream",
     "text": [
      "\n",
      "Returning --- 43 friends for BwwfcLiu\n",
      "Returning --- 1626 friends for ByChrisJenkins\n",
      "Returning --- 789 friends for ByDBell\n",
      "Returning --- 319 friends for ByMIKAMIL\n",
      "Returning --- 206 friends for ByOliverOrtega\n",
      "Returning --- 41 friends for ByeforDetial\n",
      "Returning --- 1195 friends for ByerleyCJ\n",
      "Returning --- 120 friends for ByramJames\n",
      "Returning --- 130 friends for ByrneKP\n",
      "Returning --- 1475 friends for ByronBurkeLive\n",
      "Returning --- 12 friends for BzondrGroningen\n",
      "Returning --- 1955 friends for Bzow\n",
      "Returning --- 1746 friends for C2ST"
     ]
    },
    {
     "name": "stderr",
     "output_type": "stream",
     "text": [
      "Got error: {\"errors\":[{\"message\":\"Rate limit exceeded\",\"code\":88}]} \n",
      "sleeping for 15 minutes.\n"
     ]
    },
    {
     "name": "stdout",
     "output_type": "stream",
     "text": [
      "\n",
      "Returning --- 104 friends for CAAIntern\n",
      "Returning --- 454 friends for CADuluth\n",
      "Returning --- 46 friends for CAFofEvanston\n",
      "Returning --- 943 friends for CAIRCHIoutreach\n",
      "Returning --- 2002 friends for CAIStartups\n",
      "Returning --- 795 friends for CALC_Chicago\n",
      "Returning --- 66 friends for CAMInternship\n",
      "Returning --- 4000 friends for CAPAssociation\n",
      "Returning --- 160 friends for CAPETesting\n",
      "Returning --- 895 friends for CAPULINOdocTV\n",
      "Returning --- 1176 friends for CAP_Ltd\n",
      "Returning --- 462 friends for CARARuns\n",
      "Returning --- 4105 friends for CAREEREALISM\n",
      "Returning --- 1562 friends for CAREERGYAAN\n",
      "Returning --- 154 friends for CAREPACKAGEcom"
     ]
    },
    {
     "name": "stderr",
     "output_type": "stream",
     "text": [
      "Got error: {\"errors\":[{\"message\":\"Rate limit exceeded\",\"code\":88}]} \n",
      "sleeping for 15 minutes.\n"
     ]
    },
    {
     "name": "stdout",
     "output_type": "stream",
     "text": [
      "\n",
      "Returning --- 358 friends for CAREatNU\n",
      "Returning --- 4209 friends for CASEAdvance\n",
      "Returning --- 406 friends for CASTEMGirl\n",
      "Returning --- 33 friends for CATalyst_NU\n",
      "Returning --- 1836 friends for CA_Drexel\n",
      "Returning --- 654 friends for CAitwitt\n",
      "Returning --- 255 friends for CArmendarizMxwl\n",
      "Returning --- 123 friends for CBBGCSM\n",
      "Returning --- 383 friends for CBC_Connections\n",
      "Returning --- 240 friends for CBEMprogram\n",
      "Returning --- 24 friends for CBITSTECH\n",
      "Returning --- 1347 friends for CBJarts\n",
      "Returning --- 88 friends for CBKozlowski\n",
      "Returning --- 469 friends for CBOldOrchard\n",
      "Returning --- 35 friends for CBTutors"
     ]
    },
    {
     "name": "stderr",
     "output_type": "stream",
     "text": [
      "Got error: {\"errors\":[{\"message\":\"Rate limit exceeded\",\"code\":88}]} \n",
      "sleeping for 15 minutes.\n"
     ]
    },
    {
     "name": "stdout",
     "output_type": "stream",
     "text": [
      "\n",
      "Returning --- 665 friends for CBcollegewise\n",
      "Returning --- 164 friends for CBeauchene\n",
      "Returning --- 522 friends for CBergy9\n",
      "Returning --- 1184 friends for CBoC_Events\n",
      "Returning --- 270 friends for CBryant198\n",
      "Returning --- 755 friends for CBrzycki\n",
      "Returning --- 1151 friends for CBtweet\n",
      "Returning --- 245 friends for CC4Seniors\n",
      "Returning --- 605 friends for CCC4\n",
      "Returning --- 142 friends for CCCCeliaaaa_Lu\n",
      "Returning --- 1876 friends for CCE_Illinois\n",
      "Returning --- 157 friends for CCGlobalChicago\n",
      "Returning --- 169 friends for CCHSPostGrad\n",
      "Returning --- 113 friends for CCH_NU"
     ]
    },
    {
     "name": "stderr",
     "output_type": "stream",
     "text": [
      "Got error: {\"errors\":[{\"message\":\"Rate limit exceeded\",\"code\":88}]} \n",
      "sleeping for 15 minutes.\n"
     ]
    },
    {
     "name": "stdout",
     "output_type": "stream",
     "text": [
      "\n",
      "Returning --- 640 friends for CCI4Biz\n",
      "Returning --- 264 friends for CCL_Curators\n",
      "Returning --- 113 friends for CCM_PhD\n",
      "Returning --- 579 friends for CCOChicago\n",
      "Returning --- 242 friends for CCOstenoble\n",
      "Returning --- 1202 friends for CCPayment\n",
      "Returning --- 2352 friends for CCRINews\n",
      "Returning --- 907 friends for CCWilmette\n",
      "Returning --- 454 friends for CCarolineHetzel\n",
      "Returning --- 835 friends for CCounsellor\n",
      "Returning --- 1282 friends for CCourseload\n",
      "Returning --- 1007 friends for CCoworking"
     ]
    },
    {
     "name": "stderr",
     "output_type": "stream",
     "text": [
      "Got error: {\"errors\":[{\"message\":\"Rate limit exceeded\",\"code\":88}]} \n",
      "sleeping for 15 minutes.\n"
     ]
    },
    {
     "name": "stdout",
     "output_type": "stream",
     "text": [
      "\n",
      "Returning --- 1594 friends for CDKottke\n",
      "Returning --- 43 friends for CDRNGS\n",
      "Returning --- 212 friends for CDagostino3\n",
      "Returning --- 1302 friends for CDeepsikha\n",
      "Returning --- 20 friends for CDiewertje\n",
      "Returning --- 2182 friends for CDowdHiggins\n",
      "Returning --- 23 friends for CDuchars\n",
      "Returning --- 2461 friends for CDulantoS\n",
      "Returning --- 732 friends for CEBCareers\n",
      "Returning --- 620 friends for CECEDGE\n",
      "Returning --- 1736 friends for CEE1983\n",
      "Returning --- 8 friends for CEERIASchi\n",
      "Returning --- 14 friends for CEGoldblum\n",
      "Returning --- 1057 friends for CEIAinc"
     ]
    },
    {
     "name": "stderr",
     "output_type": "stream",
     "text": [
      "Got error: {\"errors\":[{\"message\":\"Rate limit exceeded\",\"code\":88}]} \n",
      "sleeping for 15 minutes.\n"
     ]
    },
    {
     "name": "stdout",
     "output_type": "stream",
     "text": [
      "\n",
      "Returning --- 17 friends for CELeong\n",
      "Returning --- 1289 friends for CEMaven\n",
      "Returning --- 2934 friends for CEO_MAG\n",
      "Returning --- 1644 friends for CEPincorporated\n",
      "Returning --- 452 friends for CERHelloIntern\n",
      "Returning --- 255 friends for CESDenver\n",
      "Returning --- 2830 friends for CFBMatrixMag\n",
      "Returning --- 3 friends for CFBPlayersAssoc\n",
      "Returning --- 1957 friends for CFB_law\n",
      "Returning --- 184 friends for CFDBLAZE15\n",
      "Returning --- 359 friends for CFDeliveries\n",
      "Returning --- 469 friends for CFH_Difference\n",
      "Returning --- 172 friends for CFJCchicago\n",
      "Returning --- 932 friends for CFLCruises\n",
      "Returning --- 1582 friends for CFR_Academic"
     ]
    },
    {
     "name": "stderr",
     "output_type": "stream",
     "text": [
      "Got error: {\"errors\":[{\"message\":\"Rate limit exceeded\",\"code\":88}]} \n",
      "sleeping for 15 minutes.\n"
     ]
    },
    {
     "name": "stdout",
     "output_type": "stream",
     "text": [
      "\n",
      "Returning --- 103 friends for CF_Consultants\n",
      "Collected 5000 friends for CFashionista\n",
      "Returning --- 11268 friends for CFashionista\n",
      "Returning --- 492 friends for CFetting\n",
      "Returning --- 103 friends for CGCollegeGuide\n",
      "Returning --- 272 friends for CGE_NU\n",
      "Returning --- 370 friends for CGFAF\n",
      "Returning --- 1920 friends for CGKwrites\n",
      "Returning --- 359 friends for CGMcBean\n",
      "Returning --- 240 friends for CGNavyPier\n",
      "Returning --- 236 friends for CGOliveri\n",
      "Returning --- 16 friends for CGShannonTampa\n",
      "Returning --- 814 friends for CGaldieri\n",
      "Returning --- 52 friends for CGerenaMedill"
     ]
    },
    {
     "name": "stderr",
     "output_type": "stream",
     "text": [
      "Got error: {\"errors\":[{\"message\":\"Rate limit exceeded\",\"code\":88}]} \n",
      "sleeping for 15 minutes.\n"
     ]
    },
    {
     "name": "stdout",
     "output_type": "stream",
     "text": [
      "\n",
      "Returning --- 213 friends for CGuillenPhoto\n",
      "Returning --- 17 friends for CH249\n",
      "Returning --- 234 friends for CHAAMP2013\n",
      "Returning --- 38 friends for CHADNANO\n",
      "Returning --- 1234 friends for CHANGEIL\n",
      "Returning --- 210 friends for CHCIllinois\n",
      "Returning --- 3230 friends for CHEAnews\n",
      "Returning --- 552 friends for CHECOMANDAN\n",
      "Returning --- 670 friends for CHEE_OSU\n",
      "Returning --- 6 friends for CHI16JrOlympics\n",
      "Returning --- 45 friends for CHIBz_AHOY\n",
      "Returning --- 347 friends for CHICAGOPARALEGA\n",
      "Returning --- 1929 friends for CHICAGOjobsTROY\n",
      "Returning --- 468 friends for CHITREC\n",
      "Returning --- 196 friends for CHIWomenInBio"
     ]
    },
    {
     "name": "stderr",
     "output_type": "stream",
     "text": [
      "Got error: {\"errors\":[{\"message\":\"Rate limit exceeded\",\"code\":88}]} \n",
      "sleeping for 15 minutes.\n"
     ]
    },
    {
     "name": "stdout",
     "output_type": "stream",
     "text": [
      "\n",
      "Returning --- 159 friends for CHI_Baghdad\n",
      "Returning --- 1931 friends for CHIfeed\n",
      "Returning --- 213 friends for CHIprivatetours\n",
      "Returning --- 1959 friends for CHIrestweek15\n",
      "Returning --- 113 friends for CHOPS_BongoFury\n",
      "Returning --- 10 friends for CHPragensis\n",
      "Returning --- 203 friends for CHSCCRCenter\n",
      "Returning --- 4760 friends for CI5IC\n",
      "Returning --- 72 friends for CICMusicEd\n",
      "Returning --- 22 friends for CICooperation\n",
      "Returning --- 525 friends for CIEESevilleBS\n",
      "Returning --- 639 friends for CIFest\n",
      "Returning --- 2113 friends for CIHR_IRSC\n",
      "Returning --- 1999 friends for CIMChicago\n",
      "Returning --- 607 friends for CISA_Conference"
     ]
    },
    {
     "name": "stderr",
     "output_type": "stream",
     "text": [
      "Got error: {\"errors\":[{\"message\":\"Rate limit exceeded\",\"code\":88}]} \n",
      "sleeping for 15 minutes.\n"
     ]
    },
    {
     "name": "stdout",
     "output_type": "stream",
     "text": [
      "\n",
      "Returning --- 61 friends for CISRoar\n",
      "Returning --- 363 friends for CJBacher\n",
      "Returning --- 190 friends for CJBrown777\n",
      "Returning --- 701 friends for CJESeniorLife\n",
      "Returning --- 22 friends for CJFurie\n",
      "Returning --- 86 friends for CJGalvin3\n",
      "Returning --- 56 friends for CJHunter18\n",
      "Returning --- 91 friends for CJRobins01\n",
      "Returning --- 4 friends for CJohnson321\n",
      "Returning --- 2605 friends for CK_Bond\n",
      "Returning --- 1023 friends for CLCNewsRoom\n",
      "Returning --- 316 friends for CLDagley"
     ]
    },
    {
     "name": "stderr",
     "output_type": "stream",
     "text": [
      "Got error: {\"errors\":[{\"message\":\"Rate limit exceeded\",\"code\":88}]} \n",
      "sleeping for 15 minutes.\n"
     ]
    },
    {
     "name": "stdout",
     "output_type": "stream",
     "text": [
      "\n",
      "Returning --- 563 friends for CLNuern\n",
      "Returning --- 1662 friends for CLOPEZanalista\n",
      "Returning --- 69 friends for CLP_Institute\n",
      "Returning --- 1004 friends for CLRosales\n",
      "Returning --- 1038 friends for CLUcareer\n",
      "Returning --- 1651 friends for CLindenDH\n",
      "Returning --- 302 friends for CLockSox\n",
      "Returning --- 110 friends for CLosGuzman\n",
      "Returning --- 59 friends for CLourgos\n",
      "Returning --- 45 friends for CMAutoGV\n",
      "Returning --- 611 friends for CMCConsultants\n",
      "Returning --- 34 friends for CMC_Consultants\n",
      "Collected 5000 friends for CMEGroup\n",
      "Returning --- 13425 friends for CMEGroup"
     ]
    },
    {
     "name": "stderr",
     "output_type": "stream",
     "text": [
      "Got error: {\"errors\":[{\"message\":\"Rate limit exceeded\",\"code\":88}]} \n",
      "sleeping for 15 minutes.\n"
     ]
    },
    {
     "name": "stdout",
     "output_type": "stream",
     "text": [
      "\n",
      "Returning --- 24 friends for CMEJ312\n",
      "Returning --- 81 friends for CMHD_NU\n",
      "Returning --- 10 friends for CMKaunas\n",
      "Returning --- 564 friends for CMM2B\n",
      "Returning --- 517 friends for CMPLICATD\n",
      "Collected 5000 friends for CMRTODAY\n",
      "Collected 15000 friends for CMRTODAY\n",
      "Collected 30000 friends for CMRTODAY\n",
      "Found more than 50,000 friends. Returning error code = -3\n",
      "Collected 5000 friends for CMSExpo\n",
      "Returning --- 14152 friends for CMSExpo\n",
      "Returning --- 668 friends for CMart120\n",
      "Returning --- 35 friends for CMax1000\n",
      "Returning --- 335 friends for CMikaelFrazier\n",
      "Returning --- 81 friends for CMoneyTaj"
     ]
    },
    {
     "name": "stderr",
     "output_type": "stream",
     "text": [
      "Got error: {\"errors\":[{\"message\":\"Rate limit exceeded\",\"code\":88}]} \n",
      "sleeping for 15 minutes.\n"
     ]
    },
    {
     "name": "stdout",
     "output_type": "stream",
     "text": [
      "\n",
      "Returning --- 14 friends for CMontheStreet\n",
      "Returning --- 365 friends for CNADC\n",
      "Returning --- 2883 friends for CNCollegeNews\n",
      "Returning --- 16 friends for CND_NUMUNXII\n",
      "Returning --- 36 friends for CNHighSchool\n",
      "Returning --- 1314 friends for CNNSchools\n",
      "Returning --- 508 friends for CNote095\n",
      "Collected 5000 friends for COACHELLAEVENTS\n",
      "Collected 15000 friends for COACHELLAEVENTS\n",
      "Collected 30000 friends for COACHELLAEVENTS\n",
      "Returning --- 47246 friends for COACHELLAEVENTS\n",
      "Returning --- 158 friends for CODStudentLife\n",
      "Returning --- 37 friends for COEBeach"
     ]
    },
    {
     "name": "stderr",
     "output_type": "stream",
     "text": [
      "Got error: {\"errors\":[{\"message\":\"Rate limit exceeded\",\"code\":88}]} \n",
      "sleeping for 15 minutes.\n"
     ]
    },
    {
     "name": "stdout",
     "output_type": "stream",
     "text": [
      "\n",
      "Returning --- 550 friends for COED_Recycling\n",
      "Returning --- 20 friends for COLLEGEiNSIDERS\n",
      "Returning --- 124 friends for CONECTAgroup\n",
      "Returning --- 11 friends for COPE_NU\n",
      "Returning --- 1757 friends for CORE_Institute\n",
      "Returning --- 569 friends for COSseaton\n",
      "Returning --- 288 friends for CPExperts\n",
      "Returning --- 671 friends for CPFinn\n",
      "Returning --- 427 friends for CPHSguidance\n",
      "Returning --- 1683 friends for CPPEducation\n",
      "Returning --- 120 friends for CPPaoloRecruits\n",
      "Returning --- 116 friends for CPRGI\n",
      "Returning --- 1178 friends for CPS_facts\n",
      "Returning --- 885 friends for CPWeiss"
     ]
    },
    {
     "name": "stderr",
     "output_type": "stream",
     "text": [
      "Got error: {\"errors\":[{\"message\":\"Rate limit exceeded\",\"code\":88}]} \n",
      "sleeping for 15 minutes.\n"
     ]
    },
    {
     "name": "stdout",
     "output_type": "stream",
     "text": [
      "\n",
      "Returning --- 23 friends for CPYMD\n",
      "Returning --- 279 friends for CPjaxairport\n",
      "Returning --- 1975 friends for CPracticesInc\n",
      "Returning --- 438 friends for CRASHSCIENCE\n",
      "Returning --- 309 friends for CRCWhat\n",
      "Returning --- 1957 friends for CRCabinetry\n",
      "Returning --- 91 friends for CRD_Recruit\n",
      "Returning --- 553 friends for CRFChicago\n",
      "Returning --- 133 friends for CRHasbrouck\n",
      "Returning --- 10 friends for CRI_KA\n",
      "Returning --- 2003 friends for CRLamberthHOK\n",
      "Returning --- 1243 friends for CROSSMARKJobs\n",
      "Returning --- 88 friends for CR__Brian\n",
      "Returning --- 46 friends for CRafacalder11"
     ]
    },
    {
     "name": "stderr",
     "output_type": "stream",
     "text": [
      "Got error: {\"errors\":[{\"message\":\"Rate limit exceeded\",\"code\":88}]} \n",
      "sleeping for 15 minutes.\n"
     ]
    }
   ],
   "source": [
    "# Collecting all nu_followers's friends' ids and pickling them separately\n",
    "get_friend_ids_and_pickle_object(nu_followers_2, 'nu', split_pickle = True)"
   ]
  },
  {
   "cell_type": "code",
   "execution_count": 8,
   "metadata": {
    "collapsed": false,
    "scrolled": false
   },
   "outputs": [
    {
     "name": "stdout",
     "output_type": "stream",
     "text": [
      "2782\n"
     ]
    }
   ],
   "source": [
    "for idx,follower in enumerate(nu_followers):\n",
    "    if \"CRafacalder11\" in follower:\n",
    "        print idx"
   ]
  },
  {
   "cell_type": "code",
   "execution_count": 9,
   "metadata": {
    "collapsed": true,
    "scrolled": false
   },
   "outputs": [],
   "source": [
    "nu_followers_3 =  nu_followers[2782:]"
   ]
  },
  {
   "cell_type": "code",
   "execution_count": null,
   "metadata": {
    "collapsed": false,
    "scrolled": true
   },
   "outputs": [
    {
     "name": "stderr",
     "output_type": "stream",
     "text": [
      "Got error: {\"errors\":[{\"message\":\"Rate limit exceeded\",\"code\":88}]} \n",
      "sleeping for 15 minutes.\n"
     ]
    },
    {
     "name": "stdout",
     "output_type": "stream",
     "text": [
      "Returning --- 46 friends for CRafacalder11\n",
      "Returning --- 87 friends for CRuffstein\n",
      "Returning --- 131 friends for CSBwildcats\n",
      "Returning --- 1088 friends for CSConCampus\n",
      "Returning --- 1979 friends for CSForJesus\n",
      "Returning --- 1031 friends for CSFunding\n",
      "Returning --- 78 friends for CSGICareers\n",
      "Returning --- 27 friends for CSIProgramming\n",
      "Returning --- 1144 friends for CSI_NSP\n",
      "Returning --- 638 friends for CSKnellinger\n",
      "Returning --- 224 friends for CSLawrence\n",
      "Returning --- 1286 friends for CSM_Omaha\n",
      "Returning --- 914 friends for CSNTF\n",
      "Returning --- 915 friends for CSOResearch"
     ]
    },
    {
     "name": "stderr",
     "output_type": "stream",
     "text": [
      "Got error: {\"errors\":[{\"message\":\"Rate limit exceeded\",\"code\":88}]} \n",
      "sleeping for 15 minutes.\n"
     ]
    },
    {
     "name": "stdout",
     "output_type": "stream",
     "text": [
      "\n",
      "Returning --- 1326 friends for CSUCareerCenter\n",
      "Returning --- 314 friends for CSUSBCareers\n",
      "Returning --- 1137 friends for CSUSBPreMed\n",
      "Returning --- 399 friends for CSUSB_HPAC\n",
      "Returning --- 448 friends for CSU_CTRE\n",
      "Returning --- 1030 friends for CSUtoBigTen\n",
      "Returning --- 55 friends for CSatFU\n",
      "Returning --- 31 friends for CSdAnjou\n",
      "Returning --- 230 friends for CShah85\n",
      "Returning --- 36 friends for CShenkman\n",
      "Returning --- 202 friends for CSherman5\n",
      "Returning --- 222 friends for CShihabuddin\n",
      "Returning --- 45 friends for CSteelberg"
     ]
    },
    {
     "name": "stderr",
     "output_type": "stream",
     "text": [
      "Got error: {\"errors\":[{\"message\":\"Rate limit exceeded\",\"code\":88}]} \n",
      "sleeping for 15 minutes.\n"
     ]
    },
    {
     "name": "stdout",
     "output_type": "stream",
     "text": [
      "\n",
      "Returning --- 193 friends for CSygnet\n",
      "Returning --- 684 friends for CTCACareers\n",
      "Returning --- 565 friends for CTCChicago\n",
      "Returning --- 710 friends for CTDatNU\n",
      "Returning --- 1067 friends for CTDriveInc\n",
      "Returning --- 558 friends for CTGgameday\n",
      "Returning --- 56 friends for CTGrimsted\n",
      "Returning --- 22 friends for CTPrepSeminars\n",
      "Returning --- 229 friends for CT_Winnetka\n",
      "Returning --- 478 friends for CTi_since1954\n",
      "Returning --- 634 friends for CTrend\n",
      "Returning --- 1820 friends for CTwildcat"
     ]
    },
    {
     "name": "stderr",
     "output_type": "stream",
     "text": [
      "Got error: {\"errors\":[{\"message\":\"Rate limit exceeded\",\"code\":88}]} \n",
      "sleeping for 15 minutes.\n"
     ]
    },
    {
     "name": "stdout",
     "output_type": "stream",
     "text": [
      "\n",
      "Returning --- 2855 friends for CUASociety\n",
      "Returning --- 787 friends for CUBOSCO\n",
      "Returning --- 37 friends for CUC_Trueman\n",
      "Returning --- 1142 friends for CUChicago\n",
      "Returning --- 341 friends for CUDenverCareer\n",
      "Collected 5000 friends for CUREchildcancer\n",
      "Returning --- 10203 friends for CUREchildcancer\n",
      "Returning --- 507 friends for CURTIN_calll\n",
      "Returning --- 683 friends for CUWBookstore\n",
      "Returning --- 934 friends for CVFixer\n",
      "Returning --- 2105 friends for CVP1960\n",
      "Returning --- 314 friends for CVlaho\n",
      "Collected 5000 friends for CVsquad\n",
      "Collected 15000 friends for CVsquad\n",
      "Collected 30000 friends for CVsquad"
     ]
    },
    {
     "name": "stderr",
     "output_type": "stream",
     "text": [
      "Got error: {\"errors\":[{\"message\":\"Rate limit exceeded\",\"code\":88}]} \n",
      "sleeping for 15 minutes.\n"
     ]
    },
    {
     "name": "stdout",
     "output_type": "stream",
     "text": [
      "\n",
      "Found more than 50,000 friends. Returning error code = -3\n",
      "Returning --- 151 friends for CWCunnick\n",
      "Returning --- 564 friends for CWGSjobs\n",
      "Returning --- 1492 friends for CWIPublishing\n",
      "Returning --- 69 friends for CWInvestment\n",
      "Returning --- 722 friends for CWKelson\n",
      "Returning --- 923 friends for CWL_Counselor\n",
      "Returning --- 923 friends for CWRUCC\n",
      "Returning --- 111 friends for CYPT_Crazy4You\n",
      "Returning --- 388 friends for CYablon\n",
      "Returning --- 74 friends for CZaharoff\n",
      "Returning --- 503 friends for C_Almanza\n",
      "Returning --- 1169 friends for C_Arreola"
     ]
    },
    {
     "name": "stderr",
     "output_type": "stream",
     "text": [
      "Got error: {\"errors\":[{\"message\":\"Rate limit exceeded\",\"code\":88}]} \n",
      "sleeping for 15 minutes.\n"
     ]
    },
    {
     "name": "stdout",
     "output_type": "stream",
     "text": [
      "\n",
      "Returning --- 557 friends for C_Linville\n",
      "Returning --- 101 friends for C_Normandin\n",
      "Returning --- 974 friends for C_Pilling\n",
      "Returning --- 422 friends for C_Solutions\n",
      "Returning --- 235 friends for Cable10Aurora\n",
      "Returning --- 116 friends for CabronaBand\n",
      "Returning --- 97 friends for CackyCalderon\n",
      "Returning --- 132 friends for Caddy_garrido\n",
      "Returning --- 1634 friends for Caelan36\n",
      "Returning --- 763 friends for CaerusUpdates\n",
      "Returning --- 238 friends for CaetoMoon\n",
      "Returning --- 139 friends for CafeDescartes\n",
      "Returning --- 86 friends for CafeSarkis"
     ]
    },
    {
     "name": "stderr",
     "output_type": "stream",
     "text": [
      "Got error: {\"errors\":[{\"message\":\"Rate limit exceeded\",\"code\":88}]} \n",
      "sleeping for 15 minutes.\n",
      "Got error:  \n",
      "sleeping for 15 minutes.\n",
      "Got error:  \n",
      "sleeping for 15 minutes.\n",
      "Got error:  \n",
      "sleeping for 15 minutes.\n",
      "Got error:  \n",
      "sleeping for 15 minutes.\n"
     ]
    },
    {
     "name": "stdout",
     "output_type": "stream",
     "text": [
      "\n",
      "Returning --- 335 friends for Caglares\n",
      "Returning --- 11 friends for CailiChen\n",
      "Returning --- 920 friends for CaisilCareers\n",
      "Returning --- 336 friends for CaitHakala\n",
      "Returning --- 581 friends for CaitLeAnne\n",
      "Returning --- 159 friends for CaitMaureen\n",
      "Returning --- 453 friends for CaitlinCrawley\n",
      "Returning --- 95 friends for CaitlinFinnie\n",
      "Returning --- 567 friends for CaitlinFrano\n",
      "Returning --- 351 friends for CaitlinTucker8\n",
      "Returning --- 303 friends for CaityCallahan\n",
      "Returning --- 701 friends for CaiusSivjus\n",
      "Returning --- 561 friends for CalMatthews4"
     ]
    },
    {
     "name": "stderr",
     "output_type": "stream",
     "text": [
      "Got error: {\"errors\":[{\"message\":\"Rate limit exceeded\",\"code\":88}]} \n",
      "sleeping for 15 minutes.\n"
     ]
    },
    {
     "name": "stdout",
     "output_type": "stream",
     "text": [
      "\n",
      "Returning --- 31 friends for CalOlrange\n",
      "Returning --- 510 friends for CalRecruit\n",
      "Returning --- 707 friends for Calbornoz1998\n",
      "Returning --- 1882 friends for CalebJamesLowry\n",
      "Returning --- 1395 friends for CalebMelby\n",
      "Returning --- 95 friends for CalebRollins4\n",
      "Returning --- 588 friends for Caleb_Evans1998\n",
      "Returning --- 113 friends for Caleighhrz\n",
      "Returning --- 138 friends for Cales321\n",
      "Returning --- 417 friends for Calexak0s\n",
      "Returning --- 95 friends for CaliLinstrom\n",
      "Returning --- 1564 friends for CaliberPoint\n",
      "Returning --- 170 friends for CalinaMonge\n",
      "Returning --- 58 friends for CaljouwJ"
     ]
    },
    {
     "name": "stderr",
     "output_type": "stream",
     "text": [
      "Got error: {\"errors\":[{\"message\":\"Rate limit exceeded\",\"code\":88}]} \n",
      "sleeping for 15 minutes.\n"
     ]
    },
    {
     "name": "stdout",
     "output_type": "stream",
     "text": [
      "\n",
      "Returning --- 23 friends for CallMeMrWolf\n",
      "Returning --- 663 friends for CallWithVOIP\n",
      "Returning --- 339 friends for CallePanama\n",
      "Returning --- 205 friends for Callie9517\n",
      "Returning --- 142 friends for CallofhaloJames\n",
      "Returning --- 133 friends for CaltechJobs\n",
      "Returning --- 127 friends for CalvinNovak96\n",
      "Returning --- 103 friends for CalvinZhang\n",
      "Returning --- 90 friends for Calvinlitlov\n",
      "Returning --- 39 friends for Cam_Locker\n",
      "Returning --- 112 friends for CamacConsulting\n",
      "Returning --- 212 friends for Camaree"
     ]
    },
    {
     "name": "stderr",
     "output_type": "stream",
     "text": [
      "Got error: {\"errors\":[{\"message\":\"Rate limit exceeded\",\"code\":88}]} \n",
      "sleeping for 15 minutes.\n"
     ]
    },
    {
     "name": "stdout",
     "output_type": "stream",
     "text": [
      "\n",
      "Returning --- 247 friends for CambodiaTribMon\n",
      "Returning --- 383 friends for CambreyNoelle\n",
      "Returning --- 2799 friends for CambridgeNano\n",
      "Returning --- 713 friends for Cambridge_Uni\n",
      "Returning --- 329 friends for Camco84\n",
      "Returning --- 271 friends for Camelia_Sunny\n",
      "Returning --- 86 friends for Camelli70528879\n",
      "Returning --- 81 friends for CameraGeek17\n",
      "Returning --- 87 friends for CameronPfiffer\n",
      "Returning --- 400 friends for CameronSonger\n",
      "Returning --- 1931 friends for CameronSow\n",
      "Returning --- 1310 friends for Cameron_G_Smith\n",
      "Collected 5000 friends for Camfed\n",
      "Collected 15000 friends for Camfed\n",
      "Collected 30000 friends for Camfed"
     ]
    },
    {
     "name": "stderr",
     "output_type": "stream",
     "text": [
      "Got error: {\"errors\":[{\"message\":\"Rate limit exceeded\",\"code\":88}]} \n",
      "sleeping for 15 minutes.\n"
     ]
    },
    {
     "name": "stdout",
     "output_type": "stream",
     "text": [
      "\n",
      "Found more than 50,000 friends. Returning error code = -3\n",
      "Returning --- 1227 friends for CamiRusso\n",
      "Returning --- 207 friends for CamillaLeik\n",
      "Returning --- 31 friends for CamilleKhodadad\n",
      "Returning --- 36 friends for CamillesIrvine\n",
      "Collected 5000 friends for CampbellEwald\n",
      "Returning --- 10103 friends for CampbellEwald\n",
      "Returning --- 925 friends for CampusAdvisers\n",
      "Returning --- 20 friends for CampusAgora\n",
      "Returning --- 577 friends for CampusCommandos\n",
      "Returning --- 39 friends for CampusConnectio\n",
      "Returning --- 1151 friends for CampusGroups\n",
      "Returning --- 132 friends for CampusLIE"
     ]
    },
    {
     "name": "stderr",
     "output_type": "stream",
     "text": [
      "Got error: {\"errors\":[{\"message\":\"Rate limit exceeded\",\"code\":88}]} \n",
      "sleeping for 15 minutes.\n"
     ]
    },
    {
     "name": "stdout",
     "output_type": "stream",
     "text": [
      "\n",
      "Returning --- 612 friends for CampusLetterArt\n",
      "Returning --- 1902 friends for CampusPegboard\n",
      "Returning --- 1009 friends for CampusSolution\n",
      "Returning --- 292 friends for CampusTech2012\n",
      "Returning --- 472 friends for CampusTours\n",
      "Returning --- 54 friends for CampusU1\n",
      "Returning --- 361 friends for CampusUSA\n",
      "Returning --- 680 friends for CampusUniverse\n",
      "Returning --- 1993 friends for CampusVector\n",
      "Returning --- 1906 friends for CampusVirtualBG\n",
      "Returning --- 3087 friends for Campus_CP\n",
      "Returning --- 605 friends for Campuseek\n",
      "Returning --- 159 friends for Camtaloupe\n",
      "Returning --- 102 friends for CanCAygen\n",
      "Returning --- 481 friends for CanUEvenPlay"
     ]
    },
    {
     "name": "stderr",
     "output_type": "stream",
     "text": [
      "Got error: {\"errors\":[{\"message\":\"Rate limit exceeded\",\"code\":88}]} \n",
      "sleeping for 15 minutes.\n"
     ]
    },
    {
     "name": "stdout",
     "output_type": "stream",
     "text": [
      "\n",
      "Returning --- 120 friends for CanalShores\n",
      "Returning --- 178 friends for Cananberent\n",
      "Returning --- 1047 friends for Canario_Deng\n",
      "Returning --- 18 friends for CancerSmashers\n",
      "Returning --- 1862 friends for Cancer_kayla_14\n",
      "Returning --- 1589 friends for Cancer_newsnow\n",
      "Returning --- 229 friends for CandaceButera\n",
      "Returning --- 51 friends for CandaceGadomski\n",
      "Returning --- 1220 friends for CandaceMHill\n",
      "Returning --- 201 friends for CandiceDuKansas\n",
      "Returning --- 69 friends for CandidatosBBB\n",
      "Returning --- 55 friends for CandorP\n",
      "Returning --- 165 friends for CandtheOyst\n",
      "Returning --- 33 friends for CandyLeeMedill"
     ]
    },
    {
     "name": "stderr",
     "output_type": "stream",
     "text": [
      "Got error: {\"errors\":[{\"message\":\"Rate limit exceeded\",\"code\":88}]} \n",
      "sleeping for 15 minutes.\n"
     ]
    },
    {
     "name": "stdout",
     "output_type": "stream",
     "text": [
      "\n",
      "Returning --- 1465 friends for CandyStoreKid\n",
      "Returning --- 368 friends for CanesReport\n",
      "Returning --- 1178 friends for CanterburyFW\n",
      "Returning --- 80 friends for CantuMauricio\n",
      "Collected 5000 friends for CanvasLMS\n",
      "Returning --- 10479 friends for CanvasLMS\n",
      "Returning --- 29 friends for CapgeminiCampus\n",
      "Returning --- 120 friends for CapnSwankySwag\n",
      "Returning --- 1013 friends for CaptMerica14\n",
      "Returning --- 183 friends for CaptainGu3\n",
      "Returning --- 788 friends for CaptainIna0328\n",
      "Returning --- 12 friends for CaptainQiu\n",
      "Returning --- 11 friends for CaptainQuarky"
     ]
    },
    {
     "name": "stderr",
     "output_type": "stream",
     "text": [
      "Got error: {\"errors\":[{\"message\":\"Rate limit exceeded\",\"code\":88}]} \n",
      "sleeping for 15 minutes.\n"
     ]
    },
    {
     "name": "stdout",
     "output_type": "stream",
     "text": [
      "\n",
      "Returning --- 375 friends for CaptionsMidwest\n",
      "Returning --- 78 friends for CarITsupport\n",
      "Returning --- 29 friends for CaraHuzinec\n",
      "Returning --- 158 friends for Cara_Acker\n",
      "Returning --- 1116 friends for CarbonicWheels\n",
      "Returning --- 145 friends for CardScholars\n",
      "Returning --- 28 friends for Cardsfanz\n",
      "Collected 5000 friends for Care_Aware\n",
      "Returning --- 12232 friends for Care_Aware\n",
      "Returning --- 117 friends for Care_Phillips\n",
      "Returning --- 869 friends for Career1234\n",
      "Collected 5000 friends for Career1Stop\n",
      "Returning --- 10425 friends for Career1Stop\n",
      "Returning --- 1608 friends for CareerAccelerat"
     ]
    },
    {
     "name": "stderr",
     "output_type": "stream",
     "text": [
      "Got error: {\"errors\":[{\"message\":\"Rate limit exceeded\",\"code\":88}]} \n",
      "sleeping for 15 minutes.\n"
     ]
    },
    {
     "name": "stdout",
     "output_type": "stream",
     "text": [
      "\n",
      "Returning --- 4745 friends for CareerAction\n",
      "Returning --- 204 friends for CareerAdviceHQ\n",
      "Returning --- 3281 friends for CareerBliss\n",
      "Returning --- 1147 friends for CareerBookstore\n",
      "Returning --- 582 friends for CareerCadence\n",
      "Returning --- 730 friends for CareerCandice\n",
      "Returning --- 2707 friends for CareerCenter_LU\n",
      "Returning --- 1102 friends for CareerCenter_MU\n",
      "Returning --- 1225 friends for CareerCoachTina\n",
      "Returning --- 1499 friends for CareerConduit\n",
      "Returning --- 1088 friends for CareerContessa\n",
      "Returning --- 1773 friends for CareerCooler\n",
      "Returning --- 257 friends for CareerFoundAcad\n",
      "Returning --- 408 friends for CareerIdeas_com\n",
      "Returning --- 493 friends for CareerOpus"
     ]
    },
    {
     "name": "stderr",
     "output_type": "stream",
     "text": [
      "Got error: {\"errors\":[{\"message\":\"Rate limit exceeded\",\"code\":88}]} \n",
      "sleeping for 15 minutes.\n"
     ]
    },
    {
     "name": "stdout",
     "output_type": "stream",
     "text": [
      "\n",
      "Returning --- 1913 friends for CareerPathNews\n",
      "Returning --- 332 friends for CareerPillar\n",
      "Returning --- 124 friends for CareerPioneers\n",
      "Returning --- 1867 friends for CareerSavvy2\n",
      "Returning --- 2417 friends for CareerScribe\n",
      "Returning --- 123 friends for CareerSpotsVids\n",
      "Returning --- 1978 friends for CareerTestDrive\n",
      "Returning --- 149 friends for CareerTools4U\n",
      "Returning --- 1388 friends for CareerWatch1\n",
      "Returning --- 486 friends for CareerWilliam\n",
      "Returning --- 590 friends for Career_at_NSU\n",
      "Returning --- 632 friends for Careerosity\n",
      "Returning --- 210 friends for CareersAtNWL\n",
      "Returning --- 350 friends for CareersOutThere\n",
      "Returning --- 1027 friends for CareersTHG"
     ]
    },
    {
     "name": "stderr",
     "output_type": "stream",
     "text": [
      "Got error: {\"errors\":[{\"message\":\"Rate limit exceeded\",\"code\":88}]} \n",
      "sleeping for 15 minutes.\n"
     ]
    },
    {
     "name": "stdout",
     "output_type": "stream",
     "text": [
      "\n",
      "Returning --- 150 friends for CareersWL\n",
      "Returning --- 88 friends for CarenRaylesberg\n",
      "Returning --- 342 friends for CareyyRose\n",
      "Returning --- 17 friends for CarharttTour\n",
      "Returning --- 235 friends for CaribStudents\n",
      "Returning --- 97 friends for Carina531252464\n",
      "Returning --- 686 friends for Carl_myers76\n",
      "Returning --- 1757 friends for Carla1026\n",
      "Returning --- 31 friends for CarlaJo59418686\n",
      "Returning --- 2106 friends for CarlaKJohnson\n",
      "Returning --- 52 friends for Carla_Edelston\n",
      "Returning --- 1787 friends for CarlaandLivKIDS\n",
      "Returning --- 245 friends for CarleyLintz\n",
      "Returning --- 120 friends for CarliZeman"
     ]
    },
    {
     "name": "stderr",
     "output_type": "stream",
     "text": [
      "Got error: {\"errors\":[{\"message\":\"Rate limit exceeded\",\"code\":88}]} \n",
      "sleeping for 15 minutes.\n"
     ]
    },
    {
     "name": "stdout",
     "output_type": "stream",
     "text": [
      "\n",
      "Returning --- 21 friends for CarlieJWagner\n",
      "Returning --- 265 friends for CarlitaNicol\n",
      "Returning --- 60 friends for Carlmagsnussen\n",
      "Returning --- 162 friends for CarlosBassoo\n",
      "Returning --- 1228 friends for CarlosBriceo6\n",
      "Returning --- 384 friends for Carlos_Duarte5\n",
      "Returning --- 375 friends for CarlottiKid\n",
      "Returning --- 215 friends for CarltonDaniels\n",
      "Returning --- 950 friends for CarlucciRest\n",
      "Returning --- 518 friends for CarlyKinzler\n",
      "Returning --- 366 friends for CarlyOwen\n",
      "Returning --- 493 friends for CarlyRebeccca\n",
      "Returning --- 418 friends for CarlySerie\n",
      "Returning --- 127 friends for CarlyWThompson\n",
      "Returning --- 232 friends for Carly_Fox1"
     ]
    },
    {
     "name": "stderr",
     "output_type": "stream",
     "text": [
      "Got error: {\"errors\":[{\"message\":\"Rate limit exceeded\",\"code\":88}]} \n",
      "sleeping for 15 minutes.\n"
     ]
    },
    {
     "name": "stdout",
     "output_type": "stream",
     "text": [
      "\n",
      "Returning --- 417 friends for Carly_Nations\n",
      "Returning --- 45 friends for CarmenMackins\n",
      "Returning --- 200 friends for CarmenTaft\n",
      "Returning --- 55 friends for CarmichaelDee\n",
      "Returning --- 249 friends for Carmichaelrob11\n",
      "Returning --- 763 friends for CarmieV\n",
      "Returning --- 1341 friends for CarnegieComm\n",
      "Returning --- 822 friends for CarnegieMellon\n",
      "Returning --- 1563 friends for CarneySandoe\n",
      "Returning --- 67 friends for CarolAnnTrisko\n",
      "Collected 5000 friends for CarolMarin\n",
      "Returning --- 12254 friends for CarolMarin\n",
      "Collected 5000 friends for CarolSankar"
     ]
    },
    {
     "name": "stderr",
     "output_type": "stream",
     "text": [
      "Got error: {\"errors\":[{\"message\":\"Rate limit exceeded\",\"code\":88}]} \n",
      "sleeping for 15 minutes.\n"
     ]
    },
    {
     "name": "stdout",
     "output_type": "stream",
     "text": [
      "\n",
      "Collected 15000 friends for CarolSankar\n",
      "Returning --- 27263 friends for CarolSankar\n",
      "Returning --- 441 friends for CarolaSalvi\n",
      "Returning --- 144 friends for CaroleEnglish10\n",
      "Returning --- 227 friends for Carolhease\n",
      "Returning --- 297 friends for CarolineJames_\n",
      "Returning --- 701 friends for CarolineJuster\n",
      "Returning --- 31 friends for CarolineMPetty\n",
      "Returning --- 64 friends for CarolinePAndrew\n",
      "Returning --- 216 friends for CarolineSaliby"
     ]
    },
    {
     "name": "stderr",
     "output_type": "stream",
     "text": [
      "Got error: {\"errors\":[{\"message\":\"Rate limit exceeded\",\"code\":88}]} \n",
      "sleeping for 15 minutes.\n"
     ]
    },
    {
     "name": "stdout",
     "output_type": "stream",
     "text": [
      "\n",
      "Returning --- 892 friends for Carolyn99\n",
      "Returning --- 627 friends for CarolynBCareer\n",
      "Returning --- 1580 friends for CarolynBarthPR\n",
      "Returning --- 26 friends for CarolynLock\n",
      "Returning --- 2060 friends for CarolynNSpencer\n",
      "Returning --- 52 friends for Carolyn_McHugh\n",
      "Returning --- 13 friends for Carolyn_Sparks1\n",
      "Returning --- 106 friends for Carolyns_Tweets\n",
      "Returning --- 1993 friends for CarpeCollege\n",
      "Returning --- 371 friends for CarraGabi\n",
      "Returning --- 1995 friends for Carrera13\n",
      "Returning --- 830 friends for CarriageCab\n",
      "Returning --- 749 friends for CarrieAnnPerez1"
     ]
    },
    {
     "name": "stderr",
     "output_type": "stream",
     "text": [
      "Got error: {\"errors\":[{\"message\":\"Rate limit exceeded\",\"code\":88}]} \n",
      "sleeping for 15 minutes.\n"
     ]
    },
    {
     "name": "stdout",
     "output_type": "stream",
     "text": [
      "\n",
      "Returning --- 19 friends for CarrieVoltz\n",
      "Returning --- 239 friends for Carrie_Lydon\n",
      "Returning --- 327 friends for Carrievonhoff\n",
      "Returning --- 615 friends for Carrillo_676\n",
      "Returning --- 382 friends for Carroll46\n",
      "Returning --- 88 friends for CarrollCinema\n",
      "Returning --- 214 friends for CarsonLeighNU\n",
      "Returning --- 32 friends for CarsonTalks\n",
      "Returning --- 239 friends for CarterWietecha\n",
      "Returning --- 76 friends for CartwrightJodi\n",
      "Returning --- 1998 friends for CarwilBJ\n",
      "Returning --- 204 friends for CaryMcGoldstein\n",
      "Returning --- 316 friends for CarylDrohan\n",
      "Returning --- 640 friends for CasaraMarie\n",
      "Returning --- 94 friends for CascadeK8PTSA"
     ]
    },
    {
     "name": "stderr",
     "output_type": "stream",
     "text": [
      "Got error: {\"errors\":[{\"message\":\"Rate limit exceeded\",\"code\":88}]} \n",
      "sleeping for 15 minutes.\n"
     ]
    },
    {
     "name": "stdout",
     "output_type": "stream",
     "text": [
      "\n",
      "Returning --- 274 friends for CaseInterviews\n",
      "Returning --- 474 friends for CaseyBankord\n",
      "Returning --- 223 friends for CaseyBuckley\n",
      "Returning --- 1542 friends for CaseyCommon\n",
      "Returning --- 1236 friends for CaseyGeraldo\n",
      "Returning --- 1431 friends for CaseyLouis31\n",
      "Returning --- 881 friends for CaseySamojeden\n",
      "Returning --- 2001 friends for Caseystumpf20\n",
      "Returning --- 322 friends for CashmereCamel\n",
      "Returning --- 1244 friends for Cashyourdiploma\n",
      "Returning --- 125 friends for CassandraForte"
     ]
    },
    {
     "name": "stderr",
     "output_type": "stream",
     "text": [
      "Got error: {\"errors\":[{\"message\":\"Rate limit exceeded\",\"code\":88}]} \n",
      "sleeping for 15 minutes.\n"
     ]
    },
    {
     "name": "stdout",
     "output_type": "stream",
     "text": [
      "\n",
      "Returning --- 1995 friends for CassandraGeiger\n",
      "Returning --- 353 friends for Cassandra_Hsiao\n",
      "Returning --- 893 friends for CassavaLeafLtd\n",
      "Returning --- 155 friends for Cassie_Eskridge\n",
      "Returning --- 497 friends for CastinoPainting\n",
      "Returning --- 1915 friends for CastleBuickGMC\n",
      "Returning --- 1155 friends for CastleChevrolet\n",
      "Returning --- 294 friends for Castor__27\n",
      "Returning --- 65 friends for CasualCucumber\n",
      "Returning --- 39 friends for CatLulling\n",
      "Returning --- 220 friends for Cat_Boardman\n",
      "Returning --- 981 friends for Cat_Zakrzewski\n",
      "Returning --- 1082 friends for CatalanVoices"
     ]
    },
    {
     "name": "stderr",
     "output_type": "stream",
     "text": [
      "Got error: {\"errors\":[{\"message\":\"Rate limit exceeded\",\"code\":88}]} \n",
      "sleeping for 15 minutes.\n"
     ]
    },
    {
     "name": "stdout",
     "output_type": "stream",
     "text": [
      "\n",
      "Returning --- 2086 friends for CatchTheBaby\n",
      "Returning --- 112 friends for CatchUpJones\n",
      "Returning --- 134 friends for CatchingPebbles\n",
      "Returning --- 131 friends for CateArrom\n",
      "Returning --- 441 friends for CateredByDesign\n",
      "Returning --- 114 friends for CatherineBreen\n",
      "Returning --- 9 friends for CatherineCatel1\n",
      "Returning --- 3145 friends for CatherineKaputa\n",
      "Returning --- 410 friends for CatherineMaki\n",
      "Returning --- 278 friends for CatherineRolfe\n",
      "Returning --- 911 friends for Catherine_Greig\n",
      "Returning --- 524 friends for CathiDudczak\n",
      "Returning --- 36 friends for Cathlac\n",
      "Returning --- 650 friends for CathyChengMD"
     ]
    },
    {
     "name": "stderr",
     "output_type": "stream",
     "text": [
      "Got error: {\"errors\":[{\"message\":\"Rate limit exceeded\",\"code\":88}]} \n",
      "sleeping for 15 minutes.\n"
     ]
    },
    {
     "name": "stdout",
     "output_type": "stream",
     "text": [
      "\n",
      "Returning --- 849 friends for CathyRubey\n",
      "Returning --- 48 friends for Cathy_Barrera\n",
      "Returning --- 42 friends for Cathy_MeiyingHe\n",
      "Returning --- 37 friends for CatiSue\n",
      "Returning --- 272 friends for CatoRodriguez86\n",
      "Returning --- 707 friends for CatrionaCooper\n",
      "Returning --- 18 friends for CatsMoew\n",
      "Returning --- 1580 friends for Cats_Owners\n",
      "Returning --- 1624 friends for CavataioMariano\n",
      "Returning --- 1151 friends for CavyChi\n",
      "Returning --- 731 friends for CaymanSummit\n",
      "Returning --- 194 friends for CbDers\n",
      "Returning --- 1910 friends for Cbenitez1701\n",
      "Returning --- 413 friends for CeSpeaks"
     ]
    },
    {
     "name": "stderr",
     "output_type": "stream",
     "text": [
      "Got error: {\"errors\":[{\"message\":\"Rate limit exceeded\",\"code\":88}]} \n",
      "sleeping for 15 minutes.\n"
     ]
    },
    {
     "name": "stdout",
     "output_type": "stream",
     "text": [
      "\n",
      "Returning --- 176 friends for CebPark\n",
      "Returning --- 60 friends for CeciCecii_Photo\n",
      "Returning --- 300 friends for CeciMaye\n",
      "Returning --- 165 friends for CeciliaETorres\n",
      "Returning --- 336 friends for Cecilia_zheng\n",
      "Returning --- 61 friends for Cedes12121\n",
      "Returning --- 433 friends for Cedric_Spring_\n",
      "Returning --- 26 friends for Ceega_NU\n",
      "Returning --- 844 friends for CelebFocusInc\n",
      "Returning --- 84 friends for CelectGreek\n",
      "Returning --- 187 friends for Celect_org\n",
      "Returning --- 547 friends for CelenaChong\n",
      "Returning --- 435 friends for CeleryNewsies\n",
      "Returning --- 65 friends for CelesteAsmar"
     ]
    },
    {
     "name": "stderr",
     "output_type": "stream",
     "text": [
      "Got error: {\"errors\":[{\"message\":\"Rate limit exceeded\",\"code\":88}]} \n",
      "sleeping for 15 minutes.\n"
     ]
    },
    {
     "name": "stdout",
     "output_type": "stream",
     "text": [
      "\n",
      "Returning --- 993 friends for CeliaShatzman\n",
      "Returning --- 615 friends for CellSymposia\n",
      "Returning --- 2153 friends for Cementley\n",
      "Returning --- 168 friends for CenJasmine\n",
      "Returning --- 283 friends for CentralEvanston\n",
      "Returning --- 17 friends for CentralShoeRep\n",
      "Returning --- 99 friends for CentralStNeighb\n",
      "Returning --- 218 friends for Centralis_UX\n",
      "Returning --- 1105 friends for Centro_CAO\n",
      "Returning --- 260 friends for Centurions9\n",
      "Returning --- 1068 friends for Ceolwind\n",
      "Returning --- 826 friends for CeriRoberts22\n",
      "Returning --- 151 friends for CeriseMiao\n",
      "Returning --- 273 friends for CesarCMOficial\n",
      "Returning --- 105 friends for CesarLueng"
     ]
    },
    {
     "name": "stderr",
     "output_type": "stream",
     "text": [
      "Got error: {\"errors\":[{\"message\":\"Rate limit exceeded\",\"code\":88}]} \n",
      "sleeping for 15 minutes.\n"
     ]
    },
    {
     "name": "stdout",
     "output_type": "stream",
     "text": [
      "\n",
      "Returning --- 443 friends for Ceydaphd\n",
      "Returning --- 89 friends for CfitShoreside\n",
      "Returning --- 6 friends for ChBE210\n",
      "Returning --- 60 friends for ChWeekendUpdate\n",
      "Returning --- 497 friends for ChaTheMarketer\n",
      "Returning --- 192 friends for ChadM_Harris\n",
      "Returning --- 40 friends for ChadsOfLP\n",
      "Collected 5000 friends for ChaiWithMollyTV\n",
      "Collected 15000 friends for ChaiWithMollyTV\n",
      "Returning --- 28275 friends for ChaiWithMollyTV\n",
      "Returning --- 2303 friends for ChaimShapiro"
     ]
    },
    {
     "name": "stderr",
     "output_type": "stream",
     "text": [
      "Got error: {\"errors\":[{\"message\":\"Rate limit exceeded\",\"code\":88}]} \n",
      "sleeping for 15 minutes.\n"
     ]
    },
    {
     "name": "stdout",
     "output_type": "stream",
     "text": [
      "\n",
      "Returning --- 1964 friends for ChaissonHillary\n",
      "Returning --- 95 friends for ChaitanyaSing11\n",
      "Returning --- 638 friends for Chakra_Sandhi\n",
      "Returning --- 351 friends for ChalisaSplits\n",
      "Returning --- 40 friends for ChalkeWylie\n",
      "Returning --- 2550 friends for ChallengeDet\n",
      "Returning --- 1893 friends for ChallengeSoccer\n",
      "Returning --- 31 friends for Chalups\n",
      "Returning --- 839 friends for ChampBuns\n",
      "Returning --- 352 friends for ChampagneLab\n",
      "Returning --- 62 friends for ChampagneNutri\n",
      "Returning --- 20 friends for ChanKeylor\n",
      "Returning --- 1058 friends for Chandhiya14\n",
      "Returning --- 94 friends for ChandlerConn"
     ]
    },
    {
     "name": "stderr",
     "output_type": "stream",
     "text": [
      "Got error: {\"errors\":[{\"message\":\"Rate limit exceeded\",\"code\":88}]} \n",
      "sleeping for 15 minutes.\n"
     ]
    },
    {
     "name": "stdout",
     "output_type": "stream",
     "text": [
      "\n",
      "Returning --- 194 friends for ChandlerWongMB\n",
      "Returning --- 137 friends for ChandraPalermo\n",
      "Returning --- 32 friends for Chanelgrl6\n",
      "Returning --- 1342 friends for ChangeCorps\n",
      "Returning --- 236 friends for Chantal_Mendes\n",
      "Returning --- 1473 friends for Chantelledmello\n",
      "Returning --- 12 friends for ChapelGoose\n",
      "Returning --- 43 friends for Chapin_RC\n",
      "Returning --- 414 friends for Chapman813\n",
      "Returning --- 366 friends for ChargeStation\n",
      "Returning --- 286 friends for CharlesMiller78\n",
      "Returning --- 114 friends for CharlesReedy\n",
      "Returning --- 924 friends for CharlesUpTop\n",
      "Returning --- 770 friends for CharleyBoynton"
     ]
    },
    {
     "name": "stderr",
     "output_type": "stream",
     "text": [
      "Got error: {\"errors\":[{\"message\":\"Rate limit exceeded\",\"code\":88}]} \n",
      "sleeping for 15 minutes.\n"
     ]
    },
    {
     "name": "stdout",
     "output_type": "stream",
     "text": [
      "\n",
      "Returning --- 701 friends for CharlieDaveArmy\n",
      "Returning --- 42 friends for CharlieJacked\n",
      "Returning --- 14 friends for CharlieManeval\n",
      "Returning --- 31 friends for CharlotteInsull\n",
      "Returning --- 192 friends for Charlotte_Alex1\n",
      "Returning --- 1997 friends for Charlyruiz18\n",
      "Returning --- 401 friends for Charm14NY\n",
      "Returning --- 892 friends for CharmaineURM\n",
      "Returning --- 555 friends for ChasbmuChuck\n",
      "Returning --- 21 friends for Chase10Chase\n",
      "Returning --- 317 friends for ChaseFuture\n",
      "Returning --- 869 friends for ChaseMonroe58\n",
      "Returning --- 498 friends for ChasingOm\n",
      "Returning --- 382 friends for Chasing_Dreams_"
     ]
    },
    {
     "name": "stderr",
     "output_type": "stream",
     "text": [
      "Got error: {\"errors\":[{\"message\":\"Rate limit exceeded\",\"code\":88}]} \n",
      "sleeping for 15 minutes.\n"
     ]
    },
    {
     "name": "stdout",
     "output_type": "stream",
     "text": [
      "\n",
      "Returning --- 710 friends for Chawinderrathor\n",
      "Returning --- 135 friends for CheapOLColleges\n",
      "Returning --- 996 friends for CheapScholar\n",
      "Returning --- 4659 friends for CheckOrphan\n",
      "Returning --- 148 friends for CheechPDX\n",
      "Returning --- 4515 friends for Cheeky3D\n",
      "Returning --- 1386 friends for CheekyFinn\n",
      "Returning --- 106 friends for CheeseyFag\n",
      "Returning --- 201 friends for CheesieEvanston\n",
      "Returning --- 323 friends for ChefJohnAllen\n",
      "Returning --- 63 friends for ChefTom_\n",
      "Returning --- 10 friends for Chefderace\n",
      "Returning --- 669 friends for ChefsStation\n",
      "Returning --- 3175 friends for Chegg"
     ]
    },
    {
     "name": "stderr",
     "output_type": "stream",
     "text": [
      "Got error: {\"errors\":[{\"message\":\"Rate limit exceeded\",\"code\":88}]} \n",
      "sleeping for 15 minutes.\n"
     ]
    },
    {
     "name": "stdout",
     "output_type": "stream",
     "text": [
      "\n",
      "Returning --- 228 friends for ChellieBot\n",
      "Returning --- 283 friends for ChelseaHaring\n",
      "Returning --- 1040 friends for ChelseaLikeNY\n",
      "Returning --- 482 friends for ChelseaLynn003\n",
      "Returning --- 1070 friends for ChelseaMonthly\n",
      "Returning --- 310 friends for ChelseaRoseK123\n",
      "Returning --- 361 friends for Chem_Consult\n",
      "Returning --- 330 friends for ChenTuofei\n",
      "Returning --- 5 friends for ChenXiang1988\n",
      "Returning --- 140 friends for ChenaultTaylor\n",
      "Returning --- 10 friends for ChengChen11\n",
      "Returning --- 106 friends for ChengChi1"
     ]
    },
    {
     "name": "stderr",
     "output_type": "stream",
     "text": [
      "Got error: {\"errors\":[{\"message\":\"Rate limit exceeded\",\"code\":88}]} \n",
      "sleeping for 15 minutes.\n"
     ]
    },
    {
     "name": "stdout",
     "output_type": "stream",
     "text": [
      "\n",
      "Returning --- 36 friends for ChengchunGao\n",
      "Returning --- 15 friends for Chenyu_Ren\n",
      "Returning --- 14 friends for CheriChangLi\n",
      "Returning --- 110 friends for CherieBerkley\n",
      "Returning --- 110 friends for CheritoF\n",
      "Returning --- 113 friends for CherylSilver\n",
      "Returning --- 880 friends for Cherylnpgh\n",
      "Returning --- 397 friends for CherynL\n",
      "Returning --- 10 friends for Chess_R\n",
      "Returning --- 891 friends for ChetJorgensen\n",
      "Returning --- 88 friends for ChexicanLotus\n",
      "Returning --- 218 friends for CheyenneJaggers\n",
      "Returning --- 279 friends for Chezelia\n",
      "Returning --- 272 friends for ChgoBedBugFindr"
     ]
    },
    {
     "name": "stderr",
     "output_type": "stream",
     "text": [
      "Got error: {\"errors\":[{\"message\":\"Rate limit exceeded\",\"code\":88}]} \n",
      "sleeping for 15 minutes.\n"
     ]
    },
    {
     "name": "stdout",
     "output_type": "stream",
     "text": [
      "\n",
      "Returning --- 2365 friends for ChiAptFinder\n",
      "Returning --- 359 friends for ChiBackCenter\n",
      "Returning --- 402 friends for ChiBearsForLife\n",
      "Returning --- 151 friends for ChiBrassFest\n",
      "Returning --- 1939 friends for ChiCityColleges\n",
      "Returning --- 405 friends for ChiCityKid312\n",
      "Returning --- 1362 friends for ChiCleanCities\n",
      "Returning --- 1612 friends for ChiConfidential\n",
      "Returning --- 2436 friends for ChiCulturalPlan\n",
      "Returning --- 210 friends for ChiDancer\n",
      "Returning --- 1655 friends for ChiDiningDigest\n",
      "Returning --- 127 friends for ChiDoGooders\n",
      "Returning --- 1005 friends for ChiFire_Jackie\n",
      "Returning --- 393 friends for ChiFounders\n",
      "Returning --- 11 friends for ChiG8orGurlll"
     ]
    },
    {
     "name": "stderr",
     "output_type": "stream",
     "text": [
      "Got error: {\"errors\":[{\"message\":\"Rate limit exceeded\",\"code\":88}]} \n",
      "sleeping for 15 minutes.\n"
     ]
    },
    {
     "name": "stdout",
     "output_type": "stream",
     "text": [
      "\n",
      "Returning --- 225 friends for ChiGalAlways\n",
      "Returning --- 96 friends for ChiGlobalHealth\n",
      "Returning --- 10 friends for ChiHacks\n",
      "Returning --- 91 friends for ChiHealthCorps\n",
      "Returning --- 506 friends for ChiHollaback\n",
      "Returning --- 698 friends for ChiLaunchU\n",
      "Returning --- 3378 friends for ChiLifeRealty\n",
      "Returning --- 499 friends for ChiLovesDance\n",
      "Returning --- 1008 friends for ChiMamaGianna\n",
      "Returning --- 896 friends for ChiMusicClinics\n",
      "Returning --- 49 friends for ChiNanarchy\n",
      "Returning --- 858 friends for ChiOArchives\n",
      "Returning --- 438 friends for ChiOSUAlumni\n",
      "Returning --- 2003 friends for ChiPamela"
     ]
    },
    {
     "name": "stderr",
     "output_type": "stream",
     "text": [
      "Got error: {\"errors\":[{\"message\":\"Rate limit exceeded\",\"code\":88}]} \n",
      "sleeping for 15 minutes.\n"
     ]
    },
    {
     "name": "stdout",
     "output_type": "stream",
     "text": [
      "\n",
      "Returning --- 1385 friends for ChiPhotoWalks\n",
      "Returning --- 85 friends for ChiPicassoBook\n",
      "Returning --- 1641 friends for ChiPrivateCar\n",
      "Returning --- 125 friends for ChiPropFinder\n",
      "Returning --- 273 friends for ChiSciWri\n",
      "Returning --- 40 friends for ChiSeniorCare\n",
      "Returning --- 1534 friends for ChiSmallBiz\n",
      "Returning --- 216 friends for ChiSportsBiz\n",
      "Returning --- 1418 friends for ChiSportsComm\n",
      "Returning --- 626 friends for ChiTechAcademy\n",
      "Returning --- 583 friends for ChiTownAC\n",
      "Returning --- 857 friends for ChiTownOrange\n",
      "Returning --- 1992 friends for ChiTraderRob\n",
      "Returning --- 3023 friends for ChiTrust\n",
      "Returning --- 487 friends for ChiUnionStation"
     ]
    },
    {
     "name": "stderr",
     "output_type": "stream",
     "text": [
      "Got error: {\"errors\":[{\"message\":\"Rate limit exceeded\",\"code\":88}]} \n",
      "sleeping for 15 minutes.\n"
     ]
    },
    {
     "name": "stdout",
     "output_type": "stream",
     "text": [
      "\n",
      "Returning --- 469 friends for ChiUrbanLeague\n",
      "Returning --- 1194 friends for ChiVIPSurgery\n",
      "Returning --- 17 friends for ChiVentureGal\n",
      "Returning --- 4259 friends for Chi_Humanities\n",
      "Returning --- 251 friends for Chi_Lillee\n",
      "Returning --- 1840 friends for Chi_Shan\n",
      "Returning --- 718 friends for ChiangGin\n",
      "Returning --- 248 friends for ChicaExpressiva\n",
      "Returning --- 199 friends for Chicago60607\n",
      "Returning --- 1450 friends for ChicagoADL\n",
      "Returning --- 798 friends for ChicagoAM\n",
      "Returning --- 1831 friends for ChicagoAreaPet\n",
      "Returning --- 301 friends for ChicagoBMRC"
     ]
    },
    {
     "name": "stderr",
     "output_type": "stream",
     "text": [
      "Got error: {\"errors\":[{\"message\":\"Rate limit exceeded\",\"code\":88}]} \n",
      "sleeping for 15 minutes.\n"
     ]
    },
    {
     "name": "stdout",
     "output_type": "stream",
     "text": [
      "\n",
      "Returning --- 497 friends for ChicagoBailey\n",
      "Returning --- 2708 friends for ChicagoBlueSky\n",
      "Returning --- 289 friends for ChicagoCPCU\n",
      "Returning --- 1050 friends for ChicagoCTU\n",
      "Returning --- 2559 friends for ChicagoCares\n",
      "Returning --- 361 friends for ChicagoCopyShop\n",
      "Returning --- 1696 friends for ChicagoCostume\n",
      "Returning --- 32 friends for ChicagoDevils42\n",
      "Returning --- 2239 friends for ChicagoDiane\n",
      "Returning --- 109 friends for ChicagoDivision\n",
      "Returning --- 1315 friends for ChicagoFan31\n",
      "Returning --- 1212 friends for ChicagoFile\n",
      "Returning --- 1986 friends for ChicagoGMC\n",
      "Returning --- 40 friends for ChicagoGavin\n",
      "Returning --- 1060 friends for ChicagoHappenin"
     ]
    },
    {
     "name": "stderr",
     "output_type": "stream",
     "text": [
      "Got error: {\"errors\":[{\"message\":\"Rate limit exceeded\",\"code\":88}]} \n",
      "sleeping for 15 minutes.\n"
     ]
    },
    {
     "name": "stdout",
     "output_type": "stream",
     "text": [
      "\n",
      "Returning --- 90 friends for ChicagoHel\n",
      "Returning --- 2018 friends for ChicagoIC\n",
      "Returning --- 179 friends for ChicagoICE\n",
      "Returning --- 706 friends for ChicagoImages\n",
      "Returning --- 818 friends for ChicagoImprov\n",
      "Returning --- 19 friends for ChicagoIndo\n",
      "Returning --- 2408 friends for ChicagoKentLaw\n",
      "Returning --- 169 friends for ChicagoLawCurt\n",
      "Returning --- 44 friends for ChicagoLegal1\n",
      "Returning --- 262 friends for ChicagoLifeCB\n",
      "Returning --- 995 friends for ChicagoLine\n",
      "Returning --- 1717 friends for ChicagoLunchBox\n",
      "Returning --- 2090 friends for ChicagoMPI\n",
      "Returning --- 1491 friends for ChicagoMcHugh\n",
      "Returning --- 158 friends for ChicagoMisc"
     ]
    },
    {
     "name": "stderr",
     "output_type": "stream",
     "text": [
      "Got error: {\"errors\":[{\"message\":\"Rate limit exceeded\",\"code\":88}]} \n",
      "sleeping for 15 minutes.\n"
     ]
    },
    {
     "name": "stdout",
     "output_type": "stream",
     "text": [
      "\n",
      "Returning --- 1026 friends for ChicagoMuseum\n",
      "Returning --- 16 friends for ChicagoMuslims1\n",
      "Returning --- 763 friends for ChicagoNShore\n",
      "Returning --- 363 friends for ChicagoNsideToy\n",
      "Collected 5000 friends for ChicagoPTJobs\n",
      "Returning --- 10660 friends for ChicagoPTJobs\n",
      "Returning --- 3090 friends for ChicagoPhotoSho\n",
      "Returning --- 100 friends for ChicagoPinkSlip\n",
      "Returning --- 1536 friends for ChicagoPlays\n",
      "Returning --- 157 friends for ChicagoPolitico\n",
      "Returning --- 1803 friends for ChicagoREpro\n",
      "Returning --- 413 friends for ChicagoRTweets\n",
      "Returning --- 791 friends for ChicagoRooftops\n",
      "Returning --- 30 friends for ChicagoSuperMom\n",
      "Returning --- 1997 friends for ChicagoTEN"
     ]
    },
    {
     "name": "stderr",
     "output_type": "stream",
     "text": [
      "Got error: {\"errors\":[{\"message\":\"Rate limit exceeded\",\"code\":88}]} \n",
      "sleeping for 15 minutes.\n"
     ]
    },
    {
     "name": "stdout",
     "output_type": "stream",
     "text": [
      "\n",
      "Returning --- 181 friends for ChicagoTOT\n",
      "Returning --- 2115 friends for ChicagoTheatre\n",
      "Returning --- 96 friends for ChicagoWires\n",
      "Returning --- 2121 friends for Chicago_BB\n",
      "Returning --- 4831 friends for Chicago_Gourmet\n",
      "Collected 5000 friends for Chicago_History\n",
      "Returning --- 11832 friends for Chicago_History\n",
      "Returning --- 356 friends for Chicago_HitHot\n",
      "Returning --- 259 friends for Chicago_Janice\n",
      "Returning --- 234 friends for Chicago_Premier\n",
      "Returning --- 1771 friends for Chicago_Reader\n",
      "Returning --- 42 friends for Chicago_Spine\n",
      "Returning --- 454 friends for Chicago_U\n",
      "Returning --- 206 friends for Chicago_VOST\n",
      "Returning --- 251 friends for Chicagobookbuy"
     ]
    },
    {
     "name": "stderr",
     "output_type": "stream",
     "text": [
      "Got error: {\"errors\":[{\"message\":\"Rate limit exceeded\",\"code\":88}]} \n",
      "sleeping for 15 minutes.\n"
     ]
    },
    {
     "name": "stdout",
     "output_type": "stream",
     "text": [
      "\n",
      "Returning --- 516 friends for Chicagobraids\n",
      "Collected 5000 friends for Chicagoist\n",
      "Returning --- 13741 friends for Chicagoist\n",
      "Collected 5000 friends for ChicagolandCmbr\n",
      "Returning --- 13859 friends for ChicagolandCmbr\n",
      "Returning --- 99 friends for ChicagosPizza\n",
      "Returning --- 66 friends for ChickaMartin\n",
      "Returning --- 103 friends for Chicken2Ray\n",
      "Returning --- 1920 friends for ChickenFTW\n",
      "Returning --- 352 friends for Chicken_Pot_Tys\n",
      "Returning --- 416 friends for ChicoCareers\n",
      "Returning --- 106 friends for Chicotic\n",
      "Returning --- 836 friends for ChiefRebelle\n",
      "Returning --- 74 friends for ChietiUnivArch"
     ]
    },
    {
     "name": "stderr",
     "output_type": "stream",
     "text": [
      "Got error: {\"errors\":[{\"message\":\"Rate limit exceeded\",\"code\":88}]} \n",
      "sleeping for 15 minutes.\n"
     ]
    },
    {
     "name": "stdout",
     "output_type": "stream",
     "text": [
      "\n",
      "Returning --- 18 friends for ChijunS\n",
      "Returning --- 40 friends for ChikhInga\n",
      "Returning --- 140 friends for ChildDevCenters\n",
      "Returning --- 545 friends for Childcarenet\n",
      "Returning --- 212 friends for Childcat15\n",
      "Returning --- 67 friends for ChildreachUSA\n",
      "Returning --- 4351 friends for ChildrenParties\n",
      "Returning --- 366 friends for ChildrensAdv\n",
      "Returning --- 35 friends for ChimdinduO\n",
      "Returning --- 2001 friends for ChinaKennedy\n",
      "Returning --- 803 friends for Chinewsupdate\n",
      "Returning --- 1934 friends for ChinkTheMovie\n",
      "Returning --- 33 friends for ChintanChheda88\n",
      "Returning --- 9 friends for ChipMcKiernan"
     ]
    },
    {
     "name": "stderr",
     "output_type": "stream",
     "text": [
      "Got error: {\"errors\":[{\"message\":\"Rate limit exceeded\",\"code\":88}]} \n",
      "sleeping for 15 minutes.\n"
     ]
    },
    {
     "name": "stdout",
     "output_type": "stream",
     "text": [
      "\n",
      "Returning --- 13 friends for ChippersGrlJill\n",
      "Returning --- 224 friends for ChiragChauhanMD\n",
      "Returning --- 747 friends for ChitownMick\n",
      "Returning --- 146 friends for ChitownSanta\n",
      "Returning --- 243 friends for ChloeVAP\n",
      "Returning --- 307 friends for ChoiceHotelJobs\n",
      "Returning --- 726 friends for ChooseDuPage\n",
      "Returning --- 713 friends for Choppa_Chase\n",
      "Returning --- 260 friends for ChowTownStudios\n",
      "Returning --- 298 friends for ChrisAz\n",
      "Returning --- 592 friends for ChrisBeykirch"
     ]
    },
    {
     "name": "stderr",
     "output_type": "stream",
     "text": [
      "Got error: {\"errors\":[{\"message\":\"Rate limit exceeded\",\"code\":88}]} \n",
      "sleeping for 15 minutes.\n"
     ]
    },
    {
     "name": "stdout",
     "output_type": "stream",
     "text": [
      "\n",
      "Returning --- 1625 friends for ChrisCasquejo\n",
      "Returning --- 80 friends for ChrisChrismerza\n",
      "Returning --- 40 friends for ChrisD197\n",
      "Returning --- 126 friends for ChrisEbho\n",
      "Returning --- 1492 friends for ChrisFarrNBC5\n",
      "Returning --- 1821 friends for ChrisGore2018\n",
      "Returning --- 93 friends for ChrisHandzlik\n",
      "Returning --- 2481 friends for ChrisHarrisSr\n",
      "Returning --- 250 friends for ChrisJay35\n",
      "Returning --- 1092 friends for ChrisKerzich\n",
      "Returning --- 909 friends for ChrisLeporini\n",
      "Returning --- 356 friends for ChrisMTucson\n",
      "Returning --- 104 friends for ChrisMWoltering"
     ]
    },
    {
     "name": "stderr",
     "output_type": "stream",
     "text": [
      "Got error: {\"errors\":[{\"message\":\"Rate limit exceeded\",\"code\":88}]} \n",
      "sleeping for 15 minutes.\n"
     ]
    },
    {
     "name": "stdout",
     "output_type": "stream",
     "text": [
      "\n",
      "Returning --- 829 friends for ChrisMillichap\n",
      "Returning --- 514 friends for ChrisMioton\n",
      "Returning --- 314 friends for ChrisNakutis\n",
      "Returning --- 1128 friends for ChrisShores\n",
      "Returning --- 382 friends for ChrisStradling\n",
      "Returning --- 974 friends for ChrisTheGod234\n",
      "Returning --- 28 friends for ChrisVanison\n",
      "Returning --- 1515 friends for ChrisWelch_JD\n",
      "Returning --- 3288 friends for ChrisWragge\n",
      "Returning --- 17 friends for ChrisZhangLLB\n",
      "Returning --- 213 friends for Chris_DBr\n",
      "Returning --- 274 friends for Chris_Harlow1\n",
      "Returning --- 465 friends for Chris_Kennedy_1\n",
      "Returning --- 108 friends for Chris_Leckk"
     ]
    },
    {
     "name": "stderr",
     "output_type": "stream",
     "text": [
      "Got error: {\"errors\":[{\"message\":\"Rate limit exceeded\",\"code\":88}]} \n",
      "sleeping for 15 minutes.\n"
     ]
    },
    {
     "name": "stdout",
     "output_type": "stream",
     "text": [
      "\n",
      "Returning --- 454 friends for Chris__Riordan\n",
      "Returning --- 310 friends for Chrisalisozor\n",
      "Returning --- 53 friends for Chrisjrogers12\n",
      "Returning --- 1998 friends for ChrissmithR\n",
      "Returning --- 125 friends for ChrissyCilento\n",
      "Returning --- 33 friends for ChrissyKelly7\n",
      "Returning --- 190 friends for ChrissyZhou\n",
      "Returning --- 1934 friends for ChristHigherEd\n",
      "Returning --- 172 friends for ChristaTimil\n",
      "Returning --- 942 friends for Christi34408702\n",
      "Returning --- 1436 friends for Christi43484213\n",
      "Returning --- 134 friends for ChristianMurr12"
     ]
    },
    {
     "name": "stderr",
     "output_type": "stream",
     "text": [
      "Got error: {\"errors\":[{\"message\":\"Rate limit exceeded\",\"code\":88}]} \n",
      "sleeping for 15 minutes.\n"
     ]
    },
    {
     "name": "stdout",
     "output_type": "stream",
     "text": [
      "\n",
      "Returning --- 1873 friends for ChristianMurr17\n",
      "Returning --- 177 friends for ChristianaS25\n",
      "Returning --- 983 friends for ChristiePete77\n",
      "Returning --- 121 friends for ChristieSohn\n",
      "Returning --- 677 friends for Christie_Ileto\n",
      "Returning --- 44 friends for ChristinDWarner\n",
      "Returning --- 871 friends for Christina9473\n",
      "Returning --- 112 friends for ChristinaEstell\n",
      "Returning --- 244 friends for ChristinaHKim\n",
      "Returning --- 123 friends for ChristinaStopka\n",
      "Returning --- 222 friends for Christinafredr4"
     ]
    },
    {
     "name": "stderr",
     "output_type": "stream",
     "text": [
      "Got error: {\"errors\":[{\"message\":\"Rate limit exceeded\",\"code\":88}]} \n",
      "sleeping for 15 minutes.\n"
     ]
    },
    {
     "name": "stdout",
     "output_type": "stream",
     "text": [
      "\n",
      "Returning --- 421 friends for ChristineVanDW\n",
      "Returning --- 603 friends for Christine_McF\n",
      "Returning --- 69 friends for Christine__CC\n",
      "Returning --- 731 friends for ChristofToft\n",
      "Returning --- 712 friends for ChristopherAyan\n",
      "Returning --- 177 friends for ChristopherStat\n",
      "Returning --- 300 friends for ChristyLeachSU\n",
      "Returning --- 198 friends for ChristyLu0111\n",
      "Returning --- 86 friends for Christy_N7\n",
      "Returning --- 125 friends for Christy_Serrano\n",
      "Returning --- 1455 friends for ChristynProFo\n",
      "Returning --- 210 friends for Chryssa01"
     ]
    },
    {
     "name": "stderr",
     "output_type": "stream",
     "text": [
      "Got error: {\"errors\":[{\"message\":\"Rate limit exceeded\",\"code\":88}]} \n",
      "sleeping for 15 minutes.\n"
     ]
    }
   ],
   "source": [
    "# Collecting all nu_followers's friends' ids and pickling them separately\n",
    "get_friend_ids_and_pickle_object(nu_followers_3, 'nu', split_pickle = True)"
   ]
  },
  {
   "cell_type": "code",
   "execution_count": 11,
   "metadata": {
    "collapsed": false,
    "scrolled": false
   },
   "outputs": [
    {
     "name": "stdout",
     "output_type": "stream",
     "text": [
      "33202\n"
     ]
    }
   ],
   "source": [
    "print len(nu_followers_3)"
   ]
  },
  {
   "cell_type": "code",
   "execution_count": 19,
   "metadata": {
    "collapsed": false,
    "scrolled": false
   },
   "outputs": [
    {
     "name": "stdout",
     "output_type": "stream",
     "text": [
      "3542\n"
     ]
    }
   ],
   "source": [
    "for idx,follower in enumerate(nu_followers):\n",
    "    if \"Chryssa01\" in follower:\n",
    "        print idx"
   ]
  },
  {
   "cell_type": "code",
   "execution_count": 21,
   "metadata": {
    "collapsed": true,
    "scrolled": false
   },
   "outputs": [],
   "source": [
    "nu_followers_4 = nu_followers[3542:len(nu_followers)/2]"
   ]
  },
  {
   "cell_type": "code",
   "execution_count": 23,
   "metadata": {
    "collapsed": false,
    "scrolled": false
   },
   "outputs": [
    {
     "name": "stdout",
     "output_type": "stream",
     "text": [
      "Chryssa01\n"
     ]
    }
   ],
   "source": [
    "print nu_followers_4[0]"
   ]
  },
  {
   "cell_type": "code",
   "execution_count": null,
   "metadata": {
    "collapsed": false,
    "scrolled": true
   },
   "outputs": [
    {
     "name": "stdout",
     "output_type": "stream",
     "text": [
      "Returning --- 210 friends for Chryssa01\n",
      "Returning --- 33 friends for ChuckBartling\n",
      "Returning --- 634 friends for ChuckPorcelli\n",
      "Returning --- 109 friends for Chujie_Chen\n",
      "Returning --- 431 friends for Chunds19\n",
      "Returning --- 29 friends for ChuyueYang\n",
      "Returning --- 756 friends for CiMobileApp\n",
      "Returning --- 1161 friends for CianBannon\n",
      "Returning --- 922 friends for Cianoff\n",
      "Returning --- 856 friends for CiaoBelu\n",
      "Returning --- 381 friends for CiaranJDoyle\n",
      "Returning --- 1896 friends for CicadaStore\n",
      "Returning --- 24 friends for CierraLevy\n",
      "Returning --- 525 friends for CierraMarie97\n",
      "Returning --- 257 friends for CincinnatiMSTP"
     ]
    },
    {
     "name": "stderr",
     "output_type": "stream",
     "text": [
      "Got error: {\"errors\":[{\"message\":\"Rate limit exceeded\",\"code\":88}]} \n",
      "sleeping for 15 minutes.\n"
     ]
    },
    {
     "name": "stdout",
     "output_type": "stream",
     "text": [
      "\n",
      "Returning --- 97 friends for CindyChang001\n",
      "Returning --- 79 friends for CindyFiring\n",
      "Returning --- 68 friends for CindyGalvin1\n",
      "Returning --- 16 friends for CindyJOsman\n",
      "Returning --- 100 friends for CindyLeeBrowne\n",
      "Returning --- 147 friends for CinemaNero\n",
      "Returning --- 40 friends for CineyJohn\n",
      "Returning --- 1025 friends for Cinniebunnie\n",
      "Returning --- 425 friends for Cinternships\n",
      "Returning --- 122 friends for Cisca13\n",
      "Returning --- 2024 friends for Ciscogiii"
     ]
    },
    {
     "name": "stderr",
     "output_type": "stream",
     "text": [
      "Got error: {\"errors\":[{\"message\":\"Rate limit exceeded\",\"code\":88}]} \n",
      "sleeping for 15 minutes.\n"
     ]
    },
    {
     "name": "stdout",
     "output_type": "stream",
     "text": [
      "\n",
      "Returning --- 179 friends for CitadelCareers\n",
      "Returning --- 42 friends for CitizenTy\n",
      "Returning --- 214 friends for CitopatologiaG\n",
      "Returning --- 1126 friends for CitrixCareers\n",
      "Returning --- 187 friends for CityGirlLost\n",
      "Returning --- 810 friends for CityLitTheater\n",
      "Collected 5000 friends for CityWineryCHI\n",
      "Returning --- 10140 friends for CityWineryCHI\n",
      "Returning --- 1657 friends for CityYearMidwest\n",
      "Returning --- 804 friends for CityofEvanston\n",
      "Returning --- 175 friends for ClaireFontenot\n",
      "Returning --- 195 friends for ClaireHaws"
     ]
    },
    {
     "name": "stderr",
     "output_type": "stream",
     "text": [
      "Got error: {\"errors\":[{\"message\":\"Rate limit exceeded\",\"code\":88}]} \n",
      "sleeping for 15 minutes.\n"
     ]
    },
    {
     "name": "stdout",
     "output_type": "stream",
     "text": [
      "\n",
      "Returning --- 102 friends for ClaireNorman17\n",
      "Returning --- 239 friends for ClairePDillon\n",
      "Returning --- 948 friends for ClairePartin\n",
      "Returning --- 28 friends for ClaireSucsy\n",
      "Returning --- 160 friends for Claire_Albert\n",
      "Returning --- 398 friends for Claire_e_o\n",
      "Returning --- 738 friends for ClancyCalkins\n",
      "Returning --- 237 friends for Clanglotz\n",
      "Returning --- 13 friends for Clara9510\n",
      "Returning --- 61 friends for ClaraBerman\n",
      "Returning --- 112 friends for ClareAliceRoth\n",
      "Returning --- 700 friends for ClareDavies9\n",
      "Returning --- 7 friends for ClarenceBMD"
     ]
    },
    {
     "name": "stderr",
     "output_type": "stream",
     "text": [
      "Got error: {\"errors\":[{\"message\":\"Rate limit exceeded\",\"code\":88}]} \n",
      "sleeping for 15 minutes.\n"
     ]
    },
    {
     "name": "stdout",
     "output_type": "stream",
     "text": [
      "\n",
      "Returning --- 1621 friends for ClarissaChicago\n",
      "Returning --- 1851 friends for Clariwho\n",
      "Returning --- 14 friends for Clark2Keith\n",
      "Returning --- 1054 friends for ClarkSchool\n",
      "Returning --- 282 friends for ClarkStBridge\n",
      "Returning --- 155 friends for Clarkowski\n",
      "Returning --- 350 friends for ClaryMariah\n",
      "Returning --- 91 friends for ClashMan84\n",
      "Returning --- 1936 friends for Class1984\n",
      "Returning --- 551 friends for ClassClick\n",
      "Returning --- 479 friends for Classic_Prep\n",
      "Returning --- 695 friends for ClassroomQuips\n",
      "Returning --- 10 friends for ClaudiaGm0n3y\n",
      "Returning --- 10 friends for ClaudiaMHaase"
     ]
    },
    {
     "name": "stderr",
     "output_type": "stream",
     "text": [
      "Got error: {\"errors\":[{\"message\":\"Rate limit exceeded\",\"code\":88}]} \n",
      "sleeping for 15 minutes.\n"
     ]
    },
    {
     "name": "stdout",
     "output_type": "stream",
     "text": [
      "\n",
      "Returning --- 697 friends for ClausenMiller\n",
      "Returning --- 196 friends for ClayCenterAtVSB\n",
      "Returning --- 1922 friends for ClaytonGuse\n",
      "Returning --- 1955 friends for Claytoraid\n",
      "Returning --- 957 friends for CleanEnergyTrst\n",
      "Returning --- 330 friends for CleanHealthySmi\n",
      "Returning --- 82 friends for CleanPlateKlub\n",
      "Returning --- 366 friends for ClearGinThinker\n",
      "Returning --- 61 friends for ClearViewAlumni\n",
      "Returning --- 67 friends for ClearViewPrep\n",
      "Returning --- 1937 friends for Clearwatermurph\n",
      "Returning --- 372 friends for CleopASH\n",
      "Collected 5000 friends for ClevelandFrowns\n",
      "Returning --- 10099 friends for ClevelandFrowns"
     ]
    },
    {
     "name": "stderr",
     "output_type": "stream",
     "text": [
      "Got error: {\"errors\":[{\"message\":\"Rate limit exceeded\",\"code\":88}]} \n",
      "sleeping for 15 minutes.\n"
     ]
    },
    {
     "name": "stdout",
     "output_type": "stream",
     "text": [
      "\n",
      "Collected 5000 friends for ClickGeniusCo\n",
      "Collected 15000 friends for ClickGeniusCo\n",
      "Returning --- 25128 friends for ClickGeniusCo\n",
      "Returning --- 17 friends for CliffordCMC\n",
      "Returning --- 32 friends for Clint_holder\n",
      "Returning --- 111 friends for Cloud9muse\n",
      "Returning --- 18 friends for Cloudy9Purple\n",
      "Returning --- 142 friends for CloutScout\n",
      "Returning --- 22 friends for Cloveryanying\n",
      "Returning --- 4850 friends for ClusterFlunk\n",
      "Returning --- 675 friends for ClustersLtd\n",
      "Returning --- 366 friends for ClydeRundle\n",
      "Returning --- 2443 friends for CoC_SWDetroit\n",
      "Returning --- 350 friends for CoPlanCFS"
     ]
    },
    {
     "name": "stderr",
     "output_type": "stream",
     "text": [
      "Got error: {\"errors\":[{\"message\":\"Rate limit exceeded\",\"code\":88}]} \n",
      "sleeping for 15 minutes.\n"
     ]
    },
    {
     "name": "stdout",
     "output_type": "stream",
     "text": [
      "\n",
      "Returning --- 1077 friends for CoachAllen_37\n",
      "Returning --- 233 friends for CoachBFen\n",
      "Returning --- 476 friends for CoachBozych\n",
      "Returning --- 23 friends for CoachCarmody\n",
      "Returning --- 289 friends for CoachClarkTOW\n",
      "Returning --- 406 friends for CoachCushing\n",
      "Returning --- 155 friends for CoachDarcyE\n",
      "Returning --- 453 friends for CoachGalante\n",
      "Returning --- 742 friends for CoachGuth4\n",
      "Returning --- 1879 friends for CoachHinkel\n",
      "Returning --- 1991 friends for CoachJWelke\n",
      "Returning --- 1058 friends for CoachKey_6\n",
      "Returning --- 634 friends for CoachLaurann\n",
      "Returning --- 2869 friends for CoachMcCombs\n",
      "Returning --- 268 friends for CoachPolster"
     ]
    },
    {
     "name": "stderr",
     "output_type": "stream",
     "text": [
      "Got error: {\"errors\":[{\"message\":\"Rate limit exceeded\",\"code\":88}]} \n",
      "sleeping for 15 minutes.\n"
     ]
    },
    {
     "name": "stdout",
     "output_type": "stream",
     "text": [
      "\n",
      "Returning --- 202 friends for CoachReesNU\n",
      "Returning --- 577 friends for CoachRibas26\n",
      "Returning --- 788 friends for CoachTHardy\n",
      "Returning --- 1691 friends for CoachTabby\n",
      "Returning --- 438 friends for CoachWCinelli\n",
      "Returning --- 157 friends for CoachWilson00\n",
      "Returning --- 3042 friends for Coach_KJackson\n",
      "Returning --- 239 friends for Coach_Rad_EGHS\n",
      "Returning --- 106 friends for Coacharya\n",
      "Returning --- 1984 friends for CoachsOffice\n",
      "Returning --- 1112 friends for CoadyStFX\n",
      "Returning --- 779 friends for CoalitionImpact\n",
      "Returning --- 23 friends for CobbTX\n",
      "Returning --- 288 friends for CobbsNeverStops\n",
      "Returning --- 1312 friends for CochranShow"
     ]
    },
    {
     "name": "stderr",
     "output_type": "stream",
     "text": [
      "Got error: {\"errors\":[{\"message\":\"Rate limit exceeded\",\"code\":88}]} \n",
      "sleeping for 15 minutes.\n"
     ]
    },
    {
     "name": "stdout",
     "output_type": "stream",
     "text": [
      "\n",
      "Returning --- 283 friends for CochraneHeartNU\n",
      "Returning --- 1070 friends for CocinitaChicago\n",
      "Returning --- 1750 friends for Cocky_Sports\n",
      "Returning --- 217 friends for CodeAbode_CHI\n",
      "Returning --- 774 friends for CodyCejda\n",
      "Returning --- 246 friends for CodyOrto\n",
      "Returning --- 1998 friends for CodySilva89\n",
      "Returning --- 11 friends for CoeVista\n",
      "Returning --- 1136 friends for CoffeeContessa\n",
      "Returning --- 80 friends for CoffeyWhite\n",
      "Returning --- 837 friends for CogCubed\n",
      "Returning --- 802 friends for CogSciTech\n",
      "Returning --- 55 friends for CogentInfotech\n",
      "Returning --- 665 friends for Cogmark"
     ]
    },
    {
     "name": "stderr",
     "output_type": "stream",
     "text": [
      "Got error: {\"errors\":[{\"message\":\"Rate limit exceeded\",\"code\":88}]} \n",
      "sleeping for 15 minutes.\n"
     ]
    },
    {
     "name": "stdout",
     "output_type": "stream",
     "text": [
      "\n",
      "Returning --- 774 friends for ColbertsLassNC\n",
      "Returning --- 5 friends for Cold_Side\n",
      "Returning --- 636 friends for ColeCoerver\n",
      "Returning --- 769 friends for ColeScherer\n",
      "Returning --- 903 friends for ColeWilliams13\n",
      "Returning --- 279 friends for ColemanResearch\n",
      "Returning --- 99 friends for ColettaFenninge\n",
      "Returning --- 83 friends for ColetteDeAquino\n",
      "Returning --- 1621 friends for ColetteUrban\n",
      "Returning --- 1544 friends for ColeyHarvey\n",
      "Returning --- 26 friends for ColgateJobsUS\n",
      "Returning --- 113 friends for ColinDeKuiper\n",
      "Returning --- 237 friends for ColinM125"
     ]
    },
    {
     "name": "stderr",
     "output_type": "stream",
     "text": [
      "Got error: {\"errors\":[{\"message\":\"Rate limit exceeded\",\"code\":88}]} \n",
      "sleeping for 15 minutes.\n"
     ]
    },
    {
     "name": "stdout",
     "output_type": "stream",
     "text": [
      "\n",
      "Returning --- 16 friends for ColinRon\n",
      "Returning --- 819 friends for ColinShort\n",
      "Returning --- 353 friends for CollAccess\n",
      "Returning --- 167 friends for CollPossibleCHI\n",
      "Returning --- 65 friends for CollabLabNU\n",
      "Returning --- 592 friends for CollaberaCorp\n",
      "Returning --- 29 friends for Colleen1031\n",
      "Returning --- 579 friends for ColleenFlores\n",
      "Returning --- 71 friends for Colleen_SS\n",
      "Returning --- 551 friends for CollegeAppTrain\n",
      "Returning --- 1065 friends for CollegeAtlas\n",
      "Returning --- 31 friends for CollegeAudGirl\n",
      "Returning --- 1568 friends for CollegeBasics"
     ]
    },
    {
     "name": "stderr",
     "output_type": "stream",
     "text": [
      "Got error: {\"errors\":[{\"message\":\"Rate limit exceeded\",\"code\":88}]} \n",
      "sleeping for 15 minutes.\n"
     ]
    },
    {
     "name": "stdout",
     "output_type": "stream",
     "text": [
      "\n",
      "Returning --- 1418 friends for CollegeBoard\n",
      "Returning --- 492 friends for CollegeBook\n",
      "Returning --- 1952 friends for CollegeBookShop\n",
      "Returning --- 1195 friends for CollegeBooks12\n",
      "Returning --- 2809 friends for CollegeBoundApp\n",
      "Collected 5000 friends for CollegeBoundNet\n",
      "Returning --- 10029 friends for CollegeBoundNet\n",
      "Returning --- 68 friends for CollegeBoundSS\n",
      "Returning --- 2013 friends for CollegeCareer1\n",
      "Returning --- 35 friends for CollegeCareerCo\n",
      "Returning --- 2685 friends for CollegeChat\n",
      "Returning --- 15 friends for CollegeCleanse\n",
      "Returning --- 1065 friends for CollegeComedy\n",
      "Returning --- 383 friends for CollegeConnect4"
     ]
    },
    {
     "name": "stderr",
     "output_type": "stream",
     "text": [
      "Got error: {\"errors\":[{\"message\":\"Rate limit exceeded\",\"code\":88}]} \n",
      "sleeping for 15 minutes.\n"
     ]
    },
    {
     "name": "stdout",
     "output_type": "stream",
     "text": [
      "\n",
      "Returning --- 408 friends for CollegeCritique\n",
      "Returning --- 125 friends for CollegeData_\n",
      "Returning --- 48 friends for CollegeEquality\n",
      "Returning --- 689 friends for CollegeEssayOrg\n",
      "Returning --- 560 friends for CollegeEssayWiz\n",
      "Returning --- 215 friends for CollegeFish_4yr\n",
      "Returning --- 313 friends for CollegeFrshmn15\n",
      "Returning --- 1193 friends for CollegeGamePlan\n",
      "Returning --- 439 friends for CollegeHoopWest\n",
      "Returning --- 1790 friends for CollegeInvent\n",
      "Returning --- 359 friends for CollegeJosh\n",
      "Returning --- 268 friends for CollegeLifDirct\n",
      "Returning --- 248 friends for CollegeLook\n",
      "Returning --- 40 friends for CollegeLooker\n",
      "Returning --- 4886 friends for CollegeMag"
     ]
    },
    {
     "name": "stderr",
     "output_type": "stream",
     "text": [
      "Got error: {\"errors\":[{\"message\":\"Rate limit exceeded\",\"code\":88}]} \n",
      "sleeping for 15 minutes.\n"
     ]
    },
    {
     "name": "stdout",
     "output_type": "stream",
     "text": [
      "\n",
      "Returning --- 1948 friends for CollegeMapper\n",
      "Returning --- 133 friends for CollegeMasters\n",
      "Returning --- 164 friends for CollegeMeasures\n",
      "Returning --- 122 friends for CollegePaperOrg\n",
      "Returning --- 711 friends for CollegePets\n",
      "Returning --- 620 friends for CollegeProfile\n",
      "Returning --- 203 friends for CollegeRank_Net\n",
      "Returning --- 1402 friends for CollegeSear_ch\n",
      "Returning --- 1133 friends for CollegeSmartAdv\n",
      "Returning --- 934 friends for CollegeSpecific\n",
      "Returning --- 670 friends for CollegeSublet\n",
      "Returning --- 1178 friends for CollegeSuccess1\n",
      "Returning --- 844 friends for CollegeTips101\n",
      "Returning --- 230 friends for CollegeTips_com\n",
      "Returning --- 2006 friends for CollegeToPro"
     ]
    },
    {
     "name": "stderr",
     "output_type": "stream",
     "text": [
      "Got error: {\"errors\":[{\"message\":\"Rate limit exceeded\",\"code\":88}]} \n",
      "sleeping for 15 minutes.\n"
     ]
    },
    {
     "name": "stdout",
     "output_type": "stream",
     "text": [
      "\n",
      "Returning --- 2880 friends for CollegeTrending\n",
      "Returning --- 761 friends for CollegeTrivia\n",
      "Returning --- 519 friends for CollegeTumbler\n",
      "Returning --- 1071 friends for CollegeVitality\n",
      "Returning --- 336 friends for CollegeWeekFilm\n",
      "Returning --- 4580 friends for CollegeWeekLive\n",
      "Returning --- 2980 friends for CollegeXpress\n",
      "Returning --- 66 friends for College_Pigskin\n",
      "Returning --- 506 friends for College_Tours\n",
      "Returning --- 363 friends for CollegeatBISC\n",
      "Returning --- 178 friends for Collegelinker\n",
      "Returning --- 296 friends for Collegenode\n",
      "Returning --- 120 friends for CollegesDream\n",
      "Returning --- 450 friends for Collegescarf\n",
      "Returning --- 222 friends for CollegewiseCbus"
     ]
    },
    {
     "name": "stderr",
     "output_type": "stream",
     "text": [
      "Got error: {\"errors\":[{\"message\":\"Rate limit exceeded\",\"code\":88}]} \n",
      "sleeping for 15 minutes.\n"
     ]
    },
    {
     "name": "stdout",
     "output_type": "stream",
     "text": [
      "\n",
      "Returning --- 114 friends for CollegianMC\n",
      "Returning --- 60 friends for CollegiateAir\n",
      "Returning --- 526 friends for CollegiateBead\n",
      "Returning --- 36 friends for CollegiateChi\n",
      "Returning --- 1020 friends for CollegiateCross\n",
      "Returning --- 974 friends for CollegiateEffie\n",
      "Returning --- 306 friends for CollinJohnson\n",
      "Returning --- 1974 friends for CollinKee\n",
      "Returning --- 471 friends for CollinLogan8\n",
      "Returning --- 385 friends for CollinsMike\n",
      "Returning --- 496 friends for Collinstr\n",
      "Returning --- 4961 friends for Colonel_Ted\n",
      "Returning --- 404 friends for ColonialLifeCHI\n",
      "Returning --- 294 friends for Color4LLC\n",
      "Returning --- 499 friends for ColoradoCollege"
     ]
    },
    {
     "name": "stderr",
     "output_type": "stream",
     "text": [
      "Got error: {\"errors\":[{\"message\":\"Rate limit exceeded\",\"code\":88}]} \n",
      "sleeping for 15 minutes.\n"
     ]
    },
    {
     "name": "stdout",
     "output_type": "stream",
     "text": [
      "\n",
      "Returning --- 1066 friends for ColugoApp\n",
      "Returning --- 701 friends for ColumBiz\n",
      "Returning --- 486 friends for ColumbiaCCE\n",
      "Returning --- 1923 friends for Columbia_Native\n",
      "Returning --- 26 friends for ColumbusScholar\n",
      "Returning --- 738 friends for ComMurr17\n",
      "Returning --- 152 friends for ComeHomeNS\n",
      "Collected 5000 friends for ComeRecommended\n",
      "Collected 15000 friends for ComeRecommended\n",
      "Returning --- 25117 friends for ComeRecommended\n",
      "Returning --- 116 friends for ComeWorkForOSI\n",
      "Returning --- 21 friends for ComeauxGuidance\n",
      "Returning --- 788 friends for ComeauxSol\n",
      "Returning --- 1143 friends for ComedyEvening\n",
      "Returning --- 204 friends for ComedyQueue"
     ]
    },
    {
     "name": "stderr",
     "output_type": "stream",
     "text": [
      "Got error: {\"errors\":[{\"message\":\"Rate limit exceeded\",\"code\":88}]} \n",
      "sleeping for 15 minutes.\n"
     ]
    },
    {
     "name": "stdout",
     "output_type": "stream",
     "text": [
      "\n",
      "Returning --- 1987 friends for ComerCenter\n",
      "Returning --- 346 friends for CommEdD214\n",
      "Returning --- 143 friends for CommSpaceFinder\n",
      "Returning --- 60 friends for Comm_Life_\n",
      "Returning --- 239 friends for CommandTrans\n",
      "Returning --- 1614 friends for CommencementTs\n",
      "Returning --- 925 friends for CommittedMusica\n",
      "Returning --- 2495 friends for Commodity_Info\n",
      "Returning --- 1469 friends for CommonApp\n",
      "Returning --- 849 friends for CommonPurpose\n",
      "Returning --- 2641 friends for Commpharmacy\n",
      "Returning --- 103 friends for ComodoNews\n",
      "Returning --- 124 friends for CompassEduc\n",
      "Returning --- 173 friends for CompassToCampus\n",
      "Returning --- 1707 friends for CompasstoCare"
     ]
    },
    {
     "name": "stderr",
     "output_type": "stream",
     "text": [
      "Got error: {\"errors\":[{\"message\":\"Rate limit exceeded\",\"code\":88}]} \n",
      "sleeping for 15 minutes.\n"
     ]
    },
    {
     "name": "stdout",
     "output_type": "stream",
     "text": [
      "\n",
      "Returning --- 1175 friends for CompeteNow\n",
      "Returning --- 36 friends for ComplianceProf\n",
      "Returning --- 346 friends for CompunetixHR\n",
      "Returning --- 844 friends for ComradGeorge\n",
      "Returning --- 704 friends for ConServeARM\n",
      "Returning --- 629 friends for ConceiveAble\n",
      "Returning --- 2036 friends for ConceptsAJ\n",
      "Returning --- 1916 friends for Concertoh\n",
      "Returning --- 795 friends for Concisepoet\n",
      "Returning --- 119 friends for ConestogaCareer\n",
      "Returning --- 1631 friends for ConnecTX_IASTM\n",
      "Returning --- 19 friends for ConnecTXtherapy\n",
      "Returning --- 1449 friends for Connect123\n",
      "Returning --- 498 friends for ConnectCCLC"
     ]
    },
    {
     "name": "stderr",
     "output_type": "stream",
     "text": [
      "Got error: {\"errors\":[{\"message\":\"Rate limit exceeded\",\"code\":88}]} \n",
      "sleeping for 15 minutes.\n"
     ]
    },
    {
     "name": "stdout",
     "output_type": "stream",
     "text": [
      "\n",
      "Returning --- 1350 friends for ConnectHive\n",
      "Returning --- 1198 friends for ConnectedHLTH\n",
      "Returning --- 749 friends for ConnectonCampus\n",
      "Returning --- 1999 friends for Connectsjob\n",
      "Returning --- 122 friends for ConnexioMedia\n",
      "Returning --- 1342 friends for Connextbooks\n",
      "Returning --- 1179 friends for ConniesPizza\n",
      "Returning --- 1659 friends for ConnorRegan\n",
      "Returning --- 65 friends for ConnorSamuelson\n",
      "Returning --- 627 friends for Connorjhudak\n",
      "Returning --- 86 friends for ConorGranick\n",
      "Returning --- 10 friends for ConorMcDonald4\n",
      "Returning --- 182 friends for ConorTeegarden\n",
      "Returning --- 709 friends for ConradJonesUSA\n",
      "Returning --- 17 friends for ConradKnight1"
     ]
    },
    {
     "name": "stderr",
     "output_type": "stream",
     "text": [
      "Got error: {\"errors\":[{\"message\":\"Rate limit exceeded\",\"code\":88}]} \n",
      "sleeping for 15 minutes.\n"
     ]
    },
    {
     "name": "stdout",
     "output_type": "stream",
     "text": [
      "\n",
      "Returning --- 156 friends for ConservJobBoard\n",
      "Returning --- 408 friends for ConsidineMeghan\n",
      "Returning --- 718 friends for ConsiliumGroupI\n",
      "Returning --- 1441 friends for ConstituteUS\n",
      "Returning --- 122 friends for Consuelo323\n",
      "Returning --- 676 friends for ConsumerU\n",
      "Returning --- 366 friends for ContStrategy\n",
      "Returning --- 696 friends for ContactHotelero\n",
      "Returning --- 3448 friends for ContempOBGYN\n",
      "Returning --- 494 friends for ContractEssay\n",
      "Returning --- 16 friends for ContrerasHan\n",
      "Returning --- 58 friends for ControlRoom_TV\n",
      "Returning --- 1229 friends for ConvergeOrg\n",
      "Returning --- 1769 friends for Convo_Flowers\n",
      "Returning --- 84 friends for CookDighton"
     ]
    },
    {
     "name": "stderr",
     "output_type": "stream",
     "text": [
      "Got error: {\"errors\":[{\"message\":\"Rate limit exceeded\",\"code\":88}]} \n",
      "sleeping for 15 minutes.\n"
     ]
    },
    {
     "name": "stdout",
     "output_type": "stream",
     "text": [
      "\n",
      "Returning --- 360 friends for Cookieissweet\n",
      "Returning --- 486 friends for CoolBrandonD\n",
      "Returning --- 506 friends for CoolCalmResults\n",
      "Returning --- 385 friends for CoolCampusLivin\n",
      "Returning --- 1981 friends for CoolEducationUK\n",
      "Returning --- 942 friends for CoolJobSpot\n",
      "Returning --- 1952 friends for CoopSeneca\n",
      "Returning --- 441 friends for CooperARG\n",
      "Returning --- 57 friends for CooperConcepts\n",
      "Returning --- 216 friends for Coops98\n",
      "Returning --- 273 friends for Coopspot\n",
      "Returning --- 8 friends for Copsstolemycar\n",
      "Returning --- 51 friends for Corbin_Jimmy\n",
      "Returning --- 32 friends for CoreLibraryNU"
     ]
    },
    {
     "name": "stderr",
     "output_type": "stream",
     "text": [
      "Got error: {\"errors\":[{\"message\":\"Rate limit exceeded\",\"code\":88}]} \n",
      "sleeping for 15 minutes.\n"
     ]
    },
    {
     "name": "stdout",
     "output_type": "stream",
     "text": [
      "\n",
      "Returning --- 37 friends for Core_Facilities\n",
      "Returning --- 78 friends for Corey1451\n",
      "Returning --- 855 friends for CoreyThurman\n",
      "Returning --- 1824 friends for CorinneChin\n",
      "Returning --- 42 friends for CorinneStoit\n",
      "Collected 5000 friends for CornOnTheJob\n",
      "Collected 15000 friends for CornOnTheJob\n",
      "Collected 30000 friends for CornOnTheJob\n",
      "Found more than 50,000 friends. Returning error code = -3\n",
      "Returning --- 336 friends for CornerEvanston\n",
      "Returning --- 48 friends for CoronaTool\n",
      "Returning --- 601 friends for CorpRecruiterSJ\n",
      "Returning --- 101 friends for CorpThTools\n",
      "Returning --- 120 friends for Correa0107\n",
      "Returning --- 2284 friends for CorrieAHarding"
     ]
    },
    {
     "name": "stderr",
     "output_type": "stream",
     "text": [
      "Got error: {\"errors\":[{\"message\":\"Rate limit exceeded\",\"code\":88}]} \n",
      "sleeping for 15 minutes.\n"
     ]
    },
    {
     "name": "stdout",
     "output_type": "stream",
     "text": [
      "\n",
      "Returning --- 265 friends for Corrin16\n",
      "Returning --- 615 friends for CortesAlysa\n",
      "Returning --- 9 friends for CorteseForward\n",
      "Returning --- 308 friends for Cortigirl1\n",
      "Returning --- 368 friends for CortlandsGarage\n",
      "Returning --- 42 friends for CoryOlcott\n",
      "Returning --- 273 friends for CorySandrock\n",
      "Returning --- 1072 friends for CorySorice\n",
      "Returning --- 86 friends for CoryValente\n",
      "Returning --- 254 friends for CosThatCare\n",
      "Returning --- 342 friends for CosmeCosminho\n",
      "Returning --- 397 friends for CotterInc"
     ]
    },
    {
     "name": "stderr",
     "output_type": "stream",
     "text": [
      "Got error: {\"errors\":[{\"message\":\"Rate limit exceeded\",\"code\":88}]} \n",
      "sleeping for 15 minutes.\n"
     ]
    },
    {
     "name": "stdout",
     "output_type": "stream",
     "text": [
      "\n",
      "Returning --- 479 friends for CoucouEvanston\n",
      "Returning --- 23 friends for CounselingEd\n",
      "Returning --- 137 friends for CounselingRCHS\n",
      "Returning --- 69 friends for Counseling_FHS\n",
      "Returning --- 219 friends for CounselingatNU\n",
      "Returning --- 151 friends for CounselorsJBHS\n",
      "Returning --- 2045 friends for Country1057\n",
      "Returning --- 934 friends for CoupeSeason\n",
      "Returning --- 543 friends for CouponCat\n",
      "Returning --- 527 friends for CourseGroups\n",
      "Returning --- 1223 friends for CourseHero\n",
      "Returning --- 581 friends for CourseLeaf\n",
      "Returning --- 173 friends for Courtney2101"
     ]
    },
    {
     "name": "stderr",
     "output_type": "stream",
     "text": [
      "Got error: {\"errors\":[{\"message\":\"Rate limit exceeded\",\"code\":88}]} \n",
      "sleeping for 15 minutes.\n"
     ]
    },
    {
     "name": "stdout",
     "output_type": "stream",
     "text": [
      "\n",
      "Returning --- 646 friends for CourtneyBoothe\n",
      "Returning --- 264 friends for CourtneyDumas\n",
      "Returning --- 225 friends for CourtneyHardin\n",
      "Returning --- 109 friends for CourtneyHendr10\n",
      "Returning --- 111 friends for CourtneyWeiland\n",
      "Returning --- 1996 friends for Coventry_Park\n",
      "Returning --- 550 friends for CoverjobUs\n",
      "Returning --- 159 friends for Cows_Lions\n",
      "Returning --- 578 friends for CoykendallChiro\n",
      "Returning --- 156 friends for Cozercem\n",
      "Returning --- 494 friends for CrackaPleaseTs\n",
      "Returning --- 657 friends for CradleAdoption\n",
      "Returning --- 212 friends for CradleCEO"
     ]
    },
    {
     "name": "stderr",
     "output_type": "stream",
     "text": [
      "Got error: {\"errors\":[{\"message\":\"Rate limit exceeded\",\"code\":88}]} \n",
      "sleeping for 15 minutes.\n"
     ]
    },
    {
     "name": "stdout",
     "output_type": "stream",
     "text": [
      "\n",
      "Returning --- 56 friends for CraftBrewTees\n",
      "Returning --- 60 friends for CraftyBrosOG\n",
      "Returning --- 155 friends for CraftyMine9458\n",
      "Returning --- 202 friends for CraigESpencer\n",
      "Returning --- 737 friends for CraigPushard\n",
      "Collected 5000 friends for CrainsChicago\n",
      "Collected 15000 friends for CrainsChicago\n",
      "Collected 30000 friends for CrainsChicago\n",
      "Found more than 50,000 friends. Returning error code = -3\n",
      "Returning --- 164 friends for CramCrew\n",
      "Returning --- 1984 friends for Crawm75\n",
      "Returning --- 72 friends for Crease_Chin\n",
      "Returning --- 843 friends for CreateChaun\n",
      "Returning --- 608 friends for Create_Town"
     ]
    },
    {
     "name": "stderr",
     "output_type": "stream",
     "text": [
      "Got error: {\"errors\":[{\"message\":\"Rate limit exceeded\",\"code\":88}]} \n",
      "sleeping for 15 minutes.\n"
     ]
    },
    {
     "name": "stdout",
     "output_type": "stream",
     "text": [
      "\n",
      "Returning --- 779 friends for CreativeEdgeNYC\n",
      "Returning --- 1319 friends for CreativeFaiza_I\n",
      "Returning --- 45 friends for CreccaMichelle\n",
      "Returning --- 222 friends for Creeanna\n",
      "Returning --- 42 friends for CrewsBarger\n",
      "Returning --- 321 friends for Crewsin22\n",
      "Returning --- 80 friends for CribsNY\n",
      "Returning --- 47 friends for CrispyToast_D\n",
      "Returning --- 1047 friends for Crissabella\n",
      "Returning --- 1142 friends for CristerDelacruz\n",
      "Returning --- 165 friends for Cristeros\n",
      "Returning --- 385 friends for Cristiram0z\n",
      "Returning --- 804 friends for CristyGarratt\n",
      "Returning --- 1874 friends for Criticartt"
     ]
    },
    {
     "name": "stderr",
     "output_type": "stream",
     "text": [
      "Got error: {\"errors\":[{\"message\":\"Rate limit exceeded\",\"code\":88}]} \n",
      "sleeping for 15 minutes.\n"
     ]
    },
    {
     "name": "stdout",
     "output_type": "stream",
     "text": [
      "\n",
      "Returning --- 438 friends for CroftColleges\n",
      "Returning --- 148 friends for CroockShelly\n",
      "Returning --- 126 friends for CrookedCityCHI\n",
      "Returning --- 509 friends for CrookedMoon\n",
      "Returning --- 25 friends for CrossRoadKelli\n",
      "Returning --- 275 friends for Crossfit847\n",
      "Collected 5000 friends for CrowdTAssoc\n",
      "Collected 15000 friends for CrowdTAssoc\n",
      "Collected 30000 friends for CrowdTAssoc\n",
      "Found more than 50,000 friends. Returning error code = -3\n",
      "Collected 5000 friends for CrowdTAuthor\n",
      "Collected 15000 friends for CrowdTAuthor\n",
      "Collected 30000 friends for CrowdTAuthor\n",
      "Found more than 50,000 friends. Returning error code = -3\n",
      "Collected 5000 friends for CrowdTBowling"
     ]
    },
    {
     "name": "stderr",
     "output_type": "stream",
     "text": [
      "Got error: {\"errors\":[{\"message\":\"Rate limit exceeded\",\"code\":88}]} \n",
      "sleeping for 15 minutes.\n"
     ]
    },
    {
     "name": "stdout",
     "output_type": "stream",
     "text": [
      "\n",
      "Collected 15000 friends for CrowdTBowling\n",
      "Collected 30000 friends for CrowdTBowling\n",
      "Found more than 50,000 friends. Returning error code = -3\n",
      "Collected 5000 friends for CrowdTMeeting\n",
      "Collected 15000 friends for CrowdTMeeting\n",
      "Collected 30000 friends for CrowdTMeeting\n",
      "Found more than 50,000 friends. Returning error code = -3\n",
      "Collected 5000 friends for CrowdTPTA\n",
      "Collected 15000 friends for CrowdTPTA\n",
      "Collected 30000 friends for CrowdTPTA\n",
      "Found more than 50,000 friends. Returning error code = -3\n",
      "Collected 5000 friends for CrowdTRetail\n",
      "Collected 15000 friends for CrowdTRetail\n",
      "Collected 30000 friends for CrowdTRetail\n",
      "Found more than 50,000 friends. Returning error code = -3"
     ]
    },
    {
     "name": "stderr",
     "output_type": "stream",
     "text": [
      "Got error: {\"errors\":[{\"message\":\"Rate limit exceeded\",\"code\":88}]} \n",
      "sleeping for 15 minutes.\n"
     ]
    },
    {
     "name": "stdout",
     "output_type": "stream",
     "text": [
      "\n",
      "Collected 5000 friends for CrowdTTeams\n",
      "Collected 15000 friends for CrowdTTeams\n",
      "Collected 30000 friends for CrowdTTeams\n",
      "Found more than 50,000 friends. Returning error code = -3\n",
      "Collected 5000 friends for CrowdTee\n",
      "Collected 15000 friends for CrowdTee\n",
      "Collected 30000 friends for CrowdTee\n",
      "Found more than 50,000 friends. Returning error code = -3\n",
      "Collected 5000 friends for CruiseLineFocus\n",
      "Collected 15000 friends for CruiseLineFocus\n",
      "Collected 30000 friends for CruiseLineFocus\n",
      "Found more than 50,000 friends. Returning error code = -3\n",
      "Returning --- 319 friends for Crwdcam\n",
      "Returning --- 309 friends for CrystalBernards\n",
      "Returning --- 278 friends for CrystalHess"
     ]
    },
    {
     "name": "stderr",
     "output_type": "stream",
     "text": [
      "Got error: {\"errors\":[{\"message\":\"Rate limit exceeded\",\"code\":88}]} \n",
      "sleeping for 15 minutes.\n"
     ]
    },
    {
     "name": "stdout",
     "output_type": "stream",
     "text": [
      "\n",
      "Returning --- 31 friends for CrystalKWAN913\n",
      "Returning --- 566 friends for CrystalSJK\n",
      "Returning --- 172 friends for Crystal_Laker\n",
      "Returning --- 75 friends for CsgiTara\n",
      "Returning --- 679 friends for CtYdWoodDale\n",
      "Returning --- 717 friends for CubaTownshipGOP\n",
      "Returning --- 60 friends for CubehubInc\n",
      "Returning --- 1111 friends for Cubs2016champs\n",
      "Returning --- 282 friends for CubsCamps\n",
      "Returning --- 15 friends for CucisNU\n",
      "Returning --- 630 friends for CuckooCocoaPuff\n",
      "Returning --- 655 friends for CultivateShop\n",
      "Returning --- 333 friends for CultureRev\n",
      "Returning --- 982 friends for CumulusMedia"
     ]
    },
    {
     "name": "stderr",
     "output_type": "stream",
     "text": [
      "Got error: {\"errors\":[{\"message\":\"Rate limit exceeded\",\"code\":88}]} \n",
      "sleeping for 15 minutes.\n"
     ]
    },
    {
     "name": "stdout",
     "output_type": "stream",
     "text": [
      "\n",
      "Returning --- 41 friends for CuntinhandMike\n",
      "Returning --- 463 friends for CupDerPrivaten\n",
      "Returning --- 221 friends for CupidsCup\n",
      "Returning --- 239 friends for CuppyJo\n",
      "Returning --- 530 friends for CuresWReach\n",
      "Returning --- 408 friends for CuriouserBear\n",
      "Returning --- 1951 friends for CurlsandCompany\n",
      "Returning --- 1040 friends for CurmudgeonGroup\n",
      "Returning --- 531 friends for CurrentChicagoW\n",
      "Returning --- 80 friends for Currer00\n",
      "Returning --- 4630 friends for Currie_Liabo\n",
      "Returning --- 687 friends for Cursive_\n",
      "Returning --- 782 friends for CurtCollegewise"
     ]
    },
    {
     "name": "stderr",
     "output_type": "stream",
     "text": [
      "Got error: {\"errors\":[{\"message\":\"Rate limit exceeded\",\"code\":88}]} \n",
      "sleeping for 15 minutes.\n"
     ]
    },
    {
     "name": "stdout",
     "output_type": "stream",
     "text": [
      "\n",
      "Returning --- 54 friends for CurtSharpe1980\n",
      "Returning --- 96 friends for CurtSharpe4\n",
      "Returning --- 1534 friends for CurtisJakson\n",
      "Returning --- 43 friends for CurtisWeiss\n",
      "Returning --- 399 friends for Curts_Cafe\n",
      "Returning --- 130 friends for CurzonCompany\n",
      "Returning --- 1417 friends for Custer_Fair\n",
      "Returning --- 105 friends for CustomEyes\n",
      "Returning --- 467 friends for Customizo_U\n",
      "Returning --- 317 friends for CuteCareerCoach\n",
      "Returning --- 4 friends for CutiePants77\n",
      "Returning --- 119 friends for CutinelloRich\n",
      "Returning --- 2000 friends for CuttingEdgeEC\n",
      "Returning --- 120 friends for CvDoorman\n",
      "Returning --- 5 friends for CworldGworld"
     ]
    },
    {
     "name": "stderr",
     "output_type": "stream",
     "text": [
      "Got error: {\"errors\":[{\"message\":\"Rate limit exceeded\",\"code\":88}]} \n",
      "sleeping for 15 minutes.\n"
     ]
    },
    {
     "name": "stdout",
     "output_type": "stream",
     "text": [
      "\n",
      "Returning --- 719 friends for CyCreekCCS\n",
      "Returning --- 117 friends for Cyan220\n",
      "Returning --- 11 friends for Cyber_Stocker\n",
      "Returning --- 225 friends for CybertechJobs\n",
      "Returning --- 393 friends for CyndiDeBock\n",
      "Returning --- 141 friends for CynthGreedyc6\n",
      "Returning --- 1081 friends for CynthiLeaks\n",
      "Returning --- 685 friends for CynthiaLHunt\n",
      "Returning --- 41 friends for CynthiaNadig\n",
      "Returning --- 230 friends for CynthiaUCharles\n",
      "Returning --- 478 friends for D4HStarPHI\n",
      "Returning --- 39 friends for DABraboy1\n",
      "Returning --- 215 friends for DACinNYC\n",
      "Returning --- 1325 friends for DAGADETUSHAR\n",
      "Returning --- 60 friends for DAK_2012"
     ]
    },
    {
     "name": "stderr",
     "output_type": "stream",
     "text": [
      "Got error: {\"errors\":[{\"message\":\"Rate limit exceeded\",\"code\":88}]} \n",
      "sleeping for 15 minutes.\n"
     ]
    },
    {
     "name": "stdout",
     "output_type": "stream",
     "text": [
      "\n",
      "Returning --- 40 friends for DALITDALIA\n",
      "Returning --- 868 friends for DANIEL14TH48CT\n",
      "Returning --- 1544 friends for DAPAdele\n",
      "Returning --- 233 friends for DAddarioVEEP\n",
      "Returning --- 40 friends for DAfifaplayaa\n",
      "Returning --- 867 friends for DAnayanNW\n",
      "Returning --- 212 friends for DB_CFB\n",
      "Returning --- 1317 friends for DBillyP\n",
      "Returning --- 266 friends for DCEdelson\n",
      "Returning --- 1016 friends for DCJARTSTUDIO\n",
      "Collected 5000 friends for DC_EXPERTS\n",
      "Collected 15000 friends for DC_EXPERTS\n",
      "Collected 30000 friends for DC_EXPERTS"
     ]
    },
    {
     "name": "stderr",
     "output_type": "stream",
     "text": [
      "Got error: {\"errors\":[{\"message\":\"Rate limit exceeded\",\"code\":88}]} \n",
      "sleeping for 15 minutes.\n"
     ]
    },
    {
     "name": "stdout",
     "output_type": "stream",
     "text": [
      "\n",
      "Found more than 50,000 friends. Returning error code = -3\n",
      "Returning --- 129 friends for DCoDerm\n",
      "Returning --- 109 friends for DCrushGroove\n",
      "Returning --- 165 friends for DDCMedical\n",
      "Returning --- 8 friends for DDixon50\n",
      "Returning --- 1019 friends for DDsolutions1\n",
      "Returning --- 308 friends for DDukecat\n",
      "Returning --- 484 friends for DECNETWORK\n",
      "Returning --- 3 friends for DECSgod"
     ]
    },
    {
     "name": "stderr",
     "output_type": "stream",
     "text": [
      "Got error: {\"errors\":[{\"message\":\"Rate limit exceeded\",\"code\":88}]} \n",
      "sleeping for 15 minutes.\n"
     ]
    },
    {
     "name": "stdout",
     "output_type": "stream",
     "text": [
      "\n",
      "Returning --- 61 friends for DEINational\n",
      "Returning --- 372 friends for DESAssociates\n",
      "Returning --- 142 friends for DEWestmoreland\n",
      "Returning --- 188 friends for DEgan73\n",
      "Returning --- 50 friends for DElliottmedill\n",
      "Returning --- 218 friends for DFANorthwestern\n",
      "Returning --- 75 friends for DFAntoms\n",
      "Returning --- 345 friends for DFMWellness\n",
      "Returning --- 159 friends for DGCH1\n",
      "Returning --- 394 friends for DHarrison615\n",
      "Returning --- 13 friends for DHarrison87\n",
      "Returning --- 1714 friends for DHeavenbound\n",
      "Returning --- 997 friends for DICET2014\n",
      "Returning --- 28 friends for DISEC_NUMUNXI"
     ]
    },
    {
     "name": "stderr",
     "output_type": "stream",
     "text": [
      "Got error: {\"errors\":[{\"message\":\"Rate limit exceeded\",\"code\":88}]} \n",
      "sleeping for 15 minutes.\n"
     ]
    },
    {
     "name": "stdout",
     "output_type": "stream",
     "text": [
      "\n",
      "Returning --- 265 friends for DJBKmusic\n",
      "Returning --- 113 friends for DJBartosz\n",
      "Returning --- 347 friends for DJCalvelage\n",
      "Returning --- 24 friends for DJD880\n",
      "Returning --- 252 friends for DJFrevs\n",
      "Returning --- 182 friends for DJGibsonJr\n",
      "Returning --- 157 friends for DJJones519\n",
      "Returning --- 42 friends for DJKimWIU\n",
      "Returning --- 576 friends for DJKurber\n",
      "Returning --- 48 friends for DJMadMike16\n",
      "Returning --- 212 friends for DJShivaShiva\n",
      "Returning --- 31 friends for DJ_Doodah\n",
      "Returning --- 214 friends for DJ_MountainMan"
     ]
    },
    {
     "name": "stderr",
     "output_type": "stream",
     "text": [
      "Got error: {\"errors\":[{\"message\":\"Rate limit exceeded\",\"code\":88}]} \n",
      "sleeping for 15 minutes.\n"
     ]
    },
    {
     "name": "stdout",
     "output_type": "stream",
     "text": [
      "\n",
      "Returning --- 61 friends for DJ_Straeb\n",
      "Returning --- 164 friends for DJags\n",
      "Returning --- 1366 friends for DJasper_\n",
      "Returning --- 1362 friends for DJive_Derek\n",
      "Returning --- 1426 friends for DKP229\n",
      "Returning --- 143 friends for DKRosenberg\n",
      "Returning --- 287 friends for DKRoth597\n",
      "Collected 5000 friends for DKamys\n",
      "Returning --- 10295 friends for DKamys\n",
      "Returning --- 988 friends for DKavchak\n",
      "Returning --- 165 friends for DKraslow\n",
      "Collected 5000 friends for DL101\n",
      "Collected 15000 friends for DL101\n",
      "Collected 30000 friends for DL101"
     ]
    },
    {
     "name": "stderr",
     "output_type": "stream",
     "text": [
      "Got error: {\"errors\":[{\"message\":\"Rate limit exceeded\",\"code\":88}]} \n",
      "sleeping for 15 minutes.\n"
     ]
    },
    {
     "name": "stdout",
     "output_type": "stream",
     "text": [
      "\n",
      "Returning --- 47040 friends for DL101\n",
      "Returning --- 174 friends for DLBianucci\n",
      "Returning --- 2011 friends for DLGreenfield\n",
      "Returning --- 671 friends for DLand4Biz\n",
      "Returning --- 30 friends for DLeibo60\n",
      "Returning --- 170 friends for DLeuchter\n",
      "Returning --- 341 friends for DLo_Newsday\n",
      "Returning --- 46 friends for DMEdConsulting\n",
      "Returning --- 88 friends for DMHomeEntertain\n",
      "Returning --- 3382 friends for DMKBurgerBar\n",
      "Returning --- 1173 friends for DMKBurgerFish\n",
      "Returning --- 136 friends for DMMerc1"
     ]
    },
    {
     "name": "stderr",
     "output_type": "stream",
     "text": [
      "Got error: {\"errors\":[{\"message\":\"Rate limit exceeded\",\"code\":88}]} \n",
      "sleeping for 15 minutes.\n"
     ]
    },
    {
     "name": "stdout",
     "output_type": "stream",
     "text": [
      "\n",
      "Returning --- 279 friends for DMeachum03\n",
      "Returning --- 2710 friends for DMurrow\n",
      "Returning --- 287 friends for DNaps03\n",
      "Returning --- 655 friends for DOCNYCfest\n",
      "Returning --- 41 friends for DOGESWAG5\n",
      "Returning --- 2757 friends for DOICareers\n",
      "Returning --- 2002 friends for DONNAinOHIO\n",
      "Returning --- 324 friends for DPU_Hum_Ctr\n",
      "Returning --- 67 friends for DPU_SHPE\n",
      "Returning --- 251 friends for DPeckVAC\n",
      "Collected 5000 friends for DPete4\n",
      "Collected 15000 friends for DPete4\n",
      "Collected 30000 friends for DPete4"
     ]
    },
    {
     "name": "stderr",
     "output_type": "stream",
     "text": [
      "Got error: {\"errors\":[{\"message\":\"Rate limit exceeded\",\"code\":88}]} \n",
      "sleeping for 15 minutes.\n"
     ]
    },
    {
     "name": "stdout",
     "output_type": "stream",
     "text": [
      "\n",
      "Found more than 50,000 friends. Returning error code = -3\n",
      "Returning --- 1435 friends for DPonchielli\n",
      "Returning --- 312 friends for DPostupaka\n",
      "Returning --- 617 friends for DRBDouglas\n",
      "Returning --- 622 friends for DRCreative_ED\n",
      "Returning --- 43 friends for DRRC_Kellogg\n",
      "Returning --- 942 friends for DRStudents\n",
      "Returning --- 31 friends for DRaeHaag\n",
      "Returning --- 643 friends for DReal_StunnaMan\n",
      "Returning --- 374 friends for DRehe82\n",
      "Returning --- 40 friends for DRossChicago\n",
      "Returning --- 118 friends for DSHerder\n",
      "Returning --- 107 friends for DSIMS_MUMBAI"
     ]
    },
    {
     "name": "stderr",
     "output_type": "stream",
     "text": [
      "Got error: {\"errors\":[{\"message\":\"Rate limit exceeded\",\"code\":88}]} \n",
      "sleeping for 15 minutes.\n"
     ]
    },
    {
     "name": "stdout",
     "output_type": "stream",
     "text": [
      "\n",
      "Returning --- 353 friends for DSczudlo333\n",
      "Returning --- 502 friends for DSosnovsky\n",
      "Returning --- 233 friends for DSpringd\n",
      "Returning --- 1838 friends for DTCchicago\n",
      "Returning --- 759 friends for DTGoteraKHOU\n",
      "Returning --- 1287 friends for DTLrooftop\n",
      "Returning --- 174 friends for DTOMe84\n",
      "Returning --- 1992 friends for DTSLLC\n",
      "Returning --- 548 friends for DTerMolen\n",
      "Returning --- 40 friends for DThomasMooers\n",
      "Returning --- 199 friends for DTiltz\n",
      "Returning --- 12 friends for DUBrian86\n",
      "Returning --- 1988 friends for DUBurnsSchool\n",
      "Returning --- 953 friends for DWeir4\n",
      "Returning --- 32 friends for DWitz22"
     ]
    },
    {
     "name": "stderr",
     "output_type": "stream",
     "text": [
      "Got error: {\"errors\":[{\"message\":\"Rate limit exceeded\",\"code\":88}]} \n",
      "sleeping for 15 minutes.\n"
     ]
    },
    {
     "name": "stdout",
     "output_type": "stream",
     "text": [
      "\n",
      "Returning --- 21 friends for DWkeown\n",
      "Collected 5000 friends for DYNAMITEDORK\n",
      "Returning --- 10918 friends for DYNAMITEDORK\n",
      "Returning --- 754 friends for D_Bowey\n",
      "Returning --- 461 friends for D_Frederick_W\n",
      "Returning --- 234 friends for D_Letsch\n",
      "Returning --- 958 friends for D_NIVED\n",
      "Returning --- 593 friends for D_Nnadi\n",
      "Returning --- 7 friends for DaBombBass2654\n",
      "Returning --- 2007 friends for DaLuvableLeo"
     ]
    },
    {
     "name": "stderr",
     "output_type": "stream",
     "text": [
      "Got error: {\"errors\":[{\"message\":\"Rate limit exceeded\",\"code\":88}]} \n",
      "sleeping for 15 minutes.\n"
     ]
    },
    {
     "name": "stdout",
     "output_type": "stream",
     "text": [
      "\n",
      "Returning --- 249 friends for DaMEWS\n",
      "Returning --- 2145 friends for DaVitaCareers\n",
      "Returning --- 136 friends for DaVitaRedwoods\n",
      "Returning --- 25 friends for DaVita_Redwoods\n",
      "Returning --- 107 friends for Da_Trumpet_Guy\n",
      "Returning --- 1185 friends for DaceVL\n",
      "Returning --- 1864 friends for Dadbeh_S\n",
      "Returning --- 108 friends for DaddyNorbucks\n",
      "Returning --- 1997 friends for DaeSherri\n",
      "Returning --- 696 friends for Daffint"
     ]
    },
    {
     "name": "stderr",
     "output_type": "stream",
     "text": [
      "Got error: {\"errors\":[{\"message\":\"Rate limit exceeded\",\"code\":88}]} \n",
      "sleeping for 15 minutes.\n"
     ]
    },
    {
     "name": "stdout",
     "output_type": "stream",
     "text": [
      "\n",
      "Returning --- 93 friends for Dai0615\n",
      "Returning --- 32 friends for DaihengGao\n",
      "Returning --- 32 friends for DailyDevo09\n",
      "Returning --- 102 friends for DailyDreamJob\n",
      "Returning --- 715 friends for DailyNU_Sports\n",
      "Returning --- 2061 friends for DailyWorth\n",
      "Returning --- 118 friends for Dajana_Jakovina\n",
      "Collected 5000 friends for DaleCarnegie\n",
      "Collected 15000 friends for DaleCarnegie\n",
      "Returning --- 28268 friends for DaleCarnegie\n",
      "Returning --- 1991 friends for DalemSendang"
     ]
    },
    {
     "name": "stderr",
     "output_type": "stream",
     "text": [
      "Got error: {\"errors\":[{\"message\":\"Rate limit exceeded\",\"code\":88}]} \n",
      "sleeping for 15 minutes.\n"
     ]
    },
    {
     "name": "stdout",
     "output_type": "stream",
     "text": [
      "\n",
      "Returning --- 263 friends for DaliaJude\n",
      "Returning --- 196 friends for DalokQorin\n",
      "Returning --- 498 friends for DamienAnderson\n",
      "Returning --- 288 friends for DamienArellano\n",
      "Returning --- 159 friends for DamienVarela\n",
      "Returning --- 152 friends for Damien_Meshow\n",
      "Returning --- 17 friends for DamionMilliken\n",
      "Returning --- 146 friends for Damn_BB\n",
      "Returning --- 574 friends for DanCBS2\n",
      "Returning --- 30 friends for DanCohenNY\n",
      "Returning --- 1074 friends for DanDetroit2013"
     ]
    },
    {
     "name": "stderr",
     "output_type": "stream",
     "text": [
      "Got error: {\"errors\":[{\"message\":\"Rate limit exceeded\",\"code\":88}]} \n",
      "sleeping for 15 minutes.\n"
     ]
    },
    {
     "name": "stdout",
     "output_type": "stream",
     "text": [
      "\n",
      "Returning --- 17 friends for DanFarrell6\n",
      "Returning --- 77 friends for DanKoffler\n",
      "Returning --- 263 friends for DanKrcmaric\n",
      "Returning --- 1074 friends for DanKrueger\n",
      "Returning --- 534 friends for DanKupets\n",
      "Returning --- 697 friends for DanLeon1994\n",
      "Collected 5000 friends for DanOnBranding\n",
      "Returning --- 12032 friends for DanOnBranding\n",
      "Returning --- 11 friends for DanPinkawa\n",
      "Returning --- 81 friends for DanRuswick\n",
      "Collected 5000 friends for DanSchawbel\n",
      "Collected 15000 friends for DanSchawbel\n",
      "Collected 30000 friends for DanSchawbel\n",
      "Found more than 50,000 friends. Returning error code = -3\n",
      "Returning --- 1998 friends for DanShaltiel"
     ]
    },
    {
     "name": "stderr",
     "output_type": "stream",
     "text": [
      "Got error: {\"errors\":[{\"message\":\"Rate limit exceeded\",\"code\":88}]} \n",
      "sleeping for 15 minutes.\n"
     ]
    },
    {
     "name": "stdout",
     "output_type": "stream",
     "text": [
      "\n",
      "Returning --- 405 friends for DanStrumpf\n",
      "Returning --- 1975 friends for DanTNgoy1\n",
      "Returning --- 91 friends for Dan_Berkowitz\n",
      "Returning --- 84 friends for Dan_Dalessandro\n",
      "Returning --- 81 friends for Dan_M15\n",
      "Returning --- 224 friends for DanaGetz\n",
      "Returning --- 1164 friends for DanaNaomyMills\n",
      "Returning --- 906 friends for Dana_Molina\n",
      "Returning --- 89 friends for Danabeecher\n",
      "Returning --- 1174 friends for DanaiBella\n",
      "Returning --- 265 friends for Dancertine87\n",
      "Returning --- 1686 friends for Dances4Wins"
     ]
    },
    {
     "name": "stderr",
     "output_type": "stream",
     "text": [
      "Got error: {\"errors\":[{\"message\":\"Rate limit exceeded\",\"code\":88}]} \n",
      "sleeping for 15 minutes.\n"
     ]
    },
    {
     "name": "stdout",
     "output_type": "stream",
     "text": [
      "\n",
      "Returning --- 30 friends for DancingEvanston\n",
      "Returning --- 127 friends for DaneStier\n",
      "Returning --- 210 friends for DaniCarlsonTV8\n",
      "Returning --- 127 friends for DaniFonz\n",
      "Returning --- 141 friends for DaniGoros\n",
      "Returning --- 610 friends for DaniMast813\n",
      "Returning --- 194 friends for Dani_KoDa\n",
      "Returning --- 35 friends for Dani_Moscou\n",
      "Returning --- 431 friends for Danibabix7\n",
      "Returning --- 68 friends for Daniel1Schuster\n",
      "Returning --- 220 friends for DanielAdamsUS"
     ]
    },
    {
     "name": "stderr",
     "output_type": "stream",
     "text": [
      "Got error: {\"errors\":[{\"message\":\"Rate limit exceeded\",\"code\":88}]} \n",
      "sleeping for 15 minutes.\n"
     ]
    },
    {
     "name": "stdout",
     "output_type": "stream",
     "text": [
      "\n",
      "Returning --- 341 friends for DanielBarker966\n",
      "Returning --- 877 friends for DanielDMann\n",
      "Returning --- 467 friends for DanielDiermeier\n",
      "Returning --- 202 friends for DanielDphoto\n",
      "Returning --- 334 friends for DanielEshbaugh\n",
      "Returning --- 103 friends for DanielFishbaum\n",
      "Returning --- 86 friends for DanielHamburg1\n",
      "Returning --- 76 friends for DanielHirt\n",
      "Returning --- 886 friends for DanielIvanHead\n",
      "Returning --- 623 friends for DanielJensen0\n",
      "Returning --- 159 friends for DanielLearner\n",
      "Returning --- 17 friends for DanielLiss\n",
      "Returning --- 874 friends for DanielMReck\n",
      "Collected 5000 friends for DanielPeterson\n",
      "Returning --- 13969 friends for DanielPeterson"
     ]
    },
    {
     "name": "stderr",
     "output_type": "stream",
     "text": [
      "Got error: {\"errors\":[{\"message\":\"Rate limit exceeded\",\"code\":88}]} \n",
      "sleeping for 15 minutes.\n"
     ]
    },
    {
     "name": "stdout",
     "output_type": "stream",
     "text": [
      "\n",
      "Returning --- 1412 friends for DanielPink\n",
      "Returning --- 28 friends for DanielR62759220\n",
      "Returning --- 141 friends for DanielScogin\n",
      "Collected 5000 friends for DanielStoicaTax\n",
      "Collected 15000 friends for DanielStoicaTax\n",
      "Collected 30000 friends for DanielStoicaTax\n",
      "Found more than 50,000 friends. Returning error code = -3\n",
      "Returning --- 39 friends for DanielTKelleher\n",
      "Returning --- 432 friends for DanielTMooers3\n",
      "Returning --- 34 friends for DanielWinkler17\n",
      "Returning --- 66 friends for Daniel_CareerBU\n",
      "Returning --- 4 friends for DanielaLadner\n",
      "Returning --- 131 friends for Danielbeijingwo"
     ]
    },
    {
     "name": "stderr",
     "output_type": "stream",
     "text": [
      "Got error: {\"errors\":[{\"message\":\"Rate limit exceeded\",\"code\":88}]} \n",
      "sleeping for 15 minutes.\n"
     ]
    },
    {
     "name": "stdout",
     "output_type": "stream",
     "text": [
      "\n",
      "Returning --- 20 friends for DaniellaEspi97\n",
      "Returning --- 413 friends for DaniellaFeijoo\n",
      "Returning --- 1984 friends for DaniellaValles\n",
      "Returning --- 96 friends for DanielleBoettge\n",
      "Returning --- 427 friends for DanielleGuslerP\n",
      "Returning --- 49 friends for DanielleMCohen\n",
      "Returning --- 412 friends for DanielleOPierre\n",
      "Returning --- 240 friends for DanielleSusi\n",
      "Returning --- 28 friends for DanielleYLay\n",
      "Returning --- 61 friends for Danielle__Fong\n",
      "Returning --- 1419 friends for DaniellleHarth\n",
      "Returning --- 10 friends for Danielsago996\n",
      "Returning --- 34 friends for DanielthLan\n",
      "Returning --- 1900 friends for Danigirl19681"
     ]
    },
    {
     "name": "stderr",
     "output_type": "stream",
     "text": [
      "Got error: {\"errors\":[{\"message\":\"Rate limit exceeded\",\"code\":88}]} \n",
      "sleeping for 15 minutes.\n"
     ]
    },
    {
     "name": "stdout",
     "output_type": "stream",
     "text": [
      "\n",
      "Returning --- 222 friends for DanikaMarcano\n",
      "Returning --- 470 friends for DanikaOnboards\n",
      "Returning --- 58 friends for DanitaSpears1\n",
      "Returning --- 171 friends for DanneyDanneyh\n",
      "Returning --- 167 friends for DannieColombo\n",
      "Returning --- 106 friends for DannyByrneQS\n",
      "Returning --- 1150 friends for DannyDidOrg\n",
      "Returning --- 1340 friends for DannyJMoran\n",
      "Returning --- 70 friends for DannySChung\n",
      "Returning --- 517 friends for Danny_M_Cohen\n",
      "Returning --- 237 friends for Danny__Bravoo"
     ]
    },
    {
     "name": "stderr",
     "output_type": "stream",
     "text": [
      "Got error: {\"errors\":[{\"message\":\"Rate limit exceeded\",\"code\":88}]} \n",
      "sleeping for 15 minutes.\n"
     ]
    },
    {
     "name": "stdout",
     "output_type": "stream",
     "text": [
      "\n",
      "Returning --- 15 friends for DannysDeliJones\n",
      "Returning --- 65 friends for DansbyWhite\n",
      "Returning --- 73 friends for DanweiMa\n",
      "Returning --- 22 friends for DanyRants\n",
      "Returning --- 22 friends for DaphnaWeinstock\n",
      "Returning --- 222 friends for DaphneGuerlain\n",
      "Returning --- 497 friends for DapperNorth\n",
      "Returning --- 132 friends for DariusHunt1\n",
      "Returning --- 1938 friends for DarlMcDorman\n",
      "Returning --- 228 friends for Darlaxx2\n",
      "Returning --- 155 friends for Darlene77777"
     ]
    },
    {
     "name": "stderr",
     "output_type": "stream",
     "text": [
      "Got error: {\"errors\":[{\"message\":\"Rate limit exceeded\",\"code\":88}]} \n",
      "sleeping for 15 minutes.\n"
     ]
    },
    {
     "name": "stdout",
     "output_type": "stream",
     "text": [
      "\n",
      "Returning --- 1585 friends for DarlingEbony\n",
      "Returning --- 314 friends for DarmisHoskins\n",
      "Returning --- 99 friends for DarrenShulman\n",
      "Returning --- 1917 friends for Darshit2110\n",
      "Returning --- 345 friends for DaschkoCo\n",
      "Returning --- 1743 friends for Dasmaninstitiut\n",
      "Returning --- 230 friends for Dat357D\n",
      "Returning --- 67 friends for DataBridgeMark\n",
      "Returning --- 1277 friends for DataDonors\n",
      "Returning --- 307 friends for Dataplayor\n",
      "Returning --- 16 friends for Datarray\n",
      "Returning --- 1113 friends for DateMySchool\n",
      "Returning --- 9 friends for DatedConfused\n",
      "Returning --- 317 friends for Daudazam"
     ]
    },
    {
     "name": "stderr",
     "output_type": "stream",
     "text": [
      "Got error: {\"errors\":[{\"message\":\"Rate limit exceeded\",\"code\":88}]} \n",
      "sleeping for 15 minutes.\n"
     ]
    },
    {
     "name": "stdout",
     "output_type": "stream",
     "text": [
      "\n",
      "Returning --- 680 friends for Daugherty_239\n",
      "Returning --- 281 friends for Dav1dt0rres\n",
      "Returning --- 496 friends for DaveEanet\n",
      "Returning --- 433 friends for DaveGraddick\n",
      "Returning --- 540 friends for DaveGtweets\n",
      "Returning --- 344 friends for DaveHorwich\n",
      "Returning --- 417 friends for DaveKCollins\n",
      "Returning --- 12 friends for DaveKlante\n",
      "Returning --- 173 friends for DaveKorn15\n",
      "Returning --- 240 friends for DaveNiesman\n",
      "Returning --- 1482 friends for DaveSoleymani\n",
      "Returning --- 280 friends for DaveTermuhlen\n",
      "Returning --- 300 friends for DaveWeemz\n",
      "Returning --- 1752 friends for Dave_Boucher1"
     ]
    },
    {
     "name": "stderr",
     "output_type": "stream",
     "text": [
      "Got error: {\"errors\":[{\"message\":\"Rate limit exceeded\",\"code\":88}]} \n",
      "sleeping for 15 minutes.\n"
     ]
    },
    {
     "name": "stdout",
     "output_type": "stream",
     "text": [
      "\n",
      "Returning --- 255 friends for Dave_Conroy\n",
      "Returning --- 50 friends for Dave_Findling\n",
      "Returning --- 43 friends for Dave_Nebel\n",
      "Returning --- 625 friends for Dave_ster6\n",
      "Returning --- 1991 friends for Daveypoo24\n",
      "Returning --- 265 friends for Davhall55\n",
      "Returning --- 12 friends for David18to12\n",
      "Returning --- 17 friends for David4378\n",
      "Returning --- 223 friends for David70833753\n",
      "Returning --- 591 friends for DavidADellinger\n",
      "Returning --- 316 friends for DavidASeaman\n",
      "Returning --- 78 friends for DavidAValadez\n",
      "Returning --- 678 friends for DavidBNelson\n",
      "Returning --- 655 friends for DavidBauden"
     ]
    },
    {
     "name": "stderr",
     "output_type": "stream",
     "text": [
      "Got error: {\"errors\":[{\"message\":\"Rate limit exceeded\",\"code\":88}]} \n",
      "sleeping for 15 minutes.\n"
     ]
    },
    {
     "name": "stdout",
     "output_type": "stream",
     "text": [
      "\n",
      "Returning --- 520 friends for DavidBaylor\n",
      "Returning --- 4 friends for DavidBishop37\n",
      "Returning --- 270 friends for DavidBlansfield\n",
      "Returning --- 3361 friends for DavidChalian\n",
      "Returning --- 239 friends for DavidD_OKC\n",
      "Returning --- 837 friends for DavidDorovski\n",
      "Returning --- 228 friends for DavidErnst2\n",
      "Returning --- 82 friends for DavidEttinger\n",
      "Returning --- 11 friends for DavidFlysure\n",
      "Returning --- 1222 friends for DavidGaspin\n",
      "Returning --- 73 friends for DavidGraham34\n",
      "Returning --- 16 friends for DavidGutstein\n",
      "Returning --- 86 friends for DavidHolleyman\n",
      "Returning --- 194 friends for DavidJFlores\n",
      "Returning --- 661 friends for DavidJamesMark"
     ]
    },
    {
     "name": "stderr",
     "output_type": "stream",
     "text": [
      "Got error: {\"errors\":[{\"message\":\"Rate limit exceeded\",\"code\":88}]} \n",
      "sleeping for 15 minutes.\n"
     ]
    },
    {
     "name": "stdout",
     "output_type": "stream",
     "text": [
      "\n",
      "Returning --- 61 friends for DavidJiang69\n",
      "Returning --- 73 friends for DavidKimGH\n",
      "Returning --- 127 friends for DavidKucinskas\n",
      "Returning --- 246 friends for DavidLindAdams\n",
      "Returning --- 389 friends for DavidMSilverman\n",
      "Returning --- 1823 friends for DavidMahviMD\n",
      "Returning --- 46 friends for DavidOH1625\n",
      "Returning --- 240 friends for DavidPSheldon\n",
      "Returning --- 40 friends for DavidRohm09\n",
      "Returning --- 2002 friends for DavidRoweEsq\n",
      "Returning --- 28 friends for DavidSTournoux\n",
      "Returning --- 257 friends for DavidSanchezPMP\n",
      "Returning --- 1018 friends for DavidUberti\n",
      "Returning --- 974 friends for DavidWMTW\n",
      "Returning --- 9 friends for DavidWi58840034"
     ]
    },
    {
     "name": "stderr",
     "output_type": "stream",
     "text": [
      "Got error: {\"errors\":[{\"message\":\"Rate limit exceeded\",\"code\":88}]} \n",
      "sleeping for 15 minutes.\n"
     ]
    },
    {
     "name": "stdout",
     "output_type": "stream",
     "text": [
      "\n",
      "Returning --- 651 friends for DavidWolff2541\n",
      "Returning --- 292 friends for David_A_Shaffer\n",
      "Returning --- 283 friends for David_Gust\n",
      "Returning --- 473 friends for David_IFSA\n",
      "Returning --- 60 friends for Davidgoldbergdi\n",
      "Returning --- 79 friends for Davidham22David\n",
      "Returning --- 177 friends for Davidham63David\n",
      "Returning --- 1039 friends for Davidryanboehm\n",
      "Returning --- 41 friends for DavinPeelle\n",
      "Returning --- 193 friends for DavionFleming\n",
      "Returning --- 60 friends for Davis1972M\n",
      "Returning --- 180 friends for DavisStreetFish\n",
      "Returning --- 187 friends for DavonKS\n",
      "Returning --- 626 friends for DavonRobb"
     ]
    },
    {
     "name": "stderr",
     "output_type": "stream",
     "text": [
      "Got error: {\"errors\":[{\"message\":\"Rate limit exceeded\",\"code\":88}]} \n",
      "sleeping for 15 minutes.\n"
     ]
    },
    {
     "name": "stdout",
     "output_type": "stream",
     "text": [
      "\n",
      "Returning --- 348 friends for DavydDavyd29\n",
      "Returning --- 1888 friends for Dawg75Doss\n",
      "Returning --- 29 friends for DawnAnnJ\n",
      "Returning --- 117 friends for DawnCraan\n",
      "Returning --- 1446 friends for DawnHasbrouck\n",
      "Returning --- 342 friends for DawnLeeps\n",
      "Returning --- 95 friends for Dawnsir\n",
      "Returning --- 294 friends for Dawson_Matthew\n",
      "Returning --- 210 friends for DayBreakEv\n",
      "Returning --- 648 friends for DaydenPhoto\n",
      "Returning --- 1247 friends for Dayna_Dion\n",
      "Returning --- 97 friends for Daynecism\n",
      "Returning --- 1398 friends for Dayo4884"
     ]
    },
    {
     "name": "stderr",
     "output_type": "stream",
     "text": [
      "Got error: {\"errors\":[{\"message\":\"Rate limit exceeded\",\"code\":88}]} \n",
      "sleeping for 15 minutes.\n"
     ]
    },
    {
     "name": "stdout",
     "output_type": "stream",
     "text": [
      "\n",
      "Returning --- 795 friends for DayofReckonin\n",
      "Returning --- 885 friends for DaytonFloc\n",
      "Returning --- 47 friends for DaytonLM\n",
      "Returning --- 20 friends for DazzlingJade97\n",
      "Returning --- 58 friends for Dbarn329\n",
      "Returning --- 1333 friends for Dcorinthios\n",
      "Returning --- 25 friends for DeBaetsMichael\n",
      "Returning --- 76 friends for DeFont2012\n",
      "Returning --- 1993 friends for DeJesusMorrobel\n",
      "Returning --- 600 friends for DeLaSalleInc\n",
      "Returning --- 1043 friends for DePaulCristoRey\n",
      "Returning --- 395 friends for DePaulMBAAssoc\n",
      "Returning --- 732 friends for DePaulMBACareer"
     ]
    },
    {
     "name": "stderr",
     "output_type": "stream",
     "text": [
      "Got error: {\"errors\":[{\"message\":\"Rate limit exceeded\",\"code\":88}]} \n",
      "sleeping for 15 minutes.\n"
     ]
    },
    {
     "name": "stdout",
     "output_type": "stream",
     "text": [
      "\n",
      "Returning --- 2140 friends for DePaulNewsroom\n",
      "Returning --- 409 friends for DePaul_CIP\n",
      "Returning --- 2699 friends for DeShaunArtis\n",
      "Returning --- 2004 friends for DeTroyes1\n",
      "Returning --- 5 friends for DeVoSDesigns\n",
      "Returning --- 245 friends for DeVolldDevolld\n",
      "Returning --- 270 friends for DeWyzePeople\n",
      "Returning --- 1949 friends for De_Kosnik\n",
      "Returning --- 261 friends for DeadBill420\n",
      "Returning --- 918 friends for Dead_Xaine\n",
      "Returning --- 303 friends for DeadbeatSports\n",
      "Returning --- 689 friends for Deadman1973\n",
      "Returning --- 360 friends for DeanAbrassart\n",
      "Returning --- 1681 friends for DeanBarrSalem"
     ]
    },
    {
     "name": "stderr",
     "output_type": "stream",
     "text": [
      "Got error: {\"errors\":[{\"message\":\"Rate limit exceeded\",\"code\":88}]} \n",
      "sleeping for 15 minutes.\n"
     ]
    },
    {
     "name": "stdout",
     "output_type": "stream",
     "text": [
      "\n",
      "Returning --- 192 friends for DeanCastronovo\n",
      "Returning --- 1970 friends for DeanDBRodriguez\n",
      "Returning --- 97 friends for DeanGlassberg\n",
      "Returning --- 307 friends for DeanLowry94\n",
      "Returning --- 253 friends for DeanSBNM\n",
      "Returning --- 60 friends for DeanSego10\n",
      "Returning --- 1147 friends for DeanZ_Kellogg\n",
      "Returning --- 354 friends for DeannaJBecker\n",
      "Returning --- 601 friends for Deanna_IntlEd\n",
      "Returning --- 1733 friends for DearEnglishMjr\n",
      "Returning --- 624 friends for Death_Boogie\n",
      "Returning --- 11 friends for DebAly24\n",
      "Returning --- 1368 friends for DebSong\n",
      "Returning --- 1795 friends for DebasisTwwTs\n",
      "Returning --- 20 friends for Debatemama"
     ]
    },
    {
     "name": "stderr",
     "output_type": "stream",
     "text": [
      "Got error: {\"errors\":[{\"message\":\"Rate limit exceeded\",\"code\":88}]} \n",
      "sleeping for 15 minutes.\n"
     ]
    },
    {
     "name": "stdout",
     "output_type": "stream",
     "text": [
      "\n",
      "Returning --- 166 friends for Debbi_Robertson\n",
      "Returning --- 73 friends for DebbieKao\n",
      "Returning --- 29 friends for DebbieMissimo\n",
      "Returning --- 219 friends for DebbieRoever\n",
      "Returning --- 2 friends for DebbieWaterhous\n",
      "Returning --- 1008 friends for DebbieWoodsYoga\n",
      "Returning --- 76 friends for Debby1011\n",
      "Returning --- 1699 friends for Debby_Ng\n",
      "Returning --- 612 friends for DebonairTalent\n",
      "Returning --- 365 friends for DeboraRey\n",
      "Returning --- 112 friends for DeborahDeHaas\n",
      "Returning --- 1327 friends for DeborahFerrari\n",
      "Returning --- 463 friends for DeborahGRiegel\n",
      "Returning --- 170 friends for DeborahGreenbe4"
     ]
    },
    {
     "name": "stderr",
     "output_type": "stream",
     "text": [
      "Got error: {\"errors\":[{\"message\":\"Rate limit exceeded\",\"code\":88}]} \n",
      "sleeping for 15 minutes.\n"
     ]
    },
    {
     "name": "stdout",
     "output_type": "stream",
     "text": [
      "\n",
      "Returning --- 564 friends for DeborahMersino\n",
      "Returning --- 104 friends for DeborahMiner1\n",
      "Returning --- 16 friends for DeborahRosenbe6\n",
      "Returning --- 2017 friends for DebraDavies15\n",
      "Returning --- 120 friends for DebraFlanz\n",
      "Returning --- 169 friends for DebraRichter1\n",
      "Returning --- 1200 friends for DebraWilliamson\n",
      "Returning --- 1174 friends for Debra_Michaels\n",
      "Returning --- 285 friends for DeclanMeyers\n",
      "Returning --- 583 friends for Dedek_gaga\n",
      "Returning --- 25 friends for DeeDickey\n",
      "Returning --- 134 friends for DeebabyAdekunle\n",
      "Returning --- 311 friends for DeepInCloud"
     ]
    },
    {
     "name": "stderr",
     "output_type": "stream",
     "text": [
      "Got error: {\"errors\":[{\"message\":\"Rate limit exceeded\",\"code\":88}]} \n",
      "sleeping for 15 minutes.\n"
     ]
    },
    {
     "name": "stdout",
     "output_type": "stream",
     "text": [
      "\n",
      "Collected 5000 friends for DeepLearningApp\n",
      "Collected 15000 friends for DeepLearningApp\n",
      "Collected 30000 friends for DeepLearningApp\n",
      "Found more than 50,000 friends. Returning error code = -3\n",
      "Returning --- 5 friends for DeepTreeExhibit\n",
      "Returning --- 1928 friends for Deependra1\n",
      "Returning --- 9 friends for DeerajHaridas\n",
      "Returning --- 63 friends for Default231\n",
      "Returning --- 147 friends for DegiulioRod\n",
      "Returning --- 1250 friends for Degree_Connect\n",
      "Returning --- 451 friends for DelAidGhana\n",
      "Returning --- 119 friends for DelahneeB\n",
      "Returning --- 519 friends for DelaluzMariela\n",
      "Returning --- 207 friends for DelaneyEsquire\n",
      "Returning --- 1193 friends for DelaneyLaw"
     ]
    },
    {
     "name": "stderr",
     "output_type": "stream",
     "text": [
      "Got error: {\"errors\":[{\"message\":\"Rate limit exceeded\",\"code\":88}]} \n",
      "sleeping for 15 minutes.\n"
     ]
    },
    {
     "name": "stdout",
     "output_type": "stream",
     "text": [
      "\n",
      "Returning --- 359 friends for DelawareFutures\n",
      "Returning --- 1957 friends for Delenascenes\n",
      "Returning --- 989 friends for DelettMr\n",
      "Returning --- 578 friends for Delfuego11\n",
      "Returning --- 76 friends for DelicateDestroy\n",
      "Returning --- 173 friends for Della_0590\n",
      "Returning --- 1957 friends for DeltaCConstruct\n",
      "Collected 5000 friends for DeltaCinderella\n",
      "Returning --- 10962 friends for DeltaCinderella\n",
      "Returning --- 314 friends for DeltaLabNU\n",
      "Returning --- 112 friends for DeltaPCarver\n",
      "Returning --- 215 friends for DeltsNU\n",
      "Returning --- 14 friends for Demetrius_Ji"
     ]
    },
    {
     "name": "stderr",
     "output_type": "stream",
     "text": [
      "Got error: {\"errors\":[{\"message\":\"Rate limit exceeded\",\"code\":88}]} \n",
      "sleeping for 15 minutes.\n"
     ]
    },
    {
     "name": "stdout",
     "output_type": "stream",
     "text": [
      "\n",
      "Returning --- 18 friends for DeminZhao\n",
      "Returning --- 1999 friends for DemnaJanelidze\n",
      "Returning --- 38 friends for DemondShavers\n",
      "Returning --- 773 friends for Demond_7\n",
      "Returning --- 453 friends for DenaPro\n",
      "Returning --- 38 friends for DenaRSC\n",
      "Returning --- 901 friends for DenelK\n",
      "Returning --- 85 friends for DengJava\n",
      "Returning --- 119 friends for DeniShapiro\n",
      "Collected 5000 friends for DeniseBalcarcel\n",
      "Returning --- 11766 friends for DeniseBalcarcel\n",
      "Returning --- 42 friends for DeniseBellTM\n",
      "Returning --- 2404 friends for DeniseBucholtz\n",
      "Returning --- 713 friends for DeniseDSLu\n",
      "Returning --- 22 friends for DeniseDenson1"
     ]
    },
    {
     "name": "stderr",
     "output_type": "stream",
     "text": [
      "Got error: {\"errors\":[{\"message\":\"Rate limit exceeded\",\"code\":88}]} \n",
      "sleeping for 15 minutes.\n"
     ]
    },
    {
     "name": "stdout",
     "output_type": "stream",
     "text": [
      "\n",
      "Returning --- 80 friends for DeniseLewis12\n",
      "Returning --- 48 friends for Denise_Soltis\n",
      "Returning --- 1724 friends for DennisCulloton\n",
      "Returning --- 97 friends for DennisStPierre1\n",
      "Returning --- 15 friends for DennisZhangJ\n",
      "Returning --- 40 friends for DentalBrilliant\n",
      "Returning --- 275 friends for DentonEvan\n",
      "Returning --- 154 friends for DenunzioMark\n",
      "Returning --- 310 friends for Deonte_Merritt\n",
      "Returning --- 76 friends for DepEarthandPlan\n",
      "Returning --- 1983 friends for DepressedDepth\n",
      "Returning --- 1362 friends for DepressionCntr\n",
      "Returning --- 329 friends for DerekNU74\n",
      "Returning --- 108 friends for DerekPardes\n",
      "Returning --- 11 friends for DerekPerry16"
     ]
    },
    {
     "name": "stderr",
     "output_type": "stream",
     "text": [
      "Got error: {\"errors\":[{\"message\":\"Rate limit exceeded\",\"code\":88}]} \n",
      "sleeping for 15 minutes.\n"
     ]
    },
    {
     "name": "stdout",
     "output_type": "stream",
     "text": [
      "\n",
      "Returning --- 712 friends for DerogersP\n",
      "Returning --- 1897 friends for DerrickClifton\n",
      "Returning --- 48 friends for DerrickJLiu\n",
      "Returning --- 1385 friends for DesPlainesPatch\n",
      "Returning --- 115 friends for DesdeFloridaUSA\n",
      "Returning --- 152 friends for DesignHaus11\n",
      "Returning --- 75 friends for DesmondWangIBM\n",
      "Returning --- 40 friends for Dest_Heritage\n",
      "Returning --- 1138 friends for DestinationCbus\n",
      "Returning --- 655 friends for DestinySolution\n",
      "Returning --- 2119 friends for DeuceZ"
     ]
    },
    {
     "name": "stderr",
     "output_type": "stream",
     "text": [
      "Got error: {\"errors\":[{\"message\":\"Rate limit exceeded\",\"code\":88}]} \n",
      "sleeping for 15 minutes.\n"
     ]
    },
    {
     "name": "stdout",
     "output_type": "stream",
     "text": [
      "\n",
      "Returning --- 606 friends for DeuceyBig\n",
      "Returning --- 167 friends for Dev3966Dev\n",
      "Returning --- 52 friends for DevDiva_BG\n",
      "Returning --- 135 friends for DevikaGhosh2\n",
      "Returning --- 65 friends for Devils_Made_Me\n",
      "Returning --- 185 friends for DevinaSetyawan\n",
      "Returning --- 167 friends for DevonMReid\n",
      "Returning --- 56 friends for DevoooooM\n",
      "Returning --- 158 friends for DexaFit\n",
      "Returning --- 62 friends for DezertRoze2\n",
      "Returning --- 1080 friends for DfsMoneyMaker07\n",
      "Returning --- 1948 friends for DgDanil"
     ]
    },
    {
     "name": "stderr",
     "output_type": "stream",
     "text": [
      "Got error: {\"errors\":[{\"message\":\"Rate limit exceeded\",\"code\":88}]} \n",
      "sleeping for 15 minutes.\n"
     ]
    },
    {
     "name": "stdout",
     "output_type": "stream",
     "text": [
      "\n",
      "Returning --- 56 friends for Dgreenb1\n",
      "Returning --- 1244 friends for DhrJohnBeer\n",
      "Returning --- 2001 friends for DiMaria05\n",
      "Returning --- 240 friends for DiabeticWildcat\n",
      "Returning --- 61 friends for DiagnostixU\n",
      "Returning --- 1997 friends for DialACabTaxi\n",
      "Returning --- 1997 friends for Dian1972\n",
      "Returning --- 842 friends for DianaGo40654298\n",
      "Returning --- 545 friends for DianaKozikova\n",
      "Returning --- 10 friends for DianaLHenry\n",
      "Returning --- 111 friends for DianaLoveless1\n",
      "Returning --- 970 friends for DianaLynnHeiss"
     ]
    },
    {
     "name": "stderr",
     "output_type": "stream",
     "text": [
      "Got error: {\"errors\":[{\"message\":\"Rate limit exceeded\",\"code\":88}]} \n",
      "sleeping for 15 minutes.\n"
     ]
    },
    {
     "name": "stdout",
     "output_type": "stream",
     "text": [
      "\n",
      "Returning --- 19 friends for Dianakisscat\n",
      "Returning --- 200 friends for DianeBartels\n",
      "Returning --- 4 friends for DianeK4311\n",
      "Returning --- 657 friends for DianeK_ESP\n",
      "Returning --- 791 friends for DianeKeys11\n",
      "Returning --- 229 friends for DianeLibro\n",
      "Returning --- 542 friends for DianeRusignola\n",
      "Returning --- 1263 friends for DianeSMS\n",
      "Returning --- 50 friends for Dianemarie1966\n",
      "Returning --- 99 friends for DianneKS\n",
      "Returning --- 1999 friends for DiavoloRamos"
     ]
    },
    {
     "name": "stderr",
     "output_type": "stream",
     "text": [
      "Got error: {\"errors\":[{\"message\":\"Rate limit exceeded\",\"code\":88}]} \n",
      "sleeping for 15 minutes.\n"
     ]
    },
    {
     "name": "stdout",
     "output_type": "stream",
     "text": [
      "\n",
      "Returning --- 20 friends for DickReif\n",
      "Returning --- 770 friends for DickinsonAdmit\n",
      "Returning --- 23 friends for Dicky_of_Slow\n",
      "Returning --- 319 friends for DidiMartinez5\n",
      "Returning --- 1628 friends for DiegoAngeles9\n",
      "Returning --- 1193 friends for DiegoMargarito\n",
      "Returning --- 476 friends for Dieselbeast89\n",
      "Returning --- 3034 friends for DigLearningNow\n",
      "Returning --- 563 friends for DigitalGlobeFDN\n",
      "Returning --- 267 friends for DigitalPbelo\n",
      "Returning --- 172 friends for Dignosco\n",
      "Returning --- 178 friends for DilloDay\n",
      "Returning --- 12 friends for DilloDayLeaks\n",
      "Returning --- 17 friends for DillonCawley"
     ]
    },
    {
     "name": "stderr",
     "output_type": "stream",
     "text": [
      "Got error: {\"errors\":[{\"message\":\"Rate limit exceeded\",\"code\":88}]} \n",
      "sleeping for 15 minutes.\n"
     ]
    },
    {
     "name": "stdout",
     "output_type": "stream",
     "text": [
      "\n",
      "Returning --- 340 friends for DimaAnsari1\n",
      "Returning --- 2215 friends for DimaBlare\n",
      "Returning --- 533 friends for Dimrivarun\n",
      "Returning --- 518 friends for DinaBairWGN\n",
      "Returning --- 113 friends for DinaGalperson\n",
      "Returning --- 92 friends for DinaJachi\n",
      "Returning --- 146 friends for DinaMoore\n",
      "Returning --- 129 friends for DingAbbie\n",
      "Returning --- 156 friends for Dinhtmore\n",
      "Returning --- 1983 friends for DinkaMonet\n",
      "Returning --- 1085 friends for DinkyBP\n",
      "Returning --- 2507 friends for DinkyShop"
     ]
    },
    {
     "name": "stderr",
     "output_type": "stream",
     "text": [
      "Got error: {\"errors\":[{\"message\":\"Rate limit exceeded\",\"code\":88}]} \n",
      "sleeping for 15 minutes.\n"
     ]
    },
    {
     "name": "stdout",
     "output_type": "stream",
     "text": [
      "\n",
      "Returning --- 639 friends for DiogenesADiaz\n",
      "Returning --- 567 friends for DionnaHearn\n",
      "Returning --- 808 friends for DionneABC57\n",
      "Returning --- 1990 friends for DiplomadoCito\n",
      "Returning --- 342 friends for DiplomatCareers\n",
      "Returning --- 1905 friends for DirectDesigned\n",
      "Returning --- 274 friends for DirectorVerCoPO\n",
      "Returning --- 205 friends for DirkBrockmann\n",
      "Returning --- 126 friends for DirtyyRed52\n",
      "Returning --- 637 friends for DisasterRestore\n",
      "Returning --- 500 friends for DiscoverPlaces\n",
      "Returning --- 341 friends for DiscretionW\n",
      "Returning --- 234 friends for DiscvrMoreCorps\n",
      "Returning --- 2575 friends for DislecksiaMovie\n",
      "Returning --- 149 friends for DisneyCPlots"
     ]
    },
    {
     "name": "stderr",
     "output_type": "stream",
     "text": [
      "Got error: {\"errors\":[{\"message\":\"Rate limit exceeded\",\"code\":88}]} \n",
      "sleeping for 15 minutes.\n"
     ]
    },
    {
     "name": "stdout",
     "output_type": "stream",
     "text": [
      "\n",
      "Returning --- 1290 friends for Distance_E\n",
      "Returning --- 152 friends for District65\n",
      "Returning --- 650 friends for Ditzy_xj\n",
      "Returning --- 2932 friends for DiverseIssues\n",
      "Returning --- 1994 friends for DiversePritzker\n",
      "Returning --- 1299 friends for DiversityFirm\n",
      "Returning --- 338 friends for DiversityIL\n",
      "Returning --- 3000 friends for DiversityMcD\n",
      "Returning --- 1996 friends for Dividist\n",
      "Returning --- 83 friends for DivorceShrink\n",
      "Returning --- 829 friends for Divorce_Chicago\n",
      "Returning --- 276 friends for DivyneThoughts\n",
      "Returning --- 92 friends for DixieEvanston"
     ]
    },
    {
     "name": "stderr",
     "output_type": "stream",
     "text": [
      "Got error: {\"errors\":[{\"message\":\"Rate limit exceeded\",\"code\":88}]} \n",
      "sleeping for 15 minutes.\n"
     ]
    },
    {
     "name": "stdout",
     "output_type": "stream",
     "text": [
      "\n",
      "Returning --- 318 friends for DjDfri\n",
      "Collected 5000 friends for DjKingAssassin\n",
      "Collected 15000 friends for DjKingAssassin\n",
      "Collected 30000 friends for DjKingAssassin\n",
      "Found more than 50,000 friends. Returning error code = -3\n",
      "Returning --- 474 friends for DjShampoooo\n",
      "Returning --- 1012 friends for Djohns012\n",
      "Returning --- 60 friends for Djwolff12Super\n",
      "Returning --- 45 friends for Dmiller10021\n",
      "Returning --- 156 friends for Dnb6308\n",
      "Returning --- 1982 friends for Dnell_the_Don\n",
      "Returning --- 1318 friends for DoD_IG\n",
      "Returning --- 1350 friends for DoFMedia\n",
      "Returning --- 95 friends for DoHoangViet13"
     ]
    },
    {
     "name": "stderr",
     "output_type": "stream",
     "text": [
      "Got error: {\"errors\":[{\"message\":\"Rate limit exceeded\",\"code\":88}]} \n",
      "sleeping for 15 minutes.\n"
     ]
    },
    {
     "name": "stdout",
     "output_type": "stream",
     "text": [
      "\n",
      "Returning --- 149 friends for Doc4Her\n",
      "Returning --- 1314 friends for DocAbles\n",
      "Returning --- 534 friends for DocMorganEvans\n",
      "Returning --- 181 friends for DocNassif\n",
      "Returning --- 64 friends for DocWatts\n",
      "Returning --- 623 friends for Docsity\n",
      "Returning --- 195 friends for DoctorDres\n",
      "Returning --- 246 friends for DoctorFitHeart\n",
      "Returning --- 281 friends for DoctorGuff\n",
      "Returning --- 147 friends for DoctorKarmaRS\n",
      "Returning --- 1404 friends for DodyOttoSager\n",
      "Returning --- 45 friends for DoegTheEdomyte\n",
      "Returning --- 665 friends for DoesitPew\n",
      "Returning --- 1990 friends for DogTrainerMarks\n",
      "Returning --- 40 friends for DollarDeodorant"
     ]
    },
    {
     "name": "stderr",
     "output_type": "stream",
     "text": [
      "Got error: {\"errors\":[{\"message\":\"Rate limit exceeded\",\"code\":88}]} \n",
      "sleeping for 15 minutes.\n"
     ]
    },
    {
     "name": "stdout",
     "output_type": "stream",
     "text": [
      "\n",
      "Returning --- 73 friends for DoloresLeiser\n",
      "Returning --- 297 friends for DomMakepeace\n",
      "Returning --- 1216 friends for DomainNameOLS\n",
      "Returning --- 452 friends for DominaSpes\n",
      "Returning --- 560 friends for DominicMacanas\n",
      "Returning --- 392 friends for DominikGillespi\n",
      "Returning --- 189 friends for DominiqueMejia9\n",
      "Returning --- 842 friends for DominiqueRopp10\n",
      "Returning --- 1514 friends for Dominquezcvg\n",
      "Returning --- 1999 friends for DonClip5\n",
      "Returning --- 151 friends for DonD_bar\n",
      "Returning --- 36 friends for DonUllmann\n",
      "Collected 5000 friends for Don_HWA"
     ]
    },
    {
     "name": "stderr",
     "output_type": "stream",
     "text": [
      "Got error: {\"errors\":[{\"message\":\"Rate limit exceeded\",\"code\":88}]} \n",
      "sleeping for 15 minutes.\n"
     ]
    },
    {
     "name": "stdout",
     "output_type": "stream",
     "text": [
      "\n",
      "Returning --- 10008 friends for Don_HWA\n",
      "Returning --- 572 friends for Don__Allison\n",
      "Returning --- 89 friends for DonaFernandes\n",
      "Returning --- 600 friends for DonaldJeffery1\n",
      "Returning --- 391 friends for DonateLifeIL\n",
      "Returning --- 165 friends for Donesha_CBS22\n",
      "Returning --- 23 friends for DongKyuLee92\n",
      "Returning --- 54 friends for Dong_Zhang\n",
      "Returning --- 165 friends for DonikaFrump\n",
      "Returning --- 372 friends for Doniput05161752\n",
      "Returning --- 13 friends for DonnaB131313\n",
      "Returning --- 1697 friends for DonnaDunning\n",
      "Returning --- 420 friends for DonnaGiwa"
     ]
    },
    {
     "name": "stderr",
     "output_type": "stream",
     "text": [
      "Got error: {\"errors\":[{\"message\":\"Rate limit exceeded\",\"code\":88}]} \n",
      "sleeping for 15 minutes.\n"
     ]
    },
    {
     "name": "stdout",
     "output_type": "stream",
     "text": [
      "\n",
      "Returning --- 1856 friends for DonnaMarbury\n",
      "Returning --- 1699 friends for DonnaSellers\n",
      "Returning --- 8 friends for DonnaStone4\n",
      "Returning --- 11 friends for DonnellGreen7\n",
      "Returning --- 1999 friends for DonorSearch\n",
      "Returning --- 39 friends for DonovanKaty\n",
      "Returning --- 713 friends for DonscobbyBlood\n",
      "Returning --- 461 friends for DontForgetEd\n",
      "Returning --- 426 friends for DontPanicDent\n",
      "Returning --- 75 friends for DonutDrdre\n",
      "Returning --- 5 friends for DoodleNU\n",
      "Returning --- 175 friends for DoogieInDC\n",
      "Returning --- 371 friends for Doomsday2040\n",
      "Returning --- 3887 friends for Doostang\n",
      "Returning --- 213 friends for DorSreb"
     ]
    },
    {
     "name": "stderr",
     "output_type": "stream",
     "text": [
      "Got error: {\"errors\":[{\"message\":\"Rate limit exceeded\",\"code\":88}]} \n",
      "sleeping for 15 minutes.\n"
     ]
    },
    {
     "name": "stdout",
     "output_type": "stream",
     "text": [
      "\n",
      "Returning --- 422 friends for Dori_Graff\n",
      "Returning --- 304 friends for Dorja_M\n",
      "Returning --- 1050 friends for DormEats\n",
      "Returning --- 333 friends for DormRoomMovers\n",
      "Returning --- 185 friends for DoronKim1\n",
      "Returning --- 31 friends for DoshieOwens\n",
      "Returning --- 1487 friends for DotNoFeatherLiz\n",
      "Returning --- 8 friends for DouBaosz\n",
      "Returning --- 109 friends for DoubleElleGirl\n",
      "Returning --- 554 friends for DoubletreeSkoki\n",
      "Returning --- 58 friends for DoucetSt\n",
      "Returning --- 27 friends for DougAlrutz1\n",
      "Returning --- 41 friends for DouglasAutoShop"
     ]
    },
    {
     "name": "stderr",
     "output_type": "stream",
     "text": [
      "Got error: {\"errors\":[{\"message\":\"Rate limit exceeded\",\"code\":88}]} \n",
      "sleeping for 15 minutes.\n"
     ]
    },
    {
     "name": "stdout",
     "output_type": "stream",
     "text": [
      "\n",
      "Returning --- 562 friends for DouglasCRoth\n",
      "Returning --- 1092 friends for DouglasEBlake\n",
      "Returning --- 2765 friends for DouglasKondor\n",
      "Returning --- 2214 friends for DowAgroCareers\n",
      "Returning --- 1388 friends for DownbeatsChi\n",
      "Returning --- 664 friends for DownersGroveIce\n",
      "Returning --- 30 friends for DowneyGarrison\n",
      "Returning --- 933 friends for DowntwnEvanston\n",
      "Returning --- 148 friends for DoxtaterNick\n",
      "Returning --- 1137 friends for DrAPSings\n",
      "Returning --- 64 friends for DrAmanda10\n",
      "Returning --- 211 friends for DrAmyLeighDavis\n",
      "Returning --- 163 friends for DrAndyJensen"
     ]
    },
    {
     "name": "stderr",
     "output_type": "stream",
     "text": [
      "Got error: {\"errors\":[{\"message\":\"Rate limit exceeded\",\"code\":88}]} \n",
      "sleeping for 15 minutes.\n"
     ]
    },
    {
     "name": "stdout",
     "output_type": "stream",
     "text": [
      "\n",
      "Returning --- 303 friends for DrBCinOP\n",
      "Returning --- 615 friends for DrBiesman\n",
      "Returning --- 2794 friends for DrBillASU\n",
      "Returning --- 701 friends for DrBurito\n",
      "Returning --- 219 friends for DrCHalinski\n",
      "Returning --- 2276 friends for DrDae\n",
      "Returning --- 53 friends for DrDana5\n",
      "Returning --- 168 friends for DrDanielPascoe\n",
      "Returning --- 2479 friends for DrDaphneCareers\n",
      "Returning --- 231 friends for DrEarlGrey\n",
      "Returning --- 603 friends for DrEllisNelson\n",
      "Returning --- 134 friends for DrFanning\n",
      "Returning --- 2049 friends for DrFeliceGersh\n",
      "Returning --- 123 friends for DrFongMD"
     ]
    },
    {
     "name": "stderr",
     "output_type": "stream",
     "text": [
      "Got error: {\"errors\":[{\"message\":\"Rate limit exceeded\",\"code\":88}]} \n",
      "sleeping for 15 minutes.\n"
     ]
    },
    {
     "name": "stdout",
     "output_type": "stream",
     "text": [
      "\n",
      "Returning --- 38 friends for DrGambetta\n",
      "Returning --- 174 friends for DrHashtags\n",
      "Returning --- 533 friends for DrHebaaboutaleb\n",
      "Returning --- 10 friends for DrHkpatel\n",
      "Returning --- 1343 friends for DrJRogers\n",
      "Returning --- 8 friends for DrJamesEike\n",
      "Returning --- 287 friends for DrJim06\n",
      "Returning --- 918 friends for DrJodiGold\n",
      "Returning --- 1975 friends for DrKMNavarro\n",
      "Returning --- 136 friends for DrKenWeber\n",
      "Returning --- 108 friends for DrKennethJanson\n",
      "Returning --- 978 friends for DrKennethKim\n",
      "Returning --- 17 friends for DrLABrown\n",
      "Returning --- 47 friends for DrLGoodwin\n",
      "Returning --- 149 friends for DrLoddingDDS"
     ]
    },
    {
     "name": "stderr",
     "output_type": "stream",
     "text": [
      "Got error: {\"errors\":[{\"message\":\"Rate limit exceeded\",\"code\":88}]} \n",
      "sleeping for 15 minutes.\n"
     ]
    },
    {
     "name": "stdout",
     "output_type": "stream",
     "text": [
      "\n",
      "Returning --- 1359 friends for DrLouisMcCall\n",
      "Returning --- 407 friends for DrMcCowenChiArt\n",
      "Returning --- 64 friends for DrMelissaSimon\n",
      "Returning --- 523 friends for DrMommaPhD\n",
      "Returning --- 27 friends for DrNataria\n",
      "Returning --- 97 friends for DrPTI\n",
      "Returning --- 19 friends for DrParksAcademy\n",
      "Returning --- 138 friends for DrPaulDeSario\n",
      "Returning --- 168 friends for DrPerryStalsis\n",
      "Returning --- 267 friends for DrPittmanUW\n",
      "Returning --- 124 friends for DrRBlackwell\n",
      "Returning --- 4401 friends for DrRKayGreen\n",
      "Returning --- 399 friends for DrRichardNHayes\n",
      "Returning --- 1019 friends for DrRosenRosen19\n",
      "Returning --- 95 friends for DrRyanCVaughn"
     ]
    },
    {
     "name": "stderr",
     "output_type": "stream",
     "text": [
      "Got error: {\"errors\":[{\"message\":\"Rate limit exceeded\",\"code\":88}]} \n",
      "sleeping for 15 minutes.\n"
     ]
    },
    {
     "name": "stdout",
     "output_type": "stream",
     "text": [
      "\n",
      "Returning --- 364 friends for DrSmitherman\n",
      "Returning --- 1044 friends for DrSpokk\n",
      "Returning --- 671 friends for DrSportswear\n",
      "Returning --- 1018 friends for DrTMSuddeth\n",
      "Returning --- 1100 friends for DrTonyRhorer\n",
      "Returning --- 7 friends for DrTorstenFiebig\n",
      "Returning --- 28 friends for DrWiesterSXU\n",
      "Returning --- 134 friends for Dr_AKCollier\n",
      "Returning --- 233 friends for Dr_AprilPeters\n",
      "Returning --- 115 friends for Dr_CABH\n",
      "Returning --- 309 friends for Dr_Playko\n",
      "Returning --- 373 friends for Dr_Ran"
     ]
    },
    {
     "name": "stderr",
     "output_type": "stream",
     "text": [
      "Got error: {\"errors\":[{\"message\":\"Rate limit exceeded\",\"code\":88}]} \n",
      "sleeping for 15 minutes.\n"
     ]
    },
    {
     "name": "stdout",
     "output_type": "stream",
     "text": [
      "\n",
      "Returning --- 55 friends for DraftKingsLines\n",
      "Returning --- 525 friends for DrakeCareerCntr\n",
      "Returning --- 830 friends for DrakeTower\n",
      "Returning --- 1193 friends for DramaticDynamic\n",
      "Returning --- 764 friends for DraneSpout\n",
      "Returning --- 840 friends for DrapertoCollege\n",
      "Returning --- 255 friends for DraskoVladic\n",
      "Returning --- 360 friends for Drayden06\n",
      "Returning --- 492 friends for Drcoleo\n",
      "Returning --- 134 friends for Drdreadrea\n",
      "Returning --- 124 friends for DreamCareersUST\n",
      "Returning --- 947 friends for DreamChamps\n",
      "Returning --- 338 friends for DreamForever98\n",
      "Returning --- 1669 friends for DreamJobs4Me\n",
      "Returning --- 704 friends for DreamWarriorG"
     ]
    },
    {
     "name": "stderr",
     "output_type": "stream",
     "text": [
      "Got error: {\"errors\":[{\"message\":\"Rate limit exceeded\",\"code\":88}]} \n",
      "sleeping for 15 minutes.\n"
     ]
    },
    {
     "name": "stdout",
     "output_type": "stream",
     "text": [
      "\n",
      "Returning --- 154 friends for Dream_Chicago\n",
      "Returning --- 1886 friends for Dream_Tree\n",
      "Returning --- 2002 friends for DreamstoAction\n",
      "Returning --- 200 friends for Dredog1911\n",
      "Returning --- 760 friends for DrewClancy\n",
      "Returning --- 309 friends for DrewKerr\n",
      "Returning --- 2096 friends for DrewLegoman26\n",
      "Returning --- 188 friends for DrewPariano\n",
      "Returning --- 293 friends for Drewlambears\n",
      "Returning --- 28 friends for DrewryKaty\n",
      "Returning --- 1999 friends for Drictersteph\n",
      "Returning --- 877 friends for DrinkVitani"
     ]
    },
    {
     "name": "stderr",
     "output_type": "stream",
     "text": [
      "Got error: {\"errors\":[{\"message\":\"Rate limit exceeded\",\"code\":88}]} \n",
      "sleeping for 15 minutes.\n"
     ]
    },
    {
     "name": "stdout",
     "output_type": "stream",
     "text": [
      "\n",
      "Returning --- 1900 friends for DrivingMidwest\n",
      "Returning --- 106 friends for Dropdyke\n",
      "Returning --- 1176 friends for DrugTargetRev\n",
      "Returning --- 1509 friends for DrunkenCFB\n",
      "Returning --- 80 friends for DrupacBack\n",
      "Returning --- 1292 friends for DruryLaneTheatr\n",
      "Returning --- 1313 friends for Drvancebentley\n",
      "Returning --- 476 friends for DsangDanie\n",
      "Returning --- 1991 friends for DstrRestoration\n",
      "Returning --- 37 friends for Dto66\n",
      "Returning --- 156 friends for Dtpiyalepasa\n",
      "Returning --- 193 friends for DuHelen\n",
      "Returning --- 1453 friends for DuSableMuseum\n",
      "Returning --- 35 friends for DuaneDHong"
     ]
    },
    {
     "name": "stderr",
     "output_type": "stream",
     "text": [
      "Got error: {\"errors\":[{\"message\":\"Rate limit exceeded\",\"code\":88}]} \n",
      "sleeping for 15 minutes.\n"
     ]
    },
    {
     "name": "stdout",
     "output_type": "stream",
     "text": [
      "\n",
      "Returning --- 10 friends for DuaneHarbin\n",
      "Returning --- 1993 friends for DubbleNikkle\n",
      "Returning --- 45 friends for Ducati143\n",
      "Returning --- 59 friends for DuhItsNena\n",
      "Returning --- 179 friends for DuiLambor\n",
      "Returning --- 160 friends for DukeNUSMedSch\n",
      "Returning --- 281 friends for DuleyCollege\n",
      "Returning --- 39 friends for DumbWithStocks\n",
      "Collected 5000 friends for DunkinChicago\n",
      "Returning --- 10504 friends for DunkinChicago\n",
      "Returning --- 560 friends for DuoConsulting\n",
      "Returning --- 421 friends for DupageFamilyLaw\n",
      "Returning --- 125 friends for DupliTweets\n",
      "Returning --- 361 friends for Durdoll"
     ]
    },
    {
     "name": "stderr",
     "output_type": "stream",
     "text": [
      "Got error: {\"errors\":[{\"message\":\"Rate limit exceeded\",\"code\":88}]} \n",
      "sleeping for 15 minutes.\n"
     ]
    },
    {
     "name": "stdout",
     "output_type": "stream",
     "text": [
      "\n",
      "Returning --- 1955 friends for DushonDavid\n",
      "Returning --- 745 friends for DustiDemarest\n",
      "Returning --- 107 friends for Dustin_Cawthon\n",
      "Returning --- 33 friends for DwRussell88\n",
      "Returning --- 96 friends for DwightHohl\n",
      "Returning --- 2023 friends for DylanDoppelt\n",
      "Returning --- 608 friends for DylanMinarik\n",
      "Returning --- 42 friends for DymbeDymbye\n",
      "Returning --- 465 friends for DynaGloHEAT\n",
      "Returning --- 603 friends for DynamicCampus\n",
      "Returning --- 252 friends for DynamikoU\n",
      "Returning --- 279 friends for DynetyVivian"
     ]
    },
    {
     "name": "stderr",
     "output_type": "stream",
     "text": [
      "Got error: {\"errors\":[{\"message\":\"Rate limit exceeded\",\"code\":88}]} \n",
      "sleeping for 15 minutes.\n"
     ]
    },
    {
     "name": "stdout",
     "output_type": "stream",
     "text": [
      "\n",
      "Returning --- 228 friends for DyvniKnyhy\n",
      "Returning --- 246 friends for DzhennetJ\n",
      "Returning --- 116 friends for E24_Uk\n",
      "Returning --- 2307 friends for E2ENational\n",
      "Returning --- 264 friends for E2ERoadMapper\n",
      "Returning --- 204 friends for E2ERoadster\n",
      "Returning --- 1984 friends for E98380344\n",
      "Returning --- 14 friends for EA4_Winter\n",
      "Returning --- 292 friends for EACA_edcom\n",
      "Returning --- 724 friends for EACE_KUBRI\n",
      "Returning --- 161 friends for EACNovosibirsk\n",
      "Returning --- 30 friends for EATT_TWEET\n",
      "Returning --- 14 friends for EAZAVZ\n",
      "Returning --- 538 friends for EAllard24\n",
      "Returning --- 369 friends for EAreads"
     ]
    },
    {
     "name": "stderr",
     "output_type": "stream",
     "text": [
      "Got error: {\"errors\":[{\"message\":\"Rate limit exceeded\",\"code\":88}]} \n",
      "sleeping for 15 minutes.\n"
     ]
    },
    {
     "name": "stdout",
     "output_type": "stream",
     "text": [
      "\n",
      "Returning --- 536 friends for EBA_US\n",
      "Returning --- 111 friends for EBFCreative\n",
      "Returning --- 923 friends for EBLAurora\n",
      "Returning --- 1389 friends for EBSCO_Learning\n",
      "Returning --- 319 friends for EBSHealthcare\n",
      "Returning --- 492 friends for EBSjobs\n",
      "Returning --- 140 friends for EBay_122\n",
      "Returning --- 1479 friends for EBratley\n",
      "Returning --- 207 friends for EBuchancow\n",
      "Returning --- 1175 friends for EButtsCPA\n",
      "Returning --- 714 friends for EC78\n",
      "Returning --- 1350 friends for ECC_Coaches\n",
      "Returning --- 13 friends for ECConferencing\n",
      "Returning --- 1897 friends for ECI_Congress\n",
      "Returning --- 402 friends for ECMI2016"
     ]
    },
    {
     "name": "stderr",
     "output_type": "stream",
     "text": [
      "Got error: {\"errors\":[{\"message\":\"Rate limit exceeded\",\"code\":88}]} \n",
      "sleeping for 15 minutes.\n"
     ]
    },
    {
     "name": "stdout",
     "output_type": "stream",
     "text": [
      "\n",
      "Returning --- 1991 friends for ECOENA\n",
      "Returning --- 23 friends for ECOFIN_NUMUNxii\n",
      "Returning --- 185 friends for ECRAGROUP\n",
      "Returning --- 410 friends for ECResumes\n",
      "Returning --- 584 friends for ECSMidwestLLC\n",
      "Returning --- 306 friends for ECanney\n",
      "Returning --- 71 friends for EChernyakova1\n",
      "Returning --- 97 friends for ECnonprofit\n",
      "Returning --- 58 friends for ECollegeCoaches\n",
      "Returning --- 114 friends for ECubeInc\n",
      "Returning --- 78 friends for EDGS_NU\n",
      "Returning --- 625 friends for EDHECcareerCent\n",
      "Returning --- 1295 friends for EDHWrestling\n",
      "Returning --- 167 friends for EDNChicago\n",
      "Returning --- 1507 friends for EDSI_Solutions"
     ]
    },
    {
     "name": "stderr",
     "output_type": "stream",
     "text": [
      "Got error: {\"errors\":[{\"message\":\"Rate limit exceeded\",\"code\":88}]} \n",
      "sleeping for 15 minutes.\n"
     ]
    },
    {
     "name": "stdout",
     "output_type": "stream",
     "text": [
      "\n",
      "Returning --- 1530 friends for EDUCATIONGLOBAL\n",
      "Returning --- 415 friends for EDexheimer\n",
      "Returning --- 687 friends for EES_journal\n",
      "Returning --- 381 friends for EF\n",
      "Returning --- 1085 friends for EGBOKmission\n",
      "Returning --- 392 friends for EGVPL\n",
      "Returning --- 699 friends for EHC_Archivist\n",
      "Returning --- 801 friends for EHCareersGO\n",
      "Returning --- 43 friends for EHSGOCENTER\n",
      "Returning --- 1105 friends for EHSNYC\n",
      "Returning --- 308 friends for EHoodBaritone\n",
      "Returning --- 581 friends for EILAB_UOIT\n",
      "Returning --- 24 friends for EIU_NSP"
     ]
    },
    {
     "name": "stderr",
     "output_type": "stream",
     "text": [
      "Got error: {\"errors\":[{\"message\":\"Rate limit exceeded\",\"code\":88}]} \n",
      "sleeping for 15 minutes.\n"
     ]
    },
    {
     "name": "stdout",
     "output_type": "stream",
     "text": [
      "\n",
      "Returning --- 312 friends for EJones0526\n",
      "Returning --- 141 friends for ELCConsultingLA\n",
      "Returning --- 85 friends for ELDERDAGGS\n",
      "Returning --- 166 friends for ELiTe320\n",
      "Returning --- 77 friends for EMFchi\n",
      "Returning --- 148 friends for EMINEMmanson\n",
      "Returning --- 1989 friends for EMJourney_lism\n",
      "Returning --- 112 friends for EMLewisss\n",
      "Returning --- 169 friends for EMRIntuitive\n",
      "Returning --- 844 friends for EMRoth\n",
      "Returning --- 40 friends for EM_CDP"
     ]
    },
    {
     "name": "stderr",
     "output_type": "stream",
     "text": [
      "Got error: {\"errors\":[{\"message\":\"Rate limit exceeded\",\"code\":88}]} \n",
      "sleeping for 15 minutes.\n"
     ]
    },
    {
     "name": "stdout",
     "output_type": "stream",
     "text": [
      "\n",
      "Returning --- 598 friends for EMcGinn4\n",
      "Returning --- 2144 friends for ENRICOrossii\n",
      "Returning --- 28 friends for EPD601\n",
      "Returning --- 49 friends for EPD_DeputyChief\n",
      "Returning --- 120 friends for EPDevices\n",
      "Returning --- 195 friends for EPICatNU\n",
      "Returning --- 749 friends for EPLabDigest\n",
      "Returning --- 491 friends for EPScouting\n",
      "Returning --- 242 friends for EPeller1\n",
      "Returning --- 1261 friends for ERAU_CareerSvcs\n",
      "Returning --- 327 friends for ERAUskp\n",
      "Returning --- 1021 friends for ERTCounselor"
     ]
    },
    {
     "name": "stderr",
     "output_type": "stream",
     "text": [
      "Got error: {\"errors\":[{\"message\":\"Rate limit exceeded\",\"code\":88}]} \n",
      "sleeping for 15 minutes.\n"
     ]
    },
    {
     "name": "stdout",
     "output_type": "stream",
     "text": [
      "\n",
      "Returning --- 168 friends for ERy232\n",
      "Returning --- 411 friends for ESAmodernrep\n",
      "Returning --- 989 friends for ESDublin\n",
      "Returning --- 1955 friends for ESL101\n",
      "Returning --- 781 friends for ESLCunningham\n",
      "Returning --- 720 friends for ESLJobClass\n",
      "Returning --- 1194 friends for ESPNEvents\n",
      "Returning --- 1756 friends for ESPNFrontRow\n",
      "Collected 5000 friends for ESinsights\n",
      "Collected 15000 friends for ESinsights\n",
      "Returning --- 29600 friends for ESinsights\n",
      "Returning --- 113 friends for ESkid1121\n",
      "Returning --- 21 friends for ETHS1984\n",
      "Returning --- 251 friends for ETHSAlumni\n",
      "Returning --- 155 friends for ETHSClass2018"
     ]
    },
    {
     "name": "stderr",
     "output_type": "stream",
     "text": [
      "Got error: {\"errors\":[{\"message\":\"Rate limit exceeded\",\"code\":88}]} \n",
      "sleeping for 15 minutes.\n"
     ]
    },
    {
     "name": "stdout",
     "output_type": "stream",
     "text": [
      "\n",
      "Returning --- 145 friends for ETHSWildkits\n",
      "Returning --- 173 friends for ETHS_IandB_Club\n",
      "Returning --- 321 friends for ETHSdance\n",
      "Returning --- 110 friends for ETHSfoundation\n",
      "Returning --- 47 friends for ETHSfreshman\n",
      "Returning --- 1037 friends for ET_Program\n",
      "Returning --- 11 friends for ETellander\n",
      "Returning --- 57 friends for ETisdahl\n",
      "Returning --- 94 friends for ETownLakeFront\n",
      "Returning --- 990 friends for EVANSDIRAH\n",
      "Returning --- 98 friends for EVART_5E5\n",
      "Returning --- 549 friends for EVGONLINE\n",
      "Returning --- 52 friends for EVZ_ODP"
     ]
    },
    {
     "name": "stderr",
     "output_type": "stream",
     "text": [
      "Got error: {\"errors\":[{\"message\":\"Rate limit exceeded\",\"code\":88}]} \n",
      "sleeping for 15 minutes.\n"
     ]
    },
    {
     "name": "stdout",
     "output_type": "stream",
     "text": [
      "\n",
      "Returning --- 24 friends for EWRegulus\n",
      "Returning --- 230 friends for EWickwire\n",
      "Returning --- 10 friends for EWilson93971031\n",
      "Returning --- 73 friends for EXTREMEmyke\n",
      "Returning --- 654 friends for EYPAE\n",
      "Returning --- 466 friends for EY_Chicago\n",
      "Returning --- 534 friends for EZLIbutton\n",
      "Returning --- 115 friends for E_Barisik\n",
      "Returning --- 69 friends for E_is_MCsquared\n",
      "Returning --- 111 friends for EagleChosen\n",
      "Returning --- 1118 friends for EagleRidgeLandC"
     ]
    },
    {
     "name": "stderr",
     "output_type": "stream",
     "text": [
      "Got error: {\"errors\":[{\"message\":\"Rate limit exceeded\",\"code\":88}]} \n",
      "sleeping for 15 minutes.\n"
     ]
    },
    {
     "name": "stdout",
     "output_type": "stream",
     "text": [
      "\n",
      "Returning --- 584 friends for EagleinBrighton\n",
      "Returning --- 63 friends for Ealiti\n",
      "Returning --- 243 friends for EarlyCollegeMC\n",
      "Returning --- 440 friends for EarlyIntern\n",
      "Returning --- 2486 friends for EarthHourIL\n",
      "Returning --- 64 friends for Easton_RE\n",
      "Returning --- 1010 friends for EasyExpert\n",
      "Returning --- 1104 friends for EasyGoingSurvey\n",
      "Returning --- 97 friends for EatLiveMove\n",
      "Returning --- 41 friends for Eating_In\n",
      "Returning --- 80 friends for EbanoidzeAnna"
     ]
    },
    {
     "name": "stderr",
     "output_type": "stream",
     "text": [
      "Got error: {\"errors\":[{\"message\":\"Rate limit exceeded\",\"code\":88}]} \n",
      "sleeping for 15 minutes.\n"
     ]
    },
    {
     "name": "stdout",
     "output_type": "stream",
     "text": [
      "\n",
      "Returning --- 517 friends for EbonyNailah\n",
      "Returning --- 872 friends for Ebooktext\n",
      "Returning --- 78 friends for EcclesNest\n",
      "Returning --- 44 friends for EcklandEmily\n",
      "Returning --- 1966 friends for EcoFaire\n",
      "Returning --- 757 friends for EcoGasFields\n",
      "Returning --- 512 friends for EcofinEAFIT\n",
      "Returning --- 238 friends for EconClubChi\n",
      "Returning --- 448 friends for EconomiaJournal\n",
      "Returning --- 129 friends for EconomyOne\n",
      "Returning --- 261 friends for EcosteamSyc\n",
      "Returning --- 883 friends for EdDecker14\n",
      "Returning --- 421 friends for EdUSABrasilia"
     ]
    },
    {
     "name": "stderr",
     "output_type": "stream",
     "text": [
      "Got error: {\"errors\":[{\"message\":\"Rate limit exceeded\",\"code\":88}]} \n",
      "sleeping for 15 minutes.\n"
     ]
    },
    {
     "name": "stdout",
     "output_type": "stream",
     "text": [
      "\n",
      "Returning --- 312 friends for EdUSABucaramang\n",
      "Returning --- 446 friends for EdUSAIndonesia\n",
      "Returning --- 1218 friends for EdUSALeb\n",
      "Returning --- 450 friends for EdUSAManizales\n",
      "Returning --- 766 friends for EdUSARussia\n",
      "Returning --- 350 friends for EdUSASpain\n",
      "Returning --- 141 friends for EdUSA_Ahmedabad\n",
      "Returning --- 1193 friends for EdUSAtips\n",
      "Returning --- 550 friends for EdUSAupdates\n",
      "Returning --- 1385 friends for Ed_Exchange\n",
      "Returning --- 778 friends for Eddie_Dynamite\n",
      "Collected 5000 friends for Eddiejimmy\n",
      "Returning --- 10002 friends for Eddiejimmy\n",
      "Returning --- 279 friends for EddyClearwater"
     ]
    },
    {
     "name": "stderr",
     "output_type": "stream",
     "text": [
      "Got error: {\"errors\":[{\"message\":\"Rate limit exceeded\",\"code\":88}]} \n",
      "sleeping for 15 minutes.\n"
     ]
    },
    {
     "name": "stdout",
     "output_type": "stream",
     "text": [
      "\n",
      "Returning --- 531 friends for Eddywi\n",
      "Returning --- 742 friends for Edelmira986\n",
      "Returning --- 411 friends for EdenAbrahams\n",
      "Returning --- 112 friends for EdgeStudentSvcs\n",
      "Returning --- 224 friends for Edge_Sports\n",
      "Returning --- 657 friends for EdgewaterReview\n",
      "Returning --- 86 friends for EdissonAlmanza\n",
      "Returning --- 1035 friends for EdithChapin\n",
      "Returning --- 892 friends for EditorEssay\n",
      "Returning --- 865 friends for EditorNicoleK\n",
      "Returning --- 1937 friends for EduAccelerate\n",
      "Returning --- 562 friends for EduDebtForgiven\n",
      "Returning --- 69 friends for EduForJobs"
     ]
    },
    {
     "name": "stderr",
     "output_type": "stream",
     "text": [
      "Got error: {\"errors\":[{\"message\":\"Rate limit exceeded\",\"code\":88}]} \n",
      "sleeping for 15 minutes.\n"
     ]
    },
    {
     "name": "stdout",
     "output_type": "stream",
     "text": [
      "\n",
      "Returning --- 1877 friends for EduJungle\n",
      "Returning --- 211 friends for EduOasis\n",
      "Returning --- 506 friends for EduReadsCom\n",
      "Returning --- 546 friends for EduUSAKuwait\n",
      "Returning --- 417 friends for EduUSA_Sby\n",
      "Returning --- 185 friends for EduUSArg\n",
      "Returning --- 1763 friends for EducationFMNews\n",
      "Returning --- 498 friends for EducatiusOPT\n",
      "Returning --- 237 friends for Educatrium\n",
      "Returning --- 1450 friends for Edudaris\n",
      "Returning --- 1849 friends for EdudarisNetwork\n",
      "Returning --- 613 friends for EdufairsGlobal\n",
      "Returning --- 1497 friends for Edumcgill\n",
      "Returning --- 304 friends for Eduniversal_NAm\n",
      "Returning --- 2769 friends for EdwardARowe"
     ]
    },
    {
     "name": "stderr",
     "output_type": "stream",
     "text": [
      "Got error: {\"errors\":[{\"message\":\"Rate limit exceeded\",\"code\":88}]} \n",
      "sleeping for 15 minutes.\n"
     ]
    },
    {
     "name": "stdout",
     "output_type": "stream",
     "text": [
      "\n",
      "Returning --- 718 friends for EdwardGeschke\n",
      "Returning --- 2231 friends for EdwardWinstead\n",
      "Returning --- 1287 friends for Edwin_D_Rios\n",
      "Returning --- 441 friends for Edwire\n",
      "Returning --- 71 friends for EdwiseFoundatio\n",
      "Returning --- 1400 friends for EdzosBurgerShop\n",
      "Returning --- 40 friends for Eehdvs2wdswdw\n",
      "Returning --- 43 friends for EeslingeElise\n",
      "Returning --- 2021 friends for Efbaum\n",
      "Returning --- 205 friends for Efelker18\n",
      "Returning --- 1421 friends for EffiedRolfe\n",
      "Returning --- 259 friends for Effiejhql\n",
      "Returning --- 390 friends for EgeaSpa\n",
      "Returning --- 419 friends for EgelWeiss"
     ]
    },
    {
     "name": "stderr",
     "output_type": "stream",
     "text": [
      "Got error: {\"errors\":[{\"message\":\"Rate limit exceeded\",\"code\":88}]} \n",
      "sleeping for 15 minutes.\n"
     ]
    },
    {
     "name": "stdout",
     "output_type": "stream",
     "text": [
      "\n",
      "Returning --- 250 friends for EggPanCafe\n",
      "Returning --- 119 friends for EggerJordon\n",
      "Returning --- 345 friends for EglomiseDesigns\n",
      "Returning --- 98 friends for EhrlichChris\n",
      "Returning --- 1008 friends for EileeQHW\n",
      "Returning --- 629 friends for EileenMasciale\n",
      "Returning --- 5 friends for Einatm\n",
      "Returning --- 204 friends for EingelAttard\n",
      "Returning --- 1785 friends for EinsteinPath\n",
      "Returning --- 289 friends for EinsteinU\n",
      "Returning --- 121 friends for Ejay_OVAgrind\n",
      "Returning --- 449 friends for Ejbauersfeld"
     ]
    },
    {
     "name": "stderr",
     "output_type": "stream",
     "text": [
      "Got error: {\"errors\":[{\"message\":\"Rate limit exceeded\",\"code\":88}]} \n",
      "sleeping for 15 minutes.\n"
     ]
    },
    {
     "name": "stdout",
     "output_type": "stream",
     "text": [
      "\n",
      "Returning --- 457 friends for Ekajemuh\n",
      "Returning --- 2205 friends for EkasithSomsook\n",
      "Returning --- 10 friends for EkdahlKevin\n",
      "Returning --- 143 friends for ElConcorde\n",
      "Returning --- 373 friends for ElGatoGrande99\n",
      "Returning --- 331 friends for ElGiganteRojo\n",
      "Returning --- 22 friends for ElOtroPete\n",
      "Returning --- 464 friends for El_Crindy\n",
      "Returning --- 9 friends for Elaine78900\n",
      "Returning --- 793 friends for ElaineRomero\n",
      "Returning --- 19 friends for ElaineVentola\n",
      "Returning --- 1892 friends for ElamDauw"
     ]
    },
    {
     "name": "stderr",
     "output_type": "stream",
     "text": [
      "Got error: {\"errors\":[{\"message\":\"Rate limit exceeded\",\"code\":88}]} \n",
      "sleeping for 15 minutes.\n"
     ]
    },
    {
     "name": "stdout",
     "output_type": "stream",
     "text": [
      "\n",
      "Returning --- 6 friends for ElderHallGov\n",
      "Returning --- 684 friends for EleanorBarczak\n",
      "Returning --- 1293 friends for ElectAbbeyJudge\n",
      "Returning --- 1416 friends for ElectScottG\n",
      "Returning --- 30 friends for ElectroCla\n",
      "Returning --- 339 friends for ElektroRead\n",
      "Returning --- 238 friends for Elena_Graham\n",
      "Returning --- 1971 friends for Elena_Sleeman\n",
      "Returning --- 317 friends for Eleonoraz98\n",
      "Returning --- 1803 friends for ElevarteStudio\n",
      "Returning --- 283 friends for ElevateCareers\n",
      "Returning --- 538 friends for ElevateMyJob\n",
      "Returning --- 646 friends for EliBleemer\n",
      "Returning --- 167 friends for EliCash15\n",
      "Returning --- 450 friends for EliPanken"
     ]
    },
    {
     "name": "stderr",
     "output_type": "stream",
     "text": [
      "Got error: {\"errors\":[{\"message\":\"Rate limit exceeded\",\"code\":88}]} \n",
      "sleeping for 15 minutes.\n"
     ]
    },
    {
     "name": "stdout",
     "output_type": "stream",
     "text": [
      "\n",
      "Returning --- 495 friends for Eli_Finkel\n",
      "Returning --- 532 friends for EliaPowers\n",
      "Returning --- 836 friends for EliaraCaovilla\n",
      "Returning --- 457 friends for ElijahW_3\n",
      "Returning --- 168 friends for ElisaSkaggs\n",
      "Returning --- 247 friends for ElisabethKlosVO\n",
      "Returning --- 161 friends for ElitePrepSAT\n",
      "Returning --- 1937 friends for EliteforceM\n",
      "Returning --- 156 friends for ElizAtwater\n",
      "Returning --- 6 friends for ElizFrisch\n",
      "Returning --- 36 friends for ElizRho"
     ]
    },
    {
     "name": "stderr",
     "output_type": "stream",
     "text": [
      "Got error: {\"errors\":[{\"message\":\"Rate limit exceeded\",\"code\":88}]} \n",
      "sleeping for 15 minutes.\n"
     ]
    },
    {
     "name": "stdout",
     "output_type": "stream",
     "text": [
      "\n",
      "Returning --- 628 friends for ElizaCaudill\n",
      "Returning --- 10 friends for ElizaFrisch\n",
      "Returning --- 1507 friends for Eliza_Aguilar1\n",
      "Returning --- 540 friends for ElizabethCitrin\n",
      "Returning --- 1202 friends for ElizabethHamel\n",
      "Returning --- 51 friends for ElizabethOdunsi\n",
      "Returning --- 8 friends for ElizabethPFlint\n",
      "Returning --- 106 friends for Elizabethruth24\n",
      "Returning --- 239 friends for ElizabetsyP\n",
      "Returning --- 33 friends for ElizzaMansfield\n",
      "Returning --- 162 friends for ElizzleMR928\n",
      "Returning --- 99 friends for ElksAshleyB\n",
      "Returning --- 262 friends for ElksScholars\n",
      "Returning --- 1213 friends for EllaSonjaWest\n",
      "Returning --- 11 friends for Elle967"
     ]
    },
    {
     "name": "stderr",
     "output_type": "stream",
     "text": [
      "Got error: {\"errors\":[{\"message\":\"Rate limit exceeded\",\"code\":88}]} \n",
      "sleeping for 15 minutes.\n"
     ]
    },
    {
     "name": "stdout",
     "output_type": "stream",
     "text": [
      "\n",
      "Returning --- 120 friends for ElleAtEpic\n",
      "Returning --- 358 friends for EllenCRuane\n",
      "Returning --- 102 friends for EllenRosenfeld\n",
      "Returning --- 118 friends for EllensOnElm\n",
      "Returning --- 442 friends for Ellenwenhe\n",
      "Returning --- 122 friends for EllieSalgado\n",
      "Returning --- 388 friends for EllieVerney\n",
      "Returning --- 1131 friends for ElliotJReichert\n",
      "Returning --- 221 friends for ElliottHornsby\n",
      "Returning --- 1985 friends for EllisPines\n",
      "Returning --- 386 friends for Ellislaw17\n",
      "Returning --- 628 friends for EllisonFM"
     ]
    },
    {
     "name": "stderr",
     "output_type": "stream",
     "text": [
      "Got error: {\"errors\":[{\"message\":\"Rate limit exceeded\",\"code\":88}]} \n",
      "sleeping for 15 minutes.\n"
     ]
    },
    {
     "name": "stdout",
     "output_type": "stream",
     "text": [
      "\n",
      "Returning --- 1154 friends for EllisonMinari\n",
      "Returning --- 653 friends for ElmTalentGroup\n",
      "Returning --- 407 friends for ElnariP\n",
      "Returning --- 645 friends for EloisaSheccid\n",
      "Returning --- 536 friends for Eloy2rico\n",
      "Returning --- 321 friends for ElpasoCrossing\n",
      "Returning --- 39 friends for ElsaCalistri\n",
      "Returning --- 1598 friends for ElsevierConnect\n",
      "Returning --- 1723 friends for ElsevierWebShop\n",
      "Returning --- 63 friends for Eluckoff\n",
      "Returning --- 15 friends for Elysiaa23\n",
      "Returning --- 701 friends for ElyssaCherney\n",
      "Returning --- 44 friends for EmAlesandrini"
     ]
    },
    {
     "name": "stderr",
     "output_type": "stream",
     "text": [
      "Got error: {\"errors\":[{\"message\":\"Rate limit exceeded\",\"code\":88}]} \n",
      "sleeping for 15 minutes.\n"
     ]
    },
    {
     "name": "stdout",
     "output_type": "stream",
     "text": [
      "\n",
      "Returning --- 179 friends for EmButler33\n",
      "Returning --- 50 friends for EmCuaPhieu97\n",
      "Returning --- 194 friends for Emagin_QT\n",
      "Returning --- 436 friends for EmbCarlosFelix\n",
      "Returning --- 30 friends for EmelindaEscobar\n",
      "Returning --- 533 friends for EmeraldHRM\n",
      "Returning --- 186 friends for EmeraldPulse\n",
      "Returning --- 185 friends for Emersoong\n",
      "Returning --- 172 friends for EmeryWeinstein\n",
      "Returning --- 895 friends for Emileelee1\n",
      "Returning --- 241 friends for Emiliesross\n",
      "Returning --- 1334 friends for EmilyAnnHull\n",
      "Returning --- 687 friends for EmilyBJan\n",
      "Returning --- 762 friends for EmilyBaucum"
     ]
    },
    {
     "name": "stderr",
     "output_type": "stream",
     "text": [
      "Got error: {\"errors\":[{\"message\":\"Rate limit exceeded\",\"code\":88}]} \n",
      "sleeping for 15 minutes.\n"
     ]
    },
    {
     "name": "stdout",
     "output_type": "stream",
     "text": [
      "\n",
      "Returning --- 341 friends for EmilyBeisel\n",
      "Collected 5000 friends for EmilyBennington\n",
      "Returning --- 10002 friends for EmilyBennington\n",
      "Returning --- 49 friends for EmilyBethK\n",
      "Returning --- 724 friends for EmilyCollick\n",
      "Returning --- 42 friends for EmilyG_16\n",
      "Returning --- 786 friends for EmilyGlazerWSJ\n",
      "Returning --- 105 friends for EmilyH107\n",
      "Returning --- 126 friends for EmilyHamrick\n",
      "Returning --- 106 friends for EmilyHoodFerrin\n",
      "Returning --- 35 friends for EmilyHoverman\n",
      "Returning --- 109 friends for EmilyKTann\n",
      "Returning --- 40 friends for EmilyLalich\n",
      "Returning --- 685 friends for EmilyMWasserman"
     ]
    },
    {
     "name": "stderr",
     "output_type": "stream",
     "text": [
      "Got error: {\"errors\":[{\"message\":\"Rate limit exceeded\",\"code\":88}]} \n",
      "sleeping for 15 minutes.\n"
     ]
    },
    {
     "name": "stdout",
     "output_type": "stream",
     "text": [
      "\n",
      "Returning --- 97 friends for EmilyMcGarvey1\n",
      "Returning --- 210 friends for EmilyPatnaude\n",
      "Returning --- 134 friends for EmilyRFreeman\n",
      "Returning --- 448 friends for EmilySWetzel\n",
      "Returning --- 695 friends for EmilySinovic\n",
      "Returning --- 1342 friends for Emily_Brooks\n",
      "Returning --- 440 friends for Emily_Ferber\n",
      "Returning --- 423 friends for Emily_Parker\n",
      "Returning --- 74 friends for Emily_Ryles\n",
      "Returning --- 36 friends for Emily_Sales_\n",
      "Returning --- 138 friends for EmipLUVIophiLE\n",
      "Returning --- 30 friends for Emir_Koylu\n",
      "Returning --- 33 friends for Emir_Pyrz"
     ]
    },
    {
     "name": "stderr",
     "output_type": "stream",
     "text": [
      "Got error: {\"errors\":[{\"message\":\"Rate limit exceeded\",\"code\":88}]} \n",
      "sleeping for 15 minutes.\n"
     ]
    },
    {
     "name": "stdout",
     "output_type": "stream",
     "text": [
      "\n",
      "Returning --- 219 friends for EmmVerns\n",
      "Returning --- 781 friends for Emm_Benzon\n",
      "Returning --- 1742 friends for EmmaEmmamoo\n",
      "Returning --- 84 friends for EmmaHaak27\n",
      "Returning --- 70 friends for EmmaJavois\n",
      "Returning --- 1918 friends for EmmaJoy53\n",
      "Returning --- 55 friends for EmmaKAdam\n",
      "Returning --- 895 friends for EmmaKateAustin\n",
      "Returning --- 226 friends for EmmaKluever\n",
      "Returning --- 400 friends for EmmaLBowenFdn\n",
      "Returning --- 299 friends for EmmaMontague\n",
      "Returning --- 375 friends for EmmaStoneTyler\n",
      "Returning --- 31 friends for EmmaToth_\n",
      "Returning --- 514 friends for EmmaVlahakis"
     ]
    },
    {
     "name": "stderr",
     "output_type": "stream",
     "text": [
      "Got error: {\"errors\":[{\"message\":\"Rate limit exceeded\",\"code\":88}]} \n",
      "sleeping for 15 minutes.\n"
     ]
    },
    {
     "name": "stdout",
     "output_type": "stream",
     "text": [
      "\n",
      "Returning --- 308 friends for Emma_Recruits\n",
      "Returning --- 2163 friends for Emma_Weare\n",
      "Returning --- 125 friends for Emmagrassii\n",
      "Returning --- 83 friends for Emmalee1028\n",
      "Returning --- 250 friends for EmmanuelBorne\n",
      "Returning --- 406 friends for EmmanuelRoach\n",
      "Returning --- 6 friends for Emmett_li\n",
      "Returning --- 654 friends for Emorris87Edward\n",
      "Returning --- 569 friends for EmpiricalReport\n",
      "Returning --- 1588 friends for EmployeeRelief\n",
      "Returning --- 414 friends for Emre_Dilber\n",
      "Returning --- 38 friends for Emteevictor\n",
      "Returning --- 2576 friends for EncoreOrg\n",
      "Collected 5000 friends for Endah_bordes81"
     ]
    },
    {
     "name": "stderr",
     "output_type": "stream",
     "text": [
      "Got error: {\"errors\":[{\"message\":\"Rate limit exceeded\",\"code\":88}]} \n",
      "sleeping for 15 minutes.\n"
     ]
    },
    {
     "name": "stdout",
     "output_type": "stream",
     "text": [
      "\n",
      "Returning --- 10888 friends for Endah_bordes81\n",
      "Returning --- 1962 friends for EndeavNetBridge\n",
      "Returning --- 316 friends for EndeleoProject\n",
      "Returning --- 1388 friends for Enemies_People\n",
      "Returning --- 1004 friends for EnergeiaVC\n",
      "Returning --- 1361 friends for EnergyFoundry\n",
      "Returning --- 96 friends for EnergyIL\n",
      "Returning --- 10 friends for EnergyTodd\n",
      "Returning --- 52 friends for EnetBook\n",
      "Returning --- 166 friends for EngageChicago\n",
      "Returning --- 369 friends for EnginStudents\n",
      "Returning --- 1270 friends for EngineerJobs\n",
      "Returning --- 20 friends for EngineersRule\n",
      "Returning --- 704 friends for Enginena"
     ]
    },
    {
     "name": "stderr",
     "output_type": "stream",
     "text": [
      "Got error: {\"errors\":[{\"message\":\"Rate limit exceeded\",\"code\":88}]} \n",
      "sleeping for 15 minutes.\n"
     ]
    },
    {
     "name": "stdout",
     "output_type": "stream",
     "text": [
      "\n",
      "Returning --- 11 friends for EnglerLawGroup\n",
      "Returning --- 402 friends for English3_\n",
      "Returning --- 72 friends for EnglishRoberta\n",
      "Returning --- 824 friends for EnhancedGamingx\n",
      "Returning --- 6 friends for EnidHao\n",
      "Returning --- 1889 friends for Enricodenis\n",
      "Returning --- 206 friends for EnrollAtMCC\n",
      "Returning --- 230 friends for EnsooJoy\n",
      "Returning --- 2010 friends for EntrepreneurMT\n",
      "Returning --- 1865 friends for Envision_TV\n",
      "Returning --- 88 friends for EnyaMulroy\n",
      "Returning --- 135 friends for EovaldiLuke\n",
      "Returning --- 60 friends for Epfmd"
     ]
    },
    {
     "name": "stderr",
     "output_type": "stream",
     "text": [
      "Got error: {\"errors\":[{\"message\":\"Rate limit exceeded\",\"code\":88}]} \n",
      "sleeping for 15 minutes.\n"
     ]
    },
    {
     "name": "stdout",
     "output_type": "stream",
     "text": [
      "\n",
      "Returning --- 1238 friends for EphraMan\n",
      "Returning --- 40 friends for EpicEntertain_\n",
      "Returning --- 10 friends for EpicPrincipe\n",
      "Returning --- 699 friends for EpicSpine\n",
      "Returning --- 507 friends for Epigeum_Imp\n",
      "Returning --- 294 friends for EpiphanyAcevedo\n",
      "Returning --- 709 friends for EpsilonCareers\n",
      "Returning --- 633 friends for EqualApp\n",
      "Returning --- 526 friends for EquityCreative\n",
      "Returning --- 1969 friends for EquityLancer\n",
      "Returning --- 87 friends for Eric2214Qube\n",
      "Returning --- 10 friends for Eric32098424\n",
      "Returning --- 215 friends for EricAtCEA"
     ]
    },
    {
     "name": "stderr",
     "output_type": "stream",
     "text": [
      "Got error: {\"errors\":[{\"message\":\"Rate limit exceeded\",\"code\":88}]} \n",
      "sleeping for 15 minutes.\n"
     ]
    },
    {
     "name": "stdout",
     "output_type": "stream",
     "text": [
      "\n",
      "Returning --- 551 friends for EricCDobler\n",
      "Collected 5000 friends for EricCantor\n",
      "Returning --- 13780 friends for EricCantor\n",
      "Returning --- 672 friends for EricCortellessa\n",
      "Returning --- 114 friends for EricErickson13\n",
      "Returning --- 119 friends for EricFreeboy\n",
      "Returning --- 85 friends for EricFridman\n",
      "Returning --- 1455 friends for EricHowell11\n",
      "Returning --- 9 friends for EricJMinor\n",
      "Returning --- 367 friends for EricLerew\n",
      "Returning --- 63 friends for EricRen13\n",
      "Returning --- 811 friends for EricSFeldman"
     ]
    },
    {
     "name": "stderr",
     "output_type": "stream",
     "text": [
      "Got error: {\"errors\":[{\"message\":\"Rate limit exceeded\",\"code\":88}]} \n",
      "sleeping for 15 minutes.\n"
     ]
    },
    {
     "name": "stdout",
     "output_type": "stream",
     "text": [
      "\n",
      "Returning --- 23 friends for EricSeligman\n",
      "Returning --- 114 friends for EricSieckmann\n",
      "Returning --- 887 friends for EricSkroch\n",
      "Returning --- 362 friends for EricSlepak\n",
      "Returning --- 3844 friends for EricStegemann\n",
      "Returning --- 94 friends for EricTsaiduck\n",
      "Returning --- 201 friends for Eric_Horner\n",
      "Returning --- 834 friends for Eric_Mayo\n",
      "Returning --- 17 friends for Eric_Xu_YK\n",
      "Returning --- 196 friends for Eric__VC\n",
      "Returning --- 546 friends for EricaArvoMacK"
     ]
    },
    {
     "name": "stderr",
     "output_type": "stream",
     "text": [
      "Got error: {\"errors\":[{\"message\":\"Rate limit exceeded\",\"code\":88}]} \n",
      "sleeping for 15 minutes.\n"
     ]
    },
    {
     "name": "stdout",
     "output_type": "stream",
     "text": [
      "\n",
      "Returning --- 647 friends for EricaCRCostello\n",
      "Returning --- 2085 friends for EricaLG\n",
      "Returning --- 139 friends for EricaLittman\n",
      "Returning --- 470 friends for EricaSPhillips\n",
      "Returning --- 117 friends for Erica_Israel\n",
      "Returning --- 325 friends for Ericaglover_\n",
      "Returning --- 81 friends for ErickRobertson\n",
      "Returning --- 203 friends for ErikBidenkap\n",
      "Returning --- 1806 friends for ErikSilhouettes\n",
      "Returning --- 528 friends for Erik_Bremer\n",
      "Returning --- 355 friends for ErikaFatale\n",
      "Returning --- 151 friends for ErikaNygaard"
     ]
    },
    {
     "name": "stderr",
     "output_type": "stream",
     "text": [
      "Got error: {\"errors\":[{\"message\":\"Rate limit exceeded\",\"code\":88}]} \n",
      "sleeping for 15 minutes.\n"
     ]
    },
    {
     "name": "stdout",
     "output_type": "stream",
     "text": [
      "\n",
      "Returning --- 384 friends for ErikaSinz\n",
      "Returning --- 1101 friends for Erika_Mondragon\n",
      "Returning --- 339 friends for EriksenPat\n",
      "Returning --- 1965 friends for ErikznAz\n",
      "Returning --- 2053 friends for ErinAHennessy\n",
      "Returning --- 584 friends for ErinDonohoe14\n",
      "Returning --- 143 friends for ErinLeddon\n",
      "Returning --- 397 friends for ErinLeighPaul\n",
      "Returning --- 742 friends for ErinMeyer1\n",
      "Returning --- 404 friends for ErinMichos\n",
      "Returning --- 37 friends for ErinMoranMM"
     ]
    },
    {
     "name": "stderr",
     "output_type": "stream",
     "text": [
      "Got error: {\"errors\":[{\"message\":\"Rate limit exceeded\",\"code\":88}]} \n",
      "sleeping for 15 minutes.\n"
     ]
    },
    {
     "name": "stdout",
     "output_type": "stream",
     "text": [
      "\n",
      "Returning --- 147 friends for ErinPaigeA\n",
      "Returning --- 855 friends for ErinSparksPhD\n",
      "Returning --- 235 friends for ErinSteuber\n",
      "Collected 5000 friends for ErinTRocchio\n",
      "Returning --- 10496 friends for ErinTRocchio\n",
      "Returning --- 4280 friends for ErinWFRV\n",
      "Returning --- 792 friends for Erin_M_Nelson\n",
      "Returning --- 250 friends for Erin_Sandberg\n",
      "Returning --- 92 friends for EriniKikilis\n",
      "Returning --- 147 friends for ErnestoMEscobar\n",
      "Returning --- 65 friends for Ernick101\n",
      "Returning --- 224 friends for ErnstSchreiner\n",
      "Returning --- 586 friends for ErynRogersTV\n",
      "Returning --- 86 friends for Escalera_IDPL"
     ]
    },
    {
     "name": "stderr",
     "output_type": "stream",
     "text": [
      "Got error: {\"errors\":[{\"message\":\"Rate limit exceeded\",\"code\":88}]} \n",
      "sleeping for 15 minutes.\n"
     ]
    },
    {
     "name": "stdout",
     "output_type": "stream",
     "text": [
      "\n",
      "Returning --- 388 friends for EscoDiana4800\n",
      "Returning --- 10 friends for Eselyo0\n",
      "Returning --- 1720 friends for EshaBajaj\n",
      "Returning --- 2001 friends for Esmuygrande\n",
      "Returning --- 2038 friends for Esoxgolf\n",
      "Returning --- 271 friends for Espngreeny\n",
      "Returning --- 472 friends for EspoCorp\n",
      "Returning --- 57 friends for EsqKenneth\n",
      "Returning --- 445 friends for EssaryAnnisa\n",
      "Returning --- 59 friends for EssayBootCamp\n",
      "Returning --- 506 friends for EssayBusters\n",
      "Returning --- 422 friends for EssayHelpCenter\n",
      "Returning --- 34 friends for EssayMatch\n",
      "Returning --- 148 friends for EsseeBird16\n",
      "Returning --- 1971 friends for EssentiaChicago"
     ]
    },
    {
     "name": "stderr",
     "output_type": "stream",
     "text": [
      "Got error: {\"errors\":[{\"message\":\"Rate limit exceeded\",\"code\":88}]} \n",
      "sleeping for 15 minutes.\n"
     ]
    },
    {
     "name": "stdout",
     "output_type": "stream",
     "text": [
      "\n",
      "Returning --- 1591 friends for EssexSieve\n",
      "Returning --- 136 friends for EstatePGChicago\n",
      "Returning --- 1509 friends for Estef_Paredes\n",
      "Returning --- 150 friends for EstelaR02065055\n",
      "Returning --- 2648 friends for EstelleLeonard\n",
      "Returning --- 30 friends for EstherSu7\n",
      "Returning --- 1725 friends for EstrelaConsult\n",
      "Returning --- 512 friends for EtaSgrho\n",
      "Returning --- 1958 friends for EternalSage66\n",
      "Returning --- 225 friends for Eternova\n",
      "Returning --- 613 friends for EthanWhyMe\n",
      "Returning --- 1203 friends for EtiquetteWise\n",
      "Returning --- 64 friends for EtownPonytail"
     ]
    },
    {
     "name": "stderr",
     "output_type": "stream",
     "text": [
      "Got error: {\"errors\":[{\"message\":\"Rate limit exceeded\",\"code\":88}]} \n",
      "sleeping for 15 minutes.\n"
     ]
    },
    {
     "name": "stdout",
     "output_type": "stream",
     "text": [
      "\n",
      "Returning --- 61 friends for EugenieChao\n",
      "Returning --- 397 friends for EugenijaNemeth\n",
      "Returning --- 81 friends for Eunbie1016\n",
      "Returning --- 66 friends for EuphoniaXu\n",
      "Returning --- 693 friends for EurekaGreece\n",
      "Returning --- 268 friends for EurekaReview\n",
      "Returning --- 1263 friends for Eurospan_Pol\n",
      "Returning --- 136 friends for EvPTACouncil\n",
      "Returning --- 71 friends for EvRoundTable\n",
      "Returning --- 40 friends for EvaByerley\n",
      "Returning --- 12 friends for EvaCasamento\n",
      "Returning --- 212 friends for EvaReckhardFS"
     ]
    },
    {
     "name": "stderr",
     "output_type": "stream",
     "text": [
      "Got error: {\"errors\":[{\"message\":\"Rate limit exceeded\",\"code\":88}]} \n",
      "sleeping for 15 minutes.\n"
     ]
    },
    {
     "name": "stdout",
     "output_type": "stream",
     "text": [
      "\n",
      "Returning --- 59 friends for EvaRichardson2\n",
      "Returning --- 719 friends for EvaRyanFlute\n",
      "Returning --- 186 friends for Evamgp85\n",
      "Returning --- 79 friends for EvanBillups\n",
      "Returning --- 763 friends for EvanPeller\n",
      "Returning --- 579 friends for EvanProse\n",
      "Returning --- 21 friends for EvanRosati\n",
      "Returning --- 278 friends for EvanWeller2\n",
      "Returning --- 76 friends for Evander2424\n",
      "Returning --- 411 friends for EvansConnie\n",
      "Returning --- 896 friends for EvansKabul\n",
      "Returning --- 221 friends for Evanston150\n",
      "Returning --- 39 friends for Evanston1st\n",
      "Returning --- 63 friends for Evanston311"
     ]
    },
    {
     "name": "stderr",
     "output_type": "stream",
     "text": [
      "Got error: {\"errors\":[{\"message\":\"Rate limit exceeded\",\"code\":88}]} \n",
      "sleeping for 15 minutes.\n"
     ]
    },
    {
     "name": "stdout",
     "output_type": "stream",
     "text": [
      "\n",
      "Returning --- 39 friends for Evanston4ofJuly\n",
      "Returning --- 598 friends for EvanstonBible\n",
      "Returning --- 64 friends for EvanstonBonnie\n",
      "Returning --- 157 friends for EvanstonC2C\n",
      "Returning --- 950 friends for EvanstonChamber\n",
      "Returning --- 207 friends for EvanstonCo\n",
      "Returning --- 187 friends for EvanstonDaily\n",
      "Returning --- 61 friends for EvanstonDental1\n",
      "Returning --- 88 friends for EvanstonESCCA\n",
      "Returning --- 42 friends for EvanstonEats\n",
      "Returning --- 601 friends for EvanstonEdge\n",
      "Returning --- 580 friends for EvanstonEnvAssn\n",
      "Returning --- 71 friends for EvanstonEspanol\n",
      "Returning --- 51 friends for EvanstonFD\n",
      "Returning --- 160 friends for EvanstonFloat"
     ]
    },
    {
     "name": "stderr",
     "output_type": "stream",
     "text": [
      "Got error: {\"errors\":[{\"message\":\"Rate limit exceeded\",\"code\":88}]} \n",
      "sleeping for 15 minutes.\n"
     ]
    },
    {
     "name": "stdout",
     "output_type": "stream",
     "text": [
      "\n",
      "Returning --- 399 friends for EvanstonForever\n",
      "Returning --- 214 friends for EvanstonHost\n",
      "Returning --- 276 friends for EvanstonHouses\n",
      "Returning --- 205 friends for EvanstonLit\n",
      "Returning --- 2061 friends for EvanstonLive\n",
      "Returning --- 396 friends for EvanstonMade\n",
      "Returning --- 303 friends for EvanstonMag\n",
      "Returning --- 500 friends for EvanstonMashUp\n",
      "Returning --- 23 friends for EvanstonMayor\n",
      "Returning --- 342 friends for EvanstonNAACPYC\n",
      "Returning --- 23 friends for EvanstonNails1\n",
      "Returning --- 79 friends for EvanstonNow\n",
      "Returning --- 135 friends for EvanstonNursing\n",
      "Returning --- 143 friends for EvanstonOffCamp\n",
      "Returning --- 59 friends for EvanstonOnline"
     ]
    },
    {
     "name": "stderr",
     "output_type": "stream",
     "text": [
      "Got error: {\"errors\":[{\"message\":\"Rate limit exceeded\",\"code\":88}]} \n",
      "sleeping for 15 minutes.\n"
     ]
    },
    {
     "name": "stdout",
     "output_type": "stream",
     "text": [
      "\n",
      "Returning --- 63 friends for EvanstonPFF\n",
      "Returning --- 1323 friends for EvanstonPatch\n",
      "Returning --- 24 friends for EvanstonPlace\n",
      "Returning --- 87 friends for EvanstonRealtor\n",
      "Returning --- 157 friends for EvanstonRebuild\n",
      "Returning --- 22 friends for EvanstonRental\n",
      "Returning --- 105 friends for EvanstonRotary\n",
      "Returning --- 703 friends for EvanstonSAPC\n",
      "Returning --- 29 friends for EvanstonSR\n",
      "Returning --- 221 friends for EvanstonSparky\n",
      "Returning --- 92 friends for EvanstonSubaru\n",
      "Returning --- 52 friends for EvanstonTweets\n",
      "Returning --- 451 friends for EvanstonWVBiz\n",
      "Returning --- 10 friends for Evanston_Online\n",
      "Returning --- 468 friends for Evanston_Review"
     ]
    },
    {
     "name": "stderr",
     "output_type": "stream",
     "text": [
      "Got error: {\"errors\":[{\"message\":\"Rate limit exceeded\",\"code\":88}]} \n",
      "sleeping for 15 minutes.\n"
     ]
    },
    {
     "name": "stdout",
     "output_type": "stream",
     "text": [
      "\n",
      "Returning --- 230 friends for Evanstonian29\n",
      "Returning --- 617 friends for EveBrown67\n",
      "Returning --- 100 friends for EvelynMa1996\n",
      "Returning --- 359 friends for EvelynMagellan\n",
      "Returning --- 511 friends for Events4Chicago\n",
      "Returning --- 1864 friends for EventsByOBP\n",
      "Returning --- 162 friends for Events_NU\n",
      "Returning --- 476 friends for EventsdotOrg\n",
      "Returning --- 394 friends for EverestBurger\n",
      "Returning --- 2003 friends for EverettBracken\n",
      "Returning --- 646 friends for EvergreenPatch\n",
      "Returning --- 1999 friends for EversightIL\n",
      "Returning --- 432 friends for EvilIntentionsH\n",
      "Returning --- 647 friends for EvnstnFamilies\n",
      "Returning --- 371 friends for EvyeniaC"
     ]
    },
    {
     "name": "stderr",
     "output_type": "stream",
     "text": [
      "Got error: {\"errors\":[{\"message\":\"Rate limit exceeded\",\"code\":88}]} \n",
      "sleeping for 15 minutes.\n"
     ]
    },
    {
     "name": "stdout",
     "output_type": "stream",
     "text": [
      "\n",
      "Returning --- 2251 friends for ExAw_Community\n",
      "Returning --- 824 friends for ExcelAcademyCS\n",
      "Returning --- 268 friends for ExcitingChicago\n",
      "Returning --- 69 friends for ExecTailgating\n",
      "Returning --- 34 friends for Execareerscom\n",
      "Returning --- 516 friends for Exmod911\n",
      "Returning --- 27 friends for ExpTraker\n",
      "Returning --- 153 friends for Exp_iomegat\n",
      "Returning --- 212 friends for ExpectationsMET\n",
      "Returning --- 803 friends for ExpertonTime\n",
      "Returning --- 91 friends for ExploreCJ\n",
      "Returning --- 1956 friends for ExploreChi\n",
      "Returning --- 1272 friends for ExploreMediaCo\n",
      "Returning --- 781 friends for ExploreResearch\n",
      "Returning --- 978 friends for ExpoUni"
     ]
    },
    {
     "name": "stderr",
     "output_type": "stream",
     "text": [
      "Got error: {\"errors\":[{\"message\":\"Rate limit exceeded\",\"code\":88}]} \n",
      "sleeping for 15 minutes.\n"
     ]
    },
    {
     "name": "stdout",
     "output_type": "stream",
     "text": [
      "\n",
      "Returning --- 110 friends for ExtremeNU\n",
      "Returning --- 778 friends for EyeDeal_Optical\n",
      "Returning --- 989 friends for EyesonWhitney\n",
      "Returning --- 25 friends for EytanPinto\n",
      "Returning --- 402 friends for EyvazSadiq\n",
      "Returning --- 7 friends for Ez22Pilar\n",
      "Returning --- 176 friends for EzeSoft_Careers\n",
      "Returning --- 514 friends for EzzedinQFIS\n",
      "Returning --- 129 friends for Ezzy40\n",
      "Returning --- 635 friends for EzzyyJellyy\n",
      "Returning --- 368 friends for F32550077\n",
      "Returning --- 90 friends for F4Mroyo\n",
      "Returning --- 364 friends for FACCChicago\n",
      "Returning --- 72 friends for FAHADALAYAF"
     ]
    },
    {
     "name": "stderr",
     "output_type": "stream",
     "text": [
      "Got error: {\"errors\":[{\"message\":\"Rate limit exceeded\",\"code\":88}]} \n",
      "sleeping for 15 minutes.\n"
     ]
    },
    {
     "name": "stdout",
     "output_type": "stream",
     "text": [
      "\n",
      "Returning --- 472 friends for FCA_NACareers\n",
      "Returning --- 237 friends for FCBHealth\n",
      "Returning --- 725 friends for FCEF\n",
      "Returning --- 18 friends for FCMMennella\n",
      "Returning --- 34 friends for FChaoran\n",
      "Returning --- 1932 friends for FCierpial\n",
      "Returning --- 87 friends for FDReynolds\n",
      "Returning --- 110 friends for FEAdvising\n",
      "Returning --- 275 friends for FE_Cuadra\n",
      "Returning --- 294 friends for FFRotoExpert\n",
      "Returning --- 1922 friends for FF_Marketing\n",
      "Returning --- 1420 friends for FGeologia\n",
      "Returning --- 235 friends for FHEG_Careers"
     ]
    },
    {
     "name": "stderr",
     "output_type": "stream",
     "text": [
      "Got error: {\"errors\":[{\"message\":\"Rate limit exceeded\",\"code\":88}]} \n",
      "sleeping for 15 minutes.\n"
     ]
    },
    {
     "name": "stdout",
     "output_type": "stream",
     "text": [
      "\n",
      "Returning --- 795 friends for FIAAmericas\n",
      "Returning --- 705 friends for FIDM_Careers\n",
      "Returning --- 173 friends for FIONA_23_15_\n",
      "Returning --- 1966 friends for FIRENU\n",
      "Returning --- 129 friends for FIRST5125\n",
      "Returning --- 166 friends for FIYR\n",
      "Returning --- 123 friends for FLOC_Scholars\n",
      "Returning --- 136 friends for FMO_NU\n",
      "Returning --- 52 friends for FMaryam_1\n",
      "Returning --- 296 friends for FNBCBT\n",
      "Returning --- 53 friends for FNaenaw\n",
      "Returning --- 253 friends for FOAPTA\n",
      "Returning --- 69 friends for FOL_CHEN"
     ]
    },
    {
     "name": "stderr",
     "output_type": "stream",
     "text": [
      "Got error: {\"errors\":[{\"message\":\"Rate limit exceeded\",\"code\":88}]} \n",
      "sleeping for 15 minutes.\n"
     ]
    },
    {
     "name": "stdout",
     "output_type": "stream",
     "text": [
      "\n",
      "Returning --- 398 friends for FORSSE4Safety\n",
      "Returning --- 235 friends for FOR_Chicago\n",
      "Returning --- 228 friends for FOUNDERorg\n",
      "Returning --- 704 friends for FOXSportsU\n",
      "Returning --- 1271 friends for FP7Decathlon\n",
      "Returning --- 491 friends for FPatents\n",
      "Returning --- 110 friends for FRANK812TANK\n",
      "Returning --- 119 friends for FREDERICGOUX\n",
      "Returning --- 1947 friends for FREECAPS\n",
      "Returning --- 362 friends for FRMagdalene\n",
      "Returning --- 189 friends for FSM_Flipside\n",
      "Returning --- 66 friends for FTMarvel\n",
      "Returning --- 191 friends for FT_14093066257\n",
      "Returning --- 616 friends for FUMCStCharles"
     ]
    },
    {
     "name": "stderr",
     "output_type": "stream",
     "text": [
      "Got error: {\"errors\":[{\"message\":\"Rate limit exceeded\",\"code\":88}]} \n",
      "sleeping for 15 minutes.\n"
     ]
    },
    {
     "name": "stdout",
     "output_type": "stream",
     "text": [
      "\n",
      "Returning --- 59 friends for FUP2013\n",
      "Returning --- 299 friends for FUSIONDANCECONU\n",
      "Returning --- 310 friends for FWABaruch\n",
      "Returning --- 1217 friends for FWANY\n",
      "Returning --- 135 friends for FWDTheatre\n",
      "Returning --- 1703 friends for FWeatherCruises\n",
      "Returning --- 176 friends for FYevanston\n",
      "Returning --- 23 friends for FZXavier\n",
      "Returning --- 72 friends for F_Batts14\n",
      "Returning --- 1020 friends for FaKalman\n",
      "Returning --- 27 friends for FaasRio\n",
      "Returning --- 74 friends for FaberBro"
     ]
    },
    {
     "name": "stderr",
     "output_type": "stream",
     "text": [
      "Got error: {\"errors\":[{\"message\":\"Rate limit exceeded\",\"code\":88}]} \n",
      "sleeping for 15 minutes.\n"
     ]
    },
    {
     "name": "stdout",
     "output_type": "stream",
     "text": [
      "\n",
      "Returning --- 1169 friends for Fabian_Elliott\n",
      "Returning --- 748 friends for Fabio77323\n",
      "Returning --- 152 friends for Fabio_Faria_80\n",
      "Returning --- 630 friends for FableTheMusical\n",
      "Returning --- 119 friends for FabreMiller\n",
      "Returning --- 562 friends for Fabretto\n",
      "Returning --- 598 friends for FabrizioNewYork\n",
      "Returning --- 1728 friends for FabrizioVallero\n",
      "Returning --- 1438 friends for Fabryyalegre\n",
      "Returning --- 18 friends for FaceMyCareer\n",
      "Returning --- 402 friends for Facebook130Ali\n",
      "Returning --- 60 friends for FacesofEvanston\n",
      "Returning --- 55 friends for FacultyToday\n",
      "Returning --- 62 friends for Fadi_kamal84"
     ]
    },
    {
     "name": "stderr",
     "output_type": "stream",
     "text": [
      "Got error: {\"errors\":[{\"message\":\"Rate limit exceeded\",\"code\":88}]} \n",
      "sleeping for 15 minutes.\n"
     ]
    },
    {
     "name": "stdout",
     "output_type": "stream",
     "text": [
      "\n",
      "Returning --- 9 friends for FahadPothiawala\n",
      "Returning --- 1765 friends for FairTees\n",
      "Returning --- 571 friends for FairfieldCPC\n",
      "Returning --- 858 friends for FairwayInnovate\n",
      "Returning --- 399 friends for FaithESnyder\n",
      "Returning --- 239 friends for FaizHaiderKhan1\n",
      "Returning --- 166 friends for FakeEvanWatkins\n",
      "Returning --- 88 friends for FakeMeganDunham\n",
      "Returning --- 128 friends for FakeMorty\n",
      "Returning --- 151 friends for FakePrezBreuder\n",
      "Returning --- 500 friends for FakeRehberg\n",
      "Returning --- 219 friends for FalconBoxingGym\n",
      "Returning --- 77 friends for FallenGrowl\n",
      "Returning --- 122 friends for FalliFalli"
     ]
    },
    {
     "name": "stderr",
     "output_type": "stream",
     "text": [
      "Got error: {\"errors\":[{\"message\":\"Rate limit exceeded\",\"code\":88}]} \n",
      "sleeping for 15 minutes.\n"
     ]
    },
    {
     "name": "stdout",
     "output_type": "stream",
     "text": [
      "\n",
      "Returning --- 1751 friends for Family_IQ\n",
      "Returning --- 12 friends for Family_Property\n",
      "Returning --- 790 friends for FanInABox\n",
      "Returning --- 526 friends for FanMap\n",
      "Returning --- 467 friends for FanafyApp\n",
      "Returning --- 187 friends for Fanastasia1\n",
      "Returning --- 54 friends for FangYuTseng\n",
      "Returning --- 975 friends for FangirlCupKait\n",
      "Returning --- 271 friends for Fantasiex3\n",
      "Returning --- 1483 friends for FantasyCostumes\n",
      "Returning --- 164 friends for Fanvious\n",
      "Returning --- 99 friends for FaraCommercial\n",
      "Returning --- 1058 friends for FaranF_FOX28"
     ]
    },
    {
     "name": "stderr",
     "output_type": "stream",
     "text": [
      "Got error: {\"errors\":[{\"message\":\"Rate limit exceeded\",\"code\":88}]} \n",
      "sleeping for 15 minutes.\n"
     ]
    },
    {
     "name": "stdout",
     "output_type": "stream",
     "text": [
      "\n",
      "Returning --- 554 friends for FarleyCenterNU\n",
      "Returning --- 1255 friends for FarleyWS\n",
      "Returning --- 1991 friends for FarmFreshChi\n",
      "Returning --- 1283 friends for FashCareerWeek\n",
      "Returning --- 563 friends for Fashin_Princess\n",
      "Returning --- 361 friends for Fashionhog101\n",
      "Returning --- 452 friends for FastPennyCars\n",
      "Returning --- 170 friends for FatEricStef\n",
      "Returning --- 97 friends for Fatcurt\n",
      "Returning --- 19 friends for FatemaAbdulla10\n",
      "Returning --- 1934 friends for Fatemeh_Heidari\n",
      "Returning --- 118 friends for FatimaEmami\n",
      "Returning --- 844 friends for Fatimah_Aure\n",
      "Returning --- 487 friends for FatmaAlNasr"
     ]
    },
    {
     "name": "stderr",
     "output_type": "stream",
     "text": [
      "Got error: {\"errors\":[{\"message\":\"Rate limit exceeded\",\"code\":88}]} \n",
      "sleeping for 15 minutes.\n"
     ]
    },
    {
     "name": "stdout",
     "output_type": "stream",
     "text": [
      "\n",
      "Returning --- 44 friends for FaulknerRachelA\n",
      "Returning --- 1317 friends for FaureMathieu1\n",
      "Returning --- 15 friends for FayeKaras\n",
      "Returning --- 651 friends for Fayebn1\n",
      "Returning --- 105 friends for FdosCamar\n",
      "Returning --- 140 friends for FdotKdot\n",
      "Returning --- 336 friends for Fed_Careers\n",
      "Returning --- 1939 friends for FedeWillo\n",
      "Returning --- 832 friends for FeedtoSucceed\n",
      "Returning --- 29 friends for FeelBetta2getha\n",
      "Returning --- 304 friends for FeldmanRoberta"
     ]
    },
    {
     "name": "stderr",
     "output_type": "stream",
     "text": [
      "Got error: {\"errors\":[{\"message\":\"Rate limit exceeded\",\"code\":88}]} \n",
      "sleeping for 15 minutes.\n"
     ]
    },
    {
     "name": "stdout",
     "output_type": "stream",
     "text": [
      "\n",
      "Returning --- 110 friends for Felicia26723307\n",
      "Returning --- 1185 friends for FelipeRomero_R\n",
      "Collected 5000 friends for FelixDexel\n",
      "Collected 15000 friends for FelixDexel\n",
      "Collected 30000 friends for FelixDexel\n",
      "Found more than 50,000 friends. Returning error code = -3\n",
      "Returning --- 23 friends for Felix_Luck\n",
      "Returning --- 816 friends for FemReligion\n",
      "Returning --- 1487 friends for FemTheologian\n",
      "Returning --- 76 friends for Feng_Tian1992\n",
      "Returning --- 888 friends for FenitN\n",
      "Returning --- 424 friends for FenwayXperience\n",
      "Returning --- 879 friends for FenwickAD\n",
      "Returning --- 1069 friends for FerGoBri\n",
      "Returning --- 2416 friends for FerVal100"
     ]
    },
    {
     "name": "stderr",
     "output_type": "stream",
     "text": [
      "Got error: {\"errors\":[{\"message\":\"Rate limit exceeded\",\"code\":88}]} \n",
      "sleeping for 15 minutes.\n"
     ]
    },
    {
     "name": "stdout",
     "output_type": "stream",
     "text": [
      "\n",
      "Returning --- 1967 friends for FermsRodriguez\n",
      "Returning --- 574 friends for FernandaSrz\n",
      "Returning --- 87 friends for FernandoCela2\n",
      "Returning --- 344 friends for FernieRivera25\n",
      "Returning --- 912 friends for Fernmobile\n",
      "Returning --- 1991 friends for FerrisStateCAC\n",
      "Returning --- 1301 friends for FertaMax\n",
      "Returning --- 561 friends for FestOfTreesChi\n",
      "Returning --- 303 friends for FhadBinMohmmed\n",
      "Returning --- 85 friends for FictionOneForty\n",
      "Returning --- 405 friends for Fiddleboy95\n",
      "Returning --- 733 friends for FidelityJobs"
     ]
    },
    {
     "name": "stderr",
     "output_type": "stream",
     "text": [
      "Got error: {\"errors\":[{\"message\":\"Rate limit exceeded\",\"code\":88}]} \n",
      "sleeping for 15 minutes.\n"
     ]
    },
    {
     "name": "stdout",
     "output_type": "stream",
     "text": [
      "\n",
      "Returning --- 29 friends for FidessaJobsNA\n",
      "Returning --- 1841 friends for FidysM16\n",
      "Returning --- 83 friends for Fight4ECcures\n",
      "Returning --- 3563 friends for FightCRC\n",
      "Returning --- 1218 friends for FightSMA\n",
      "Returning --- 1360 friends for Fighton11\n",
      "Returning --- 1912 friends for FilakouridouIre\n",
      "Returning --- 632 friends for FilamentThreads\n",
      "Returning --- 671 friends for FiliRivera4\n",
      "Returning --- 152 friends for FilipovicIvan03\n",
      "Returning --- 669 friends for Filmschoolfest\n",
      "Returning --- 1168 friends for FilomenaStern_x\n",
      "Returning --- 1372 friends for FinLaura\n",
      "Returning --- 1816 friends for FinalExpense01"
     ]
    },
    {
     "name": "stderr",
     "output_type": "stream",
     "text": [
      "Got error: {\"errors\":[{\"message\":\"Rate limit exceeded\",\"code\":88}]} \n",
      "sleeping for 15 minutes.\n"
     ]
    },
    {
     "name": "stdout",
     "output_type": "stream",
     "text": [
      "\n",
      "Returning --- 265 friends for Financial_Obser\n",
      "Returning --- 82 friends for FinantTom\n",
      "Returning --- 339 friends for FindChen\n",
      "Returning --- 1779 friends for FindFranchisePA\n",
      "Returning --- 330 friends for FindInternships\n",
      "Returning --- 278 friends for FindLars\n",
      "Returning --- 4807 friends for FindPromotions\n",
      "Returning --- 343 friends for Find_Storage\n",
      "Returning --- 271 friends for Finding_Reemo\n",
      "Returning --- 23 friends for FindogTheGreat\n",
      "Returning --- 366 friends for Fiona_Nyland\n",
      "Returning --- 1297 friends for FirasAjeel1\n",
      "Returning --- 39 friends for FireJimPhillips\n",
      "Returning --- 375 friends for FirehousePete"
     ]
    },
    {
     "name": "stderr",
     "output_type": "stream",
     "text": [
      "Got error: {\"errors\":[{\"message\":\"Rate limit exceeded\",\"code\":88}]} \n",
      "sleeping for 15 minutes.\n"
     ]
    },
    {
     "name": "stdout",
     "output_type": "stream",
     "text": [
      "\n",
      "Collected 5000 friends for FirstClassKSA\n",
      "Returning --- 14197 friends for FirstClassKSA\n",
      "Returning --- 813 friends for FirstDefense606\n",
      "Returning --- 1031 friends for FirstGenCollege\n",
      "Returning --- 1866 friends for FirstJobsInst\n",
      "Returning --- 1126 friends for FirstNightEV\n",
      "Returning --- 228 friends for FirstSegment\n",
      "Returning --- 539 friends for First_Mortgage\n",
      "Returning --- 960 friends for FirstandBigTen\n",
      "Returning --- 275 friends for FishbowlApp\n",
      "Returning --- 191 friends for FishersGuidance\n",
      "Returning --- 109 friends for Fit_Spiration_\n",
      "Collected 5000 friends for FitnessLaura\n",
      "Returning --- 11860 friends for FitnessLaura\n",
      "Returning --- 1460 friends for FitwithFR"
     ]
    },
    {
     "name": "stderr",
     "output_type": "stream",
     "text": [
      "Got error: {\"errors\":[{\"message\":\"Rate limit exceeded\",\"code\":88}]} \n",
      "sleeping for 15 minutes.\n"
     ]
    },
    {
     "name": "stdout",
     "output_type": "stream",
     "text": [
      "\n",
      "Returning --- 255 friends for FitzAtlanta\n",
      "Returning --- 17 friends for FitzrmnJacque\n",
      "Returning --- 230 friends for Fiumanismo\n",
      "Returning --- 1084 friends for FiveSeasonsNB\n",
      "Returning --- 314 friends for FixMyOwie\n",
      "Returning --- 12 friends for Fix_It_App\n",
      "Returning --- 41 friends for Fjytw1\n",
      "Returning --- 103 friends for FlahertyMary\n",
      "Returning --- 1136 friends for FlaneurModern\n",
      "Returning --- 368 friends for Flaneur_B\n",
      "Returning --- 78 friends for Flappest\n",
      "Returning --- 407 friends for FlashMeNews\n",
      "Returning --- 81 friends for Flashrunner0\n",
      "Returning --- 1976 friends for FlatoutbreadChi\n",
      "Returning --- 89 friends for FlavinTim"
     ]
    },
    {
     "name": "stderr",
     "output_type": "stream",
     "text": [
      "Got error: {\"errors\":[{\"message\":\"Rate limit exceeded\",\"code\":88}]} \n",
      "sleeping for 15 minutes.\n"
     ]
    },
    {
     "name": "stdout",
     "output_type": "stream",
     "text": [
      "\n",
      "Returning --- 1005 friends for Flavio_Lang\n",
      "Returning --- 556 friends for Fleetmatics_HR\n",
      "Returning --- 136 friends for Fletchula\n",
      "Returning --- 764 friends for Flinkey\n",
      "Returning --- 281 friends for FlintFlossy\n",
      "Returning --- 1925 friends for FlipFoto\n",
      "Returning --- 114 friends for FlorenceMKelley\n",
      "Returning --- 11 friends for Florencezx\n",
      "Collected 5000 friends for Florez_vanessa\n",
      "Collected 15000 friends for Florez_vanessa\n",
      "Collected 30000 friends for Florez_vanessa\n",
      "Found more than 50,000 friends. Returning error code = -3\n",
      "Returning --- 194 friends for FloriTsipenyuk"
     ]
    },
    {
     "name": "stderr",
     "output_type": "stream",
     "text": [
      "Got error: {\"errors\":[{\"message\":\"Rate limit exceeded\",\"code\":88}]} \n",
      "sleeping for 15 minutes.\n"
     ]
    },
    {
     "name": "stdout",
     "output_type": "stream",
     "text": [
      "\n",
      "Returning --- 326 friends for FloridaLockers\n",
      "Returning --- 47 friends for FloridaQUEENB\n",
      "Returning --- 330 friends for FlorinNeidoni\n",
      "Returning --- 1 friends for FlorrieLiu\n",
      "Returning --- 112 friends for Flotimaswords\n",
      "Returning --- 1669 friends for FlowersAlison\n",
      "Returning --- 919 friends for FlowofPresence\n",
      "Returning --- 86 friends for Flowowy\n",
      "Returning --- 700 friends for FloydInTheFlesh\n",
      "Returning --- 189 friends for FluffyCordan\n",
      "Returning --- 1013 friends for Flyguyshxxt\n",
      "Collected 5000 friends for Flying_Carpet_\n",
      "Collected 15000 friends for Flying_Carpet_\n",
      "Collected 30000 friends for Flying_Carpet_"
     ]
    },
    {
     "name": "stderr",
     "output_type": "stream",
     "text": [
      "Got error: {\"errors\":[{\"message\":\"Rate limit exceeded\",\"code\":88}]} \n",
      "sleeping for 15 minutes.\n"
     ]
    },
    {
     "name": "stdout",
     "output_type": "stream",
     "text": [
      "\n",
      "Found more than 50,000 friends. Returning error code = -3\n",
      "Returning --- 1117 friends for FlywireCo\n",
      "Returning --- 1191 friends for Fmaros\n",
      "Returning --- 43 friends for FoF_Lovely\n",
      "Returning --- 92 friends for FocusCareerFair\n",
      "Returning --- 132 friends for FoleyDi\n",
      "Returning --- 850 friends for FollowStevens\n",
      "Returning --- 303 friends for Fondle_A_Dude\n",
      "Returning --- 1725 friends for FonsoWhite1\n",
      "Returning --- 999 friends for FoodDayCHI\n",
      "Returning --- 738 friends for FoodRevMund\n",
      "Returning --- 1894 friends for Footballhobby\n",
      "Returning --- 208 friends for ForAlMighty\n",
      "Returning --- 51 friends for Forbes_Medill"
     ]
    },
    {
     "name": "stderr",
     "output_type": "stream",
     "text": [
      "Got error: {\"errors\":[{\"message\":\"Rate limit exceeded\",\"code\":88}]} \n",
      "sleeping for 15 minutes.\n"
     ]
    },
    {
     "name": "stdout",
     "output_type": "stream",
     "text": [
      "\n",
      "Returning --- 1107 friends for ForceNoire\n",
      "Returning --- 879 friends for FordCareers\n",
      "Returning --- 212 friends for FordNU\n",
      "Returning --- 2073 friends for FordOConnell\n",
      "Returning --- 378 friends for FordesPharmacy\n",
      "Returning --- 684 friends for FordhamCareers\n",
      "Returning --- 13 friends for ForecastHealth\n",
      "Returning --- 1635 friends for ForefrontLib\n",
      "Collected 5000 friends for Foreman_Twin\n",
      "Returning --- 13787 friends for Foreman_Twin\n",
      "Returning --- 772 friends for ForeverKingLaw\n",
      "Collected 5000 friends for ForeverYogurt\n",
      "Collected 15000 friends for ForeverYogurt"
     ]
    },
    {
     "name": "stderr",
     "output_type": "stream",
     "text": [
      "Got error: {\"errors\":[{\"message\":\"Rate limit exceeded\",\"code\":88}]} \n",
      "sleeping for 15 minutes.\n"
     ]
    },
    {
     "name": "stdout",
     "output_type": "stream",
     "text": [
      "\n",
      "Collected 30000 friends for ForeverYogurt\n",
      "Found more than 50,000 friends. Returning error code = -3\n",
      "Collected 5000 friends for ForgottenChi\n",
      "Returning --- 12445 friends for ForgottenChi\n",
      "Returning --- 46 friends for FornaroLaw\n",
      "Returning --- 113 friends for FortPolkPAO\n",
      "Returning --- 476 friends for FosterDance\n",
      "Returning --- 295 friends for FosterWalker\n",
      "Returning --- 4280 friends for FosteringMC\n",
      "Returning --- 226 friends for Foundation_BBC\n",
      "Returning --- 4988 friends for FourKites\n",
      "Returning --- 1606 friends for Fowe\n",
      "Returning --- 1308 friends for Fox61Victory\n",
      "Returning --- 462 friends for FoxCollegeSport"
     ]
    },
    {
     "name": "stderr",
     "output_type": "stream",
     "text": [
      "Got error: {\"errors\":[{\"message\":\"Rate limit exceeded\",\"code\":88}]} \n",
      "sleeping for 15 minutes.\n"
     ]
    },
    {
     "name": "stdout",
     "output_type": "stream",
     "text": [
      "\n",
      "Returning --- 17 friends for FoxOfFortitude\n",
      "Returning --- 316 friends for FoxTitifoxx\n",
      "Returning --- 1614 friends for FoxcroftSchool\n",
      "Returning --- 148 friends for Foxservesitup\n",
      "Returning --- 26 friends for FraicheEvanston\n",
      "Returning --- 1342 friends for FranceinChicago\n",
      "Returning --- 11 friends for FrancesMFH\n",
      "Returning --- 236 friends for FrancesWillard\n",
      "Returning --- 151 friends for FrancieTurk\n",
      "Returning --- 883 friends for FrancineHuff\n",
      "Returning --- 152 friends for Francis34153513\n",
      "Returning --- 83 friends for FrancisFollicle\n",
      "Returning --- 298 friends for FrankAvino\n",
      "Returning --- 1828 friends for FrankBanacek"
     ]
    },
    {
     "name": "stderr",
     "output_type": "stream",
     "text": [
      "Got error: {\"errors\":[{\"message\":\"Rate limit exceeded\",\"code\":88}]} \n",
      "sleeping for 15 minutes.\n"
     ]
    },
    {
     "name": "stdout",
     "output_type": "stream",
     "text": [
      "\n",
      "Returning --- 95 friends for FrankFlorentine\n",
      "Collected 5000 friends for FrankGruber\n",
      "Returning --- 13723 friends for FrankGruber\n",
      "Returning --- 220 friends for FrankJPenedo\n",
      "Returning --- 38 friends for FrankLee9801\n",
      "Returning --- 160 friends for FrankMontana1\n",
      "Returning --- 19 friends for FrankWojcik\n",
      "Returning --- 1566 friends for Franklin_LisaR\n",
      "Returning --- 200 friends for FrankyFatale\n",
      "Returning --- 60 friends for FrannyKrieger\n",
      "Returning --- 885 friends for Fratkins15\n",
      "Returning --- 84 friends for FrazeeToday\n",
      "Returning --- 133 friends for FreakFolkLA"
     ]
    },
    {
     "name": "stderr",
     "output_type": "stream",
     "text": [
      "Got error: {\"errors\":[{\"message\":\"Rate limit exceeded\",\"code\":88}]} \n",
      "sleeping for 15 minutes.\n"
     ]
    },
    {
     "name": "stdout",
     "output_type": "stream",
     "text": [
      "\n",
      "Returning --- 1327 friends for FredAstaireWlby\n",
      "Returning --- 1744 friends for FredDeRossoneri\n",
      "Returning --- 1897 friends for FredKuhr\n",
      "Returning --- 1297 friends for FredLZT\n",
      "Returning --- 1677 friends for FredPac\n",
      "Returning --- 383 friends for FredRasio\n",
      "Returning --- 101 friends for FreddieMac7377\n",
      "Returning --- 334 friends for Freddy_Esquivel\n",
      "Returning --- 412 friends for FrederickJG\n",
      "Returning --- 175 friends for FrederickMoor20\n",
      "Returning --- 100 friends for FrederickTanne\n",
      "Returning --- 16 friends for FredsTom\n",
      "Returning --- 59 friends for FreeCVTemplates\n",
      "Returning --- 1853 friends for FreeGreenCan\n",
      "Collected 5000 friends for FreeInDetroit"
     ]
    },
    {
     "name": "stderr",
     "output_type": "stream",
     "text": [
      "Got error: {\"errors\":[{\"message\":\"Rate limit exceeded\",\"code\":88}]} \n",
      "sleeping for 15 minutes.\n"
     ]
    },
    {
     "name": "stdout",
     "output_type": "stream",
     "text": [
      "\n",
      "Collected 15000 friends for FreeInDetroit\n",
      "Collected 30000 friends for FreeInDetroit\n",
      "Found more than 50,000 friends. Returning error code = -3\n",
      "Returning --- 33 friends for FreeLiberman\n",
      "Returning --- 535 friends for FreeMgteBooks\n",
      "Returning --- 40 friends for FreeSYRIAnow201\n",
      "Returning --- 40 friends for FreeSoul429\n",
      "Returning --- 667 friends for Freebeazy\n",
      "Collected 5000 friends for FreelancerPros\n",
      "Collected 15000 friends for FreelancerPros\n",
      "Collected 30000 friends for FreelancerPros\n",
      "Found more than 50,000 friends. Returning error code = -3\n",
      "Returning --- 41 friends for FrenchJakob\n",
      "Returning --- 213 friends for Frenchie84\n",
      "Returning --- 2890 friends for FresHires"
     ]
    },
    {
     "name": "stderr",
     "output_type": "stream",
     "text": [
      "Got error: {\"errors\":[{\"message\":\"Rate limit exceeded\",\"code\":88}]} \n",
      "sleeping for 15 minutes.\n"
     ]
    },
    {
     "name": "stdout",
     "output_type": "stream",
     "text": [
      "\n",
      "Returning --- 2 friends for FreshSemMAT\n",
      "Returning --- 539 friends for FreshU_NU\n",
      "Returning --- 253 friends for FreshmanStudent\n",
      "Returning --- 538 friends for FresnoCrossing\n",
      "Returning --- 442 friends for FreyJAnn\n",
      "Returning --- 2000 friends for FridaBrownDR\n",
      "Returning --- 53 friends for Friends4LifeCC\n",
      "Returning --- 119 friends for FriendsDisappea\n",
      "Returning --- 156 friends for FriendsofThorp\n",
      "Returning --- 38 friends for FrigidJ\n",
      "Returning --- 954 friends for FristadenGrad\n",
      "Returning --- 49 friends for FrizzleFlugtag\n",
      "Returning --- 2062 friends for From_Nothing\n",
      "Returning --- 1466 friends for FrontDeskTalk"
     ]
    },
    {
     "name": "stderr",
     "output_type": "stream",
     "text": [
      "Got error: {\"errors\":[{\"message\":\"Rate limit exceeded\",\"code\":88}]} \n",
      "sleeping for 15 minutes.\n"
     ]
    },
    {
     "name": "stdout",
     "output_type": "stream",
     "text": [
      "\n",
      "Returning --- 45 friends for FrontDoorChi\n",
      "Returning --- 199 friends for FrontOfTheHerd\n",
      "Returning --- 1801 friends for FrontPageFirm\n",
      "Returning --- 422 friends for FronteraFoods\n",
      "Returning --- 16 friends for Froshy1\n",
      "Returning --- 264 friends for FrugalDivaAlert\n",
      "Returning --- 539 friends for FruityBloomsHow\n",
      "Returning --- 40 friends for FsjinJdsn\n",
      "Returning --- 2001 friends for Fuad6800\n",
      "Returning --- 40 friends for FuccBoi7795\n",
      "Returning --- 399 friends for FuelupNU\n",
      "Returning --- 310 friends for FulbrightCL\n",
      "Returning --- 483 friends for FulbrightIT\n",
      "Returning --- 1549 friends for FulbrightNL"
     ]
    },
    {
     "name": "stderr",
     "output_type": "stream",
     "text": [
      "Got error: {\"errors\":[{\"message\":\"Rate limit exceeded\",\"code\":88}]} \n",
      "sleeping for 15 minutes.\n"
     ]
    },
    {
     "name": "stdout",
     "output_type": "stream",
     "text": [
      "\n",
      "Returning --- 265 friends for FulbrightNZ\n",
      "Returning --- 133 friends for FulbrightPress\n",
      "Returning --- 791 friends for FulbrightPrgrm\n",
      "Returning --- 206 friends for FulbrightRO\n",
      "Returning --- 1319 friends for FulbrightSchlrs\n",
      "Returning --- 464 friends for Fulbright_AUT\n",
      "Returning --- 2665 friends for Fulbright_Eire\n",
      "Returning --- 99 friends for Full_Dice\n",
      "Returning --- 1701 friends for Fullbridge_Inc\n",
      "Returning --- 770 friends for FultonGrace\n",
      "Returning --- 1496 friends for Fulton_Leaders\n",
      "Returning --- 448 friends for FundacionAreces\n",
      "Returning --- 1985 friends for FundasMadeEasy\n",
      "Collected 5000 friends for Funkfeend"
     ]
    },
    {
     "name": "stderr",
     "output_type": "stream",
     "text": [
      "Got error: {\"errors\":[{\"message\":\"Rate limit exceeded\",\"code\":88}]} \n",
      "sleeping for 15 minutes.\n"
     ]
    },
    {
     "name": "stdout",
     "output_type": "stream",
     "text": [
      "\n",
      "Collected 15000 friends for Funkfeend\n",
      "Returning --- 26805 friends for Funkfeend\n",
      "Returning --- 106 friends for Funkytaco007\n",
      "Returning --- 478 friends for FunnelScience\n",
      "Returning --- 1394 friends for FunnelScientist\n",
      "Returning --- 203 friends for FunnyTunney\n",
      "Returning --- 172 friends for FunsoRichard\n",
      "Returning --- 40 friends for Furbawll\n",
      "Returning --- 104 friends for Fusion_etc\n",
      "Returning --- 672 friends for FuturUSA\n",
      "Returning --- 41 friends for FutureLawyerChi\n",
      "Returning --- 1213 friends for FutureScholars"
     ]
    },
    {
     "name": "stderr",
     "output_type": "stream",
     "text": [
      "Got error: {\"errors\":[{\"message\":\"Rate limit exceeded\",\"code\":88}]} \n",
      "sleeping for 15 minutes.\n"
     ]
    },
    {
     "name": "stdout",
     "output_type": "stream",
     "text": [
      "\n",
      "Returning --- 485 friends for Future_411\n",
      "Returning --- 344 friends for Future_Fab\n",
      "Returning --- 108 friends for Future_Sign_AG\n",
      "Returning --- 980 friends for FuturityNews\n",
      "Returning --- 724 friends for FuzzBusta\n",
      "Returning --- 194 friends for G00DxLUCKxCHUCK\n",
      "Returning --- 786 friends for GAP1org\n",
      "Returning --- 781 friends for GAPacificJobs\n",
      "Returning --- 2227 friends for GBCareShows\n",
      "Returning --- 487 friends for GBE_DUB\n",
      "Returning --- 141 friends for GBNCounselors\n",
      "Returning --- 852 friends for GBSAlumni\n",
      "Returning --- 647 friends for GBerlanti\n",
      "Returning --- 189 friends for GBurgCareers"
     ]
    },
    {
     "name": "stderr",
     "output_type": "stream",
     "text": [
      "Got error: {\"errors\":[{\"message\":\"Rate limit exceeded\",\"code\":88}]} \n",
      "sleeping for 15 minutes.\n"
     ]
    },
    {
     "name": "stdout",
     "output_type": "stream",
     "text": [
      "\n",
      "Returning --- 121 friends for GCAScholarships\n",
      "Returning --- 30 friends for GCEstudent_MFa\n",
      "Returning --- 1545 friends for GCFsocial\n",
      "Returning --- 357 friends for GCGNews\n",
      "Returning --- 748 friends for GCMHERC\n",
      "Returning --- 435 friends for GCarandang\n",
      "Returning --- 776 friends for GDMetzler\n",
      "Returning --- 121 friends for GDelHoyo\n",
      "Collected 5000 friends for GDforEmployers\n",
      "Collected 15000 friends for GDforEmployers\n",
      "Collected 30000 friends for GDforEmployers\n",
      "Found more than 50,000 friends. Returning error code = -3\n",
      "Returning --- 152 friends for GEARUPCentralHS"
     ]
    },
    {
     "name": "stderr",
     "output_type": "stream",
     "text": [
      "Got error: {\"errors\":[{\"message\":\"Rate limit exceeded\",\"code\":88}]} \n",
      "sleeping for 15 minutes.\n"
     ]
    },
    {
     "name": "stdout",
     "output_type": "stream",
     "text": [
      "\n",
      "Returning --- 77 friends for GEARUPClemente\n",
      "Returning --- 2448 friends for GECareers\n",
      "Returning --- 48 friends for GECareersNU\n",
      "Returning --- 705 friends for GEChicago\n",
      "Returning --- 610 friends for GEConnections\n",
      "Returning --- 384 friends for GEECLP\n",
      "Returning --- 808 friends for GEICOCampus\n",
      "Returning --- 1293 friends for GEICOCareers\n",
      "Returning --- 30 friends for GERMONT11\n",
      "Returning --- 17 friends for GETTTINMONEY\n",
      "Returning --- 18 friends for GETatHGU\n",
      "Returning --- 630 friends for GE_Foundation\n",
      "Returning --- 291 friends for GEresearchJobs\n",
      "Returning --- 1799 friends for GFUKIS18\n",
      "Returning --- 922 friends for GForceStaff"
     ]
    },
    {
     "name": "stderr",
     "output_type": "stream",
     "text": [
      "Got error: {\"errors\":[{\"message\":\"Rate limit exceeded\",\"code\":88}]} \n",
      "sleeping for 15 minutes.\n"
     ]
    },
    {
     "name": "stdout",
     "output_type": "stream",
     "text": [
      "\n",
      "Returning --- 436 friends for GGI_Punjab\n",
      "Returning --- 5 friends for GGSKuertenTimo\n",
      "Returning --- 369 friends for GGTCareer\n",
      "Returning --- 122 friends for GG_Gibbs\n",
      "Returning --- 497 friends for GGoulson\n",
      "Returning --- 1255 friends for GH_designs\n",
      "Returning --- 1998 friends for GHungMa\n",
      "Returning --- 2004 friends for GIANTIVY\n",
      "Returning --- 1985 friends for GIMMECLOTHING\n",
      "Returning --- 181 friends for GITUniversity\n",
      "Returning --- 63 friends for GJWofEvanston\n",
      "Returning --- 131 friends for GJervey"
     ]
    },
    {
     "name": "stderr",
     "output_type": "stream",
     "text": [
      "Got error: {\"errors\":[{\"message\":\"Rate limit exceeded\",\"code\":88}]} \n",
      "sleeping for 15 minutes.\n"
     ]
    },
    {
     "name": "stdout",
     "output_type": "stream",
     "text": [
      "\n",
      "Returning --- 258 friends for GLHancock\n",
      "Returning --- 14 friends for GLINorthwestern\n",
      "Returning --- 633 friends for GLLatCTD\n",
      "Returning --- 574 friends for GLS_community\n",
      "Returning --- 206 friends for GL_Cron\n",
      "Returning --- 77 friends for GMA_Search\n",
      "Returning --- 1355 friends for GMCareers\n",
      "Returning --- 355 friends for GMRibaudo\n",
      "Returning --- 133 friends for GMarkoulakis\n",
      "Returning --- 1492 friends for GMarschman\n",
      "Returning --- 53 friends for GMasterFluff\n",
      "Returning --- 96 friends for GMeyers4\n",
      "Returning --- 13 friends for GNUnivRelations"
     ]
    },
    {
     "name": "stderr",
     "output_type": "stream",
     "text": [
      "Got error: {\"errors\":[{\"message\":\"Rate limit exceeded\",\"code\":88}]} \n",
      "sleeping for 15 minutes.\n"
     ]
    },
    {
     "name": "stdout",
     "output_type": "stream",
     "text": [
      "\n",
      "Returning --- 139 friends for GOC_NYC\n",
      "Returning --- 174 friends for GOHARDMIXTAPE\n",
      "Returning --- 174 friends for GOLDLINEVCU\n",
      "Returning --- 1899 friends for GPOIsrael\n",
      "Returning --- 581 friends for GPStracktime\n",
      "Returning --- 1903 friends for GQ717\n",
      "Returning --- 402 friends for GQRGlobalMarket\n",
      "Returning --- 1739 friends for GRACEstrategy\n",
      "Returning --- 238 friends for GRADZPOWER\n",
      "Returning --- 180 friends for GRE4YOU\n",
      "Returning --- 42 friends for GREGVALLIERE\n",
      "Returning --- 51 friends for GRINDCAFE847\n",
      "Returning --- 1858 friends for GRK_Kitchen\n",
      "Returning --- 158 friends for GSCConsulting\n",
      "Returning --- 99 friends for GSCareerService"
     ]
    },
    {
     "name": "stderr",
     "output_type": "stream",
     "text": [
      "Got error: {\"errors\":[{\"message\":\"Rate limit exceeded\",\"code\":88}]} \n",
      "sleeping for 15 minutes.\n"
     ]
    },
    {
     "name": "stdout",
     "output_type": "stream",
     "text": [
      "\n",
      "Returning --- 38 friends for GSLDJFBAJKB\n",
      "Returning --- 273 friends for GSNGamesCareers\n",
      "Returning --- 349 friends for GSSMAlumni\n",
      "Returning --- 1337 friends for GTAGARRO\n",
      "Returning --- 23 friends for GTA_5_IDEAS\n",
      "Returning --- 469 friends for GTRACKTECH\n",
      "Returning --- 48 friends for GT_DELTA\n",
      "Returning --- 246 friends for GTowersCPVA\n",
      "Returning --- 283 friends for GUANTANAM3RA96\n",
      "Returning --- 222 friends for GUCareerCenter\n",
      "Returning --- 1944 friends for GUGovt\n",
      "Returning --- 668 friends for GURconnect\n",
      "Returning --- 1177 friends for GUberkleycenter\n",
      "Returning --- 1916 friends for GVHousebar"
     ]
    },
    {
     "name": "stderr",
     "output_type": "stream",
     "text": [
      "Got error: {\"errors\":[{\"message\":\"Rate limit exceeded\",\"code\":88}]} \n",
      "sleeping for 15 minutes.\n"
     ]
    },
    {
     "name": "stdout",
     "output_type": "stream",
     "text": [
      "\n",
      "Returning --- 179 friends for GVMlaw\n",
      "Returning --- 1835 friends for GVSUcareers\n",
      "Returning --- 1306 friends for GWIII\n",
      "Returning --- 218 friends for GWcollege\n",
      "Returning --- 812 friends for GYACINC\n",
      "Returning --- 886 friends for G_Rowe\n",
      "Returning --- 442 friends for G_Schneemann\n",
      "Returning --- 2136 friends for GaTechEngineers\n",
      "Returning --- 181 friends for GabbCatt\n",
      "Returning --- 228 friends for GabbieGlick\n",
      "Returning --- 1486 friends for Gabby_Gonzalez\n",
      "Returning --- 361 friends for GabiPRemz"
     ]
    },
    {
     "name": "stderr",
     "output_type": "stream",
     "text": [
      "Got error: {\"errors\":[{\"message\":\"Rate limit exceeded\",\"code\":88}]} \n",
      "sleeping for 15 minutes.\n"
     ]
    },
    {
     "name": "stdout",
     "output_type": "stream",
     "text": [
      "\n",
      "Returning --- 432 friends for GabrielAdler\n",
      "Returning --- 2002 friends for GabrielaEdMedia\n",
      "Returning --- 620 friends for GabrielxGao\n",
      "Returning --- 567 friends for GabyontheGo\n",
      "Returning --- 24 friends for GaelMunoz1\n",
      "Returning --- 86 friends for GailB1968\n",
      "Returning --- 1411 friends for GailSeno\n",
      "Returning --- 1031 friends for GainConfidence2\n",
      "Returning --- 233 friends for Gal_Deutsch\n",
      "Returning --- 16 friends for GalaPierce1\n",
      "Returning --- 260 friends for Galaxcion\n",
      "Returning --- 113 friends for GalianaVo\n",
      "Returning --- 1977 friends for Galie_Darwich\n",
      "Returning --- 941 friends for GallardoABC7"
     ]
    },
    {
     "name": "stderr",
     "output_type": "stream",
     "text": [
      "Got error: {\"errors\":[{\"message\":\"Rate limit exceeded\",\"code\":88}]} \n",
      "sleeping for 15 minutes.\n"
     ]
    },
    {
     "name": "stdout",
     "output_type": "stream",
     "text": [
      "\n",
      "Returning --- 468 friends for Galle12535941\n",
      "Returning --- 4488 friends for GallerArt\n",
      "Returning --- 204 friends for GalleriaEvanstn\n",
      "Returning --- 1495 friends for GalleryKH\n",
      "Returning --- 969 friends for GallupQueue\n",
      "Returning --- 27 friends for Gamartinez318\n",
      "Returning --- 1200 friends for GamePlanCoach1\n",
      "Returning --- 529 friends for Gameday_LIVE\n",
      "Returning --- 1022 friends for Gamersolve\n",
      "Returning --- 290 friends for Gametime316Jake\n",
      "Returning --- 79 friends for GaminoMisty\n",
      "Returning --- 1968 friends for GandSonsLiq\n",
      "Returning --- 254 friends for GandhiRonak4"
     ]
    },
    {
     "name": "stderr",
     "output_type": "stream",
     "text": [
      "Got error: {\"errors\":[{\"message\":\"Rate limit exceeded\",\"code\":88}]} \n",
      "sleeping for 15 minutes.\n"
     ]
    },
    {
     "name": "stdout",
     "output_type": "stream",
     "text": [
      "\n",
      "Returning --- 81 friends for GanesanKeerthi\n",
      "Returning --- 1901 friends for GanesqConsult\n",
      "Collected 5000 friends for GannonBolesxhy\n",
      "Collected 15000 friends for GannonBolesxhy\n",
      "Returning --- 26888 friends for GannonBolesxhy\n",
      "Returning --- 967 friends for GannonLosAngele\n",
      "Returning --- 19 friends for GaoLiesel\n",
      "Returning --- 207 friends for GarciaEric_J7\n",
      "Returning --- 146 friends for GardoNandi\n",
      "Returning --- 1537 friends for GariePeter\n",
      "Returning --- 1721 friends for GarinFlowers\n",
      "Returning --- 136 friends for GarkischLeo\n",
      "Returning --- 462 friends for GarlandCooper23\n",
      "Returning --- 432 friends for GarmentalU\n",
      "Returning --- 123 friends for Garra80"
     ]
    },
    {
     "name": "stderr",
     "output_type": "stream",
     "text": [
      "Got error: {\"errors\":[{\"message\":\"Rate limit exceeded\",\"code\":88}]} \n",
      "sleeping for 15 minutes.\n"
     ]
    },
    {
     "name": "stdout",
     "output_type": "stream",
     "text": [
      "\n",
      "Returning --- 676 friends for GarrettJochnau\n",
      "Collected 5000 friends for GarrettPopcorn\n",
      "Returning --- 11007 friends for GarrettPopcorn\n",
      "Returning --- 884 friends for GarrettSeminary\n",
      "Returning --- 1087 friends for Garrett_FoxNews\n",
      "Returning --- 294 friends for GarrisonWhite\n",
      "Returning --- 1759 friends for Gartner_Jobs\n",
      "Returning --- 122 friends for GaryBarkov\n",
      "Returning --- 277 friends for GaryGaspard1\n",
      "Returning --- 1963 friends for GaryLDudley\n",
      "Returning --- 925 friends for GaryNamm\n",
      "Returning --- 31 friends for GaryNoskin\n",
      "Returning --- 85 friends for GaryPluchino1"
     ]
    },
    {
     "name": "stderr",
     "output_type": "stream",
     "text": [
      "Got error: {\"errors\":[{\"message\":\"Rate limit exceeded\",\"code\":88}]} \n",
      "sleeping for 15 minutes.\n"
     ]
    },
    {
     "name": "stdout",
     "output_type": "stream",
     "text": [
      "\n",
      "Returning --- 219 friends for GaryRoss4\n",
      "Returning --- 673 friends for GarySongz\n",
      "Returning --- 14 friends for GaryWAdair\n",
      "Returning --- 728 friends for Gary_AA\n",
      "Returning --- 737 friends for GaryatHIMM\n",
      "Returning --- 62 friends for GatoMontes81\n",
      "Returning --- 16 friends for GauriBrown\n",
      "Returning --- 724 friends for Gavlaaa13_\n",
      "Returning --- 171 friends for GayleBRonan\n",
      "Returning --- 486 friends for Gazebos_1\n",
      "Returning --- 163 friends for Gazoo1231\n",
      "Returning --- 144 friends for GcRox1\n",
      "Returning --- 825 friends for Gcnikitas"
     ]
    },
    {
     "name": "stderr",
     "output_type": "stream",
     "text": [
      "Got error: {\"errors\":[{\"message\":\"Rate limit exceeded\",\"code\":88}]} \n",
      "sleeping for 15 minutes.\n"
     ]
    },
    {
     "name": "stdout",
     "output_type": "stream",
     "text": [
      "\n",
      "Returning --- 132 friends for Gee_jae\n",
      "Returning --- 7 friends for GeekyBeard\n",
      "Returning --- 9 friends for Geiger_Erich\n",
      "Returning --- 32 friends for GenKiEvanston\n",
      "Returning --- 1245 friends for GenMillsCareers\n",
      "Returning --- 843 friends for GenWino\n",
      "Returning --- 692 friends for Gen_Rosales\n",
      "Returning --- 1439 friends for GeneseeTheatre\n",
      "Returning --- 711 friends for Geneva4Justice\n",
      "Returning --- 448 friends for GenevaBIGAL\n",
      "Returning --- 2063 friends for Geneva_kaylee\n",
      "Returning --- 468 friends for GenevieveLill\n",
      "Returning --- 9 friends for GengHao2\n",
      "Returning --- 777 friends for GenomeChicago"
     ]
    },
    {
     "name": "stderr",
     "output_type": "stream",
     "text": [
      "Got error: {\"errors\":[{\"message\":\"Rate limit exceeded\",\"code\":88}]} \n",
      "sleeping for 15 minutes.\n"
     ]
    },
    {
     "name": "stdout",
     "output_type": "stream",
     "text": [
      "\n",
      "Collected 5000 friends for Gentile_Giant\n",
      "Collected 15000 friends for Gentile_Giant\n",
      "Collected 30000 friends for Gentile_Giant\n",
      "Found more than 50,000 friends. Returning error code = -3\n",
      "Returning --- 417 friends for Genusllc\n",
      "Returning --- 1493 friends for GeoEducators\n",
      "Returning --- 793 friends for GeoStructures95\n",
      "Returning --- 213 friends for GeoTalks_Clancy\n",
      "Returning --- 1000 friends for GeocompCorp\n",
      "Returning --- 19 friends for GeoffWoo\n",
      "Returning --- 8 friends for Geoffkarmstrong\n",
      "Returning --- 59 friends for GeoffreyHarlow"
     ]
    },
    {
     "name": "stderr",
     "output_type": "stream",
     "text": [
      "Got error: {\"errors\":[{\"message\":\"Rate limit exceeded\",\"code\":88}]} \n",
      "sleeping for 15 minutes.\n"
     ]
    },
    {
     "name": "stdout",
     "output_type": "stream",
     "text": [
      "\n",
      "Returning --- 91 friends for Georg_Hauer\n",
      "Returning --- 3695 friends for GeorgeAnders\n",
      "Returning --- 101 friends for GeorgeDavisSant\n",
      "Returning --- 37 friends for GeorgeFraley\n",
      "Returning --- 499 friends for GeorgeGiuliani\n",
      "Returning --- 224 friends for GeorgeHejna\n",
      "Returning --- 741 friends for GeorgeJon\n",
      "Returning --- 804 friends for GeorgeLepauw\n",
      "Returning --- 2125 friends for GeorgeScholz\n",
      "Returning --- 584 friends for GeorgeSchool\n",
      "Returning --- 41 friends for GeorgeSmitFake\n",
      "Returning --- 319 friends for GeorgesPowell\n",
      "Returning --- 2425 friends for Georgetown"
     ]
    },
    {
     "name": "stderr",
     "output_type": "stream",
     "text": [
      "Got error: {\"errors\":[{\"message\":\"Rate limit exceeded\",\"code\":88}]} \n",
      "sleeping for 15 minutes.\n"
     ]
    },
    {
     "name": "stdout",
     "output_type": "stream",
     "text": [
      "\n",
      "Returning --- 179 friends for GeorgetownSEO\n",
      "Returning --- 2429 friends for GeorgiaTech\n",
      "Returning --- 47 friends for GeracisWorld\n",
      "Returning --- 309 friends for GerardoA_7\n",
      "Returning --- 44 friends for GerdtKalterherb\n",
      "Returning --- 45 friends for GermanBet\n",
      "Returning --- 154 friends for GermanPajares\n",
      "Returning --- 830 friends for GermanPetersenC\n",
      "Collected 5000 friends for GetAdvertisJobs\n",
      "Returning --- 11398 friends for GetAdvertisJobs\n",
      "Returning --- 245 friends for GetAtApp\n",
      "Returning --- 1388 friends for GetBiologyJobs\n",
      "Returning --- 3158 friends for GetCollege"
     ]
    },
    {
     "name": "stderr",
     "output_type": "stream",
     "text": [
      "Got error: {\"errors\":[{\"message\":\"Rate limit exceeded\",\"code\":88}]} \n",
      "sleeping for 15 minutes.\n"
     ]
    },
    {
     "name": "stdout",
     "output_type": "stream",
     "text": [
      "\n",
      "Returning --- 761 friends for GetConservaJobs\n",
      "Returning --- 2427 friends for GetFilmJobs\n",
      "Returning --- 40 friends for GetJackal\n",
      "Returning --- 4999 friends for GetTeaszedByMe\n",
      "Returning --- 625 friends for GetUncubed\n",
      "Returning --- 2030 friends for GetUnderCovers\n",
      "Returning --- 564 friends for GetYourMBA\n",
      "Returning --- 371 friends for GetchaGern_On\n",
      "Returning --- 2005 friends for Ggarciart\n",
      "Returning --- 206 friends for GhassenBenGho\n",
      "Returning --- 35 friends for GhateRaj\n",
      "Returning --- 255 friends for GhiathAlm\n",
      "Returning --- 53 friends for GhostKeg\n",
      "Returning --- 1299 friends for GiGisBakeShop\n",
      "Returning --- 69 friends for GiacomoCanelli"
     ]
    },
    {
     "name": "stderr",
     "output_type": "stream",
     "text": [
      "Got error: {\"errors\":[{\"message\":\"Rate limit exceeded\",\"code\":88}]} \n",
      "sleeping for 15 minutes.\n"
     ]
    },
    {
     "name": "stdout",
     "output_type": "stream",
     "text": [
      "\n",
      "Returning --- 277 friends for GiannaTTorres\n",
      "Returning --- 1417 friends for Giannio_Tellez\n",
      "Returning --- 1684 friends for Giddensktp\n",
      "Returning --- 40 friends for Giftgoodluck2\n",
      "Returning --- 1435 friends for GiftofHope\n",
      "Returning --- 1151 friends for GiftofHopeEsp\n",
      "Returning --- 1462 friends for GigawattCo\n",
      "Returning --- 109 friends for GigiosPizzeria\n",
      "Returning --- 564 friends for GilFalso\n",
      "Returning --- 172 friends for GilbaneChicago\n",
      "Returning --- 539 friends for GildasClubCHI\n",
      "Returning --- 843 friends for GillianMcGheek\n",
      "Returning --- 496 friends for GilliganChris"
     ]
    },
    {
     "name": "stderr",
     "output_type": "stream",
     "text": [
      "Got error: {\"errors\":[{\"message\":\"Rate limit exceeded\",\"code\":88}]} \n",
      "sleeping for 15 minutes.\n"
     ]
    },
    {
     "name": "stdout",
     "output_type": "stream",
     "text": [
      "\n",
      "Returning --- 368 friends for GilmoreCareers\n",
      "Returning --- 44 friends for Gimbalintheweb\n",
      "Returning --- 57 friends for Gimenads\n",
      "Returning --- 560 friends for GinPNP\n",
      "Returning --- 801 friends for GinaAHarkins\n",
      "Returning --- 245 friends for GinaBloom\n",
      "Returning --- 286 friends for GinaCL7\n",
      "Returning --- 166 friends for GinaFielding\n",
      "Returning --- 473 friends for GinaInABottle19\n",
      "Returning --- 3 friends for GinaJohnston\n",
      "Returning --- 518 friends for GinaMDeaton\n",
      "Returning --- 498 friends for GinaMascera"
     ]
    },
    {
     "name": "stderr",
     "output_type": "stream",
     "text": [
      "Got error: {\"errors\":[{\"message\":\"Rate limit exceeded\",\"code\":88}]} \n",
      "sleeping for 15 minutes.\n"
     ]
    },
    {
     "name": "stdout",
     "output_type": "stream",
     "text": [
      "\n",
      "Returning --- 660 friends for GinaMorgano\n",
      "Returning --- 211 friends for GinaNolan57\n",
      "Returning --- 124 friends for GinaTGT\n",
      "Returning --- 70 friends for Ginger9595\n",
      "Returning --- 528 friends for GingerBranded\n",
      "Returning --- 46 friends for Ginny110384\n",
      "Returning --- 143 friends for GinoDextW\n",
      "Returning --- 148 friends for GintheQC\n",
      "Returning --- 264 friends for GioFoodTruck\n",
      "Returning --- 1975 friends for Gio_Spectrum\n",
      "Returning --- 728 friends for GiordanoMason\n",
      "Returning --- 4049 friends for GiordanosPizza\n",
      "Returning --- 1974 friends for GirlManMedia"
     ]
    },
    {
     "name": "stderr",
     "output_type": "stream",
     "text": [
      "Got error: {\"errors\":[{\"message\":\"Rate limit exceeded\",\"code\":88}]} \n",
      "sleeping for 15 minutes.\n"
     ]
    },
    {
     "name": "stdout",
     "output_type": "stream",
     "text": [
      "\n",
      "Returning --- 1366 friends for GirlScoutsGCNWI\n",
      "Returning --- 377 friends for GirlScoutsNNJ\n",
      "Returning --- 320 friends for GirlUnconscious\n",
      "Returning --- 46 friends for GirlsRamble\n",
      "Returning --- 735 friends for Girls_Vs_Boys\n",
      "Collected 5000 friends for GirlsintheGame\n",
      "Returning --- 10280 friends for GirlsintheGame\n",
      "Returning --- 1964 friends for GirlyChicGina\n",
      "Returning --- 36 friends for GitMurthy\n",
      "Returning --- 72 friends for Gita1976\n",
      "Returning --- 108 friends for Gita_Delash\n",
      "Returning --- 156 friends for Giulia_Merola\n",
      "Returning --- 15 friends for GiveForwardNU\n",
      "Returning --- 58 friends for GiveStrengthNow\n",
      "Returning --- 1147 friends for GiveToCollege"
     ]
    },
    {
     "name": "stderr",
     "output_type": "stream",
     "text": [
      "Got error: {\"errors\":[{\"message\":\"Rate limit exceeded\",\"code\":88}]} \n",
      "sleeping for 15 minutes.\n"
     ]
    },
    {
     "name": "stdout",
     "output_type": "stream",
     "text": [
      "\n",
      "Returning --- 926 friends for GivingTues\n",
      "Returning --- 1496 friends for Gjustchrist\n",
      "Returning --- 1828 friends for Gknfy8\n",
      "Returning --- 149 friends for Glakky\n",
      "Returning --- 591 friends for GlamourTopTen\n",
      "Returning --- 167 friends for Glan_man26\n",
      "Returning --- 122 friends for GlasgowTeamUSA\n",
      "Returning --- 1152 friends for GlassCheryl\n",
      "Returning --- 45 friends for GlassLucy\n",
      "Collected 5000 friends for Glassdoor\n",
      "Returning --- 13591 friends for Glassdoor\n",
      "Returning --- 314 friends for GlblCllgSrch\n",
      "Returning --- 48 friends for GleberMax"
     ]
    },
    {
     "name": "stderr",
     "output_type": "stream",
     "text": [
      "Got error: {\"errors\":[{\"message\":\"Rate limit exceeded\",\"code\":88}]} \n",
      "sleeping for 15 minutes.\n"
     ]
    },
    {
     "name": "stdout",
     "output_type": "stream",
     "text": [
      "\n",
      "Returning --- 175 friends for GlencoeAnchor\n",
      "Returning --- 854 friends for GlencoeParks\n",
      "Returning --- 225 friends for Glenn4Harmony\n",
      "Returning --- 184 friends for GlennGeffner\n",
      "Returning --- 28 friends for GlennGerena\n",
      "Returning --- 292 friends for GlennHedman\n",
      "Returning --- 2382 friends for Glennia\n",
      "Returning --- 499 friends for GlenviewBroker\n",
      "Returning --- 890 friends for GlenviewRealtor\n",
      "Collected 5000 friends for Glink\n",
      "Returning --- 10150 friends for Glink\n",
      "Returning --- 9 friends for GloaterRbatka\n",
      "Returning --- 239 friends for GlobAnInstitute\n",
      "Returning --- 410 friends for GlobalFocusU"
     ]
    },
    {
     "name": "stderr",
     "output_type": "stream",
     "text": [
      "Got error: {\"errors\":[{\"message\":\"Rate limit exceeded\",\"code\":88}]} \n",
      "sleeping for 15 minutes.\n"
     ]
    },
    {
     "name": "stdout",
     "output_type": "stream",
     "text": [
      "\n",
      "Returning --- 17 friends for GlobalMedia15\n",
      "Returning --- 1500 friends for GlobalNarrative\n",
      "Returning --- 805 friends for GlobalNomadic\n",
      "Returning --- 216 friends for GlobalPreacher\n",
      "Returning --- 1008 friends for GlobalStar10\n",
      "Returning --- 1407 friends for GlobalTeach1\n",
      "Returning --- 377 friends for GlobalTracksMTG\n",
      "Returning --- 2582 friends for GlobalYMCA\n",
      "Returning --- 10 friends for Global_Sotirios\n",
      "Returning --- 1137 friends for GlobeMed\n",
      "Returning --- 62 friends for GlobeMedNU\n",
      "Returning --- 752 friends for GlobeTrainer\n",
      "Returning --- 158 friends for GlobeduEgitim\n",
      "Returning --- 1934 friends for Globesscan"
     ]
    },
    {
     "name": "stderr",
     "output_type": "stream",
     "text": [
      "Got error: {\"errors\":[{\"message\":\"Rate limit exceeded\",\"code\":88}]} \n",
      "sleeping for 15 minutes.\n"
     ]
    },
    {
     "name": "stdout",
     "output_type": "stream",
     "text": [
      "\n",
      "Returning --- 1901 friends for GlobetrekkinGal\n",
      "Returning --- 121 friends for GloriaLike\n",
      "Returning --- 323 friends for GlorySticks\n",
      "Returning --- 96 friends for GnaharrisGina\n",
      "Returning --- 470 friends for Go2CollegeGuide\n",
      "Returning --- 23 friends for GoCats113\n",
      "Returning --- 8 friends for GoCatsFitzee\n",
      "Returning --- 16 friends for GoCatsMD\n",
      "Returning --- 42 friends for GoCatsNU\n",
      "Returning --- 413 friends for GoCatsfromKS\n",
      "Returning --- 283 friends for GoChempare\n",
      "Returning --- 236 friends for GoCrowdfund\n",
      "Returning --- 1407 friends for GoEnnounce\n",
      "Returning --- 199 friends for GoFreshCoast\n",
      "Returning --- 40 friends for GoGCTeam"
     ]
    },
    {
     "name": "stderr",
     "output_type": "stream",
     "text": [
      "Got error: {\"errors\":[{\"message\":\"Rate limit exceeded\",\"code\":88}]} \n",
      "sleeping for 15 minutes.\n"
     ]
    },
    {
     "name": "stdout",
     "output_type": "stream",
     "text": [
      "\n",
      "Returning --- 4966 friends for GoGingham\n",
      "Returning --- 18 friends for GoGoWhiteSocks\n",
      "Returning --- 587 friends for GoGreenCity\n",
      "Returning --- 3062 friends for GoGreenStudents\n",
      "Returning --- 212 friends for GoMoveHa\n",
      "Returning --- 46 friends for GoNUCats120\n",
      "Returning --- 1386 friends for GoNutsKukui\n",
      "Returning --- 1389 friends for GoPenskeCareers\n",
      "Returning --- 82 friends for GoProteau\n",
      "Returning --- 177 friends for GoRanku\n",
      "Returning --- 108 friends for GoStorageUnits\n",
      "Returning --- 199 friends for GoThinkB1G\n",
      "Collected 5000 friends for GoTripAdvisor\n",
      "Returning --- 11360 friends for GoTripAdvisor\n",
      "Returning --- 75 friends for GoTweet_1"
     ]
    },
    {
     "name": "stderr",
     "output_type": "stream",
     "text": [
      "Got error: {\"errors\":[{\"message\":\"Rate limit exceeded\",\"code\":88}]} \n",
      "sleeping for 15 minutes.\n"
     ]
    },
    {
     "name": "stdout",
     "output_type": "stream",
     "text": [
      "\n",
      "Returning --- 387 friends for GoU_NU\n",
      "Returning --- 1117 friends for GoViewYou\n",
      "Returning --- 1955 friends for Go_Chicago\n",
      "Returning --- 509 friends for GobbleBoxLLC\n",
      "Returning --- 95 friends for Gobby53\n",
      "Returning --- 11 friends for GodDamnitMatt1\n",
      "Returning --- 1701 friends for GodFatha702\n",
      "Returning --- 2000 friends for GodMySpirit\n",
      "Returning --- 479 friends for GodSendsHearts\n",
      "Returning --- 1981 friends for Goddy116\n",
      "Returning --- 621 friends for GodsMarket\n",
      "Returning --- 6 friends for GodsRepublicats\n",
      "Returning --- 339 friends for Gods_Bish\n",
      "Returning --- 25 friends for Goettro"
     ]
    },
    {
     "name": "stderr",
     "output_type": "stream",
     "text": [
      "Got error: {\"errors\":[{\"message\":\"Rate limit exceeded\",\"code\":88}]} \n",
      "sleeping for 15 minutes.\n"
     ]
    },
    {
     "name": "stdout",
     "output_type": "stream",
     "text": [
      "\n",
      "Returning --- 892 friends for GogoCCO\n",
      "Returning --- 224 friends for Goi110\n",
      "Returning --- 40 friends for Goku4President_\n",
      "Returning --- 837 friends for GoldGooseAward\n",
      "Returning --- 673 friends for GoldGreg\n",
      "Returning --- 524 friends for GoldMan788\n",
      "Returning --- 1310 friends for GoldenDuckie\n",
      "Returning --- 987 friends for GoldenState2112\n",
      "Returning --- 2006 friends for GoldenSyndicate\n",
      "Returning --- 1771 friends for GoldenVoiceSnow\n",
      "Returning --- 182 friends for GolfProdConsult\n",
      "Returning --- 71 friends for GollyEspana\n",
      "Returning --- 2013 friends for GomezGuenchor\n",
      "Returning --- 737 friends for Gomez_Manager\n",
      "Returning --- 1555 friends for GonzagaFamilies"
     ]
    },
    {
     "name": "stderr",
     "output_type": "stream",
     "text": [
      "Got error: {\"errors\":[{\"message\":\"Rate limit exceeded\",\"code\":88}]} \n",
      "sleeping for 15 minutes.\n"
     ]
    },
    {
     "name": "stdout",
     "output_type": "stream",
     "text": [
      "\n",
      "Returning --- 537 friends for GoodCutlet\n",
      "Returning --- 738 friends for GoodLifePR\n",
      "Returning --- 11 friends for GoodLuck_FTD\n",
      "Returning --- 17 friends for GoodSportsCamp\n",
      "Returning --- 435 friends for Good_World_News\n",
      "Returning --- 86 friends for Gooden_Sr\n",
      "Returning --- 130 friends for Goodyear_ECD\n",
      "Returning --- 110 friends for Goofy_Joshua\n",
      "Returning --- 417 friends for GoombaTroopa34\n",
      "Returning --- 324 friends for GoosenJason\n",
      "Returning --- 544 friends for GopUniBahce\n",
      "Returning --- 2002 friends for Gorder\n",
      "Returning --- 206 friends for GordonMillichap\n",
      "Returning --- 556 friends for GordonVoit"
     ]
    },
    {
     "name": "stderr",
     "output_type": "stream",
     "text": [
      "Got error: {\"errors\":[{\"message\":\"Rate limit exceeded\",\"code\":88}]} \n",
      "sleeping for 15 minutes.\n"
     ]
    },
    {
     "name": "stdout",
     "output_type": "stream",
     "text": [
      "\n",
      "Returning --- 73 friends for Gorgeously_Mehh\n",
      "Returning --- 29 friends for GotSmileClwFl\n",
      "Returning --- 16 friends for GotchaHomeSafe\n",
      "Returning --- 23 friends for GottaBeJY\n",
      "Returning --- 331 friends for GottfriedJenna\n",
      "Returning --- 593 friends for GouldsWaterTech\n",
      "Returning --- 1902 friends for GovCareerPaths\n",
      "Returning --- 578 friends for GovHRUSA\n",
      "Returning --- 1988 friends for GovernetSM\n",
      "Returning --- 683 friends for GovernorQuinn\n",
      "Returning --- 1983 friends for Gpubrel\n",
      "Returning --- 1500 friends for Gr8Way2SayThx\n",
      "Returning --- 87 friends for GrabovacL\n",
      "Returning --- 21 friends for GraceCSH"
     ]
    },
    {
     "name": "stderr",
     "output_type": "stream",
     "text": [
      "Got error: {\"errors\":[{\"message\":\"Rate limit exceeded\",\"code\":88}]} \n",
      "sleeping for 15 minutes.\n"
     ]
    },
    {
     "name": "stdout",
     "output_type": "stream",
     "text": [
      "\n",
      "Returning --- 95 friends for GraceClawson\n",
      "Returning --- 16 friends for GraceJRim\n",
      "Returning --- 208 friends for GracePigozzi\n",
      "Returning --- 4 friends for GraceRim\n",
      "Returning --- 62 friends for Grace_Zo\n",
      "Returning --- 688 friends for GracieSimone\n",
      "Returning --- 2 friends for GraciekJones\n",
      "Returning --- 1996 friends for GracingTheWorld\n",
      "Returning --- 202 friends for GradCrowdFund\n",
      "Returning --- 379 friends for GradDay2015\n",
      "Returning --- 763 friends for GradEAPNeeds\n",
      "Returning --- 1991 friends for GradFlowers\n",
      "Returning --- 420 friends for GradHearts"
     ]
    },
    {
     "name": "stderr",
     "output_type": "stream",
     "text": [
      "Got error: {\"errors\":[{\"message\":\"Rate limit exceeded\",\"code\":88}]} \n",
      "sleeping for 15 minutes.\n"
     ]
    },
    {
     "name": "stdout",
     "output_type": "stream",
     "text": [
      "\n",
      "Returning --- 1677 friends for GradImages\n",
      "Returning --- 1203 friends for GradLifeIL\n",
      "Returning --- 1985 friends for GradSchoolsMag\n",
      "Returning --- 662 friends for GradSense\n",
      "Returning --- 876 friends for GradStaff\n",
      "Returning --- 1643 friends for GradStudentWay\n",
      "Returning --- 147 friends for GradStudiesMatt\n",
      "Returning --- 106 friends for GradTree\n",
      "Returning --- 348 friends for Grad_Careers\n",
      "Returning --- 802 friends for GradingGirl\n",
      "Returning --- 455 friends for Gradosphere\n",
      "Returning --- 656 friends for GradtoLinkedIn\n",
      "Returning --- 1390 friends for Graduway\n",
      "Returning --- 149 friends for Graeber7"
     ]
    },
    {
     "name": "stderr",
     "output_type": "stream",
     "text": [
      "Got error: {\"errors\":[{\"message\":\"Rate limit exceeded\",\"code\":88}]} \n",
      "sleeping for 15 minutes.\n"
     ]
    },
    {
     "name": "stdout",
     "output_type": "stream",
     "text": [
      "\n",
      "Returning --- 119 friends for GrahamVanHook\n",
      "Returning --- 137 friends for Grahambrose\n",
      "Returning --- 277 friends for GraingerCareers\n",
      "Returning --- 578 friends for GranadosCo\n",
      "Returning --- 12 friends for GrandCrossing\n",
      "Returning --- 1990 friends for GrandCruWineMer\n",
      "Returning --- 707 friends for GrandFeddy\n",
      "Returning --- 284 friends for GrandManse\n",
      "Returning --- 29 friends for GrandmotherPark\n",
      "Returning --- 13 friends for GranfieldAngela\n",
      "Returning --- 918 friends for GrangerMotors\n",
      "Returning --- 2126 friends for GrantGravagna\n",
      "Returning --- 757 friends for GrantOS808\n",
      "Returning --- 179 friends for GrantRahn"
     ]
    },
    {
     "name": "stderr",
     "output_type": "stream",
     "text": [
      "Got error: {\"errors\":[{\"message\":\"Rate limit exceeded\",\"code\":88}]} \n",
      "sleeping for 15 minutes.\n"
     ]
    },
    {
     "name": "stdout",
     "output_type": "stream",
     "text": [
      "\n",
      "Returning --- 1892 friends for GrantUniversity\n",
      "Returning --- 1495 friends for Granted4U\n",
      "Returning --- 309 friends for Grantezra\n",
      "Returning --- 17 friends for GrassRoutes66\n",
      "Returning --- 192 friends for GrassrootsVoter\n",
      "Returning --- 40 friends for Great121212Wiwi\n",
      "Returning --- 1316 friends for GreatBooksFnd\n",
      "Returning --- 83 friends for GreatElephant_\n",
      "Returning --- 66 friends for GreatLakesElect\n",
      "Returning --- 44 friends for GreekRun\n",
      "Returning --- 1854 friends for Greekcrush\n",
      "Returning --- 542 friends for GreenBizDoc\n",
      "Returning --- 301 friends for GreenCityGal\n",
      "Returning --- 2460 friends for GreenCraftsman"
     ]
    },
    {
     "name": "stderr",
     "output_type": "stream",
     "text": [
      "Got error: {\"errors\":[{\"message\":\"Rate limit exceeded\",\"code\":88}]} \n",
      "sleeping for 15 minutes.\n"
     ]
    },
    {
     "name": "stdout",
     "output_type": "stream",
     "text": [
      "\n",
      "Returning --- 76 friends for GreenDISC_UCM\n",
      "Returning --- 614 friends for GreenEvanston\n",
      "Returning --- 3817 friends for GreenFrogMedia\n",
      "Collected 5000 friends for GreenGirls\n",
      "Collected 15000 friends for GreenGirls\n",
      "Collected 30000 friends for GreenGirls\n",
      "Returning --- 45306 friends for GreenGirls\n",
      "Returning --- 12 friends for GreenHouse_NU\n",
      "Returning --- 1034 friends for GreenJobBank\n",
      "Returning --- 1961 friends for GreenKeyRsrces\n",
      "Returning --- 332 friends for GreenLightHACC\n",
      "Returning --- 12 friends for GreenLight_LLC\n",
      "Collected 5000 friends for GreenNewsDaily\n",
      "Collected 15000 friends for GreenNewsDaily\n",
      "Collected 30000 friends for GreenNewsDaily"
     ]
    },
    {
     "name": "stderr",
     "output_type": "stream",
     "text": [
      "Got error: {\"errors\":[{\"message\":\"Rate limit exceeded\",\"code\":88}]} \n",
      "sleeping for 15 minutes.\n"
     ]
    },
    {
     "name": "stdout",
     "output_type": "stream",
     "text": [
      "\n",
      "Found more than 50,000 friends. Returning error code = -3\n",
      "Returning --- 473 friends for GreenNewsWriter\n",
      "Returning --- 1847 friends for GreenPromoItems\n",
      "Returning --- 388 friends for GreenRibbonOrg\n",
      "Returning --- 1678 friends for GreenSmart\n",
      "Collected 5000 friends for GreenTextbooks\n",
      "Collected 15000 friends for GreenTextbooks\n",
      "Returning --- 26556 friends for GreenTextbooks\n",
      "Returning --- 2267 friends for Green_Corps\n",
      "Returning --- 1523 friends for GreenbergEdu\n",
      "Returning --- 2063 friends for GreenbergEj\n",
      "Returning --- 507 friends for GreenerEvanston\n",
      "Returning --- 8 friends for GreenlightNU"
     ]
    },
    {
     "name": "stderr",
     "output_type": "stream",
     "text": [
      "Got error: {\"errors\":[{\"message\":\"Rate limit exceeded\",\"code\":88}]} \n",
      "sleeping for 15 minutes.\n"
     ]
    },
    {
     "name": "stdout",
     "output_type": "stream",
     "text": [
      "\n",
      "Returning --- 42 friends for Greenspan_S2S\n",
      "Returning --- 43 friends for GreenwichIntl\n",
      "Returning --- 1052 friends for GreerHaseman\n",
      "Returning --- 199 friends for GreerWeth\n",
      "Returning --- 36 friends for GregAllen55\n",
      "Returning --- 241 friends for GregCelis\n",
      "Returning --- 251 friends for GregHunting80\n",
      "Returning --- 1041 friends for GregKlaiber\n",
      "Returning --- 1984 friends for GregPresto\n",
      "Returning --- 1345 friends for GregRubens\n",
      "Returning --- 161 friends for GregSutthiwan\n",
      "Returning --- 109 friends for Greg_Chan\n",
      "Returning --- 1838 friends for GreggVoss"
     ]
    },
    {
     "name": "stderr",
     "output_type": "stream",
     "text": [
      "Got error: {\"errors\":[{\"message\":\"Rate limit exceeded\",\"code\":88}]} \n",
      "sleeping for 15 minutes.\n"
     ]
    },
    {
     "name": "stdout",
     "output_type": "stream",
     "text": [
      "\n",
      "Returning --- 71 friends for Gregj2007\n",
      "Returning --- 12 friends for Gregoiredumas\n",
      "Returning --- 36 friends for Gregory79101\n",
      "Returning --- 321 friends for GregoryLarkin\n",
      "Returning --- 203 friends for Gregory_Udz\n",
      "Returning --- 761 friends for Gregthenewsguy\n",
      "Returning --- 401 friends for GreiceFranklin\n",
      "Returning --- 246 friends for GretaKB\n",
      "Returning --- 5 friends for Gretch07\n",
      "Returning --- 1353 friends for Gretchel\n",
      "Returning --- 290 friends for GretchenMackie\n",
      "Returning --- 367 friends for GretchenReed\n",
      "Returning --- 71 friends for Grey_Fox_Gary\n",
      "Returning --- 1015 friends for GrifUniversity"
     ]
    },
    {
     "name": "stderr",
     "output_type": "stream",
     "text": [
      "Got error: {\"errors\":[{\"message\":\"Rate limit exceeded\",\"code\":88}]} \n",
      "sleeping for 15 minutes.\n"
     ]
    },
    {
     "name": "stdout",
     "output_type": "stream",
     "text": [
      "\n",
      "Returning --- 40 friends for GriffenWarner\n",
      "Returning --- 41 friends for Griffin150045\n",
      "Returning --- 309 friends for GriffinDeere\n",
      "Returning --- 1110 friends for GriffinSpeech\n",
      "Returning --- 436 friends for GriffinsHoops\n",
      "Returning --- 21 friends for GriffithsLenore\n",
      "Returning --- 727 friends for GriffonZoe\n",
      "Returning --- 514 friends for GrizzlyJacks\n",
      "Returning --- 117 friends for GrmnVzqz\n",
      "Returning --- 223 friends for GronerJamz03\n",
      "Returning --- 2020 friends for Groople\n",
      "Returning --- 1308 friends for Groopt\n",
      "Returning --- 370 friends for GroupAmericana\n",
      "Returning --- 101 friends for GroupWalk\n",
      "Returning --- 561 friends for GrouponVal"
     ]
    },
    {
     "name": "stderr",
     "output_type": "stream",
     "text": [
      "Got error: {\"errors\":[{\"message\":\"Rate limit exceeded\",\"code\":88}]} \n",
      "sleeping for 15 minutes.\n"
     ]
    },
    {
     "name": "stdout",
     "output_type": "stream",
     "text": [
      "\n",
      "Returning --- 16 friends for GroveJanne\n",
      "Returning --- 359 friends for GrowAwareMedia\n",
      "Returning --- 4477 friends for GrowItMobile\n",
      "Returning --- 279 friends for GrowKidsYoga\n",
      "Returning --- 642 friends for GrowNaturalNow\n",
      "Returning --- 219 friends for GrowthDecisions\n",
      "Returning --- 488 friends for Grumpydoc90\n",
      "Returning --- 852 friends for GrupobtTBF\n",
      "Returning --- 39 friends for Grwaqdlknw\n",
      "Returning --- 114 friends for GtownLawAdmis\n",
      "Returning --- 545 friends for Gtsohio\n",
      "Returning --- 309 friends for GtzLes\n",
      "Returning --- 338 friends for GualaG_Official\n",
      "Returning --- 1980 friends for GuatsUpBusiness\n",
      "Returning --- 16 friends for GudNewsLaundry"
     ]
    },
    {
     "name": "stderr",
     "output_type": "stream",
     "text": [
      "Got error: {\"errors\":[{\"message\":\"Rate limit exceeded\",\"code\":88}]} \n",
      "sleeping for 15 minutes.\n"
     ]
    },
    {
     "name": "stdout",
     "output_type": "stream",
     "text": [
      "\n",
      "Returning --- 675 friends for GuidetoChicago\n",
      "Returning --- 239 friends for Guidotti17\n",
      "Returning --- 2092 friends for GuillainKOKO\n",
      "Returning --- 331 friends for GuillemTosca\n",
      "Returning --- 728 friends for GuillermoBern\n",
      "Returning --- 39 friends for GuitarMaster223\n",
      "Returning --- 867 friends for GulnazSaiyed\n",
      "Returning --- 215 friends for GumballConfetti\n",
      "Returning --- 375 friends for GumbiInTheHouse\n",
      "Returning --- 634 friends for GummiCuir\n",
      "Returning --- 89 friends for GunaydinKaan\n",
      "Returning --- 429 friends for GunnarVogel\n",
      "Returning --- 611 friends for Gunner_NYC\n",
      "Returning --- 3 friends for GuoGuyuan\n",
      "Returning --- 602 friends for GuruRed"
     ]
    },
    {
     "name": "stderr",
     "output_type": "stream",
     "text": [
      "Got error: {\"errors\":[{\"message\":\"Rate limit exceeded\",\"code\":88}]} \n",
      "sleeping for 15 minutes.\n"
     ]
    },
    {
     "name": "stdout",
     "output_type": "stream",
     "text": [
      "\n",
      "Returning --- 42 friends for GusDemos\n",
      "Returning --- 1062 friends for Gus_Noguera\n",
      "Returning --- 485 friends for GustavianWeekly\n",
      "Returning --- 262 friends for Gustavo_Castro_\n",
      "Returning --- 431 friends for GuyEmersonMount\n",
      "Returning --- 103 friends for GuyMasterD\n",
      "Returning --- 246 friends for Guysin\n",
      "Returning --- 300 friends for GwendoSays\n",
      "Returning --- 252 friends for Gwynwins\n",
      "Returning --- 1236 friends for GymToke\n",
      "Returning --- 644 friends for Gym_floor_guy\n",
      "Returning --- 52 friends for GyongyosiMarc\n",
      "Returning --- 214 friends for GypsyGavia"
     ]
    },
    {
     "name": "stderr",
     "output_type": "stream",
     "text": [
      "Got error: {\"errors\":[{\"message\":\"Rate limit exceeded\",\"code\":88}]} \n",
      "sleeping for 15 minutes.\n"
     ]
    },
    {
     "name": "stdout",
     "output_type": "stream",
     "text": [
      "\n",
      "Returning --- 205 friends for H2_Law\n",
      "Returning --- 75 friends for H4loFodder\n",
      "Returning --- 371 friends for HACUHNIP\n",
      "Returning --- 218 friends for HACghana\n",
      "Returning --- 200 friends for HANKtheTANK44\n",
      "Returning --- 1034 friends for HAljarky\n",
      "Returning --- 72 friends for HB1107\n",
      "Returning --- 963 friends for HBRC_UCL\n",
      "Returning --- 954 friends for HBlackwellscott\n",
      "Returning --- 558 friends for HBrownie22\n",
      "Returning --- 1800 friends for HCMStrat\n",
      "Returning --- 690 friends for HCNorthwestern\n",
      "Returning --- 1722 friends for HCSC"
     ]
    },
    {
     "name": "stderr",
     "output_type": "stream",
     "text": [
      "Got error: {\"errors\":[{\"message\":\"Rate limit exceeded\",\"code\":88}]} \n",
      "sleeping for 15 minutes.\n"
     ]
    },
    {
     "name": "stdout",
     "output_type": "stream",
     "text": [
      "\n",
      "Returning --- 71 friends for HChungling\n",
      "Returning --- 1023 friends for HCollegienne\n",
      "Returning --- 76 friends for HDAutry\n",
      "Returning --- 538 friends for HD_Tgreen22\n",
      "Returning --- 525 friends for HDeanHart\n",
      "Returning --- 72 friends for HDesruisseau\n",
      "Returning --- 148 friends for HEADSTASH_craig\n",
      "Returning --- 983 friends for HEADSTASHcoffee\n",
      "Returning --- 306 friends for HECColorado\n",
      "Returning --- 70 friends for HED_Learn\n",
      "Returning --- 77 friends for HEHA2014\n",
      "Returning --- 1896 friends for HELIXHigherEd\n",
      "Returning --- 65 friends for HEM30511833\n",
      "Returning --- 761 friends for HEPAdvising\n",
      "Returning --- 400 friends for HERIUCLA"
     ]
    },
    {
     "name": "stderr",
     "output_type": "stream",
     "text": [
      "Got error: {\"errors\":[{\"message\":\"Rate limit exceeded\",\"code\":88}]} \n",
      "sleeping for 15 minutes.\n"
     ]
    },
    {
     "name": "stdout",
     "output_type": "stream",
     "text": [
      "\n",
      "Returning --- 141 friends for HEYODAV\n",
      "Returning --- 545 friends for HFHS59\n",
      "Returning --- 41 friends for HFertur\n",
      "Returning --- 132 friends for HGDesserts\n",
      "Returning --- 10 friends for HGIEEvanston\n",
      "Returning --- 382 friends for HGI_Evanston\n",
      "Returning --- 55 friends for HG_Ent\n",
      "Returning --- 139 friends for HHR_study\n",
      "Returning --- 216 friends for HHSandG\n",
      "Returning --- 1870 friends for HIGurnee\n",
      "Collected 5000 friends for HILLTOPJG\n",
      "Returning --- 13943 friends for HILLTOPJG"
     ]
    },
    {
     "name": "stderr",
     "output_type": "stream",
     "text": [
      "Got error: {\"errors\":[{\"message\":\"Rate limit exceeded\",\"code\":88}]} \n",
      "sleeping for 15 minutes.\n"
     ]
    },
    {
     "name": "stdout",
     "output_type": "stream",
     "text": [
      "\n",
      "Returning --- 379 friends for HIT_j\n",
      "Returning --- 62 friends for HKistweeting\n",
      "Returning --- 11 friends for HKolwich\n",
      "Returning --- 13 friends for HLoveii\n",
      "Returning --- 505 friends for HMA26\n",
      "Returning --- 528 friends for HMBTHEMUSICAL\n",
      "Returning --- 481 friends for HMPRG\n",
      "Returning --- 247 friends for HMarionArt\n",
      "Returning --- 456 friends for HOSOUNG_SON\n",
      "Returning --- 531 friends for HOWempowering\n",
      "Returning --- 1025 friends for HPB_Txp_Surg\n",
      "Returning --- 1954 friends for HPLMedical\n",
      "Returning --- 1081 friends for HPSInsight\n",
      "Returning --- 25 friends for HPSleep"
     ]
    },
    {
     "name": "stderr",
     "output_type": "stream",
     "text": [
      "Got error: {\"errors\":[{\"message\":\"Rate limit exceeded\",\"code\":88}]} \n",
      "sleeping for 15 minutes.\n"
     ]
    },
    {
     "name": "stdout",
     "output_type": "stream",
     "text": [
      "\n",
      "Returning --- 166 friends for HPfatcats\n",
      "Returning --- 166 friends for HPfortheTD\n",
      "Returning --- 1905 friends for HQ6236\n",
      "Collected 5000 friends for HQ_Chicago\n",
      "Returning --- 10965 friends for HQ_Chicago\n",
      "Returning --- 743 friends for HRCoralGables\n",
      "Returning --- 1441 friends for HR_1\n",
      "Returning --- 4007 friends for HR_Nasty\n",
      "Returning --- 59 friends for HRochef\n",
      "Returning --- 1157 friends for HRussellGoBlue\n",
      "Returning --- 416 friends for HSACommercial\n",
      "Returning --- 424 friends for HSAMcKinleyPark"
     ]
    },
    {
     "name": "stderr",
     "output_type": "stream",
     "text": [
      "Got error: {\"errors\":[{\"message\":\"Rate limit exceeded\",\"code\":88}]} \n",
      "sleeping for 15 minutes.\n"
     ]
    },
    {
     "name": "stdout",
     "output_type": "stream",
     "text": [
      "\n",
      "Returning --- 1999 friends for HSDLivestream\n",
      "Returning --- 123 friends for HSEGuidance\n",
      "Returning --- 1928 friends for HSExotics\n",
      "Collected 5000 friends for HSFNews\n",
      "Returning --- 11396 friends for HSFNews\n",
      "Returning --- 27 friends for HSG_Chicago\n",
      "Returning --- 1898 friends for HSTahmo\n",
      "Returning --- 72 friends for HSkorin\n",
      "Returning --- 1043 friends for HSpreprecruits\n",
      "Returning --- 1060 friends for HStweethearts\n",
      "Returning --- 68 friends for HSusanhu\n",
      "Returning --- 711 friends for HT_JayReeves\n",
      "Returning --- 1915 friends for HTinAmerica\n",
      "Returning --- 105 friends for HUDONGYAN1\n",
      "Returning --- 7 friends for HUYingyu"
     ]
    },
    {
     "name": "stderr",
     "output_type": "stream",
     "text": [
      "Got error: {\"errors\":[{\"message\":\"Rate limit exceeded\",\"code\":88}]} \n",
      "sleeping for 15 minutes.\n"
     ]
    },
    {
     "name": "stdout",
     "output_type": "stream",
     "text": [
      "\n",
      "Returning --- 689 friends for HVanHoegarden\n",
      "Collected 5000 friends for HWAMirjana\n",
      "Returning --- 10053 friends for HWAMirjana\n",
      "Returning --- 172 friends for H_Fashionista\n",
      "Returning --- 103 friends for H_Inn_Skokie\n",
      "Returning --- 224 friends for H_Kandel\n",
      "Returning --- 1045 friends for H_SmileLin\n",
      "Returning --- 16 friends for H_o_HGirl\n",
      "Returning --- 495 friends for HaPIDatabase\n",
      "Returning --- 191 friends for HacheEmily\n",
      "Returning --- 529 friends for HackSurferJobs\n",
      "Returning --- 82 friends for HackmedMalik"
     ]
    },
    {
     "name": "stderr",
     "output_type": "stream",
     "text": [
      "Got error: {\"errors\":[{\"message\":\"Rate limit exceeded\",\"code\":88}]} \n",
      "sleeping for 15 minutes.\n"
     ]
    },
    {
     "name": "stdout",
     "output_type": "stream",
     "text": [
      "\n",
      "Returning --- 986 friends for HacksawTim\n",
      "Returning --- 1119 friends for Hackstudio\n",
      "Returning --- 238 friends for HadMeAtShalom\n",
      "Returning --- 40 friends for Hadoop_Twisted\n",
      "Returning --- 1288 friends for HaggertyBuick\n",
      "Returning --- 557 friends for HagueEdit\n",
      "Returning --- 40 friends for Hahffahlol101\n",
      "Returning --- 15 friends for HahnLucinda\n",
      "Returning --- 6 friends for Haidee_qh\n",
      "Returning --- 135 friends for HaikuEdu\n",
      "Returning --- 41 friends for HailSnakez\n",
      "Returning --- 117 friends for HaileeBilimoria\n",
      "Returning --- 360 friends for HaileyMMahan"
     ]
    },
    {
     "name": "stderr",
     "output_type": "stream",
     "text": [
      "Got error: {\"errors\":[{\"message\":\"Rate limit exceeded\",\"code\":88}]} \n",
      "sleeping for 15 minutes.\n"
     ]
    },
    {
     "name": "stdout",
     "output_type": "stream",
     "text": [
      "\n",
      "Returning --- 810 friends for Hair_Phenom\n",
      "Returning --- 750 friends for Hairy_Who\n",
      "Returning --- 163 friends for Hajile\n",
      "Returning --- 126 friends for HakunaMakena\n",
      "Returning --- 209 friends for Hal_EH\n",
      "Returning --- 147 friends for Hale2Thomas\n",
      "Returning --- 263 friends for HaleighKelley\n",
      "Returning --- 625 friends for HalesInc\n",
      "Returning --- 253 friends for HaleyChrisNU\n",
      "Returning --- 31 friends for HaleyDhara\n",
      "Collected 5000 friends for HalfordKreepVIP\n",
      "Collected 15000 friends for HalfordKreepVIP\n",
      "Collected 30000 friends for HalfordKreepVIP\n",
      "Found more than 50,000 friends. Returning error code = -3\n",
      "Returning --- 139 friends for HallerCt"
     ]
    },
    {
     "name": "stderr",
     "output_type": "stream",
     "text": [
      "Got error: {\"errors\":[{\"message\":\"Rate limit exceeded\",\"code\":88}]} \n",
      "sleeping for 15 minutes.\n"
     ]
    },
    {
     "name": "stdout",
     "output_type": "stream",
     "text": [
      "\n",
      "Returning --- 558 friends for HallieBusta\n",
      "Returning --- 11 friends for HalloBath\n",
      "Returning --- 924 friends for HaloXBOX360Rock\n",
      "Returning --- 336 friends for HamdaanImran\n",
      "Returning --- 144 friends for HamiltonApts\n",
      "Returning --- 303 friends for HamiltonHSCouns\n",
      "Returning --- 322 friends for HammonsRachel\n",
      "Returning --- 124 friends for Hammyhassy\n",
      "Returning --- 365 friends for HamptonSkokie\n",
      "Returning --- 7 friends for Han59946337\n",
      "Returning --- 157 friends for HanaNowicki\n",
      "Returning --- 47 friends for HanafiahNara\n",
      "Returning --- 401 friends for HandelsWijs"
     ]
    },
    {
     "name": "stderr",
     "output_type": "stream",
     "text": [
      "Got error: {\"errors\":[{\"message\":\"Rate limit exceeded\",\"code\":88}]} \n",
      "sleeping for 15 minutes.\n"
     ]
    },
    {
     "name": "stdout",
     "output_type": "stream",
     "text": [
      "\n",
      "Returning --- 615 friends for Handy_CHI\n",
      "Returning --- 77 friends for HangdaZhang\n",
      "Returning --- 437 friends for HanieJaffery\n",
      "Returning --- 1558 friends for Hank723AMN\n",
      "Returning --- 98 friends for Hannaasod1\n",
      "Returning --- 40 friends for HannahDleeah\n",
      "Returning --- 20 friends for HannahKoropp\n",
      "Returning --- 133 friends for HannahKupsky\n",
      "Returning --- 391 friends for HannahRenee17\n",
      "Returning --- 88 friends for HannahScheller"
     ]
    },
    {
     "name": "stderr",
     "output_type": "stream",
     "text": [
      "Got error: {\"errors\":[{\"message\":\"Rate limit exceeded\",\"code\":88}]} \n",
      "sleeping for 15 minutes.\n"
     ]
    },
    {
     "name": "stdout",
     "output_type": "stream",
     "text": [
      "\n",
      "Returning --- 69 friends for HannahT32641165\n",
      "Returning --- 379 friends for HanniOqt\n",
      "Returning --- 266 friends for Hanny_1966\n",
      "Returning --- 136 friends for HanronT\n",
      "Returning --- 101 friends for HaonanBillZhou\n",
      "Returning --- 801 friends for HappinessHitHim\n",
      "Returning --- 494 friends for HappyHskyBakery\n",
      "Returning --- 89 friends for HappyNUyear\n",
      "Returning --- 166 friends for Happy_CHP\n",
      "Returning --- 75 friends for Happylobsterpb\n",
      "Returning --- 62 friends for HarisHusni\n",
      "Returning --- 544 friends for HarishSub\n",
      "Returning --- 110 friends for HarliManuel"
     ]
    },
    {
     "name": "stderr",
     "output_type": "stream",
     "text": [
      "Got error: {\"errors\":[{\"message\":\"Rate limit exceeded\",\"code\":88}]} \n",
      "sleeping for 15 minutes.\n"
     ]
    },
    {
     "name": "stdout",
     "output_type": "stream",
     "text": [
      "\n",
      "Returning --- 327 friends for HarmonyHub\n",
      "Returning --- 1606 friends for HaroldBloom2013\n",
      "Returning --- 909 friends for HaroonZaid\n",
      "Returning --- 393 friends for HarperCollege\n",
      "Returning --- 721 friends for HarrietTubelman\n",
      "Returning --- 2006 friends for HarrisSearch\n",
      "Returning --- 719 friends for HarrisSockel\n",
      "Returning --- 4347 friends for HarrisTheater\n",
      "Returning --- 85 friends for HarryA_NYU\n",
      "Returning --- 53 friends for HarryLiu_90s\n",
      "Returning --- 88 friends for HarryZhuochao\n",
      "Returning --- 195 friends for HarshKeepers\n",
      "Returning --- 62 friends for Hart_T_Trees\n",
      "Returning --- 184 friends for Hartford_Inst"
     ]
    },
    {
     "name": "stderr",
     "output_type": "stream",
     "text": [
      "Got error: {\"errors\":[{\"message\":\"Rate limit exceeded\",\"code\":88}]} \n",
      "sleeping for 15 minutes.\n"
     ]
    },
    {
     "name": "stdout",
     "output_type": "stream",
     "text": [
      "\n",
      "Returning --- 26 friends for HartlCat46\n",
      "Returning --- 347 friends for HarvardEXT\n",
      "Returning --- 540 friends for HarvsWorld\n",
      "Returning --- 1880 friends for HasanAli1984\n",
      "Returning --- 60 friends for HasanHaq2010\n",
      "Returning --- 43 friends for HaseebMoose\n",
      "Returning --- 92 friends for HashaamKhan_\n",
      "Returning --- 2162 friends for HashtagVOA\n",
      "Returning --- 562 friends for HassanNasru\n",
      "Returning --- 186 friends for Hassipo\n",
      "Returning --- 364 friends for Hassyhass_\n",
      "Returning --- 519 friends for HatchStudios\n",
      "Returning --- 5 friends for Hatchright\n",
      "Returning --- 586 friends for HauserRyan\n",
      "Returning --- 9 friends for Hawaiinan123"
     ]
    },
    {
     "name": "stderr",
     "output_type": "stream",
     "text": [
      "Got error: {\"errors\":[{\"message\":\"Rate limit exceeded\",\"code\":88}]} \n",
      "sleeping for 15 minutes.\n"
     ]
    },
    {
     "name": "stdout",
     "output_type": "stream",
     "text": [
      "\n",
      "Returning --- 76 friends for HawksGuidance\n",
      "Returning --- 326 friends for HayatNorimine\n",
      "Returning --- 145 friends for HaydeeClotter\n",
      "Returning --- 34 friends for HayleyBC\n",
      "Returning --- 194 friends for HayleyFurmaniuk\n",
      "Returning --- 613 friends for HayleySchilling\n",
      "Returning --- 466 friends for HayleyWielgus\n",
      "Returning --- 362 friends for HayleyyyNelson\n",
      "Returning --- 3192 friends for Hazel_Jayy\n",
      "Returning --- 781 friends for HazimH20\n",
      "Returning --- 125 friends for HciFood\n",
      "Returning --- 276 friends for HeWentToJared9"
     ]
    },
    {
     "name": "stderr",
     "output_type": "stream",
     "text": [
      "Got error: {\"errors\":[{\"message\":\"Rate limit exceeded\",\"code\":88}]} \n",
      "sleeping for 15 minutes.\n",
      "WARNING:root:<class 'requests.exceptions.ConnectionError'> ('Connection aborted.', gaierror(11004, 'getaddrinfo failed'))\n",
      "Got Connection error: sleeping for 15 minutes.\n"
     ]
    },
    {
     "name": "stdout",
     "output_type": "stream",
     "text": [
      "\n",
      "Returning --- 47 friends for He_Yijia\n",
      "Returning --- 472 friends for HeadChefPrettyB\n",
      "Returning --- 1110 friends for HeadSpaceLtd\n",
      "Returning --- 1324 friends for HeadmasterBLA\n",
      "Returning --- 306 friends for HealerMarina\n",
      "Returning --- 326 friends for HealingCompany\n",
      "Collected 5000 friends for HealthDayEditor\n",
      "Collected 15000 friends for HealthDayEditor\n",
      "Returning --- 27832 friends for HealthDayEditor\n",
      "Returning --- 2288 friends for HealthGrid\n",
      "Returning --- 154 friends for HealthScapeLife\n",
      "Returning --- 710 friends for HealthyDTLA\n",
      "Returning --- 669 friends for HealthyKidsUSA\n",
      "Returning --- 370 friends for HealthySkin4All"
     ]
    },
    {
     "name": "stderr",
     "output_type": "stream",
     "text": [
      "Got error: {\"errors\":[{\"message\":\"Rate limit exceeded\",\"code\":88}]} \n",
      "sleeping for 15 minutes.\n"
     ]
    },
    {
     "name": "stdout",
     "output_type": "stream",
     "text": [
      "\n",
      "Returning --- 465 friends for Heartwood1818\n",
      "Returning --- 294 friends for Heather77323295\n",
      "Returning --- 527 friends for HeatherAverett\n",
      "Returning --- 33 friends for HeatherBegley3\n",
      "Returning --- 596 friends for HeatherCTV\n",
      "Returning --- 11 friends for HeatherDeng\n",
      "Returning --- 222 friends for HeatherIMC\n",
      "Returning --- 2016 friends for HeatherLesz\n",
      "Returning --- 220 friends for HeatherRitter73\n",
      "Returning --- 631 friends for HeatherVacek1\n",
      "Returning --- 320 friends for HeathersCheddar\n",
      "Returning --- 67 friends for Heavensentvette\n",
      "Returning --- 223 friends for HebaNabilTaha"
     ]
    },
    {
     "name": "stderr",
     "output_type": "stream",
     "text": [
      "Got error: {\"errors\":[{\"message\":\"Rate limit exceeded\",\"code\":88}]} \n",
      "sleeping for 15 minutes.\n"
     ]
    },
    {
     "name": "stdout",
     "output_type": "stream",
     "text": [
      "\n",
      "Returning --- 319 friends for Heba__H\n",
      "Returning --- 127 friends for HectFC\n",
      "Returning --- 1425 friends for HeidiHartman\n",
      "Returning --- 301 friends for HeidiKoester\n",
      "Returning --- 577 friends for HeidiWeinmann\n",
      "Returning --- 98 friends for HeidiZGroup\n",
      "Returning --- 323 friends for HeidiZhouCastro\n",
      "Returning --- 1589 friends for Heidivel\n",
      "Returning --- 62 friends for HeinrichRoberta\n",
      "Returning --- 62 friends for Hejianing1\n",
      "Returning --- 17 friends for HelenBurk123\n",
      "Returning --- 13 friends for HelenNeafsey"
     ]
    },
    {
     "name": "stderr",
     "output_type": "stream",
     "text": [
      "Got error: {\"errors\":[{\"message\":\"Rate limit exceeded\",\"code\":88}]} \n",
      "sleeping for 15 minutes.\n"
     ]
    },
    {
     "name": "stdout",
     "output_type": "stream",
     "text": [
      "\n",
      "Returning --- 34 friends for HelgaSchlumpf\n",
      "Returning --- 16 friends for HelixDC1\n",
      "Returning --- 25 friends for HelloBrittO\n",
      "Returning --- 4240 friends for HelloStage_\n",
      "Returning --- 698 friends for HelpCareer\n",
      "Returning --- 3709 friends for HelpHubHQ\n",
      "Returning --- 1591 friends for HelpersLLC\n",
      "Returning --- 3621 friends for HelpingInspire\n",
      "Returning --- 705 friends for HelpingaWife\n",
      "Returning --- 1003 friends for HemmingwayTracy\n",
      "Returning --- 23 friends for HenCab8\n",
      "Returning --- 298 friends for Hendaawwgg\n",
      "Returning --- 74 friends for HendrenLauren\n",
      "Returning --- 176 friends for Henkelis\n",
      "Returning --- 38 friends for HennessyMA"
     ]
    },
    {
     "name": "stderr",
     "output_type": "stream",
     "text": [
      "Got error: {\"errors\":[{\"message\":\"Rate limit exceeded\",\"code\":88}]} \n",
      "sleeping for 15 minutes.\n"
     ]
    },
    {
     "name": "stdout",
     "output_type": "stream",
     "text": [
      "\n",
      "Returning --- 12 friends for HenrietteFox1\n",
      "Returning --- 801 friends for HenryBushnell\n",
      "Returning --- 14 friends for HenryBushnell1\n",
      "Returning --- 11 friends for HenryNeubert\n",
      "Returning --- 5 friends for HenryShin2\n",
      "Returning --- 11 friends for Henry_Queiro\n",
      "Returning --- 792 friends for HenslinSold\n",
      "Returning --- 1059 friends for HeraeaLV\n",
      "Returning --- 61 friends for Herby751\n",
      "Returning --- 852 friends for HermannM\n",
      "Returning --- 1417 friends for HermsTheWord\n",
      "Returning --- 70 friends for HernMun\n",
      "Returning --- 585 friends for HeroBakery"
     ]
    },
    {
     "name": "stderr",
     "output_type": "stream",
     "text": [
      "Got error: {\"errors\":[{\"message\":\"Rate limit exceeded\",\"code\":88}]} \n",
      "sleeping for 15 minutes.\n"
     ]
    },
    {
     "name": "stdout",
     "output_type": "stream",
     "text": [
      "\n",
      "Returning --- 114 friends for HeroOfSpielburg\n",
      "Returning --- 95 friends for HerrDuffy\n",
      "Returning --- 152 friends for HerrickBob\n",
      "Returning --- 679 friends for HerseyLiu\n",
      "Returning --- 92 friends for HerskovitsLibNU\n",
      "Returning --- 402 friends for HertstedMcCrary\n",
      "Returning --- 992 friends for HerzogJS\n",
      "Returning --- 23 friends for HessSuzy\n",
      "Returning --- 1123 friends for HeuermannSeries\n",
      "Returning --- 653 friends for Hevanston_Art\n",
      "Returning --- 662 friends for HexCube\n",
      "Returning --- 98 friends for HeyCarioca\n",
      "Returning --- 32 friends for HeyJohnnyMac\n",
      "Returning --- 130 friends for Hey_Arnold31"
     ]
    },
    {
     "name": "stderr",
     "output_type": "stream",
     "text": [
      "Got error: {\"errors\":[{\"message\":\"Rate limit exceeded\",\"code\":88}]} \n",
      "sleeping for 15 minutes.\n"
     ]
    },
    {
     "name": "stdout",
     "output_type": "stream",
     "text": [
      "\n",
      "Returning --- 13 friends for HiBaixm\n",
      "Returning --- 491 friends for HiChristinaK\n",
      "Returning --- 40 friends for HiDfad\n",
      "Returning --- 384 friends for HiLoInteriors\n",
      "Returning --- 849 friends for HiSavvyJaine\n",
      "Returning --- 720 friends for HibahYousuf\n",
      "Returning --- 462 friends for Hierocles\n",
      "Returning --- 253 friends for HifniAsari\n",
      "Returning --- 1982 friends for HighCBD\n",
      "Returning --- 429 friends for HighDoseD3Cure\n",
      "Returning --- 106 friends for HighcrestApt\n",
      "Returning --- 1156 friends for HigherEdCompass\n",
      "Returning --- 124 friends for HigherEdMorning\n",
      "Returning --- 892 friends for HigherEdSpeak"
     ]
    },
    {
     "name": "stderr",
     "output_type": "stream",
     "text": [
      "Got error: {\"errors\":[{\"message\":\"Rate limit exceeded\",\"code\":88}]} \n",
      "sleeping for 15 minutes.\n"
     ]
    },
    {
     "name": "stdout",
     "output_type": "stream",
     "text": [
      "\n",
      "Returning --- 2137 friends for HighlandPkPatch\n",
      "Returning --- 51 friends for HighrollerLuck\n",
      "Returning --- 480 friends for HighwoodEvents\n",
      "Returning --- 18 friends for Hihyouka1\n",
      "Returning --- 716 friends for HilaryJasmin\n",
      "Returning --- 7 friends for HilaryKoerner\n",
      "Returning --- 44 friends for HilaryMFlynn\n",
      "Returning --- 36 friends for HilkertP\n",
      "Returning --- 208 friends for Hill_Daws\n",
      "Returning --- 206 friends for HillaryTidman\n",
      "Collected 5000 friends for HillelIntl\n",
      "Returning --- 11046 friends for HillelIntl"
     ]
    },
    {
     "name": "stderr",
     "output_type": "stream",
     "text": [
      "Got error: {\"errors\":[{\"message\":\"Rate limit exceeded\",\"code\":88}]} \n",
      "sleeping for 15 minutes.\n"
     ]
    },
    {
     "name": "stdout",
     "output_type": "stream",
     "text": [
      "\n",
      "Returning --- 146 friends for HillsTonya\n",
      "Returning --- 622 friends for Hilppo\n",
      "Returning --- 231 friends for HiltonIstanbul\n",
      "Returning --- 1415 friends for HiltonLisle\n",
      "Returning --- 763 friends for HimalayanAdven2\n",
      "Returning --- 83 friends for HinaKM\n",
      "Returning --- 529 friends for Hinda_Akel\n",
      "Returning --- 362 friends for HinesSeth\n",
      "Returning --- 326 friends for HinkleHaley\n",
      "Returning --- 30 friends for HinksonJoyce\n",
      "Returning --- 55 friends for HinsdaleOrtho\n",
      "Returning --- 228 friends for HiraTKhan\n",
      "Returning --- 482 friends for HireAState\n",
      "Returning --- 180 friends for HireEDUTalent"
     ]
    },
    {
     "name": "stderr",
     "output_type": "stream",
     "text": [
      "Got error: {\"errors\":[{\"message\":\"Rate limit exceeded\",\"code\":88}]} \n",
      "sleeping for 15 minutes.\n"
     ]
    },
    {
     "name": "stdout",
     "output_type": "stream",
     "text": [
      "\n",
      "Returning --- 1130 friends for HireLive\n",
      "Returning --- 549 friends for HireStonehill\n",
      "Returning --- 1916 friends for HireTime\n",
      "Returning --- 2980 friends for HireUpJob\n",
      "Returning --- 1438 friends for HireYourIntern\n",
      "Returning --- 342 friends for HiredBranding\n",
      "Returning --- 2001 friends for Hiring_USA\n",
      "Returning --- 290 friends for HiroshiKitada\n",
      "Returning --- 85 friends for HistStudiesNU\n",
      "Returning --- 1130 friends for Histolines_\n",
      "Returning --- 667 friends for HistoricaCloth\n",
      "Returning --- 6 friends for History_Boys_NU\n",
      "Returning --- 1955 friends for HlpSum1\n",
      "Returning --- 764 friends for Hmarx14\n",
      "Returning --- 6 friends for HnHprinting1"
     ]
    },
    {
     "name": "stderr",
     "output_type": "stream",
     "text": [
      "Got error: {\"errors\":[{\"message\":\"Rate limit exceeded\",\"code\":88}]} \n",
      "sleeping for 15 minutes.\n"
     ]
    },
    {
     "name": "stdout",
     "output_type": "stream",
     "text": [
      "\n",
      "Returning --- 561 friends for Hobbits4Change\n",
      "Returning --- 28 friends for HockeyMum37\n",
      "Returning --- 121 friends for HodgePartners\n",
      "Returning --- 318 friends for HofstraCareer\n",
      "Returning --- 356 friends for HoganNoSlogan\n",
      "Returning --- 950 friends for HoldinTheRope\n",
      "Returning --- 894 friends for HolidayBowlGame\n",
      "Returning --- 567 friends for HolidayInnIndy\n",
      "Returning --- 57 friends for HollyAtHolmes\n",
      "Returning --- 854 friends for HollyFirferCNN\n",
      "Returning --- 347 friends for HollyHhirsch\n",
      "Returning --- 658 friends for HollyWright22\n",
      "Returning --- 664 friends for HollysSciFinds"
     ]
    },
    {
     "name": "stderr",
     "output_type": "stream",
     "text": [
      "Got error: {\"errors\":[{\"message\":\"Rate limit exceeded\",\"code\":88}]} \n",
      "sleeping for 15 minutes.\n"
     ]
    },
    {
     "name": "stdout",
     "output_type": "stream",
     "text": [
      "\n",
      "Returning --- 525 friends for HollywoodLiving\n",
      "Returning --- 1111 friends for HolmesMarchant\n",
      "Returning --- 4998 friends for HolyOffering\n",
      "Returning --- 37 friends for Holybet\n",
      "Returning --- 1018 friends for HomeCookedCHI\n",
      "Returning --- 1461 friends for HomeDeliveryQtr\n",
      "Collected 5000 friends for HomeDepot\n",
      "Collected 15000 friends for HomeDepot\n",
      "Collected 30000 friends for HomeDepot\n",
      "Found more than 50,000 friends. Returning error code = -3\n",
      "Collected 5000 friends for HomeOnDerange\n",
      "Returning --- 14709 friends for HomeOnDerange\n",
      "Returning --- 56 friends for Homecoming5K\n",
      "Returning --- 64 friends for HomecomingCourt\n",
      "Returning --- 1990 friends for HomelessFamilyR"
     ]
    },
    {
     "name": "stderr",
     "output_type": "stream",
     "text": [
      "Got error: {\"errors\":[{\"message\":\"Rate limit exceeded\",\"code\":88}]} \n",
      "sleeping for 15 minutes.\n"
     ]
    },
    {
     "name": "stdout",
     "output_type": "stream",
     "text": [
      "\n",
      "Returning --- 342 friends for Homer_101\n",
      "Returning --- 1850 friends for HomesNews\n",
      "Returning --- 1394 friends for Homescout\n",
      "Returning --- 243 friends for HomesteadHotel\n",
      "Returning --- 159 friends for HomewithKathy\n",
      "Returning --- 707 friends for HomewoodChi\n",
      "Returning --- 165 friends for Honderbean\n",
      "Returning --- 680 friends for HonestAbe081\n",
      "Returning --- 21 friends for HonghaoLi00\n",
      "Returning --- 506 friends for HonoluluXing\n",
      "Returning --- 78 friends for HonorsEducation\n",
      "Returning --- 1449 friends for HoochHappenings\n",
      "Returning --- 498 friends for HoodCollegeAlum\n",
      "Returning --- 103 friends for HookUpYourDorm"
     ]
    },
    {
     "name": "stderr",
     "output_type": "stream",
     "text": [
      "Got error: {\"errors\":[{\"message\":\"Rate limit exceeded\",\"code\":88}]} \n",
      "sleeping for 15 minutes.\n"
     ]
    },
    {
     "name": "stdout",
     "output_type": "stream",
     "text": [
      "\n",
      "Returning --- 577 friends for HookahResource\n",
      "Returning --- 1290 friends for Hooks8\n",
      "Returning --- 364 friends for HoopMark\n",
      "Returning --- 210 friends for Hooper_Diggy\n",
      "Returning --- 858 friends for HoopisFinancial\n",
      "Returning --- 1883 friends for Hoosier34\n",
      "Returning --- 145 friends for HooverNews\n",
      "Returning --- 1819 friends for HopThePond\n",
      "Returning --- 2229 friends for HopeBuehler\n",
      "Returning --- 603 friends for HopeCristol\n",
      "Returning --- 1450 friends for HopeLCSW\n",
      "Returning --- 2022 friends for HopeRehak\n",
      "Returning --- 163 friends for HopeStepInto\n",
      "Returning --- 6 friends for Hope_4_US\n",
      "Returning --- 942 friends for Hope_evolv"
     ]
    },
    {
     "name": "stderr",
     "output_type": "stream",
     "text": [
      "Got error: {\"errors\":[{\"message\":\"Rate limit exceeded\",\"code\":88}]} \n",
      "sleeping for 15 minutes.\n"
     ]
    },
    {
     "name": "stdout",
     "output_type": "stream",
     "text": [
      "\n",
      "Returning --- 2777 friends for HopeforHaitiFL\n",
      "Returning --- 1194 friends for HopkinsNanjing\n",
      "Returning --- 146 friends for Hopkins_Intl_UA\n",
      "Returning --- 1873 friends for HorizonDream\n",
      "Returning --- 868 friends for HorizonMediaInc\n",
      "Returning --- 437 friends for HornbillFB\n",
      "Returning --- 59 friends for HorseyBanana\n",
      "Returning --- 560 friends for HortonHealth\n",
      "Returning --- 24 friends for HoseaHLee\n",
      "Returning --- 1883 friends for HospitalPract\n",
      "Returning --- 117 friends for HosuLakeLee\n",
      "Returning --- 148 friends for HotAuntSuzy\n",
      "Returning --- 1934 friends for HotBeachBall\n",
      "Returning --- 27 friends for HotCookieBar"
     ]
    },
    {
     "name": "stderr",
     "output_type": "stream",
     "text": [
      "Got error: {\"errors\":[{\"message\":\"Rate limit exceeded\",\"code\":88}]} \n",
      "sleeping for 15 minutes.\n"
     ]
    },
    {
     "name": "stdout",
     "output_type": "stream",
     "text": [
      "\n",
      "Returning --- 138 friends for HotHeadDlo\n",
      "Returning --- 2837 friends for HotTix\n",
      "Returning --- 380 friends for Hot_Karl_Hungus\n",
      "Returning --- 1832 friends for Hotchahardcore\n",
      "Returning --- 82 friends for Hotel511\n",
      "Returning --- 201 friends for Hotiesays\n",
      "Returning --- 16 friends for Houcker007\n",
      "Returning --- 138 friends for HouliChicago\n",
      "Returning --- 223 friends for HousingOpt\n",
      "Returning --- 205 friends for HoustonBadgers\n",
      "Returning --- 548 friends for Houston_Hotshot\n",
      "Returning --- 563 friends for HowWeLearn\n",
      "Returning --- 525 friends for HowardAreaCC\n",
      "Returning --- 679 friends for HowardFullmanMD"
     ]
    },
    {
     "name": "stderr",
     "output_type": "stream",
     "text": [
      "Got error: {\"errors\":[{\"message\":\"Rate limit exceeded\",\"code\":88}]} \n",
      "sleeping for 15 minutes.\n"
     ]
    },
    {
     "name": "stdout",
     "output_type": "stream",
     "text": [
      "\n",
      "Returning --- 165 friends for HowardHUSB\n",
      "Returning --- 248 friends for HowardLars\n",
      "Returning --- 1408 friends for HowardStreetNow\n",
      "Returning --- 68 friends for HowleKh\n",
      "Returning --- 47 friends for HowlettTed\n",
      "Returning --- 121 friends for HridB\n",
      "Returning --- 39 friends for HsiaoTieh\n",
      "Returning --- 58 friends for HuEdward\n",
      "Returning --- 111 friends for HuHayley\n",
      "Returning --- 508 friends for Huaijerry\n",
      "Returning --- 9 friends for HuanxinWu\n",
      "Returning --- 1968 friends for HuatAh18\n",
      "Returning --- 32 friends for HubertZHANG1992"
     ]
    },
    {
     "name": "stderr",
     "output_type": "stream",
     "text": [
      "Got error: {\"errors\":[{\"message\":\"Rate limit exceeded\",\"code\":88}]} \n",
      "sleeping for 15 minutes.\n"
     ]
    },
    {
     "name": "stdout",
     "output_type": "stream",
     "text": [
      "\n",
      "Returning --- 31 friends for Huboss1\n",
      "Returning --- 440 friends for HubsRestaurant\n",
      "Returning --- 247 friends for HudHSGuidance\n",
      "Returning --- 36 friends for HudLewis\n",
      "Returning --- 36 friends for Huerta_A\n",
      "Returning --- 31 friends for Huetal\n",
      "Returning --- 2714 friends for HuffPostCollege\n",
      "Returning --- 134 friends for HuffatLaw\n",
      "Returning --- 257 friends for Huffatori\n",
      "Returning --- 111 friends for HughJass2012\n",
      "Returning --- 650 friends for HughVandivier\n",
      "Returning --- 10 friends for HughWright4\n",
      "Returning --- 1924 friends for HugoPortasTuba\n",
      "Returning --- 405 friends for Hugowang1996"
     ]
    },
    {
     "name": "stderr",
     "output_type": "stream",
     "text": [
      "Got error: {\"errors\":[{\"message\":\"Rate limit exceeded\",\"code\":88}]} \n",
      "sleeping for 15 minutes.\n"
     ]
    },
    {
     "name": "stdout",
     "output_type": "stream",
     "text": [
      "\n",
      "Returning --- 21 friends for HuiqinLiu\n",
      "Returning --- 193 friends for HulyaSerruf\n",
      "Returning --- 88 friends for HumaGruaz\n",
      "Returning --- 1253 friends for HumorProgrammer\n",
      "Returning --- 912 friends for HumpIsaiah\n",
      "Returning --- 799 friends for HumphreyKatie\n",
      "Returning --- 247 friends for HungryGirlU\n",
      "Returning --- 100 friends for HunnamZak\n",
      "Returning --- 60 friends for Hunnyk\n",
      "Returning --- 325 friends for HuntaKinte\n",
      "Returning --- 50 friends for Hurwid\n",
      "Returning --- 73 friends for HustleCall\n",
      "Returning --- 1917 friends for HuxinGames\n",
      "Returning --- 334 friends for HuynhSpring"
     ]
    },
    {
     "name": "stderr",
     "output_type": "stream",
     "text": [
      "Got error: {\"errors\":[{\"message\":\"Rate limit exceeded\",\"code\":88}]} \n",
      "sleeping for 15 minutes.\n"
     ]
    },
    {
     "name": "stdout",
     "output_type": "stream",
     "text": [
      "\n",
      "Returning --- 584 friends for HyattDeerfield1\n",
      "Returning --- 3613 friends for HyattTweets\n",
      "Returning --- 1908 friends for HydroWorx\n",
      "Returning --- 243 friends for Hydrolosophy\n",
      "Returning --- 143 friends for Hyunion\n",
      "Returning --- 1025 friends for IAFORPhotoAward\n",
      "Returning --- 2024 friends for IAMCHRISTINE\n",
      "Returning --- 131 friends for IAMQuiteFrank\n",
      "Returning --- 1993 friends for IAP2USA\n",
      "Returning --- 253 friends for IAmMuneerSial\n",
      "Returning --- 1954 friends for IBAInvent\n",
      "Returning --- 22 friends for IBC_Kellogg"
     ]
    },
    {
     "name": "stderr",
     "output_type": "stream",
     "text": [
      "Got error: {\"errors\":[{\"message\":\"Rate limit exceeded\",\"code\":88}]} \n",
      "sleeping for 15 minutes.\n"
     ]
    },
    {
     "name": "stdout",
     "output_type": "stream",
     "text": [
      "\n",
      "Returning --- 1239 friends for IBConsultancy\n",
      "Returning --- 489 friends for IBMAfricaJobs\n",
      "Returning --- 967 friends for IBMCampusUSA\n",
      "Returning --- 192 friends for IBMEducation\n",
      "Returning --- 169 friends for IBM_ES_U\n",
      "Returning --- 448 friends for IBM_GBSCareers\n",
      "Returning --- 1946 friends for IBMclientvoices\n",
      "Returning --- 469 friends for IBabygi\n",
      "Returning --- 120 friends for IBlechschmidt\n",
      "Returning --- 1114 friends for ICCInterns\n",
      "Returning --- 213 friends for ICDAINFO\n",
      "Returning --- 456 friends for ICEStandardEDU\n",
      "Returning --- 3536 friends for ICE_Markets"
     ]
    },
    {
     "name": "stderr",
     "output_type": "stream",
     "text": [
      "Got error: {\"errors\":[{\"message\":\"Rate limit exceeded\",\"code\":88}]} \n",
      "sleeping for 15 minutes.\n"
     ]
    },
    {
     "name": "stdout",
     "output_type": "stream",
     "text": [
      "\n",
      "Returning --- 1459 friends for ICHSBaseball\n",
      "Returning --- 888 friends for ICISTAFFING\n",
      "Returning --- 2215 friends for ICPCNews\n",
      "Returning --- 3898 friends for ICSlimSalud\n",
      "Returning --- 1461 friends for IChachov\n",
      "Returning --- 101 friends for IDA_org\n",
      "Returning --- 359 friends for IDOTDistrict1\n",
      "Collected 5000 friends for IDOT_Illinois\n",
      "Returning --- 11000 friends for IDOT_Illinois\n",
      "Returning --- 1107 friends for IDPFoundation\n",
      "Returning --- 751 friends for ID_FreshNFirst\n",
      "Returning --- 201 friends for IDidMyHomework\n",
      "Returning --- 187 friends for IECFellows\n",
      "Returning --- 1874 friends for IEFLP\n",
      "Returning --- 2925 friends for IEFTurkey"
     ]
    },
    {
     "name": "stderr",
     "output_type": "stream",
     "text": [
      "Got error: {\"errors\":[{\"message\":\"Rate limit exceeded\",\"code\":88}]} \n",
      "sleeping for 15 minutes.\n"
     ]
    },
    {
     "name": "stdout",
     "output_type": "stream",
     "text": [
      "\n",
      "Returning --- 1493 friends for IEMC_Global\n",
      "Returning --- 1904 friends for IEMC_Industrial\n",
      "Returning --- 1918 friends for IESabroad\n",
      "Returning --- 963 friends for IESinternships\n",
      "Returning --- 1314 friends for IETrainings\n",
      "Returning --- 179 friends for IEYCFoundation\n",
      "Returning --- 42 friends for IFGRob\n",
      "Returning --- 1117 friends for IFSAButler\n",
      "Returning --- 325 friends for IFSANewZealand\n",
      "Returning --- 634 friends for IGCAssociates\n",
      "Returning --- 368 friends for IGLRC\n",
      "Returning --- 63 friends for IGaveAnAlias\n",
      "Returning --- 185 friends for IHSPLA\n",
      "Returning --- 1623 friends for IIMRAofficial"
     ]
    },
    {
     "name": "stderr",
     "output_type": "stream",
     "text": [
      "Got error: {\"errors\":[{\"message\":\"Rate limit exceeded\",\"code\":88}]} \n",
      "sleeping for 15 minutes.\n"
     ]
    },
    {
     "name": "stdout",
     "output_type": "stream",
     "text": [
      "\n",
      "Returning --- 645 friends for IINanoNU\n",
      "Returning --- 40 friends for IIXS6qN5mFbS\n",
      "Returning --- 174 friends for IIrishEyes\n",
      "Returning --- 196 friends for IJMICHELLELAXER\n",
      "Returning --- 22 friends for IJPSchool_Grads\n",
      "Returning --- 1999 friends for ILAFLCIO\n",
      "Returning --- 2108 friends for ILASCD\n",
      "Returning --- 15 friends for ILBrainHealth\n",
      "Returning --- 1153 friends for ILBroadcasting\n",
      "Returning --- 280 friends for ILCC_illinois\n",
      "Returning --- 108 friends for ILCareerDev\n",
      "Returning --- 1573 friends for ILFCGOV\n",
      "Returning --- 225 friends for ILFilmOffice\n",
      "Returning --- 56 friends for ILLArtTherapy\n",
      "Returning --- 187 friends for ILPregnantHelp"
     ]
    },
    {
     "name": "stderr",
     "output_type": "stream",
     "text": [
      "Got error: {\"errors\":[{\"message\":\"Rate limit exceeded\",\"code\":88}]} \n",
      "sleeping for 15 minutes.\n"
     ]
    },
    {
     "name": "stdout",
     "output_type": "stream",
     "text": [
      "\n",
      "Returning --- 262 friends for ILPsychological\n",
      "Returning --- 2079 friends for ILSchoolPosters\n",
      "Returning --- 505 friends for ILStudentEnviro\n",
      "Returning --- 6 friends for ILStudentsUnite\n",
      "Returning --- 130 friends for ILTechJobs\n",
      "Returning --- 18 friends for ILikeBelugas\n",
      "Returning --- 76 friends for ILiveLikeThis2\n",
      "Returning --- 2568 friends for ILiveLikeThis4\n",
      "Returning --- 119 friends for IMAMonki21\n",
      "Returning --- 87 friends for IMCTrading\n",
      "Returning --- 107 friends for IMCTradingUS\n",
      "Returning --- 193 friends for IMC_CMI\n",
      "Returning --- 91 friends for IMCpjones14\n",
      "Returning --- 773 friends for IMN_Investment\n",
      "Returning --- 482 friends for IMOHMMAD_1"
     ]
    },
    {
     "name": "stderr",
     "output_type": "stream",
     "text": [
      "Got error: {\"errors\":[{\"message\":\"Rate limit exceeded\",\"code\":88}]} \n",
      "sleeping for 15 minutes.\n"
     ]
    },
    {
     "name": "stdout",
     "output_type": "stream",
     "text": [
      "\n",
      "Returning --- 581 friends for IMPACTprogram\n",
      "Returning --- 628 friends for IM_hiLARRYous18\n",
      "Returning --- 55 friends for IMcPhill\n",
      "Returning --- 82 friends for IMpactStrong15\n",
      "Returning --- 954 friends for IN3_UOC\n",
      "Returning --- 258 friends for INFINITYstudy\n",
      "Returning --- 95 friends for INVOatNU\n",
      "Returning --- 1079 friends for INccArenaWRSP\n",
      "Returning --- 156 friends for INdukwe\n",
      "Returning --- 651 friends for IOCOM\n",
      "Returning --- 203 friends for IOR_Finland\n",
      "Returning --- 263 friends for IPBG_Erinh\n",
      "Returning --- 145 friends for IPRatNU\n",
      "Returning --- 482 friends for IPSOCHALLENGE"
     ]
    },
    {
     "name": "stderr",
     "output_type": "stream",
     "text": [
      "Got error: {\"errors\":[{\"message\":\"Rate limit exceeded\",\"code\":88}]} \n",
      "sleeping for 15 minutes.\n"
     ]
    },
    {
     "name": "stdout",
     "output_type": "stream",
     "text": [
      "\n",
      "Returning --- 53 friends for IQPME2\n",
      "Returning --- 222 friends for IRFhq\n",
      "Returning --- 3412 friends for IRPatNIH\n",
      "Returning --- 777 friends for IRosol\n",
      "Returning --- 141 friends for ISABELCORTS9\n",
      "Returning --- 431 friends for ISAC_INDIA\n",
      "Returning --- 40 friends for ISANorthwestern\n",
      "Returning --- 724 friends for ISA_experience\n",
      "Returning --- 7 friends for ISBE_TECH\n",
      "Returning --- 2321 friends for ISCEA\n",
      "Returning --- 728 friends for ISC_Boston\n",
      "Returning --- 1806 friends for ISENatNU\n",
      "Returning --- 1176 friends for ISFCollege\n",
      "Returning --- 61 friends for ISN_NU\n",
      "Returning --- 1920 friends for ISOQATAR"
     ]
    },
    {
     "name": "stderr",
     "output_type": "stream",
     "text": [
      "Got error: {\"errors\":[{\"message\":\"Rate limit exceeded\",\"code\":88}]} \n",
      "sleeping for 15 minutes.\n"
     ]
    },
    {
     "name": "stdout",
     "output_type": "stream",
     "text": [
      "\n",
      "Returning --- 1267 friends for ISPPChicago\n",
      "Returning --- 450 friends for ISQIC1\n",
      "Returning --- 45 friends for ISRC_Love\n",
      "Returning --- 2062 friends for ISTCoalition\n",
      "Returning --- 894 friends for ISTPLifeScience\n",
      "Returning --- 387 friends for ISavedFerris\n",
      "Returning --- 255 friends for ITAArtsTherapy\n",
      "Returning --- 565 friends for ITATechTalent\n",
      "Returning --- 1777 friends for ITAbuzz\n",
      "Returning --- 2007 friends for ITCareerCoach\n",
      "Returning --- 1961 friends for ITEBS\n",
      "Returning --- 865 friends for ITFound\n",
      "Returning --- 421 friends for ITILCertified\n",
      "Returning --- 178 friends for ITWCareers"
     ]
    },
    {
     "name": "stderr",
     "output_type": "stream",
     "text": [
      "Got error: {\"errors\":[{\"message\":\"Rate limit exceeded\",\"code\":88}]} \n",
      "sleeping for 15 minutes.\n"
     ]
    },
    {
     "name": "stdout",
     "output_type": "stream",
     "text": [
      "\n",
      "Returning --- 1634 friends for IT_Connects\n",
      "Returning --- 714 friends for ITsearchTrends\n",
      "Returning --- 452 friends for IUASCS\n",
      "Returning --- 643 friends for IUSM_IBMG\n",
      "Returning --- 150 friends for IUSSTF\n",
      "Returning --- 25 friends for IUzilevskiy\n",
      "Returning --- 159 friends for IVSSolutions\n",
      "Returning --- 354 friends for IVUmed\n",
      "Returning --- 14 friends for IWBH21C\n",
      "Returning --- 40 friends for IWCareers\n",
      "Returning --- 100 friends for IWMtue\n",
      "Returning --- 124 friends for IWSEvanston\n",
      "Returning --- 994 friends for IWasASportsKid\n",
      "Returning --- 480 friends for I_AM_FAF\n",
      "Returning --- 468 friends for I_CHATT_ALOT"
     ]
    },
    {
     "name": "stderr",
     "output_type": "stream",
     "text": [
      "Got error: {\"errors\":[{\"message\":\"Rate limit exceeded\",\"code\":88}]} \n",
      "sleeping for 15 minutes.\n"
     ]
    },
    {
     "name": "stdout",
     "output_type": "stream",
     "text": [
      "\n",
      "Returning --- 12 friends for I_Love_Flow3\n",
      "Returning --- 212 friends for I_eat_bear_meat\n",
      "Returning --- 143 friends for I_m_Kendall_K\n",
      "Returning --- 144 friends for I_retweet_you\n",
      "Returning --- 43 friends for IachiniP\n",
      "Returning --- 104 friends for Iainhon\n",
      "Returning --- 190 friends for Iam515\n",
      "Returning --- 42 friends for IamATechLover\n",
      "Returning --- 456 friends for IamFernuni\n",
      "Returning --- 18 friends for IanLofwall\n",
      "Returning --- 1938 friends for IanTurvill"
     ]
    },
    {
     "name": "stderr",
     "output_type": "stream",
     "text": [
      "Got error: {\"errors\":[{\"message\":\"Rate limit exceeded\",\"code\":88}]} \n",
      "sleeping for 15 minutes.\n"
     ]
    },
    {
     "name": "stdout",
     "output_type": "stream",
     "text": [
      "\n",
      "Returning --- 775 friends for IanWelham3\n",
      "Returning --- 1980 friends for Ianyunekim\n",
      "Returning --- 2003 friends for Ibortad\n",
      "Returning --- 12 friends for IceCreamChicago\n",
      "Returning --- 1614 friends for IcedotSolutions\n",
      "Returning --- 195 friends for IcemanSuperkick\n",
      "Returning --- 1899 friends for Ichirobasehit\n",
      "Returning --- 249 friends for Icmora\n",
      "Returning --- 140 friends for IdealGasLab\n",
      "Returning --- 301 friends for Idealicity\n",
      "Returning --- 415 friends for IfeadiOdenigbo\n",
      "Returning --- 69 friends for Ifmalarrache\n",
      "Returning --- 761 friends for IgnacioImas"
     ]
    },
    {
     "name": "stderr",
     "output_type": "stream",
     "text": [
      "Got error: {\"errors\":[{\"message\":\"Rate limit exceeded\",\"code\":88}]} \n",
      "sleeping for 15 minutes.\n"
     ]
    },
    {
     "name": "stdout",
     "output_type": "stream",
     "text": [
      "\n",
      "Returning --- 51 friends for Ignacio_del_Rey\n",
      "Returning --- 139 friends for IgnitemyBand\n",
      "Returning --- 1999 friends for IheartMsFe\n",
      "Returning --- 11 friends for IheartTexas\n",
      "Returning --- 142 friends for Ihg8g434eeeewr3\n",
      "Returning --- 91 friends for Iknps511\n",
      "Returning --- 361 friends for IlCounseling\n",
      "Returning --- 1359 friends for IliadouMaria\n",
      "Returning --- 118 friends for IlianaBMacias\n",
      "Returning --- 708 friends for IlioneDillione\n",
      "Returning --- 115 friends for IljitschP\n",
      "Returning --- 93 friends for IlliniNUMusic1\n",
      "Returning --- 40 friends for Illini_Hornies\n",
      "Returning --- 85 friends for IllinoisArc"
     ]
    },
    {
     "name": "stderr",
     "output_type": "stream",
     "text": [
      "Got error: {\"errors\":[{\"message\":\"Rate limit exceeded\",\"code\":88}]} \n",
      "sleeping for 15 minutes.\n"
     ]
    },
    {
     "name": "stdout",
     "output_type": "stream",
     "text": [
      "\n",
      "Returning --- 535 friends for IllinoisDCEO\n",
      "Returning --- 2001 friends for IllinoisHemp\n",
      "Returning --- 42 friends for IllinoisJackson\n",
      "Returning --- 999 friends for IllinoisLETR\n",
      "Returning --- 1049 friends for IllinoisPIRG\n",
      "Returning --- 1019 friends for IllinoisScience\n",
      "Returning --- 708 friends for IllinoisStand\n",
      "Returning --- 254 friends for IllinoisTechGLP\n",
      "Returning --- 2028 friends for IllinoisTroops\n",
      "Returning --- 3591 friends for IllinoisTutors\n",
      "Returning --- 529 friends for IlliquidxUk\n",
      "Returning --- 46 friends for Illsalawforum\n",
      "Returning --- 214 friends for IllumenGroup\n",
      "Returning --- 1071 friends for Illumin8Cre\n",
      "Returning --- 1078 friends for Iluvcustomerser"
     ]
    },
    {
     "name": "stderr",
     "output_type": "stream",
     "text": [
      "Got error: {\"errors\":[{\"message\":\"Rate limit exceeded\",\"code\":88}]} \n",
      "sleeping for 15 minutes.\n"
     ]
    },
    {
     "name": "stdout",
     "output_type": "stream",
     "text": [
      "\n",
      "Returning --- 1321 friends for ImCaroH\n",
      "Returning --- 57 friends for ImGettinLucky\n",
      "Returning --- 292 friends for ImMBaldwin\n",
      "Returning --- 151 friends for ImMarcUnderhill\n",
      "Returning --- 552 friends for ImMishaDummies\n",
      "Returning --- 133 friends for ImPlaidToBeHere\n",
      "Returning --- 211 friends for ImTaylorLosi\n",
      "Returning --- 30 friends for ImaTxn1\n",
      "Returning --- 24 friends for Imagination_ORD\n",
      "Returning --- 206 friends for ImagineOptic\n",
      "Returning --- 1510 friends for ImaniFountain\n",
      "Returning --- 1454 friends for ImaniMixon\n",
      "Returning --- 140 friends for ImanisLife"
     ]
    },
    {
     "name": "stderr",
     "output_type": "stream",
     "text": [
      "Got error: {\"errors\":[{\"message\":\"Rate limit exceeded\",\"code\":88}]} \n",
      "sleeping for 15 minutes.\n"
     ]
    },
    {
     "name": "stdout",
     "output_type": "stream",
     "text": [
      "\n",
      "Returning --- 73 friends for ImcKetan\n",
      "Collected 5000 friends for ImermanAngels\n",
      "Returning --- 10147 friends for ImermanAngels\n",
      "Returning --- 880 friends for ImermanCake\n",
      "Returning --- 117 friends for ImmanuelDan\n",
      "Returning --- 213 friends for ImmasbraidsHair\n",
      "Returning --- 155 friends for ImmortalityProj\n",
      "Collected 5000 friends for ImpactInterview\n",
      "Collected 15000 friends for ImpactInterview\n",
      "Returning --- 26110 friends for ImpactInterview\n",
      "Returning --- 583 friends for ImpactMyBiz\n",
      "Returning --- 801 friends for ImpactUIllinois\n",
      "Returning --- 1927 friends for Imperia_Travel"
     ]
    },
    {
     "name": "stderr",
     "output_type": "stream",
     "text": [
      "Got error: {\"errors\":[{\"message\":\"Rate limit exceeded\",\"code\":88}]} \n",
      "sleeping for 15 minutes.\n"
     ]
    },
    {
     "name": "stdout",
     "output_type": "stream",
     "text": [
      "\n",
      "Returning --- 351 friends for ImprovMythology\n",
      "Returning --- 202 friends for ImprovPlayhouse\n",
      "Returning --- 538 friends for ImprovUpYours\n",
      "Returning --- 779 friends for InAgeofObama\n",
      "Returning --- 1844 friends for InDegree\n",
      "Returning --- 1940 friends for InSightSignCo\n",
      "Returning --- 45 friends for InTheWordsOf_I\n",
      "Returning --- 201 friends for InVisionship\n",
      "Returning --- 92 friends for Incendiary37\n",
      "Returning --- 241 friends for InclineMrketing\n",
      "Returning --- 484 friends for InclusionNU\n",
      "Returning --- 1229 friends for IndependentMaps\n",
      "Returning --- 107 friends for IndiaCate\n",
      "Returning --- 1883 friends for IndiaCoSetup\n",
      "Returning --- 1114 friends for IndianHigherEd"
     ]
    },
    {
     "name": "stderr",
     "output_type": "stream",
     "text": [
      "Got error: {\"errors\":[{\"message\":\"Rate limit exceeded\",\"code\":88}]} \n",
      "sleeping for 15 minutes.\n"
     ]
    },
    {
     "name": "stdout",
     "output_type": "stream",
     "text": [
      "\n",
      "Returning --- 9 friends for IndianOaksAcad\n",
      "Returning --- 276 friends for IndianaLawCSO\n",
      "Returning --- 2002 friends for Indiana_Realtor\n",
      "Returning --- 977 friends for IndianapolisXin\n",
      "Returning --- 137 friends for IneYofre\n",
      "Returning --- 603 friends for InfamousMD\n",
      "Returning --- 443 friends for InfinityVIPCarl\n",
      "Returning --- 1287 friends for InfinityZedge\n",
      "Returning --- 2294 friends for InfoFSD\n",
      "Returning --- 49 friends for InfrequentTweet\n",
      "Returning --- 1596 friends for Ingi_G\n",
      "Returning --- 138 friends for InnerLinkTweets\n",
      "Returning --- 699 friends for InnovateBlue\n",
      "Returning --- 1820 friends for Innovationsacad"
     ]
    },
    {
     "name": "stderr",
     "output_type": "stream",
     "text": [
      "Got error: {\"errors\":[{\"message\":\"Rate limit exceeded\",\"code\":88}]} \n",
      "sleeping for 15 minutes.\n"
     ]
    },
    {
     "name": "stdout",
     "output_type": "stream",
     "text": [
      "\n",
      "Returning --- 2101 friends for InnovoStaffing\n",
      "Returning --- 290 friends for InorgChem\n",
      "Returning --- 1623 friends for InouyeUSCIS\n",
      "Returning --- 169 friends for InsanityToLove\n",
      "Returning --- 929 friends for InsideEdge\n",
      "Returning --- 3219 friends for InsideKellogg\n",
      "Returning --- 690 friends for InsideVISANOW\n",
      "Returning --- 691 friends for InsightEduc\n",
      "Returning --- 842 friends for InsightNU\n",
      "Returning --- 125 friends for Instacart_Chi\n",
      "Returning --- 1567 friends for InstantLoyalty\n",
      "Returning --- 1282 friends for InsulatorsWork\n",
      "Returning --- 1379 friends for Integraphix\n",
      "Returning --- 87 friends for Integrated_Dave"
     ]
    },
    {
     "name": "stderr",
     "output_type": "stream",
     "text": [
      "Got error: {\"errors\":[{\"message\":\"Rate limit exceeded\",\"code\":88}]} \n",
      "sleeping for 15 minutes.\n"
     ]
    },
    {
     "name": "stdout",
     "output_type": "stream",
     "text": [
      "\n",
      "Returning --- 1831 friends for IntegritasCRG\n",
      "Returning --- 289 friends for IntelCornellCup\n",
      "Collected 5000 friends for IntelEDU\n",
      "Returning --- 10692 friends for IntelEDU\n",
      "Returning --- 1475 friends for IntelliTrack\n",
      "Collected 5000 friends for IntelligenceTV\n",
      "Collected 15000 friends for IntelligenceTV\n",
      "Collected 30000 friends for IntelligenceTV\n",
      "Found more than 50,000 friends. Returning error code = -3\n",
      "Returning --- 69 friends for Intendedbathos\n",
      "Returning --- 22 friends for Interfaith_Hall\n",
      "Returning --- 1402 friends for Intern\n",
      "Returning --- 1686 friends for InternChina\n",
      "Returning --- 497 friends for InternEurope\n",
      "Returning --- 628 friends for InternIllinois"
     ]
    },
    {
     "name": "stderr",
     "output_type": "stream",
     "text": [
      "Got error: {\"errors\":[{\"message\":\"Rate limit exceeded\",\"code\":88}]} \n",
      "sleeping for 15 minutes.\n"
     ]
    },
    {
     "name": "stdout",
     "output_type": "stream",
     "text": [
      "\n",
      "Returning --- 1018 friends for InternVue\n",
      "Returning --- 1643 friends for Intern_Alliance\n",
      "Returning --- 3867 friends for InternationalO\n",
      "Returning --- 460 friends for Internbridge\n",
      "Returning --- 1970 friends for InternetTT\n",
      "Returning --- 166 friends for InternsClub\n",
      "Returning --- 1869 friends for InternshipKing\n",
      "Returning --- 353 friends for Internshipdesk\n",
      "Returning --- 229 friends for Internsy\n",
      "Returning --- 310 friends for InterviewSavvy\n",
      "Returning --- 636 friends for Interview_App\n",
      "Returning --- 209 friends for IntlASSET\n",
      "Returning --- 869 friends for IntlFocus\n",
      "Returning --- 21 friends for IntlSportsLaw\n",
      "Returning --- 298 friends for IntlUVAssn"
     ]
    },
    {
     "name": "stderr",
     "output_type": "stream",
     "text": [
      "Got error: {\"errors\":[{\"message\":\"Rate limit exceeded\",\"code\":88}]} \n",
      "sleeping for 15 minutes.\n"
     ]
    },
    {
     "name": "stdout",
     "output_type": "stream",
     "text": [
      "\n",
      "Returning --- 151 friends for IntoTheWords_\n",
      "Returning --- 602 friends for IntraxInterns\n",
      "Returning --- 817 friends for IntrigueLeague\n",
      "Returning --- 484 friends for IntroToSlumdog\n",
      "Returning --- 605 friends for Intruder21\n",
      "Returning --- 3921 friends for IntuitCareers\n",
      "Returning --- 1921 friends for Inv_Management\n",
      "Returning --- 1368 friends for Invent_Jo_204\n",
      "Returning --- 1644 friends for Invent_Jo_205\n",
      "Returning --- 1936 friends for Invent_Jo_208\n",
      "Returning --- 1065 friends for Invent_Jo_2082\n",
      "Returning --- 17 friends for InverseDesign\n",
      "Returning --- 32 friends for InvestDef\n",
      "Returning --- 63 friends for Invest_Strata"
     ]
    },
    {
     "name": "stderr",
     "output_type": "stream",
     "text": [
      "Got error: {\"errors\":[{\"message\":\"Rate limit exceeded\",\"code\":88}]} \n",
      "sleeping for 15 minutes.\n"
     ]
    },
    {
     "name": "stdout",
     "output_type": "stream",
     "text": [
      "\n",
      "Returning --- 24 friends for IossifStrehin\n",
      "Returning --- 101 friends for IotaSinfonia\n",
      "Returning --- 18 friends for IowAwesome\n",
      "Returning --- 1218 friends for IowaHolidays\n",
      "Returning --- 24 friends for IowaQuilterLady\n",
      "Returning --- 2000 friends for Ipasmantier\n",
      "Returning --- 339 friends for Iplay_running\n",
      "Returning --- 1202 friends for IpsumTM\n",
      "Returning --- 68 friends for Irenabgb6\n",
      "Returning --- 756 friends for Irenegreeno\n",
      "Returning --- 354 friends for Irenes_news\n",
      "Returning --- 65 friends for IrisLee0607\n",
      "Returning --- 208 friends for IrishMountain"
     ]
    },
    {
     "name": "stderr",
     "output_type": "stream",
     "text": [
      "Got error: {\"errors\":[{\"message\":\"Rate limit exceeded\",\"code\":88}]} \n",
      "sleeping for 15 minutes.\n"
     ]
    },
    {
     "name": "stdout",
     "output_type": "stream",
     "text": [
      "\n",
      "Returning --- 1662 friends for IrishXmasMarket\n",
      "Returning --- 754 friends for Irishgal99\n",
      "Returning --- 1890 friends for IrmeliHuttunen\n",
      "Returning --- 232 friends for IronDataJobs\n",
      "Returning --- 81 friends for Ironswim\n",
      "Returning --- 229 friends for IrrelevanTw33ts\n",
      "Returning --- 1994 friends for IrvLeavitt\n",
      "Returning --- 351 friends for IsaLarus\n",
      "Returning --- 1016 friends for Isa_Almoawda\n",
      "Returning --- 187 friends for Isaaccohen1235\n",
      "Returning --- 159 friends for IsabelitaCast\n",
      "Returning --- 63 friends for IsabellaGrace24\n",
      "Returning --- 19 friends for IsabellaHayford\n",
      "Collected 5000 friends for Isabella_Lily1"
     ]
    },
    {
     "name": "stderr",
     "output_type": "stream",
     "text": [
      "Got error: {\"errors\":[{\"message\":\"Rate limit exceeded\",\"code\":88}]} \n",
      "sleeping for 15 minutes.\n"
     ]
    },
    {
     "name": "stdout",
     "output_type": "stream",
     "text": [
      "\n",
      "Returning --- 10434 friends for Isabella_Lily1\n",
      "Returning --- 104 friends for IsabelleHedrich\n",
      "Returning --- 228 friends for Isamercado41308\n",
      "Returning --- 62 friends for Iselyh\n",
      "Returning --- 836 friends for Isha_Jog\n",
      "Returning --- 139 friends for IskandarAlAhmar\n",
      "Returning --- 758 friends for IsmaelKanju\n",
      "Returning --- 52 friends for IsnainiNuraini\n",
      "Returning --- 17 friends for IsometricCube1\n",
      "Returning --- 74 friends for Israel_Quant\n",
      "Returning --- 121 friends for IsteFoundation\n",
      "Returning --- 155 friends for IsumitC\n",
      "Returning --- 2017 friends for ItBURNS1234"
     ]
    },
    {
     "name": "stderr",
     "output_type": "stream",
     "text": [
      "Got error: {\"errors\":[{\"message\":\"Rate limit exceeded\",\"code\":88}]} \n",
      "sleeping for 15 minutes.\n"
     ]
    },
    {
     "name": "stdout",
     "output_type": "stream",
     "text": [
      "\n",
      "Returning --- 2015 friends for ItaloSuave\n",
      "Returning --- 41 friends for ItegratedMedill\n",
      "Returning --- 478 friends for IthacaHealth\n",
      "Returning --- 541 friends for ItsAmeesha\n",
      "Returning --- 32 friends for ItsJohnEvans\n",
      "Returning --- 130 friends for ItsJonEvans\n",
      "Returning --- 1232 friends for ItsKweeOhStupid\n",
      "Returning --- 82 friends for ItsLilyAll\n",
      "Returning --- 40 friends for ItsLinear\n",
      "Returning --- 449 friends for ItsNiteskoolTV\n",
      "Returning --- 577 friends for ItsNoorayn\n",
      "Returning --- 585 friends for ItsTinaBlanco"
     ]
    },
    {
     "name": "stderr",
     "output_type": "stream",
     "text": [
      "Got error: {\"errors\":[{\"message\":\"Rate limit exceeded\",\"code\":88}]} \n",
      "sleeping for 15 minutes.\n"
     ]
    },
    {
     "name": "stdout",
     "output_type": "stream",
     "text": [
      "\n",
      "Returning --- 83 friends for ItsUncleRicky\n",
      "Returning --- 69 friends for Its_NAR\n",
      "Returning --- 171 friends for ItsmeCoriMeyer\n",
      "Returning --- 142 friends for Itsmelol1234\n",
      "Returning --- 248 friends for IuliaPadeanu\n",
      "Returning --- 13 friends for IvanAdames1\n",
      "Returning --- 967 friends for Ivan_Georg\n",
      "Collected 5000 friends for IvankovichMD\n",
      "Returning --- 11401 friends for IvankovichMD\n",
      "Returning --- 30 friends for Ivano_Benedetti\n",
      "Returning --- 420 friends for Ivanus_rs\n",
      "Returning --- 178 friends for IvyAdvisors\n",
      "Returning --- 145 friends for IvyAmbitions\n",
      "Returning --- 52 friends for IvyCarlton"
     ]
    },
    {
     "name": "stderr",
     "output_type": "stream",
     "text": [
      "Got error: {\"errors\":[{\"message\":\"Rate limit exceeded\",\"code\":88}]} \n",
      "sleeping for 15 minutes.\n"
     ]
    },
    {
     "name": "stdout",
     "output_type": "stream",
     "text": [
      "\n",
      "Collected 5000 friends for IvyExec\n",
      "Collected 15000 friends for IvyExec\n",
      "Collected 30000 friends for IvyExec\n",
      "Found more than 50,000 friends. Returning error code = -3\n",
      "Returning --- 205 friends for IvyLeagueIntern\n",
      "Returning --- 152 friends for IvyPlus\n",
      "Returning --- 22 friends for IvyPowered\n",
      "Returning --- 22 friends for IvyTies\n",
      "Returning --- 847 friends for IvyWise\n",
      "Returning --- 12 friends for IvyZheng_NU\n",
      "Returning --- 387 friends for Ivy_Shtereva\n",
      "Returning --- 36 friends for Iyuetou\n",
      "Returning --- 10 friends for IzadRasheed\n",
      "Returning --- 27 friends for Izizmonkey"
     ]
    },
    {
     "name": "stderr",
     "output_type": "stream",
     "text": [
      "Got error: {\"errors\":[{\"message\":\"Rate limit exceeded\",\"code\":88}]} \n",
      "sleeping for 15 minutes.\n"
     ]
    },
    {
     "name": "stdout",
     "output_type": "stream",
     "text": [
      "\n",
      "Returning --- 21 friends for Izzy_1031\n",
      "Returning --- 216 friends for Izzy_dietrich\n",
      "Returning --- 811 friends for J0e3gan\n",
      "Returning --- 399 friends for J1Flove\n",
      "Returning --- 872 friends for J27simpson\n",
      "Returning --- 35 friends for J2WConsultants\n",
      "Returning --- 1977 friends for J364manjarrez\n",
      "Returning --- 39 friends for JAB_entertain\n",
      "Returning --- 974 friends for JAChicago\n",
      "Returning --- 1874 friends for JAJohnson4\n",
      "Returning --- 38 friends for JAM474COLL"
     ]
    },
    {
     "name": "stderr",
     "output_type": "stream",
     "text": [
      "Got error: {\"errors\":[{\"message\":\"Rate limit exceeded\",\"code\":88}]} \n",
      "sleeping for 15 minutes.\n"
     ]
    },
    {
     "name": "stdout",
     "output_type": "stream",
     "text": [
      "\n",
      "Returning --- 380 friends for JAM_ZOU\n",
      "Returning --- 36 friends for JAS_MSU\n",
      "Returning --- 256 friends for JAVIERpotterx\n",
      "Returning --- 276 friends for JAXB16\n",
      "Returning --- 370 friends for JAfricanaRelig\n",
      "Returning --- 241 friends for JAgeeTWCNews\n",
      "Returning --- 570 friends for JAndriakos\n",
      "Returning --- 139 friends for JBBDoc\n",
      "Returning --- 1303 friends for JBBookworm\n",
      "Returning --- 519 friends for JBachmann\n",
      "Returning --- 129 friends for JBalmer"
     ]
    },
    {
     "name": "stderr",
     "output_type": "stream",
     "text": [
      "Got error: {\"errors\":[{\"message\":\"Rate limit exceeded\",\"code\":88}]} \n",
      "sleeping for 15 minutes.\n"
     ]
    },
    {
     "name": "stdout",
     "output_type": "stream",
     "text": [
      "\n",
      "Returning --- 1459 friends for JBarsness\n",
      "Returning --- 302 friends for JBeavert\n",
      "Returning --- 40 friends for JBorhee\n",
      "Returning --- 145 friends for JBottala\n",
      "Returning --- 1325 friends for JBrianDecker1\n",
      "Returning --- 316 friends for JBtrumpet22\n",
      "Returning --- 7 friends for JCAlgonquin\n",
      "Returning --- 21 friends for JCAuer\n",
      "Returning --- 48 friends for JCESRHub\n",
      "Returning --- 480 friends for JCL324\n",
      "Returning --- 214 friends for JCLongbottom\n",
      "Returning --- 62 friends for JCStewart09\n",
      "Returning --- 1323 friends for JCUCareerCenter\n",
      "Returning --- 382 friends for JCURT14"
     ]
    },
    {
     "name": "stderr",
     "output_type": "stream",
     "text": [
      "Got error: {\"errors\":[{\"message\":\"Rate limit exceeded\",\"code\":88}]} \n",
      "sleeping for 15 minutes.\n"
     ]
    },
    {
     "name": "stdout",
     "output_type": "stream",
     "text": [
      "\n",
      "Returning --- 37 friends for JCampbell_GBS\n",
      "Returning --- 751 friends for JCarlos_Romero\n",
      "Returning --- 625 friends for JCattel\n",
      "Returning --- 544 friends for JChildsPlay\n",
      "Returning --- 7 friends for JColmar\n",
      "Returning --- 1158 friends for JCsLastFling\n",
      "Returning --- 1001 friends for JDDHere\n",
      "Returning --- 686 friends for JDF\n",
      "Returning --- 1890 friends for JDIQ\n",
      "Returning --- 354 friends for JDPerlman\n",
      "Returning --- 544 friends for JDaab\n",
      "Returning --- 204 friends for JDubbs2009\n",
      "Returning --- 486 friends for JDurgadoss"
     ]
    },
    {
     "name": "stderr",
     "output_type": "stream",
     "text": [
      "Got error: {\"errors\":[{\"message\":\"Rate limit exceeded\",\"code\":88}]} \n",
      "sleeping for 15 minutes.\n"
     ]
    },
    {
     "name": "stdout",
     "output_type": "stream",
     "text": [
      "\n",
      "Returning --- 19 friends for JEANFEEHAN\n",
      "Returning --- 105 friends for JECRCUNIVERSITY\n",
      "Returning --- 424 friends for JEM824\n",
      "Returning --- 10 friends for JENIFERNISHAJAC\n",
      "Returning --- 7 friends for JESUSG47\n",
      "Returning --- 121 friends for JEddieD\n",
      "Returning --- 1933 friends for JFAHoffman\n",
      "Returning --- 64 friends for JFK_CC\n",
      "Returning --- 1995 friends for JFhoff\n",
      "Returning --- 91 friends for JFuentes932\n",
      "Returning --- 2009 friends for JGFoundation"
     ]
    },
    {
     "name": "stderr",
     "output_type": "stream",
     "text": [
      "Got error: {\"errors\":[{\"message\":\"Rate limit exceeded\",\"code\":88}]} \n",
      "sleeping for 15 minutes.\n"
     ]
    },
    {
     "name": "stdout",
     "output_type": "stream",
     "text": [
      "\n",
      "Returning --- 40 friends for JGassir\n",
      "Returning --- 3 friends for JGlicksman201_2\n",
      "Returning --- 98 friends for JGoldshteyn\n",
      "Returning --- 452 friends for JGordo92\n",
      "Returning --- 435 friends for JGuillermoD\n",
      "Returning --- 185 friends for JHandrewK\n",
      "Returning --- 84 friends for JHenderson_NU\n",
      "Returning --- 446 friends for JHernan7\n",
      "Returning --- 537 friends for JHyfler\n",
      "Returning --- 199 friends for JILMedical\n",
      "Returning --- 32 friends for JJAndrianakos"
     ]
    },
    {
     "name": "stderr",
     "output_type": "stream",
     "text": [
      "Got error: {\"errors\":[{\"message\":\"Rate limit exceeded\",\"code\":88}]} \n",
      "sleeping for 15 minutes.\n"
     ]
    },
    {
     "name": "stdout",
     "output_type": "stream",
     "text": [
      "\n",
      "Returning --- 120 friends for JJCTransfer\n",
      "Returning --- 175 friends for JJCast15\n",
      "Returning --- 799 friends for JJGoodell\n",
      "Returning --- 353 friends for JJJava1\n",
      "Returning --- 39 friends for JJanisseKellogg\n",
      "Returning --- 52 friends for JJellyM\n",
      "Returning --- 23 friends for JJoanie12\n",
      "Returning --- 1926 friends for JJsList\n",
      "Returning --- 157 friends for JKarpin\n",
      "Returning --- 307 friends for JKrup16\n",
      "Returning --- 370 friends for JLCV31\n",
      "Returning --- 685 friends for JLDubs\n",
      "Returning --- 13 friends for JLFoss14\n",
      "Returning --- 47 friends for JLMurphy11"
     ]
    },
    {
     "name": "stderr",
     "output_type": "stream",
     "text": [
      "Got error: {\"errors\":[{\"message\":\"Rate limit exceeded\",\"code\":88}]} \n",
      "sleeping for 15 minutes.\n"
     ]
    },
    {
     "name": "stdout",
     "output_type": "stream",
     "text": [
      "\n",
      "Returning --- 599 friends for JLNFinancials\n",
      "Returning --- 584 friends for JLangs22\n",
      "Returning --- 387 friends for JLfarmersDIST\n",
      "Returning --- 48 friends for JLiu888\n",
      "Returning --- 517 friends for JML134\n",
      "Returning --- 1302 friends for JMRosenblat\n",
      "Returning --- 1993 friends for JMSimonChi\n",
      "Returning --- 1011 friends for JMSparrow\n",
      "Returning --- 149 friends for JMTallarico\n",
      "Returning --- 514 friends for JMan122"
     ]
    },
    {
     "name": "stderr",
     "output_type": "stream",
     "text": [
      "Got error: {\"errors\":[{\"message\":\"Rate limit exceeded\",\"code\":88}]} \n",
      "sleeping for 15 minutes.\n"
     ]
    },
    {
     "name": "stdout",
     "output_type": "stream",
     "text": [
      "\n",
      "Returning --- 276 friends for JMessingerVAC\n",
      "Returning --- 1891 friends for JMisercolaDBSF\n",
      "Returning --- 92 friends for JMoore1151988\n",
      "Returning --- 1559 friends for JNCSpence\n",
      "Returning --- 1899 friends for JNIrungu\n",
      "Returning --- 631 friends for JNJUniversity\n",
      "Returning --- 50 friends for JNamaste911\n",
      "Returning --- 537 friends for JNelz\n",
      "Returning --- 89 friends for JOBauman\n",
      "Returning --- 1354 friends for JOHNMAKONI\n",
      "Returning --- 30 friends for JOLLYSABU"
     ]
    },
    {
     "name": "stderr",
     "output_type": "stream",
     "text": [
      "Got error: {\"errors\":[{\"message\":\"Rate limit exceeded\",\"code\":88}]} \n",
      "sleeping for 15 minutes.\n"
     ]
    },
    {
     "name": "stdout",
     "output_type": "stream",
     "text": [
      "\n",
      "Returning --- 193 friends for JPC1962\n",
      "Returning --- 48 friends for JPISCHOOL\n",
      "Returning --- 3425 friends for JPKirchmeier\n",
      "Returning --- 507 friends for JPWildes\n",
      "Returning --- 878 friends for JPantages5\n",
      "Returning --- 1841 friends for JPaulHelpsEDU\n",
      "Returning --- 186 friends for JPayks\n",
      "Returning --- 248 friends for JPcosmos\n",
      "Returning --- 170 friends for JPersky\n",
      "Returning --- 489 friends for JPiechura\n",
      "Returning --- 591 friends for JRID40\n",
      "Returning --- 784 friends for JRMpulrich"
     ]
    },
    {
     "name": "stderr",
     "output_type": "stream",
     "text": [
      "Got error: {\"errors\":[{\"message\":\"Rate limit exceeded\",\"code\":88}]} \n",
      "sleeping for 15 minutes.\n"
     ]
    },
    {
     "name": "stdout",
     "output_type": "stream",
     "text": [
      "\n",
      "Returning --- 856 friends for JRRnotTolkien\n",
      "Returning --- 186 friends for JReynoldsNU\n",
      "Returning --- 196 friends for JRheaBoston\n",
      "Returning --- 74 friends for JRileyBuilds\n",
      "Returning --- 711 friends for JRin3words\n",
      "Returning --- 1080 friends for JRobes_1\n",
      "Returning --- 39 friends for JRudansky\n",
      "Returning --- 910 friends for JSAdvice\n",
      "Returning --- 439 friends for JSDCFamilyLaw\n",
      "Returning --- 318 friends for JSEvanston\n",
      "Returning --- 195 friends for JSGalyas\n",
      "Returning --- 291 friends for JSMesterharm\n",
      "Returning --- 105 friends for JS_Crimebeat\n",
      "Returning --- 1326 friends for JSavageReed"
     ]
    },
    {
     "name": "stderr",
     "output_type": "stream",
     "text": [
      "Got error: {\"errors\":[{\"message\":\"Rate limit exceeded\",\"code\":88}]} \n",
      "sleeping for 15 minutes.\n"
     ]
    },
    {
     "name": "stdout",
     "output_type": "stream",
     "text": [
      "\n",
      "Returning --- 106 friends for JSchnidman\n",
      "Returning --- 749 friends for JScottK76\n",
      "Returning --- 17 friends for JSelonick\n",
      "Returning --- 40 friends for JSiskel\n",
      "Returning --- 1255 friends for JSocorro\n",
      "Returning --- 69 friends for JSummerDC09\n",
      "Returning --- 440 friends for JSzurmak\n",
      "Returning --- 403 friends for JTHSBAA\n",
      "Returning --- 862 friends for JTHS_Science\n",
      "Returning --- 679 friends for JTR622\n",
      "Returning --- 302 friends for JTX\n",
      "Returning --- 1039 friends for JT_Grind_365\n",
      "Returning --- 21 friends for JTicus"
     ]
    },
    {
     "name": "stderr",
     "output_type": "stream",
     "text": [
      "Got error: {\"errors\":[{\"message\":\"Rate limit exceeded\",\"code\":88}]} \n",
      "sleeping for 15 minutes.\n"
     ]
    },
    {
     "name": "stdout",
     "output_type": "stream",
     "text": [
      "\n",
      "Returning --- 244 friends for JVCollegeGuy\n",
      "Returning --- 53 friends for JW77SM\n",
      "Returning --- 24 friends for JWHayden\n",
      "Returning --- 37 friends for JWIENZ\n",
      "Returning --- 118 friends for JWJOP\n",
      "Returning --- 350 friends for JWPaller\n",
      "Returning --- 81 friends for JWTreem\n",
      "Returning --- 21 friends for JWeefs\n",
      "Returning --- 652 friends for JWheeler5186\n",
      "Returning --- 442 friends for JWmsJr3\n",
      "Returning --- 138 friends for JZ_Waterborn\n",
      "Returning --- 1019 friends for JZick1972"
     ]
    },
    {
     "name": "stderr",
     "output_type": "stream",
     "text": [
      "Got error: {\"errors\":[{\"message\":\"Rate limit exceeded\",\"code\":88}]} \n",
      "sleeping for 15 minutes.\n"
     ]
    },
    {
     "name": "stdout",
     "output_type": "stream",
     "text": [
      "\n",
      "Returning --- 533 friends for JZvonar\n",
      "Returning --- 158 friends for J_A_Gleason\n",
      "Returning --- 253 friends for J_Angel_D\n",
      "Returning --- 1082 friends for J_Anthony_\n",
      "Returning --- 51 friends for J_DFernandez\n",
      "Returning --- 324 friends for J_Dubbers\n",
      "Returning --- 29 friends for J_Grant5\n",
      "Returning --- 46 friends for J_Mac_Garcia\n",
      "Returning --- 421 friends for J_Mc245\n",
      "Returning --- 557 friends for J_SizZauce\n",
      "Returning --- 72 friends for J_W11_G\n",
      "Returning --- 970 friends for J___Chan"
     ]
    },
    {
     "name": "stderr",
     "output_type": "stream",
     "text": [
      "Got error: {\"errors\":[{\"message\":\"Rate limit exceeded\",\"code\":88}]} \n",
      "sleeping for 15 minutes.\n"
     ]
    },
    {
     "name": "stdout",
     "output_type": "stream",
     "text": [
      "\n",
      "Returning --- 509 friends for J_reif97\n",
      "Returning --- 1086 friends for JaGrillHydePark\n",
      "Returning --- 111 friends for Ja_Smullen\n",
      "Returning --- 8 friends for JaaHickie\n",
      "Returning --- 29 friends for Jaaffamily\n",
      "Returning --- 1614 friends for JaanaTapanainen\n",
      "Returning --- 1075 friends for Jaazle\n",
      "Returning --- 1287 friends for Jabu_Buthelezi\n",
      "Returning --- 62 friends for JacJarrell\n",
      "Collected 5000 friends for JaccBoyzEnt\n",
      "Collected 15000 friends for JaccBoyzEnt\n",
      "Returning --- 28509 friends for JaccBoyzEnt\n",
      "Returning --- 266 friends for JacielCordoba\n",
      "Returning --- 40 friends for JackAdams122"
     ]
    },
    {
     "name": "stderr",
     "output_type": "stream",
     "text": [
      "Got error: {\"errors\":[{\"message\":\"Rate limit exceeded\",\"code\":88}]} \n",
      "sleeping for 15 minutes.\n"
     ]
    },
    {
     "name": "stdout",
     "output_type": "stream",
     "text": [
      "\n",
      "Returning --- 26 friends for JackCYi\n",
      "Returning --- 115 friends for JackDBryant\n",
      "Returning --- 141 friends for JackDonahue8\n",
      "Returning --- 1008 friends for JackFreifelder\n",
      "Returning --- 568 friends for JackLThorne\n",
      "Returning --- 22 friends for JackLavelle\n",
      "Returning --- 340 friends for JackMcGrats\n",
      "Returning --- 251 friends for JackMordell\n",
      "Returning --- 2002 friends for JackO116\n",
      "Returning --- 234 friends for JackRalls\n",
      "Returning --- 594 friends for JackTheiling"
     ]
    },
    {
     "name": "stderr",
     "output_type": "stream",
     "text": [
      "Got error: {\"errors\":[{\"message\":\"Rate limit exceeded\",\"code\":88}]} \n",
      "sleeping for 15 minutes.\n"
     ]
    },
    {
     "name": "stdout",
     "output_type": "stream",
     "text": [
      "\n",
      "Returning --- 59 friends for JackYellow2\n",
      "Returning --- 1997 friends for JackalopeJamie\n",
      "Returning --- 678 friends for Jackalope_Jacks\n",
      "Returning --- 18 friends for Jackericrusso\n",
      "Returning --- 137 friends for JackiLicciardi\n",
      "Returning --- 143 friends for Jackie4CPRE\n",
      "Returning --- 497 friends for JackieDMack\n",
      "Returning --- 145 friends for JackieIntres\n",
      "Returning --- 43 friends for JackieM29818858\n",
      "Returning --- 68 friends for JackieNovograz\n",
      "Returning --- 353 friends for JackieRN110\n",
      "Returning --- 440 friends for JackieThePRGirl\n",
      "Returning --- 89 friends for JackieYXWang\n",
      "Returning --- 142 friends for Jackiee_Yang_91\n",
      "Returning --- 1654 friends for Jackis81"
     ]
    },
    {
     "name": "stderr",
     "output_type": "stream",
     "text": [
      "Got error: {\"errors\":[{\"message\":\"Rate limit exceeded\",\"code\":88}]} \n",
      "sleeping for 15 minutes.\n"
     ]
    },
    {
     "name": "stdout",
     "output_type": "stream",
     "text": [
      "\n",
      "Returning --- 1080 friends for JacksonChance11\n",
      "Returning --- 739 friends for JacksonFrancoi3\n",
      "Returning --- 308 friends for JacksonMids\n",
      "Returning --- 203 friends for JaclynBivins\n",
      "Returning --- 605 friends for JaclynEvers\n",
      "Returning --- 439 friends for JaclynPachicano\n",
      "Returning --- 901 friends for JaclynSkurie\n",
      "Returning --- 1687 friends for JacoInc\n",
      "Returning --- 415 friends for JacobCWatson\n",
      "Returning --- 59 friends for JacobCassano\n",
      "Returning --- 1082 friends for JacobHLeveton\n",
      "Returning --- 200 friends for JacobKerr17\n",
      "Returning --- 589 friends for JacobLowe4"
     ]
    },
    {
     "name": "stderr",
     "output_type": "stream",
     "text": [
      "Got error: {\"errors\":[{\"message\":\"Rate limit exceeded\",\"code\":88}]} \n",
      "sleeping for 15 minutes.\n"
     ]
    },
    {
     "name": "stdout",
     "output_type": "stream",
     "text": [
      "\n",
      "Returning --- 197 friends for JacobMPope\n",
      "Returning --- 923 friends for JacobTrauberman\n",
      "Returning --- 1065 friends for JacobiScott1\n",
      "Returning --- 218 friends for JacobsEnrgyPowr\n",
      "Returning --- 592 friends for Jacobssamuelson\n",
      "Returning --- 375 friends for JadeAnthony13\n",
      "Returning --- 429 friends for JadeRavenn\n",
      "Returning --- 342 friends for JaeyeonC\n",
      "Returning --- 2008 friends for Jahovathadon\n",
      "Returning --- 253 friends for JaiBroome\n",
      "Returning --- 177 friends for JaimSays\n",
      "Returning --- 54 friends for JaimeAnoveros"
     ]
    },
    {
     "name": "stderr",
     "output_type": "stream",
     "text": [
      "Got error: {\"errors\":[{\"message\":\"Rate limit exceeded\",\"code\":88}]} \n",
      "sleeping for 15 minutes.\n"
     ]
    },
    {
     "name": "stdout",
     "output_type": "stream",
     "text": [
      "\n",
      "Returning --- 114 friends for JaimeMarconette\n",
      "Returning --- 145 friends for JaimeSharp\n",
      "Returning --- 189 friends for Jaimerico1231\n",
      "Returning --- 199 friends for JainPakpoom\n",
      "Returning --- 162 friends for Jaireconomics\n",
      "Returning --- 10 friends for Jakcy_Zhang\n",
      "Returning --- 26 friends for JakeAda79669779\n",
      "Returning --- 792 friends for JakeFacile\n",
      "Returning --- 184 friends for JakeKim4\n",
      "Returning --- 363 friends for JakeRomm\n",
      "Returning --- 200 friends for Jake_Wilson9\n",
      "Returning --- 18 friends for Jakobz3\n",
      "Returning --- 135 friends for Jakt_up\n",
      "Returning --- 847 friends for Jalysa_Delyn"
     ]
    },
    {
     "name": "stderr",
     "output_type": "stream",
     "text": [
      "Got error: {\"errors\":[{\"message\":\"Rate limit exceeded\",\"code\":88}]} \n",
      "sleeping for 15 minutes.\n"
     ]
    },
    {
     "name": "stdout",
     "output_type": "stream",
     "text": [
      "\n",
      "Returning --- 239 friends for JamaalDBrown\n",
      "Returning --- 151 friends for JamaicaIsldJerk\n",
      "Returning --- 346 friends for Jamaican_Yodel\n",
      "Returning --- 182 friends for JamalComboChall\n",
      "Returning --- 127 friends for JambaJuiceDtEva\n",
      "Returning --- 4883 friends for JamekaShamae\n",
      "Returning --- 992 friends for JamesArkin\n",
      "Returning --- 69 friends for JamesBueghly\n",
      "Returning --- 6 friends for JamesCromer4\n",
      "Returning --- 12 friends for JamesDetwiler1\n",
      "Returning --- 136 friends for JamesFi232323\n",
      "Returning --- 1986 friends for JamesGrutsch\n",
      "Returning --- 27 friends for JamesHerbick\n",
      "Returning --- 35 friends for JamesKeane_Jr\n",
      "Returning --- 277 friends for JamesKimbrell80"
     ]
    },
    {
     "name": "stderr",
     "output_type": "stream",
     "text": [
      "Got error: {\"errors\":[{\"message\":\"Rate limit exceeded\",\"code\":88}]} \n",
      "sleeping for 15 minutes.\n"
     ]
    },
    {
     "name": "stdout",
     "output_type": "stream",
     "text": [
      "\n",
      "Returning --- 296 friends for JamesMDaniel\n",
      "Returning --- 437 friends for JamesMilan34\n",
      "Returning --- 1856 friends for JamesSacco2\n",
      "Returning --- 90 friends for JamesTStinson\n",
      "Returning --- 31 friends for JamesWhang7\n",
      "Collected 5000 friends for JamesWindell1\n",
      "Collected 15000 friends for JamesWindell1\n",
      "Returning --- 28406 friends for JamesWindell1\n",
      "Returning --- 2051 friends for James_Rogers_II\n",
      "Returning --- 484 friends for James_Surge\n",
      "Returning --- 264 friends for James_Wilde\n",
      "Returning --- 760 friends for JamieBCoughlin\n",
      "Returning --- 1298 friends for JamiePoz\n",
      "Returning --- 636 friends for JamieSamuelsen"
     ]
    },
    {
     "name": "stderr",
     "output_type": "stream",
     "text": [
      "Got error: {\"errors\":[{\"message\":\"Rate limit exceeded\",\"code\":88}]} \n",
      "sleeping for 15 minutes.\n"
     ]
    },
    {
     "name": "stdout",
     "output_type": "stream",
     "text": [
      "\n",
      "Returning --- 1661 friends for JamieW9190\n",
      "Returning --- 411 friends for JamieWaldorf\n",
      "Returning --- 765 friends for Jamie_Wesley\n",
      "Returning --- 468 friends for JamiliaWalker\n",
      "Returning --- 744 friends for Jamira1996\n",
      "Returning --- 654 friends for Jammaree86\n",
      "Returning --- 1992 friends for JamshedSiddiqui\n",
      "Returning --- 564 friends for Jamthony\n",
      "Returning --- 33 friends for JanB223\n",
      "Returning --- 150 friends for JanRizzo1\n",
      "Returning --- 1 friends for JanTung1\n",
      "Returning --- 17 friends for JanTurner54\n",
      "Returning --- 97 friends for JanaDavidoff"
     ]
    },
    {
     "name": "stderr",
     "output_type": "stream",
     "text": [
      "Got error: {\"errors\":[{\"message\":\"Rate limit exceeded\",\"code\":88}]} \n",
      "sleeping for 15 minutes.\n"
     ]
    },
    {
     "name": "stdout",
     "output_type": "stream",
     "text": [
      "\n",
      "Returning --- 202 friends for JananH\n",
      "Returning --- 59 friends for JandricSlavka\n",
      "Returning --- 89 friends for JaneDoe987\n",
      "Returning --- 9 friends for JaneGaudio\n",
      "Returning --- 12 friends for JanePetrof\n",
      "Returning --- 146 friends for JaneVherman\n",
      "Returning --- 306 friends for Jane_Urban\n",
      "Returning --- 54 friends for Jane_YingxuHao\n",
      "Returning --- 770 friends for Jane_czko\n",
      "Returning --- 312 friends for JanelBM\n",
      "Returning --- 723 friends for JanelWLOX\n",
      "Returning --- 192 friends for JanelleELove\n",
      "Returning --- 48 friends for JanelleG29"
     ]
    },
    {
     "name": "stderr",
     "output_type": "stream",
     "text": [
      "Got error: {\"errors\":[{\"message\":\"Rate limit exceeded\",\"code\":88}]} \n",
      "sleeping for 15 minutes.\n"
     ]
    },
    {
     "name": "stdout",
     "output_type": "stream",
     "text": [
      "\n",
      "Returning --- 7 friends for JanetHDavis3\n",
      "Returning --- 1996 friends for JanetRBolin\n",
      "Returning --- 269 friends for JaniActman\n",
      "Returning --- 950 friends for Janiepie35\n",
      "Returning --- 589 friends for JanineKacprzak\n",
      "Returning --- 1937 friends for JapanJobPost\n",
      "Returning --- 99 friends for JapesBowg\n",
      "Returning --- 40 friends for JaposLove\n",
      "Returning --- 701 friends for JaredN84"
     ]
    },
    {
     "name": "stderr",
     "output_type": "stream",
     "text": [
      "Got error: {\"errors\":[{\"message\":\"Rate limit exceeded\",\"code\":88}]} \n",
      "sleeping for 15 minutes.\n"
     ]
    },
    {
     "name": "stdout",
     "output_type": "stream",
     "text": [
      "\n",
      "Returning --- 14 friends for JaredTuberty\n",
      "Returning --- 192 friends for Jared_Wendorf\n",
      "Returning --- 32 friends for Jaredc123\n",
      "Returning --- 320 friends for JarenSinatoNU\n",
      "Returning --- 50 friends for Jaret_D\n",
      "Collected 5000 friends for Jarmadillos\n",
      "Returning --- 13372 friends for Jarmadillos\n",
      "Returning --- 745 friends for JarredBelman\n",
      "Returning --- 922 friends for JarvisAvenue\n",
      "Returning --- 1995 friends for JasCochran\n",
      "Returning --- 269 friends for Jas_Baz\n",
      "Returning --- 81 friends for JaseyKwong\n",
      "Returning --- 150 friends for JasminHerrera13\n",
      "Returning --- 726 friends for JasmineArmand"
     ]
    },
    {
     "name": "stderr",
     "output_type": "stream",
     "text": [
      "Got error: {\"errors\":[{\"message\":\"Rate limit exceeded\",\"code\":88}]} \n",
      "sleeping for 15 minutes.\n"
     ]
    },
    {
     "name": "stdout",
     "output_type": "stream",
     "text": [
      "\n",
      "Returning --- 11 friends for JasmineJin2\n",
      "Returning --- 288 friends for JasmineL_Jones\n",
      "Returning --- 709 friends for JasmineMonet_\n",
      "Returning --- 205 friends for JasonAnys\n",
      "Returning --- 435 friends for JasonBolicki\n",
      "Returning --- 482 friends for JasonFosterEsq\n",
      "Returning --- 222 friends for JasonJLoup\n",
      "Returning --- 743 friends for JasonJohanning\n",
      "Returning --- 710 friends for JasonMcKean\n",
      "Returning --- 1795 friends for JasonOnTheAir\n",
      "Returning --- 6 friends for JasonRBaker\n",
      "Returning --- 3378 friends for JasonRozet\n",
      "Returning --- 269 friends for JasonSLancaster"
     ]
    },
    {
     "name": "stderr",
     "output_type": "stream",
     "text": [
      "Got error: {\"errors\":[{\"message\":\"Rate limit exceeded\",\"code\":88}]} \n",
      "sleeping for 15 minutes.\n"
     ]
    },
    {
     "name": "stdout",
     "output_type": "stream",
     "text": [
      "\n",
      "Returning --- 2025 friends for JasonSosnovsky\n",
      "Returning --- 1919 friends for JasonStulgate\n",
      "Returning --- 798 friends for JasonSzanyi\n",
      "Returning --- 103 friends for JasonTurner777\n",
      "Returning --- 259 friends for JasonVelk\n",
      "Returning --- 1985 friends for JasonWermers\n",
      "Returning --- 281 friends for JasonWiner\n",
      "Returning --- 214 friends for Jason_M_Gill\n",
      "Returning --- 856 friends for Jason_SPORTIQE\n",
      "Returning --- 429 friends for JasperCareers\n",
      "Returning --- 390 friends for JavaAddict88\n",
      "Returning --- 2007 friends for JavierDCH12\n",
      "Returning --- 282 friends for JavierG87588041\n",
      "Returning --- 1824 friends for JavierSnchezDie"
     ]
    },
    {
     "name": "stderr",
     "output_type": "stream",
     "text": [
      "Got error: {\"errors\":[{\"message\":\"Rate limit exceeded\",\"code\":88}]} \n",
      "sleeping for 15 minutes.\n"
     ]
    },
    {
     "name": "stdout",
     "output_type": "stream",
     "text": [
      "\n",
      "Returning --- 416 friends for JawadHusnain\n",
      "Returning --- 14 friends for JayBowg\n",
      "Returning --- 59 friends for JayCSays\n",
      "Returning --- 2262 friends for JayDukeBallard\n",
      "Returning --- 251 friends for JayGlay2013\n",
      "Returning --- 513 friends for JayMStein\n",
      "Returning --- 477 friends for JayPeeEmm\n",
      "Returning --- 202 friends for JayPeePalmares\n",
      "Returning --- 354 friends for JaySeeJay_\n",
      "Returning --- 165 friends for Jay_Are1724\n",
      "Returning --- 235 friends for Jay_Duque\n",
      "Returning --- 65 friends for Jay_Head_\n",
      "Returning --- 50 friends for Jay_Rowan"
     ]
    },
    {
     "name": "stderr",
     "output_type": "stream",
     "text": [
      "Got error: {\"errors\":[{\"message\":\"Rate limit exceeded\",\"code\":88}]} \n",
      "sleeping for 15 minutes.\n"
     ]
    },
    {
     "name": "stdout",
     "output_type": "stream",
     "text": [
      "\n",
      "Returning --- 253 friends for JaydenMorrison\n",
      "Returning --- 2003 friends for JayeDubya\n",
      "Returning --- 284 friends for JaynaOmaye\n",
      "Returning --- 38 friends for Jayne8p6\n",
      "Returning --- 749 friends for JayneAKenney\n",
      "Returning --- 38 friends for Jaynezc0\n",
      "Returning --- 395 friends for JaysonRecruiter\n",
      "Returning --- 1307 friends for Jayyyymz\n",
      "Returning --- 431 friends for JazmyneSDenman\n",
      "Returning --- 2081 friends for Jazzcombo\n",
      "Returning --- 126 friends for Jazzy_SP\n",
      "Returning --- 422 friends for Jazzy_Symone\n",
      "Returning --- 459 friends for Jbailey2311\n",
      "Returning --- 195 friends for Jbern44\n",
      "Returning --- 16 friends for Jbfelz"
     ]
    },
    {
     "name": "stderr",
     "output_type": "stream",
     "text": [
      "Got error: {\"errors\":[{\"message\":\"Rate limit exceeded\",\"code\":88}]} \n",
      "sleeping for 15 minutes.\n"
     ]
    },
    {
     "name": "stdout",
     "output_type": "stream",
     "text": [
      "\n",
      "Returning --- 3 friends for JbinderJochen\n",
      "Returning --- 18 friends for Jbrickner\n",
      "Returning --- 62 friends for Jbur5\n",
      "Returning --- 1075 friends for Jcams\n",
      "Returning --- 184 friends for Jchurch_23\n",
      "Returning --- 176 friends for Jdocal9\n",
      "Returning --- 234 friends for JdotChenise\n",
      "Returning --- 10 friends for Jean71368418\n",
      "Returning --- 105 friends for JeanLaikyn\n",
      "Returning --- 22 friends for JeanMrachko\n",
      "Returning --- 1210 friends for JeanieBeanie25\n",
      "Returning --- 13 friends for JeannBraunn"
     ]
    },
    {
     "name": "stderr",
     "output_type": "stream",
     "text": [
      "Got error: {\"errors\":[{\"message\":\"Rate limit exceeded\",\"code\":88}]} \n",
      "sleeping for 15 minutes.\n"
     ]
    },
    {
     "name": "stdout",
     "output_type": "stream",
     "text": [
      "\n",
      "Returning --- 84 friends for JeanneBrunner\n",
      "Returning --- 477 friends for JeanneKuang\n",
      "Returning --- 388 friends for JeannieAnd\n",
      "Returning --- 146 friends for Jeans_Will\n",
      "Returning --- 663 friends for Jebes11\n",
      "Collected 5000 friends for JedRecord\n",
      "Collected 15000 friends for JedRecord\n",
      "Collected 30000 friends for JedRecord\n",
      "Found more than 50,000 friends. Returning error code = -3\n",
      "Returning --- 624 friends for JeffArison\n",
      "Returning --- 109 friends for JeffCain33\n",
      "Returning --- 439 friends for JeffCosier\n",
      "Returning --- 2059 friends for JeffCronk"
     ]
    },
    {
     "name": "stderr",
     "output_type": "stream",
     "text": [
      "Got error: {\"errors\":[{\"message\":\"Rate limit exceeded\",\"code\":88}]} \n",
      "sleeping for 15 minutes.\n"
     ]
    },
    {
     "name": "stdout",
     "output_type": "stream",
     "text": [
      "\n",
      "Returning --- 1147 friends for JeffDGorman\n",
      "Returning --- 172 friends for JeffDZukerman\n",
      "Returning --- 176 friends for JeffDotScience\n",
      "Returning --- 2384 friends for JeffEisenband\n",
      "Returning --- 64 friends for JeffJoh05567451\n",
      "Returning --- 888 friends for JeffKingTour\n",
      "Returning --- 156 friends for JeffLMarshall\n",
      "Returning --- 1701 friends for JeffMerrell\n",
      "Returning --- 1731 friends for JeffOrr773\n",
      "Returning --- 971 friends for JeffRankin\n",
      "Returning --- 529 friends for JeffSiegal2\n",
      "Returning --- 114 friends for JeffWalker_14\n",
      "Returning --- 1950 friends for JeffZolinePhoto\n",
      "Returning --- 242 friends for JeffersonVice"
     ]
    },
    {
     "name": "stderr",
     "output_type": "stream",
     "text": [
      "Got error: {\"errors\":[{\"message\":\"Rate limit exceeded\",\"code\":88}]} \n",
      "sleeping for 15 minutes.\n"
     ]
    },
    {
     "name": "stdout",
     "output_type": "stream",
     "text": [
      "\n",
      "Returning --- 162 friends for JefferySchaff\n",
      "Returning --- 31 friends for JeffreEisenband\n",
      "Returning --- 25 friends for JeffreyEluk\n",
      "Returning --- 1731 friends for JeffreyKirchick\n",
      "Returning --- 305 friends for JeffreyRies\n",
      "Returning --- 2001 friends for JeffreySmith_PR\n",
      "Returning --- 121 friends for JeffreywKim\n",
      "Returning --- 264 friends for Jelani_Semmes\n",
      "Returning --- 565 friends for JellyvisionLab\n",
      "Returning --- 57 friends for JenCain6\n",
      "Returning --- 176 friends for JenElizaM\n",
      "Returning --- 147 friends for JenFenoglio\n",
      "Returning --- 474 friends for JenGrim_20\n",
      "Returning --- 925 friends for JenHale504\n",
      "Returning --- 608 friends for JenJensen"
     ]
    },
    {
     "name": "stderr",
     "output_type": "stream",
     "text": [
      "Got error: {\"errors\":[{\"message\":\"Rate limit exceeded\",\"code\":88}]} \n",
      "sleeping for 15 minutes.\n"
     ]
    },
    {
     "name": "stdout",
     "output_type": "stream",
     "text": [
      "\n",
      "Returning --- 425 friends for JenNBC2\n",
      "Returning --- 122 friends for JenSip15\n",
      "Returning --- 1566 friends for JenSwanBooks\n",
      "Returning --- 265 friends for JenTrammell\n",
      "Returning --- 7 friends for Jen_JAWS\n",
      "Returning --- 116 friends for Jen_mats\n",
      "Returning --- 618 friends for Jeniecep\n",
      "Returning --- 486 friends for Jenita10\n",
      "Returning --- 596 friends for Jenluwang\n",
      "Returning --- 224 friends for JennBossio\n",
      "Returning --- 261 friends for JennGalamba"
     ]
    },
    {
     "name": "stderr",
     "output_type": "stream",
     "text": [
      "Got error: {\"errors\":[{\"message\":\"Rate limit exceeded\",\"code\":88}]} \n",
      "sleeping for 15 minutes.\n"
     ]
    },
    {
     "name": "stdout",
     "output_type": "stream",
     "text": [
      "\n",
      "Returning --- 3545 friends for JennHurless\n",
      "Returning --- 171 friends for JennKao\n",
      "Returning --- 15 friends for JennKroon\n",
      "Returning --- 136 friends for JennMireles\n",
      "Returning --- 186 friends for JennMolina\n",
      "Returning --- 61 friends for JennPallas\n",
      "Returning --- 1963 friends for JennSurprenant\n",
      "Returning --- 307 friends for Jenn_Barnes\n",
      "Returning --- 12 friends for Jenna070115\n",
      "Returning --- 219 friends for JennaBraunstein\n",
      "Returning --- 384 friends for JennaChicago\n",
      "Returning --- 49 friends for JennaFugate\n",
      "Returning --- 257 friends for JennaHoskison"
     ]
    },
    {
     "name": "stderr",
     "output_type": "stream",
     "text": [
      "Got error: {\"errors\":[{\"message\":\"Rate limit exceeded\",\"code\":88}]} \n",
      "sleeping for 15 minutes.\n"
     ]
    },
    {
     "name": "stdout",
     "output_type": "stream",
     "text": [
      "\n",
      "Returning --- 258 friends for JennaMcNaney\n",
      "Returning --- 435 friends for JennaMichelle88\n",
      "Returning --- 1998 friends for JennaZitaner\n",
      "Returning --- 779 friends for Jenna_Barnes\n",
      "Returning --- 1952 friends for JennayZd24\n",
      "Returning --- 275 friends for Jennerjohn3\n",
      "Returning --- 206 friends for Jennez3\n",
      "Returning --- 156 friends for JennieDOlean\n",
      "Returning --- 3205 friends for JenniferBrandel\n",
      "Returning --- 541 friends for JenniferCazenav\n",
      "Returning --- 267 friends for JenniferChulski\n",
      "Returning --- 976 friends for JenniferEKing\n",
      "Returning --- 164 friends for JenniferFening"
     ]
    },
    {
     "name": "stderr",
     "output_type": "stream",
     "text": [
      "Got error: {\"errors\":[{\"message\":\"Rate limit exceeded\",\"code\":88}]} \n",
      "sleeping for 15 minutes.\n"
     ]
    },
    {
     "name": "stdout",
     "output_type": "stream",
     "text": [
      "\n",
      "Returning --- 1795 friends for JenniferHKahn\n",
      "Returning --- 283 friends for JenniferLuttig\n",
      "Returning --- 424 friends for JenniferMcCoy16\n",
      "Returning --- 561 friends for JenniferPPR\n",
      "Returning --- 796 friends for JenniferQBaker\n",
      "Returning --- 151 friends for JenniferStone07\n",
      "Returning --- 812 friends for JenniferStraub\n",
      "Returning --- 85 friends for JenniferTabet15\n",
      "Returning --- 151 friends for Jennifer_X_Zhao\n",
      "Returning --- 259 friends for Jennifer_Yamin\n",
      "Returning --- 1802 friends for JennyByrd\n",
      "Returning --- 14 friends for JennyChen07\n",
      "Returning --- 61 friends for JennyDekkerohh\n",
      "Returning --- 1984 friends for JennyFukumoto"
     ]
    },
    {
     "name": "stderr",
     "output_type": "stream",
     "text": [
      "Got error: {\"errors\":[{\"message\":\"Rate limit exceeded\",\"code\":88}]} \n",
      "sleeping for 15 minutes.\n"
     ]
    },
    {
     "name": "stdout",
     "output_type": "stream",
     "text": [
      "\n",
      "Returning --- 587 friends for JennyGrahn\n",
      "Returning --- 6 friends for JennyKUSA\n",
      "Returning --- 411 friends for JennyKephartDSM\n",
      "Returning --- 20 friends for JennyKerschner\n",
      "Returning --- 14 friends for JennyLoeff\n",
      "Returning --- 90 friends for JennyTinPA\n",
      "Returning --- 310 friends for JennyWAnimeluv\n",
      "Returning --- 416 friends for Jenny_Humphrey5\n",
      "Returning --- 164 friends for Jennyfer0304\n",
      "Returning --- 99 friends for Jenraff702\n",
      "Returning --- 404 friends for JensKjeldsen\n",
      "Returning --- 898 friends for Jenselz\n",
      "Returning --- 82 friends for JerAFriedman"
     ]
    },
    {
     "name": "stderr",
     "output_type": "stream",
     "text": [
      "Got error: {\"errors\":[{\"message\":\"Rate limit exceeded\",\"code\":88}]} \n",
      "sleeping for 15 minutes.\n"
     ]
    },
    {
     "name": "stdout",
     "output_type": "stream",
     "text": [
      "\n",
      "Returning --- 441 friends for JerWard10\n",
      "Returning --- 2093 friends for JeremiahBonewit\n",
      "Returning --- 1636 friends for JeremyEBanta\n",
      "Returning --- 590 friends for JeremyIntal\n",
      "Returning --- 69 friends for JeremyMeagher\n",
      "Returning --- 328 friends for JeremyNeedle\n",
      "Returning --- 667 friends for JeremyWaters04\n",
      "Returning --- 2024 friends for JeromePandell\n",
      "Returning --- 122 friends for JeromeRobo\n",
      "Returning --- 475 friends for JerriRed\n",
      "Returning --- 639 friends for Jerrica_Profit\n",
      "Returning --- 53 friends for JerrysMeats\n",
      "Returning --- 553 friends for JerseyBulldog\n",
      "Returning --- 549 friends for JerseyMikes_CHI"
     ]
    },
    {
     "name": "stderr",
     "output_type": "stream",
     "text": [
      "Got error: {\"errors\":[{\"message\":\"Rate limit exceeded\",\"code\":88}]} \n",
      "sleeping for 15 minutes.\n"
     ]
    },
    {
     "name": "stdout",
     "output_type": "stream",
     "text": [
      "\n",
      "Returning --- 1996 friends for JerseyShorecCVB\n",
      "Returning --- 265 friends for JesicaaGilmer\n",
      "Returning --- 607 friends for Jess5319\n",
      "Returning --- 1236 friends for JessBarrett227\n",
      "Returning --- 128 friends for JessDuBoisMaahs\n",
      "Returning --- 441 friends for JessEvora\n",
      "Returning --- 100 friends for JessFL2013\n",
      "Returning --- 885 friends for JessFazende\n",
      "Returning --- 226 friends for JessLynCastillo\n",
      "Returning --- 73 friends for JessMacL\n",
      "Returning --- 564 friends for JessPatrice\n",
      "Returning --- 262 friends for JessQuirozChvez"
     ]
    },
    {
     "name": "stderr",
     "output_type": "stream",
     "text": [
      "Got error: {\"errors\":[{\"message\":\"Rate limit exceeded\",\"code\":88}]} \n",
      "sleeping for 15 minutes.\n"
     ]
    },
    {
     "name": "stdout",
     "output_type": "stream",
     "text": [
      "\n",
      "Returning --- 201 friends for JessSwen\n",
      "Returning --- 400 friends for Jess_Doin_It\n",
      "Returning --- 135 friends for Jess_diaz47\n",
      "Returning --- 476 friends for JesseASparks\n",
      "Returning --- 24 friends for JesseChenNWU\n",
      "Returning --- 70 friends for JesseLDaniels1\n",
      "Returning --- 316 friends for JessePHyde\n",
      "Returning --- 311 friends for JesseRKirsch\n",
      "Returning --- 556 friends for JesseowJ\n",
      "Returning --- 158 friends for Jessi_le3\n",
      "Returning --- 1763 friends for JessicaBobula\n",
      "Returning --- 6 friends for JessicaHoeck\n",
      "Returning --- 213 friends for JessicaHunt7"
     ]
    },
    {
     "name": "stderr",
     "output_type": "stream",
     "text": [
      "Got error: {\"errors\":[{\"message\":\"Rate limit exceeded\",\"code\":88}]} \n",
      "sleeping for 15 minutes.\n"
     ]
    },
    {
     "name": "stdout",
     "output_type": "stream",
     "text": [
      "\n",
      "Returning --- 353 friends for JessicaJacobs\n",
      "Returning --- 995 friends for JessicaLynnDill\n",
      "Returning --- 1313 friends for JessicaSebeok\n",
      "Returning --- 8 friends for JessicaStahmer\n",
      "Returning --- 1672 friends for JessicaTriNetHR\n",
      "Returning --- 237 friends for Jessica_Bram\n",
      "Returning --- 134 friends for Jessica_Drews\n",
      "Returning --- 120 friends for Jessica_Irons\n",
      "Returning --- 408 friends for Jessica_L_Riley\n",
      "Returning --- 479 friends for JessieBregant\n",
      "Returning --- 86 friends for JessieMoravek\n",
      "Returning --- 248 friends for JessieTong1\n",
      "Returning --- 17 friends for JessiesHandmade\n",
      "Returning --- 56 friends for JessiinChicago"
     ]
    },
    {
     "name": "stderr",
     "output_type": "stream",
     "text": [
      "Got error: {\"errors\":[{\"message\":\"Rate limit exceeded\",\"code\":88}]} \n",
      "sleeping for 15 minutes.\n"
     ]
    },
    {
     "name": "stdout",
     "output_type": "stream",
     "text": [
      "\n",
      "Returning --- 279 friends for Jestonibuddy\n",
      "Returning --- 315 friends for JesuitHighSac\n",
      "Returning --- 1320 friends for JetaunDavis\n",
      "Returning --- 40 friends for JettKoulentes\n",
      "Returning --- 75 friends for Jffeducation\n",
      "Returning --- 7 friends for JgrahamJoan\n",
      "Returning --- 56 friends for Jharrington1968\n",
      "Returning --- 38 friends for JhclausonJulie\n",
      "Returning --- 317 friends for Jheeriick\n",
      "Returning --- 84 friends for Ji_One_S"
     ]
    },
    {
     "name": "stderr",
     "output_type": "stream",
     "text": [
      "Got error: {\"errors\":[{\"message\":\"Rate limit exceeded\",\"code\":88}]} \n",
      "sleeping for 15 minutes.\n"
     ]
    },
    {
     "name": "stdout",
     "output_type": "stream",
     "text": [
      "\n",
      "Returning --- 736 friends for Ji_baruna7\n",
      "Returning --- 11 friends for Jia_Tian2016\n",
      "Returning --- 183 friends for JiabaoLi\n",
      "Returning --- 39 friends for JiajunLu1\n",
      "Returning --- 91 friends for JialeiCao\n",
      "Returning --- 31 friends for Jiand3Jane\n",
      "Returning --- 45 friends for Jiangyu_july\n",
      "Returning --- 28 friends for JiaoYiwen\n",
      "Returning --- 180 friends for Jiasheng_Jenny\n",
      "Returning --- 1 friends for JiayiYue\n",
      "Returning --- 20 friends for JiazhouXiao\n",
      "Returning --- 265 friends for JillAJansen\n",
      "Returning --- 836 friends for JillAttleson814\n",
      "Returning --- 172 friends for JillCCwrites"
     ]
    },
    {
     "name": "stderr",
     "output_type": "stream",
     "text": [
      "Got error: {\"errors\":[{\"message\":\"Rate limit exceeded\",\"code\":88}]} \n",
      "sleeping for 15 minutes.\n"
     ]
    },
    {
     "name": "stdout",
     "output_type": "stream",
     "text": [
      "\n",
      "Returning --- 38 friends for JillMFelten\n",
      "Returning --- 41 friends for JillMcDermid\n",
      "Returning --- 84 friends for JillRenning\n",
      "Returning --- 522 friends for JillSChanen\n",
      "Returning --- 97 friends for JillanaEnteen\n",
      "Returning --- 213 friends for JillannaDMercer\n",
      "Returning --- 43 friends for JillianKMarini\n",
      "Returning --- 218 friends for JillianPatch\n",
      "Returning --- 1022 friends for Jillian_Mahen\n",
      "Returning --- 152 friends for JilyaBean\n",
      "Returning --- 2014 friends for JimAndrews_IEG\n",
      "Returning --- 1995 friends for JimCareyIMC\n",
      "Returning --- 2020 friends for JimCookJr\n",
      "Returning --- 431 friends for JimDempsey0813"
     ]
    },
    {
     "name": "stderr",
     "output_type": "stream",
     "text": [
      "Got error: {\"errors\":[{\"message\":\"Rate limit exceeded\",\"code\":88}]} \n",
      "sleeping for 15 minutes.\n"
     ]
    },
    {
     "name": "stdout",
     "output_type": "stream",
     "text": [
      "\n",
      "Returning --- 1991 friends for JimDetwiler1\n",
      "Returning --- 922 friends for JimFloto\n",
      "Returning --- 1456 friends for JimJimsonJr\n",
      "Returning --- 254 friends for JimKenobi7\n",
      "Returning --- 1233 friends for JimNealNC\n",
      "Returning --- 290 friends for JimPolcaster\n",
      "Returning --- 148 friends for JimPursley1\n",
      "Returning --- 667 friends for JimPuzzanghera\n",
      "Returning --- 2024 friends for JimRyanMusic\n",
      "Returning --- 1155 friends for JimSannes\n",
      "Returning --- 474 friends for JimSchuchart\n",
      "Returning --- 1731 friends for JimTalbo\n",
      "Returning --- 226 friends for JimWYuan\n",
      "Returning --- 28 friends for JimZucker\n",
      "Returning --- 796 friends for Jim_Simon_"
     ]
    },
    {
     "name": "stderr",
     "output_type": "stream",
     "text": [
      "Got error: {\"errors\":[{\"message\":\"Rate limit exceeded\",\"code\":88}]} \n",
      "sleeping for 15 minutes.\n"
     ]
    },
    {
     "name": "stdout",
     "output_type": "stream",
     "text": [
      "\n",
      "Returning --- 697 friends for Jimenez10NELSON\n",
      "Returning --- 92 friends for JimfromIndy\n",
      "Returning --- 47 friends for JimmyJohnsJobs\n",
      "Returning --- 14 friends for JimmySeba\n",
      "Returning --- 13 friends for Jimtweete\n",
      "Returning --- 131 friends for Jiraffee\n",
      "Returning --- 1894 friends for JitimYoung\n",
      "Returning --- 5 friends for JiwonYoon0509\n",
      "Returning --- 41 friends for Jj123456789J\n",
      "Returning --- 470 friends for Jk_Roggee\n",
      "Returning --- 1176 friends for Jkennethd3\n",
      "Returning --- 61 friends for Jkim203Kim"
     ]
    },
    {
     "name": "stderr",
     "output_type": "stream",
     "text": [
      "Got error: {\"errors\":[{\"message\":\"Rate limit exceeded\",\"code\":88}]} \n",
      "sleeping for 15 minutes.\n"
     ]
    },
    {
     "name": "stdout",
     "output_type": "stream",
     "text": [
      "\n",
      "Returning --- 40 friends for JkingJoanna\n",
      "Returning --- 142 friends for Jkirvbro\n",
      "Returning --- 335 friends for JknoxJenknox\n",
      "Returning --- 308 friends for Jkroonen\n",
      "Returning --- 212 friends for Jlaws1611\n",
      "Returning --- 205 friends for Jlaws97\n",
      "Returning --- 7 friends for Jm2014Justin\n",
      "Returning --- 776 friends for JmeZwierzynski\n",
      "Returning --- 66 friends for Jmr645\n",
      "Returning --- 521 friends for JnfrLTackett\n",
      "Returning --- 644 friends for Jnsmith21\n",
      "Returning --- 868 friends for Jnycchi\n",
      "Returning --- 748 friends for JoAnneRuvoli"
     ]
    },
    {
     "name": "stderr",
     "output_type": "stream",
     "text": [
      "Got error: {\"errors\":[{\"message\":\"Rate limit exceeded\",\"code\":88}]} \n",
      "sleeping for 15 minutes.\n"
     ]
    },
    {
     "name": "stdout",
     "output_type": "stream",
     "text": [
      "\n",
      "Returning --- 79 friends for JoCo718\n",
      "Returning --- 683 friends for JoDee_George\n",
      "Returning --- 1549 friends for JoThoHalloran\n",
      "Returning --- 8 friends for JoVerdon143\n",
      "Returning --- 557 friends for Jo_Helton\n",
      "Returning --- 390 friends for JoanScovic\n",
      "Returning --- 310 friends for Joanducayet\n",
      "Returning --- 29 friends for JoanforCongress\n",
      "Returning --- 41 friends for JoannaAllerhand\n",
      "Returning --- 50 friends for JoannaBLasso\n",
      "Returning --- 1170 friends for JoannaCarver\n",
      "Returning --- 88 friends for JoannaChow\n",
      "Returning --- 1159 friends for JoannaHowarth\n",
      "Returning --- 821 friends for JoannaPopper"
     ]
    },
    {
     "name": "stderr",
     "output_type": "stream",
     "text": [
      "Got error: {\"errors\":[{\"message\":\"Rate limit exceeded\",\"code\":88}]} \n",
      "sleeping for 15 minutes.\n"
     ]
    },
    {
     "name": "stdout",
     "output_type": "stream",
     "text": [
      "\n",
      "Returning --- 4937 friends for JoannaPoppink\n",
      "Returning --- 222 friends for JoannaRiester\n",
      "Returning --- 1999 friends for JoannaRudnick\n",
      "Collected 5000 friends for JobBoxReport\n",
      "Collected 15000 friends for JobBoxReport\n",
      "Returning --- 25137 friends for JobBoxReport\n",
      "Returning --- 818 friends for JobBrander\n",
      "Returning --- 90 friends for JobCoachAmyF\n",
      "Returning --- 3461 friends for JobExpert\n",
      "Returning --- 674 friends for JobExpo365\n",
      "Returning --- 2605 friends for JobGiraffe\n",
      "Returning --- 1921 friends for JobGopher\n",
      "Collected 5000 friends for JobHuntOrg\n",
      "Collected 15000 friends for JobHuntOrg\n",
      "Collected 30000 friends for JobHuntOrg"
     ]
    },
    {
     "name": "stderr",
     "output_type": "stream",
     "text": [
      "Got error: {\"errors\":[{\"message\":\"Rate limit exceeded\",\"code\":88}]} \n",
      "sleeping for 15 minutes.\n"
     ]
    },
    {
     "name": "stdout",
     "output_type": "stream",
     "text": [
      "\n",
      "Found more than 50,000 friends. Returning error code = -3\n",
      "Returning --- 1938 friends for JobHuntTip\n",
      "Returning --- 402 friends for JobLead1\n",
      "Returning --- 1076 friends for JobNewsFlash\n",
      "Returning --- 38 friends for JobOutOfCollege\n",
      "Returning --- 1477 friends for JobSearchAmanda\n",
      "Returning --- 1208 friends for JobTipsByHR\n",
      "Returning --- 893 friends for JobWindow\n",
      "Returning --- 3916 friends for Job_Interview22\n",
      "Returning --- 147 friends for Job_Search_Plus\n",
      "Returning --- 151 friends for Job_hunters\n",
      "Returning --- 749 friends for Job_iZone\n",
      "Returning --- 1927 friends for Jobjuice\n",
      "Returning --- 110 friends for Jobmaps\n",
      "Returning --- 1862 friends for JobsAtSteelcase"
     ]
    },
    {
     "name": "stderr",
     "output_type": "stream",
     "text": [
      "Got error: {\"errors\":[{\"message\":\"Rate limit exceeded\",\"code\":88}]} \n",
      "sleeping for 15 minutes.\n"
     ]
    },
    {
     "name": "stdout",
     "output_type": "stream",
     "text": [
      "\n",
      "Returning --- 576 friends for JobsCrushUNI\n",
      "Returning --- 298 friends for JobsSensus\n",
      "Returning --- 54 friends for JobsforCats\n",
      "Returning --- 22 friends for Jocelynhutu\n",
      "Returning --- 230 friends for JociePadgen\n",
      "Returning --- 41 friends for JodiMcLellan\n",
      "Collected 5000 friends for JodiOkun\n",
      "Collected 15000 friends for JodiOkun\n",
      "Collected 30000 friends for JodiOkun\n",
      "Found more than 50,000 friends. Returning error code = -3\n",
      "Returning --- 1202 friends for JodiSolomonSpkr\n",
      "Returning --- 1598 friends for JodieDowd1\n",
      "Returning --- 955 friends for JodieValade\n",
      "Returning --- 1236 friends for JodieWiederkehr\n",
      "Returning --- 421 friends for JodiebethJ"
     ]
    },
    {
     "name": "stderr",
     "output_type": "stream",
     "text": [
      "Got error: {\"errors\":[{\"message\":\"Rate limit exceeded\",\"code\":88}]} \n",
      "sleeping for 15 minutes.\n"
     ]
    },
    {
     "name": "stdout",
     "output_type": "stream",
     "text": [
      "\n",
      "Returning --- 70 friends for Joe24103432\n",
      "Returning --- 92 friends for JoeBartelme\n",
      "Returning --- 43 friends for JoeBert66\n",
      "Returning --- 62 friends for JoeBuckley11\n",
      "Returning --- 182 friends for JoeCuriosity\n",
      "Returning --- 130 friends for JoeCzerkies\n",
      "Returning --- 1697 friends for JoeDerbas\n",
      "Returning --- 46 friends for JoeDiaz0930\n",
      "Returning --- 3443 friends for JoeGermuska\n",
      "Returning --- 23 friends for JoeHavey1\n",
      "Returning --- 693 friends for JoeLevin12\n",
      "Returning --- 16 friends for JoeMill34353990\n",
      "Returning --- 23 friends for JoeNunan\n",
      "Returning --- 248 friends for JoeOtterS"
     ]
    },
    {
     "name": "stderr",
     "output_type": "stream",
     "text": [
      "Got error: {\"errors\":[{\"message\":\"Rate limit exceeded\",\"code\":88}]} \n",
      "sleeping for 15 minutes.\n"
     ]
    },
    {
     "name": "stdout",
     "output_type": "stream",
     "text": [
      "\n",
      "Returning --- 1874 friends for JoePensinger\n",
      "Returning --- 80 friends for JoeRadoESQ\n",
      "Returning --- 135 friends for JoeShipley\n",
      "Returning --- 260 friends for JoeZinsky\n",
      "Returning --- 468 friends for Joeballs96\n",
      "Returning --- 274 friends for Joejbh\n",
      "Returning --- 1999 friends for JoelGranoff\n",
      "Returning --- 73 friends for JoelMil61650947\n",
      "Returning --- 516 friends for JoelRaynes\n",
      "Collected 5000 friends for JoelWarady\n",
      "Returning --- 13786 friends for JoelWarady\n",
      "Returning --- 869 friends for JoeyDoney\n",
      "Returning --- 519 friends for Joey_deB"
     ]
    },
    {
     "name": "stderr",
     "output_type": "stream",
     "text": [
      "Got error: {\"errors\":[{\"message\":\"Rate limit exceeded\",\"code\":88}]} \n",
      "sleeping for 15 minutes.\n"
     ]
    },
    {
     "name": "stdout",
     "output_type": "stream",
     "text": [
      "\n",
      "Returning --- 63 friends for Joeyraffe\n",
      "Collected 5000 friends for JohanLange\n",
      "Collected 15000 friends for JohanLange\n",
      "Returning --- 29744 friends for JohanLange\n",
      "Returning --- 98 friends for JohannBilly\n",
      "Returning --- 1896 friends for JohannTheRebel\n",
      "Returning --- 92 friends for Johathom\n",
      "Returning --- 218 friends for John07063\n",
      "Returning --- 39 friends for JohnAKATroll\n",
      "Returning --- 86 friends for JohnArfman\n",
      "Returning --- 264 friends for JohnBBates\n",
      "Returning --- 881 friends for JohnCabotRome\n",
      "Returning --- 29 friends for JohnCline12\n",
      "Returning --- 417 friends for JohnDelaloye"
     ]
    },
    {
     "name": "stderr",
     "output_type": "stream",
     "text": [
      "Got error: {\"errors\":[{\"message\":\"Rate limit exceeded\",\"code\":88}]} \n",
      "sleeping for 15 minutes.\n"
     ]
    },
    {
     "name": "stdout",
     "output_type": "stream",
     "text": [
      "\n",
      "Returning --- 40 friends for JohnDonne2015\n",
      "Returning --- 323 friends for JohnDoyle52\n",
      "Returning --- 360 friends for JohnEast1\n",
      "Returning --- 553 friends for JohnFogartyJr\n",
      "Returning --- 1608 friends for JohnGarciaABC7\n",
      "Returning --- 207 friends for JohnGlennWAIP\n",
      "Returning --- 1701 friends for JohnHowellWLS\n",
      "Returning --- 246 friends for JohnKCollege\n",
      "Returning --- 1212 friends for JohnKatris\n",
      "Returning --- 21 friends for JohnLechanski\n",
      "Returning --- 473 friends for JohnLefferts\n",
      "Returning --- 1235 friends for JohnMFisher00\n",
      "Returning --- 217 friends for JohnMacGaffey\n",
      "Returning --- 40 friends for JohnMichaels733"
     ]
    },
    {
     "name": "stderr",
     "output_type": "stream",
     "text": [
      "Got error: {\"errors\":[{\"message\":\"Rate limit exceeded\",\"code\":88}]} \n",
      "sleeping for 15 minutes.\n"
     ]
    },
    {
     "name": "stdout",
     "output_type": "stream",
     "text": [
      "\n",
      "Returning --- 503 friends for JohnMillichapMD\n",
      "Returning --- 2065 friends for JohnParksBrown\n",
      "Returning --- 138 friends for JohnPcusackJr\n",
      "Returning --- 104 friends for JohnPerla\n",
      "Returning --- 506 friends for JohnRSports\n",
      "Returning --- 993 friends for JohnRayFowler\n",
      "Returning --- 365 friends for JohnRogersMS\n",
      "Returning --- 40 friends for JohnSmith323841\n",
      "Returning --- 89 friends for JohnSmith_1234\n",
      "Returning --- 89 friends for JohnTrobough\n",
      "Returning --- 513 friends for JohnTsarouchas\n",
      "Returning --- 135 friends for JohnWBeers"
     ]
    },
    {
     "name": "stderr",
     "output_type": "stream",
     "text": [
      "Got error: {\"errors\":[{\"message\":\"Rate limit exceeded\",\"code\":88}]} \n",
      "sleeping for 15 minutes.\n"
     ]
    },
    {
     "name": "stdout",
     "output_type": "stream",
     "text": [
      "\n",
      "Returning --- 18 friends for John_D_56\n",
      "Returning --- 65 friends for John___Adams\n",
      "Returning --- 42 friends for Johnathan_Cody\n",
      "Returning --- 972 friends for Johnathan_Wood1\n",
      "Returning --- 31 friends for Johnb271\n",
      "Returning --- 52 friends for Johncena_Team23\n",
      "Returning --- 300 friends for JohnnyHoops11\n",
      "Returning --- 6 friends for JohnnyXuheng\n",
      "Collected 5000 friends for JohnstonGrpInt\n",
      "Returning --- 10717 friends for JohnstonGrpInt\n",
      "Returning --- 347 friends for JoinAlphaSights\n",
      "Returning --- 299 friends for JoinCambridge"
     ]
    },
    {
     "name": "stderr",
     "output_type": "stream",
     "text": [
      "Got error: {\"errors\":[{\"message\":\"Rate limit exceeded\",\"code\":88}]} \n",
      "sleeping for 15 minutes.\n"
     ]
    },
    {
     "name": "stdout",
     "output_type": "stream",
     "text": [
      "\n",
      "Returning --- 330 friends for JoinCapgemini\n",
      "Returning --- 65 friends for JoinPMC\n",
      "Returning --- 40 friends for JointheCause123\n",
      "Returning --- 557 friends for JokeDeli\n",
      "Returning --- 41 friends for JolieFleming\n",
      "Returning --- 1312 friends for JolieLeeDC\n",
      "Returning --- 12 friends for JollyRobby\n",
      "Returning --- 79 friends for JonArntson\n",
      "Returning --- 934 friends for JonGoncalves\n",
      "Returning --- 945 friends for JonHeymanCBS\n",
      "Returning --- 368 friends for JonHorek\n",
      "Returning --- 632 friends for JonHsuMD\n",
      "Returning --- 344 friends for JonHuang_\n",
      "Returning --- 74 friends for JonKayMR\n",
      "Returning --- 86 friends for JonMerber"
     ]
    },
    {
     "name": "stderr",
     "output_type": "stream",
     "text": [
      "Got error: {\"errors\":[{\"message\":\"Rate limit exceeded\",\"code\":88}]} \n",
      "sleeping for 15 minutes.\n"
     ]
    },
    {
     "name": "stdout",
     "output_type": "stream",
     "text": [
      "\n",
      "Returning --- 306 friends for JonRizik\n",
      "Returning --- 36 friends for JonS53005\n",
      "Returning --- 1757 friends for JonSchrift1983\n",
      "Returning --- 96 friends for JonSpectorPhoto\n",
      "Returning --- 18 friends for Jon_Hymen\n",
      "Returning --- 368 friends for Jon_athanharris\n",
      "Collected 5000 friends for JonahLupton\n",
      "Collected 15000 friends for JonahLupton\n",
      "Collected 30000 friends for JonahLupton\n",
      "Found more than 50,000 friends. Returning error code = -3\n",
      "Returning --- 29 friends for JonathanCStarr\n",
      "Returning --- 240 friends for JonathanCard\n",
      "Returning --- 746 friends for JonathanCoffin\n",
      "Returning --- 1234 friends for JonathanEGreig\n",
      "Collected 5000 friends for JonathanJewel"
     ]
    },
    {
     "name": "stderr",
     "output_type": "stream",
     "text": [
      "Got error: {\"errors\":[{\"message\":\"Rate limit exceeded\",\"code\":88}]} \n",
      "sleeping for 15 minutes.\n"
     ]
    },
    {
     "name": "stdout",
     "output_type": "stream",
     "text": [
      "\n",
      "Returning --- 13772 friends for JonathanJewel\n",
      "Returning --- 665 friends for JonathanKamel\n",
      "Returning --- 296 friends for JonathanLababit\n",
      "Returning --- 584 friends for JonathanPfluger\n",
      "Returning --- 14 friends for JonathanPotack\n",
      "Returning --- 673 friends for JonathanSchatz\n",
      "Returning --- 40 friends for JonathanZjtab\n",
      "Returning --- 41 friends for JonathenEmil\n",
      "Returning --- 1724 friends for JonesKary\n",
      "Returning --- 62 friends for JonesNU\n",
      "Returning --- 31 friends for JonesRC1213\n",
      "Returning --- 638 friends for JoniThomes\n",
      "Returning --- 156 friends for JonnisaFerguson\n",
      "Returning --- 69 friends for JonnyChanLOL"
     ]
    },
    {
     "name": "stderr",
     "output_type": "stream",
     "text": [
      "Got error: {\"errors\":[{\"message\":\"Rate limit exceeded\",\"code\":88}]} \n",
      "sleeping for 15 minutes.\n"
     ]
    },
    {
     "name": "stdout",
     "output_type": "stream",
     "text": [
      "\n",
      "Returning --- 229 friends for JonoGobo\n",
      "Returning --- 162 friends for JooPierr\n",
      "Returning --- 1361 friends for Joobind\n",
      "Returning --- 1243 friends for Joomsterr\n",
      "Returning --- 337 friends for JoonParkMusic\n",
      "Returning --- 223 friends for JoplinBoy\n",
      "Returning --- 125 friends for JorWhore124\n",
      "Returning --- 313 friends for JordanArkin\n",
      "Returning --- 717 friends for JordanBernfield\n",
      "Returning --- 595 friends for JordanDillion\n",
      "Returning --- 985 friends for JordanLRay\n",
      "Returning --- 23 friends for JordanRosen98\n",
      "Returning --- 311 friends for JordanSJohnson\n",
      "Returning --- 676 friends for JordanWMinor"
     ]
    },
    {
     "name": "stderr",
     "output_type": "stream",
     "text": [
      "Got error: {\"errors\":[{\"message\":\"Rate limit exceeded\",\"code\":88}]} \n",
      "sleeping for 15 minutes.\n"
     ]
    },
    {
     "name": "stdout",
     "output_type": "stream",
     "text": [
      "\n",
      "Returning --- 332 friends for Jordan_Clarkyy\n",
      "Returning --- 121 friends for Jordan_charr\n",
      "Returning --- 332 friends for JordanaKozin\n",
      "Returning --- 260 friends for Jordpord\n",
      "Returning --- 37 friends for JoreneO\n",
      "Returning --- 1312 friends for JorgEnrikeS\n",
      "Returning --- 221 friends for JoriLeighJ\n",
      "Returning --- 644 friends for JosanneDeNatale\n",
      "Returning --- 542 friends for JoseAGalvan1\n",
      "Returning --- 893 friends for JoseBogarra\n",
      "Returning --- 1857 friends for JoseEnriqueLV"
     ]
    },
    {
     "name": "stderr",
     "output_type": "stream",
     "text": [
      "Got error: {\"errors\":[{\"message\":\"Rate limit exceeded\",\"code\":88}]} \n",
      "sleeping for 15 minutes.\n"
     ]
    },
    {
     "name": "stdout",
     "output_type": "stream",
     "text": [
      "\n",
      "Returning --- 2037 friends for JoseJorgeMadera\n",
      "Returning --- 97 friends for JoseMUrenaE\n",
      "Returning --- 177 friends for Joselyndiaz21\n",
      "Returning --- 123 friends for JosephDWoodard\n",
      "Returning --- 2006 friends for JosephDiebold\n",
      "Returning --- 306 friends for JosephDraut\n",
      "Returning --- 513 friends for JosephLiu_\n",
      "Returning --- 41 friends for JosephMa_muffin\n",
      "Returning --- 301 friends for JosephWatersBld\n",
      "Returning --- 10 friends for Joseph_Jasmine\n",
      "Returning --- 50 friends for Josesal69149380\n",
      "Returning --- 78 friends for JoshAnderson3\n",
      "Returning --- 188 friends for JoshEssex1"
     ]
    },
    {
     "name": "stderr",
     "output_type": "stream",
     "text": [
      "Got error: {\"errors\":[{\"message\":\"Rate limit exceeded\",\"code\":88}]} \n",
      "sleeping for 15 minutes.\n"
     ]
    },
    {
     "name": "stdout",
     "output_type": "stream",
     "text": [
      "\n",
      "Returning --- 24 friends for JoshFischman\n",
      "Returning --- 86 friends for JoshHatton99\n",
      "Returning --- 37 friends for JoshPierce11\n",
      "Returning --- 285 friends for JoshRands\n",
      "Returning --- 98 friends for JoshRubietta\n",
      "Returning --- 27 friends for JoshRudnik\n",
      "Returning --- 329 friends for JoshShader\n",
      "Returning --- 733 friends for JoshWalfish\n",
      "Returning --- 629 friends for Josh_Burton1\n",
      "Returning --- 1349 friends for Josh_Solomon15\n",
      "Returning --- 1994 friends for JoshuaJmGriffin\n",
      "Returning --- 550 friends for JoshuaLykins14\n",
      "Returning --- 2016 friends for JoshuaMansbach"
     ]
    },
    {
     "name": "stderr",
     "output_type": "stream",
     "text": [
      "Got error: {\"errors\":[{\"message\":\"Rate limit exceeded\",\"code\":88}]} \n",
      "sleeping for 15 minutes.\n"
     ]
    },
    {
     "name": "stdout",
     "output_type": "stream",
     "text": [
      "\n",
      "Returning --- 164 friends for JoshuaTibs\n",
      "Returning --- 1064 friends for Joshua_Gao\n",
      "Returning --- 114 friends for Joshua_Kopel\n",
      "Returning --- 7 friends for Joshuak1222\n",
      "Returning --- 479 friends for JoslinWoods1\n",
      "Returning --- 307 friends for Jospen123\n",
      "Returning --- 1711 friends for Jossane\n",
      "Returning --- 189 friends for JotLocker\n",
      "Returning --- 818 friends for Jotaecar\n",
      "Returning --- 1753 friends for JournStudents\n",
      "Returning --- 3398 friends for JournalKate\n",
      "Returning --- 1307 friends for JournalismHackr\n",
      "Returning --- 1760 friends for JourneyEd\n",
      "Returning --- 51 friends for Journimar"
     ]
    },
    {
     "name": "stderr",
     "output_type": "stream",
     "text": [
      "Got error: {\"errors\":[{\"message\":\"Rate limit exceeded\",\"code\":88}]} \n",
      "sleeping for 15 minutes.\n"
     ]
    },
    {
     "name": "stdout",
     "output_type": "stream",
     "text": [
      "\n",
      "Returning --- 54 friends for JovaniBrown2\n",
      "Returning --- 81 friends for Joy_enjoy\n",
      "Returning --- 337 friends for JoyaSmit\n",
      "Returning --- 363 friends for JoyceGarbaciak\n",
      "Returning --- 82 friends for JoyceMa04428340\n",
      "Returning --- 143 friends for Joyness1013\n",
      "Returning --- 60 friends for JozylinnD\n",
      "Returning --- 280 friends for Jpalmiotto\n",
      "Returning --- 254 friends for JpnCons_Chicago\n",
      "Returning --- 74 friends for Jpullara\n",
      "Returning --- 538 friends for Jrid71Jr\n",
      "Returning --- 1101 friends for Jrozell2\n",
      "Returning --- 727 friends for Jscottbbuggin"
     ]
    },
    {
     "name": "stderr",
     "output_type": "stream",
     "text": [
      "Got error: {\"errors\":[{\"message\":\"Rate limit exceeded\",\"code\":88}]} \n",
      "sleeping for 15 minutes.\n"
     ]
    },
    {
     "name": "stdout",
     "output_type": "stream",
     "text": [
      "\n",
      "Returning --- 1744 friends for Jsoloriojr\n",
      "Returning --- 653 friends for Jsp767\n",
      "Returning --- 1994 friends for Jspsciences\n",
      "Returning --- 16 friends for Jstudentlax\n",
      "Returning --- 299 friends for Jstyles5136\n",
      "Returning --- 257 friends for Jtsevanston\n",
      "Returning --- 86 friends for JuFleischmann\n",
      "Returning --- 17 friends for JuanDiegoDC\n",
      "Returning --- 2023 friends for JuanElvisFans\n",
      "Returning --- 59 friends for JuanLinfoot\n",
      "Returning --- 658 friends for Juancam69252088\n",
      "Returning --- 43 friends for Juarez3Linette"
     ]
    },
    {
     "name": "stderr",
     "output_type": "stream",
     "text": [
      "Got error: {\"errors\":[{\"message\":\"Rate limit exceeded\",\"code\":88}]} \n",
      "sleeping for 15 minutes.\n"
     ]
    },
    {
     "name": "stdout",
     "output_type": "stream",
     "text": [
      "\n",
      "Returning --- 4899 friends for JudahWorldChamp\n",
      "Returning --- 1242 friends for JudithOrvosELS\n",
      "Returning --- 328 friends for JudyLevinBooks\n",
      "Returning --- 204 friends for JudyMacri\n",
      "Returning --- 10 friends for JudyMohan2\n",
      "Returning --- 20 friends for Judybezz\n",
      "Returning --- 40 friends for JudysPizza\n",
      "Returning --- 21 friends for JueLinNU\n",
      "Returning --- 64 friends for Jugaadh\n",
      "Returning --- 224 friends for Juggleitup\n",
      "Returning --- 257 friends for Jugglingisstupi\n",
      "Returning --- 117 friends for Juie_S\n",
      "Returning --- 239 friends for Juie_Shah"
     ]
    },
    {
     "name": "stderr",
     "output_type": "stream",
     "text": [
      "Got error: {\"errors\":[{\"message\":\"Rate limit exceeded\",\"code\":88}]} \n",
      "sleeping for 15 minutes.\n"
     ]
    },
    {
     "name": "stdout",
     "output_type": "stream",
     "text": [
      "\n",
      "Returning --- 138 friends for Julesmg1\n",
      "Returning --- 88 friends for JulezLegend\n",
      "Returning --- 423 friends for JuliaCoppelman\n",
      "Returning --- 99 friends for JuliaErikNU\n",
      "Returning --- 1173 friends for JuliaFedor\n",
      "Returning --- 739 friends for JuliaFoxworthy\n",
      "Returning --- 553 friends for JuliaIClark\n",
      "Returning --- 44 friends for JuliaJu1ia\n",
      "Returning --- 243 friends for JuliaKH97\n",
      "Returning --- 508 friends for JuliaKHudgins\n",
      "Returning --- 371 friends for JuliaMHunter\n",
      "Returning --- 223 friends for JuliaMackel"
     ]
    },
    {
     "name": "stderr",
     "output_type": "stream",
     "text": [
      "Got error: {\"errors\":[{\"message\":\"Rate limit exceeded\",\"code\":88}]} \n",
      "sleeping for 15 minutes.\n"
     ]
    },
    {
     "name": "stdout",
     "output_type": "stream",
     "text": [
      "\n",
      "Returning --- 379 friends for JuliaMdeB\n",
      "Returning --- 1394 friends for JuliaPederson\n",
      "Returning --- 594 friends for JuliaShin\n",
      "Returning --- 16 friends for JuliaYLin\n",
      "Returning --- 842 friends for Julia_Haskins\n",
      "Returning --- 31 friends for Julia_Moore_NU\n",
      "Returning --- 313 friends for JulianEGerez\n",
      "Returning --- 41 friends for JulianLarach\n",
      "Returning --- 1649 friends for JulianRU\n",
      "Returning --- 59 friends for JulianYikTsao\n",
      "Returning --- 15 friends for JuliannaFord13\n",
      "Returning --- 26 friends for Julianna_2014\n",
      "Returning --- 120 friends for Juliapuffball\n",
      "Returning --- 165 friends for JulieABechtold\n",
      "Returning --- 132 friends for JulieCastellini"
     ]
    },
    {
     "name": "stderr",
     "output_type": "stream",
     "text": [
      "Got error: {\"errors\":[{\"message\":\"Rate limit exceeded\",\"code\":88}]} \n",
      "sleeping for 15 minutes.\n"
     ]
    },
    {
     "name": "stdout",
     "output_type": "stream",
     "text": [
      "\n",
      "Returning --- 22 friends for JulieFromSNtial\n",
      "Returning --- 60 friends for JulieHowlie\n",
      "Returning --- 42 friends for JulieHynes5\n",
      "Returning --- 78 friends for JulieJKJohnson\n",
      "Returning --- 16 friends for JulieJwbenson9\n",
      "Returning --- 166 friends for JulieMaslowsky\n",
      "Returning --- 53 friends for JulieWoonReport\n",
      "Returning --- 727 friends for Julie_Sher\n",
      "Returning --- 106 friends for Julieann5101\n",
      "Collected 5000 friends for Juliedeardorff\n",
      "Returning --- 10472 friends for Juliedeardorff\n",
      "Returning --- 13 friends for JulietSorensen"
     ]
    },
    {
     "name": "stderr",
     "output_type": "stream",
     "text": [
      "Got error: {\"errors\":[{\"message\":\"Rate limit exceeded\",\"code\":88}]} \n",
      "sleeping for 15 minutes.\n"
     ]
    },
    {
     "name": "stdout",
     "output_type": "stream",
     "text": [
      "\n",
      "Returning --- 866 friends for JulietaRandall\n",
      "Returning --- 2001 friends for JulioMarques\n",
      "Returning --- 357 friends for Julitosa\n",
      "Returning --- 196 friends for Julysantana22\n",
      "Returning --- 107 friends for JumaKhaledAssi1\n",
      "Returning --- 44 friends for JumboLoans_CA\n",
      "Returning --- 1165 friends for JumelPR\n",
      "Returning --- 331 friends for JumpRhythm\n",
      "Returning --- 389 friends for Jump_Estudie\n",
      "Returning --- 86 friends for JumpstartNU\n",
      "Returning --- 2246 friends for Jumpstartkids\n",
      "Returning --- 148 friends for JumpsuitCrew\n",
      "Returning --- 267 friends for JunCurryAhn\n",
      "Returning --- 65 friends for JunWong0702"
     ]
    },
    {
     "name": "stderr",
     "output_type": "stream",
     "text": [
      "Got error: {\"errors\":[{\"message\":\"Rate limit exceeded\",\"code\":88}]} \n",
      "sleeping for 15 minutes.\n"
     ]
    },
    {
     "name": "stdout",
     "output_type": "stream",
     "text": [
      "\n",
      "Returning --- 32 friends for JunXie016\n",
      "Returning --- 798 friends for JuneMaconSocial\n",
      "Returning --- 11 friends for JuneOlcott\n",
      "Returning --- 13 friends for June_Fu\n",
      "Returning --- 1282 friends for Junglefvr\n",
      "Returning --- 437 friends for JuniusRandolph\n",
      "Returning --- 57 friends for JunyanXIE\n",
      "Returning --- 1969 friends for JuriaRuni\n",
      "Returning --- 301 friends for JusRantin_Life\n",
      "Returning --- 220 friends for JustADrop\n",
      "Returning --- 206 friends for JustAndyNow\n",
      "Returning --- 1086 friends for JustBecauseLG\n",
      "Returning --- 178 friends for JustEllis"
     ]
    },
    {
     "name": "stderr",
     "output_type": "stream",
     "text": [
      "Got error: {\"errors\":[{\"message\":\"Rate limit exceeded\",\"code\":88}]} \n",
      "sleeping for 15 minutes.\n"
     ]
    },
    {
     "name": "stdout",
     "output_type": "stream",
     "text": [
      "\n",
      "Returning --- 40 friends for JustHumorMeHere\n",
      "Returning --- 451 friends for Justifymythug95\n",
      "Returning --- 1954 friends for Justin8Nichols\n",
      "Returning --- 94 friends for JustinBlatner\n",
      "Returning --- 222 friends for JustinCruz22\n",
      "Returning --- 390 friends for JustinDonne\n",
      "Returning --- 1726 friends for JustinGreis\n",
      "Returning --- 675 friends for JustinJacques43\n",
      "Returning --- 328 friends for JustinLev\n",
      "Returning --- 2018 friends for JustinNadile\n",
      "Returning --- 41 friends for JustinRErb\n",
      "Returning --- 102 friends for JustinStarren\n",
      "Returning --- 40 friends for JustinTheGr812"
     ]
    },
    {
     "name": "stderr",
     "output_type": "stream",
     "text": [
      "Got error: {\"errors\":[{\"message\":\"Rate limit exceeded\",\"code\":88}]} \n",
      "sleeping for 15 minutes.\n"
     ]
    },
    {
     "name": "stdout",
     "output_type": "stream",
     "text": [
      "\n",
      "Returning --- 796 friends for JustinTorres125\n",
      "Returning --- 476 friends for JustinWBeck\n",
      "Returning --- 205 friends for JustinZamarripa\n",
      "Returning --- 1435 friends for Justin_Campana\n",
      "Returning --- 862 friends for Justin_D_Martin\n",
      "Returning --- 1983 friends for Justin_W_Elam\n",
      "Returning --- 1791 friends for Justinbaer\n",
      "Returning --- 516 friends for Jvaughn1956\n",
      "Returning --- 163 friends for Jwaitz\n",
      "Returning --- 449 friends for Jy_Too_Fly\n",
      "Returning --- 554 friends for K2Apartments\n",
      "Returning --- 40 friends for K8eDidIth\n",
      "Returning --- 185 friends for K8lynMcBride"
     ]
    },
    {
     "name": "stderr",
     "output_type": "stream",
     "text": [
      "Got error: {\"errors\":[{\"message\":\"Rate limit exceeded\",\"code\":88}]} \n",
      "sleeping for 15 minutes.\n"
     ]
    },
    {
     "name": "stdout",
     "output_type": "stream",
     "text": [
      "\n",
      "Returning --- 28 friends for KACCWEST\n",
      "Returning --- 438 friends for KACChicago\n",
      "Returning --- 402 friends for KACNY\n",
      "Returning --- 101 friends for KAF_NYC\n",
      "Returning --- 7 friends for KAGWirth\n",
      "Returning --- 1852 friends for KALIJIC\n",
      "Returning --- 267 friends for KANSAKUSUSHI\n",
      "Returning --- 569 friends for KASEtheACE\n",
      "Returning --- 99 friends for KATNESS2112\n",
      "Returning --- 452 friends for KAUST_News\n",
      "Returning --- 241 friends for KA_McCoy\n",
      "Returning --- 260 friends for KAllenNiesen"
     ]
    },
    {
     "name": "stderr",
     "output_type": "stream",
     "text": [
      "Got error: {\"errors\":[{\"message\":\"Rate limit exceeded\",\"code\":88}]} \n",
      "sleeping for 15 minutes.\n"
     ]
    },
    {
     "name": "stdout",
     "output_type": "stream",
     "text": [
      "\n",
      "Returning --- 54 friends for KBraves12\n",
      "Returning --- 216 friends for KBullen7\n",
      "Returning --- 802 friends for KCAlbertine\n",
      "Returning --- 211 friends for KCBoise\n",
      "Returning --- 162 friends for KChaney_regus\n",
      "Returning --- 559 friends for KCinspireME\n",
      "Returning --- 216 friends for KCozumel\n",
      "Returning --- 348 friends for KD35_AkATHABEST\n",
      "Returning --- 26 friends for KDBP77\n",
      "Returning --- 688 friends for KDG703\n",
      "Returning --- 396 friends for KDNarko\n",
      "Returning --- 1125 friends for KDomonell\n",
      "Returning --- 389 friends for KDrawbaugh"
     ]
    },
    {
     "name": "stderr",
     "output_type": "stream",
     "text": [
      "Got error: {\"errors\":[{\"message\":\"Rate limit exceeded\",\"code\":88}]} \n",
      "sleeping for 15 minutes.\n"
     ]
    },
    {
     "name": "stdout",
     "output_type": "stream",
     "text": [
      "\n",
      "Returning --- 92 friends for KEMMaher\n",
      "Returning --- 92 friends for KENGRIMESJR\n",
      "Returning --- 1640 friends for KERRYREDWARDS\n",
      "Returning --- 96 friends for KERitchey\n",
      "Returning --- 1989 friends for KEricSaunders\n",
      "Returning --- 315 friends for KFCchesson\n",
      "Returning --- 445 friends for KGS_Scott\n",
      "Returning --- 137 friends for KHooo\n",
      "Returning --- 150 friends for KIC_simon\n",
      "Returning --- 488 friends for KING32DAVID\n",
      "Returning --- 102 friends for KIPPSummit\n",
      "Returning --- 1951 friends for KJBWDC2000\n",
      "Returning --- 40 friends for KJClaus"
     ]
    },
    {
     "name": "stderr",
     "output_type": "stream",
     "text": [
      "Got error: {\"errors\":[{\"message\":\"Rate limit exceeded\",\"code\":88}]} \n",
      "sleeping for 15 minutes.\n"
     ]
    },
    {
     "name": "stdout",
     "output_type": "stream",
     "text": [
      "\n",
      "Returning --- 124 friends for KJ_Immy\n",
      "Returning --- 172 friends for KJorgss\n",
      "Returning --- 1796 friends for KKSchiavone\n",
      "Returning --- 2000 friends for KKtres\n",
      "Returning --- 1017 friends for KLAW4now\n",
      "Returning --- 1993 friends for KLKring\n",
      "Returning --- 5 friends for KLehenbauer\n",
      "Returning --- 148 friends for KLeighD\n",
      "Returning --- 2488 friends for KLinlloyd\n",
      "Returning --- 51 friends for KLongMacLeod\n",
      "Returning --- 16 friends for KLosKarma\n",
      "Returning --- 1886 friends for KMAHuntley"
     ]
    },
    {
     "name": "stderr",
     "output_type": "stream",
     "text": [
      "Got error: {\"errors\":[{\"message\":\"Rate limit exceeded\",\"code\":88}]} \n",
      "sleeping for 15 minutes.\n"
     ]
    },
    {
     "name": "stdout",
     "output_type": "stream",
     "text": [
      "\n",
      "Returning --- 15 friends for KMCNU92\n",
      "Returning --- 780 friends for KMGDePaul\n",
      "Returning --- 111 friends for KMMastronardi\n",
      "Returning --- 315 friends for KMNewbold\n",
      "Returning --- 100 friends for KMOberly26\n",
      "Returning --- 894 friends for KMartinezCarter\n",
      "Returning --- 167 friends for KMcRaeQueen\n",
      "Returning --- 154 friends for KMoneyCheng\n",
      "Returning --- 186 friends for KNeasman\n",
      "Returning --- 548 friends for KNewton14"
     ]
    },
    {
     "name": "stderr",
     "output_type": "stream",
     "text": [
      "Got error: {\"errors\":[{\"message\":\"Rate limit exceeded\",\"code\":88}]} \n",
      "sleeping for 15 minutes.\n"
     ]
    },
    {
     "name": "stdout",
     "output_type": "stream",
     "text": [
      "\n",
      "Returning --- 1948 friends for KOB14\n",
      "Returning --- 245 friends for KONYSoprano\n",
      "Returning --- 50 friends for KPALOANRELIEF\n",
      "Returning --- 263 friends for KPMBarchitects\n",
      "Returning --- 963 friends for KPMGCampusUS\n",
      "Returning --- 407 friends for KPSull\n",
      "Returning --- 280 friends for KPeikert\n",
      "Returning --- 1064 friends for KPezzella\n",
      "Returning --- 267 friends for KRCSCollegeCo\n",
      "Returning --- 358 friends for KRGCareers\n",
      "Returning --- 34 friends for KRNV_JobCenter\n",
      "Returning --- 72 friends for KROSUSA\n",
      "Returning --- 73 friends for KRYSatFEINBERG"
     ]
    },
    {
     "name": "stderr",
     "output_type": "stream",
     "text": [
      "Got error: {\"errors\":[{\"message\":\"Rate limit exceeded\",\"code\":88}]} \n",
      "sleeping for 15 minutes.\n"
     ]
    },
    {
     "name": "stdout",
     "output_type": "stream",
     "text": [
      "\n",
      "Returning --- 682 friends for KRayWeber\n",
      "Returning --- 636 friends for KReeceKHOU\n",
      "Returning --- 736 friends for KSATcory\n",
      "Returning --- 847 friends for KSamChi\n",
      "Returning --- 59 friends for KShnide\n",
      "Returning --- 520 friends for KSkoirchet\n",
      "Returning --- 135 friends for KSmitsofficial\n",
      "Returning --- 394 friends for KStrugs\n",
      "Returning --- 706 friends for KTHresearch\n",
      "Returning --- 491 friends for KTKobeszka\n",
      "Returning --- 159 friends for KTOBChicago\n",
      "Returning --- 269 friends for KTP_MariKent"
     ]
    },
    {
     "name": "stderr",
     "output_type": "stream",
     "text": [
      "Got error: {\"errors\":[{\"message\":\"Rate limit exceeded\",\"code\":88}]} \n",
      "sleeping for 15 minutes.\n"
     ]
    },
    {
     "name": "stdout",
     "output_type": "stream",
     "text": [
      "\n",
      "Returning --- 92 friends for KT_Martini13\n",
      "Returning --- 639 friends for KT_McDonough\n",
      "Returning --- 38 friends for KTabacek\n",
      "Returning --- 151 friends for KTbuggg11\n",
      "Returning --- 151 friends for KThomas2012\n",
      "Returning --- 230 friends for KUAliciaGreen\n",
      "Returning --- 532 friends for KUMegan\n",
      "Returning --- 1303 friends for KVHernacki\n",
      "Returning --- 265 friends for KVWatButler\n",
      "Returning --- 1391 friends for KWCHWill\n",
      "Returning --- 57 friends for KWESTKellogg\n",
      "Returning --- 32 friends for KWESTMystery\n",
      "Returning --- 43 friends for KWL32nO2xl9Ja4p\n",
      "Returning --- 106 friends for KWON_YungJoon"
     ]
    },
    {
     "name": "stderr",
     "output_type": "stream",
     "text": [
      "Got error: {\"errors\":[{\"message\":\"Rate limit exceeded\",\"code\":88}]} \n",
      "sleeping for 15 minutes.\n"
     ]
    },
    {
     "name": "stdout",
     "output_type": "stream",
     "text": [
      "\n",
      "Returning --- 641 friends for KWahlstrom\n",
      "Returning --- 1423 friends for KWangCNN\n",
      "Returning --- 417 friends for KYHH_Chicago\n",
      "Returning --- 1314 friends for KYTXSamuel\n",
      "Returning --- 1989 friends for KZamoyski\n",
      "Returning --- 132 friends for KZhao1221\n",
      "Returning --- 903 friends for K_Cooley\n",
      "Returning --- 53 friends for K_Leonard55\n",
      "Returning --- 138 friends for K_Nathanson\n",
      "Returning --- 1129 friends for K_Shalan\n",
      "Returning --- 22 friends for K_T_Reif\n",
      "Returning --- 46 friends for K_Yonover2016"
     ]
    },
    {
     "name": "stderr",
     "output_type": "stream",
     "text": [
      "Got error: {\"errors\":[{\"message\":\"Rate limit exceeded\",\"code\":88}]} \n",
      "sleeping for 15 minutes.\n"
     ]
    },
    {
     "name": "stdout",
     "output_type": "stream",
     "text": [
      "\n",
      "Returning --- 220 friends for KabinetBruce\n",
      "Returning --- 334 friends for KacyintheSky\n",
      "Returning --- 233 friends for KadenBoyce02\n",
      "Returning --- 358 friends for Kadima60015\n",
      "Returning --- 536 friends for Kadisond\n",
      "Returning --- 134 friends for KaelinButts\n",
      "Returning --- 73 friends for KaelynDexter\n",
      "Returning --- 109 friends for KafkaAtNU\n",
      "Returning --- 494 friends for Kahmil\n",
      "Returning --- 36 friends for Kai1015_\n",
      "Returning --- 232 friends for KaiEliseFlores\n",
      "Returning --- 35 friends for KaibiganNU\n",
      "Returning --- 59 friends for Kaidiliu"
     ]
    },
    {
     "name": "stderr",
     "output_type": "stream",
     "text": [
      "Got error: {\"errors\":[{\"message\":\"Rate limit exceeded\",\"code\":88}]} \n",
      "sleeping for 15 minutes.\n"
     ]
    },
    {
     "name": "stdout",
     "output_type": "stream",
     "text": [
      "\n",
      "Returning --- 580 friends for KaitlinPerryma2\n",
      "Returning --- 292 friends for KaitlinPetersen\n",
      "Returning --- 208 friends for KaitlinVery\n",
      "Returning --- 889 friends for KaitlinZS\n",
      "Returning --- 585 friends for Kaitlin_Bevins\n",
      "Returning --- 240 friends for Kaitpei\n",
      "Returning --- 311 friends for Kaiwen_just\n",
      "Returning --- 178 friends for KaizenKanji\n",
      "Returning --- 75 friends for Kakhajir\n",
      "Returning --- 228 friends for Kaleigh_Rae_\n",
      "Returning --- 148 friends for Kaliannisage\n",
      "Returning --- 233 friends for KalieRobison\n",
      "Returning --- 67 friends for KalinaSilverman"
     ]
    },
    {
     "name": "stderr",
     "output_type": "stream",
     "text": [
      "Got error: {\"errors\":[{\"message\":\"Rate limit exceeded\",\"code\":88}]} \n",
      "sleeping for 15 minutes.\n"
     ]
    },
    {
     "name": "stdout",
     "output_type": "stream",
     "text": [
      "\n",
      "Returning --- 389 friends for KalliKayy\n",
      "Returning --- 85 friends for KalosInc\n",
      "Returning --- 43 friends for KamAmato\n",
      "Returning --- 41 friends for KamAndSteven\n",
      "Returning --- 38 friends for KamilaZarembska\n",
      "Returning --- 289 friends for KamrynRobbins\n",
      "Returning --- 284 friends for KamyinC\n",
      "Returning --- 1022 friends for Kangnam_King\n",
      "Returning --- 2059 friends for KankakeeCoEDC\n",
      "Returning --- 52 friends for KanyaratKarnsan\n",
      "Returning --- 357 friends for KaplanEzra\n",
      "Collected 5000 friends for KaplanLSATPrep\n",
      "Returning --- 10083 friends for KaplanLSATPrep"
     ]
    },
    {
     "name": "stderr",
     "output_type": "stream",
     "text": [
      "Got error: {\"errors\":[{\"message\":\"Rate limit exceeded\",\"code\":88}]} \n",
      "sleeping for 15 minutes.\n"
     ]
    },
    {
     "name": "stdout",
     "output_type": "stream",
     "text": [
      "\n",
      "Returning --- 264 friends for KapowGarg\n",
      "Returning --- 86 friends for KapriConsulting\n",
      "Returning --- 1864 friends for KaraAliMusic\n",
      "Returning --- 243 friends for Kara_Godwin\n",
      "Returning --- 4020 friends for KarenAndAndrew\n",
      "Returning --- 46 friends for KarenAsbra\n",
      "Returning --- 3435 friends for KarenAttiah\n",
      "Returning --- 1031 friends for KarenBartuch\n",
      "Returning --- 101 friends for KarenBlairBoss\n",
      "Returning --- 1027 friends for KarenCast\n",
      "Returning --- 85 friends for KarenChhokar\n",
      "Returning --- 56 friends for KarenChookaszia\n",
      "Returning --- 212 friends for KarenIsaacson\n",
      "Returning --- 223 friends for KarenJSundell"
     ]
    },
    {
     "name": "stderr",
     "output_type": "stream",
     "text": [
      "Got error: {\"errors\":[{\"message\":\"Rate limit exceeded\",\"code\":88}]} \n",
      "sleeping for 15 minutes.\n"
     ]
    },
    {
     "name": "stdout",
     "output_type": "stream",
     "text": [
      "\n",
      "Returning --- 632 friends for KarenJahncke\n",
      "Returning --- 208 friends for KarenKmmasche\n",
      "Returning --- 45 friends for KarenLanger51\n",
      "Returning --- 2008 friends for KarenMGraziano\n",
      "Returning --- 416 friends for KarenQuant4\n",
      "Returning --- 1405 friends for KarenTSmith\n",
      "Returning --- 42 friends for KarenWei93\n",
      "Returning --- 582 friends for KariVandraiss\n",
      "Returning --- 451 friends for KarieAngellLuc\n",
      "Returning --- 315 friends for Karim32\n",
      "Returning --- 1953 friends for KarimElHaschimi\n",
      "Returning --- 104 friends for KarimovFuad\n",
      "Returning --- 206 friends for KarinScott526"
     ]
    },
    {
     "name": "stderr",
     "output_type": "stream",
     "text": [
      "Got error: {\"errors\":[{\"message\":\"Rate limit exceeded\",\"code\":88}]} \n",
      "sleeping for 15 minutes.\n"
     ]
    },
    {
     "name": "stdout",
     "output_type": "stream",
     "text": [
      "\n",
      "Returning --- 378 friends for KarinaAnne\n",
      "Returning --- 327 friends for KarinaKedo\n",
      "Returning --- 83 friends for KarinaLonsdale\n",
      "Returning --- 244 friends for Karina_Sirota\n",
      "Returning --- 58 friends for KariukiNick\n",
      "Returning --- 102 friends for KarlBraun312\n",
      "Returning --- 41 friends for KarlKooistra\n",
      "Returning --- 484 friends for KarlKoos\n",
      "Returning --- 495 friends for KarlLenss\n",
      "Returning --- 16 friends for KarlWunderlich\n",
      "Returning --- 1161 friends for KarlaPortalatin\n",
      "Returning --- 1333 friends for KarlaSkeff\n",
      "Returning --- 156 friends for KarlynMurphy\n",
      "Returning --- 112 friends for KarmaforKids"
     ]
    },
    {
     "name": "stderr",
     "output_type": "stream",
     "text": [
      "Got error: {\"errors\":[{\"message\":\"Rate limit exceeded\",\"code\":88}]} \n",
      "sleeping for 15 minutes.\n"
     ]
    },
    {
     "name": "stdout",
     "output_type": "stream",
     "text": [
      "\n",
      "Returning --- 310 friends for Karna168\n",
      "Returning --- 110 friends for KarolynSzot\n",
      "Returning --- 25 friends for KarynReif\n",
      "Returning --- 218 friends for KasarovComm\n",
      "Returning --- 10 friends for Kase_Vyas\n",
      "Returning --- 84 friends for KaseyAlbarez\n",
      "Returning --- 4929 friends for KaseyCrabtree\n",
      "Returning --- 21 friends for KassnerBarbara\n",
      "Returning --- 17 friends for Kastler76\n",
      "Returning --- 1275 friends for KatAMacfarlane\n",
      "Returning --- 167 friends for KatPags\n",
      "Returning --- 125 friends for KatRubinGoodman\n",
      "Returning --- 396 friends for KatSenseman\n",
      "Returning --- 428 friends for KatSpleen1\n",
      "Returning --- 52 friends for Kat_Whitworth"
     ]
    },
    {
     "name": "stderr",
     "output_type": "stream",
     "text": [
      "Got error: {\"errors\":[{\"message\":\"Rate limit exceeded\",\"code\":88}]} \n",
      "sleeping for 15 minutes.\n"
     ]
    },
    {
     "name": "stdout",
     "output_type": "stream",
     "text": [
      "\n",
      "Returning --- 51 friends for Kata_Zi\n",
      "Returning --- 892 friends for KateAMullaney\n",
      "Returning --- 319 friends for KateASmith\n",
      "Returning --- 130 friends for KateBSouthard\n",
      "Returning --- 329 friends for KateBallensky\n",
      "Returning --- 113 friends for KateBranigan\n",
      "Returning --- 456 friends for KateCMiranda\n",
      "Returning --- 262 friends for KateDG\n",
      "Returning --- 2 friends for KateLi921130\n",
      "Returning --- 16 friends for KateLowrie\n",
      "Returning --- 1533 friends for KateMacArthur\n",
      "Returning --- 221 friends for KateMcGroarty"
     ]
    },
    {
     "name": "stderr",
     "output_type": "stream",
     "text": [
      "Got error: {\"errors\":[{\"message\":\"Rate limit exceeded\",\"code\":88}]} \n",
      "sleeping for 15 minutes.\n"
     ]
    },
    {
     "name": "stdout",
     "output_type": "stream",
     "text": [
      "\n",
      "Returning --- 609 friends for KateVenne\n",
      "Returning --- 691 friends for Kate_Flynn\n",
      "Returning --- 1122 friends for KaterinaBeth\n",
      "Returning --- 586 friends for Katerina_Paz\n",
      "Returning --- 182 friends for Katerogerss\n",
      "Returning --- 326 friends for Katerosie16\n",
      "Returning --- 403 friends for KateyRusch\n",
      "Returning --- 199 friends for KathRitchey\n",
      "Returning --- 12 friends for KathYifanLiu\n",
      "Returning --- 11 friends for Katheri72307836\n",
      "Returning --- 87 friends for KatherineCaine"
     ]
    },
    {
     "name": "stderr",
     "output_type": "stream",
     "text": [
      "Got error: {\"errors\":[{\"message\":\"Rate limit exceeded\",\"code\":88}]} \n",
      "sleeping for 15 minutes.\n"
     ]
    },
    {
     "name": "stdout",
     "output_type": "stream",
     "text": [
      "\n",
      "Returning --- 21 friends for KatherineGlazie\n",
      "Returning --- 1572 friends for KatherineMeyer\n",
      "Returning --- 68 friends for Kathl33n1\n",
      "Returning --- 772 friends for KathleenHackADP\n",
      "Returning --- 341 friends for KathleenHarsy\n",
      "Returning --- 41 friends for KathleenIps\n",
      "Returning --- 710 friends for KathleenRause\n",
      "Returning --- 584 friends for KathrynMcKay\n",
      "Returning --- 11 friends for KathrynRSchwaba\n",
      "Returning --- 1087 friends for KathrynSinde\n",
      "Returning --- 22 friends for KathyCamp46\n",
      "Returning --- 937 friends for KathyChanimal\n",
      "Returning --- 166 friends for KathyJGoss1\n",
      "Returning --- 79 friends for KathyPalter"
     ]
    },
    {
     "name": "stderr",
     "output_type": "stream",
     "text": [
      "Got error: {\"errors\":[{\"message\":\"Rate limit exceeded\",\"code\":88}]} \n",
      "sleeping for 15 minutes.\n"
     ]
    },
    {
     "name": "stdout",
     "output_type": "stream",
     "text": [
      "\n",
      "Returning --- 126 friends for KathyRyan9\n",
      "Returning --- 363 friends for KathySchmitzs\n",
      "Returning --- 46 friends for KatieAnderson10\n",
      "Returning --- 143 friends for KatieChang53\n",
      "Returning --- 996 friends for KatieChristy14\n",
      "Returning --- 260 friends for KatieColton25\n",
      "Returning --- 321 friends for KatieDraus\n",
      "Returning --- 48 friends for KatieEilers2\n",
      "Returning --- 32 friends for KatieElinore\n",
      "Returning --- 21 friends for KatieFunderburg\n",
      "Returning --- 479 friends for KatieGronendyke\n",
      "Returning --- 14 friends for KatieHardwomen"
     ]
    },
    {
     "name": "stderr",
     "output_type": "stream",
     "text": [
      "Got error: {\"errors\":[{\"message\":\"Rate limit exceeded\",\"code\":88}]} \n",
      "sleeping for 15 minutes.\n"
     ]
    },
    {
     "name": "stdout",
     "output_type": "stream",
     "text": [
      "\n",
      "Returning --- 35 friends for KatieKamilos\n",
      "Returning --- 66 friends for KatieKlien\n",
      "Returning --- 367 friends for KatieLux5\n",
      "Returning --- 504 friends for KatieMarovitch\n",
      "Returning --- 204 friends for KatieNashie\n",
      "Returning --- 43 friends for KatieSalis\n",
      "Returning --- 219 friends for KatieSatrom\n",
      "Returning --- 517 friends for KatieSchoolov\n",
      "Returning --- 706 friends for KatieSmiley\n",
      "Returning --- 127 friends for KatieVMW\n",
      "Returning --- 76 friends for Katie_E_Bates\n",
      "Returning --- 92 friends for Katie_Moses"
     ]
    },
    {
     "name": "stderr",
     "output_type": "stream",
     "text": [
      "Got error: {\"errors\":[{\"message\":\"Rate limit exceeded\",\"code\":88}]} \n",
      "sleeping for 15 minutes.\n"
     ]
    },
    {
     "name": "stdout",
     "output_type": "stream",
     "text": [
      "\n",
      "Returning --- 108 friends for Katie_Schubauer\n",
      "Returning --- 738 friends for KatinaBeniaris\n",
      "Returning --- 1991 friends for KatinaGirl\n",
      "Returning --- 310 friends for Katrina_Diaz\n",
      "Returning --- 299 friends for KatyFranzen\n",
      "Returning --- 105 friends for Katy_Sakats\n",
      "Returning --- 892 friends for Katyctools\n",
      "Returning --- 112 friends for Katydidryan\n",
      "Returning --- 160 friends for KaufmanSTL"
     ]
    },
    {
     "name": "stderr",
     "output_type": "stream",
     "text": [
      "Got error: {\"errors\":[{\"message\":\"Rate limit exceeded\",\"code\":88}]} \n",
      "sleeping for 15 minutes.\n"
     ]
    },
    {
     "name": "stdout",
     "output_type": "stream",
     "text": [
      "\n",
      "Returning --- 109 friends for KauzClaySaidSo\n",
      "Returning --- 119 friends for KayAGray\n",
      "Returning --- 595 friends for KayArrEss\n",
      "Returning --- 182 friends for KayChung05\n",
      "Returning --- 147 friends for KayDaugherty92\n",
      "Returning --- 171 friends for KayKayreinhardt\n",
      "Returning --- 357 friends for KayKim07\n",
      "Returning --- 489 friends for KayMW_95\n",
      "Returning --- 96 friends for KayPunkPrincess\n",
      "Returning --- 516 friends for KaylaElise04\n",
      "Returning --- 126 friends for KaylaSReardon\n",
      "Returning --- 84 friends for KaylaStrupp\n",
      "Returning --- 228 friends for Kayla_MarieD\n",
      "Returning --- 133 friends for Kaylee_Tz"
     ]
    },
    {
     "name": "stderr",
     "output_type": "stream",
     "text": [
      "Got error: {\"errors\":[{\"message\":\"Rate limit exceeded\",\"code\":88}]} \n",
      "sleeping for 15 minutes.\n"
     ]
    },
    {
     "name": "stdout",
     "output_type": "stream",
     "text": [
      "\n",
      "Returning --- 622 friends for KayteeTaylor\n",
      "Returning --- 1348 friends for Kaz_N\n",
      "Returning --- 342 friends for Kbdooley\n",
      "Returning --- 321 friends for Kblakewood\n",
      "Returning --- 826 friends for KbogesRECRUITS\n",
      "Returning --- 15 friends for Kchan0209\n",
      "Returning --- 108 friends for KdLo6d\n",
      "Returning --- 48 friends for KeRMCF\n",
      "Returning --- 917 friends for KealaDPU\n",
      "Returning --- 220 friends for KeanaLegend\n",
      "Returning --- 317 friends for KeaneNotesMBTI\n",
      "Returning --- 320 friends for KeeangaYamahtta"
     ]
    },
    {
     "name": "stderr",
     "output_type": "stream",
     "text": [
      "Got error: {\"errors\":[{\"message\":\"Rate limit exceeded\",\"code\":88}]} \n",
      "sleeping for 15 minutes.\n"
     ]
    },
    {
     "name": "stdout",
     "output_type": "stream",
     "text": [
      "\n",
      "Returning --- 411 friends for Keeeeeeevin\n",
      "Returning --- 199 friends for KeelingHigherEd\n",
      "Returning --- 169 friends for KeenyaHofmaier\n",
      "Returning --- 965 friends for KeetonBartol\n",
      "Returning --- 349 friends for Kei18960286\n",
      "Returning --- 19 friends for KeithCollinsLaw\n",
      "Returning --- 130 friends for Keke_Keiaira\n",
      "Returning --- 250 friends for Kelbonzo\n",
      "Returning --- 47 friends for KellNUSearch\n",
      "Returning --- 384 friends for KelliAustinDC\n",
      "Returning --- 1015 friends for KelliLMurray\n",
      "Returning --- 34 friends for KelliPowell1\n",
      "Returning --- 6 friends for KellieMitchell\n",
      "Returning --- 415 friends for KellieNoaks"
     ]
    },
    {
     "name": "stderr",
     "output_type": "stream",
     "text": [
      "Got error: {\"errors\":[{\"message\":\"Rate limit exceeded\",\"code\":88}]} \n",
      "sleeping for 15 minutes.\n"
     ]
    },
    {
     "name": "stdout",
     "output_type": "stream",
     "text": [
      "\n",
      "Returning --- 77 friends for KelloggAlumENTR\n",
      "Returning --- 469 friends for KelloggAlumni\n",
      "Returning --- 73 friends for KelloggAlumniMX\n",
      "Returning --- 5 friends for KelloggAlumniUK\n",
      "Returning --- 158 friends for KelloggBAC\n",
      "Returning --- 168 friends for KelloggBLC\n",
      "Returning --- 54 friends for KelloggBMA\n",
      "Returning --- 24 friends for KelloggBMAConf\n",
      "Returning --- 19 friends for KelloggCAB\n",
      "Returning --- 53 friends for KelloggCPU\n",
      "Returning --- 4 friends for KelloggConnect\n",
      "Returning --- 534 friends for KelloggDFW\n",
      "Returning --- 43 friends for KelloggEnergy\n",
      "Returning --- 1831 friends for KelloggEntrep"
     ]
    },
    {
     "name": "stderr",
     "output_type": "stream",
     "text": [
      "Got error: {\"errors\":[{\"message\":\"Rate limit exceeded\",\"code\":88}]} \n",
      "sleeping for 15 minutes.\n"
     ]
    },
    {
     "name": "stdout",
     "output_type": "stream",
     "text": [
      "\n",
      "Returning --- 261 friends for KelloggExecEd\n",
      "Returning --- 331 friends for KelloggImpact\n",
      "Returning --- 17 friends for KelloggJV\n",
      "Returning --- 207 friends for KelloggMktgClub\n",
      "Returning --- 297 friends for KelloggMktgConf\n",
      "Returning --- 700 friends for KelloggNetImp\n",
      "Returning --- 146 friends for KelloggREclub\n",
      "Returning --- 1796 friends for KelloggSchool\n",
      "Returning --- 649 friends for KelloggTechConf\n",
      "Returning --- 107 friends for KelloggWBA\n",
      "Returning --- 48 friends for Kellogg_MktgTMP\n",
      "Returning --- 128 friends for Kellogg_SBC\n",
      "Returning --- 1608 friends for KellyCulinarian\n",
      "Returning --- 475 friends for KellyDillon3233\n",
      "Returning --- 29 friends for KellyHazenKlug"
     ]
    },
    {
     "name": "stderr",
     "output_type": "stream",
     "text": [
      "Got error: {\"errors\":[{\"message\":\"Rate limit exceeded\",\"code\":88}]} \n",
      "sleeping for 15 minutes.\n"
     ]
    },
    {
     "name": "stdout",
     "output_type": "stream",
     "text": [
      "\n",
      "Returning --- 30 friends for KellyHenry24\n",
      "Returning --- 355 friends for KellyIsHiring\n",
      "Returning --- 40 friends for KellyJankovic\n",
      "Returning --- 144 friends for KellyKnowsWhere\n",
      "Returning --- 212 friends for KellyLHCGroup\n",
      "Returning --- 1353 friends for KellyO\n",
      "Returning --- 1252 friends for KellyPulpnoir22\n",
      "Returning --- 298 friends for KellyRochleau\n",
      "Returning --- 68 friends for KellySatterlee\n",
      "Returning --- 286 friends for Kelly_Shelden"
     ]
    },
    {
     "name": "stderr",
     "output_type": "stream",
     "text": [
      "Got error: {\"errors\":[{\"message\":\"Rate limit exceeded\",\"code\":88}]} \n",
      "sleeping for 15 minutes.\n"
     ]
    },
    {
     "name": "stdout",
     "output_type": "stream",
     "text": [
      "\n",
      "Returning --- 574 friends for Kellyjbuckles\n",
      "Returning --- 161 friends for KelsJame\n",
      "Returning --- 164 friends for KelseyEIngram\n",
      "Returning --- 513 friends for KelseyMok\n",
      "Returning --- 963 friends for KelseyOgletree\n",
      "Returning --- 726 friends for KelseyRydland\n",
      "Returning --- 177 friends for KelseyStokes_\n",
      "Returning --- 272 friends for Kelseyg924\n",
      "Returning --- 176 friends for KeltonConnors\n",
      "Returning --- 368 friends for Kelyce_writer\n",
      "Returning --- 486 friends for KemiJona\n",
      "Returning --- 165 friends for KempSteel"
     ]
    },
    {
     "name": "stderr",
     "output_type": "stream",
     "text": [
      "Got error: {\"errors\":[{\"message\":\"Rate limit exceeded\",\"code\":88}]} \n",
      "sleeping for 15 minutes.\n"
     ]
    },
    {
     "name": "stdout",
     "output_type": "stream",
     "text": [
      "\n",
      "Returning --- 2009 friends for KempWrites\n",
      "Returning --- 542 friends for KenCampJobs\n",
      "Returning --- 813 friends for KenCrites\n",
      "Collected 5000 friends for KenDavidoff\n",
      "Returning --- 10028 friends for KenDavidoff\n",
      "Returning --- 1458 friends for KenEastwod\n",
      "Returning --- 102 friends for KenEnglishKaty\n",
      "Returning --- 887 friends for KenGonzo\n",
      "Returning --- 72 friends for KenHall60\n",
      "Returning --- 98 friends for KenHighwalker\n",
      "Returning --- 885 friends for KenRFleming\n",
      "Returning --- 519 friends for KenStolman\n",
      "Returning --- 72 friends for KenTall79\n",
      "Returning --- 19 friends for KenWoo3\n",
      "Returning --- 29 friends for Ken_24_"
     ]
    },
    {
     "name": "stderr",
     "output_type": "stream",
     "text": [
      "Got error: {\"errors\":[{\"message\":\"Rate limit exceeded\",\"code\":88}]} \n",
      "sleeping for 15 minutes.\n"
     ]
    },
    {
     "name": "stdout",
     "output_type": "stream",
     "text": [
      "\n",
      "Returning --- 1008 friends for Ken_Rutsky\n",
      "Returning --- 133 friends for KendallTodd1\n",
      "Returning --- 43 friends for Kendall_Place\n",
      "Returning --- 40 friends for KendrickCyril\n",
      "Returning --- 11 friends for KenishaLMorgan\n",
      "Returning --- 526 friends for KennethElpus\n",
      "Returning --- 488 friends for KennethJFerrone\n",
      "Returning --- 104 friends for KennyKmtriplett\n",
      "Returning --- 187 friends for KennyKtriplett\n",
      "Returning --- 97 friends for KennyKwtriplett\n",
      "Returning --- 171 friends for KennyPowEARS\n",
      "Returning --- 32 friends for Kensi_Xu\n",
      "Returning --- 37 friends for KentBracken\n",
      "Returning --- 364 friends for KentEiler"
     ]
    },
    {
     "name": "stderr",
     "output_type": "stream",
     "text": [
      "Got error: {\"errors\":[{\"message\":\"Rate limit exceeded\",\"code\":88}]} \n",
      "sleeping for 15 minutes.\n"
     ]
    },
    {
     "name": "stdout",
     "output_type": "stream",
     "text": [
      "\n",
      "Returning --- 1956 friends for KentuckyMiles\n",
      "Returning --- 1878 friends for Kenyan_\n",
      "Returning --- 3794 friends for Keppie_Careers\n",
      "Returning --- 32 friends for Kerem3556\n",
      "Returning --- 168 friends for KeriEGarman\n",
      "Returning --- 200 friends for KeriSwartz\n",
      "Returning --- 418 friends for KernKterbear\n",
      "Returning --- 257 friends for KerriAnne33\n",
      "Returning --- 844 friends for Kerry115A\n",
      "Returning --- 632 friends for KerryEhrin\n",
      "Returning --- 27 friends for KeshRajam\n",
      "Returning --- 555 friends for KetteringFdn\n",
      "Returning --- 412 friends for KettermanCF\n",
      "Returning --- 363 friends for KevEchavarria"
     ]
    },
    {
     "name": "stderr",
     "output_type": "stream",
     "text": [
      "Got error: {\"errors\":[{\"message\":\"Rate limit exceeded\",\"code\":88}]} \n",
      "sleeping for 15 minutes.\n"
     ]
    },
    {
     "name": "stdout",
     "output_type": "stream",
     "text": [
      "\n",
      "Returning --- 286 friends for KevMKing\n",
      "Returning --- 2004 friends for KevRWright\n",
      "Returning --- 68 friends for KevS_Songwriter\n",
      "Returning --- 61 friends for KevinCSmith22\n",
      "Returning --- 1199 friends for KevinGoesCats\n",
      "Returning --- 908 friends for KevinJBoudreau\n",
      "Returning --- 11 friends for KevinJWallin\n",
      "Returning --- 243 friends for KevinKo1103\n",
      "Returning --- 117 friends for KevinLCheng\n",
      "Returning --- 142 friends for KevinLeedsandGC\n",
      "Returning --- 1108 friends for KevinLyonsNWH\n",
      "Returning --- 147 friends for KevinMBonney\n",
      "Returning --- 279 friends for KevinMaas\n",
      "Returning --- 485 friends for KevinMahoney215"
     ]
    },
    {
     "name": "stderr",
     "output_type": "stream",
     "text": [
      "Got error: {\"errors\":[{\"message\":\"Rate limit exceeded\",\"code\":88}]} \n",
      "sleeping for 15 minutes.\n"
     ]
    },
    {
     "name": "stdout",
     "output_type": "stream",
     "text": [
      "\n",
      "Returning --- 374 friends for KevinMorison\n",
      "Returning --- 1479 friends for KevinNance1\n",
      "Returning --- 212 friends for KevinPRyan\n",
      "Returning --- 43 friends for KevinQuotra1\n",
      "Returning --- 2165 friends for KevinRichert\n",
      "Returning --- 504 friends for KevinSGarrison\n",
      "Returning --- 493 friends for KevinSagui\n",
      "Returning --- 121 friends for KevinSchnieders\n",
      "Returning --- 23 friends for KevinXinZhao\n",
      "Returning --- 47 friends for KevinsPlaceKPs\n",
      "Returning --- 451 friends for Kevn_ORourke\n",
      "Returning --- 58 friends for Kewmaur\n",
      "Returning --- 529 friends for KeyTechGroup\n",
      "Returning --- 10 friends for KeymanTurkish\n",
      "Returning --- 30 friends for KeysAtKickoff"
     ]
    },
    {
     "name": "stderr",
     "output_type": "stream",
     "text": [
      "Got error: {\"errors\":[{\"message\":\"Rate limit exceeded\",\"code\":88}]} \n",
      "sleeping for 15 minutes.\n"
     ]
    },
    {
     "name": "stdout",
     "output_type": "stream",
     "text": [
      "\n",
      "Returning --- 204 friends for Kfletcher988\n",
      "Returning --- 206 friends for Kfoley23\n",
      "Returning --- 285 friends for KhakiTRazzaki\n",
      "Returning --- 1899 friends for Khaled_qa\n",
      "Returning --- 1836 friends for Khalidabd20\n",
      "Returning --- 671 friends for Khall1624\n",
      "Returning --- 39 friends for KhanMohhed\n",
      "Returning --- 24 friends for Khannon512\n",
      "Returning --- 448 friends for Khbrannon\n",
      "Returning --- 974 friends for Khereej\n",
      "Returning --- 172 friends for KhiayahD\n",
      "Returning --- 40 friends for Kholkina83\n",
      "Returning --- 40 friends for KhoonContact"
     ]
    },
    {
     "name": "stderr",
     "output_type": "stream",
     "text": [
      "Got error: {\"errors\":[{\"message\":\"Rate limit exceeded\",\"code\":88}]} \n",
      "sleeping for 15 minutes.\n"
     ]
    },
    {
     "name": "stdout",
     "output_type": "stream",
     "text": [
      "\n",
      "Returning --- 761 friends for Ki_Fukin_Hoes\n",
      "Returning --- 1182 friends for KiaNicole30\n",
      "Returning --- 466 friends for Kia_Carter_me\n",
      "Returning --- 1956 friends for KiahhhLynnnn\n",
      "Returning --- 1145 friends for Kiara_rose98\n",
      "Returning --- 542 friends for KickStartSteph\n",
      "Returning --- 1237 friends for Kick_It_Social\n",
      "Returning --- 157 friends for KickerAshtyn\n",
      "Returning --- 542 friends for Kickoffnow_\n",
      "Returning --- 143 friends for KidHudi416\n",
      "Returning --- 532 friends for KidPocketGuide\n",
      "Returning --- 370 friends for KidRaee\n",
      "Returning --- 1045 friends for Kidsmartcity"
     ]
    },
    {
     "name": "stderr",
     "output_type": "stream",
     "text": [
      "Got error: {\"errors\":[{\"message\":\"Rate limit exceeded\",\"code\":88}]} \n",
      "sleeping for 15 minutes.\n"
     ]
    },
    {
     "name": "stdout",
     "output_type": "stream",
     "text": [
      "\n",
      "Returning --- 257 friends for KiearaRenee\n",
      "Returning --- 193 friends for Kiersten_Hansen\n",
      "Returning --- 129 friends for KierstinMW\n",
      "Returning --- 498 friends for Kiki4ro\n",
      "Returning --- 220 friends for Killer_Con1\n",
      "Returning --- 82 friends for KiltMom\n",
      "Returning --- 1914 friends for KimDeBiase4\n",
      "Returning --- 927 friends for KimElsham\n",
      "Returning --- 79 friends for KimHendrix\n",
      "Returning --- 334 friends for KimJongondabloc\n",
      "Returning --- 129 friends for KimMarren\n",
      "Returning --- 146 friends for KimMuel27121071\n",
      "Returning --- 440 friends for KimSweetEditor\n",
      "Returning --- 135 friends for KimThompson84"
     ]
    },
    {
     "name": "stderr",
     "output_type": "stream",
     "text": [
      "Got error: {\"errors\":[{\"message\":\"Rate limit exceeded\",\"code\":88}]} \n",
      "sleeping for 15 minutes.\n"
     ]
    },
    {
     "name": "stdout",
     "output_type": "stream",
     "text": [
      "\n",
      "Returning --- 848 friends for Kim_Adams1\n",
      "Returning --- 924 friends for Kim_Barker\n",
      "Returning --- 364 friends for KimberleeSia\n",
      "Returning --- 138 friends for KimberlyEyers\n",
      "Returning --- 10 friends for KimberlyLPeter1\n",
      "Returning --- 1550 friends for KimberlyLStern\n",
      "Returning --- 1336 friends for KimberlyRailey\n",
      "Returning --- 340 friends for KimberlyWLV\n",
      "Returning --- 10 friends for KimberlykayKay\n",
      "Returning --- 278 friends for Kimm13Collins\n",
      "Returning --- 141 friends for KimmerK123\n",
      "Returning --- 408 friends for KimmyDiggines\n",
      "Returning --- 2049 friends for Kindercharity"
     ]
    },
    {
     "name": "stderr",
     "output_type": "stream",
     "text": [
      "Got error: {\"errors\":[{\"message\":\"Rate limit exceeded\",\"code\":88}]} \n",
      "sleeping for 15 minutes.\n"
     ]
    },
    {
     "name": "stdout",
     "output_type": "stream",
     "text": [
      "\n",
      "Returning --- 263 friends for KindleorKendall\n",
      "Returning --- 1041 friends for KindnessTKC\n",
      "Returning --- 910 friends for KinetikEnt\n",
      "Collected 5000 friends for KingDavidMoving\n",
      "Collected 15000 friends for KingDavidMoving\n",
      "Collected 30000 friends for KingDavidMoving\n",
      "Returning --- 46250 friends for KingDavidMoving\n",
      "Returning --- 82 friends for KingMickey1Q\n",
      "Returning --- 26 friends for KingOfSaturday\n",
      "Returning --- 971 friends for KingdomVision1\n",
      "Returning --- 1765 friends for KingofFormulas\n",
      "Returning --- 557 friends for KingsAcademyJOR\n",
      "Returning --- 1672 friends for KingsGlobalInst"
     ]
    },
    {
     "name": "stderr",
     "output_type": "stream",
     "text": [
      "Got error: {\"errors\":[{\"message\":\"Rate limit exceeded\",\"code\":88}]} \n",
      "sleeping for 15 minutes.\n"
     ]
    },
    {
     "name": "stdout",
     "output_type": "stream",
     "text": [
      "\n",
      "Returning --- 218 friends for KingsQey\n",
      "Returning --- 362 friends for Kinkaid_Deans\n",
      "Returning --- 164 friends for Kinney307\n",
      "Returning --- 48 friends for KinoEyesMaster\n",
      "Returning --- 41 friends for Kintop_Chiro\n",
      "Returning --- 694 friends for KippermanCast\n",
      "Returning --- 349 friends for Kiran2Go\n",
      "Returning --- 1367 friends for Kiran_Gazette\n",
      "Returning --- 65 friends for Kirch82\n",
      "Returning --- 124 friends for KirkSells\n",
      "Returning --- 303 friends for KirkegaardAssoc\n",
      "Returning --- 176 friends for KirstenCrenshaw\n",
      "Returning --- 1223 friends for KirstinFawcett"
     ]
    },
    {
     "name": "stderr",
     "output_type": "stream",
     "text": [
      "Got error: {\"errors\":[{\"message\":\"Rate limit exceeded\",\"code\":88}]} \n",
      "sleeping for 15 minutes.\n"
     ]
    },
    {
     "name": "stdout",
     "output_type": "stream",
     "text": [
      "\n",
      "Returning --- 3 friends for Kishiqqq\n",
      "Returning --- 1966 friends for KissFrog\n",
      "Returning --- 97 friends for KitaZzzzzz\n",
      "Returning --- 98 friends for KitschPJ\n",
      "Returning --- 46 friends for KittiViki\n",
      "Returning --- 1553 friends for KiyamiTravels\n",
      "Returning --- 61 friends for KizmetAdventure\n",
      "Returning --- 13 friends for KlatterChatter\n",
      "Returning --- 12 friends for KlemmDirk\n",
      "Returning --- 36 friends for Klfuchs_99\n",
      "Returning --- 346 friends for KlinerSadie\n",
      "Returning --- 254 friends for KmartincinM\n",
      "Returning --- 1996 friends for Kmiec123"
     ]
    },
    {
     "name": "stderr",
     "output_type": "stream",
     "text": [
      "Got error: {\"errors\":[{\"message\":\"Rate limit exceeded\",\"code\":88}]} \n",
      "sleeping for 15 minutes.\n"
     ]
    },
    {
     "name": "stdout",
     "output_type": "stream",
     "text": [
      "\n",
      "Returning --- 824 friends for Knewton_Nina\n",
      "Returning --- 277 friends for Knickroof\n",
      "Returning --- 1180 friends for KnightsbridgeWS\n",
      "Returning --- 18 friends for KnighttoCats\n",
      "Returning --- 1980 friends for KnoWhtsFngCrzy\n",
      "Returning --- 231 friends for Knol555\n",
      "Returning --- 406 friends for KnottNicole\n",
      "Returning --- 1832 friends for KnowledgeArc\n",
      "Returning --- 1278 friends for KnowsyMoms\n",
      "Returning --- 1014 friends for KodosKang2012\n",
      "Returning --- 243 friends for Kody_K\n",
      "Returning --- 1770 friends for KohlerJobs\n",
      "Returning --- 296 friends for KohlsCareers"
     ]
    },
    {
     "name": "stderr",
     "output_type": "stream",
     "text": [
      "Got error: {\"errors\":[{\"message\":\"Rate limit exceeded\",\"code\":88}]} \n",
      "sleeping for 15 minutes.\n"
     ]
    },
    {
     "name": "stdout",
     "output_type": "stream",
     "text": [
      "\n",
      "Returning --- 1343 friends for KoiEvanston\n",
      "Returning --- 40 friends for KolarFiltration\n",
      "Returning --- 184 friends for KomalNadeem\n",
      "Returning --- 671 friends for KomeBackKool\n",
      "Returning --- 25 friends for Koncessionkween\n",
      "Returning --- 19 friends for KonishiOrtho\n",
      "Returning --- 1065 friends for Konnect_meeting\n",
      "Returning --- 251 friends for Konopka8324\n",
      "Returning --- 1996 friends for KonradBrown\n",
      "Returning --- 668 friends for KonradWasowski\n",
      "Returning --- 15 friends for Koolcat2009\n",
      "Returning --- 730 friends for KordingLab\n",
      "Returning --- 39 friends for KoriLind\n",
      "Returning --- 318 friends for Kosmonaut_Chi\n",
      "Returning --- 20 friends for Kota_Ikeuchi"
     ]
    },
    {
     "name": "stderr",
     "output_type": "stream",
     "text": [
      "Got error: {\"errors\":[{\"message\":\"Rate limit exceeded\",\"code\":88}]} \n",
      "sleeping for 15 minutes.\n"
     ]
    },
    {
     "name": "stdout",
     "output_type": "stream",
     "text": [
      "\n",
      "Returning --- 141 friends for KourtneyScott19\n",
      "Collected 5000 friends for KphumphreyMe\n",
      "Collected 15000 friends for KphumphreyMe\n",
      "Collected 30000 friends for KphumphreyMe\n",
      "Found more than 50,000 friends. Returning error code = -3\n",
      "Returning --- 1657 friends for KrNaveenJha\n",
      "Collected 5000 friends for KramerLawFirm\n",
      "Collected 15000 friends for KramerLawFirm\n",
      "Collected 30000 friends for KramerLawFirm\n",
      "Found more than 50,000 friends. Returning error code = -3\n",
      "Returning --- 23 friends for KrausDarden\n",
      "Returning --- 136 friends for KravAcademy"
     ]
    },
    {
     "name": "stderr",
     "output_type": "stream",
     "text": [
      "Got error: {\"errors\":[{\"message\":\"Rate limit exceeded\",\"code\":88}]} \n",
      "sleeping for 15 minutes.\n"
     ]
    },
    {
     "name": "stdout",
     "output_type": "stream",
     "text": [
      "\n",
      "Returning --- 62 friends for KraveKoncession\n",
      "Returning --- 788 friends for KraziiIsMe\n",
      "Returning --- 540 friends for KreieMeARiver\n",
      "Returning --- 40 friends for Kremipoo\n",
      "Returning --- 24 friends for KresgeInvests\n",
      "Returning --- 888 friends for Krinks218\n",
      "Returning --- 9 friends for KrisChatrathi\n",
      "Returning --- 68 friends for KrisKelsay\n",
      "Returning --- 347 friends for KrisKirilov\n",
      "Returning --- 37 friends for KrisMilne916\n",
      "Returning --- 87 friends for Kris_Caldwell\n",
      "Returning --- 213 friends for Krissi_Osborn\n",
      "Returning --- 258 friends for KristenKellar"
     ]
    },
    {
     "name": "stderr",
     "output_type": "stream",
     "text": [
      "Got error: {\"errors\":[{\"message\":\"Rate limit exceeded\",\"code\":88}]} \n",
      "sleeping for 15 minutes.\n"
     ]
    },
    {
     "name": "stdout",
     "output_type": "stream",
     "text": [
      "\n",
      "Returning --- 1813 friends for KristenLease\n",
      "Returning --- 351 friends for KristenScholer\n",
      "Returning --- 316 friends for KristenZelenka\n",
      "Returning --- 598 friends for KristiAmiri\n",
      "Returning --- 82 friends for KristiBacke\n",
      "Returning --- 133 friends for KristianMoore\n",
      "Returning --- 417 friends for KristinAjamia\n",
      "Returning --- 475 friends for KristinColburn\n",
      "Returning --- 185 friends for KristinDelucia\n",
      "Returning --- 122 friends for KristinHagen\n",
      "Returning --- 109 friends for KristinMMorales\n",
      "Returning --- 1461 friends for KristinMcD33\n",
      "Returning --- 205 friends for KristinRappe"
     ]
    },
    {
     "name": "stderr",
     "output_type": "stream",
     "text": [
      "Got error: {\"errors\":[{\"message\":\"Rate limit exceeded\",\"code\":88}]} \n",
      "sleeping for 15 minutes.\n"
     ]
    },
    {
     "name": "stdout",
     "output_type": "stream",
     "text": [
      "\n",
      "Returning --- 409 friends for Kristine_withaK\n",
      "Returning --- 649 friends for KristynBWilson\n",
      "Returning --- 63 friends for KritzmanJoseph\n",
      "Returning --- 1342 friends for KrowdxChicago\n",
      "Returning --- 156 friends for KrzysChwala\n",
      "Returning --- 376 friends for Ksjusha314\n",
      "Returning --- 1716 friends for KsuTimoshka\n",
      "Returning --- 13 friends for KtRose_\n",
      "Returning --- 1958 friends for KubKQ2187\n",
      "Returning --- 855 friends for KumarBhaskarJha\n",
      "Returning --- 281 friends for KumarSh91581374"
     ]
    },
    {
     "name": "stderr",
     "output_type": "stream",
     "text": [
      "Got error: {\"errors\":[{\"message\":\"Rate limit exceeded\",\"code\":88}]} \n",
      "sleeping for 15 minutes.\n"
     ]
    },
    {
     "name": "stdout",
     "output_type": "stream",
     "text": [
      "\n",
      "Returning --- 40 friends for KunalPaul_ND\n",
      "Returning --- 9 friends for KunsangNamdol\n",
      "Returning --- 2016 friends for KurmanPR\n",
      "Returning --- 943 friends for KurtDavisJr\n",
      "Returning --- 179 friends for Kutumzumu33\n",
      "Returning --- 41 friends for KuyaNeekoh\n",
      "Returning --- 429 friends for Kwakers84\n",
      "Returning --- 48 friends for KwanSegal\n",
      "Returning --- 216 friends for Kwang68\n",
      "Returning --- 24 friends for Kwanhoekim08\n",
      "Returning --- 10 friends for Kwieser85\n",
      "Returning --- 912 friends for KwikBoost\n",
      "Returning --- 24 friends for KwongTran\n",
      "Returning --- 76 friends for KyivMohylaEdu"
     ]
    },
    {
     "name": "stderr",
     "output_type": "stream",
     "text": [
      "Got error: {\"errors\":[{\"message\":\"Rate limit exceeded\",\"code\":88}]} \n",
      "sleeping for 15 minutes.\n"
     ]
    },
    {
     "name": "stdout",
     "output_type": "stream",
     "text": [
      "\n",
      "Returning --- 286 friends for KyleBurnsssss\n",
      "Returning --- 25 friends for KyleCarrabine\n",
      "Returning --- 100 friends for KyleJaeger7\n",
      "Returning --- 410 friends for KyleJosh\n",
      "Returning --- 192 friends for KyleKamin\n",
      "Returning --- 118 friends for KyleMeyers9\n",
      "Returning --- 270 friends for KyleSMoore\n",
      "Returning --- 194 friends for KyleSackett\n",
      "Returning --- 483 friends for KyleStruck\n",
      "Returning --- 70 friends for KyleUSATODAYEDU\n",
      "Returning --- 295 friends for KyleYarber2012\n",
      "Returning --- 143 friends for Kyle_Barnes_"
     ]
    },
    {
     "name": "stderr",
     "output_type": "stream",
     "text": [
      "Got error: {\"errors\":[{\"message\":\"Rate limit exceeded\",\"code\":88}]} \n",
      "sleeping for 15 minutes.\n"
     ]
    },
    {
     "name": "stdout",
     "output_type": "stream",
     "text": [
      "\n",
      "Returning --- 1135 friends for Kyle_Galin\n",
      "Returning --- 11 friends for KyleeLynneWatso\n",
      "Returning --- 294 friends for KylieMGilbert\n",
      "Returning --- 585 friends for KymAbramsDesign\n",
      "Returning --- 40 friends for Kymme76s\n",
      "Returning --- 642 friends for L1PowerPostEVSE\n",
      "Returning --- 14 friends for L2679\n",
      "Returning --- 348 friends for L2DEUCE\n",
      "Returning --- 651 friends for LABEXofMA\n",
      "Returning --- 487 friends for LABIALUMNI\n",
      "Returning --- 51 friends for LAFT20\n",
      "Returning --- 575 friends for LAGABY1973"
     ]
    },
    {
     "name": "stderr",
     "output_type": "stream",
     "text": [
      "Got error: {\"errors\":[{\"message\":\"Rate limit exceeded\",\"code\":88}]} \n",
      "sleeping for 15 minutes.\n"
     ]
    },
    {
     "name": "stdout",
     "output_type": "stream",
     "text": [
      "\n",
      "Returning --- 57 friends for LAMAnthro\n",
      "Returning --- 240 friends for LAS0107\n",
      "Returning --- 1269 friends for LASIKcenterNJ\n",
      "Returning --- 1141 friends for LASchools\n",
      "Returning --- 2159 friends for LATENT_DESIGN\n",
      "Returning --- 2017 friends for LAVegas69\n",
      "Returning --- 589 friends for LAofIL\n",
      "Returning --- 940 friends for LArtEstLaVie\n",
      "Collected 5000 friends for LBPRO"
     ]
    },
    {
     "name": "stderr",
     "output_type": "stream",
     "text": [
      "Got error: {\"errors\":[{\"message\":\"Rate limit exceeded\",\"code\":88}]} \n",
      "sleeping for 15 minutes.\n"
     ]
    },
    {
     "name": "stdout",
     "output_type": "stream",
     "text": [
      "\n",
      "Returning --- 14137 friends for LBPRO\n",
      "Returning --- 731 friends for LBRosa\n",
      "Returning --- 22 friends for LBanaszak\n",
      "Returning --- 805 friends for LBiggie16\n",
      "Returning --- 1788 friends for LBintheBK\n",
      "Returning --- 167 friends for LCHS_Guidance\n",
      "Returning --- 536 friends for LCPowerSports\n",
      "Returning --- 178 friends for LCmccracken\n",
      "Returning --- 11 friends for LConklingL\n",
      "Returning --- 50 friends for LDLD18\n",
      "Returning --- 25 friends for LDwinell\n",
      "Returning --- 863 friends for LEAFSConcierge\n",
      "Returning --- 140 friends for LEAPempowers"
     ]
    },
    {
     "name": "stderr",
     "output_type": "stream",
     "text": [
      "Got error: {\"errors\":[{\"message\":\"Rate limit exceeded\",\"code\":88}]} \n",
      "sleeping for 15 minutes.\n"
     ]
    },
    {
     "name": "stdout",
     "output_type": "stream",
     "text": [
      "\n",
      "Returning --- 64 friends for LEDgoes_Display\n",
      "Returning --- 246 friends for LEETRAVELAGENCY\n",
      "Returning --- 816 friends for LEILAGRACEORG\n",
      "Returning --- 2671 friends for LEK_Consulting\n",
      "Returning --- 1701 friends for LEKadvisor\n",
      "Returning --- 94 friends for LENDevanston\n",
      "Returning --- 753 friends for LEchevarria\n",
      "Returning --- 616 friends for LFCareers\n",
      "Returning --- 52 friends for LFHSstudent\n",
      "Returning --- 1602 friends for LFedtech\n",
      "Returning --- 424 friends for LFrancey\n",
      "Returning --- 443 friends for LGBTAlumni\n",
      "Returning --- 40 friends for LGLaundryprjt\n",
      "Returning --- 434 friends for LGell942"
     ]
    },
    {
     "name": "stderr",
     "output_type": "stream",
     "text": [
      "Got error: {\"errors\":[{\"message\":\"Rate limit exceeded\",\"code\":88}]} \n",
      "sleeping for 15 minutes.\n"
     ]
    },
    {
     "name": "stdout",
     "output_type": "stream",
     "text": [
      "\n",
      "Returning --- 130 friends for LGiraffes\n",
      "Returning --- 267 friends for LGoldstein19\n",
      "Returning --- 34 friends for LHale61\n",
      "Returning --- 315 friends for LHegwer\n",
      "Returning --- 2827 friends for LIFTCommunities\n",
      "Collected 5000 friends for LILBTHEBASEDGOD\n",
      "Collected 15000 friends for LILBTHEBASEDGOD\n",
      "Collected 30000 friends for LILBTHEBASEDGOD\n",
      "Found more than 50,000 friends. Returning error code = -3\n",
      "Returning --- 1009 friends for LINCSedu\n",
      "Returning --- 1382 friends for LIUBrooklyn\n",
      "Returning --- 398 friends for LIZNRYAN5\n",
      "Returning --- 119 friends for LI_TennisMom"
     ]
    },
    {
     "name": "stderr",
     "output_type": "stream",
     "text": [
      "Got error: {\"errors\":[{\"message\":\"Rate limit exceeded\",\"code\":88}]} \n",
      "sleeping for 15 minutes.\n"
     ]
    },
    {
     "name": "stdout",
     "output_type": "stream",
     "text": [
      "\n",
      "Returning --- 618 friends for LI_heavyweight\n",
      "Returning --- 347 friends for LJLipton\n",
      "Returning --- 393 friends for LJT32\n",
      "Returning --- 542 friends for LJacksack\n",
      "Returning --- 46 friends for LKJ2000\n",
      "Returning --- 767 friends for LKSDE001\n",
      "Returning --- 443 friends for LKishkunas\n",
      "Returning --- 60 friends for LLNShelter\n",
      "Returning --- 921 friends for LLinney\n",
      "Returning --- 87 friends for LM5\n",
      "Returning --- 702 friends for LMICampus\n",
      "Returning --- 1822 friends for LMarieAsad1913"
     ]
    },
    {
     "name": "stderr",
     "output_type": "stream",
     "text": [
      "Got error: {\"errors\":[{\"message\":\"Rate limit exceeded\",\"code\":88}]} \n",
      "sleeping for 15 minutes.\n"
     ]
    },
    {
     "name": "stdout",
     "output_type": "stream",
     "text": [
      "\n",
      "Returning --- 1972 friends for LMcKelvey\n",
      "Returning --- 484 friends for LMisevicz\n",
      "Returning --- 1260 friends for LOADDELIVERED\n",
      "Returning --- 5 friends for LOADING272\n",
      "Returning --- 473 friends for LP2348\n",
      "Returning --- 534 friends for LRNDeric\n",
      "Returning --- 153 friends for LRPG4\n",
      "Returning --- 648 friends for LRPlaymakers\n",
      "Returning --- 1844 friends for LRSrecycles\n",
      "Returning --- 1886 friends for LRadcliffeMCFC\n",
      "Returning --- 477 friends for LRiveraTBS\n",
      "Returning --- 195 friends for LSBrazil\n",
      "Returning --- 107 friends for LSBroadcast"
     ]
    },
    {
     "name": "stderr",
     "output_type": "stream",
     "text": [
      "Got error: {\"errors\":[{\"message\":\"Rate limit exceeded\",\"code\":88}]} \n",
      "sleeping for 15 minutes.\n"
     ]
    },
    {
     "name": "stdout",
     "output_type": "stream",
     "text": [
      "\n",
      "Returning --- 2170 friends for LSCtweets\n",
      "Returning --- 111 friends for LSE_energy\n",
      "Returning --- 311 friends for LSHBooks\n",
      "Returning --- 80 friends for LSHguidance\n",
      "Returning --- 471 friends for LSMCE2013\n",
      "Returning --- 49 friends for LSNorthrop\n",
      "Returning --- 962 friends for LSOSFilm\n",
      "Returning --- 90 friends for LSUnitarianSoc\n",
      "Returning --- 128 friends for LSerpico\n",
      "Returning --- 1258 friends for LStreetC\n",
      "Returning --- 331 friends for LTCLamar\n",
      "Returning --- 315 friends for LTCollegeCareer\n",
      "Returning --- 2005 friends for LTJewelry\n",
      "Returning --- 215 friends for LToddLibrarian\n",
      "Returning --- 457 friends for LUCCareer"
     ]
    },
    {
     "name": "stderr",
     "output_type": "stream",
     "text": [
      "Got error: {\"errors\":[{\"message\":\"Rate limit exceeded\",\"code\":88}]} \n",
      "sleeping for 15 minutes.\n"
     ]
    },
    {
     "name": "stdout",
     "output_type": "stream",
     "text": [
      "\n",
      "Returning --- 325 friends for LUCareerCenter\n",
      "Returning --- 72 friends for LULNorthwestern\n",
      "Returning --- 917 friends for LUMAChicago\n",
      "Returning --- 943 friends for LUVCHITOWN\n",
      "Returning --- 1460 friends for LUX_52\n",
      "Returning --- 126 friends for LVALIENTEco\n",
      "Returning --- 70 friends for LVCollegeBound\n",
      "Returning --- 182 friends for LWEASTPPS\n",
      "Returning --- 60 friends for LWNPPS\n",
      "Returning --- 289 friends for LWVIL\n",
      "Returning --- 24 friends for LZoloth\n",
      "Returning --- 560 friends for L_C_McKinney"
     ]
    },
    {
     "name": "stderr",
     "output_type": "stream",
     "text": [
      "Got error: {\"errors\":[{\"message\":\"Rate limit exceeded\",\"code\":88}]} \n",
      "sleeping for 15 minutes.\n"
     ]
    },
    {
     "name": "stdout",
     "output_type": "stream",
     "text": [
      "\n",
      "Returning --- 39 friends for L_Knepshield\n",
      "Returning --- 1743 friends for L_Strickland\n",
      "Returning --- 426 friends for La0mVyE\n",
      "Returning --- 2345 friends for La3tv\n",
      "Returning --- 848 friends for LaCharles88\n",
      "Returning --- 77 friends for LaCosteBruce\n",
      "Returning --- 361 friends for LaGall\n",
      "Returning --- 56 friends for LaMadreDeGlaser\n",
      "Returning --- 1751 friends for LaMetTVNews\n",
      "Returning --- 488 friends for LaNostrAngelica\n",
      "Returning --- 109 friends for LaSalleCareers\n",
      "Returning --- 903 friends for LaSalleNetwork\n",
      "Returning --- 339 friends for LaSandra_29\n",
      "Returning --- 18 friends for LaVern_T_\n",
      "Returning --- 501 friends for LabArchives"
     ]
    },
    {
     "name": "stderr",
     "output_type": "stream",
     "text": [
      "Got error: {\"errors\":[{\"message\":\"Rate limit exceeded\",\"code\":88}]} \n",
      "sleeping for 15 minutes.\n"
     ]
    },
    {
     "name": "stdout",
     "output_type": "stream",
     "text": [
      "\n",
      "Returning --- 61 friends for LabCupIRL\n",
      "Returning --- 185 friends for LabSuccess\n",
      "Returning --- 815 friends for LabcyteInc\n",
      "Returning --- 1122 friends for Laboratory_talk\n",
      "Returning --- 2000 friends for LacalaDesign\n",
      "Returning --- 178 friends for LacySchley\n",
      "Returning --- 127 friends for LadieLincoln\n",
      "Returning --- 545 friends for LadyBell10\n",
      "Returning --- 1710 friends for LadyBlanche\n",
      "Returning --- 726 friends for LadyHillen\n",
      "Returning --- 117 friends for LadyLaVena\n",
      "Collected 5000 friends for LadyLakeMusic\n",
      "Collected 15000 friends for LadyLakeMusic"
     ]
    },
    {
     "name": "stderr",
     "output_type": "stream",
     "text": [
      "Got error: {\"errors\":[{\"message\":\"Rate limit exceeded\",\"code\":88}]} \n",
      "sleeping for 15 minutes.\n"
     ]
    },
    {
     "name": "stdout",
     "output_type": "stream",
     "text": [
      "\n",
      "Collected 30000 friends for LadyLakeMusic\n",
      "Found more than 50,000 friends. Returning error code = -3\n",
      "Returning --- 368 friends for LadyLiGrace\n",
      "Returning --- 158 friends for LadyTsunade\n",
      "Returning --- 118 friends for Lady_Iyss29\n",
      "Returning --- 332 friends for LafCareerSvcs\n",
      "Returning --- 56 friends for LaikaNur\n",
      "Returning --- 159 friends for LaimaDay\n",
      "Returning --- 1335 friends for LaineToo\n",
      "Returning --- 349 friends for LaineyWoollard\n",
      "Returning --- 59 friends for LairdKohanski\n",
      "Returning --- 167 friends for LaithMassarweh\n",
      "Returning --- 1288 friends for Laiwrqe\n",
      "Returning --- 138 friends for LakeCountyHaven\n",
      "Returning --- 399 friends for LakeForestArt"
     ]
    },
    {
     "name": "stderr",
     "output_type": "stream",
     "text": [
      "Got error: {\"errors\":[{\"message\":\"Rate limit exceeded\",\"code\":88}]} \n",
      "sleeping for 15 minutes.\n"
     ]
    },
    {
     "name": "stdout",
     "output_type": "stream",
     "text": [
      "\n",
      "Returning --- 914 friends for LakeThePosts\n",
      "Returning --- 865 friends for Lake_Forester\n",
      "Returning --- 188 friends for Lakefrontdental\n",
      "Returning --- 127 friends for Laker622\n",
      "Returning --- 1105 friends for LakeshoreExpres\n",
      "Returning --- 1143 friends for LakesidePride\n",
      "Returning --- 1937 friends for LakeviewPantry\n",
      "Collected 5000 friends for LakshmiCapital\n",
      "Returning --- 10151 friends for LakshmiCapital\n",
      "Returning --- 43 friends for LalTabak\n",
      "Returning --- 315 friends for LalaHu9\n",
      "Returning --- 1176 friends for LalaRealEstate\n",
      "Returning --- 112 friends for Lalatong1\n",
      "Returning --- 187 friends for LambOntheRocks\n",
      "Returning --- 413 friends for LambSoc"
     ]
    },
    {
     "name": "stderr",
     "output_type": "stream",
     "text": [
      "Got error: {\"errors\":[{\"message\":\"Rate limit exceeded\",\"code\":88}]} \n",
      "sleeping for 15 minutes.\n"
     ]
    },
    {
     "name": "stdout",
     "output_type": "stream",
     "text": [
      "\n",
      "Returning --- 573 friends for LamiaPF\n",
      "Returning --- 75 friends for LamlingPao\n",
      "Returning --- 189 friends for LanNguyen_NU\n",
      "Returning --- 843 friends for LanaDombure\n",
      "Returning --- 204 friends for Lana_Del_Bro\n",
      "Returning --- 105 friends for LancePortland\n",
      "Returning --- 1790 friends for LandOfFIowers\n",
      "Returning --- 405 friends for LandenRachel\n",
      "Returning --- 361 friends for LaneJessD\n",
      "Returning --- 713 friends for LanguageStars\n",
      "Returning --- 77 friends for LanphCollegRoom\n",
      "Returning --- 395 friends for LanzaTech"
     ]
    },
    {
     "name": "stderr",
     "output_type": "stream",
     "text": [
      "Got error: {\"errors\":[{\"message\":\"Rate limit exceeded\",\"code\":88}]} \n",
      "sleeping for 15 minutes.\n"
     ]
    },
    {
     "name": "stdout",
     "output_type": "stream",
     "text": [
      "\n",
      "Returning --- 59 friends for Lara33Miguel\n",
      "Returning --- 74 friends for LaraLiss5\n",
      "Returning --- 146 friends for LaraSaldanha1\n",
      "Returning --- 191 friends for LariDemmickelly\n",
      "Returning --- 337 friends for LarisaVasileska\n",
      "Returning --- 263 friends for LarissaSiegel\n",
      "Returning --- 900 friends for Larkinz\n",
      "Collected 5000 friends for LarryAccomplish\n",
      "Returning --- 13063 friends for LarryAccomplish\n",
      "Returning --- 15 friends for LarryHandwerk\n",
      "Returning --- 169 friends for LarryJacksonIII\n",
      "Returning --- 261 friends for LarryLangowski\n",
      "Returning --- 9 friends for LarryLukas1\n",
      "Returning --- 1990 friends for LarryRann\n",
      "Returning --- 195 friends for LarrySeel"
     ]
    },
    {
     "name": "stderr",
     "output_type": "stream",
     "text": [
      "Got error: {\"errors\":[{\"message\":\"Rate limit exceeded\",\"code\":88}]} \n",
      "sleeping for 15 minutes.\n"
     ]
    },
    {
     "name": "stdout",
     "output_type": "stream",
     "text": [
      "\n",
      "Returning --- 102 friends for LarryWoods\n",
      "Returning --- 956 friends for Larrybird_usa\n",
      "Returning --- 263 friends for LarsenMarquardt\n",
      "Returning --- 20 friends for LasaterAlyssa\n",
      "Returning --- 934 friends for LaserEnergy4U\n",
      "Returning --- 346 friends for LaserficheJobs\n",
      "Returning --- 109 friends for LataVH\n",
      "Returning --- 825 friends for LatishaBrengman\n",
      "Returning --- 9 friends for LaughChicago\n",
      "Returning --- 23 friends for LaunchCollege\n",
      "Returning --- 1667 friends for LaunchIBA\n",
      "Returning --- 1756 friends for LaunchSquad\n",
      "Returning --- 182 friends for Launch_Parade\n",
      "Returning --- 2 friends for LaurBrookeMyers"
     ]
    },
    {
     "name": "stderr",
     "output_type": "stream",
     "text": [
      "Got error: {\"errors\":[{\"message\":\"Rate limit exceeded\",\"code\":88}]} \n",
      "sleeping for 15 minutes.\n"
     ]
    },
    {
     "name": "stdout",
     "output_type": "stream",
     "text": [
      "\n",
      "Returning --- 1 friends for Laura51005617\n",
      "Returning --- 67 friends for LauraAdamsEdu\n",
      "Returning --- 104 friends for LauraErickson\n",
      "Returning --- 851 friends for LauraFSG\n",
      "Returning --- 759 friends for LauraGinsberg\n",
      "Returning --- 727 friends for LauraGoldbergHC\n",
      "Returning --- 40 friends for LauraJo34\n",
      "Returning --- 398 friends for LauraLC2\n",
      "Returning --- 894 friends for LauraLMagnuson\n",
      "Returning --- 16 friends for LauraLaura071\n",
      "Returning --- 169 friends for LauraLaureate\n",
      "Returning --- 814 friends for LauraLeinweber\n",
      "Returning --- 226 friends for LauraLynnSmiles"
     ]
    },
    {
     "name": "stderr",
     "output_type": "stream",
     "text": [
      "Got error: {\"errors\":[{\"message\":\"Rate limit exceeded\",\"code\":88}]} \n",
      "sleeping for 15 minutes.\n"
     ]
    },
    {
     "name": "stdout",
     "output_type": "stream",
     "text": [
      "\n",
      "Returning --- 687 friends for LauraNBC6\n",
      "Returning --- 754 friends for LauraPeles\n",
      "Returning --- 122 friends for LauraPryzby\n",
      "Returning --- 147 friends for LauraRiegel\n",
      "Returning --- 62 friends for LauraRylah\n",
      "Returning --- 252 friends for LauraSwanson27\n",
      "Returning --- 85 friends for LauraToigo2\n",
      "Returning --- 355 friends for LauraWilsonIBA\n",
      "Returning --- 559 friends for LauraWinters12\n",
      "Returning --- 2128 friends for Laura_Bodiker_\n",
      "Returning --- 647 friends for Laura_Eckstein\n",
      "Returning --- 2177 friends for Laura_GlobalEd\n",
      "Returning --- 121 friends for Laura_i_torres\n",
      "Returning --- 10 friends for LaurakACL"
     ]
    },
    {
     "name": "stderr",
     "output_type": "stream",
     "text": [
      "Got error: {\"errors\":[{\"message\":\"Rate limit exceeded\",\"code\":88}]} \n",
      "sleeping for 15 minutes.\n"
     ]
    },
    {
     "name": "stdout",
     "output_type": "stream",
     "text": [
      "\n",
      "Returning --- 17 friends for LaureFischer4\n",
      "Returning --- 38 friends for Lauren45n\n",
      "Returning --- 198 friends for LaurenAdele7\n",
      "Returning --- 270 friends for LaurenAgosta\n",
      "Returning --- 638 friends for LaurenBCohn\n",
      "Returning --- 1984 friends for LaurenBGraphics\n",
      "Returning --- 911 friends for LaurenCaruba\n",
      "Returning --- 213 friends for LaurenDuquette\n",
      "Returning --- 287 friends for LaurenEmelia\n",
      "Returning --- 434 friends for LaurenGA88\n",
      "Returning --- 1110 friends for LaurenHise\n",
      "Returning --- 253 friends for LaurenInColor"
     ]
    },
    {
     "name": "stderr",
     "output_type": "stream",
     "text": [
      "Got error: {\"errors\":[{\"message\":\"Rate limit exceeded\",\"code\":88}]} \n",
      "sleeping for 15 minutes.\n"
     ]
    },
    {
     "name": "stdout",
     "output_type": "stream",
     "text": [
      "\n",
      "Returning --- 406 friends for LaurenKravec\n",
      "Returning --- 749 friends for LaurenMcCarthya\n",
      "Returning --- 1974 friends for LaurenNise\n",
      "Returning --- 248 friends for LaurenP_IMC\n",
      "Returning --- 202 friends for LaurenPasswater\n",
      "Returning --- 92 friends for LaurenRudichuk\n",
      "Returning --- 101 friends for LaurenVStraus\n",
      "Returning --- 315 friends for LaurenYamaoka\n",
      "Returning --- 4111 friends for LaurenYoung"
     ]
    },
    {
     "name": "stderr",
     "output_type": "stream",
     "text": [
      "Got error: {\"errors\":[{\"message\":\"Rate limit exceeded\",\"code\":88}]} \n",
      "sleeping for 15 minutes.\n"
     ]
    },
    {
     "name": "stdout",
     "output_type": "stream",
     "text": [
      "\n",
      "Returning --- 738 friends for LaurenZelin\n",
      "Returning --- 16 friends for Lauren_Fitzz\n",
      "Returning --- 87 friends for Lauren_Pollack\n",
      "Returning --- 421 friends for LaurenceDang\n",
      "Returning --- 777 friends for LaurenceEsq\n",
      "Returning --- 331 friends for Laurenemeltzer\n",
      "Returning --- 1340 friends for LaurenintheLoop\n",
      "Returning --- 1312 friends for Lauriane_Playe\n",
      "Returning --- 877 friends for LaurieStoneham\n",
      "Returning --- 252 friends for LaurieZerwer\n",
      "Returning --- 80 friends for Laurief11\n",
      "Returning --- 677 friends for LauthONeill"
     ]
    },
    {
     "name": "stderr",
     "output_type": "stream",
     "text": [
      "Got error: {\"errors\":[{\"message\":\"Rate limit exceeded\",\"code\":88}]} \n",
      "sleeping for 15 minutes.\n"
     ]
    },
    {
     "name": "stdout",
     "output_type": "stream",
     "text": [
      "\n",
      "Returning --- 111 friends for LavinIndustries\n",
      "Returning --- 243 friends for LavishLushLife\n",
      "Returning --- 778 friends for LawBurks\n",
      "Returning --- 215 friends for LawReviewers\n",
      "Returning --- 2 friends for Lawalytweet\n",
      "Returning --- 36 friends for LawrenceCummin1\n",
      "Returning --- 1846 friends for LawrenceTechU\n",
      "Returning --- 3 friends for LawrenceTomczyk\n",
      "Returning --- 1407 friends for LayerOneMedia\n",
      "Returning --- 30 friends for LazoJacqui\n",
      "Returning --- 39 friends for Lbg033\n",
      "Returning --- 21 friends for Lbinder"
     ]
    },
    {
     "name": "stderr",
     "output_type": "stream",
     "text": [
      "Got error: {\"errors\":[{\"message\":\"Rate limit exceeded\",\"code\":88}]} \n",
      "sleeping for 15 minutes.\n"
     ]
    },
    {
     "name": "stdout",
     "output_type": "stream",
     "text": [
      "\n",
      "Collected 5000 friends for LeBronJames\n",
      "Collected 15000 friends for LeBronJames\n",
      "Collected 30000 friends for LeBronJames\n",
      "Found more than 50,000 friends. Returning error code = -3\n",
      "Returning --- 1257 friends for LeHart\n",
      "Returning --- 4 friends for LeMoNedXJ\n",
      "Returning --- 166 friends for LePetitSmudge\n",
      "Returning --- 43 friends for LeYizhi\n",
      "Returning --- 71 friends for Le_Pardeaux\n",
      "Returning --- 55 friends for LeaBarrett9\n",
      "Returning --- 622 friends for LeadAloud\n",
      "Returning --- 1599 friends for LeadTuneGuy\n",
      "Returning --- 86 friends for LeaderJon"
     ]
    },
    {
     "name": "stderr",
     "output_type": "stream",
     "text": [
      "Got error: {\"errors\":[{\"message\":\"Rate limit exceeded\",\"code\":88}]} \n",
      "sleeping for 15 minutes.\n"
     ]
    },
    {
     "name": "stdout",
     "output_type": "stream",
     "text": [
      "\n",
      "Returning --- 241 friends for LeahKashar\n",
      "Returning --- 329 friends for LeahMontez\n",
      "Returning --- 999 friends for LeahMuppet\n",
      "Returning --- 79 friends for LeahReneeDavis\n",
      "Returning --- 18 friends for LeahStephens\n",
      "Returning --- 152 friends for Leahborgs\n",
      "Returning --- 140 friends for LeanBuilt\n",
      "Returning --- 732 friends for Leanna_Byrne\n",
      "Returning --- 151 friends for LeanneKCM\n",
      "Returning --- 250 friends for LearnLong"
     ]
    },
    {
     "name": "stderr",
     "output_type": "stream",
     "text": [
      "Got error: {\"errors\":[{\"message\":\"Rate limit exceeded\",\"code\":88}]} \n",
      "sleeping for 15 minutes.\n"
     ]
    },
    {
     "name": "stdout",
     "output_type": "stream",
     "text": [
      "\n",
      "Returning --- 102 friends for LearnNU\n",
      "Returning --- 853 friends for LearnSpec\n",
      "Returning --- 253 friends for LearnTechInfo\n",
      "Returning --- 81 friends for Learnerator\n",
      "Returning --- 461 friends for LearningDecoded\n",
      "Returning --- 1103 friends for LearningHerd\n",
      "Returning --- 31 friends for Ledogar\n",
      "Returning --- 2026 friends for LeeLatham\n",
      "Returning --- 1580 friends for LeeTablewski\n",
      "Returning --- 78 friends for Lee_Battaglia\n",
      "Returning --- 351 friends for Lee_Kimberly\n",
      "Returning --- 43 friends for Lee_NUPT\n",
      "Returning --- 1172 friends for LeedeFinancial"
     ]
    },
    {
     "name": "stderr",
     "output_type": "stream",
     "text": [
      "Got error: {\"errors\":[{\"message\":\"Rate limit exceeded\",\"code\":88}]} \n",
      "sleeping for 15 minutes.\n"
     ]
    },
    {
     "name": "stdout",
     "output_type": "stream",
     "text": [
      "\n",
      "Returning --- 1885 friends for LeftOfBlack\n",
      "Returning --- 667 friends for LeftieLes\n",
      "Returning --- 72 friends for LegacyHayes\n",
      "Returning --- 412 friends for LegallyAlexis\n",
      "Returning --- 95 friends for LegisSH\n",
      "Returning --- 188 friends for LegitCampusNews\n",
      "Returning --- 445 friends for Lehenbauer_HAH\n",
      "Returning --- 253 friends for LehmanSeniors\n",
      "Returning --- 2001 friends for LeighAnneRow\n",
      "Returning --- 24 friends for LeighJansson\n",
      "Returning --- 90 friends for Leigh_GP312\n",
      "Returning --- 969 friends for LeighinLindholm\n",
      "Returning --- 420 friends for LeilaTayeb\n",
      "Returning --- 12 friends for Leilaforney"
     ]
    },
    {
     "name": "stderr",
     "output_type": "stream",
     "text": [
      "Got error: {\"errors\":[{\"message\":\"Rate limit exceeded\",\"code\":88}]} \n",
      "sleeping for 15 minutes.\n"
     ]
    },
    {
     "name": "stdout",
     "output_type": "stream",
     "text": [
      "\n",
      "Returning --- 10 friends for Lemin19\n",
      "Returning --- 40 friends for LemonBlitzer\n",
      "Returning --- 312 friends for LemoneyJones\n",
      "Returning --- 193 friends for LenPinthGarnell\n",
      "Returning --- 886 friends for LenaBlietz\n",
      "Returning --- 149 friends for LenaElmeligy\n",
      "Returning --- 248 friends for Lenaberts\n",
      "Returning --- 1802 friends for LenirKaser\n",
      "Returning --- 1845 friends for LennaScott\n",
      "Returning --- 349 friends for LennertDVM\n",
      "Returning --- 270 friends for Leo16HH\n",
      "Returning --- 699 friends for LeoKontos\n",
      "Returning --- 191 friends for LeoLeoharris9"
     ]
    },
    {
     "name": "stderr",
     "output_type": "stream",
     "text": [
      "Got error: {\"errors\":[{\"message\":\"Rate limit exceeded\",\"code\":88}]} \n",
      "sleeping for 15 minutes.\n"
     ]
    },
    {
     "name": "stdout",
     "output_type": "stream",
     "text": [
      "\n",
      "Returning --- 910 friends for LeoWife18\n",
      "Returning --- 22 friends for Leo_Muuuuu\n",
      "Returning --- 1384 friends for LeonAscencio\n",
      "Returning --- 337 friends for LeonGue112\n",
      "Returning --- 21 friends for LeonH387\n",
      "Returning --- 110 friends for LeonPoblete\n",
      "Returning --- 183 friends for LeonidasChicago\n",
      "Returning --- 54 friends for LeraSimona\n",
      "Returning --- 182 friends for LesCMoser\n",
      "Returning --- 37 friends for LesOster1\n",
      "Returning --- 513 friends for LesTurnerALS\n",
      "Returning --- 84 friends for Lesley__Gibson"
     ]
    },
    {
     "name": "stderr",
     "output_type": "stream",
     "text": [
      "Got error: {\"errors\":[{\"message\":\"Rate limit exceeded\",\"code\":88}]} \n",
      "sleeping for 15 minutes.\n"
     ]
    },
    {
     "name": "stdout",
     "output_type": "stream",
     "text": [
      "\n",
      "Returning --- 228 friends for LeslieAFischer\n",
      "Returning --- 183 friends for LeslieRadial\n",
      "Returning --- 100 friends for LeslieTremblay\n",
      "Returning --- 160 friends for Leslie_Jabara\n",
      "Returning --- 581 friends for Leslie_Olsen\n",
      "Collected 5000 friends for LessTalk_MoreDo\n",
      "Collected 15000 friends for LessTalk_MoreDo\n",
      "Returning --- 29784 friends for LessTalk_MoreDo\n",
      "Returning --- 19 friends for Letepper\n",
      "Returning --- 485 friends for LeticiaPickens\n",
      "Returning --- 294 friends for LetsBeaReal\n",
      "Returning --- 1423 friends for LetsDoVideo\n",
      "Returning --- 284 friends for LetsgoSmileMore\n",
      "Returning --- 44 friends for Lety52717813"
     ]
    },
    {
     "name": "stderr",
     "output_type": "stream",
     "text": [
      "Got error: {\"errors\":[{\"message\":\"Rate limit exceeded\",\"code\":88}]} \n",
      "sleeping for 15 minutes.\n"
     ]
    },
    {
     "name": "stdout",
     "output_type": "stream",
     "text": [
      "\n",
      "Returning --- 164 friends for LeviewhO\n",
      "Returning --- 45 friends for LevinZhu94\n",
      "Returning --- 644 friends for LevitonCareers\n",
      "Returning --- 68 friends for LevyLuxRealtor\n",
      "Returning --- 480 friends for LewisTheMan21\n",
      "Returning --- 323 friends for LewisURugby\n",
      "Returning --- 21 friends for LewisUSocMedia\n",
      "Returning --- 1139 friends for LexHass\n",
      "Returning --- 374 friends for LexiBritain\n",
      "Returning --- 166 friends for LexiSk8r\n",
      "Returning --- 150 friends for LexyPraeger\n",
      "Returning --- 40 friends for LezlyOreo"
     ]
    },
    {
     "name": "stderr",
     "output_type": "stream",
     "text": [
      "Got error: {\"errors\":[{\"message\":\"Rate limit exceeded\",\"code\":88}]} \n",
      "sleeping for 15 minutes.\n"
     ]
    },
    {
     "name": "stdout",
     "output_type": "stream",
     "text": [
      "\n",
      "Returning --- 174 friends for Lhenmiel_16\n",
      "Returning --- 17 friends for Lhgrosss\n",
      "Returning --- 134 friends for LiAmy89\n",
      "Returning --- 23 friends for LiDing184\n",
      "Collected 5000 friends for LiTCollegeTour\n",
      "Returning --- 14971 friends for LiTCollegeTour\n",
      "Returning --- 360 friends for LiamAFaulkner\n",
      "Returning --- 87 friends for Liambkeane\n",
      "Returning --- 482 friends for Liamhogan16Liam\n",
      "Returning --- 155 friends for Liamy1224\n",
      "Returning --- 1449 friends for LianaBaker\n",
      "Returning --- 114 friends for LibMerrill\n",
      "Returning --- 248 friends for LibbyLuK"
     ]
    },
    {
     "name": "stderr",
     "output_type": "stream",
     "text": [
      "Got error: {\"errors\":[{\"message\":\"Rate limit exceeded\",\"code\":88}]} \n",
      "sleeping for 15 minutes.\n"
     ]
    },
    {
     "name": "stdout",
     "output_type": "stream",
     "text": [
      "\n",
      "Returning --- 673 friends for LibbyMathewsMay\n",
      "Returning --- 324 friends for LibbyRecruit\n",
      "Returning --- 1595 friends for LibbyinIndy\n",
      "Returning --- 466 friends for Libertarian97\n",
      "Returning --- 124 friends for Libracteria\n",
      "Returning --- 448 friends for LibrettoBoston\n",
      "Returning --- 1953 friends for LiceoAguadilla\n",
      "Returning --- 22 friends for LichineNikita\n",
      "Returning --- 129 friends for LidaDowney\n",
      "Returning --- 184 friends for Lieve_Perera\n",
      "Returning --- 16 friends for LifeAtTU"
     ]
    },
    {
     "name": "stderr",
     "output_type": "stream",
     "text": [
      "Got error: {\"errors\":[{\"message\":\"Rate limit exceeded\",\"code\":88}]} \n",
      "sleeping for 15 minutes.\n"
     ]
    },
    {
     "name": "stdout",
     "output_type": "stream",
     "text": [
      "\n",
      "Returning --- 2001 friends for LifeGuidesMe\n",
      "Returning --- 660 friends for LifeSizeKibibi\n",
      "Returning --- 882 friends for LifeSourceOrg\n",
      "Returning --- 1047 friends for LifeWorksPsych\n",
      "Returning --- 60 friends for Lifeinbalance3\n",
      "Returning --- 190 friends for Lifeofdacartel\n",
      "Returning --- 2526 friends for Light_of_Virtue\n",
      "Returning --- 461 friends for Liila41\n",
      "Returning --- 1972 friends for LikeABauce1978\n",
      "Returning --- 446 friends for LilFest\n",
      "Returning --- 742 friends for LilMizMusic\n",
      "Returning --- 123 friends for LilSliceofKevin\n",
      "Returning --- 156 friends for Lilah24770301"
     ]
    },
    {
     "name": "stderr",
     "output_type": "stream",
     "text": [
      "Got error: {\"errors\":[{\"message\":\"Rate limit exceeded\",\"code\":88}]} \n",
      "sleeping for 15 minutes.\n"
     ]
    },
    {
     "name": "stdout",
     "output_type": "stream",
     "text": [
      "\n",
      "Returning --- 2077 friends for Lilakaraine\n",
      "Returning --- 162 friends for LiliHarrison101\n",
      "Returning --- 63 friends for Lillian789\n",
      "Returning --- 260 friends for LilliannaFranco\n",
      "Returning --- 1398 friends for LilliesQChicago\n",
      "Returning --- 567 friends for LilliputTroupe\n",
      "Returning --- 358 friends for LillyBearCr8tns\n",
      "Returning --- 210 friends for LillyCareers\n",
      "Returning --- 934 friends for LilyBelle78\n",
      "Returning --- 86 friends for LilyGoldstein\n",
      "Returning --- 314 friends for LilyQZhao\n",
      "Returning --- 203 friends for LilySOARS\n",
      "Returning --- 111 friends for LilyWhiteBlack"
     ]
    },
    {
     "name": "stderr",
     "output_type": "stream",
     "text": [
      "Got error: {\"errors\":[{\"message\":\"Rate limit exceeded\",\"code\":88}]} \n",
      "sleeping for 15 minutes.\n"
     ]
    },
    {
     "name": "stdout",
     "output_type": "stream",
     "text": [
      "\n",
      "Returning --- 673 friends for Limy_23\n",
      "Returning --- 675 friends for LinaGoelzer\n",
      "Returning --- 937 friends for LinaMVargasG\n",
      "Returning --- 370 friends for LincolnInt\n",
      "Returning --- 188 friends for LincolnPkCondos\n",
      "Returning --- 586 friends for LincolnSquare09\n",
      "Returning --- 407 friends for LindaGartz\n",
      "Returning --- 169 friends for LindaKroll\n",
      "Collected 5000 friends for LindaLeeKing\n",
      "Collected 15000 friends for LindaLeeKing\n",
      "Collected 30000 friends for LindaLeeKing\n",
      "Returning --- 46615 friends for LindaLeeKing\n",
      "Returning --- 781 friends for LindaMaclac"
     ]
    },
    {
     "name": "stderr",
     "output_type": "stream",
     "text": [
      "Got error: {\"errors\":[{\"message\":\"Rate limit exceeded\",\"code\":88}]} \n",
      "sleeping for 15 minutes.\n"
     ]
    },
    {
     "name": "stdout",
     "output_type": "stream",
     "text": [
      "\n",
      "Returning --- 263 friends for LindaODwyer\n",
      "Returning --- 12 friends for LindaTeplin\n",
      "Returning --- 16 friends for LindaValadez\n",
      "Returning --- 12 friends for Linda_GQiang\n",
      "Returning --- 355 friends for Lindaklinelamar\n",
      "Returning --- 2507 friends for Lindakwert\n",
      "Returning --- 18 friends for LindeLegal\n",
      "Returning --- 15 friends for LindsayDShredit\n",
      "Returning --- 278 friends for LindsayDean3\n",
      "Returning --- 29 friends for LindsayLCL\n",
      "Returning --- 575 friends for LindsayMCohen\n",
      "Returning --- 429 friends for LindsayMeck\n",
      "Returning --- 141 friends for LindsayTillHoyt\n",
      "Returning --- 77 friends for LindsayTraiman\n",
      "Returning --- 804 friends for LindseyKrat"
     ]
    },
    {
     "name": "stderr",
     "output_type": "stream",
     "text": [
      "Got error: {\"errors\":[{\"message\":\"Rate limit exceeded\",\"code\":88}]} \n",
      "sleeping for 15 minutes.\n"
     ]
    },
    {
     "name": "stdout",
     "output_type": "stream",
     "text": [
      "\n",
      "Returning --- 293 friends for Lindsey_Kasch\n",
      "Returning --- 2054 friends for Lindyssportsmag\n",
      "Returning --- 26 friends for LingliZhangNU\n",
      "Returning --- 41 friends for Lingomars\n",
      "Returning --- 769 friends for Linked4Alumni\n",
      "Returning --- 1343 friends for LinkedinLimits\n",
      "Returning --- 108 friends for Linkerbear\n",
      "Returning --- 997 friends for LinkingWomen\n",
      "Returning --- 145 friends for LinkonPickus\n",
      "Returning --- 986 friends for Linnyv4\n",
      "Returning --- 33 friends for Linporte\n",
      "Returning --- 91 friends for Liny917"
     ]
    },
    {
     "name": "stderr",
     "output_type": "stream",
     "text": [
      "Got error: {\"errors\":[{\"message\":\"Rate limit exceeded\",\"code\":88}]} \n",
      "sleeping for 15 minutes.\n"
     ]
    },
    {
     "name": "stdout",
     "output_type": "stream",
     "text": [
      "\n",
      "Returning --- 19 friends for LionPrep\n",
      "Returning --- 16 friends for LipBalmPen\n",
      "Returning --- 692 friends for LipmanHearne\n",
      "Returning --- 232 friends for LippieSmalls\n",
      "Returning --- 80 friends for LiptonRandi\n",
      "Returning --- 369 friends for LisDeptula\n",
      "Returning --- 46 friends for LisElliott1\n",
      "Returning --- 900 friends for LisaArchinow\n",
      "Returning --- 108 friends for LisaBHurwitz\n",
      "Returning --- 180 friends for LisaBattisfore\n",
      "Returning --- 198 friends for LisaBobel\n",
      "Returning --- 1332 friends for LisaDani\n",
      "Returning --- 227 friends for LisaDeLeon11"
     ]
    },
    {
     "name": "stderr",
     "output_type": "stream",
     "text": [
      "Got error: {\"errors\":[{\"message\":\"Rate limit exceeded\",\"code\":88}]} \n",
      "sleeping for 15 minutes.\n"
     ]
    },
    {
     "name": "stdout",
     "output_type": "stream",
     "text": [
      "\n",
      "Returning --- 890 friends for LisaEckelbecker\n",
      "Returning --- 472 friends for LisaEmmerich\n",
      "Returning --- 808 friends for LisaHolton\n",
      "Returning --- 1103 friends for LisaKCarter\n",
      "Returning --- 97 friends for LisaLockwood1\n",
      "Returning --- 399 friends for LisaLoves2Sell\n",
      "Returning --- 1920 friends for LisaMBregman\n",
      "Returning --- 113 friends for LisaNicoleWilk\n",
      "Returning --- 357 friends for LisaOGr\n",
      "Returning --- 675 friends for LisaOnCampus\n",
      "Returning --- 2074 friends for LisaParisot\n",
      "Collected 5000 friends for LisaPetrilli\n",
      "Collected 15000 friends for LisaPetrilli"
     ]
    },
    {
     "name": "stderr",
     "output_type": "stream",
     "text": [
      "Got error: {\"errors\":[{\"message\":\"Rate limit exceeded\",\"code\":88}]} \n",
      "sleeping for 15 minutes.\n"
     ]
    },
    {
     "name": "stdout",
     "output_type": "stream",
     "text": [
      "\n",
      "Collected 30000 friends for LisaPetrilli\n",
      "Returning --- 45469 friends for LisaPetrilli\n",
      "Returning --- 638 friends for LisaShoshana\n",
      "Returning --- 828 friends for LisaTJ113\n",
      "Returning --- 55 friends for Lisa_E_Davis\n",
      "Returning --- 805 friends for Lisa_Fielding\n",
      "Returning --- 8 friends for Lisa_Wickert\n",
      "Returning --- 589 friends for Liselle1214\n",
      "Returning --- 146 friends for Lismacwil\n",
      "Returning --- 49 friends for Lisprogram"
     ]
    },
    {
     "name": "stderr",
     "output_type": "stream",
     "text": [
      "Got error: {\"errors\":[{\"message\":\"Rate limit exceeded\",\"code\":88}]} \n",
      "sleeping for 15 minutes.\n"
     ]
    },
    {
     "name": "stdout",
     "output_type": "stream",
     "text": [
      "\n",
      "Returning --- 793 friends for Lissette_Rod\n",
      "Returning --- 1399 friends for ListerSue\n",
      "Returning --- 3146 friends for LiteratiBkstore\n",
      "Returning --- 1395 friends for LithiumOd\n",
      "Returning --- 50 friends for Litry2002\n",
      "Returning --- 52 friends for Little10Foil\n",
      "Returning --- 708 friends for LittleCoMary\n",
      "Returning --- 988 friends for LittleJimRicker\n",
      "Returning --- 1450 friends for LittleRiverBlog\n",
      "Returning --- 1122 friends for LitzyDitz\n",
      "Returning --- 108 friends for LiuAnnabelle\n",
      "Returning --- 87 friends for LivableEvanston\n",
      "Returning --- 149 friends for LiveLifeSlaton\n",
      "Returning --- 424 friends for LiveNationIL\n",
      "Returning --- 275 friends for LiveToRunDK"
     ]
    },
    {
     "name": "stderr",
     "output_type": "stream",
     "text": [
      "Got error: {\"errors\":[{\"message\":\"Rate limit exceeded\",\"code\":88}]} \n",
      "sleeping for 15 minutes.\n"
     ]
    },
    {
     "name": "stdout",
     "output_type": "stream",
     "text": [
      "\n",
      "Returning --- 330 friends for LivingDoll_M\n",
      "Returning --- 849 friends for LivingHealthyTV\n",
      "Returning --- 283 friends for LivingOff115\n",
      "Returning --- 15 friends for LivingWorks1\n",
      "Returning --- 47 friends for LizAppelt\n",
      "Returning --- 563 friends for LizBroder\n",
      "Returning --- 44 friends for LizCRecruiter\n",
      "Returning --- 133 friends for LizDeadrick\n",
      "Returning --- 713 friends for LizEntwhistle\n",
      "Returning --- 375 friends for LizKhalifa223\n",
      "Returning --- 217 friends for LizNArteaga\n",
      "Returning --- 9 friends for LizSalazer\n",
      "Returning --- 755 friends for LizSchlaudecker"
     ]
    },
    {
     "name": "stderr",
     "output_type": "stream",
     "text": [
      "Got error: {\"errors\":[{\"message\":\"Rate limit exceeded\",\"code\":88}]} \n",
      "sleeping for 15 minutes.\n"
     ]
    },
    {
     "name": "stdout",
     "output_type": "stream",
     "text": [
      "\n",
      "Returning --- 952 friends for Liz_Sl8r\n",
      "Returning --- 1550 friends for LizaAchilles\n",
      "Returning --- 313 friends for LizaKatzer\n",
      "Returning --- 1270 friends for LizaLugoJD\n",
      "Returning --- 24 friends for LizabethHuey\n",
      "Returning --- 65 friends for Lizcampy\n",
      "Returning --- 956 friends for Lizetteupnu\n",
      "Returning --- 69 friends for LizzieTrzupek\n",
      "Returning --- 11 friends for Lizziekins23\n",
      "Returning --- 19 friends for LizzyKayaLyons\n",
      "Returning --- 1929 friends for LizzyLaurie"
     ]
    },
    {
     "name": "stderr",
     "output_type": "stream",
     "text": [
      "Got error: {\"errors\":[{\"message\":\"Rate limit exceeded\",\"code\":88}]} \n",
      "sleeping for 15 minutes.\n"
     ]
    },
    {
     "name": "stdout",
     "output_type": "stream",
     "text": [
      "\n",
      "Returning --- 88 friends for LizzyRatoni\n",
      "Returning --- 45 friends for LizzzzyJohnson\n",
      "Returning --- 2001 friends for Ljlavin\n",
      "Returning --- 433 friends for Lkfoley\n",
      "Returning --- 723 friends for LlcMbs\n",
      "Returning --- 218 friends for LloydQuim\n",
      "Returning --- 47 friends for LloydShefsky\n",
      "Returning --- 1025 friends for LmentalLab\n",
      "Returning --- 20 friends for Lmop6\n",
      "Returning --- 1426 friends for LoBenichou\n",
      "Returning --- 189 friends for LoBues\n",
      "Returning --- 44 friends for LoLCoachLight\n",
      "Returning --- 239 friends for LoanCheetah"
     ]
    },
    {
     "name": "stderr",
     "output_type": "stream",
     "text": [
      "Got error: {\"errors\":[{\"message\":\"Rate limit exceeded\",\"code\":88}]} \n",
      "sleeping for 15 minutes.\n"
     ]
    },
    {
     "name": "stdout",
     "output_type": "stream",
     "text": [
      "\n",
      "Returning --- 52 friends for LoanCoachNews\n",
      "Returning --- 75 friends for LoanScottsdale\n",
      "Returning --- 627 friends for Lobo719\n",
      "Returning --- 235 friends for LocMegan\n",
      "Returning --- 2339 friends for Local4Will\n",
      "Returning --- 4204 friends for LocalKyle\n",
      "Returning --- 313 friends for LocalizeChicago\n",
      "Returning --- 21 friends for LochRose\n",
      "Returning --- 127 friends for Lock7er\n",
      "Returning --- 12 friends for LoewyB\n",
      "Returning --- 156 friends for Lofgren1\n",
      "Returning --- 373 friends for LoganEjupi\n",
      "Returning --- 456 friends for LoganHenning123\n",
      "Returning --- 1006 friends for LoganHickle\n",
      "Returning --- 838 friends for LoganJo55985814"
     ]
    },
    {
     "name": "stderr",
     "output_type": "stream",
     "text": [
      "Got error: {\"errors\":[{\"message\":\"Rate limit exceeded\",\"code\":88}]} \n",
      "sleeping for 15 minutes.\n"
     ]
    },
    {
     "name": "stdout",
     "output_type": "stream",
     "text": [
      "\n",
      "Returning --- 187 friends for LoganTesmer\n",
      "Returning --- 1976 friends for LogicPad\n",
      "Returning --- 53 friends for LogicalHealth\n",
      "Collected 5000 friends for Logoedtee\n",
      "Collected 15000 friends for Logoedtee\n",
      "Collected 30000 friends for Logoedtee\n",
      "Found more than 50,000 friends. Returning error code = -3\n",
      "Returning --- 287 friends for Logomints\n",
      "Returning --- 15 friends for LolaWantLolaGet\n",
      "Returning --- 22 friends for Lolamurcia\n",
      "Returning --- 67 friends for Lolnever2\n",
      "Returning --- 186 friends for LoloKauf"
     ]
    },
    {
     "name": "stderr",
     "output_type": "stream",
     "text": [
      "Got error: {\"errors\":[{\"message\":\"Rate limit exceeded\",\"code\":88}]} \n",
      "sleeping for 15 minutes.\n"
     ]
    },
    {
     "name": "stdout",
     "output_type": "stream",
     "text": [
      "\n",
      "Returning --- 369 friends for Lombardi_KT\n",
      "Returning --- 1563 friends for LondonVilla1\n",
      "Returning --- 232 friends for LongIslandJoey\n",
      "Returning --- 89 friends for LongYu_Medill\n",
      "Collected 5000 friends for LonnieAveryNet\n",
      "Returning --- 11038 friends for LonnieAveryNet\n",
      "Returning --- 448 friends for Looking4yrbooks\n",
      "Returning --- 1834 friends for Looksharp\n",
      "Returning --- 246 friends for LoongLuangkhot\n",
      "Returning --- 1468 friends for LoopRealtor\n",
      "Returning --- 74 friends for Looplio\n",
      "Returning --- 813 friends for Lopatka11\n",
      "Returning --- 2007 friends for LordBexar"
     ]
    },
    {
     "name": "stderr",
     "output_type": "stream",
     "text": [
      "Got error: {\"errors\":[{\"message\":\"Rate limit exceeded\",\"code\":88}]} \n",
      "sleeping for 15 minutes.\n"
     ]
    },
    {
     "name": "stdout",
     "output_type": "stream",
     "text": [
      "\n",
      "Returning --- 144 friends for LordShimmy\n",
      "Returning --- 403 friends for LordWolf2\n",
      "Returning --- 40 friends for Lorenzos_leg\n",
      "Returning --- 1703 friends for LoriBurke\n",
      "Returning --- 229 friends for LoriFrelly\n",
      "Returning --- 863 friends for LoriKeenan\n",
      "Returning --- 45 friends for LoriLalika\n",
      "Collected 5000 friends for LoriMoreno\n",
      "Collected 15000 friends for LoriMoreno\n",
      "Collected 30000 friends for LoriMoreno\n",
      "Found more than 50,000 friends. Returning error code = -3\n",
      "Returning --- 597 friends for LoriPalfalvi\n",
      "Returning --- 320 friends for LoriaAbbey"
     ]
    },
    {
     "name": "stderr",
     "output_type": "stream",
     "text": [
      "Got error: {\"errors\":[{\"message\":\"Rate limit exceeded\",\"code\":88}]} \n",
      "sleeping for 15 minutes.\n"
     ]
    },
    {
     "name": "stdout",
     "output_type": "stream",
     "text": [
      "\n",
      "Returning --- 2628 friends for LornaWDee\n",
      "Returning --- 206 friends for Lorna_L_Allen\n",
      "Returning --- 243 friends for LorraineProject\n",
      "Returning --- 17 friends for LotharGuttstein\n",
      "Returning --- 2027 friends for LottiLuWho\n",
      "Returning --- 439 friends for LouCarf\n",
      "Returning --- 122 friends for LouDore\n",
      "Collected 5000 friends for LouMalnatis\n",
      "Collected 15000 friends for LouMalnatis\n",
      "Collected 30000 friends for LouMalnatis\n",
      "Returning --- 45807 friends for LouMalnatis\n",
      "Returning --- 1748 friends for Lou__10"
     ]
    },
    {
     "name": "stderr",
     "output_type": "stream",
     "text": [
      "Got error: {\"errors\":[{\"message\":\"Rate limit exceeded\",\"code\":88}]} \n",
      "sleeping for 15 minutes.\n"
     ]
    },
    {
     "name": "stdout",
     "output_type": "stream",
     "text": [
      "\n",
      "Returning --- 331 friends for LouisAgbo\n",
      "Returning --- 224 friends for LouisEOh73\n",
      "Returning --- 334 friends for Louisa_Wyatt\n",
      "Returning --- 362 friends for Louise_Thornton\n",
      "Returning --- 499 friends for LouisvilleXing\n",
      "Returning --- 2189 friends for Loupo85\n",
      "Returning --- 43 friends for LoveBrit1994\n",
      "Returning --- 825 friends for LoveHateOs\n",
      "Returning --- 107 friends for LoveRagamuffin\n",
      "Returning --- 58 friends for Love_Cecilia\n",
      "Returning --- 287 friends for Love__Linnea\n",
      "Returning --- 579 friends for Loveforcaring"
     ]
    },
    {
     "name": "stderr",
     "output_type": "stream",
     "text": [
      "Got error: {\"errors\":[{\"message\":\"Rate limit exceeded\",\"code\":88}]} \n",
      "sleeping for 15 minutes.\n"
     ]
    },
    {
     "name": "stdout",
     "output_type": "stream",
     "text": [
      "\n",
      "Returning --- 196 friends for LoversNMadmen\n",
      "Returning --- 1906 friends for Lovers_Layne\n",
      "Returning --- 1835 friends for Lovetolanga\n",
      "Returning --- 173 friends for Loveturtles1\n",
      "Returning --- 1979 friends for Lovillpanama\n",
      "Returning --- 240 friends for LowSulfate\n",
      "Returning --- 577 friends for LoweLife\n",
      "Returning --- 139 friends for Lowes1245_1286\n",
      "Returning --- 2062 friends for LowesCareers\n",
      "Returning --- 297 friends for Loxley_Range\n",
      "Returning --- 450 friends for LoyCollegeCnslr\n",
      "Returning --- 153 friends for LoyalBig10Fans\n",
      "Returning --- 1982 friends for Loyal_Butera\n",
      "Returning --- 445 friends for LoyaltyOneJobs\n",
      "Returning --- 706 friends for LoyolaLaw"
     ]
    },
    {
     "name": "stderr",
     "output_type": "stream",
     "text": [
      "Got error: {\"errors\":[{\"message\":\"Rate limit exceeded\",\"code\":88}]} \n",
      "sleeping for 15 minutes.\n"
     ]
    },
    {
     "name": "stdout",
     "output_type": "stream",
     "text": [
      "\n",
      "Returning --- 1119 friends for LoyolaNOLANews\n",
      "Returning --- 244 friends for LoyolaWFTW\n",
      "Returning --- 3 friends for Lredgreen\n",
      "Returning --- 24 friends for Lsabrego\n",
      "Returning --- 63 friends for Lsmithberry\n",
      "Returning --- 420 friends for Lstblkgrl\n",
      "Returning --- 1979 friends for LubHristev\n",
      "Returning --- 24 friends for Lucajelmoni\n",
      "Returning --- 19 friends for LucasIbrahimi\n",
      "Returning --- 1501 friends for LuceVern\n",
      "Returning --- 552 friends for LucentEducation\n",
      "Returning --- 23 friends for LuciaCavagnolli\n",
      "Returning --- 2248 friends for LuciaLumina"
     ]
    },
    {
     "name": "stderr",
     "output_type": "stream",
     "text": [
      "Got error: {\"errors\":[{\"message\":\"Rate limit exceeded\",\"code\":88}]} \n",
      "sleeping for 15 minutes.\n"
     ]
    },
    {
     "name": "stdout",
     "output_type": "stream",
     "text": [
      "\n",
      "Returning --- 98 friends for LucilleLyu\n",
      "Returning --- 108 friends for LuckeCharms_\n",
      "Returning --- 325 friends for LuckyText\n",
      "Returning --- 570 friends for Lucy_Rhoades\n",
      "Returning --- 32 friends for LucytheJoker\n",
      "Returning --- 60 friends for LudaChrissyB\n",
      "Returning --- 38 friends for LudingtonAndy\n",
      "Returning --- 1652 friends for Ludlum_LMI\n",
      "Returning --- 229 friends for LudmilaBogdan\n",
      "Returning --- 350 friends for LueWang\n",
      "Returning --- 277 friends for LuffLax41\n",
      "Returning --- 21 friends for Luh_janjao\n",
      "Returning --- 148 friends for LuigiGriso\n",
      "Returning --- 647 friends for LuisFelipeVelez\n",
      "Returning --- 642 friends for LuisSajaro"
     ]
    },
    {
     "name": "stderr",
     "output_type": "stream",
     "text": [
      "Got error: {\"errors\":[{\"message\":\"Rate limit exceeded\",\"code\":88}]} \n",
      "sleeping for 15 minutes.\n"
     ]
    },
    {
     "name": "stdout",
     "output_type": "stream",
     "text": [
      "\n",
      "Returning --- 2001 friends for LuisaFNavarro\n",
      "Returning --- 713 friends for Luisa_Badaracco\n",
      "Returning --- 2277 friends for LuissLUP\n",
      "Returning --- 40 friends for LukeAndersonPP2\n",
      "Returning --- 120 friends for LukeFaze\n",
      "Returning --- 231 friends for LukePeterson7\n",
      "Returning --- 61 friends for LukeRogers4\n",
      "Returning --- 326 friends for LukeSallmen\n",
      "Returning --- 2029 friends for LukeStowe\n",
      "Returning --- 2096 friends for LukeVelders\n",
      "Returning --- 26 friends for Luke_22_32\n",
      "Returning --- 46 friends for Luke_David\n",
      "Returning --- 25 friends for Luke_zx1"
     ]
    },
    {
     "name": "stderr",
     "output_type": "stream",
     "text": [
      "Got error: {\"errors\":[{\"message\":\"Rate limit exceeded\",\"code\":88}]} \n",
      "sleeping for 15 minutes.\n"
     ]
    },
    {
     "name": "stdout",
     "output_type": "stream",
     "text": [
      "\n",
      "Returning --- 78 friends for LukiaZhang\n",
      "Returning --- 461 friends for LulubelleND\n",
      "Returning --- 229 friends for Lulumeig\n",
      "Returning --- 54 friends for LumenChristiJxn\n",
      "Returning --- 311 friends for Lumenaki\n",
      "Returning --- 2010 friends for LuministFilms\n",
      "Returning --- 92 friends for LundeenShentel\n",
      "Returning --- 20 friends for LupeDuenas\n",
      "Returning --- 3191 friends for LurieCancer\n",
      "Returning --- 1400 friends for LurieChildrens\n",
      "Returning --- 353 friends for LutoResearch\n",
      "Returning --- 501 friends for Luv_HeatherJ"
     ]
    },
    {
     "name": "stderr",
     "output_type": "stream",
     "text": [
      "Got error: {\"errors\":[{\"message\":\"Rate limit exceeded\",\"code\":88}]} \n",
      "sleeping for 15 minutes.\n"
     ]
    },
    {
     "name": "stdout",
     "output_type": "stream",
     "text": [
      "\n",
      "Returning --- 50 friends for LuvsPugs100\n",
      "Returning --- 1977 friends for Lux_Roses\n",
      "Returning --- 196 friends for Luxottica_Jobs\n",
      "Returning --- 1920 friends for LuzyLed\n",
      "Returning --- 1069 friends for Lwood847\n",
      "Returning --- 177 friends for LycaHuang0621\n",
      "Returning --- 741 friends for LyceumAgency\n",
      "Returning --- 878 friends for LydiaBelanger\n",
      "Returning --- 72 friends for LydiaChesnick\n",
      "Returning --- 21 friends for LydiaGao1\n",
      "Returning --- 713 friends for LydiaMHopper\n",
      "Returning --- 543 friends for LyleEngineering\n",
      "Returning --- 12 friends for LynGi_Z\n",
      "Returning --- 1199 friends for Lyndab08"
     ]
    },
    {
     "name": "stderr",
     "output_type": "stream",
     "text": [
      "Got error: {\"errors\":[{\"message\":\"Rate limit exceeded\",\"code\":88}]} \n",
      "sleeping for 15 minutes.\n"
     ]
    },
    {
     "name": "stdout",
     "output_type": "stream",
     "text": [
      "\n",
      "Returning --- 57 friends for LyndonSapozhnik\n",
      "Returning --- 1029 friends for LyndseyMcK\n",
      "Returning --- 311 friends for LyndseyMcKay\n",
      "Returning --- 265 friends for LynnDolynchuk\n",
      "Returning --- 9 friends for LynnHopton\n",
      "Returning --- 85 friends for LynneQu\n",
      "Returning --- 152 friends for LynnettePierre\n",
      "Returning --- 274 friends for Lynnp69\n",
      "Returning --- 931 friends for Lynseybt10\n",
      "Returning --- 777 friends for LyricOpera\n",
      "Returning --- 4714 friends for LyssaCurran\n",
      "Returning --- 86 friends for LyssaWeave"
     ]
    },
    {
     "name": "stderr",
     "output_type": "stream",
     "text": [
      "Got error: {\"errors\":[{\"message\":\"Rate limit exceeded\",\"code\":88}]} \n",
      "sleeping for 15 minutes.\n"
     ]
    }
   ],
   "source": [
    "# Collecting all nu_followers's friends' ids and pickling them separately\n",
    "get_friend_ids_and_pickle_object(nu_followers_4, 'nu', split_pickle = True)"
   ]
  },
  {
   "cell_type": "code",
   "execution_count": 12,
   "metadata": {
    "collapsed": false,
    "scrolled": true
   },
   "outputs": [
    {
     "name": "stdout",
     "output_type": "stream",
     "text": [
      "Collected 5000 friends for usacolumbus69\n",
      "Returning --- 10002 friends for usacolumbus69\n",
      "Collected 5000 friends for gerenciatodos\n",
      "Collected 15000 friends for gerenciatodos\n",
      "Collected 30000 friends for gerenciatodos\n",
      "Found more than 50,000 friends. Returning error code = -3\n",
      "Collected 5000 friends for pauljstill\n",
      "Collected 15000 friends for pauljstill\n",
      "Returning --- 26089 friends for pauljstill\n",
      "Collected 5000 friends for Cascadia\n",
      "Collected 15000 friends for Cascadia\n",
      "Returning --- 25489 friends for Cascadia\n",
      "Collected 5000 friends for CanyonDG\n",
      "Returning --- 10675 friends for CanyonDG\n",
      "Collected 5000 friends for shopswindows"
     ]
    },
    {
     "name": "stderr",
     "output_type": "stream",
     "text": [
      "Got error: {\"errors\":[{\"message\":\"Rate limit exceeded\",\"code\":88}]} \n",
      "sleeping for 15 minutes.\n"
     ]
    },
    {
     "name": "stdout",
     "output_type": "stream",
     "text": [
      "\n",
      "Collected 15000 friends for shopswindows\n",
      "Collected 30000 friends for shopswindows\n",
      "Found more than 50,000 friends. Returning error code = -3\n",
      "Returning --- 139 friends for ranjan_srk\n",
      "Collected 5000 friends for BerkeleyBrett\n",
      "Collected 15000 friends for BerkeleyBrett\n",
      "Collected 30000 friends for BerkeleyBrett\n",
      "Found more than 50,000 friends. Returning error code = -3\n",
      "Collected 5000 friends for LionsheadSocial\n",
      "Collected 15000 friends for LionsheadSocial\n",
      "Collected 30000 friends for LionsheadSocial\n",
      "Found more than 50,000 friends. Returning error code = -3\n",
      "Collected 5000 friends for thejusticeconf\n",
      "Returning --- 13524 friends for thejusticeconf\n",
      "Collected 5000 friends for AdelmansCo"
     ]
    },
    {
     "name": "stderr",
     "output_type": "stream",
     "text": [
      "Got error: {\"errors\":[{\"message\":\"Rate limit exceeded\",\"code\":88}]} \n",
      "sleeping for 15 minutes.\n"
     ]
    },
    {
     "name": "stdout",
     "output_type": "stream",
     "text": [
      "\n",
      "Collected 15000 friends for AdelmansCo\n",
      "Returning --- 25241 friends for AdelmansCo\n",
      "Collected 5000 friends for MikeBoehler\n",
      "Collected 15000 friends for MikeBoehler\n",
      "Collected 30000 friends for MikeBoehler\n",
      "Found more than 50,000 friends. Returning error code = -3\n",
      "Collected 5000 friends for Brodalumab\n",
      "Collected 15000 friends for Brodalumab\n",
      "Collected 30000 friends for Brodalumab\n",
      "Found more than 50,000 friends. Returning error code = -3\n",
      "Returning --- 4393 friends for roflgoo\n",
      "Collected 5000 friends for SportingKC\n",
      "Returning --- 10494 friends for SportingKC\n",
      "Collected 5000 friends for ccrealty2\n",
      "Collected 15000 friends for ccrealty2"
     ]
    },
    {
     "name": "stderr",
     "output_type": "stream",
     "text": [
      "Got error: {\"errors\":[{\"message\":\"Rate limit exceeded\",\"code\":88}]} \n",
      "sleeping for 15 minutes.\n"
     ]
    },
    {
     "name": "stdout",
     "output_type": "stream",
     "text": [
      "\n",
      "Collected 30000 friends for ccrealty2\n",
      "Found more than 50,000 friends. Returning error code = -3\n",
      "Collected 5000 friends for davidhoffmanca\n",
      "Collected 15000 friends for davidhoffmanca\n",
      "Collected 30000 friends for davidhoffmanca\n",
      "Found more than 50,000 friends. Returning error code = -3\n",
      "Collected 5000 friends for BUBLIVE\n",
      "Collected 15000 friends for BUBLIVE\n",
      "Collected 30000 friends for BUBLIVE\n",
      "Found more than 50,000 friends. Returning error code = -3\n",
      "Collected 5000 friends for NealSchaffer\n",
      "Collected 15000 friends for NealSchaffer\n",
      "Collected 30000 friends for NealSchaffer\n",
      "Found more than 50,000 friends. Returning error code = -3\n",
      "Collected 5000 friends for TeeGreek"
     ]
    },
    {
     "name": "stderr",
     "output_type": "stream",
     "text": [
      "Got error: {\"errors\":[{\"message\":\"Rate limit exceeded\",\"code\":88}]} \n",
      "sleeping for 15 minutes.\n"
     ]
    },
    {
     "name": "stdout",
     "output_type": "stream",
     "text": [
      "\n",
      "Collected 15000 friends for TeeGreek\n",
      "Collected 30000 friends for TeeGreek\n",
      "Found more than 50,000 friends. Returning error code = -3\n"
     ]
    },
    {
     "data": {
      "text/plain": [
       "{u'AdelmansCo': [82192102,\n",
       "  505440302,\n",
       "  2432548092L,\n",
       "  143528652,\n",
       "  129882996,\n",
       "  151337285,\n",
       "  43084095,\n",
       "  872730668,\n",
       "  95083299,\n",
       "  177197452,\n",
       "  188532686,\n",
       "  163105866,\n",
       "  184184224,\n",
       "  184203060,\n",
       "  229509122,\n",
       "  223532414,\n",
       "  211632786,\n",
       "  229549784,\n",
       "  205302425,\n",
       "  247935695,\n",
       "  183143642,\n",
       "  267467391,\n",
       "  142698446,\n",
       "  390969254,\n",
       "  298855671,\n",
       "  342985243,\n",
       "  245113074,\n",
       "  109251482,\n",
       "  136249277,\n",
       "  127324156,\n",
       "  114875943,\n",
       "  615344550,\n",
       "  569353902,\n",
       "  624943260,\n",
       "  1004906010,\n",
       "  151476458,\n",
       "  549392161,\n",
       "  584134945,\n",
       "  180660817,\n",
       "  510489112,\n",
       "  717397880,\n",
       "  397335122,\n",
       "  872991938,\n",
       "  1420740331,\n",
       "  1406131026,\n",
       "  1242353329,\n",
       "  1412366977,\n",
       "  1161576870,\n",
       "  1224900890,\n",
       "  1472322865,\n",
       "  243483837,\n",
       "  1488947678,\n",
       "  1154541175,\n",
       "  1542069564,\n",
       "  163660242,\n",
       "  1623174458,\n",
       "  313712160,\n",
       "  1609264572,\n",
       "  1045695522,\n",
       "  44145131,\n",
       "  141563014,\n",
       "  180655149,\n",
       "  155290700,\n",
       "  101258547,\n",
       "  1947709099,\n",
       "  89860239,\n",
       "  486303487,\n",
       "  17926194,\n",
       "  138152191,\n",
       "  1418470400,\n",
       "  376359822,\n",
       "  352653786,\n",
       "  67416037,\n",
       "  131190306,\n",
       "  2411582911L,\n",
       "  349157328,\n",
       "  448036681,\n",
       "  2273129714L,\n",
       "  2417092273L,\n",
       "  2501590477L,\n",
       "  2539667487L,\n",
       "  286781341,\n",
       "  2496988394L,\n",
       "  1546611588,\n",
       "  2218366596L,\n",
       "  2544410822L,\n",
       "  2233758539L,\n",
       "  88117140,\n",
       "  2542566210L,\n",
       "  197122192,\n",
       "  2717959771L,\n",
       "  176902715,\n",
       "  1461299556,\n",
       "  2397196691L,\n",
       "  111875830,\n",
       "  2465274488L,\n",
       "  178959219,\n",
       "  2475729590L,\n",
       "  1723843177,\n",
       "  827538186,\n",
       "  85000756,\n",
       "  369193411,\n",
       "  69628761,\n",
       "  216076477,\n",
       "  324528399,\n",
       "  2800078740L,\n",
       "  175927412,\n",
       "  294361160,\n",
       "  2365082355L,\n",
       "  2161460358L,\n",
       "  332511392,\n",
       "  797272357,\n",
       "  50848563,\n",
       "  204520275,\n",
       "  83922313,\n",
       "  533397054,\n",
       "  143237450,\n",
       "  2352391632L,\n",
       "  553255604,\n",
       "  519251486,\n",
       "  109352657,\n",
       "  2576939054L,\n",
       "  2205481706L,\n",
       "  387747147,\n",
       "  96862725,\n",
       "  221584765,\n",
       "  157765596,\n",
       "  119794179,\n",
       "  216567113,\n",
       "  2925840824L,\n",
       "  360721556,\n",
       "  178582511,\n",
       "  363044645,\n",
       "  143311102,\n",
       "  2524104145L,\n",
       "  1717404410,\n",
       "  2363905792L,\n",
       "  830293782,\n",
       "  2889214211L,\n",
       "  2610354458L,\n",
       "  347639548,\n",
       "  299098466,\n",
       "  1618453609,\n",
       "  182480413,\n",
       "  102243214,\n",
       "  334949199,\n",
       "  208117860,\n",
       "  95140534,\n",
       "  2371290945L,\n",
       "  436963329,\n",
       "  296384957,\n",
       "  110560784,\n",
       "  48879567,\n",
       "  2319122502L,\n",
       "  2574869838L,\n",
       "  64724487,\n",
       "  3325137605L,\n",
       "  2827455139L,\n",
       "  1724195576,\n",
       "  2881287034L,\n",
       "  2845820470L,\n",
       "  2448142387L,\n",
       "  3357649827L,\n",
       "  70984410,\n",
       "  338270608,\n",
       "  564576633,\n",
       "  624853936,\n",
       "  1308040106,\n",
       "  1252801483,\n",
       "  486744057,\n",
       "  1308536372,\n",
       "  120346723,\n",
       "  732958969,\n",
       "  139730282,\n",
       "  632246286,\n",
       "  1216130562,\n",
       "  364358593,\n",
       "  1325546263,\n",
       "  1359534871,\n",
       "  1355111454,\n",
       "  1373053003,\n",
       "  1068017010,\n",
       "  397525783,\n",
       "  1409386795,\n",
       "  497589557,\n",
       "  1420719896,\n",
       "  1417759872,\n",
       "  432905101,\n",
       "  1380675728,\n",
       "  152012565,\n",
       "  583410832,\n",
       "  1013702132,\n",
       "  766532604,\n",
       "  1572042144,\n",
       "  1536793051,\n",
       "  259069713,\n",
       "  1434433608,\n",
       "  1525096196,\n",
       "  177742196,\n",
       "  1228075802,\n",
       "  276999688,\n",
       "  1355140454,\n",
       "  1479992629,\n",
       "  1449133398,\n",
       "  1354530888,\n",
       "  249234083,\n",
       "  215817252,\n",
       "  856732314,\n",
       "  973652972,\n",
       "  1631190378,\n",
       "  244348246,\n",
       "  1563345402,\n",
       "  1342182486,\n",
       "  1536911977,\n",
       "  945753284,\n",
       "  178978797,\n",
       "  268870557,\n",
       "  191134265,\n",
       "  336110833,\n",
       "  2830145196L,\n",
       "  1234696488,\n",
       "  2414892913L,\n",
       "  2383430305L,\n",
       "  156380175,\n",
       "  92200546,\n",
       "  164093582,\n",
       "  140614871,\n",
       "  144894213,\n",
       "  115835308,\n",
       "  140490677,\n",
       "  116563883,\n",
       "  24348100,\n",
       "  64670415,\n",
       "  149100134,\n",
       "  115828864,\n",
       "  129881552,\n",
       "  129881148,\n",
       "  135520111,\n",
       "  126632280,\n",
       "  70530193,\n",
       "  97672279,\n",
       "  73238346,\n",
       "  161327389,\n",
       "  166351614,\n",
       "  153389730,\n",
       "  116957380,\n",
       "  159969111,\n",
       "  172127186,\n",
       "  177190727,\n",
       "  173174886,\n",
       "  171497310,\n",
       "  109711083,\n",
       "  137396875,\n",
       "  72936511,\n",
       "  197041472,\n",
       "  77877595,\n",
       "  2860622195L,\n",
       "  381888564,\n",
       "  164033684,\n",
       "  1039870549,\n",
       "  395310072,\n",
       "  1571913337,\n",
       "  528103468,\n",
       "  2343309348L,\n",
       "  67460049,\n",
       "  2867676717L,\n",
       "  300851570,\n",
       "  553592438,\n",
       "  1055419044,\n",
       "  3276799716L,\n",
       "  619295744,\n",
       "  412527241,\n",
       "  2611876165L,\n",
       "  2924350004L,\n",
       "  1367978611,\n",
       "  2928008367L,\n",
       "  2767064485L,\n",
       "  2360578310L,\n",
       "  2898638023L,\n",
       "  14254407,\n",
       "  2770123273L,\n",
       "  558862250,\n",
       "  1205605813,\n",
       "  828017348,\n",
       "  3246369676L,\n",
       "  463167446,\n",
       "  1722596850,\n",
       "  596134860,\n",
       "  3196176599L,\n",
       "  191587984,\n",
       "  535681366,\n",
       "  1494508987,\n",
       "  58881645,\n",
       "  305575392,\n",
       "  267877594,\n",
       "  399482175,\n",
       "  316899388,\n",
       "  1188851778,\n",
       "  471102645,\n",
       "  231908801,\n",
       "  100002905,\n",
       "  565042962,\n",
       "  1128291312,\n",
       "  2459170202L,\n",
       "  2657457307L,\n",
       "  52628656,\n",
       "  69008740,\n",
       "  2492101700L,\n",
       "  65144865,\n",
       "  283483279,\n",
       "  2974962777L,\n",
       "  288033412,\n",
       "  138253539,\n",
       "  2684218429L,\n",
       "  342806514,\n",
       "  108173907,\n",
       "  62259958,\n",
       "  124585388,\n",
       "  52111087,\n",
       "  576723061,\n",
       "  320757372,\n",
       "  1671490608,\n",
       "  941822497,\n",
       "  347932904,\n",
       "  3302097364L,\n",
       "  1393647068,\n",
       "  2153517464L,\n",
       "  180761364,\n",
       "  177300685,\n",
       "  1354438092,\n",
       "  205324543,\n",
       "  382884806,\n",
       "  1320988345,\n",
       "  201125154,\n",
       "  3347881198L,\n",
       "  827241745,\n",
       "  366584305,\n",
       "  266076917,\n",
       "  1080693049,\n",
       "  616773388,\n",
       "  2701507512L,\n",
       "  263779969,\n",
       "  584275109,\n",
       "  2981444609L,\n",
       "  250129692,\n",
       "  589429113,\n",
       "  2168693219L,\n",
       "  2494822740L,\n",
       "  206946187,\n",
       "  2960254251L,\n",
       "  240285255,\n",
       "  141668421,\n",
       "  150388011,\n",
       "  386369944,\n",
       "  2167075087L,\n",
       "  153264885,\n",
       "  1056152342,\n",
       "  132651665,\n",
       "  2645395334L,\n",
       "  3314556393L,\n",
       "  353823348,\n",
       "  78307273,\n",
       "  153878608,\n",
       "  1430865288,\n",
       "  249774830,\n",
       "  36969512,\n",
       "  250572238,\n",
       "  403531621,\n",
       "  460781158,\n",
       "  2293094455L,\n",
       "  417971795,\n",
       "  25591103,\n",
       "  376962815,\n",
       "  578775465,\n",
       "  518680898,\n",
       "  3349620432L,\n",
       "  465392711,\n",
       "  30013467,\n",
       "  385411284,\n",
       "  14962578,\n",
       "  595915005,\n",
       "  3002800203L,\n",
       "  761614321,\n",
       "  2458423976L,\n",
       "  1642870490,\n",
       "  94365784,\n",
       "  29351551,\n",
       "  393485688,\n",
       "  40051656,\n",
       "  3305610381L,\n",
       "  2870643210L,\n",
       "  2797950612L,\n",
       "  2837154000L,\n",
       "  3150623810L,\n",
       "  2431704080L,\n",
       "  3110195823L,\n",
       "  3057042490L,\n",
       "  2744903846L,\n",
       "  245342894,\n",
       "  546935900,\n",
       "  2228686709L,\n",
       "  2942366307L,\n",
       "  1126924796,\n",
       "  3287862127L,\n",
       "  3070185661L,\n",
       "  2988340479L,\n",
       "  351735705,\n",
       "  2807111712L,\n",
       "  1110188329,\n",
       "  2445939210L,\n",
       "  2348859554L,\n",
       "  2899143613L,\n",
       "  1727865973,\n",
       "  2455102514L,\n",
       "  1319374934,\n",
       "  2901086054L,\n",
       "  714798259,\n",
       "  2914295929L,\n",
       "  2952426467L,\n",
       "  2844153269L,\n",
       "  403638481,\n",
       "  2756212142L,\n",
       "  2377640494L,\n",
       "  2966904953L,\n",
       "  212655190,\n",
       "  2449854674L,\n",
       "  1281394992,\n",
       "  2535270628L,\n",
       "  34706276,\n",
       "  3183336545L,\n",
       "  398769455,\n",
       "  107459199,\n",
       "  2777034110L,\n",
       "  2964469463L,\n",
       "  228564223,\n",
       "  3173149488L,\n",
       "  3097354408L,\n",
       "  3241441828L,\n",
       "  3239569815L,\n",
       "  42948823,\n",
       "  247361596,\n",
       "  707818267,\n",
       "  2797065602L,\n",
       "  1517528353,\n",
       "  3042610026L,\n",
       "  2897901444L,\n",
       "  1380376988,\n",
       "  3327231370L,\n",
       "  3240166988L,\n",
       "  3252184412L,\n",
       "  3141682403L,\n",
       "  2332606206L,\n",
       "  3374524407L,\n",
       "  241217507,\n",
       "  24181377,\n",
       "  1583361013,\n",
       "  3389903751L,\n",
       "  27917163,\n",
       "  2990038708L,\n",
       "  3232250252L,\n",
       "  2188643197L,\n",
       "  83849204,\n",
       "  3430817625L,\n",
       "  67648463,\n",
       "  3346264874L,\n",
       "  3504068595L,\n",
       "  823618591,\n",
       "  2342615754L,\n",
       "  2650834706L,\n",
       "  563202348,\n",
       "  931253659,\n",
       "  2516782905L,\n",
       "  3238877271L,\n",
       "  2799717445L,\n",
       "  915087420,\n",
       "  102995980,\n",
       "  2900678716L,\n",
       "  791926417,\n",
       "  108984640,\n",
       "  137967544,\n",
       "  22018184,\n",
       "  96021340,\n",
       "  15492359,\n",
       "  64431868,\n",
       "  57303773,\n",
       "  418671117,\n",
       "  270454808,\n",
       "  205710868,\n",
       "  874213027,\n",
       "  205788670,\n",
       "  616627190,\n",
       "  844468471,\n",
       "  583863762,\n",
       "  47984556,\n",
       "  625807702,\n",
       "  125452418,\n",
       "  621103742,\n",
       "  769738820,\n",
       "  2544537620L,\n",
       "  742879866,\n",
       "  1283061258,\n",
       "  46872600,\n",
       "  430915479,\n",
       "  24837462,\n",
       "  3170434409L,\n",
       "  236478421,\n",
       "  142892697,\n",
       "  605220925,\n",
       "  607676124,\n",
       "  1426237939,\n",
       "  2251579375L,\n",
       "  2444995586L,\n",
       "  94366843,\n",
       "  481220707,\n",
       "  114572846,\n",
       "  3006986677L,\n",
       "  3123430431L,\n",
       "  487933293,\n",
       "  259098964,\n",
       "  3008642080L,\n",
       "  286365624,\n",
       "  249965202,\n",
       "  414302266,\n",
       "  57050560,\n",
       "  2973850612L,\n",
       "  749694270,\n",
       "  2311040348L,\n",
       "  2543684129L,\n",
       "  2327989298L,\n",
       "  3003901048L,\n",
       "  2389207782L,\n",
       "  2953549026L,\n",
       "  1269578384,\n",
       "  2930015421L,\n",
       "  55095190,\n",
       "  2665621579L,\n",
       "  21544741,\n",
       "  3029048512L,\n",
       "  2437693638L,\n",
       "  3040112788L,\n",
       "  2283912252L,\n",
       "  1670698069,\n",
       "  3010594964L,\n",
       "  2891002500L,\n",
       "  2291691158L,\n",
       "  2984788337L,\n",
       "  3063467290L,\n",
       "  2600101472L,\n",
       "  2667529357L,\n",
       "  3081297840L,\n",
       "  3007536384L,\n",
       "  326244331,\n",
       "  39760571,\n",
       "  221068886,\n",
       "  2972474445L,\n",
       "  1650827816,\n",
       "  531557641,\n",
       "  479836692,\n",
       "  763274323,\n",
       "  2813531977L,\n",
       "  14199414,\n",
       "  3127602404L,\n",
       "  2541689964L,\n",
       "  310537509,\n",
       "  3076253725L,\n",
       "  3109749547L,\n",
       "  387884322,\n",
       "  3133133904L,\n",
       "  2217769418L,\n",
       "  3144297621L,\n",
       "  3138871620L,\n",
       "  374888668,\n",
       "  2989055505L,\n",
       "  3091296713L,\n",
       "  3155863798L,\n",
       "  423899103,\n",
       "  2886112354L,\n",
       "  174178995,\n",
       "  3154588303L,\n",
       "  2398300866L,\n",
       "  3073805245L,\n",
       "  2840298179L,\n",
       "  2667545323L,\n",
       "  272030372,\n",
       "  2985114085L,\n",
       "  3160252940L,\n",
       "  851670649,\n",
       "  2442904434L,\n",
       "  61499106,\n",
       "  1262949560,\n",
       "  2805097441L,\n",
       "  172425344,\n",
       "  3011571966L,\n",
       "  2964692109L,\n",
       "  3186519580L,\n",
       "  44581395,\n",
       "  351050265,\n",
       "  2710091274L,\n",
       "  3103779871L,\n",
       "  2283075907L,\n",
       "  2859441879L,\n",
       "  2953639841L,\n",
       "  701384516,\n",
       "  403692399,\n",
       "  2943952945L,\n",
       "  3216025661L,\n",
       "  164360025,\n",
       "  3151235846L,\n",
       "  2977620668L,\n",
       "  2949561441L,\n",
       "  3199802135L,\n",
       "  2886414791L,\n",
       "  1027722757,\n",
       "  197678396,\n",
       "  3005452654L,\n",
       "  1257595747,\n",
       "  1893898999,\n",
       "  2469723800L,\n",
       "  372472628,\n",
       "  2792028169L,\n",
       "  3196396294L,\n",
       "  2789136727L,\n",
       "  61675367,\n",
       "  3187334097L,\n",
       "  1931955511,\n",
       "  3246425152L,\n",
       "  2882843722L,\n",
       "  962835984,\n",
       "  3076029110L,\n",
       "  2843857553L,\n",
       "  792163584,\n",
       "  3173946021L,\n",
       "  705120376,\n",
       "  2385536934L,\n",
       "  2491809522L,\n",
       "  2614033006L,\n",
       "  3180708564L,\n",
       "  2938651559L,\n",
       "  3236500311L,\n",
       "  1015617625,\n",
       "  3154063613L,\n",
       "  3253841091L,\n",
       "  2750111426L,\n",
       "  19977407,\n",
       "  2734489933L,\n",
       "  2734481018L,\n",
       "  54219192,\n",
       "  53142375,\n",
       "  39784977,\n",
       "  54263961,\n",
       "  125666676,\n",
       "  109372985,\n",
       "  2742377377L,\n",
       "  195633187,\n",
       "  324752557,\n",
       "  1347844183,\n",
       "  1688633448,\n",
       "  2172764769L,\n",
       "  2396460361L,\n",
       "  2280358278L,\n",
       "  2227638554L,\n",
       "  859923481,\n",
       "  857464693,\n",
       "  2492797028L,\n",
       "  2475058802L,\n",
       "  525676683,\n",
       "  2441688068L,\n",
       "  2478670333L,\n",
       "  788557434,\n",
       "  2364134083L,\n",
       "  2516624569L,\n",
       "  2468639322L,\n",
       "  2566442034L,\n",
       "  2586293160L,\n",
       "  786014977,\n",
       "  2561525446L,\n",
       "  2691435672L,\n",
       "  1140078709,\n",
       "  1482369907,\n",
       "  102856999,\n",
       "  2829575583L,\n",
       "  2917874352L,\n",
       "  2841267941L,\n",
       "  537514586,\n",
       "  103076944,\n",
       "  14886945,\n",
       "  36032320,\n",
       "  81619592,\n",
       "  120036324,\n",
       "  370716954,\n",
       "  85008170,\n",
       "  443853417,\n",
       "  218634414,\n",
       "  33669454,\n",
       "  215683551,\n",
       "  69681766,\n",
       "  143761530,\n",
       "  109237155,\n",
       "  148418872,\n",
       "  387488152,\n",
       "  372667655,\n",
       "  157102407,\n",
       "  280141861,\n",
       "  220020494,\n",
       "  124608864,\n",
       "  31382075,\n",
       "  104442263,\n",
       "  19098324,\n",
       "  218140824,\n",
       "  138391837,\n",
       "  17335071,\n",
       "  625661001,\n",
       "  850412610,\n",
       "  377520343,\n",
       "  35486742,\n",
       "  62608226,\n",
       "  1635591860,\n",
       "  24976704,\n",
       "  75029317,\n",
       "  16683825,\n",
       "  65589378,\n",
       "  40899146,\n",
       "  23135992,\n",
       "  220584404,\n",
       "  278027424,\n",
       "  944082529,\n",
       "  45436858,\n",
       "  46308574,\n",
       "  44884148,\n",
       "  185248627,\n",
       "  557226021,\n",
       "  15274836,\n",
       "  951705481,\n",
       "  250319127,\n",
       "  49658852,\n",
       "  28219737,\n",
       "  82346931,\n",
       "  168464403,\n",
       "  62572919,\n",
       "  69860015,\n",
       "  34877402,\n",
       "  29498975,\n",
       "  16560475,\n",
       "  284151165,\n",
       "  515553472,\n",
       "  298178689,\n",
       "  2154995246L,\n",
       "  2315718535L,\n",
       "  386860538,\n",
       "  219083611,\n",
       "  128895724,\n",
       "  1676286750,\n",
       "  717767006,\n",
       "  22043680,\n",
       "  136030166,\n",
       "  1563039439,\n",
       "  1864233012,\n",
       "  1566589808,\n",
       "  19677874,\n",
       "  1484150917,\n",
       "  86055976,\n",
       "  993081084,\n",
       "  16619752,\n",
       "  226525955,\n",
       "  567308086,\n",
       "  588610099,\n",
       "  2883829022L,\n",
       "  1683513835,\n",
       "  1678716368,\n",
       "  124854403,\n",
       "  18156714,\n",
       "  2176594453L,\n",
       "  2692909038L,\n",
       "  236230377,\n",
       "  1703146428,\n",
       "  1548667688,\n",
       "  1357859017,\n",
       "  2866277091L,\n",
       "  174474749,\n",
       "  1349557423,\n",
       "  491458788,\n",
       "  41213073,\n",
       "  52591600,\n",
       "  20858766,\n",
       "  228101625,\n",
       "  23080794,\n",
       "  74770143,\n",
       "  28922187,\n",
       "  54108753,\n",
       "  21871440,\n",
       "  320784603,\n",
       "  138657831,\n",
       "  415568526,\n",
       "  1563440947,\n",
       "  96793000,\n",
       "  271934814,\n",
       "  317066967,\n",
       "  248827616,\n",
       "  205015143,\n",
       "  339100596,\n",
       "  355594807,\n",
       "  74250103,\n",
       "  346051012,\n",
       "  384458766,\n",
       "  229190662,\n",
       "  200157467,\n",
       "  169617736,\n",
       "  423702890,\n",
       "  277072010,\n",
       "  510615330,\n",
       "  614699338,\n",
       "  203243746,\n",
       "  127916995,\n",
       "  117466957,\n",
       "  333622083,\n",
       "  148736995,\n",
       "  339163388,\n",
       "  543674558,\n",
       "  197389157,\n",
       "  37667868,\n",
       "  169129738,\n",
       "  18335637,\n",
       "  41823665,\n",
       "  187849541,\n",
       "  43901176,\n",
       "  414311668,\n",
       "  330191089,\n",
       "  54325911,\n",
       "  55839734,\n",
       "  43127512,\n",
       "  341726076,\n",
       "  170884588,\n",
       "  313390196,\n",
       "  149230511,\n",
       "  82725524,\n",
       "  75324476,\n",
       "  19363745,\n",
       "  240739227,\n",
       "  233684555,\n",
       "  37970606,\n",
       "  266225405,\n",
       "  351075855,\n",
       "  276540445,\n",
       "  57796770,\n",
       "  360744196,\n",
       "  106495609,\n",
       "  364376679,\n",
       "  466625828,\n",
       "  377093981,\n",
       "  227810592,\n",
       "  17546293,\n",
       "  86374298,\n",
       "  26922675,\n",
       "  193624848,\n",
       "  712842182,\n",
       "  764260777,\n",
       "  898282080,\n",
       "  533410147,\n",
       "  251159138,\n",
       "  488472375,\n",
       "  76894583,\n",
       "  134803125,\n",
       "  16468879,\n",
       "  300986659,\n",
       "  47320479,\n",
       "  71995199,\n",
       "  27018830,\n",
       "  15823888,\n",
       "  394117087,\n",
       "  274592277,\n",
       "  918210277,\n",
       "  158539771,\n",
       "  8137912,\n",
       "  38727113,\n",
       "  395443335,\n",
       "  246862931,\n",
       "  174243052,\n",
       "  80093505,\n",
       "  36639834,\n",
       "  31879657,\n",
       "  342711717,\n",
       "  600329242,\n",
       "  38427331,\n",
       "  29280169,\n",
       "  10924272,\n",
       "  84408081,\n",
       "  31468878,\n",
       "  204859134,\n",
       "  41167959,\n",
       "  16826617,\n",
       "  14690585,\n",
       "  18577285,\n",
       "  14995146,\n",
       "  22271644,\n",
       "  50025445,\n",
       "  17349191,\n",
       "  116815753,\n",
       "  492154476,\n",
       "  270938579,\n",
       "  403442717,\n",
       "  379324080,\n",
       "  342923217,\n",
       "  182432113,\n",
       "  163142628,\n",
       "  94315554,\n",
       "  118203758,\n",
       "  16403614,\n",
       "  45662367,\n",
       "  196360748,\n",
       "  21273664,\n",
       "  138560790,\n",
       "  948157879,\n",
       "  275204580,\n",
       "  36129150,\n",
       "  578306931,\n",
       "  31176691,\n",
       "  321651410,\n",
       "  301626923,\n",
       "  919820478,\n",
       "  92383580,\n",
       "  101773439,\n",
       "  186151636,\n",
       "  137820610,\n",
       "  185151666,\n",
       "  161670927,\n",
       "  28239658,\n",
       "  16129760,\n",
       "  50771033,\n",
       "  17633826,\n",
       "  166927646,\n",
       "  23453742,\n",
       "  94360439,\n",
       "  240213698,\n",
       "  32659103,\n",
       "  174397788,\n",
       "  59102189,\n",
       "  58895018,\n",
       "  93990206,\n",
       "  18144135,\n",
       "  263580296,\n",
       "  20641171,\n",
       "  85887941,\n",
       "  16686971,\n",
       "  56486420,\n",
       "  14883505,\n",
       "  40242433,\n",
       "  21881314,\n",
       "  50001430,\n",
       "  19666291,\n",
       "  39825433,\n",
       "  23804038,\n",
       "  15340496,\n",
       "  41326697,\n",
       "  41077970,\n",
       "  17022314,\n",
       "  19794121,\n",
       "  39860238,\n",
       "  43958971,\n",
       "  39511064,\n",
       "  41828632,\n",
       "  16830215,\n",
       "  28158136,\n",
       "  161329769,\n",
       "  73966830,\n",
       "  21401798,\n",
       "  22787635,\n",
       "  31196535,\n",
       "  84914116,\n",
       "  21251001,\n",
       "  14114601,\n",
       "  22970417,\n",
       "  90542658,\n",
       "  43116639,\n",
       "  48000516,\n",
       "  38407350,\n",
       "  95661331,\n",
       "  92113903,\n",
       "  37685249,\n",
       "  20248645,\n",
       "  33522957,\n",
       "  25581439,\n",
       "  24216780,\n",
       "  74455793,\n",
       "  117686302,\n",
       "  961221632,\n",
       "  540814088,\n",
       "  17059140,\n",
       "  38454809,\n",
       "  122105597,\n",
       "  25330224,\n",
       "  89481434,\n",
       "  84603092,\n",
       "  770374590,\n",
       "  249166449,\n",
       "  582453133,\n",
       "  922052666,\n",
       "  310338062,\n",
       "  430960329,\n",
       "  906399990,\n",
       "  870518744,\n",
       "  ...],\n",
       " u'BUBLIVE': -3,\n",
       " u'BerkeleyBrett': -3,\n",
       " u'Brodalumab': -3,\n",
       " u'CanyonDG': [41385297,\n",
       "  625882464,\n",
       "  24574415,\n",
       "  161151036,\n",
       "  9925112,\n",
       "  242771153,\n",
       "  20007270,\n",
       "  22787574,\n",
       "  726332756,\n",
       "  17702510,\n",
       "  48448701,\n",
       "  37059691,\n",
       "  388989803,\n",
       "  29151354,\n",
       "  36083275,\n",
       "  90205464,\n",
       "  270103457,\n",
       "  25962780,\n",
       "  36935463,\n",
       "  384023602,\n",
       "  396668133,\n",
       "  24207731,\n",
       "  15765445,\n",
       "  42205698,\n",
       "  21273871,\n",
       "  103171166,\n",
       "  79813126,\n",
       "  384715230,\n",
       "  73481302,\n",
       "  390436412,\n",
       "  64992455,\n",
       "  18183295,\n",
       "  57746503,\n",
       "  368998811,\n",
       "  117591975,\n",
       "  87060627,\n",
       "  403411161,\n",
       "  43378438,\n",
       "  20216813,\n",
       "  250452354,\n",
       "  409471411,\n",
       "  97402325,\n",
       "  19033368,\n",
       "  361448690,\n",
       "  59715092,\n",
       "  420562518,\n",
       "  33350519,\n",
       "  259395964,\n",
       "  53992168,\n",
       "  402192689,\n",
       "  82118043,\n",
       "  238724430,\n",
       "  47640207,\n",
       "  63433362,\n",
       "  27225440,\n",
       "  46568258,\n",
       "  37038386,\n",
       "  364032336,\n",
       "  11907832,\n",
       "  112191392,\n",
       "  41843392,\n",
       "  84952119,\n",
       "  216016699,\n",
       "  29308467,\n",
       "  23898455,\n",
       "  20076203,\n",
       "  24647679,\n",
       "  19044391,\n",
       "  452350170,\n",
       "  19847343,\n",
       "  554330559,\n",
       "  40667962,\n",
       "  353865728,\n",
       "  89779016,\n",
       "  560769231,\n",
       "  42041150,\n",
       "  139542606,\n",
       "  475350857,\n",
       "  42472393,\n",
       "  33157416,\n",
       "  15933336,\n",
       "  47374322,\n",
       "  62847148,\n",
       "  21039890,\n",
       "  19258576,\n",
       "  25157271,\n",
       "  364854632,\n",
       "  66300481,\n",
       "  14260700,\n",
       "  373456556,\n",
       "  35725890,\n",
       "  34093466,\n",
       "  17964318,\n",
       "  72343430,\n",
       "  58071176,\n",
       "  634932676,\n",
       "  22218252,\n",
       "  130220466,\n",
       "  172314205,\n",
       "  21230572,\n",
       "  14749818,\n",
       "  422216482,\n",
       "  16248319,\n",
       "  63458020,\n",
       "  20004168,\n",
       "  112693029,\n",
       "  15868259,\n",
       "  539313677,\n",
       "  1246171794,\n",
       "  1600626288,\n",
       "  188456954,\n",
       "  23443997,\n",
       "  1621107674,\n",
       "  575440726,\n",
       "  151072260,\n",
       "  224974595,\n",
       "  1689097100,\n",
       "  611225225,\n",
       "  1482546606,\n",
       "  1701254016,\n",
       "  1671020082,\n",
       "  1707711954,\n",
       "  494298123,\n",
       "  332878970,\n",
       "  1625650788,\n",
       "  1633492664,\n",
       "  96863903,\n",
       "  1686267494,\n",
       "  1630999158,\n",
       "  400273506,\n",
       "  770916104,\n",
       "  1028672671,\n",
       "  324405908,\n",
       "  1733321539,\n",
       "  192973273,\n",
       "  1149211422,\n",
       "  15934130,\n",
       "  77040880,\n",
       "  27586268,\n",
       "  881380681,\n",
       "  1867960932,\n",
       "  1694826931,\n",
       "  133444156,\n",
       "  100041651,\n",
       "  109539189,\n",
       "  1175218884,\n",
       "  245341096,\n",
       "  829256988,\n",
       "  1373398688,\n",
       "  1548233882,\n",
       "  478681332,\n",
       "  19533977,\n",
       "  873075163,\n",
       "  136656250,\n",
       "  81271537,\n",
       "  277119816,\n",
       "  16249338,\n",
       "  52154084,\n",
       "  16476478,\n",
       "  34061640,\n",
       "  26536776,\n",
       "  14593366,\n",
       "  129289287,\n",
       "  87267501,\n",
       "  236893625,\n",
       "  195755109,\n",
       "  41919154,\n",
       "  16909996,\n",
       "  466146978,\n",
       "  487149580,\n",
       "  564387646,\n",
       "  1315431,\n",
       "  175581429,\n",
       "  384045477,\n",
       "  571340883,\n",
       "  27307522,\n",
       "  18170255,\n",
       "  605558554,\n",
       "  16079209,\n",
       "  954827678,\n",
       "  895518667,\n",
       "  1185203726,\n",
       "  38153847,\n",
       "  16398040,\n",
       "  23723582,\n",
       "  60722815,\n",
       "  14305512,\n",
       "  190993218,\n",
       "  1325076967,\n",
       "  1279160053,\n",
       "  30237008,\n",
       "  19783381,\n",
       "  33842494,\n",
       "  182703724,\n",
       "  1523858600,\n",
       "  1582208298,\n",
       "  223690250,\n",
       "  45511529,\n",
       "  247328608,\n",
       "  720983353,\n",
       "  1146520980,\n",
       "  80698195,\n",
       "  297662876,\n",
       "  47109983,\n",
       "  157745861,\n",
       "  318194954,\n",
       "  137636110,\n",
       "  154150738,\n",
       "  43473052,\n",
       "  403692307,\n",
       "  25576644,\n",
       "  159541502,\n",
       "  602992504,\n",
       "  236219293,\n",
       "  582327846,\n",
       "  18737131,\n",
       "  458329006,\n",
       "  265761533,\n",
       "  298225631,\n",
       "  116364640,\n",
       "  741591499,\n",
       "  38324167,\n",
       "  35872232,\n",
       "  362214983,\n",
       "  52607848,\n",
       "  25291724,\n",
       "  408510648,\n",
       "  382700181,\n",
       "  710310692,\n",
       "  847599774,\n",
       "  213034547,\n",
       "  402608064,\n",
       "  113208817,\n",
       "  403476259,\n",
       "  212376748,\n",
       "  21240725,\n",
       "  102420497,\n",
       "  22672591,\n",
       "  117877652,\n",
       "  170321046,\n",
       "  30552016,\n",
       "  265209647,\n",
       "  212034975,\n",
       "  18744565,\n",
       "  784962216,\n",
       "  621049339,\n",
       "  317782675,\n",
       "  277168207,\n",
       "  148038275,\n",
       "  514555340,\n",
       "  523669976,\n",
       "  235326487,\n",
       "  168879974,\n",
       "  208718081,\n",
       "  544846459,\n",
       "  455175116,\n",
       "  43216644,\n",
       "  18201499,\n",
       "  123729617,\n",
       "  65741040,\n",
       "  1111814928,\n",
       "  23779706,\n",
       "  712466269,\n",
       "  1184224350,\n",
       "  237876038,\n",
       "  1104760111,\n",
       "  1004737315,\n",
       "  1220498744,\n",
       "  257632881,\n",
       "  166608929,\n",
       "  117773153,\n",
       "  135966908,\n",
       "  234863569,\n",
       "  274763887,\n",
       "  279094660,\n",
       "  571384978,\n",
       "  972242394,\n",
       "  286294448,\n",
       "  483412336,\n",
       "  24739467,\n",
       "  176885220,\n",
       "  306366672,\n",
       "  1483124551,\n",
       "  549519893,\n",
       "  44656712,\n",
       "  301594884,\n",
       "  14579415,\n",
       "  427939281,\n",
       "  1538967877,\n",
       "  60993457,\n",
       "  1556277726,\n",
       "  52515268,\n",
       "  1446354847,\n",
       "  96198996,\n",
       "  32951490,\n",
       "  66472903,\n",
       "  32198841,\n",
       "  946640016,\n",
       "  614659161,\n",
       "  29226020,\n",
       "  496287728,\n",
       "  767906424,\n",
       "  111383900,\n",
       "  1586305802,\n",
       "  1526859224,\n",
       "  1317601200,\n",
       "  1677204972,\n",
       "  117920393,\n",
       "  156731416,\n",
       "  109302314,\n",
       "  36677276,\n",
       "  1385796583,\n",
       "  1470241645,\n",
       "  87843856,\n",
       "  322433937,\n",
       "  272979530,\n",
       "  354584341,\n",
       "  87928155,\n",
       "  69191310,\n",
       "  29316155,\n",
       "  90060127,\n",
       "  113448119,\n",
       "  69624885,\n",
       "  119552304,\n",
       "  69967722,\n",
       "  21914926,\n",
       "  51098275,\n",
       "  435206159,\n",
       "  577339368,\n",
       "  414458052,\n",
       "  27280957,\n",
       "  764316750,\n",
       "  781022293,\n",
       "  67109812,\n",
       "  284523187,\n",
       "  1377348043,\n",
       "  275135055,\n",
       "  62983930,\n",
       "  483917079,\n",
       "  536767556,\n",
       "  1534579172,\n",
       "  256436189,\n",
       "  1600254186,\n",
       "  1428421237,\n",
       "  1171388929,\n",
       "  1444690608,\n",
       "  758644256,\n",
       "  353442669,\n",
       "  1543242920,\n",
       "  1205933816,\n",
       "  166587162,\n",
       "  198755179,\n",
       "  741521108,\n",
       "  22982936,\n",
       "  422262180,\n",
       "  873706958,\n",
       "  717317317,\n",
       "  596048263,\n",
       "  1337543586,\n",
       "  1286881135,\n",
       "  1311917792,\n",
       "  18785105,\n",
       "  1348901875,\n",
       "  55583993,\n",
       "  13966642,\n",
       "  111719378,\n",
       "  23794519,\n",
       "  21262862,\n",
       "  45717799,\n",
       "  87477469,\n",
       "  16727464,\n",
       "  58921470,\n",
       "  382100955,\n",
       "  21304596,\n",
       "  311501592,\n",
       "  51298092,\n",
       "  41073714,\n",
       "  49697329,\n",
       "  65844604,\n",
       "  44452209,\n",
       "  45954188,\n",
       "  35393635,\n",
       "  71101363,\n",
       "  199472017,\n",
       "  36386744,\n",
       "  29291514,\n",
       "  99897642,\n",
       "  20332058,\n",
       "  95062665,\n",
       "  29628840,\n",
       "  40906425,\n",
       "  23901372,\n",
       "  30258028,\n",
       "  53401590,\n",
       "  19158850,\n",
       "  24676301,\n",
       "  39998569,\n",
       "  76373450,\n",
       "  21059571,\n",
       "  317103117,\n",
       "  243258124,\n",
       "  721042976,\n",
       "  586766706,\n",
       "  75542003,\n",
       "  85580968,\n",
       "  1269553441,\n",
       "  211230781,\n",
       "  570379074,\n",
       "  95460446,\n",
       "  91698082,\n",
       "  1127207270,\n",
       "  958570520,\n",
       "  619941411,\n",
       "  905020056,\n",
       "  76872602,\n",
       "  151079345,\n",
       "  149772009,\n",
       "  149233235,\n",
       "  149088803,\n",
       "  146692767,\n",
       "  143514896,\n",
       "  142808246,\n",
       "  141259466,\n",
       "  141078065,\n",
       "  141065618,\n",
       "  140994934,\n",
       "  137427030,\n",
       "  136633292,\n",
       "  136399065,\n",
       "  136330865,\n",
       "  133613491,\n",
       "  132908702,\n",
       "  132207995,\n",
       "  132098925,\n",
       "  129924857,\n",
       "  128679064,\n",
       "  128907434,\n",
       "  128320050,\n",
       "  126700795,\n",
       "  126013958,\n",
       "  125735734,\n",
       "  125719825,\n",
       "  124907767,\n",
       "  124585552,\n",
       "  124399482,\n",
       "  124210783,\n",
       "  124197995,\n",
       "  123891423,\n",
       "  122407581,\n",
       "  121824455,\n",
       "  121808535,\n",
       "  119998980,\n",
       "  119699566,\n",
       "  119468993,\n",
       "  118407943,\n",
       "  118201135,\n",
       "  113239951,\n",
       "  113211296,\n",
       "  112848959,\n",
       "  112849197,\n",
       "  112601097,\n",
       "  112503564,\n",
       "  112257842,\n",
       "  110413780,\n",
       "  110182931,\n",
       "  109976333,\n",
       "  109469805,\n",
       "  109134364,\n",
       "  108699530,\n",
       "  108113021,\n",
       "  107509921,\n",
       "  107177606,\n",
       "  105950817,\n",
       "  105574234,\n",
       "  97099071,\n",
       "  97077641,\n",
       "  97077222,\n",
       "  97060614,\n",
       "  97030247,\n",
       "  96967023,\n",
       "  96932037,\n",
       "  96741796,\n",
       "  96673535,\n",
       "  96627838,\n",
       "  96607529,\n",
       "  96584103,\n",
       "  96472520,\n",
       "  96423396,\n",
       "  96385625,\n",
       "  96377967,\n",
       "  96252547,\n",
       "  96188223,\n",
       "  96187052,\n",
       "  96184676,\n",
       "  96182668,\n",
       "  95984482,\n",
       "  95960861,\n",
       "  95951964,\n",
       "  95685012,\n",
       "  95435717,\n",
       "  95320587,\n",
       "  95260570,\n",
       "  95249873,\n",
       "  95219881,\n",
       "  105047358,\n",
       "  105026904,\n",
       "  104955034,\n",
       "  104951784,\n",
       "  104936802,\n",
       "  104936183,\n",
       "  104903528,\n",
       "  104676769,\n",
       "  104640175,\n",
       "  104549907,\n",
       "  104546364,\n",
       "  104457989,\n",
       "  104350254,\n",
       "  104325365,\n",
       "  104270070,\n",
       "  104267322,\n",
       "  104267320,\n",
       "  104227808,\n",
       "  104201032,\n",
       "  104192944,\n",
       "  104145764,\n",
       "  104046889,\n",
       "  104013223,\n",
       "  103992026,\n",
       "  103927953,\n",
       "  103762876,\n",
       "  103739442,\n",
       "  103733182,\n",
       "  103583841,\n",
       "  103431429,\n",
       "  103417980,\n",
       "  103366453,\n",
       "  103323360,\n",
       "  103170636,\n",
       "  103087719,\n",
       "  103036095,\n",
       "  102981281,\n",
       "  102822400,\n",
       "  102814409,\n",
       "  102807033,\n",
       "  102795230,\n",
       "  102789735,\n",
       "  102690190,\n",
       "  102664006,\n",
       "  102517788,\n",
       "  102515810,\n",
       "  102507511,\n",
       "  102386255,\n",
       "  102107315,\n",
       "  102105433,\n",
       "  102072075,\n",
       "  101957575,\n",
       "  101909224,\n",
       "  101871525,\n",
       "  101790581,\n",
       "  101780498,\n",
       "  101774927,\n",
       "  101772471,\n",
       "  101668992,\n",
       "  101543638,\n",
       "  101361209,\n",
       "  101342074,\n",
       "  101336431,\n",
       "  101294012,\n",
       "  101163712,\n",
       "  101112597,\n",
       "  101015616,\n",
       "  100855232,\n",
       "  100829489,\n",
       "  100561791,\n",
       "  100429717,\n",
       "  100331774,\n",
       "  100258330,\n",
       "  100227336,\n",
       "  100040344,\n",
       "  99999491,\n",
       "  99973267,\n",
       "  99720004,\n",
       "  99625216,\n",
       "  98935687,\n",
       "  98921699,\n",
       "  98909325,\n",
       "  98838345,\n",
       "  98809713,\n",
       "  98720970,\n",
       "  98689651,\n",
       "  98610871,\n",
       "  98502301,\n",
       "  98419548,\n",
       "  98242181,\n",
       "  98195449,\n",
       "  98130605,\n",
       "  98006549,\n",
       "  97994723,\n",
       "  97968912,\n",
       "  97889577,\n",
       "  97870360,\n",
       "  97767114,\n",
       "  97760120,\n",
       "  97753624,\n",
       "  97709111,\n",
       "  97707039,\n",
       "  97690799,\n",
       "  97572689,\n",
       "  97532686,\n",
       "  97525591,\n",
       "  97523682,\n",
       "  97504844,\n",
       "  97481120,\n",
       "  97475638,\n",
       "  97338681,\n",
       "  97295283,\n",
       "  97231079,\n",
       "  96893324,\n",
       "  96888361,\n",
       "  96833078,\n",
       "  95985888,\n",
       "  96072954,\n",
       "  96178456,\n",
       "  96205471,\n",
       "  96205465,\n",
       "  95945150,\n",
       "  95889167,\n",
       "  95839656,\n",
       "  95791691,\n",
       "  95759154,\n",
       "  95716895,\n",
       "  95694574,\n",
       "  95477917,\n",
       "  95302793,\n",
       "  95112941,\n",
       "  95105971,\n",
       "  95045932,\n",
       "  94880266,\n",
       "  94851868,\n",
       "  94827431,\n",
       "  94775709,\n",
       "  94726389,\n",
       "  94721669,\n",
       "  94686725,\n",
       "  94622583,\n",
       "  94590524,\n",
       "  94586968,\n",
       "  94574246,\n",
       "  94461217,\n",
       "  94415846,\n",
       "  94412731,\n",
       "  94407890,\n",
       "  94402477,\n",
       "  94387284,\n",
       "  94384315,\n",
       "  94370999,\n",
       "  94359535,\n",
       "  94262136,\n",
       "  94138429,\n",
       "  94031276,\n",
       "  94010842,\n",
       "  94010512,\n",
       "  93970922,\n",
       "  93957865,\n",
       "  93948885,\n",
       "  93937668,\n",
       "  93912476,\n",
       "  93764202,\n",
       "  93720668,\n",
       "  93714832,\n",
       "  93707224,\n",
       "  93694818,\n",
       "  93673323,\n",
       "  93619679,\n",
       "  93354213,\n",
       "  93329235,\n",
       "  93255079,\n",
       "  93103234,\n",
       "  93089783,\n",
       "  93075088,\n",
       "  93004200,\n",
       "  92864882,\n",
       "  92777761,\n",
       "  92719664,\n",
       "  92587329,\n",
       "  92571575,\n",
       "  92570730,\n",
       "  92523413,\n",
       "  92429970,\n",
       "  92392978,\n",
       "  92334582,\n",
       "  92155062,\n",
       "  92106797,\n",
       "  92071242,\n",
       "  92052936,\n",
       "  91908523,\n",
       "  91898810,\n",
       "  91879411,\n",
       "  91858398,\n",
       "  91858294,\n",
       "  91646901,\n",
       "  91641734,\n",
       "  91471291,\n",
       "  91418632,\n",
       "  91414324,\n",
       "  91380204,\n",
       "  91341339,\n",
       "  91334483,\n",
       "  91265720,\n",
       "  91242452,\n",
       "  91213627,\n",
       "  91210979,\n",
       "  91184938,\n",
       "  91162553,\n",
       "  91114183,\n",
       "  91099887,\n",
       "  91007080,\n",
       "  90944101,\n",
       "  90943399,\n",
       "  90922570,\n",
       "  90910231,\n",
       "  90884291,\n",
       "  90810554,\n",
       "  90756755,\n",
       "  90752217,\n",
       "  90751790,\n",
       "  90740769,\n",
       "  90712203,\n",
       "  90710847,\n",
       "  1161160938,\n",
       "  26597951,\n",
       "  1521689263,\n",
       "  90676289,\n",
       "  90512694,\n",
       "  90502921,\n",
       "  90487764,\n",
       "  90433783,\n",
       "  90321860,\n",
       "  90311926,\n",
       "  90283852,\n",
       "  90279285,\n",
       "  90215750,\n",
       "  90027771,\n",
       "  90009094,\n",
       "  89984333,\n",
       "  89969567,\n",
       "  89956947,\n",
       "  89897039,\n",
       "  89894243,\n",
       "  89790332,\n",
       "  89783586,\n",
       "  89779666,\n",
       "  89760601,\n",
       "  89748083,\n",
       "  89720066,\n",
       "  89551718,\n",
       "  89530132,\n",
       "  89516978,\n",
       "  89403883,\n",
       "  89340830,\n",
       "  89325665,\n",
       "  89219961,\n",
       "  89204594,\n",
       "  89199759,\n",
       "  89196613,\n",
       "  89185851,\n",
       "  89159421,\n",
       "  89115010,\n",
       "  89098259,\n",
       "  89091966,\n",
       "  89077013,\n",
       "  88912921,\n",
       "  88912649,\n",
       "  88793496,\n",
       "  88793040,\n",
       "  88774717,\n",
       "  88690816,\n",
       "  88675794,\n",
       "  88672988,\n",
       "  88655527,\n",
       "  88643484,\n",
       "  88386799,\n",
       "  88303348,\n",
       "  88257160,\n",
       "  88207972,\n",
       "  88198921,\n",
       "  88108777,\n",
       "  87978312,\n",
       "  87972218,\n",
       "  87916935,\n",
       "  87818778,\n",
       "  87818409,\n",
       "  87783592,\n",
       "  87763446,\n",
       "  87717236,\n",
       "  87711945,\n",
       "  87633040,\n",
       "  87604686,\n",
       "  87577315,\n",
       "  87570425,\n",
       "  87556597,\n",
       "  87545511,\n",
       "  87525918,\n",
       "  87525619,\n",
       "  87522465,\n",
       "  87489192,\n",
       "  87471216,\n",
       "  87466976,\n",
       "  87465959,\n",
       "  87459037,\n",
       "  87453455,\n",
       "  87423057,\n",
       "  87413842,\n",
       "  87385057,\n",
       "  87381030,\n",
       "  87354789,\n",
       "  87342076,\n",
       "  87325947,\n",
       "  87277959,\n",
       "  87204044,\n",
       "  87148366,\n",
       "  87135405,\n",
       "  87067854,\n",
       "  87014032,\n",
       "  86836255,\n",
       "  86646524,\n",
       "  86496682,\n",
       "  86428802,\n",
       "  86229844,\n",
       "  86192905,\n",
       "  86143061,\n",
       "  86114104,\n",
       "  86103975,\n",
       "  86102873,\n",
       "  86081148,\n",
       "  86055566,\n",
       "  86033204,\n",
       "  86001999,\n",
       "  85987477,\n",
       "  85982432,\n",
       "  85961395,\n",
       "  85933384,\n",
       "  85831247,\n",
       "  85825165,\n",
       "  85808798,\n",
       "  85724600,\n",
       "  85661851,\n",
       "  85631478,\n",
       "  85615149,\n",
       "  85562831,\n",
       "  85554067,\n",
       "  85340760,\n",
       "  85332117,\n",
       "  85328202,\n",
       "  85298123,\n",
       "  85297423,\n",
       "  85253194,\n",
       "  85239949,\n",
       "  85196952,\n",
       "  85190443,\n",
       "  85156777,\n",
       "  84926508,\n",
       "  84710562,\n",
       "  84620603,\n",
       "  84617181,\n",
       "  624795451,\n",
       "  1110541068,\n",
       "  84376611,\n",
       "  84355893,\n",
       "  84326042,\n",
       "  84317389,\n",
       "  84177099,\n",
       "  84157465,\n",
       "  84120891,\n",
       "  84086848,\n",
       "  84080456,\n",
       "  84045267,\n",
       "  83945380,\n",
       "  83941330,\n",
       "  83901005,\n",
       "  83894663,\n",
       "  83887730,\n",
       "  83772072,\n",
       "  83757432,\n",
       "  83650836,\n",
       "  83648111,\n",
       "  83627714,\n",
       "  83622035,\n",
       "  83420818,\n",
       "  83385646,\n",
       "  83042948,\n",
       "  82980034,\n",
       "  82959654,\n",
       "  82881844,\n",
       "  82864831,\n",
       "  82800645,\n",
       "  82787505,\n",
       "  82786599,\n",
       "  82706896,\n",
       "  82689705,\n",
       "  82687474,\n",
       "  82677239,\n",
       "  82612047,\n",
       "  82593060,\n",
       "  82516582,\n",
       "  82411068,\n",
       "  82266253,\n",
       "  82249211,\n",
       "  82244834,\n",
       "  82218250,\n",
       "  82202096,\n",
       "  82192285,\n",
       "  82155030,\n",
       "  82060578,\n",
       "  81990644,\n",
       "  81944174,\n",
       "  81856349,\n",
       "  81825357,\n",
       "  81758491,\n",
       "  81519260,\n",
       "  81474979,\n",
       "  81441359,\n",
       "  81412484,\n",
       "  81385491,\n",
       "  81294542,\n",
       "  81209430,\n",
       "  81205700,\n",
       "  81193461,\n",
       "  81184244,\n",
       "  81176683,\n",
       "  81155467,\n",
       "  81153515,\n",
       "  81115259,\n",
       "  81112624,\n",
       "  81111150,\n",
       "  81104858,\n",
       "  81091721,\n",
       "  81078516,\n",
       "  81051939,\n",
       "  81025283,\n",
       "  80966073,\n",
       "  80958116,\n",
       "  80957825,\n",
       "  80953773,\n",
       "  80944286,\n",
       "  80919079,\n",
       "  80860554,\n",
       "  80827579,\n",
       "  80815034,\n",
       "  80754002,\n",
       "  80717977,\n",
       "  80677794,\n",
       "  80664160,\n",
       "  80634289,\n",
       "  80599647,\n",
       "  80440475,\n",
       "  80392307,\n",
       "  80387534,\n",
       "  80374058,\n",
       "  80310545,\n",
       "  80212905,\n",
       "  80121688,\n",
       "  80091499,\n",
       "  79908550,\n",
       "  79847638,\n",
       "  79771626,\n",
       "  79592746,\n",
       "  79581104,\n",
       "  79531206,\n",
       "  79494202,\n",
       "  79460232,\n",
       "  79260973,\n",
       "  79241106,\n",
       "  79225016,\n",
       "  79071186,\n",
       "  79057489,\n",
       "  79017234,\n",
       "  78988151,\n",
       "  78906950,\n",
       "  78893458,\n",
       "  78818488,\n",
       "  78719919,\n",
       "  78678281,\n",
       "  78676793,\n",
       "  78647372,\n",
       "  78615790,\n",
       "  78613668,\n",
       "  78582182,\n",
       "  78553621,\n",
       "  78506389,\n",
       "  78413431,\n",
       "  78387262,\n",
       "  78338466,\n",
       "  78313561,\n",
       "  78293556,\n",
       "  78150922,\n",
       "  78129799,\n",
       "  78104170,\n",
       "  78061764,\n",
       "  78059395,\n",
       "  ...],\n",
       " u'Cascadia': [1528514455,\n",
       "  4092153161L,\n",
       "  44622184,\n",
       "  47223899,\n",
       "  4205052081L,\n",
       "  268300227,\n",
       "  323392744,\n",
       "  3452654533L,\n",
       "  142905425,\n",
       "  906135973,\n",
       "  16320271,\n",
       "  33918301,\n",
       "  25853810,\n",
       "  371960204,\n",
       "  356902003,\n",
       "  35796774,\n",
       "  4255273000L,\n",
       "  48898073,\n",
       "  16482079,\n",
       "  327564827,\n",
       "  596912223,\n",
       "  526707589,\n",
       "  33606370,\n",
       "  448635804,\n",
       "  161070475,\n",
       "  35003987,\n",
       "  191849753,\n",
       "  19162036,\n",
       "  5988062,\n",
       "  438415410,\n",
       "  218657699,\n",
       "  3070025839L,\n",
       "  34129632,\n",
       "  2817623127L,\n",
       "  84087680,\n",
       "  543522481,\n",
       "  625518682,\n",
       "  568412239,\n",
       "  2856360912L,\n",
       "  21241095,\n",
       "  3377579446L,\n",
       "  2350222669L,\n",
       "  3001503016L,\n",
       "  19781060,\n",
       "  2759189886L,\n",
       "  305862018,\n",
       "  2835688591L,\n",
       "  330440080,\n",
       "  3148386433L,\n",
       "  3192721455L,\n",
       "  2566565568L,\n",
       "  3569763499L,\n",
       "  17850785,\n",
       "  2726973888L,\n",
       "  84957890,\n",
       "  21366222,\n",
       "  69681673,\n",
       "  2686306135L,\n",
       "  2411499398L,\n",
       "  2428348442L,\n",
       "  88507556,\n",
       "  1104425378,\n",
       "  349733705,\n",
       "  19196238,\n",
       "  1954520317,\n",
       "  3035213678L,\n",
       "  2954711,\n",
       "  3292160206L,\n",
       "  15416816,\n",
       "  2967993195L,\n",
       "  2800927812L,\n",
       "  377423094,\n",
       "  395479819,\n",
       "  386338775,\n",
       "  2916874302L,\n",
       "  24212849,\n",
       "  3484692494L,\n",
       "  2855168990L,\n",
       "  821814254,\n",
       "  33197493,\n",
       "  819791,\n",
       "  3421330847L,\n",
       "  386135734,\n",
       "  468865546,\n",
       "  14857106,\n",
       "  1269896215,\n",
       "  1247823282,\n",
       "  1566171122,\n",
       "  3289926736L,\n",
       "  81978754,\n",
       "  314546160,\n",
       "  74967302,\n",
       "  54587627,\n",
       "  204525722,\n",
       "  2278271126L,\n",
       "  18093466,\n",
       "  1852129506,\n",
       "  11426,\n",
       "  128901705,\n",
       "  3286843880L,\n",
       "  3337130829L,\n",
       "  49353,\n",
       "  23845320,\n",
       "  47678782,\n",
       "  418934617,\n",
       "  29349931,\n",
       "  118130765,\n",
       "  32431033,\n",
       "  82123384,\n",
       "  294146466,\n",
       "  327449246,\n",
       "  368158573,\n",
       "  3290364847L,\n",
       "  115121466,\n",
       "  2883278429L,\n",
       "  261075690,\n",
       "  386244784,\n",
       "  15476773,\n",
       "  15771574,\n",
       "  167951580,\n",
       "  29598867,\n",
       "  224412041,\n",
       "  962803784,\n",
       "  191902657,\n",
       "  38720364,\n",
       "  21889657,\n",
       "  48582037,\n",
       "  3398914084L,\n",
       "  12387072,\n",
       "  2163904339L,\n",
       "  873679844,\n",
       "  1468388557,\n",
       "  1968053532,\n",
       "  363343,\n",
       "  1449801013,\n",
       "  3282445818L,\n",
       "  533470553,\n",
       "  49859059,\n",
       "  47564016,\n",
       "  14947306,\n",
       "  1344919338,\n",
       "  360108175,\n",
       "  2227740732L,\n",
       "  16656100,\n",
       "  16474284,\n",
       "  2693916362L,\n",
       "  2740834702L,\n",
       "  314136028,\n",
       "  87510035,\n",
       "  108432404,\n",
       "  562106495,\n",
       "  54664757,\n",
       "  197100060,\n",
       "  59501086,\n",
       "  1564307491,\n",
       "  431006275,\n",
       "  576436187,\n",
       "  1968962180,\n",
       "  14622223,\n",
       "  374610492,\n",
       "  321677751,\n",
       "  1137996726,\n",
       "  1598751794,\n",
       "  2888908951L,\n",
       "  2893244814L,\n",
       "  167125185,\n",
       "  1041256706,\n",
       "  3420720137L,\n",
       "  2150127817L,\n",
       "  45885746,\n",
       "  29468105,\n",
       "  11142492,\n",
       "  93687723,\n",
       "  78056621,\n",
       "  19501621,\n",
       "  1673363138,\n",
       "  76481951,\n",
       "  17076146,\n",
       "  43936901,\n",
       "  45705954,\n",
       "  57348669,\n",
       "  19879080,\n",
       "  31553657,\n",
       "  533156897,\n",
       "  968906576,\n",
       "  2421170706L,\n",
       "  147470258,\n",
       "  22259774,\n",
       "  168826960,\n",
       "  66780587,\n",
       "  1238513328,\n",
       "  9629672,\n",
       "  508789152,\n",
       "  334110787,\n",
       "  125424257,\n",
       "  32124032,\n",
       "  3311328981L,\n",
       "  14813263,\n",
       "  3892295609L,\n",
       "  903456397,\n",
       "  41272346,\n",
       "  408818017,\n",
       "  3450462075L,\n",
       "  288366040,\n",
       "  21871819,\n",
       "  20864108,\n",
       "  486116974,\n",
       "  15467750,\n",
       "  54281501,\n",
       "  74748331,\n",
       "  304193115,\n",
       "  29619267,\n",
       "  222206900,\n",
       "  531202814,\n",
       "  421899032,\n",
       "  5120691,\n",
       "  3218244202L,\n",
       "  320408449,\n",
       "  18305280,\n",
       "  2472743028L,\n",
       "  931703478,\n",
       "  229888557,\n",
       "  455839715,\n",
       "  48262928,\n",
       "  34727539,\n",
       "  3241482715L,\n",
       "  2665714735L,\n",
       "  2749841086L,\n",
       "  79907783,\n",
       "  1629336979,\n",
       "  188468721,\n",
       "  139431273,\n",
       "  426410567,\n",
       "  14064120,\n",
       "  2360504148L,\n",
       "  3303160191L,\n",
       "  47402168,\n",
       "  269972865,\n",
       "  2771596210L,\n",
       "  13394752,\n",
       "  2328827605L,\n",
       "  20404593,\n",
       "  16515870,\n",
       "  1267228112,\n",
       "  1098381492,\n",
       "  239255514,\n",
       "  25110584,\n",
       "  16215968,\n",
       "  133824534,\n",
       "  2848634171L,\n",
       "  13436982,\n",
       "  18441903,\n",
       "  1876862431,\n",
       "  2466908480L,\n",
       "  3308911992L,\n",
       "  612701519,\n",
       "  40132642,\n",
       "  243012192,\n",
       "  101723730,\n",
       "  2166590948L,\n",
       "  1910728615,\n",
       "  84339536,\n",
       "  3166614452L,\n",
       "  3160219700L,\n",
       "  28633111,\n",
       "  213482476,\n",
       "  87953858,\n",
       "  121494429,\n",
       "  3102296396L,\n",
       "  3166058873L,\n",
       "  23204205,\n",
       "  3343805110L,\n",
       "  111718220,\n",
       "  3281266489L,\n",
       "  172955828,\n",
       "  102078380,\n",
       "  25960210,\n",
       "  55432291,\n",
       "  19781714,\n",
       "  2461918014L,\n",
       "  546437827,\n",
       "  2243909509L,\n",
       "  2333971856L,\n",
       "  2470250684L,\n",
       "  2782103778L,\n",
       "  2207653698L,\n",
       "  2363162424L,\n",
       "  300298615,\n",
       "  104736526,\n",
       "  3081503153L,\n",
       "  2191522328L,\n",
       "  614583190,\n",
       "  2786022733L,\n",
       "  16545558,\n",
       "  17398333,\n",
       "  3453621792L,\n",
       "  48416993,\n",
       "  3404617695L,\n",
       "  89396087,\n",
       "  20815628,\n",
       "  2601775243L,\n",
       "  125774989,\n",
       "  202011626,\n",
       "  577451683,\n",
       "  35012822,\n",
       "  63916931,\n",
       "  6017542,\n",
       "  33296195,\n",
       "  36029792,\n",
       "  32340834,\n",
       "  89897008,\n",
       "  361232852,\n",
       "  3246277742L,\n",
       "  21886719,\n",
       "  408573096,\n",
       "  36698008,\n",
       "  1603882129,\n",
       "  198174235,\n",
       "  2796095949L,\n",
       "  49453127,\n",
       "  3194548615L,\n",
       "  54411906,\n",
       "  3182523157L,\n",
       "  27666830,\n",
       "  1480278901,\n",
       "  24900247,\n",
       "  1452209803,\n",
       "  257356123,\n",
       "  90414301,\n",
       "  20167623,\n",
       "  28028273,\n",
       "  21251617,\n",
       "  71842271,\n",
       "  40303245,\n",
       "  341011768,\n",
       "  138528152,\n",
       "  19725644,\n",
       "  2916305152L,\n",
       "  381166482,\n",
       "  402957663,\n",
       "  402729784,\n",
       "  2271077131L,\n",
       "  117254085,\n",
       "  3438249279L,\n",
       "  556397098,\n",
       "  116241582,\n",
       "  14661779,\n",
       "  2838262417L,\n",
       "  349819715,\n",
       "  293659447,\n",
       "  1511493282,\n",
       "  21936894,\n",
       "  3522359773L,\n",
       "  1675778197,\n",
       "  15818339,\n",
       "  1598687438,\n",
       "  2389505612L,\n",
       "  1866247208,\n",
       "  46679867,\n",
       "  372323479,\n",
       "  41692754,\n",
       "  38739942,\n",
       "  1628755700,\n",
       "  388351666,\n",
       "  3260693269L,\n",
       "  39987999,\n",
       "  199332594,\n",
       "  224813765,\n",
       "  1898433746,\n",
       "  607805945,\n",
       "  8386942,\n",
       "  191828708,\n",
       "  467835425,\n",
       "  16146872,\n",
       "  101291114,\n",
       "  3299578802L,\n",
       "  42849093,\n",
       "  400186238,\n",
       "  2805530727L,\n",
       "  2339429240L,\n",
       "  3473272575L,\n",
       "  870174998,\n",
       "  2482659978L,\n",
       "  1588418131,\n",
       "  556569784,\n",
       "  1632273854,\n",
       "  2359633159L,\n",
       "  3266814518L,\n",
       "  868621405,\n",
       "  401762326,\n",
       "  1501944355,\n",
       "  1922334336,\n",
       "  457444522,\n",
       "  282301910,\n",
       "  97250234,\n",
       "  42995859,\n",
       "  13251382,\n",
       "  44126833,\n",
       "  203261970,\n",
       "  1469698322,\n",
       "  149706579,\n",
       "  20064866,\n",
       "  151030657,\n",
       "  96239548,\n",
       "  18539631,\n",
       "  17900666,\n",
       "  22083949,\n",
       "  502514030,\n",
       "  12414552,\n",
       "  249879158,\n",
       "  274031852,\n",
       "  2424145160L,\n",
       "  319776765,\n",
       "  56564230,\n",
       "  582931822,\n",
       "  14410756,\n",
       "  3305994116L,\n",
       "  47318164,\n",
       "  2244469219L,\n",
       "  1879833769,\n",
       "  244207489,\n",
       "  443885914,\n",
       "  18898143,\n",
       "  1409437075,\n",
       "  1373470830,\n",
       "  634233806,\n",
       "  13448172,\n",
       "  39275966,\n",
       "  19462237,\n",
       "  45192730,\n",
       "  15011134,\n",
       "  1444247364,\n",
       "  68697239,\n",
       "  14188895,\n",
       "  2970385861L,\n",
       "  227423290,\n",
       "  546893165,\n",
       "  26368450,\n",
       "  22005069,\n",
       "  90971376,\n",
       "  17007608,\n",
       "  215022574,\n",
       "  15238748,\n",
       "  414142397,\n",
       "  3214324915L,\n",
       "  1546502954,\n",
       "  360890941,\n",
       "  976561662,\n",
       "  123691211,\n",
       "  19928359,\n",
       "  2533438050L,\n",
       "  2697331046L,\n",
       "  3318046399L,\n",
       "  2648875291L,\n",
       "  277928088,\n",
       "  264552649,\n",
       "  17349474,\n",
       "  309991442,\n",
       "  2667193988L,\n",
       "  948545334,\n",
       "  2996591558L,\n",
       "  114820127,\n",
       "  1436752046,\n",
       "  322235452,\n",
       "  89575304,\n",
       "  1020710803,\n",
       "  62682239,\n",
       "  621040376,\n",
       "  2258281764L,\n",
       "  22196902,\n",
       "  22387594,\n",
       "  263814983,\n",
       "  369352845,\n",
       "  3025448141L,\n",
       "  1537812180,\n",
       "  3308752019L,\n",
       "  215875807,\n",
       "  18266804,\n",
       "  318549049,\n",
       "  205924848,\n",
       "  725990558,\n",
       "  754710770,\n",
       "  335475656,\n",
       "  352594066,\n",
       "  2522253323L,\n",
       "  69368886,\n",
       "  916060722,\n",
       "  281244257,\n",
       "  18336997,\n",
       "  78385907,\n",
       "  1964504706,\n",
       "  3113317685L,\n",
       "  1688066017,\n",
       "  2311089013L,\n",
       "  2811071894L,\n",
       "  211898317,\n",
       "  22628899,\n",
       "  104451060,\n",
       "  3364266807L,\n",
       "  3050418872L,\n",
       "  24066046,\n",
       "  1658278922,\n",
       "  2460438907L,\n",
       "  301866677,\n",
       "  82167518,\n",
       "  21797658,\n",
       "  71322014,\n",
       "  151170364,\n",
       "  14691687,\n",
       "  634837879,\n",
       "  389937851,\n",
       "  17844461,\n",
       "  16186995,\n",
       "  103534450,\n",
       "  257636572,\n",
       "  495760710,\n",
       "  2321481253L,\n",
       "  3024651301L,\n",
       "  370338527,\n",
       "  50733449,\n",
       "  946583389,\n",
       "  1297646401,\n",
       "  16350505,\n",
       "  14718315,\n",
       "  2155121862L,\n",
       "  2562106526L,\n",
       "  61489404,\n",
       "  2842883584L,\n",
       "  22053234,\n",
       "  1129331450,\n",
       "  256084727,\n",
       "  2715132254L,\n",
       "  82022671,\n",
       "  247459508,\n",
       "  346769738,\n",
       "  457613869,\n",
       "  22999611,\n",
       "  2870622961L,\n",
       "  1949796248,\n",
       "  3300738796L,\n",
       "  324176286,\n",
       "  47367118,\n",
       "  32615991,\n",
       "  20523967,\n",
       "  3313905123L,\n",
       "  2835886194L,\n",
       "  345459346,\n",
       "  1241911662,\n",
       "  14377605,\n",
       "  80400500,\n",
       "  342564678,\n",
       "  27826509,\n",
       "  15092482,\n",
       "  148991478,\n",
       "  3006536291L,\n",
       "  16356675,\n",
       "  30211479,\n",
       "  373469752,\n",
       "  405076574,\n",
       "  1113329678,\n",
       "  1378238418,\n",
       "  2317754252L,\n",
       "  2571047364L,\n",
       "  203073354,\n",
       "  2853118324L,\n",
       "  2603359631L,\n",
       "  2827049413L,\n",
       "  22701236,\n",
       "  35260982,\n",
       "  1135714760,\n",
       "  543633830,\n",
       "  28381091,\n",
       "  1173761106,\n",
       "  413455986,\n",
       "  2283969103L,\n",
       "  452343916,\n",
       "  2587536464L,\n",
       "  32337424,\n",
       "  1231875049,\n",
       "  3051955266L,\n",
       "  2808577839L,\n",
       "  2256624222L,\n",
       "  2217871722L,\n",
       "  34698999,\n",
       "  3223600974L,\n",
       "  463207223,\n",
       "  2889283273L,\n",
       "  2435194891L,\n",
       "  278227859,\n",
       "  529950318,\n",
       "  16205870,\n",
       "  34360879,\n",
       "  257121420,\n",
       "  21772531,\n",
       "  154002144,\n",
       "  2462290183L,\n",
       "  14107935,\n",
       "  2886938764L,\n",
       "  204989403,\n",
       "  2734419859L,\n",
       "  2884083963L,\n",
       "  2362878103L,\n",
       "  76966092,\n",
       "  985456056,\n",
       "  1018491,\n",
       "  157718191,\n",
       "  133737175,\n",
       "  3400807594L,\n",
       "  11388132,\n",
       "  20581448,\n",
       "  2157271723L,\n",
       "  294231556,\n",
       "  17889970,\n",
       "  1636590253,\n",
       "  212278192,\n",
       "  196186298,\n",
       "  263185048,\n",
       "  235654316,\n",
       "  182455893,\n",
       "  609303309,\n",
       "  3380758131L,\n",
       "  602879888,\n",
       "  1648659661,\n",
       "  541042800,\n",
       "  131307382,\n",
       "  22330739,\n",
       "  17675227,\n",
       "  2879709360L,\n",
       "  34021659,\n",
       "  22707820,\n",
       "  735642554,\n",
       "  15022081,\n",
       "  3437233481L,\n",
       "  34729380,\n",
       "  457661563,\n",
       "  113724175,\n",
       "  15564815,\n",
       "  346605991,\n",
       "  873411332,\n",
       "  869894239,\n",
       "  2535888001L,\n",
       "  26555466,\n",
       "  38511419,\n",
       "  1117891674,\n",
       "  21464283,\n",
       "  2873251381L,\n",
       "  264416704,\n",
       "  206434647,\n",
       "  2513882408L,\n",
       "  21599930,\n",
       "  508016763,\n",
       "  2730021517L,\n",
       "  562486687,\n",
       "  115086951,\n",
       "  36186105,\n",
       "  171580872,\n",
       "  2433807751L,\n",
       "  614384074,\n",
       "  33354388,\n",
       "  3192893413L,\n",
       "  1146072182,\n",
       "  146087560,\n",
       "  595548329,\n",
       "  1061686214,\n",
       "  24276130,\n",
       "  25507280,\n",
       "  228720795,\n",
       "  588554500,\n",
       "  41859765,\n",
       "  1508325518,\n",
       "  109685703,\n",
       "  970707618,\n",
       "  15837659,\n",
       "  19597749,\n",
       "  357599984,\n",
       "  22931893,\n",
       "  142393556,\n",
       "  904146606,\n",
       "  3200731725L,\n",
       "  348814165,\n",
       "  18071286,\n",
       "  3044909710L,\n",
       "  2800590113L,\n",
       "  851452340,\n",
       "  2299608560L,\n",
       "  1689224767,\n",
       "  2828525353L,\n",
       "  2256400662L,\n",
       "  17781835,\n",
       "  17272164,\n",
       "  140951152,\n",
       "  15588657,\n",
       "  112177253,\n",
       "  80615287,\n",
       "  2434704662L,\n",
       "  3385779213L,\n",
       "  88767114,\n",
       "  14904869,\n",
       "  252285540,\n",
       "  1308954630,\n",
       "  64443935,\n",
       "  18525227,\n",
       "  75225481,\n",
       "  806101789,\n",
       "  334336233,\n",
       "  1965457854,\n",
       "  1916418546,\n",
       "  16146592,\n",
       "  1055982930,\n",
       "  1324079232,\n",
       "  15614296,\n",
       "  456061913,\n",
       "  487600344,\n",
       "  19696161,\n",
       "  86356694,\n",
       "  183693061,\n",
       "  3366401987L,\n",
       "  2221335643L,\n",
       "  2752670337L,\n",
       "  3279729560L,\n",
       "  8161232,\n",
       "  523083751,\n",
       "  288176400,\n",
       "  3392418473L,\n",
       "  1096350211,\n",
       "  3065488856L,\n",
       "  2836290747L,\n",
       "  3141672447L,\n",
       "  216776631,\n",
       "  28181251,\n",
       "  207697742,\n",
       "  370306912,\n",
       "  2244052267L,\n",
       "  1205811475,\n",
       "  3292768484L,\n",
       "  800568745,\n",
       "  510484741,\n",
       "  2917299670L,\n",
       "  10350,\n",
       "  18255649,\n",
       "  3195764371L,\n",
       "  498961671,\n",
       "  2609696545L,\n",
       "  2480329592L,\n",
       "  408740451,\n",
       "  2453393586L,\n",
       "  485055264,\n",
       "  2485665320L,\n",
       "  55310913,\n",
       "  626902743,\n",
       "  18897186,\n",
       "  97006234,\n",
       "  95292805,\n",
       "  21717708,\n",
       "  349350075,\n",
       "  206226881,\n",
       "  61297437,\n",
       "  562078249,\n",
       "  17698701,\n",
       "  1400070884,\n",
       "  555272014,\n",
       "  299988107,\n",
       "  20519318,\n",
       "  16434861,\n",
       "  3017660766L,\n",
       "  207660339,\n",
       "  20861802,\n",
       "  537372198,\n",
       "  3121538454L,\n",
       "  2329469484L,\n",
       "  247139454,\n",
       "  525757646,\n",
       "  487664530,\n",
       "  1361238864,\n",
       "  106510358,\n",
       "  190349555,\n",
       "  97299311,\n",
       "  59163123,\n",
       "  125387649,\n",
       "  16055631,\n",
       "  31418774,\n",
       "  2363122872L,\n",
       "  21982222,\n",
       "  3003264430L,\n",
       "  47604483,\n",
       "  2483209769L,\n",
       "  2196922086L,\n",
       "  1854736507,\n",
       "  28217786,\n",
       "  46178166,\n",
       "  21317099,\n",
       "  302333242,\n",
       "  52594438,\n",
       "  5989592,\n",
       "  590412354,\n",
       "  34703607,\n",
       "  11175222,\n",
       "  3026996788L,\n",
       "  61157857,\n",
       "  1618005763,\n",
       "  459474369,\n",
       "  29480649,\n",
       "  2232193266L,\n",
       "  15846420,\n",
       "  2409975822L,\n",
       "  46740678,\n",
       "  136040318,\n",
       "  18228873,\n",
       "  2413235786L,\n",
       "  499989961,\n",
       "  329879195,\n",
       "  72168063,\n",
       "  36758529,\n",
       "  14345566,\n",
       "  3239375804L,\n",
       "  760134109,\n",
       "  1676863788,\n",
       "  2205383756L,\n",
       "  619313855,\n",
       "  3251809040L,\n",
       "  17549224,\n",
       "  13860742,\n",
       "  1155648841,\n",
       "  2826172461L,\n",
       "  885689646,\n",
       "  17347776,\n",
       "  64703161,\n",
       "  289502013,\n",
       "  18743550,\n",
       "  71316630,\n",
       "  3251189926L,\n",
       "  554867743,\n",
       "  470571772,\n",
       "  18880656,\n",
       "  2970258455L,\n",
       "  3136089726L,\n",
       "  616454050,\n",
       "  16490115,\n",
       "  72373,\n",
       "  2252421404L,\n",
       "  3357473272L,\n",
       "  15725650,\n",
       "  26640997,\n",
       "  345673106,\n",
       "  22756947,\n",
       "  17123593,\n",
       "  16132215,\n",
       "  1948277724,\n",
       "  2686130148L,\n",
       "  336070663,\n",
       "  909547129,\n",
       "  62614267,\n",
       "  2305843033L,\n",
       "  1102302979,\n",
       "  774258758,\n",
       "  274582462,\n",
       "  14456778,\n",
       "  14215426,\n",
       "  159501387,\n",
       "  1656710258,\n",
       "  3188890182L,\n",
       "  2649300703L,\n",
       "  1326859992,\n",
       "  896196481,\n",
       "  715214822,\n",
       "  813531360,\n",
       "  141328091,\n",
       "  1440665329,\n",
       "  6948,\n",
       "  1589174930,\n",
       "  1470584965,\n",
       "  22906493,\n",
       "  425115735,\n",
       "  292456709,\n",
       "  380386139,\n",
       "  3108268385L,\n",
       "  2744335349L,\n",
       "  615779491,\n",
       "  20689956,\n",
       "  3031262051L,\n",
       "  25138463,\n",
       "  588005463,\n",
       "  257090778,\n",
       "  873836305,\n",
       "  15701678,\n",
       "  17868665,\n",
       "  34701421,\n",
       "  3241888310L,\n",
       "  13924292,\n",
       "  518240271,\n",
       "  1469939407,\n",
       "  104587613,\n",
       "  17809655,\n",
       "  936701766,\n",
       "  2306349691L,\n",
       "  731073481,\n",
       "  19726613,\n",
       "  1223476910,\n",
       "  44678782,\n",
       "  36967128,\n",
       "  153868630,\n",
       "  293131808,\n",
       "  315904553,\n",
       "  1413891942,\n",
       "  3014500667L,\n",
       "  152400556,\n",
       "  623672023,\n",
       "  900071606,\n",
       "  1003036489,\n",
       "  3107780101L,\n",
       "  911688805,\n",
       "  234950327,\n",
       "  79026408,\n",
       "  1226028883,\n",
       "  59017553,\n",
       "  370092460,\n",
       "  173238976,\n",
       "  16130228,\n",
       "  185408277,\n",
       "  15936257,\n",
       "  17573212,\n",
       "  23838260,\n",
       "  229334353,\n",
       "  2468886751L,\n",
       "  1200914192,\n",
       "  266028681,\n",
       "  330743859,\n",
       "  2596389397L,\n",
       "  190880346,\n",
       "  86244951,\n",
       "  5710252,\n",
       "  182919366,\n",
       "  41822696,\n",
       "  16901293,\n",
       "  46565469,\n",
       "  12962692,\n",
       "  363997734,\n",
       "  66502033,\n",
       "  185811047,\n",
       "  100074798,\n",
       "  3305591956L,\n",
       "  49596477,\n",
       "  16195727,\n",
       "  17463660,\n",
       "  50758087,\n",
       "  368103469,\n",
       "  252794509,\n",
       "  83757924,\n",
       "  22143145,\n",
       "  18091293,\n",
       "  16955235,\n",
       "  101712079,\n",
       "  86754004,\n",
       "  120838530,\n",
       "  140980031,\n",
       "  59358475,\n",
       "  112820703,\n",
       "  15130556,\n",
       "  621109658,\n",
       "  14203726,\n",
       "  123372520,\n",
       "  297223486,\n",
       "  23344735,\n",
       "  113551724,\n",
       "  43811545,\n",
       "  96796920,\n",
       "  227503845,\n",
       "  357330189,\n",
       "  17817214,\n",
       "  18827560,\n",
       "  2489258755L,\n",
       "  17175244,\n",
       "  7724092,\n",
       "  2938894532L,\n",
       "  40664364,\n",
       "  637061870,\n",
       "  16916353,\n",
       "  116895805,\n",
       "  261808036,\n",
       "  3145511366L,\n",
       "  238278983,\n",
       "  23002591,\n",
       "  91156451,\n",
       "  215207998,\n",
       "  601035741,\n",
       "  2266466125L,\n",
       "  35146779,\n",
       "  15725870,\n",
       "  1515061801,\n",
       "  101543278,\n",
       "  3153676875L,\n",
       "  3288073935L,\n",
       "  157110591,\n",
       "  328073770,\n",
       "  974130415,\n",
       "  52585354,\n",
       "  574758251,\n",
       "  3214608939L,\n",
       "  100912826,\n",
       "  2832704322L,\n",
       "  ...],\n",
       " u'LionsheadSocial': -3,\n",
       " u'MikeBoehler': -3,\n",
       " u'NealSchaffer': -3,\n",
       " u'SportingKC': [946734294,\n",
       "  32135704,\n",
       "  156948884,\n",
       "  30690661,\n",
       "  173362701,\n",
       "  2849288116L,\n",
       "  388568630,\n",
       "  1330037756,\n",
       "  24775648,\n",
       "  14310003,\n",
       "  180465192,\n",
       "  130166709,\n",
       "  1460954688,\n",
       "  193868130,\n",
       "  452608265,\n",
       "  9672142,\n",
       "  405302018,\n",
       "  236019710,\n",
       "  1486858692,\n",
       "  701383812,\n",
       "  235455915,\n",
       "  1015488193,\n",
       "  1459850736,\n",
       "  1344303270,\n",
       "  733436348,\n",
       "  950134248,\n",
       "  68722911,\n",
       "  103943847,\n",
       "  1258123963,\n",
       "  301220100,\n",
       "  49657299,\n",
       "  163570705,\n",
       "  28637759,\n",
       "  82168703,\n",
       "  3957701352L,\n",
       "  41760126,\n",
       "  386327440,\n",
       "  54379510,\n",
       "  2278349636L,\n",
       "  199991949,\n",
       "  37836873,\n",
       "  228794007,\n",
       "  262841813,\n",
       "  277340370,\n",
       "  3224510217L,\n",
       "  338443342,\n",
       "  20791295,\n",
       "  435423541,\n",
       "  2560881480L,\n",
       "  39344610,\n",
       "  635062884,\n",
       "  41512773,\n",
       "  40351214,\n",
       "  164024647,\n",
       "  112267248,\n",
       "  543366862,\n",
       "  428525608,\n",
       "  126062445,\n",
       "  20887789,\n",
       "  42068841,\n",
       "  2978225944L,\n",
       "  14929555,\n",
       "  2904028898L,\n",
       "  138171841,\n",
       "  23772052,\n",
       "  242601373,\n",
       "  241964676,\n",
       "  211587058,\n",
       "  462287315,\n",
       "  47686520,\n",
       "  69484955,\n",
       "  394912972,\n",
       "  343638363,\n",
       "  19887143,\n",
       "  342870547,\n",
       "  2623810276L,\n",
       "  26008167,\n",
       "  143265516,\n",
       "  282105507,\n",
       "  95870075,\n",
       "  20268196,\n",
       "  201584167,\n",
       "  86135502,\n",
       "  2177084677L,\n",
       "  6861062,\n",
       "  292537706,\n",
       "  69335570,\n",
       "  381138567,\n",
       "  277001582,\n",
       "  339204462,\n",
       "  1526057173,\n",
       "  102610470,\n",
       "  435967292,\n",
       "  348994602,\n",
       "  318549214,\n",
       "  1187432544,\n",
       "  46788903,\n",
       "  528770949,\n",
       "  235494582,\n",
       "  31342235,\n",
       "  1674340819,\n",
       "  143680196,\n",
       "  297056632,\n",
       "  863894358,\n",
       "  465667306,\n",
       "  1488245940,\n",
       "  83730170,\n",
       "  158126576,\n",
       "  22534727,\n",
       "  69414440,\n",
       "  26667113,\n",
       "  109647445,\n",
       "  299674713,\n",
       "  20178419,\n",
       "  183675164,\n",
       "  35553764,\n",
       "  783226694,\n",
       "  14765585,\n",
       "  194697240,\n",
       "  28393509,\n",
       "  204731800,\n",
       "  325692297,\n",
       "  37595989,\n",
       "  3161445871L,\n",
       "  50706466,\n",
       "  131941193,\n",
       "  214634629,\n",
       "  15777512,\n",
       "  179075022,\n",
       "  329372820,\n",
       "  290724537,\n",
       "  3127619289L,\n",
       "  330782310,\n",
       "  487089991,\n",
       "  52933608,\n",
       "  570527472,\n",
       "  603162738,\n",
       "  2337049410L,\n",
       "  18956020,\n",
       "  404376187,\n",
       "  168741670,\n",
       "  36606239,\n",
       "  17355423,\n",
       "  59039715,\n",
       "  259579971,\n",
       "  945571482,\n",
       "  91655737,\n",
       "  292641189,\n",
       "  277114912,\n",
       "  141833462,\n",
       "  185733822,\n",
       "  974929135,\n",
       "  17955488,\n",
       "  268661580,\n",
       "  2820889837L,\n",
       "  370871493,\n",
       "  256333729,\n",
       "  144401269,\n",
       "  44075663,\n",
       "  261300004,\n",
       "  497297077,\n",
       "  1933166654,\n",
       "  369887447,\n",
       "  3233589750L,\n",
       "  219781437,\n",
       "  335103467,\n",
       "  327252999,\n",
       "  2927996313L,\n",
       "  3301176964L,\n",
       "  337764420,\n",
       "  1071790574,\n",
       "  259470010,\n",
       "  230314528,\n",
       "  6039302,\n",
       "  21842357,\n",
       "  2956729817L,\n",
       "  444966250,\n",
       "  43658540,\n",
       "  2975687878L,\n",
       "  872125560,\n",
       "  82977650,\n",
       "  590231919,\n",
       "  180847885,\n",
       "  372937499,\n",
       "  15786269,\n",
       "  128593679,\n",
       "  73414995,\n",
       "  2918955818L,\n",
       "  22944753,\n",
       "  376069193,\n",
       "  18992844,\n",
       "  2866586968L,\n",
       "  3233078895L,\n",
       "  872185597,\n",
       "  3010856612L,\n",
       "  17654656,\n",
       "  213000710,\n",
       "  51124892,\n",
       "  80427289,\n",
       "  2561753876L,\n",
       "  3178603986L,\n",
       "  223570687,\n",
       "  133051398,\n",
       "  148546636,\n",
       "  545360027,\n",
       "  2572754337L,\n",
       "  73189172,\n",
       "  562328782,\n",
       "  15356900,\n",
       "  392477154,\n",
       "  102176400,\n",
       "  138436606,\n",
       "  130571043,\n",
       "  206842930,\n",
       "  64831195,\n",
       "  184931855,\n",
       "  262874167,\n",
       "  313653479,\n",
       "  2820737570L,\n",
       "  455441473,\n",
       "  359008418,\n",
       "  20968161,\n",
       "  2406188682L,\n",
       "  931220864,\n",
       "  303951579,\n",
       "  234585196,\n",
       "  76777572,\n",
       "  394738636,\n",
       "  1220677470,\n",
       "  1072836356,\n",
       "  108966362,\n",
       "  150832830,\n",
       "  645043,\n",
       "  22829525,\n",
       "  118085767,\n",
       "  65212470,\n",
       "  170534070,\n",
       "  3060075330L,\n",
       "  19272161,\n",
       "  15184327,\n",
       "  41032593,\n",
       "  509124639,\n",
       "  462653810,\n",
       "  194519287,\n",
       "  27315969,\n",
       "  68713441,\n",
       "  100921224,\n",
       "  316781729,\n",
       "  213795754,\n",
       "  349206549,\n",
       "  531397864,\n",
       "  2364761748L,\n",
       "  15366333,\n",
       "  14945698,\n",
       "  2970153355L,\n",
       "  156063656,\n",
       "  883476643,\n",
       "  51976303,\n",
       "  117109920,\n",
       "  353394618,\n",
       "  453675605,\n",
       "  1586688283,\n",
       "  20703105,\n",
       "  126175069,\n",
       "  392410497,\n",
       "  434588588,\n",
       "  335056135,\n",
       "  2886700334L,\n",
       "  24130235,\n",
       "  597807657,\n",
       "  2280874544L,\n",
       "  709611510,\n",
       "  926803027,\n",
       "  1354949815,\n",
       "  62346652,\n",
       "  32220157,\n",
       "  265594699,\n",
       "  203153415,\n",
       "  2335411069L,\n",
       "  18606381,\n",
       "  2869541485L,\n",
       "  1614264122,\n",
       "  206041651,\n",
       "  39571673,\n",
       "  58799569,\n",
       "  373608010,\n",
       "  199600925,\n",
       "  72973460,\n",
       "  490012607,\n",
       "  325994885,\n",
       "  75033097,\n",
       "  23911073,\n",
       "  3047082278L,\n",
       "  21210388,\n",
       "  780738416,\n",
       "  77576433,\n",
       "  245025246,\n",
       "  922231070,\n",
       "  48652237,\n",
       "  220888698,\n",
       "  467879308,\n",
       "  361596728,\n",
       "  454898288,\n",
       "  37569898,\n",
       "  21787557,\n",
       "  25125532,\n",
       "  2394758311L,\n",
       "  272485703,\n",
       "  3053914963L,\n",
       "  1104666673,\n",
       "  15555306,\n",
       "  2746098123L,\n",
       "  1321619010,\n",
       "  180418793,\n",
       "  2167276998L,\n",
       "  24174356,\n",
       "  1226043625,\n",
       "  2992479072L,\n",
       "  1733818802,\n",
       "  114961887,\n",
       "  365994635,\n",
       "  2395125828L,\n",
       "  18627590,\n",
       "  2347982916L,\n",
       "  203162990,\n",
       "  2998843369L,\n",
       "  591418113,\n",
       "  14375439,\n",
       "  1102056728,\n",
       "  1311543824,\n",
       "  64901766,\n",
       "  128842454,\n",
       "  2279116245L,\n",
       "  2297256471L,\n",
       "  604725535,\n",
       "  1278257491,\n",
       "  20342736,\n",
       "  136402916,\n",
       "  334761614,\n",
       "  124185033,\n",
       "  2734953314L,\n",
       "  842865529,\n",
       "  373790239,\n",
       "  190268436,\n",
       "  251117055,\n",
       "  313019620,\n",
       "  487849378,\n",
       "  351998804,\n",
       "  289473976,\n",
       "  1423957944,\n",
       "  312716489,\n",
       "  15884472,\n",
       "  293380371,\n",
       "  977300190,\n",
       "  1961964883,\n",
       "  470459985,\n",
       "  1252614054,\n",
       "  20674918,\n",
       "  61329829,\n",
       "  69172593,\n",
       "  443862187,\n",
       "  87029266,\n",
       "  92538882,\n",
       "  32774989,\n",
       "  431903853,\n",
       "  110282120,\n",
       "  308515759,\n",
       "  163509933,\n",
       "  260562623,\n",
       "  293705365,\n",
       "  155238426,\n",
       "  545465127,\n",
       "  204199706,\n",
       "  998362244,\n",
       "  16572109,\n",
       "  86972419,\n",
       "  155997273,\n",
       "  69385983,\n",
       "  362742545,\n",
       "  2833284253L,\n",
       "  2597601315L,\n",
       "  112513497,\n",
       "  297043601,\n",
       "  391498653,\n",
       "  1063832070,\n",
       "  245874711,\n",
       "  329896130,\n",
       "  72470465,\n",
       "  360624135,\n",
       "  1275886273,\n",
       "  74657260,\n",
       "  240538288,\n",
       "  59230820,\n",
       "  20450157,\n",
       "  500259895,\n",
       "  173243028,\n",
       "  834005010,\n",
       "  1176671396,\n",
       "  2574860430L,\n",
       "  18034273,\n",
       "  28384322,\n",
       "  342178792,\n",
       "  2841146601L,\n",
       "  2883998617L,\n",
       "  20535886,\n",
       "  294660973,\n",
       "  343677373,\n",
       "  528209304,\n",
       "  352833638,\n",
       "  14522289,\n",
       "  327000845,\n",
       "  104322937,\n",
       "  336541509,\n",
       "  173135944,\n",
       "  357750891,\n",
       "  726960710,\n",
       "  20702470,\n",
       "  260376991,\n",
       "  60655696,\n",
       "  353226669,\n",
       "  614800504,\n",
       "  251421164,\n",
       "  2747584837L,\n",
       "  38772116,\n",
       "  372524211,\n",
       "  1578149239,\n",
       "  284750553,\n",
       "  2541999628L,\n",
       "  5754642,\n",
       "  29304837,\n",
       "  38376330,\n",
       "  1164671371,\n",
       "  1325485933,\n",
       "  2184735924L,\n",
       "  2300632452L,\n",
       "  45717203,\n",
       "  50209779,\n",
       "  265449750,\n",
       "  326529359,\n",
       "  1047111847,\n",
       "  414545070,\n",
       "  2843760452L,\n",
       "  612854349,\n",
       "  578157190,\n",
       "  27984254,\n",
       "  332962025,\n",
       "  20961886,\n",
       "  408811616,\n",
       "  269335247,\n",
       "  354115400,\n",
       "  111967631,\n",
       "  703972614,\n",
       "  137234400,\n",
       "  2318077226L,\n",
       "  472281681,\n",
       "  73474563,\n",
       "  18952880,\n",
       "  2839228199L,\n",
       "  103394372,\n",
       "  244290478,\n",
       "  142704182,\n",
       "  266033697,\n",
       "  15826153,\n",
       "  531654317,\n",
       "  136004247,\n",
       "  74130577,\n",
       "  382685028,\n",
       "  106878438,\n",
       "  1539091620,\n",
       "  1483848048,\n",
       "  2323500126L,\n",
       "  17810539,\n",
       "  1013399341,\n",
       "  70748329,\n",
       "  524894891,\n",
       "  17146214,\n",
       "  139975418,\n",
       "  24055603,\n",
       "  268540558,\n",
       "  1335503070,\n",
       "  604912709,\n",
       "  2330590446L,\n",
       "  497477018,\n",
       "  315872750,\n",
       "  312240466,\n",
       "  33818070,\n",
       "  2253907465L,\n",
       "  61565559,\n",
       "  176863279,\n",
       "  380664310,\n",
       "  2470119087L,\n",
       "  27716044,\n",
       "  390293548,\n",
       "  433821655,\n",
       "  262218145,\n",
       "  67365340,\n",
       "  1961569146,\n",
       "  421368834,\n",
       "  156521047,\n",
       "  1963469161,\n",
       "  299431654,\n",
       "  314332199,\n",
       "  27834145,\n",
       "  344417727,\n",
       "  101640775,\n",
       "  1041631087,\n",
       "  219781132,\n",
       "  38342491,\n",
       "  133426105,\n",
       "  46125374,\n",
       "  378151538,\n",
       "  70778693,\n",
       "  15226466,\n",
       "  2326329716L,\n",
       "  834153606,\n",
       "  475452478,\n",
       "  1641955056,\n",
       "  538246120,\n",
       "  242417517,\n",
       "  4834131,\n",
       "  30010982,\n",
       "  20188834,\n",
       "  2725202947L,\n",
       "  310061495,\n",
       "  571371777,\n",
       "  18315126,\n",
       "  70481085,\n",
       "  92639420,\n",
       "  379479459,\n",
       "  136201836,\n",
       "  198521390,\n",
       "  112844468,\n",
       "  1639206342,\n",
       "  57252373,\n",
       "  416836755,\n",
       "  229221332,\n",
       "  27980525,\n",
       "  703803998,\n",
       "  113420831,\n",
       "  116331114,\n",
       "  43599947,\n",
       "  263942239,\n",
       "  209542804,\n",
       "  859669998,\n",
       "  50352068,\n",
       "  216427303,\n",
       "  21073108,\n",
       "  2638783920L,\n",
       "  1957174507,\n",
       "  455445415,\n",
       "  81338966,\n",
       "  23219138,\n",
       "  41406139,\n",
       "  1526228120,\n",
       "  232747417,\n",
       "  269572844,\n",
       "  22798141,\n",
       "  71838756,\n",
       "  26040944,\n",
       "  40390377,\n",
       "  54238128,\n",
       "  89206624,\n",
       "  48298347,\n",
       "  317725442,\n",
       "  821867190,\n",
       "  249584030,\n",
       "  1428219750,\n",
       "  14885860,\n",
       "  16877611,\n",
       "  7302282,\n",
       "  62103,\n",
       "  31059230,\n",
       "  430183326,\n",
       "  1336826708,\n",
       "  1051043430,\n",
       "  107749661,\n",
       "  19733898,\n",
       "  93542744,\n",
       "  260547585,\n",
       "  507725123,\n",
       "  1686221868,\n",
       "  276111824,\n",
       "  28584781,\n",
       "  260010205,\n",
       "  19750789,\n",
       "  1216065932,\n",
       "  34036028,\n",
       "  25993894,\n",
       "  166241933,\n",
       "  23617449,\n",
       "  306618281,\n",
       "  230286729,\n",
       "  23978337,\n",
       "  378193359,\n",
       "  1230958225,\n",
       "  185737367,\n",
       "  305045342,\n",
       "  23236332,\n",
       "  30979042,\n",
       "  73987594,\n",
       "  193426898,\n",
       "  865300418,\n",
       "  223391076,\n",
       "  84347944,\n",
       "  14285856,\n",
       "  162451505,\n",
       "  1430543952,\n",
       "  2313886116L,\n",
       "  384724407,\n",
       "  7141302,\n",
       "  459904397,\n",
       "  157999955,\n",
       "  16331004,\n",
       "  18558612,\n",
       "  504897306,\n",
       "  35028566,\n",
       "  348877144,\n",
       "  1438424941,\n",
       "  121574840,\n",
       "  139851174,\n",
       "  290803907,\n",
       "  473234871,\n",
       "  85967211,\n",
       "  190515154,\n",
       "  149536206,\n",
       "  222346379,\n",
       "  410469810,\n",
       "  29560258,\n",
       "  13049362,\n",
       "  131937910,\n",
       "  17874544,\n",
       "  17220613,\n",
       "  1550976216,\n",
       "  21336731,\n",
       "  282797346,\n",
       "  22743868,\n",
       "  2511477648L,\n",
       "  2477591186L,\n",
       "  330599949,\n",
       "  565901419,\n",
       "  53096146,\n",
       "  2361986612L,\n",
       "  561516199,\n",
       "  42074350,\n",
       "  15384506,\n",
       "  1329744810,\n",
       "  271639378,\n",
       "  2201928733L,\n",
       "  2478641095L,\n",
       "  230240193,\n",
       "  89225092,\n",
       "  1686729252,\n",
       "  103550181,\n",
       "  111192152,\n",
       "  18698751,\n",
       "  204821960,\n",
       "  14218474,\n",
       "  1270236474,\n",
       "  2446978478L,\n",
       "  31602343,\n",
       "  88461543,\n",
       "  17004865,\n",
       "  50796459,\n",
       "  398488405,\n",
       "  231251194,\n",
       "  1673794686,\n",
       "  394724434,\n",
       "  68429470,\n",
       "  857296202,\n",
       "  350708983,\n",
       "  151606235,\n",
       "  57214643,\n",
       "  364652809,\n",
       "  28635925,\n",
       "  80398701,\n",
       "  2312853355L,\n",
       "  28744383,\n",
       "  14645160,\n",
       "  2281230793L,\n",
       "  2182813171L,\n",
       "  65414320,\n",
       "  2456998898L,\n",
       "  16283322,\n",
       "  522792281,\n",
       "  2413176055L,\n",
       "  1393563438,\n",
       "  39544809,\n",
       "  27933807,\n",
       "  56766052,\n",
       "  2435974795L,\n",
       "  18680323,\n",
       "  43381918,\n",
       "  354936759,\n",
       "  2434043401L,\n",
       "  576713162,\n",
       "  34082314,\n",
       "  78173848,\n",
       "  184844913,\n",
       "  523467122,\n",
       "  414994284,\n",
       "  263667903,\n",
       "  770429666,\n",
       "  351238538,\n",
       "  1663611852,\n",
       "  569649154,\n",
       "  343066651,\n",
       "  40928027,\n",
       "  393637215,\n",
       "  1160768587,\n",
       "  483508603,\n",
       "  83873759,\n",
       "  260000614,\n",
       "  275241710,\n",
       "  27082559,\n",
       "  2306896730L,\n",
       "  1726138987,\n",
       "  314843251,\n",
       "  588411690,\n",
       "  15099813,\n",
       "  406988145,\n",
       "  1466250427,\n",
       "  617598396,\n",
       "  16337459,\n",
       "  90711442,\n",
       "  19088916,\n",
       "  606661404,\n",
       "  121285905,\n",
       "  37313098,\n",
       "  2384033952L,\n",
       "  60704215,\n",
       "  1712231366,\n",
       "  41109987,\n",
       "  317497972,\n",
       "  1359817200,\n",
       "  37040550,\n",
       "  2379427397L,\n",
       "  2262995017L,\n",
       "  2274686617L,\n",
       "  14980903,\n",
       "  74377058,\n",
       "  1639244334,\n",
       "  337322712,\n",
       "  555241086,\n",
       "  27986223,\n",
       "  17295354,\n",
       "  43013485,\n",
       "  255657736,\n",
       "  234521957,\n",
       "  1686960150,\n",
       "  35069260,\n",
       "  1016362003,\n",
       "  332576976,\n",
       "  139235403,\n",
       "  243740660,\n",
       "  169538164,\n",
       "  40058079,\n",
       "  108101679,\n",
       "  31449020,\n",
       "  33523219,\n",
       "  210537024,\n",
       "  304173626,\n",
       "  37521145,\n",
       "  2285276202L,\n",
       "  2238140497L,\n",
       "  525787220,\n",
       "  28279720,\n",
       "  1579970678,\n",
       "  252875130,\n",
       "  314662792,\n",
       "  24175808,\n",
       "  21091403,\n",
       "  14905551,\n",
       "  166557673,\n",
       "  776202684,\n",
       "  126216491,\n",
       "  463732773,\n",
       "  593970687,\n",
       "  2266623276L,\n",
       "  34409137,\n",
       "  29711770,\n",
       "  307541818,\n",
       "  35356749,\n",
       "  2163176418L,\n",
       "  69505340,\n",
       "  17765045,\n",
       "  337489739,\n",
       "  356953184,\n",
       "  620368357,\n",
       "  286990344,\n",
       "  16442745,\n",
       "  599474445,\n",
       "  16689258,\n",
       "  167154890,\n",
       "  78194361,\n",
       "  281019043,\n",
       "  586671909,\n",
       "  376502929,\n",
       "  21577629,\n",
       "  47514163,\n",
       "  475519690,\n",
       "  1398629364,\n",
       "  215903121,\n",
       "  543888790,\n",
       "  12670592,\n",
       "  444173365,\n",
       "  2275651531L,\n",
       "  192300607,\n",
       "  15486880,\n",
       "  285958025,\n",
       "  283308297,\n",
       "  300137787,\n",
       "  70516861,\n",
       "  769924160,\n",
       "  602151655,\n",
       "  596824403,\n",
       "  1534012644,\n",
       "  1038164293,\n",
       "  1528780759,\n",
       "  37599351,\n",
       "  1327378508,\n",
       "  1075322342,\n",
       "  584368982,\n",
       "  1264587222,\n",
       "  336609435,\n",
       "  209630694,\n",
       "  42478405,\n",
       "  316700618,\n",
       "  44349362,\n",
       "  936128640,\n",
       "  412717978,\n",
       "  50863281,\n",
       "  56812350,\n",
       "  586999603,\n",
       "  552299133,\n",
       "  135560807,\n",
       "  18302640,\n",
       "  139304581,\n",
       "  13111552,\n",
       "  16429852,\n",
       "  416376338,\n",
       "  30084996,\n",
       "  9887222,\n",
       "  71870515,\n",
       "  1152272539,\n",
       "  159684514,\n",
       "  1626706646,\n",
       "  25831753,\n",
       "  194180292,\n",
       "  202893728,\n",
       "  2253885967L,\n",
       "  1356134767,\n",
       "  229119047,\n",
       "  64862600,\n",
       "  408857048,\n",
       "  1383036762,\n",
       "  381878695,\n",
       "  554779723,\n",
       "  1681887558,\n",
       "  830009341,\n",
       "  1666162632,\n",
       "  132989740,\n",
       "  2208252295L,\n",
       "  21754872,\n",
       "  365603329,\n",
       "  148823582,\n",
       "  314895027,\n",
       "  893167046,\n",
       "  16951329,\n",
       "  45897801,\n",
       "  1358062944,\n",
       "  23875419,\n",
       "  1225767457,\n",
       "  408606985,\n",
       "  170002466,\n",
       "  40924038,\n",
       "  97276235,\n",
       "  595035642,\n",
       "  500201819,\n",
       "  2231915576L,\n",
       "  563942560,\n",
       "  89193992,\n",
       "  251278676,\n",
       "  120245328,\n",
       "  30328609,\n",
       "  551396486,\n",
       "  1058215248,\n",
       "  156849277,\n",
       "  18011681,\n",
       "  716657822,\n",
       "  31222715,\n",
       "  214720856,\n",
       "  429116308,\n",
       "  21134190,\n",
       "  21413442,\n",
       "  127883555,\n",
       "  248900032,\n",
       "  49376425,\n",
       "  22051016,\n",
       "  357516139,\n",
       "  335682606,\n",
       "  1095779690,\n",
       "  17795756,\n",
       "  424419978,\n",
       "  112477030,\n",
       "  19156228,\n",
       "  179559238,\n",
       "  309179868,\n",
       "  469440330,\n",
       "  485511296,\n",
       "  259925559,\n",
       "  344634424,\n",
       "  20615807,\n",
       "  30981244,\n",
       "  213478742,\n",
       "  1470722864,\n",
       "  27195114,\n",
       "  352778835,\n",
       "  39514461,\n",
       "  11856342,\n",
       "  44733950,\n",
       "  256617984,\n",
       "  890891,\n",
       "  202262903,\n",
       "  18632666,\n",
       "  492610857,\n",
       "  2179370466L,\n",
       "  1648008498,\n",
       "  16426550,\n",
       "  42792645,\n",
       "  500260670,\n",
       "  491460446,\n",
       "  162524792,\n",
       "  32435247,\n",
       "  241209954,\n",
       "  972525522,\n",
       "  1364890495,\n",
       "  365126367,\n",
       "  12266442,\n",
       "  112797929,\n",
       "  749391336,\n",
       "  982603711,\n",
       "  20521634,\n",
       "  36192892,\n",
       "  287274056,\n",
       "  474346219,\n",
       "  260276311,\n",
       "  83030972,\n",
       "  1193582226,\n",
       "  37547375,\n",
       "  25520812,\n",
       "  42219815,\n",
       "  755093875,\n",
       "  117886880,\n",
       "  568302114,\n",
       "  811633596,\n",
       "  1219903310,\n",
       "  140506430,\n",
       "  36384288,\n",
       "  235835325,\n",
       "  462522596,\n",
       "  187560880,\n",
       "  18084431,\n",
       "  25087719,\n",
       "  289155375,\n",
       "  336524946,\n",
       "  600500001,\n",
       "  328838071,\n",
       "  343858139,\n",
       "  23260786,\n",
       "  327115404,\n",
       "  251232208,\n",
       "  446009561,\n",
       "  101602676,\n",
       "  134823942,\n",
       "  118492601,\n",
       "  505943120,\n",
       "  594211385,\n",
       "  169640417,\n",
       "  114082403,\n",
       "  143198015,\n",
       "  429540606,\n",
       "  117784702,\n",
       "  1283234934,\n",
       "  203939490,\n",
       "  278781238,\n",
       "  29722431,\n",
       "  275604024,\n",
       "  44429110,\n",
       "  26423464,\n",
       "  30028848,\n",
       "  134517120,\n",
       "  331843044,\n",
       "  41008438,\n",
       "  16496916,\n",
       "  1071578484,\n",
       "  1117418239,\n",
       "  2155105328L,\n",
       "  151989021,\n",
       "  273727136,\n",
       "  590316679,\n",
       "  ...],\n",
       " u'TeeGreek': -3,\n",
       " u'ccrealty2': -3,\n",
       " u'davidhoffmanca': -3,\n",
       " u'gerenciatodos': -3,\n",
       " u'pauljstill': [1604158279,\n",
       "  80880654,\n",
       "  343466192,\n",
       "  2727514705L,\n",
       "  58368604,\n",
       "  14604870,\n",
       "  36198161,\n",
       "  41436687,\n",
       "  272570677,\n",
       "  314049912,\n",
       "  2911643831L,\n",
       "  3001500039L,\n",
       "  3091281650L,\n",
       "  2152261850L,\n",
       "  14681579,\n",
       "  3031723917L,\n",
       "  288455050,\n",
       "  2970280557L,\n",
       "  373440435,\n",
       "  2834425126L,\n",
       "  2830473218L,\n",
       "  2596989619L,\n",
       "  2840736022L,\n",
       "  2830478759L,\n",
       "  2326835128L,\n",
       "  2268730658L,\n",
       "  2573182653L,\n",
       "  3015657827L,\n",
       "  2863890924L,\n",
       "  1681333219,\n",
       "  2816951591L,\n",
       "  2953320545L,\n",
       "  2360580397L,\n",
       "  2327565617L,\n",
       "  2199229363L,\n",
       "  2463684475L,\n",
       "  1446035245,\n",
       "  1478784073,\n",
       "  2777395750L,\n",
       "  1445779555,\n",
       "  87839537,\n",
       "  1967291292,\n",
       "  2226226448L,\n",
       "  529492882,\n",
       "  287972428,\n",
       "  135096415,\n",
       "  3053446618L,\n",
       "  16702987,\n",
       "  1295069323,\n",
       "  2839914131L,\n",
       "  919103371,\n",
       "  2729928980L,\n",
       "  1956438884,\n",
       "  3002998814L,\n",
       "  3084236149L,\n",
       "  17607834,\n",
       "  3044690404L,\n",
       "  2458876147L,\n",
       "  35432643,\n",
       "  285019665,\n",
       "  15736190,\n",
       "  18638800,\n",
       "  18776131,\n",
       "  7738402,\n",
       "  755859,\n",
       "  10224132,\n",
       "  3325171,\n",
       "  23487693,\n",
       "  18214171,\n",
       "  5658692,\n",
       "  19594632,\n",
       "  12277852,\n",
       "  26784830,\n",
       "  19899656,\n",
       "  15392494,\n",
       "  20836813,\n",
       "  2891059139L,\n",
       "  115038550,\n",
       "  2951582166L,\n",
       "  2995206024L,\n",
       "  2571535918L,\n",
       "  246309084,\n",
       "  2898493626L,\n",
       "  451236111,\n",
       "  147083914,\n",
       "  2655139879L,\n",
       "  2588216628L,\n",
       "  2604135938L,\n",
       "  1240274491,\n",
       "  293703561,\n",
       "  2593632253L,\n",
       "  3020853470L,\n",
       "  1863423638,\n",
       "  612052880,\n",
       "  2902898615L,\n",
       "  3078956085L,\n",
       "  170316520,\n",
       "  2835980975L,\n",
       "  2724082669L,\n",
       "  2729568667L,\n",
       "  297122566,\n",
       "  2822117268L,\n",
       "  2787732759L,\n",
       "  249328769,\n",
       "  13470712,\n",
       "  34820881,\n",
       "  250047167,\n",
       "  15802944,\n",
       "  1351906092,\n",
       "  2984882128L,\n",
       "  3091713576L,\n",
       "  2945980573L,\n",
       "  2179719390L,\n",
       "  3031798300L,\n",
       "  757557446,\n",
       "  563943983,\n",
       "  234110545,\n",
       "  53006008,\n",
       "  1580143458,\n",
       "  3097379344L,\n",
       "  2968445933L,\n",
       "  2904561473L,\n",
       "  58474131,\n",
       "  552276701,\n",
       "  248807431,\n",
       "  258677858,\n",
       "  267740145,\n",
       "  61819832,\n",
       "  258022594,\n",
       "  90779436,\n",
       "  249524030,\n",
       "  282399145,\n",
       "  61933836,\n",
       "  785680304,\n",
       "  161418822,\n",
       "  2982068825L,\n",
       "  627495228,\n",
       "  490217311,\n",
       "  927725810,\n",
       "  18545154,\n",
       "  1223665806,\n",
       "  437782869,\n",
       "  1842939716,\n",
       "  357591746,\n",
       "  916924304,\n",
       "  1033309381,\n",
       "  2196934926L,\n",
       "  735520507,\n",
       "  1681979850,\n",
       "  1120917445,\n",
       "  2214892021L,\n",
       "  241312286,\n",
       "  1445365338,\n",
       "  2692899006L,\n",
       "  1085315216,\n",
       "  591569861,\n",
       "  797450880,\n",
       "  573457713,\n",
       "  1949854790,\n",
       "  2878758784L,\n",
       "  560185254,\n",
       "  2505962426L,\n",
       "  1265698381,\n",
       "  1056017108,\n",
       "  308359681,\n",
       "  437203742,\n",
       "  2400908066L,\n",
       "  546989438,\n",
       "  547852438,\n",
       "  858780679,\n",
       "  1492124791,\n",
       "  1516689450,\n",
       "  750665742,\n",
       "  847264010,\n",
       "  1568782699,\n",
       "  2825472446L,\n",
       "  522311621,\n",
       "  1480464205,\n",
       "  42299296,\n",
       "  2913897405L,\n",
       "  2913609385L,\n",
       "  2851176472L,\n",
       "  2886168718L,\n",
       "  2753084731L,\n",
       "  2579178960L,\n",
       "  3009296868L,\n",
       "  2890912172L,\n",
       "  616314824,\n",
       "  2780951222L,\n",
       "  2891312862L,\n",
       "  474050137,\n",
       "  2970690429L,\n",
       "  2960262243L,\n",
       "  2794624633L,\n",
       "  2962027619L,\n",
       "  2864584123L,\n",
       "  2159582902L,\n",
       "  2295045594L,\n",
       "  16627977,\n",
       "  2696634110L,\n",
       "  1140721526,\n",
       "  1322131417,\n",
       "  1210398841,\n",
       "  85741515,\n",
       "  2958902316L,\n",
       "  335364907,\n",
       "  2840559765L,\n",
       "  966649369,\n",
       "  1093259156,\n",
       "  59565051,\n",
       "  2577040514L,\n",
       "  3092264626L,\n",
       "  185652832,\n",
       "  3010067396L,\n",
       "  1677105614,\n",
       "  2988679455L,\n",
       "  2965363414L,\n",
       "  37114611,\n",
       "  2831490574L,\n",
       "  786956040,\n",
       "  1406527728,\n",
       "  1071773108,\n",
       "  2888128413L,\n",
       "  1613732965,\n",
       "  550499771,\n",
       "  2916264709L,\n",
       "  2984553941L,\n",
       "  2356313124L,\n",
       "  619689145,\n",
       "  2614663087L,\n",
       "  911780719,\n",
       "  2374674293L,\n",
       "  328997990,\n",
       "  2746199605L,\n",
       "  3026309520L,\n",
       "  2915111497L,\n",
       "  2282947322L,\n",
       "  2369643920L,\n",
       "  1368658950,\n",
       "  3074663664L,\n",
       "  2592283309L,\n",
       "  2236621262L,\n",
       "  2752461188L,\n",
       "  1345111280,\n",
       "  85215038,\n",
       "  600636752,\n",
       "  222221274,\n",
       "  15775181,\n",
       "  285888271,\n",
       "  231992478,\n",
       "  34068984,\n",
       "  234526497,\n",
       "  22784458,\n",
       "  290097288,\n",
       "  563890459,\n",
       "  116952434,\n",
       "  40713842,\n",
       "  121207255,\n",
       "  76587180,\n",
       "  18742444,\n",
       "  1418559830,\n",
       "  477312189,\n",
       "  121226571,\n",
       "  544014479,\n",
       "  2463832645L,\n",
       "  155620461,\n",
       "  330032944,\n",
       "  606957514,\n",
       "  141021153,\n",
       "  1228578434,\n",
       "  571043602,\n",
       "  31524543,\n",
       "  267589102,\n",
       "  1434589123,\n",
       "  147558951,\n",
       "  621606768,\n",
       "  1612373636,\n",
       "  15853668,\n",
       "  1317067591,\n",
       "  900618145,\n",
       "  345475302,\n",
       "  532450135,\n",
       "  983858238,\n",
       "  362267407,\n",
       "  244441120,\n",
       "  388636270,\n",
       "  120571340,\n",
       "  947027576,\n",
       "  3076426943L,\n",
       "  2908582792L,\n",
       "  2984334208L,\n",
       "  337872538,\n",
       "  1046992063,\n",
       "  143803617,\n",
       "  1206216140,\n",
       "  2766039592L,\n",
       "  242533951,\n",
       "  2922393845L,\n",
       "  3064101094L,\n",
       "  2277081613L,\n",
       "  2803744010L,\n",
       "  3037788886L,\n",
       "  2873296413L,\n",
       "  2576433645L,\n",
       "  2761815594L,\n",
       "  2408075744L,\n",
       "  2448176685L,\n",
       "  1705607832,\n",
       "  42300444,\n",
       "  380020286,\n",
       "  536582958,\n",
       "  404538434,\n",
       "  488671006,\n",
       "  2820846285L,\n",
       "  813632732,\n",
       "  2713310191L,\n",
       "  2198961685L,\n",
       "  2733857471L,\n",
       "  2544589878L,\n",
       "  2682736249L,\n",
       "  344289415,\n",
       "  2302966247L,\n",
       "  2741319518L,\n",
       "  2700708499L,\n",
       "  1140307843,\n",
       "  2620061652L,\n",
       "  2249750464L,\n",
       "  917468900,\n",
       "  16047616,\n",
       "  451541670,\n",
       "  2800801992L,\n",
       "  269019957,\n",
       "  125780892,\n",
       "  956097156,\n",
       "  2451122220L,\n",
       "  2408900384L,\n",
       "  493229718,\n",
       "  3024866914L,\n",
       "  2933768085L,\n",
       "  550500722,\n",
       "  2465122099L,\n",
       "  2310268631L,\n",
       "  3018965028L,\n",
       "  2595563696L,\n",
       "  2767485815L,\n",
       "  321459483,\n",
       "  321644264,\n",
       "  1342368511,\n",
       "  163723173,\n",
       "  1636214222,\n",
       "  1321297008,\n",
       "  1561527823,\n",
       "  1314485400,\n",
       "  460698147,\n",
       "  2722315017L,\n",
       "  842783948,\n",
       "  1448709566,\n",
       "  2941883627L,\n",
       "  2937925363L,\n",
       "  2870600019L,\n",
       "  611862241,\n",
       "  2696823469L,\n",
       "  451955384,\n",
       "  2901855011L,\n",
       "  1198809380,\n",
       "  2785216693L,\n",
       "  2381085386L,\n",
       "  2941081368L,\n",
       "  2862955517L,\n",
       "  1581422125,\n",
       "  2396486593L,\n",
       "  2788721117L,\n",
       "  274287997,\n",
       "  2533858286L,\n",
       "  2823576970L,\n",
       "  2900020098L,\n",
       "  399145262,\n",
       "  2977888653L,\n",
       "  2825648882L,\n",
       "  2587699218L,\n",
       "  2812385954L,\n",
       "  363811679,\n",
       "  238431491,\n",
       "  2910129933L,\n",
       "  2163870470L,\n",
       "  828027691,\n",
       "  1636590253,\n",
       "  1394399438,\n",
       "  2333845129L,\n",
       "  395831974,\n",
       "  455199894,\n",
       "  813826214,\n",
       "  16298441,\n",
       "  1853700517,\n",
       "  15296714,\n",
       "  1559492731,\n",
       "  555063287,\n",
       "  18892213,\n",
       "  407490906,\n",
       "  15399324,\n",
       "  78064250,\n",
       "  95506666,\n",
       "  94147925,\n",
       "  421682651,\n",
       "  33596152,\n",
       "  1530389737,\n",
       "  370205144,\n",
       "  423987435,\n",
       "  255393131,\n",
       "  54659812,\n",
       "  1228206638,\n",
       "  284580418,\n",
       "  2685319825L,\n",
       "  2939553684L,\n",
       "  756369356,\n",
       "  31257471,\n",
       "  1028389675,\n",
       "  2238507066L,\n",
       "  934837063,\n",
       "  327184784,\n",
       "  2996539577L,\n",
       "  14340145,\n",
       "  1629244514,\n",
       "  2826801403L,\n",
       "  40587059,\n",
       "  41815273,\n",
       "  2883501093L,\n",
       "  2999300717L,\n",
       "  126266568,\n",
       "  2315775726L,\n",
       "  1875028320,\n",
       "  48475777,\n",
       "  846399702,\n",
       "  2874050447L,\n",
       "  1656203113,\n",
       "  3013522754L,\n",
       "  47030292,\n",
       "  2891468922L,\n",
       "  2480574882L,\n",
       "  47661343,\n",
       "  2813659678L,\n",
       "  287465957,\n",
       "  21283508,\n",
       "  2446234291L,\n",
       "  2541413052L,\n",
       "  634104898,\n",
       "  317881849,\n",
       "  1546868258,\n",
       "  2528619619L,\n",
       "  2921012742L,\n",
       "  2996462212L,\n",
       "  2996527011L,\n",
       "  1525020722,\n",
       "  459601671,\n",
       "  3016130465L,\n",
       "  33014441,\n",
       "  1933042237,\n",
       "  2872266653L,\n",
       "  716701062,\n",
       "  403755157,\n",
       "  1693318021,\n",
       "  25439493,\n",
       "  2786200958L,\n",
       "  2906694478L,\n",
       "  19679826,\n",
       "  2967802917L,\n",
       "  204928215,\n",
       "  308454486,\n",
       "  2336967348L,\n",
       "  2420764860L,\n",
       "  2888725229L,\n",
       "  2848165953L,\n",
       "  2679591780L,\n",
       "  353496431,\n",
       "  17908182,\n",
       "  2577185611L,\n",
       "  16320192,\n",
       "  2995283390L,\n",
       "  259649352,\n",
       "  73995257,\n",
       "  2464039092L,\n",
       "  23664829,\n",
       "  245507191,\n",
       "  2965135263L,\n",
       "  2795277160L,\n",
       "  573210901,\n",
       "  112924655,\n",
       "  898423544,\n",
       "  2977104263L,\n",
       "  582921553,\n",
       "  305019782,\n",
       "  2932792279L,\n",
       "  2992590517L,\n",
       "  2955814309L,\n",
       "  19477861,\n",
       "  1135194828,\n",
       "  2174580740L,\n",
       "  50769180,\n",
       "  31337399,\n",
       "  18700916,\n",
       "  242822343,\n",
       "  1320835754,\n",
       "  2782938552L,\n",
       "  2369070372L,\n",
       "  2382431078L,\n",
       "  2357208152L,\n",
       "  2217582913L,\n",
       "  47865477,\n",
       "  2371814953L,\n",
       "  30036227,\n",
       "  78455406,\n",
       "  8486712,\n",
       "  26609111,\n",
       "  1090020486,\n",
       "  201270743,\n",
       "  461654850,\n",
       "  3552801,\n",
       "  2959539497L,\n",
       "  2959494201L,\n",
       "  174706750,\n",
       "  2959551617L,\n",
       "  2902106028L,\n",
       "  2987395498L,\n",
       "  153442121,\n",
       "  496385823,\n",
       "  486010059,\n",
       "  519387265,\n",
       "  2609274206L,\n",
       "  264297022,\n",
       "  155844378,\n",
       "  41519517,\n",
       "  41825416,\n",
       "  395279518,\n",
       "  138517913,\n",
       "  2358353479L,\n",
       "  17757005,\n",
       "  2770227662L,\n",
       "  61912241,\n",
       "  462074520,\n",
       "  21577728,\n",
       "  2844225673L,\n",
       "  38220868,\n",
       "  226070884,\n",
       "  37675645,\n",
       "  2295062148L,\n",
       "  2551924758L,\n",
       "  2282775590L,\n",
       "  141190655,\n",
       "  1206064758,\n",
       "  553112497,\n",
       "  51902819,\n",
       "  236970587,\n",
       "  2385165414L,\n",
       "  1408838665,\n",
       "  17881816,\n",
       "  826037515,\n",
       "  233253889,\n",
       "  40911412,\n",
       "  20977346,\n",
       "  20508222,\n",
       "  60741970,\n",
       "  273371355,\n",
       "  19982092,\n",
       "  466540639,\n",
       "  104577388,\n",
       "  20079982,\n",
       "  109617493,\n",
       "  306725036,\n",
       "  7111412,\n",
       "  20081668,\n",
       "  101534526,\n",
       "  20505679,\n",
       "  140800124,\n",
       "  35547721,\n",
       "  20184220,\n",
       "  17735321,\n",
       "  15748892,\n",
       "  396560365,\n",
       "  427905721,\n",
       "  20873320,\n",
       "  557236743,\n",
       "  15982625,\n",
       "  2697910874L,\n",
       "  860050922,\n",
       "  2933847688L,\n",
       "  257819049,\n",
       "  174488537,\n",
       "  2815049755L,\n",
       "  38898845,\n",
       "  2737714904L,\n",
       "  2833170762L,\n",
       "  2411456959L,\n",
       "  412346470,\n",
       "  1712939947,\n",
       "  2831865799L,\n",
       "  6978502,\n",
       "  1318495158,\n",
       "  2954341232L,\n",
       "  148089228,\n",
       "  2872521625L,\n",
       "  11195022,\n",
       "  352920237,\n",
       "  2433114481L,\n",
       "  588559501,\n",
       "  2958309957L,\n",
       "  316305181,\n",
       "  17828872,\n",
       "  402973081,\n",
       "  976900735,\n",
       "  2412215606L,\n",
       "  20511344,\n",
       "  202774675,\n",
       "  2492974551L,\n",
       "  268829596,\n",
       "  17291736,\n",
       "  2428447866L,\n",
       "  113422725,\n",
       "  230558275,\n",
       "  624252755,\n",
       "  422353054,\n",
       "  795663,\n",
       "  2367749805L,\n",
       "  39554344,\n",
       "  2964422849L,\n",
       "  2938651559L,\n",
       "  2375068801L,\n",
       "  2790012920L,\n",
       "  17378367,\n",
       "  2533467415L,\n",
       "  301995185,\n",
       "  2559214208L,\n",
       "  2369334091L,\n",
       "  2648549317L,\n",
       "  1961057834,\n",
       "  182345452,\n",
       "  289162538,\n",
       "  1949322637,\n",
       "  1949913636,\n",
       "  17673358,\n",
       "  2425144070L,\n",
       "  890380758,\n",
       "  2479881630L,\n",
       "  2801051346L,\n",
       "  917209334,\n",
       "  1310740776,\n",
       "  113416805,\n",
       "  2378188309L,\n",
       "  2945357732L,\n",
       "  872427169,\n",
       "  2947367065L,\n",
       "  1016621851,\n",
       "  2872069538L,\n",
       "  334906910,\n",
       "  2178348182L,\n",
       "  603492248,\n",
       "  1570769491,\n",
       "  2861022970L,\n",
       "  1424464812,\n",
       "  1359040722,\n",
       "  2687617208L,\n",
       "  2270707610L,\n",
       "  139988522,\n",
       "  1023084498,\n",
       "  23136873,\n",
       "  2665489905L,\n",
       "  140427824,\n",
       "  223114623,\n",
       "  43163650,\n",
       "  297387472,\n",
       "  825224582,\n",
       "  2258226686L,\n",
       "  24404629,\n",
       "  371509058,\n",
       "  1009243268,\n",
       "  2737222688L,\n",
       "  15177871,\n",
       "  19427242,\n",
       "  2201784241L,\n",
       "  8729822,\n",
       "  575403900,\n",
       "  2937817357L,\n",
       "  2837579470L,\n",
       "  2400404900L,\n",
       "  15059979,\n",
       "  1428372373,\n",
       "  150168477,\n",
       "  1856205205,\n",
       "  872423437,\n",
       "  79309221,\n",
       "  461301890,\n",
       "  2861448539L,\n",
       "  34390936,\n",
       "  1950558043,\n",
       "  158270026,\n",
       "  377146825,\n",
       "  2572471470L,\n",
       "  221063965,\n",
       "  2781122741L,\n",
       "  2927627166L,\n",
       "  2887492802L,\n",
       "  2850292725L,\n",
       "  942860538,\n",
       "  2477061354L,\n",
       "  387181116,\n",
       "  2534628762L,\n",
       "  2239902488L,\n",
       "  10756682,\n",
       "  24501808,\n",
       "  14380406,\n",
       "  27061887,\n",
       "  173413459,\n",
       "  18567605,\n",
       "  1325947495,\n",
       "  1706666298,\n",
       "  2801828501L,\n",
       "  2558966395L,\n",
       "  346908191,\n",
       "  18936284,\n",
       "  2857323629L,\n",
       "  2218167740L,\n",
       "  1577664698,\n",
       "  226040717,\n",
       "  71360442,\n",
       "  2255113234L,\n",
       "  35894099,\n",
       "  1445276478,\n",
       "  2202738637L,\n",
       "  325109951,\n",
       "  33079769,\n",
       "  2373061482L,\n",
       "  202845704,\n",
       "  228826153,\n",
       "  2396488968L,\n",
       "  1549705375,\n",
       "  66126399,\n",
       "  95279127,\n",
       "  1338758766,\n",
       "  2918323053L,\n",
       "  2892992507L,\n",
       "  1136136391,\n",
       "  2415765410L,\n",
       "  95263650,\n",
       "  2415674455L,\n",
       "  2317190910L,\n",
       "  2373311017L,\n",
       "  1963498808,\n",
       "  2466457926L,\n",
       "  28484970,\n",
       "  326380075,\n",
       "  19511386,\n",
       "  1128670184,\n",
       "  71796971,\n",
       "  19713521,\n",
       "  242618658,\n",
       "  97150159,\n",
       "  189770284,\n",
       "  135767303,\n",
       "  336603208,\n",
       "  751871942,\n",
       "  1525342994,\n",
       "  41400882,\n",
       "  95943762,\n",
       "  938657858,\n",
       "  15706633,\n",
       "  15628274,\n",
       "  15374627,\n",
       "  15061457,\n",
       "  14910806,\n",
       "  9636172,\n",
       "  6435542,\n",
       "  1735241,\n",
       "  14910788,\n",
       "  14738804,\n",
       "  14685448,\n",
       "  14466526,\n",
       "  13027572,\n",
       "  11572112,\n",
       "  2379700903L,\n",
       "  109065990,\n",
       "  19908848,\n",
       "  1175391,\n",
       "  16985343,\n",
       "  281886039,\n",
       "  15519886,\n",
       "  52544275,\n",
       "  40316065,\n",
       "  631478663,\n",
       "  21920965,\n",
       "  30013357,\n",
       "  468583731,\n",
       "  25073877,\n",
       "  16225240,\n",
       "  39275966,\n",
       "  31869934,\n",
       "  369025370,\n",
       "  15327565,\n",
       "  36728196,\n",
       "  32002507,\n",
       "  14779187,\n",
       "  30225817,\n",
       "  29066006,\n",
       "  53829677,\n",
       "  2186062965L,\n",
       "  38969596,\n",
       "  2867647875L,\n",
       "  403095802,\n",
       "  72510159,\n",
       "  2889010392L,\n",
       "  1281973538,\n",
       "  310379143,\n",
       "  1583788110,\n",
       "  24983478,\n",
       "  2574703268L,\n",
       "  18804875,\n",
       "  175478737,\n",
       "  113382258,\n",
       "  149246948,\n",
       "  30027513,\n",
       "  16276337,\n",
       "  51166910,\n",
       "  75007988,\n",
       "  44905880,\n",
       "  65905165,\n",
       "  347780485,\n",
       "  29535820,\n",
       "  710984797,\n",
       "  2726055762L,\n",
       "  22989425,\n",
       "  245520753,\n",
       "  1132189957,\n",
       "  2598636408L,\n",
       "  2776130760L,\n",
       "  2805853851L,\n",
       "  110897594,\n",
       "  2571130970L,\n",
       "  2729971939L,\n",
       "  54709801,\n",
       "  86667359,\n",
       "  354582942,\n",
       "  130650358,\n",
       "  21076875,\n",
       "  292445689,\n",
       "  2218267860L,\n",
       "  349979855,\n",
       "  74960462,\n",
       "  53544165,\n",
       "  21459026,\n",
       "  1005114662,\n",
       "  14730894,\n",
       "  37620562,\n",
       "  16468227,\n",
       "  28564725,\n",
       "  795626,\n",
       "  1046791,\n",
       "  8653412,\n",
       "  30205586,\n",
       "  15797245,\n",
       "  137170639,\n",
       "  21217761,\n",
       "  76922284,\n",
       "  301074647,\n",
       "  30722350,\n",
       "  376230418,\n",
       "  23755643,\n",
       "  415298013,\n",
       "  18565016,\n",
       "  363328403,\n",
       "  2828869225L,\n",
       "  1020334238,\n",
       "  262643568,\n",
       "  43149023,\n",
       "  210423408,\n",
       "  234483393,\n",
       "  11108762,\n",
       "  2563074604L,\n",
       "  1872699727,\n",
       "  14519349,\n",
       "  29309901,\n",
       "  374710346,\n",
       "  593380656,\n",
       "  19068720,\n",
       "  106297732,\n",
       "  1960789190,\n",
       "  71513606,\n",
       "  60031833,\n",
       "  70076007,\n",
       "  17596867,\n",
       "  384803359,\n",
       "  1135757988,\n",
       "  1629909414,\n",
       "  90728085,\n",
       "  1338724520,\n",
       "  2728340940L,\n",
       "  2614432410L,\n",
       "  213908777,\n",
       "  947789413,\n",
       "  21404642,\n",
       "  295906021,\n",
       "  10819662,\n",
       "  2782735662L,\n",
       "  56995054,\n",
       "  539356021,\n",
       "  77007853,\n",
       "  25845013,\n",
       "  84912942,\n",
       "  1124268060,\n",
       "  1875212636,\n",
       "  1599980384,\n",
       "  2171250920L,\n",
       "  1612448300,\n",
       "  2171232373L,\n",
       "  1288309548,\n",
       "  2441824140L,\n",
       "  17350542,\n",
       "  315872893,\n",
       "  1870302085,\n",
       "  622437626,\n",
       "  2522775577L,\n",
       "  1966027772,\n",
       "  19069222,\n",
       "  19214284,\n",
       "  98678638,\n",
       "  247419142,\n",
       "  238017240,\n",
       "  442408530,\n",
       "  360168342,\n",
       "  970207298,\n",
       "  2228715151L,\n",
       "  93476253,\n",
       "  14205124,\n",
       "  84653850,\n",
       "  14209342,\n",
       "  88858285,\n",
       "  104277296,\n",
       "  76656706,\n",
       "  21771022,\n",
       "  1926274548,\n",
       "  1298882065,\n",
       "  1080652776,\n",
       "  2214803090L,\n",
       "  2221840155L,\n",
       "  2175707887L,\n",
       "  2430899730L,\n",
       "  2151076078L,\n",
       "  2269556420L,\n",
       "  2453065260L,\n",
       "  2156618058L,\n",
       "  2469304064L,\n",
       "  1482284850,\n",
       "  1552611932,\n",
       "  1070860650,\n",
       "  628251837,\n",
       "  2236315014L,\n",
       "  913266746,\n",
       "  721570405,\n",
       "  23542028,\n",
       "  55034136,\n",
       "  51253930,\n",
       "  2643289424L,\n",
       "  136874249,\n",
       "  2468293346L,\n",
       "  74323983,\n",
       "  240293896,\n",
       "  2752322187L,\n",
       "  2329236396L,\n",
       "  2393942683L,\n",
       "  155992471,\n",
       "  1244695921,\n",
       "  14883363,\n",
       "  176618213,\n",
       "  2319062221L,\n",
       "  71914356,\n",
       "  270043688,\n",
       "  139308987,\n",
       "  604704562,\n",
       "  89734835,\n",
       "  1195089362,\n",
       "  1559045900,\n",
       "  15666380,\n",
       "  1267153704,\n",
       "  18969490,\n",
       "  15369008,\n",
       "  108198876,\n",
       "  2618912395L,\n",
       "  2427658183L,\n",
       "  1672264885,\n",
       "  2413466455L,\n",
       "  232354908,\n",
       "  1181050092,\n",
       "  280508289,\n",
       "  295867816,\n",
       "  89269664,\n",
       "  1155600080,\n",
       "  77460986,\n",
       "  18286019,\n",
       "  372340994,\n",
       "  253227694,\n",
       "  103107133,\n",
       "  103105670,\n",
       "  296842688,\n",
       "  ...],\n",
       " u'ranjan_srk': [2757610640L,\n",
       "  293602585,\n",
       "  3153145782L,\n",
       "  376914643,\n",
       "  4352165473L,\n",
       "  412912908,\n",
       "  55545307,\n",
       "  52437155,\n",
       "  99333040,\n",
       "  309245971,\n",
       "  1100927498,\n",
       "  37034483,\n",
       "  38647512,\n",
       "  134758540,\n",
       "  240649814,\n",
       "  2674502828L,\n",
       "  723504510,\n",
       "  2754194395L,\n",
       "  3257092045L,\n",
       "  3268821698L,\n",
       "  2746728095L,\n",
       "  187638674,\n",
       "  450796297,\n",
       "  358814014,\n",
       "  121046433,\n",
       "  361315016,\n",
       "  356893311,\n",
       "  2583530442L,\n",
       "  1856414335,\n",
       "  230856076,\n",
       "  172057857,\n",
       "  53075131,\n",
       "  88856792,\n",
       "  277434037,\n",
       "  378056166,\n",
       "  1288175774,\n",
       "  295833852,\n",
       "  373280952,\n",
       "  1251083774,\n",
       "  231033118,\n",
       "  58243368,\n",
       "  1072993274,\n",
       "  373410448,\n",
       "  371730289,\n",
       "  3345480494L,\n",
       "  65659343,\n",
       "  2596143056L,\n",
       "  245687754,\n",
       "  25966181,\n",
       "  250495841,\n",
       "  138822469,\n",
       "  2602959463L,\n",
       "  3041294294L,\n",
       "  137780376,\n",
       "  97217966,\n",
       "  17850606,\n",
       "  166665752,\n",
       "  295251095,\n",
       "  733281091,\n",
       "  252018855,\n",
       "  1368737382,\n",
       "  108577950,\n",
       "  85657578,\n",
       "  1657730988,\n",
       "  61458407,\n",
       "  87233065,\n",
       "  71201743,\n",
       "  14162012,\n",
       "  143409075,\n",
       "  3097503906L,\n",
       "  42043572,\n",
       "  4009942758L,\n",
       "  1642669674,\n",
       "  75509967,\n",
       "  56312411,\n",
       "  19929890,\n",
       "  2836161235L,\n",
       "  60937837,\n",
       "  1056850669,\n",
       "  2574232910L,\n",
       "  391210974,\n",
       "  2222673457L,\n",
       "  2541363451L,\n",
       "  1447949844,\n",
       "  2253142422L,\n",
       "  2597413135L,\n",
       "  24705126,\n",
       "  347035710,\n",
       "  1346439824,\n",
       "  219617448,\n",
       "  122658025,\n",
       "  101779040,\n",
       "  553607810,\n",
       "  905356081,\n",
       "  231029978,\n",
       "  305355763,\n",
       "  2953145911L,\n",
       "  1009364514,\n",
       "  2946658224L,\n",
       "  130104041,\n",
       "  2183816041L,\n",
       "  2785480981L,\n",
       "  2171399767L,\n",
       "  1966507722,\n",
       "  78941611,\n",
       "  584784523,\n",
       "  42323273,\n",
       "  2682568008L,\n",
       "  59147992,\n",
       "  127168093,\n",
       "  122650767,\n",
       "  233433615,\n",
       "  2414903640L,\n",
       "  302078584,\n",
       "  2260942998L,\n",
       "  2235551760L,\n",
       "  1316755836,\n",
       "  231072773,\n",
       "  1384935066,\n",
       "  845375826,\n",
       "  2171948823L,\n",
       "  310239584,\n",
       "  2177582112L,\n",
       "  559345507,\n",
       "  75989138,\n",
       "  350128848,\n",
       "  133857296,\n",
       "  44588485,\n",
       "  68977380,\n",
       "  1244137812,\n",
       "  471741741,\n",
       "  207809313,\n",
       "  405427035,\n",
       "  92708272,\n",
       "  132385468,\n",
       "  113419517,\n",
       "  145125358,\n",
       "  18839785,\n",
       "  135421739],\n",
       " u'roflgoo': [2953609653L,\n",
       "  55344186,\n",
       "  1101081968,\n",
       "  1131732018,\n",
       "  575860122,\n",
       "  35297743,\n",
       "  2936423687L,\n",
       "  1651046034,\n",
       "  169633282,\n",
       "  26104921,\n",
       "  210204423,\n",
       "  590745933,\n",
       "  4365059880L,\n",
       "  227383015,\n",
       "  239339074,\n",
       "  299986978,\n",
       "  419873121,\n",
       "  3288234443L,\n",
       "  25828822,\n",
       "  1301034660,\n",
       "  4039626873L,\n",
       "  179038566,\n",
       "  350802962,\n",
       "  2760908937L,\n",
       "  491091877,\n",
       "  2959537479L,\n",
       "  1055017038,\n",
       "  232698219,\n",
       "  3610188921L,\n",
       "  39647596,\n",
       "  3718890982L,\n",
       "  284034069,\n",
       "  41370325,\n",
       "  4079218581L,\n",
       "  2800620960L,\n",
       "  3718840577L,\n",
       "  1535148896,\n",
       "  2654570388L,\n",
       "  343473332,\n",
       "  4049265256L,\n",
       "  3673742598L,\n",
       "  3179593117L,\n",
       "  24235680,\n",
       "  245854513,\n",
       "  2785316379L,\n",
       "  91673645,\n",
       "  2534169746L,\n",
       "  1643909461,\n",
       "  3481336273L,\n",
       "  43414122,\n",
       "  242007590,\n",
       "  402168662,\n",
       "  2829428812L,\n",
       "  173606855,\n",
       "  3475737492L,\n",
       "  1401100922,\n",
       "  1375399843,\n",
       "  2843144821L,\n",
       "  1556940050,\n",
       "  191542020,\n",
       "  3236722789L,\n",
       "  86917587,\n",
       "  2520013970L,\n",
       "  2510446500L,\n",
       "  16963140,\n",
       "  2473762202L,\n",
       "  1883039569,\n",
       "  2446823235L,\n",
       "  3730046061L,\n",
       "  2256760573L,\n",
       "  1247621154,\n",
       "  3882391901L,\n",
       "  501975070,\n",
       "  3746461513L,\n",
       "  2970728686L,\n",
       "  51691115,\n",
       "  3971479109L,\n",
       "  4063561541L,\n",
       "  3213732118L,\n",
       "  4008164180L,\n",
       "  4011104656L,\n",
       "  2680958208L,\n",
       "  50410284,\n",
       "  821785831,\n",
       "  3242224264L,\n",
       "  3771932355L,\n",
       "  2955669963L,\n",
       "  348963601,\n",
       "  1218334832,\n",
       "  1557097446,\n",
       "  1724325319,\n",
       "  1278002946,\n",
       "  718630920,\n",
       "  3341731403L,\n",
       "  809147335,\n",
       "  3435454726L,\n",
       "  3737502019L,\n",
       "  24887083,\n",
       "  2236413235L,\n",
       "  2785840208L,\n",
       "  220928091,\n",
       "  107567681,\n",
       "  54929412,\n",
       "  23270633,\n",
       "  241952110,\n",
       "  1107966092,\n",
       "  234621583,\n",
       "  477244084,\n",
       "  854067583,\n",
       "  3038725529L,\n",
       "  2920129415L,\n",
       "  2246901285L,\n",
       "  1434938370,\n",
       "  1128567180,\n",
       "  520516061,\n",
       "  338912966,\n",
       "  29788574,\n",
       "  42414400,\n",
       "  2659669657L,\n",
       "  2851769163L,\n",
       "  3215876189L,\n",
       "  895414057,\n",
       "  3093093201L,\n",
       "  1622888653,\n",
       "  554997782,\n",
       "  3296433355L,\n",
       "  3284924010L,\n",
       "  723072913,\n",
       "  3182895602L,\n",
       "  3411072945L,\n",
       "  41582548,\n",
       "  2409389943L,\n",
       "  3107979121L,\n",
       "  1546049233,\n",
       "  3884152642L,\n",
       "  236258865,\n",
       "  2292327520L,\n",
       "  3436783372L,\n",
       "  2416309633L,\n",
       "  83185208,\n",
       "  392302568,\n",
       "  2539043092L,\n",
       "  3229377888L,\n",
       "  3184748363L,\n",
       "  889274725,\n",
       "  2414882947L,\n",
       "  508024978,\n",
       "  2572228351L,\n",
       "  2269804580L,\n",
       "  315106542,\n",
       "  68347680,\n",
       "  2523669091L,\n",
       "  539242169,\n",
       "  2848955154L,\n",
       "  3859180632L,\n",
       "  1146900276,\n",
       "  96307231,\n",
       "  96308224,\n",
       "  331185155,\n",
       "  109538087,\n",
       "  546837734,\n",
       "  1096582010,\n",
       "  110609451,\n",
       "  2882970979L,\n",
       "  279762114,\n",
       "  1222851229,\n",
       "  1623901897,\n",
       "  527552968,\n",
       "  2911681571L,\n",
       "  1089475778,\n",
       "  3147273081L,\n",
       "  444252390,\n",
       "  2307731383L,\n",
       "  3054620152L,\n",
       "  53457294,\n",
       "  2936922840L,\n",
       "  3953130434L,\n",
       "  253248897,\n",
       "  4002179283L,\n",
       "  729510476,\n",
       "  2688238170L,\n",
       "  527972155,\n",
       "  354549029,\n",
       "  2573017454L,\n",
       "  3223846469L,\n",
       "  3389451513L,\n",
       "  706324842,\n",
       "  150783792,\n",
       "  1219337942,\n",
       "  3331936834L,\n",
       "  573911310,\n",
       "  1525876734,\n",
       "  510965006,\n",
       "  2912951212L,\n",
       "  3988755375L,\n",
       "  3043824526L,\n",
       "  54509007,\n",
       "  1912054795,\n",
       "  3987811294L,\n",
       "  2845073290L,\n",
       "  2884846979L,\n",
       "  3351448120L,\n",
       "  3728643142L,\n",
       "  3983048631L,\n",
       "  3361172631L,\n",
       "  3496913234L,\n",
       "  19181549,\n",
       "  71186905,\n",
       "  346546133,\n",
       "  119082148,\n",
       "  21458923,\n",
       "  309117974,\n",
       "  105588068,\n",
       "  756097136,\n",
       "  879161563,\n",
       "  475227982,\n",
       "  237757377,\n",
       "  122932065,\n",
       "  1335564913,\n",
       "  1049922433,\n",
       "  15551486,\n",
       "  2872861568L,\n",
       "  3317160855L,\n",
       "  1630164799,\n",
       "  3002571793L,\n",
       "  3053112809L,\n",
       "  3861231454L,\n",
       "  2150831206L,\n",
       "  3065857906L,\n",
       "  16046258,\n",
       "  3067877213L,\n",
       "  2371021026L,\n",
       "  3936088234L,\n",
       "  3783716055L,\n",
       "  3042487406L,\n",
       "  1489768970,\n",
       "  2293468314L,\n",
       "  531757323,\n",
       "  2316924108L,\n",
       "  20286666,\n",
       "  845705809,\n",
       "  3563051476L,\n",
       "  30011458,\n",
       "  1041879914,\n",
       "  434719955,\n",
       "  2374392708L,\n",
       "  349696928,\n",
       "  2802220022L,\n",
       "  142889259,\n",
       "  377758808,\n",
       "  125866366,\n",
       "  22384582,\n",
       "  1377648546,\n",
       "  567642381,\n",
       "  3521525772L,\n",
       "  1072736816,\n",
       "  3434410221L,\n",
       "  103346588,\n",
       "  2467067472L,\n",
       "  3168133027L,\n",
       "  580899868,\n",
       "  3556429635L,\n",
       "  117494956,\n",
       "  3040911647L,\n",
       "  176863908,\n",
       "  385691954,\n",
       "  2416366434L,\n",
       "  557400773,\n",
       "  2935615351L,\n",
       "  72611647,\n",
       "  3207245031L,\n",
       "  18808656,\n",
       "  2761416500L,\n",
       "  2854087865L,\n",
       "  31324382,\n",
       "  3390071746L,\n",
       "  1666971078,\n",
       "  2747230452L,\n",
       "  3934382967L,\n",
       "  2646734352L,\n",
       "  526530222,\n",
       "  3870863172L,\n",
       "  346919442,\n",
       "  3274813626L,\n",
       "  288248076,\n",
       "  2969530678L,\n",
       "  2868855665L,\n",
       "  287643625,\n",
       "  834245365,\n",
       "  261489249,\n",
       "  72919794,\n",
       "  232304567,\n",
       "  2908161957L,\n",
       "  3622126575L,\n",
       "  2527899775L,\n",
       "  37746284,\n",
       "  256958256,\n",
       "  466703668,\n",
       "  313098487,\n",
       "  902464448,\n",
       "  506685681,\n",
       "  339319757,\n",
       "  2614017288L,\n",
       "  3656835627L,\n",
       "  1550074488,\n",
       "  192900152,\n",
       "  528390519,\n",
       "  328990309,\n",
       "  81546795,\n",
       "  2986081260L,\n",
       "  1357496893,\n",
       "  2320041236L,\n",
       "  1635702132,\n",
       "  2172653504L,\n",
       "  525745277,\n",
       "  986001354,\n",
       "  2747109756L,\n",
       "  1307628798,\n",
       "  3658601292L,\n",
       "  1720554541,\n",
       "  538098840,\n",
       "  2941966201L,\n",
       "  2861116167L,\n",
       "  3415570991L,\n",
       "  19668967,\n",
       "  2227029594L,\n",
       "  900985471,\n",
       "  2993540847L,\n",
       "  2358627343L,\n",
       "  3314048132L,\n",
       "  2270201296L,\n",
       "  1591870634,\n",
       "  132974755,\n",
       "  1887941533,\n",
       "  132912066,\n",
       "  200220525,\n",
       "  2802269902L,\n",
       "  2559992576L,\n",
       "  719074610,\n",
       "  2610243538L,\n",
       "  2474229242L,\n",
       "  3401567363L,\n",
       "  348625230,\n",
       "  482219801,\n",
       "  1240858980,\n",
       "  15928537,\n",
       "  284798419,\n",
       "  49149546,\n",
       "  2227077475L,\n",
       "  2373717006L,\n",
       "  400411266,\n",
       "  772544220,\n",
       "  2259677914L,\n",
       "  2916973112L,\n",
       "  3323109498L,\n",
       "  1615474831,\n",
       "  3092028839L,\n",
       "  551245964,\n",
       "  108708410,\n",
       "  1077502728,\n",
       "  436157142,\n",
       "  983930833,\n",
       "  976343766,\n",
       "  1594173318,\n",
       "  731277882,\n",
       "  3289018108L,\n",
       "  3287781901L,\n",
       "  148591151,\n",
       "  98477435,\n",
       "  1382430804,\n",
       "  15814166,\n",
       "  293433036,\n",
       "  1257467444,\n",
       "  364275014,\n",
       "  112296882,\n",
       "  3334557399L,\n",
       "  3002138376L,\n",
       "  1478550000,\n",
       "  3054530928L,\n",
       "  505586403,\n",
       "  1900776786,\n",
       "  3862754603L,\n",
       "  2247668485L,\n",
       "  2876332917L,\n",
       "  125316770,\n",
       "  276714140,\n",
       "  732402018,\n",
       "  307758202,\n",
       "  3011523440L,\n",
       "  3527735956L,\n",
       "  2563966032L,\n",
       "  166159691,\n",
       "  2718435414L,\n",
       "  3246310351L,\n",
       "  3043226450L,\n",
       "  3848136436L,\n",
       "  51223451,\n",
       "  75405635,\n",
       "  1629528674,\n",
       "  801502376,\n",
       "  41818506,\n",
       "  1692027949,\n",
       "  34080748,\n",
       "  3221353041L,\n",
       "  426312564,\n",
       "  21168607,\n",
       "  166019863,\n",
       "  3224602448L,\n",
       "  169564133,\n",
       "  3304456686L,\n",
       "  15832032,\n",
       "  3311026386L,\n",
       "  16381764,\n",
       "  161041509,\n",
       "  725983519,\n",
       "  3797946329L,\n",
       "  18783656,\n",
       "  53090314,\n",
       "  45080785,\n",
       "  14993272,\n",
       "  11658952,\n",
       "  34985088,\n",
       "  280204690,\n",
       "  1481699414,\n",
       "  164386441,\n",
       "  1512061386,\n",
       "  167018199,\n",
       "  42617519,\n",
       "  357445539,\n",
       "  2435349404L,\n",
       "  381722535,\n",
       "  2425660234L,\n",
       "  2415765410L,\n",
       "  15795715,\n",
       "  149938650,\n",
       "  343849528,\n",
       "  3378042213L,\n",
       "  3289080925L,\n",
       "  1871985270,\n",
       "  2414104038L,\n",
       "  498214917,\n",
       "  315465137,\n",
       "  543945574,\n",
       "  3049875901L,\n",
       "  173417868,\n",
       "  123628387,\n",
       "  3123383951L,\n",
       "  2788561029L,\n",
       "  2565469622L,\n",
       "  18035802,\n",
       "  95726618,\n",
       "  851569728,\n",
       "  418804146,\n",
       "  33272572,\n",
       "  16655296,\n",
       "  3239890774L,\n",
       "  378824583,\n",
       "  103967677,\n",
       "  49511290,\n",
       "  1165905824,\n",
       "  2551992944L,\n",
       "  51524573,\n",
       "  21827936,\n",
       "  1255475023,\n",
       "  2738782537L,\n",
       "  350839389,\n",
       "  3318133118L,\n",
       "  358473050,\n",
       "  1362685909,\n",
       "  3321056949L,\n",
       "  131817184,\n",
       "  17741758,\n",
       "  25997877,\n",
       "  17614702,\n",
       "  35275095,\n",
       "  64170177,\n",
       "  19774034,\n",
       "  441371203,\n",
       "  24733117,\n",
       "  37866934,\n",
       "  77087461,\n",
       "  25555552,\n",
       "  3303976730L,\n",
       "  437691294,\n",
       "  20414217,\n",
       "  2496184302L,\n",
       "  2968898257L,\n",
       "  94111955,\n",
       "  134894456,\n",
       "  2675738064L,\n",
       "  161422824,\n",
       "  300357048,\n",
       "  753858924,\n",
       "  3131728822L,\n",
       "  3734455281L,\n",
       "  541899722,\n",
       "  556818000,\n",
       "  1657200865,\n",
       "  2385891026L,\n",
       "  133618010,\n",
       "  63346778,\n",
       "  3305775013L,\n",
       "  2937738087L,\n",
       "  336392062,\n",
       "  590196583,\n",
       "  3422511652L,\n",
       "  2984677779L,\n",
       "  33281183,\n",
       "  3245233925L,\n",
       "  2851466271L,\n",
       "  124580571,\n",
       "  524714710,\n",
       "  88168692,\n",
       "  463812743,\n",
       "  2402201132L,\n",
       "  76082587,\n",
       "  96680285,\n",
       "  2470446222L,\n",
       "  3035032957L,\n",
       "  2361754251L,\n",
       "  2836936615L,\n",
       "  110363115,\n",
       "  67634667,\n",
       "  162549715,\n",
       "  2985270576L,\n",
       "  271518695,\n",
       "  932652072,\n",
       "  1488461034,\n",
       "  537626021,\n",
       "  1015870262,\n",
       "  108487398,\n",
       "  1643158316,\n",
       "  254247962,\n",
       "  1682943631,\n",
       "  433277231,\n",
       "  284598264,\n",
       "  288448108,\n",
       "  212027427,\n",
       "  3313476220L,\n",
       "  3307540324L,\n",
       "  35828529,\n",
       "  3309115091L,\n",
       "  2798536076L,\n",
       "  833347082,\n",
       "  54134690,\n",
       "  3599028912L,\n",
       "  2914640793L,\n",
       "  1022953592,\n",
       "  2826738083L,\n",
       "  1469698322,\n",
       "  3354974953L,\n",
       "  2779014438L,\n",
       "  34434801,\n",
       "  992348502,\n",
       "  3103711171L,\n",
       "  2288195084L,\n",
       "  329543243,\n",
       "  1961694673,\n",
       "  174618314,\n",
       "  2921188549L,\n",
       "  2509045921L,\n",
       "  2896052759L,\n",
       "  1388071068,\n",
       "  43615157,\n",
       "  3317245968L,\n",
       "  56691643,\n",
       "  24635865,\n",
       "  30841587,\n",
       "  3138562613L,\n",
       "  3080772385L,\n",
       "  3072053804L,\n",
       "  2323008547L,\n",
       "  2392041853L,\n",
       "  924751980,\n",
       "  429024372,\n",
       "  557409399,\n",
       "  47784784,\n",
       "  274017531,\n",
       "  2750823099L,\n",
       "  70983265,\n",
       "  199496002,\n",
       "  2738278178L,\n",
       "  3669711797L,\n",
       "  193891407,\n",
       "  2851594252L,\n",
       "  2449913803L,\n",
       "  436795156,\n",
       "  1506154304,\n",
       "  3290225151L,\n",
       "  801713786,\n",
       "  93904802,\n",
       "  32623097,\n",
       "  2272657731L,\n",
       "  35931439,\n",
       "  161557898,\n",
       "  54529748,\n",
       "  2236227440L,\n",
       "  3022818873L,\n",
       "  17905508,\n",
       "  3542935034L,\n",
       "  115827236,\n",
       "  218279280,\n",
       "  3288570175L,\n",
       "  3548880680L,\n",
       "  811181978,\n",
       "  60442275,\n",
       "  1907490360,\n",
       "  1928841116,\n",
       "  2461118527L,\n",
       "  64942556,\n",
       "  2848220267L,\n",
       "  1310605388,\n",
       "  2884782301L,\n",
       "  196643110,\n",
       "  287470420,\n",
       "  2214383097L,\n",
       "  833514012,\n",
       "  478560228,\n",
       "  45505100,\n",
       "  252912760,\n",
       "  240259245,\n",
       "  2528289295L,\n",
       "  2866334715L,\n",
       "  526632149,\n",
       "  2528049439L,\n",
       "  72421745,\n",
       "  2305631179L,\n",
       "  2157143384L,\n",
       "  866504532,\n",
       "  806906060,\n",
       "  292708375,\n",
       "  153868533,\n",
       "  2642405824L,\n",
       "  3018897187L,\n",
       "  56038149,\n",
       "  3082066755L,\n",
       "  239021198,\n",
       "  202479484,\n",
       "  2710930105L,\n",
       "  3241285640L,\n",
       "  3217160921L,\n",
       "  3299074205L,\n",
       "  301648552,\n",
       "  3438552971L,\n",
       "  3228076255L,\n",
       "  161299018,\n",
       "  3373755747L,\n",
       "  255967974,\n",
       "  2294674471L,\n",
       "  153524473,\n",
       "  172345858,\n",
       "  1302547506,\n",
       "  3394390337L,\n",
       "  3393993622L,\n",
       "  3397430533L,\n",
       "  325860286,\n",
       "  2714607003L,\n",
       "  2796334270L,\n",
       "  1339311696,\n",
       "  3429822449L,\n",
       "  3012091426L,\n",
       "  2350513298L,\n",
       "  3253038919L,\n",
       "  3387790633L,\n",
       "  3528173775L,\n",
       "  974085018,\n",
       "  257581957,\n",
       "  40173562,\n",
       "  36672085,\n",
       "  3108103625L,\n",
       "  264268489,\n",
       "  449241757,\n",
       "  105234548,\n",
       "  22667672,\n",
       "  967101344,\n",
       "  2519644303L,\n",
       "  3221781649L,\n",
       "  289582722,\n",
       "  19142587,\n",
       "  3550003637L,\n",
       "  250940418,\n",
       "  47810897,\n",
       "  315920755,\n",
       "  431234285,\n",
       "  3311780652L,\n",
       "  3400521879L,\n",
       "  3437137611L,\n",
       "  3399325577L,\n",
       "  3416324501L,\n",
       "  3405535223L,\n",
       "  3409251209L,\n",
       "  3526783162L,\n",
       "  3505436177L,\n",
       "  3395299655L,\n",
       "  3397616501L,\n",
       "  3413740258L,\n",
       "  3232907574L,\n",
       "  123144263,\n",
       "  2425210567L,\n",
       "  2593473733L,\n",
       "  317427115,\n",
       "  999882428,\n",
       "  2400494478L,\n",
       "  186742045,\n",
       "  459860456,\n",
       "  2926844607L,\n",
       "  3196873122L,\n",
       "  131999354,\n",
       "  326368635,\n",
       "  1705794696,\n",
       "  123653013,\n",
       "  13490882,\n",
       "  3415656972L,\n",
       "  82396801,\n",
       "  2893142190L,\n",
       "  1399648836,\n",
       "  493982021,\n",
       "  266847560,\n",
       "  143660061,\n",
       "  2416338803L,\n",
       "  44537177,\n",
       "  2210385804L,\n",
       "  27208120,\n",
       "  428583331,\n",
       "  196845602,\n",
       "  2966449019L,\n",
       "  136569744,\n",
       "  969148022,\n",
       "  3189988952L,\n",
       "  272449385,\n",
       "  135456764,\n",
       "  572663098,\n",
       "  2563180470L,\n",
       "  2761205088L,\n",
       "  2313680408L,\n",
       "  3319835169L,\n",
       "  13337292,\n",
       "  200558578,\n",
       "  2316402711L,\n",
       "  2796418338L,\n",
       "  514049259,\n",
       "  1435806331,\n",
       "  812193240,\n",
       "  3003855975L,\n",
       "  2499801096L,\n",
       "  413535168,\n",
       "  3418399432L,\n",
       "  2755714234L,\n",
       "  3471779357L,\n",
       "  2996276726L,\n",
       "  262391017,\n",
       "  2246251078L,\n",
       "  3012937318L,\n",
       "  359811049,\n",
       "  205675351,\n",
       "  2820262174L,\n",
       "  211292624,\n",
       "  3094033939L,\n",
       "  208515044,\n",
       "  2555975484L,\n",
       "  206395751,\n",
       "  3151089014L,\n",
       "  3481458082L,\n",
       "  3408212963L,\n",
       "  208822341,\n",
       "  202480141,\n",
       "  200316745,\n",
       "  23491185,\n",
       "  202729390,\n",
       "  52040398,\n",
       "  2289299958L,\n",
       "  250650563,\n",
       "  177369877,\n",
       "  259809873,\n",
       "  3411721497L,\n",
       "  2156041608L,\n",
       "  3353468675L,\n",
       "  3315204103L,\n",
       "  3351619145L,\n",
       "  3108009025L,\n",
       "  461304904,\n",
       "  17591016,\n",
       "  2584866756L,\n",
       "  2731214480L,\n",
       "  3344583514L,\n",
       "  372630363,\n",
       "  1250247966,\n",
       "  225192390,\n",
       "  41050930,\n",
       "  217280673,\n",
       "  2716859046L,\n",
       "  2893140998L,\n",
       "  3431531662L,\n",
       "  2997578484L,\n",
       "  186049809,\n",
       "  537714441,\n",
       "  105491314,\n",
       "  26727639,\n",
       "  3269812507L,\n",
       "  2962888900L,\n",
       "  3242753971L,\n",
       "  862218259,\n",
       "  2790651721L,\n",
       "  224082652,\n",
       "  2445421773L,\n",
       "  1938663272,\n",
       "  558111537,\n",
       "  601770460,\n",
       "  3153447201L,\n",
       "  3410988605L,\n",
       "  16913770,\n",
       "  208763820,\n",
       "  3044751873L,\n",
       "  1041001164,\n",
       "  2364843522L,\n",
       "  3315361317L,\n",
       "  148493422,\n",
       "  76030397,\n",
       "  432759971,\n",
       "  365136998,\n",
       "  65521300,\n",
       "  399096739,\n",
       "  2591701078L,\n",
       "  423398760,\n",
       "  3318344126L,\n",
       "  925312550,\n",
       "  3323386399L,\n",
       "  2294768515L,\n",
       "  3362899632L,\n",
       "  2391794820L,\n",
       "  3266770424L,\n",
       "  1029315780,\n",
       "  2834756850L,\n",
       "  2921014940L,\n",
       "  3459633137L,\n",
       "  3448480948L,\n",
       "  331511936,\n",
       "  19299255,\n",
       "  3404366626L,\n",
       "  229719490,\n",
       "  3111693129L,\n",
       "  3017955922L,\n",
       "  52574559,\n",
       "  2460861997L,\n",
       "  3447208641L,\n",
       "  17265304,\n",
       "  2367610645L,\n",
       "  391615745,\n",
       "  23396106,\n",
       "  2764452136L,\n",
       "  3379499267L,\n",
       "  19381294,\n",
       "  367032500,\n",
       "  3361747563L,\n",
       "  484410472,\n",
       "  14164297,\n",
       "  3177015417L,\n",
       "  464999541,\n",
       "  23638142,\n",
       "  20331637,\n",
       "  3029454820L,\n",
       "  19926121,\n",
       "  2774868884L,\n",
       "  3317159612L,\n",
       "  3021958339L,\n",
       "  3039387731L,\n",
       "  71927313,\n",
       "  3303695658L,\n",
       "  582921553,\n",
       "  2529733483L,\n",
       "  948016160,\n",
       "  45254966,\n",
       "  2488328359L,\n",
       "  221989841,\n",
       "  2478911431L,\n",
       "  20193874,\n",
       "  552381084,\n",
       "  246917330,\n",
       "  1626650312,\n",
       "  139067681,\n",
       "  237085504,\n",
       "  975182647,\n",
       "  3301998653L,\n",
       "  3308206755L,\n",
       "  14296615,\n",
       "  2769515830L,\n",
       "  224678405,\n",
       "  63619403,\n",
       "  479869733,\n",
       "  2881323784L,\n",
       "  922017799,\n",
       "  2682586393L,\n",
       "  2531331012L,\n",
       "  1110427286,\n",
       "  49155963,\n",
       "  3137387630L,\n",
       "  2287887180L,\n",
       "  1107783499,\n",
       "  2956879293L,\n",
       "  1465065524,\n",
       "  3301576338L,\n",
       "  445151881,\n",
       "  558856151,\n",
       "  54497610,\n",
       "  924697333,\n",
       "  313766345,\n",
       "  900243644,\n",
       "  3080532999L,\n",
       "  2407737336L,\n",
       "  155296819,\n",
       "  897306830,\n",
       "  3305636152L,\n",
       "  303227372,\n",
       "  16720424,\n",
       "  3220283812L,\n",
       "  460539084,\n",
       "  1093125224,\n",
       "  2305210184L,\n",
       "  346836110,\n",
       "  606625880,\n",
       "  33853031,\n",
       "  18029781,\n",
       "  3143033844L,\n",
       "  543181566,\n",
       "  382414379,\n",
       "  40842944,\n",
       "  3226967602L,\n",
       "  3037154218L,\n",
       "  806650375,\n",
       "  3418045521L,\n",
       "  3298983999L,\n",
       "  3107972839L,\n",
       "  3267460316L,\n",
       "  3011594976L,\n",
       "  459343671,\n",
       "  2402214290L,\n",
       "  3051825877L,\n",
       "  155051586,\n",
       "  3121257465L,\n",
       "  3382956515L,\n",
       "  1477741950,\n",
       "  3313475130L,\n",
       "  3279841178L,\n",
       "  3428383240L,\n",
       "  3401979651L,\n",
       "  3170666289L,\n",
       "  3038496470L,\n",
       "  3369741574L,\n",
       "  3398575719L,\n",
       "  3318745679L,\n",
       "  2801007864L,\n",
       "  2492379264L,\n",
       "  1644878227,\n",
       "  3395032012L,\n",
       "  1346738989,\n",
       "  1641044822,\n",
       "  589271752,\n",
       "  3290779453L,\n",
       "  104459389,\n",
       "  63503633,\n",
       "  2320306291L,\n",
       "  27956277,\n",
       "  13900172,\n",
       "  2905783012L,\n",
       "  711664008,\n",
       "  2789794831L,\n",
       "  1926324103,\n",
       "  1463504528,\n",
       "  22785157,\n",
       "  227274032,\n",
       "  3431990986L,\n",
       "  3192664111L,\n",
       "  3232794378L,\n",
       "  3305418641L,\n",
       "  3092727135L,\n",
       "  819407833,\n",
       "  300473849,\n",
       "  1146599634,\n",
       "  2878152780L,\n",
       "  3188510986L,\n",
       "  3286590398L,\n",
       "  2343998069L,\n",
       "  3199115435L,\n",
       "  3422706639L,\n",
       "  3374621925L,\n",
       "  1481539776,\n",
       "  501343618,\n",
       "  502721033,\n",
       "  3037055498L,\n",
       "  1646443608,\n",
       "  3420627663L,\n",
       "  116501846,\n",
       "  406988145,\n",
       "  3353401576L,\n",
       "  1365109878,\n",
       "  3303995040L,\n",
       "  408607091,\n",
       "  3417121917L,\n",
       "  619400667,\n",
       "  554174297,\n",
       "  ...],\n",
       " u'shopswindows': -3,\n",
       " u'thejusticeconf': [51276248,\n",
       "  23170150,\n",
       "  3569262387L,\n",
       "  121584574,\n",
       "  2906442505L,\n",
       "  3311472159L,\n",
       "  3517297513L,\n",
       "  479078113,\n",
       "  51106277,\n",
       "  48176318,\n",
       "  161033545,\n",
       "  337180420,\n",
       "  42984132,\n",
       "  23153403,\n",
       "  15309031,\n",
       "  20212597,\n",
       "  30328977,\n",
       "  215749283,\n",
       "  209397685,\n",
       "  374850976,\n",
       "  339103266,\n",
       "  208117796,\n",
       "  355084881,\n",
       "  25146259,\n",
       "  136489080,\n",
       "  41513331,\n",
       "  117343494,\n",
       "  412422676,\n",
       "  65726750,\n",
       "  2581002935L,\n",
       "  38297628,\n",
       "  14211946,\n",
       "  27806647,\n",
       "  5046741,\n",
       "  258818032,\n",
       "  13023782,\n",
       "  2296926762L,\n",
       "  7089712,\n",
       "  21742299,\n",
       "  1276194966,\n",
       "  2710003117L,\n",
       "  63865025,\n",
       "  251953229,\n",
       "  32285920,\n",
       "  16462306,\n",
       "  847369340,\n",
       "  54773063,\n",
       "  26548315,\n",
       "  27500565,\n",
       "  32988140,\n",
       "  27084285,\n",
       "  875771341,\n",
       "  316865635,\n",
       "  156031022,\n",
       "  26483706,\n",
       "  34642720,\n",
       "  14735349,\n",
       "  18060584,\n",
       "  23329287,\n",
       "  8868652,\n",
       "  45631054,\n",
       "  24110203,\n",
       "  2207683070L,\n",
       "  378370206,\n",
       "  140155753,\n",
       "  878260652,\n",
       "  21277036,\n",
       "  17889970,\n",
       "  1512153036,\n",
       "  2798137040L,\n",
       "  36131454,\n",
       "  20190497,\n",
       "  154596905,\n",
       "  44219679,\n",
       "  491378079,\n",
       "  15763818,\n",
       "  21694428,\n",
       "  22581041,\n",
       "  32036738,\n",
       "  16158150,\n",
       "  22294699,\n",
       "  932252245,\n",
       "  874336040,\n",
       "  18036912,\n",
       "  44370198,\n",
       "  16932547,\n",
       "  24011759,\n",
       "  262836803,\n",
       "  50444870,\n",
       "  28390663,\n",
       "  33639255,\n",
       "  35751496,\n",
       "  259372626,\n",
       "  131144285,\n",
       "  37044675,\n",
       "  22959241,\n",
       "  19347500,\n",
       "  15836922,\n",
       "  55372463,\n",
       "  20207592,\n",
       "  22027264,\n",
       "  125787425,\n",
       "  174770554,\n",
       "  26259889,\n",
       "  245521554,\n",
       "  289989255,\n",
       "  418007779,\n",
       "  18724973,\n",
       "  18047378,\n",
       "  214611067,\n",
       "  2888583149L,\n",
       "  292216235,\n",
       "  384447658,\n",
       "  834051438,\n",
       "  206555303,\n",
       "  1166630742,\n",
       "  520912421,\n",
       "  1387363160,\n",
       "  44988185,\n",
       "  251481495,\n",
       "  66812365,\n",
       "  17004618,\n",
       "  59560250,\n",
       "  16465385,\n",
       "  2477802067L,\n",
       "  17839398,\n",
       "  329746058,\n",
       "  17899109,\n",
       "  1581289837,\n",
       "  25657401,\n",
       "  318718449,\n",
       "  2757305305L,\n",
       "  19660388,\n",
       "  2837636922L,\n",
       "  17226672,\n",
       "  1615463502,\n",
       "  116763916,\n",
       "  596893898,\n",
       "  20708202,\n",
       "  14159148,\n",
       "  1905230346,\n",
       "  14772775,\n",
       "  613712440,\n",
       "  54183330,\n",
       "  1339835893,\n",
       "  68999404,\n",
       "  186094747,\n",
       "  156768711,\n",
       "  41509378,\n",
       "  820674420,\n",
       "  15893379,\n",
       "  41135782,\n",
       "  19191229,\n",
       "  778229994,\n",
       "  17559662,\n",
       "  14807546,\n",
       "  46446547,\n",
       "  17546021,\n",
       "  246911732,\n",
       "  107341163,\n",
       "  18775224,\n",
       "  166224551,\n",
       "  22389198,\n",
       "  261415807,\n",
       "  29332692,\n",
       "  433323564,\n",
       "  1090622202,\n",
       "  339286057,\n",
       "  21827709,\n",
       "  46684174,\n",
       "  32590470,\n",
       "  820191288,\n",
       "  90441389,\n",
       "  166578321,\n",
       "  351548938,\n",
       "  64720639,\n",
       "  499886361,\n",
       "  23880831,\n",
       "  42411601,\n",
       "  14289750,\n",
       "  291866389,\n",
       "  327584457,\n",
       "  22308735,\n",
       "  613370973,\n",
       "  383723862,\n",
       "  16877279,\n",
       "  2256987696L,\n",
       "  18364230,\n",
       "  134873127,\n",
       "  14160987,\n",
       "  1268306467,\n",
       "  32969825,\n",
       "  15853191,\n",
       "  21806451,\n",
       "  17397330,\n",
       "  15290634,\n",
       "  42377705,\n",
       "  32126373,\n",
       "  196898812,\n",
       "  15010370,\n",
       "  229324952,\n",
       "  814386200,\n",
       "  23027413,\n",
       "  2171010320L,\n",
       "  77007533,\n",
       "  54617733,\n",
       "  51278296,\n",
       "  276295194,\n",
       "  184883272,\n",
       "  120604992,\n",
       "  37410550,\n",
       "  1880348528,\n",
       "  70455035,\n",
       "  206761834,\n",
       "  1592340211,\n",
       "  580245871,\n",
       "  21067558,\n",
       "  15762708,\n",
       "  47646036,\n",
       "  182582868,\n",
       "  184478645,\n",
       "  76223852,\n",
       "  32539242,\n",
       "  253739393,\n",
       "  434839326,\n",
       "  71418645,\n",
       "  112486490,\n",
       "  71342503,\n",
       "  882653407,\n",
       "  807825146,\n",
       "  599677810,\n",
       "  137083685,\n",
       "  1220274560,\n",
       "  40984145,\n",
       "  545748666,\n",
       "  255528898,\n",
       "  104279317,\n",
       "  965402804,\n",
       "  22367415,\n",
       "  764385162,\n",
       "  1382852401,\n",
       "  61566481,\n",
       "  1337598138,\n",
       "  1130271636,\n",
       "  1377915361,\n",
       "  1389717084,\n",
       "  1367918251,\n",
       "  16934108,\n",
       "  1102056919,\n",
       "  1392386233,\n",
       "  16047248,\n",
       "  905241258,\n",
       "  36298993,\n",
       "  375835206,\n",
       "  537833494,\n",
       "  1242871530,\n",
       "  289020116,\n",
       "  20481690,\n",
       "  15273001,\n",
       "  551146707,\n",
       "  331180978,\n",
       "  56903610,\n",
       "  145716640,\n",
       "  310939258,\n",
       "  1332458966,\n",
       "  321716008,\n",
       "  829248548,\n",
       "  23690868,\n",
       "  92423752,\n",
       "  510276577,\n",
       "  1154774455,\n",
       "  1190017026,\n",
       "  1283789678,\n",
       "  43133339,\n",
       "  228956953,\n",
       "  15006706,\n",
       "  17470793,\n",
       "  506494462,\n",
       "  1134455408,\n",
       "  1301042976,\n",
       "  304319244,\n",
       "  558018967,\n",
       "  443773293,\n",
       "  1292696886,\n",
       "  14521428,\n",
       "  897664195,\n",
       "  16385353,\n",
       "  1072557864,\n",
       "  46527759,\n",
       "  1149021679,\n",
       "  164426603,\n",
       "  392991549,\n",
       "  1321442179,\n",
       "  891087494,\n",
       "  37286854,\n",
       "  100879332,\n",
       "  621600232,\n",
       "  16441783,\n",
       "  61710978,\n",
       "  833381491,\n",
       "  1022422964,\n",
       "  414918370,\n",
       "  1328367336,\n",
       "  34826711,\n",
       "  180893820,\n",
       "  64779156,\n",
       "  609690240,\n",
       "  14211510,\n",
       "  62831451,\n",
       "  445207702,\n",
       "  21632108,\n",
       "  1327281968,\n",
       "  821963659,\n",
       "  1254274668,\n",
       "  997857750,\n",
       "  161674530,\n",
       "  1110846433,\n",
       "  281770379,\n",
       "  430001683,\n",
       "  405362355,\n",
       "  16295432,\n",
       "  176528155,\n",
       "  136384949,\n",
       "  288268174,\n",
       "  223521601,\n",
       "  331267556,\n",
       "  1291765879,\n",
       "  33592163,\n",
       "  585523973,\n",
       "  478871867,\n",
       "  86007969,\n",
       "  36996314,\n",
       "  16693341,\n",
       "  107435570,\n",
       "  1058431974,\n",
       "  223721533,\n",
       "  456390757,\n",
       "  1302288822,\n",
       "  1278958261,\n",
       "  29114646,\n",
       "  16214483,\n",
       "  20754907,\n",
       "  15422354,\n",
       "  386591174,\n",
       "  743738940,\n",
       "  88823940,\n",
       "  632842438,\n",
       "  810235092,\n",
       "  42731533,\n",
       "  266866235,\n",
       "  86681344,\n",
       "  293735850,\n",
       "  82422716,\n",
       "  271629448,\n",
       "  33039582,\n",
       "  1077857546,\n",
       "  552549858,\n",
       "  574717245,\n",
       "  103710222,\n",
       "  474153333,\n",
       "  126443670,\n",
       "  233352811,\n",
       "  961093946,\n",
       "  111089965,\n",
       "  477919746,\n",
       "  314109154,\n",
       "  757777298,\n",
       "  301515416,\n",
       "  43007459,\n",
       "  40393642,\n",
       "  1262939274,\n",
       "  297721524,\n",
       "  60677710,\n",
       "  911136038,\n",
       "  72496241,\n",
       "  297300999,\n",
       "  404995702,\n",
       "  1273848758,\n",
       "  200429239,\n",
       "  21356495,\n",
       "  561762945,\n",
       "  23190902,\n",
       "  492520979,\n",
       "  21615006,\n",
       "  63300435,\n",
       "  363024545,\n",
       "  35462829,\n",
       "  124115663,\n",
       "  348963601,\n",
       "  574498727,\n",
       "  14160984,\n",
       "  372472594,\n",
       "  1064508728,\n",
       "  928302109,\n",
       "  902606725,\n",
       "  735417684,\n",
       "  18992562,\n",
       "  260088866,\n",
       "  177446078,\n",
       "  389784185,\n",
       "  16037132,\n",
       "  69768726,\n",
       "  600307291,\n",
       "  23261809,\n",
       "  178591069,\n",
       "  65857594,\n",
       "  46362207,\n",
       "  18204500,\n",
       "  48000835,\n",
       "  202372748,\n",
       "  388573962,\n",
       "  993796008,\n",
       "  932640174,\n",
       "  192155152,\n",
       "  1228480885,\n",
       "  424643576,\n",
       "  38080369,\n",
       "  842153850,\n",
       "  54541189,\n",
       "  488713853,\n",
       "  1274083921,\n",
       "  122197579,\n",
       "  322744318,\n",
       "  376444102,\n",
       "  274782243,\n",
       "  264362357,\n",
       "  1203154495,\n",
       "  1273565232,\n",
       "  257565080,\n",
       "  1243050392,\n",
       "  19520006,\n",
       "  1158477433,\n",
       "  49516601,\n",
       "  362633615,\n",
       "  576828446,\n",
       "  1270609981,\n",
       "  1236895514,\n",
       "  1271258858,\n",
       "  73929262,\n",
       "  405840407,\n",
       "  1243755740,\n",
       "  53910169,\n",
       "  799412563,\n",
       "  1273302973,\n",
       "  383405949,\n",
       "  80012518,\n",
       "  1014066283,\n",
       "  947694950,\n",
       "  392372010,\n",
       "  547013073,\n",
       "  747361976,\n",
       "  326830476,\n",
       "  1196153126,\n",
       "  574771354,\n",
       "  30413089,\n",
       "  522591461,\n",
       "  1277851418,\n",
       "  432864575,\n",
       "  1017298122,\n",
       "  119958311,\n",
       "  271099715,\n",
       "  15757205,\n",
       "  295287902,\n",
       "  18451034,\n",
       "  1241901642,\n",
       "  1213877796,\n",
       "  16692071,\n",
       "  175450503,\n",
       "  925194128,\n",
       "  177298606,\n",
       "  1038345541,\n",
       "  357270595,\n",
       "  72859427,\n",
       "  372492738,\n",
       "  485054906,\n",
       "  579668238,\n",
       "  25321418,\n",
       "  20172321,\n",
       "  25357522,\n",
       "  370115221,\n",
       "  761833346,\n",
       "  26035485,\n",
       "  106553030,\n",
       "  485329252,\n",
       "  56932696,\n",
       "  1253515705,\n",
       "  63522006,\n",
       "  824366426,\n",
       "  166856017,\n",
       "  71855077,\n",
       "  91453301,\n",
       "  69171209,\n",
       "  584855634,\n",
       "  50787980,\n",
       "  281842943,\n",
       "  1262550890,\n",
       "  739221463,\n",
       "  274267699,\n",
       "  45633024,\n",
       "  1208976978,\n",
       "  18923661,\n",
       "  354605949,\n",
       "  25577798,\n",
       "  15882393,\n",
       "  1197182761,\n",
       "  539139132,\n",
       "  760163882,\n",
       "  127467253,\n",
       "  123285150,\n",
       "  619766622,\n",
       "  716936030,\n",
       "  89896381,\n",
       "  415167605,\n",
       "  764629513,\n",
       "  93118319,\n",
       "  374777707,\n",
       "  89665082,\n",
       "  23521122,\n",
       "  561547819,\n",
       "  18364751,\n",
       "  1167177410,\n",
       "  26266276,\n",
       "  275632102,\n",
       "  846184640,\n",
       "  215531243,\n",
       "  1001454811,\n",
       "  22209631,\n",
       "  265781389,\n",
       "  169137868,\n",
       "  567489284,\n",
       "  285836896,\n",
       "  168581228,\n",
       "  993301903,\n",
       "  268615733,\n",
       "  16998342,\n",
       "  885974952,\n",
       "  58582217,\n",
       "  30444023,\n",
       "  381728016,\n",
       "  19113932,\n",
       "  301236785,\n",
       "  178191889,\n",
       "  289470875,\n",
       "  555562953,\n",
       "  266867923,\n",
       "  74604883,\n",
       "  13344872,\n",
       "  312831139,\n",
       "  574697125,\n",
       "  1239344012,\n",
       "  545402201,\n",
       "  770232534,\n",
       "  635661945,\n",
       "  45251527,\n",
       "  26050685,\n",
       "  411745566,\n",
       "  80756881,\n",
       "  626845065,\n",
       "  16929085,\n",
       "  15716673,\n",
       "  1203017191,\n",
       "  972473856,\n",
       "  398410270,\n",
       "  1132321182,\n",
       "  15588375,\n",
       "  5577902,\n",
       "  475535594,\n",
       "  1250585941,\n",
       "  386143797,\n",
       "  364281889,\n",
       "  403285550,\n",
       "  311852489,\n",
       "  80754467,\n",
       "  342871097,\n",
       "  547075089,\n",
       "  174090522,\n",
       "  400872492,\n",
       "  16856939,\n",
       "  25210169,\n",
       "  218226899,\n",
       "  832356474,\n",
       "  320483651,\n",
       "  1223368718,\n",
       "  437049902,\n",
       "  461616240,\n",
       "  1228189790,\n",
       "  295733147,\n",
       "  635117153,\n",
       "  549887917,\n",
       "  1038468366,\n",
       "  48908381,\n",
       "  84909450,\n",
       "  130719665,\n",
       "  463551999,\n",
       "  562442592,\n",
       "  1260151334,\n",
       "  270472967,\n",
       "  166607821,\n",
       "  164153561,\n",
       "  40384239,\n",
       "  113760884,\n",
       "  236704174,\n",
       "  40172867,\n",
       "  205698053,\n",
       "  480521593,\n",
       "  1176129570,\n",
       "  42797093,\n",
       "  597472911,\n",
       "  63736800,\n",
       "  15704296,\n",
       "  67327726,\n",
       "  23402921,\n",
       "  22235215,\n",
       "  1131795600,\n",
       "  1063780610,\n",
       "  419104739,\n",
       "  1243836072,\n",
       "  977727558,\n",
       "  14981286,\n",
       "  1244301564,\n",
       "  84371916,\n",
       "  255251033,\n",
       "  587916833,\n",
       "  7830742,\n",
       "  34627917,\n",
       "  273624264,\n",
       "  278151146,\n",
       "  18277200,\n",
       "  911568608,\n",
       "  599474135,\n",
       "  610691974,\n",
       "  1046531940,\n",
       "  374755063,\n",
       "  375870037,\n",
       "  551549030,\n",
       "  1075638804,\n",
       "  1114740745,\n",
       "  785654509,\n",
       "  334175408,\n",
       "  491809973,\n",
       "  104848206,\n",
       "  579019262,\n",
       "  415543137,\n",
       "  14301685,\n",
       "  1240319755,\n",
       "  1226772288,\n",
       "  946213994,\n",
       "  14685917,\n",
       "  340464748,\n",
       "  90490219,\n",
       "  971217229,\n",
       "  16318823,\n",
       "  1152323965,\n",
       "  18279817,\n",
       "  972216198,\n",
       "  59959922,\n",
       "  25387099,\n",
       "  19623362,\n",
       "  275319069,\n",
       "  188951010,\n",
       "  779230051,\n",
       "  45575118,\n",
       "  1180499977,\n",
       "  1226859265,\n",
       "  372888591,\n",
       "  95720976,\n",
       "  183268158,\n",
       "  1137875880,\n",
       "  1228492136,\n",
       "  283383788,\n",
       "  607430247,\n",
       "  40014077,\n",
       "  28142745,\n",
       "  1163764788,\n",
       "  18568593,\n",
       "  1161476924,\n",
       "  887689285,\n",
       "  44756822,\n",
       "  16018032,\n",
       "  23772186,\n",
       "  235122276,\n",
       "  709413637,\n",
       "  35951802,\n",
       "  1191448278,\n",
       "  565045800,\n",
       "  147224882,\n",
       "  534395221,\n",
       "  142720177,\n",
       "  388526356,\n",
       "  293202692,\n",
       "  1223152520,\n",
       "  791939071,\n",
       "  780996380,\n",
       "  476222731,\n",
       "  1223754006,\n",
       "  241660110,\n",
       "  145665334,\n",
       "  1223052282,\n",
       "  275169628,\n",
       "  178975618,\n",
       "  195466846,\n",
       "  1130302604,\n",
       "  106466068,\n",
       "  932067074,\n",
       "  192554124,\n",
       "  1216967156,\n",
       "  846128840,\n",
       "  37519663,\n",
       "  947148366,\n",
       "  624068616,\n",
       "  1214401688,\n",
       "  599496584,\n",
       "  132797121,\n",
       "  610208152,\n",
       "  255790816,\n",
       "  27083660,\n",
       "  1181482626,\n",
       "  824318852,\n",
       "  363196049,\n",
       "  468811066,\n",
       "  382556048,\n",
       "  1175169258,\n",
       "  463308714,\n",
       "  498736811,\n",
       "  124099160,\n",
       "  49215110,\n",
       "  1061899668,\n",
       "  249019725,\n",
       "  574774045,\n",
       "  334732591,\n",
       "  139816528,\n",
       "  24677856,\n",
       "  19217514,\n",
       "  48987037,\n",
       "  81380596,\n",
       "  579853974,\n",
       "  34019792,\n",
       "  1219787088,\n",
       "  27260235,\n",
       "  794613985,\n",
       "  485926907,\n",
       "  320871311,\n",
       "  607873174,\n",
       "  348043907,\n",
       "  5517162,\n",
       "  31637022,\n",
       "  22919076,\n",
       "  495234401,\n",
       "  281128987,\n",
       "  1109874619,\n",
       "  58868826,\n",
       "  82437645,\n",
       "  260403527,\n",
       "  262234764,\n",
       "  831641851,\n",
       "  90941153,\n",
       "  14706407,\n",
       "  430909822,\n",
       "  18847706,\n",
       "  803074664,\n",
       "  99043355,\n",
       "  22327327,\n",
       "  38494541,\n",
       "  116513296,\n",
       "  1213292442,\n",
       "  16917035,\n",
       "  15400411,\n",
       "  283296642,\n",
       "  259402227,\n",
       "  19306389,\n",
       "  363361576,\n",
       "  17472559,\n",
       "  278112340,\n",
       "  235022828,\n",
       "  271367381,\n",
       "  1216374793,\n",
       "  20027467,\n",
       "  28021538,\n",
       "  19683386,\n",
       "  14110098,\n",
       "  78644441,\n",
       "  234012434,\n",
       "  46093696,\n",
       "  1215379368,\n",
       "  27086783,\n",
       "  249997026,\n",
       "  310022779,\n",
       "  1169488298,\n",
       "  260002426,\n",
       "  523974501,\n",
       "  182929003,\n",
       "  1091354204,\n",
       "  36320518,\n",
       "  163457517,\n",
       "  1004970860,\n",
       "  40699165,\n",
       "  22159244,\n",
       "  378234950,\n",
       "  1128808832,\n",
       "  1116910218,\n",
       "  71396440,\n",
       "  150161787,\n",
       "  1188132716,\n",
       "  94115318,\n",
       "  425550762,\n",
       "  544708916,\n",
       "  225121585,\n",
       "  34608398,\n",
       "  15359407,\n",
       "  343699811,\n",
       "  49396117,\n",
       "  232621585,\n",
       "  18546819,\n",
       "  240797651,\n",
       "  266169434,\n",
       "  485810035,\n",
       "  831917646,\n",
       "  299921440,\n",
       "  15054810,\n",
       "  47083347,\n",
       "  636455859,\n",
       "  27995552,\n",
       "  27394232,\n",
       "  44958565,\n",
       "  587760211,\n",
       "  16323812,\n",
       "  491779024,\n",
       "  54778527,\n",
       "  18039878,\n",
       "  120400907,\n",
       "  522729869,\n",
       "  1038862160,\n",
       "  115236278,\n",
       "  568557615,\n",
       "  5836152,\n",
       "  40925161,\n",
       "  422391512,\n",
       "  20120520,\n",
       "  137909383,\n",
       "  27537668,\n",
       "  136392198,\n",
       "  28350481,\n",
       "  522367630,\n",
       "  940110798,\n",
       "  56759517,\n",
       "  38967684,\n",
       "  607165703,\n",
       "  66606742,\n",
       "  17573390,\n",
       "  108323737,\n",
       "  17064721,\n",
       "  48440583,\n",
       "  85748988,\n",
       "  162446600,\n",
       "  314934465,\n",
       "  363856142,\n",
       "  393725510,\n",
       "  282107711,\n",
       "  246319751,\n",
       "  34349585,\n",
       "  409622298,\n",
       "  55436935,\n",
       "  745838444,\n",
       "  203308753,\n",
       "  33070653,\n",
       "  254200071,\n",
       "  1118221878,\n",
       "  256169012,\n",
       "  32678856,\n",
       "  39710013,\n",
       "  22158206,\n",
       "  456293186,\n",
       "  45365412,\n",
       "  32020954,\n",
       "  421151176,\n",
       "  254609513,\n",
       "  503256416,\n",
       "  1212384176,\n",
       "  180651667,\n",
       "  1209951715,\n",
       "  82675204,\n",
       "  106962822,\n",
       "  143185813,\n",
       "  156400162,\n",
       "  89716906,\n",
       "  191207987,\n",
       "  547158866,\n",
       "  128353859,\n",
       "  331644156,\n",
       "  355876608,\n",
       "  265044978,\n",
       "  296931711,\n",
       "  39377159,\n",
       "  210300270,\n",
       "  102241508,\n",
       "  198351895,\n",
       "  1212530774,\n",
       "  963424638,\n",
       "  14691218,\n",
       "  19215343,\n",
       "  44830057,\n",
       "  22378096,\n",
       "  1142730576,\n",
       "  34185893,\n",
       "  352119349,\n",
       "  271238902,\n",
       "  526515972,\n",
       "  19816037,\n",
       "  183315442,\n",
       "  998579190,\n",
       "  104282931,\n",
       "  30749099,\n",
       "  46640545,\n",
       "  304407299,\n",
       "  1173144967,\n",
       "  548585992,\n",
       "  500045471,\n",
       "  181817629,\n",
       "  882249404,\n",
       "  26952391,\n",
       "  985676456,\n",
       "  30395288,\n",
       "  306827592,\n",
       "  246643016,\n",
       "  437610946,\n",
       "  214049416,\n",
       "  141987448,\n",
       "  465112982,\n",
       "  34714091,\n",
       "  477382811,\n",
       "  16519412,\n",
       "  14630356,\n",
       "  247116333,\n",
       "  603777560,\n",
       "  406675826,\n",
       "  533207878,\n",
       "  1210703143,\n",
       "  70873134,\n",
       "  946706846,\n",
       "  474591279,\n",
       "  175975266,\n",
       "  1210607245,\n",
       "  314235034,\n",
       "  32788550,\n",
       "  289093321,\n",
       "  280851776,\n",
       "  981325189,\n",
       "  210901494,\n",
       "  14103694,\n",
       "  386054321,\n",
       "  47759581,\n",
       "  104256362,\n",
       "  359087982,\n",
       "  32766464,\n",
       "  780833604,\n",
       "  191104083,\n",
       "  18424479,\n",
       "  570442137,\n",
       "  314936303,\n",
       "  227410179,\n",
       "  43326134,\n",
       "  1196172781,\n",
       "  482375708,\n",
       "  1191605988,\n",
       "  570576993,\n",
       "  30587802,\n",
       "  24313456,\n",
       "  583998336,\n",
       "  568827242,\n",
       "  289078969,\n",
       "  563093950,\n",
       "  241734260,\n",
       "  316459664,\n",
       "  1184362802,\n",
       "  36466971,\n",
       "  474121842,\n",
       "  25864649,\n",
       "  137841259,\n",
       "  54375975,\n",
       "  41633343,\n",
       "  424761565,\n",
       "  180179345,\n",
       "  853473085,\n",
       "  42885344,\n",
       "  282864920,\n",
       "  16221208,\n",
       "  985141010,\n",
       "  1072020716,\n",
       "  270700562,\n",
       "  22654391,\n",
       "  30521982,\n",
       "  48477543,\n",
       "  15981182,\n",
       "  569523543,\n",
       "  397765505,\n",
       "  85964744,\n",
       "  433636351,\n",
       "  1208511811,\n",
       "  120976396,\n",
       "  95994581,\n",
       "  ...],\n",
       " u'usacolumbus69': [19683238,\n",
       "  540022463,\n",
       "  16645321,\n",
       "  119838619,\n",
       "  239824566,\n",
       "  117118928,\n",
       "  21525795,\n",
       "  186894262,\n",
       "  243856086,\n",
       "  34305774,\n",
       "  3309460620L,\n",
       "  21051389,\n",
       "  44873497,\n",
       "  2891889826L,\n",
       "  19602537,\n",
       "  44908912,\n",
       "  200163448,\n",
       "  326159852,\n",
       "  1640369462,\n",
       "  96448406,\n",
       "  122530604,\n",
       "  19882775,\n",
       "  106275786,\n",
       "  104249727,\n",
       "  20620967,\n",
       "  102225147,\n",
       "  23228600,\n",
       "  104288093,\n",
       "  40572559,\n",
       "  21323673,\n",
       "  56783491,\n",
       "  16658390,\n",
       "  23873876,\n",
       "  23690344,\n",
       "  145852539,\n",
       "  27988939,\n",
       "  19555067,\n",
       "  21824310,\n",
       "  64496398,\n",
       "  28076276,\n",
       "  109377285,\n",
       "  38311025,\n",
       "  26895879,\n",
       "  374196622,\n",
       "  40908929,\n",
       "  14512909,\n",
       "  27592116,\n",
       "  47186755,\n",
       "  530817071,\n",
       "  18845207,\n",
       "  67982898,\n",
       "  56041195,\n",
       "  19671129,\n",
       "  104235481,\n",
       "  41630638,\n",
       "  134547779,\n",
       "  207923746,\n",
       "  31740510,\n",
       "  24460328,\n",
       "  145499533,\n",
       "  23148645,\n",
       "  201441142,\n",
       "  52939106,\n",
       "  67197351,\n",
       "  181630001,\n",
       "  18133405,\n",
       "  217920201,\n",
       "  237345880,\n",
       "  20798630,\n",
       "  237575932,\n",
       "  17441447,\n",
       "  18185124,\n",
       "  62591415,\n",
       "  20326751,\n",
       "  12369372,\n",
       "  19713521,\n",
       "  239598773,\n",
       "  17386885,\n",
       "  162611402,\n",
       "  54964162,\n",
       "  16672510,\n",
       "  52536879,\n",
       "  17793580,\n",
       "  17243213,\n",
       "  352668196,\n",
       "  6591872,\n",
       "  19656975,\n",
       "  9695312,\n",
       "  250145775,\n",
       "  135086369,\n",
       "  16352599,\n",
       "  33549858,\n",
       "  17290126,\n",
       "  755953153,\n",
       "  166215202,\n",
       "  23827692,\n",
       "  2557165045L,\n",
       "  1586183960,\n",
       "  15981547,\n",
       "  1309319478,\n",
       "  112948063,\n",
       "  94061417,\n",
       "  2569827475L,\n",
       "  34303468,\n",
       "  14260960,\n",
       "  401845245,\n",
       "  20678384,\n",
       "  20585993,\n",
       "  467219033,\n",
       "  61387670,\n",
       "  30447805,\n",
       "  25333197,\n",
       "  7401202,\n",
       "  528984189,\n",
       "  7117212,\n",
       "  197208081,\n",
       "  29164948,\n",
       "  165725207,\n",
       "  477860967,\n",
       "  15133627,\n",
       "  41329637,\n",
       "  246929180,\n",
       "  21454307,\n",
       "  17872077,\n",
       "  197187396,\n",
       "  14234323,\n",
       "  540896429,\n",
       "  17220817,\n",
       "  403522137,\n",
       "  296977242,\n",
       "  30309257,\n",
       "  18417750,\n",
       "  86925202,\n",
       "  16113773,\n",
       "  186222238,\n",
       "  871686942,\n",
       "  20139563,\n",
       "  15439777,\n",
       "  259387453,\n",
       "  183585551,\n",
       "  35854783,\n",
       "  20029472,\n",
       "  567440698,\n",
       "  1484077214,\n",
       "  378176017,\n",
       "  49803914,\n",
       "  18009089,\n",
       "  65773523,\n",
       "  38389325,\n",
       "  433631641,\n",
       "  52089924,\n",
       "  14655868,\n",
       "  377796934,\n",
       "  110840720,\n",
       "  18400316,\n",
       "  15169907,\n",
       "  19578796,\n",
       "  15571729,\n",
       "  25025381,\n",
       "  175643924,\n",
       "  48100887,\n",
       "  2255580679L,\n",
       "  14722311,\n",
       "  25119726,\n",
       "  236627550,\n",
       "  637231035,\n",
       "  41648843,\n",
       "  322834956,\n",
       "  93673287,\n",
       "  2684986029L,\n",
       "  517164056,\n",
       "  49341158,\n",
       "  14724725,\n",
       "  286432560,\n",
       "  148807607,\n",
       "  2192776110L,\n",
       "  21126909,\n",
       "  21127271,\n",
       "  124158364,\n",
       "  38922510,\n",
       "  234552226,\n",
       "  32018392,\n",
       "  20790690,\n",
       "  67535202,\n",
       "  15730571,\n",
       "  763525957,\n",
       "  119201526,\n",
       "  39065754,\n",
       "  436962820,\n",
       "  32378913,\n",
       "  74635153,\n",
       "  2543861036L,\n",
       "  23652121,\n",
       "  313488607,\n",
       "  20607586,\n",
       "  23655671,\n",
       "  25710935,\n",
       "  1912071858,\n",
       "  38877311,\n",
       "  1319921,\n",
       "  333712723,\n",
       "  18640853,\n",
       "  25622696,\n",
       "  23268171,\n",
       "  29107434,\n",
       "  43980662,\n",
       "  60643715,\n",
       "  40495710,\n",
       "  607605487,\n",
       "  21508174,\n",
       "  46669403,\n",
       "  34280715,\n",
       "  25541830,\n",
       "  17883640,\n",
       "  25368027,\n",
       "  15097417,\n",
       "  16426346,\n",
       "  40935962,\n",
       "  28219979,\n",
       "  14715573,\n",
       "  76828833,\n",
       "  27139045,\n",
       "  16639736,\n",
       "  27459891,\n",
       "  1315231,\n",
       "  18980239,\n",
       "  183292098,\n",
       "  19997157,\n",
       "  76522807,\n",
       "  49503011,\n",
       "  30872002,\n",
       "  14946015,\n",
       "  23607150,\n",
       "  16206267,\n",
       "  48143209,\n",
       "  17447988,\n",
       "  36105669,\n",
       "  19932404,\n",
       "  20193270,\n",
       "  15703179,\n",
       "  22192847,\n",
       "  19772559,\n",
       "  17199170,\n",
       "  15098223,\n",
       "  46658328,\n",
       "  21910850,\n",
       "  234176171,\n",
       "  45900567,\n",
       "  75343843,\n",
       "  17196684,\n",
       "  17074822,\n",
       "  18064372,\n",
       "  25108484,\n",
       "  18124756,\n",
       "  21305757,\n",
       "  19602869,\n",
       "  14790817,\n",
       "  14791044,\n",
       "  15651878,\n",
       "  14791251,\n",
       "  14444926,\n",
       "  17074714,\n",
       "  36690579,\n",
       "  34738598,\n",
       "  14663955,\n",
       "  15559134,\n",
       "  21442298,\n",
       "  257548783,\n",
       "  22555984,\n",
       "  24701294,\n",
       "  33995343,\n",
       "  1605552834,\n",
       "  368274525,\n",
       "  1489885645,\n",
       "  15248067,\n",
       "  78905469,\n",
       "  113771891,\n",
       "  1584013914,\n",
       "  1582881602,\n",
       "  972972162,\n",
       "  211330208,\n",
       "  1548804469,\n",
       "  185979319,\n",
       "  71229689,\n",
       "  1112322252,\n",
       "  392837526,\n",
       "  19255050,\n",
       "  1379050819,\n",
       "  142966873,\n",
       "  57319680,\n",
       "  136002754,\n",
       "  286908007,\n",
       "  74688411,\n",
       "  45296772,\n",
       "  158403296,\n",
       "  19396413,\n",
       "  34515468,\n",
       "  26880849,\n",
       "  255903064,\n",
       "  17632266,\n",
       "  339380147,\n",
       "  82074137,\n",
       "  36158995,\n",
       "  408635563,\n",
       "  1673612756,\n",
       "  69163537,\n",
       "  29578613,\n",
       "  297323259,\n",
       "  21342916,\n",
       "  21345455,\n",
       "  28978705,\n",
       "  36850898,\n",
       "  19780648,\n",
       "  14831970,\n",
       "  114518329,\n",
       "  22602800,\n",
       "  915643998,\n",
       "  229441348,\n",
       "  22061951,\n",
       "  121889459,\n",
       "  760778582,\n",
       "  20475491,\n",
       "  802251,\n",
       "  717791148,\n",
       "  51667021,\n",
       "  47349304,\n",
       "  61222671,\n",
       "  35534554,\n",
       "  297623892,\n",
       "  49817126,\n",
       "  17792620,\n",
       "  68206630,\n",
       "  322743355,\n",
       "  20801351,\n",
       "  20265600,\n",
       "  78381071,\n",
       "  195030769,\n",
       "  729547316,\n",
       "  7532872,\n",
       "  134392824,\n",
       "  110837067,\n",
       "  378015672,\n",
       "  15276618,\n",
       "  151916168,\n",
       "  1944818436,\n",
       "  375015857,\n",
       "  152157006,\n",
       "  1109205462,\n",
       "  279486576,\n",
       "  226931692,\n",
       "  993856843,\n",
       "  132888984,\n",
       "  828832544,\n",
       "  493536747,\n",
       "  2252616706L,\n",
       "  789461461,\n",
       "  292193442,\n",
       "  789495110,\n",
       "  789475908,\n",
       "  775798910,\n",
       "  1252131560,\n",
       "  789440016,\n",
       "  869741850,\n",
       "  335613109,\n",
       "  612070607,\n",
       "  789505855,\n",
       "  452113632,\n",
       "  7996082,\n",
       "  2813182292L,\n",
       "  2814567529L,\n",
       "  523552842,\n",
       "  2813184344L,\n",
       "  420155993,\n",
       "  974081257,\n",
       "  2814520190L,\n",
       "  427458833,\n",
       "  270664642,\n",
       "  2614949573L,\n",
       "  604271820,\n",
       "  2401763214L,\n",
       "  116542904,\n",
       "  1425171818,\n",
       "  272087603,\n",
       "  22637799,\n",
       "  313432285,\n",
       "  1416262044,\n",
       "  185274814,\n",
       "  132163566,\n",
       "  15735744,\n",
       "  1581375763,\n",
       "  221690587,\n",
       "  1291399770,\n",
       "  261155761,\n",
       "  275231477,\n",
       "  591290327,\n",
       "  16345202,\n",
       "  218148412,\n",
       "  277223658,\n",
       "  389697612,\n",
       "  280398284,\n",
       "  34258758,\n",
       "  544341006,\n",
       "  373606725,\n",
       "  18334825,\n",
       "  496217481,\n",
       "  409120357,\n",
       "  32469566,\n",
       "  348386437,\n",
       "  14791162,\n",
       "  453043255,\n",
       "  116137411,\n",
       "  349201277,\n",
       "  15933910,\n",
       "  483396662,\n",
       "  442671636,\n",
       "  364467168,\n",
       "  41252291,\n",
       "  394120885,\n",
       "  40090727,\n",
       "  142038391,\n",
       "  1653304597,\n",
       "  25906700,\n",
       "  14436030,\n",
       "  499256547,\n",
       "  592159649,\n",
       "  375256712,\n",
       "  31090827,\n",
       "  301388743,\n",
       "  112211447,\n",
       "  133371674,\n",
       "  11904592,\n",
       "  17676713,\n",
       "  102095809,\n",
       "  14306573,\n",
       "  3091376321L,\n",
       "  535707261,\n",
       "  6809022,\n",
       "  2288138575L,\n",
       "  14436317,\n",
       "  158342368,\n",
       "  97656149,\n",
       "  516405086,\n",
       "  105451020,\n",
       "  74992460,\n",
       "  65369125,\n",
       "  274054714,\n",
       "  1410021434,\n",
       "  351907607,\n",
       "  338899906,\n",
       "  134762047,\n",
       "  13426312,\n",
       "  99792462,\n",
       "  16080129,\n",
       "  164213765,\n",
       "  22954354,\n",
       "  1196406608,\n",
       "  1161178502,\n",
       "  125628451,\n",
       "  1197913842,\n",
       "  189043154,\n",
       "  3004029495L,\n",
       "  1585182367,\n",
       "  385492875,\n",
       "  29823160,\n",
       "  1099345508,\n",
       "  161418822,\n",
       "  27016235,\n",
       "  119045611,\n",
       "  61933836,\n",
       "  735613874,\n",
       "  334600130,\n",
       "  30921170,\n",
       "  15853668,\n",
       "  296735253,\n",
       "  34732924,\n",
       "  294198566,\n",
       "  263576813,\n",
       "  64801152,\n",
       "  177403095,\n",
       "  34068984,\n",
       "  189896730,\n",
       "  1093246992,\n",
       "  89907746,\n",
       "  16464746,\n",
       "  102948261,\n",
       "  122104594,\n",
       "  499449593,\n",
       "  3359851,\n",
       "  729360662,\n",
       "  15243058,\n",
       "  19565216,\n",
       "  203747496,\n",
       "  18742444,\n",
       "  384932951,\n",
       "  270302557,\n",
       "  82310285,\n",
       "  46423291,\n",
       "  1017578276,\n",
       "  914600838,\n",
       "  12322752,\n",
       "  155620461,\n",
       "  20870216,\n",
       "  110972746,\n",
       "  108908254,\n",
       "  20474687,\n",
       "  216589761,\n",
       "  198793430,\n",
       "  33915734,\n",
       "  2893650790L,\n",
       "  50853348,\n",
       "  726425298,\n",
       "  19963431,\n",
       "  1382690611,\n",
       "  338890247,\n",
       "  33906088,\n",
       "  51008528,\n",
       "  268270621,\n",
       "  543794957,\n",
       "  106364715,\n",
       "  809475432,\n",
       "  343327901,\n",
       "  226111226,\n",
       "  147973743,\n",
       "  759823321,\n",
       "  275430095,\n",
       "  718167032,\n",
       "  83863263,\n",
       "  134517120,\n",
       "  262541531,\n",
       "  526951671,\n",
       "  166927079,\n",
       "  104842204,\n",
       "  62930111,\n",
       "  516586981,\n",
       "  106682853,\n",
       "  23060739,\n",
       "  23967396,\n",
       "  219770065,\n",
       "  45496942,\n",
       "  238255391,\n",
       "  830674268,\n",
       "  194742978,\n",
       "  113713261,\n",
       "  361362115,\n",
       "  205339205,\n",
       "  16956012,\n",
       "  63842549,\n",
       "  14978043,\n",
       "  129587268,\n",
       "  412783774,\n",
       "  41865658,\n",
       "  19066747,\n",
       "  63679163,\n",
       "  611071355,\n",
       "  30315557,\n",
       "  105297123,\n",
       "  53147055,\n",
       "  108468506,\n",
       "  31925790,\n",
       "  17610785,\n",
       "  346742249,\n",
       "  282710694,\n",
       "  17003765,\n",
       "  15234657,\n",
       "  138787183,\n",
       "  39838205,\n",
       "  15813140,\n",
       "  14922225,\n",
       "  205671915,\n",
       "  14433949,\n",
       "  137874845,\n",
       "  66780587,\n",
       "  155949831,\n",
       "  1138959692,\n",
       "  106646062,\n",
       "  18481641,\n",
       "  18334111,\n",
       "  30180137,\n",
       "  24483516,\n",
       "  167234557,\n",
       "  11167502,\n",
       "  72834489,\n",
       "  243360038,\n",
       "  339775501,\n",
       "  90774609,\n",
       "  26287015,\n",
       "  257151647,\n",
       "  421286008,\n",
       "  60659498,\n",
       "  7542702,\n",
       "  141264927,\n",
       "  867702739,\n",
       "  15177476,\n",
       "  60649803,\n",
       "  17531482,\n",
       "  214997269,\n",
       "  49239873,\n",
       "  216515417,\n",
       "  76974399,\n",
       "  312937997,\n",
       "  68399194,\n",
       "  95020727,\n",
       "  36803580,\n",
       "  21328978,\n",
       "  69615397,\n",
       "  14584200,\n",
       "  47828847,\n",
       "  16913418,\n",
       "  15880163,\n",
       "  38027796,\n",
       "  18761076,\n",
       "  407440512,\n",
       "  14941389,\n",
       "  26494583,\n",
       "  225125248,\n",
       "  15600475,\n",
       "  414334713,\n",
       "  240606817,\n",
       "  15395727,\n",
       "  19936330,\n",
       "  465723566,\n",
       "  591646425,\n",
       "  369514419,\n",
       "  15086405,\n",
       "  17007560,\n",
       "  14180249,\n",
       "  549470860,\n",
       "  17193794,\n",
       "  44764761,\n",
       "  15359864,\n",
       "  250911289,\n",
       "  58561993,\n",
       "  12131132,\n",
       "  21470979,\n",
       "  180124279,\n",
       "  22938914,\n",
       "  58560480,\n",
       "  70337519,\n",
       "  274040176,\n",
       "  754500,\n",
       "  43090767,\n",
       "  74701069,\n",
       "  17104751,\n",
       "  16159359,\n",
       "  34955221,\n",
       "  221382131,\n",
       "  804376,\n",
       "  1006521,\n",
       "  24967749,\n",
       "  114796408,\n",
       "  1394399438,\n",
       "  185728888,\n",
       "  23134133,\n",
       "  1156866230,\n",
       "  17338082,\n",
       "  21092944,\n",
       "  360196369,\n",
       "  348379865,\n",
       "  14996251,\n",
       "  23127272,\n",
       "  73359920,\n",
       "  89587925,\n",
       "  14861876,\n",
       "  85772748,\n",
       "  29852317,\n",
       "  61559439,\n",
       "  78021221,\n",
       "  167080088,\n",
       "  37435412,\n",
       "  86395621,\n",
       "  72568426,\n",
       "  62601419,\n",
       "  111519701,\n",
       "  18647765,\n",
       "  59889953,\n",
       "  34395888,\n",
       "  26599573,\n",
       "  26250338,\n",
       "  17221819,\n",
       "  18462653,\n",
       "  14620190,\n",
       "  46443549,\n",
       "  18462539,\n",
       "  6018802,\n",
       "  38857814,\n",
       "  335207743,\n",
       "  65051962,\n",
       "  73147282,\n",
       "  585258622,\n",
       "  121149217,\n",
       "  74452613,\n",
       "  15808647,\n",
       "  19298711,\n",
       "  31143489,\n",
       "  84708371,\n",
       "  12615582,\n",
       "  26224311,\n",
       "  7831092,\n",
       "  17944853,\n",
       "  96879107,\n",
       "  6486602,\n",
       "  57824414,\n",
       "  16043308,\n",
       "  3819701,\n",
       "  15447248,\n",
       "  18450106,\n",
       "  141341662,\n",
       "  817386,\n",
       "  51140674,\n",
       "  31444922,\n",
       "  63586621,\n",
       "  2893971,\n",
       "  20291907,\n",
       "  15392391,\n",
       "  8771022,\n",
       "  60642052,\n",
       "  63737212,\n",
       "  71026122,\n",
       "  283259822,\n",
       "  22294967,\n",
       "  167421802,\n",
       "  21104725,\n",
       "  39820738,\n",
       "  19296585,\n",
       "  20632796,\n",
       "  18572345,\n",
       "  84401852,\n",
       "  19464428,\n",
       "  11018442,\n",
       "  78613092,\n",
       "  42638402,\n",
       "  398942686,\n",
       "  86089860,\n",
       "  93634334,\n",
       "  17137891,\n",
       "  17475575,\n",
       "  35404934,\n",
       "  179245596,\n",
       "  160625399,\n",
       "  18560146,\n",
       "  81157050,\n",
       "  59853587,\n",
       "  50769180,\n",
       "  21917683,\n",
       "  38053161,\n",
       "  14297693,\n",
       "  11247222,\n",
       "  17780244,\n",
       "  166990746,\n",
       "  326745108,\n",
       "  14250809,\n",
       "  15971805,\n",
       "  714051110,\n",
       "  17049899,\n",
       "  201891203,\n",
       "  14335880,\n",
       "  475524030,\n",
       "  100592354,\n",
       "  430841130,\n",
       "  43111757,\n",
       "  17454769,\n",
       "  18983793,\n",
       "  19739279,\n",
       "  203652149,\n",
       "  41634520,\n",
       "  23970102,\n",
       "  52166809,\n",
       "  264370502,\n",
       "  110445334,\n",
       "  16031927,\n",
       "  398105054,\n",
       "  112047805,\n",
       "  18646108,\n",
       "  211951561,\n",
       "  473385747,\n",
       "  69773058,\n",
       "  27744185,\n",
       "  18719020,\n",
       "  71627462,\n",
       "  74130577,\n",
       "  18378349,\n",
       "  12612432,\n",
       "  486840302,\n",
       "  110974198,\n",
       "  19988458,\n",
       "  16491569,\n",
       "  389551062,\n",
       "  233704756,\n",
       "  14276189,\n",
       "  60622883,\n",
       "  222164515,\n",
       "  34681960,\n",
       "  18326925,\n",
       "  851544830,\n",
       "  44401911,\n",
       "  160983113,\n",
       "  25709609,\n",
       "  24266406,\n",
       "  271211220,\n",
       "  21778391,\n",
       "  354948782,\n",
       "  26819104,\n",
       "  28445389,\n",
       "  466821972,\n",
       "  106203627,\n",
       "  330251596,\n",
       "  49241858,\n",
       "  15379196,\n",
       "  288286101,\n",
       "  198700618,\n",
       "  112955602,\n",
       "  14802885,\n",
       "  30043148,\n",
       "  455309376,\n",
       "  140912249,\n",
       "  14115408,\n",
       "  103087049,\n",
       "  227065692,\n",
       "  114782468,\n",
       "  227070376,\n",
       "  384445331,\n",
       "  721512684,\n",
       "  43165750,\n",
       "  187719856,\n",
       "  84176986,\n",
       "  45114730,\n",
       "  119102749,\n",
       "  334690813,\n",
       "  29463928,\n",
       "  19050793,\n",
       "  2568255260L,\n",
       "  28133800,\n",
       "  15858396,\n",
       "  34330026,\n",
       "  16440110,\n",
       "  23101207,\n",
       "  292337663,\n",
       "  2363149274L,\n",
       "  61779487,\n",
       "  50698730,\n",
       "  18217574,\n",
       "  17071845,\n",
       "  1665631327,\n",
       "  28373457,\n",
       "  222177693,\n",
       "  17872180,\n",
       "  1428826266,\n",
       "  194439261,\n",
       "  28035990,\n",
       "  561239081,\n",
       "  111415659,\n",
       "  92799526,\n",
       "  1025329670,\n",
       "  14539324,\n",
       "  111374525,\n",
       "  355731586,\n",
       "  71603987,\n",
       "  48389872,\n",
       "  378047108,\n",
       "  288445186,\n",
       "  106203727,\n",
       "  6070762,\n",
       "  1347071545,\n",
       "  16143105,\n",
       "  14808226,\n",
       "  378800745,\n",
       "  252672612,\n",
       "  15066271,\n",
       "  19337489,\n",
       "  501968170,\n",
       "  8496762,\n",
       "  39853973,\n",
       "  303687748,\n",
       "  43317911,\n",
       "  28114871,\n",
       "  21223877,\n",
       "  16833653,\n",
       "  23751864,\n",
       "  300338214,\n",
       "  30261067,\n",
       "  39264827,\n",
       "  491631309,\n",
       "  10778572,\n",
       "  22481098,\n",
       "  199196447,\n",
       "  141158796,\n",
       "  258790331,\n",
       "  198618575,\n",
       "  236526490,\n",
       "  2340558698L,\n",
       "  14292717,\n",
       "  16732770,\n",
       "  2303751216L,\n",
       "  16451932,\n",
       "  583938358,\n",
       "  106498703,\n",
       "  404422077,\n",
       "  819800,\n",
       "  105282998,\n",
       "  2890961,\n",
       "  553036368,\n",
       "  16955870,\n",
       "  332617373,\n",
       "  206717989,\n",
       "  24150634,\n",
       "  36329597,\n",
       "  48471268,\n",
       "  257058263,\n",
       "  196611511,\n",
       "  14372486,\n",
       "  33792634,\n",
       "  234409558,\n",
       "  374672240,\n",
       "  369911953,\n",
       "  156024731,\n",
       "  76682652,\n",
       "  130594732,\n",
       "  743538714,\n",
       "  111422855,\n",
       "  92581274,\n",
       "  62894963,\n",
       "  365822838,\n",
       "  47650483,\n",
       "  35348026,\n",
       "  54791458,\n",
       "  225539878,\n",
       "  1104327972,\n",
       "  21870081,\n",
       "  25375962,\n",
       "  14955353,\n",
       "  28206390,\n",
       "  1060751816,\n",
       "  38491229,\n",
       "  44373882,\n",
       "  2254267650L,\n",
       "  48257033,\n",
       "  244211904,\n",
       "  50159254,\n",
       "  18027237,\n",
       "  237918222,\n",
       "  28405485,\n",
       "  436829061,\n",
       "  76332033,\n",
       "  468475583,\n",
       "  20732032,\n",
       "  36695839,\n",
       "  59143817,\n",
       "  252794509,\n",
       "  112243365,\n",
       "  275686563,\n",
       "  253688871,\n",
       "  419710142,\n",
       "  59131425,\n",
       "  5668942,\n",
       "  16341166,\n",
       "  6730222,\n",
       "  36375825,\n",
       "  14096763,\n",
       "  16926550,\n",
       "  14980721,\n",
       "  65466158,\n",
       "  158289900,\n",
       "  1246482054,\n",
       "  327484803,\n",
       "  425134513,\n",
       "  16670996,\n",
       "  191121318,\n",
       "  48001143,\n",
       "  18906069,\n",
       "  17239967,\n",
       "  16532451,\n",
       "  143477156,\n",
       "  284112637,\n",
       "  71567590,\n",
       "  117237387,\n",
       "  46393249,\n",
       "  70728069,\n",
       "  28145010,\n",
       "  28571999,\n",
       "  257013116,\n",
       "  20078032,\n",
       "  17675072,\n",
       "  14173032,\n",
       "  30857540,\n",
       "  225072440,\n",
       "  15485461,\n",
       "  46804450,\n",
       "  293482180,\n",
       "  15072071,\n",
       "  49753604,\n",
       "  2292454922L,\n",
       "  169426475,\n",
       "  22522178,\n",
       "  124690469,\n",
       "  304909941,\n",
       "  8524892,\n",
       "  16359602,\n",
       "  91704468,\n",
       "  24227424,\n",
       "  111416652,\n",
       "  ...]}"
      ]
     },
     "execution_count": 12,
     "metadata": {},
     "output_type": "execute_result"
    }
   ],
   "source": [
    "temp_error_accounts = [u'usacolumbus69', u'gerenciatodos', u'pauljstill', u'Cascadia', \n",
    "                       u'CanyonDG', u'shopswindows', u'ranjan_srk', u'BerkeleyBrett',\n",
    "                       u'LionsheadSocial', u'thejusticeconf', u'AdelmansCo', u'MikeBoehler', \n",
    "                       u'Brodalumab', u'roflgoo', u'SportingKC', u'ccrealty2', u'davidhoffmanca', \n",
    "                       u'BUBLIVE', u'NealSchaffer', u'TeeGreek']\n",
    "get_friend_ids_and_pickle_object(temp_error_accounts, \"iit5\")"
   ]
  },
  {
   "cell_type": "code",
   "execution_count": 24,
   "metadata": {
    "collapsed": true,
    "scrolled": false
   },
   "outputs": [],
   "source": [
    "iit_friend_ids = get_followers_from_pickle(\"friend_ids_of_iit\")"
   ]
  },
  {
   "cell_type": "code",
   "execution_count": null,
   "metadata": {
    "collapsed": false,
    "scrolled": false
   },
   "outputs": [],
   "source": [
    "print iit_friend_ids[\"usacolumbus69\"]"
   ]
  }
 ],
 "metadata": {
  "kernelspec": {
   "display_name": "Python 2",
   "language": "python",
   "name": "python2"
  },
  "language_info": {
   "codemirror_mode": {
    "name": "ipython",
    "version": 2
   },
   "file_extension": ".py",
   "mimetype": "text/x-python",
   "name": "python",
   "nbconvert_exporter": "python",
   "pygments_lexer": "ipython2",
   "version": "2.7.10"
  }
 },
 "nbformat": 4,
 "nbformat_minor": 0
}
